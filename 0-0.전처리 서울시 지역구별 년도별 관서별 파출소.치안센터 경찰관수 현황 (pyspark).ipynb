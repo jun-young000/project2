{
 "cells": [
  {
   "cell_type": "code",
   "execution_count": null,
   "id": "756f86f7",
   "metadata": {},
   "outputs": [],
   "source": [
    "hadoop fs -mkdir /user/ubuntu  \n",
    "#하둡에   /user/ubuntu  디렉터리를 생성한다.\n",
    "hadoop fs -put data/homework/project \n",
    "# hadoop fs -put [로컬 디렉토리 파일 경로] [목적지]"
   ]
  },
  {
   "cell_type": "code",
   "execution_count": null,
   "id": "2f7e63b3",
   "metadata": {},
   "outputs": [],
   "source": [
    "from pyspark.sql.functions import col\n",
    "from pyspark.sql.functions import lit\n",
    "from pyspark.sql.types import StructField, StructType, StringType, IntegerType\n",
    "from pyspark.sql.functions import *\n",
    "from pyspark.sql.functions import org.apache.spark.sql.functions.monotonically_increasing_id\n",
    "from pyspark.sql.functions import monotonically_increasing_id\n",
    "from pyspark.sql.functions import split\n",
    "from pyspark.sql.functions import sum\n",
    "from pyspark.sql import *\n",
    "from pyspark.sql import functions as f\n",
    "from pyspark.sql import Window\n",
    "from pyspark.sql.types import IntegerType"
   ]
  },
  {
   "cell_type": "code",
   "execution_count": null,
   "id": "dcf68980",
   "metadata": {},
   "outputs": [],
   "source": []
  },
  {
   "cell_type": "code",
   "execution_count": null,
   "id": "497b4698",
   "metadata": {},
   "outputs": [],
   "source": [
    "# 년도별  치안시설 현황.!"
   ]
  },
  {
   "cell_type": "code",
   "execution_count": null,
   "id": "67fcc541",
   "metadata": {},
   "outputs": [],
   "source": [
    "# 데이터종류에 따라 처리방법이 다름."
   ]
  },
  {
   "cell_type": "code",
   "execution_count": null,
   "id": "d252be8f",
   "metadata": {},
   "outputs": [],
   "source": [
    "hdfs dfs -put data homework"
   ]
  },
  {
   "cell_type": "code",
   "execution_count": null,
   "id": "5d5da0cd",
   "metadata": {},
   "outputs": [],
   "source": [
    "df1=spark.read.option(\"header\", \"true\").csv(\"/user/ubuntu/homework/data/project/서울시_파출소_치안센터_연도별_총수.csv/경찰청 서울특별시경찰청_경찰서별 지역경찰 현황_20201231.csv\")"
   ]
  },
  {
   "cell_type": "code",
   "execution_count": null,
   "id": "d0ad8bcd",
   "metadata": {},
   "outputs": [],
   "source": [
    "df1=spark.read.option(\"charset\",\"utf-8\").option(\"header\", \"true\").csv(\"/user/ubuntu/homework/data/project/서울시_파출소_치안센터_연도별_총수.csv/경찰청 서울특별시경찰청_경찰서별 지역경찰 현황_20201231.csv\")\n",
    "#안됨"
   ]
  },
  {
   "cell_type": "code",
   "execution_count": null,
   "id": "c9b6a999",
   "metadata": {},
   "outputs": [],
   "source": [
    "df1=spark.read.option(\"charset\",\"iso-8859-1\").option(\"header\", \"true\").csv(\"/user/ubuntu/homework/data/project/서울시_파출소_치안센터_연도별_총수.csv/경찰청 서울특별시경찰청_경찰서별 지역경찰 현황_20201231.csv\")\n",
    "#안됨"
   ]
  },
  {
   "cell_type": "code",
   "execution_count": null,
   "id": "f5c55aca",
   "metadata": {},
   "outputs": [],
   "source": [
    "df1=spark.read.option(\"charset\",\"euc-kr\").option(\"header\", \"true\").csv(\"/user/ubuntu/homework/data/project/서울시_파출소_치안센터_연도별_총수.csv/경찰청 서울특별시경찰청_경찰서별 지역경찰 현황_20201231.csv\")\n",
    "#여기서 해결함"
   ]
  },
  {
   "cell_type": "code",
   "execution_count": null,
   "id": "da9c8ea2",
   "metadata": {},
   "outputs": [],
   "source": []
  },
  {
   "cell_type": "code",
   "execution_count": null,
   "id": "e16ddc61",
   "metadata": {},
   "outputs": [],
   "source": [
    "df2017=df1.select(col(\"경찰서\").alias(\"경찰서\"),col(\"2018년 지구대\").alias(\"지구대\"),col(\"2018년 파출소\").alias(\"파출소\"),col(\"2018년 치안센터\").alias(\"치안센터\"))"
   ]
  },
  {
   "cell_type": "code",
   "execution_count": null,
   "id": "5a93bcec",
   "metadata": {},
   "outputs": [],
   "source": [
    "df2017_1= df2017.withColumn(\"기간코드\",lit(\"17\"))"
   ]
  },
  {
   "cell_type": "code",
   "execution_count": null,
   "id": "7b46b2c8",
   "metadata": {},
   "outputs": [],
   "source": [
    "df2018=df1.select(col(\"경찰서\").alias(\"경찰서\"),col(\"2018년 지구대\").alias(\"지구대\"),col(\"2018년 파출소\").alias(\"파출소\"),col(\"2018년 치안센터\").alias(\"치안센터\")"
   ]
  },
  {
   "cell_type": "code",
   "execution_count": null,
   "id": "bd5a2d3f",
   "metadata": {},
   "outputs": [],
   "source": [
    "df2018_1= df2018.withColumn(\"기간코드\",lit(\"18\"))"
   ]
  },
  {
   "cell_type": "code",
   "execution_count": null,
   "id": "8009a7d3",
   "metadata": {},
   "outputs": [],
   "source": [
    "df2019=df1.select(col(\"경찰서\").alias(\"경찰서\"),col(\"2019년 지구대\").alias(\"지구대\"),col(\"2019년 파출소\").alias(\"파출소\"),col(\"2019년 치안센터\").alias(\"치안센터\"))"
   ]
  },
  {
   "cell_type": "code",
   "execution_count": null,
   "id": "b099fdff",
   "metadata": {},
   "outputs": [],
   "source": [
    "df2019_1= df2019.withColumn(\"기간코드\",lit(\"19\"))"
   ]
  },
  {
   "cell_type": "code",
   "execution_count": null,
   "id": "3d9b6714",
   "metadata": {},
   "outputs": [],
   "source": []
  },
  {
   "cell_type": "code",
   "execution_count": null,
   "id": "834a7ea0",
   "metadata": {},
   "outputs": [],
   "source": [
    "df2017_1.createOrReplaceTempView(\"df2017_1\")\n",
    "df2018_1.createOrReplaceTempView(\"df2018_1\")\n",
    "df2019_1.createOrReplaceTempView(\"df2019_1\")"
   ]
  },
  {
   "cell_type": "code",
   "execution_count": null,
   "id": "9ac90701",
   "metadata": {},
   "outputs": [],
   "source": [
    "df_box=spark.sql(\"SELECT * FROM df2017_1 UNION ALL SELECT * FROM df2018_1 UNION ALL SELECT * FROM df2019_1\")"
   ]
  },
  {
   "cell_type": "code",
   "execution_count": null,
   "id": "808ba6fb",
   "metadata": {},
   "outputs": [],
   "source": [
    "df_box.coalesce(1).write.format(\"csv\").option(\"header\",\"true\").mode(\"overwrite\").save(\"/user/ubuntu/homework/data/project/서울시_파출소_치안센터_연도별_총수.csv/box\")"
   ]
  },
  {
   "cell_type": "code",
   "execution_count": null,
   "id": "2ad6ead1",
   "metadata": {},
   "outputs": [],
   "source": []
  },
  {
   "cell_type": "code",
   "execution_count": null,
   "id": "e86f40cb",
   "metadata": {},
   "outputs": [],
   "source": [
    "gar=spark.read.option(\"charset\",\"euc-kr\").option(\"header\", \"true\").csv(\"/user/ubuntu/homework/data/project/경찰서지역코드 포함/Report.csv\""
   ]
  },
  {
   "cell_type": "code",
   "execution_count": null,
   "id": "5737004c",
   "metadata": {},
   "outputs": [],
   "source": [
    "gar1=gar.filter(col('지구대파출소치안센터') < 100)"
   ]
  },
  {
   "cell_type": "code",
   "execution_count": null,
   "id": "54084ffd",
   "metadata": {},
   "outputs": [],
   "source": [
    "gar2=gar1.select(col(\"기간\").alias(\"기간코드\"),col(\"자치구\").alias(\"지역코드\"),\"지구대파출소치안센터\")"
   ]
  },
  {
   "cell_type": "code",
   "execution_count": null,
   "id": "e050b0bb",
   "metadata": {},
   "outputs": [],
   "source": [
    "gar3= gar2.replace([\"2017\",\"2018\",\"2019\"],[\"17\",\"18\",\"19\"],'기간코드')"
   ]
  },
  {
   "cell_type": "code",
   "execution_count": null,
   "id": "d09b0cdf",
   "metadata": {},
   "outputs": [],
   "source": [
    "gar4=gar3.replace([\"은평구\",\"서대문구\",\"마포구\",\"양천구\",\"강서구\",\"구로구\",\"금천구\",\"영등포구\",\"동작구\",\"송파구\",\"강동구\",\"종로구\",\"중구\",\"용산구\",\"성동구\",\"광진구\",\"동대문구\",\"성북구\",\"강북구\",\"도봉구\",\"관악구\",\"서초구\",\"강남구\",\"중랑구\",\"노원구\"],[\"111181\",\"111191\",\"111201\",\"111301\",\"111212\",\"111221\",\"111281\",\"111231\",\"111241\",\"111273\",\"111274\",\"111123\",\"111121\",\"111131\",\"111142\",\"111141\",\"111152\",\"111161\",\"111291\",\"111171\",\"111251\",\"111262\",\"111261\",\"111151\",\"111311\"],'지역코드')"
   ]
  },
  {
   "cell_type": "code",
   "execution_count": null,
   "id": "2cfdceab",
   "metadata": {},
   "outputs": [],
   "source": [
    "gar4.coalesce(1).write.format(\"csv\").option(\"header\",\"true\").mode(\"overwrite\").save(\"/user/ubuntu/homework/data/project/서울시_파출소_치안센터_연도별_총수.csv/gar4.csv\")"
   ]
  },
  {
   "cell_type": "code",
   "execution_count": null,
   "id": "32831da1",
   "metadata": {},
   "outputs": [],
   "source": []
  },
  {
   "cell_type": "code",
   "execution_count": null,
   "id": "88d94be2",
   "metadata": {},
   "outputs": [],
   "source": [
    "# 경찰관수"
   ]
  },
  {
   "cell_type": "code",
   "execution_count": null,
   "id": "125d43eb",
   "metadata": {},
   "outputs": [],
   "source": [
    "police=spark.read.option(\"header\", \"true\").csv(\"/user/ubuntu/homework/data/project/서울시_경찰관_연도별_현황.csv/경찰청 서울특별시경찰청_경찰서별 경찰관수 현황_20201231.csv\")"
   ]
  },
  {
   "cell_type": "code",
   "execution_count": null,
   "id": "d9cf7e23",
   "metadata": {},
   "outputs": [],
   "source": [
    "police=spark.read.option(\"charset\",\"euc-kr\").option(\"header\", \"true\").csv(\"/user/ubuntu/homework/data/project/서울시_경찰관_연도별_현황.csv/경찰청 서울특별시경찰청_경찰서별 경찰관수 현황_20201231.csv\")"
   ]
  },
  {
   "cell_type": "code",
   "execution_count": null,
   "id": "56b12543",
   "metadata": {},
   "outputs": [],
   "source": [
    "police_2017=police.select(col(\"경찰서\").alias(\"경찰서\"),col(\"2017년\").alias(\"경찰관수\"))\n",
    "police2017_1= police_2017.withColumn(\"기간코드\",lit(\"17\"))\n",
    "police_2018=police.select(col(\"경찰서\").alias(\"경찰서\"),col(\"2018년\").alias(\"경찰관수\"))\n",
    "police2018_1= police_2018.withColumn(\"기간코드\",lit(\"18\"))\n",
    "police_2019=police.select(col(\"경찰서\").alias(\"경찰서\"),col(\"2019년\").alias(\"경찰관수\"))\n",
    "police2019_1= police_2019.withColumn(\"기간코드\",lit(\"19\"))"
   ]
  },
  {
   "cell_type": "code",
   "execution_count": null,
   "id": "5765c013",
   "metadata": {},
   "outputs": [],
   "source": [
    "police2017_1.createOrReplaceTempView(\"police2017_1\")\n",
    "police2018_1.createOrReplaceTempView(\"police2018_1\")\n",
    "police2019_1.createOrReplaceTempView(\"police2019_1\")"
   ]
  },
  {
   "cell_type": "code",
   "execution_count": null,
   "id": "6b6eea83",
   "metadata": {},
   "outputs": [],
   "source": [
    "police_officer=spark.sql(\"SELECT * FROM police2017_1 UNION ALL SELECT * FROM police2018_1 UNION ALL SELECT * FROM police2019_1 UNION ALL SELECT * FROM police2019_1\")"
   ]
  },
  {
   "cell_type": "code",
   "execution_count": null,
   "id": "7eeed603",
   "metadata": {},
   "outputs": [],
   "source": [
    "police_officer.coalesce(1).write.format(\"csv\").option(\"header\",\"true\").mode(\"overwrite\").save(\"/user/ubuntu/homework/data/project/서울시_경찰관_연도별_현황.csv/police_officer.csv\")"
   ]
  },
  {
   "cell_type": "code",
   "execution_count": null,
   "id": "2b09815c",
   "metadata": {},
   "outputs": [],
   "source": []
  },
  {
   "cell_type": "code",
   "execution_count": null,
   "id": "2d598cee",
   "metadata": {},
   "outputs": [],
   "source": [
    "# 경찰서별 담당 지역구(지역코드로 변환)"
   ]
  },
  {
   "cell_type": "code",
   "execution_count": null,
   "id": "903b7682",
   "metadata": {},
   "outputs": [],
   "source": [
    "hdfs dfs -put data homework"
   ]
  },
  {
   "cell_type": "code",
   "execution_count": null,
   "id": "6aa8627e",
   "metadata": {},
   "outputs": [],
   "source": [
    "police_address=spark.read.option(\"charset\",\"euc-kr\").option(\"header\", \"true\").csv(\"/user/ubuntu/homework/data/project/경찰서지역코드 포함/경찰청_경찰관서 위치, 주소_20200409.csv\""
   ]
  },
  {
   "cell_type": "code",
   "execution_count": null,
   "id": "e00e91f5",
   "metadata": {},
   "outputs": [],
   "source": [
    "police_address=police_address.filter(col('청') == '서울청')"
   ]
  },
  {
   "cell_type": "code",
   "execution_count": null,
   "id": "50351c56",
   "metadata": {},
   "outputs": [],
   "source": [
    "police_address=police_address.filter(police_address['지구대파출소'].like('%경찰서%'))"
   ]
  },
  {
   "cell_type": "code",
   "execution_count": null,
   "id": "49a0c795",
   "metadata": {},
   "outputs": [],
   "source": [
    "police_add=police_address.select(col(\"서\").alias(\"경찰서\"), split(col(\"주소\"), \" \")[0].alias(\"지역코드\"))"
   ]
  },
  {
   "cell_type": "code",
   "execution_count": null,
   "id": "728c9685",
   "metadata": {},
   "outputs": [],
   "source": [
    "police_add= police_add.replace([\"은평구\",\"서대문구\",\"마포구\",\"양천구\",\"강서구\",\"구로구\",\"금천구\",\"영등포구\",\"동작구\",\"송파구\",\"강동구\",\"종로구\",\"중구\",\"용산구\",\"성동구\",\"광진구\",\"동대문구\",\"성북구\",\"강북구\",\"도봉구\",\"관악구\",\"서초구\",\"강남구\",\"중랑구\",\"노원구\"],[\"111181\",\"111191\",\"111201\",\"111301\",\"111212\",\"111221\",\"111281\",\"111231\",\"111241\",\"111273\",\"111274\",\"111123\",\"111121\",\"111131\",\"111142\",\"111141\",\"111152\",\"111161\",\"111291\",\"111171\",\"111251\",\"111262\",\"111261\",\"111151\",\"111311\"]\n",
    ",'지역코드')"
   ]
  },
  {
   "cell_type": "code",
   "execution_count": null,
   "id": "d2caa7f8",
   "metadata": {},
   "outputs": [],
   "source": [
    "police_add.coalesce(1).write.format(\"csv\").option(\"header\",\"true\").mode(\"overwrite\").save(\"/user/ubuntu/homework/data/project/서울시_경찰관_연도별_현황.csv/police_add.csv\")"
   ]
  },
  {
   "cell_type": "code",
   "execution_count": null,
   "id": "67d4fd6a",
   "metadata": {},
   "outputs": [],
   "source": [
    "# 합치기 시작"
   ]
  },
  {
   "cell_type": "code",
   "execution_count": null,
   "id": "fc6fba44",
   "metadata": {},
   "outputs": [],
   "source": [
    "left_df=police_officer.join(df_box, on=[\"경찰서\",\"기간코드\"],how='left')\n"
   ]
  },
  {
   "cell_type": "code",
   "execution_count": null,
   "id": "ae721e7b",
   "metadata": {},
   "outputs": [],
   "source": [
    "left_df= left_df.replace([\"중부\",\"종로\",\"남대문\",\"서대문\",\"혜화\",\"용산\",\n",
    "                          \"성북\",\"동대문\",\"마포\",\"영등포\",\"성동\",\"동작\",\n",
    "                          \"광진\",\"서부\",\"강북\",\"금천\",\"중랑\",\"강남\",\n",
    "                          \"관악\",\"강서\",\"강동\",\"종암\",\"구로\",\"서초\",\n",
    "                          \"양천\",\"송파\",\"노원\",\"방배\",\"은평\",\"도봉\",\"수서\"],\n",
    "                         [\"서울중부경찰서\",\"서울종로경찰서\",\"서울남대문경찰서\",\"서울서대문경찰서\",\"서울혜화경찰서\",\"서울용산경찰서\",\"서울성북경찰서\",\"서울동대문경찰서\",\n",
    "                          \"서울마포경찰서\",\"서울영등포경찰서\",\"서울성동경찰서\",\"서울동작경찰서\",\"서울광진경찰서\",\"서울서부경찰서\",\"서울강북경찰서\",\n",
    "                          \"서울금천경찰서\",\"서울중랑경찰서\",\"서울강남경찰서\",\"서울관악경찰서\",\"서울강서경찰서\",\"서울강동경찰서\",\"서울종암경찰서\",\n",
    "                          \"서울구로경찰서\",\"서울서초경찰서\",\"서울양천경찰서\",\"서울송파경찰서\",\"서울노원경찰서\",\"서울방배경찰서\",\"서울은평경찰서\",\n",
    "                          \"서울도봉경찰서\",\"서울수서경찰서\"],'경찰서')"
   ]
  },
  {
   "cell_type": "code",
   "execution_count": null,
   "id": "ca280406",
   "metadata": {},
   "outputs": [],
   "source": [
    "thx_df=left_df.join(police_add, on=[\"경찰서\"],how='left')"
   ]
  },
  {
   "cell_type": "code",
   "execution_count": null,
   "id": "a2654379",
   "metadata": {},
   "outputs": [],
   "source": [
    "thx_df.coalesce(1).write.format(\"csv\").option(\"header\",\"true\").mode(\"overwrite\").save(\"/user/ubuntu/homework/data/project/경찰서지역코드 포함/thx_df.csv\")"
   ]
  },
  {
   "cell_type": "code",
   "execution_count": null,
   "id": "20736940",
   "metadata": {},
   "outputs": [],
   "source": [
    "# 기간코드 id_inex변환"
   ]
  },
  {
   "cell_type": "code",
   "execution_count": null,
   "id": "d303e74c",
   "metadata": {},
   "outputs": [],
   "source": [
    "window=Window.orderBy(col('기간코드'))\n",
    "thx_df_a=thx_df.withColumn('increasing_id', row_number().over(window))\n",
    "thx_df_b= thx_df_a.select(expr(\"increasing_id-1\").alias(\"ID\"),\"경찰서\",\"기간코드\",\"경찰관수\",\"지구대\",\"파출소\",\"치안센터\",\"지역코드\")\n"
   ]
  },
  {
   "cell_type": "code",
   "execution_count": null,
   "id": "267a2b22",
   "metadata": {},
   "outputs": [],
   "source": [
    "\n",
    "thx_df_b.coalesce(1).write.format(\"csv\").option(\"header\",\"true\").mode(\"overwrite\").save(\"/user/ubuntu/homework/data/project/경찰서지역코드 포함/thx_df_b.csv\")"
   ]
  },
  {
   "cell_type": "code",
   "execution_count": null,
   "id": "c8f66890",
   "metadata": {},
   "outputs": [],
   "source": [
    "no_office=thx_df.select(col(\"기간코드\").alias(\"date_code\"),col(\"경찰관수\").alias(\"police officer\"),col(\"지구대\").alias(\"gicudae\"),col(\"파출소\").alias(\"police box\"),col(\"치안센터\").alias(\"security center\"),col(\"지역코드\").alias(\"local_code\"))"
   ]
  },
  {
   "cell_type": "code",
   "execution_count": null,
   "id": "ab005ebd",
   "metadata": {},
   "outputs": [],
   "source": [
    "no_office17=no_office.where(col(\"date_code\")==17).show(10)\n",
    "no_office18=no_office.where(col(\"date_code\")==18).show(10)\n",
    "no_office19=no_office.where(col(\"date_code\")==19).show(10)"
   ]
  },
  {
   "cell_type": "code",
   "execution_count": null,
   "id": "794e088f",
   "metadata": {},
   "outputs": [],
   "source": [
    "rank_function = f.rank().over(Window.partitionBy('date_code').orderBy(f.expr('month * price').desc()))"
   ]
  },
  {
   "cell_type": "code",
   "execution_count": null,
   "id": "aa3692b8",
   "metadata": {},
   "outputs": [],
   "source": [
    "rank_no_office=no_office.withColumn('total', f.expr('gicudae * police box')).withColumn(\"rank\",rank_function)"
   ]
  },
  {
   "cell_type": "code",
   "execution_count": null,
   "id": "126ef180",
   "metadata": {},
   "outputs": [],
   "source": [
    "thx_df_d.select(\"지구대2\"+\"파출소2\"+\"치안센터2\").show()\n",
    "SELECT(\"지구대2\"+\"파출소2\"+\"치안센터2\").show()  # 문자열이어서 int변경해야됨"
   ]
  },
  {
   "cell_type": "code",
   "execution_count": null,
   "id": "5f0d0dd0",
   "metadata": {},
   "outputs": [],
   "source": []
  },
  {
   "cell_type": "code",
   "execution_count": null,
   "id": "2d7acd20",
   "metadata": {},
   "outputs": [],
   "source": [
    "thx_df.withColumn(\"지구대2\", col(\"지구대\").cast(\"IntegerType\")).withColumn(\"파출소2\", col(\"파출소\").cast(\"IntegerType\")).withColumn(\"치안센터2\", col(\"치안센터\").cast(\"IntegerType\")).\n",
    "thx_df_d=thx_df.withColumn(\"지구대2\", col(\"지구대\").cast(IntegerType)).withColumn(\"파출소2\", col(\"파출소\").cast(IntegerType)).withColumn(\"치안센터2\", col(\"치안센터\").cast(IntegerType))\n",
    "thx_df_d=thx_df.withColumn(\"지구대2\", col(\"지구대\").cast(\"int\")).withColumn(\"파출소2\", col(\"파출소\").cast(\"int\")).withColumn(\"치안센터2\", col(\"치안센터\").cast(\"int\"))\n",
    "# cast(\"int\")여기서 됨\n",
    "#  df.printSchema() 로 형태 확인할것 \n",
    "thx_df_e=thx_df_d.select(col(\"지구대2\")+col(\"파출소2\")+col(\"치안센터2\").alias(\"total\").cast(\"int\")) # 이상없음\n",
    "thx_df_e.show() # select 이상없음\n",
    "                        \n",
    "thx_df_f= thx_df_e.select(\"경찰서\",col(\"기간코드\").cast(\"int\"),col(\"경찰관수\").cast(\"int\"),\"지구대\",\"파출소\",\"치안센터\",\"지역코드\",col(\"지구대2\").cast(\"int\"),col(\"파출소2\").cast(\"int\"),col(\"치안센터2\").cast(\"int\"))\n",
    "# strin형태인 애들을 합을구하기 위해서는 int로 그래서 행지정후 int로 캐시팅하면서 행만듬\n",
    "thx_df_g=thx_df_f.withColumn(\"total\",col(\"지구대2\")+col(\"파출소2\")+col(\"치안센터2\"))  \n",
    "# 지정행끼리 합구하기\n",
    "thx_df_h = thx_df_g.groupby(\"기간코드\",\"지역코드\").sum(\"경찰관수\",\"total\")\n",
    "# 기간코드와 지역코드가 동시에 같은 행끼리 그룹바이해서 1.경찰관수와 2.total(치안센터총합)        "
   ]
  },
  {
   "cell_type": "code",
   "execution_count": null,
   "id": "cc4006ef",
   "metadata": {},
   "outputs": [],
   "source": [
    "window=Window.orderBy(col('기간코드'))\n",
    "thx_df_I=thx_df_h.withColumn('increasing_id', row_number().over(window))\n",
    "thx_df_J= thx_df_I.select(expr(\"increasing_id-1\").alias(\"ID\"),\"기간코드\",\"지역코드\",\"sum(경찰관수)\",\"sum(total)\")\n",
    "thx_df_J.show(100000)\n",
    "thx_df_J.coalesce(1).write.format(\"csv\").option(\"header\",\"true\").mode(\"overwrite\").save(\"/user/ubuntu/homework/data/project/경찰서지역코드 포함/thx_df_J.csv\")"
   ]
  }
 ],
 "metadata": {
  "kernelspec": {
   "display_name": "Python 3",
   "language": "python",
   "name": "python3"
  },
  "language_info": {
   "codemirror_mode": {
    "name": "ipython",
    "version": 3
   },
   "file_extension": ".py",
   "mimetype": "text/x-python",
   "name": "python",
   "nbconvert_exporter": "python",
   "pygments_lexer": "ipython3",
   "version": "3.8.8"
  }
 },
 "nbformat": 4,
 "nbformat_minor": 5
}
