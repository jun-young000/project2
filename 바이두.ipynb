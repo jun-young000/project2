{
 "cells": [
  {
   "cell_type": "code",
   "execution_count": 49,
   "id": "ed454d80",
   "metadata": {},
   "outputs": [
    {
     "name": "stdout",
     "output_type": "stream",
     "text": [
      "Collecting plotly==4.5.0\n",
      "  Downloading plotly-4.5.0-py2.py3-none-any.whl (7.1 MB)\n",
      "Requirement already satisfied: six in c:\\users\\ui\\anaconda3\\lib\\site-packages (from plotly==4.5.0) (1.15.0)\n",
      "Requirement already satisfied: retrying>=1.3.3 in c:\\users\\ui\\anaconda3\\lib\\site-packages (from plotly==4.5.0) (1.3.3)\n",
      "Installing collected packages: plotly\n",
      "  Attempting uninstall: plotly\n",
      "    Found existing installation: plotly 3.8.1\n",
      "    Uninstalling plotly-3.8.1:\n",
      "      Successfully uninstalled plotly-3.8.1\n",
      "Successfully installed plotly-4.5.0\n",
      "Note: you may need to restart the kernel to use updated packages.\n"
     ]
    },
    {
     "name": "stderr",
     "output_type": "stream",
     "text": [
      "ERROR: pip's dependency resolver does not currently take into account all the packages that are installed. This behaviour is the source of the following dependency conflicts.\n",
      "pandas-visual-analysis 0.0.4 requires plotly>=4.10.0, but you have plotly 4.5.0 which is incompatible.\n"
     ]
    }
   ],
   "source": [
    "# pip install plotly==4.5.0"
   ]
  },
  {
   "cell_type": "code",
   "execution_count": 20,
   "id": "9566ec51",
   "metadata": {},
   "outputs": [
    {
     "name": "stdout",
     "output_type": "stream",
     "text": [
      "Requirement already satisfied: cufflinks in c:\\users\\ui\\anaconda3\\lib\\site-packages (0.17.3)\n",
      "Requirement already satisfied: ipywidgets>=7.0.0 in c:\\users\\ui\\anaconda3\\lib\\site-packages (from cufflinks) (7.6.3)\n",
      "Requirement already satisfied: colorlover>=0.2.1 in c:\\users\\ui\\anaconda3\\lib\\site-packages (from cufflinks) (0.3.0)\n",
      "Requirement already satisfied: setuptools>=34.4.1 in c:\\users\\ui\\anaconda3\\lib\\site-packages (from cufflinks) (52.0.0.post20210125)\n",
      "Requirement already satisfied: six>=1.9.0 in c:\\users\\ui\\anaconda3\\lib\\site-packages (from cufflinks) (1.15.0)\n",
      "Requirement already satisfied: ipython>=5.3.0 in c:\\users\\ui\\anaconda3\\lib\\site-packages (from cufflinks) (7.22.0)\n",
      "Requirement already satisfied: numpy>=1.9.2 in c:\\users\\ui\\anaconda3\\lib\\site-packages (from cufflinks) (1.20.1)\n",
      "Requirement already satisfied: pandas>=0.19.2 in c:\\users\\ui\\anaconda3\\lib\\site-packages (from cufflinks) (1.2.4)\n",
      "Requirement already satisfied: plotly>=4.1.1 in c:\\users\\ui\\anaconda3\\lib\\site-packages (from cufflinks) (4.5.0)\n",
      "Requirement already satisfied: colorama in c:\\users\\ui\\anaconda3\\lib\\site-packages (from ipython>=5.3.0->cufflinks) (0.4.4)\n",
      "Requirement already satisfied: pygments in c:\\users\\ui\\anaconda3\\lib\\site-packages (from ipython>=5.3.0->cufflinks) (2.8.1)\n",
      "Requirement already satisfied: jedi>=0.16 in c:\\users\\ui\\anaconda3\\lib\\site-packages (from ipython>=5.3.0->cufflinks) (0.17.2)\n",
      "Requirement already satisfied: decorator in c:\\users\\ui\\anaconda3\\lib\\site-packages (from ipython>=5.3.0->cufflinks) (5.0.6)\n",
      "Requirement already satisfied: pickleshare in c:\\users\\ui\\anaconda3\\lib\\site-packages (from ipython>=5.3.0->cufflinks) (0.7.5)\n",
      "Requirement already satisfied: backcall in c:\\users\\ui\\anaconda3\\lib\\site-packages (from ipython>=5.3.0->cufflinks) (0.2.0)\n",
      "Requirement already satisfied: prompt-toolkit!=3.0.0,!=3.0.1,<3.1.0,>=2.0.0 in c:\\users\\ui\\anaconda3\\lib\\site-packages (from ipython>=5.3.0->cufflinks) (3.0.17)\n",
      "Requirement already satisfied: traitlets>=4.2 in c:\\users\\ui\\anaconda3\\lib\\site-packages (from ipython>=5.3.0->cufflinks) (5.0.5)\n",
      "Requirement already satisfied: nbformat>=4.2.0 in c:\\users\\ui\\anaconda3\\lib\\site-packages (from ipywidgets>=7.0.0->cufflinks) (5.1.3)\n",
      "Requirement already satisfied: widgetsnbextension~=3.5.0 in c:\\users\\ui\\anaconda3\\lib\\site-packages (from ipywidgets>=7.0.0->cufflinks) (3.5.1)\n",
      "Requirement already satisfied: jupyterlab-widgets>=1.0.0 in c:\\users\\ui\\anaconda3\\lib\\site-packages (from ipywidgets>=7.0.0->cufflinks) (1.0.0)\n",
      "Requirement already satisfied: ipykernel>=4.5.1 in c:\\users\\ui\\anaconda3\\lib\\site-packages (from ipywidgets>=7.0.0->cufflinks) (5.3.4)\n",
      "Requirement already satisfied: jupyter-client in c:\\users\\ui\\anaconda3\\lib\\site-packages (from ipykernel>=4.5.1->ipywidgets>=7.0.0->cufflinks) (6.1.12)\n",
      "Requirement already satisfied: tornado>=4.2 in c:\\users\\ui\\anaconda3\\lib\\site-packages (from ipykernel>=4.5.1->ipywidgets>=7.0.0->cufflinks) (6.1)\n",
      "Requirement already satisfied: parso<0.8.0,>=0.7.0 in c:\\users\\ui\\anaconda3\\lib\\site-packages (from jedi>=0.16->ipython>=5.3.0->cufflinks) (0.7.0)\n",
      "Requirement already satisfied: ipython-genutils in c:\\users\\ui\\anaconda3\\lib\\site-packages (from nbformat>=4.2.0->ipywidgets>=7.0.0->cufflinks) (0.2.0)\n",
      "Requirement already satisfied: jsonschema!=2.5.0,>=2.4 in c:\\users\\ui\\anaconda3\\lib\\site-packages (from nbformat>=4.2.0->ipywidgets>=7.0.0->cufflinks) (3.2.0)\n",
      "Requirement already satisfied: jupyter-core in c:\\users\\ui\\anaconda3\\lib\\site-packages (from nbformat>=4.2.0->ipywidgets>=7.0.0->cufflinks) (4.7.1)\n",
      "Requirement already satisfied: attrs>=17.4.0 in c:\\users\\ui\\anaconda3\\lib\\site-packages (from jsonschema!=2.5.0,>=2.4->nbformat>=4.2.0->ipywidgets>=7.0.0->cufflinks) (20.3.0)\n",
      "Requirement already satisfied: pyrsistent>=0.14.0 in c:\\users\\ui\\anaconda3\\lib\\site-packages (from jsonschema!=2.5.0,>=2.4->nbformat>=4.2.0->ipywidgets>=7.0.0->cufflinks) (0.17.3)\n",
      "Requirement already satisfied: pytz>=2017.3 in c:\\users\\ui\\anaconda3\\lib\\site-packages (from pandas>=0.19.2->cufflinks) (2021.1)\n",
      "Requirement already satisfied: python-dateutil>=2.7.3 in c:\\users\\ui\\anaconda3\\lib\\site-packages (from pandas>=0.19.2->cufflinks) (2.8.1)\n",
      "Requirement already satisfied: retrying>=1.3.3 in c:\\users\\ui\\anaconda3\\lib\\site-packages (from plotly>=4.1.1->cufflinks) (1.3.3)\n",
      "Requirement already satisfied: wcwidth in c:\\users\\ui\\anaconda3\\lib\\site-packages (from prompt-toolkit!=3.0.0,!=3.0.1,<3.1.0,>=2.0.0->ipython>=5.3.0->cufflinks) (0.2.5)\n",
      "Requirement already satisfied: notebook>=4.4.1 in c:\\users\\ui\\anaconda3\\lib\\site-packages (from widgetsnbextension~=3.5.0->ipywidgets>=7.0.0->cufflinks) (6.3.0)\n",
      "Requirement already satisfied: argon2-cffi in c:\\users\\ui\\anaconda3\\lib\\site-packages (from notebook>=4.4.1->widgetsnbextension~=3.5.0->ipywidgets>=7.0.0->cufflinks) (20.1.0)\n",
      "Requirement already satisfied: nbconvert in c:\\users\\ui\\anaconda3\\lib\\site-packages (from notebook>=4.4.1->widgetsnbextension~=3.5.0->ipywidgets>=7.0.0->cufflinks) (6.0.7)\n",
      "Requirement already satisfied: Send2Trash>=1.5.0 in c:\\users\\ui\\anaconda3\\lib\\site-packages (from notebook>=4.4.1->widgetsnbextension~=3.5.0->ipywidgets>=7.0.0->cufflinks) (1.5.0)\n",
      "Requirement already satisfied: terminado>=0.8.3 in c:\\users\\ui\\anaconda3\\lib\\site-packages (from notebook>=4.4.1->widgetsnbextension~=3.5.0->ipywidgets>=7.0.0->cufflinks) (0.9.4)\n",
      "Requirement already satisfied: jinja2 in c:\\users\\ui\\anaconda3\\lib\\site-packages (from notebook>=4.4.1->widgetsnbextension~=3.5.0->ipywidgets>=7.0.0->cufflinks) (2.11.3)\n",
      "Requirement already satisfied: pyzmq>=17 in c:\\users\\ui\\anaconda3\\lib\\site-packages (from notebook>=4.4.1->widgetsnbextension~=3.5.0->ipywidgets>=7.0.0->cufflinks) (20.0.0)\n",
      "Requirement already satisfied: prometheus-client in c:\\users\\ui\\anaconda3\\lib\\site-packages (from notebook>=4.4.1->widgetsnbextension~=3.5.0->ipywidgets>=7.0.0->cufflinks) (0.10.1)\n",
      "Requirement already satisfied: pywin32>=1.0 in c:\\users\\ui\\anaconda3\\lib\\site-packages (from jupyter-core->nbformat>=4.2.0->ipywidgets>=7.0.0->cufflinks) (227)\n",
      "Requirement already satisfied: pywinpty>=0.5 in c:\\users\\ui\\anaconda3\\lib\\site-packages (from terminado>=0.8.3->notebook>=4.4.1->widgetsnbextension~=3.5.0->ipywidgets>=7.0.0->cufflinks) (0.5.7)\n",
      "Requirement already satisfied: cffi>=1.0.0 in c:\\users\\ui\\anaconda3\\lib\\site-packages (from argon2-cffi->notebook>=4.4.1->widgetsnbextension~=3.5.0->ipywidgets>=7.0.0->cufflinks) (1.14.5)\n",
      "Requirement already satisfied: pycparser in c:\\users\\ui\\anaconda3\\lib\\site-packages (from cffi>=1.0.0->argon2-cffi->notebook>=4.4.1->widgetsnbextension~=3.5.0->ipywidgets>=7.0.0->cufflinks) (2.20)\n",
      "Requirement already satisfied: MarkupSafe>=0.23 in c:\\users\\ui\\anaconda3\\lib\\site-packages (from jinja2->notebook>=4.4.1->widgetsnbextension~=3.5.0->ipywidgets>=7.0.0->cufflinks) (1.1.1)\n",
      "Requirement already satisfied: pandocfilters>=1.4.1 in c:\\users\\ui\\anaconda3\\lib\\site-packages (from nbconvert->notebook>=4.4.1->widgetsnbextension~=3.5.0->ipywidgets>=7.0.0->cufflinks) (1.4.3)\n",
      "Requirement already satisfied: entrypoints>=0.2.2 in c:\\users\\ui\\anaconda3\\lib\\site-packages (from nbconvert->notebook>=4.4.1->widgetsnbextension~=3.5.0->ipywidgets>=7.0.0->cufflinks) (0.3)\n",
      "Requirement already satisfied: testpath in c:\\users\\ui\\anaconda3\\lib\\site-packages (from nbconvert->notebook>=4.4.1->widgetsnbextension~=3.5.0->ipywidgets>=7.0.0->cufflinks) (0.4.4)\n",
      "Requirement already satisfied: mistune<2,>=0.8.1 in c:\\users\\ui\\anaconda3\\lib\\site-packages (from nbconvert->notebook>=4.4.1->widgetsnbextension~=3.5.0->ipywidgets>=7.0.0->cufflinks) (0.8.4)\n",
      "Requirement already satisfied: jupyterlab-pygments in c:\\users\\ui\\anaconda3\\lib\\site-packages (from nbconvert->notebook>=4.4.1->widgetsnbextension~=3.5.0->ipywidgets>=7.0.0->cufflinks) (0.1.2)\n",
      "Requirement already satisfied: defusedxml in c:\\users\\ui\\anaconda3\\lib\\site-packages (from nbconvert->notebook>=4.4.1->widgetsnbextension~=3.5.0->ipywidgets>=7.0.0->cufflinks) (0.7.1)\n",
      "Requirement already satisfied: nbclient<0.6.0,>=0.5.0 in c:\\users\\ui\\anaconda3\\lib\\site-packages (from nbconvert->notebook>=4.4.1->widgetsnbextension~=3.5.0->ipywidgets>=7.0.0->cufflinks) (0.5.3)\n",
      "Requirement already satisfied: bleach in c:\\users\\ui\\anaconda3\\lib\\site-packages (from nbconvert->notebook>=4.4.1->widgetsnbextension~=3.5.0->ipywidgets>=7.0.0->cufflinks) (3.3.0)\n",
      "Requirement already satisfied: async-generator in c:\\users\\ui\\anaconda3\\lib\\site-packages (from nbclient<0.6.0,>=0.5.0->nbconvert->notebook>=4.4.1->widgetsnbextension~=3.5.0->ipywidgets>=7.0.0->cufflinks) (1.10)\n",
      "Requirement already satisfied: nest-asyncio in c:\\users\\ui\\anaconda3\\lib\\site-packages (from nbclient<0.6.0,>=0.5.0->nbconvert->notebook>=4.4.1->widgetsnbextension~=3.5.0->ipywidgets>=7.0.0->cufflinks) (1.5.1)\n",
      "Requirement already satisfied: webencodings in c:\\users\\ui\\anaconda3\\lib\\site-packages (from bleach->nbconvert->notebook>=4.4.1->widgetsnbextension~=3.5.0->ipywidgets>=7.0.0->cufflinks) (0.5.1)\n",
      "Requirement already satisfied: packaging in c:\\users\\ui\\anaconda3\\lib\\site-packages (from bleach->nbconvert->notebook>=4.4.1->widgetsnbextension~=3.5.0->ipywidgets>=7.0.0->cufflinks) (20.9)\n",
      "Requirement already satisfied: pyparsing>=2.0.2 in c:\\users\\ui\\anaconda3\\lib\\site-packages (from packaging->bleach->nbconvert->notebook>=4.4.1->widgetsnbextension~=3.5.0->ipywidgets>=7.0.0->cufflinks) (2.4.7)\n",
      "Note: you may need to restart the kernel to use updated packages.\n"
     ]
    }
   ],
   "source": [
    "pip install cufflinks"
   ]
  },
  {
   "cell_type": "code",
   "execution_count": 41,
   "id": "589752a6",
   "metadata": {},
   "outputs": [],
   "source": [
    "import plotly.express as px\n",
    "import cufflinks as cf\n",
    "import plotly\n",
    "import plotly.express as px\n",
    "from plotly.subplots import make_subplots"
   ]
  },
  {
   "cell_type": "code",
   "execution_count": 42,
   "id": "79df7714",
   "metadata": {},
   "outputs": [],
   "source": [
    "import pandas as pd\n",
    "import seaborn as sns\n",
    "import numpy as np"
   ]
  },
  {
   "cell_type": "code",
   "execution_count": 43,
   "id": "541dd766",
   "metadata": {},
   "outputs": [
    {
     "name": "stdout",
     "output_type": "stream",
     "text": [
      "Figure({\n",
      "    'data': [{'hoverlabel': {'namelength': 0},\n",
      "              'hovertemplate': 'x=%{x}<br>y=%{y}',\n",
      "              'legendgroup': '',\n",
      "              'line': {'color': '#636efa', 'dash': 'solid'},\n",
      "              'mode': 'lines',\n",
      "              'name': '',\n",
      "              'showlegend': False,\n",
      "              'type': 'scatter',\n",
      "              'x': array(['a', 'b', 'c'], dtype=object),\n",
      "              'xaxis': 'x',\n",
      "              'y': array([1, 3, 2]),\n",
      "              'yaxis': 'y'}],\n",
      "    'layout': {'legend': {'tracegroupgap': 0},\n",
      "               'template': '...',\n",
      "               'title': {'text': 'sample figure'},\n",
      "               'xaxis': {'anchor': 'y', 'domain': [0.0, 1.0], 'title': {'text': 'x'}},\n",
      "               'yaxis': {'anchor': 'x', 'domain': [0.0, 1.0], 'title': {'text': 'y'}}}\n",
      "})\n"
     ]
    }
   ],
   "source": [
    "fig = px.line(x=[\"a\",\"b\",\"c\"], y=[1,3,2], title=\"sample figure\")\n",
    "print(fig)"
   ]
  },
  {
   "cell_type": "code",
   "execution_count": 44,
   "id": "b47c690c",
   "metadata": {},
   "outputs": [
    {
     "data": {
      "text/html": [
       "<div>\n",
       "<style scoped>\n",
       "    .dataframe tbody tr th:only-of-type {\n",
       "        vertical-align: middle;\n",
       "    }\n",
       "\n",
       "    .dataframe tbody tr th {\n",
       "        vertical-align: top;\n",
       "    }\n",
       "\n",
       "    .dataframe thead th {\n",
       "        text-align: right;\n",
       "    }\n",
       "</style>\n",
       "<table border=\"1\" class=\"dataframe\">\n",
       "  <thead>\n",
       "    <tr style=\"text-align: right;\">\n",
       "      <th></th>\n",
       "      <th>sepal_length</th>\n",
       "      <th>sepal_width</th>\n",
       "      <th>petal_length</th>\n",
       "      <th>petal_width</th>\n",
       "      <th>species</th>\n",
       "      <th>species_id</th>\n",
       "    </tr>\n",
       "  </thead>\n",
       "  <tbody>\n",
       "    <tr>\n",
       "      <th>0</th>\n",
       "      <td>5.1</td>\n",
       "      <td>3.5</td>\n",
       "      <td>1.4</td>\n",
       "      <td>0.2</td>\n",
       "      <td>setosa</td>\n",
       "      <td>1</td>\n",
       "    </tr>\n",
       "    <tr>\n",
       "      <th>1</th>\n",
       "      <td>4.9</td>\n",
       "      <td>3.0</td>\n",
       "      <td>1.4</td>\n",
       "      <td>0.2</td>\n",
       "      <td>setosa</td>\n",
       "      <td>1</td>\n",
       "    </tr>\n",
       "    <tr>\n",
       "      <th>2</th>\n",
       "      <td>4.7</td>\n",
       "      <td>3.2</td>\n",
       "      <td>1.3</td>\n",
       "      <td>0.2</td>\n",
       "      <td>setosa</td>\n",
       "      <td>1</td>\n",
       "    </tr>\n",
       "    <tr>\n",
       "      <th>3</th>\n",
       "      <td>4.6</td>\n",
       "      <td>3.1</td>\n",
       "      <td>1.5</td>\n",
       "      <td>0.2</td>\n",
       "      <td>setosa</td>\n",
       "      <td>1</td>\n",
       "    </tr>\n",
       "    <tr>\n",
       "      <th>4</th>\n",
       "      <td>5.0</td>\n",
       "      <td>3.6</td>\n",
       "      <td>1.4</td>\n",
       "      <td>0.2</td>\n",
       "      <td>setosa</td>\n",
       "      <td>1</td>\n",
       "    </tr>\n",
       "  </tbody>\n",
       "</table>\n",
       "</div>"
      ],
      "text/plain": [
       "   sepal_length  sepal_width  petal_length  petal_width species  species_id\n",
       "0           5.1          3.5           1.4          0.2  setosa           1\n",
       "1           4.9          3.0           1.4          0.2  setosa           1\n",
       "2           4.7          3.2           1.3          0.2  setosa           1\n",
       "3           4.6          3.1           1.5          0.2  setosa           1\n",
       "4           5.0          3.6           1.4          0.2  setosa           1"
      ]
     },
     "execution_count": 44,
     "metadata": {},
     "output_type": "execute_result"
    }
   ],
   "source": [
    "df = px.data.iris()\n",
    "df.head()"
   ]
  },
  {
   "cell_type": "code",
   "execution_count": 45,
   "id": "013fc0bb",
   "metadata": {},
   "outputs": [
    {
     "data": {
      "application/vnd.plotly.v1+json": {
       "config": {
        "plotlyServerURL": "https://plot.ly"
       },
       "data": [
        {
         "customdata": [
          [
           0.2
          ],
          [
           0.2
          ],
          [
           0.2
          ],
          [
           0.2
          ],
          [
           0.2
          ],
          [
           0.4
          ],
          [
           0.3
          ],
          [
           0.2
          ],
          [
           0.2
          ],
          [
           0.1
          ],
          [
           0.2
          ],
          [
           0.2
          ],
          [
           0.1
          ],
          [
           0.1
          ],
          [
           0.2
          ],
          [
           0.4
          ],
          [
           0.4
          ],
          [
           0.3
          ],
          [
           0.3
          ],
          [
           0.3
          ],
          [
           0.2
          ],
          [
           0.4
          ],
          [
           0.2
          ],
          [
           0.5
          ],
          [
           0.2
          ],
          [
           0.2
          ],
          [
           0.4
          ],
          [
           0.2
          ],
          [
           0.2
          ],
          [
           0.2
          ],
          [
           0.2
          ],
          [
           0.4
          ],
          [
           0.1
          ],
          [
           0.2
          ],
          [
           0.1
          ],
          [
           0.2
          ],
          [
           0.2
          ],
          [
           0.1
          ],
          [
           0.2
          ],
          [
           0.2
          ],
          [
           0.3
          ],
          [
           0.3
          ],
          [
           0.2
          ],
          [
           0.6
          ],
          [
           0.4
          ],
          [
           0.3
          ],
          [
           0.2
          ],
          [
           0.2
          ],
          [
           0.2
          ],
          [
           0.2
          ]
         ],
         "hoverlabel": {
          "namelength": 0
         },
         "hovertemplate": "species=setosa<br>sepal_width=%{x}<br>sepal_length=%{y}<br>petal_length=%{marker.size}<br>petal_width=%{customdata[0]}",
         "legendgroup": "setosa",
         "marker": {
          "color": "#636efa",
          "size": [
           1.4,
           1.4,
           1.3,
           1.5,
           1.4,
           1.7,
           1.4,
           1.5,
           1.4,
           1.5,
           1.5,
           1.6,
           1.4,
           1.1,
           1.2,
           1.5,
           1.3,
           1.4,
           1.7,
           1.5,
           1.7,
           1.5,
           1,
           1.7,
           1.9,
           1.6,
           1.6,
           1.5,
           1.4,
           1.6,
           1.6,
           1.5,
           1.5,
           1.4,
           1.5,
           1.2,
           1.3,
           1.5,
           1.3,
           1.5,
           1.3,
           1.3,
           1.3,
           1.6,
           1.9,
           1.4,
           1.6,
           1.4,
           1.5,
           1.4
          ],
          "sizemode": "area",
          "sizeref": 0.01725,
          "symbol": "circle"
         },
         "mode": "markers",
         "name": "setosa",
         "showlegend": true,
         "type": "scatter",
         "x": [
          3.5,
          3,
          3.2,
          3.1,
          3.6,
          3.9,
          3.4,
          3.4,
          2.9,
          3.1,
          3.7,
          3.4,
          3,
          3,
          4,
          4.4,
          3.9,
          3.5,
          3.8,
          3.8,
          3.4,
          3.7,
          3.6,
          3.3,
          3.4,
          3,
          3.4,
          3.5,
          3.4,
          3.2,
          3.1,
          3.4,
          4.1,
          4.2,
          3.1,
          3.2,
          3.5,
          3.1,
          3,
          3.4,
          3.5,
          2.3,
          3.2,
          3.5,
          3.8,
          3,
          3.8,
          3.2,
          3.7,
          3.3
         ],
         "xaxis": "x",
         "y": [
          5.1,
          4.9,
          4.7,
          4.6,
          5,
          5.4,
          4.6,
          5,
          4.4,
          4.9,
          5.4,
          4.8,
          4.8,
          4.3,
          5.8,
          5.7,
          5.4,
          5.1,
          5.7,
          5.1,
          5.4,
          5.1,
          4.6,
          5.1,
          4.8,
          5,
          5,
          5.2,
          5.2,
          4.7,
          4.8,
          5.4,
          5.2,
          5.5,
          4.9,
          5,
          5.5,
          4.9,
          4.4,
          5.1,
          5,
          4.5,
          4.4,
          5,
          5.1,
          4.8,
          5.1,
          4.6,
          5.3,
          5
         ],
         "yaxis": "y"
        },
        {
         "customdata": [
          [
           1.4
          ],
          [
           1.5
          ],
          [
           1.5
          ],
          [
           1.3
          ],
          [
           1.5
          ],
          [
           1.3
          ],
          [
           1.6
          ],
          [
           1
          ],
          [
           1.3
          ],
          [
           1.4
          ],
          [
           1
          ],
          [
           1.5
          ],
          [
           1
          ],
          [
           1.4
          ],
          [
           1.3
          ],
          [
           1.4
          ],
          [
           1.5
          ],
          [
           1
          ],
          [
           1.5
          ],
          [
           1.1
          ],
          [
           1.8
          ],
          [
           1.3
          ],
          [
           1.5
          ],
          [
           1.2
          ],
          [
           1.3
          ],
          [
           1.4
          ],
          [
           1.4
          ],
          [
           1.7
          ],
          [
           1.5
          ],
          [
           1
          ],
          [
           1.1
          ],
          [
           1
          ],
          [
           1.2
          ],
          [
           1.6
          ],
          [
           1.5
          ],
          [
           1.6
          ],
          [
           1.5
          ],
          [
           1.3
          ],
          [
           1.3
          ],
          [
           1.3
          ],
          [
           1.2
          ],
          [
           1.4
          ],
          [
           1.2
          ],
          [
           1
          ],
          [
           1.3
          ],
          [
           1.2
          ],
          [
           1.3
          ],
          [
           1.3
          ],
          [
           1.1
          ],
          [
           1.3
          ]
         ],
         "hoverlabel": {
          "namelength": 0
         },
         "hovertemplate": "species=versicolor<br>sepal_width=%{x}<br>sepal_length=%{y}<br>petal_length=%{marker.size}<br>petal_width=%{customdata[0]}",
         "legendgroup": "versicolor",
         "marker": {
          "color": "#EF553B",
          "size": [
           4.7,
           4.5,
           4.9,
           4,
           4.6,
           4.5,
           4.7,
           3.3,
           4.6,
           3.9,
           3.5,
           4.2,
           4,
           4.7,
           3.6,
           4.4,
           4.5,
           4.1,
           4.5,
           3.9,
           4.8,
           4,
           4.9,
           4.7,
           4.3,
           4.4,
           4.8,
           5,
           4.5,
           3.5,
           3.8,
           3.7,
           3.9,
           5.1,
           4.5,
           4.5,
           4.7,
           4.4,
           4.1,
           4,
           4.4,
           4.6,
           4,
           3.3,
           4.2,
           4.2,
           4.2,
           4.3,
           3,
           4.1
          ],
          "sizemode": "area",
          "sizeref": 0.01725,
          "symbol": "circle"
         },
         "mode": "markers",
         "name": "versicolor",
         "showlegend": true,
         "type": "scatter",
         "x": [
          3.2,
          3.2,
          3.1,
          2.3,
          2.8,
          2.8,
          3.3,
          2.4,
          2.9,
          2.7,
          2,
          3,
          2.2,
          2.9,
          2.9,
          3.1,
          3,
          2.7,
          2.2,
          2.5,
          3.2,
          2.8,
          2.5,
          2.8,
          2.9,
          3,
          2.8,
          3,
          2.9,
          2.6,
          2.4,
          2.4,
          2.7,
          2.7,
          3,
          3.4,
          3.1,
          2.3,
          3,
          2.5,
          2.6,
          3,
          2.6,
          2.3,
          2.7,
          3,
          2.9,
          2.9,
          2.5,
          2.8
         ],
         "xaxis": "x",
         "y": [
          7,
          6.4,
          6.9,
          5.5,
          6.5,
          5.7,
          6.3,
          4.9,
          6.6,
          5.2,
          5,
          5.9,
          6,
          6.1,
          5.6,
          6.7,
          5.6,
          5.8,
          6.2,
          5.6,
          5.9,
          6.1,
          6.3,
          6.1,
          6.4,
          6.6,
          6.8,
          6.7,
          6,
          5.7,
          5.5,
          5.5,
          5.8,
          6,
          5.4,
          6,
          6.7,
          6.3,
          5.6,
          5.5,
          5.5,
          6.1,
          5.8,
          5,
          5.6,
          5.7,
          5.7,
          6.2,
          5.1,
          5.7
         ],
         "yaxis": "y"
        },
        {
         "customdata": [
          [
           2.5
          ],
          [
           1.9
          ],
          [
           2.1
          ],
          [
           1.8
          ],
          [
           2.2
          ],
          [
           2.1
          ],
          [
           1.7
          ],
          [
           1.8
          ],
          [
           1.8
          ],
          [
           2.5
          ],
          [
           2
          ],
          [
           1.9
          ],
          [
           2.1
          ],
          [
           2
          ],
          [
           2.4
          ],
          [
           2.3
          ],
          [
           1.8
          ],
          [
           2.2
          ],
          [
           2.3
          ],
          [
           1.5
          ],
          [
           2.3
          ],
          [
           2
          ],
          [
           2
          ],
          [
           1.8
          ],
          [
           2.1
          ],
          [
           1.8
          ],
          [
           1.8
          ],
          [
           1.8
          ],
          [
           2.1
          ],
          [
           1.6
          ],
          [
           1.9
          ],
          [
           2
          ],
          [
           2.2
          ],
          [
           1.5
          ],
          [
           1.4
          ],
          [
           2.3
          ],
          [
           2.4
          ],
          [
           1.8
          ],
          [
           1.8
          ],
          [
           2.1
          ],
          [
           2.4
          ],
          [
           2.3
          ],
          [
           1.9
          ],
          [
           2.3
          ],
          [
           2.5
          ],
          [
           2.3
          ],
          [
           1.9
          ],
          [
           2
          ],
          [
           2.3
          ],
          [
           1.8
          ]
         ],
         "hoverlabel": {
          "namelength": 0
         },
         "hovertemplate": "species=virginica<br>sepal_width=%{x}<br>sepal_length=%{y}<br>petal_length=%{marker.size}<br>petal_width=%{customdata[0]}",
         "legendgroup": "virginica",
         "marker": {
          "color": "#00cc96",
          "size": [
           6,
           5.1,
           5.9,
           5.6,
           5.8,
           6.6,
           4.5,
           6.3,
           5.8,
           6.1,
           5.1,
           5.3,
           5.5,
           5,
           5.1,
           5.3,
           5.5,
           6.7,
           6.9,
           5,
           5.7,
           4.9,
           6.7,
           4.9,
           5.7,
           6,
           4.8,
           4.9,
           5.6,
           5.8,
           6.1,
           6.4,
           5.6,
           5.1,
           5.6,
           6.1,
           5.6,
           5.5,
           4.8,
           5.4,
           5.6,
           5.1,
           5.1,
           5.9,
           5.7,
           5.2,
           5,
           5.2,
           5.4,
           5.1
          ],
          "sizemode": "area",
          "sizeref": 0.01725,
          "symbol": "circle"
         },
         "mode": "markers",
         "name": "virginica",
         "showlegend": true,
         "type": "scatter",
         "x": [
          3.3,
          2.7,
          3,
          2.9,
          3,
          3,
          2.5,
          2.9,
          2.5,
          3.6,
          3.2,
          2.7,
          3,
          2.5,
          2.8,
          3.2,
          3,
          3.8,
          2.6,
          2.2,
          3.2,
          2.8,
          2.8,
          2.7,
          3.3,
          3.2,
          2.8,
          3,
          2.8,
          3,
          2.8,
          3.8,
          2.8,
          2.8,
          2.6,
          3,
          3.4,
          3.1,
          3,
          3.1,
          3.1,
          3.1,
          2.7,
          3.2,
          3.3,
          3,
          2.5,
          3,
          3.4,
          3
         ],
         "xaxis": "x",
         "y": [
          6.3,
          5.8,
          7.1,
          6.3,
          6.5,
          7.6,
          4.9,
          7.3,
          6.7,
          7.2,
          6.5,
          6.4,
          6.8,
          5.7,
          5.8,
          6.4,
          6.5,
          7.7,
          7.7,
          6,
          6.9,
          5.6,
          7.7,
          6.3,
          6.7,
          7.2,
          6.2,
          6.1,
          6.4,
          7.2,
          7.4,
          7.9,
          6.4,
          6.3,
          6.1,
          7.7,
          6.3,
          6.4,
          6,
          6.9,
          6.7,
          6.9,
          5.8,
          6.8,
          6.7,
          6.7,
          6.3,
          6.5,
          6.2,
          5.9
         ],
         "yaxis": "y"
        }
       ],
       "layout": {
        "legend": {
         "itemsizing": "constant",
         "title": {
          "text": "species"
         },
         "tracegroupgap": 0
        },
        "template": {
         "data": {
          "bar": [
           {
            "error_x": {
             "color": "#2a3f5f"
            },
            "error_y": {
             "color": "#2a3f5f"
            },
            "marker": {
             "line": {
              "color": "#E5ECF6",
              "width": 0.5
             }
            },
            "type": "bar"
           }
          ],
          "barpolar": [
           {
            "marker": {
             "line": {
              "color": "#E5ECF6",
              "width": 0.5
             }
            },
            "type": "barpolar"
           }
          ],
          "carpet": [
           {
            "aaxis": {
             "endlinecolor": "#2a3f5f",
             "gridcolor": "white",
             "linecolor": "white",
             "minorgridcolor": "white",
             "startlinecolor": "#2a3f5f"
            },
            "baxis": {
             "endlinecolor": "#2a3f5f",
             "gridcolor": "white",
             "linecolor": "white",
             "minorgridcolor": "white",
             "startlinecolor": "#2a3f5f"
            },
            "type": "carpet"
           }
          ],
          "choropleth": [
           {
            "colorbar": {
             "outlinewidth": 0,
             "ticks": ""
            },
            "type": "choropleth"
           }
          ],
          "contour": [
           {
            "colorbar": {
             "outlinewidth": 0,
             "ticks": ""
            },
            "colorscale": [
             [
              0,
              "#0d0887"
             ],
             [
              0.1111111111111111,
              "#46039f"
             ],
             [
              0.2222222222222222,
              "#7201a8"
             ],
             [
              0.3333333333333333,
              "#9c179e"
             ],
             [
              0.4444444444444444,
              "#bd3786"
             ],
             [
              0.5555555555555556,
              "#d8576b"
             ],
             [
              0.6666666666666666,
              "#ed7953"
             ],
             [
              0.7777777777777778,
              "#fb9f3a"
             ],
             [
              0.8888888888888888,
              "#fdca26"
             ],
             [
              1,
              "#f0f921"
             ]
            ],
            "type": "contour"
           }
          ],
          "contourcarpet": [
           {
            "colorbar": {
             "outlinewidth": 0,
             "ticks": ""
            },
            "type": "contourcarpet"
           }
          ],
          "heatmap": [
           {
            "colorbar": {
             "outlinewidth": 0,
             "ticks": ""
            },
            "colorscale": [
             [
              0,
              "#0d0887"
             ],
             [
              0.1111111111111111,
              "#46039f"
             ],
             [
              0.2222222222222222,
              "#7201a8"
             ],
             [
              0.3333333333333333,
              "#9c179e"
             ],
             [
              0.4444444444444444,
              "#bd3786"
             ],
             [
              0.5555555555555556,
              "#d8576b"
             ],
             [
              0.6666666666666666,
              "#ed7953"
             ],
             [
              0.7777777777777778,
              "#fb9f3a"
             ],
             [
              0.8888888888888888,
              "#fdca26"
             ],
             [
              1,
              "#f0f921"
             ]
            ],
            "type": "heatmap"
           }
          ],
          "heatmapgl": [
           {
            "colorbar": {
             "outlinewidth": 0,
             "ticks": ""
            },
            "colorscale": [
             [
              0,
              "#0d0887"
             ],
             [
              0.1111111111111111,
              "#46039f"
             ],
             [
              0.2222222222222222,
              "#7201a8"
             ],
             [
              0.3333333333333333,
              "#9c179e"
             ],
             [
              0.4444444444444444,
              "#bd3786"
             ],
             [
              0.5555555555555556,
              "#d8576b"
             ],
             [
              0.6666666666666666,
              "#ed7953"
             ],
             [
              0.7777777777777778,
              "#fb9f3a"
             ],
             [
              0.8888888888888888,
              "#fdca26"
             ],
             [
              1,
              "#f0f921"
             ]
            ],
            "type": "heatmapgl"
           }
          ],
          "histogram": [
           {
            "marker": {
             "colorbar": {
              "outlinewidth": 0,
              "ticks": ""
             }
            },
            "type": "histogram"
           }
          ],
          "histogram2d": [
           {
            "colorbar": {
             "outlinewidth": 0,
             "ticks": ""
            },
            "colorscale": [
             [
              0,
              "#0d0887"
             ],
             [
              0.1111111111111111,
              "#46039f"
             ],
             [
              0.2222222222222222,
              "#7201a8"
             ],
             [
              0.3333333333333333,
              "#9c179e"
             ],
             [
              0.4444444444444444,
              "#bd3786"
             ],
             [
              0.5555555555555556,
              "#d8576b"
             ],
             [
              0.6666666666666666,
              "#ed7953"
             ],
             [
              0.7777777777777778,
              "#fb9f3a"
             ],
             [
              0.8888888888888888,
              "#fdca26"
             ],
             [
              1,
              "#f0f921"
             ]
            ],
            "type": "histogram2d"
           }
          ],
          "histogram2dcontour": [
           {
            "colorbar": {
             "outlinewidth": 0,
             "ticks": ""
            },
            "colorscale": [
             [
              0,
              "#0d0887"
             ],
             [
              0.1111111111111111,
              "#46039f"
             ],
             [
              0.2222222222222222,
              "#7201a8"
             ],
             [
              0.3333333333333333,
              "#9c179e"
             ],
             [
              0.4444444444444444,
              "#bd3786"
             ],
             [
              0.5555555555555556,
              "#d8576b"
             ],
             [
              0.6666666666666666,
              "#ed7953"
             ],
             [
              0.7777777777777778,
              "#fb9f3a"
             ],
             [
              0.8888888888888888,
              "#fdca26"
             ],
             [
              1,
              "#f0f921"
             ]
            ],
            "type": "histogram2dcontour"
           }
          ],
          "mesh3d": [
           {
            "colorbar": {
             "outlinewidth": 0,
             "ticks": ""
            },
            "type": "mesh3d"
           }
          ],
          "parcoords": [
           {
            "line": {
             "colorbar": {
              "outlinewidth": 0,
              "ticks": ""
             }
            },
            "type": "parcoords"
           }
          ],
          "pie": [
           {
            "automargin": true,
            "type": "pie"
           }
          ],
          "scatter": [
           {
            "marker": {
             "colorbar": {
              "outlinewidth": 0,
              "ticks": ""
             }
            },
            "type": "scatter"
           }
          ],
          "scatter3d": [
           {
            "line": {
             "colorbar": {
              "outlinewidth": 0,
              "ticks": ""
             }
            },
            "marker": {
             "colorbar": {
              "outlinewidth": 0,
              "ticks": ""
             }
            },
            "type": "scatter3d"
           }
          ],
          "scattercarpet": [
           {
            "marker": {
             "colorbar": {
              "outlinewidth": 0,
              "ticks": ""
             }
            },
            "type": "scattercarpet"
           }
          ],
          "scattergeo": [
           {
            "marker": {
             "colorbar": {
              "outlinewidth": 0,
              "ticks": ""
             }
            },
            "type": "scattergeo"
           }
          ],
          "scattergl": [
           {
            "marker": {
             "colorbar": {
              "outlinewidth": 0,
              "ticks": ""
             }
            },
            "type": "scattergl"
           }
          ],
          "scattermapbox": [
           {
            "marker": {
             "colorbar": {
              "outlinewidth": 0,
              "ticks": ""
             }
            },
            "type": "scattermapbox"
           }
          ],
          "scatterpolar": [
           {
            "marker": {
             "colorbar": {
              "outlinewidth": 0,
              "ticks": ""
             }
            },
            "type": "scatterpolar"
           }
          ],
          "scatterpolargl": [
           {
            "marker": {
             "colorbar": {
              "outlinewidth": 0,
              "ticks": ""
             }
            },
            "type": "scatterpolargl"
           }
          ],
          "scatterternary": [
           {
            "marker": {
             "colorbar": {
              "outlinewidth": 0,
              "ticks": ""
             }
            },
            "type": "scatterternary"
           }
          ],
          "surface": [
           {
            "colorbar": {
             "outlinewidth": 0,
             "ticks": ""
            },
            "colorscale": [
             [
              0,
              "#0d0887"
             ],
             [
              0.1111111111111111,
              "#46039f"
             ],
             [
              0.2222222222222222,
              "#7201a8"
             ],
             [
              0.3333333333333333,
              "#9c179e"
             ],
             [
              0.4444444444444444,
              "#bd3786"
             ],
             [
              0.5555555555555556,
              "#d8576b"
             ],
             [
              0.6666666666666666,
              "#ed7953"
             ],
             [
              0.7777777777777778,
              "#fb9f3a"
             ],
             [
              0.8888888888888888,
              "#fdca26"
             ],
             [
              1,
              "#f0f921"
             ]
            ],
            "type": "surface"
           }
          ],
          "table": [
           {
            "cells": {
             "fill": {
              "color": "#EBF0F8"
             },
             "line": {
              "color": "white"
             }
            },
            "header": {
             "fill": {
              "color": "#C8D4E3"
             },
             "line": {
              "color": "white"
             }
            },
            "type": "table"
           }
          ]
         },
         "layout": {
          "annotationdefaults": {
           "arrowcolor": "#2a3f5f",
           "arrowhead": 0,
           "arrowwidth": 1
          },
          "coloraxis": {
           "colorbar": {
            "outlinewidth": 0,
            "ticks": ""
           }
          },
          "colorscale": {
           "diverging": [
            [
             0,
             "#8e0152"
            ],
            [
             0.1,
             "#c51b7d"
            ],
            [
             0.2,
             "#de77ae"
            ],
            [
             0.3,
             "#f1b6da"
            ],
            [
             0.4,
             "#fde0ef"
            ],
            [
             0.5,
             "#f7f7f7"
            ],
            [
             0.6,
             "#e6f5d0"
            ],
            [
             0.7,
             "#b8e186"
            ],
            [
             0.8,
             "#7fbc41"
            ],
            [
             0.9,
             "#4d9221"
            ],
            [
             1,
             "#276419"
            ]
           ],
           "sequential": [
            [
             0,
             "#0d0887"
            ],
            [
             0.1111111111111111,
             "#46039f"
            ],
            [
             0.2222222222222222,
             "#7201a8"
            ],
            [
             0.3333333333333333,
             "#9c179e"
            ],
            [
             0.4444444444444444,
             "#bd3786"
            ],
            [
             0.5555555555555556,
             "#d8576b"
            ],
            [
             0.6666666666666666,
             "#ed7953"
            ],
            [
             0.7777777777777778,
             "#fb9f3a"
            ],
            [
             0.8888888888888888,
             "#fdca26"
            ],
            [
             1,
             "#f0f921"
            ]
           ],
           "sequentialminus": [
            [
             0,
             "#0d0887"
            ],
            [
             0.1111111111111111,
             "#46039f"
            ],
            [
             0.2222222222222222,
             "#7201a8"
            ],
            [
             0.3333333333333333,
             "#9c179e"
            ],
            [
             0.4444444444444444,
             "#bd3786"
            ],
            [
             0.5555555555555556,
             "#d8576b"
            ],
            [
             0.6666666666666666,
             "#ed7953"
            ],
            [
             0.7777777777777778,
             "#fb9f3a"
            ],
            [
             0.8888888888888888,
             "#fdca26"
            ],
            [
             1,
             "#f0f921"
            ]
           ]
          },
          "colorway": [
           "#636efa",
           "#EF553B",
           "#00cc96",
           "#ab63fa",
           "#FFA15A",
           "#19d3f3",
           "#FF6692",
           "#B6E880",
           "#FF97FF",
           "#FECB52"
          ],
          "font": {
           "color": "#2a3f5f"
          },
          "geo": {
           "bgcolor": "white",
           "lakecolor": "white",
           "landcolor": "#E5ECF6",
           "showlakes": true,
           "showland": true,
           "subunitcolor": "white"
          },
          "hoverlabel": {
           "align": "left"
          },
          "hovermode": "closest",
          "mapbox": {
           "style": "light"
          },
          "paper_bgcolor": "white",
          "plot_bgcolor": "#E5ECF6",
          "polar": {
           "angularaxis": {
            "gridcolor": "white",
            "linecolor": "white",
            "ticks": ""
           },
           "bgcolor": "#E5ECF6",
           "radialaxis": {
            "gridcolor": "white",
            "linecolor": "white",
            "ticks": ""
           }
          },
          "scene": {
           "xaxis": {
            "backgroundcolor": "#E5ECF6",
            "gridcolor": "white",
            "gridwidth": 2,
            "linecolor": "white",
            "showbackground": true,
            "ticks": "",
            "zerolinecolor": "white"
           },
           "yaxis": {
            "backgroundcolor": "#E5ECF6",
            "gridcolor": "white",
            "gridwidth": 2,
            "linecolor": "white",
            "showbackground": true,
            "ticks": "",
            "zerolinecolor": "white"
           },
           "zaxis": {
            "backgroundcolor": "#E5ECF6",
            "gridcolor": "white",
            "gridwidth": 2,
            "linecolor": "white",
            "showbackground": true,
            "ticks": "",
            "zerolinecolor": "white"
           }
          },
          "shapedefaults": {
           "line": {
            "color": "#2a3f5f"
           }
          },
          "ternary": {
           "aaxis": {
            "gridcolor": "white",
            "linecolor": "white",
            "ticks": ""
           },
           "baxis": {
            "gridcolor": "white",
            "linecolor": "white",
            "ticks": ""
           },
           "bgcolor": "#E5ECF6",
           "caxis": {
            "gridcolor": "white",
            "linecolor": "white",
            "ticks": ""
           }
          },
          "title": {
           "x": 0.05
          },
          "xaxis": {
           "automargin": true,
           "gridcolor": "white",
           "linecolor": "white",
           "ticks": "",
           "title": {
            "standoff": 15
           },
           "zerolinecolor": "white",
           "zerolinewidth": 2
          },
          "yaxis": {
           "automargin": true,
           "gridcolor": "white",
           "linecolor": "white",
           "ticks": "",
           "title": {
            "standoff": 15
           },
           "zerolinecolor": "white",
           "zerolinewidth": 2
          }
         }
        },
        "title": {
         "text": "Iris Data - Scatter Plot"
        },
        "xaxis": {
         "anchor": "y",
         "domain": [
          0,
          1
         ],
         "title": {
          "text": "sepal_width"
         }
        },
        "yaxis": {
         "anchor": "x",
         "domain": [
          0,
          1
         ],
         "title": {
          "text": "sepal_length"
         }
        }
       }
      },
      "text/html": [
       "<div>\n",
       "        \n",
       "        \n",
       "            <div id=\"9563514c-e576-4565-ba2e-67220dc244bf\" class=\"plotly-graph-div\" style=\"height:525px; width:100%;\"></div>\n",
       "            <script type=\"text/javascript\">\n",
       "                require([\"plotly\"], function(Plotly) {\n",
       "                    window.PLOTLYENV=window.PLOTLYENV || {};\n",
       "                    \n",
       "                if (document.getElementById(\"9563514c-e576-4565-ba2e-67220dc244bf\")) {\n",
       "                    Plotly.newPlot(\n",
       "                        '9563514c-e576-4565-ba2e-67220dc244bf',\n",
       "                        [{\"customdata\": [[0.2], [0.2], [0.2], [0.2], [0.2], [0.4], [0.3], [0.2], [0.2], [0.1], [0.2], [0.2], [0.1], [0.1], [0.2], [0.4], [0.4], [0.3], [0.3], [0.3], [0.2], [0.4], [0.2], [0.5], [0.2], [0.2], [0.4], [0.2], [0.2], [0.2], [0.2], [0.4], [0.1], [0.2], [0.1], [0.2], [0.2], [0.1], [0.2], [0.2], [0.3], [0.3], [0.2], [0.6], [0.4], [0.3], [0.2], [0.2], [0.2], [0.2]], \"hoverlabel\": {\"namelength\": 0}, \"hovertemplate\": \"species=setosa<br>sepal_width=%{x}<br>sepal_length=%{y}<br>petal_length=%{marker.size}<br>petal_width=%{customdata[0]}\", \"legendgroup\": \"setosa\", \"marker\": {\"color\": \"#636efa\", \"size\": [1.4, 1.4, 1.3, 1.5, 1.4, 1.7, 1.4, 1.5, 1.4, 1.5, 1.5, 1.6, 1.4, 1.1, 1.2, 1.5, 1.3, 1.4, 1.7, 1.5, 1.7, 1.5, 1.0, 1.7, 1.9, 1.6, 1.6, 1.5, 1.4, 1.6, 1.6, 1.5, 1.5, 1.4, 1.5, 1.2, 1.3, 1.5, 1.3, 1.5, 1.3, 1.3, 1.3, 1.6, 1.9, 1.4, 1.6, 1.4, 1.5, 1.4], \"sizemode\": \"area\", \"sizeref\": 0.01725, \"symbol\": \"circle\"}, \"mode\": \"markers\", \"name\": \"setosa\", \"showlegend\": true, \"type\": \"scatter\", \"x\": [3.5, 3.0, 3.2, 3.1, 3.6, 3.9, 3.4, 3.4, 2.9, 3.1, 3.7, 3.4, 3.0, 3.0, 4.0, 4.4, 3.9, 3.5, 3.8, 3.8, 3.4, 3.7, 3.6, 3.3, 3.4, 3.0, 3.4, 3.5, 3.4, 3.2, 3.1, 3.4, 4.1, 4.2, 3.1, 3.2, 3.5, 3.1, 3.0, 3.4, 3.5, 2.3, 3.2, 3.5, 3.8, 3.0, 3.8, 3.2, 3.7, 3.3], \"xaxis\": \"x\", \"y\": [5.1, 4.9, 4.7, 4.6, 5.0, 5.4, 4.6, 5.0, 4.4, 4.9, 5.4, 4.8, 4.8, 4.3, 5.8, 5.7, 5.4, 5.1, 5.7, 5.1, 5.4, 5.1, 4.6, 5.1, 4.8, 5.0, 5.0, 5.2, 5.2, 4.7, 4.8, 5.4, 5.2, 5.5, 4.9, 5.0, 5.5, 4.9, 4.4, 5.1, 5.0, 4.5, 4.4, 5.0, 5.1, 4.8, 5.1, 4.6, 5.3, 5.0], \"yaxis\": \"y\"}, {\"customdata\": [[1.4], [1.5], [1.5], [1.3], [1.5], [1.3], [1.6], [1.0], [1.3], [1.4], [1.0], [1.5], [1.0], [1.4], [1.3], [1.4], [1.5], [1.0], [1.5], [1.1], [1.8], [1.3], [1.5], [1.2], [1.3], [1.4], [1.4], [1.7], [1.5], [1.0], [1.1], [1.0], [1.2], [1.6], [1.5], [1.6], [1.5], [1.3], [1.3], [1.3], [1.2], [1.4], [1.2], [1.0], [1.3], [1.2], [1.3], [1.3], [1.1], [1.3]], \"hoverlabel\": {\"namelength\": 0}, \"hovertemplate\": \"species=versicolor<br>sepal_width=%{x}<br>sepal_length=%{y}<br>petal_length=%{marker.size}<br>petal_width=%{customdata[0]}\", \"legendgroup\": \"versicolor\", \"marker\": {\"color\": \"#EF553B\", \"size\": [4.7, 4.5, 4.9, 4.0, 4.6, 4.5, 4.7, 3.3, 4.6, 3.9, 3.5, 4.2, 4.0, 4.7, 3.6, 4.4, 4.5, 4.1, 4.5, 3.9, 4.8, 4.0, 4.9, 4.7, 4.3, 4.4, 4.8, 5.0, 4.5, 3.5, 3.8, 3.7, 3.9, 5.1, 4.5, 4.5, 4.7, 4.4, 4.1, 4.0, 4.4, 4.6, 4.0, 3.3, 4.2, 4.2, 4.2, 4.3, 3.0, 4.1], \"sizemode\": \"area\", \"sizeref\": 0.01725, \"symbol\": \"circle\"}, \"mode\": \"markers\", \"name\": \"versicolor\", \"showlegend\": true, \"type\": \"scatter\", \"x\": [3.2, 3.2, 3.1, 2.3, 2.8, 2.8, 3.3, 2.4, 2.9, 2.7, 2.0, 3.0, 2.2, 2.9, 2.9, 3.1, 3.0, 2.7, 2.2, 2.5, 3.2, 2.8, 2.5, 2.8, 2.9, 3.0, 2.8, 3.0, 2.9, 2.6, 2.4, 2.4, 2.7, 2.7, 3.0, 3.4, 3.1, 2.3, 3.0, 2.5, 2.6, 3.0, 2.6, 2.3, 2.7, 3.0, 2.9, 2.9, 2.5, 2.8], \"xaxis\": \"x\", \"y\": [7.0, 6.4, 6.9, 5.5, 6.5, 5.7, 6.3, 4.9, 6.6, 5.2, 5.0, 5.9, 6.0, 6.1, 5.6, 6.7, 5.6, 5.8, 6.2, 5.6, 5.9, 6.1, 6.3, 6.1, 6.4, 6.6, 6.8, 6.7, 6.0, 5.7, 5.5, 5.5, 5.8, 6.0, 5.4, 6.0, 6.7, 6.3, 5.6, 5.5, 5.5, 6.1, 5.8, 5.0, 5.6, 5.7, 5.7, 6.2, 5.1, 5.7], \"yaxis\": \"y\"}, {\"customdata\": [[2.5], [1.9], [2.1], [1.8], [2.2], [2.1], [1.7], [1.8], [1.8], [2.5], [2.0], [1.9], [2.1], [2.0], [2.4], [2.3], [1.8], [2.2], [2.3], [1.5], [2.3], [2.0], [2.0], [1.8], [2.1], [1.8], [1.8], [1.8], [2.1], [1.6], [1.9], [2.0], [2.2], [1.5], [1.4], [2.3], [2.4], [1.8], [1.8], [2.1], [2.4], [2.3], [1.9], [2.3], [2.5], [2.3], [1.9], [2.0], [2.3], [1.8]], \"hoverlabel\": {\"namelength\": 0}, \"hovertemplate\": \"species=virginica<br>sepal_width=%{x}<br>sepal_length=%{y}<br>petal_length=%{marker.size}<br>petal_width=%{customdata[0]}\", \"legendgroup\": \"virginica\", \"marker\": {\"color\": \"#00cc96\", \"size\": [6.0, 5.1, 5.9, 5.6, 5.8, 6.6, 4.5, 6.3, 5.8, 6.1, 5.1, 5.3, 5.5, 5.0, 5.1, 5.3, 5.5, 6.7, 6.9, 5.0, 5.7, 4.9, 6.7, 4.9, 5.7, 6.0, 4.8, 4.9, 5.6, 5.8, 6.1, 6.4, 5.6, 5.1, 5.6, 6.1, 5.6, 5.5, 4.8, 5.4, 5.6, 5.1, 5.1, 5.9, 5.7, 5.2, 5.0, 5.2, 5.4, 5.1], \"sizemode\": \"area\", \"sizeref\": 0.01725, \"symbol\": \"circle\"}, \"mode\": \"markers\", \"name\": \"virginica\", \"showlegend\": true, \"type\": \"scatter\", \"x\": [3.3, 2.7, 3.0, 2.9, 3.0, 3.0, 2.5, 2.9, 2.5, 3.6, 3.2, 2.7, 3.0, 2.5, 2.8, 3.2, 3.0, 3.8, 2.6, 2.2, 3.2, 2.8, 2.8, 2.7, 3.3, 3.2, 2.8, 3.0, 2.8, 3.0, 2.8, 3.8, 2.8, 2.8, 2.6, 3.0, 3.4, 3.1, 3.0, 3.1, 3.1, 3.1, 2.7, 3.2, 3.3, 3.0, 2.5, 3.0, 3.4, 3.0], \"xaxis\": \"x\", \"y\": [6.3, 5.8, 7.1, 6.3, 6.5, 7.6, 4.9, 7.3, 6.7, 7.2, 6.5, 6.4, 6.8, 5.7, 5.8, 6.4, 6.5, 7.7, 7.7, 6.0, 6.9, 5.6, 7.7, 6.3, 6.7, 7.2, 6.2, 6.1, 6.4, 7.2, 7.4, 7.9, 6.4, 6.3, 6.1, 7.7, 6.3, 6.4, 6.0, 6.9, 6.7, 6.9, 5.8, 6.8, 6.7, 6.7, 6.3, 6.5, 6.2, 5.9], \"yaxis\": \"y\"}],\n",
       "                        {\"legend\": {\"itemsizing\": \"constant\", \"title\": {\"text\": \"species\"}, \"tracegroupgap\": 0}, \"template\": {\"data\": {\"bar\": [{\"error_x\": {\"color\": \"#2a3f5f\"}, \"error_y\": {\"color\": \"#2a3f5f\"}, \"marker\": {\"line\": {\"color\": \"#E5ECF6\", \"width\": 0.5}}, \"type\": \"bar\"}], \"barpolar\": [{\"marker\": {\"line\": {\"color\": \"#E5ECF6\", \"width\": 0.5}}, \"type\": \"barpolar\"}], \"carpet\": [{\"aaxis\": {\"endlinecolor\": \"#2a3f5f\", \"gridcolor\": \"white\", \"linecolor\": \"white\", \"minorgridcolor\": \"white\", \"startlinecolor\": \"#2a3f5f\"}, \"baxis\": {\"endlinecolor\": \"#2a3f5f\", \"gridcolor\": \"white\", \"linecolor\": \"white\", \"minorgridcolor\": \"white\", \"startlinecolor\": \"#2a3f5f\"}, \"type\": \"carpet\"}], \"choropleth\": [{\"colorbar\": {\"outlinewidth\": 0, \"ticks\": \"\"}, \"type\": \"choropleth\"}], \"contour\": [{\"colorbar\": {\"outlinewidth\": 0, \"ticks\": \"\"}, \"colorscale\": [[0.0, \"#0d0887\"], [0.1111111111111111, \"#46039f\"], [0.2222222222222222, \"#7201a8\"], [0.3333333333333333, \"#9c179e\"], [0.4444444444444444, \"#bd3786\"], [0.5555555555555556, \"#d8576b\"], [0.6666666666666666, \"#ed7953\"], [0.7777777777777778, \"#fb9f3a\"], [0.8888888888888888, \"#fdca26\"], [1.0, \"#f0f921\"]], \"type\": \"contour\"}], \"contourcarpet\": [{\"colorbar\": {\"outlinewidth\": 0, \"ticks\": \"\"}, \"type\": \"contourcarpet\"}], \"heatmap\": [{\"colorbar\": {\"outlinewidth\": 0, \"ticks\": \"\"}, \"colorscale\": [[0.0, \"#0d0887\"], [0.1111111111111111, \"#46039f\"], [0.2222222222222222, \"#7201a8\"], [0.3333333333333333, \"#9c179e\"], [0.4444444444444444, \"#bd3786\"], [0.5555555555555556, \"#d8576b\"], [0.6666666666666666, \"#ed7953\"], [0.7777777777777778, \"#fb9f3a\"], [0.8888888888888888, \"#fdca26\"], [1.0, \"#f0f921\"]], \"type\": \"heatmap\"}], \"heatmapgl\": [{\"colorbar\": {\"outlinewidth\": 0, \"ticks\": \"\"}, \"colorscale\": [[0.0, \"#0d0887\"], [0.1111111111111111, \"#46039f\"], [0.2222222222222222, \"#7201a8\"], [0.3333333333333333, \"#9c179e\"], [0.4444444444444444, \"#bd3786\"], [0.5555555555555556, \"#d8576b\"], [0.6666666666666666, \"#ed7953\"], [0.7777777777777778, \"#fb9f3a\"], [0.8888888888888888, \"#fdca26\"], [1.0, \"#f0f921\"]], \"type\": \"heatmapgl\"}], \"histogram\": [{\"marker\": {\"colorbar\": {\"outlinewidth\": 0, \"ticks\": \"\"}}, \"type\": \"histogram\"}], \"histogram2d\": [{\"colorbar\": {\"outlinewidth\": 0, \"ticks\": \"\"}, \"colorscale\": [[0.0, \"#0d0887\"], [0.1111111111111111, \"#46039f\"], [0.2222222222222222, \"#7201a8\"], [0.3333333333333333, \"#9c179e\"], [0.4444444444444444, \"#bd3786\"], [0.5555555555555556, \"#d8576b\"], [0.6666666666666666, \"#ed7953\"], [0.7777777777777778, \"#fb9f3a\"], [0.8888888888888888, \"#fdca26\"], [1.0, \"#f0f921\"]], \"type\": \"histogram2d\"}], \"histogram2dcontour\": [{\"colorbar\": {\"outlinewidth\": 0, \"ticks\": \"\"}, \"colorscale\": [[0.0, \"#0d0887\"], [0.1111111111111111, \"#46039f\"], [0.2222222222222222, \"#7201a8\"], [0.3333333333333333, \"#9c179e\"], [0.4444444444444444, \"#bd3786\"], [0.5555555555555556, \"#d8576b\"], [0.6666666666666666, \"#ed7953\"], [0.7777777777777778, \"#fb9f3a\"], [0.8888888888888888, \"#fdca26\"], [1.0, \"#f0f921\"]], \"type\": \"histogram2dcontour\"}], \"mesh3d\": [{\"colorbar\": {\"outlinewidth\": 0, \"ticks\": \"\"}, \"type\": \"mesh3d\"}], \"parcoords\": [{\"line\": {\"colorbar\": {\"outlinewidth\": 0, \"ticks\": \"\"}}, \"type\": \"parcoords\"}], \"pie\": [{\"automargin\": true, \"type\": \"pie\"}], \"scatter\": [{\"marker\": {\"colorbar\": {\"outlinewidth\": 0, \"ticks\": \"\"}}, \"type\": \"scatter\"}], \"scatter3d\": [{\"line\": {\"colorbar\": {\"outlinewidth\": 0, \"ticks\": \"\"}}, \"marker\": {\"colorbar\": {\"outlinewidth\": 0, \"ticks\": \"\"}}, \"type\": \"scatter3d\"}], \"scattercarpet\": [{\"marker\": {\"colorbar\": {\"outlinewidth\": 0, \"ticks\": \"\"}}, \"type\": \"scattercarpet\"}], \"scattergeo\": [{\"marker\": {\"colorbar\": {\"outlinewidth\": 0, \"ticks\": \"\"}}, \"type\": \"scattergeo\"}], \"scattergl\": [{\"marker\": {\"colorbar\": {\"outlinewidth\": 0, \"ticks\": \"\"}}, \"type\": \"scattergl\"}], \"scattermapbox\": [{\"marker\": {\"colorbar\": {\"outlinewidth\": 0, \"ticks\": \"\"}}, \"type\": \"scattermapbox\"}], \"scatterpolar\": [{\"marker\": {\"colorbar\": {\"outlinewidth\": 0, \"ticks\": \"\"}}, \"type\": \"scatterpolar\"}], \"scatterpolargl\": [{\"marker\": {\"colorbar\": {\"outlinewidth\": 0, \"ticks\": \"\"}}, \"type\": \"scatterpolargl\"}], \"scatterternary\": [{\"marker\": {\"colorbar\": {\"outlinewidth\": 0, \"ticks\": \"\"}}, \"type\": \"scatterternary\"}], \"surface\": [{\"colorbar\": {\"outlinewidth\": 0, \"ticks\": \"\"}, \"colorscale\": [[0.0, \"#0d0887\"], [0.1111111111111111, \"#46039f\"], [0.2222222222222222, \"#7201a8\"], [0.3333333333333333, \"#9c179e\"], [0.4444444444444444, \"#bd3786\"], [0.5555555555555556, \"#d8576b\"], [0.6666666666666666, \"#ed7953\"], [0.7777777777777778, \"#fb9f3a\"], [0.8888888888888888, \"#fdca26\"], [1.0, \"#f0f921\"]], \"type\": \"surface\"}], \"table\": [{\"cells\": {\"fill\": {\"color\": \"#EBF0F8\"}, \"line\": {\"color\": \"white\"}}, \"header\": {\"fill\": {\"color\": \"#C8D4E3\"}, \"line\": {\"color\": \"white\"}}, \"type\": \"table\"}]}, \"layout\": {\"annotationdefaults\": {\"arrowcolor\": \"#2a3f5f\", \"arrowhead\": 0, \"arrowwidth\": 1}, \"coloraxis\": {\"colorbar\": {\"outlinewidth\": 0, \"ticks\": \"\"}}, \"colorscale\": {\"diverging\": [[0, \"#8e0152\"], [0.1, \"#c51b7d\"], [0.2, \"#de77ae\"], [0.3, \"#f1b6da\"], [0.4, \"#fde0ef\"], [0.5, \"#f7f7f7\"], [0.6, \"#e6f5d0\"], [0.7, \"#b8e186\"], [0.8, \"#7fbc41\"], [0.9, \"#4d9221\"], [1, \"#276419\"]], \"sequential\": [[0.0, \"#0d0887\"], [0.1111111111111111, \"#46039f\"], [0.2222222222222222, \"#7201a8\"], [0.3333333333333333, \"#9c179e\"], [0.4444444444444444, \"#bd3786\"], [0.5555555555555556, \"#d8576b\"], [0.6666666666666666, \"#ed7953\"], [0.7777777777777778, \"#fb9f3a\"], [0.8888888888888888, \"#fdca26\"], [1.0, \"#f0f921\"]], \"sequentialminus\": [[0.0, \"#0d0887\"], [0.1111111111111111, \"#46039f\"], [0.2222222222222222, \"#7201a8\"], [0.3333333333333333, \"#9c179e\"], [0.4444444444444444, \"#bd3786\"], [0.5555555555555556, \"#d8576b\"], [0.6666666666666666, \"#ed7953\"], [0.7777777777777778, \"#fb9f3a\"], [0.8888888888888888, \"#fdca26\"], [1.0, \"#f0f921\"]]}, \"colorway\": [\"#636efa\", \"#EF553B\", \"#00cc96\", \"#ab63fa\", \"#FFA15A\", \"#19d3f3\", \"#FF6692\", \"#B6E880\", \"#FF97FF\", \"#FECB52\"], \"font\": {\"color\": \"#2a3f5f\"}, \"geo\": {\"bgcolor\": \"white\", \"lakecolor\": \"white\", \"landcolor\": \"#E5ECF6\", \"showlakes\": true, \"showland\": true, \"subunitcolor\": \"white\"}, \"hoverlabel\": {\"align\": \"left\"}, \"hovermode\": \"closest\", \"mapbox\": {\"style\": \"light\"}, \"paper_bgcolor\": \"white\", \"plot_bgcolor\": \"#E5ECF6\", \"polar\": {\"angularaxis\": {\"gridcolor\": \"white\", \"linecolor\": \"white\", \"ticks\": \"\"}, \"bgcolor\": \"#E5ECF6\", \"radialaxis\": {\"gridcolor\": \"white\", \"linecolor\": \"white\", \"ticks\": \"\"}}, \"scene\": {\"xaxis\": {\"backgroundcolor\": \"#E5ECF6\", \"gridcolor\": \"white\", \"gridwidth\": 2, \"linecolor\": \"white\", \"showbackground\": true, \"ticks\": \"\", \"zerolinecolor\": \"white\"}, \"yaxis\": {\"backgroundcolor\": \"#E5ECF6\", \"gridcolor\": \"white\", \"gridwidth\": 2, \"linecolor\": \"white\", \"showbackground\": true, \"ticks\": \"\", \"zerolinecolor\": \"white\"}, \"zaxis\": {\"backgroundcolor\": \"#E5ECF6\", \"gridcolor\": \"white\", \"gridwidth\": 2, \"linecolor\": \"white\", \"showbackground\": true, \"ticks\": \"\", \"zerolinecolor\": \"white\"}}, \"shapedefaults\": {\"line\": {\"color\": \"#2a3f5f\"}}, \"ternary\": {\"aaxis\": {\"gridcolor\": \"white\", \"linecolor\": \"white\", \"ticks\": \"\"}, \"baxis\": {\"gridcolor\": \"white\", \"linecolor\": \"white\", \"ticks\": \"\"}, \"bgcolor\": \"#E5ECF6\", \"caxis\": {\"gridcolor\": \"white\", \"linecolor\": \"white\", \"ticks\": \"\"}}, \"title\": {\"x\": 0.05}, \"xaxis\": {\"automargin\": true, \"gridcolor\": \"white\", \"linecolor\": \"white\", \"ticks\": \"\", \"title\": {\"standoff\": 15}, \"zerolinecolor\": \"white\", \"zerolinewidth\": 2}, \"yaxis\": {\"automargin\": true, \"gridcolor\": \"white\", \"linecolor\": \"white\", \"ticks\": \"\", \"title\": {\"standoff\": 15}, \"zerolinecolor\": \"white\", \"zerolinewidth\": 2}}}, \"title\": {\"text\": \"Iris Data - Scatter Plot\"}, \"xaxis\": {\"anchor\": \"y\", \"domain\": [0.0, 1.0], \"title\": {\"text\": \"sepal_width\"}}, \"yaxis\": {\"anchor\": \"x\", \"domain\": [0.0, 1.0], \"title\": {\"text\": \"sepal_length\"}}},\n",
       "                        {\"responsive\": true}\n",
       "                    ).then(function(){\n",
       "                            \n",
       "var gd = document.getElementById('9563514c-e576-4565-ba2e-67220dc244bf');\n",
       "var x = new MutationObserver(function (mutations, observer) {{\n",
       "        var display = window.getComputedStyle(gd).display;\n",
       "        if (!display || display === 'none') {{\n",
       "            console.log([gd, 'removed!']);\n",
       "            Plotly.purge(gd);\n",
       "            observer.disconnect();\n",
       "        }}\n",
       "}});\n",
       "\n",
       "// Listen for the removal of the full notebook cells\n",
       "var notebookContainer = gd.closest('#notebook-container');\n",
       "if (notebookContainer) {{\n",
       "    x.observe(notebookContainer, {childList: true});\n",
       "}}\n",
       "\n",
       "// Listen for the clearing of the current output cell\n",
       "var outputEl = gd.closest('.output');\n",
       "if (outputEl) {{\n",
       "    x.observe(outputEl, {childList: true});\n",
       "}}\n",
       "\n",
       "                        })\n",
       "                };\n",
       "                });\n",
       "            </script>\n",
       "        </div>"
      ]
     },
     "metadata": {},
     "output_type": "display_data"
    }
   ],
   "source": [
    "fig = px.scatter(df, x=\"sepal_width\", y=\"sepal_length\",\n",
    "                 color=\"species\", # Species 열의 값에 따라서 색깔 표현\n",
    "                 size='petal_length', # petal_length 에 따라 크기를 변화\n",
    "                 hover_data=['petal_width'], # 참고할 데이터 추가\n",
    "                 title='Iris Data - Scatter Plot' # 그래프 타이틀 지정\n",
    "                )\n",
    "fig.show()"
   ]
  },
  {
   "cell_type": "code",
   "execution_count": 28,
   "id": "66868ec9",
   "metadata": {},
   "outputs": [],
   "source": [
    "value = pd.read_csv('price_crime.csv', encoding='utf-8')"
   ]
  },
  {
   "cell_type": "code",
   "execution_count": 29,
   "id": "0dd3b603",
   "metadata": {},
   "outputs": [
    {
     "data": {
      "text/html": [
       "<div>\n",
       "<style scoped>\n",
       "    .dataframe tbody tr th:only-of-type {\n",
       "        vertical-align: middle;\n",
       "    }\n",
       "\n",
       "    .dataframe tbody tr th {\n",
       "        vertical-align: top;\n",
       "    }\n",
       "\n",
       "    .dataframe thead th {\n",
       "        text-align: right;\n",
       "    }\n",
       "</style>\n",
       "<table border=\"1\" class=\"dataframe\">\n",
       "  <thead>\n",
       "    <tr style=\"text-align: right;\">\n",
       "      <th></th>\n",
       "      <th>Unnamed: 0</th>\n",
       "      <th>지역구</th>\n",
       "      <th>공시지가 대비 5대범죄 발생</th>\n",
       "      <th>5대범죄</th>\n",
       "      <th>살인</th>\n",
       "      <th>강도</th>\n",
       "      <th>강간강제추행</th>\n",
       "      <th>절도</th>\n",
       "      <th>폭력</th>\n",
       "      <th>평균지가</th>\n",
       "      <th>랭크용</th>\n",
       "      <th>랭크</th>\n",
       "    </tr>\n",
       "  </thead>\n",
       "  <tbody>\n",
       "    <tr>\n",
       "      <th>0</th>\n",
       "      <td>0</td>\n",
       "      <td>강남구</td>\n",
       "      <td>2018.0</td>\n",
       "      <td>7512.333333</td>\n",
       "      <td>7.333333</td>\n",
       "      <td>13.000000</td>\n",
       "      <td>624.333333</td>\n",
       "      <td>3034.666667</td>\n",
       "      <td>3833.000000</td>\n",
       "      <td>8.362000e+06</td>\n",
       "      <td>0.089839</td>\n",
       "      <td>6.0</td>\n",
       "    </tr>\n",
       "    <tr>\n",
       "      <th>1</th>\n",
       "      <td>1</td>\n",
       "      <td>강동구</td>\n",
       "      <td>2018.0</td>\n",
       "      <td>4064.666667</td>\n",
       "      <td>4.666667</td>\n",
       "      <td>10.666667</td>\n",
       "      <td>174.000000</td>\n",
       "      <td>1603.333333</td>\n",
       "      <td>2272.000000</td>\n",
       "      <td>4.539267e+06</td>\n",
       "      <td>0.089545</td>\n",
       "      <td>5.0</td>\n",
       "    </tr>\n",
       "    <tr>\n",
       "      <th>2</th>\n",
       "      <td>2</td>\n",
       "      <td>강북구</td>\n",
       "      <td>2018.0</td>\n",
       "      <td>3556.000000</td>\n",
       "      <td>7.333333</td>\n",
       "      <td>5.666667</td>\n",
       "      <td>190.666667</td>\n",
       "      <td>1118.333333</td>\n",
       "      <td>2234.000000</td>\n",
       "      <td>2.118367e+06</td>\n",
       "      <td>0.167865</td>\n",
       "      <td>20.0</td>\n",
       "    </tr>\n",
       "    <tr>\n",
       "      <th>3</th>\n",
       "      <td>3</td>\n",
       "      <td>강서구</td>\n",
       "      <td>2018.0</td>\n",
       "      <td>4896.000000</td>\n",
       "      <td>10.000000</td>\n",
       "      <td>4.333333</td>\n",
       "      <td>297.000000</td>\n",
       "      <td>1887.333333</td>\n",
       "      <td>2697.333333</td>\n",
       "      <td>2.452213e+06</td>\n",
       "      <td>0.199656</td>\n",
       "      <td>21.0</td>\n",
       "    </tr>\n",
       "    <tr>\n",
       "      <th>4</th>\n",
       "      <td>4</td>\n",
       "      <td>관악구</td>\n",
       "      <td>2018.0</td>\n",
       "      <td>5293.000000</td>\n",
       "      <td>10.000000</td>\n",
       "      <td>9.000000</td>\n",
       "      <td>379.666667</td>\n",
       "      <td>2071.333333</td>\n",
       "      <td>2823.000000</td>\n",
       "      <td>1.571440e+06</td>\n",
       "      <td>0.336825</td>\n",
       "      <td>25.0</td>\n",
       "    </tr>\n",
       "    <tr>\n",
       "      <th>5</th>\n",
       "      <td>5</td>\n",
       "      <td>광진구</td>\n",
       "      <td>2018.0</td>\n",
       "      <td>4190.666667</td>\n",
       "      <td>5.666667</td>\n",
       "      <td>7.000000</td>\n",
       "      <td>254.333333</td>\n",
       "      <td>1954.666667</td>\n",
       "      <td>1969.000000</td>\n",
       "      <td>2.596233e+06</td>\n",
       "      <td>0.161413</td>\n",
       "      <td>19.0</td>\n",
       "    </tr>\n",
       "    <tr>\n",
       "      <th>6</th>\n",
       "      <td>6</td>\n",
       "      <td>구로구</td>\n",
       "      <td>2018.0</td>\n",
       "      <td>4804.000000</td>\n",
       "      <td>8.333333</td>\n",
       "      <td>6.666667</td>\n",
       "      <td>268.000000</td>\n",
       "      <td>1786.000000</td>\n",
       "      <td>2735.000000</td>\n",
       "      <td>3.149733e+06</td>\n",
       "      <td>0.152521</td>\n",
       "      <td>17.0</td>\n",
       "    </tr>\n",
       "    <tr>\n",
       "      <th>7</th>\n",
       "      <td>7</td>\n",
       "      <td>금천구</td>\n",
       "      <td>2018.0</td>\n",
       "      <td>3221.000000</td>\n",
       "      <td>5.666667</td>\n",
       "      <td>7.333333</td>\n",
       "      <td>197.666667</td>\n",
       "      <td>1155.333333</td>\n",
       "      <td>1855.000000</td>\n",
       "      <td>2.185560e+06</td>\n",
       "      <td>0.147376</td>\n",
       "      <td>15.0</td>\n",
       "    </tr>\n",
       "    <tr>\n",
       "      <th>8</th>\n",
       "      <td>8</td>\n",
       "      <td>노원구</td>\n",
       "      <td>2018.0</td>\n",
       "      <td>4123.000000</td>\n",
       "      <td>4.333333</td>\n",
       "      <td>5.666667</td>\n",
       "      <td>186.000000</td>\n",
       "      <td>1486.000000</td>\n",
       "      <td>2441.000000</td>\n",
       "      <td>1.233500e+06</td>\n",
       "      <td>0.334252</td>\n",
       "      <td>23.0</td>\n",
       "    </tr>\n",
       "    <tr>\n",
       "      <th>9</th>\n",
       "      <td>9</td>\n",
       "      <td>도봉구</td>\n",
       "      <td>2018.0</td>\n",
       "      <td>2119.333333</td>\n",
       "      <td>1.000000</td>\n",
       "      <td>4.333333</td>\n",
       "      <td>102.333333</td>\n",
       "      <td>734.666667</td>\n",
       "      <td>1277.000000</td>\n",
       "      <td>1.431373e+06</td>\n",
       "      <td>0.148063</td>\n",
       "      <td>16.0</td>\n",
       "    </tr>\n",
       "    <tr>\n",
       "      <th>10</th>\n",
       "      <td>10</td>\n",
       "      <td>동대문구</td>\n",
       "      <td>2018.0</td>\n",
       "      <td>3782.333333</td>\n",
       "      <td>6.333333</td>\n",
       "      <td>6.000000</td>\n",
       "      <td>159.333333</td>\n",
       "      <td>1508.333333</td>\n",
       "      <td>2102.333333</td>\n",
       "      <td>2.961200e+06</td>\n",
       "      <td>0.127730</td>\n",
       "      <td>12.0</td>\n",
       "    </tr>\n",
       "    <tr>\n",
       "      <th>11</th>\n",
       "      <td>11</td>\n",
       "      <td>동작구</td>\n",
       "      <td>2018.0</td>\n",
       "      <td>3276.666667</td>\n",
       "      <td>2.666667</td>\n",
       "      <td>5.000000</td>\n",
       "      <td>311.666667</td>\n",
       "      <td>1235.000000</td>\n",
       "      <td>1722.333333</td>\n",
       "      <td>3.751867e+06</td>\n",
       "      <td>0.087334</td>\n",
       "      <td>4.0</td>\n",
       "    </tr>\n",
       "    <tr>\n",
       "      <th>12</th>\n",
       "      <td>12</td>\n",
       "      <td>마포구</td>\n",
       "      <td>2018.0</td>\n",
       "      <td>5097.333333</td>\n",
       "      <td>3.666667</td>\n",
       "      <td>5.333333</td>\n",
       "      <td>489.333333</td>\n",
       "      <td>2098.333333</td>\n",
       "      <td>2500.666667</td>\n",
       "      <td>4.147933e+06</td>\n",
       "      <td>0.122889</td>\n",
       "      <td>11.0</td>\n",
       "    </tr>\n",
       "    <tr>\n",
       "      <th>13</th>\n",
       "      <td>13</td>\n",
       "      <td>서대문구</td>\n",
       "      <td>2018.0</td>\n",
       "      <td>2952.666667</td>\n",
       "      <td>3.666667</td>\n",
       "      <td>3.000000</td>\n",
       "      <td>194.333333</td>\n",
       "      <td>1172.666667</td>\n",
       "      <td>1579.000000</td>\n",
       "      <td>5.484527e+06</td>\n",
       "      <td>0.053836</td>\n",
       "      <td>3.0</td>\n",
       "    </tr>\n",
       "    <tr>\n",
       "      <th>14</th>\n",
       "      <td>14</td>\n",
       "      <td>서초구</td>\n",
       "      <td>2018.0</td>\n",
       "      <td>4992.000000</td>\n",
       "      <td>6.333333</td>\n",
       "      <td>8.333333</td>\n",
       "      <td>518.666667</td>\n",
       "      <td>1977.666667</td>\n",
       "      <td>2481.000000</td>\n",
       "      <td>5.125127e+06</td>\n",
       "      <td>0.097402</td>\n",
       "      <td>8.0</td>\n",
       "    </tr>\n",
       "    <tr>\n",
       "      <th>15</th>\n",
       "      <td>15</td>\n",
       "      <td>성동구</td>\n",
       "      <td>2018.0</td>\n",
       "      <td>2578.666667</td>\n",
       "      <td>3.000000</td>\n",
       "      <td>5.666667</td>\n",
       "      <td>130.333333</td>\n",
       "      <td>1013.666667</td>\n",
       "      <td>1426.000000</td>\n",
       "      <td>4.918400e+06</td>\n",
       "      <td>0.052429</td>\n",
       "      <td>2.0</td>\n",
       "    </tr>\n",
       "    <tr>\n",
       "      <th>16</th>\n",
       "      <td>16</td>\n",
       "      <td>성북구</td>\n",
       "      <td>2018.0</td>\n",
       "      <td>3117.666667</td>\n",
       "      <td>5.666667</td>\n",
       "      <td>4.000000</td>\n",
       "      <td>177.333333</td>\n",
       "      <td>1196.666667</td>\n",
       "      <td>1734.000000</td>\n",
       "      <td>2.806593e+06</td>\n",
       "      <td>0.111084</td>\n",
       "      <td>9.0</td>\n",
       "    </tr>\n",
       "    <tr>\n",
       "      <th>17</th>\n",
       "      <td>17</td>\n",
       "      <td>송파구</td>\n",
       "      <td>2018.0</td>\n",
       "      <td>5693.666667</td>\n",
       "      <td>6.000000</td>\n",
       "      <td>5.666667</td>\n",
       "      <td>290.000000</td>\n",
       "      <td>2347.333333</td>\n",
       "      <td>3044.666667</td>\n",
       "      <td>4.911067e+06</td>\n",
       "      <td>0.115935</td>\n",
       "      <td>10.0</td>\n",
       "    </tr>\n",
       "    <tr>\n",
       "      <th>18</th>\n",
       "      <td>18</td>\n",
       "      <td>양천구</td>\n",
       "      <td>2018.0</td>\n",
       "      <td>3537.000000</td>\n",
       "      <td>3.666667</td>\n",
       "      <td>3.000000</td>\n",
       "      <td>128.333333</td>\n",
       "      <td>1483.666667</td>\n",
       "      <td>1918.333333</td>\n",
       "      <td>2.575647e+06</td>\n",
       "      <td>0.137325</td>\n",
       "      <td>13.0</td>\n",
       "    </tr>\n",
       "    <tr>\n",
       "      <th>19</th>\n",
       "      <td>19</td>\n",
       "      <td>영등포구</td>\n",
       "      <td>2018.0</td>\n",
       "      <td>5876.333333</td>\n",
       "      <td>14.000000</td>\n",
       "      <td>5.333333</td>\n",
       "      <td>400.666667</td>\n",
       "      <td>2335.000000</td>\n",
       "      <td>3121.333333</td>\n",
       "      <td>2.202013e+06</td>\n",
       "      <td>0.266862</td>\n",
       "      <td>22.0</td>\n",
       "    </tr>\n",
       "    <tr>\n",
       "      <th>20</th>\n",
       "      <td>20</td>\n",
       "      <td>용산구</td>\n",
       "      <td>2018.0</td>\n",
       "      <td>3594.666667</td>\n",
       "      <td>1.666667</td>\n",
       "      <td>3.666667</td>\n",
       "      <td>310.000000</td>\n",
       "      <td>1147.000000</td>\n",
       "      <td>2132.333333</td>\n",
       "      <td>3.864653e+06</td>\n",
       "      <td>0.093014</td>\n",
       "      <td>7.0</td>\n",
       "    </tr>\n",
       "    <tr>\n",
       "      <th>21</th>\n",
       "      <td>21</td>\n",
       "      <td>은평구</td>\n",
       "      <td>2018.0</td>\n",
       "      <td>3784.333333</td>\n",
       "      <td>5.666667</td>\n",
       "      <td>2.000000</td>\n",
       "      <td>204.000000</td>\n",
       "      <td>1410.000000</td>\n",
       "      <td>2162.666667</td>\n",
       "      <td>2.714113e+06</td>\n",
       "      <td>0.139432</td>\n",
       "      <td>14.0</td>\n",
       "    </tr>\n",
       "    <tr>\n",
       "      <th>22</th>\n",
       "      <td>22</td>\n",
       "      <td>종로구</td>\n",
       "      <td>2018.0</td>\n",
       "      <td>3864.333333</td>\n",
       "      <td>5.666667</td>\n",
       "      <td>6.666667</td>\n",
       "      <td>242.333333</td>\n",
       "      <td>1547.333333</td>\n",
       "      <td>2062.333333</td>\n",
       "      <td>2.530773e+06</td>\n",
       "      <td>0.152694</td>\n",
       "      <td>18.0</td>\n",
       "    </tr>\n",
       "    <tr>\n",
       "      <th>23</th>\n",
       "      <td>23</td>\n",
       "      <td>중구</td>\n",
       "      <td>2018.0</td>\n",
       "      <td>4180.333333</td>\n",
       "      <td>1.666667</td>\n",
       "      <td>8.666667</td>\n",
       "      <td>223.000000</td>\n",
       "      <td>1967.666667</td>\n",
       "      <td>1979.333333</td>\n",
       "      <td>1.785933e+07</td>\n",
       "      <td>0.023407</td>\n",
       "      <td>1.0</td>\n",
       "    </tr>\n",
       "    <tr>\n",
       "      <th>24</th>\n",
       "      <td>24</td>\n",
       "      <td>중랑구</td>\n",
       "      <td>2018.0</td>\n",
       "      <td>4375.666667</td>\n",
       "      <td>6.333333</td>\n",
       "      <td>3.333333</td>\n",
       "      <td>161.333333</td>\n",
       "      <td>1575.000000</td>\n",
       "      <td>2629.666667</td>\n",
       "      <td>1.308680e+06</td>\n",
       "      <td>0.334357</td>\n",
       "      <td>24.0</td>\n",
       "    </tr>\n",
       "  </tbody>\n",
       "</table>\n",
       "</div>"
      ],
      "text/plain": [
       "    Unnamed: 0   지역구  공시지가 대비 5대범죄 발생         5대범죄         살인         강도  \\\n",
       "0            0   강남구           2018.0  7512.333333   7.333333  13.000000   \n",
       "1            1   강동구           2018.0  4064.666667   4.666667  10.666667   \n",
       "2            2   강북구           2018.0  3556.000000   7.333333   5.666667   \n",
       "3            3   강서구           2018.0  4896.000000  10.000000   4.333333   \n",
       "4            4   관악구           2018.0  5293.000000  10.000000   9.000000   \n",
       "5            5   광진구           2018.0  4190.666667   5.666667   7.000000   \n",
       "6            6   구로구           2018.0  4804.000000   8.333333   6.666667   \n",
       "7            7   금천구           2018.0  3221.000000   5.666667   7.333333   \n",
       "8            8   노원구           2018.0  4123.000000   4.333333   5.666667   \n",
       "9            9   도봉구           2018.0  2119.333333   1.000000   4.333333   \n",
       "10          10  동대문구           2018.0  3782.333333   6.333333   6.000000   \n",
       "11          11   동작구           2018.0  3276.666667   2.666667   5.000000   \n",
       "12          12   마포구           2018.0  5097.333333   3.666667   5.333333   \n",
       "13          13  서대문구           2018.0  2952.666667   3.666667   3.000000   \n",
       "14          14   서초구           2018.0  4992.000000   6.333333   8.333333   \n",
       "15          15   성동구           2018.0  2578.666667   3.000000   5.666667   \n",
       "16          16   성북구           2018.0  3117.666667   5.666667   4.000000   \n",
       "17          17   송파구           2018.0  5693.666667   6.000000   5.666667   \n",
       "18          18   양천구           2018.0  3537.000000   3.666667   3.000000   \n",
       "19          19  영등포구           2018.0  5876.333333  14.000000   5.333333   \n",
       "20          20   용산구           2018.0  3594.666667   1.666667   3.666667   \n",
       "21          21   은평구           2018.0  3784.333333   5.666667   2.000000   \n",
       "22          22   종로구           2018.0  3864.333333   5.666667   6.666667   \n",
       "23          23    중구           2018.0  4180.333333   1.666667   8.666667   \n",
       "24          24   중랑구           2018.0  4375.666667   6.333333   3.333333   \n",
       "\n",
       "        강간강제추행           절도           폭력          평균지가       랭크용    랭크  \n",
       "0   624.333333  3034.666667  3833.000000  8.362000e+06  0.089839   6.0  \n",
       "1   174.000000  1603.333333  2272.000000  4.539267e+06  0.089545   5.0  \n",
       "2   190.666667  1118.333333  2234.000000  2.118367e+06  0.167865  20.0  \n",
       "3   297.000000  1887.333333  2697.333333  2.452213e+06  0.199656  21.0  \n",
       "4   379.666667  2071.333333  2823.000000  1.571440e+06  0.336825  25.0  \n",
       "5   254.333333  1954.666667  1969.000000  2.596233e+06  0.161413  19.0  \n",
       "6   268.000000  1786.000000  2735.000000  3.149733e+06  0.152521  17.0  \n",
       "7   197.666667  1155.333333  1855.000000  2.185560e+06  0.147376  15.0  \n",
       "8   186.000000  1486.000000  2441.000000  1.233500e+06  0.334252  23.0  \n",
       "9   102.333333   734.666667  1277.000000  1.431373e+06  0.148063  16.0  \n",
       "10  159.333333  1508.333333  2102.333333  2.961200e+06  0.127730  12.0  \n",
       "11  311.666667  1235.000000  1722.333333  3.751867e+06  0.087334   4.0  \n",
       "12  489.333333  2098.333333  2500.666667  4.147933e+06  0.122889  11.0  \n",
       "13  194.333333  1172.666667  1579.000000  5.484527e+06  0.053836   3.0  \n",
       "14  518.666667  1977.666667  2481.000000  5.125127e+06  0.097402   8.0  \n",
       "15  130.333333  1013.666667  1426.000000  4.918400e+06  0.052429   2.0  \n",
       "16  177.333333  1196.666667  1734.000000  2.806593e+06  0.111084   9.0  \n",
       "17  290.000000  2347.333333  3044.666667  4.911067e+06  0.115935  10.0  \n",
       "18  128.333333  1483.666667  1918.333333  2.575647e+06  0.137325  13.0  \n",
       "19  400.666667  2335.000000  3121.333333  2.202013e+06  0.266862  22.0  \n",
       "20  310.000000  1147.000000  2132.333333  3.864653e+06  0.093014   7.0  \n",
       "21  204.000000  1410.000000  2162.666667  2.714113e+06  0.139432  14.0  \n",
       "22  242.333333  1547.333333  2062.333333  2.530773e+06  0.152694  18.0  \n",
       "23  223.000000  1967.666667  1979.333333  1.785933e+07  0.023407   1.0  \n",
       "24  161.333333  1575.000000  2629.666667  1.308680e+06  0.334357  24.0  "
      ]
     },
     "execution_count": 29,
     "metadata": {},
     "output_type": "execute_result"
    }
   ],
   "source": [
    "value"
   ]
  },
  {
   "cell_type": "code",
   "execution_count": 30,
   "id": "6cd17d4a",
   "metadata": {},
   "outputs": [],
   "source": [
    "value.drop(\"Unnamed: 0\", axis=1, inplace=True)"
   ]
  },
  {
   "cell_type": "code",
   "execution_count": 31,
   "id": "2abe0a81",
   "metadata": {},
   "outputs": [],
   "source": [
    "value.drop(\"랭크용\", axis=1, inplace=True)"
   ]
  },
  {
   "cell_type": "code",
   "execution_count": 32,
   "id": "d8684110",
   "metadata": {},
   "outputs": [
    {
     "data": {
      "text/html": [
       "<div>\n",
       "<style scoped>\n",
       "    .dataframe tbody tr th:only-of-type {\n",
       "        vertical-align: middle;\n",
       "    }\n",
       "\n",
       "    .dataframe tbody tr th {\n",
       "        vertical-align: top;\n",
       "    }\n",
       "\n",
       "    .dataframe thead th {\n",
       "        text-align: right;\n",
       "    }\n",
       "</style>\n",
       "<table border=\"1\" class=\"dataframe\">\n",
       "  <thead>\n",
       "    <tr style=\"text-align: right;\">\n",
       "      <th></th>\n",
       "      <th>지역구</th>\n",
       "      <th>공시지가 대비 5대범죄 발생</th>\n",
       "      <th>5대범죄</th>\n",
       "      <th>살인</th>\n",
       "      <th>강도</th>\n",
       "      <th>강간강제추행</th>\n",
       "      <th>절도</th>\n",
       "      <th>폭력</th>\n",
       "      <th>평균지가</th>\n",
       "      <th>랭크</th>\n",
       "    </tr>\n",
       "  </thead>\n",
       "  <tbody>\n",
       "    <tr>\n",
       "      <th>0</th>\n",
       "      <td>강남구</td>\n",
       "      <td>2018.0</td>\n",
       "      <td>7512.333333</td>\n",
       "      <td>7.333333</td>\n",
       "      <td>13.000000</td>\n",
       "      <td>624.333333</td>\n",
       "      <td>3034.666667</td>\n",
       "      <td>3833.000000</td>\n",
       "      <td>8.362000e+06</td>\n",
       "      <td>6.0</td>\n",
       "    </tr>\n",
       "    <tr>\n",
       "      <th>1</th>\n",
       "      <td>강동구</td>\n",
       "      <td>2018.0</td>\n",
       "      <td>4064.666667</td>\n",
       "      <td>4.666667</td>\n",
       "      <td>10.666667</td>\n",
       "      <td>174.000000</td>\n",
       "      <td>1603.333333</td>\n",
       "      <td>2272.000000</td>\n",
       "      <td>4.539267e+06</td>\n",
       "      <td>5.0</td>\n",
       "    </tr>\n",
       "    <tr>\n",
       "      <th>2</th>\n",
       "      <td>강북구</td>\n",
       "      <td>2018.0</td>\n",
       "      <td>3556.000000</td>\n",
       "      <td>7.333333</td>\n",
       "      <td>5.666667</td>\n",
       "      <td>190.666667</td>\n",
       "      <td>1118.333333</td>\n",
       "      <td>2234.000000</td>\n",
       "      <td>2.118367e+06</td>\n",
       "      <td>20.0</td>\n",
       "    </tr>\n",
       "    <tr>\n",
       "      <th>3</th>\n",
       "      <td>강서구</td>\n",
       "      <td>2018.0</td>\n",
       "      <td>4896.000000</td>\n",
       "      <td>10.000000</td>\n",
       "      <td>4.333333</td>\n",
       "      <td>297.000000</td>\n",
       "      <td>1887.333333</td>\n",
       "      <td>2697.333333</td>\n",
       "      <td>2.452213e+06</td>\n",
       "      <td>21.0</td>\n",
       "    </tr>\n",
       "    <tr>\n",
       "      <th>4</th>\n",
       "      <td>관악구</td>\n",
       "      <td>2018.0</td>\n",
       "      <td>5293.000000</td>\n",
       "      <td>10.000000</td>\n",
       "      <td>9.000000</td>\n",
       "      <td>379.666667</td>\n",
       "      <td>2071.333333</td>\n",
       "      <td>2823.000000</td>\n",
       "      <td>1.571440e+06</td>\n",
       "      <td>25.0</td>\n",
       "    </tr>\n",
       "    <tr>\n",
       "      <th>5</th>\n",
       "      <td>광진구</td>\n",
       "      <td>2018.0</td>\n",
       "      <td>4190.666667</td>\n",
       "      <td>5.666667</td>\n",
       "      <td>7.000000</td>\n",
       "      <td>254.333333</td>\n",
       "      <td>1954.666667</td>\n",
       "      <td>1969.000000</td>\n",
       "      <td>2.596233e+06</td>\n",
       "      <td>19.0</td>\n",
       "    </tr>\n",
       "    <tr>\n",
       "      <th>6</th>\n",
       "      <td>구로구</td>\n",
       "      <td>2018.0</td>\n",
       "      <td>4804.000000</td>\n",
       "      <td>8.333333</td>\n",
       "      <td>6.666667</td>\n",
       "      <td>268.000000</td>\n",
       "      <td>1786.000000</td>\n",
       "      <td>2735.000000</td>\n",
       "      <td>3.149733e+06</td>\n",
       "      <td>17.0</td>\n",
       "    </tr>\n",
       "    <tr>\n",
       "      <th>7</th>\n",
       "      <td>금천구</td>\n",
       "      <td>2018.0</td>\n",
       "      <td>3221.000000</td>\n",
       "      <td>5.666667</td>\n",
       "      <td>7.333333</td>\n",
       "      <td>197.666667</td>\n",
       "      <td>1155.333333</td>\n",
       "      <td>1855.000000</td>\n",
       "      <td>2.185560e+06</td>\n",
       "      <td>15.0</td>\n",
       "    </tr>\n",
       "    <tr>\n",
       "      <th>8</th>\n",
       "      <td>노원구</td>\n",
       "      <td>2018.0</td>\n",
       "      <td>4123.000000</td>\n",
       "      <td>4.333333</td>\n",
       "      <td>5.666667</td>\n",
       "      <td>186.000000</td>\n",
       "      <td>1486.000000</td>\n",
       "      <td>2441.000000</td>\n",
       "      <td>1.233500e+06</td>\n",
       "      <td>23.0</td>\n",
       "    </tr>\n",
       "    <tr>\n",
       "      <th>9</th>\n",
       "      <td>도봉구</td>\n",
       "      <td>2018.0</td>\n",
       "      <td>2119.333333</td>\n",
       "      <td>1.000000</td>\n",
       "      <td>4.333333</td>\n",
       "      <td>102.333333</td>\n",
       "      <td>734.666667</td>\n",
       "      <td>1277.000000</td>\n",
       "      <td>1.431373e+06</td>\n",
       "      <td>16.0</td>\n",
       "    </tr>\n",
       "    <tr>\n",
       "      <th>10</th>\n",
       "      <td>동대문구</td>\n",
       "      <td>2018.0</td>\n",
       "      <td>3782.333333</td>\n",
       "      <td>6.333333</td>\n",
       "      <td>6.000000</td>\n",
       "      <td>159.333333</td>\n",
       "      <td>1508.333333</td>\n",
       "      <td>2102.333333</td>\n",
       "      <td>2.961200e+06</td>\n",
       "      <td>12.0</td>\n",
       "    </tr>\n",
       "    <tr>\n",
       "      <th>11</th>\n",
       "      <td>동작구</td>\n",
       "      <td>2018.0</td>\n",
       "      <td>3276.666667</td>\n",
       "      <td>2.666667</td>\n",
       "      <td>5.000000</td>\n",
       "      <td>311.666667</td>\n",
       "      <td>1235.000000</td>\n",
       "      <td>1722.333333</td>\n",
       "      <td>3.751867e+06</td>\n",
       "      <td>4.0</td>\n",
       "    </tr>\n",
       "    <tr>\n",
       "      <th>12</th>\n",
       "      <td>마포구</td>\n",
       "      <td>2018.0</td>\n",
       "      <td>5097.333333</td>\n",
       "      <td>3.666667</td>\n",
       "      <td>5.333333</td>\n",
       "      <td>489.333333</td>\n",
       "      <td>2098.333333</td>\n",
       "      <td>2500.666667</td>\n",
       "      <td>4.147933e+06</td>\n",
       "      <td>11.0</td>\n",
       "    </tr>\n",
       "    <tr>\n",
       "      <th>13</th>\n",
       "      <td>서대문구</td>\n",
       "      <td>2018.0</td>\n",
       "      <td>2952.666667</td>\n",
       "      <td>3.666667</td>\n",
       "      <td>3.000000</td>\n",
       "      <td>194.333333</td>\n",
       "      <td>1172.666667</td>\n",
       "      <td>1579.000000</td>\n",
       "      <td>5.484527e+06</td>\n",
       "      <td>3.0</td>\n",
       "    </tr>\n",
       "    <tr>\n",
       "      <th>14</th>\n",
       "      <td>서초구</td>\n",
       "      <td>2018.0</td>\n",
       "      <td>4992.000000</td>\n",
       "      <td>6.333333</td>\n",
       "      <td>8.333333</td>\n",
       "      <td>518.666667</td>\n",
       "      <td>1977.666667</td>\n",
       "      <td>2481.000000</td>\n",
       "      <td>5.125127e+06</td>\n",
       "      <td>8.0</td>\n",
       "    </tr>\n",
       "    <tr>\n",
       "      <th>15</th>\n",
       "      <td>성동구</td>\n",
       "      <td>2018.0</td>\n",
       "      <td>2578.666667</td>\n",
       "      <td>3.000000</td>\n",
       "      <td>5.666667</td>\n",
       "      <td>130.333333</td>\n",
       "      <td>1013.666667</td>\n",
       "      <td>1426.000000</td>\n",
       "      <td>4.918400e+06</td>\n",
       "      <td>2.0</td>\n",
       "    </tr>\n",
       "    <tr>\n",
       "      <th>16</th>\n",
       "      <td>성북구</td>\n",
       "      <td>2018.0</td>\n",
       "      <td>3117.666667</td>\n",
       "      <td>5.666667</td>\n",
       "      <td>4.000000</td>\n",
       "      <td>177.333333</td>\n",
       "      <td>1196.666667</td>\n",
       "      <td>1734.000000</td>\n",
       "      <td>2.806593e+06</td>\n",
       "      <td>9.0</td>\n",
       "    </tr>\n",
       "    <tr>\n",
       "      <th>17</th>\n",
       "      <td>송파구</td>\n",
       "      <td>2018.0</td>\n",
       "      <td>5693.666667</td>\n",
       "      <td>6.000000</td>\n",
       "      <td>5.666667</td>\n",
       "      <td>290.000000</td>\n",
       "      <td>2347.333333</td>\n",
       "      <td>3044.666667</td>\n",
       "      <td>4.911067e+06</td>\n",
       "      <td>10.0</td>\n",
       "    </tr>\n",
       "    <tr>\n",
       "      <th>18</th>\n",
       "      <td>양천구</td>\n",
       "      <td>2018.0</td>\n",
       "      <td>3537.000000</td>\n",
       "      <td>3.666667</td>\n",
       "      <td>3.000000</td>\n",
       "      <td>128.333333</td>\n",
       "      <td>1483.666667</td>\n",
       "      <td>1918.333333</td>\n",
       "      <td>2.575647e+06</td>\n",
       "      <td>13.0</td>\n",
       "    </tr>\n",
       "    <tr>\n",
       "      <th>19</th>\n",
       "      <td>영등포구</td>\n",
       "      <td>2018.0</td>\n",
       "      <td>5876.333333</td>\n",
       "      <td>14.000000</td>\n",
       "      <td>5.333333</td>\n",
       "      <td>400.666667</td>\n",
       "      <td>2335.000000</td>\n",
       "      <td>3121.333333</td>\n",
       "      <td>2.202013e+06</td>\n",
       "      <td>22.0</td>\n",
       "    </tr>\n",
       "    <tr>\n",
       "      <th>20</th>\n",
       "      <td>용산구</td>\n",
       "      <td>2018.0</td>\n",
       "      <td>3594.666667</td>\n",
       "      <td>1.666667</td>\n",
       "      <td>3.666667</td>\n",
       "      <td>310.000000</td>\n",
       "      <td>1147.000000</td>\n",
       "      <td>2132.333333</td>\n",
       "      <td>3.864653e+06</td>\n",
       "      <td>7.0</td>\n",
       "    </tr>\n",
       "    <tr>\n",
       "      <th>21</th>\n",
       "      <td>은평구</td>\n",
       "      <td>2018.0</td>\n",
       "      <td>3784.333333</td>\n",
       "      <td>5.666667</td>\n",
       "      <td>2.000000</td>\n",
       "      <td>204.000000</td>\n",
       "      <td>1410.000000</td>\n",
       "      <td>2162.666667</td>\n",
       "      <td>2.714113e+06</td>\n",
       "      <td>14.0</td>\n",
       "    </tr>\n",
       "    <tr>\n",
       "      <th>22</th>\n",
       "      <td>종로구</td>\n",
       "      <td>2018.0</td>\n",
       "      <td>3864.333333</td>\n",
       "      <td>5.666667</td>\n",
       "      <td>6.666667</td>\n",
       "      <td>242.333333</td>\n",
       "      <td>1547.333333</td>\n",
       "      <td>2062.333333</td>\n",
       "      <td>2.530773e+06</td>\n",
       "      <td>18.0</td>\n",
       "    </tr>\n",
       "    <tr>\n",
       "      <th>23</th>\n",
       "      <td>중구</td>\n",
       "      <td>2018.0</td>\n",
       "      <td>4180.333333</td>\n",
       "      <td>1.666667</td>\n",
       "      <td>8.666667</td>\n",
       "      <td>223.000000</td>\n",
       "      <td>1967.666667</td>\n",
       "      <td>1979.333333</td>\n",
       "      <td>1.785933e+07</td>\n",
       "      <td>1.0</td>\n",
       "    </tr>\n",
       "    <tr>\n",
       "      <th>24</th>\n",
       "      <td>중랑구</td>\n",
       "      <td>2018.0</td>\n",
       "      <td>4375.666667</td>\n",
       "      <td>6.333333</td>\n",
       "      <td>3.333333</td>\n",
       "      <td>161.333333</td>\n",
       "      <td>1575.000000</td>\n",
       "      <td>2629.666667</td>\n",
       "      <td>1.308680e+06</td>\n",
       "      <td>24.0</td>\n",
       "    </tr>\n",
       "  </tbody>\n",
       "</table>\n",
       "</div>"
      ],
      "text/plain": [
       "     지역구  공시지가 대비 5대범죄 발생         5대범죄         살인         강도      강간강제추행  \\\n",
       "0    강남구           2018.0  7512.333333   7.333333  13.000000  624.333333   \n",
       "1    강동구           2018.0  4064.666667   4.666667  10.666667  174.000000   \n",
       "2    강북구           2018.0  3556.000000   7.333333   5.666667  190.666667   \n",
       "3    강서구           2018.0  4896.000000  10.000000   4.333333  297.000000   \n",
       "4    관악구           2018.0  5293.000000  10.000000   9.000000  379.666667   \n",
       "5    광진구           2018.0  4190.666667   5.666667   7.000000  254.333333   \n",
       "6    구로구           2018.0  4804.000000   8.333333   6.666667  268.000000   \n",
       "7    금천구           2018.0  3221.000000   5.666667   7.333333  197.666667   \n",
       "8    노원구           2018.0  4123.000000   4.333333   5.666667  186.000000   \n",
       "9    도봉구           2018.0  2119.333333   1.000000   4.333333  102.333333   \n",
       "10  동대문구           2018.0  3782.333333   6.333333   6.000000  159.333333   \n",
       "11   동작구           2018.0  3276.666667   2.666667   5.000000  311.666667   \n",
       "12   마포구           2018.0  5097.333333   3.666667   5.333333  489.333333   \n",
       "13  서대문구           2018.0  2952.666667   3.666667   3.000000  194.333333   \n",
       "14   서초구           2018.0  4992.000000   6.333333   8.333333  518.666667   \n",
       "15   성동구           2018.0  2578.666667   3.000000   5.666667  130.333333   \n",
       "16   성북구           2018.0  3117.666667   5.666667   4.000000  177.333333   \n",
       "17   송파구           2018.0  5693.666667   6.000000   5.666667  290.000000   \n",
       "18   양천구           2018.0  3537.000000   3.666667   3.000000  128.333333   \n",
       "19  영등포구           2018.0  5876.333333  14.000000   5.333333  400.666667   \n",
       "20   용산구           2018.0  3594.666667   1.666667   3.666667  310.000000   \n",
       "21   은평구           2018.0  3784.333333   5.666667   2.000000  204.000000   \n",
       "22   종로구           2018.0  3864.333333   5.666667   6.666667  242.333333   \n",
       "23    중구           2018.0  4180.333333   1.666667   8.666667  223.000000   \n",
       "24   중랑구           2018.0  4375.666667   6.333333   3.333333  161.333333   \n",
       "\n",
       "             절도           폭력          평균지가    랭크  \n",
       "0   3034.666667  3833.000000  8.362000e+06   6.0  \n",
       "1   1603.333333  2272.000000  4.539267e+06   5.0  \n",
       "2   1118.333333  2234.000000  2.118367e+06  20.0  \n",
       "3   1887.333333  2697.333333  2.452213e+06  21.0  \n",
       "4   2071.333333  2823.000000  1.571440e+06  25.0  \n",
       "5   1954.666667  1969.000000  2.596233e+06  19.0  \n",
       "6   1786.000000  2735.000000  3.149733e+06  17.0  \n",
       "7   1155.333333  1855.000000  2.185560e+06  15.0  \n",
       "8   1486.000000  2441.000000  1.233500e+06  23.0  \n",
       "9    734.666667  1277.000000  1.431373e+06  16.0  \n",
       "10  1508.333333  2102.333333  2.961200e+06  12.0  \n",
       "11  1235.000000  1722.333333  3.751867e+06   4.0  \n",
       "12  2098.333333  2500.666667  4.147933e+06  11.0  \n",
       "13  1172.666667  1579.000000  5.484527e+06   3.0  \n",
       "14  1977.666667  2481.000000  5.125127e+06   8.0  \n",
       "15  1013.666667  1426.000000  4.918400e+06   2.0  \n",
       "16  1196.666667  1734.000000  2.806593e+06   9.0  \n",
       "17  2347.333333  3044.666667  4.911067e+06  10.0  \n",
       "18  1483.666667  1918.333333  2.575647e+06  13.0  \n",
       "19  2335.000000  3121.333333  2.202013e+06  22.0  \n",
       "20  1147.000000  2132.333333  3.864653e+06   7.0  \n",
       "21  1410.000000  2162.666667  2.714113e+06  14.0  \n",
       "22  1547.333333  2062.333333  2.530773e+06  18.0  \n",
       "23  1967.666667  1979.333333  1.785933e+07   1.0  \n",
       "24  1575.000000  2629.666667  1.308680e+06  24.0  "
      ]
     },
     "execution_count": 32,
     "metadata": {},
     "output_type": "execute_result"
    }
   ],
   "source": [
    "value"
   ]
  },
  {
   "cell_type": "code",
   "execution_count": 39,
   "id": "f9b51567",
   "metadata": {},
   "outputs": [
    {
     "data": {
      "application/vnd.plotly.v1+json": {
       "config": {
        "plotlyServerURL": "https://plot.ly"
       },
       "data": [
        {
         "customdata": [
          [
           8362000
          ]
         ],
         "hoverlabel": {
          "namelength": 0
         },
         "hovertemplate": "지역구=강남구<br>5대범죄=%{x}<br>평균지가=%{customdata[0]}<br>랭크=%{marker.size}",
         "legendgroup": "강남구",
         "marker": {
          "color": "#636efa",
          "size": [
           6
          ],
          "sizemode": "area",
          "sizeref": 0.0625,
          "symbol": "circle"
         },
         "mode": "markers",
         "name": "강남구",
         "showlegend": true,
         "type": "scatter",
         "x": [
          7512.333333333333
         ],
         "xaxis": "x",
         "y": [
          8362000
         ],
         "yaxis": "y"
        },
        {
         "customdata": [
          [
           4539266.666666667
          ]
         ],
         "hoverlabel": {
          "namelength": 0
         },
         "hovertemplate": "지역구=강동구<br>5대범죄=%{x}<br>평균지가=%{customdata[0]}<br>랭크=%{marker.size}",
         "legendgroup": "강동구",
         "marker": {
          "color": "#EF553B",
          "size": [
           5
          ],
          "sizemode": "area",
          "sizeref": 0.0625,
          "symbol": "circle"
         },
         "mode": "markers",
         "name": "강동구",
         "showlegend": true,
         "type": "scatter",
         "x": [
          4064.6666666666665
         ],
         "xaxis": "x",
         "y": [
          4539266.666666667
         ],
         "yaxis": "y"
        },
        {
         "customdata": [
          [
           2118366.6666666665
          ]
         ],
         "hoverlabel": {
          "namelength": 0
         },
         "hovertemplate": "지역구=강북구<br>5대범죄=%{x}<br>평균지가=%{customdata[0]}<br>랭크=%{marker.size}",
         "legendgroup": "강북구",
         "marker": {
          "color": "#00cc96",
          "size": [
           20
          ],
          "sizemode": "area",
          "sizeref": 0.0625,
          "symbol": "circle"
         },
         "mode": "markers",
         "name": "강북구",
         "showlegend": true,
         "type": "scatter",
         "x": [
          3556
         ],
         "xaxis": "x",
         "y": [
          2118366.6666666665
         ],
         "yaxis": "y"
        },
        {
         "customdata": [
          [
           2452213.333333333
          ]
         ],
         "hoverlabel": {
          "namelength": 0
         },
         "hovertemplate": "지역구=강서구<br>5대범죄=%{x}<br>평균지가=%{customdata[0]}<br>랭크=%{marker.size}",
         "legendgroup": "강서구",
         "marker": {
          "color": "#ab63fa",
          "size": [
           21
          ],
          "sizemode": "area",
          "sizeref": 0.0625,
          "symbol": "circle"
         },
         "mode": "markers",
         "name": "강서구",
         "showlegend": true,
         "type": "scatter",
         "x": [
          4896
         ],
         "xaxis": "x",
         "y": [
          2452213.333333333
         ],
         "yaxis": "y"
        },
        {
         "customdata": [
          [
           1571440
          ]
         ],
         "hoverlabel": {
          "namelength": 0
         },
         "hovertemplate": "지역구=관악구<br>5대범죄=%{x}<br>평균지가=%{customdata[0]}<br>랭크=%{marker.size}",
         "legendgroup": "관악구",
         "marker": {
          "color": "#FFA15A",
          "size": [
           25
          ],
          "sizemode": "area",
          "sizeref": 0.0625,
          "symbol": "circle"
         },
         "mode": "markers",
         "name": "관악구",
         "showlegend": true,
         "type": "scatter",
         "x": [
          5293
         ],
         "xaxis": "x",
         "y": [
          1571440
         ],
         "yaxis": "y"
        },
        {
         "customdata": [
          [
           2596233.333333333
          ]
         ],
         "hoverlabel": {
          "namelength": 0
         },
         "hovertemplate": "지역구=광진구<br>5대범죄=%{x}<br>평균지가=%{customdata[0]}<br>랭크=%{marker.size}",
         "legendgroup": "광진구",
         "marker": {
          "color": "#19d3f3",
          "size": [
           19
          ],
          "sizemode": "area",
          "sizeref": 0.0625,
          "symbol": "circle"
         },
         "mode": "markers",
         "name": "광진구",
         "showlegend": true,
         "type": "scatter",
         "x": [
          4190.666666666667
         ],
         "xaxis": "x",
         "y": [
          2596233.333333333
         ],
         "yaxis": "y"
        },
        {
         "customdata": [
          [
           3149733.333333333
          ]
         ],
         "hoverlabel": {
          "namelength": 0
         },
         "hovertemplate": "지역구=구로구<br>5대범죄=%{x}<br>평균지가=%{customdata[0]}<br>랭크=%{marker.size}",
         "legendgroup": "구로구",
         "marker": {
          "color": "#FF6692",
          "size": [
           17
          ],
          "sizemode": "area",
          "sizeref": 0.0625,
          "symbol": "circle"
         },
         "mode": "markers",
         "name": "구로구",
         "showlegend": true,
         "type": "scatter",
         "x": [
          4804
         ],
         "xaxis": "x",
         "y": [
          3149733.333333333
         ],
         "yaxis": "y"
        },
        {
         "customdata": [
          [
           2185560
          ]
         ],
         "hoverlabel": {
          "namelength": 0
         },
         "hovertemplate": "지역구=금천구<br>5대범죄=%{x}<br>평균지가=%{customdata[0]}<br>랭크=%{marker.size}",
         "legendgroup": "금천구",
         "marker": {
          "color": "#B6E880",
          "size": [
           15
          ],
          "sizemode": "area",
          "sizeref": 0.0625,
          "symbol": "circle"
         },
         "mode": "markers",
         "name": "금천구",
         "showlegend": true,
         "type": "scatter",
         "x": [
          3221
         ],
         "xaxis": "x",
         "y": [
          2185560
         ],
         "yaxis": "y"
        },
        {
         "customdata": [
          [
           1233500
          ]
         ],
         "hoverlabel": {
          "namelength": 0
         },
         "hovertemplate": "지역구=노원구<br>5대범죄=%{x}<br>평균지가=%{customdata[0]}<br>랭크=%{marker.size}",
         "legendgroup": "노원구",
         "marker": {
          "color": "#FF97FF",
          "size": [
           23
          ],
          "sizemode": "area",
          "sizeref": 0.0625,
          "symbol": "circle"
         },
         "mode": "markers",
         "name": "노원구",
         "showlegend": true,
         "type": "scatter",
         "x": [
          4123
         ],
         "xaxis": "x",
         "y": [
          1233500
         ],
         "yaxis": "y"
        },
        {
         "customdata": [
          [
           1431373.3333333333
          ]
         ],
         "hoverlabel": {
          "namelength": 0
         },
         "hovertemplate": "지역구=도봉구<br>5대범죄=%{x}<br>평균지가=%{customdata[0]}<br>랭크=%{marker.size}",
         "legendgroup": "도봉구",
         "marker": {
          "color": "#FECB52",
          "size": [
           16
          ],
          "sizemode": "area",
          "sizeref": 0.0625,
          "symbol": "circle"
         },
         "mode": "markers",
         "name": "도봉구",
         "showlegend": true,
         "type": "scatter",
         "x": [
          2119.333333333333
         ],
         "xaxis": "x",
         "y": [
          1431373.3333333333
         ],
         "yaxis": "y"
        },
        {
         "customdata": [
          [
           2961200
          ]
         ],
         "hoverlabel": {
          "namelength": 0
         },
         "hovertemplate": "지역구=동대문구<br>5대범죄=%{x}<br>평균지가=%{customdata[0]}<br>랭크=%{marker.size}",
         "legendgroup": "동대문구",
         "marker": {
          "color": "#636efa",
          "size": [
           12
          ],
          "sizemode": "area",
          "sizeref": 0.0625,
          "symbol": "circle"
         },
         "mode": "markers",
         "name": "동대문구",
         "showlegend": true,
         "type": "scatter",
         "x": [
          3782.3333333333335
         ],
         "xaxis": "x",
         "y": [
          2961200
         ],
         "yaxis": "y"
        },
        {
         "customdata": [
          [
           3751866.6666666665
          ]
         ],
         "hoverlabel": {
          "namelength": 0
         },
         "hovertemplate": "지역구=동작구<br>5대범죄=%{x}<br>평균지가=%{customdata[0]}<br>랭크=%{marker.size}",
         "legendgroup": "동작구",
         "marker": {
          "color": "#EF553B",
          "size": [
           4
          ],
          "sizemode": "area",
          "sizeref": 0.0625,
          "symbol": "circle"
         },
         "mode": "markers",
         "name": "동작구",
         "showlegend": true,
         "type": "scatter",
         "x": [
          3276.6666666666665
         ],
         "xaxis": "x",
         "y": [
          3751866.6666666665
         ],
         "yaxis": "y"
        },
        {
         "customdata": [
          [
           4147933.3333333335
          ]
         ],
         "hoverlabel": {
          "namelength": 0
         },
         "hovertemplate": "지역구=마포구<br>5대범죄=%{x}<br>평균지가=%{customdata[0]}<br>랭크=%{marker.size}",
         "legendgroup": "마포구",
         "marker": {
          "color": "#00cc96",
          "size": [
           11
          ],
          "sizemode": "area",
          "sizeref": 0.0625,
          "symbol": "circle"
         },
         "mode": "markers",
         "name": "마포구",
         "showlegend": true,
         "type": "scatter",
         "x": [
          5097.333333333333
         ],
         "xaxis": "x",
         "y": [
          4147933.3333333335
         ],
         "yaxis": "y"
        },
        {
         "customdata": [
          [
           5484526.666666667
          ]
         ],
         "hoverlabel": {
          "namelength": 0
         },
         "hovertemplate": "지역구=서대문구<br>5대범죄=%{x}<br>평균지가=%{customdata[0]}<br>랭크=%{marker.size}",
         "legendgroup": "서대문구",
         "marker": {
          "color": "#ab63fa",
          "size": [
           3
          ],
          "sizemode": "area",
          "sizeref": 0.0625,
          "symbol": "circle"
         },
         "mode": "markers",
         "name": "서대문구",
         "showlegend": true,
         "type": "scatter",
         "x": [
          2952.6666666666665
         ],
         "xaxis": "x",
         "y": [
          5484526.666666667
         ],
         "yaxis": "y"
        },
        {
         "customdata": [
          [
           5125126.666666667
          ]
         ],
         "hoverlabel": {
          "namelength": 0
         },
         "hovertemplate": "지역구=서초구<br>5대범죄=%{x}<br>평균지가=%{customdata[0]}<br>랭크=%{marker.size}",
         "legendgroup": "서초구",
         "marker": {
          "color": "#FFA15A",
          "size": [
           8
          ],
          "sizemode": "area",
          "sizeref": 0.0625,
          "symbol": "circle"
         },
         "mode": "markers",
         "name": "서초구",
         "showlegend": true,
         "type": "scatter",
         "x": [
          4992
         ],
         "xaxis": "x",
         "y": [
          5125126.666666667
         ],
         "yaxis": "y"
        },
        {
         "customdata": [
          [
           4918400
          ]
         ],
         "hoverlabel": {
          "namelength": 0
         },
         "hovertemplate": "지역구=성동구<br>5대범죄=%{x}<br>평균지가=%{customdata[0]}<br>랭크=%{marker.size}",
         "legendgroup": "성동구",
         "marker": {
          "color": "#19d3f3",
          "size": [
           2
          ],
          "sizemode": "area",
          "sizeref": 0.0625,
          "symbol": "circle"
         },
         "mode": "markers",
         "name": "성동구",
         "showlegend": true,
         "type": "scatter",
         "x": [
          2578.6666666666665
         ],
         "xaxis": "x",
         "y": [
          4918400
         ],
         "yaxis": "y"
        },
        {
         "customdata": [
          [
           2806593.333333333
          ]
         ],
         "hoverlabel": {
          "namelength": 0
         },
         "hovertemplate": "지역구=성북구<br>5대범죄=%{x}<br>평균지가=%{customdata[0]}<br>랭크=%{marker.size}",
         "legendgroup": "성북구",
         "marker": {
          "color": "#FF6692",
          "size": [
           9
          ],
          "sizemode": "area",
          "sizeref": 0.0625,
          "symbol": "circle"
         },
         "mode": "markers",
         "name": "성북구",
         "showlegend": true,
         "type": "scatter",
         "x": [
          3117.6666666666665
         ],
         "xaxis": "x",
         "y": [
          2806593.333333333
         ],
         "yaxis": "y"
        },
        {
         "customdata": [
          [
           4911066.666666667
          ]
         ],
         "hoverlabel": {
          "namelength": 0
         },
         "hovertemplate": "지역구=송파구<br>5대범죄=%{x}<br>평균지가=%{customdata[0]}<br>랭크=%{marker.size}",
         "legendgroup": "송파구",
         "marker": {
          "color": "#B6E880",
          "size": [
           10
          ],
          "sizemode": "area",
          "sizeref": 0.0625,
          "symbol": "circle"
         },
         "mode": "markers",
         "name": "송파구",
         "showlegend": true,
         "type": "scatter",
         "x": [
          5693.666666666667
         ],
         "xaxis": "x",
         "y": [
          4911066.666666667
         ],
         "yaxis": "y"
        },
        {
         "customdata": [
          [
           2575646.6666666665
          ]
         ],
         "hoverlabel": {
          "namelength": 0
         },
         "hovertemplate": "지역구=양천구<br>5대범죄=%{x}<br>평균지가=%{customdata[0]}<br>랭크=%{marker.size}",
         "legendgroup": "양천구",
         "marker": {
          "color": "#FF97FF",
          "size": [
           13
          ],
          "sizemode": "area",
          "sizeref": 0.0625,
          "symbol": "circle"
         },
         "mode": "markers",
         "name": "양천구",
         "showlegend": true,
         "type": "scatter",
         "x": [
          3537
         ],
         "xaxis": "x",
         "y": [
          2575646.6666666665
         ],
         "yaxis": "y"
        },
        {
         "customdata": [
          [
           2202013.333333333
          ]
         ],
         "hoverlabel": {
          "namelength": 0
         },
         "hovertemplate": "지역구=영등포구<br>5대범죄=%{x}<br>평균지가=%{customdata[0]}<br>랭크=%{marker.size}",
         "legendgroup": "영등포구",
         "marker": {
          "color": "#FECB52",
          "size": [
           22
          ],
          "sizemode": "area",
          "sizeref": 0.0625,
          "symbol": "circle"
         },
         "mode": "markers",
         "name": "영등포구",
         "showlegend": true,
         "type": "scatter",
         "x": [
          5876.333333333333
         ],
         "xaxis": "x",
         "y": [
          2202013.333333333
         ],
         "yaxis": "y"
        },
        {
         "customdata": [
          [
           3864653.3333333335
          ]
         ],
         "hoverlabel": {
          "namelength": 0
         },
         "hovertemplate": "지역구=용산구<br>5대범죄=%{x}<br>평균지가=%{customdata[0]}<br>랭크=%{marker.size}",
         "legendgroup": "용산구",
         "marker": {
          "color": "#636efa",
          "size": [
           7
          ],
          "sizemode": "area",
          "sizeref": 0.0625,
          "symbol": "circle"
         },
         "mode": "markers",
         "name": "용산구",
         "showlegend": true,
         "type": "scatter",
         "x": [
          3594.6666666666665
         ],
         "xaxis": "x",
         "y": [
          3864653.3333333335
         ],
         "yaxis": "y"
        },
        {
         "customdata": [
          [
           2714113.333333333
          ]
         ],
         "hoverlabel": {
          "namelength": 0
         },
         "hovertemplate": "지역구=은평구<br>5대범죄=%{x}<br>평균지가=%{customdata[0]}<br>랭크=%{marker.size}",
         "legendgroup": "은평구",
         "marker": {
          "color": "#EF553B",
          "size": [
           14
          ],
          "sizemode": "area",
          "sizeref": 0.0625,
          "symbol": "circle"
         },
         "mode": "markers",
         "name": "은평구",
         "showlegend": true,
         "type": "scatter",
         "x": [
          3784.3333333333335
         ],
         "xaxis": "x",
         "y": [
          2714113.333333333
         ],
         "yaxis": "y"
        },
        {
         "customdata": [
          [
           2530773.333333333
          ]
         ],
         "hoverlabel": {
          "namelength": 0
         },
         "hovertemplate": "지역구=종로구<br>5대범죄=%{x}<br>평균지가=%{customdata[0]}<br>랭크=%{marker.size}",
         "legendgroup": "종로구",
         "marker": {
          "color": "#00cc96",
          "size": [
           18
          ],
          "sizemode": "area",
          "sizeref": 0.0625,
          "symbol": "circle"
         },
         "mode": "markers",
         "name": "종로구",
         "showlegend": true,
         "type": "scatter",
         "x": [
          3864.3333333333335
         ],
         "xaxis": "x",
         "y": [
          2530773.333333333
         ],
         "yaxis": "y"
        },
        {
         "customdata": [
          [
           17859333.333333332
          ]
         ],
         "hoverlabel": {
          "namelength": 0
         },
         "hovertemplate": "지역구=중구<br>5대범죄=%{x}<br>평균지가=%{customdata[0]}<br>랭크=%{marker.size}",
         "legendgroup": "중구",
         "marker": {
          "color": "#ab63fa",
          "size": [
           1
          ],
          "sizemode": "area",
          "sizeref": 0.0625,
          "symbol": "circle"
         },
         "mode": "markers",
         "name": "중구",
         "showlegend": true,
         "type": "scatter",
         "x": [
          4180.333333333333
         ],
         "xaxis": "x",
         "y": [
          17859333.333333332
         ],
         "yaxis": "y"
        },
        {
         "customdata": [
          [
           1308680
          ]
         ],
         "hoverlabel": {
          "namelength": 0
         },
         "hovertemplate": "지역구=중랑구<br>5대범죄=%{x}<br>평균지가=%{customdata[0]}<br>랭크=%{marker.size}",
         "legendgroup": "중랑구",
         "marker": {
          "color": "#FFA15A",
          "size": [
           24
          ],
          "sizemode": "area",
          "sizeref": 0.0625,
          "symbol": "circle"
         },
         "mode": "markers",
         "name": "중랑구",
         "showlegend": true,
         "type": "scatter",
         "x": [
          4375.666666666667
         ],
         "xaxis": "x",
         "y": [
          1308680
         ],
         "yaxis": "y"
        }
       ],
       "layout": {
        "legend": {
         "itemsizing": "constant",
         "title": {
          "text": "지역구"
         },
         "tracegroupgap": 0
        },
        "template": {
         "data": {
          "bar": [
           {
            "error_x": {
             "color": "#2a3f5f"
            },
            "error_y": {
             "color": "#2a3f5f"
            },
            "marker": {
             "line": {
              "color": "#E5ECF6",
              "width": 0.5
             }
            },
            "type": "bar"
           }
          ],
          "barpolar": [
           {
            "marker": {
             "line": {
              "color": "#E5ECF6",
              "width": 0.5
             }
            },
            "type": "barpolar"
           }
          ],
          "carpet": [
           {
            "aaxis": {
             "endlinecolor": "#2a3f5f",
             "gridcolor": "white",
             "linecolor": "white",
             "minorgridcolor": "white",
             "startlinecolor": "#2a3f5f"
            },
            "baxis": {
             "endlinecolor": "#2a3f5f",
             "gridcolor": "white",
             "linecolor": "white",
             "minorgridcolor": "white",
             "startlinecolor": "#2a3f5f"
            },
            "type": "carpet"
           }
          ],
          "choropleth": [
           {
            "colorbar": {
             "outlinewidth": 0,
             "ticks": ""
            },
            "type": "choropleth"
           }
          ],
          "contour": [
           {
            "colorbar": {
             "outlinewidth": 0,
             "ticks": ""
            },
            "colorscale": [
             [
              0,
              "#0d0887"
             ],
             [
              0.1111111111111111,
              "#46039f"
             ],
             [
              0.2222222222222222,
              "#7201a8"
             ],
             [
              0.3333333333333333,
              "#9c179e"
             ],
             [
              0.4444444444444444,
              "#bd3786"
             ],
             [
              0.5555555555555556,
              "#d8576b"
             ],
             [
              0.6666666666666666,
              "#ed7953"
             ],
             [
              0.7777777777777778,
              "#fb9f3a"
             ],
             [
              0.8888888888888888,
              "#fdca26"
             ],
             [
              1,
              "#f0f921"
             ]
            ],
            "type": "contour"
           }
          ],
          "contourcarpet": [
           {
            "colorbar": {
             "outlinewidth": 0,
             "ticks": ""
            },
            "type": "contourcarpet"
           }
          ],
          "heatmap": [
           {
            "colorbar": {
             "outlinewidth": 0,
             "ticks": ""
            },
            "colorscale": [
             [
              0,
              "#0d0887"
             ],
             [
              0.1111111111111111,
              "#46039f"
             ],
             [
              0.2222222222222222,
              "#7201a8"
             ],
             [
              0.3333333333333333,
              "#9c179e"
             ],
             [
              0.4444444444444444,
              "#bd3786"
             ],
             [
              0.5555555555555556,
              "#d8576b"
             ],
             [
              0.6666666666666666,
              "#ed7953"
             ],
             [
              0.7777777777777778,
              "#fb9f3a"
             ],
             [
              0.8888888888888888,
              "#fdca26"
             ],
             [
              1,
              "#f0f921"
             ]
            ],
            "type": "heatmap"
           }
          ],
          "heatmapgl": [
           {
            "colorbar": {
             "outlinewidth": 0,
             "ticks": ""
            },
            "colorscale": [
             [
              0,
              "#0d0887"
             ],
             [
              0.1111111111111111,
              "#46039f"
             ],
             [
              0.2222222222222222,
              "#7201a8"
             ],
             [
              0.3333333333333333,
              "#9c179e"
             ],
             [
              0.4444444444444444,
              "#bd3786"
             ],
             [
              0.5555555555555556,
              "#d8576b"
             ],
             [
              0.6666666666666666,
              "#ed7953"
             ],
             [
              0.7777777777777778,
              "#fb9f3a"
             ],
             [
              0.8888888888888888,
              "#fdca26"
             ],
             [
              1,
              "#f0f921"
             ]
            ],
            "type": "heatmapgl"
           }
          ],
          "histogram": [
           {
            "marker": {
             "colorbar": {
              "outlinewidth": 0,
              "ticks": ""
             }
            },
            "type": "histogram"
           }
          ],
          "histogram2d": [
           {
            "colorbar": {
             "outlinewidth": 0,
             "ticks": ""
            },
            "colorscale": [
             [
              0,
              "#0d0887"
             ],
             [
              0.1111111111111111,
              "#46039f"
             ],
             [
              0.2222222222222222,
              "#7201a8"
             ],
             [
              0.3333333333333333,
              "#9c179e"
             ],
             [
              0.4444444444444444,
              "#bd3786"
             ],
             [
              0.5555555555555556,
              "#d8576b"
             ],
             [
              0.6666666666666666,
              "#ed7953"
             ],
             [
              0.7777777777777778,
              "#fb9f3a"
             ],
             [
              0.8888888888888888,
              "#fdca26"
             ],
             [
              1,
              "#f0f921"
             ]
            ],
            "type": "histogram2d"
           }
          ],
          "histogram2dcontour": [
           {
            "colorbar": {
             "outlinewidth": 0,
             "ticks": ""
            },
            "colorscale": [
             [
              0,
              "#0d0887"
             ],
             [
              0.1111111111111111,
              "#46039f"
             ],
             [
              0.2222222222222222,
              "#7201a8"
             ],
             [
              0.3333333333333333,
              "#9c179e"
             ],
             [
              0.4444444444444444,
              "#bd3786"
             ],
             [
              0.5555555555555556,
              "#d8576b"
             ],
             [
              0.6666666666666666,
              "#ed7953"
             ],
             [
              0.7777777777777778,
              "#fb9f3a"
             ],
             [
              0.8888888888888888,
              "#fdca26"
             ],
             [
              1,
              "#f0f921"
             ]
            ],
            "type": "histogram2dcontour"
           }
          ],
          "mesh3d": [
           {
            "colorbar": {
             "outlinewidth": 0,
             "ticks": ""
            },
            "type": "mesh3d"
           }
          ],
          "parcoords": [
           {
            "line": {
             "colorbar": {
              "outlinewidth": 0,
              "ticks": ""
             }
            },
            "type": "parcoords"
           }
          ],
          "pie": [
           {
            "automargin": true,
            "type": "pie"
           }
          ],
          "scatter": [
           {
            "marker": {
             "colorbar": {
              "outlinewidth": 0,
              "ticks": ""
             }
            },
            "type": "scatter"
           }
          ],
          "scatter3d": [
           {
            "line": {
             "colorbar": {
              "outlinewidth": 0,
              "ticks": ""
             }
            },
            "marker": {
             "colorbar": {
              "outlinewidth": 0,
              "ticks": ""
             }
            },
            "type": "scatter3d"
           }
          ],
          "scattercarpet": [
           {
            "marker": {
             "colorbar": {
              "outlinewidth": 0,
              "ticks": ""
             }
            },
            "type": "scattercarpet"
           }
          ],
          "scattergeo": [
           {
            "marker": {
             "colorbar": {
              "outlinewidth": 0,
              "ticks": ""
             }
            },
            "type": "scattergeo"
           }
          ],
          "scattergl": [
           {
            "marker": {
             "colorbar": {
              "outlinewidth": 0,
              "ticks": ""
             }
            },
            "type": "scattergl"
           }
          ],
          "scattermapbox": [
           {
            "marker": {
             "colorbar": {
              "outlinewidth": 0,
              "ticks": ""
             }
            },
            "type": "scattermapbox"
           }
          ],
          "scatterpolar": [
           {
            "marker": {
             "colorbar": {
              "outlinewidth": 0,
              "ticks": ""
             }
            },
            "type": "scatterpolar"
           }
          ],
          "scatterpolargl": [
           {
            "marker": {
             "colorbar": {
              "outlinewidth": 0,
              "ticks": ""
             }
            },
            "type": "scatterpolargl"
           }
          ],
          "scatterternary": [
           {
            "marker": {
             "colorbar": {
              "outlinewidth": 0,
              "ticks": ""
             }
            },
            "type": "scatterternary"
           }
          ],
          "surface": [
           {
            "colorbar": {
             "outlinewidth": 0,
             "ticks": ""
            },
            "colorscale": [
             [
              0,
              "#0d0887"
             ],
             [
              0.1111111111111111,
              "#46039f"
             ],
             [
              0.2222222222222222,
              "#7201a8"
             ],
             [
              0.3333333333333333,
              "#9c179e"
             ],
             [
              0.4444444444444444,
              "#bd3786"
             ],
             [
              0.5555555555555556,
              "#d8576b"
             ],
             [
              0.6666666666666666,
              "#ed7953"
             ],
             [
              0.7777777777777778,
              "#fb9f3a"
             ],
             [
              0.8888888888888888,
              "#fdca26"
             ],
             [
              1,
              "#f0f921"
             ]
            ],
            "type": "surface"
           }
          ],
          "table": [
           {
            "cells": {
             "fill": {
              "color": "#EBF0F8"
             },
             "line": {
              "color": "white"
             }
            },
            "header": {
             "fill": {
              "color": "#C8D4E3"
             },
             "line": {
              "color": "white"
             }
            },
            "type": "table"
           }
          ]
         },
         "layout": {
          "annotationdefaults": {
           "arrowcolor": "#2a3f5f",
           "arrowhead": 0,
           "arrowwidth": 1
          },
          "coloraxis": {
           "colorbar": {
            "outlinewidth": 0,
            "ticks": ""
           }
          },
          "colorscale": {
           "diverging": [
            [
             0,
             "#8e0152"
            ],
            [
             0.1,
             "#c51b7d"
            ],
            [
             0.2,
             "#de77ae"
            ],
            [
             0.3,
             "#f1b6da"
            ],
            [
             0.4,
             "#fde0ef"
            ],
            [
             0.5,
             "#f7f7f7"
            ],
            [
             0.6,
             "#e6f5d0"
            ],
            [
             0.7,
             "#b8e186"
            ],
            [
             0.8,
             "#7fbc41"
            ],
            [
             0.9,
             "#4d9221"
            ],
            [
             1,
             "#276419"
            ]
           ],
           "sequential": [
            [
             0,
             "#0d0887"
            ],
            [
             0.1111111111111111,
             "#46039f"
            ],
            [
             0.2222222222222222,
             "#7201a8"
            ],
            [
             0.3333333333333333,
             "#9c179e"
            ],
            [
             0.4444444444444444,
             "#bd3786"
            ],
            [
             0.5555555555555556,
             "#d8576b"
            ],
            [
             0.6666666666666666,
             "#ed7953"
            ],
            [
             0.7777777777777778,
             "#fb9f3a"
            ],
            [
             0.8888888888888888,
             "#fdca26"
            ],
            [
             1,
             "#f0f921"
            ]
           ],
           "sequentialminus": [
            [
             0,
             "#0d0887"
            ],
            [
             0.1111111111111111,
             "#46039f"
            ],
            [
             0.2222222222222222,
             "#7201a8"
            ],
            [
             0.3333333333333333,
             "#9c179e"
            ],
            [
             0.4444444444444444,
             "#bd3786"
            ],
            [
             0.5555555555555556,
             "#d8576b"
            ],
            [
             0.6666666666666666,
             "#ed7953"
            ],
            [
             0.7777777777777778,
             "#fb9f3a"
            ],
            [
             0.8888888888888888,
             "#fdca26"
            ],
            [
             1,
             "#f0f921"
            ]
           ]
          },
          "colorway": [
           "#636efa",
           "#EF553B",
           "#00cc96",
           "#ab63fa",
           "#FFA15A",
           "#19d3f3",
           "#FF6692",
           "#B6E880",
           "#FF97FF",
           "#FECB52"
          ],
          "font": {
           "color": "#2a3f5f"
          },
          "geo": {
           "bgcolor": "white",
           "lakecolor": "white",
           "landcolor": "#E5ECF6",
           "showlakes": true,
           "showland": true,
           "subunitcolor": "white"
          },
          "hoverlabel": {
           "align": "left"
          },
          "hovermode": "closest",
          "mapbox": {
           "style": "light"
          },
          "paper_bgcolor": "white",
          "plot_bgcolor": "#E5ECF6",
          "polar": {
           "angularaxis": {
            "gridcolor": "white",
            "linecolor": "white",
            "ticks": ""
           },
           "bgcolor": "#E5ECF6",
           "radialaxis": {
            "gridcolor": "white",
            "linecolor": "white",
            "ticks": ""
           }
          },
          "scene": {
           "xaxis": {
            "backgroundcolor": "#E5ECF6",
            "gridcolor": "white",
            "gridwidth": 2,
            "linecolor": "white",
            "showbackground": true,
            "ticks": "",
            "zerolinecolor": "white"
           },
           "yaxis": {
            "backgroundcolor": "#E5ECF6",
            "gridcolor": "white",
            "gridwidth": 2,
            "linecolor": "white",
            "showbackground": true,
            "ticks": "",
            "zerolinecolor": "white"
           },
           "zaxis": {
            "backgroundcolor": "#E5ECF6",
            "gridcolor": "white",
            "gridwidth": 2,
            "linecolor": "white",
            "showbackground": true,
            "ticks": "",
            "zerolinecolor": "white"
           }
          },
          "shapedefaults": {
           "line": {
            "color": "#2a3f5f"
           }
          },
          "ternary": {
           "aaxis": {
            "gridcolor": "white",
            "linecolor": "white",
            "ticks": ""
           },
           "baxis": {
            "gridcolor": "white",
            "linecolor": "white",
            "ticks": ""
           },
           "bgcolor": "#E5ECF6",
           "caxis": {
            "gridcolor": "white",
            "linecolor": "white",
            "ticks": ""
           }
          },
          "title": {
           "x": 0.05
          },
          "xaxis": {
           "automargin": true,
           "gridcolor": "white",
           "linecolor": "white",
           "ticks": "",
           "title": {
            "standoff": 15
           },
           "zerolinecolor": "white",
           "zerolinewidth": 2
          },
          "yaxis": {
           "automargin": true,
           "gridcolor": "white",
           "linecolor": "white",
           "ticks": "",
           "title": {
            "standoff": 15
           },
           "zerolinecolor": "white",
           "zerolinewidth": 2
          }
         }
        },
        "title": {
         "text": "착하게 살자"
        },
        "xaxis": {
         "anchor": "y",
         "domain": [
          0,
          1
         ],
         "title": {
          "text": "5대범죄"
         }
        },
        "yaxis": {
         "anchor": "x",
         "domain": [
          0,
          1
         ],
         "title": {
          "text": "평균지가"
         }
        }
       }
      },
      "text/html": [
       "<div>\n",
       "        \n",
       "        \n",
       "            <div id=\"4784ad28-7a7f-4947-a2bf-60376e6fc95f\" class=\"plotly-graph-div\" style=\"height:525px; width:100%;\"></div>\n",
       "            <script type=\"text/javascript\">\n",
       "                require([\"plotly\"], function(Plotly) {\n",
       "                    window.PLOTLYENV=window.PLOTLYENV || {};\n",
       "                    \n",
       "                if (document.getElementById(\"4784ad28-7a7f-4947-a2bf-60376e6fc95f\")) {\n",
       "                    Plotly.newPlot(\n",
       "                        '4784ad28-7a7f-4947-a2bf-60376e6fc95f',\n",
       "                        [{\"customdata\": [[8362000.0]], \"hoverlabel\": {\"namelength\": 0}, \"hovertemplate\": \"\\uc9c0\\uc5ed\\uad6c=\\uac15\\ub0a8\\uad6c<br>5\\ub300\\ubc94\\uc8c4=%{x}<br>\\ud3c9\\uade0\\uc9c0\\uac00=%{customdata[0]}<br>\\ub7ad\\ud06c=%{marker.size}\", \"legendgroup\": \"\\uac15\\ub0a8\\uad6c\", \"marker\": {\"color\": \"#636efa\", \"size\": [6.0], \"sizemode\": \"area\", \"sizeref\": 0.0625, \"symbol\": \"circle\"}, \"mode\": \"markers\", \"name\": \"\\uac15\\ub0a8\\uad6c\", \"showlegend\": true, \"type\": \"scatter\", \"x\": [7512.333333333333], \"xaxis\": \"x\", \"y\": [8362000.0], \"yaxis\": \"y\"}, {\"customdata\": [[4539266.666666667]], \"hoverlabel\": {\"namelength\": 0}, \"hovertemplate\": \"\\uc9c0\\uc5ed\\uad6c=\\uac15\\ub3d9\\uad6c<br>5\\ub300\\ubc94\\uc8c4=%{x}<br>\\ud3c9\\uade0\\uc9c0\\uac00=%{customdata[0]}<br>\\ub7ad\\ud06c=%{marker.size}\", \"legendgroup\": \"\\uac15\\ub3d9\\uad6c\", \"marker\": {\"color\": \"#EF553B\", \"size\": [5.0], \"sizemode\": \"area\", \"sizeref\": 0.0625, \"symbol\": \"circle\"}, \"mode\": \"markers\", \"name\": \"\\uac15\\ub3d9\\uad6c\", \"showlegend\": true, \"type\": \"scatter\", \"x\": [4064.6666666666665], \"xaxis\": \"x\", \"y\": [4539266.666666667], \"yaxis\": \"y\"}, {\"customdata\": [[2118366.6666666665]], \"hoverlabel\": {\"namelength\": 0}, \"hovertemplate\": \"\\uc9c0\\uc5ed\\uad6c=\\uac15\\ubd81\\uad6c<br>5\\ub300\\ubc94\\uc8c4=%{x}<br>\\ud3c9\\uade0\\uc9c0\\uac00=%{customdata[0]}<br>\\ub7ad\\ud06c=%{marker.size}\", \"legendgroup\": \"\\uac15\\ubd81\\uad6c\", \"marker\": {\"color\": \"#00cc96\", \"size\": [20.0], \"sizemode\": \"area\", \"sizeref\": 0.0625, \"symbol\": \"circle\"}, \"mode\": \"markers\", \"name\": \"\\uac15\\ubd81\\uad6c\", \"showlegend\": true, \"type\": \"scatter\", \"x\": [3556.0], \"xaxis\": \"x\", \"y\": [2118366.6666666665], \"yaxis\": \"y\"}, {\"customdata\": [[2452213.333333333]], \"hoverlabel\": {\"namelength\": 0}, \"hovertemplate\": \"\\uc9c0\\uc5ed\\uad6c=\\uac15\\uc11c\\uad6c<br>5\\ub300\\ubc94\\uc8c4=%{x}<br>\\ud3c9\\uade0\\uc9c0\\uac00=%{customdata[0]}<br>\\ub7ad\\ud06c=%{marker.size}\", \"legendgroup\": \"\\uac15\\uc11c\\uad6c\", \"marker\": {\"color\": \"#ab63fa\", \"size\": [21.0], \"sizemode\": \"area\", \"sizeref\": 0.0625, \"symbol\": \"circle\"}, \"mode\": \"markers\", \"name\": \"\\uac15\\uc11c\\uad6c\", \"showlegend\": true, \"type\": \"scatter\", \"x\": [4896.0], \"xaxis\": \"x\", \"y\": [2452213.333333333], \"yaxis\": \"y\"}, {\"customdata\": [[1571440.0]], \"hoverlabel\": {\"namelength\": 0}, \"hovertemplate\": \"\\uc9c0\\uc5ed\\uad6c=\\uad00\\uc545\\uad6c<br>5\\ub300\\ubc94\\uc8c4=%{x}<br>\\ud3c9\\uade0\\uc9c0\\uac00=%{customdata[0]}<br>\\ub7ad\\ud06c=%{marker.size}\", \"legendgroup\": \"\\uad00\\uc545\\uad6c\", \"marker\": {\"color\": \"#FFA15A\", \"size\": [25.0], \"sizemode\": \"area\", \"sizeref\": 0.0625, \"symbol\": \"circle\"}, \"mode\": \"markers\", \"name\": \"\\uad00\\uc545\\uad6c\", \"showlegend\": true, \"type\": \"scatter\", \"x\": [5293.0], \"xaxis\": \"x\", \"y\": [1571440.0], \"yaxis\": \"y\"}, {\"customdata\": [[2596233.333333333]], \"hoverlabel\": {\"namelength\": 0}, \"hovertemplate\": \"\\uc9c0\\uc5ed\\uad6c=\\uad11\\uc9c4\\uad6c<br>5\\ub300\\ubc94\\uc8c4=%{x}<br>\\ud3c9\\uade0\\uc9c0\\uac00=%{customdata[0]}<br>\\ub7ad\\ud06c=%{marker.size}\", \"legendgroup\": \"\\uad11\\uc9c4\\uad6c\", \"marker\": {\"color\": \"#19d3f3\", \"size\": [19.0], \"sizemode\": \"area\", \"sizeref\": 0.0625, \"symbol\": \"circle\"}, \"mode\": \"markers\", \"name\": \"\\uad11\\uc9c4\\uad6c\", \"showlegend\": true, \"type\": \"scatter\", \"x\": [4190.666666666667], \"xaxis\": \"x\", \"y\": [2596233.333333333], \"yaxis\": \"y\"}, {\"customdata\": [[3149733.333333333]], \"hoverlabel\": {\"namelength\": 0}, \"hovertemplate\": \"\\uc9c0\\uc5ed\\uad6c=\\uad6c\\ub85c\\uad6c<br>5\\ub300\\ubc94\\uc8c4=%{x}<br>\\ud3c9\\uade0\\uc9c0\\uac00=%{customdata[0]}<br>\\ub7ad\\ud06c=%{marker.size}\", \"legendgroup\": \"\\uad6c\\ub85c\\uad6c\", \"marker\": {\"color\": \"#FF6692\", \"size\": [17.0], \"sizemode\": \"area\", \"sizeref\": 0.0625, \"symbol\": \"circle\"}, \"mode\": \"markers\", \"name\": \"\\uad6c\\ub85c\\uad6c\", \"showlegend\": true, \"type\": \"scatter\", \"x\": [4804.0], \"xaxis\": \"x\", \"y\": [3149733.333333333], \"yaxis\": \"y\"}, {\"customdata\": [[2185560.0]], \"hoverlabel\": {\"namelength\": 0}, \"hovertemplate\": \"\\uc9c0\\uc5ed\\uad6c=\\uae08\\ucc9c\\uad6c<br>5\\ub300\\ubc94\\uc8c4=%{x}<br>\\ud3c9\\uade0\\uc9c0\\uac00=%{customdata[0]}<br>\\ub7ad\\ud06c=%{marker.size}\", \"legendgroup\": \"\\uae08\\ucc9c\\uad6c\", \"marker\": {\"color\": \"#B6E880\", \"size\": [15.0], \"sizemode\": \"area\", \"sizeref\": 0.0625, \"symbol\": \"circle\"}, \"mode\": \"markers\", \"name\": \"\\uae08\\ucc9c\\uad6c\", \"showlegend\": true, \"type\": \"scatter\", \"x\": [3221.0], \"xaxis\": \"x\", \"y\": [2185560.0], \"yaxis\": \"y\"}, {\"customdata\": [[1233500.0]], \"hoverlabel\": {\"namelength\": 0}, \"hovertemplate\": \"\\uc9c0\\uc5ed\\uad6c=\\ub178\\uc6d0\\uad6c<br>5\\ub300\\ubc94\\uc8c4=%{x}<br>\\ud3c9\\uade0\\uc9c0\\uac00=%{customdata[0]}<br>\\ub7ad\\ud06c=%{marker.size}\", \"legendgroup\": \"\\ub178\\uc6d0\\uad6c\", \"marker\": {\"color\": \"#FF97FF\", \"size\": [23.0], \"sizemode\": \"area\", \"sizeref\": 0.0625, \"symbol\": \"circle\"}, \"mode\": \"markers\", \"name\": \"\\ub178\\uc6d0\\uad6c\", \"showlegend\": true, \"type\": \"scatter\", \"x\": [4123.0], \"xaxis\": \"x\", \"y\": [1233500.0], \"yaxis\": \"y\"}, {\"customdata\": [[1431373.3333333333]], \"hoverlabel\": {\"namelength\": 0}, \"hovertemplate\": \"\\uc9c0\\uc5ed\\uad6c=\\ub3c4\\ubd09\\uad6c<br>5\\ub300\\ubc94\\uc8c4=%{x}<br>\\ud3c9\\uade0\\uc9c0\\uac00=%{customdata[0]}<br>\\ub7ad\\ud06c=%{marker.size}\", \"legendgroup\": \"\\ub3c4\\ubd09\\uad6c\", \"marker\": {\"color\": \"#FECB52\", \"size\": [16.0], \"sizemode\": \"area\", \"sizeref\": 0.0625, \"symbol\": \"circle\"}, \"mode\": \"markers\", \"name\": \"\\ub3c4\\ubd09\\uad6c\", \"showlegend\": true, \"type\": \"scatter\", \"x\": [2119.333333333333], \"xaxis\": \"x\", \"y\": [1431373.3333333333], \"yaxis\": \"y\"}, {\"customdata\": [[2961200.0]], \"hoverlabel\": {\"namelength\": 0}, \"hovertemplate\": \"\\uc9c0\\uc5ed\\uad6c=\\ub3d9\\ub300\\ubb38\\uad6c<br>5\\ub300\\ubc94\\uc8c4=%{x}<br>\\ud3c9\\uade0\\uc9c0\\uac00=%{customdata[0]}<br>\\ub7ad\\ud06c=%{marker.size}\", \"legendgroup\": \"\\ub3d9\\ub300\\ubb38\\uad6c\", \"marker\": {\"color\": \"#636efa\", \"size\": [12.0], \"sizemode\": \"area\", \"sizeref\": 0.0625, \"symbol\": \"circle\"}, \"mode\": \"markers\", \"name\": \"\\ub3d9\\ub300\\ubb38\\uad6c\", \"showlegend\": true, \"type\": \"scatter\", \"x\": [3782.3333333333335], \"xaxis\": \"x\", \"y\": [2961200.0], \"yaxis\": \"y\"}, {\"customdata\": [[3751866.6666666665]], \"hoverlabel\": {\"namelength\": 0}, \"hovertemplate\": \"\\uc9c0\\uc5ed\\uad6c=\\ub3d9\\uc791\\uad6c<br>5\\ub300\\ubc94\\uc8c4=%{x}<br>\\ud3c9\\uade0\\uc9c0\\uac00=%{customdata[0]}<br>\\ub7ad\\ud06c=%{marker.size}\", \"legendgroup\": \"\\ub3d9\\uc791\\uad6c\", \"marker\": {\"color\": \"#EF553B\", \"size\": [4.0], \"sizemode\": \"area\", \"sizeref\": 0.0625, \"symbol\": \"circle\"}, \"mode\": \"markers\", \"name\": \"\\ub3d9\\uc791\\uad6c\", \"showlegend\": true, \"type\": \"scatter\", \"x\": [3276.6666666666665], \"xaxis\": \"x\", \"y\": [3751866.6666666665], \"yaxis\": \"y\"}, {\"customdata\": [[4147933.3333333335]], \"hoverlabel\": {\"namelength\": 0}, \"hovertemplate\": \"\\uc9c0\\uc5ed\\uad6c=\\ub9c8\\ud3ec\\uad6c<br>5\\ub300\\ubc94\\uc8c4=%{x}<br>\\ud3c9\\uade0\\uc9c0\\uac00=%{customdata[0]}<br>\\ub7ad\\ud06c=%{marker.size}\", \"legendgroup\": \"\\ub9c8\\ud3ec\\uad6c\", \"marker\": {\"color\": \"#00cc96\", \"size\": [11.0], \"sizemode\": \"area\", \"sizeref\": 0.0625, \"symbol\": \"circle\"}, \"mode\": \"markers\", \"name\": \"\\ub9c8\\ud3ec\\uad6c\", \"showlegend\": true, \"type\": \"scatter\", \"x\": [5097.333333333333], \"xaxis\": \"x\", \"y\": [4147933.3333333335], \"yaxis\": \"y\"}, {\"customdata\": [[5484526.666666667]], \"hoverlabel\": {\"namelength\": 0}, \"hovertemplate\": \"\\uc9c0\\uc5ed\\uad6c=\\uc11c\\ub300\\ubb38\\uad6c<br>5\\ub300\\ubc94\\uc8c4=%{x}<br>\\ud3c9\\uade0\\uc9c0\\uac00=%{customdata[0]}<br>\\ub7ad\\ud06c=%{marker.size}\", \"legendgroup\": \"\\uc11c\\ub300\\ubb38\\uad6c\", \"marker\": {\"color\": \"#ab63fa\", \"size\": [3.0], \"sizemode\": \"area\", \"sizeref\": 0.0625, \"symbol\": \"circle\"}, \"mode\": \"markers\", \"name\": \"\\uc11c\\ub300\\ubb38\\uad6c\", \"showlegend\": true, \"type\": \"scatter\", \"x\": [2952.6666666666665], \"xaxis\": \"x\", \"y\": [5484526.666666667], \"yaxis\": \"y\"}, {\"customdata\": [[5125126.666666667]], \"hoverlabel\": {\"namelength\": 0}, \"hovertemplate\": \"\\uc9c0\\uc5ed\\uad6c=\\uc11c\\ucd08\\uad6c<br>5\\ub300\\ubc94\\uc8c4=%{x}<br>\\ud3c9\\uade0\\uc9c0\\uac00=%{customdata[0]}<br>\\ub7ad\\ud06c=%{marker.size}\", \"legendgroup\": \"\\uc11c\\ucd08\\uad6c\", \"marker\": {\"color\": \"#FFA15A\", \"size\": [8.0], \"sizemode\": \"area\", \"sizeref\": 0.0625, \"symbol\": \"circle\"}, \"mode\": \"markers\", \"name\": \"\\uc11c\\ucd08\\uad6c\", \"showlegend\": true, \"type\": \"scatter\", \"x\": [4992.0], \"xaxis\": \"x\", \"y\": [5125126.666666667], \"yaxis\": \"y\"}, {\"customdata\": [[4918400.0]], \"hoverlabel\": {\"namelength\": 0}, \"hovertemplate\": \"\\uc9c0\\uc5ed\\uad6c=\\uc131\\ub3d9\\uad6c<br>5\\ub300\\ubc94\\uc8c4=%{x}<br>\\ud3c9\\uade0\\uc9c0\\uac00=%{customdata[0]}<br>\\ub7ad\\ud06c=%{marker.size}\", \"legendgroup\": \"\\uc131\\ub3d9\\uad6c\", \"marker\": {\"color\": \"#19d3f3\", \"size\": [2.0], \"sizemode\": \"area\", \"sizeref\": 0.0625, \"symbol\": \"circle\"}, \"mode\": \"markers\", \"name\": \"\\uc131\\ub3d9\\uad6c\", \"showlegend\": true, \"type\": \"scatter\", \"x\": [2578.6666666666665], \"xaxis\": \"x\", \"y\": [4918400.0], \"yaxis\": \"y\"}, {\"customdata\": [[2806593.333333333]], \"hoverlabel\": {\"namelength\": 0}, \"hovertemplate\": \"\\uc9c0\\uc5ed\\uad6c=\\uc131\\ubd81\\uad6c<br>5\\ub300\\ubc94\\uc8c4=%{x}<br>\\ud3c9\\uade0\\uc9c0\\uac00=%{customdata[0]}<br>\\ub7ad\\ud06c=%{marker.size}\", \"legendgroup\": \"\\uc131\\ubd81\\uad6c\", \"marker\": {\"color\": \"#FF6692\", \"size\": [9.0], \"sizemode\": \"area\", \"sizeref\": 0.0625, \"symbol\": \"circle\"}, \"mode\": \"markers\", \"name\": \"\\uc131\\ubd81\\uad6c\", \"showlegend\": true, \"type\": \"scatter\", \"x\": [3117.6666666666665], \"xaxis\": \"x\", \"y\": [2806593.333333333], \"yaxis\": \"y\"}, {\"customdata\": [[4911066.666666667]], \"hoverlabel\": {\"namelength\": 0}, \"hovertemplate\": \"\\uc9c0\\uc5ed\\uad6c=\\uc1a1\\ud30c\\uad6c<br>5\\ub300\\ubc94\\uc8c4=%{x}<br>\\ud3c9\\uade0\\uc9c0\\uac00=%{customdata[0]}<br>\\ub7ad\\ud06c=%{marker.size}\", \"legendgroup\": \"\\uc1a1\\ud30c\\uad6c\", \"marker\": {\"color\": \"#B6E880\", \"size\": [10.0], \"sizemode\": \"area\", \"sizeref\": 0.0625, \"symbol\": \"circle\"}, \"mode\": \"markers\", \"name\": \"\\uc1a1\\ud30c\\uad6c\", \"showlegend\": true, \"type\": \"scatter\", \"x\": [5693.666666666667], \"xaxis\": \"x\", \"y\": [4911066.666666667], \"yaxis\": \"y\"}, {\"customdata\": [[2575646.6666666665]], \"hoverlabel\": {\"namelength\": 0}, \"hovertemplate\": \"\\uc9c0\\uc5ed\\uad6c=\\uc591\\ucc9c\\uad6c<br>5\\ub300\\ubc94\\uc8c4=%{x}<br>\\ud3c9\\uade0\\uc9c0\\uac00=%{customdata[0]}<br>\\ub7ad\\ud06c=%{marker.size}\", \"legendgroup\": \"\\uc591\\ucc9c\\uad6c\", \"marker\": {\"color\": \"#FF97FF\", \"size\": [13.0], \"sizemode\": \"area\", \"sizeref\": 0.0625, \"symbol\": \"circle\"}, \"mode\": \"markers\", \"name\": \"\\uc591\\ucc9c\\uad6c\", \"showlegend\": true, \"type\": \"scatter\", \"x\": [3537.0], \"xaxis\": \"x\", \"y\": [2575646.6666666665], \"yaxis\": \"y\"}, {\"customdata\": [[2202013.333333333]], \"hoverlabel\": {\"namelength\": 0}, \"hovertemplate\": \"\\uc9c0\\uc5ed\\uad6c=\\uc601\\ub4f1\\ud3ec\\uad6c<br>5\\ub300\\ubc94\\uc8c4=%{x}<br>\\ud3c9\\uade0\\uc9c0\\uac00=%{customdata[0]}<br>\\ub7ad\\ud06c=%{marker.size}\", \"legendgroup\": \"\\uc601\\ub4f1\\ud3ec\\uad6c\", \"marker\": {\"color\": \"#FECB52\", \"size\": [22.0], \"sizemode\": \"area\", \"sizeref\": 0.0625, \"symbol\": \"circle\"}, \"mode\": \"markers\", \"name\": \"\\uc601\\ub4f1\\ud3ec\\uad6c\", \"showlegend\": true, \"type\": \"scatter\", \"x\": [5876.333333333333], \"xaxis\": \"x\", \"y\": [2202013.333333333], \"yaxis\": \"y\"}, {\"customdata\": [[3864653.3333333335]], \"hoverlabel\": {\"namelength\": 0}, \"hovertemplate\": \"\\uc9c0\\uc5ed\\uad6c=\\uc6a9\\uc0b0\\uad6c<br>5\\ub300\\ubc94\\uc8c4=%{x}<br>\\ud3c9\\uade0\\uc9c0\\uac00=%{customdata[0]}<br>\\ub7ad\\ud06c=%{marker.size}\", \"legendgroup\": \"\\uc6a9\\uc0b0\\uad6c\", \"marker\": {\"color\": \"#636efa\", \"size\": [7.0], \"sizemode\": \"area\", \"sizeref\": 0.0625, \"symbol\": \"circle\"}, \"mode\": \"markers\", \"name\": \"\\uc6a9\\uc0b0\\uad6c\", \"showlegend\": true, \"type\": \"scatter\", \"x\": [3594.6666666666665], \"xaxis\": \"x\", \"y\": [3864653.3333333335], \"yaxis\": \"y\"}, {\"customdata\": [[2714113.333333333]], \"hoverlabel\": {\"namelength\": 0}, \"hovertemplate\": \"\\uc9c0\\uc5ed\\uad6c=\\uc740\\ud3c9\\uad6c<br>5\\ub300\\ubc94\\uc8c4=%{x}<br>\\ud3c9\\uade0\\uc9c0\\uac00=%{customdata[0]}<br>\\ub7ad\\ud06c=%{marker.size}\", \"legendgroup\": \"\\uc740\\ud3c9\\uad6c\", \"marker\": {\"color\": \"#EF553B\", \"size\": [14.0], \"sizemode\": \"area\", \"sizeref\": 0.0625, \"symbol\": \"circle\"}, \"mode\": \"markers\", \"name\": \"\\uc740\\ud3c9\\uad6c\", \"showlegend\": true, \"type\": \"scatter\", \"x\": [3784.3333333333335], \"xaxis\": \"x\", \"y\": [2714113.333333333], \"yaxis\": \"y\"}, {\"customdata\": [[2530773.333333333]], \"hoverlabel\": {\"namelength\": 0}, \"hovertemplate\": \"\\uc9c0\\uc5ed\\uad6c=\\uc885\\ub85c\\uad6c<br>5\\ub300\\ubc94\\uc8c4=%{x}<br>\\ud3c9\\uade0\\uc9c0\\uac00=%{customdata[0]}<br>\\ub7ad\\ud06c=%{marker.size}\", \"legendgroup\": \"\\uc885\\ub85c\\uad6c\", \"marker\": {\"color\": \"#00cc96\", \"size\": [18.0], \"sizemode\": \"area\", \"sizeref\": 0.0625, \"symbol\": \"circle\"}, \"mode\": \"markers\", \"name\": \"\\uc885\\ub85c\\uad6c\", \"showlegend\": true, \"type\": \"scatter\", \"x\": [3864.3333333333335], \"xaxis\": \"x\", \"y\": [2530773.333333333], \"yaxis\": \"y\"}, {\"customdata\": [[17859333.333333332]], \"hoverlabel\": {\"namelength\": 0}, \"hovertemplate\": \"\\uc9c0\\uc5ed\\uad6c=\\uc911\\uad6c<br>5\\ub300\\ubc94\\uc8c4=%{x}<br>\\ud3c9\\uade0\\uc9c0\\uac00=%{customdata[0]}<br>\\ub7ad\\ud06c=%{marker.size}\", \"legendgroup\": \"\\uc911\\uad6c\", \"marker\": {\"color\": \"#ab63fa\", \"size\": [1.0], \"sizemode\": \"area\", \"sizeref\": 0.0625, \"symbol\": \"circle\"}, \"mode\": \"markers\", \"name\": \"\\uc911\\uad6c\", \"showlegend\": true, \"type\": \"scatter\", \"x\": [4180.333333333333], \"xaxis\": \"x\", \"y\": [17859333.333333332], \"yaxis\": \"y\"}, {\"customdata\": [[1308680.0]], \"hoverlabel\": {\"namelength\": 0}, \"hovertemplate\": \"\\uc9c0\\uc5ed\\uad6c=\\uc911\\ub791\\uad6c<br>5\\ub300\\ubc94\\uc8c4=%{x}<br>\\ud3c9\\uade0\\uc9c0\\uac00=%{customdata[0]}<br>\\ub7ad\\ud06c=%{marker.size}\", \"legendgroup\": \"\\uc911\\ub791\\uad6c\", \"marker\": {\"color\": \"#FFA15A\", \"size\": [24.0], \"sizemode\": \"area\", \"sizeref\": 0.0625, \"symbol\": \"circle\"}, \"mode\": \"markers\", \"name\": \"\\uc911\\ub791\\uad6c\", \"showlegend\": true, \"type\": \"scatter\", \"x\": [4375.666666666667], \"xaxis\": \"x\", \"y\": [1308680.0], \"yaxis\": \"y\"}],\n",
       "                        {\"legend\": {\"itemsizing\": \"constant\", \"title\": {\"text\": \"\\uc9c0\\uc5ed\\uad6c\"}, \"tracegroupgap\": 0}, \"template\": {\"data\": {\"bar\": [{\"error_x\": {\"color\": \"#2a3f5f\"}, \"error_y\": {\"color\": \"#2a3f5f\"}, \"marker\": {\"line\": {\"color\": \"#E5ECF6\", \"width\": 0.5}}, \"type\": \"bar\"}], \"barpolar\": [{\"marker\": {\"line\": {\"color\": \"#E5ECF6\", \"width\": 0.5}}, \"type\": \"barpolar\"}], \"carpet\": [{\"aaxis\": {\"endlinecolor\": \"#2a3f5f\", \"gridcolor\": \"white\", \"linecolor\": \"white\", \"minorgridcolor\": \"white\", \"startlinecolor\": \"#2a3f5f\"}, \"baxis\": {\"endlinecolor\": \"#2a3f5f\", \"gridcolor\": \"white\", \"linecolor\": \"white\", \"minorgridcolor\": \"white\", \"startlinecolor\": \"#2a3f5f\"}, \"type\": \"carpet\"}], \"choropleth\": [{\"colorbar\": {\"outlinewidth\": 0, \"ticks\": \"\"}, \"type\": \"choropleth\"}], \"contour\": [{\"colorbar\": {\"outlinewidth\": 0, \"ticks\": \"\"}, \"colorscale\": [[0.0, \"#0d0887\"], [0.1111111111111111, \"#46039f\"], [0.2222222222222222, \"#7201a8\"], [0.3333333333333333, \"#9c179e\"], [0.4444444444444444, \"#bd3786\"], [0.5555555555555556, \"#d8576b\"], [0.6666666666666666, \"#ed7953\"], [0.7777777777777778, \"#fb9f3a\"], [0.8888888888888888, \"#fdca26\"], [1.0, \"#f0f921\"]], \"type\": \"contour\"}], \"contourcarpet\": [{\"colorbar\": {\"outlinewidth\": 0, \"ticks\": \"\"}, \"type\": \"contourcarpet\"}], \"heatmap\": [{\"colorbar\": {\"outlinewidth\": 0, \"ticks\": \"\"}, \"colorscale\": [[0.0, \"#0d0887\"], [0.1111111111111111, \"#46039f\"], [0.2222222222222222, \"#7201a8\"], [0.3333333333333333, \"#9c179e\"], [0.4444444444444444, \"#bd3786\"], [0.5555555555555556, \"#d8576b\"], [0.6666666666666666, \"#ed7953\"], [0.7777777777777778, \"#fb9f3a\"], [0.8888888888888888, \"#fdca26\"], [1.0, \"#f0f921\"]], \"type\": \"heatmap\"}], \"heatmapgl\": [{\"colorbar\": {\"outlinewidth\": 0, \"ticks\": \"\"}, \"colorscale\": [[0.0, \"#0d0887\"], [0.1111111111111111, \"#46039f\"], [0.2222222222222222, \"#7201a8\"], [0.3333333333333333, \"#9c179e\"], [0.4444444444444444, \"#bd3786\"], [0.5555555555555556, \"#d8576b\"], [0.6666666666666666, \"#ed7953\"], [0.7777777777777778, \"#fb9f3a\"], [0.8888888888888888, \"#fdca26\"], [1.0, \"#f0f921\"]], \"type\": \"heatmapgl\"}], \"histogram\": [{\"marker\": {\"colorbar\": {\"outlinewidth\": 0, \"ticks\": \"\"}}, \"type\": \"histogram\"}], \"histogram2d\": [{\"colorbar\": {\"outlinewidth\": 0, \"ticks\": \"\"}, \"colorscale\": [[0.0, \"#0d0887\"], [0.1111111111111111, \"#46039f\"], [0.2222222222222222, \"#7201a8\"], [0.3333333333333333, \"#9c179e\"], [0.4444444444444444, \"#bd3786\"], [0.5555555555555556, \"#d8576b\"], [0.6666666666666666, \"#ed7953\"], [0.7777777777777778, \"#fb9f3a\"], [0.8888888888888888, \"#fdca26\"], [1.0, \"#f0f921\"]], \"type\": \"histogram2d\"}], \"histogram2dcontour\": [{\"colorbar\": {\"outlinewidth\": 0, \"ticks\": \"\"}, \"colorscale\": [[0.0, \"#0d0887\"], [0.1111111111111111, \"#46039f\"], [0.2222222222222222, \"#7201a8\"], [0.3333333333333333, \"#9c179e\"], [0.4444444444444444, \"#bd3786\"], [0.5555555555555556, \"#d8576b\"], [0.6666666666666666, \"#ed7953\"], [0.7777777777777778, \"#fb9f3a\"], [0.8888888888888888, \"#fdca26\"], [1.0, \"#f0f921\"]], \"type\": \"histogram2dcontour\"}], \"mesh3d\": [{\"colorbar\": {\"outlinewidth\": 0, \"ticks\": \"\"}, \"type\": \"mesh3d\"}], \"parcoords\": [{\"line\": {\"colorbar\": {\"outlinewidth\": 0, \"ticks\": \"\"}}, \"type\": \"parcoords\"}], \"pie\": [{\"automargin\": true, \"type\": \"pie\"}], \"scatter\": [{\"marker\": {\"colorbar\": {\"outlinewidth\": 0, \"ticks\": \"\"}}, \"type\": \"scatter\"}], \"scatter3d\": [{\"line\": {\"colorbar\": {\"outlinewidth\": 0, \"ticks\": \"\"}}, \"marker\": {\"colorbar\": {\"outlinewidth\": 0, \"ticks\": \"\"}}, \"type\": \"scatter3d\"}], \"scattercarpet\": [{\"marker\": {\"colorbar\": {\"outlinewidth\": 0, \"ticks\": \"\"}}, \"type\": \"scattercarpet\"}], \"scattergeo\": [{\"marker\": {\"colorbar\": {\"outlinewidth\": 0, \"ticks\": \"\"}}, \"type\": \"scattergeo\"}], \"scattergl\": [{\"marker\": {\"colorbar\": {\"outlinewidth\": 0, \"ticks\": \"\"}}, \"type\": \"scattergl\"}], \"scattermapbox\": [{\"marker\": {\"colorbar\": {\"outlinewidth\": 0, \"ticks\": \"\"}}, \"type\": \"scattermapbox\"}], \"scatterpolar\": [{\"marker\": {\"colorbar\": {\"outlinewidth\": 0, \"ticks\": \"\"}}, \"type\": \"scatterpolar\"}], \"scatterpolargl\": [{\"marker\": {\"colorbar\": {\"outlinewidth\": 0, \"ticks\": \"\"}}, \"type\": \"scatterpolargl\"}], \"scatterternary\": [{\"marker\": {\"colorbar\": {\"outlinewidth\": 0, \"ticks\": \"\"}}, \"type\": \"scatterternary\"}], \"surface\": [{\"colorbar\": {\"outlinewidth\": 0, \"ticks\": \"\"}, \"colorscale\": [[0.0, \"#0d0887\"], [0.1111111111111111, \"#46039f\"], [0.2222222222222222, \"#7201a8\"], [0.3333333333333333, \"#9c179e\"], [0.4444444444444444, \"#bd3786\"], [0.5555555555555556, \"#d8576b\"], [0.6666666666666666, \"#ed7953\"], [0.7777777777777778, \"#fb9f3a\"], [0.8888888888888888, \"#fdca26\"], [1.0, \"#f0f921\"]], \"type\": \"surface\"}], \"table\": [{\"cells\": {\"fill\": {\"color\": \"#EBF0F8\"}, \"line\": {\"color\": \"white\"}}, \"header\": {\"fill\": {\"color\": \"#C8D4E3\"}, \"line\": {\"color\": \"white\"}}, \"type\": \"table\"}]}, \"layout\": {\"annotationdefaults\": {\"arrowcolor\": \"#2a3f5f\", \"arrowhead\": 0, \"arrowwidth\": 1}, \"coloraxis\": {\"colorbar\": {\"outlinewidth\": 0, \"ticks\": \"\"}}, \"colorscale\": {\"diverging\": [[0, \"#8e0152\"], [0.1, \"#c51b7d\"], [0.2, \"#de77ae\"], [0.3, \"#f1b6da\"], [0.4, \"#fde0ef\"], [0.5, \"#f7f7f7\"], [0.6, \"#e6f5d0\"], [0.7, \"#b8e186\"], [0.8, \"#7fbc41\"], [0.9, \"#4d9221\"], [1, \"#276419\"]], \"sequential\": [[0.0, \"#0d0887\"], [0.1111111111111111, \"#46039f\"], [0.2222222222222222, \"#7201a8\"], [0.3333333333333333, \"#9c179e\"], [0.4444444444444444, \"#bd3786\"], [0.5555555555555556, \"#d8576b\"], [0.6666666666666666, \"#ed7953\"], [0.7777777777777778, \"#fb9f3a\"], [0.8888888888888888, \"#fdca26\"], [1.0, \"#f0f921\"]], \"sequentialminus\": [[0.0, \"#0d0887\"], [0.1111111111111111, \"#46039f\"], [0.2222222222222222, \"#7201a8\"], [0.3333333333333333, \"#9c179e\"], [0.4444444444444444, \"#bd3786\"], [0.5555555555555556, \"#d8576b\"], [0.6666666666666666, \"#ed7953\"], [0.7777777777777778, \"#fb9f3a\"], [0.8888888888888888, \"#fdca26\"], [1.0, \"#f0f921\"]]}, \"colorway\": [\"#636efa\", \"#EF553B\", \"#00cc96\", \"#ab63fa\", \"#FFA15A\", \"#19d3f3\", \"#FF6692\", \"#B6E880\", \"#FF97FF\", \"#FECB52\"], \"font\": {\"color\": \"#2a3f5f\"}, \"geo\": {\"bgcolor\": \"white\", \"lakecolor\": \"white\", \"landcolor\": \"#E5ECF6\", \"showlakes\": true, \"showland\": true, \"subunitcolor\": \"white\"}, \"hoverlabel\": {\"align\": \"left\"}, \"hovermode\": \"closest\", \"mapbox\": {\"style\": \"light\"}, \"paper_bgcolor\": \"white\", \"plot_bgcolor\": \"#E5ECF6\", \"polar\": {\"angularaxis\": {\"gridcolor\": \"white\", \"linecolor\": \"white\", \"ticks\": \"\"}, \"bgcolor\": \"#E5ECF6\", \"radialaxis\": {\"gridcolor\": \"white\", \"linecolor\": \"white\", \"ticks\": \"\"}}, \"scene\": {\"xaxis\": {\"backgroundcolor\": \"#E5ECF6\", \"gridcolor\": \"white\", \"gridwidth\": 2, \"linecolor\": \"white\", \"showbackground\": true, \"ticks\": \"\", \"zerolinecolor\": \"white\"}, \"yaxis\": {\"backgroundcolor\": \"#E5ECF6\", \"gridcolor\": \"white\", \"gridwidth\": 2, \"linecolor\": \"white\", \"showbackground\": true, \"ticks\": \"\", \"zerolinecolor\": \"white\"}, \"zaxis\": {\"backgroundcolor\": \"#E5ECF6\", \"gridcolor\": \"white\", \"gridwidth\": 2, \"linecolor\": \"white\", \"showbackground\": true, \"ticks\": \"\", \"zerolinecolor\": \"white\"}}, \"shapedefaults\": {\"line\": {\"color\": \"#2a3f5f\"}}, \"ternary\": {\"aaxis\": {\"gridcolor\": \"white\", \"linecolor\": \"white\", \"ticks\": \"\"}, \"baxis\": {\"gridcolor\": \"white\", \"linecolor\": \"white\", \"ticks\": \"\"}, \"bgcolor\": \"#E5ECF6\", \"caxis\": {\"gridcolor\": \"white\", \"linecolor\": \"white\", \"ticks\": \"\"}}, \"title\": {\"x\": 0.05}, \"xaxis\": {\"automargin\": true, \"gridcolor\": \"white\", \"linecolor\": \"white\", \"ticks\": \"\", \"title\": {\"standoff\": 15}, \"zerolinecolor\": \"white\", \"zerolinewidth\": 2}, \"yaxis\": {\"automargin\": true, \"gridcolor\": \"white\", \"linecolor\": \"white\", \"ticks\": \"\", \"title\": {\"standoff\": 15}, \"zerolinecolor\": \"white\", \"zerolinewidth\": 2}}}, \"title\": {\"text\": \"\\ucc29\\ud558\\uac8c \\uc0b4\\uc790\"}, \"xaxis\": {\"anchor\": \"y\", \"domain\": [0.0, 1.0], \"title\": {\"text\": \"5\\ub300\\ubc94\\uc8c4\"}}, \"yaxis\": {\"anchor\": \"x\", \"domain\": [0.0, 1.0], \"title\": {\"text\": \"\\ud3c9\\uade0\\uc9c0\\uac00\"}}},\n",
       "                        {\"responsive\": true}\n",
       "                    ).then(function(){\n",
       "                            \n",
       "var gd = document.getElementById('4784ad28-7a7f-4947-a2bf-60376e6fc95f');\n",
       "var x = new MutationObserver(function (mutations, observer) {{\n",
       "        var display = window.getComputedStyle(gd).display;\n",
       "        if (!display || display === 'none') {{\n",
       "            console.log([gd, 'removed!']);\n",
       "            Plotly.purge(gd);\n",
       "            observer.disconnect();\n",
       "        }}\n",
       "}});\n",
       "\n",
       "// Listen for the removal of the full notebook cells\n",
       "var notebookContainer = gd.closest('#notebook-container');\n",
       "if (notebookContainer) {{\n",
       "    x.observe(notebookContainer, {childList: true});\n",
       "}}\n",
       "\n",
       "// Listen for the clearing of the current output cell\n",
       "var outputEl = gd.closest('.output');\n",
       "if (outputEl) {{\n",
       "    x.observe(outputEl, {childList: true});\n",
       "}}\n",
       "\n",
       "                        })\n",
       "                };\n",
       "                });\n",
       "            </script>\n",
       "        </div>"
      ]
     },
     "metadata": {},
     "output_type": "display_data"
    }
   ],
   "source": [
    "tall=px.scatter(value, x=\"5대범죄\", y=\"평균지가\",\n",
    "                 color=\"지역구\", # Species 열의 값에 따라서 색깔 표현\n",
    "                 size='랭크', # petal_length 에 따라 크기를 변화\n",
    "                 hover_data=['평균지가'], # 참고할 데이터 추가\n",
    "                 title='착하게 살자' # 그래프 타이틀 지정\n",
    "                )\n",
    "tall.show()"
   ]
  },
  {
   "cell_type": "code",
   "execution_count": 37,
   "id": "dd14f276",
   "metadata": {},
   "outputs": [
    {
     "data": {
      "text/plain": [
       "'{\"data\":[{\"customdata\":[[3833.0]],\"hoverlabel\":{\"namelength\":0},\"hovertemplate\":\"\\\\uc9c0\\\\uc5ed\\\\uad6c=\\\\uac15\\\\ub0a8\\\\uad6c<br>5\\\\ub300\\\\ubc94\\\\uc8c4=%{x}<br>\\\\ud3ed\\\\ub825=%{customdata[0]}<br>\\\\ub7ad\\\\ud06c=%{marker.size}\",\"legendgroup\":\"\\\\uac15\\\\ub0a8\\\\uad6c\",\"marker\":{\"color\":\"#636efa\",\"size\":[6.0],\"sizemode\":\"area\",\"sizeref\":0.0625,\"symbol\":\"circle\"},\"mode\":\"markers\",\"name\":\"\\\\uac15\\\\ub0a8\\\\uad6c\",\"showlegend\":true,\"type\":\"scatter\",\"x\":[7512.333333333333],\"xaxis\":\"x\",\"y\":[3833.0],\"yaxis\":\"y\"},{\"customdata\":[[2272.0]],\"hoverlabel\":{\"namelength\":0},\"hovertemplate\":\"\\\\uc9c0\\\\uc5ed\\\\uad6c=\\\\uac15\\\\ub3d9\\\\uad6c<br>5\\\\ub300\\\\ubc94\\\\uc8c4=%{x}<br>\\\\ud3ed\\\\ub825=%{customdata[0]}<br>\\\\ub7ad\\\\ud06c=%{marker.size}\",\"legendgroup\":\"\\\\uac15\\\\ub3d9\\\\uad6c\",\"marker\":{\"color\":\"#EF553B\",\"size\":[5.0],\"sizemode\":\"area\",\"sizeref\":0.0625,\"symbol\":\"circle\"},\"mode\":\"markers\",\"name\":\"\\\\uac15\\\\ub3d9\\\\uad6c\",\"showlegend\":true,\"type\":\"scatter\",\"x\":[4064.6666666666665],\"xaxis\":\"x\",\"y\":[2272.0],\"yaxis\":\"y\"},{\"customdata\":[[2234.0]],\"hoverlabel\":{\"namelength\":0},\"hovertemplate\":\"\\\\uc9c0\\\\uc5ed\\\\uad6c=\\\\uac15\\\\ubd81\\\\uad6c<br>5\\\\ub300\\\\ubc94\\\\uc8c4=%{x}<br>\\\\ud3ed\\\\ub825=%{customdata[0]}<br>\\\\ub7ad\\\\ud06c=%{marker.size}\",\"legendgroup\":\"\\\\uac15\\\\ubd81\\\\uad6c\",\"marker\":{\"color\":\"#00cc96\",\"size\":[20.0],\"sizemode\":\"area\",\"sizeref\":0.0625,\"symbol\":\"circle\"},\"mode\":\"markers\",\"name\":\"\\\\uac15\\\\ubd81\\\\uad6c\",\"showlegend\":true,\"type\":\"scatter\",\"x\":[3556.0],\"xaxis\":\"x\",\"y\":[2234.0],\"yaxis\":\"y\"},{\"customdata\":[[2697.333333333333]],\"hoverlabel\":{\"namelength\":0},\"hovertemplate\":\"\\\\uc9c0\\\\uc5ed\\\\uad6c=\\\\uac15\\\\uc11c\\\\uad6c<br>5\\\\ub300\\\\ubc94\\\\uc8c4=%{x}<br>\\\\ud3ed\\\\ub825=%{customdata[0]}<br>\\\\ub7ad\\\\ud06c=%{marker.size}\",\"legendgroup\":\"\\\\uac15\\\\uc11c\\\\uad6c\",\"marker\":{\"color\":\"#ab63fa\",\"size\":[21.0],\"sizemode\":\"area\",\"sizeref\":0.0625,\"symbol\":\"circle\"},\"mode\":\"markers\",\"name\":\"\\\\uac15\\\\uc11c\\\\uad6c\",\"showlegend\":true,\"type\":\"scatter\",\"x\":[4896.0],\"xaxis\":\"x\",\"y\":[2697.333333333333],\"yaxis\":\"y\"},{\"customdata\":[[2823.0]],\"hoverlabel\":{\"namelength\":0},\"hovertemplate\":\"\\\\uc9c0\\\\uc5ed\\\\uad6c=\\\\uad00\\\\uc545\\\\uad6c<br>5\\\\ub300\\\\ubc94\\\\uc8c4=%{x}<br>\\\\ud3ed\\\\ub825=%{customdata[0]}<br>\\\\ub7ad\\\\ud06c=%{marker.size}\",\"legendgroup\":\"\\\\uad00\\\\uc545\\\\uad6c\",\"marker\":{\"color\":\"#FFA15A\",\"size\":[25.0],\"sizemode\":\"area\",\"sizeref\":0.0625,\"symbol\":\"circle\"},\"mode\":\"markers\",\"name\":\"\\\\uad00\\\\uc545\\\\uad6c\",\"showlegend\":true,\"type\":\"scatter\",\"x\":[5293.0],\"xaxis\":\"x\",\"y\":[2823.0],\"yaxis\":\"y\"},{\"customdata\":[[1969.0]],\"hoverlabel\":{\"namelength\":0},\"hovertemplate\":\"\\\\uc9c0\\\\uc5ed\\\\uad6c=\\\\uad11\\\\uc9c4\\\\uad6c<br>5\\\\ub300\\\\ubc94\\\\uc8c4=%{x}<br>\\\\ud3ed\\\\ub825=%{customdata[0]}<br>\\\\ub7ad\\\\ud06c=%{marker.size}\",\"legendgroup\":\"\\\\uad11\\\\uc9c4\\\\uad6c\",\"marker\":{\"color\":\"#19d3f3\",\"size\":[19.0],\"sizemode\":\"area\",\"sizeref\":0.0625,\"symbol\":\"circle\"},\"mode\":\"markers\",\"name\":\"\\\\uad11\\\\uc9c4\\\\uad6c\",\"showlegend\":true,\"type\":\"scatter\",\"x\":[4190.666666666667],\"xaxis\":\"x\",\"y\":[1969.0],\"yaxis\":\"y\"},{\"customdata\":[[2735.0]],\"hoverlabel\":{\"namelength\":0},\"hovertemplate\":\"\\\\uc9c0\\\\uc5ed\\\\uad6c=\\\\uad6c\\\\ub85c\\\\uad6c<br>5\\\\ub300\\\\ubc94\\\\uc8c4=%{x}<br>\\\\ud3ed\\\\ub825=%{customdata[0]}<br>\\\\ub7ad\\\\ud06c=%{marker.size}\",\"legendgroup\":\"\\\\uad6c\\\\ub85c\\\\uad6c\",\"marker\":{\"color\":\"#FF6692\",\"size\":[17.0],\"sizemode\":\"area\",\"sizeref\":0.0625,\"symbol\":\"circle\"},\"mode\":\"markers\",\"name\":\"\\\\uad6c\\\\ub85c\\\\uad6c\",\"showlegend\":true,\"type\":\"scatter\",\"x\":[4804.0],\"xaxis\":\"x\",\"y\":[2735.0],\"yaxis\":\"y\"},{\"customdata\":[[1855.0]],\"hoverlabel\":{\"namelength\":0},\"hovertemplate\":\"\\\\uc9c0\\\\uc5ed\\\\uad6c=\\\\uae08\\\\ucc9c\\\\uad6c<br>5\\\\ub300\\\\ubc94\\\\uc8c4=%{x}<br>\\\\ud3ed\\\\ub825=%{customdata[0]}<br>\\\\ub7ad\\\\ud06c=%{marker.size}\",\"legendgroup\":\"\\\\uae08\\\\ucc9c\\\\uad6c\",\"marker\":{\"color\":\"#B6E880\",\"size\":[15.0],\"sizemode\":\"area\",\"sizeref\":0.0625,\"symbol\":\"circle\"},\"mode\":\"markers\",\"name\":\"\\\\uae08\\\\ucc9c\\\\uad6c\",\"showlegend\":true,\"type\":\"scatter\",\"x\":[3221.0],\"xaxis\":\"x\",\"y\":[1855.0],\"yaxis\":\"y\"},{\"customdata\":[[2441.0]],\"hoverlabel\":{\"namelength\":0},\"hovertemplate\":\"\\\\uc9c0\\\\uc5ed\\\\uad6c=\\\\ub178\\\\uc6d0\\\\uad6c<br>5\\\\ub300\\\\ubc94\\\\uc8c4=%{x}<br>\\\\ud3ed\\\\ub825=%{customdata[0]}<br>\\\\ub7ad\\\\ud06c=%{marker.size}\",\"legendgroup\":\"\\\\ub178\\\\uc6d0\\\\uad6c\",\"marker\":{\"color\":\"#FF97FF\",\"size\":[23.0],\"sizemode\":\"area\",\"sizeref\":0.0625,\"symbol\":\"circle\"},\"mode\":\"markers\",\"name\":\"\\\\ub178\\\\uc6d0\\\\uad6c\",\"showlegend\":true,\"type\":\"scatter\",\"x\":[4123.0],\"xaxis\":\"x\",\"y\":[2441.0],\"yaxis\":\"y\"},{\"customdata\":[[1277.0]],\"hoverlabel\":{\"namelength\":0},\"hovertemplate\":\"\\\\uc9c0\\\\uc5ed\\\\uad6c=\\\\ub3c4\\\\ubd09\\\\uad6c<br>5\\\\ub300\\\\ubc94\\\\uc8c4=%{x}<br>\\\\ud3ed\\\\ub825=%{customdata[0]}<br>\\\\ub7ad\\\\ud06c=%{marker.size}\",\"legendgroup\":\"\\\\ub3c4\\\\ubd09\\\\uad6c\",\"marker\":{\"color\":\"#FECB52\",\"size\":[16.0],\"sizemode\":\"area\",\"sizeref\":0.0625,\"symbol\":\"circle\"},\"mode\":\"markers\",\"name\":\"\\\\ub3c4\\\\ubd09\\\\uad6c\",\"showlegend\":true,\"type\":\"scatter\",\"x\":[2119.333333333333],\"xaxis\":\"x\",\"y\":[1277.0],\"yaxis\":\"y\"},{\"customdata\":[[2102.333333333333]],\"hoverlabel\":{\"namelength\":0},\"hovertemplate\":\"\\\\uc9c0\\\\uc5ed\\\\uad6c=\\\\ub3d9\\\\ub300\\\\ubb38\\\\uad6c<br>5\\\\ub300\\\\ubc94\\\\uc8c4=%{x}<br>\\\\ud3ed\\\\ub825=%{customdata[0]}<br>\\\\ub7ad\\\\ud06c=%{marker.size}\",\"legendgroup\":\"\\\\ub3d9\\\\ub300\\\\ubb38\\\\uad6c\",\"marker\":{\"color\":\"#636efa\",\"size\":[12.0],\"sizemode\":\"area\",\"sizeref\":0.0625,\"symbol\":\"circle\"},\"mode\":\"markers\",\"name\":\"\\\\ub3d9\\\\ub300\\\\ubb38\\\\uad6c\",\"showlegend\":true,\"type\":\"scatter\",\"x\":[3782.3333333333335],\"xaxis\":\"x\",\"y\":[2102.333333333333],\"yaxis\":\"y\"},{\"customdata\":[[1722.3333333333333]],\"hoverlabel\":{\"namelength\":0},\"hovertemplate\":\"\\\\uc9c0\\\\uc5ed\\\\uad6c=\\\\ub3d9\\\\uc791\\\\uad6c<br>5\\\\ub300\\\\ubc94\\\\uc8c4=%{x}<br>\\\\ud3ed\\\\ub825=%{customdata[0]}<br>\\\\ub7ad\\\\ud06c=%{marker.size}\",\"legendgroup\":\"\\\\ub3d9\\\\uc791\\\\uad6c\",\"marker\":{\"color\":\"#EF553B\",\"size\":[4.0],\"sizemode\":\"area\",\"sizeref\":0.0625,\"symbol\":\"circle\"},\"mode\":\"markers\",\"name\":\"\\\\ub3d9\\\\uc791\\\\uad6c\",\"showlegend\":true,\"type\":\"scatter\",\"x\":[3276.6666666666665],\"xaxis\":\"x\",\"y\":[1722.3333333333333],\"yaxis\":\"y\"},{\"customdata\":[[2500.6666666666665]],\"hoverlabel\":{\"namelength\":0},\"hovertemplate\":\"\\\\uc9c0\\\\uc5ed\\\\uad6c=\\\\ub9c8\\\\ud3ec\\\\uad6c<br>5\\\\ub300\\\\ubc94\\\\uc8c4=%{x}<br>\\\\ud3ed\\\\ub825=%{customdata[0]}<br>\\\\ub7ad\\\\ud06c=%{marker.size}\",\"legendgroup\":\"\\\\ub9c8\\\\ud3ec\\\\uad6c\",\"marker\":{\"color\":\"#00cc96\",\"size\":[11.0],\"sizemode\":\"area\",\"sizeref\":0.0625,\"symbol\":\"circle\"},\"mode\":\"markers\",\"name\":\"\\\\ub9c8\\\\ud3ec\\\\uad6c\",\"showlegend\":true,\"type\":\"scatter\",\"x\":[5097.333333333333],\"xaxis\":\"x\",\"y\":[2500.6666666666665],\"yaxis\":\"y\"},{\"customdata\":[[1579.0]],\"hoverlabel\":{\"namelength\":0},\"hovertemplate\":\"\\\\uc9c0\\\\uc5ed\\\\uad6c=\\\\uc11c\\\\ub300\\\\ubb38\\\\uad6c<br>5\\\\ub300\\\\ubc94\\\\uc8c4=%{x}<br>\\\\ud3ed\\\\ub825=%{customdata[0]}<br>\\\\ub7ad\\\\ud06c=%{marker.size}\",\"legendgroup\":\"\\\\uc11c\\\\ub300\\\\ubb38\\\\uad6c\",\"marker\":{\"color\":\"#ab63fa\",\"size\":[3.0],\"sizemode\":\"area\",\"sizeref\":0.0625,\"symbol\":\"circle\"},\"mode\":\"markers\",\"name\":\"\\\\uc11c\\\\ub300\\\\ubb38\\\\uad6c\",\"showlegend\":true,\"type\":\"scatter\",\"x\":[2952.6666666666665],\"xaxis\":\"x\",\"y\":[1579.0],\"yaxis\":\"y\"},{\"customdata\":[[2481.0]],\"hoverlabel\":{\"namelength\":0},\"hovertemplate\":\"\\\\uc9c0\\\\uc5ed\\\\uad6c=\\\\uc11c\\\\ucd08\\\\uad6c<br>5\\\\ub300\\\\ubc94\\\\uc8c4=%{x}<br>\\\\ud3ed\\\\ub825=%{customdata[0]}<br>\\\\ub7ad\\\\ud06c=%{marker.size}\",\"legendgroup\":\"\\\\uc11c\\\\ucd08\\\\uad6c\",\"marker\":{\"color\":\"#FFA15A\",\"size\":[8.0],\"sizemode\":\"area\",\"sizeref\":0.0625,\"symbol\":\"circle\"},\"mode\":\"markers\",\"name\":\"\\\\uc11c\\\\ucd08\\\\uad6c\",\"showlegend\":true,\"type\":\"scatter\",\"x\":[4992.0],\"xaxis\":\"x\",\"y\":[2481.0],\"yaxis\":\"y\"},{\"customdata\":[[1426.0]],\"hoverlabel\":{\"namelength\":0},\"hovertemplate\":\"\\\\uc9c0\\\\uc5ed\\\\uad6c=\\\\uc131\\\\ub3d9\\\\uad6c<br>5\\\\ub300\\\\ubc94\\\\uc8c4=%{x}<br>\\\\ud3ed\\\\ub825=%{customdata[0]}<br>\\\\ub7ad\\\\ud06c=%{marker.size}\",\"legendgroup\":\"\\\\uc131\\\\ub3d9\\\\uad6c\",\"marker\":{\"color\":\"#19d3f3\",\"size\":[2.0],\"sizemode\":\"area\",\"sizeref\":0.0625,\"symbol\":\"circle\"},\"mode\":\"markers\",\"name\":\"\\\\uc131\\\\ub3d9\\\\uad6c\",\"showlegend\":true,\"type\":\"scatter\",\"x\":[2578.6666666666665],\"xaxis\":\"x\",\"y\":[1426.0],\"yaxis\":\"y\"},{\"customdata\":[[1734.0]],\"hoverlabel\":{\"namelength\":0},\"hovertemplate\":\"\\\\uc9c0\\\\uc5ed\\\\uad6c=\\\\uc131\\\\ubd81\\\\uad6c<br>5\\\\ub300\\\\ubc94\\\\uc8c4=%{x}<br>\\\\ud3ed\\\\ub825=%{customdata[0]}<br>\\\\ub7ad\\\\ud06c=%{marker.size}\",\"legendgroup\":\"\\\\uc131\\\\ubd81\\\\uad6c\",\"marker\":{\"color\":\"#FF6692\",\"size\":[9.0],\"sizemode\":\"area\",\"sizeref\":0.0625,\"symbol\":\"circle\"},\"mode\":\"markers\",\"name\":\"\\\\uc131\\\\ubd81\\\\uad6c\",\"showlegend\":true,\"type\":\"scatter\",\"x\":[3117.6666666666665],\"xaxis\":\"x\",\"y\":[1734.0],\"yaxis\":\"y\"},{\"customdata\":[[3044.6666666666665]],\"hoverlabel\":{\"namelength\":0},\"hovertemplate\":\"\\\\uc9c0\\\\uc5ed\\\\uad6c=\\\\uc1a1\\\\ud30c\\\\uad6c<br>5\\\\ub300\\\\ubc94\\\\uc8c4=%{x}<br>\\\\ud3ed\\\\ub825=%{customdata[0]}<br>\\\\ub7ad\\\\ud06c=%{marker.size}\",\"legendgroup\":\"\\\\uc1a1\\\\ud30c\\\\uad6c\",\"marker\":{\"color\":\"#B6E880\",\"size\":[10.0],\"sizemode\":\"area\",\"sizeref\":0.0625,\"symbol\":\"circle\"},\"mode\":\"markers\",\"name\":\"\\\\uc1a1\\\\ud30c\\\\uad6c\",\"showlegend\":true,\"type\":\"scatter\",\"x\":[5693.666666666667],\"xaxis\":\"x\",\"y\":[3044.6666666666665],\"yaxis\":\"y\"},{\"customdata\":[[1918.3333333333333]],\"hoverlabel\":{\"namelength\":0},\"hovertemplate\":\"\\\\uc9c0\\\\uc5ed\\\\uad6c=\\\\uc591\\\\ucc9c\\\\uad6c<br>5\\\\ub300\\\\ubc94\\\\uc8c4=%{x}<br>\\\\ud3ed\\\\ub825=%{customdata[0]}<br>\\\\ub7ad\\\\ud06c=%{marker.size}\",\"legendgroup\":\"\\\\uc591\\\\ucc9c\\\\uad6c\",\"marker\":{\"color\":\"#FF97FF\",\"size\":[13.0],\"sizemode\":\"area\",\"sizeref\":0.0625,\"symbol\":\"circle\"},\"mode\":\"markers\",\"name\":\"\\\\uc591\\\\ucc9c\\\\uad6c\",\"showlegend\":true,\"type\":\"scatter\",\"x\":[3537.0],\"xaxis\":\"x\",\"y\":[1918.3333333333333],\"yaxis\":\"y\"},{\"customdata\":[[3121.333333333333]],\"hoverlabel\":{\"namelength\":0},\"hovertemplate\":\"\\\\uc9c0\\\\uc5ed\\\\uad6c=\\\\uc601\\\\ub4f1\\\\ud3ec\\\\uad6c<br>5\\\\ub300\\\\ubc94\\\\uc8c4=%{x}<br>\\\\ud3ed\\\\ub825=%{customdata[0]}<br>\\\\ub7ad\\\\ud06c=%{marker.size}\",\"legendgroup\":\"\\\\uc601\\\\ub4f1\\\\ud3ec\\\\uad6c\",\"marker\":{\"color\":\"#FECB52\",\"size\":[22.0],\"sizemode\":\"area\",\"sizeref\":0.0625,\"symbol\":\"circle\"},\"mode\":\"markers\",\"name\":\"\\\\uc601\\\\ub4f1\\\\ud3ec\\\\uad6c\",\"showlegend\":true,\"type\":\"scatter\",\"x\":[5876.333333333333],\"xaxis\":\"x\",\"y\":[3121.333333333333],\"yaxis\":\"y\"},{\"customdata\":[[2132.333333333333]],\"hoverlabel\":{\"namelength\":0},\"hovertemplate\":\"\\\\uc9c0\\\\uc5ed\\\\uad6c=\\\\uc6a9\\\\uc0b0\\\\uad6c<br>5\\\\ub300\\\\ubc94\\\\uc8c4=%{x}<br>\\\\ud3ed\\\\ub825=%{customdata[0]}<br>\\\\ub7ad\\\\ud06c=%{marker.size}\",\"legendgroup\":\"\\\\uc6a9\\\\uc0b0\\\\uad6c\",\"marker\":{\"color\":\"#636efa\",\"size\":[7.0],\"sizemode\":\"area\",\"sizeref\":0.0625,\"symbol\":\"circle\"},\"mode\":\"markers\",\"name\":\"\\\\uc6a9\\\\uc0b0\\\\uad6c\",\"showlegend\":true,\"type\":\"scatter\",\"x\":[3594.6666666666665],\"xaxis\":\"x\",\"y\":[2132.333333333333],\"yaxis\":\"y\"},{\"customdata\":[[2162.6666666666665]],\"hoverlabel\":{\"namelength\":0},\"hovertemplate\":\"\\\\uc9c0\\\\uc5ed\\\\uad6c=\\\\uc740\\\\ud3c9\\\\uad6c<br>5\\\\ub300\\\\ubc94\\\\uc8c4=%{x}<br>\\\\ud3ed\\\\ub825=%{customdata[0]}<br>\\\\ub7ad\\\\ud06c=%{marker.size}\",\"legendgroup\":\"\\\\uc740\\\\ud3c9\\\\uad6c\",\"marker\":{\"color\":\"#EF553B\",\"size\":[14.0],\"sizemode\":\"area\",\"sizeref\":0.0625,\"symbol\":\"circle\"},\"mode\":\"markers\",\"name\":\"\\\\uc740\\\\ud3c9\\\\uad6c\",\"showlegend\":true,\"type\":\"scatter\",\"x\":[3784.3333333333335],\"xaxis\":\"x\",\"y\":[2162.6666666666665],\"yaxis\":\"y\"},{\"customdata\":[[2062.333333333333]],\"hoverlabel\":{\"namelength\":0},\"hovertemplate\":\"\\\\uc9c0\\\\uc5ed\\\\uad6c=\\\\uc885\\\\ub85c\\\\uad6c<br>5\\\\ub300\\\\ubc94\\\\uc8c4=%{x}<br>\\\\ud3ed\\\\ub825=%{customdata[0]}<br>\\\\ub7ad\\\\ud06c=%{marker.size}\",\"legendgroup\":\"\\\\uc885\\\\ub85c\\\\uad6c\",\"marker\":{\"color\":\"#00cc96\",\"size\":[18.0],\"sizemode\":\"area\",\"sizeref\":0.0625,\"symbol\":\"circle\"},\"mode\":\"markers\",\"name\":\"\\\\uc885\\\\ub85c\\\\uad6c\",\"showlegend\":true,\"type\":\"scatter\",\"x\":[3864.3333333333335],\"xaxis\":\"x\",\"y\":[2062.333333333333],\"yaxis\":\"y\"},{\"customdata\":[[1979.3333333333333]],\"hoverlabel\":{\"namelength\":0},\"hovertemplate\":\"\\\\uc9c0\\\\uc5ed\\\\uad6c=\\\\uc911\\\\uad6c<br>5\\\\ub300\\\\ubc94\\\\uc8c4=%{x}<br>\\\\ud3ed\\\\ub825=%{customdata[0]}<br>\\\\ub7ad\\\\ud06c=%{marker.size}\",\"legendgroup\":\"\\\\uc911\\\\uad6c\",\"marker\":{\"color\":\"#ab63fa\",\"size\":[1.0],\"sizemode\":\"area\",\"sizeref\":0.0625,\"symbol\":\"circle\"},\"mode\":\"markers\",\"name\":\"\\\\uc911\\\\uad6c\",\"showlegend\":true,\"type\":\"scatter\",\"x\":[4180.333333333333],\"xaxis\":\"x\",\"y\":[1979.3333333333333],\"yaxis\":\"y\"},{\"customdata\":[[2629.6666666666665]],\"hoverlabel\":{\"namelength\":0},\"hovertemplate\":\"\\\\uc9c0\\\\uc5ed\\\\uad6c=\\\\uc911\\\\ub791\\\\uad6c<br>5\\\\ub300\\\\ubc94\\\\uc8c4=%{x}<br>\\\\ud3ed\\\\ub825=%{customdata[0]}<br>\\\\ub7ad\\\\ud06c=%{marker.size}\",\"legendgroup\":\"\\\\uc911\\\\ub791\\\\uad6c\",\"marker\":{\"color\":\"#FFA15A\",\"size\":[24.0],\"sizemode\":\"area\",\"sizeref\":0.0625,\"symbol\":\"circle\"},\"mode\":\"markers\",\"name\":\"\\\\uc911\\\\ub791\\\\uad6c\",\"showlegend\":true,\"type\":\"scatter\",\"x\":[4375.666666666667],\"xaxis\":\"x\",\"y\":[2629.6666666666665],\"yaxis\":\"y\"}],\"layout\":{\"legend\":{\"itemsizing\":\"constant\",\"title\":{\"text\":\"\\\\uc9c0\\\\uc5ed\\\\uad6c\"},\"tracegroupgap\":0},\"template\":{\"data\":{\"bar\":[{\"error_x\":{\"color\":\"#2a3f5f\"},\"error_y\":{\"color\":\"#2a3f5f\"},\"marker\":{\"line\":{\"color\":\"#E5ECF6\",\"width\":0.5}},\"type\":\"bar\"}],\"barpolar\":[{\"marker\":{\"line\":{\"color\":\"#E5ECF6\",\"width\":0.5}},\"type\":\"barpolar\"}],\"carpet\":[{\"aaxis\":{\"endlinecolor\":\"#2a3f5f\",\"gridcolor\":\"white\",\"linecolor\":\"white\",\"minorgridcolor\":\"white\",\"startlinecolor\":\"#2a3f5f\"},\"baxis\":{\"endlinecolor\":\"#2a3f5f\",\"gridcolor\":\"white\",\"linecolor\":\"white\",\"minorgridcolor\":\"white\",\"startlinecolor\":\"#2a3f5f\"},\"type\":\"carpet\"}],\"choropleth\":[{\"colorbar\":{\"outlinewidth\":0,\"ticks\":\"\"},\"type\":\"choropleth\"}],\"contour\":[{\"colorbar\":{\"outlinewidth\":0,\"ticks\":\"\"},\"colorscale\":[[0.0,\"#0d0887\"],[0.1111111111111111,\"#46039f\"],[0.2222222222222222,\"#7201a8\"],[0.3333333333333333,\"#9c179e\"],[0.4444444444444444,\"#bd3786\"],[0.5555555555555556,\"#d8576b\"],[0.6666666666666666,\"#ed7953\"],[0.7777777777777778,\"#fb9f3a\"],[0.8888888888888888,\"#fdca26\"],[1.0,\"#f0f921\"]],\"type\":\"contour\"}],\"contourcarpet\":[{\"colorbar\":{\"outlinewidth\":0,\"ticks\":\"\"},\"type\":\"contourcarpet\"}],\"heatmap\":[{\"colorbar\":{\"outlinewidth\":0,\"ticks\":\"\"},\"colorscale\":[[0.0,\"#0d0887\"],[0.1111111111111111,\"#46039f\"],[0.2222222222222222,\"#7201a8\"],[0.3333333333333333,\"#9c179e\"],[0.4444444444444444,\"#bd3786\"],[0.5555555555555556,\"#d8576b\"],[0.6666666666666666,\"#ed7953\"],[0.7777777777777778,\"#fb9f3a\"],[0.8888888888888888,\"#fdca26\"],[1.0,\"#f0f921\"]],\"type\":\"heatmap\"}],\"heatmapgl\":[{\"colorbar\":{\"outlinewidth\":0,\"ticks\":\"\"},\"colorscale\":[[0.0,\"#0d0887\"],[0.1111111111111111,\"#46039f\"],[0.2222222222222222,\"#7201a8\"],[0.3333333333333333,\"#9c179e\"],[0.4444444444444444,\"#bd3786\"],[0.5555555555555556,\"#d8576b\"],[0.6666666666666666,\"#ed7953\"],[0.7777777777777778,\"#fb9f3a\"],[0.8888888888888888,\"#fdca26\"],[1.0,\"#f0f921\"]],\"type\":\"heatmapgl\"}],\"histogram\":[{\"marker\":{\"colorbar\":{\"outlinewidth\":0,\"ticks\":\"\"}},\"type\":\"histogram\"}],\"histogram2d\":[{\"colorbar\":{\"outlinewidth\":0,\"ticks\":\"\"},\"colorscale\":[[0.0,\"#0d0887\"],[0.1111111111111111,\"#46039f\"],[0.2222222222222222,\"#7201a8\"],[0.3333333333333333,\"#9c179e\"],[0.4444444444444444,\"#bd3786\"],[0.5555555555555556,\"#d8576b\"],[0.6666666666666666,\"#ed7953\"],[0.7777777777777778,\"#fb9f3a\"],[0.8888888888888888,\"#fdca26\"],[1.0,\"#f0f921\"]],\"type\":\"histogram2d\"}],\"histogram2dcontour\":[{\"colorbar\":{\"outlinewidth\":0,\"ticks\":\"\"},\"colorscale\":[[0.0,\"#0d0887\"],[0.1111111111111111,\"#46039f\"],[0.2222222222222222,\"#7201a8\"],[0.3333333333333333,\"#9c179e\"],[0.4444444444444444,\"#bd3786\"],[0.5555555555555556,\"#d8576b\"],[0.6666666666666666,\"#ed7953\"],[0.7777777777777778,\"#fb9f3a\"],[0.8888888888888888,\"#fdca26\"],[1.0,\"#f0f921\"]],\"type\":\"histogram2dcontour\"}],\"mesh3d\":[{\"colorbar\":{\"outlinewidth\":0,\"ticks\":\"\"},\"type\":\"mesh3d\"}],\"parcoords\":[{\"line\":{\"colorbar\":{\"outlinewidth\":0,\"ticks\":\"\"}},\"type\":\"parcoords\"}],\"pie\":[{\"automargin\":true,\"type\":\"pie\"}],\"scatter\":[{\"marker\":{\"colorbar\":{\"outlinewidth\":0,\"ticks\":\"\"}},\"type\":\"scatter\"}],\"scatter3d\":[{\"line\":{\"colorbar\":{\"outlinewidth\":0,\"ticks\":\"\"}},\"marker\":{\"colorbar\":{\"outlinewidth\":0,\"ticks\":\"\"}},\"type\":\"scatter3d\"}],\"scattercarpet\":[{\"marker\":{\"colorbar\":{\"outlinewidth\":0,\"ticks\":\"\"}},\"type\":\"scattercarpet\"}],\"scattergeo\":[{\"marker\":{\"colorbar\":{\"outlinewidth\":0,\"ticks\":\"\"}},\"type\":\"scattergeo\"}],\"scattergl\":[{\"marker\":{\"colorbar\":{\"outlinewidth\":0,\"ticks\":\"\"}},\"type\":\"scattergl\"}],\"scattermapbox\":[{\"marker\":{\"colorbar\":{\"outlinewidth\":0,\"ticks\":\"\"}},\"type\":\"scattermapbox\"}],\"scatterpolar\":[{\"marker\":{\"colorbar\":{\"outlinewidth\":0,\"ticks\":\"\"}},\"type\":\"scatterpolar\"}],\"scatterpolargl\":[{\"marker\":{\"colorbar\":{\"outlinewidth\":0,\"ticks\":\"\"}},\"type\":\"scatterpolargl\"}],\"scatterternary\":[{\"marker\":{\"colorbar\":{\"outlinewidth\":0,\"ticks\":\"\"}},\"type\":\"scatterternary\"}],\"surface\":[{\"colorbar\":{\"outlinewidth\":0,\"ticks\":\"\"},\"colorscale\":[[0.0,\"#0d0887\"],[0.1111111111111111,\"#46039f\"],[0.2222222222222222,\"#7201a8\"],[0.3333333333333333,\"#9c179e\"],[0.4444444444444444,\"#bd3786\"],[0.5555555555555556,\"#d8576b\"],[0.6666666666666666,\"#ed7953\"],[0.7777777777777778,\"#fb9f3a\"],[0.8888888888888888,\"#fdca26\"],[1.0,\"#f0f921\"]],\"type\":\"surface\"}],\"table\":[{\"cells\":{\"fill\":{\"color\":\"#EBF0F8\"},\"line\":{\"color\":\"white\"}},\"header\":{\"fill\":{\"color\":\"#C8D4E3\"},\"line\":{\"color\":\"white\"}},\"type\":\"table\"}]},\"layout\":{\"annotationdefaults\":{\"arrowcolor\":\"#2a3f5f\",\"arrowhead\":0,\"arrowwidth\":1},\"coloraxis\":{\"colorbar\":{\"outlinewidth\":0,\"ticks\":\"\"}},\"colorscale\":{\"diverging\":[[0,\"#8e0152\"],[0.1,\"#c51b7d\"],[0.2,\"#de77ae\"],[0.3,\"#f1b6da\"],[0.4,\"#fde0ef\"],[0.5,\"#f7f7f7\"],[0.6,\"#e6f5d0\"],[0.7,\"#b8e186\"],[0.8,\"#7fbc41\"],[0.9,\"#4d9221\"],[1,\"#276419\"]],\"sequential\":[[0.0,\"#0d0887\"],[0.1111111111111111,\"#46039f\"],[0.2222222222222222,\"#7201a8\"],[0.3333333333333333,\"#9c179e\"],[0.4444444444444444,\"#bd3786\"],[0.5555555555555556,\"#d8576b\"],[0.6666666666666666,\"#ed7953\"],[0.7777777777777778,\"#fb9f3a\"],[0.8888888888888888,\"#fdca26\"],[1.0,\"#f0f921\"]],\"sequentialminus\":[[0.0,\"#0d0887\"],[0.1111111111111111,\"#46039f\"],[0.2222222222222222,\"#7201a8\"],[0.3333333333333333,\"#9c179e\"],[0.4444444444444444,\"#bd3786\"],[0.5555555555555556,\"#d8576b\"],[0.6666666666666666,\"#ed7953\"],[0.7777777777777778,\"#fb9f3a\"],[0.8888888888888888,\"#fdca26\"],[1.0,\"#f0f921\"]]},\"colorway\":[\"#636efa\",\"#EF553B\",\"#00cc96\",\"#ab63fa\",\"#FFA15A\",\"#19d3f3\",\"#FF6692\",\"#B6E880\",\"#FF97FF\",\"#FECB52\"],\"font\":{\"color\":\"#2a3f5f\"},\"geo\":{\"bgcolor\":\"white\",\"lakecolor\":\"white\",\"landcolor\":\"#E5ECF6\",\"showlakes\":true,\"showland\":true,\"subunitcolor\":\"white\"},\"hoverlabel\":{\"align\":\"left\"},\"hovermode\":\"closest\",\"mapbox\":{\"style\":\"light\"},\"paper_bgcolor\":\"white\",\"plot_bgcolor\":\"#E5ECF6\",\"polar\":{\"angularaxis\":{\"gridcolor\":\"white\",\"linecolor\":\"white\",\"ticks\":\"\"},\"bgcolor\":\"#E5ECF6\",\"radialaxis\":{\"gridcolor\":\"white\",\"linecolor\":\"white\",\"ticks\":\"\"}},\"scene\":{\"xaxis\":{\"backgroundcolor\":\"#E5ECF6\",\"gridcolor\":\"white\",\"gridwidth\":2,\"linecolor\":\"white\",\"showbackground\":true,\"ticks\":\"\",\"zerolinecolor\":\"white\"},\"yaxis\":{\"backgroundcolor\":\"#E5ECF6\",\"gridcolor\":\"white\",\"gridwidth\":2,\"linecolor\":\"white\",\"showbackground\":true,\"ticks\":\"\",\"zerolinecolor\":\"white\"},\"zaxis\":{\"backgroundcolor\":\"#E5ECF6\",\"gridcolor\":\"white\",\"gridwidth\":2,\"linecolor\":\"white\",\"showbackground\":true,\"ticks\":\"\",\"zerolinecolor\":\"white\"}},\"shapedefaults\":{\"line\":{\"color\":\"#2a3f5f\"}},\"ternary\":{\"aaxis\":{\"gridcolor\":\"white\",\"linecolor\":\"white\",\"ticks\":\"\"},\"baxis\":{\"gridcolor\":\"white\",\"linecolor\":\"white\",\"ticks\":\"\"},\"bgcolor\":\"#E5ECF6\",\"caxis\":{\"gridcolor\":\"white\",\"linecolor\":\"white\",\"ticks\":\"\"}},\"title\":{\"x\":0.05},\"xaxis\":{\"automargin\":true,\"gridcolor\":\"white\",\"linecolor\":\"white\",\"ticks\":\"\",\"title\":{\"standoff\":15},\"zerolinecolor\":\"white\",\"zerolinewidth\":2},\"yaxis\":{\"automargin\":true,\"gridcolor\":\"white\",\"linecolor\":\"white\",\"ticks\":\"\",\"title\":{\"standoff\":15},\"zerolinecolor\":\"white\",\"zerolinewidth\":2}}},\"title\":{\"text\":\"\\\\ucc29\\\\ud558\\\\uac8c \\\\uc0b4\\\\uc790\"},\"xaxis\":{\"anchor\":\"y\",\"domain\":[0.0,1.0],\"title\":{\"text\":\"5\\\\ub300\\\\ubc94\\\\uc8c4\"}},\"yaxis\":{\"anchor\":\"x\",\"domain\":[0.0,1.0],\"title\":{\"text\":\"\\\\ud3ed\\\\ub825\"}}}}'"
      ]
     },
     "execution_count": 37,
     "metadata": {},
     "output_type": "execute_result"
    }
   ],
   "source": [
    "import cufflinks as cf\n",
    "\n",
    "tall.to_json()"
   ]
  },
  {
   "cell_type": "code",
   "execution_count": 38,
   "id": "b68184a4",
   "metadata": {},
   "outputs": [],
   "source": [
    "import plotly.io as po\n",
    "po.write_html(tall,file=\"tall.html\", auto_open=True)  #html로"
   ]
  },
  {
   "cell_type": "code",
   "execution_count": null,
   "id": "aa26c107",
   "metadata": {},
   "outputs": [],
   "source": []
  },
  {
   "cell_type": "code",
   "execution_count": 47,
   "id": "06bd2e15",
   "metadata": {},
   "outputs": [
    {
     "name": "stdout",
     "output_type": "stream",
     "text": [
      "4.5.0\n"
     ]
    },
    {
     "data": {
      "application/vnd.plotly.v1+json": {
       "config": {
        "plotlyServerURL": "https://plot.ly"
       },
       "data": [
        {
         "domain": {
          "x": [
           0,
           1
          ],
          "y": [
           0,
           1
          ]
         },
         "hoverlabel": {
          "namelength": 0
         },
         "hovertemplate": "value=%{value}",
         "legendgroup": "",
         "name": "",
         "showlegend": false,
         "type": "pie",
         "values": [
          1,
          2,
          3
         ]
        }
       ],
       "layout": {
        "legend": {
         "tracegroupgap": 0
        },
        "margin": {
         "t": 60
        },
        "template": {
         "data": {
          "bar": [
           {
            "error_x": {
             "color": "#2a3f5f"
            },
            "error_y": {
             "color": "#2a3f5f"
            },
            "marker": {
             "line": {
              "color": "#E5ECF6",
              "width": 0.5
             }
            },
            "type": "bar"
           }
          ],
          "barpolar": [
           {
            "marker": {
             "line": {
              "color": "#E5ECF6",
              "width": 0.5
             }
            },
            "type": "barpolar"
           }
          ],
          "carpet": [
           {
            "aaxis": {
             "endlinecolor": "#2a3f5f",
             "gridcolor": "white",
             "linecolor": "white",
             "minorgridcolor": "white",
             "startlinecolor": "#2a3f5f"
            },
            "baxis": {
             "endlinecolor": "#2a3f5f",
             "gridcolor": "white",
             "linecolor": "white",
             "minorgridcolor": "white",
             "startlinecolor": "#2a3f5f"
            },
            "type": "carpet"
           }
          ],
          "choropleth": [
           {
            "colorbar": {
             "outlinewidth": 0,
             "ticks": ""
            },
            "type": "choropleth"
           }
          ],
          "contour": [
           {
            "colorbar": {
             "outlinewidth": 0,
             "ticks": ""
            },
            "colorscale": [
             [
              0,
              "#0d0887"
             ],
             [
              0.1111111111111111,
              "#46039f"
             ],
             [
              0.2222222222222222,
              "#7201a8"
             ],
             [
              0.3333333333333333,
              "#9c179e"
             ],
             [
              0.4444444444444444,
              "#bd3786"
             ],
             [
              0.5555555555555556,
              "#d8576b"
             ],
             [
              0.6666666666666666,
              "#ed7953"
             ],
             [
              0.7777777777777778,
              "#fb9f3a"
             ],
             [
              0.8888888888888888,
              "#fdca26"
             ],
             [
              1,
              "#f0f921"
             ]
            ],
            "type": "contour"
           }
          ],
          "contourcarpet": [
           {
            "colorbar": {
             "outlinewidth": 0,
             "ticks": ""
            },
            "type": "contourcarpet"
           }
          ],
          "heatmap": [
           {
            "colorbar": {
             "outlinewidth": 0,
             "ticks": ""
            },
            "colorscale": [
             [
              0,
              "#0d0887"
             ],
             [
              0.1111111111111111,
              "#46039f"
             ],
             [
              0.2222222222222222,
              "#7201a8"
             ],
             [
              0.3333333333333333,
              "#9c179e"
             ],
             [
              0.4444444444444444,
              "#bd3786"
             ],
             [
              0.5555555555555556,
              "#d8576b"
             ],
             [
              0.6666666666666666,
              "#ed7953"
             ],
             [
              0.7777777777777778,
              "#fb9f3a"
             ],
             [
              0.8888888888888888,
              "#fdca26"
             ],
             [
              1,
              "#f0f921"
             ]
            ],
            "type": "heatmap"
           }
          ],
          "heatmapgl": [
           {
            "colorbar": {
             "outlinewidth": 0,
             "ticks": ""
            },
            "colorscale": [
             [
              0,
              "#0d0887"
             ],
             [
              0.1111111111111111,
              "#46039f"
             ],
             [
              0.2222222222222222,
              "#7201a8"
             ],
             [
              0.3333333333333333,
              "#9c179e"
             ],
             [
              0.4444444444444444,
              "#bd3786"
             ],
             [
              0.5555555555555556,
              "#d8576b"
             ],
             [
              0.6666666666666666,
              "#ed7953"
             ],
             [
              0.7777777777777778,
              "#fb9f3a"
             ],
             [
              0.8888888888888888,
              "#fdca26"
             ],
             [
              1,
              "#f0f921"
             ]
            ],
            "type": "heatmapgl"
           }
          ],
          "histogram": [
           {
            "marker": {
             "colorbar": {
              "outlinewidth": 0,
              "ticks": ""
             }
            },
            "type": "histogram"
           }
          ],
          "histogram2d": [
           {
            "colorbar": {
             "outlinewidth": 0,
             "ticks": ""
            },
            "colorscale": [
             [
              0,
              "#0d0887"
             ],
             [
              0.1111111111111111,
              "#46039f"
             ],
             [
              0.2222222222222222,
              "#7201a8"
             ],
             [
              0.3333333333333333,
              "#9c179e"
             ],
             [
              0.4444444444444444,
              "#bd3786"
             ],
             [
              0.5555555555555556,
              "#d8576b"
             ],
             [
              0.6666666666666666,
              "#ed7953"
             ],
             [
              0.7777777777777778,
              "#fb9f3a"
             ],
             [
              0.8888888888888888,
              "#fdca26"
             ],
             [
              1,
              "#f0f921"
             ]
            ],
            "type": "histogram2d"
           }
          ],
          "histogram2dcontour": [
           {
            "colorbar": {
             "outlinewidth": 0,
             "ticks": ""
            },
            "colorscale": [
             [
              0,
              "#0d0887"
             ],
             [
              0.1111111111111111,
              "#46039f"
             ],
             [
              0.2222222222222222,
              "#7201a8"
             ],
             [
              0.3333333333333333,
              "#9c179e"
             ],
             [
              0.4444444444444444,
              "#bd3786"
             ],
             [
              0.5555555555555556,
              "#d8576b"
             ],
             [
              0.6666666666666666,
              "#ed7953"
             ],
             [
              0.7777777777777778,
              "#fb9f3a"
             ],
             [
              0.8888888888888888,
              "#fdca26"
             ],
             [
              1,
              "#f0f921"
             ]
            ],
            "type": "histogram2dcontour"
           }
          ],
          "mesh3d": [
           {
            "colorbar": {
             "outlinewidth": 0,
             "ticks": ""
            },
            "type": "mesh3d"
           }
          ],
          "parcoords": [
           {
            "line": {
             "colorbar": {
              "outlinewidth": 0,
              "ticks": ""
             }
            },
            "type": "parcoords"
           }
          ],
          "pie": [
           {
            "automargin": true,
            "type": "pie"
           }
          ],
          "scatter": [
           {
            "marker": {
             "colorbar": {
              "outlinewidth": 0,
              "ticks": ""
             }
            },
            "type": "scatter"
           }
          ],
          "scatter3d": [
           {
            "line": {
             "colorbar": {
              "outlinewidth": 0,
              "ticks": ""
             }
            },
            "marker": {
             "colorbar": {
              "outlinewidth": 0,
              "ticks": ""
             }
            },
            "type": "scatter3d"
           }
          ],
          "scattercarpet": [
           {
            "marker": {
             "colorbar": {
              "outlinewidth": 0,
              "ticks": ""
             }
            },
            "type": "scattercarpet"
           }
          ],
          "scattergeo": [
           {
            "marker": {
             "colorbar": {
              "outlinewidth": 0,
              "ticks": ""
             }
            },
            "type": "scattergeo"
           }
          ],
          "scattergl": [
           {
            "marker": {
             "colorbar": {
              "outlinewidth": 0,
              "ticks": ""
             }
            },
            "type": "scattergl"
           }
          ],
          "scattermapbox": [
           {
            "marker": {
             "colorbar": {
              "outlinewidth": 0,
              "ticks": ""
             }
            },
            "type": "scattermapbox"
           }
          ],
          "scatterpolar": [
           {
            "marker": {
             "colorbar": {
              "outlinewidth": 0,
              "ticks": ""
             }
            },
            "type": "scatterpolar"
           }
          ],
          "scatterpolargl": [
           {
            "marker": {
             "colorbar": {
              "outlinewidth": 0,
              "ticks": ""
             }
            },
            "type": "scatterpolargl"
           }
          ],
          "scatterternary": [
           {
            "marker": {
             "colorbar": {
              "outlinewidth": 0,
              "ticks": ""
             }
            },
            "type": "scatterternary"
           }
          ],
          "surface": [
           {
            "colorbar": {
             "outlinewidth": 0,
             "ticks": ""
            },
            "colorscale": [
             [
              0,
              "#0d0887"
             ],
             [
              0.1111111111111111,
              "#46039f"
             ],
             [
              0.2222222222222222,
              "#7201a8"
             ],
             [
              0.3333333333333333,
              "#9c179e"
             ],
             [
              0.4444444444444444,
              "#bd3786"
             ],
             [
              0.5555555555555556,
              "#d8576b"
             ],
             [
              0.6666666666666666,
              "#ed7953"
             ],
             [
              0.7777777777777778,
              "#fb9f3a"
             ],
             [
              0.8888888888888888,
              "#fdca26"
             ],
             [
              1,
              "#f0f921"
             ]
            ],
            "type": "surface"
           }
          ],
          "table": [
           {
            "cells": {
             "fill": {
              "color": "#EBF0F8"
             },
             "line": {
              "color": "white"
             }
            },
            "header": {
             "fill": {
              "color": "#C8D4E3"
             },
             "line": {
              "color": "white"
             }
            },
            "type": "table"
           }
          ]
         },
         "layout": {
          "annotationdefaults": {
           "arrowcolor": "#2a3f5f",
           "arrowhead": 0,
           "arrowwidth": 1
          },
          "coloraxis": {
           "colorbar": {
            "outlinewidth": 0,
            "ticks": ""
           }
          },
          "colorscale": {
           "diverging": [
            [
             0,
             "#8e0152"
            ],
            [
             0.1,
             "#c51b7d"
            ],
            [
             0.2,
             "#de77ae"
            ],
            [
             0.3,
             "#f1b6da"
            ],
            [
             0.4,
             "#fde0ef"
            ],
            [
             0.5,
             "#f7f7f7"
            ],
            [
             0.6,
             "#e6f5d0"
            ],
            [
             0.7,
             "#b8e186"
            ],
            [
             0.8,
             "#7fbc41"
            ],
            [
             0.9,
             "#4d9221"
            ],
            [
             1,
             "#276419"
            ]
           ],
           "sequential": [
            [
             0,
             "#0d0887"
            ],
            [
             0.1111111111111111,
             "#46039f"
            ],
            [
             0.2222222222222222,
             "#7201a8"
            ],
            [
             0.3333333333333333,
             "#9c179e"
            ],
            [
             0.4444444444444444,
             "#bd3786"
            ],
            [
             0.5555555555555556,
             "#d8576b"
            ],
            [
             0.6666666666666666,
             "#ed7953"
            ],
            [
             0.7777777777777778,
             "#fb9f3a"
            ],
            [
             0.8888888888888888,
             "#fdca26"
            ],
            [
             1,
             "#f0f921"
            ]
           ],
           "sequentialminus": [
            [
             0,
             "#0d0887"
            ],
            [
             0.1111111111111111,
             "#46039f"
            ],
            [
             0.2222222222222222,
             "#7201a8"
            ],
            [
             0.3333333333333333,
             "#9c179e"
            ],
            [
             0.4444444444444444,
             "#bd3786"
            ],
            [
             0.5555555555555556,
             "#d8576b"
            ],
            [
             0.6666666666666666,
             "#ed7953"
            ],
            [
             0.7777777777777778,
             "#fb9f3a"
            ],
            [
             0.8888888888888888,
             "#fdca26"
            ],
            [
             1,
             "#f0f921"
            ]
           ]
          },
          "colorway": [
           "#636efa",
           "#EF553B",
           "#00cc96",
           "#ab63fa",
           "#FFA15A",
           "#19d3f3",
           "#FF6692",
           "#B6E880",
           "#FF97FF",
           "#FECB52"
          ],
          "font": {
           "color": "#2a3f5f"
          },
          "geo": {
           "bgcolor": "white",
           "lakecolor": "white",
           "landcolor": "#E5ECF6",
           "showlakes": true,
           "showland": true,
           "subunitcolor": "white"
          },
          "hoverlabel": {
           "align": "left"
          },
          "hovermode": "closest",
          "mapbox": {
           "style": "light"
          },
          "paper_bgcolor": "white",
          "plot_bgcolor": "#E5ECF6",
          "polar": {
           "angularaxis": {
            "gridcolor": "white",
            "linecolor": "white",
            "ticks": ""
           },
           "bgcolor": "#E5ECF6",
           "radialaxis": {
            "gridcolor": "white",
            "linecolor": "white",
            "ticks": ""
           }
          },
          "scene": {
           "xaxis": {
            "backgroundcolor": "#E5ECF6",
            "gridcolor": "white",
            "gridwidth": 2,
            "linecolor": "white",
            "showbackground": true,
            "ticks": "",
            "zerolinecolor": "white"
           },
           "yaxis": {
            "backgroundcolor": "#E5ECF6",
            "gridcolor": "white",
            "gridwidth": 2,
            "linecolor": "white",
            "showbackground": true,
            "ticks": "",
            "zerolinecolor": "white"
           },
           "zaxis": {
            "backgroundcolor": "#E5ECF6",
            "gridcolor": "white",
            "gridwidth": 2,
            "linecolor": "white",
            "showbackground": true,
            "ticks": "",
            "zerolinecolor": "white"
           }
          },
          "shapedefaults": {
           "line": {
            "color": "#2a3f5f"
           }
          },
          "ternary": {
           "aaxis": {
            "gridcolor": "white",
            "linecolor": "white",
            "ticks": ""
           },
           "baxis": {
            "gridcolor": "white",
            "linecolor": "white",
            "ticks": ""
           },
           "bgcolor": "#E5ECF6",
           "caxis": {
            "gridcolor": "white",
            "linecolor": "white",
            "ticks": ""
           }
          },
          "title": {
           "x": 0.05
          },
          "xaxis": {
           "automargin": true,
           "gridcolor": "white",
           "linecolor": "white",
           "ticks": "",
           "title": {
            "standoff": 15
           },
           "zerolinecolor": "white",
           "zerolinewidth": 2
          },
          "yaxis": {
           "automargin": true,
           "gridcolor": "white",
           "linecolor": "white",
           "ticks": "",
           "title": {
            "standoff": 15
           },
           "zerolinecolor": "white",
           "zerolinewidth": 2
          }
         }
        }
       }
      },
      "text/html": [
       "<div>\n",
       "        \n",
       "        \n",
       "            <div id=\"e3380bf1-29f1-4b89-bd32-b0e57713d6a7\" class=\"plotly-graph-div\" style=\"height:525px; width:100%;\"></div>\n",
       "            <script type=\"text/javascript\">\n",
       "                require([\"plotly\"], function(Plotly) {\n",
       "                    window.PLOTLYENV=window.PLOTLYENV || {};\n",
       "                    \n",
       "                if (document.getElementById(\"e3380bf1-29f1-4b89-bd32-b0e57713d6a7\")) {\n",
       "                    Plotly.newPlot(\n",
       "                        'e3380bf1-29f1-4b89-bd32-b0e57713d6a7',\n",
       "                        [{\"domain\": {\"x\": [0.0, 1.0], \"y\": [0.0, 1.0]}, \"hoverlabel\": {\"namelength\": 0}, \"hovertemplate\": \"value=%{value}\", \"legendgroup\": \"\", \"name\": \"\", \"showlegend\": false, \"type\": \"pie\", \"values\": [1, 2, 3]}],\n",
       "                        {\"legend\": {\"tracegroupgap\": 0}, \"margin\": {\"t\": 60}, \"template\": {\"data\": {\"bar\": [{\"error_x\": {\"color\": \"#2a3f5f\"}, \"error_y\": {\"color\": \"#2a3f5f\"}, \"marker\": {\"line\": {\"color\": \"#E5ECF6\", \"width\": 0.5}}, \"type\": \"bar\"}], \"barpolar\": [{\"marker\": {\"line\": {\"color\": \"#E5ECF6\", \"width\": 0.5}}, \"type\": \"barpolar\"}], \"carpet\": [{\"aaxis\": {\"endlinecolor\": \"#2a3f5f\", \"gridcolor\": \"white\", \"linecolor\": \"white\", \"minorgridcolor\": \"white\", \"startlinecolor\": \"#2a3f5f\"}, \"baxis\": {\"endlinecolor\": \"#2a3f5f\", \"gridcolor\": \"white\", \"linecolor\": \"white\", \"minorgridcolor\": \"white\", \"startlinecolor\": \"#2a3f5f\"}, \"type\": \"carpet\"}], \"choropleth\": [{\"colorbar\": {\"outlinewidth\": 0, \"ticks\": \"\"}, \"type\": \"choropleth\"}], \"contour\": [{\"colorbar\": {\"outlinewidth\": 0, \"ticks\": \"\"}, \"colorscale\": [[0.0, \"#0d0887\"], [0.1111111111111111, \"#46039f\"], [0.2222222222222222, \"#7201a8\"], [0.3333333333333333, \"#9c179e\"], [0.4444444444444444, \"#bd3786\"], [0.5555555555555556, \"#d8576b\"], [0.6666666666666666, \"#ed7953\"], [0.7777777777777778, \"#fb9f3a\"], [0.8888888888888888, \"#fdca26\"], [1.0, \"#f0f921\"]], \"type\": \"contour\"}], \"contourcarpet\": [{\"colorbar\": {\"outlinewidth\": 0, \"ticks\": \"\"}, \"type\": \"contourcarpet\"}], \"heatmap\": [{\"colorbar\": {\"outlinewidth\": 0, \"ticks\": \"\"}, \"colorscale\": [[0.0, \"#0d0887\"], [0.1111111111111111, \"#46039f\"], [0.2222222222222222, \"#7201a8\"], [0.3333333333333333, \"#9c179e\"], [0.4444444444444444, \"#bd3786\"], [0.5555555555555556, \"#d8576b\"], [0.6666666666666666, \"#ed7953\"], [0.7777777777777778, \"#fb9f3a\"], [0.8888888888888888, \"#fdca26\"], [1.0, \"#f0f921\"]], \"type\": \"heatmap\"}], \"heatmapgl\": [{\"colorbar\": {\"outlinewidth\": 0, \"ticks\": \"\"}, \"colorscale\": [[0.0, \"#0d0887\"], [0.1111111111111111, \"#46039f\"], [0.2222222222222222, \"#7201a8\"], [0.3333333333333333, \"#9c179e\"], [0.4444444444444444, \"#bd3786\"], [0.5555555555555556, \"#d8576b\"], [0.6666666666666666, \"#ed7953\"], [0.7777777777777778, \"#fb9f3a\"], [0.8888888888888888, \"#fdca26\"], [1.0, \"#f0f921\"]], \"type\": \"heatmapgl\"}], \"histogram\": [{\"marker\": {\"colorbar\": {\"outlinewidth\": 0, \"ticks\": \"\"}}, \"type\": \"histogram\"}], \"histogram2d\": [{\"colorbar\": {\"outlinewidth\": 0, \"ticks\": \"\"}, \"colorscale\": [[0.0, \"#0d0887\"], [0.1111111111111111, \"#46039f\"], [0.2222222222222222, \"#7201a8\"], [0.3333333333333333, \"#9c179e\"], [0.4444444444444444, \"#bd3786\"], [0.5555555555555556, \"#d8576b\"], [0.6666666666666666, \"#ed7953\"], [0.7777777777777778, \"#fb9f3a\"], [0.8888888888888888, \"#fdca26\"], [1.0, \"#f0f921\"]], \"type\": \"histogram2d\"}], \"histogram2dcontour\": [{\"colorbar\": {\"outlinewidth\": 0, \"ticks\": \"\"}, \"colorscale\": [[0.0, \"#0d0887\"], [0.1111111111111111, \"#46039f\"], [0.2222222222222222, \"#7201a8\"], [0.3333333333333333, \"#9c179e\"], [0.4444444444444444, \"#bd3786\"], [0.5555555555555556, \"#d8576b\"], [0.6666666666666666, \"#ed7953\"], [0.7777777777777778, \"#fb9f3a\"], [0.8888888888888888, \"#fdca26\"], [1.0, \"#f0f921\"]], \"type\": \"histogram2dcontour\"}], \"mesh3d\": [{\"colorbar\": {\"outlinewidth\": 0, \"ticks\": \"\"}, \"type\": \"mesh3d\"}], \"parcoords\": [{\"line\": {\"colorbar\": {\"outlinewidth\": 0, \"ticks\": \"\"}}, \"type\": \"parcoords\"}], \"pie\": [{\"automargin\": true, \"type\": \"pie\"}], \"scatter\": [{\"marker\": {\"colorbar\": {\"outlinewidth\": 0, \"ticks\": \"\"}}, \"type\": \"scatter\"}], \"scatter3d\": [{\"line\": {\"colorbar\": {\"outlinewidth\": 0, \"ticks\": \"\"}}, \"marker\": {\"colorbar\": {\"outlinewidth\": 0, \"ticks\": \"\"}}, \"type\": \"scatter3d\"}], \"scattercarpet\": [{\"marker\": {\"colorbar\": {\"outlinewidth\": 0, \"ticks\": \"\"}}, \"type\": \"scattercarpet\"}], \"scattergeo\": [{\"marker\": {\"colorbar\": {\"outlinewidth\": 0, \"ticks\": \"\"}}, \"type\": \"scattergeo\"}], \"scattergl\": [{\"marker\": {\"colorbar\": {\"outlinewidth\": 0, \"ticks\": \"\"}}, \"type\": \"scattergl\"}], \"scattermapbox\": [{\"marker\": {\"colorbar\": {\"outlinewidth\": 0, \"ticks\": \"\"}}, \"type\": \"scattermapbox\"}], \"scatterpolar\": [{\"marker\": {\"colorbar\": {\"outlinewidth\": 0, \"ticks\": \"\"}}, \"type\": \"scatterpolar\"}], \"scatterpolargl\": [{\"marker\": {\"colorbar\": {\"outlinewidth\": 0, \"ticks\": \"\"}}, \"type\": \"scatterpolargl\"}], \"scatterternary\": [{\"marker\": {\"colorbar\": {\"outlinewidth\": 0, \"ticks\": \"\"}}, \"type\": \"scatterternary\"}], \"surface\": [{\"colorbar\": {\"outlinewidth\": 0, \"ticks\": \"\"}, \"colorscale\": [[0.0, \"#0d0887\"], [0.1111111111111111, \"#46039f\"], [0.2222222222222222, \"#7201a8\"], [0.3333333333333333, \"#9c179e\"], [0.4444444444444444, \"#bd3786\"], [0.5555555555555556, \"#d8576b\"], [0.6666666666666666, \"#ed7953\"], [0.7777777777777778, \"#fb9f3a\"], [0.8888888888888888, \"#fdca26\"], [1.0, \"#f0f921\"]], \"type\": \"surface\"}], \"table\": [{\"cells\": {\"fill\": {\"color\": \"#EBF0F8\"}, \"line\": {\"color\": \"white\"}}, \"header\": {\"fill\": {\"color\": \"#C8D4E3\"}, \"line\": {\"color\": \"white\"}}, \"type\": \"table\"}]}, \"layout\": {\"annotationdefaults\": {\"arrowcolor\": \"#2a3f5f\", \"arrowhead\": 0, \"arrowwidth\": 1}, \"coloraxis\": {\"colorbar\": {\"outlinewidth\": 0, \"ticks\": \"\"}}, \"colorscale\": {\"diverging\": [[0, \"#8e0152\"], [0.1, \"#c51b7d\"], [0.2, \"#de77ae\"], [0.3, \"#f1b6da\"], [0.4, \"#fde0ef\"], [0.5, \"#f7f7f7\"], [0.6, \"#e6f5d0\"], [0.7, \"#b8e186\"], [0.8, \"#7fbc41\"], [0.9, \"#4d9221\"], [1, \"#276419\"]], \"sequential\": [[0.0, \"#0d0887\"], [0.1111111111111111, \"#46039f\"], [0.2222222222222222, \"#7201a8\"], [0.3333333333333333, \"#9c179e\"], [0.4444444444444444, \"#bd3786\"], [0.5555555555555556, \"#d8576b\"], [0.6666666666666666, \"#ed7953\"], [0.7777777777777778, \"#fb9f3a\"], [0.8888888888888888, \"#fdca26\"], [1.0, \"#f0f921\"]], \"sequentialminus\": [[0.0, \"#0d0887\"], [0.1111111111111111, \"#46039f\"], [0.2222222222222222, \"#7201a8\"], [0.3333333333333333, \"#9c179e\"], [0.4444444444444444, \"#bd3786\"], [0.5555555555555556, \"#d8576b\"], [0.6666666666666666, \"#ed7953\"], [0.7777777777777778, \"#fb9f3a\"], [0.8888888888888888, \"#fdca26\"], [1.0, \"#f0f921\"]]}, \"colorway\": [\"#636efa\", \"#EF553B\", \"#00cc96\", \"#ab63fa\", \"#FFA15A\", \"#19d3f3\", \"#FF6692\", \"#B6E880\", \"#FF97FF\", \"#FECB52\"], \"font\": {\"color\": \"#2a3f5f\"}, \"geo\": {\"bgcolor\": \"white\", \"lakecolor\": \"white\", \"landcolor\": \"#E5ECF6\", \"showlakes\": true, \"showland\": true, \"subunitcolor\": \"white\"}, \"hoverlabel\": {\"align\": \"left\"}, \"hovermode\": \"closest\", \"mapbox\": {\"style\": \"light\"}, \"paper_bgcolor\": \"white\", \"plot_bgcolor\": \"#E5ECF6\", \"polar\": {\"angularaxis\": {\"gridcolor\": \"white\", \"linecolor\": \"white\", \"ticks\": \"\"}, \"bgcolor\": \"#E5ECF6\", \"radialaxis\": {\"gridcolor\": \"white\", \"linecolor\": \"white\", \"ticks\": \"\"}}, \"scene\": {\"xaxis\": {\"backgroundcolor\": \"#E5ECF6\", \"gridcolor\": \"white\", \"gridwidth\": 2, \"linecolor\": \"white\", \"showbackground\": true, \"ticks\": \"\", \"zerolinecolor\": \"white\"}, \"yaxis\": {\"backgroundcolor\": \"#E5ECF6\", \"gridcolor\": \"white\", \"gridwidth\": 2, \"linecolor\": \"white\", \"showbackground\": true, \"ticks\": \"\", \"zerolinecolor\": \"white\"}, \"zaxis\": {\"backgroundcolor\": \"#E5ECF6\", \"gridcolor\": \"white\", \"gridwidth\": 2, \"linecolor\": \"white\", \"showbackground\": true, \"ticks\": \"\", \"zerolinecolor\": \"white\"}}, \"shapedefaults\": {\"line\": {\"color\": \"#2a3f5f\"}}, \"ternary\": {\"aaxis\": {\"gridcolor\": \"white\", \"linecolor\": \"white\", \"ticks\": \"\"}, \"baxis\": {\"gridcolor\": \"white\", \"linecolor\": \"white\", \"ticks\": \"\"}, \"bgcolor\": \"#E5ECF6\", \"caxis\": {\"gridcolor\": \"white\", \"linecolor\": \"white\", \"ticks\": \"\"}}, \"title\": {\"x\": 0.05}, \"xaxis\": {\"automargin\": true, \"gridcolor\": \"white\", \"linecolor\": \"white\", \"ticks\": \"\", \"title\": {\"standoff\": 15}, \"zerolinecolor\": \"white\", \"zerolinewidth\": 2}, \"yaxis\": {\"automargin\": true, \"gridcolor\": \"white\", \"linecolor\": \"white\", \"ticks\": \"\", \"title\": {\"standoff\": 15}, \"zerolinecolor\": \"white\", \"zerolinewidth\": 2}}}},\n",
       "                        {\"responsive\": true}\n",
       "                    ).then(function(){\n",
       "                            \n",
       "var gd = document.getElementById('e3380bf1-29f1-4b89-bd32-b0e57713d6a7');\n",
       "var x = new MutationObserver(function (mutations, observer) {{\n",
       "        var display = window.getComputedStyle(gd).display;\n",
       "        if (!display || display === 'none') {{\n",
       "            console.log([gd, 'removed!']);\n",
       "            Plotly.purge(gd);\n",
       "            observer.disconnect();\n",
       "        }}\n",
       "}});\n",
       "\n",
       "// Listen for the removal of the full notebook cells\n",
       "var notebookContainer = gd.closest('#notebook-container');\n",
       "if (notebookContainer) {{\n",
       "    x.observe(notebookContainer, {childList: true});\n",
       "}}\n",
       "\n",
       "// Listen for the clearing of the current output cell\n",
       "var outputEl = gd.closest('.output');\n",
       "if (outputEl) {{\n",
       "    x.observe(outputEl, {childList: true});\n",
       "}}\n",
       "\n",
       "                        })\n",
       "                };\n",
       "                });\n",
       "            </script>\n",
       "        </div>"
      ]
     },
     "metadata": {},
     "output_type": "display_data"
    }
   ],
   "source": [
    "import plotly\n",
    "print(plotly.__version__)\n",
    "import plotly.express as px\n",
    "fig = px.pie(values=[1, 2, 3])\n",
    "fig.show()"
   ]
  },
  {
   "cell_type": "code",
   "execution_count": 48,
   "id": "4821207e",
   "metadata": {},
   "outputs": [
    {
     "ename": "SyntaxError",
     "evalue": "invalid character in identifier (<ipython-input-48-c7df98f25168>, line 6)",
     "output_type": "error",
     "traceback": [
      "\u001b[1;36m  File \u001b[1;32m\"<ipython-input-48-c7df98f25168>\"\u001b[1;36m, line \u001b[1;32m6\u001b[0m\n\u001b[1;33m    fig.add_pie (row = 2, col = 1, values ​​= [2, 3, 1])\u001b[0m\n\u001b[1;37m                                           ^\u001b[0m\n\u001b[1;31mSyntaxError\u001b[0m\u001b[1;31m:\u001b[0m invalid character in identifier\n"
     ]
    }
   ],
   "source": [
    "from plotly.subplots import make_subplots\n",
    "fig = make_subplots (rows = 2, cols = 2, \n",
    "                    specs = [[{ \"type\": \"xy\"}, { \"type\": \"polar\"}], \n",
    "                           [{ \"type\": \"domain\"}, { \" type \":\"장면 \"}]])\n",
    "fig.add_bar (row = 1, col = 1, y = [2, 3, 1],) \n",
    "fig.add_pie (row = 2, col = 1, values ​​= [2, 3, 1]) \n",
    "fig.add_barpolar (row = 1, col = 2, theta = [0, 45, 90], r = [2, 3, 1]) \n",
    "fig.add_scatter3d (row = 2, col = 2, x = [2, 3], y = [ 0, 0], z = [0.5, 1]) \n",
    "fig.update_layout (height = 700, showlegend = False) \n",
    "fig.show ()"
   ]
  },
  {
   "cell_type": "code",
   "execution_count": null,
   "id": "82ce6707",
   "metadata": {},
   "outputs": [],
   "source": []
  }
 ],
 "metadata": {
  "kernelspec": {
   "display_name": "Python 3",
   "language": "python",
   "name": "python3"
  },
  "language_info": {
   "codemirror_mode": {
    "name": "ipython",
    "version": 3
   },
   "file_extension": ".py",
   "mimetype": "text/x-python",
   "name": "python",
   "nbconvert_exporter": "python",
   "pygments_lexer": "ipython3",
   "version": "3.8.8"
  }
 },
 "nbformat": 4,
 "nbformat_minor": 5
}
