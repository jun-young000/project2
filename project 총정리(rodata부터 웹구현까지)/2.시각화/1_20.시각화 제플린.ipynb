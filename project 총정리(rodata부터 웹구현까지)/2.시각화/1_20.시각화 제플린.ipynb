{
 "cells": [
  {
   "cell_type": "code",
   "execution_count": null,
   "id": "60d0eb47",
   "metadata": {},
   "outputs": [],
   "source": [
    "%pyspark"
   ]
  },
  {
   "cell_type": "code",
   "execution_count": null,
   "id": "079e21d2",
   "metadata": {},
   "outputs": [],
   "source": [
    "single_house = spark.read.format(\"csv\").option(\"header\",\"true\").option(\"encoding\", \"utf8\").load(\"data/single_house2.csv\")"
   ]
  },
  {
   "cell_type": "code",
   "execution_count": null,
   "id": "9b0270ce",
   "metadata": {},
   "outputs": [],
   "source": []
  },
  {
   "cell_type": "code",
   "execution_count": null,
   "id": "0cb22cdf",
   "metadata": {},
   "outputs": [],
   "source": [
    "crime = spark.read.format(\"csv\").option(\"header\",\"true\").option(\"encoding\", \"utf8\").load(\"data/crime_all.csv\")"
   ]
  },
  {
   "cell_type": "code",
   "execution_count": null,
   "id": "ec626d11",
   "metadata": {},
   "outputs": [],
   "source": []
  },
  {
   "cell_type": "code",
   "execution_count": null,
   "id": "5331ba20",
   "metadata": {},
   "outputs": [],
   "source": [
    "%pyspark\n",
    "z.show(single_house)\n",
    "\n",
    "%pyspark\n",
    "z.show(single_house)\n",
    "\n",
    "%pyspark\n",
    "z.show(single_house)\n",
    "\n",
    "%pyspark\n",
    "z.show(crime)\n",
    "\n",
    "%pyspark\n",
    "z.show(crime)\n",
    "\n",
    "%pyspark\n",
    "z.show(crime)\n",
    "\n",
    "%pyspark\n",
    "z.show(crime)\n",
    "\n",
    "%pyspark\n",
    "z.show(crime)"
   ]
  },
  {
   "cell_type": "code",
   "execution_count": null,
   "id": "8706a37d",
   "metadata": {},
   "outputs": [],
   "source": [
    "# 제플린 코드가 없는 이유는 설치는 pipeline file참고하여 설치\n",
    "# 실 데이터 구동은 코드없이 실행"
   ]
  }
 ],
 "metadata": {
  "kernelspec": {
   "display_name": "Python 3",
   "language": "python",
   "name": "python3"
  },
  "language_info": {
   "codemirror_mode": {
    "name": "ipython",
    "version": 3
   },
   "file_extension": ".py",
   "mimetype": "text/x-python",
   "name": "python",
   "nbconvert_exporter": "python",
   "pygments_lexer": "ipython3",
   "version": "3.8.8"
  }
 },
 "nbformat": 4,
 "nbformat_minor": 5
}
