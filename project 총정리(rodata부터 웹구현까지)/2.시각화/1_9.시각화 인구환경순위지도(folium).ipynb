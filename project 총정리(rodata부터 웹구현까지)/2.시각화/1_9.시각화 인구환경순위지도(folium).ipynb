{
 "cells": [
  {
   "cell_type": "code",
   "execution_count": 15,
   "id": "3e2fabf5",
   "metadata": {},
   "outputs": [],
   "source": [
    "import seaborn as sns\n",
    "import pandas as pd"
   ]
  },
  {
   "cell_type": "code",
   "execution_count": 16,
   "id": "99935bb9",
   "metadata": {},
   "outputs": [],
   "source": [
    "gender = pd.read_csv(\"성비_랭킹.csv\")\n",
    "single= pd.read_csv(\"여성1인가구_랭킹.csv\")\n",
    "move = pd.read_csv(\"유동인구_랭킹.csv\")\n",
    "density = pd.read_csv(\"인구밀도_랭킹.csv\")\n"
   ]
  },
  {
   "cell_type": "code",
   "execution_count": 3,
   "id": "784d3155",
   "metadata": {},
   "outputs": [],
   "source": [
    "single1= pd.read_csv(\"여성1인가구_랭킹.csv\")\n"
   ]
  },
  {
   "cell_type": "code",
   "execution_count": 49,
   "id": "91e2b6d9",
   "metadata": {},
   "outputs": [],
   "source": [
    "foreigner = pd.read_csv(\"외국인.csv\",thousands=\",\")"
   ]
  },
  {
   "cell_type": "code",
   "execution_count": 80,
   "id": "ca642e7c",
   "metadata": {},
   "outputs": [],
   "source": [
    "density=density.groupby(\"지역코드\").mean()"
   ]
  },
  {
   "cell_type": "code",
   "execution_count": 79,
   "id": "5bce1af8",
   "metadata": {},
   "outputs": [],
   "source": [
    "density = pd.read_csv(\"인구밀도_랭킹.csv\")"
   ]
  },
  {
   "cell_type": "code",
   "execution_count": 85,
   "id": "32daf149",
   "metadata": {},
   "outputs": [],
   "source": [
    "del density[\"Unnamed: 0\"]\n",
    "del density[\"범죄비율\"]"
   ]
  },
  {
   "cell_type": "code",
   "execution_count": 86,
   "id": "41c5737b",
   "metadata": {},
   "outputs": [],
   "source": [
    "del density[\"ID\"]\n",
    "del density[\"기간코드\"]\n",
    "del density[\"인구\"]\n",
    "del density[\"면적\"]\n",
    "del density[\"인구밀도\"]\n",
    "del density[\"합계\"]"
   ]
  },
  {
   "cell_type": "code",
   "execution_count": 36,
   "id": "dfbdc12a",
   "metadata": {},
   "outputs": [],
   "source": [
    "del single[\"5대범죄발생대비1인여성가구수\"]\n",
    "del single[\"1인여성가구합계\"]\n",
    "del single[\"5대범죄합계\"]"
   ]
  },
  {
   "cell_type": "code",
   "execution_count": 37,
   "id": "75c3388b",
   "metadata": {},
   "outputs": [],
   "source": [
    "del gender[\"합계\"]\n",
    "del gender[\"남녀성비\"]\n",
    "del gender[\"범죄비율\"]\n",
    "del gender[\"Unnamed: 0\"]"
   ]
  },
  {
   "cell_type": "code",
   "execution_count": 38,
   "id": "91941558",
   "metadata": {},
   "outputs": [],
   "source": [
    "del move[\"합계\"]\n",
    "del move[\"총생활인구수\"]\n",
    "del move[\"Unnamed: 0\"]\n",
    "del move[\"범죄비율\"]"
   ]
  },
  {
   "cell_type": "code",
   "execution_count": 39,
   "id": "1ea44b5c",
   "metadata": {},
   "outputs": [],
   "source": [
    "del density[\"순위\"]"
   ]
  },
  {
   "cell_type": "code",
   "execution_count": 81,
   "id": "016a61ff",
   "metadata": {},
   "outputs": [],
   "source": [
    "density.reset_index(inplace=True)"
   ]
  },
  {
   "cell_type": "code",
   "execution_count": 82,
   "id": "3eec75f5",
   "metadata": {},
   "outputs": [],
   "source": [
    "density.sort_values(\"범죄비율\",inplace=True)"
   ]
  },
  {
   "cell_type": "code",
   "execution_count": 83,
   "id": "efca98d2",
   "metadata": {},
   "outputs": [],
   "source": [
    "density[\"순위\"] = density[\"범죄비율\"].rank().astype(int)"
   ]
  },
  {
   "cell_type": "code",
   "execution_count": 84,
   "id": "c65eee3f",
   "metadata": {},
   "outputs": [],
   "source": [
    "density.sort_values(\"지역코드\",inplace=True)"
   ]
  },
  {
   "cell_type": "code",
   "execution_count": 50,
   "id": "077b95f3",
   "metadata": {},
   "outputs": [],
   "source": [
    "foreigner = foreigner.groupby(\"지역코드\").mean()"
   ]
  },
  {
   "cell_type": "code",
   "execution_count": 51,
   "id": "a4dff698",
   "metadata": {},
   "outputs": [
    {
     "data": {
      "text/html": [
       "<div>\n",
       "<style scoped>\n",
       "    .dataframe tbody tr th:only-of-type {\n",
       "        vertical-align: middle;\n",
       "    }\n",
       "\n",
       "    .dataframe tbody tr th {\n",
       "        vertical-align: top;\n",
       "    }\n",
       "\n",
       "    .dataframe thead th {\n",
       "        text-align: right;\n",
       "    }\n",
       "</style>\n",
       "<table border=\"1\" class=\"dataframe\">\n",
       "  <thead>\n",
       "    <tr style=\"text-align: right;\">\n",
       "      <th></th>\n",
       "      <th>ID</th>\n",
       "      <th>기간코드</th>\n",
       "      <th>전체인구</th>\n",
       "      <th>등록_외국인</th>\n",
       "      <th>외인비율</th>\n",
       "    </tr>\n",
       "    <tr>\n",
       "      <th>지역코드</th>\n",
       "      <th></th>\n",
       "      <th></th>\n",
       "      <th></th>\n",
       "      <th></th>\n",
       "      <th></th>\n",
       "    </tr>\n",
       "  </thead>\n",
       "  <tbody>\n",
       "    <tr>\n",
       "      <th>111121</th>\n",
       "      <td>26.0</td>\n",
       "      <td>18.0</td>\n",
       "      <td>135571.333333</td>\n",
       "      <td>9703.000000</td>\n",
       "      <td>7.157118</td>\n",
       "    </tr>\n",
       "    <tr>\n",
       "      <th>111123</th>\n",
       "      <td>25.0</td>\n",
       "      <td>18.0</td>\n",
       "      <td>163050.666667</td>\n",
       "      <td>10009.000000</td>\n",
       "      <td>6.138583</td>\n",
       "    </tr>\n",
       "    <tr>\n",
       "      <th>111131</th>\n",
       "      <td>27.0</td>\n",
       "      <td>18.0</td>\n",
       "      <td>244906.333333</td>\n",
       "      <td>15963.000000</td>\n",
       "      <td>6.518002</td>\n",
       "    </tr>\n",
       "    <tr>\n",
       "      <th>111141</th>\n",
       "      <td>29.0</td>\n",
       "      <td>18.0</td>\n",
       "      <td>370111.000000</td>\n",
       "      <td>15240.333333</td>\n",
       "      <td>4.117774</td>\n",
       "    </tr>\n",
       "    <tr>\n",
       "      <th>111142</th>\n",
       "      <td>28.0</td>\n",
       "      <td>18.0</td>\n",
       "      <td>312717.666667</td>\n",
       "      <td>8078.333333</td>\n",
       "      <td>2.583267</td>\n",
       "    </tr>\n",
       "    <tr>\n",
       "      <th>111151</th>\n",
       "      <td>31.0</td>\n",
       "      <td>18.0</td>\n",
       "      <td>407650.333333</td>\n",
       "      <td>4833.666667</td>\n",
       "      <td>1.185738</td>\n",
       "    </tr>\n",
       "    <tr>\n",
       "      <th>111152</th>\n",
       "      <td>30.0</td>\n",
       "      <td>18.0</td>\n",
       "      <td>364457.333333</td>\n",
       "      <td>16159.666667</td>\n",
       "      <td>4.433898</td>\n",
       "    </tr>\n",
       "    <tr>\n",
       "      <th>111161</th>\n",
       "      <td>32.0</td>\n",
       "      <td>18.0</td>\n",
       "      <td>452612.666667</td>\n",
       "      <td>11755.000000</td>\n",
       "      <td>2.597143</td>\n",
       "    </tr>\n",
       "    <tr>\n",
       "      <th>111171</th>\n",
       "      <td>34.0</td>\n",
       "      <td>18.0</td>\n",
       "      <td>341171.333333</td>\n",
       "      <td>2191.000000</td>\n",
       "      <td>0.642199</td>\n",
       "    </tr>\n",
       "    <tr>\n",
       "      <th>111181</th>\n",
       "      <td>36.0</td>\n",
       "      <td>18.0</td>\n",
       "      <td>487804.666667</td>\n",
       "      <td>4463.666667</td>\n",
       "      <td>0.915052</td>\n",
       "    </tr>\n",
       "    <tr>\n",
       "      <th>111191</th>\n",
       "      <td>37.0</td>\n",
       "      <td>18.0</td>\n",
       "      <td>323759.666667</td>\n",
       "      <td>12923.000000</td>\n",
       "      <td>3.991541</td>\n",
       "    </tr>\n",
       "    <tr>\n",
       "      <th>111201</th>\n",
       "      <td>38.0</td>\n",
       "      <td>18.0</td>\n",
       "      <td>386022.333333</td>\n",
       "      <td>11346.666667</td>\n",
       "      <td>2.939381</td>\n",
       "    </tr>\n",
       "    <tr>\n",
       "      <th>111212</th>\n",
       "      <td>40.0</td>\n",
       "      <td>18.0</td>\n",
       "      <td>603379.666667</td>\n",
       "      <td>6567.666667</td>\n",
       "      <td>1.088480</td>\n",
       "    </tr>\n",
       "    <tr>\n",
       "      <th>111221</th>\n",
       "      <td>41.0</td>\n",
       "      <td>18.0</td>\n",
       "      <td>439805.333333</td>\n",
       "      <td>32504.333333</td>\n",
       "      <td>7.390618</td>\n",
       "    </tr>\n",
       "    <tr>\n",
       "      <th>111231</th>\n",
       "      <td>43.0</td>\n",
       "      <td>18.0</td>\n",
       "      <td>402203.333333</td>\n",
       "      <td>34201.333333</td>\n",
       "      <td>8.503493</td>\n",
       "    </tr>\n",
       "    <tr>\n",
       "      <th>111241</th>\n",
       "      <td>44.0</td>\n",
       "      <td>18.0</td>\n",
       "      <td>408930.000000</td>\n",
       "      <td>12802.333333</td>\n",
       "      <td>3.130691</td>\n",
       "    </tr>\n",
       "    <tr>\n",
       "      <th>111251</th>\n",
       "      <td>45.0</td>\n",
       "      <td>18.0</td>\n",
       "      <td>519434.333333</td>\n",
       "      <td>17651.666667</td>\n",
       "      <td>3.398248</td>\n",
       "    </tr>\n",
       "    <tr>\n",
       "      <th>111261</th>\n",
       "      <td>47.0</td>\n",
       "      <td>18.0</td>\n",
       "      <td>552904.666667</td>\n",
       "      <td>5005.666667</td>\n",
       "      <td>0.905340</td>\n",
       "    </tr>\n",
       "    <tr>\n",
       "      <th>111262</th>\n",
       "      <td>46.0</td>\n",
       "      <td>18.0</td>\n",
       "      <td>439557.000000</td>\n",
       "      <td>4264.000000</td>\n",
       "      <td>0.970068</td>\n",
       "    </tr>\n",
       "    <tr>\n",
       "      <th>111273</th>\n",
       "      <td>48.0</td>\n",
       "      <td>18.0</td>\n",
       "      <td>675807.000000</td>\n",
       "      <td>6776.333333</td>\n",
       "      <td>1.002702</td>\n",
       "    </tr>\n",
       "    <tr>\n",
       "      <th>111274</th>\n",
       "      <td>49.0</td>\n",
       "      <td>18.0</td>\n",
       "      <td>437556.333333</td>\n",
       "      <td>4268.666667</td>\n",
       "      <td>0.975570</td>\n",
       "    </tr>\n",
       "    <tr>\n",
       "      <th>111281</th>\n",
       "      <td>42.0</td>\n",
       "      <td>18.0</td>\n",
       "      <td>253110.666667</td>\n",
       "      <td>19150.333333</td>\n",
       "      <td>7.565992</td>\n",
       "    </tr>\n",
       "    <tr>\n",
       "      <th>111291</th>\n",
       "      <td>33.0</td>\n",
       "      <td>18.0</td>\n",
       "      <td>322870.666667</td>\n",
       "      <td>3671.666667</td>\n",
       "      <td>1.137194</td>\n",
       "    </tr>\n",
       "    <tr>\n",
       "      <th>111301</th>\n",
       "      <td>39.0</td>\n",
       "      <td>18.0</td>\n",
       "      <td>468482.666667</td>\n",
       "      <td>3981.333333</td>\n",
       "      <td>0.849836</td>\n",
       "    </tr>\n",
       "    <tr>\n",
       "      <th>111311</th>\n",
       "      <td>35.0</td>\n",
       "      <td>18.0</td>\n",
       "      <td>547846.000000</td>\n",
       "      <td>4159.333333</td>\n",
       "      <td>0.759216</td>\n",
       "    </tr>\n",
       "  </tbody>\n",
       "</table>\n",
       "</div>"
      ],
      "text/plain": [
       "          ID  기간코드           전체인구        등록_외국인      외인비율\n",
       "지역코드                                                     \n",
       "111121  26.0  18.0  135571.333333   9703.000000  7.157118\n",
       "111123  25.0  18.0  163050.666667  10009.000000  6.138583\n",
       "111131  27.0  18.0  244906.333333  15963.000000  6.518002\n",
       "111141  29.0  18.0  370111.000000  15240.333333  4.117774\n",
       "111142  28.0  18.0  312717.666667   8078.333333  2.583267\n",
       "111151  31.0  18.0  407650.333333   4833.666667  1.185738\n",
       "111152  30.0  18.0  364457.333333  16159.666667  4.433898\n",
       "111161  32.0  18.0  452612.666667  11755.000000  2.597143\n",
       "111171  34.0  18.0  341171.333333   2191.000000  0.642199\n",
       "111181  36.0  18.0  487804.666667   4463.666667  0.915052\n",
       "111191  37.0  18.0  323759.666667  12923.000000  3.991541\n",
       "111201  38.0  18.0  386022.333333  11346.666667  2.939381\n",
       "111212  40.0  18.0  603379.666667   6567.666667  1.088480\n",
       "111221  41.0  18.0  439805.333333  32504.333333  7.390618\n",
       "111231  43.0  18.0  402203.333333  34201.333333  8.503493\n",
       "111241  44.0  18.0  408930.000000  12802.333333  3.130691\n",
       "111251  45.0  18.0  519434.333333  17651.666667  3.398248\n",
       "111261  47.0  18.0  552904.666667   5005.666667  0.905340\n",
       "111262  46.0  18.0  439557.000000   4264.000000  0.970068\n",
       "111273  48.0  18.0  675807.000000   6776.333333  1.002702\n",
       "111274  49.0  18.0  437556.333333   4268.666667  0.975570\n",
       "111281  42.0  18.0  253110.666667  19150.333333  7.565992\n",
       "111291  33.0  18.0  322870.666667   3671.666667  1.137194\n",
       "111301  39.0  18.0  468482.666667   3981.333333  0.849836\n",
       "111311  35.0  18.0  547846.000000   4159.333333  0.759216"
      ]
     },
     "execution_count": 51,
     "metadata": {},
     "output_type": "execute_result"
    }
   ],
   "source": [
    "foreigner[\"외인비율\"] = foreigner[\"등록_외국인\"]/foreigner['전체인구']*100\n",
    "foreigner"
   ]
  },
  {
   "cell_type": "code",
   "execution_count": 52,
   "id": "a64f8af8",
   "metadata": {},
   "outputs": [],
   "source": [
    "del foreigner[\"ID\"]\n",
    "del foreigner[\"기간코드\"]"
   ]
  },
  {
   "cell_type": "code",
   "execution_count": 53,
   "id": "3edad4b6",
   "metadata": {},
   "outputs": [
    {
     "data": {
      "text/html": [
       "<div>\n",
       "<style scoped>\n",
       "    .dataframe tbody tr th:only-of-type {\n",
       "        vertical-align: middle;\n",
       "    }\n",
       "\n",
       "    .dataframe tbody tr th {\n",
       "        vertical-align: top;\n",
       "    }\n",
       "\n",
       "    .dataframe thead th {\n",
       "        text-align: right;\n",
       "    }\n",
       "</style>\n",
       "<table border=\"1\" class=\"dataframe\">\n",
       "  <thead>\n",
       "    <tr style=\"text-align: right;\">\n",
       "      <th></th>\n",
       "      <th>전체인구</th>\n",
       "      <th>등록_외국인</th>\n",
       "      <th>외인비율</th>\n",
       "    </tr>\n",
       "    <tr>\n",
       "      <th>지역코드</th>\n",
       "      <th></th>\n",
       "      <th></th>\n",
       "      <th></th>\n",
       "    </tr>\n",
       "  </thead>\n",
       "  <tbody>\n",
       "    <tr>\n",
       "      <th>111121</th>\n",
       "      <td>135571.333333</td>\n",
       "      <td>9703.000000</td>\n",
       "      <td>7.157118</td>\n",
       "    </tr>\n",
       "    <tr>\n",
       "      <th>111123</th>\n",
       "      <td>163050.666667</td>\n",
       "      <td>10009.000000</td>\n",
       "      <td>6.138583</td>\n",
       "    </tr>\n",
       "    <tr>\n",
       "      <th>111131</th>\n",
       "      <td>244906.333333</td>\n",
       "      <td>15963.000000</td>\n",
       "      <td>6.518002</td>\n",
       "    </tr>\n",
       "    <tr>\n",
       "      <th>111141</th>\n",
       "      <td>370111.000000</td>\n",
       "      <td>15240.333333</td>\n",
       "      <td>4.117774</td>\n",
       "    </tr>\n",
       "    <tr>\n",
       "      <th>111142</th>\n",
       "      <td>312717.666667</td>\n",
       "      <td>8078.333333</td>\n",
       "      <td>2.583267</td>\n",
       "    </tr>\n",
       "    <tr>\n",
       "      <th>111151</th>\n",
       "      <td>407650.333333</td>\n",
       "      <td>4833.666667</td>\n",
       "      <td>1.185738</td>\n",
       "    </tr>\n",
       "    <tr>\n",
       "      <th>111152</th>\n",
       "      <td>364457.333333</td>\n",
       "      <td>16159.666667</td>\n",
       "      <td>4.433898</td>\n",
       "    </tr>\n",
       "    <tr>\n",
       "      <th>111161</th>\n",
       "      <td>452612.666667</td>\n",
       "      <td>11755.000000</td>\n",
       "      <td>2.597143</td>\n",
       "    </tr>\n",
       "    <tr>\n",
       "      <th>111171</th>\n",
       "      <td>341171.333333</td>\n",
       "      <td>2191.000000</td>\n",
       "      <td>0.642199</td>\n",
       "    </tr>\n",
       "    <tr>\n",
       "      <th>111181</th>\n",
       "      <td>487804.666667</td>\n",
       "      <td>4463.666667</td>\n",
       "      <td>0.915052</td>\n",
       "    </tr>\n",
       "    <tr>\n",
       "      <th>111191</th>\n",
       "      <td>323759.666667</td>\n",
       "      <td>12923.000000</td>\n",
       "      <td>3.991541</td>\n",
       "    </tr>\n",
       "    <tr>\n",
       "      <th>111201</th>\n",
       "      <td>386022.333333</td>\n",
       "      <td>11346.666667</td>\n",
       "      <td>2.939381</td>\n",
       "    </tr>\n",
       "    <tr>\n",
       "      <th>111212</th>\n",
       "      <td>603379.666667</td>\n",
       "      <td>6567.666667</td>\n",
       "      <td>1.088480</td>\n",
       "    </tr>\n",
       "    <tr>\n",
       "      <th>111221</th>\n",
       "      <td>439805.333333</td>\n",
       "      <td>32504.333333</td>\n",
       "      <td>7.390618</td>\n",
       "    </tr>\n",
       "    <tr>\n",
       "      <th>111231</th>\n",
       "      <td>402203.333333</td>\n",
       "      <td>34201.333333</td>\n",
       "      <td>8.503493</td>\n",
       "    </tr>\n",
       "    <tr>\n",
       "      <th>111241</th>\n",
       "      <td>408930.000000</td>\n",
       "      <td>12802.333333</td>\n",
       "      <td>3.130691</td>\n",
       "    </tr>\n",
       "    <tr>\n",
       "      <th>111251</th>\n",
       "      <td>519434.333333</td>\n",
       "      <td>17651.666667</td>\n",
       "      <td>3.398248</td>\n",
       "    </tr>\n",
       "    <tr>\n",
       "      <th>111261</th>\n",
       "      <td>552904.666667</td>\n",
       "      <td>5005.666667</td>\n",
       "      <td>0.905340</td>\n",
       "    </tr>\n",
       "    <tr>\n",
       "      <th>111262</th>\n",
       "      <td>439557.000000</td>\n",
       "      <td>4264.000000</td>\n",
       "      <td>0.970068</td>\n",
       "    </tr>\n",
       "    <tr>\n",
       "      <th>111273</th>\n",
       "      <td>675807.000000</td>\n",
       "      <td>6776.333333</td>\n",
       "      <td>1.002702</td>\n",
       "    </tr>\n",
       "    <tr>\n",
       "      <th>111274</th>\n",
       "      <td>437556.333333</td>\n",
       "      <td>4268.666667</td>\n",
       "      <td>0.975570</td>\n",
       "    </tr>\n",
       "    <tr>\n",
       "      <th>111281</th>\n",
       "      <td>253110.666667</td>\n",
       "      <td>19150.333333</td>\n",
       "      <td>7.565992</td>\n",
       "    </tr>\n",
       "    <tr>\n",
       "      <th>111291</th>\n",
       "      <td>322870.666667</td>\n",
       "      <td>3671.666667</td>\n",
       "      <td>1.137194</td>\n",
       "    </tr>\n",
       "    <tr>\n",
       "      <th>111301</th>\n",
       "      <td>468482.666667</td>\n",
       "      <td>3981.333333</td>\n",
       "      <td>0.849836</td>\n",
       "    </tr>\n",
       "    <tr>\n",
       "      <th>111311</th>\n",
       "      <td>547846.000000</td>\n",
       "      <td>4159.333333</td>\n",
       "      <td>0.759216</td>\n",
       "    </tr>\n",
       "  </tbody>\n",
       "</table>\n",
       "</div>"
      ],
      "text/plain": [
       "                 전체인구        등록_외국인      외인비율\n",
       "지역코드                                         \n",
       "111121  135571.333333   9703.000000  7.157118\n",
       "111123  163050.666667  10009.000000  6.138583\n",
       "111131  244906.333333  15963.000000  6.518002\n",
       "111141  370111.000000  15240.333333  4.117774\n",
       "111142  312717.666667   8078.333333  2.583267\n",
       "111151  407650.333333   4833.666667  1.185738\n",
       "111152  364457.333333  16159.666667  4.433898\n",
       "111161  452612.666667  11755.000000  2.597143\n",
       "111171  341171.333333   2191.000000  0.642199\n",
       "111181  487804.666667   4463.666667  0.915052\n",
       "111191  323759.666667  12923.000000  3.991541\n",
       "111201  386022.333333  11346.666667  2.939381\n",
       "111212  603379.666667   6567.666667  1.088480\n",
       "111221  439805.333333  32504.333333  7.390618\n",
       "111231  402203.333333  34201.333333  8.503493\n",
       "111241  408930.000000  12802.333333  3.130691\n",
       "111251  519434.333333  17651.666667  3.398248\n",
       "111261  552904.666667   5005.666667  0.905340\n",
       "111262  439557.000000   4264.000000  0.970068\n",
       "111273  675807.000000   6776.333333  1.002702\n",
       "111274  437556.333333   4268.666667  0.975570\n",
       "111281  253110.666667  19150.333333  7.565992\n",
       "111291  322870.666667   3671.666667  1.137194\n",
       "111301  468482.666667   3981.333333  0.849836\n",
       "111311  547846.000000   4159.333333  0.759216"
      ]
     },
     "execution_count": 53,
     "metadata": {},
     "output_type": "execute_result"
    }
   ],
   "source": [
    "foreigner"
   ]
  },
  {
   "cell_type": "code",
   "execution_count": 54,
   "id": "92140d2e",
   "metadata": {},
   "outputs": [],
   "source": [
    "foreigner.reset_index(inplace=True)"
   ]
  },
  {
   "cell_type": "code",
   "execution_count": 55,
   "id": "5ed6c318",
   "metadata": {},
   "outputs": [],
   "source": [
    "foreigner[\"지역코드\"].replace([111181,111191,111201,111301,111212,111221,111281,111231,111241,111273,111274,111123,111121,111131,111142,111141,111152,111161,111291,111171,111251,111262,111261,111151,111311],[\"은평구\",\"서대문구\",\"마포구\",\"양천구\",\"강서구\",\"구로구\",\"금천구\",\"영등포구\",\"동작구\",\"송파구\",\"강동구\",\"종로구\",\"중구\",\"용산구\",\"성동구\",\"광진구\",\"동대문구\",\"성북구\",\"강북구\",\"도봉구\",\"관악구\",\"서초구\",\"강남구\",\"중랑구\",\"노원구\"], inplace=True)"
   ]
  },
  {
   "cell_type": "code",
   "execution_count": 63,
   "id": "4ce7afe5",
   "metadata": {
    "scrolled": true
   },
   "outputs": [],
   "source": [
    "foreigner[\"외국인순위\"]=foreigner[\"외인비율\"].rank()"
   ]
  },
  {
   "cell_type": "code",
   "execution_count": 65,
   "id": "6715ac64",
   "metadata": {
    "scrolled": true
   },
   "outputs": [],
   "source": [
    "del foreigner[\"전체인구\"]\n",
    "del foreigner[\"등록_외국인\"]\n",
    "del foreigner[\"외인비율\"]\n",
    "del foreigner[\"범죄비율\"]\n"
   ]
  },
  {
   "cell_type": "code",
   "execution_count": 59,
   "id": "97e2bff9",
   "metadata": {},
   "outputs": [],
   "source": [
    "foreigner[\"범죄비율\"] = single1[\"5대범죄합계\"]/foreigner[\"등록_외국인\"]"
   ]
  },
  {
   "cell_type": "code",
   "execution_count": 64,
   "id": "51fec2b4",
   "metadata": {},
   "outputs": [],
   "source": [
    "foreigner[\"외국인순위\"]=foreigner[\"외국인순위\"].astype(int)"
   ]
  },
  {
   "cell_type": "code",
   "execution_count": 66,
   "id": "43e658c4",
   "metadata": {},
   "outputs": [
    {
     "data": {
      "text/html": [
       "<div>\n",
       "<style scoped>\n",
       "    .dataframe tbody tr th:only-of-type {\n",
       "        vertical-align: middle;\n",
       "    }\n",
       "\n",
       "    .dataframe tbody tr th {\n",
       "        vertical-align: top;\n",
       "    }\n",
       "\n",
       "    .dataframe thead th {\n",
       "        text-align: right;\n",
       "    }\n",
       "</style>\n",
       "<table border=\"1\" class=\"dataframe\">\n",
       "  <thead>\n",
       "    <tr style=\"text-align: right;\">\n",
       "      <th></th>\n",
       "      <th>지역코드</th>\n",
       "      <th>외국인순위</th>\n",
       "    </tr>\n",
       "  </thead>\n",
       "  <tbody>\n",
       "    <tr>\n",
       "      <th>17</th>\n",
       "      <td>강남구</td>\n",
       "      <td>4</td>\n",
       "    </tr>\n",
       "    <tr>\n",
       "      <th>20</th>\n",
       "      <td>강동구</td>\n",
       "      <td>7</td>\n",
       "    </tr>\n",
       "    <tr>\n",
       "      <th>22</th>\n",
       "      <td>강북구</td>\n",
       "      <td>10</td>\n",
       "    </tr>\n",
       "    <tr>\n",
       "      <th>12</th>\n",
       "      <td>강서구</td>\n",
       "      <td>9</td>\n",
       "    </tr>\n",
       "    <tr>\n",
       "      <th>16</th>\n",
       "      <td>관악구</td>\n",
       "      <td>16</td>\n",
       "    </tr>\n",
       "    <tr>\n",
       "      <th>3</th>\n",
       "      <td>광진구</td>\n",
       "      <td>18</td>\n",
       "    </tr>\n",
       "    <tr>\n",
       "      <th>13</th>\n",
       "      <td>구로구</td>\n",
       "      <td>23</td>\n",
       "    </tr>\n",
       "    <tr>\n",
       "      <th>21</th>\n",
       "      <td>금천구</td>\n",
       "      <td>24</td>\n",
       "    </tr>\n",
       "    <tr>\n",
       "      <th>24</th>\n",
       "      <td>노원구</td>\n",
       "      <td>2</td>\n",
       "    </tr>\n",
       "    <tr>\n",
       "      <th>8</th>\n",
       "      <td>도봉구</td>\n",
       "      <td>1</td>\n",
       "    </tr>\n",
       "    <tr>\n",
       "      <th>6</th>\n",
       "      <td>동대문구</td>\n",
       "      <td>19</td>\n",
       "    </tr>\n",
       "    <tr>\n",
       "      <th>15</th>\n",
       "      <td>동작구</td>\n",
       "      <td>15</td>\n",
       "    </tr>\n",
       "    <tr>\n",
       "      <th>11</th>\n",
       "      <td>마포구</td>\n",
       "      <td>14</td>\n",
       "    </tr>\n",
       "    <tr>\n",
       "      <th>10</th>\n",
       "      <td>서대문구</td>\n",
       "      <td>17</td>\n",
       "    </tr>\n",
       "    <tr>\n",
       "      <th>18</th>\n",
       "      <td>서초구</td>\n",
       "      <td>6</td>\n",
       "    </tr>\n",
       "    <tr>\n",
       "      <th>4</th>\n",
       "      <td>성동구</td>\n",
       "      <td>12</td>\n",
       "    </tr>\n",
       "    <tr>\n",
       "      <th>7</th>\n",
       "      <td>성북구</td>\n",
       "      <td>13</td>\n",
       "    </tr>\n",
       "    <tr>\n",
       "      <th>19</th>\n",
       "      <td>송파구</td>\n",
       "      <td>8</td>\n",
       "    </tr>\n",
       "    <tr>\n",
       "      <th>23</th>\n",
       "      <td>양천구</td>\n",
       "      <td>3</td>\n",
       "    </tr>\n",
       "    <tr>\n",
       "      <th>14</th>\n",
       "      <td>영등포구</td>\n",
       "      <td>25</td>\n",
       "    </tr>\n",
       "    <tr>\n",
       "      <th>2</th>\n",
       "      <td>용산구</td>\n",
       "      <td>21</td>\n",
       "    </tr>\n",
       "    <tr>\n",
       "      <th>9</th>\n",
       "      <td>은평구</td>\n",
       "      <td>5</td>\n",
       "    </tr>\n",
       "    <tr>\n",
       "      <th>1</th>\n",
       "      <td>종로구</td>\n",
       "      <td>20</td>\n",
       "    </tr>\n",
       "    <tr>\n",
       "      <th>0</th>\n",
       "      <td>중구</td>\n",
       "      <td>22</td>\n",
       "    </tr>\n",
       "    <tr>\n",
       "      <th>5</th>\n",
       "      <td>중랑구</td>\n",
       "      <td>11</td>\n",
       "    </tr>\n",
       "  </tbody>\n",
       "</table>\n",
       "</div>"
      ],
      "text/plain": [
       "    지역코드  외국인순위\n",
       "17   강남구      4\n",
       "20   강동구      7\n",
       "22   강북구     10\n",
       "12   강서구      9\n",
       "16   관악구     16\n",
       "3    광진구     18\n",
       "13   구로구     23\n",
       "21   금천구     24\n",
       "24   노원구      2\n",
       "8    도봉구      1\n",
       "6   동대문구     19\n",
       "15   동작구     15\n",
       "11   마포구     14\n",
       "10  서대문구     17\n",
       "18   서초구      6\n",
       "4    성동구     12\n",
       "7    성북구     13\n",
       "19   송파구      8\n",
       "23   양천구      3\n",
       "14  영등포구     25\n",
       "2    용산구     21\n",
       "9    은평구      5\n",
       "1    종로구     20\n",
       "0     중구     22\n",
       "5    중랑구     11"
      ]
     },
     "execution_count": 66,
     "metadata": {},
     "output_type": "execute_result"
    }
   ],
   "source": [
    "foreigner.sort_values(\"지역코드\",inplace=True)\n",
    "foreigner"
   ]
  },
  {
   "cell_type": "code",
   "execution_count": 67,
   "id": "86970a3f",
   "metadata": {
    "scrolled": true
   },
   "outputs": [
    {
     "data": {
      "text/html": [
       "<div>\n",
       "<style scoped>\n",
       "    .dataframe tbody tr th:only-of-type {\n",
       "        vertical-align: middle;\n",
       "    }\n",
       "\n",
       "    .dataframe tbody tr th {\n",
       "        vertical-align: top;\n",
       "    }\n",
       "\n",
       "    .dataframe thead th {\n",
       "        text-align: right;\n",
       "    }\n",
       "</style>\n",
       "<table border=\"1\" class=\"dataframe\">\n",
       "  <thead>\n",
       "    <tr style=\"text-align: right;\">\n",
       "      <th></th>\n",
       "      <th>지역코드</th>\n",
       "      <th>외국인순위</th>\n",
       "    </tr>\n",
       "  </thead>\n",
       "  <tbody>\n",
       "    <tr>\n",
       "      <th>17</th>\n",
       "      <td>강남구</td>\n",
       "      <td>4</td>\n",
       "    </tr>\n",
       "    <tr>\n",
       "      <th>20</th>\n",
       "      <td>강동구</td>\n",
       "      <td>7</td>\n",
       "    </tr>\n",
       "    <tr>\n",
       "      <th>22</th>\n",
       "      <td>강북구</td>\n",
       "      <td>10</td>\n",
       "    </tr>\n",
       "    <tr>\n",
       "      <th>12</th>\n",
       "      <td>강서구</td>\n",
       "      <td>9</td>\n",
       "    </tr>\n",
       "    <tr>\n",
       "      <th>16</th>\n",
       "      <td>관악구</td>\n",
       "      <td>16</td>\n",
       "    </tr>\n",
       "    <tr>\n",
       "      <th>3</th>\n",
       "      <td>광진구</td>\n",
       "      <td>18</td>\n",
       "    </tr>\n",
       "    <tr>\n",
       "      <th>13</th>\n",
       "      <td>구로구</td>\n",
       "      <td>23</td>\n",
       "    </tr>\n",
       "    <tr>\n",
       "      <th>21</th>\n",
       "      <td>금천구</td>\n",
       "      <td>24</td>\n",
       "    </tr>\n",
       "    <tr>\n",
       "      <th>24</th>\n",
       "      <td>노원구</td>\n",
       "      <td>2</td>\n",
       "    </tr>\n",
       "    <tr>\n",
       "      <th>8</th>\n",
       "      <td>도봉구</td>\n",
       "      <td>1</td>\n",
       "    </tr>\n",
       "    <tr>\n",
       "      <th>6</th>\n",
       "      <td>동대문구</td>\n",
       "      <td>19</td>\n",
       "    </tr>\n",
       "    <tr>\n",
       "      <th>15</th>\n",
       "      <td>동작구</td>\n",
       "      <td>15</td>\n",
       "    </tr>\n",
       "    <tr>\n",
       "      <th>11</th>\n",
       "      <td>마포구</td>\n",
       "      <td>14</td>\n",
       "    </tr>\n",
       "    <tr>\n",
       "      <th>10</th>\n",
       "      <td>서대문구</td>\n",
       "      <td>17</td>\n",
       "    </tr>\n",
       "    <tr>\n",
       "      <th>18</th>\n",
       "      <td>서초구</td>\n",
       "      <td>6</td>\n",
       "    </tr>\n",
       "    <tr>\n",
       "      <th>4</th>\n",
       "      <td>성동구</td>\n",
       "      <td>12</td>\n",
       "    </tr>\n",
       "    <tr>\n",
       "      <th>7</th>\n",
       "      <td>성북구</td>\n",
       "      <td>13</td>\n",
       "    </tr>\n",
       "    <tr>\n",
       "      <th>19</th>\n",
       "      <td>송파구</td>\n",
       "      <td>8</td>\n",
       "    </tr>\n",
       "    <tr>\n",
       "      <th>23</th>\n",
       "      <td>양천구</td>\n",
       "      <td>3</td>\n",
       "    </tr>\n",
       "    <tr>\n",
       "      <th>14</th>\n",
       "      <td>영등포구</td>\n",
       "      <td>25</td>\n",
       "    </tr>\n",
       "    <tr>\n",
       "      <th>2</th>\n",
       "      <td>용산구</td>\n",
       "      <td>21</td>\n",
       "    </tr>\n",
       "    <tr>\n",
       "      <th>9</th>\n",
       "      <td>은평구</td>\n",
       "      <td>5</td>\n",
       "    </tr>\n",
       "    <tr>\n",
       "      <th>1</th>\n",
       "      <td>종로구</td>\n",
       "      <td>20</td>\n",
       "    </tr>\n",
       "    <tr>\n",
       "      <th>0</th>\n",
       "      <td>중구</td>\n",
       "      <td>22</td>\n",
       "    </tr>\n",
       "    <tr>\n",
       "      <th>5</th>\n",
       "      <td>중랑구</td>\n",
       "      <td>11</td>\n",
       "    </tr>\n",
       "  </tbody>\n",
       "</table>\n",
       "</div>"
      ],
      "text/plain": [
       "    지역코드  외국인순위\n",
       "17   강남구      4\n",
       "20   강동구      7\n",
       "22   강북구     10\n",
       "12   강서구      9\n",
       "16   관악구     16\n",
       "3    광진구     18\n",
       "13   구로구     23\n",
       "21   금천구     24\n",
       "24   노원구      2\n",
       "8    도봉구      1\n",
       "6   동대문구     19\n",
       "15   동작구     15\n",
       "11   마포구     14\n",
       "10  서대문구     17\n",
       "18   서초구      6\n",
       "4    성동구     12\n",
       "7    성북구     13\n",
       "19   송파구      8\n",
       "23   양천구      3\n",
       "14  영등포구     25\n",
       "2    용산구     21\n",
       "9    은평구      5\n",
       "1    종로구     20\n",
       "0     중구     22\n",
       "5    중랑구     11"
      ]
     },
     "execution_count": 67,
     "metadata": {},
     "output_type": "execute_result"
    }
   ],
   "source": [
    "foreigner"
   ]
  },
  {
   "cell_type": "code",
   "execution_count": 87,
   "id": "a092cbb9",
   "metadata": {},
   "outputs": [],
   "source": [
    "gender.rename(columns={\"순위\":\"성비순위\",\"지역코드\":\"지역구\"},inplace=True)\n",
    "single.rename(columns={\"순위\":\"1인가구순위\"},inplace=True)\n",
    "move.rename(columns={\"순위\":\"유동인구순위\",\"지역코드\":\"지역구\"},inplace=True)\n",
    "density.rename(columns={\"순위\":\"인구밀도순위\",\"지역코드\":\"지역구\"},inplace=True)\n",
    "foreigner.rename(columns={\"지역코드\":\"지역구\"},inplace=True)"
   ]
  },
  {
   "cell_type": "code",
   "execution_count": 88,
   "id": "0affe821",
   "metadata": {},
   "outputs": [],
   "source": [
    "density.reset_index(inplace=True)"
   ]
  },
  {
   "cell_type": "code",
   "execution_count": 89,
   "id": "32e094a6",
   "metadata": {
    "scrolled": true
   },
   "outputs": [
    {
     "ename": "KeyError",
     "evalue": "'범죄비율'",
     "output_type": "error",
     "traceback": [
      "\u001b[1;31m---------------------------------------------------------------------------\u001b[0m",
      "\u001b[1;31mKeyError\u001b[0m                                  Traceback (most recent call last)",
      "\u001b[1;32mE:\\anaconda\\lib\\site-packages\\pandas\\core\\indexes\\base.py\u001b[0m in \u001b[0;36mget_loc\u001b[1;34m(self, key, method, tolerance)\u001b[0m\n\u001b[0;32m   3079\u001b[0m             \u001b[1;32mtry\u001b[0m\u001b[1;33m:\u001b[0m\u001b[1;33m\u001b[0m\u001b[1;33m\u001b[0m\u001b[0m\n\u001b[1;32m-> 3080\u001b[1;33m                 \u001b[1;32mreturn\u001b[0m \u001b[0mself\u001b[0m\u001b[1;33m.\u001b[0m\u001b[0m_engine\u001b[0m\u001b[1;33m.\u001b[0m\u001b[0mget_loc\u001b[0m\u001b[1;33m(\u001b[0m\u001b[0mcasted_key\u001b[0m\u001b[1;33m)\u001b[0m\u001b[1;33m\u001b[0m\u001b[1;33m\u001b[0m\u001b[0m\n\u001b[0m\u001b[0;32m   3081\u001b[0m             \u001b[1;32mexcept\u001b[0m \u001b[0mKeyError\u001b[0m \u001b[1;32mas\u001b[0m \u001b[0merr\u001b[0m\u001b[1;33m:\u001b[0m\u001b[1;33m\u001b[0m\u001b[1;33m\u001b[0m\u001b[0m\n",
      "\u001b[1;32mpandas\\_libs\\index.pyx\u001b[0m in \u001b[0;36mpandas._libs.index.IndexEngine.get_loc\u001b[1;34m()\u001b[0m\n",
      "\u001b[1;32mpandas\\_libs\\index.pyx\u001b[0m in \u001b[0;36mpandas._libs.index.IndexEngine.get_loc\u001b[1;34m()\u001b[0m\n",
      "\u001b[1;32mpandas\\_libs\\hashtable_class_helper.pxi\u001b[0m in \u001b[0;36mpandas._libs.hashtable.PyObjectHashTable.get_item\u001b[1;34m()\u001b[0m\n",
      "\u001b[1;32mpandas\\_libs\\hashtable_class_helper.pxi\u001b[0m in \u001b[0;36mpandas._libs.hashtable.PyObjectHashTable.get_item\u001b[1;34m()\u001b[0m\n",
      "\u001b[1;31mKeyError\u001b[0m: '범죄비율'",
      "\nThe above exception was the direct cause of the following exception:\n",
      "\u001b[1;31mKeyError\u001b[0m                                  Traceback (most recent call last)",
      "\u001b[1;32m<ipython-input-89-80bfa1366229>\u001b[0m in \u001b[0;36m<module>\u001b[1;34m\u001b[0m\n\u001b[1;32m----> 1\u001b[1;33m \u001b[0mdensity\u001b[0m\u001b[1;33m[\u001b[0m\u001b[1;34m\"순위\"\u001b[0m\u001b[1;33m]\u001b[0m \u001b[1;33m=\u001b[0m \u001b[0mdensity\u001b[0m\u001b[1;33m[\u001b[0m\u001b[1;34m\"범죄비율\"\u001b[0m\u001b[1;33m]\u001b[0m\u001b[1;33m.\u001b[0m\u001b[0mrank\u001b[0m\u001b[1;33m(\u001b[0m\u001b[1;33m)\u001b[0m\u001b[1;33m.\u001b[0m\u001b[0mastype\u001b[0m\u001b[1;33m(\u001b[0m\u001b[0mint\u001b[0m\u001b[1;33m)\u001b[0m\u001b[1;33m\u001b[0m\u001b[1;33m\u001b[0m\u001b[0m\n\u001b[0m\u001b[0;32m      2\u001b[0m \u001b[0mdensity\u001b[0m\u001b[1;33m.\u001b[0m\u001b[0msort_values\u001b[0m\u001b[1;33m(\u001b[0m\u001b[0mby\u001b[0m\u001b[1;33m=\u001b[0m\u001b[1;34m\"순위\"\u001b[0m\u001b[1;33m)\u001b[0m\u001b[1;33m\u001b[0m\u001b[1;33m\u001b[0m\u001b[0m\n",
      "\u001b[1;32mE:\\anaconda\\lib\\site-packages\\pandas\\core\\frame.py\u001b[0m in \u001b[0;36m__getitem__\u001b[1;34m(self, key)\u001b[0m\n\u001b[0;32m   3022\u001b[0m             \u001b[1;32mif\u001b[0m \u001b[0mself\u001b[0m\u001b[1;33m.\u001b[0m\u001b[0mcolumns\u001b[0m\u001b[1;33m.\u001b[0m\u001b[0mnlevels\u001b[0m \u001b[1;33m>\u001b[0m \u001b[1;36m1\u001b[0m\u001b[1;33m:\u001b[0m\u001b[1;33m\u001b[0m\u001b[1;33m\u001b[0m\u001b[0m\n\u001b[0;32m   3023\u001b[0m                 \u001b[1;32mreturn\u001b[0m \u001b[0mself\u001b[0m\u001b[1;33m.\u001b[0m\u001b[0m_getitem_multilevel\u001b[0m\u001b[1;33m(\u001b[0m\u001b[0mkey\u001b[0m\u001b[1;33m)\u001b[0m\u001b[1;33m\u001b[0m\u001b[1;33m\u001b[0m\u001b[0m\n\u001b[1;32m-> 3024\u001b[1;33m             \u001b[0mindexer\u001b[0m \u001b[1;33m=\u001b[0m \u001b[0mself\u001b[0m\u001b[1;33m.\u001b[0m\u001b[0mcolumns\u001b[0m\u001b[1;33m.\u001b[0m\u001b[0mget_loc\u001b[0m\u001b[1;33m(\u001b[0m\u001b[0mkey\u001b[0m\u001b[1;33m)\u001b[0m\u001b[1;33m\u001b[0m\u001b[1;33m\u001b[0m\u001b[0m\n\u001b[0m\u001b[0;32m   3025\u001b[0m             \u001b[1;32mif\u001b[0m \u001b[0mis_integer\u001b[0m\u001b[1;33m(\u001b[0m\u001b[0mindexer\u001b[0m\u001b[1;33m)\u001b[0m\u001b[1;33m:\u001b[0m\u001b[1;33m\u001b[0m\u001b[1;33m\u001b[0m\u001b[0m\n\u001b[0;32m   3026\u001b[0m                 \u001b[0mindexer\u001b[0m \u001b[1;33m=\u001b[0m \u001b[1;33m[\u001b[0m\u001b[0mindexer\u001b[0m\u001b[1;33m]\u001b[0m\u001b[1;33m\u001b[0m\u001b[1;33m\u001b[0m\u001b[0m\n",
      "\u001b[1;32mE:\\anaconda\\lib\\site-packages\\pandas\\core\\indexes\\base.py\u001b[0m in \u001b[0;36mget_loc\u001b[1;34m(self, key, method, tolerance)\u001b[0m\n\u001b[0;32m   3080\u001b[0m                 \u001b[1;32mreturn\u001b[0m \u001b[0mself\u001b[0m\u001b[1;33m.\u001b[0m\u001b[0m_engine\u001b[0m\u001b[1;33m.\u001b[0m\u001b[0mget_loc\u001b[0m\u001b[1;33m(\u001b[0m\u001b[0mcasted_key\u001b[0m\u001b[1;33m)\u001b[0m\u001b[1;33m\u001b[0m\u001b[1;33m\u001b[0m\u001b[0m\n\u001b[0;32m   3081\u001b[0m             \u001b[1;32mexcept\u001b[0m \u001b[0mKeyError\u001b[0m \u001b[1;32mas\u001b[0m \u001b[0merr\u001b[0m\u001b[1;33m:\u001b[0m\u001b[1;33m\u001b[0m\u001b[1;33m\u001b[0m\u001b[0m\n\u001b[1;32m-> 3082\u001b[1;33m                 \u001b[1;32mraise\u001b[0m \u001b[0mKeyError\u001b[0m\u001b[1;33m(\u001b[0m\u001b[0mkey\u001b[0m\u001b[1;33m)\u001b[0m \u001b[1;32mfrom\u001b[0m \u001b[0merr\u001b[0m\u001b[1;33m\u001b[0m\u001b[1;33m\u001b[0m\u001b[0m\n\u001b[0m\u001b[0;32m   3083\u001b[0m \u001b[1;33m\u001b[0m\u001b[0m\n\u001b[0;32m   3084\u001b[0m         \u001b[1;32mif\u001b[0m \u001b[0mtolerance\u001b[0m \u001b[1;32mis\u001b[0m \u001b[1;32mnot\u001b[0m \u001b[1;32mNone\u001b[0m\u001b[1;33m:\u001b[0m\u001b[1;33m\u001b[0m\u001b[1;33m\u001b[0m\u001b[0m\n",
      "\u001b[1;31mKeyError\u001b[0m: '범죄비율'"
     ]
    }
   ],
   "source": [
    "density[\"순위\"] = density[\"범죄비율\"].rank().astype(int)\n",
    "density.sort_values(by=\"순위\")"
   ]
  },
  {
   "cell_type": "code",
   "execution_count": 90,
   "id": "14248b62",
   "metadata": {},
   "outputs": [],
   "source": [
    "density.sort_values(by=\"지역구\",inplace=True)\n",
    "single.sort_values(by=\"지역구\",inplace=True)\n",
    "move.sort_values(by=\"지역구\",inplace=True)\n",
    "gender.sort_values(by=\"지역구\",inplace=True)"
   ]
  },
  {
   "cell_type": "code",
   "execution_count": 91,
   "id": "a7c841f7",
   "metadata": {},
   "outputs": [],
   "source": [
    "a = pd.merge(gender,single,right_on=\"지역구\",left_on=\"지역구\")\n",
    "b = pd.merge(a,move,right_on=\"지역구\",left_on=\"지역구\")\n",
    "c = pd.merge(b,foreigner,right_on=\"지역구\",left_on=\"지역구\")\n",
    "total = pd.merge(c,density,right_on=\"지역구\",left_on=\"지역구\")"
   ]
  },
  {
   "cell_type": "code",
   "execution_count": 92,
   "id": "bce505db",
   "metadata": {
    "scrolled": true
   },
   "outputs": [],
   "source": [
    "total[\"인구환경순위\"] = total[\"성비순위\"]+total[\"1인가구순위\"]+total[\"유동인구순위\"]+total[\"외국인순위\"]+total[\"인구밀도순위\"]"
   ]
  },
  {
   "cell_type": "code",
   "execution_count": 94,
   "id": "51cfb70c",
   "metadata": {},
   "outputs": [],
   "source": [
    "del total[\"index\"]"
   ]
  },
  {
   "cell_type": "code",
   "execution_count": null,
   "id": "f09ff78c",
   "metadata": {},
   "outputs": [],
   "source": []
  },
  {
   "cell_type": "code",
   "execution_count": 95,
   "id": "852502fb",
   "metadata": {},
   "outputs": [],
   "source": [
    "total.to_csv(\"인구환경순위csv\",sep=\",\",na_rep=\",\")"
   ]
  },
  {
   "cell_type": "code",
   "execution_count": 96,
   "id": "4dc1cfcc",
   "metadata": {
    "scrolled": true
   },
   "outputs": [
    {
     "data": {
      "text/html": [
       "<div>\n",
       "<style scoped>\n",
       "    .dataframe tbody tr th:only-of-type {\n",
       "        vertical-align: middle;\n",
       "    }\n",
       "\n",
       "    .dataframe tbody tr th {\n",
       "        vertical-align: top;\n",
       "    }\n",
       "\n",
       "    .dataframe thead th {\n",
       "        text-align: right;\n",
       "    }\n",
       "</style>\n",
       "<table border=\"1\" class=\"dataframe\">\n",
       "  <thead>\n",
       "    <tr style=\"text-align: right;\">\n",
       "      <th></th>\n",
       "      <th>지역구</th>\n",
       "      <th>성비순위</th>\n",
       "      <th>1인가구순위</th>\n",
       "      <th>유동인구순위</th>\n",
       "      <th>외국인순위</th>\n",
       "      <th>인구밀도순위</th>\n",
       "      <th>인구환경순위</th>\n",
       "    </tr>\n",
       "  </thead>\n",
       "  <tbody>\n",
       "    <tr>\n",
       "      <th>0</th>\n",
       "      <td>강남구</td>\n",
       "      <td>25</td>\n",
       "      <td>7</td>\n",
       "      <td>12</td>\n",
       "      <td>4</td>\n",
       "      <td>24</td>\n",
       "      <td>72</td>\n",
       "    </tr>\n",
       "    <tr>\n",
       "      <th>1</th>\n",
       "      <td>강동구</td>\n",
       "      <td>13</td>\n",
       "      <td>10</td>\n",
       "      <td>9</td>\n",
       "      <td>7</td>\n",
       "      <td>12</td>\n",
       "      <td>51</td>\n",
       "    </tr>\n",
       "    <tr>\n",
       "      <th>2</th>\n",
       "      <td>강북구</td>\n",
       "      <td>8</td>\n",
       "      <td>14</td>\n",
       "      <td>23</td>\n",
       "      <td>10</td>\n",
       "      <td>14</td>\n",
       "      <td>69</td>\n",
       "    </tr>\n",
       "    <tr>\n",
       "      <th>3</th>\n",
       "      <td>강서구</td>\n",
       "      <td>19</td>\n",
       "      <td>20</td>\n",
       "      <td>11</td>\n",
       "      <td>9</td>\n",
       "      <td>21</td>\n",
       "      <td>80</td>\n",
       "    </tr>\n",
       "    <tr>\n",
       "      <th>4</th>\n",
       "      <td>관악구</td>\n",
       "      <td>20</td>\n",
       "      <td>25</td>\n",
       "      <td>17</td>\n",
       "      <td>16</td>\n",
       "      <td>17</td>\n",
       "      <td>95</td>\n",
       "    </tr>\n",
       "    <tr>\n",
       "      <th>5</th>\n",
       "      <td>광진구</td>\n",
       "      <td>17</td>\n",
       "      <td>15</td>\n",
       "      <td>16</td>\n",
       "      <td>18</td>\n",
       "      <td>9</td>\n",
       "      <td>75</td>\n",
       "    </tr>\n",
       "    <tr>\n",
       "      <th>6</th>\n",
       "      <td>구로구</td>\n",
       "      <td>18</td>\n",
       "      <td>4</td>\n",
       "      <td>20</td>\n",
       "      <td>23</td>\n",
       "      <td>11</td>\n",
       "      <td>76</td>\n",
       "    </tr>\n",
       "    <tr>\n",
       "      <th>7</th>\n",
       "      <td>금천구</td>\n",
       "      <td>3</td>\n",
       "      <td>5</td>\n",
       "      <td>25</td>\n",
       "      <td>24</td>\n",
       "      <td>7</td>\n",
       "      <td>64</td>\n",
       "    </tr>\n",
       "    <tr>\n",
       "      <th>8</th>\n",
       "      <td>노원구</td>\n",
       "      <td>15</td>\n",
       "      <td>16</td>\n",
       "      <td>7</td>\n",
       "      <td>2</td>\n",
       "      <td>15</td>\n",
       "      <td>55</td>\n",
       "    </tr>\n",
       "    <tr>\n",
       "      <th>9</th>\n",
       "      <td>도봉구</td>\n",
       "      <td>1</td>\n",
       "      <td>21</td>\n",
       "      <td>4</td>\n",
       "      <td>1</td>\n",
       "      <td>1</td>\n",
       "      <td>28</td>\n",
       "    </tr>\n",
       "    <tr>\n",
       "      <th>10</th>\n",
       "      <td>동대문구</td>\n",
       "      <td>9</td>\n",
       "      <td>17</td>\n",
       "      <td>14</td>\n",
       "      <td>19</td>\n",
       "      <td>5</td>\n",
       "      <td>64</td>\n",
       "    </tr>\n",
       "    <tr>\n",
       "      <th>11</th>\n",
       "      <td>동작구</td>\n",
       "      <td>6</td>\n",
       "      <td>23</td>\n",
       "      <td>6</td>\n",
       "      <td>15</td>\n",
       "      <td>2</td>\n",
       "      <td>52</td>\n",
       "    </tr>\n",
       "    <tr>\n",
       "      <th>12</th>\n",
       "      <td>마포구</td>\n",
       "      <td>22</td>\n",
       "      <td>13</td>\n",
       "      <td>15</td>\n",
       "      <td>14</td>\n",
       "      <td>19</td>\n",
       "      <td>83</td>\n",
       "    </tr>\n",
       "    <tr>\n",
       "      <th>13</th>\n",
       "      <td>서대문구</td>\n",
       "      <td>4</td>\n",
       "      <td>22</td>\n",
       "      <td>3</td>\n",
       "      <td>17</td>\n",
       "      <td>6</td>\n",
       "      <td>52</td>\n",
       "    </tr>\n",
       "    <tr>\n",
       "      <th>14</th>\n",
       "      <td>서초구</td>\n",
       "      <td>21</td>\n",
       "      <td>6</td>\n",
       "      <td>8</td>\n",
       "      <td>6</td>\n",
       "      <td>23</td>\n",
       "      <td>64</td>\n",
       "    </tr>\n",
       "    <tr>\n",
       "      <th>15</th>\n",
       "      <td>성동구</td>\n",
       "      <td>2</td>\n",
       "      <td>19</td>\n",
       "      <td>2</td>\n",
       "      <td>12</td>\n",
       "      <td>4</td>\n",
       "      <td>39</td>\n",
       "    </tr>\n",
       "    <tr>\n",
       "      <th>16</th>\n",
       "      <td>성북구</td>\n",
       "      <td>5</td>\n",
       "      <td>24</td>\n",
       "      <td>1</td>\n",
       "      <td>13</td>\n",
       "      <td>8</td>\n",
       "      <td>51</td>\n",
       "    </tr>\n",
       "    <tr>\n",
       "      <th>17</th>\n",
       "      <td>송파구</td>\n",
       "      <td>24</td>\n",
       "      <td>12</td>\n",
       "      <td>5</td>\n",
       "      <td>8</td>\n",
       "      <td>16</td>\n",
       "      <td>65</td>\n",
       "    </tr>\n",
       "    <tr>\n",
       "      <th>18</th>\n",
       "      <td>양천구</td>\n",
       "      <td>7</td>\n",
       "      <td>9</td>\n",
       "      <td>13</td>\n",
       "      <td>3</td>\n",
       "      <td>3</td>\n",
       "      <td>35</td>\n",
       "    </tr>\n",
       "    <tr>\n",
       "      <th>19</th>\n",
       "      <td>영등포구</td>\n",
       "      <td>23</td>\n",
       "      <td>3</td>\n",
       "      <td>21</td>\n",
       "      <td>25</td>\n",
       "      <td>22</td>\n",
       "      <td>94</td>\n",
       "    </tr>\n",
       "    <tr>\n",
       "      <th>20</th>\n",
       "      <td>용산구</td>\n",
       "      <td>10</td>\n",
       "      <td>8</td>\n",
       "      <td>18</td>\n",
       "      <td>21</td>\n",
       "      <td>20</td>\n",
       "      <td>77</td>\n",
       "    </tr>\n",
       "    <tr>\n",
       "      <th>21</th>\n",
       "      <td>은평구</td>\n",
       "      <td>11</td>\n",
       "      <td>18</td>\n",
       "      <td>10</td>\n",
       "      <td>5</td>\n",
       "      <td>13</td>\n",
       "      <td>57</td>\n",
       "    </tr>\n",
       "    <tr>\n",
       "      <th>22</th>\n",
       "      <td>종로구</td>\n",
       "      <td>12</td>\n",
       "      <td>2</td>\n",
       "      <td>19</td>\n",
       "      <td>20</td>\n",
       "      <td>25</td>\n",
       "      <td>78</td>\n",
       "    </tr>\n",
       "    <tr>\n",
       "      <th>23</th>\n",
       "      <td>중구</td>\n",
       "      <td>14</td>\n",
       "      <td>1</td>\n",
       "      <td>22</td>\n",
       "      <td>22</td>\n",
       "      <td>18</td>\n",
       "      <td>77</td>\n",
       "    </tr>\n",
       "    <tr>\n",
       "      <th>24</th>\n",
       "      <td>중랑구</td>\n",
       "      <td>16</td>\n",
       "      <td>11</td>\n",
       "      <td>24</td>\n",
       "      <td>11</td>\n",
       "      <td>10</td>\n",
       "      <td>72</td>\n",
       "    </tr>\n",
       "  </tbody>\n",
       "</table>\n",
       "</div>"
      ],
      "text/plain": [
       "     지역구  성비순위  1인가구순위  유동인구순위  외국인순위  인구밀도순위  인구환경순위\n",
       "0    강남구    25       7      12      4      24      72\n",
       "1    강동구    13      10       9      7      12      51\n",
       "2    강북구     8      14      23     10      14      69\n",
       "3    강서구    19      20      11      9      21      80\n",
       "4    관악구    20      25      17     16      17      95\n",
       "5    광진구    17      15      16     18       9      75\n",
       "6    구로구    18       4      20     23      11      76\n",
       "7    금천구     3       5      25     24       7      64\n",
       "8    노원구    15      16       7      2      15      55\n",
       "9    도봉구     1      21       4      1       1      28\n",
       "10  동대문구     9      17      14     19       5      64\n",
       "11   동작구     6      23       6     15       2      52\n",
       "12   마포구    22      13      15     14      19      83\n",
       "13  서대문구     4      22       3     17       6      52\n",
       "14   서초구    21       6       8      6      23      64\n",
       "15   성동구     2      19       2     12       4      39\n",
       "16   성북구     5      24       1     13       8      51\n",
       "17   송파구    24      12       5      8      16      65\n",
       "18   양천구     7       9      13      3       3      35\n",
       "19  영등포구    23       3      21     25      22      94\n",
       "20   용산구    10       8      18     21      20      77\n",
       "21   은평구    11      18      10      5      13      57\n",
       "22   종로구    12       2      19     20      25      78\n",
       "23    중구    14       1      22     22      18      77\n",
       "24   중랑구    16      11      24     11      10      72"
      ]
     },
     "execution_count": 96,
     "metadata": {},
     "output_type": "execute_result"
    }
   ],
   "source": [
    "total"
   ]
  },
  {
   "cell_type": "code",
   "execution_count": 18,
   "id": "7331c6ba",
   "metadata": {},
   "outputs": [
    {
     "name": "stdout",
     "output_type": "stream",
     "text": [
      "Requirement already satisfied: folium in e:\\anaconda\\lib\\site-packages (0.12.1)\n",
      "Requirement already satisfied: branca>=0.3.0 in e:\\anaconda\\lib\\site-packages (from folium) (0.4.2)\n",
      "Requirement already satisfied: numpy in e:\\anaconda\\lib\\site-packages (from folium) (1.20.1)\n",
      "Requirement already satisfied: requests in e:\\anaconda\\lib\\site-packages (from folium) (2.25.1)\n",
      "Requirement already satisfied: jinja2>=2.9 in e:\\anaconda\\lib\\site-packages (from folium) (2.11.3)\n",
      "Requirement already satisfied: MarkupSafe>=0.23 in e:\\anaconda\\lib\\site-packages (from jinja2>=2.9->folium) (1.1.1)\n",
      "Requirement already satisfied: certifi>=2017.4.17 in e:\\anaconda\\lib\\site-packages (from requests->folium) (2020.12.5)\n",
      "Requirement already satisfied: idna<3,>=2.5 in e:\\anaconda\\lib\\site-packages (from requests->folium) (2.10)\n",
      "Requirement already satisfied: urllib3<1.27,>=1.21.1 in e:\\anaconda\\lib\\site-packages (from requests->folium) (1.26.4)Note: you may need to restart the kernel to use updated packages.\n",
      "\n",
      "Requirement already satisfied: chardet<5,>=3.0.2 in e:\\anaconda\\lib\\site-packages (from requests->folium) (4.0.0)\n"
     ]
    }
   ],
   "source": [
    "pip install folium"
   ]
  },
  {
   "cell_type": "code",
   "execution_count": 160,
   "id": "a5aa2548",
   "metadata": {},
   "outputs": [],
   "source": [
    "import pandas as pd\n",
    "import numpy as np\n",
    "import folium\n",
    "import json\n",
    "from folium.features import DivIcon"
   ]
  },
  {
   "cell_type": "code",
   "execution_count": 161,
   "id": "aef1d865",
   "metadata": {},
   "outputs": [],
   "source": [
    "geo_path = ('./seoul_municipalities_geo_simple.json')\n",
    "\n",
    "get_str = json.load(open(geo_path, encoding='utf-8'))"
   ]
  },
  {
   "cell_type": "code",
   "execution_count": 162,
   "id": "f6fb3305",
   "metadata": {},
   "outputs": [],
   "source": [
    "seoul_map = folium.Map(location = [37.5502, 126.982],zoom_start = 10.5)"
   ]
  },
  {
   "cell_type": "code",
   "execution_count": 163,
   "id": "06069ebc",
   "metadata": {},
   "outputs": [
    {
     "data": {
      "text/plain": [
       "<folium.features.Choropleth at 0x1f433bf5eb0>"
      ]
     },
     "execution_count": 163,
     "metadata": {},
     "output_type": "execute_result"
    }
   ],
   "source": [
    "folium.Choropleth(\n",
    "    geo_data = get_str,\n",
    "    data = total,\n",
    "    columns = ['지역구', '인구환경순위'],\n",
    "    fill_color='OrRd',\n",
    "    key_on='properties.name',\n",
    "    ).add_to(seoul_map)\n"
   ]
  },
  {
   "cell_type": "code",
   "execution_count": 164,
   "id": "c4253134",
   "metadata": {},
   "outputs": [
    {
     "data": {
      "text/plain": [
       "<folium.map.Marker at 0x1f4320c7490>"
      ]
     },
     "execution_count": 164,
     "metadata": {},
     "output_type": "execute_result"
    }
   ],
   "source": [
    "text = '동작구'\n",
    "circle_lat = 37.5092\n",
    "circle_lon = 126.967\n",
    "\n",
    "\n",
    "folium.map.Marker(\n",
    "    [circle_lat, circle_lon],\n",
    "    icon=DivIcon(\n",
    "        icon_size=(10,6),\n",
    "        icon_anchor=(0,0), \n",
    "        html='<div style=\"font-size: pt; font-weight:bold;\">%s</div>' % text,\n",
    "        )\n",
    "    ).add_to(seoul_map)"
   ]
  },
  {
   "cell_type": "code",
   "execution_count": 165,
   "id": "a8732829",
   "metadata": {},
   "outputs": [
    {
     "data": {
      "text/plain": [
       "<folium.map.Marker at 0x1f433c530d0>"
      ]
     },
     "execution_count": 165,
     "metadata": {},
     "output_type": "execute_result"
    }
   ],
   "source": [
    "text = '중구'\n",
    "circle_lat = 37.5650\n",
    "circle_lon = 126.999\n",
    "\n",
    "\n",
    "folium.map.Marker(\n",
    "    [circle_lat, circle_lon],\n",
    "    icon=DivIcon(\n",
    "        icon_size=(10,6),\n",
    "        icon_anchor=(0,0), \n",
    "        html='<div style=\"font-size: pt; font-weight:bold;\">%s</div>' % text,\n",
    "        )\n",
    "    ).add_to(seoul_map)"
   ]
  },
  {
   "cell_type": "code",
   "execution_count": 166,
   "id": "95e50466",
   "metadata": {},
   "outputs": [
    {
     "data": {
      "text/plain": [
       "<folium.map.Marker at 0x1f433c530a0>"
      ]
     },
     "execution_count": 166,
     "metadata": {},
     "output_type": "execute_result"
    }
   ],
   "source": [
    "text = '중구'\n",
    "circle_lat = 37.5650\n",
    "circle_lon = 126.999\n",
    "\n",
    "\n",
    "folium.map.Marker(\n",
    "    [circle_lat, circle_lon],\n",
    "    icon=DivIcon(\n",
    "        icon_size=(10,6),\n",
    "        icon_anchor=(0,0), \n",
    "        html='<div style=\"font-size: pt; font-weight:bold;\">%s</div>' % text,\n",
    "        )\n",
    "    ).add_to(seoul_map)"
   ]
  },
  {
   "cell_type": "code",
   "execution_count": 167,
   "id": "048e52ac",
   "metadata": {},
   "outputs": [
    {
     "data": {
      "text/plain": [
       "<folium.map.Marker at 0x1f433c53250>"
      ]
     },
     "execution_count": 167,
     "metadata": {},
     "output_type": "execute_result"
    }
   ],
   "source": [
    "text = '성동구'\n",
    "circle_lat = 37.5600\n",
    "circle_lon = 127.040\n",
    "\n",
    "\n",
    "folium.map.Marker(\n",
    "    [circle_lat, circle_lon],\n",
    "    icon=DivIcon(\n",
    "        icon_size=(10,6),\n",
    "        icon_anchor=(0,0), \n",
    "        html='<div style=\"font-size: pt; font-weight:bold;\">%s</div>' % text,\n",
    "        )\n",
    "    ).add_to(seoul_map)"
   ]
  },
  {
   "cell_type": "code",
   "execution_count": 168,
   "id": "df2514e7",
   "metadata": {},
   "outputs": [
    {
     "data": {
      "text/plain": [
       "<folium.map.Marker at 0x1f433c53100>"
      ]
     },
     "execution_count": 168,
     "metadata": {},
     "output_type": "execute_result"
    }
   ],
   "source": [
    "text = '서초구'\n",
    "circle_lat = 37.5000\n",
    "circle_lon = 127.000\n",
    "\n",
    "\n",
    "folium.map.Marker(\n",
    "    [circle_lat, circle_lon],\n",
    "    icon=DivIcon(\n",
    "        icon_size=(10,6),\n",
    "        icon_anchor=(0,0), \n",
    "        html='<div style=\"font-size: pt; font-weight:bold;\">%s</div>' % text,\n",
    "        )\n",
    "    ).add_to(seoul_map)"
   ]
  },
  {
   "cell_type": "code",
   "execution_count": 169,
   "id": "bf99deb1",
   "metadata": {},
   "outputs": [
    {
     "data": {
      "text/plain": [
       "<folium.map.Marker at 0x1f433c53d00>"
      ]
     },
     "execution_count": 169,
     "metadata": {},
     "output_type": "execute_result"
    }
   ],
   "source": [
    "text = '강남구'\n",
    "circle_lat = 37.5100\n",
    "circle_lon = 127.050\n",
    "\n",
    "\n",
    "folium.map.Marker(\n",
    "    [circle_lat, circle_lon],\n",
    "    icon=DivIcon(\n",
    "        icon_size=(10,6),\n",
    "        icon_anchor=(0,0), \n",
    "        html='<div style=\"font-size: pt; font-weight:bold;\">%s</div>' % text,\n",
    "        )\n",
    "    ).add_to(seoul_map)"
   ]
  },
  {
   "cell_type": "code",
   "execution_count": 170,
   "id": "d8b8274a",
   "metadata": {},
   "outputs": [
    {
     "data": {
      "text/plain": [
       "<folium.map.Marker at 0x1f433c531f0>"
      ]
     },
     "execution_count": 170,
     "metadata": {},
     "output_type": "execute_result"
    }
   ],
   "source": [
    "text = '송파구'\n",
    "circle_lat = 37.5100\n",
    "circle_lon = 127.120\n",
    "\n",
    "\n",
    "folium.map.Marker(\n",
    "    [circle_lat, circle_lon],\n",
    "    icon=DivIcon(\n",
    "        icon_size=(10,6),\n",
    "        icon_anchor=(0,0), \n",
    "        html='<div style=\"font-size: pt; font-weight:bold;\">%s</div>' % text,\n",
    "        )\n",
    "    ).add_to(seoul_map)"
   ]
  },
  {
   "cell_type": "code",
   "execution_count": 171,
   "id": "976b6150",
   "metadata": {},
   "outputs": [
    {
     "data": {
      "text/plain": [
       "<folium.map.Marker at 0x1f433c53280>"
      ]
     },
     "execution_count": 171,
     "metadata": {},
     "output_type": "execute_result"
    }
   ],
   "source": [
    "text = '강동구'\n",
    "circle_lat = 37.5600\n",
    "circle_lon = 127.140\n",
    "\n",
    "\n",
    "folium.map.Marker(\n",
    "    [circle_lat, circle_lon],\n",
    "    icon=DivIcon(\n",
    "        icon_size=(10,6),\n",
    "        icon_anchor=(0,0), \n",
    "        html='<div style=\"font-size: pt; font-weight:bold;\">%s</div>' % text,\n",
    "        )\n",
    "    ).add_to(seoul_map)"
   ]
  },
  {
   "cell_type": "code",
   "execution_count": 172,
   "id": "fd6d19ce",
   "metadata": {},
   "outputs": [
    {
     "data": {
      "text/plain": [
       "<folium.map.Marker at 0x1f433c533d0>"
      ]
     },
     "execution_count": 172,
     "metadata": {},
     "output_type": "execute_result"
    }
   ],
   "source": [
    "text = '광진구'\n",
    "circle_lat = 37.5600\n",
    "circle_lon = 127.090\n",
    "\n",
    "\n",
    "folium.map.Marker(\n",
    "    [circle_lat, circle_lon],\n",
    "    icon=DivIcon(\n",
    "        icon_size=(10,6),\n",
    "        icon_anchor=(0,0), \n",
    "        html='<div style=\"font-size: pt; font-weight:bold;\">%s</div>' % text,\n",
    "        )\n",
    "    ).add_to(seoul_map)"
   ]
  },
  {
   "cell_type": "code",
   "execution_count": 173,
   "id": "ddfe33fa",
   "metadata": {},
   "outputs": [
    {
     "data": {
      "text/plain": [
       "<folium.map.Marker at 0x1f433c53c70>"
      ]
     },
     "execution_count": 173,
     "metadata": {},
     "output_type": "execute_result"
    }
   ],
   "source": [
    "text = '중랑구'\n",
    "circle_lat = 37.6050\n",
    "circle_lon = 127.090\n",
    "\n",
    "\n",
    "folium.map.Marker(\n",
    "    [circle_lat, circle_lon],\n",
    "    icon=DivIcon(\n",
    "        icon_size=(10,6),\n",
    "        icon_anchor=(0,0), \n",
    "        html='<div style=\"font-size: pt; font-weight:bold;\">%s</div>' % text,\n",
    "        )\n",
    "    ).add_to(seoul_map)"
   ]
  },
  {
   "cell_type": "code",
   "execution_count": 174,
   "id": "0ee92cd2",
   "metadata": {},
   "outputs": [
    {
     "data": {
      "text/plain": [
       "<folium.map.Marker at 0x1f433b0e5e0>"
      ]
     },
     "execution_count": 174,
     "metadata": {},
     "output_type": "execute_result"
    }
   ],
   "source": [
    "text = '노원구'\n",
    "circle_lat = 37.6650\n",
    "circle_lon = 127.075\n",
    "\n",
    "\n",
    "folium.map.Marker(\n",
    "    [circle_lat, circle_lon],\n",
    "    icon=DivIcon(\n",
    "        icon_size=(10,6),\n",
    "        icon_anchor=(0,0), \n",
    "        html='<div style=\"font-size: pt; font-weight:bold;\">%s</div>' % text,\n",
    "        )\n",
    "    ).add_to(seoul_map)"
   ]
  },
  {
   "cell_type": "code",
   "execution_count": 175,
   "id": "f61378cf",
   "metadata": {},
   "outputs": [
    {
     "data": {
      "text/plain": [
       "<folium.map.Marker at 0x1f433bf53a0>"
      ]
     },
     "execution_count": 175,
     "metadata": {},
     "output_type": "execute_result"
    }
   ],
   "source": [
    "text = '도봉구'\n",
    "circle_lat = 37.6750\n",
    "circle_lon = 127.033\n",
    "\n",
    "\n",
    "folium.map.Marker(\n",
    "    [circle_lat, circle_lon],\n",
    "    icon=DivIcon(\n",
    "        icon_size=(10,6),\n",
    "        icon_anchor=(0,0), \n",
    "        html='<div style=\"font-size: pt; font-weight:bold;\">%s</div>' % text,\n",
    "        )\n",
    "    ).add_to(seoul_map)"
   ]
  },
  {
   "cell_type": "code",
   "execution_count": 176,
   "id": "c5c9b6e4",
   "metadata": {},
   "outputs": [
    {
     "data": {
      "text/plain": [
       "<folium.map.Marker at 0x1f433bc02e0>"
      ]
     },
     "execution_count": 176,
     "metadata": {},
     "output_type": "execute_result"
    }
   ],
   "source": [
    "text = '강북구'\n",
    "circle_lat = 37.6650\n",
    "circle_lon = 127.000\n",
    "\n",
    "\n",
    "folium.map.Marker(\n",
    "    [circle_lat, circle_lon],\n",
    "    icon=DivIcon(\n",
    "        icon_size=(10,6),\n",
    "        icon_anchor=(0,0), \n",
    "        html='<div style=\"font-size: pt; font-weight:bold;\">%s</div>' % text,\n",
    "        )\n",
    "    ).add_to(seoul_map)"
   ]
  },
  {
   "cell_type": "code",
   "execution_count": 177,
   "id": "f293ae88",
   "metadata": {},
   "outputs": [
    {
     "data": {
      "text/plain": [
       "<folium.map.Marker at 0x1f433bc0220>"
      ]
     },
     "execution_count": 177,
     "metadata": {},
     "output_type": "execute_result"
    }
   ],
   "source": [
    "text = '성북구'\n",
    "circle_lat = 37.6100\n",
    "circle_lon = 127.020\n",
    "\n",
    "\n",
    "folium.map.Marker(\n",
    "    [circle_lat, circle_lon],\n",
    "    icon=DivIcon(\n",
    "        icon_size=(10,6),\n",
    "        icon_anchor=(0,0), \n",
    "        html='<div style=\"font-size: pt; font-weight:bold;\">%s</div>' % text,\n",
    "        )\n",
    "    ).add_to(seoul_map)"
   ]
  },
  {
   "cell_type": "code",
   "execution_count": 178,
   "id": "d53091d5",
   "metadata": {},
   "outputs": [
    {
     "data": {
      "text/plain": [
       "<folium.map.Marker at 0x1f433bc0400>"
      ]
     },
     "execution_count": 178,
     "metadata": {},
     "output_type": "execute_result"
    }
   ],
   "source": [
    "text = '동대문구'\n",
    "circle_lat = 37.5990\n",
    "circle_lon = 127.060\n",
    "\n",
    "\n",
    "folium.map.Marker(\n",
    "    [circle_lat, circle_lon],\n",
    "    icon=DivIcon(\n",
    "        icon_size=(10,6),\n",
    "        icon_anchor=(0,0), \n",
    "        html='<div style=\"font-size: pt; font-weight:bold;\">%s</div>' % text,\n",
    "        )\n",
    "    ).add_to(seoul_map)"
   ]
  },
  {
   "cell_type": "code",
   "execution_count": 179,
   "id": "0c9c0da0",
   "metadata": {},
   "outputs": [
    {
     "data": {
      "text/plain": [
       "<folium.map.Marker at 0x1f433bdbe80>"
      ]
     },
     "execution_count": 179,
     "metadata": {},
     "output_type": "execute_result"
    }
   ],
   "source": [
    "text = '종로구'\n",
    "circle_lat = 37.6100\n",
    "circle_lon = 126.970\n",
    "\n",
    "\n",
    "folium.map.Marker(\n",
    "    [circle_lat, circle_lon],\n",
    "    icon=DivIcon(\n",
    "        icon_size=(10,6),\n",
    "        icon_anchor=(0,0), \n",
    "        html='<div style=\"font-size: pt; font-weight:bold;\">%s</div>' % text,\n",
    "        )\n",
    "    ).add_to(seoul_map)"
   ]
  },
  {
   "cell_type": "code",
   "execution_count": 180,
   "id": "4c322add",
   "metadata": {},
   "outputs": [
    {
     "data": {
      "text/plain": [
       "<folium.map.Marker at 0x1f433b0e640>"
      ]
     },
     "execution_count": 180,
     "metadata": {},
     "output_type": "execute_result"
    }
   ],
   "source": [
    "text = '은평구'\n",
    "circle_lat = 37.6300\n",
    "circle_lon = 126.930\n",
    "\n",
    "folium.map.Marker(\n",
    "    [circle_lat, circle_lon],\n",
    "    icon=DivIcon(\n",
    "        icon_size=(10,6),\n",
    "        icon_anchor=(0,0), \n",
    "        html='<div style=\"font-size: pt; font-weight:bold;\">%s</div>' % text,\n",
    "        )\n",
    "    ).add_to(seoul_map)"
   ]
  },
  {
   "cell_type": "code",
   "execution_count": 181,
   "id": "89476c0b",
   "metadata": {},
   "outputs": [
    {
     "data": {
      "text/plain": [
       "<folium.map.Marker at 0x1f433bc0310>"
      ]
     },
     "execution_count": 181,
     "metadata": {},
     "output_type": "execute_result"
    }
   ],
   "source": [
    "text = '서대문구'\n",
    "circle_lat = 37.5930\n",
    "circle_lon = 126.940\n",
    "\n",
    "\n",
    "folium.map.Marker(\n",
    "    [circle_lat, circle_lon],\n",
    "    icon=DivIcon(\n",
    "        icon_size=(10,6),\n",
    "        icon_anchor=(0,0), \n",
    "        html='<div style=\"font-size: pt; font-weight:bold;\">%s</div>' % text,\n",
    "        )\n",
    "    ).add_to(seoul_map)"
   ]
  },
  {
   "cell_type": "code",
   "execution_count": 182,
   "id": "7bd2a001",
   "metadata": {},
   "outputs": [
    {
     "data": {
      "text/plain": [
       "<folium.map.Marker at 0x1f433b0ea00>"
      ]
     },
     "execution_count": 182,
     "metadata": {},
     "output_type": "execute_result"
    }
   ],
   "source": [
    "text = '마포구'\n",
    "circle_lat = 37.5680\n",
    "circle_lon = 126.910\n",
    "\n",
    "\n",
    "folium.map.Marker(\n",
    "    [circle_lat, circle_lon],\n",
    "    icon=DivIcon(\n",
    "        icon_size=(10,6),\n",
    "        icon_anchor=(0,0), \n",
    "        html='<div style=\"font-size: pt; font-weight:bold;\">%s</div>' % text,\n",
    "        )\n",
    "    ).add_to(seoul_map)"
   ]
  },
  {
   "cell_type": "code",
   "execution_count": 183,
   "id": "e906ebd4",
   "metadata": {},
   "outputs": [
    {
     "data": {
      "text/plain": [
       "<folium.map.Marker at 0x1f433b688b0>"
      ]
     },
     "execution_count": 183,
     "metadata": {},
     "output_type": "execute_result"
    }
   ],
   "source": [
    "text = '강서구'\n",
    "circle_lat = 37.5700\n",
    "circle_lon = 126.830\n",
    "\n",
    "\n",
    "folium.map.Marker(\n",
    "    [circle_lat, circle_lon],\n",
    "    icon=DivIcon(\n",
    "        icon_size=(10,6),\n",
    "        icon_anchor=(0,0), \n",
    "        html='<div style=\"font-size: pt; font-weight:bold;\">%s</div>' % text,\n",
    "        )\n",
    "    ).add_to(seoul_map)"
   ]
  },
  {
   "cell_type": "code",
   "execution_count": 184,
   "id": "de6a5495",
   "metadata": {},
   "outputs": [
    {
     "data": {
      "text/plain": [
       "<folium.map.Marker at 0x1f433b68460>"
      ]
     },
     "execution_count": 184,
     "metadata": {},
     "output_type": "execute_result"
    }
   ],
   "source": [
    "text = '양천구'\n",
    "circle_lat = 37.5430\n",
    "circle_lon = 126.872\n",
    "\n",
    "\n",
    "folium.map.Marker(\n",
    "    [circle_lat, circle_lon],\n",
    "    icon=DivIcon(\n",
    "        icon_size=(10,6),\n",
    "        icon_anchor=(0,0), \n",
    "        html='<div style=\"font-size: pt; font-weight:bold;\">%s</div>' % text,\n",
    "        )\n",
    "    ).add_to(seoul_map)"
   ]
  },
  {
   "cell_type": "code",
   "execution_count": 185,
   "id": "77ea5ce8",
   "metadata": {},
   "outputs": [
    {
     "data": {
      "text/plain": [
       "<folium.map.Marker at 0x1f433b68520>"
      ]
     },
     "execution_count": 185,
     "metadata": {},
     "output_type": "execute_result"
    }
   ],
   "source": [
    "text = '영등포구'\n",
    "circle_lat = 37.5350\n",
    "circle_lon = 126.905\n",
    "\n",
    "\n",
    "folium.map.Marker(\n",
    "    [circle_lat, circle_lon],\n",
    "    icon=DivIcon(\n",
    "        icon_size=(10,6),\n",
    "        icon_anchor=(0,0), \n",
    "        html='<div style=\"font-size: pt; font-weight:bold;\">%s</div>' % text,\n",
    "        )\n",
    "    ).add_to(seoul_map)"
   ]
  },
  {
   "cell_type": "code",
   "execution_count": 186,
   "id": "1de7288a",
   "metadata": {},
   "outputs": [
    {
     "data": {
      "text/plain": [
       "<folium.map.Marker at 0x1f433b683a0>"
      ]
     },
     "execution_count": 186,
     "metadata": {},
     "output_type": "execute_result"
    }
   ],
   "source": [
    "text = '구로구'\n",
    "circle_lat = 37.5080\n",
    "circle_lon = 126.858\n",
    "\n",
    "\n",
    "folium.map.Marker(\n",
    "    [circle_lat, circle_lon],\n",
    "    icon=DivIcon(\n",
    "        icon_size=(10,6),\n",
    "        icon_anchor=(0,0), \n",
    "        html='<div style=\"font-size: pt; font-weight:bold;\">%s</div>' % text,\n",
    "        )\n",
    "    ).add_to(seoul_map)"
   ]
  },
  {
   "cell_type": "code",
   "execution_count": 187,
   "id": "c6eeb7a6",
   "metadata": {},
   "outputs": [
    {
     "data": {
      "text/plain": [
       "<folium.map.Marker at 0x1f433bf5520>"
      ]
     },
     "execution_count": 187,
     "metadata": {},
     "output_type": "execute_result"
    }
   ],
   "source": [
    "text = '금천구'\n",
    "circle_lat = 37.4750\n",
    "circle_lon = 126.895\n",
    "\n",
    "\n",
    "folium.map.Marker(\n",
    "    [circle_lat, circle_lon],\n",
    "    icon=DivIcon(\n",
    "        icon_size=(10,6),\n",
    "        icon_anchor=(0,0), \n",
    "        html='<div style=\"font-size: pt; font-weight:bold;\">%s</div>' % text,\n",
    "        )\n",
    "    ).add_to(seoul_map)"
   ]
  },
  {
   "cell_type": "code",
   "execution_count": 188,
   "id": "2de2a502",
   "metadata": {},
   "outputs": [
    {
     "data": {
      "text/plain": [
       "<folium.map.Marker at 0x1f433bf5e50>"
      ]
     },
     "execution_count": 188,
     "metadata": {},
     "output_type": "execute_result"
    }
   ],
   "source": [
    "text = '관악구'\n",
    "circle_lat = 37.4800\n",
    "circle_lon = 126.940\n",
    "\n",
    "\n",
    "folium.map.Marker(\n",
    "    [circle_lat, circle_lon],\n",
    "    icon=DivIcon(\n",
    "        icon_size=(10,6),\n",
    "        icon_anchor=(0,0), \n",
    "        html='<div style=\"font-size: pt; font-weight:bold;\">%s</div>' % text,\n",
    "        )\n",
    "    ).add_to(seoul_map)"
   ]
  },
  {
   "cell_type": "code",
   "execution_count": 189,
   "id": "3ee1dcdd",
   "metadata": {},
   "outputs": [
    {
     "data": {
      "text/plain": [
       "<folium.map.Marker at 0x1f433b0e820>"
      ]
     },
     "execution_count": 189,
     "metadata": {},
     "output_type": "execute_result"
    }
   ],
   "source": [
    "text = '용산구'\n",
    "circle_lat = 37.5450\n",
    "circle_lon = 126.980\n",
    "\n",
    "\n",
    "folium.map.Marker(\n",
    "    [circle_lat, circle_lon],\n",
    "    icon=DivIcon(\n",
    "        icon_size=(10,6),\n",
    "        icon_anchor=(0,0), \n",
    "        html='<div style=\"font-size: pt; font-weight:bold;\">%s</div>' % text,\n",
    "        )\n",
    "    ).add_to(seoul_map)"
   ]
  },
  {
   "cell_type": "code",
   "execution_count": 190,
   "id": "325acd4f",
   "metadata": {},
   "outputs": [
    {
     "data": {
      "text/html": [
       "<div style=\"width:100%;\"><div style=\"position:relative;width:100%;height:0;padding-bottom:60%;\"><span style=\"color:#565656\">Make this Notebook Trusted to load map: File -> Trust Notebook</span><iframe src=\"about:blank\" style=\"position:absolute;width:100%;height:100%;left:0;top:0;border:none !important;\" data-html=%3C%21DOCTYPE%20html%3E%0A%3Chead%3E%20%20%20%20%0A%20%20%20%20%3Cmeta%20http-equiv%3D%22content-type%22%20content%3D%22text/html%3B%20charset%3DUTF-8%22%20/%3E%0A%20%20%20%20%0A%20%20%20%20%20%20%20%20%3Cscript%3E%0A%20%20%20%20%20%20%20%20%20%20%20%20L_NO_TOUCH%20%3D%20false%3B%0A%20%20%20%20%20%20%20%20%20%20%20%20L_DISABLE_3D%20%3D%20false%3B%0A%20%20%20%20%20%20%20%20%3C/script%3E%0A%20%20%20%20%0A%20%20%20%20%3Cstyle%3Ehtml%2C%20body%20%7Bwidth%3A%20100%25%3Bheight%3A%20100%25%3Bmargin%3A%200%3Bpadding%3A%200%3B%7D%3C/style%3E%0A%20%20%20%20%3Cstyle%3E%23map%20%7Bposition%3Aabsolute%3Btop%3A0%3Bbottom%3A0%3Bright%3A0%3Bleft%3A0%3B%7D%3C/style%3E%0A%20%20%20%20%3Cscript%20src%3D%22https%3A//cdn.jsdelivr.net/npm/leaflet%401.6.0/dist/leaflet.js%22%3E%3C/script%3E%0A%20%20%20%20%3Cscript%20src%3D%22https%3A//code.jquery.com/jquery-1.12.4.min.js%22%3E%3C/script%3E%0A%20%20%20%20%3Cscript%20src%3D%22https%3A//maxcdn.bootstrapcdn.com/bootstrap/3.2.0/js/bootstrap.min.js%22%3E%3C/script%3E%0A%20%20%20%20%3Cscript%20src%3D%22https%3A//cdnjs.cloudflare.com/ajax/libs/Leaflet.awesome-markers/2.0.2/leaflet.awesome-markers.js%22%3E%3C/script%3E%0A%20%20%20%20%3Clink%20rel%3D%22stylesheet%22%20href%3D%22https%3A//cdn.jsdelivr.net/npm/leaflet%401.6.0/dist/leaflet.css%22/%3E%0A%20%20%20%20%3Clink%20rel%3D%22stylesheet%22%20href%3D%22https%3A//maxcdn.bootstrapcdn.com/bootstrap/3.2.0/css/bootstrap.min.css%22/%3E%0A%20%20%20%20%3Clink%20rel%3D%22stylesheet%22%20href%3D%22https%3A//maxcdn.bootstrapcdn.com/bootstrap/3.2.0/css/bootstrap-theme.min.css%22/%3E%0A%20%20%20%20%3Clink%20rel%3D%22stylesheet%22%20href%3D%22https%3A//maxcdn.bootstrapcdn.com/font-awesome/4.6.3/css/font-awesome.min.css%22/%3E%0A%20%20%20%20%3Clink%20rel%3D%22stylesheet%22%20href%3D%22https%3A//cdnjs.cloudflare.com/ajax/libs/Leaflet.awesome-markers/2.0.2/leaflet.awesome-markers.css%22/%3E%0A%20%20%20%20%3Clink%20rel%3D%22stylesheet%22%20href%3D%22https%3A//cdn.jsdelivr.net/gh/python-visualization/folium/folium/templates/leaflet.awesome.rotate.min.css%22/%3E%0A%20%20%20%20%0A%20%20%20%20%20%20%20%20%20%20%20%20%3Cmeta%20name%3D%22viewport%22%20content%3D%22width%3Ddevice-width%2C%0A%20%20%20%20%20%20%20%20%20%20%20%20%20%20%20%20initial-scale%3D1.0%2C%20maximum-scale%3D1.0%2C%20user-scalable%3Dno%22%20/%3E%0A%20%20%20%20%20%20%20%20%20%20%20%20%3Cstyle%3E%0A%20%20%20%20%20%20%20%20%20%20%20%20%20%20%20%20%23map_6f8492f0d4fb4e3c9013f1b128576149%20%7B%0A%20%20%20%20%20%20%20%20%20%20%20%20%20%20%20%20%20%20%20%20position%3A%20relative%3B%0A%20%20%20%20%20%20%20%20%20%20%20%20%20%20%20%20%20%20%20%20width%3A%20100.0%25%3B%0A%20%20%20%20%20%20%20%20%20%20%20%20%20%20%20%20%20%20%20%20height%3A%20100.0%25%3B%0A%20%20%20%20%20%20%20%20%20%20%20%20%20%20%20%20%20%20%20%20left%3A%200.0%25%3B%0A%20%20%20%20%20%20%20%20%20%20%20%20%20%20%20%20%20%20%20%20top%3A%200.0%25%3B%0A%20%20%20%20%20%20%20%20%20%20%20%20%20%20%20%20%7D%0A%20%20%20%20%20%20%20%20%20%20%20%20%3C/style%3E%0A%20%20%20%20%20%20%20%20%0A%20%20%20%20%3Cscript%20src%3D%22https%3A//cdnjs.cloudflare.com/ajax/libs/d3/3.5.5/d3.min.js%22%3E%3C/script%3E%0A%3C/head%3E%0A%3Cbody%3E%20%20%20%20%0A%20%20%20%20%0A%20%20%20%20%20%20%20%20%20%20%20%20%3Cdiv%20class%3D%22folium-map%22%20id%3D%22map_6f8492f0d4fb4e3c9013f1b128576149%22%20%3E%3C/div%3E%0A%20%20%20%20%20%20%20%20%0A%3C/body%3E%0A%3Cscript%3E%20%20%20%20%0A%20%20%20%20%0A%20%20%20%20%20%20%20%20%20%20%20%20var%20map_6f8492f0d4fb4e3c9013f1b128576149%20%3D%20L.map%28%0A%20%20%20%20%20%20%20%20%20%20%20%20%20%20%20%20%22map_6f8492f0d4fb4e3c9013f1b128576149%22%2C%0A%20%20%20%20%20%20%20%20%20%20%20%20%20%20%20%20%7B%0A%20%20%20%20%20%20%20%20%20%20%20%20%20%20%20%20%20%20%20%20center%3A%20%5B37.5502%2C%20126.982%5D%2C%0A%20%20%20%20%20%20%20%20%20%20%20%20%20%20%20%20%20%20%20%20crs%3A%20L.CRS.EPSG3857%2C%0A%20%20%20%20%20%20%20%20%20%20%20%20%20%20%20%20%20%20%20%20zoom%3A%2010.5%2C%0A%20%20%20%20%20%20%20%20%20%20%20%20%20%20%20%20%20%20%20%20zoomControl%3A%20true%2C%0A%20%20%20%20%20%20%20%20%20%20%20%20%20%20%20%20%20%20%20%20preferCanvas%3A%20false%2C%0A%20%20%20%20%20%20%20%20%20%20%20%20%20%20%20%20%7D%0A%20%20%20%20%20%20%20%20%20%20%20%20%29%3B%0A%0A%20%20%20%20%20%20%20%20%20%20%20%20%0A%0A%20%20%20%20%20%20%20%20%0A%20%20%20%20%0A%20%20%20%20%20%20%20%20%20%20%20%20var%20tile_layer_defd2b4d7d9741348a38abedaf160b49%20%3D%20L.tileLayer%28%0A%20%20%20%20%20%20%20%20%20%20%20%20%20%20%20%20%22https%3A//%7Bs%7D.tile.openstreetmap.org/%7Bz%7D/%7Bx%7D/%7By%7D.png%22%2C%0A%20%20%20%20%20%20%20%20%20%20%20%20%20%20%20%20%7B%22attribution%22%3A%20%22Data%20by%20%5Cu0026copy%3B%20%5Cu003ca%20href%3D%5C%22http%3A//openstreetmap.org%5C%22%5Cu003eOpenStreetMap%5Cu003c/a%5Cu003e%2C%20under%20%5Cu003ca%20href%3D%5C%22http%3A//www.openstreetmap.org/copyright%5C%22%5Cu003eODbL%5Cu003c/a%5Cu003e.%22%2C%20%22detectRetina%22%3A%20false%2C%20%22maxNativeZoom%22%3A%2018%2C%20%22maxZoom%22%3A%2018%2C%20%22minZoom%22%3A%200%2C%20%22noWrap%22%3A%20false%2C%20%22opacity%22%3A%201%2C%20%22subdomains%22%3A%20%22abc%22%2C%20%22tms%22%3A%20false%7D%0A%20%20%20%20%20%20%20%20%20%20%20%20%29.addTo%28map_6f8492f0d4fb4e3c9013f1b128576149%29%3B%0A%20%20%20%20%20%20%20%20%0A%20%20%20%20%0A%20%20%20%20%20%20%20%20%20%20%20%20var%20choropleth_fd2f7dcd559c48edb46acb1425fec227%20%3D%20L.featureGroup%28%0A%20%20%20%20%20%20%20%20%20%20%20%20%20%20%20%20%7B%7D%0A%20%20%20%20%20%20%20%20%20%20%20%20%29.addTo%28map_6f8492f0d4fb4e3c9013f1b128576149%29%3B%0A%20%20%20%20%20%20%20%20%0A%20%20%20%20%0A%20%20%20%20%20%20%20%20function%20geo_json_3b373a3e6ebf418a9b23d904c6a09bc8_styler%28feature%29%20%7B%0A%20%20%20%20%20%20%20%20%20%20%20%20switch%28feature.properties.code%29%20%7B%0A%20%20%20%20%20%20%20%20%20%20%20%20%20%20%20%20case%20%2211250%22%3A%20case%20%2211060%22%3A%20case%20%2211050%22%3A%20%0A%20%20%20%20%20%20%20%20%20%20%20%20%20%20%20%20%20%20%20%20return%20%7B%22color%22%3A%20%22black%22%2C%20%22fillColor%22%3A%20%22%23fdbb84%22%2C%20%22fillOpacity%22%3A%200.6%2C%20%22opacity%22%3A%201%2C%20%22weight%22%3A%201%7D%3B%0A%20%20%20%20%20%20%20%20%20%20%20%20%20%20%20%20case%20%2211240%22%3A%20case%20%2211220%22%3A%20case%20%2211120%22%3A%20case%20%2211110%22%3A%20case%20%2211090%22%3A%20%0A%20%20%20%20%20%20%20%20%20%20%20%20%20%20%20%20%20%20%20%20return%20%7B%22color%22%3A%20%22black%22%2C%20%22fillColor%22%3A%20%22%23e34a33%22%2C%20%22fillOpacity%22%3A%200.6%2C%20%22opacity%22%3A%201%2C%20%22weight%22%3A%201%7D%3B%0A%20%20%20%20%20%20%20%20%20%20%20%20%20%20%20%20case%20%2211230%22%3A%20case%20%2211210%22%3A%20case%20%2211160%22%3A%20case%20%2211140%22%3A%20case%20%2211070%22%3A%20%0A%20%20%20%20%20%20%20%20%20%20%20%20%20%20%20%20%20%20%20%20return%20%7B%22color%22%3A%20%22black%22%2C%20%22fillColor%22%3A%20%22%23b30000%22%2C%20%22fillOpacity%22%3A%200.6%2C%20%22opacity%22%3A%201%2C%20%22weight%22%3A%201%7D%3B%0A%20%20%20%20%20%20%20%20%20%20%20%20%20%20%20%20case%20%2211190%22%3A%20case%20%2211030%22%3A%20case%20%2211020%22%3A%20case%20%2211010%22%3A%20%0A%20%20%20%20%20%20%20%20%20%20%20%20%20%20%20%20%20%20%20%20return%20%7B%22color%22%3A%20%22black%22%2C%20%22fillColor%22%3A%20%22%23fc8d59%22%2C%20%22fillOpacity%22%3A%200.6%2C%20%22opacity%22%3A%201%2C%20%22weight%22%3A%201%7D%3B%0A%20%20%20%20%20%20%20%20%20%20%20%20%20%20%20%20case%20%2211170%22%3A%20case%20%2211150%22%3A%20case%20%2211100%22%3A%20%0A%20%20%20%20%20%20%20%20%20%20%20%20%20%20%20%20%20%20%20%20return%20%7B%22color%22%3A%20%22black%22%2C%20%22fillColor%22%3A%20%22%23fdd49e%22%2C%20%22fillOpacity%22%3A%200.6%2C%20%22opacity%22%3A%201%2C%20%22weight%22%3A%201%7D%3B%0A%20%20%20%20%20%20%20%20%20%20%20%20%20%20%20%20default%3A%0A%20%20%20%20%20%20%20%20%20%20%20%20%20%20%20%20%20%20%20%20return%20%7B%22color%22%3A%20%22black%22%2C%20%22fillColor%22%3A%20%22%23fef0d9%22%2C%20%22fillOpacity%22%3A%200.6%2C%20%22opacity%22%3A%201%2C%20%22weight%22%3A%201%7D%3B%0A%20%20%20%20%20%20%20%20%20%20%20%20%7D%0A%20%20%20%20%20%20%20%20%7D%0A%0A%20%20%20%20%20%20%20%20function%20geo_json_3b373a3e6ebf418a9b23d904c6a09bc8_onEachFeature%28feature%2C%20layer%29%20%7B%0A%20%20%20%20%20%20%20%20%20%20%20%20layer.on%28%7B%0A%20%20%20%20%20%20%20%20%20%20%20%20%7D%29%3B%0A%20%20%20%20%20%20%20%20%7D%3B%0A%20%20%20%20%20%20%20%20var%20geo_json_3b373a3e6ebf418a9b23d904c6a09bc8%20%3D%20L.geoJson%28null%2C%20%7B%0A%20%20%20%20%20%20%20%20%20%20%20%20%20%20%20%20onEachFeature%3A%20geo_json_3b373a3e6ebf418a9b23d904c6a09bc8_onEachFeature%2C%0A%20%20%20%20%20%20%20%20%20%20%20%20%0A%20%20%20%20%20%20%20%20%20%20%20%20%20%20%20%20style%3A%20geo_json_3b373a3e6ebf418a9b23d904c6a09bc8_styler%2C%0A%20%20%20%20%20%20%20%20%7D%29%3B%0A%0A%20%20%20%20%20%20%20%20function%20geo_json_3b373a3e6ebf418a9b23d904c6a09bc8_add%20%28data%29%20%7B%0A%20%20%20%20%20%20%20%20%20%20%20%20geo_json_3b373a3e6ebf418a9b23d904c6a09bc8%0A%20%20%20%20%20%20%20%20%20%20%20%20%20%20%20%20.addData%28data%29%0A%20%20%20%20%20%20%20%20%20%20%20%20%20%20%20%20.addTo%28choropleth_fd2f7dcd559c48edb46acb1425fec227%29%3B%0A%20%20%20%20%20%20%20%20%7D%0A%20%20%20%20%20%20%20%20%20%20%20%20geo_json_3b373a3e6ebf418a9b23d904c6a09bc8_add%28%7B%22features%22%3A%20%5B%7B%22geometry%22%3A%20%7B%22coordinates%22%3A%20%5B%5B%5B127.11519584981606%2C%2037.557533180704915%5D%2C%20%5B127.11879551821994%2C%2037.557222485451305%5D%2C%20%5B127.12146867175024%2C%2037.55986003393365%5D%2C%20%5B127.12435254630417%2C%2037.56144246249796%5D%2C%20%5B127.13593925898998%2C%2037.56564793048277%5D%2C%20%5B127.14930548011061%2C%2037.56892250303897%5D%2C%20%5B127.15511020940411%2C%2037.57093642128295%5D%2C%20%5B127.16683184366129%2C%2037.57672487388627%5D%2C%20%5B127.17038810813094%2C%2037.576465605301046%5D%2C%20%5B127.17607118428914%2C%2037.57678573961056%5D%2C%20%5B127.17905504160184%2C%2037.57791388161732%5D%2C%20%5B127.17747787800164%2C%2037.57448983055031%5D%2C%20%5B127.1781775408844%2C%2037.571481967974336%5D%2C%20%5B127.17995281860672%2C%2037.569309661290504%5D%2C%20%5B127.18122821955262%2C%2037.56636089217979%5D%2C%20%5B127.18169407550688%2C%2037.56286338914073%5D%2C%20%5B127.18408792330152%2C%2037.55814280369575%5D%2C%20%5B127.18350810324185%2C%2037.550053002101485%5D%2C%20%5B127.1852644795464%2C%2037.54888592026534%5D%2C%20%5B127.18480906237207%2C%2037.545296888806796%5D%2C%20%5B127.18543378919821%2C%2037.54260756512178%5D%2C%20%5B127.18364810569703%2C%2037.54241347907019%5D%2C%20%5B127.18116465939269%2C%2037.54384126582126%5D%2C%20%5B127.17770860504257%2C%2037.542414255164374%5D%2C%20%5B127.1744373170213%2C%2037.54277723796397%5D%2C%20%5B127.16830424484573%2C%2037.54145405702079%5D%2C%20%5B127.16530984307447%2C%2037.54221851258693%5D%2C%20%5B127.15566835118616%2C%2037.53119520531309%5D%2C%20%5B127.15538075046105%2C%2037.52652930087977%5D%2C%20%5B127.15154315998161%2C%2037.522828709496416%5D%2C%20%5B127.14981542759394%2C%2037.51926843453025%5D%2C%20%5B127.14791518058246%2C%2037.51918714979303%5D%2C%20%5B127.14684644251928%2C%2037.51661384818575%5D%2C%20%5B127.14672806823502%2C%2037.51415680680291%5D%2C%20%5B127.14532023498624%2C%2037.51464060108829%5D%2C%20%5B127.12123165719615%2C%2037.52528270089%5D%2C%20%5B127.12251496040881%2C%2037.52751810228347%5D%2C%20%5B127.12532464331997%2C%2037.53572787912298%5D%2C%20%5B127.12061313033807%2C%2037.538129867839416%5D%2C%20%5B127.1116764203608%2C%2037.540669955324965%5D%2C%20%5B127.11418412219375%2C%2037.54474592090681%5D%2C%20%5B127.11600200349189%2C%2037.55053147511706%5D%2C%20%5B127.11600943681239%2C%2037.55580061507081%5D%2C%20%5B127.11519584981606%2C%2037.557533180704915%5D%5D%5D%2C%20%22type%22%3A%20%22Polygon%22%7D%2C%20%22properties%22%3A%20%7B%22base_year%22%3A%20%222013%22%2C%20%22code%22%3A%20%2211250%22%2C%20%22name%22%3A%20%22%5Cuac15%5Cub3d9%5Cuad6c%22%2C%20%22name_eng%22%3A%20%22Gangdong-gu%22%7D%2C%20%22type%22%3A%20%22Feature%22%7D%2C%20%7B%22geometry%22%3A%20%7B%22coordinates%22%3A%20%5B%5B%5B127.0690698130372%2C%2037.522279423505026%5D%2C%20%5B127.07496309841329%2C%2037.52091052765938%5D%2C%20%5B127.07968915919895%2C%2037.52077294752823%5D%2C%20%5B127.08639455667742%2C%2037.52161824624356%5D%2C%20%5B127.0943611414465%2C%2037.523984206117525%5D%2C%20%5B127.10087519791962%2C%2037.524841220167055%5D%2C%20%5B127.10484130265957%2C%2037.53120327509912%5D%2C%20%5B127.1116764203608%2C%2037.540669955324965%5D%2C%20%5B127.12061313033807%2C%2037.538129867839416%5D%2C%20%5B127.12532464331997%2C%2037.53572787912298%5D%2C%20%5B127.12251496040881%2C%2037.52751810228347%5D%2C%20%5B127.12123165719615%2C%2037.52528270089%5D%2C%20%5B127.14532023498624%2C%2037.51464060108829%5D%2C%20%5B127.14672806823502%2C%2037.51415680680291%5D%2C%20%5B127.14670263739373%2C%2037.512786602955565%5D%2C%20%5B127.14462782318448%2C%2037.511529542030715%5D%2C%20%5B127.14323992504048%2C%2037.50951977457089%5D%2C%20%5B127.1420864475393%2C%2037.50578973782813%5D%2C%20%5B127.14324986168657%2C%2037.502649431479774%5D%2C%20%5B127.1473517108062%2C%2037.50069754405746%5D%2C%20%5B127.14980119646964%2C%2037.50046502392898%5D%2C%20%5B127.15223804785649%2C%2037.50170492532197%5D%2C%20%5B127.15401160147654%2C%2037.500347919909956%5D%2C%20%5B127.16086308579277%2C%2037.49886565522751%5D%2C%20%5B127.1634944215765%2C%2037.497445406097484%5D%2C%20%5B127.16199885180917%2C%2037.49402577547199%5D%2C%20%5B127.16216448592424%2C%2037.491639601211624%5D%2C%20%5B127.16040295326431%2C%2037.4877818619403%5D%2C%20%5B127.15892216655034%2C%2037.486126922469445%5D%2C%20%5B127.15393282790794%2C%2037.48483891408459%5D%2C%20%5B127.15147990997852%2C%2037.47745324805034%5D%2C%20%5B127.1515017465549%2C%2037.475633269417585%5D%2C%20%5B127.14857580353349%2C%2037.47381386382568%5D%2C%20%5B127.14415938171436%2C%2037.473692508393505%5D%2C%20%5B127.14112111404233%2C%2037.470600239054825%5D%2C%20%5B127.13631568648837%2C%2037.47214721764681%5D%2C%20%5B127.13281577200672%2C%2037.47257463763244%5D%2C%20%5B127.13307493070646%2C%2037.468907694139894%5D%2C%20%5B127.13750907701846%2C%2037.46647058226059%5D%2C%20%5B127.13478085797742%2C%2037.46509524639883%5D%2C%20%5B127.1308437061496%2C%2037.46509985661207%5D%2C%20%5B127.12728991002369%2C%2037.46673043118672%5D%2C%20%5B127.12729757787379%2C%2037.46421548908766%5D%2C%20%5B127.12440571080893%2C%2037.46240445587048%5D%2C%20%5B127.12441393026374%2C%2037.46442715236855%5D%2C%20%5B127.12265007208167%2C%2037.46756987490939%5D%2C%20%5B127.11380709617507%2C%2037.479633334849325%5D%2C%20%5B127.1143875173445%2C%2037.48073157362458%5D%2C%20%5B127.11117085201238%2C%2037.485708381512445%5D%2C%20%5B127.1077937689776%2C%2037.48860875954992%5D%2C%20%5B127.10433125798602%2C%2037.490728250649646%5D%2C%20%5B127.0988509639092%2C%2037.49302529254068%5D%2C%20%5B127.08050206733888%2C%2037.49783151325589%5D%2C%20%5B127.0764808967127%2C%2037.498612695580306%5D%2C%20%5B127.0719146000724%2C%2037.50224013587669%5D%2C%20%5B127.06926628842805%2C%2037.51717796437217%5D%2C%20%5B127.06860425556381%2C%2037.51812758676938%5D%2C%20%5B127.0690698130372%2C%2037.522279423505026%5D%5D%5D%2C%20%22type%22%3A%20%22Polygon%22%7D%2C%20%22properties%22%3A%20%7B%22base_year%22%3A%20%222013%22%2C%20%22code%22%3A%20%2211240%22%2C%20%22name%22%3A%20%22%5Cuc1a1%5Cud30c%5Cuad6c%22%2C%20%22name_eng%22%3A%20%22Songpa-gu%22%7D%2C%20%22type%22%3A%20%22Feature%22%7D%2C%20%7B%22geometry%22%3A%20%7B%22coordinates%22%3A%20%5B%5B%5B127.05867359288398%2C%2037.52629974922568%5D%2C%20%5B127.0690698130372%2C%2037.522279423505026%5D%2C%20%5B127.06860425556381%2C%2037.51812758676938%5D%2C%20%5B127.06926628842805%2C%2037.51717796437217%5D%2C%20%5B127.0719146000724%2C%2037.50224013587669%5D%2C%20%5B127.0764808967127%2C%2037.498612695580306%5D%2C%20%5B127.08050206733888%2C%2037.49783151325589%5D%2C%20%5B127.0988509639092%2C%2037.49302529254068%5D%2C%20%5B127.10433125798602%2C%2037.490728250649646%5D%2C%20%5B127.1077937689776%2C%2037.48860875954992%5D%2C%20%5B127.11117085201238%2C%2037.485708381512445%5D%2C%20%5B127.1143875173445%2C%2037.48073157362458%5D%2C%20%5B127.11380709617507%2C%2037.479633334849325%5D%2C%20%5B127.12265007208167%2C%2037.46756987490939%5D%2C%20%5B127.12441393026374%2C%2037.46442715236855%5D%2C%20%5B127.12440571080893%2C%2037.46240445587048%5D%2C%20%5B127.11957248720776%2C%2037.45936217377656%5D%2C%20%5B127.11885903757606%2C%2037.45578434878651%5D%2C%20%5B127.11535741803938%2C%2037.45722556454321%5D%2C%20%5B127.11413179478714%2C%2037.45875072431525%5D%2C%20%5B127.10841788934951%2C%2037.45972888008147%5D%2C%20%5B127.10561257180657%2C%2037.456815702518746%5D%2C%20%5B127.10032466845217%2C%2037.45598440195682%5D%2C%20%5B127.09842759318751%2C%2037.45862253857461%5D%2C%20%5B127.09712653145507%2C%2037.460848194480654%5D%2C%20%5B127.09039613625872%2C%2037.465520545397716%5D%2C%20%5B127.0866005634691%2C%2037.47006403057779%5D%2C%20%5B127.08640440578156%2C%2037.472697935184655%5D%2C%20%5B127.0802737559454%2C%2037.471973057552624%5D%2C%20%5B127.07602132306535%2C%2037.47005021331707%5D%2C%20%5B127.07476117209941%2C%2037.47199174520626%5D%2C%20%5B127.07231320371885%2C%2037.47234914588019%5D%2C%20%5B127.07135137525977%2C%2037.47107802023145%5D%2C%20%5B127.06463901956462%2C%2037.47003474490574%5D%2C%20%5B127.06371868919344%2C%2037.4661503234869%5D%2C%20%5B127.0588551029968%2C%2037.465611780743174%5D%2C%20%5B127.0559170481904%2C%2037.4659228914077%5D%2C%20%5B127.04713549385288%2C%2037.474479419244865%5D%2C%20%5B127.04345123620755%2C%2037.48276415595109%5D%2C%20%5B127.03621915098798%2C%2037.48175802427603%5D%2C%20%5B127.03372275812187%2C%2037.48674434662411%5D%2C%20%5B127.02265609299096%2C%2037.509970106251416%5D%2C%20%5B127.02038705349842%2C%2037.51771683027875%5D%2C%20%5B127.01917707838057%2C%2037.520085205855196%5D%2C%20%5B127.01397119667513%2C%2037.52503988289669%5D%2C%20%5B127.02302831890559%2C%2037.53231899582663%5D%2C%20%5B127.0269608080842%2C%2037.53484752757724%5D%2C%20%5B127.0319617044248%2C%2037.536064291470424%5D%2C%20%5B127.04806779588436%2C%2037.52970198575087%5D%2C%20%5B127.04903802830752%2C%2037.53140496708317%5D%2C%20%5B127.05116490008963%2C%2037.52975116557232%5D%2C%20%5B127.05867359288398%2C%2037.52629974922568%5D%5D%5D%2C%20%22type%22%3A%20%22Polygon%22%7D%2C%20%22properties%22%3A%20%7B%22base_year%22%3A%20%222013%22%2C%20%22code%22%3A%20%2211230%22%2C%20%22name%22%3A%20%22%5Cuac15%5Cub0a8%5Cuad6c%22%2C%20%22name_eng%22%3A%20%22Gangnam-gu%22%7D%2C%20%22type%22%3A%20%22Feature%22%7D%2C%20%7B%22geometry%22%3A%20%7B%22coordinates%22%3A%20%5B%5B%5B127.01397119667513%2C%2037.52503988289669%5D%2C%20%5B127.01917707838057%2C%2037.520085205855196%5D%2C%20%5B127.02038705349842%2C%2037.51771683027875%5D%2C%20%5B127.02265609299096%2C%2037.509970106251416%5D%2C%20%5B127.03372275812187%2C%2037.48674434662411%5D%2C%20%5B127.03621915098798%2C%2037.48175802427603%5D%2C%20%5B127.04345123620755%2C%2037.48276415595109%5D%2C%20%5B127.04713549385288%2C%2037.474479419244865%5D%2C%20%5B127.0559170481904%2C%2037.4659228914077%5D%2C%20%5B127.0588551029968%2C%2037.465611780743174%5D%2C%20%5B127.06371868919344%2C%2037.4661503234869%5D%2C%20%5B127.06463901956462%2C%2037.47003474490574%5D%2C%20%5B127.07135137525977%2C%2037.47107802023145%5D%2C%20%5B127.07231320371885%2C%2037.47234914588019%5D%2C%20%5B127.07476117209941%2C%2037.47199174520626%5D%2C%20%5B127.07602132306535%2C%2037.47005021331707%5D%2C%20%5B127.0802737559454%2C%2037.471973057552624%5D%2C%20%5B127.08640440578156%2C%2037.472697935184655%5D%2C%20%5B127.0866005634691%2C%2037.47006403057779%5D%2C%20%5B127.09039613625872%2C%2037.465520545397716%5D%2C%20%5B127.09712653145507%2C%2037.460848194480654%5D%2C%20%5B127.09842759318751%2C%2037.45862253857461%5D%2C%20%5B127.09673714758375%2C%2037.45597209899094%5D%2C%20%5B127.09722129576434%2C%2037.45374822681991%5D%2C%20%5B127.09575982122928%2C%2037.45332980525459%5D%2C%20%5B127.09472136159357%2C%2037.450897902539175%5D%2C%20%5B127.09293250684935%2C%2037.450020696864506%5D%2C%20%5B127.09047890749349%2C%2037.44637473407341%5D%2C%20%5B127.09046928565951%2C%2037.44296826114185%5D%2C%20%5B127.0862358725955%2C%2037.44118543250345%5D%2C%20%5B127.08441983692467%2C%2037.4383879031398%5D%2C%20%5B127.07686576585408%2C%2037.43960712011444%5D%2C%20%5B127.07375875606847%2C%2037.43898415920535%5D%2C%20%5B127.07407631675713%2C%2037.43719357187124%5D%2C%20%5B127.07666569012467%2C%2037.43600054505559%5D%2C%20%5B127.07603719210388%2C%2037.43429107517633%5D%2C%20%5B127.07361291761038%2C%2037.43318474533595%5D%2C%20%5B127.07271473569163%2C%2037.42939553659177%5D%2C%20%5B127.0733788318578%2C%2037.42814484786288%5D%2C%20%5B127.06885354151605%2C%2037.42731815367302%5D%2C%20%5B127.06778107605433%2C%2037.426197424057314%5D%2C%20%5B127.06317558623768%2C%2037.4272916178182%5D%2C%20%5B127.05998777565219%2C%2037.4273224867045%5D%2C%20%5B127.05424556064274%2C%2037.42574929824175%5D%2C%20%5B127.05197080928994%2C%2037.42749842502397%5D%2C%20%5B127.04960937636815%2C%2037.42801020057224%5D%2C%20%5B127.04849622718511%2C%2037.430672016902065%5D%2C%20%5B127.04191594772718%2C%2037.43568906449929%5D%2C%20%5B127.0379686253535%2C%2037.43634417139204%5D%2C%20%5B127.03751805596916%2C%2037.438362795245276%5D%2C%20%5B127.04031700689708%2C%2037.44191429311459%5D%2C%20%5B127.03959875976469%2C%2037.443582700519194%5D%2C%20%5B127.0398984887873%2C%2037.44656106007936%5D%2C%20%5B127.03825522385397%2C%2037.448766467898395%5D%2C%20%5B127.03916301678915%2C%2037.45180237055558%5D%2C%20%5B127.03881782597922%2C%2037.45382039851715%5D%2C%20%5B127.03695436044305%2C%2037.45537592726508%5D%2C%20%5B127.03573307034355%2C%2037.4586703897792%5D%2C%20%5B127.03683946894893%2C%2037.46103886642786%5D%2C%20%5B127.03337331972266%2C%2037.462966775127626%5D%2C%20%5B127.02820831539744%2C%2037.455700834295826%5D%2C%20%5B127.02263694708293%2C%2037.45335816711404%5D%2C%20%5B127.01827371395349%2C%2037.4525593623189%5D%2C%20%5B127.01316256500736%2C%2037.45257906566242%5D%2C%20%5B127.01110931353561%2C%2037.45456166745922%5D%2C%20%5B127.00836380369604%2C%2037.45936868039916%5D%2C%20%5B127.00738548779366%2C%2037.459815333664274%5D%2C%20%5B127.00552362663117%2C%2037.46445102893571%5D%2C%20%5B127.00008523087483%2C%2037.46455774995882%5D%2C%20%5B126.99837609897334%2C%2037.46390918086617%5D%2C%20%5B126.99932142462428%2C%2037.46113351815481%5D%2C%20%5B126.99893310307874%2C%2037.459376062410314%5D%2C%20%5B126.9953054179472%2C%2037.45860121328987%5D%2C%20%5B126.99072073195462%2C%2037.455326143310025%5D%2C%20%5B126.98956736277059%2C%2037.457600756400446%5D%2C%20%5B126.99026416700147%2C%2037.46271603227842%5D%2C%20%5B126.98896316546526%2C%2037.465041871263544%5D%2C%20%5B126.98662755598336%2C%2037.466937278295305%5D%2C%20%5B126.9846374349825%2C%2037.46996301876212%5D%2C%20%5B126.98367668291802%2C%2037.473856492692086%5D%2C%20%5B126.98500224966135%2C%2037.49356837311327%5D%2C%20%5B126.9871787157338%2C%2037.49719505997539%5D%2C%20%5B126.9832495184969%2C%2037.49948552591205%5D%2C%20%5B126.98241580381733%2C%2037.50120029501884%5D%2C%20%5B126.98223807916081%2C%2037.509314966770326%5D%2C%20%5B126.98458580602838%2C%2037.51070333105394%5D%2C%20%5B126.98948242685965%2C%2037.5108780134613%5D%2C%20%5B126.99148001917875%2C%2037.50990503427709%5D%2C%20%5B127.00011962020382%2C%2037.513901653034374%5D%2C%20%5B127.00583392114271%2C%2037.516905128452926%5D%2C%20%5B127.00818058911564%2C%2037.51877313923874%5D%2C%20%5B127.01022186960886%2C%2037.522020085671926%5D%2C%20%5B127.01397119667513%2C%2037.52503988289669%5D%5D%5D%2C%20%22type%22%3A%20%22Polygon%22%7D%2C%20%22properties%22%3A%20%7B%22base_year%22%3A%20%222013%22%2C%20%22code%22%3A%20%2211220%22%2C%20%22name%22%3A%20%22%5Cuc11c%5Cucd08%5Cuad6c%22%2C%20%22name_eng%22%3A%20%22Seocho-gu%22%7D%2C%20%22type%22%3A%20%22Feature%22%7D%2C%20%7B%22geometry%22%3A%20%7B%22coordinates%22%3A%20%5B%5B%5B126.98367668291802%2C%2037.473856492692086%5D%2C%20%5B126.9846374349825%2C%2037.46996301876212%5D%2C%20%5B126.98662755598336%2C%2037.466937278295305%5D%2C%20%5B126.98896316546526%2C%2037.465041871263544%5D%2C%20%5B126.99026416700147%2C%2037.46271603227842%5D%2C%20%5B126.98956736277059%2C%2037.457600756400446%5D%2C%20%5B126.99072073195462%2C%2037.455326143310025%5D%2C%20%5B126.98484249930785%2C%2037.45391909788938%5D%2C%20%5B126.9829408096241%2C%2037.450206782833206%5D%2C%20%5B126.97835022660695%2C%2037.447659155806164%5D%2C%20%5B126.97608193440507%2C%2037.44478918862847%5D%2C%20%5B126.9731300196836%2C%2037.444722870088114%5D%2C%20%5B126.96650852936277%2C%2037.44276983031553%5D%2C%20%5B126.96618702895445%2C%2037.439376482995094%5D%2C%20%5B126.96520439085143%2C%2037.438249784006246%5D%2C%20%5B126.9614877541633%2C%2037.437956805629675%5D%2C%20%5B126.96054904645496%2C%2037.43673997185797%5D%2C%20%5B126.95527369898224%2C%2037.43673711968809%5D%2C%20%5B126.9473688393239%2C%2037.4347689647565%5D%2C%20%5B126.94440352544498%2C%2037.43476162120059%5D%2C%20%5B126.9415292183489%2C%2037.43315139671158%5D%2C%20%5B126.94037501670272%2C%2037.43462213966344%5D%2C%20%5B126.9405640311191%2C%2037.437501011208845%5D%2C%20%5B126.9376981355065%2C%2037.44041709605302%5D%2C%20%5B126.93312955918624%2C%2037.44290014710262%5D%2C%20%5B126.93309127096236%2C%2037.44533734785938%5D%2C%20%5B126.93084408056525%2C%2037.447382928333994%5D%2C%20%5B126.92527839995981%2C%2037.45161884570837%5D%2C%20%5B126.9245243450059%2C%2037.45392293573877%5D%2C%20%5B126.91887928082078%2C%2037.45495082787016%5D%2C%20%5B126.9167728146601%2C%2037.45490566423789%5D%2C%20%5B126.91641538472182%2C%2037.45870245071989%5D%2C%20%5B126.91495285904284%2C%2037.461166184511065%5D%2C%20%5B126.91584245173756%2C%2037.462474576247985%5D%2C%20%5B126.91374656127704%2C%2037.46375990852858%5D%2C%20%5B126.91032166997253%2C%2037.469818629944285%5D%2C%20%5B126.91280966667205%2C%2037.47083063715413%5D%2C%20%5B126.91405961426707%2C%2037.47416764846582%5D%2C%20%5B126.9115784808617%2C%2037.4753960485947%5D%2C%20%5B126.91181700249076%2C%2037.47814319736339%5D%2C%20%5B126.90276666415615%2C%2037.47652007992712%5D%2C%20%5B126.90156094129895%2C%2037.47753842789901%5D%2C%20%5B126.90531975801812%2C%2037.48218087575429%5D%2C%20%5B126.90805655355825%2C%2037.48218338568103%5D%2C%20%5B126.91533979779165%2C%2037.484392208242134%5D%2C%20%5B126.91916807529428%2C%2037.48660606817164%5D%2C%20%5B126.92639563063156%2C%2037.48715979752876%5D%2C%20%5B126.92869559665061%2C%2037.49132126714011%5D%2C%20%5B126.92981699800066%2C%2037.49218420958284%5D%2C%20%5B126.93346386636452%2C%2037.49043826776755%5D%2C%20%5B126.93669800083833%2C%2037.49026778789087%5D%2C%20%5B126.93844070234584%2C%2037.4893532861132%5D%2C%20%5B126.94373156012337%2C%2037.48938843727846%5D%2C%20%5B126.94922661389508%2C%2037.49125437495649%5D%2C%20%5B126.95396955055433%2C%2037.48955250290043%5D%2C%20%5B126.9559655046206%2C%2037.48820165625994%5D%2C%20%5B126.95881175306481%2C%2037.48874989165474%5D%2C%20%5B126.96329694970828%2C%2037.4905835370787%5D%2C%20%5B126.96291787066104%2C%2037.48803272157808%5D%2C%20%5B126.96443983219191%2C%2037.48442261322104%5D%2C%20%5B126.9634428120456%2C%2037.48067931902171%5D%2C%20%5B126.9725891850662%2C%2037.472561363278125%5D%2C%20%5B126.97901795539295%2C%2037.47376525108475%5D%2C%20%5B126.98367668291802%2C%2037.473856492692086%5D%5D%5D%2C%20%22type%22%3A%20%22Polygon%22%7D%2C%20%22properties%22%3A%20%7B%22base_year%22%3A%20%222013%22%2C%20%22code%22%3A%20%2211210%22%2C%20%22name%22%3A%20%22%5Cuad00%5Cuc545%5Cuad6c%22%2C%20%22name_eng%22%3A%20%22Gwanak-gu%22%7D%2C%20%22type%22%3A%20%22Feature%22%7D%2C%20%7B%22geometry%22%3A%20%7B%22coordinates%22%3A%20%5B%5B%5B126.98223807916081%2C%2037.509314966770326%5D%2C%20%5B126.98241580381733%2C%2037.50120029501884%5D%2C%20%5B126.9832495184969%2C%2037.49948552591205%5D%2C%20%5B126.9871787157338%2C%2037.49719505997539%5D%2C%20%5B126.98500224966135%2C%2037.49356837311327%5D%2C%20%5B126.98367668291802%2C%2037.473856492692086%5D%2C%20%5B126.97901795539295%2C%2037.47376525108475%5D%2C%20%5B126.9725891850662%2C%2037.472561363278125%5D%2C%20%5B126.9634428120456%2C%2037.48067931902171%5D%2C%20%5B126.96443983219191%2C%2037.48442261322104%5D%2C%20%5B126.96291787066104%2C%2037.48803272157808%5D%2C%20%5B126.96329694970828%2C%2037.4905835370787%5D%2C%20%5B126.95881175306481%2C%2037.48874989165474%5D%2C%20%5B126.9559655046206%2C%2037.48820165625994%5D%2C%20%5B126.95396955055433%2C%2037.48955250290043%5D%2C%20%5B126.94922661389508%2C%2037.49125437495649%5D%2C%20%5B126.94373156012337%2C%2037.48938843727846%5D%2C%20%5B126.93844070234584%2C%2037.4893532861132%5D%2C%20%5B126.93669800083833%2C%2037.49026778789087%5D%2C%20%5B126.93346386636452%2C%2037.49043826776755%5D%2C%20%5B126.92981699800066%2C%2037.49218420958284%5D%2C%20%5B126.92869559665061%2C%2037.49132126714011%5D%2C%20%5B126.92639563063156%2C%2037.48715979752876%5D%2C%20%5B126.91916807529428%2C%2037.48660606817164%5D%2C%20%5B126.91533979779165%2C%2037.484392208242134%5D%2C%20%5B126.90805655355825%2C%2037.48218338568103%5D%2C%20%5B126.90531975801812%2C%2037.48218087575429%5D%2C%20%5B126.91461888105147%2C%2037.493581242537296%5D%2C%20%5B126.92177893174825%2C%2037.494889877415176%5D%2C%20%5B126.9232469824303%2C%2037.49928149943772%5D%2C%20%5B126.92749463764046%2C%2037.50985955934051%5D%2C%20%5B126.92919938332032%2C%2037.51019685838638%5D%2C%20%5B126.92810628828279%2C%2037.51329595732015%5D%2C%20%5B126.93453120783802%2C%2037.5128512712934%5D%2C%20%5B126.94407346439685%2C%2037.51463101265907%5D%2C%20%5B126.95249990298159%2C%2037.51722500741813%5D%2C%20%5B126.95551848909955%2C%2037.514736123015844%5D%2C%20%5B126.95950268374823%2C%2037.51249532165974%5D%2C%20%5B126.96670111119346%2C%2037.50997579058433%5D%2C%20%5B126.98223807916081%2C%2037.509314966770326%5D%5D%5D%2C%20%22type%22%3A%20%22Polygon%22%7D%2C%20%22properties%22%3A%20%7B%22base_year%22%3A%20%222013%22%2C%20%22code%22%3A%20%2211200%22%2C%20%22name%22%3A%20%22%5Cub3d9%5Cuc791%5Cuad6c%22%2C%20%22name_eng%22%3A%20%22Dongjak-gu%22%7D%2C%20%22type%22%3A%20%22Feature%22%7D%2C%20%7B%22geometry%22%3A%20%7B%22coordinates%22%3A%20%5B%5B%5B126.89184663862764%2C%2037.547373974997114%5D%2C%20%5B126.90281125423546%2C%2037.54133630026083%5D%2C%20%5B126.90829204147958%2C%2037.539206065016785%5D%2C%20%5B126.93132557924062%2C%2037.53415416375281%5D%2C%20%5B126.93680342222562%2C%2037.53344577095931%5D%2C%20%5B126.94566733083212%2C%2037.526617542453366%5D%2C%20%5B126.9488066464266%2C%2037.52424913252661%5D%2C%20%5B126.95003825019774%2C%2037.520781022055274%5D%2C%20%5B126.95249990298159%2C%2037.51722500741813%5D%2C%20%5B126.94407346439685%2C%2037.51463101265907%5D%2C%20%5B126.93453120783802%2C%2037.5128512712934%5D%2C%20%5B126.92810628828279%2C%2037.51329595732015%5D%2C%20%5B126.92919938332032%2C%2037.51019685838638%5D%2C%20%5B126.92749463764046%2C%2037.50985955934051%5D%2C%20%5B126.9232469824303%2C%2037.49928149943772%5D%2C%20%5B126.92177893174825%2C%2037.494889877415176%5D%2C%20%5B126.91461888105147%2C%2037.493581242537296%5D%2C%20%5B126.90531975801812%2C%2037.48218087575429%5D%2C%20%5B126.90260188508027%2C%2037.48282626920736%5D%2C%20%5B126.89861362258316%2C%2037.48625405368759%5D%2C%20%5B126.89581061458084%2C%2037.49391346191318%5D%2C%20%5B126.89549571721683%2C%2037.50033127915717%5D%2C%20%5B126.89594776782485%2C%2037.504675281309176%5D%2C%20%5B126.89253696873205%2C%2037.50875582175844%5D%2C%20%5B126.88156402353862%2C%2037.513970034765684%5D%2C%20%5B126.88191372979959%2C%2037.51939416754389%5D%2C%20%5B126.88260109180834%2C%2037.52242565920786%5D%2C%20%5B126.88382776477316%2C%2037.52352483439659%5D%2C%20%5B126.88904768965743%2C%2037.525856504359034%5D%2C%20%5B126.89057378109133%2C%2037.52792091672938%5D%2C%20%5B126.89213569003026%2C%2037.52757969298779%5D%2C%20%5B126.89361739665432%2C%2037.53033899535983%5D%2C%20%5B126.89339176028666%2C%2037.533030814524004%5D%2C%20%5B126.88938421776182%2C%2037.54060159145325%5D%2C%20%5B126.88825757860099%2C%2037.54079733630232%5D%2C%20%5B126.88736718003831%2C%2037.54350482420959%5D%2C%20%5B126.89184663862764%2C%2037.547373974997114%5D%5D%5D%2C%20%22type%22%3A%20%22Polygon%22%7D%2C%20%22properties%22%3A%20%7B%22base_year%22%3A%20%222013%22%2C%20%22code%22%3A%20%2211190%22%2C%20%22name%22%3A%20%22%5Cuc601%5Cub4f1%5Cud3ec%5Cuad6c%22%2C%20%22name_eng%22%3A%20%22Yeongdeungpo-gu%22%7D%2C%20%22type%22%3A%20%22Feature%22%7D%2C%20%7B%22geometry%22%3A%20%7B%22coordinates%22%3A%20%5B%5B%5B126.90156094129895%2C%2037.47753842789901%5D%2C%20%5B126.90276666415615%2C%2037.47652007992712%5D%2C%20%5B126.91181700249076%2C%2037.47814319736339%5D%2C%20%5B126.9115784808617%2C%2037.4753960485947%5D%2C%20%5B126.91405961426707%2C%2037.47416764846582%5D%2C%20%5B126.91280966667205%2C%2037.47083063715413%5D%2C%20%5B126.91032166997253%2C%2037.469818629944285%5D%2C%20%5B126.91374656127704%2C%2037.46375990852858%5D%2C%20%5B126.91584245173756%2C%2037.462474576247985%5D%2C%20%5B126.91495285904284%2C%2037.461166184511065%5D%2C%20%5B126.91641538472182%2C%2037.45870245071989%5D%2C%20%5B126.9167728146601%2C%2037.45490566423789%5D%2C%20%5B126.91887928082078%2C%2037.45495082787016%5D%2C%20%5B126.9245243450059%2C%2037.45392293573877%5D%2C%20%5B126.92527839995981%2C%2037.45161884570837%5D%2C%20%5B126.93084408056525%2C%2037.447382928333994%5D%2C%20%5B126.9255681646224%2C%2037.44377627841776%5D%2C%20%5B126.92318732232543%2C%2037.44131494528283%5D%2C%20%5B126.92199241717724%2C%2037.43848070111403%5D%2C%20%5B126.92004664118903%2C%2037.43708741729147%5D%2C%20%5B126.91641802826501%2C%2037.43722730676683%5D%2C%20%5B126.91344497343947%2C%2037.43474365720405%5D%2C%20%5B126.91082677485002%2C%2037.43100963341445%5D%2C%20%5B126.90487628022693%2C%2037.43129996372531%5D%2C%20%5B126.90480610062333%2C%2037.433123813599884%5D%2C%20%5B126.90147608259903%2C%2037.4353323892334%5D%2C%20%5B126.90081465102077%2C%2037.436498759868456%5D%2C%20%5B126.90105333433885%2C%2037.44031094924801%5D%2C%20%5B126.90031753853916%2C%2037.441844173154756%5D%2C%20%5B126.89768314223053%2C%2037.442906858137974%5D%2C%20%5B126.89812451590424%2C%2037.44551117837958%5D%2C%20%5B126.89616541233094%2C%2037.44983024861048%5D%2C%20%5B126.8947204038491%2C%2037.4491097366517%5D%2C%20%5B126.89157226377172%2C%2037.449944282396714%5D%2C%20%5B126.89113632562855%2C%2037.45236898205529%5D%2C%20%5B126.88831381741582%2C%2037.45357939777933%5D%2C%20%5B126.88826482749008%2C%2037.45663270152334%5D%2C%20%5B126.89074130059865%2C%2037.45966561796733%5D%2C%20%5B126.88198617469523%2C%2037.469975509557976%5D%2C%20%5B126.87874781843654%2C%2037.47475533620029%5D%2C%20%5B126.87553760781829%2C%2037.48186220368496%5D%2C%20%5B126.87683271502428%2C%2037.482576591607305%5D%2C%20%5B126.88079109105627%2C%2037.48378287831426%5D%2C%20%5B126.8827497570056%2C%2037.48316340563878%5D%2C%20%5B126.88803217321346%2C%2037.47975290808737%5D%2C%20%5B126.89116882970154%2C%2037.47681803032367%5D%2C%20%5B126.89689977603885%2C%2037.47570593888643%5D%2C%20%5B126.90104536043339%2C%2037.47614746588584%5D%2C%20%5B126.90156094129895%2C%2037.47753842789901%5D%5D%5D%2C%20%22type%22%3A%20%22Polygon%22%7D%2C%20%22properties%22%3A%20%7B%22base_year%22%3A%20%222013%22%2C%20%22code%22%3A%20%2211180%22%2C%20%22name%22%3A%20%22%5Cuae08%5Cucc9c%5Cuad6c%22%2C%20%22name_eng%22%3A%20%22Geumcheon-gu%22%7D%2C%20%22type%22%3A%20%22Feature%22%7D%2C%20%7B%22geometry%22%3A%20%7B%22coordinates%22%3A%20%5B%5B%5B126.82688081517314%2C%2037.50548972232896%5D%2C%20%5B126.8312211095328%2C%2037.50541191299514%5D%2C%20%5B126.8341914436862%2C%2037.50238060850881%5D%2C%20%5B126.8385046623421%2C%2037.49965438083505%5D%2C%20%5B126.84270526111828%2C%2037.501190052842375%5D%2C%20%5B126.8421330711049%2C%2037.50273297478404%5D%2C%20%5B126.84689618668257%2C%2037.50287086505149%5D%2C%20%5B126.84730715497963%2C%2037.50522159123912%5D%2C%20%5B126.85079659934003%2C%2037.50601938589165%5D%2C%20%5B126.8521985385098%2C%2037.507310601432195%5D%2C%20%5B126.8549910115563%2C%2037.507774255244875%5D%2C%20%5B126.85767018319959%2C%2037.50643578404816%5D%2C%20%5B126.8602448049945%2C%2037.50714262450898%5D%2C%20%5B126.86219488732715%2C%2037.50388438562706%5D%2C%20%5B126.86454914535695%2C%2037.50388350542007%5D%2C%20%5B126.86525729660478%2C%2037.502448483868896%5D%2C%20%5B126.86795186545288%2C%2037.502755995885714%5D%2C%20%5B126.87109220473953%2C%2037.50203922322315%5D%2C%20%5B126.87432642792102%2C%2037.50260287829134%5D%2C%20%5B126.87556919864359%2C%2037.505720626918%5D%2C%20%5B126.88054908630636%2C%2037.51148026214697%5D%2C%20%5B126.88156402353862%2C%2037.513970034765684%5D%2C%20%5B126.89253696873205%2C%2037.50875582175844%5D%2C%20%5B126.89594776782485%2C%2037.504675281309176%5D%2C%20%5B126.89549571721683%2C%2037.50033127915717%5D%2C%20%5B126.89581061458084%2C%2037.49391346191318%5D%2C%20%5B126.89861362258316%2C%2037.48625405368759%5D%2C%20%5B126.90260188508027%2C%2037.48282626920736%5D%2C%20%5B126.90531975801812%2C%2037.48218087575429%5D%2C%20%5B126.90156094129895%2C%2037.47753842789901%5D%2C%20%5B126.90104536043339%2C%2037.47614746588584%5D%2C%20%5B126.89689977603885%2C%2037.47570593888643%5D%2C%20%5B126.89116882970154%2C%2037.47681803032367%5D%2C%20%5B126.88803217321346%2C%2037.47975290808737%5D%2C%20%5B126.8827497570056%2C%2037.48316340563878%5D%2C%20%5B126.88079109105627%2C%2037.48378287831426%5D%2C%20%5B126.87683271502428%2C%2037.482576591607305%5D%2C%20%5B126.87926901338844%2C%2037.4851363312754%5D%2C%20%5B126.87807822721697%2C%2037.486247661404484%5D%2C%20%5B126.87500855887376%2C%2037.485529408954044%5D%2C%20%5B126.87499999632084%2C%2037.48723558386031%5D%2C%20%5B126.86985088086946%2C%2037.490972856926746%5D%2C%20%5B126.86690708512153%2C%2037.48850048185492%5D%2C%20%5B126.86334463261252%2C%2037.48702105213313%5D%2C%20%5B126.85979281993241%2C%2037.48309390333688%5D%2C%20%5B126.8571926758503%2C%2037.482400254369296%5D%2C%20%5B126.85582775745682%2C%2037.48008159809108%5D%2C%20%5B126.85397991619827%2C%2037.47882533996402%5D%2C%20%5B126.84914329670241%2C%2037.4792573077648%5D%2C%20%5B126.84804505350411%2C%2037.478160467930344%5D%2C%20%5B126.84762676054953%2C%2037.47146723936323%5D%2C%20%5B126.84154264465728%2C%2037.4728980419%5D%2C%20%5B126.83754691879544%2C%2037.472514053936045%5D%2C%20%5B126.83388005989259%2C%2037.4747683882548%5D%2C%20%5B126.83136668931549%2C%2037.47344154955525%5D%2C%20%5B126.82660025197819%2C%2037.47364544953152%5D%2C%20%5B126.82419365698964%2C%2037.472951080902234%5D%2C%20%5B126.82179895415682%2C%2037.47518076838956%5D%2C%20%5B126.82206789884786%2C%2037.47889514031285%5D%2C%20%5B126.82139445214092%2C%2037.48136482338644%5D%2C%20%5B126.82208805042494%2C%2037.48299688518288%5D%2C%20%5B126.82558489219227%2C%2037.48497306755705%5D%2C%20%5B126.82482114643597%2C%2037.48717399070965%5D%2C%20%5B126.81993148808915%2C%2037.48877864988337%5D%2C%20%5B126.81649745505314%2C%2037.490455810141476%5D%2C%20%5B126.81480709048222%2C%2037.493362284349615%5D%2C%20%5B126.81518179823208%2C%2037.495233793642186%5D%2C%20%5B126.81771493003457%2C%2037.494748098657496%5D%2C%20%5B126.8208295567048%2C%2037.49594689979241%5D%2C%20%5B126.82204657426578%2C%2037.49851634597747%5D%2C%20%5B126.82367963750009%2C%2037.49925830108059%5D%2C%20%5B126.82504736331406%2C%2037.50302612640443%5D%2C%20%5B126.82469248121312%2C%2037.50496239513798%5D%2C%20%5B126.82688081517314%2C%2037.50548972232896%5D%5D%5D%2C%20%22type%22%3A%20%22Polygon%22%7D%2C%20%22properties%22%3A%20%7B%22base_year%22%3A%20%222013%22%2C%20%22code%22%3A%20%2211170%22%2C%20%22name%22%3A%20%22%5Cuad6c%5Cub85c%5Cuad6c%22%2C%20%22name_eng%22%3A%20%22Guro-gu%22%7D%2C%20%22type%22%3A%20%22Feature%22%7D%2C%20%7B%22geometry%22%3A%20%7B%22coordinates%22%3A%20%5B%5B%5B126.85984199399667%2C%2037.571847855292745%5D%2C%20%5B126.85950389772532%2C%2037.5682771531189%5D%2C%20%5B126.8604929702619%2C%2037.566825621733905%5D%2C%20%5B126.86837407967381%2C%2037.56309561411933%5D%2C%20%5B126.87997924964915%2C%2037.55510740490174%5D%2C%20%5B126.89184663862764%2C%2037.547373974997114%5D%2C%20%5B126.88736718003831%2C%2037.54350482420959%5D%2C%20%5B126.88825757860099%2C%2037.54079733630232%5D%2C%20%5B126.8872486543506%2C%2037.54079100234749%5D%2C%20%5B126.88280520161935%2C%2037.545072121233225%5D%2C%20%5B126.8761093656006%2C%2037.54412882794802%5D%2C%20%5B126.8727924099192%2C%2037.544853699294116%5D%2C%20%5B126.86637464321238%2C%2037.54859191094823%5D%2C%20%5B126.86426635332332%2C%2037.54172958759955%5D%2C%20%5B126.86582129720519%2C%2037.53817151116851%5D%2C%20%5B126.8655037497872%2C%2037.53382926555605%5D%2C%20%5B126.86610073476395%2C%2037.52699964144669%5D%2C%20%5B126.85098397861944%2C%2037.525098716169985%5D%2C%20%5B126.84257291943153%2C%2037.52373707805596%5D%2C%20%5B126.836555914069%2C%2037.53367208325903%5D%2C%20%5B126.83716591765655%2C%2037.534935320492906%5D%2C%20%5B126.83522688458329%2C%2037.539042988809484%5D%2C%20%5B126.8325348945036%2C%2037.538953250433295%5D%2C%20%5B126.83191667070415%2C%2037.54146500511403%5D%2C%20%5B126.83017074557299%2C%2037.542611079015344%5D%2C%20%5B126.82889818288362%2C%2037.53909381305992%5D%2C%20%5B126.8242331426722%2C%2037.53788078753248%5D%2C%20%5B126.81674221631081%2C%2037.5378396500627%5D%2C%20%5B126.81246052552456%2C%2037.538810793377344%5D%2C%20%5B126.81143604908785%2C%2037.54033621168525%5D%2C%20%5B126.80542840499083%2C%2037.54008921830378%5D%2C%20%5B126.80185404828612%2C%2037.537645443377826%5D%2C%20%5B126.80090914554204%2C%2037.53503009075454%5D%2C%20%5B126.79688612254975%2C%2037.53302974862096%5D%2C%20%5B126.79582133969424%2C%2037.536641561833754%5D%2C%20%5B126.79693641290046%2C%2037.53865858611534%5D%2C%20%5B126.79388711477147%2C%2037.53902211451394%5D%2C%20%5B126.7938616681597%2C%2037.54104361952839%5D%2C%20%5B126.79075533377627%2C%2037.54165251407983%5D%2C%20%5B126.78880225462409%2C%2037.54353706379955%5D%2C%20%5B126.78198339188025%2C%2037.543449601019624%5D%2C%20%5B126.77756215424237%2C%2037.54611355396897%5D%2C%20%5B126.77324417717703%2C%2037.5459123450554%5D%2C%20%5B126.76977011413412%2C%2037.55052082471595%5D%2C%20%5B126.76700465024426%2C%2037.552821566629916%5D%2C%20%5B126.77074629769308%2C%2037.55296836994276%5D%2C%20%5B126.77145103135192%2C%2037.55434307460708%5D%2C%20%5B126.77879087345151%2C%2037.55919525318415%5D%2C%20%5B126.77889121370164%2C%2037.5613614424496%5D%2C%20%5B126.77671213061004%2C%2037.5645429268672%5D%2C%20%5B126.77986476402239%2C%2037.564245932540665%5D%2C%20%5B126.78252024622797%2C%2037.565367145342954%5D%2C%20%5B126.78471963959866%2C%2037.56745669198498%5D%2C%20%5B126.78398460461828%2C%2037.56905814599349%5D%2C%20%5B126.78496836516075%2C%2037.57090748246567%5D%2C%20%5B126.79172648531066%2C%2037.57472630536462%5D%2C%20%5B126.79539987549317%2C%2037.57451148875729%5D%2C%20%5B126.79523455851671%2C%2037.57760277954844%5D%2C%20%5B126.7958606942207%2C%2037.58019957877273%5D%2C%20%5B126.79799133400897%2C%2037.58036436587069%5D%2C%20%5B126.80091228188235%2C%2037.5854309825683%5D%2C%20%5B126.80289369340177%2C%2037.58621464221784%5D%2C%20%5B126.80131704756816%2C%2037.58839794302751%5D%2C%20%5B126.80149834313248%2C%2037.59012749570681%5D%2C%20%5B126.7996634054858%2C%2037.59296530943065%5D%2C%20%5B126.79910601240701%2C%2037.59569886491464%5D%2C%20%5B126.80046544382346%2C%2037.59827267924192%5D%2C%20%5B126.80198459129242%2C%2037.598541940075755%5D%2C%20%5B126.80268446118524%2C%2037.601312560472834%5D%2C%20%5B126.80393696882469%2C%2037.601857300987895%5D%2C%20%5B126.80759006979085%2C%2037.60089755124775%5D%2C%20%5B126.81814502537962%2C%2037.591566052513244%5D%2C%20%5B126.82251438477105%2C%2037.5880430810082%5D%2C%20%5B126.82891304761237%2C%2037.5855611764797%5D%2C%20%5B126.85302823436479%2C%2037.57282468882299%5D%2C%20%5B126.85984199399667%2C%2037.571847855292745%5D%5D%5D%2C%20%22type%22%3A%20%22Polygon%22%7D%2C%20%22properties%22%3A%20%7B%22base_year%22%3A%20%222013%22%2C%20%22code%22%3A%20%2211160%22%2C%20%22name%22%3A%20%22%5Cuac15%5Cuc11c%5Cuad6c%22%2C%20%22name_eng%22%3A%20%22Gangseo-gu%22%7D%2C%20%22type%22%3A%20%22Feature%22%7D%2C%20%7B%22geometry%22%3A%20%7B%22coordinates%22%3A%20%5B%5B%5B126.8242331426722%2C%2037.53788078753248%5D%2C%20%5B126.82889818288362%2C%2037.53909381305992%5D%2C%20%5B126.83017074557299%2C%2037.542611079015344%5D%2C%20%5B126.83191667070415%2C%2037.54146500511403%5D%2C%20%5B126.8325348945036%2C%2037.538953250433295%5D%2C%20%5B126.83522688458329%2C%2037.539042988809484%5D%2C%20%5B126.83716591765655%2C%2037.534935320492906%5D%2C%20%5B126.836555914069%2C%2037.53367208325903%5D%2C%20%5B126.84257291943153%2C%2037.52373707805596%5D%2C%20%5B126.85098397861944%2C%2037.525098716169985%5D%2C%20%5B126.86610073476395%2C%2037.52699964144669%5D%2C%20%5B126.8655037497872%2C%2037.53382926555605%5D%2C%20%5B126.86582129720519%2C%2037.53817151116851%5D%2C%20%5B126.86426635332332%2C%2037.54172958759955%5D%2C%20%5B126.86637464321238%2C%2037.54859191094823%5D%2C%20%5B126.8727924099192%2C%2037.544853699294116%5D%2C%20%5B126.8761093656006%2C%2037.54412882794802%5D%2C%20%5B126.88280520161935%2C%2037.545072121233225%5D%2C%20%5B126.8872486543506%2C%2037.54079100234749%5D%2C%20%5B126.88825757860099%2C%2037.54079733630232%5D%2C%20%5B126.88938421776182%2C%2037.54060159145325%5D%2C%20%5B126.89339176028666%2C%2037.533030814524004%5D%2C%20%5B126.89361739665432%2C%2037.53033899535983%5D%2C%20%5B126.89213569003026%2C%2037.52757969298779%5D%2C%20%5B126.89057378109133%2C%2037.52792091672938%5D%2C%20%5B126.88904768965743%2C%2037.525856504359034%5D%2C%20%5B126.88382776477316%2C%2037.52352483439659%5D%2C%20%5B126.88260109180834%2C%2037.52242565920786%5D%2C%20%5B126.88191372979959%2C%2037.51939416754389%5D%2C%20%5B126.88156402353862%2C%2037.513970034765684%5D%2C%20%5B126.88054908630636%2C%2037.51148026214697%5D%2C%20%5B126.87556919864359%2C%2037.505720626918%5D%2C%20%5B126.87432642792102%2C%2037.50260287829134%5D%2C%20%5B126.87109220473953%2C%2037.50203922322315%5D%2C%20%5B126.86795186545288%2C%2037.502755995885714%5D%2C%20%5B126.86525729660478%2C%2037.502448483868896%5D%2C%20%5B126.86454914535695%2C%2037.50388350542007%5D%2C%20%5B126.86219488732715%2C%2037.50388438562706%5D%2C%20%5B126.8602448049945%2C%2037.50714262450898%5D%2C%20%5B126.85767018319959%2C%2037.50643578404816%5D%2C%20%5B126.8549910115563%2C%2037.507774255244875%5D%2C%20%5B126.8521985385098%2C%2037.507310601432195%5D%2C%20%5B126.85079659934003%2C%2037.50601938589165%5D%2C%20%5B126.84730715497963%2C%2037.50522159123912%5D%2C%20%5B126.84689618668257%2C%2037.50287086505149%5D%2C%20%5B126.8421330711049%2C%2037.50273297478404%5D%2C%20%5B126.84270526111828%2C%2037.501190052842375%5D%2C%20%5B126.8385046623421%2C%2037.49965438083505%5D%2C%20%5B126.8341914436862%2C%2037.50238060850881%5D%2C%20%5B126.8312211095328%2C%2037.50541191299514%5D%2C%20%5B126.82688081517314%2C%2037.50548972232896%5D%2C%20%5B126.82609821744505%2C%2037.507816771867255%5D%2C%20%5B126.82665326173496%2C%2037.510416148524136%5D%2C%20%5B126.82529622550616%2C%2037.513385210403136%5D%2C%20%5B126.82763384465879%2C%2037.516923263281946%5D%2C%20%5B126.8273575421771%2C%2037.52002629298419%5D%2C%20%5B126.83054711509516%2C%2037.52390261457357%5D%2C%20%5B126.82938708105253%2C%2037.5268052663749%5D%2C%20%5B126.8276955169658%2C%2037.52706155314193%5D%2C%20%5B126.82389942108053%2C%2037.53199443525418%5D%2C%20%5B126.8242331426722%2C%2037.53788078753248%5D%5D%5D%2C%20%22type%22%3A%20%22Polygon%22%7D%2C%20%22properties%22%3A%20%7B%22base_year%22%3A%20%222013%22%2C%20%22code%22%3A%20%2211150%22%2C%20%22name%22%3A%20%22%5Cuc591%5Cucc9c%5Cuad6c%22%2C%20%22name_eng%22%3A%20%22Yangcheon-gu%22%7D%2C%20%22type%22%3A%20%22Feature%22%7D%2C%20%7B%22geometry%22%3A%20%7B%22coordinates%22%3A%20%5B%5B%5B126.90522065831053%2C%2037.57409700522574%5D%2C%20%5B126.90370105002282%2C%2037.57266722738834%5D%2C%20%5B126.90687243065778%2C%2037.57059762097416%5D%2C%20%5B126.92189004506%2C%2037.56391798973296%5D%2C%20%5B126.92778174854314%2C%2037.562495624023775%5D%2C%20%5B126.93034243306369%2C%2037.56054720372433%5D%2C%20%5B126.92881397392811%2C%2037.558202848902%5D%2C%20%5B126.92872097190046%2C%2037.556034533941734%5D%2C%20%5B126.93898161798973%2C%2037.552310003728124%5D%2C%20%5B126.94314477022111%2C%2037.5536460848349%5D%2C%20%5B126.95916768398142%2C%2037.55468176051932%5D%2C%20%5B126.96080686210321%2C%2037.55386236039188%5D%2C%20%5B126.96358226710812%2C%2037.55605635475154%5D%2C%20%5B126.96519694864509%2C%2037.55362533505407%5D%2C%20%5B126.96380145704283%2C%2037.55254525759954%5D%2C%20%5B126.96448570553055%2C%2037.548705692021635%5D%2C%20%5B126.96604189284825%2C%2037.546894141748815%5D%2C%20%5B126.96401856825223%2C%2037.54584596959762%5D%2C%20%5B126.96231305253527%2C%2037.543511558047456%5D%2C%20%5B126.9605977865388%2C%2037.542661954880806%5D%2C%20%5B126.95926437828754%2C%2037.53897908363236%5D%2C%20%5B126.95340780191557%2C%2037.533494726370755%5D%2C%20%5B126.94717864071288%2C%2037.53213495568077%5D%2C%20%5B126.94566733083212%2C%2037.526617542453366%5D%2C%20%5B126.93680342222562%2C%2037.53344577095931%5D%2C%20%5B126.93132557924062%2C%2037.53415416375281%5D%2C%20%5B126.90829204147958%2C%2037.539206065016785%5D%2C%20%5B126.90281125423546%2C%2037.54133630026083%5D%2C%20%5B126.89184663862764%2C%2037.547373974997114%5D%2C%20%5B126.87997924964915%2C%2037.55510740490174%5D%2C%20%5B126.86837407967381%2C%2037.56309561411933%5D%2C%20%5B126.8604929702619%2C%2037.566825621733905%5D%2C%20%5B126.85950389772532%2C%2037.5682771531189%5D%2C%20%5B126.85984199399667%2C%2037.571847855292745%5D%2C%20%5B126.85993476176495%2C%2037.5728262143511%5D%2C%20%5B126.8638132887273%2C%2037.57306147014704%5D%2C%20%5B126.86560520354786%2C%2037.57385540098251%5D%2C%20%5B126.86766286078968%2C%2037.57269227137124%5D%2C%20%5B126.87008117117851%2C%2037.574598289168996%5D%2C%20%5B126.87282267062741%2C%2037.574956427500126%5D%2C%20%5B126.8779661566318%2C%2037.57680133323819%5D%2C%20%5B126.87918874599603%2C%2037.5796889248137%5D%2C%20%5B126.87876320682938%2C%2037.581327335058546%5D%2C%20%5B126.88107183862735%2C%2037.583788024645344%5D%2C%20%5B126.88237824849728%2C%2037.586847436468204%5D%2C%20%5B126.88433284773288%2C%2037.588143322880526%5D%2C%20%5B126.89150044994719%2C%2037.58202374305761%5D%2C%20%5B126.89532313269488%2C%2037.579420322822145%5D%2C%20%5B126.89738573904876%2C%2037.578668647687564%5D%2C%20%5B126.90023584510952%2C%2037.575506080437606%5D%2C%20%5B126.90373193212757%2C%2037.573123712282076%5D%2C%20%5B126.90522065831053%2C%2037.57409700522574%5D%5D%5D%2C%20%22type%22%3A%20%22Polygon%22%7D%2C%20%22properties%22%3A%20%7B%22base_year%22%3A%20%222013%22%2C%20%22code%22%3A%20%2211140%22%2C%20%22name%22%3A%20%22%5Cub9c8%5Cud3ec%5Cuad6c%22%2C%20%22name_eng%22%3A%20%22Mapo-gu%22%7D%2C%20%22type%22%3A%20%22Feature%22%7D%2C%20%7B%22geometry%22%3A%20%7B%22coordinates%22%3A%20%5B%5B%5B126.9524752030572%2C%2037.60508692737045%5D%2C%20%5B126.95480868778256%2C%2037.60381765067903%5D%2C%20%5B126.95564117002459%2C%2037.601827148276776%5D%2C%20%5B126.95484771718951%2C%2037.59761368186209%5D%2C%20%5B126.95619178283661%2C%2037.59575826218021%5D%2C%20%5B126.95924434840931%2C%2037.59545024466215%5D%2C%20%5B126.95842779914786%2C%2037.592356673207824%5D%2C%20%5B126.960424902266%2C%2037.58868913291801%5D%2C%20%5B126.96048802632431%2C%2037.587202077053746%5D%2C%20%5B126.95879970726017%2C%2037.58189826471162%5D%2C%20%5B126.96177754536156%2C%2037.57970124256911%5D%2C%20%5B126.95789326971087%2C%2037.57793453336025%5D%2C%20%5B126.95565425846463%2C%2037.576080790881456%5D%2C%20%5B126.96873633279075%2C%2037.56313604690827%5D%2C%20%5B126.97169209525231%2C%2037.55921654641677%5D%2C%20%5B126.96900073076728%2C%2037.55850929094393%5D%2C%20%5B126.96570855677983%2C%2037.556512377492325%5D%2C%20%5B126.96358226710812%2C%2037.55605635475154%5D%2C%20%5B126.96080686210321%2C%2037.55386236039188%5D%2C%20%5B126.95916768398142%2C%2037.55468176051932%5D%2C%20%5B126.94314477022111%2C%2037.5536460848349%5D%2C%20%5B126.93898161798973%2C%2037.552310003728124%5D%2C%20%5B126.92872097190046%2C%2037.556034533941734%5D%2C%20%5B126.92881397392811%2C%2037.558202848902%5D%2C%20%5B126.93034243306369%2C%2037.56054720372433%5D%2C%20%5B126.92778174854314%2C%2037.562495624023775%5D%2C%20%5B126.92189004506%2C%2037.56391798973296%5D%2C%20%5B126.90687243065778%2C%2037.57059762097416%5D%2C%20%5B126.90370105002282%2C%2037.57266722738834%5D%2C%20%5B126.90522065831053%2C%2037.57409700522574%5D%2C%20%5B126.91464724464083%2C%2037.583228529985455%5D%2C%20%5B126.91827498278953%2C%2037.58276881451649%5D%2C%20%5B126.91792000144513%2C%2037.58034997804668%5D%2C%20%5B126.92444169370404%2C%2037.581233899739914%5D%2C%20%5B126.92596484570709%2C%2037.58441659356971%5D%2C%20%5B126.9281697003186%2C%2037.584376616028365%5D%2C%20%5B126.9302171100533%2C%2037.58559126746845%5D%2C%20%5B126.92996402426377%2C%2037.58767009299767%5D%2C%20%5B126.93104958440722%2C%2037.58996937993664%5D%2C%20%5B126.93575441237547%2C%2037.593605788596975%5D%2C%20%5B126.94277481511082%2C%2037.59587806191211%5D%2C%20%5B126.94359054641505%2C%2037.60034871312552%5D%2C%20%5B126.94451473597087%2C%2037.60203195380752%5D%2C%20%5B126.94701525068315%2C%2037.602028095480975%5D%2C%20%5B126.94919787550161%2C%2037.60506379949065%5D%2C%20%5B126.9524752030572%2C%2037.60508692737045%5D%5D%5D%2C%20%22type%22%3A%20%22Polygon%22%7D%2C%20%22properties%22%3A%20%7B%22base_year%22%3A%20%222013%22%2C%20%22code%22%3A%20%2211130%22%2C%20%22name%22%3A%20%22%5Cuc11c%5Cub300%5Cubb38%5Cuad6c%22%2C%20%22name_eng%22%3A%20%22Seodaemun-gu%22%7D%2C%20%22type%22%3A%20%22Feature%22%7D%2C%20%7B%22geometry%22%3A%20%7B%22coordinates%22%3A%20%5B%5B%5B126.9738864128702%2C%2037.62949634786888%5D%2C%20%5B126.97135221665513%2C%2037.62743418897386%5D%2C%20%5B126.96164158910712%2C%2037.62569322976388%5D%2C%20%5B126.95885198650147%2C%2037.6225761621008%5D%2C%20%5B126.95427017006129%2C%2037.622033431339425%5D%2C%20%5B126.95393421039743%2C%2037.61877981567335%5D%2C%20%5B126.9528332649861%2C%2037.6161065117682%5D%2C%20%5B126.95145384404022%2C%2037.61493028446385%5D%2C%20%5B126.95249458941419%2C%2037.61333750249896%5D%2C%20%5B126.95308190738618%2C%2037.60926681659027%5D%2C%20%5B126.95187994741721%2C%2037.60600915874973%5D%2C%20%5B126.9524752030572%2C%2037.60508692737045%5D%2C%20%5B126.94919787550161%2C%2037.60506379949065%5D%2C%20%5B126.94701525068315%2C%2037.602028095480975%5D%2C%20%5B126.94451473597087%2C%2037.60203195380752%5D%2C%20%5B126.94359054641505%2C%2037.60034871312552%5D%2C%20%5B126.94277481511082%2C%2037.59587806191211%5D%2C%20%5B126.93575441237547%2C%2037.593605788596975%5D%2C%20%5B126.93104958440722%2C%2037.58996937993664%5D%2C%20%5B126.92996402426377%2C%2037.58767009299767%5D%2C%20%5B126.9302171100533%2C%2037.58559126746845%5D%2C%20%5B126.9281697003186%2C%2037.584376616028365%5D%2C%20%5B126.92596484570709%2C%2037.58441659356971%5D%2C%20%5B126.92444169370404%2C%2037.581233899739914%5D%2C%20%5B126.91792000144513%2C%2037.58034997804668%5D%2C%20%5B126.91827498278953%2C%2037.58276881451649%5D%2C%20%5B126.91464724464083%2C%2037.583228529985455%5D%2C%20%5B126.90522065831053%2C%2037.57409700522574%5D%2C%20%5B126.90373193212757%2C%2037.573123712282076%5D%2C%20%5B126.90023584510952%2C%2037.575506080437606%5D%2C%20%5B126.89738573904876%2C%2037.578668647687564%5D%2C%20%5B126.89532313269488%2C%2037.579420322822145%5D%2C%20%5B126.89150044994719%2C%2037.58202374305761%5D%2C%20%5B126.88433284773288%2C%2037.588143322880526%5D%2C%20%5B126.88715278104091%2C%2037.59100341655796%5D%2C%20%5B126.88936046370014%2C%2037.59099007316069%5D%2C%20%5B126.88753401663872%2C%2037.58829545592628%5D%2C%20%5B126.88935419108029%2C%2037.58580092310326%5D%2C%20%5B126.89349057571656%2C%2037.585662344444785%5D%2C%20%5B126.89532781702978%2C%2037.58637054299599%5D%2C%20%5B126.89905466698256%2C%2037.58582731337662%5D%2C%20%5B126.9019347597747%2C%2037.58707359614439%5D%2C%20%5B126.9010825805882%2C%2037.58986595756633%5D%2C%20%5B126.90396681003595%2C%2037.59227403419942%5D%2C%20%5B126.90321089756087%2C%2037.594542731935476%5D%2C%20%5B126.90358350094938%2C%2037.59657528019595%5D%2C%20%5B126.90235425214276%2C%2037.60036302950128%5D%2C%20%5B126.90417801431465%2C%2037.60102912046836%5D%2C%20%5B126.90396561274416%2C%2037.60721180273151%5D%2C%20%5B126.90303066177668%2C%2037.609977911401344%5D%2C%20%5B126.90548675623195%2C%2037.61601216482774%5D%2C%20%5B126.90721633741286%2C%2037.6164590533837%5D%2C%20%5B126.90935539569412%2C%2037.61912234588074%5D%2C%20%5B126.90852982623917%2C%2037.62123670148755%5D%2C%20%5B126.91081768678396%2C%2037.62338674837964%5D%2C%20%5B126.91117179533428%2C%2037.62562846875194%5D%2C%20%5B126.90862530043799%2C%2037.62973539928895%5D%2C%20%5B126.91295124779275%2C%2037.633086577991136%5D%2C%20%5B126.91232131977827%2C%2037.635879167956396%5D%2C%20%5B126.91380622398978%2C%2037.63822817856539%5D%2C%20%5B126.91455481429648%2C%2037.64150050996935%5D%2C%20%5B126.9097405206299%2C%2037.643548736416925%5D%2C%20%5B126.9104285840059%2C%2037.64469477594629%5D%2C%20%5B126.91598194662826%2C%2037.64192000919822%5D%2C%20%5B126.92335892549015%2C%2037.642768849393626%5D%2C%20%5B126.92751618877016%2C%2037.644656244616336%5D%2C%20%5B126.93099150738166%2C%2037.64717805899008%5D%2C%20%5B126.93658892420821%2C%2037.64777520545395%5D%2C%20%5B126.93914008753828%2C%2037.64914400014214%5D%2C%20%5B126.94248904852749%2C%2037.65384179343651%5D%2C%20%5B126.94571884127255%2C%2037.655369042036206%5D%2C%20%5B126.94940373004215%2C%2037.656145979585894%5D%2C%20%5B126.94982400027399%2C%2037.65461320918016%5D%2C%20%5B126.95334970767568%2C%2037.65216408903825%5D%2C%20%5B126.956473797387%2C%2037.652480737339445%5D%2C%20%5B126.9588647426878%2C%2037.6498628918019%5D%2C%20%5B126.95972824076269%2C%2037.64638504253487%5D%2C%20%5B126.96223689995006%2C%2037.64553441285544%5D%2C%20%5B126.96424221141602%2C%2037.64071627640099%5D%2C%20%5B126.96652025322855%2C%2037.640285044901944%5D%2C%20%5B126.97092373342322%2C%2037.63589354812246%5D%2C%20%5B126.97086605626453%2C%2037.633738820281394%5D%2C%20%5B126.9738864128702%2C%2037.62949634786888%5D%5D%5D%2C%20%22type%22%3A%20%22Polygon%22%7D%2C%20%22properties%22%3A%20%7B%22base_year%22%3A%20%222013%22%2C%20%22code%22%3A%20%2211120%22%2C%20%22name%22%3A%20%22%5Cuc740%5Cud3c9%5Cuad6c%22%2C%20%22name_eng%22%3A%20%22Eunpyeong-gu%22%7D%2C%20%22type%22%3A%20%22Feature%22%7D%2C%20%7B%22geometry%22%3A%20%7B%22coordinates%22%3A%20%5B%5B%5B127.10782277688129%2C%2037.61804244241069%5D%2C%20%5B127.10361952102048%2C%2037.61701182935077%5D%2C%20%5B127.10191523948123%2C%2037.61531698025357%5D%2C%20%5B127.09825969127313%2C%2037.61431077622918%5D%2C%20%5B127.09125855705382%2C%2037.61703046232404%5D%2C%20%5B127.08796048322492%2C%2037.617471883010936%5D%2C%20%5B127.08325130652017%2C%2037.61626773063051%5D%2C%20%5B127.07351243825278%2C%2037.61283660342313%5D%2C%20%5B127.07011594002495%2C%2037.6127769191002%5D%2C%20%5B127.06726783142085%2C%2037.61136014256744%5D%2C%20%5B127.06412260483201%2C%2037.6115839902766%5D%2C%20%5B127.05631594723272%2C%2037.61738373018764%5D%2C%20%5B127.05209373568619%2C%2037.62164065487782%5D%2C%20%5B127.04999984182327%2C%2037.62412061598568%5D%2C%20%5B127.04358800895609%2C%2037.62848931298715%5D%2C%20%5B127.046042857549%2C%2037.630647660209426%5D%2C%20%5B127.0471214260595%2C%2037.63407841321815%5D%2C%20%5B127.05227148282157%2C%2037.642016305290156%5D%2C%20%5B127.05704472959141%2C%2037.63797342537787%5D%2C%20%5B127.05800075220091%2C%2037.64318263878276%5D%2C%20%5B127.05640030258566%2C%2037.648142414223344%5D%2C%20%5B127.05620364700786%2C%2037.65295201497795%5D%2C%20%5B127.05366382763933%2C%2037.65780685245659%5D%2C%20%5B127.05343284205686%2C%2037.660866393548005%5D%2C%20%5B127.05093085431419%2C%2037.666308257661356%5D%2C%20%5B127.05124324520023%2C%2037.6703356616521%5D%2C%20%5B127.05259811896667%2C%2037.67463041579101%5D%2C%20%5B127.05402878877452%2C%2037.682018621183914%5D%2C%20%5B127.05288479710485%2C%2037.68423857084347%5D%2C%20%5B127.05673771202906%2C%2037.68650223136443%5D%2C%20%5B127.05893512852644%2C%2037.68678532745334%5D%2C%20%5B127.06366923747898%2C%2037.68598834805241%5D%2C%20%5B127.06722106517597%2C%2037.68706409219909%5D%2C%20%5B127.07150256171397%2C%2037.69158365999211%5D%2C%20%5B127.07502582169255%2C%2037.691675325399515%5D%2C%20%5B127.07945174893383%2C%2037.693602239076704%5D%2C%20%5B127.0838752703195%2C%2037.69359534202034%5D%2C%20%5B127.08640047239444%2C%2037.69122798275615%5D%2C%20%5B127.08834747450551%2C%2037.68753106067129%5D%2C%20%5B127.09706391309695%2C%2037.686383719372294%5D%2C%20%5B127.09839746601683%2C%2037.682954904948026%5D%2C%20%5B127.09481040538887%2C%2037.678799295731295%5D%2C%20%5B127.0939394572467%2C%2037.676403111386776%5D%2C%20%5B127.09572273018789%2C%2037.673837879820674%5D%2C%20%5B127.09657954289648%2C%2037.670746511824845%5D%2C%20%5B127.09767362583241%2C%2037.67002252402865%5D%2C%20%5B127.0980220884148%2C%2037.66742967749355%5D%2C%20%5B127.09621282296045%2C%2037.66347990019021%5D%2C%20%5B127.09845931549125%2C%2037.659077182069595%5D%2C%20%5B127.0978618070161%2C%2037.656734861475485%5D%2C%20%5B127.08845241642267%2C%2037.65271564775536%5D%2C%20%5B127.09496093471334%2C%2037.65209266377008%5D%2C%20%5B127.09618835483448%2C%2037.65001330395237%5D%2C%20%5B127.09440766298717%2C%2037.64713490473045%5D%2C%20%5B127.09686381732382%2C%2037.642772590812655%5D%2C%20%5B127.10024317327698%2C%2037.642337895238754%5D%2C%20%5B127.10266382494892%2C%2037.64291284604662%5D%2C%20%5B127.11014084969742%2C%2037.641850613893396%5D%2C%20%5B127.11406637789241%2C%2037.63742154695932%5D%2C%20%5B127.1144974746579%2C%2037.632439003890255%5D%2C%20%5B127.11309628774731%2C%2037.627803407908374%5D%2C%20%5B127.10737639048635%2C%2037.62412346388371%5D%2C%20%5B127.10736111050278%2C%2037.62243873312504%5D%2C%20%5B127.10561964188106%2C%2037.620112931875134%5D%2C%20%5B127.10782277688129%2C%2037.61804244241069%5D%5D%5D%2C%20%22type%22%3A%20%22Polygon%22%7D%2C%20%22properties%22%3A%20%7B%22base_year%22%3A%20%222013%22%2C%20%22code%22%3A%20%2211110%22%2C%20%22name%22%3A%20%22%5Cub178%5Cuc6d0%5Cuad6c%22%2C%20%22name_eng%22%3A%20%22Nowon-gu%22%7D%2C%20%22type%22%3A%20%22Feature%22%7D%2C%20%7B%22geometry%22%3A%20%7B%22coordinates%22%3A%20%5B%5B%5B127.05288479710485%2C%2037.68423857084347%5D%2C%20%5B127.05402878877452%2C%2037.682018621183914%5D%2C%20%5B127.05259811896667%2C%2037.67463041579101%5D%2C%20%5B127.05124324520023%2C%2037.6703356616521%5D%2C%20%5B127.05093085431419%2C%2037.666308257661356%5D%2C%20%5B127.05343284205686%2C%2037.660866393548005%5D%2C%20%5B127.05366382763933%2C%2037.65780685245659%5D%2C%20%5B127.05620364700786%2C%2037.65295201497795%5D%2C%20%5B127.05640030258566%2C%2037.648142414223344%5D%2C%20%5B127.05800075220091%2C%2037.64318263878276%5D%2C%20%5B127.05704472959141%2C%2037.63797342537787%5D%2C%20%5B127.05227148282157%2C%2037.642016305290156%5D%2C%20%5B127.0471214260595%2C%2037.63407841321815%5D%2C%20%5B127.046042857549%2C%2037.630647660209426%5D%2C%20%5B127.04358800895609%2C%2037.62848931298715%5D%2C%20%5B127.04058571489718%2C%2037.6311245692538%5D%2C%20%5B127.03905574421407%2C%2037.63395360172076%5D%2C%20%5B127.03660759925259%2C%2037.63506293914692%5D%2C%20%5B127.03477664182829%2C%2037.63884292238491%5D%2C%20%5B127.02950136469548%2C%2037.64228467033725%5D%2C%20%5B127.0265542519312%2C%2037.644688649276304%5D%2C%20%5B127.02233660280599%2C%2037.64628067142158%5D%2C%20%5B127.01772305897457%2C%2037.64631597694605%5D%2C%20%5B127.01534913067235%2C%2037.64765266597785%5D%2C%20%5B127.01465935892466%2C%2037.64943687496812%5D%2C%20%5B127.01599412132472%2C%2037.65623256113309%5D%2C%20%5B127.01726703299362%2C%2037.65880555518138%5D%2C%20%5B127.01776269066357%2C%2037.66391319760785%5D%2C%20%5B127.02062116141389%2C%2037.667173575971205%5D%2C%20%5B127.01873683359163%2C%2037.66988242479123%5D%2C%20%5B127.0159718440919%2C%2037.67258796420281%5D%2C%20%5B127.01401600772708%2C%2037.67653037200686%5D%2C%20%5B127.01073060671976%2C%2037.67694372299732%5D%2C%20%5B127.01039666042071%2C%2037.681894589603594%5D%2C%20%5B127.01103947380624%2C%2037.684405447624954%5D%2C%20%5B127.01017954927539%2C%2037.686333239654594%5D%2C%20%5B127.0109997247323%2C%2037.691942369792514%5D%2C%20%5B127.01405303313638%2C%2037.69546278140397%5D%2C%20%5B127.01645586375106%2C%2037.69548055092485%5D%2C%20%5B127.01802453368332%2C%2037.698275937456124%5D%2C%20%5B127.02143522814708%2C%2037.698589417759045%5D%2C%20%5B127.02419558273166%2C%2037.69682256792619%5D%2C%20%5B127.02700292435075%2C%2037.69665589205863%5D%2C%20%5B127.03018866626446%2C%2037.69776745888886%5D%2C%20%5B127.03132724235057%2C%2037.69621818994332%5D%2C%20%5B127.03183574218306%2C%2037.69340418484943%5D%2C%20%5B127.03328657751797%2C%2037.69010729962784%5D%2C%20%5B127.0345286215439%2C%2037.688986544260594%5D%2C%20%5B127.0379422140845%2C%2037.68943836856245%5D%2C%20%5B127.04383030416193%2C%2037.692565730249534%5D%2C%20%5B127.04510703173885%2C%2037.690951514278055%5D%2C%20%5B127.04772506731972%2C%2037.68962174626068%5D%2C%20%5B127.05108189294938%2C%2037.69116379209157%5D%2C%20%5B127.05288479710485%2C%2037.68423857084347%5D%5D%5D%2C%20%22type%22%3A%20%22Polygon%22%7D%2C%20%22properties%22%3A%20%7B%22base_year%22%3A%20%222013%22%2C%20%22code%22%3A%20%2211100%22%2C%20%22name%22%3A%20%22%5Cub3c4%5Cubd09%5Cuad6c%22%2C%20%22name_eng%22%3A%20%22Dobong-gu%22%7D%2C%20%22type%22%3A%20%22Feature%22%7D%2C%20%7B%22geometry%22%3A%20%7B%22coordinates%22%3A%20%5B%5B%5B127.01039666042071%2C%2037.681894589603594%5D%2C%20%5B127.01073060671976%2C%2037.67694372299732%5D%2C%20%5B127.01401600772708%2C%2037.67653037200686%5D%2C%20%5B127.0159718440919%2C%2037.67258796420281%5D%2C%20%5B127.01873683359163%2C%2037.66988242479123%5D%2C%20%5B127.02062116141389%2C%2037.667173575971205%5D%2C%20%5B127.01776269066357%2C%2037.66391319760785%5D%2C%20%5B127.01726703299362%2C%2037.65880555518138%5D%2C%20%5B127.01599412132472%2C%2037.65623256113309%5D%2C%20%5B127.01465935892466%2C%2037.64943687496812%5D%2C%20%5B127.01534913067235%2C%2037.64765266597785%5D%2C%20%5B127.01772305897457%2C%2037.64631597694605%5D%2C%20%5B127.02233660280599%2C%2037.64628067142158%5D%2C%20%5B127.0265542519312%2C%2037.644688649276304%5D%2C%20%5B127.02950136469548%2C%2037.64228467033725%5D%2C%20%5B127.03477664182829%2C%2037.63884292238491%5D%2C%20%5B127.03660759925259%2C%2037.63506293914692%5D%2C%20%5B127.03905574421407%2C%2037.63395360172076%5D%2C%20%5B127.04058571489718%2C%2037.6311245692538%5D%2C%20%5B127.04358800895609%2C%2037.62848931298715%5D%2C%20%5B127.04999984182327%2C%2037.62412061598568%5D%2C%20%5B127.05209373568619%2C%2037.62164065487782%5D%2C%20%5B127.04887981022048%2C%2037.61973841113549%5D%2C%20%5B127.0460676006384%2C%2037.615885647801704%5D%2C%20%5B127.0419720518426%2C%2037.612838591864076%5D%2C%20%5B127.03892400992301%2C%2037.609715611023816%5D%2C%20%5B127.03251659844592%2C%2037.60634705009134%5D%2C%20%5B127.03229982090541%2C%2037.609536104167034%5D%2C%20%5B127.02851994524015%2C%2037.60987827182396%5D%2C%20%5B127.02433990415497%2C%2037.60847763545628%5D%2C%20%5B127.02136282940177%2C%2037.610961475137174%5D%2C%20%5B127.01685658093551%2C%2037.61280115359516%5D%2C%20%5B127.0128154749523%2C%2037.613652243470256%5D%2C%20%5B127.01060611893628%2C%2037.615741236385354%5D%2C%20%5B127.00960949401902%2C%2037.61822603840364%5D%2C%20%5B127.00997935126598%2C%2037.62111906051553%5D%2C%20%5B127.00210238658002%2C%2037.622984514557714%5D%2C%20%5B126.99867431516041%2C%2037.626297613391166%5D%2C%20%5B126.99614706382866%2C%2037.62719717129899%5D%2C%20%5B126.99529660787617%2C%2037.62923863577322%5D%2C%20%5B126.9933714170822%2C%2037.62922019292486%5D%2C%20%5B126.9877052521691%2C%2037.63265610340949%5D%2C%20%5B126.98672705513869%2C%2037.63377641288196%5D%2C%20%5B126.98826481934299%2C%2037.637416984207924%5D%2C%20%5B126.98537069512379%2C%2037.64080296617396%5D%2C%20%5B126.987065858581%2C%2037.64320008084445%5D%2C%20%5B126.98580395043626%2C%2037.64699767714015%5D%2C%20%5B126.9832621473545%2C%2037.64947328029498%5D%2C%20%5B126.9817452676551%2C%2037.65209769387776%5D%2C%20%5B126.98205504313285%2C%2037.653797128044495%5D%2C%20%5B126.98709809733522%2C%2037.65651691642121%5D%2C%20%5B126.99031779354014%2C%2037.661013121145366%5D%2C%20%5B126.99494735642686%2C%2037.66223870806347%5D%2C%20%5B126.99581225370686%2C%2037.6651171428027%5D%2C%20%5B126.99622950422442%2C%2037.669428820661516%5D%2C%20%5B126.99506026831365%2C%2037.674827885285765%5D%2C%20%5B126.99384134064161%2C%2037.67665247641944%5D%2C%20%5B126.9959894573757%2C%2037.67754299691771%5D%2C%20%5B127.00000021675876%2C%2037.68100582640454%5D%2C%20%5B127.00566931208934%2C%2037.68228507374621%5D%2C%20%5B127.01039666042071%2C%2037.681894589603594%5D%5D%5D%2C%20%22type%22%3A%20%22Polygon%22%7D%2C%20%22properties%22%3A%20%7B%22base_year%22%3A%20%222013%22%2C%20%22code%22%3A%20%2211090%22%2C%20%22name%22%3A%20%22%5Cuac15%5Cubd81%5Cuad6c%22%2C%20%22name_eng%22%3A%20%22Gangbuk-gu%22%7D%2C%20%22type%22%3A%20%22Feature%22%7D%2C%20%7B%22geometry%22%3A%20%7B%22coordinates%22%3A%20%5B%5B%5B126.977175406416%2C%2037.62859715400388%5D%2C%20%5B126.9794090069433%2C%2037.63071544568365%5D%2C%20%5B126.98360012419735%2C%2037.631915771386076%5D%2C%20%5B126.98672705513869%2C%2037.63377641288196%5D%2C%20%5B126.9877052521691%2C%2037.63265610340949%5D%2C%20%5B126.9933714170822%2C%2037.62922019292486%5D%2C%20%5B126.99529660787617%2C%2037.62923863577322%5D%2C%20%5B126.99614706382866%2C%2037.62719717129899%5D%2C%20%5B126.99867431516041%2C%2037.626297613391166%5D%2C%20%5B127.00210238658002%2C%2037.622984514557714%5D%2C%20%5B127.00997935126598%2C%2037.62111906051553%5D%2C%20%5B127.00960949401902%2C%2037.61822603840364%5D%2C%20%5B127.01060611893628%2C%2037.615741236385354%5D%2C%20%5B127.0128154749523%2C%2037.613652243470256%5D%2C%20%5B127.01685658093551%2C%2037.61280115359516%5D%2C%20%5B127.02136282940177%2C%2037.610961475137174%5D%2C%20%5B127.02433990415497%2C%2037.60847763545628%5D%2C%20%5B127.02851994524015%2C%2037.60987827182396%5D%2C%20%5B127.03229982090541%2C%2037.609536104167034%5D%2C%20%5B127.03251659844592%2C%2037.60634705009134%5D%2C%20%5B127.03892400992301%2C%2037.609715611023816%5D%2C%20%5B127.0419720518426%2C%2037.612838591864076%5D%2C%20%5B127.0460676006384%2C%2037.615885647801704%5D%2C%20%5B127.04887981022048%2C%2037.61973841113549%5D%2C%20%5B127.05209373568619%2C%2037.62164065487782%5D%2C%20%5B127.05631594723272%2C%2037.61738373018764%5D%2C%20%5B127.06412260483201%2C%2037.6115839902766%5D%2C%20%5B127.06726783142085%2C%2037.61136014256744%5D%2C%20%5B127.07011594002495%2C%2037.6127769191002%5D%2C%20%5B127.07351243825278%2C%2037.61283660342313%5D%2C%20%5B127.07382707099227%2C%2037.60401928986419%5D%2C%20%5B127.07257736686556%2C%2037.60654335765868%5D%2C%20%5B127.07069716820665%2C%2037.60653037341939%5D%2C%20%5B127.07084342033339%2C%2037.60407877132597%5D%2C%20%5B127.06753185518703%2C%2037.602724214598744%5D%2C%20%5B127.06424828533608%2C%2037.60234356864383%5D%2C%20%5B127.0612685122857%2C%2037.59823077263369%5D%2C%20%5B127.059485363799%2C%2037.598743571420485%5D%2C%20%5B127.05413734593897%2C%2037.5971595374718%5D%2C%20%5B127.05238061017225%2C%2037.598312271275574%5D%2C%20%5B127.04975439355248%2C%2037.59349421284317%5D%2C%20%5B127.0461318196879%2C%2037.593514180513594%5D%2C%20%5B127.042705222094%2C%2037.59239437593391%5D%2C%20%5B127.04116895171082%2C%2037.58847599306138%5D%2C%20%5B127.0384945038446%2C%2037.587129138658426%5D%2C%20%5B127.03121630347839%2C%2037.57957997701485%5D%2C%20%5B127.02527254528003%2C%2037.57524616245249%5D%2C%20%5B127.02395698453867%2C%2037.576068086896726%5D%2C%20%5B127.02039107536422%2C%2037.575771872553595%5D%2C%20%5B127.01849412471284%2C%2037.57904760334465%5D%2C%20%5B127.01678966486051%2C%2037.57943162455397%5D%2C%20%5B127.01094467951529%2C%2037.57765758282494%5D%2C%20%5B127.00914513999258%2C%2037.57928387879304%5D%2C%20%5B127.00896672237498%2C%2037.582512606964876%5D%2C%20%5B127.00803641804285%2C%2037.5841154647404%5D%2C%20%5B127.00453322588274%2C%2037.58626325611708%5D%2C%20%5B127.00304474231643%2C%2037.58959898679736%5D%2C%20%5B126.99774058571116%2C%2037.58944568945197%5D%2C%20%5B126.99647930158565%2C%2037.58845217708608%5D%2C%20%5B126.99348293358314%2C%2037.588565457216156%5D%2C%20%5B126.98858114244759%2C%2037.58971272682123%5D%2C%20%5B126.98596926877026%2C%2037.59105697466976%5D%2C%20%5B126.98411250331745%2C%2037.59305007059415%5D%2C%20%5B126.98366752610544%2C%2037.596350797276386%5D%2C%20%5B126.98700989661556%2C%2037.59664611897289%5D%2C%20%5B126.98984276495587%2C%2037.59842301677683%5D%2C%20%5B126.9880021251863%2C%2037.60434406739665%5D%2C%20%5B126.98906118629816%2C%2037.60778324866486%5D%2C%20%5B126.98879865992384%2C%2037.6118927319756%5D%2C%20%5B126.9849070918475%2C%2037.61390303132951%5D%2C%20%5B126.98297129719916%2C%2037.61996223346171%5D%2C%20%5B126.98130955822086%2C%2037.621781567952816%5D%2C%20%5B126.98162508963613%2C%2037.626412913357804%5D%2C%20%5B126.97877284074367%2C%2037.62605559220399%5D%2C%20%5B126.977175406416%2C%2037.62859715400388%5D%5D%5D%2C%20%22type%22%3A%20%22Polygon%22%7D%2C%20%22properties%22%3A%20%7B%22base_year%22%3A%20%222013%22%2C%20%22code%22%3A%20%2211080%22%2C%20%22name%22%3A%20%22%5Cuc131%5Cubd81%5Cuad6c%22%2C%20%22name_eng%22%3A%20%22Seongbuk-gu%22%7D%2C%20%22type%22%3A%20%22Feature%22%7D%2C%20%7B%22geometry%22%3A%20%7B%22coordinates%22%3A%20%5B%5B%5B127.07351243825278%2C%2037.61283660342313%5D%2C%20%5B127.08325130652017%2C%2037.61626773063051%5D%2C%20%5B127.08796048322492%2C%2037.617471883010936%5D%2C%20%5B127.09125855705382%2C%2037.61703046232404%5D%2C%20%5B127.09825969127313%2C%2037.61431077622918%5D%2C%20%5B127.10191523948123%2C%2037.61531698025357%5D%2C%20%5B127.10361952102048%2C%2037.61701182935077%5D%2C%20%5B127.10782277688129%2C%2037.61804244241069%5D%2C%20%5B127.11345331993296%2C%2037.617863842655304%5D%2C%20%5B127.11916337651404%2C%2037.615000227833356%5D%2C%20%5B127.1187755615964%2C%2037.61339189160851%5D%2C%20%5B127.11970006573152%2C%2037.60891483985411%5D%2C%20%5B127.11876125411283%2C%2037.606109446640644%5D%2C%20%5B127.12043057261968%2C%2037.60482121408794%5D%2C%20%5B127.1201246020114%2C%2037.60178457598188%5D%2C%20%5B127.11594480655864%2C%2037.59717030173888%5D%2C%20%5B127.1161657841268%2C%2037.5962121213837%5D%2C%20%5B127.12048134936907%2C%2037.59221917979044%5D%2C%20%5B127.11993709114493%2C%2037.5912110652886%5D%2C%20%5B127.11547153661459%2C%2037.590528329194775%5D%2C%20%5B127.11264015185725%2C%2037.58640964166709%5D%2C%20%5B127.11144053497418%2C%2037.58186897928644%5D%2C%20%5B127.10355419751173%2C%2037.58101570870827%5D%2C%20%5B127.10488038804347%2C%2037.57896712496416%5D%2C%20%5B127.10478332632734%2C%2037.575507303239235%5D%2C%20%5B127.10316405057817%2C%2037.57293156986855%5D%2C%20%5B127.10304174249214%2C%2037.57076342290955%5D%2C%20%5B127.1015990771266%2C%2037.56973288819573%5D%2C%20%5B127.09327554832984%2C%2037.566762290300666%5D%2C%20%5B127.08553261581505%2C%2037.56856310839328%5D%2C%20%5B127.08068541280403%2C%2037.56906425519017%5D%2C%20%5B127.08029626481297%2C%2037.57521980955321%5D%2C%20%5B127.07912345005859%2C%2037.57855657914261%5D%2C%20%5B127.07327401376529%2C%2037.585954498442064%5D%2C%20%5B127.07152840437725%2C%2037.593413161750675%5D%2C%20%5B127.07216156147413%2C%2037.59537631888819%5D%2C%20%5B127.07457336676376%2C%2037.5983180561341%5D%2C%20%5B127.07481016030349%2C%2037.60000012932336%5D%2C%20%5B127.07382707099227%2C%2037.60401928986419%5D%2C%20%5B127.07351243825278%2C%2037.61283660342313%5D%5D%5D%2C%20%22type%22%3A%20%22Polygon%22%7D%2C%20%22properties%22%3A%20%7B%22base_year%22%3A%20%222013%22%2C%20%22code%22%3A%20%2211070%22%2C%20%22name%22%3A%20%22%5Cuc911%5Cub791%5Cuad6c%22%2C%20%22name_eng%22%3A%20%22Jungnang-gu%22%7D%2C%20%22type%22%3A%20%22Feature%22%7D%2C%20%7B%22geometry%22%3A%20%7B%22coordinates%22%3A%20%5B%5B%5B127.02527254528003%2C%2037.57524616245249%5D%2C%20%5B127.03121630347839%2C%2037.57957997701485%5D%2C%20%5B127.0384945038446%2C%2037.587129138658426%5D%2C%20%5B127.04116895171082%2C%2037.58847599306138%5D%2C%20%5B127.042705222094%2C%2037.59239437593391%5D%2C%20%5B127.0461318196879%2C%2037.593514180513594%5D%2C%20%5B127.04975439355248%2C%2037.59349421284317%5D%2C%20%5B127.05238061017225%2C%2037.598312271275574%5D%2C%20%5B127.05413734593897%2C%2037.5971595374718%5D%2C%20%5B127.059485363799%2C%2037.598743571420485%5D%2C%20%5B127.0612685122857%2C%2037.59823077263369%5D%2C%20%5B127.06424828533608%2C%2037.60234356864383%5D%2C%20%5B127.06753185518703%2C%2037.602724214598744%5D%2C%20%5B127.07084342033339%2C%2037.60407877132597%5D%2C%20%5B127.07069716820665%2C%2037.60653037341939%5D%2C%20%5B127.07257736686556%2C%2037.60654335765868%5D%2C%20%5B127.07382707099227%2C%2037.60401928986419%5D%2C%20%5B127.07481016030349%2C%2037.60000012932336%5D%2C%20%5B127.07457336676376%2C%2037.5983180561341%5D%2C%20%5B127.07216156147413%2C%2037.59537631888819%5D%2C%20%5B127.07152840437725%2C%2037.593413161750675%5D%2C%20%5B127.07327401376529%2C%2037.585954498442064%5D%2C%20%5B127.07912345005859%2C%2037.57855657914261%5D%2C%20%5B127.08029626481297%2C%2037.57521980955321%5D%2C%20%5B127.08068541280403%2C%2037.56906425519017%5D%2C%20%5B127.07421053024362%2C%2037.55724769712085%5D%2C%20%5B127.07287485628252%2C%2037.55777591771644%5D%2C%20%5B127.06151678590773%2C%2037.55942885203987%5D%2C%20%5B127.06031059899311%2C%2037.55992251180729%5D%2C%20%5B127.05005601081567%2C%2037.567577612590846%5D%2C%20%5B127.0442866611438%2C%2037.57022476304866%5D%2C%20%5B127.04003329296518%2C%2037.57010227772625%5D%2C%20%5B127.03483042272745%2C%2037.567549767306716%5D%2C%20%5B127.03182413083377%2C%2037.56712900013391%5D%2C%20%5B127.02547266349976%2C%2037.568943552237734%5D%2C%20%5B127.02527254528003%2C%2037.57524616245249%5D%5D%5D%2C%20%22type%22%3A%20%22Polygon%22%7D%2C%20%22properties%22%3A%20%7B%22base_year%22%3A%20%222013%22%2C%20%22code%22%3A%20%2211060%22%2C%20%22name%22%3A%20%22%5Cub3d9%5Cub300%5Cubb38%5Cuad6c%22%2C%20%22name_eng%22%3A%20%22Dongdaemun-gu%22%7D%2C%20%22type%22%3A%20%22Feature%22%7D%2C%20%7B%22geometry%22%3A%20%7B%22coordinates%22%3A%20%5B%5B%5B127.08068541280403%2C%2037.56906425519017%5D%2C%20%5B127.08553261581505%2C%2037.56856310839328%5D%2C%20%5B127.09327554832984%2C%2037.566762290300666%5D%2C%20%5B127.1015990771266%2C%2037.56973288819573%5D%2C%20%5B127.10304174249214%2C%2037.57076342290955%5D%2C%20%5B127.10627148043552%2C%2037.568124945986824%5D%2C%20%5B127.10545359063936%2C%2037.56685230388649%5D%2C%20%5B127.10407152037101%2C%2037.55958871940823%5D%2C%20%5B127.10325742736646%2C%2037.5572251707506%5D%2C%20%5B127.11270952006532%2C%2037.55702358575743%5D%2C%20%5B127.11519584981606%2C%2037.557533180704915%5D%2C%20%5B127.11600943681239%2C%2037.55580061507081%5D%2C%20%5B127.11600200349189%2C%2037.55053147511706%5D%2C%20%5B127.11418412219375%2C%2037.54474592090681%5D%2C%20%5B127.1116764203608%2C%2037.540669955324965%5D%2C%20%5B127.10484130265957%2C%2037.53120327509912%5D%2C%20%5B127.10087519791962%2C%2037.524841220167055%5D%2C%20%5B127.0943611414465%2C%2037.523984206117525%5D%2C%20%5B127.08639455667742%2C%2037.52161824624356%5D%2C%20%5B127.07968915919895%2C%2037.52077294752823%5D%2C%20%5B127.07496309841329%2C%2037.52091052765938%5D%2C%20%5B127.0690698130372%2C%2037.522279423505026%5D%2C%20%5B127.05867359288398%2C%2037.52629974922568%5D%2C%20%5B127.06896218881212%2C%2037.544361436565524%5D%2C%20%5B127.07580697427795%2C%2037.556641581290656%5D%2C%20%5B127.07421053024362%2C%2037.55724769712085%5D%2C%20%5B127.08068541280403%2C%2037.56906425519017%5D%5D%5D%2C%20%22type%22%3A%20%22Polygon%22%7D%2C%20%22properties%22%3A%20%7B%22base_year%22%3A%20%222013%22%2C%20%22code%22%3A%20%2211050%22%2C%20%22name%22%3A%20%22%5Cuad11%5Cuc9c4%5Cuad6c%22%2C%20%22name_eng%22%3A%20%22Gwangjin-gu%22%7D%2C%20%22type%22%3A%20%22Feature%22%7D%2C%20%7B%22geometry%22%3A%20%7B%22coordinates%22%3A%20%5B%5B%5B127.02547266349976%2C%2037.568943552237734%5D%2C%20%5B127.03182413083377%2C%2037.56712900013391%5D%2C%20%5B127.03483042272745%2C%2037.567549767306716%5D%2C%20%5B127.04003329296518%2C%2037.57010227772625%5D%2C%20%5B127.0442866611438%2C%2037.57022476304866%5D%2C%20%5B127.05005601081567%2C%2037.567577612590846%5D%2C%20%5B127.06031059899311%2C%2037.55992251180729%5D%2C%20%5B127.06151678590773%2C%2037.55942885203987%5D%2C%20%5B127.07287485628252%2C%2037.55777591771644%5D%2C%20%5B127.07421053024362%2C%2037.55724769712085%5D%2C%20%5B127.07580697427795%2C%2037.556641581290656%5D%2C%20%5B127.06896218881212%2C%2037.544361436565524%5D%2C%20%5B127.05867359288398%2C%2037.52629974922568%5D%2C%20%5B127.05116490008963%2C%2037.52975116557232%5D%2C%20%5B127.04903802830752%2C%2037.53140496708317%5D%2C%20%5B127.04806779588436%2C%2037.52970198575087%5D%2C%20%5B127.0319617044248%2C%2037.536064291470424%5D%2C%20%5B127.0269608080842%2C%2037.53484752757724%5D%2C%20%5B127.02302831890559%2C%2037.53231899582663%5D%2C%20%5B127.01689265453608%2C%2037.536101393926174%5D%2C%20%5B127.01157414590769%2C%2037.53677688273679%5D%2C%20%5B127.01043978345277%2C%2037.53905983303592%5D%2C%20%5B127.01070894177482%2C%2037.54118048964762%5D%2C%20%5B127.01172101406588%2C%2037.545252245650516%5D%2C%20%5B127.01376082027429%2C%2037.54571276061997%5D%2C%20%5B127.01889368846282%2C%2037.55057696424215%5D%2C%20%5B127.01951516360089%2C%2037.55318470254581%5D%2C%20%5B127.02174792168286%2C%2037.55473509405241%5D%2C%20%5B127.02496143707425%2C%2037.555070476260596%5D%2C%20%5B127.0257913546443%2C%2037.558352834264504%5D%2C%20%5B127.02836991434461%2C%2037.56019645010606%5D%2C%20%5B127.02881029425372%2C%2037.56219283885279%5D%2C%20%5B127.02571971403893%2C%2037.56237200595601%5D%2C%20%5B127.02547266349976%2C%2037.568943552237734%5D%5D%5D%2C%20%22type%22%3A%20%22Polygon%22%7D%2C%20%22properties%22%3A%20%7B%22base_year%22%3A%20%222013%22%2C%20%22code%22%3A%20%2211040%22%2C%20%22name%22%3A%20%22%5Cuc131%5Cub3d9%5Cuad6c%22%2C%20%22name_eng%22%3A%20%22Seongdong-gu%22%7D%2C%20%22type%22%3A%20%22Feature%22%7D%2C%20%7B%22geometry%22%3A%20%7B%22coordinates%22%3A%20%5B%5B%5B127.01070894177482%2C%2037.54118048964762%5D%2C%20%5B127.01043978345277%2C%2037.53905983303592%5D%2C%20%5B127.01157414590769%2C%2037.53677688273679%5D%2C%20%5B127.01689265453608%2C%2037.536101393926174%5D%2C%20%5B127.02302831890559%2C%2037.53231899582663%5D%2C%20%5B127.01397119667513%2C%2037.52503988289669%5D%2C%20%5B127.01022186960886%2C%2037.522020085671926%5D%2C%20%5B127.00818058911564%2C%2037.51877313923874%5D%2C%20%5B127.00583392114271%2C%2037.516905128452926%5D%2C%20%5B127.00011962020382%2C%2037.513901653034374%5D%2C%20%5B126.99148001917875%2C%2037.50990503427709%5D%2C%20%5B126.98948242685965%2C%2037.5108780134613%5D%2C%20%5B126.98458580602838%2C%2037.51070333105394%5D%2C%20%5B126.98223807916081%2C%2037.509314966770326%5D%2C%20%5B126.96670111119346%2C%2037.50997579058433%5D%2C%20%5B126.95950268374823%2C%2037.51249532165974%5D%2C%20%5B126.95551848909955%2C%2037.514736123015844%5D%2C%20%5B126.95249990298159%2C%2037.51722500741813%5D%2C%20%5B126.95003825019774%2C%2037.520781022055274%5D%2C%20%5B126.9488066464266%2C%2037.52424913252661%5D%2C%20%5B126.94566733083212%2C%2037.526617542453366%5D%2C%20%5B126.94717864071288%2C%2037.53213495568077%5D%2C%20%5B126.95340780191557%2C%2037.533494726370755%5D%2C%20%5B126.95926437828754%2C%2037.53897908363236%5D%2C%20%5B126.9605977865388%2C%2037.542661954880806%5D%2C%20%5B126.96231305253527%2C%2037.543511558047456%5D%2C%20%5B126.96401856825223%2C%2037.54584596959762%5D%2C%20%5B126.96604189284825%2C%2037.546894141748815%5D%2C%20%5B126.96448570553055%2C%2037.548705692021635%5D%2C%20%5B126.96782902931233%2C%2037.55132047039716%5D%2C%20%5B126.97427174983227%2C%2037.55109017579016%5D%2C%20%5B126.97859017732588%2C%2037.550336476582174%5D%2C%20%5B126.97925452152829%2C%2037.552184137181925%5D%2C%20%5B126.98262900956787%2C%2037.5506055959842%5D%2C%20%5B126.98584427779701%2C%2037.55023778139842%5D%2C%20%5B126.98752996903328%2C%2037.55094818807139%5D%2C%20%5B126.9899124474417%2C%2037.54869376545355%5D%2C%20%5B126.99238536723166%2C%2037.54862980831976%5D%2C%20%5B126.99742220893982%2C%2037.544438365587226%5D%2C%20%5B127.00062378484931%2C%2037.54713274618077%5D%2C%20%5B127.00478682371764%2C%2037.54680216333233%5D%2C%20%5B127.00632779182564%2C%2037.54757707053058%5D%2C%20%5B127.00694507580798%2C%2037.5433832956489%5D%2C%20%5B127.00936066823724%2C%2037.54101133407434%5D%2C%20%5B127.01070894177482%2C%2037.54118048964762%5D%5D%5D%2C%20%22type%22%3A%20%22Polygon%22%7D%2C%20%22properties%22%3A%20%7B%22base_year%22%3A%20%222013%22%2C%20%22code%22%3A%20%2211030%22%2C%20%22name%22%3A%20%22%5Cuc6a9%5Cuc0b0%5Cuad6c%22%2C%20%22name_eng%22%3A%20%22Yongsan-gu%22%7D%2C%20%22type%22%3A%20%22Feature%22%7D%2C%20%7B%22geometry%22%3A%20%7B%22coordinates%22%3A%20%5B%5B%5B127.02547266349976%2C%2037.568943552237734%5D%2C%20%5B127.02571971403893%2C%2037.56237200595601%5D%2C%20%5B127.02881029425372%2C%2037.56219283885279%5D%2C%20%5B127.02836991434461%2C%2037.56019645010606%5D%2C%20%5B127.0257913546443%2C%2037.558352834264504%5D%2C%20%5B127.02496143707425%2C%2037.555070476260596%5D%2C%20%5B127.02174792168286%2C%2037.55473509405241%5D%2C%20%5B127.01951516360089%2C%2037.55318470254581%5D%2C%20%5B127.01889368846282%2C%2037.55057696424215%5D%2C%20%5B127.01376082027429%2C%2037.54571276061997%5D%2C%20%5B127.01172101406588%2C%2037.545252245650516%5D%2C%20%5B127.01070894177482%2C%2037.54118048964762%5D%2C%20%5B127.00936066823724%2C%2037.54101133407434%5D%2C%20%5B127.00694507580798%2C%2037.5433832956489%5D%2C%20%5B127.00632779182564%2C%2037.54757707053058%5D%2C%20%5B127.00478682371764%2C%2037.54680216333233%5D%2C%20%5B127.00062378484931%2C%2037.54713274618077%5D%2C%20%5B126.99742220893982%2C%2037.544438365587226%5D%2C%20%5B126.99238536723166%2C%2037.54862980831976%5D%2C%20%5B126.9899124474417%2C%2037.54869376545355%5D%2C%20%5B126.98752996903328%2C%2037.55094818807139%5D%2C%20%5B126.98584427779701%2C%2037.55023778139842%5D%2C%20%5B126.98262900956787%2C%2037.5506055959842%5D%2C%20%5B126.97925452152829%2C%2037.552184137181925%5D%2C%20%5B126.97859017732588%2C%2037.550336476582174%5D%2C%20%5B126.97427174983227%2C%2037.55109017579016%5D%2C%20%5B126.96782902931233%2C%2037.55132047039716%5D%2C%20%5B126.96448570553055%2C%2037.548705692021635%5D%2C%20%5B126.96380145704283%2C%2037.55254525759954%5D%2C%20%5B126.96519694864509%2C%2037.55362533505407%5D%2C%20%5B126.96358226710812%2C%2037.55605635475154%5D%2C%20%5B126.96570855677983%2C%2037.556512377492325%5D%2C%20%5B126.96900073076728%2C%2037.55850929094393%5D%2C%20%5B126.97169209525231%2C%2037.55921654641677%5D%2C%20%5B126.96873633279075%2C%2037.56313604690827%5D%2C%20%5B126.97114791678374%2C%2037.56539818101368%5D%2C%20%5B126.97500684322326%2C%2037.566406971064836%5D%2C%20%5B126.97990305661519%2C%2037.5664536437083%5D%2C%20%5B126.9910070921652%2C%2037.565312022428806%5D%2C%20%5B126.99879870609924%2C%2037.56591346564579%5D%2C%20%5B127.00372480409301%2C%2037.56679519621814%5D%2C%20%5B127.01786686709805%2C%2037.56701276414023%5D%2C%20%5B127.02250839667563%2C%2037.56892943928301%5D%2C%20%5B127.02547266349976%2C%2037.568943552237734%5D%5D%5D%2C%20%22type%22%3A%20%22Polygon%22%7D%2C%20%22properties%22%3A%20%7B%22base_year%22%3A%20%222013%22%2C%20%22code%22%3A%20%2211020%22%2C%20%22name%22%3A%20%22%5Cuc911%5Cuad6c%22%2C%20%22name_eng%22%3A%20%22Jung-gu%22%7D%2C%20%22type%22%3A%20%22Feature%22%7D%2C%20%7B%22geometry%22%3A%20%7B%22coordinates%22%3A%20%5B%5B%5B126.9738864128702%2C%2037.62949634786888%5D%2C%20%5B126.977175406416%2C%2037.62859715400388%5D%2C%20%5B126.97877284074367%2C%2037.62605559220399%5D%2C%20%5B126.98162508963613%2C%2037.626412913357804%5D%2C%20%5B126.98130955822086%2C%2037.621781567952816%5D%2C%20%5B126.98297129719916%2C%2037.61996223346171%5D%2C%20%5B126.9849070918475%2C%2037.61390303132951%5D%2C%20%5B126.98879865992384%2C%2037.6118927319756%5D%2C%20%5B126.98906118629816%2C%2037.60778324866486%5D%2C%20%5B126.9880021251863%2C%2037.60434406739665%5D%2C%20%5B126.98984276495587%2C%2037.59842301677683%5D%2C%20%5B126.98700989661556%2C%2037.59664611897289%5D%2C%20%5B126.98366752610544%2C%2037.596350797276386%5D%2C%20%5B126.98411250331745%2C%2037.59305007059415%5D%2C%20%5B126.98596926877026%2C%2037.59105697466976%5D%2C%20%5B126.98858114244759%2C%2037.58971272682123%5D%2C%20%5B126.99348293358314%2C%2037.588565457216156%5D%2C%20%5B126.99647930158565%2C%2037.58845217708608%5D%2C%20%5B126.99774058571116%2C%2037.58944568945197%5D%2C%20%5B127.00304474231643%2C%2037.58959898679736%5D%2C%20%5B127.00453322588274%2C%2037.58626325611708%5D%2C%20%5B127.00803641804285%2C%2037.5841154647404%5D%2C%20%5B127.00896672237498%2C%2037.582512606964876%5D%2C%20%5B127.00914513999258%2C%2037.57928387879304%5D%2C%20%5B127.01094467951529%2C%2037.57765758282494%5D%2C%20%5B127.01678966486051%2C%2037.57943162455397%5D%2C%20%5B127.01849412471284%2C%2037.57904760334465%5D%2C%20%5B127.02039107536422%2C%2037.575771872553595%5D%2C%20%5B127.02395698453867%2C%2037.576068086896726%5D%2C%20%5B127.02527254528003%2C%2037.57524616245249%5D%2C%20%5B127.02547266349976%2C%2037.568943552237734%5D%2C%20%5B127.02250839667563%2C%2037.56892943928301%5D%2C%20%5B127.01786686709805%2C%2037.56701276414023%5D%2C%20%5B127.00372480409301%2C%2037.56679519621814%5D%2C%20%5B126.99879870609924%2C%2037.56591346564579%5D%2C%20%5B126.9910070921652%2C%2037.565312022428806%5D%2C%20%5B126.97990305661519%2C%2037.5664536437083%5D%2C%20%5B126.97500684322326%2C%2037.566406971064836%5D%2C%20%5B126.97114791678374%2C%2037.56539818101368%5D%2C%20%5B126.96873633279075%2C%2037.56313604690827%5D%2C%20%5B126.95565425846463%2C%2037.576080790881456%5D%2C%20%5B126.95789326971087%2C%2037.57793453336025%5D%2C%20%5B126.96177754536156%2C%2037.57970124256911%5D%2C%20%5B126.95879970726017%2C%2037.58189826471162%5D%2C%20%5B126.96048802632431%2C%2037.587202077053746%5D%2C%20%5B126.960424902266%2C%2037.58868913291801%5D%2C%20%5B126.95842779914786%2C%2037.592356673207824%5D%2C%20%5B126.95924434840931%2C%2037.59545024466215%5D%2C%20%5B126.95619178283661%2C%2037.59575826218021%5D%2C%20%5B126.95484771718951%2C%2037.59761368186209%5D%2C%20%5B126.95564117002459%2C%2037.601827148276776%5D%2C%20%5B126.95480868778256%2C%2037.60381765067903%5D%2C%20%5B126.9524752030572%2C%2037.60508692737045%5D%2C%20%5B126.95187994741721%2C%2037.60600915874973%5D%2C%20%5B126.95308190738618%2C%2037.60926681659027%5D%2C%20%5B126.95249458941419%2C%2037.61333750249896%5D%2C%20%5B126.95145384404022%2C%2037.61493028446385%5D%2C%20%5B126.9528332649861%2C%2037.6161065117682%5D%2C%20%5B126.95393421039743%2C%2037.61877981567335%5D%2C%20%5B126.95427017006129%2C%2037.622033431339425%5D%2C%20%5B126.95885198650147%2C%2037.6225761621008%5D%2C%20%5B126.96164158910712%2C%2037.62569322976388%5D%2C%20%5B126.97135221665513%2C%2037.62743418897386%5D%2C%20%5B126.9738864128702%2C%2037.62949634786888%5D%5D%5D%2C%20%22type%22%3A%20%22Polygon%22%7D%2C%20%22properties%22%3A%20%7B%22base_year%22%3A%20%222013%22%2C%20%22code%22%3A%20%2211010%22%2C%20%22name%22%3A%20%22%5Cuc885%5Cub85c%5Cuad6c%22%2C%20%22name_eng%22%3A%20%22Jongno-gu%22%7D%2C%20%22type%22%3A%20%22Feature%22%7D%5D%2C%20%22type%22%3A%20%22FeatureCollection%22%7D%29%3B%0A%0A%20%20%20%20%20%20%20%20%0A%20%20%20%20%0A%20%20%20%20var%20color_map_2ec685d7d2984e5aa6d865a52fb65c69%20%3D%20%7B%7D%3B%0A%0A%20%20%20%20%0A%20%20%20%20color_map_2ec685d7d2984e5aa6d865a52fb65c69.color%20%3D%20d3.scale.threshold%28%29%0A%20%20%20%20%20%20%20%20%20%20%20%20%20%20.domain%28%5B38.0%2C%2038.104208416833664%2C%2038.208416833667336%2C%2038.312625250501%2C%2038.41683366733467%2C%2038.521042084168336%2C%2038.62525050100201%2C%2038.72945891783567%2C%2038.833667334669336%2C%2038.93787575150301%2C%2039.04208416833667%2C%2039.14629258517034%2C%2039.25050100200401%2C%2039.35470941883767%2C%2039.45891783567134%2C%2039.56312625250501%2C%2039.66733466933868%2C%2039.77154308617234%2C%2039.875751503006015%2C%2039.97995991983968%2C%2040.08416833667334%2C%2040.188376753507015%2C%2040.29258517034068%2C%2040.39679358717435%2C%2040.501002004008015%2C%2040.605210420841686%2C%2040.70941883767535%2C%2040.813627254509015%2C%2040.91783567134269%2C%2041.02204408817635%2C%2041.12625250501002%2C%2041.23046092184369%2C%2041.33466933867736%2C%2041.43887775551102%2C%2041.54308617234469%2C%2041.64729458917836%2C%2041.75150300601202%2C%2041.855711422845694%2C%2041.95991983967936%2C%2042.06412825651303%2C%2042.168336673346694%2C%2042.27254509018036%2C%2042.37675350701403%2C%2042.480961923847694%2C%2042.585170340681366%2C%2042.68937875751503%2C%2042.7935871743487%2C%2042.897795591182366%2C%2043.00200400801603%2C%2043.1062124248497%2C%2043.210420841683366%2C%2043.31462925851704%2C%2043.4188376753507%2C%2043.523046092184366%2C%2043.62725450901804%2C%2043.7314629258517%2C%2043.83567134268537%2C%2043.93987975951904%2C%2044.0440881763527%2C%2044.14829659318637%2C%2044.25250501002004%2C%2044.35671342685371%2C%2044.46092184368737%2C%2044.565130260521045%2C%2044.66933867735471%2C%2044.77354709418837%2C%2044.877755511022045%2C%2044.98196392785571%2C%2045.08617234468938%2C%2045.190380761523045%2C%2045.294589178356716%2C%2045.39879759519038%2C%2045.503006012024045%2C%2045.607214428857716%2C%2045.71142284569138%2C%2045.81563126252505%2C%2045.91983967935872%2C%2046.02404809619239%2C%2046.12825651302605%2C%2046.23246492985972%2C%2046.33667334669339%2C%2046.44088176352705%2C%2046.545090180360724%2C%2046.64929859719439%2C%2046.75350701402806%2C%2046.857715430861724%2C%2046.96192384769539%2C%2047.06613226452906%2C%2047.170340681362724%2C%2047.274549098196395%2C%2047.37875751503006%2C%2047.48296593186373%2C%2047.587174348697395%2C%2047.69138276553106%2C%2047.79559118236473%2C%2047.899799599198396%2C%2048.00400801603206%2C%2048.10821643286573%2C%2048.2124248496994%2C%2048.31663326653307%2C%2048.42084168336673%2C%2048.5250501002004%2C%2048.62925851703407%2C%2048.73346693386773%2C%2048.8376753507014%2C%2048.941883767535074%2C%2049.04609218436874%2C%2049.1503006012024%2C%2049.254509018036075%2C%2049.35871743486974%2C%2049.4629258517034%2C%2049.567134268537075%2C%2049.67134268537074%2C%2049.77555110220441%2C%2049.879759519038075%2C%2049.983967935871746%2C%2050.08817635270541%2C%2050.192384769539075%2C%2050.296593186372746%2C%2050.40080160320641%2C%2050.50501002004008%2C%2050.609218436873746%2C%2050.71342685370742%2C%2050.81763527054108%2C%2050.921843687374746%2C%2051.02605210420842%2C%2051.13026052104208%2C%2051.234468937875754%2C%2051.33867735470942%2C%2051.44288577154309%2C%2051.547094188376754%2C%2051.65130260521042%2C%2051.75551102204409%2C%2051.859719438877754%2C%2051.963927855711425%2C%2052.06813627254509%2C%2052.17234468937876%2C%2052.276553106212425%2C%2052.38076152304609%2C%2052.48496993987976%2C%2052.589178356713425%2C%2052.69338677354709%2C%2052.79759519038076%2C%2052.90180360721443%2C%2053.0060120240481%2C%2053.11022044088176%2C%2053.21442885771543%2C%2053.3186372745491%2C%2053.42284569138276%2C%2053.52705410821643%2C%2053.631262525050104%2C%2053.73547094188377%2C%2053.83967935871743%2C%2053.943887775551104%2C%2054.04809619238477%2C%2054.15230460921843%2C%2054.256513026052104%2C%2054.360721442885776%2C%2054.46492985971944%2C%2054.569138276553105%2C%2054.673346693386776%2C%2054.77755511022044%2C%2054.881763527054105%2C%2054.985971943887776%2C%2055.09018036072145%2C%2055.19438877755511%2C%2055.298597194388776%2C%2055.40280561122245%2C%2055.50701402805611%2C%2055.611222444889776%2C%2055.71543086172345%2C%2055.81963927855712%2C%2055.923847695390776%2C%2056.02805611222445%2C%2056.13226452905812%2C%2056.236472945891784%2C%2056.34068136272545%2C%2056.44488977955912%2C%2056.54909819639279%2C%2056.65330661322645%2C%2056.75751503006012%2C%2056.86172344689379%2C%2056.965931863727455%2C%2057.07014028056112%2C%2057.17434869739479%2C%2057.278557114228455%2C%2057.38276553106212%2C%2057.48697394789579%2C%2057.59118236472946%2C%2057.69539078156313%2C%2057.79959919839679%2C%2057.90380761523046%2C%2058.00801603206413%2C%2058.11222444889779%2C%2058.21643286573146%2C%2058.320641282565134%2C%2058.4248496993988%2C%2058.52905811623246%2C%2058.633266533066134%2C%2058.7374749498998%2C%2058.84168336673346%2C%2058.945891783567134%2C%2059.050100200400806%2C%2059.15430861723447%2C%2059.258517034068134%2C%2059.362725450901806%2C%2059.46693386773547%2C%2059.571142284569135%2C%2059.675350701402806%2C%2059.77955911823648%2C%2059.88376753507014%2C%2059.987975951903806%2C%2060.09218436873748%2C%2060.19639278557114%2C%2060.300601202404806%2C%2060.40480961923848%2C%2060.50901803607215%2C%2060.61322645290581%2C%2060.71743486973948%2C%2060.82164328657315%2C%2060.92585170340681%2C%2061.03006012024048%2C%2061.13426853707415%2C%2061.23847695390782%2C%2061.34268537074148%2C%2061.44689378757515%2C%2061.55110220440882%2C%2061.655310621242485%2C%2061.75951903807615%2C%2061.86372745490982%2C%2061.96793587174349%2C%2062.07214428857715%2C%2062.17635270541082%2C%2062.28056112224449%2C%2062.38476953907816%2C%2062.48897795591182%2C%2062.59318637274549%2C%2062.69739478957916%2C%2062.80160320641282%2C%2062.90581162324649%2C%2063.010020040080164%2C%2063.11422845691383%2C%2063.21843687374749%2C%2063.322645290581164%2C%2063.42685370741483%2C%2063.53106212424849%2C%2063.635270541082164%2C%2063.739478957915836%2C%2063.8436873747495%2C%2063.947895791583164%2C%2064.05210420841684%2C%2064.15631262525051%2C%2064.26052104208416%2C%2064.36472945891784%2C%2064.46893787575151%2C%2064.57314629258516%2C%2064.67735470941884%2C%2064.78156312625251%2C%2064.88577154308618%2C%2064.98997995991984%2C%2065.09418837675351%2C%2065.19839679358718%2C%2065.30260521042084%2C%2065.40681362725451%2C%2065.51102204408818%2C%2065.61523046092185%2C%2065.71943887775551%2C%2065.82364729458918%2C%2065.92785571142285%2C%2066.03206412825651%2C%2066.13627254509018%2C%2066.24048096192385%2C%2066.34468937875752%2C%2066.44889779559118%2C%2066.55310621242485%2C%2066.65731462925852%2C%2066.76152304609218%2C%2066.86573146292585%2C%2066.96993987975952%2C%2067.0741482965932%2C%2067.17835671342685%2C%2067.28256513026052%2C%2067.38677354709418%2C%2067.49098196392785%2C%2067.59519038076152%2C%2067.6993987975952%2C%2067.80360721442887%2C%2067.90781563126252%2C%2068.0120240480962%2C%2068.11623246492985%2C%2068.22044088176352%2C%2068.3246492985972%2C%2068.42885771543087%2C%2068.53306613226454%2C%2068.6372745490982%2C%2068.74148296593187%2C%2068.84569138276552%2C%2068.9498997995992%2C%2069.05410821643287%2C%2069.15831663326654%2C%2069.26252505010021%2C%2069.36673346693387%2C%2069.47094188376754%2C%2069.5751503006012%2C%2069.67935871743487%2C%2069.78356713426854%2C%2069.88777555110221%2C%2069.99198396793588%2C%2070.09619238476954%2C%2070.20040080160321%2C%2070.30460921843687%2C%2070.40881763527054%2C%2070.51302605210421%2C%2070.61723446893788%2C%2070.72144288577155%2C%2070.82565130260521%2C%2070.92985971943888%2C%2071.03406813627254%2C%2071.13827655310621%2C%2071.24248496993988%2C%2071.34669338677355%2C%2071.45090180360722%2C%2071.55511022044088%2C%2071.65931863727455%2C%2071.76352705410821%2C%2071.86773547094188%2C%2071.97194388777555%2C%2072.07615230460922%2C%2072.1803607214429%2C%2072.28456913827655%2C%2072.38877755511022%2C%2072.49298597194388%2C%2072.59719438877755%2C%2072.70140280561122%2C%2072.8056112224449%2C%2072.90981963927857%2C%2073.01402805611222%2C%2073.11823647294588%2C%2073.22244488977955%2C%2073.32665330661322%2C%2073.4308617234469%2C%2073.53507014028057%2C%2073.63927855711424%2C%2073.7434869739479%2C%2073.84769539078155%2C%2073.95190380761522%2C%2074.0561122244489%2C%2074.16032064128257%2C%2074.26452905811624%2C%2074.36873747494991%2C%2074.47294589178357%2C%2074.57715430861722%2C%2074.6813627254509%2C%2074.78557114228457%2C%2074.88977955911824%2C%2074.99398797595191%2C%2075.09819639278558%2C%2075.20240480961924%2C%2075.3066132264529%2C%2075.41082164328657%2C%2075.51503006012024%2C%2075.61923847695391%2C%2075.72344689378758%2C%2075.82765531062124%2C%2075.93186372745491%2C%2076.03607214428857%2C%2076.14028056112224%2C%2076.24448897795591%2C%2076.34869739478958%2C%2076.45290581162325%2C%2076.55711422845691%2C%2076.66132264529058%2C%2076.76553106212424%2C%2076.86973947895791%2C%2076.97394789579158%2C%2077.07815631262525%2C%2077.18236472945893%2C%2077.28657314629258%2C%2077.39078156312625%2C%2077.49498997995991%2C%2077.59919839679358%2C%2077.70340681362725%2C%2077.80761523046093%2C%2077.9118236472946%2C%2078.01603206412825%2C%2078.12024048096193%2C%2078.22444889779558%2C%2078.32865731462925%2C%2078.43286573146293%2C%2078.5370741482966%2C%2078.64128256513027%2C%2078.74549098196393%2C%2078.8496993987976%2C%2078.95390781563125%2C%2079.05811623246493%2C%2079.1623246492986%2C%2079.26653306613227%2C%2079.37074148296594%2C%2079.4749498997996%2C%2079.57915831663327%2C%2079.68336673346693%2C%2079.7875751503006%2C%2079.89178356713427%2C%2079.99599198396794%2C%2080.10020040080161%2C%2080.20440881763527%2C%2080.30861723446894%2C%2080.4128256513026%2C%2080.51703406813627%2C%2080.62124248496994%2C%2080.72545090180361%2C%2080.82965931863728%2C%2080.93386773547094%2C%2081.03807615230461%2C%2081.14228456913827%2C%2081.24649298597194%2C%2081.35070140280561%2C%2081.45490981963928%2C%2081.55911823647295%2C%2081.66332665330661%2C%2081.76753507014028%2C%2081.87174348697394%2C%2081.97595190380761%2C%2082.08016032064128%2C%2082.18436873747495%2C%2082.28857715430863%2C%2082.39278557114228%2C%2082.49699398797596%2C%2082.60120240480961%2C%2082.70541082164328%2C%2082.80961923847696%2C%2082.91382765531063%2C%2083.0180360721443%2C%2083.12224448897796%2C%2083.22645290581163%2C%2083.33066132264528%2C%2083.43486973947896%2C%2083.53907815631263%2C%2083.6432865731463%2C%2083.74749498997997%2C%2083.85170340681363%2C%2083.95591182364728%2C%2084.06012024048096%2C%2084.16432865731463%2C%2084.2685370741483%2C%2084.37274549098197%2C%2084.47695390781564%2C%2084.5811623246493%2C%2084.68537074148296%2C%2084.78957915831663%2C%2084.8937875751503%2C%2084.99799599198397%2C%2085.10220440881764%2C%2085.20641282565131%2C%2085.31062124248497%2C%2085.41482965931863%2C%2085.5190380761523%2C%2085.62324649298597%2C%2085.72745490981964%2C%2085.83166332665331%2C%2085.93587174348698%2C%2086.04008016032064%2C%2086.1442885771543%2C%2086.24849699398797%2C%2086.35270541082164%2C%2086.45691382765531%2C%2086.56112224448898%2C%2086.66533066132264%2C%2086.76953907815631%2C%2086.87374749498997%2C%2086.97795591182364%2C%2087.08216432865731%2C%2087.18637274549098%2C%2087.29058116232466%2C%2087.39478957915831%2C%2087.49899799599199%2C%2087.60320641282564%2C%2087.70741482965931%2C%2087.81162324649299%2C%2087.91583166332666%2C%2088.02004008016033%2C%2088.12424849699399%2C%2088.22845691382766%2C%2088.33266533066131%2C%2088.43687374749499%2C%2088.54108216432866%2C%2088.64529058116233%2C%2088.749498997996%2C%2088.85370741482966%2C%2088.95791583166333%2C%2089.06212424849699%2C%2089.16633266533066%2C%2089.27054108216433%2C%2089.374749498998%2C%2089.47895791583167%2C%2089.58316633266533%2C%2089.687374749499%2C%2089.79158316633266%2C%2089.89579158316633%2C%2090.0%5D%29%0A%20%20%20%20%20%20%20%20%20%20%20%20%20%20.range%28%5B%27%23fef0d9ff%27%2C%20%27%23fef0d9ff%27%2C%20%27%23fef0d9ff%27%2C%20%27%23fef0d9ff%27%2C%20%27%23fef0d9ff%27%2C%20%27%23fef0d9ff%27%2C%20%27%23fef0d9ff%27%2C%20%27%23fef0d9ff%27%2C%20%27%23fef0d9ff%27%2C%20%27%23fef0d9ff%27%2C%20%27%23fef0d9ff%27%2C%20%27%23fef0d9ff%27%2C%20%27%23fef0d9ff%27%2C%20%27%23fef0d9ff%27%2C%20%27%23fef0d9ff%27%2C%20%27%23fef0d9ff%27%2C%20%27%23fef0d9ff%27%2C%20%27%23fef0d9ff%27%2C%20%27%23fef0d9ff%27%2C%20%27%23fef0d9ff%27%2C%20%27%23fef0d9ff%27%2C%20%27%23fef0d9ff%27%2C%20%27%23fef0d9ff%27%2C%20%27%23fef0d9ff%27%2C%20%27%23fef0d9ff%27%2C%20%27%23fef0d9ff%27%2C%20%27%23fef0d9ff%27%2C%20%27%23fef0d9ff%27%2C%20%27%23fef0d9ff%27%2C%20%27%23fef0d9ff%27%2C%20%27%23fef0d9ff%27%2C%20%27%23fef0d9ff%27%2C%20%27%23fef0d9ff%27%2C%20%27%23fef0d9ff%27%2C%20%27%23fef0d9ff%27%2C%20%27%23fef0d9ff%27%2C%20%27%23fef0d9ff%27%2C%20%27%23fef0d9ff%27%2C%20%27%23fef0d9ff%27%2C%20%27%23fef0d9ff%27%2C%20%27%23fef0d9ff%27%2C%20%27%23fef0d9ff%27%2C%20%27%23fef0d9ff%27%2C%20%27%23fef0d9ff%27%2C%20%27%23fef0d9ff%27%2C%20%27%23fef0d9ff%27%2C%20%27%23fef0d9ff%27%2C%20%27%23fef0d9ff%27%2C%20%27%23fef0d9ff%27%2C%20%27%23fef0d9ff%27%2C%20%27%23fef0d9ff%27%2C%20%27%23fef0d9ff%27%2C%20%27%23fef0d9ff%27%2C%20%27%23fef0d9ff%27%2C%20%27%23fef0d9ff%27%2C%20%27%23fef0d9ff%27%2C%20%27%23fef0d9ff%27%2C%20%27%23fef0d9ff%27%2C%20%27%23fef0d9ff%27%2C%20%27%23fef0d9ff%27%2C%20%27%23fef0d9ff%27%2C%20%27%23fef0d9ff%27%2C%20%27%23fef0d9ff%27%2C%20%27%23fef0d9ff%27%2C%20%27%23fef0d9ff%27%2C%20%27%23fef0d9ff%27%2C%20%27%23fef0d9ff%27%2C%20%27%23fef0d9ff%27%2C%20%27%23fef0d9ff%27%2C%20%27%23fef0d9ff%27%2C%20%27%23fef0d9ff%27%2C%20%27%23fef0d9ff%27%2C%20%27%23fef0d9ff%27%2C%20%27%23fef0d9ff%27%2C%20%27%23fef0d9ff%27%2C%20%27%23fef0d9ff%27%2C%20%27%23fef0d9ff%27%2C%20%27%23fef0d9ff%27%2C%20%27%23fef0d9ff%27%2C%20%27%23fef0d9ff%27%2C%20%27%23fef0d9ff%27%2C%20%27%23fef0d9ff%27%2C%20%27%23fef0d9ff%27%2C%20%27%23fef0d9ff%27%2C%20%27%23fdd49eff%27%2C%20%27%23fdd49eff%27%2C%20%27%23fdd49eff%27%2C%20%27%23fdd49eff%27%2C%20%27%23fdd49eff%27%2C%20%27%23fdd49eff%27%2C%20%27%23fdd49eff%27%2C%20%27%23fdd49eff%27%2C%20%27%23fdd49eff%27%2C%20%27%23fdd49eff%27%2C%20%27%23fdd49eff%27%2C%20%27%23fdd49eff%27%2C%20%27%23fdd49eff%27%2C%20%27%23fdd49eff%27%2C%20%27%23fdd49eff%27%2C%20%27%23fdd49eff%27%2C%20%27%23fdd49eff%27%2C%20%27%23fdd49eff%27%2C%20%27%23fdd49eff%27%2C%20%27%23fdd49eff%27%2C%20%27%23fdd49eff%27%2C%20%27%23fdd49eff%27%2C%20%27%23fdd49eff%27%2C%20%27%23fdd49eff%27%2C%20%27%23fdd49eff%27%2C%20%27%23fdd49eff%27%2C%20%27%23fdd49eff%27%2C%20%27%23fdd49eff%27%2C%20%27%23fdd49eff%27%2C%20%27%23fdd49eff%27%2C%20%27%23fdd49eff%27%2C%20%27%23fdd49eff%27%2C%20%27%23fdd49eff%27%2C%20%27%23fdd49eff%27%2C%20%27%23fdd49eff%27%2C%20%27%23fdd49eff%27%2C%20%27%23fdd49eff%27%2C%20%27%23fdd49eff%27%2C%20%27%23fdd49eff%27%2C%20%27%23fdd49eff%27%2C%20%27%23fdd49eff%27%2C%20%27%23fdd49eff%27%2C%20%27%23fdd49eff%27%2C%20%27%23fdd49eff%27%2C%20%27%23fdd49eff%27%2C%20%27%23fdd49eff%27%2C%20%27%23fdd49eff%27%2C%20%27%23fdd49eff%27%2C%20%27%23fdd49eff%27%2C%20%27%23fdd49eff%27%2C%20%27%23fdd49eff%27%2C%20%27%23fdd49eff%27%2C%20%27%23fdd49eff%27%2C%20%27%23fdd49eff%27%2C%20%27%23fdd49eff%27%2C%20%27%23fdd49eff%27%2C%20%27%23fdd49eff%27%2C%20%27%23fdd49eff%27%2C%20%27%23fdd49eff%27%2C%20%27%23fdd49eff%27%2C%20%27%23fdd49eff%27%2C%20%27%23fdd49eff%27%2C%20%27%23fdd49eff%27%2C%20%27%23fdd49eff%27%2C%20%27%23fdd49eff%27%2C%20%27%23fdd49eff%27%2C%20%27%23fdd49eff%27%2C%20%27%23fdd49eff%27%2C%20%27%23fdd49eff%27%2C%20%27%23fdd49eff%27%2C%20%27%23fdd49eff%27%2C%20%27%23fdd49eff%27%2C%20%27%23fdd49eff%27%2C%20%27%23fdd49eff%27%2C%20%27%23fdd49eff%27%2C%20%27%23fdd49eff%27%2C%20%27%23fdd49eff%27%2C%20%27%23fdd49eff%27%2C%20%27%23fdd49eff%27%2C%20%27%23fdd49eff%27%2C%20%27%23fdd49eff%27%2C%20%27%23fdd49eff%27%2C%20%27%23fdd49eff%27%2C%20%27%23fdbb84ff%27%2C%20%27%23fdbb84ff%27%2C%20%27%23fdbb84ff%27%2C%20%27%23fdbb84ff%27%2C%20%27%23fdbb84ff%27%2C%20%27%23fdbb84ff%27%2C%20%27%23fdbb84ff%27%2C%20%27%23fdbb84ff%27%2C%20%27%23fdbb84ff%27%2C%20%27%23fdbb84ff%27%2C%20%27%23fdbb84ff%27%2C%20%27%23fdbb84ff%27%2C%20%27%23fdbb84ff%27%2C%20%27%23fdbb84ff%27%2C%20%27%23fdbb84ff%27%2C%20%27%23fdbb84ff%27%2C%20%27%23fdbb84ff%27%2C%20%27%23fdbb84ff%27%2C%20%27%23fdbb84ff%27%2C%20%27%23fdbb84ff%27%2C%20%27%23fdbb84ff%27%2C%20%27%23fdbb84ff%27%2C%20%27%23fdbb84ff%27%2C%20%27%23fdbb84ff%27%2C%20%27%23fdbb84ff%27%2C%20%27%23fdbb84ff%27%2C%20%27%23fdbb84ff%27%2C%20%27%23fdbb84ff%27%2C%20%27%23fdbb84ff%27%2C%20%27%23fdbb84ff%27%2C%20%27%23fdbb84ff%27%2C%20%27%23fdbb84ff%27%2C%20%27%23fdbb84ff%27%2C%20%27%23fdbb84ff%27%2C%20%27%23fdbb84ff%27%2C%20%27%23fdbb84ff%27%2C%20%27%23fdbb84ff%27%2C%20%27%23fdbb84ff%27%2C%20%27%23fdbb84ff%27%2C%20%27%23fdbb84ff%27%2C%20%27%23fdbb84ff%27%2C%20%27%23fdbb84ff%27%2C%20%27%23fdbb84ff%27%2C%20%27%23fdbb84ff%27%2C%20%27%23fdbb84ff%27%2C%20%27%23fdbb84ff%27%2C%20%27%23fdbb84ff%27%2C%20%27%23fdbb84ff%27%2C%20%27%23fdbb84ff%27%2C%20%27%23fdbb84ff%27%2C%20%27%23fdbb84ff%27%2C%20%27%23fdbb84ff%27%2C%20%27%23fdbb84ff%27%2C%20%27%23fdbb84ff%27%2C%20%27%23fdbb84ff%27%2C%20%27%23fdbb84ff%27%2C%20%27%23fdbb84ff%27%2C%20%27%23fdbb84ff%27%2C%20%27%23fdbb84ff%27%2C%20%27%23fdbb84ff%27%2C%20%27%23fdbb84ff%27%2C%20%27%23fdbb84ff%27%2C%20%27%23fdbb84ff%27%2C%20%27%23fdbb84ff%27%2C%20%27%23fdbb84ff%27%2C%20%27%23fdbb84ff%27%2C%20%27%23fdbb84ff%27%2C%20%27%23fdbb84ff%27%2C%20%27%23fdbb84ff%27%2C%20%27%23fdbb84ff%27%2C%20%27%23fdbb84ff%27%2C%20%27%23fdbb84ff%27%2C%20%27%23fdbb84ff%27%2C%20%27%23fdbb84ff%27%2C%20%27%23fdbb84ff%27%2C%20%27%23fdbb84ff%27%2C%20%27%23fdbb84ff%27%2C%20%27%23fdbb84ff%27%2C%20%27%23fdbb84ff%27%2C%20%27%23fdbb84ff%27%2C%20%27%23fdbb84ff%27%2C%20%27%23fdbb84ff%27%2C%20%27%23fdbb84ff%27%2C%20%27%23fc8d59ff%27%2C%20%27%23fc8d59ff%27%2C%20%27%23fc8d59ff%27%2C%20%27%23fc8d59ff%27%2C%20%27%23fc8d59ff%27%2C%20%27%23fc8d59ff%27%2C%20%27%23fc8d59ff%27%2C%20%27%23fc8d59ff%27%2C%20%27%23fc8d59ff%27%2C%20%27%23fc8d59ff%27%2C%20%27%23fc8d59ff%27%2C%20%27%23fc8d59ff%27%2C%20%27%23fc8d59ff%27%2C%20%27%23fc8d59ff%27%2C%20%27%23fc8d59ff%27%2C%20%27%23fc8d59ff%27%2C%20%27%23fc8d59ff%27%2C%20%27%23fc8d59ff%27%2C%20%27%23fc8d59ff%27%2C%20%27%23fc8d59ff%27%2C%20%27%23fc8d59ff%27%2C%20%27%23fc8d59ff%27%2C%20%27%23fc8d59ff%27%2C%20%27%23fc8d59ff%27%2C%20%27%23fc8d59ff%27%2C%20%27%23fc8d59ff%27%2C%20%27%23fc8d59ff%27%2C%20%27%23fc8d59ff%27%2C%20%27%23fc8d59ff%27%2C%20%27%23fc8d59ff%27%2C%20%27%23fc8d59ff%27%2C%20%27%23fc8d59ff%27%2C%20%27%23fc8d59ff%27%2C%20%27%23fc8d59ff%27%2C%20%27%23fc8d59ff%27%2C%20%27%23fc8d59ff%27%2C%20%27%23fc8d59ff%27%2C%20%27%23fc8d59ff%27%2C%20%27%23fc8d59ff%27%2C%20%27%23fc8d59ff%27%2C%20%27%23fc8d59ff%27%2C%20%27%23fc8d59ff%27%2C%20%27%23fc8d59ff%27%2C%20%27%23fc8d59ff%27%2C%20%27%23fc8d59ff%27%2C%20%27%23fc8d59ff%27%2C%20%27%23fc8d59ff%27%2C%20%27%23fc8d59ff%27%2C%20%27%23fc8d59ff%27%2C%20%27%23fc8d59ff%27%2C%20%27%23fc8d59ff%27%2C%20%27%23fc8d59ff%27%2C%20%27%23fc8d59ff%27%2C%20%27%23fc8d59ff%27%2C%20%27%23fc8d59ff%27%2C%20%27%23fc8d59ff%27%2C%20%27%23fc8d59ff%27%2C%20%27%23fc8d59ff%27%2C%20%27%23fc8d59ff%27%2C%20%27%23fc8d59ff%27%2C%20%27%23fc8d59ff%27%2C%20%27%23fc8d59ff%27%2C%20%27%23fc8d59ff%27%2C%20%27%23fc8d59ff%27%2C%20%27%23fc8d59ff%27%2C%20%27%23fc8d59ff%27%2C%20%27%23fc8d59ff%27%2C%20%27%23fc8d59ff%27%2C%20%27%23fc8d59ff%27%2C%20%27%23fc8d59ff%27%2C%20%27%23fc8d59ff%27%2C%20%27%23fc8d59ff%27%2C%20%27%23fc8d59ff%27%2C%20%27%23fc8d59ff%27%2C%20%27%23fc8d59ff%27%2C%20%27%23fc8d59ff%27%2C%20%27%23fc8d59ff%27%2C%20%27%23fc8d59ff%27%2C%20%27%23fc8d59ff%27%2C%20%27%23fc8d59ff%27%2C%20%27%23fc8d59ff%27%2C%20%27%23fc8d59ff%27%2C%20%27%23fc8d59ff%27%2C%20%27%23e34a33ff%27%2C%20%27%23e34a33ff%27%2C%20%27%23e34a33ff%27%2C%20%27%23e34a33ff%27%2C%20%27%23e34a33ff%27%2C%20%27%23e34a33ff%27%2C%20%27%23e34a33ff%27%2C%20%27%23e34a33ff%27%2C%20%27%23e34a33ff%27%2C%20%27%23e34a33ff%27%2C%20%27%23e34a33ff%27%2C%20%27%23e34a33ff%27%2C%20%27%23e34a33ff%27%2C%20%27%23e34a33ff%27%2C%20%27%23e34a33ff%27%2C%20%27%23e34a33ff%27%2C%20%27%23e34a33ff%27%2C%20%27%23e34a33ff%27%2C%20%27%23e34a33ff%27%2C%20%27%23e34a33ff%27%2C%20%27%23e34a33ff%27%2C%20%27%23e34a33ff%27%2C%20%27%23e34a33ff%27%2C%20%27%23e34a33ff%27%2C%20%27%23e34a33ff%27%2C%20%27%23e34a33ff%27%2C%20%27%23e34a33ff%27%2C%20%27%23e34a33ff%27%2C%20%27%23e34a33ff%27%2C%20%27%23e34a33ff%27%2C%20%27%23e34a33ff%27%2C%20%27%23e34a33ff%27%2C%20%27%23e34a33ff%27%2C%20%27%23e34a33ff%27%2C%20%27%23e34a33ff%27%2C%20%27%23e34a33ff%27%2C%20%27%23e34a33ff%27%2C%20%27%23e34a33ff%27%2C%20%27%23e34a33ff%27%2C%20%27%23e34a33ff%27%2C%20%27%23e34a33ff%27%2C%20%27%23e34a33ff%27%2C%20%27%23e34a33ff%27%2C%20%27%23e34a33ff%27%2C%20%27%23e34a33ff%27%2C%20%27%23e34a33ff%27%2C%20%27%23e34a33ff%27%2C%20%27%23e34a33ff%27%2C%20%27%23e34a33ff%27%2C%20%27%23e34a33ff%27%2C%20%27%23e34a33ff%27%2C%20%27%23e34a33ff%27%2C%20%27%23e34a33ff%27%2C%20%27%23e34a33ff%27%2C%20%27%23e34a33ff%27%2C%20%27%23e34a33ff%27%2C%20%27%23e34a33ff%27%2C%20%27%23e34a33ff%27%2C%20%27%23e34a33ff%27%2C%20%27%23e34a33ff%27%2C%20%27%23e34a33ff%27%2C%20%27%23e34a33ff%27%2C%20%27%23e34a33ff%27%2C%20%27%23e34a33ff%27%2C%20%27%23e34a33ff%27%2C%20%27%23e34a33ff%27%2C%20%27%23e34a33ff%27%2C%20%27%23e34a33ff%27%2C%20%27%23e34a33ff%27%2C%20%27%23e34a33ff%27%2C%20%27%23e34a33ff%27%2C%20%27%23e34a33ff%27%2C%20%27%23e34a33ff%27%2C%20%27%23e34a33ff%27%2C%20%27%23e34a33ff%27%2C%20%27%23e34a33ff%27%2C%20%27%23e34a33ff%27%2C%20%27%23e34a33ff%27%2C%20%27%23e34a33ff%27%2C%20%27%23e34a33ff%27%2C%20%27%23e34a33ff%27%2C%20%27%23e34a33ff%27%2C%20%27%23e34a33ff%27%2C%20%27%23b30000ff%27%2C%20%27%23b30000ff%27%2C%20%27%23b30000ff%27%2C%20%27%23b30000ff%27%2C%20%27%23b30000ff%27%2C%20%27%23b30000ff%27%2C%20%27%23b30000ff%27%2C%20%27%23b30000ff%27%2C%20%27%23b30000ff%27%2C%20%27%23b30000ff%27%2C%20%27%23b30000ff%27%2C%20%27%23b30000ff%27%2C%20%27%23b30000ff%27%2C%20%27%23b30000ff%27%2C%20%27%23b30000ff%27%2C%20%27%23b30000ff%27%2C%20%27%23b30000ff%27%2C%20%27%23b30000ff%27%2C%20%27%23b30000ff%27%2C%20%27%23b30000ff%27%2C%20%27%23b30000ff%27%2C%20%27%23b30000ff%27%2C%20%27%23b30000ff%27%2C%20%27%23b30000ff%27%2C%20%27%23b30000ff%27%2C%20%27%23b30000ff%27%2C%20%27%23b30000ff%27%2C%20%27%23b30000ff%27%2C%20%27%23b30000ff%27%2C%20%27%23b30000ff%27%2C%20%27%23b30000ff%27%2C%20%27%23b30000ff%27%2C%20%27%23b30000ff%27%2C%20%27%23b30000ff%27%2C%20%27%23b30000ff%27%2C%20%27%23b30000ff%27%2C%20%27%23b30000ff%27%2C%20%27%23b30000ff%27%2C%20%27%23b30000ff%27%2C%20%27%23b30000ff%27%2C%20%27%23b30000ff%27%2C%20%27%23b30000ff%27%2C%20%27%23b30000ff%27%2C%20%27%23b30000ff%27%2C%20%27%23b30000ff%27%2C%20%27%23b30000ff%27%2C%20%27%23b30000ff%27%2C%20%27%23b30000ff%27%2C%20%27%23b30000ff%27%2C%20%27%23b30000ff%27%2C%20%27%23b30000ff%27%2C%20%27%23b30000ff%27%2C%20%27%23b30000ff%27%2C%20%27%23b30000ff%27%2C%20%27%23b30000ff%27%2C%20%27%23b30000ff%27%2C%20%27%23b30000ff%27%2C%20%27%23b30000ff%27%2C%20%27%23b30000ff%27%2C%20%27%23b30000ff%27%2C%20%27%23b30000ff%27%2C%20%27%23b30000ff%27%2C%20%27%23b30000ff%27%2C%20%27%23b30000ff%27%2C%20%27%23b30000ff%27%2C%20%27%23b30000ff%27%2C%20%27%23b30000ff%27%2C%20%27%23b30000ff%27%2C%20%27%23b30000ff%27%2C%20%27%23b30000ff%27%2C%20%27%23b30000ff%27%2C%20%27%23b30000ff%27%2C%20%27%23b30000ff%27%2C%20%27%23b30000ff%27%2C%20%27%23b30000ff%27%2C%20%27%23b30000ff%27%2C%20%27%23b30000ff%27%2C%20%27%23b30000ff%27%2C%20%27%23b30000ff%27%2C%20%27%23b30000ff%27%2C%20%27%23b30000ff%27%2C%20%27%23b30000ff%27%2C%20%27%23b30000ff%27%2C%20%27%23b30000ff%27%5D%29%3B%0A%20%20%20%20%0A%0A%20%20%20%20color_map_2ec685d7d2984e5aa6d865a52fb65c69.x%20%3D%20d3.scale.linear%28%29%0A%20%20%20%20%20%20%20%20%20%20%20%20%20%20.domain%28%5B38.0%2C%2090.0%5D%29%0A%20%20%20%20%20%20%20%20%20%20%20%20%20%20.range%28%5B0%2C%20400%5D%29%3B%0A%0A%20%20%20%20color_map_2ec685d7d2984e5aa6d865a52fb65c69.legend%20%3D%20L.control%28%7Bposition%3A%20%27topright%27%7D%29%3B%0A%20%20%20%20color_map_2ec685d7d2984e5aa6d865a52fb65c69.legend.onAdd%20%3D%20function%20%28map%29%20%7Bvar%20div%20%3D%20L.DomUtil.create%28%27div%27%2C%20%27legend%27%29%3B%20return%20div%7D%3B%0A%20%20%20%20color_map_2ec685d7d2984e5aa6d865a52fb65c69.legend.addTo%28map_6f8492f0d4fb4e3c9013f1b128576149%29%3B%0A%0A%20%20%20%20color_map_2ec685d7d2984e5aa6d865a52fb65c69.xAxis%20%3D%20d3.svg.axis%28%29%0A%20%20%20%20%20%20%20%20.scale%28color_map_2ec685d7d2984e5aa6d865a52fb65c69.x%29%0A%20%20%20%20%20%20%20%20.orient%28%22top%22%29%0A%20%20%20%20%20%20%20%20.tickSize%281%29%0A%20%20%20%20%20%20%20%20.tickValues%28%5B38.0%2C%2046.666666666666664%2C%2055.33333333333333%2C%2064.0%2C%2072.66666666666666%2C%2081.33333333333333%2C%2090.0%5D%29%3B%0A%0A%20%20%20%20color_map_2ec685d7d2984e5aa6d865a52fb65c69.svg%20%3D%20d3.select%28%22.legend.leaflet-control%22%29.append%28%22svg%22%29%0A%20%20%20%20%20%20%20%20.attr%28%22id%22%2C%20%27legend%27%29%0A%20%20%20%20%20%20%20%20.attr%28%22width%22%2C%20450%29%0A%20%20%20%20%20%20%20%20.attr%28%22height%22%2C%2040%29%3B%0A%0A%20%20%20%20color_map_2ec685d7d2984e5aa6d865a52fb65c69.g%20%3D%20color_map_2ec685d7d2984e5aa6d865a52fb65c69.svg.append%28%22g%22%29%0A%20%20%20%20%20%20%20%20.attr%28%22class%22%2C%20%22key%22%29%0A%20%20%20%20%20%20%20%20.attr%28%22transform%22%2C%20%22translate%2825%2C16%29%22%29%3B%0A%0A%20%20%20%20color_map_2ec685d7d2984e5aa6d865a52fb65c69.g.selectAll%28%22rect%22%29%0A%20%20%20%20%20%20%20%20.data%28color_map_2ec685d7d2984e5aa6d865a52fb65c69.color.range%28%29.map%28function%28d%2C%20i%29%20%7B%0A%20%20%20%20%20%20%20%20%20%20return%20%7B%0A%20%20%20%20%20%20%20%20%20%20%20%20x0%3A%20i%20%3F%20color_map_2ec685d7d2984e5aa6d865a52fb65c69.x%28color_map_2ec685d7d2984e5aa6d865a52fb65c69.color.domain%28%29%5Bi%20-%201%5D%29%20%3A%20color_map_2ec685d7d2984e5aa6d865a52fb65c69.x.range%28%29%5B0%5D%2C%0A%20%20%20%20%20%20%20%20%20%20%20%20x1%3A%20i%20%3C%20color_map_2ec685d7d2984e5aa6d865a52fb65c69.color.domain%28%29.length%20%3F%20color_map_2ec685d7d2984e5aa6d865a52fb65c69.x%28color_map_2ec685d7d2984e5aa6d865a52fb65c69.color.domain%28%29%5Bi%5D%29%20%3A%20color_map_2ec685d7d2984e5aa6d865a52fb65c69.x.range%28%29%5B1%5D%2C%0A%20%20%20%20%20%20%20%20%20%20%20%20z%3A%20d%0A%20%20%20%20%20%20%20%20%20%20%7D%3B%0A%20%20%20%20%20%20%20%20%7D%29%29%0A%20%20%20%20%20%20.enter%28%29.append%28%22rect%22%29%0A%20%20%20%20%20%20%20%20.attr%28%22height%22%2C%2010%29%0A%20%20%20%20%20%20%20%20.attr%28%22x%22%2C%20function%28d%29%20%7B%20return%20d.x0%3B%20%7D%29%0A%20%20%20%20%20%20%20%20.attr%28%22width%22%2C%20function%28d%29%20%7B%20return%20d.x1%20-%20d.x0%3B%20%7D%29%0A%20%20%20%20%20%20%20%20.style%28%22fill%22%2C%20function%28d%29%20%7B%20return%20d.z%3B%20%7D%29%3B%0A%0A%20%20%20%20color_map_2ec685d7d2984e5aa6d865a52fb65c69.g.call%28color_map_2ec685d7d2984e5aa6d865a52fb65c69.xAxis%29.append%28%22text%22%29%0A%20%20%20%20%20%20%20%20.attr%28%22class%22%2C%20%22caption%22%29%0A%20%20%20%20%20%20%20%20.attr%28%22y%22%2C%2021%29%0A%20%20%20%20%20%20%20%20.text%28%27%27%29%3B%0A%20%20%20%20%0A%20%20%20%20%20%20%20%20%20%20%20%20var%20marker_729b588afb224c6883deac2d89c9c6ac%20%3D%20L.marker%28%0A%20%20%20%20%20%20%20%20%20%20%20%20%20%20%20%20%5B37.5092%2C%20126.967%5D%2C%0A%20%20%20%20%20%20%20%20%20%20%20%20%20%20%20%20%7B%7D%0A%20%20%20%20%20%20%20%20%20%20%20%20%29.addTo%28map_6f8492f0d4fb4e3c9013f1b128576149%29%3B%0A%20%20%20%20%20%20%20%20%0A%20%20%20%20%0A%20%20%20%20%20%20%20%20%20%20%20%20var%20div_icon_2b8f65f29c554161ba7d5d93a88c0841%20%3D%20L.divIcon%28%7B%22className%22%3A%20%22empty%22%2C%20%22html%22%3A%20%22%5Cu003cdiv%20style%3D%5C%22font-size%3A%20pt%3B%20font-weight%3Abold%3B%5C%22%5Cu003e%5Cub3d9%5Cuc791%5Cuad6c%5Cu003c/div%5Cu003e%22%2C%20%22iconAnchor%22%3A%20%5B0%2C%200%5D%2C%20%22iconSize%22%3A%20%5B10%2C%206%5D%7D%29%3B%0A%20%20%20%20%20%20%20%20%20%20%20%20marker_729b588afb224c6883deac2d89c9c6ac.setIcon%28div_icon_2b8f65f29c554161ba7d5d93a88c0841%29%3B%0A%20%20%20%20%20%20%20%20%0A%20%20%20%20%0A%20%20%20%20%20%20%20%20%20%20%20%20var%20marker_d0bb160f278d4ab7b24bdda0fdeffa31%20%3D%20L.marker%28%0A%20%20%20%20%20%20%20%20%20%20%20%20%20%20%20%20%5B37.565%2C%20126.999%5D%2C%0A%20%20%20%20%20%20%20%20%20%20%20%20%20%20%20%20%7B%7D%0A%20%20%20%20%20%20%20%20%20%20%20%20%29.addTo%28map_6f8492f0d4fb4e3c9013f1b128576149%29%3B%0A%20%20%20%20%20%20%20%20%0A%20%20%20%20%0A%20%20%20%20%20%20%20%20%20%20%20%20var%20div_icon_08598ae07e814fa8b0c2455c5845db49%20%3D%20L.divIcon%28%7B%22className%22%3A%20%22empty%22%2C%20%22html%22%3A%20%22%5Cu003cdiv%20style%3D%5C%22font-size%3A%20pt%3B%20font-weight%3Abold%3B%5C%22%5Cu003e%5Cuc911%5Cuad6c%5Cu003c/div%5Cu003e%22%2C%20%22iconAnchor%22%3A%20%5B0%2C%200%5D%2C%20%22iconSize%22%3A%20%5B10%2C%206%5D%7D%29%3B%0A%20%20%20%20%20%20%20%20%20%20%20%20marker_d0bb160f278d4ab7b24bdda0fdeffa31.setIcon%28div_icon_08598ae07e814fa8b0c2455c5845db49%29%3B%0A%20%20%20%20%20%20%20%20%0A%20%20%20%20%0A%20%20%20%20%20%20%20%20%20%20%20%20var%20marker_219af370ca214540a127297e0c77e28d%20%3D%20L.marker%28%0A%20%20%20%20%20%20%20%20%20%20%20%20%20%20%20%20%5B37.565%2C%20126.999%5D%2C%0A%20%20%20%20%20%20%20%20%20%20%20%20%20%20%20%20%7B%7D%0A%20%20%20%20%20%20%20%20%20%20%20%20%29.addTo%28map_6f8492f0d4fb4e3c9013f1b128576149%29%3B%0A%20%20%20%20%20%20%20%20%0A%20%20%20%20%0A%20%20%20%20%20%20%20%20%20%20%20%20var%20div_icon_639ebee2816541d1aafff0b619f5de62%20%3D%20L.divIcon%28%7B%22className%22%3A%20%22empty%22%2C%20%22html%22%3A%20%22%5Cu003cdiv%20style%3D%5C%22font-size%3A%20pt%3B%20font-weight%3Abold%3B%5C%22%5Cu003e%5Cuc911%5Cuad6c%5Cu003c/div%5Cu003e%22%2C%20%22iconAnchor%22%3A%20%5B0%2C%200%5D%2C%20%22iconSize%22%3A%20%5B10%2C%206%5D%7D%29%3B%0A%20%20%20%20%20%20%20%20%20%20%20%20marker_219af370ca214540a127297e0c77e28d.setIcon%28div_icon_639ebee2816541d1aafff0b619f5de62%29%3B%0A%20%20%20%20%20%20%20%20%0A%20%20%20%20%0A%20%20%20%20%20%20%20%20%20%20%20%20var%20marker_3ee1949a20314638b7cce0438f4d0a28%20%3D%20L.marker%28%0A%20%20%20%20%20%20%20%20%20%20%20%20%20%20%20%20%5B37.56%2C%20127.04%5D%2C%0A%20%20%20%20%20%20%20%20%20%20%20%20%20%20%20%20%7B%7D%0A%20%20%20%20%20%20%20%20%20%20%20%20%29.addTo%28map_6f8492f0d4fb4e3c9013f1b128576149%29%3B%0A%20%20%20%20%20%20%20%20%0A%20%20%20%20%0A%20%20%20%20%20%20%20%20%20%20%20%20var%20div_icon_b9129307c40342878d0546fcee0ba51a%20%3D%20L.divIcon%28%7B%22className%22%3A%20%22empty%22%2C%20%22html%22%3A%20%22%5Cu003cdiv%20style%3D%5C%22font-size%3A%20pt%3B%20font-weight%3Abold%3B%5C%22%5Cu003e%5Cuc131%5Cub3d9%5Cuad6c%5Cu003c/div%5Cu003e%22%2C%20%22iconAnchor%22%3A%20%5B0%2C%200%5D%2C%20%22iconSize%22%3A%20%5B10%2C%206%5D%7D%29%3B%0A%20%20%20%20%20%20%20%20%20%20%20%20marker_3ee1949a20314638b7cce0438f4d0a28.setIcon%28div_icon_b9129307c40342878d0546fcee0ba51a%29%3B%0A%20%20%20%20%20%20%20%20%0A%20%20%20%20%0A%20%20%20%20%20%20%20%20%20%20%20%20var%20marker_e8934aeb8e784310aa27351f7a07f3d1%20%3D%20L.marker%28%0A%20%20%20%20%20%20%20%20%20%20%20%20%20%20%20%20%5B37.5%2C%20127.0%5D%2C%0A%20%20%20%20%20%20%20%20%20%20%20%20%20%20%20%20%7B%7D%0A%20%20%20%20%20%20%20%20%20%20%20%20%29.addTo%28map_6f8492f0d4fb4e3c9013f1b128576149%29%3B%0A%20%20%20%20%20%20%20%20%0A%20%20%20%20%0A%20%20%20%20%20%20%20%20%20%20%20%20var%20div_icon_e3c3c5c7f8e5432d91ec9032f5917702%20%3D%20L.divIcon%28%7B%22className%22%3A%20%22empty%22%2C%20%22html%22%3A%20%22%5Cu003cdiv%20style%3D%5C%22font-size%3A%20pt%3B%20font-weight%3Abold%3B%5C%22%5Cu003e%5Cuc11c%5Cucd08%5Cuad6c%5Cu003c/div%5Cu003e%22%2C%20%22iconAnchor%22%3A%20%5B0%2C%200%5D%2C%20%22iconSize%22%3A%20%5B10%2C%206%5D%7D%29%3B%0A%20%20%20%20%20%20%20%20%20%20%20%20marker_e8934aeb8e784310aa27351f7a07f3d1.setIcon%28div_icon_e3c3c5c7f8e5432d91ec9032f5917702%29%3B%0A%20%20%20%20%20%20%20%20%0A%20%20%20%20%0A%20%20%20%20%20%20%20%20%20%20%20%20var%20marker_79959fec4bdd4b8c91679e09348a8086%20%3D%20L.marker%28%0A%20%20%20%20%20%20%20%20%20%20%20%20%20%20%20%20%5B37.51%2C%20127.05%5D%2C%0A%20%20%20%20%20%20%20%20%20%20%20%20%20%20%20%20%7B%7D%0A%20%20%20%20%20%20%20%20%20%20%20%20%29.addTo%28map_6f8492f0d4fb4e3c9013f1b128576149%29%3B%0A%20%20%20%20%20%20%20%20%0A%20%20%20%20%0A%20%20%20%20%20%20%20%20%20%20%20%20var%20div_icon_e8148ebf7ecb485cbe84779fbe1fba6b%20%3D%20L.divIcon%28%7B%22className%22%3A%20%22empty%22%2C%20%22html%22%3A%20%22%5Cu003cdiv%20style%3D%5C%22font-size%3A%20pt%3B%20font-weight%3Abold%3B%5C%22%5Cu003e%5Cuac15%5Cub0a8%5Cuad6c%5Cu003c/div%5Cu003e%22%2C%20%22iconAnchor%22%3A%20%5B0%2C%200%5D%2C%20%22iconSize%22%3A%20%5B10%2C%206%5D%7D%29%3B%0A%20%20%20%20%20%20%20%20%20%20%20%20marker_79959fec4bdd4b8c91679e09348a8086.setIcon%28div_icon_e8148ebf7ecb485cbe84779fbe1fba6b%29%3B%0A%20%20%20%20%20%20%20%20%0A%20%20%20%20%0A%20%20%20%20%20%20%20%20%20%20%20%20var%20marker_fb8f7cd5761845ec8c4e405928872243%20%3D%20L.marker%28%0A%20%20%20%20%20%20%20%20%20%20%20%20%20%20%20%20%5B37.51%2C%20127.12%5D%2C%0A%20%20%20%20%20%20%20%20%20%20%20%20%20%20%20%20%7B%7D%0A%20%20%20%20%20%20%20%20%20%20%20%20%29.addTo%28map_6f8492f0d4fb4e3c9013f1b128576149%29%3B%0A%20%20%20%20%20%20%20%20%0A%20%20%20%20%0A%20%20%20%20%20%20%20%20%20%20%20%20var%20div_icon_154844f26de04888845782e3fc441c1c%20%3D%20L.divIcon%28%7B%22className%22%3A%20%22empty%22%2C%20%22html%22%3A%20%22%5Cu003cdiv%20style%3D%5C%22font-size%3A%20pt%3B%20font-weight%3Abold%3B%5C%22%5Cu003e%5Cuc1a1%5Cud30c%5Cuad6c%5Cu003c/div%5Cu003e%22%2C%20%22iconAnchor%22%3A%20%5B0%2C%200%5D%2C%20%22iconSize%22%3A%20%5B10%2C%206%5D%7D%29%3B%0A%20%20%20%20%20%20%20%20%20%20%20%20marker_fb8f7cd5761845ec8c4e405928872243.setIcon%28div_icon_154844f26de04888845782e3fc441c1c%29%3B%0A%20%20%20%20%20%20%20%20%0A%20%20%20%20%0A%20%20%20%20%20%20%20%20%20%20%20%20var%20marker_05fa5b97f08c4ff0895ecf84b53aaed6%20%3D%20L.marker%28%0A%20%20%20%20%20%20%20%20%20%20%20%20%20%20%20%20%5B37.56%2C%20127.14%5D%2C%0A%20%20%20%20%20%20%20%20%20%20%20%20%20%20%20%20%7B%7D%0A%20%20%20%20%20%20%20%20%20%20%20%20%29.addTo%28map_6f8492f0d4fb4e3c9013f1b128576149%29%3B%0A%20%20%20%20%20%20%20%20%0A%20%20%20%20%0A%20%20%20%20%20%20%20%20%20%20%20%20var%20div_icon_d1ebd107628541c79f0c4abb001bfcc6%20%3D%20L.divIcon%28%7B%22className%22%3A%20%22empty%22%2C%20%22html%22%3A%20%22%5Cu003cdiv%20style%3D%5C%22font-size%3A%20pt%3B%20font-weight%3Abold%3B%5C%22%5Cu003e%5Cuac15%5Cub3d9%5Cuad6c%5Cu003c/div%5Cu003e%22%2C%20%22iconAnchor%22%3A%20%5B0%2C%200%5D%2C%20%22iconSize%22%3A%20%5B10%2C%206%5D%7D%29%3B%0A%20%20%20%20%20%20%20%20%20%20%20%20marker_05fa5b97f08c4ff0895ecf84b53aaed6.setIcon%28div_icon_d1ebd107628541c79f0c4abb001bfcc6%29%3B%0A%20%20%20%20%20%20%20%20%0A%20%20%20%20%0A%20%20%20%20%20%20%20%20%20%20%20%20var%20marker_7a49278867d6440aa7e9b7c5da5f941b%20%3D%20L.marker%28%0A%20%20%20%20%20%20%20%20%20%20%20%20%20%20%20%20%5B37.56%2C%20127.09%5D%2C%0A%20%20%20%20%20%20%20%20%20%20%20%20%20%20%20%20%7B%7D%0A%20%20%20%20%20%20%20%20%20%20%20%20%29.addTo%28map_6f8492f0d4fb4e3c9013f1b128576149%29%3B%0A%20%20%20%20%20%20%20%20%0A%20%20%20%20%0A%20%20%20%20%20%20%20%20%20%20%20%20var%20div_icon_04410818f70a4efcacc1044727fe3269%20%3D%20L.divIcon%28%7B%22className%22%3A%20%22empty%22%2C%20%22html%22%3A%20%22%5Cu003cdiv%20style%3D%5C%22font-size%3A%20pt%3B%20font-weight%3Abold%3B%5C%22%5Cu003e%5Cuad11%5Cuc9c4%5Cuad6c%5Cu003c/div%5Cu003e%22%2C%20%22iconAnchor%22%3A%20%5B0%2C%200%5D%2C%20%22iconSize%22%3A%20%5B10%2C%206%5D%7D%29%3B%0A%20%20%20%20%20%20%20%20%20%20%20%20marker_7a49278867d6440aa7e9b7c5da5f941b.setIcon%28div_icon_04410818f70a4efcacc1044727fe3269%29%3B%0A%20%20%20%20%20%20%20%20%0A%20%20%20%20%0A%20%20%20%20%20%20%20%20%20%20%20%20var%20marker_a3d4e595d59f4caf99cb62e035f2b575%20%3D%20L.marker%28%0A%20%20%20%20%20%20%20%20%20%20%20%20%20%20%20%20%5B37.605%2C%20127.09%5D%2C%0A%20%20%20%20%20%20%20%20%20%20%20%20%20%20%20%20%7B%7D%0A%20%20%20%20%20%20%20%20%20%20%20%20%29.addTo%28map_6f8492f0d4fb4e3c9013f1b128576149%29%3B%0A%20%20%20%20%20%20%20%20%0A%20%20%20%20%0A%20%20%20%20%20%20%20%20%20%20%20%20var%20div_icon_aa90437417f747db8065fdceb508ef3a%20%3D%20L.divIcon%28%7B%22className%22%3A%20%22empty%22%2C%20%22html%22%3A%20%22%5Cu003cdiv%20style%3D%5C%22font-size%3A%20pt%3B%20font-weight%3Abold%3B%5C%22%5Cu003e%5Cuc911%5Cub791%5Cuad6c%5Cu003c/div%5Cu003e%22%2C%20%22iconAnchor%22%3A%20%5B0%2C%200%5D%2C%20%22iconSize%22%3A%20%5B10%2C%206%5D%7D%29%3B%0A%20%20%20%20%20%20%20%20%20%20%20%20marker_a3d4e595d59f4caf99cb62e035f2b575.setIcon%28div_icon_aa90437417f747db8065fdceb508ef3a%29%3B%0A%20%20%20%20%20%20%20%20%0A%20%20%20%20%0A%20%20%20%20%20%20%20%20%20%20%20%20var%20marker_4f3d8a5e0efe45fdb476068bca43edf8%20%3D%20L.marker%28%0A%20%20%20%20%20%20%20%20%20%20%20%20%20%20%20%20%5B37.665%2C%20127.075%5D%2C%0A%20%20%20%20%20%20%20%20%20%20%20%20%20%20%20%20%7B%7D%0A%20%20%20%20%20%20%20%20%20%20%20%20%29.addTo%28map_6f8492f0d4fb4e3c9013f1b128576149%29%3B%0A%20%20%20%20%20%20%20%20%0A%20%20%20%20%0A%20%20%20%20%20%20%20%20%20%20%20%20var%20div_icon_0a5d5f0865604bfaaa6f4e176e973d51%20%3D%20L.divIcon%28%7B%22className%22%3A%20%22empty%22%2C%20%22html%22%3A%20%22%5Cu003cdiv%20style%3D%5C%22font-size%3A%20pt%3B%20font-weight%3Abold%3B%5C%22%5Cu003e%5Cub178%5Cuc6d0%5Cuad6c%5Cu003c/div%5Cu003e%22%2C%20%22iconAnchor%22%3A%20%5B0%2C%200%5D%2C%20%22iconSize%22%3A%20%5B10%2C%206%5D%7D%29%3B%0A%20%20%20%20%20%20%20%20%20%20%20%20marker_4f3d8a5e0efe45fdb476068bca43edf8.setIcon%28div_icon_0a5d5f0865604bfaaa6f4e176e973d51%29%3B%0A%20%20%20%20%20%20%20%20%0A%20%20%20%20%0A%20%20%20%20%20%20%20%20%20%20%20%20var%20marker_676454e6f35341659038614f5fe18216%20%3D%20L.marker%28%0A%20%20%20%20%20%20%20%20%20%20%20%20%20%20%20%20%5B37.675%2C%20127.033%5D%2C%0A%20%20%20%20%20%20%20%20%20%20%20%20%20%20%20%20%7B%7D%0A%20%20%20%20%20%20%20%20%20%20%20%20%29.addTo%28map_6f8492f0d4fb4e3c9013f1b128576149%29%3B%0A%20%20%20%20%20%20%20%20%0A%20%20%20%20%0A%20%20%20%20%20%20%20%20%20%20%20%20var%20div_icon_d09b5c0ca77f4c54afc85545ea16cbad%20%3D%20L.divIcon%28%7B%22className%22%3A%20%22empty%22%2C%20%22html%22%3A%20%22%5Cu003cdiv%20style%3D%5C%22font-size%3A%20pt%3B%20font-weight%3Abold%3B%5C%22%5Cu003e%5Cub3c4%5Cubd09%5Cuad6c%5Cu003c/div%5Cu003e%22%2C%20%22iconAnchor%22%3A%20%5B0%2C%200%5D%2C%20%22iconSize%22%3A%20%5B10%2C%206%5D%7D%29%3B%0A%20%20%20%20%20%20%20%20%20%20%20%20marker_676454e6f35341659038614f5fe18216.setIcon%28div_icon_d09b5c0ca77f4c54afc85545ea16cbad%29%3B%0A%20%20%20%20%20%20%20%20%0A%20%20%20%20%0A%20%20%20%20%20%20%20%20%20%20%20%20var%20marker_3ac9afb5d2e94a789f7638d91e5d1b1b%20%3D%20L.marker%28%0A%20%20%20%20%20%20%20%20%20%20%20%20%20%20%20%20%5B37.665%2C%20127.0%5D%2C%0A%20%20%20%20%20%20%20%20%20%20%20%20%20%20%20%20%7B%7D%0A%20%20%20%20%20%20%20%20%20%20%20%20%29.addTo%28map_6f8492f0d4fb4e3c9013f1b128576149%29%3B%0A%20%20%20%20%20%20%20%20%0A%20%20%20%20%0A%20%20%20%20%20%20%20%20%20%20%20%20var%20div_icon_2c8c04788b5640e9b86ac1bbfbbc0357%20%3D%20L.divIcon%28%7B%22className%22%3A%20%22empty%22%2C%20%22html%22%3A%20%22%5Cu003cdiv%20style%3D%5C%22font-size%3A%20pt%3B%20font-weight%3Abold%3B%5C%22%5Cu003e%5Cuac15%5Cubd81%5Cuad6c%5Cu003c/div%5Cu003e%22%2C%20%22iconAnchor%22%3A%20%5B0%2C%200%5D%2C%20%22iconSize%22%3A%20%5B10%2C%206%5D%7D%29%3B%0A%20%20%20%20%20%20%20%20%20%20%20%20marker_3ac9afb5d2e94a789f7638d91e5d1b1b.setIcon%28div_icon_2c8c04788b5640e9b86ac1bbfbbc0357%29%3B%0A%20%20%20%20%20%20%20%20%0A%20%20%20%20%0A%20%20%20%20%20%20%20%20%20%20%20%20var%20marker_23e18a92522b4dc3beb2aeb51c5a94e3%20%3D%20L.marker%28%0A%20%20%20%20%20%20%20%20%20%20%20%20%20%20%20%20%5B37.61%2C%20127.02%5D%2C%0A%20%20%20%20%20%20%20%20%20%20%20%20%20%20%20%20%7B%7D%0A%20%20%20%20%20%20%20%20%20%20%20%20%29.addTo%28map_6f8492f0d4fb4e3c9013f1b128576149%29%3B%0A%20%20%20%20%20%20%20%20%0A%20%20%20%20%0A%20%20%20%20%20%20%20%20%20%20%20%20var%20div_icon_aebd24e25f2640c4bb3b013bfbc9cca7%20%3D%20L.divIcon%28%7B%22className%22%3A%20%22empty%22%2C%20%22html%22%3A%20%22%5Cu003cdiv%20style%3D%5C%22font-size%3A%20pt%3B%20font-weight%3Abold%3B%5C%22%5Cu003e%5Cuc131%5Cubd81%5Cuad6c%5Cu003c/div%5Cu003e%22%2C%20%22iconAnchor%22%3A%20%5B0%2C%200%5D%2C%20%22iconSize%22%3A%20%5B10%2C%206%5D%7D%29%3B%0A%20%20%20%20%20%20%20%20%20%20%20%20marker_23e18a92522b4dc3beb2aeb51c5a94e3.setIcon%28div_icon_aebd24e25f2640c4bb3b013bfbc9cca7%29%3B%0A%20%20%20%20%20%20%20%20%0A%20%20%20%20%0A%20%20%20%20%20%20%20%20%20%20%20%20var%20marker_48c08307bba04177a6355116a1342a80%20%3D%20L.marker%28%0A%20%20%20%20%20%20%20%20%20%20%20%20%20%20%20%20%5B37.599%2C%20127.06%5D%2C%0A%20%20%20%20%20%20%20%20%20%20%20%20%20%20%20%20%7B%7D%0A%20%20%20%20%20%20%20%20%20%20%20%20%29.addTo%28map_6f8492f0d4fb4e3c9013f1b128576149%29%3B%0A%20%20%20%20%20%20%20%20%0A%20%20%20%20%0A%20%20%20%20%20%20%20%20%20%20%20%20var%20div_icon_c8baf913d0054457abdd0b1e4e1d840e%20%3D%20L.divIcon%28%7B%22className%22%3A%20%22empty%22%2C%20%22html%22%3A%20%22%5Cu003cdiv%20style%3D%5C%22font-size%3A%20pt%3B%20font-weight%3Abold%3B%5C%22%5Cu003e%5Cub3d9%5Cub300%5Cubb38%5Cuad6c%5Cu003c/div%5Cu003e%22%2C%20%22iconAnchor%22%3A%20%5B0%2C%200%5D%2C%20%22iconSize%22%3A%20%5B10%2C%206%5D%7D%29%3B%0A%20%20%20%20%20%20%20%20%20%20%20%20marker_48c08307bba04177a6355116a1342a80.setIcon%28div_icon_c8baf913d0054457abdd0b1e4e1d840e%29%3B%0A%20%20%20%20%20%20%20%20%0A%20%20%20%20%0A%20%20%20%20%20%20%20%20%20%20%20%20var%20marker_69d2ecb2dac54044913a0642f3917e47%20%3D%20L.marker%28%0A%20%20%20%20%20%20%20%20%20%20%20%20%20%20%20%20%5B37.61%2C%20126.97%5D%2C%0A%20%20%20%20%20%20%20%20%20%20%20%20%20%20%20%20%7B%7D%0A%20%20%20%20%20%20%20%20%20%20%20%20%29.addTo%28map_6f8492f0d4fb4e3c9013f1b128576149%29%3B%0A%20%20%20%20%20%20%20%20%0A%20%20%20%20%0A%20%20%20%20%20%20%20%20%20%20%20%20var%20div_icon_2a3f0b0bdcae43328098c4fb7c6477d3%20%3D%20L.divIcon%28%7B%22className%22%3A%20%22empty%22%2C%20%22html%22%3A%20%22%5Cu003cdiv%20style%3D%5C%22font-size%3A%20pt%3B%20font-weight%3Abold%3B%5C%22%5Cu003e%5Cuc885%5Cub85c%5Cuad6c%5Cu003c/div%5Cu003e%22%2C%20%22iconAnchor%22%3A%20%5B0%2C%200%5D%2C%20%22iconSize%22%3A%20%5B10%2C%206%5D%7D%29%3B%0A%20%20%20%20%20%20%20%20%20%20%20%20marker_69d2ecb2dac54044913a0642f3917e47.setIcon%28div_icon_2a3f0b0bdcae43328098c4fb7c6477d3%29%3B%0A%20%20%20%20%20%20%20%20%0A%20%20%20%20%0A%20%20%20%20%20%20%20%20%20%20%20%20var%20marker_ce97eb076b3b44e1b69d742d4b628102%20%3D%20L.marker%28%0A%20%20%20%20%20%20%20%20%20%20%20%20%20%20%20%20%5B37.63%2C%20126.93%5D%2C%0A%20%20%20%20%20%20%20%20%20%20%20%20%20%20%20%20%7B%7D%0A%20%20%20%20%20%20%20%20%20%20%20%20%29.addTo%28map_6f8492f0d4fb4e3c9013f1b128576149%29%3B%0A%20%20%20%20%20%20%20%20%0A%20%20%20%20%0A%20%20%20%20%20%20%20%20%20%20%20%20var%20div_icon_2d6525d5999144baa412fba12cf0995b%20%3D%20L.divIcon%28%7B%22className%22%3A%20%22empty%22%2C%20%22html%22%3A%20%22%5Cu003cdiv%20style%3D%5C%22font-size%3A%20pt%3B%20font-weight%3Abold%3B%5C%22%5Cu003e%5Cuc740%5Cud3c9%5Cuad6c%5Cu003c/div%5Cu003e%22%2C%20%22iconAnchor%22%3A%20%5B0%2C%200%5D%2C%20%22iconSize%22%3A%20%5B10%2C%206%5D%7D%29%3B%0A%20%20%20%20%20%20%20%20%20%20%20%20marker_ce97eb076b3b44e1b69d742d4b628102.setIcon%28div_icon_2d6525d5999144baa412fba12cf0995b%29%3B%0A%20%20%20%20%20%20%20%20%0A%20%20%20%20%0A%20%20%20%20%20%20%20%20%20%20%20%20var%20marker_14c31594c2ff477e8a3ffb2a903fbab7%20%3D%20L.marker%28%0A%20%20%20%20%20%20%20%20%20%20%20%20%20%20%20%20%5B37.593%2C%20126.94%5D%2C%0A%20%20%20%20%20%20%20%20%20%20%20%20%20%20%20%20%7B%7D%0A%20%20%20%20%20%20%20%20%20%20%20%20%29.addTo%28map_6f8492f0d4fb4e3c9013f1b128576149%29%3B%0A%20%20%20%20%20%20%20%20%0A%20%20%20%20%0A%20%20%20%20%20%20%20%20%20%20%20%20var%20div_icon_051e1e4344bb4c159005c791af187325%20%3D%20L.divIcon%28%7B%22className%22%3A%20%22empty%22%2C%20%22html%22%3A%20%22%5Cu003cdiv%20style%3D%5C%22font-size%3A%20pt%3B%20font-weight%3Abold%3B%5C%22%5Cu003e%5Cuc11c%5Cub300%5Cubb38%5Cuad6c%5Cu003c/div%5Cu003e%22%2C%20%22iconAnchor%22%3A%20%5B0%2C%200%5D%2C%20%22iconSize%22%3A%20%5B10%2C%206%5D%7D%29%3B%0A%20%20%20%20%20%20%20%20%20%20%20%20marker_14c31594c2ff477e8a3ffb2a903fbab7.setIcon%28div_icon_051e1e4344bb4c159005c791af187325%29%3B%0A%20%20%20%20%20%20%20%20%0A%20%20%20%20%0A%20%20%20%20%20%20%20%20%20%20%20%20var%20marker_ee02e83a0edf491a9718f02754a613c4%20%3D%20L.marker%28%0A%20%20%20%20%20%20%20%20%20%20%20%20%20%20%20%20%5B37.568%2C%20126.91%5D%2C%0A%20%20%20%20%20%20%20%20%20%20%20%20%20%20%20%20%7B%7D%0A%20%20%20%20%20%20%20%20%20%20%20%20%29.addTo%28map_6f8492f0d4fb4e3c9013f1b128576149%29%3B%0A%20%20%20%20%20%20%20%20%0A%20%20%20%20%0A%20%20%20%20%20%20%20%20%20%20%20%20var%20div_icon_592f1b0824a5432dadc3f2a7342c9634%20%3D%20L.divIcon%28%7B%22className%22%3A%20%22empty%22%2C%20%22html%22%3A%20%22%5Cu003cdiv%20style%3D%5C%22font-size%3A%20pt%3B%20font-weight%3Abold%3B%5C%22%5Cu003e%5Cub9c8%5Cud3ec%5Cuad6c%5Cu003c/div%5Cu003e%22%2C%20%22iconAnchor%22%3A%20%5B0%2C%200%5D%2C%20%22iconSize%22%3A%20%5B10%2C%206%5D%7D%29%3B%0A%20%20%20%20%20%20%20%20%20%20%20%20marker_ee02e83a0edf491a9718f02754a613c4.setIcon%28div_icon_592f1b0824a5432dadc3f2a7342c9634%29%3B%0A%20%20%20%20%20%20%20%20%0A%20%20%20%20%0A%20%20%20%20%20%20%20%20%20%20%20%20var%20marker_10efcec1fce240d3984dc8f25e623416%20%3D%20L.marker%28%0A%20%20%20%20%20%20%20%20%20%20%20%20%20%20%20%20%5B37.57%2C%20126.83%5D%2C%0A%20%20%20%20%20%20%20%20%20%20%20%20%20%20%20%20%7B%7D%0A%20%20%20%20%20%20%20%20%20%20%20%20%29.addTo%28map_6f8492f0d4fb4e3c9013f1b128576149%29%3B%0A%20%20%20%20%20%20%20%20%0A%20%20%20%20%0A%20%20%20%20%20%20%20%20%20%20%20%20var%20div_icon_9c16a790a2ea42cbb4d8c276f84943b8%20%3D%20L.divIcon%28%7B%22className%22%3A%20%22empty%22%2C%20%22html%22%3A%20%22%5Cu003cdiv%20style%3D%5C%22font-size%3A%20pt%3B%20font-weight%3Abold%3B%5C%22%5Cu003e%5Cuac15%5Cuc11c%5Cuad6c%5Cu003c/div%5Cu003e%22%2C%20%22iconAnchor%22%3A%20%5B0%2C%200%5D%2C%20%22iconSize%22%3A%20%5B10%2C%206%5D%7D%29%3B%0A%20%20%20%20%20%20%20%20%20%20%20%20marker_10efcec1fce240d3984dc8f25e623416.setIcon%28div_icon_9c16a790a2ea42cbb4d8c276f84943b8%29%3B%0A%20%20%20%20%20%20%20%20%0A%20%20%20%20%0A%20%20%20%20%20%20%20%20%20%20%20%20var%20marker_2a4d082360a44bcea06e34dd41a73d3e%20%3D%20L.marker%28%0A%20%20%20%20%20%20%20%20%20%20%20%20%20%20%20%20%5B37.543%2C%20126.872%5D%2C%0A%20%20%20%20%20%20%20%20%20%20%20%20%20%20%20%20%7B%7D%0A%20%20%20%20%20%20%20%20%20%20%20%20%29.addTo%28map_6f8492f0d4fb4e3c9013f1b128576149%29%3B%0A%20%20%20%20%20%20%20%20%0A%20%20%20%20%0A%20%20%20%20%20%20%20%20%20%20%20%20var%20div_icon_d27ee2b239634c1cb43820d47ae43962%20%3D%20L.divIcon%28%7B%22className%22%3A%20%22empty%22%2C%20%22html%22%3A%20%22%5Cu003cdiv%20style%3D%5C%22font-size%3A%20pt%3B%20font-weight%3Abold%3B%5C%22%5Cu003e%5Cuc591%5Cucc9c%5Cuad6c%5Cu003c/div%5Cu003e%22%2C%20%22iconAnchor%22%3A%20%5B0%2C%200%5D%2C%20%22iconSize%22%3A%20%5B10%2C%206%5D%7D%29%3B%0A%20%20%20%20%20%20%20%20%20%20%20%20marker_2a4d082360a44bcea06e34dd41a73d3e.setIcon%28div_icon_d27ee2b239634c1cb43820d47ae43962%29%3B%0A%20%20%20%20%20%20%20%20%0A%20%20%20%20%0A%20%20%20%20%20%20%20%20%20%20%20%20var%20marker_37eed3fb99184c59a12c65cd1ab04468%20%3D%20L.marker%28%0A%20%20%20%20%20%20%20%20%20%20%20%20%20%20%20%20%5B37.535%2C%20126.905%5D%2C%0A%20%20%20%20%20%20%20%20%20%20%20%20%20%20%20%20%7B%7D%0A%20%20%20%20%20%20%20%20%20%20%20%20%29.addTo%28map_6f8492f0d4fb4e3c9013f1b128576149%29%3B%0A%20%20%20%20%20%20%20%20%0A%20%20%20%20%0A%20%20%20%20%20%20%20%20%20%20%20%20var%20div_icon_f08c3b35b85243479b2f2bbd0f9ab3c3%20%3D%20L.divIcon%28%7B%22className%22%3A%20%22empty%22%2C%20%22html%22%3A%20%22%5Cu003cdiv%20style%3D%5C%22font-size%3A%20pt%3B%20font-weight%3Abold%3B%5C%22%5Cu003e%5Cuc601%5Cub4f1%5Cud3ec%5Cuad6c%5Cu003c/div%5Cu003e%22%2C%20%22iconAnchor%22%3A%20%5B0%2C%200%5D%2C%20%22iconSize%22%3A%20%5B10%2C%206%5D%7D%29%3B%0A%20%20%20%20%20%20%20%20%20%20%20%20marker_37eed3fb99184c59a12c65cd1ab04468.setIcon%28div_icon_f08c3b35b85243479b2f2bbd0f9ab3c3%29%3B%0A%20%20%20%20%20%20%20%20%0A%20%20%20%20%0A%20%20%20%20%20%20%20%20%20%20%20%20var%20marker_43a0cd2d716840dcad6058a8e6a023c0%20%3D%20L.marker%28%0A%20%20%20%20%20%20%20%20%20%20%20%20%20%20%20%20%5B37.508%2C%20126.858%5D%2C%0A%20%20%20%20%20%20%20%20%20%20%20%20%20%20%20%20%7B%7D%0A%20%20%20%20%20%20%20%20%20%20%20%20%29.addTo%28map_6f8492f0d4fb4e3c9013f1b128576149%29%3B%0A%20%20%20%20%20%20%20%20%0A%20%20%20%20%0A%20%20%20%20%20%20%20%20%20%20%20%20var%20div_icon_7002cf2c5f2344d8969c75d470dbad3d%20%3D%20L.divIcon%28%7B%22className%22%3A%20%22empty%22%2C%20%22html%22%3A%20%22%5Cu003cdiv%20style%3D%5C%22font-size%3A%20pt%3B%20font-weight%3Abold%3B%5C%22%5Cu003e%5Cuad6c%5Cub85c%5Cuad6c%5Cu003c/div%5Cu003e%22%2C%20%22iconAnchor%22%3A%20%5B0%2C%200%5D%2C%20%22iconSize%22%3A%20%5B10%2C%206%5D%7D%29%3B%0A%20%20%20%20%20%20%20%20%20%20%20%20marker_43a0cd2d716840dcad6058a8e6a023c0.setIcon%28div_icon_7002cf2c5f2344d8969c75d470dbad3d%29%3B%0A%20%20%20%20%20%20%20%20%0A%20%20%20%20%0A%20%20%20%20%20%20%20%20%20%20%20%20var%20marker_7124b4f909224a76ac892b8e7ea33cd7%20%3D%20L.marker%28%0A%20%20%20%20%20%20%20%20%20%20%20%20%20%20%20%20%5B37.475%2C%20126.895%5D%2C%0A%20%20%20%20%20%20%20%20%20%20%20%20%20%20%20%20%7B%7D%0A%20%20%20%20%20%20%20%20%20%20%20%20%29.addTo%28map_6f8492f0d4fb4e3c9013f1b128576149%29%3B%0A%20%20%20%20%20%20%20%20%0A%20%20%20%20%0A%20%20%20%20%20%20%20%20%20%20%20%20var%20div_icon_efa841221e4a4df197c75811957f174a%20%3D%20L.divIcon%28%7B%22className%22%3A%20%22empty%22%2C%20%22html%22%3A%20%22%5Cu003cdiv%20style%3D%5C%22font-size%3A%20pt%3B%20font-weight%3Abold%3B%5C%22%5Cu003e%5Cuae08%5Cucc9c%5Cuad6c%5Cu003c/div%5Cu003e%22%2C%20%22iconAnchor%22%3A%20%5B0%2C%200%5D%2C%20%22iconSize%22%3A%20%5B10%2C%206%5D%7D%29%3B%0A%20%20%20%20%20%20%20%20%20%20%20%20marker_7124b4f909224a76ac892b8e7ea33cd7.setIcon%28div_icon_efa841221e4a4df197c75811957f174a%29%3B%0A%20%20%20%20%20%20%20%20%0A%20%20%20%20%0A%20%20%20%20%20%20%20%20%20%20%20%20var%20marker_1dbac8888bd24282a824e2834b72c292%20%3D%20L.marker%28%0A%20%20%20%20%20%20%20%20%20%20%20%20%20%20%20%20%5B37.48%2C%20126.94%5D%2C%0A%20%20%20%20%20%20%20%20%20%20%20%20%20%20%20%20%7B%7D%0A%20%20%20%20%20%20%20%20%20%20%20%20%29.addTo%28map_6f8492f0d4fb4e3c9013f1b128576149%29%3B%0A%20%20%20%20%20%20%20%20%0A%20%20%20%20%0A%20%20%20%20%20%20%20%20%20%20%20%20var%20div_icon_fce543aae02142c6bbabe2e5c31c9702%20%3D%20L.divIcon%28%7B%22className%22%3A%20%22empty%22%2C%20%22html%22%3A%20%22%5Cu003cdiv%20style%3D%5C%22font-size%3A%20pt%3B%20font-weight%3Abold%3B%5C%22%5Cu003e%5Cuad00%5Cuc545%5Cuad6c%5Cu003c/div%5Cu003e%22%2C%20%22iconAnchor%22%3A%20%5B0%2C%200%5D%2C%20%22iconSize%22%3A%20%5B10%2C%206%5D%7D%29%3B%0A%20%20%20%20%20%20%20%20%20%20%20%20marker_1dbac8888bd24282a824e2834b72c292.setIcon%28div_icon_fce543aae02142c6bbabe2e5c31c9702%29%3B%0A%20%20%20%20%20%20%20%20%0A%20%20%20%20%0A%20%20%20%20%20%20%20%20%20%20%20%20var%20marker_352584c1e359421e801a870a0358e4d7%20%3D%20L.marker%28%0A%20%20%20%20%20%20%20%20%20%20%20%20%20%20%20%20%5B37.545%2C%20126.98%5D%2C%0A%20%20%20%20%20%20%20%20%20%20%20%20%20%20%20%20%7B%7D%0A%20%20%20%20%20%20%20%20%20%20%20%20%29.addTo%28map_6f8492f0d4fb4e3c9013f1b128576149%29%3B%0A%20%20%20%20%20%20%20%20%0A%20%20%20%20%0A%20%20%20%20%20%20%20%20%20%20%20%20var%20div_icon_ee412b26377142318650dcfe384a53e3%20%3D%20L.divIcon%28%7B%22className%22%3A%20%22empty%22%2C%20%22html%22%3A%20%22%5Cu003cdiv%20style%3D%5C%22font-size%3A%20pt%3B%20font-weight%3Abold%3B%5C%22%5Cu003e%5Cuc6a9%5Cuc0b0%5Cuad6c%5Cu003c/div%5Cu003e%22%2C%20%22iconAnchor%22%3A%20%5B0%2C%200%5D%2C%20%22iconSize%22%3A%20%5B10%2C%206%5D%7D%29%3B%0A%20%20%20%20%20%20%20%20%20%20%20%20marker_352584c1e359421e801a870a0358e4d7.setIcon%28div_icon_ee412b26377142318650dcfe384a53e3%29%3B%0A%20%20%20%20%20%20%20%20%0A%3C/script%3E onload=\"this.contentDocument.open();this.contentDocument.write(    decodeURIComponent(this.getAttribute('data-html')));this.contentDocument.close();\" allowfullscreen webkitallowfullscreen mozallowfullscreen></iframe></div></div>"
      ],
      "text/plain": [
       "<folium.folium.Map at 0x1f433bf5460>"
      ]
     },
     "execution_count": 190,
     "metadata": {},
     "output_type": "execute_result"
    }
   ],
   "source": [
    "seoul_map"
   ]
  },
  {
   "cell_type": "code",
   "execution_count": 191,
   "id": "1e27d12b",
   "metadata": {},
   "outputs": [],
   "source": [
    "seoul_map.save(\"./population.html\")"
   ]
  },
  {
   "cell_type": "code",
   "execution_count": null,
   "id": "91a1b3d4",
   "metadata": {},
   "outputs": [],
   "source": []
  },
  {
   "cell_type": "code",
   "execution_count": null,
   "id": "082c3d6d",
   "metadata": {},
   "outputs": [],
   "source": []
  },
  {
   "cell_type": "code",
   "execution_count": null,
   "id": "54306715",
   "metadata": {},
   "outputs": [],
   "source": []
  }
 ],
 "metadata": {
  "kernelspec": {
   "display_name": "Python 3",
   "language": "python",
   "name": "python3"
  },
  "language_info": {
   "codemirror_mode": {
    "name": "ipython",
    "version": 3
   },
   "file_extension": ".py",
   "mimetype": "text/x-python",
   "name": "python",
   "nbconvert_exporter": "python",
   "pygments_lexer": "ipython3",
   "version": "3.8.8"
  }
 },
 "nbformat": 4,
 "nbformat_minor": 5
}
