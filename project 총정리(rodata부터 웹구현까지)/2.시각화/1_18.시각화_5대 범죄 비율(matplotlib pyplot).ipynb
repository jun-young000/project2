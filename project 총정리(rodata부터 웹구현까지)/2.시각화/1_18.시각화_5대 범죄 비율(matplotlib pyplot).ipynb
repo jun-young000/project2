{
 "cells": [
  {
   "cell_type": "code",
   "execution_count": 1,
   "id": "cfd9f85d",
   "metadata": {},
   "outputs": [],
   "source": [
    "import pandas as pd\n",
    "import numpy as np\n",
    "import matplotlib.pyplot as plt\n",
    "import googlemaps\n",
    "import folium\n",
    "import json\n",
    "\n",
    "# 전체 코드 출력\n",
    "from IPython.core.interactiveshell import InteractiveShell\n",
    "InteractiveShell.ast_node_interactivity=\"all\""
   ]
  },
  {
   "cell_type": "code",
   "execution_count": 2,
   "id": "607d8bb3",
   "metadata": {},
   "outputs": [],
   "source": [
    "# 한글 문제\n",
    "# matplotlit의 기본 폰트에서 한글 지원되지 않기 때문에\n",
    "# matplotlib의 폰트 변경 필요\n",
    "import platform\n",
    "\n",
    "from matplotlib import font_manager, rc\n",
    "plt.rcParams['axes.unicode_minus'] = False\n",
    "\n",
    "if platform.system() == 'Darwin':  # 맥OS \n",
    "    rc('font', family='AppleGothic')\n",
    "elif platform.system() == 'Windows':  # 윈도우\n",
    "    path = \"c:/Windows/Fonts/malgun.ttf\"\n",
    "    font_name = font_manager.FontProperties(fname=path).get_name()\n",
    "    rc('font', family=font_name)\n",
    "else:\n",
    "    print('Unknown system...  sorry~~~')"
   ]
  },
  {
   "cell_type": "markdown",
   "id": "56e76b23",
   "metadata": {},
   "source": [
    "# 서울시 5대 범죄"
   ]
  },
  {
   "cell_type": "code",
   "execution_count": 3,
   "id": "a194de94",
   "metadata": {},
   "outputs": [
    {
     "data": {
      "text/html": [
       "<div>\n",
       "<style scoped>\n",
       "    .dataframe tbody tr th:only-of-type {\n",
       "        vertical-align: middle;\n",
       "    }\n",
       "\n",
       "    .dataframe tbody tr th {\n",
       "        vertical-align: top;\n",
       "    }\n",
       "\n",
       "    .dataframe thead th {\n",
       "        text-align: right;\n",
       "    }\n",
       "</style>\n",
       "<table border=\"1\" class=\"dataframe\">\n",
       "  <thead>\n",
       "    <tr style=\"text-align: right;\">\n",
       "      <th></th>\n",
       "      <th>ID</th>\n",
       "      <th>지역코드</th>\n",
       "      <th>합계</th>\n",
       "      <th>살인</th>\n",
       "      <th>강도</th>\n",
       "      <th>강간강제추행</th>\n",
       "      <th>절도</th>\n",
       "      <th>폭력</th>\n",
       "    </tr>\n",
       "    <tr>\n",
       "      <th>기간코드</th>\n",
       "      <th></th>\n",
       "      <th></th>\n",
       "      <th></th>\n",
       "      <th></th>\n",
       "      <th></th>\n",
       "      <th></th>\n",
       "      <th></th>\n",
       "      <th></th>\n",
       "    </tr>\n",
       "  </thead>\n",
       "  <tbody>\n",
       "    <tr>\n",
       "      <th>17</th>\n",
       "      <td>0</td>\n",
       "      <td>111261</td>\n",
       "      <td>7720</td>\n",
       "      <td>7</td>\n",
       "      <td>20</td>\n",
       "      <td>607</td>\n",
       "      <td>3130</td>\n",
       "      <td>3956</td>\n",
       "    </tr>\n",
       "    <tr>\n",
       "      <th>17</th>\n",
       "      <td>1</td>\n",
       "      <td>111231</td>\n",
       "      <td>5969</td>\n",
       "      <td>15</td>\n",
       "      <td>5</td>\n",
       "      <td>455</td>\n",
       "      <td>2304</td>\n",
       "      <td>3190</td>\n",
       "    </tr>\n",
       "    <tr>\n",
       "      <th>17</th>\n",
       "      <td>2</td>\n",
       "      <td>111273</td>\n",
       "      <td>5576</td>\n",
       "      <td>6</td>\n",
       "      <td>1</td>\n",
       "      <td>288</td>\n",
       "      <td>2274</td>\n",
       "      <td>3007</td>\n",
       "    </tr>\n",
       "    <tr>\n",
       "      <th>17</th>\n",
       "      <td>3</td>\n",
       "      <td>111251</td>\n",
       "      <td>5525</td>\n",
       "      <td>8</td>\n",
       "      <td>7</td>\n",
       "      <td>379</td>\n",
       "      <td>1979</td>\n",
       "      <td>3152</td>\n",
       "    </tr>\n",
       "    <tr>\n",
       "      <th>17</th>\n",
       "      <td>4</td>\n",
       "      <td>111201</td>\n",
       "      <td>5278</td>\n",
       "      <td>3</td>\n",
       "      <td>8</td>\n",
       "      <td>500</td>\n",
       "      <td>2094</td>\n",
       "      <td>2673</td>\n",
       "    </tr>\n",
       "    <tr>\n",
       "      <th>...</th>\n",
       "      <td>...</td>\n",
       "      <td>...</td>\n",
       "      <td>...</td>\n",
       "      <td>...</td>\n",
       "      <td>...</td>\n",
       "      <td>...</td>\n",
       "      <td>...</td>\n",
       "      <td>...</td>\n",
       "    </tr>\n",
       "    <tr>\n",
       "      <th>19</th>\n",
       "      <td>70</td>\n",
       "      <td>111281</td>\n",
       "      <td>3105</td>\n",
       "      <td>6</td>\n",
       "      <td>10</td>\n",
       "      <td>153</td>\n",
       "      <td>1157</td>\n",
       "      <td>1779</td>\n",
       "    </tr>\n",
       "    <tr>\n",
       "      <th>19</th>\n",
       "      <td>71</td>\n",
       "      <td>111191</td>\n",
       "      <td>2943</td>\n",
       "      <td>2</td>\n",
       "      <td>5</td>\n",
       "      <td>175</td>\n",
       "      <td>1226</td>\n",
       "      <td>1535</td>\n",
       "    </tr>\n",
       "    <tr>\n",
       "      <th>19</th>\n",
       "      <td>72</td>\n",
       "      <td>111161</td>\n",
       "      <td>2877</td>\n",
       "      <td>3</td>\n",
       "      <td>3</td>\n",
       "      <td>176</td>\n",
       "      <td>1082</td>\n",
       "      <td>1613</td>\n",
       "    </tr>\n",
       "    <tr>\n",
       "      <th>19</th>\n",
       "      <td>73</td>\n",
       "      <td>111142</td>\n",
       "      <td>2512</td>\n",
       "      <td>6</td>\n",
       "      <td>9</td>\n",
       "      <td>133</td>\n",
       "      <td>970</td>\n",
       "      <td>1394</td>\n",
       "    </tr>\n",
       "    <tr>\n",
       "      <th>19</th>\n",
       "      <td>74</td>\n",
       "      <td>111171</td>\n",
       "      <td>2110</td>\n",
       "      <td>1</td>\n",
       "      <td>5</td>\n",
       "      <td>90</td>\n",
       "      <td>790</td>\n",
       "      <td>1224</td>\n",
       "    </tr>\n",
       "  </tbody>\n",
       "</table>\n",
       "<p>75 rows × 8 columns</p>\n",
       "</div>"
      ],
      "text/plain": [
       "      ID    지역코드    합계  살인  강도  강간강제추행    절도    폭력\n",
       "기간코드                                              \n",
       "17     0  111261  7720   7  20     607  3130  3956\n",
       "17     1  111231  5969  15   5     455  2304  3190\n",
       "17     2  111273  5576   6   1     288  2274  3007\n",
       "17     3  111251  5525   8   7     379  1979  3152\n",
       "17     4  111201  5278   3   8     500  2094  2673\n",
       "...   ..     ...   ...  ..  ..     ...   ...   ...\n",
       "19    70  111281  3105   6  10     153  1157  1779\n",
       "19    71  111191  2943   2   5     175  1226  1535\n",
       "19    72  111161  2877   3   3     176  1082  1613\n",
       "19    73  111142  2512   6   9     133   970  1394\n",
       "19    74  111171  2110   1   5      90   790  1224\n",
       "\n",
       "[75 rows x 8 columns]"
      ]
     },
     "execution_count": 3,
     "metadata": {},
     "output_type": "execute_result"
    }
   ],
   "source": [
    "big5=pd.read_csv('../[0]data/서울시_5대범죄.csv',index_col=1)\n",
    "big5"
   ]
  },
  {
   "cell_type": "code",
   "execution_count": 4,
   "id": "1f6544d8",
   "metadata": {},
   "outputs": [],
   "source": [
    "big5[\"지역코드\"].replace([111181,111191,111201,111301,111212,111221,111281,111231,111241,111273,111274,111123,111121,111131,111142,111141,111152,111161,111291,111171,111251,111262,111261,111151,111311],[\"은평구\",\"서대문구\",\"마포구\",\"양천구\",\"강서구\",\"구로구\",\"금천구\",\"영등포구\",\"동작구\",\"송파구\",\"강동구\",\"종로구\",\"중구\",\"용산구\",\"성동구\",\"광진구\",\"동대문구\",\"성북구\",\"강북구\",\"도봉구\",\"관악구\",\"서초구\",\"강남구\",\"중랑구\",\"노원구\"], inplace=True)"
   ]
  },
  {
   "cell_type": "code",
   "execution_count": 5,
   "id": "05882a9f",
   "metadata": {},
   "outputs": [
    {
     "data": {
      "text/html": [
       "<div>\n",
       "<style scoped>\n",
       "    .dataframe tbody tr th:only-of-type {\n",
       "        vertical-align: middle;\n",
       "    }\n",
       "\n",
       "    .dataframe tbody tr th {\n",
       "        vertical-align: top;\n",
       "    }\n",
       "\n",
       "    .dataframe thead th {\n",
       "        text-align: right;\n",
       "    }\n",
       "</style>\n",
       "<table border=\"1\" class=\"dataframe\">\n",
       "  <thead>\n",
       "    <tr style=\"text-align: right;\">\n",
       "      <th></th>\n",
       "      <th>ID</th>\n",
       "      <th>지역코드</th>\n",
       "      <th>합계</th>\n",
       "      <th>살인</th>\n",
       "      <th>강도</th>\n",
       "      <th>강간강제추행</th>\n",
       "      <th>절도</th>\n",
       "      <th>폭력</th>\n",
       "    </tr>\n",
       "    <tr>\n",
       "      <th>기간코드</th>\n",
       "      <th></th>\n",
       "      <th></th>\n",
       "      <th></th>\n",
       "      <th></th>\n",
       "      <th></th>\n",
       "      <th></th>\n",
       "      <th></th>\n",
       "      <th></th>\n",
       "    </tr>\n",
       "  </thead>\n",
       "  <tbody>\n",
       "    <tr>\n",
       "      <th>17</th>\n",
       "      <td>0</td>\n",
       "      <td>강남구</td>\n",
       "      <td>7720</td>\n",
       "      <td>7</td>\n",
       "      <td>20</td>\n",
       "      <td>607</td>\n",
       "      <td>3130</td>\n",
       "      <td>3956</td>\n",
       "    </tr>\n",
       "    <tr>\n",
       "      <th>17</th>\n",
       "      <td>1</td>\n",
       "      <td>영등포구</td>\n",
       "      <td>5969</td>\n",
       "      <td>15</td>\n",
       "      <td>5</td>\n",
       "      <td>455</td>\n",
       "      <td>2304</td>\n",
       "      <td>3190</td>\n",
       "    </tr>\n",
       "    <tr>\n",
       "      <th>17</th>\n",
       "      <td>2</td>\n",
       "      <td>송파구</td>\n",
       "      <td>5576</td>\n",
       "      <td>6</td>\n",
       "      <td>1</td>\n",
       "      <td>288</td>\n",
       "      <td>2274</td>\n",
       "      <td>3007</td>\n",
       "    </tr>\n",
       "    <tr>\n",
       "      <th>17</th>\n",
       "      <td>3</td>\n",
       "      <td>관악구</td>\n",
       "      <td>5525</td>\n",
       "      <td>8</td>\n",
       "      <td>7</td>\n",
       "      <td>379</td>\n",
       "      <td>1979</td>\n",
       "      <td>3152</td>\n",
       "    </tr>\n",
       "    <tr>\n",
       "      <th>17</th>\n",
       "      <td>4</td>\n",
       "      <td>마포구</td>\n",
       "      <td>5278</td>\n",
       "      <td>3</td>\n",
       "      <td>8</td>\n",
       "      <td>500</td>\n",
       "      <td>2094</td>\n",
       "      <td>2673</td>\n",
       "    </tr>\n",
       "    <tr>\n",
       "      <th>...</th>\n",
       "      <td>...</td>\n",
       "      <td>...</td>\n",
       "      <td>...</td>\n",
       "      <td>...</td>\n",
       "      <td>...</td>\n",
       "      <td>...</td>\n",
       "      <td>...</td>\n",
       "      <td>...</td>\n",
       "    </tr>\n",
       "    <tr>\n",
       "      <th>19</th>\n",
       "      <td>70</td>\n",
       "      <td>금천구</td>\n",
       "      <td>3105</td>\n",
       "      <td>6</td>\n",
       "      <td>10</td>\n",
       "      <td>153</td>\n",
       "      <td>1157</td>\n",
       "      <td>1779</td>\n",
       "    </tr>\n",
       "    <tr>\n",
       "      <th>19</th>\n",
       "      <td>71</td>\n",
       "      <td>서대문구</td>\n",
       "      <td>2943</td>\n",
       "      <td>2</td>\n",
       "      <td>5</td>\n",
       "      <td>175</td>\n",
       "      <td>1226</td>\n",
       "      <td>1535</td>\n",
       "    </tr>\n",
       "    <tr>\n",
       "      <th>19</th>\n",
       "      <td>72</td>\n",
       "      <td>성북구</td>\n",
       "      <td>2877</td>\n",
       "      <td>3</td>\n",
       "      <td>3</td>\n",
       "      <td>176</td>\n",
       "      <td>1082</td>\n",
       "      <td>1613</td>\n",
       "    </tr>\n",
       "    <tr>\n",
       "      <th>19</th>\n",
       "      <td>73</td>\n",
       "      <td>성동구</td>\n",
       "      <td>2512</td>\n",
       "      <td>6</td>\n",
       "      <td>9</td>\n",
       "      <td>133</td>\n",
       "      <td>970</td>\n",
       "      <td>1394</td>\n",
       "    </tr>\n",
       "    <tr>\n",
       "      <th>19</th>\n",
       "      <td>74</td>\n",
       "      <td>도봉구</td>\n",
       "      <td>2110</td>\n",
       "      <td>1</td>\n",
       "      <td>5</td>\n",
       "      <td>90</td>\n",
       "      <td>790</td>\n",
       "      <td>1224</td>\n",
       "    </tr>\n",
       "  </tbody>\n",
       "</table>\n",
       "<p>75 rows × 8 columns</p>\n",
       "</div>"
      ],
      "text/plain": [
       "      ID  지역코드    합계  살인  강도  강간강제추행    절도    폭력\n",
       "기간코드                                            \n",
       "17     0   강남구  7720   7  20     607  3130  3956\n",
       "17     1  영등포구  5969  15   5     455  2304  3190\n",
       "17     2   송파구  5576   6   1     288  2274  3007\n",
       "17     3   관악구  5525   8   7     379  1979  3152\n",
       "17     4   마포구  5278   3   8     500  2094  2673\n",
       "...   ..   ...   ...  ..  ..     ...   ...   ...\n",
       "19    70   금천구  3105   6  10     153  1157  1779\n",
       "19    71  서대문구  2943   2   5     175  1226  1535\n",
       "19    72   성북구  2877   3   3     176  1082  1613\n",
       "19    73   성동구  2512   6   9     133   970  1394\n",
       "19    74   도봉구  2110   1   5      90   790  1224\n",
       "\n",
       "[75 rows x 8 columns]"
      ]
     },
     "execution_count": 5,
     "metadata": {},
     "output_type": "execute_result"
    }
   ],
   "source": [
    "big5"
   ]
  },
  {
   "cell_type": "code",
   "execution_count": 6,
   "id": "7d393f08",
   "metadata": {},
   "outputs": [],
   "source": [
    "big5.drop(\"ID\", axis = 1, inplace = True)"
   ]
  },
  {
   "cell_type": "code",
   "execution_count": 7,
   "id": "563fd7ca",
   "metadata": {},
   "outputs": [
    {
     "data": {
      "text/html": [
       "<div>\n",
       "<style scoped>\n",
       "    .dataframe tbody tr th:only-of-type {\n",
       "        vertical-align: middle;\n",
       "    }\n",
       "\n",
       "    .dataframe tbody tr th {\n",
       "        vertical-align: top;\n",
       "    }\n",
       "\n",
       "    .dataframe thead th {\n",
       "        text-align: right;\n",
       "    }\n",
       "</style>\n",
       "<table border=\"1\" class=\"dataframe\">\n",
       "  <thead>\n",
       "    <tr style=\"text-align: right;\">\n",
       "      <th></th>\n",
       "      <th>지역코드</th>\n",
       "      <th>합계</th>\n",
       "      <th>살인</th>\n",
       "      <th>강도</th>\n",
       "      <th>강간강제추행</th>\n",
       "      <th>절도</th>\n",
       "      <th>폭력</th>\n",
       "    </tr>\n",
       "    <tr>\n",
       "      <th>기간코드</th>\n",
       "      <th></th>\n",
       "      <th></th>\n",
       "      <th></th>\n",
       "      <th></th>\n",
       "      <th></th>\n",
       "      <th></th>\n",
       "      <th></th>\n",
       "    </tr>\n",
       "  </thead>\n",
       "  <tbody>\n",
       "    <tr>\n",
       "      <th>17</th>\n",
       "      <td>강남구</td>\n",
       "      <td>7720</td>\n",
       "      <td>7</td>\n",
       "      <td>20</td>\n",
       "      <td>607</td>\n",
       "      <td>3130</td>\n",
       "      <td>3956</td>\n",
       "    </tr>\n",
       "    <tr>\n",
       "      <th>17</th>\n",
       "      <td>영등포구</td>\n",
       "      <td>5969</td>\n",
       "      <td>15</td>\n",
       "      <td>5</td>\n",
       "      <td>455</td>\n",
       "      <td>2304</td>\n",
       "      <td>3190</td>\n",
       "    </tr>\n",
       "    <tr>\n",
       "      <th>17</th>\n",
       "      <td>송파구</td>\n",
       "      <td>5576</td>\n",
       "      <td>6</td>\n",
       "      <td>1</td>\n",
       "      <td>288</td>\n",
       "      <td>2274</td>\n",
       "      <td>3007</td>\n",
       "    </tr>\n",
       "    <tr>\n",
       "      <th>17</th>\n",
       "      <td>관악구</td>\n",
       "      <td>5525</td>\n",
       "      <td>8</td>\n",
       "      <td>7</td>\n",
       "      <td>379</td>\n",
       "      <td>1979</td>\n",
       "      <td>3152</td>\n",
       "    </tr>\n",
       "    <tr>\n",
       "      <th>17</th>\n",
       "      <td>마포구</td>\n",
       "      <td>5278</td>\n",
       "      <td>3</td>\n",
       "      <td>8</td>\n",
       "      <td>500</td>\n",
       "      <td>2094</td>\n",
       "      <td>2673</td>\n",
       "    </tr>\n",
       "    <tr>\n",
       "      <th>...</th>\n",
       "      <td>...</td>\n",
       "      <td>...</td>\n",
       "      <td>...</td>\n",
       "      <td>...</td>\n",
       "      <td>...</td>\n",
       "      <td>...</td>\n",
       "      <td>...</td>\n",
       "    </tr>\n",
       "    <tr>\n",
       "      <th>19</th>\n",
       "      <td>금천구</td>\n",
       "      <td>3105</td>\n",
       "      <td>6</td>\n",
       "      <td>10</td>\n",
       "      <td>153</td>\n",
       "      <td>1157</td>\n",
       "      <td>1779</td>\n",
       "    </tr>\n",
       "    <tr>\n",
       "      <th>19</th>\n",
       "      <td>서대문구</td>\n",
       "      <td>2943</td>\n",
       "      <td>2</td>\n",
       "      <td>5</td>\n",
       "      <td>175</td>\n",
       "      <td>1226</td>\n",
       "      <td>1535</td>\n",
       "    </tr>\n",
       "    <tr>\n",
       "      <th>19</th>\n",
       "      <td>성북구</td>\n",
       "      <td>2877</td>\n",
       "      <td>3</td>\n",
       "      <td>3</td>\n",
       "      <td>176</td>\n",
       "      <td>1082</td>\n",
       "      <td>1613</td>\n",
       "    </tr>\n",
       "    <tr>\n",
       "      <th>19</th>\n",
       "      <td>성동구</td>\n",
       "      <td>2512</td>\n",
       "      <td>6</td>\n",
       "      <td>9</td>\n",
       "      <td>133</td>\n",
       "      <td>970</td>\n",
       "      <td>1394</td>\n",
       "    </tr>\n",
       "    <tr>\n",
       "      <th>19</th>\n",
       "      <td>도봉구</td>\n",
       "      <td>2110</td>\n",
       "      <td>1</td>\n",
       "      <td>5</td>\n",
       "      <td>90</td>\n",
       "      <td>790</td>\n",
       "      <td>1224</td>\n",
       "    </tr>\n",
       "  </tbody>\n",
       "</table>\n",
       "<p>75 rows × 7 columns</p>\n",
       "</div>"
      ],
      "text/plain": [
       "      지역코드    합계  살인  강도  강간강제추행    절도    폭력\n",
       "기간코드                                        \n",
       "17     강남구  7720   7  20     607  3130  3956\n",
       "17    영등포구  5969  15   5     455  2304  3190\n",
       "17     송파구  5576   6   1     288  2274  3007\n",
       "17     관악구  5525   8   7     379  1979  3152\n",
       "17     마포구  5278   3   8     500  2094  2673\n",
       "...    ...   ...  ..  ..     ...   ...   ...\n",
       "19     금천구  3105   6  10     153  1157  1779\n",
       "19    서대문구  2943   2   5     175  1226  1535\n",
       "19     성북구  2877   3   3     176  1082  1613\n",
       "19     성동구  2512   6   9     133   970  1394\n",
       "19     도봉구  2110   1   5      90   790  1224\n",
       "\n",
       "[75 rows x 7 columns]"
      ]
     },
     "execution_count": 7,
     "metadata": {},
     "output_type": "execute_result"
    }
   ],
   "source": [
    "big5"
   ]
  },
  {
   "cell_type": "code",
   "execution_count": 8,
   "id": "f7dc6799",
   "metadata": {},
   "outputs": [],
   "source": [
    "big5_17 = big5.iloc[0:25]"
   ]
  },
  {
   "cell_type": "code",
   "execution_count": 9,
   "id": "5316e876",
   "metadata": {},
   "outputs": [],
   "source": [
    "big5_18 = big5.iloc[25:50]"
   ]
  },
  {
   "cell_type": "code",
   "execution_count": 10,
   "id": "e1457500",
   "metadata": {},
   "outputs": [],
   "source": [
    "big5_19 = big5.iloc[50:]"
   ]
  },
  {
   "cell_type": "code",
   "execution_count": 11,
   "id": "67e858ac",
   "metadata": {
    "scrolled": true
   },
   "outputs": [
    {
     "data": {
      "text/plain": [
       "142"
      ]
     },
     "execution_count": 11,
     "metadata": {},
     "output_type": "execute_result"
    },
    {
     "data": {
      "text/plain": [
       "169"
      ]
     },
     "execution_count": 11,
     "metadata": {},
     "output_type": "execute_result"
    },
    {
     "data": {
      "text/plain": [
       "6963"
      ]
     },
     "execution_count": 11,
     "metadata": {},
     "output_type": "execute_result"
    },
    {
     "data": {
      "text/plain": [
       "41162"
      ]
     },
     "execution_count": 11,
     "metadata": {},
     "output_type": "execute_result"
    },
    {
     "data": {
      "text/plain": [
       "59399"
      ]
     },
     "execution_count": 11,
     "metadata": {},
     "output_type": "execute_result"
    },
    {
     "name": "stdout",
     "output_type": "stream",
     "text": [
      "--------\n"
     ]
    },
    {
     "data": {
      "text/plain": [
       "143"
      ]
     },
     "execution_count": 11,
     "metadata": {},
     "output_type": "execute_result"
    },
    {
     "data": {
      "text/plain": [
       "143"
      ]
     },
     "execution_count": 11,
     "metadata": {},
     "output_type": "execute_result"
    },
    {
     "data": {
      "text/plain": [
       "6412"
      ]
     },
     "execution_count": 11,
     "metadata": {},
     "output_type": "execute_result"
    },
    {
     "data": {
      "text/plain": [
       "39175"
      ]
     },
     "execution_count": 11,
     "metadata": {},
     "output_type": "execute_result"
    },
    {
     "data": {
      "text/plain": [
       "56075"
      ]
     },
     "execution_count": 11,
     "metadata": {},
     "output_type": "execute_result"
    },
    {
     "name": "stdout",
     "output_type": "stream",
     "text": [
      "--------\n"
     ]
    },
    {
     "data": {
      "text/plain": [
       "136"
      ]
     },
     "execution_count": 11,
     "metadata": {},
     "output_type": "execute_result"
    },
    {
     "data": {
      "text/plain": [
       "136"
      ]
     },
     "execution_count": 11,
     "metadata": {},
     "output_type": "execute_result"
    },
    {
     "data": {
      "text/plain": [
       "6469"
      ]
     },
     "execution_count": 11,
     "metadata": {},
     "output_type": "execute_result"
    },
    {
     "data": {
      "text/plain": [
       "42204"
      ]
     },
     "execution_count": 11,
     "metadata": {},
     "output_type": "execute_result"
    },
    {
     "data": {
      "text/plain": [
       "54723"
      ]
     },
     "execution_count": 11,
     "metadata": {},
     "output_type": "execute_result"
    }
   ],
   "source": [
    "big5_17['살인'].sum()\n",
    "big5_17['강도'].sum()\n",
    "big5_17['강간강제추행'].sum()\n",
    "big5_17['절도'].sum()\n",
    "big5_17['폭력'].sum()\n",
    "print(\"--------\")\n",
    "big5_18['살인'].sum()\n",
    "big5_18['강도'].sum()\n",
    "big5_18['강간강제추행'].sum()\n",
    "big5_18['절도'].sum()\n",
    "big5_18['폭력'].sum()\n",
    "print(\"--------\")\n",
    "big5_19['살인'].sum()\n",
    "big5_19['강도'].sum()\n",
    "big5_19['강간강제추행'].sum()\n",
    "big5_19['절도'].sum()\n",
    "big5_19['폭력'].sum()"
   ]
  },
  {
   "cell_type": "code",
   "execution_count": 12,
   "id": "d53927d1",
   "metadata": {},
   "outputs": [
    {
     "data": {
      "text/plain": [
       "<Figure size 720x720 with 0 Axes>"
      ]
     },
     "execution_count": 12,
     "metadata": {},
     "output_type": "execute_result"
    },
    {
     "data": {
      "text/plain": [
       "Text(0.5, 1.0, '<2017~19년 서울 5대 범죄 비율>')"
      ]
     },
     "execution_count": 12,
     "metadata": {},
     "output_type": "execute_result"
    },
    {
     "data": {
      "text/plain": [
       "([<matplotlib.patches.Wedge at 0x1dfd9376c70>,\n",
       "  <matplotlib.patches.Wedge at 0x1dfd9a1f520>,\n",
       "  <matplotlib.patches.Wedge at 0x1dfd9a1fdf0>,\n",
       "  <matplotlib.patches.Wedge at 0x1dfd9a2e700>,\n",
       "  <matplotlib.patches.Wedge at 0x1dfd9a2efd0>],\n",
       " [Text(-1.4116910640227245, -0.5070782383009432, '살인'),\n",
       "  Text(-1.1879662353700526, -0.16951762038415055, '강간강제추행'),\n",
       "  Text(-1.4971513347633085, 0.09240065376632538, '강도'),\n",
       "  Text(-0.30846564190812725, 1.0870827695084708, '절도'),\n",
       "  Text(0.5259008969619965, -1.0001641098212672, '폭력')],\n",
       " [Text(-0.9411273760151495, -0.33805215886729545, '0.1 %'),\n",
       "  Text(-0.692980303965864, -0.09888527855742116, '6.3 %'),\n",
       "  Text(-0.9981008898422056, 0.061600435844216914, '0.1 %'),\n",
       "  Text(-0.1719764198248851, 0.6060726945047227, '39.1 %'),\n",
       "  Text(0.2932013850319095, -0.5576136187499099, '54.3 %')])"
      ]
     },
     "execution_count": 12,
     "metadata": {},
     "output_type": "execute_result"
    },
    {
     "data": {
      "text/plain": [
       "<matplotlib.legend.Legend at 0x1dfd9376b20>"
      ]
     },
     "execution_count": 12,
     "metadata": {},
     "output_type": "execute_result"
    },
    {
     "data": {
      "image/png": "[encoded data removed]",
      "text/plain": [
       "<Figure size 720x720 with 1 Axes>"
      ]
     },
     "metadata": {},
     "output_type": "display_data"
    },
    {
     "data": {
      "text/plain": [
       "<Figure size 432x288 with 0 Axes>"
      ]
     },
     "metadata": {},
     "output_type": "display_data"
    }
   ],
   "source": [
    "labels=['살인', '강간강제추행', '강도', '절도', '폭력']\n",
    "size=[140.33,6614.66,149.33,40847,56732.33]\n",
    "colors=['#4E6BA6','#85BFF2','#D99A25', '#F2BE5C', '#4E6BA6']\n",
    "explode=[0.4,0.1,0.4,0.03,0.03]\n",
    "\n",
    "plt.figure(figsize=(10,10))\n",
    "plt.title('<2017~19년 서울 5대 범죄 비율>',fontsize=20,pad=30,fontweight=\"bold\")\n",
    "wedgeprops={'width': 0.7, 'edgecolor': 'w', 'linewidth': 5}\n",
    "\n",
    "plt.pie(size, labels=labels, colors=colors,startangle=200,autopct='%1.1f %%',counterclock=False,explode=explode,shadow=True,\n",
    "       textprops = {'fontsize':15})\n",
    "plt.legend(labels=labels, loc='upper right')\n",
    "plt.show()\n",
    "\n",
    "plt.savefig('../[1]시각화/시각화_17-19_서울_5대범죄_비율.png')"
   ]
  }
 ],
 "metadata": {
  "kernelspec": {
   "display_name": "Python 3",
   "language": "python",
   "name": "python3"
  },
  "language_info": {
   "codemirror_mode": {
    "name": "ipython",
    "version": 3
   },
   "file_extension": ".py",
   "mimetype": "text/x-python",
   "name": "python",
   "nbconvert_exporter": "python",
   "pygments_lexer": "ipython3",
   "version": "3.8.8"
  }
 },
 "nbformat": 4,
 "nbformat_minor": 5
}
