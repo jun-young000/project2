{
 "cells": [
  {
   "cell_type": "code",
   "execution_count": 1,
   "id": "f56c6826",
   "metadata": {},
   "outputs": [],
   "source": [
    "import numpy as np\n",
    "import pandas as pd\n",
    "import matplotlib as mpl\n",
    "import matplotlib.pyplot as plt\n",
    "import seaborn as sns\n",
    "\n",
    "import matplotlib.font_manager as fm\n",
    "font_name = fm.FontProperties(fname=\"C:/Windows/Fonts/malgun.ttf\").get_name()\n",
    "plt.rc('font', family=font_name)\n",
    "\n",
    "mpl.rcParams[\"axes.unicode_minus\"] = False"
   ]
  },
  {
   "cell_type": "code",
   "execution_count": 2,
   "id": "ebbd36c2",
   "metadata": {},
   "outputs": [],
   "source": [
    "import folium\n",
    "import json\n",
    "from folium.features import DivIcon\n"
   ]
  },
  {
   "cell_type": "code",
   "execution_count": 3,
   "id": "92ca3b8e",
   "metadata": {},
   "outputs": [],
   "source": [
    "# 전체 코드 출력\n",
    "from IPython.core.interactiveshell import InteractiveShell\n",
    "InteractiveShell.ast_node_interactivity=\"all\""
   ]
  },
  {
   "cell_type": "code",
   "execution_count": 4,
   "id": "60e557d1",
   "metadata": {},
   "outputs": [],
   "source": [
    "# 한글 문제\n",
    "# matplotlit의 기본 폰트에서 한글 지원되지 않기 때문에\n",
    "# matplotlib의 폰트 변경 필요\n",
    "import platform\n",
    "\n",
    "from matplotlib import font_manager, rc\n",
    "plt.rcParams['axes.unicode_minus'] = False\n",
    "\n",
    "if platform.system() == 'Darwin':  # 맥OS \n",
    "    rc('font', family='AppleGothic')\n",
    "elif platform.system() == 'Windows':  # 윈도우\n",
    "    path = \"c:/Windows/Fonts/malgun.ttf\"\n",
    "    font_name = font_manager.FontProperties(fname=path).get_name()\n",
    "    rc('font', family=font_name)\n",
    "else:\n",
    "    print('Unknown system...  sorry~~~')"
   ]
  },
  {
   "cell_type": "code",
   "execution_count": 5,
   "id": "d6aaad60",
   "metadata": {},
   "outputs": [
    {
     "data": {
      "text/html": [
       "<div>\n",
       "<style scoped>\n",
       "    .dataframe tbody tr th:only-of-type {\n",
       "        vertical-align: middle;\n",
       "    }\n",
       "\n",
       "    .dataframe tbody tr th {\n",
       "        vertical-align: top;\n",
       "    }\n",
       "\n",
       "    .dataframe thead th {\n",
       "        text-align: right;\n",
       "    }\n",
       "</style>\n",
       "<table border=\"1\" class=\"dataframe\">\n",
       "  <thead>\n",
       "    <tr style=\"text-align: right;\">\n",
       "      <th></th>\n",
       "      <th>5대범죄합계</th>\n",
       "      <th>cctv합계</th>\n",
       "      <th>5대범죄발생대비cctv개수</th>\n",
       "      <th>순위</th>\n",
       "    </tr>\n",
       "    <tr>\n",
       "      <th>지역구</th>\n",
       "      <th></th>\n",
       "      <th></th>\n",
       "      <th></th>\n",
       "      <th></th>\n",
       "    </tr>\n",
       "  </thead>\n",
       "  <tbody>\n",
       "    <tr>\n",
       "      <th>강북구</th>\n",
       "      <td>8109</td>\n",
       "      <td>1890</td>\n",
       "      <td>429</td>\n",
       "      <td>1</td>\n",
       "    </tr>\n",
       "    <tr>\n",
       "      <th>송파구</th>\n",
       "      <td>13282</td>\n",
       "      <td>3197</td>\n",
       "      <td>415</td>\n",
       "      <td>2</td>\n",
       "    </tr>\n",
       "    <tr>\n",
       "      <th>마포구</th>\n",
       "      <td>12064</td>\n",
       "      <td>3571</td>\n",
       "      <td>338</td>\n",
       "      <td>3</td>\n",
       "    </tr>\n",
       "    <tr>\n",
       "      <th>중랑구</th>\n",
       "      <td>10282</td>\n",
       "      <td>3219</td>\n",
       "      <td>319</td>\n",
       "      <td>4</td>\n",
       "    </tr>\n",
       "    <tr>\n",
       "      <th>강서구</th>\n",
       "      <td>11405</td>\n",
       "      <td>3683</td>\n",
       "      <td>310</td>\n",
       "      <td>5</td>\n",
       "    </tr>\n",
       "    <tr>\n",
       "      <th>중구</th>\n",
       "      <td>9656</td>\n",
       "      <td>3231</td>\n",
       "      <td>299</td>\n",
       "      <td>6</td>\n",
       "    </tr>\n",
       "    <tr>\n",
       "      <th>강동구</th>\n",
       "      <td>9518</td>\n",
       "      <td>3421</td>\n",
       "      <td>278</td>\n",
       "      <td>7</td>\n",
       "    </tr>\n",
       "    <tr>\n",
       "      <th>광진구</th>\n",
       "      <td>9898</td>\n",
       "      <td>3667</td>\n",
       "      <td>270</td>\n",
       "      <td>8</td>\n",
       "    </tr>\n",
       "    <tr>\n",
       "      <th>영등포구</th>\n",
       "      <td>13749</td>\n",
       "      <td>5185</td>\n",
       "      <td>265</td>\n",
       "      <td>9</td>\n",
       "    </tr>\n",
       "    <tr>\n",
       "      <th>노원구</th>\n",
       "      <td>9600</td>\n",
       "      <td>3636</td>\n",
       "      <td>264</td>\n",
       "      <td>10</td>\n",
       "    </tr>\n",
       "    <tr>\n",
       "      <th>종로구</th>\n",
       "      <td>9029</td>\n",
       "      <td>3465</td>\n",
       "      <td>261</td>\n",
       "      <td>11</td>\n",
       "    </tr>\n",
       "    <tr>\n",
       "      <th>용산구</th>\n",
       "      <td>8575</td>\n",
       "      <td>3382</td>\n",
       "      <td>254</td>\n",
       "      <td>12</td>\n",
       "    </tr>\n",
       "    <tr>\n",
       "      <th>금천구</th>\n",
       "      <td>7593</td>\n",
       "      <td>3055</td>\n",
       "      <td>249</td>\n",
       "      <td>13</td>\n",
       "    </tr>\n",
       "    <tr>\n",
       "      <th>도봉구</th>\n",
       "      <td>4951</td>\n",
       "      <td>2019</td>\n",
       "      <td>245</td>\n",
       "      <td>14</td>\n",
       "    </tr>\n",
       "    <tr>\n",
       "      <th>동작구</th>\n",
       "      <td>7563</td>\n",
       "      <td>3412</td>\n",
       "      <td>222</td>\n",
       "      <td>15</td>\n",
       "    </tr>\n",
       "    <tr>\n",
       "      <th>동대문구</th>\n",
       "      <td>8886</td>\n",
       "      <td>4544</td>\n",
       "      <td>196</td>\n",
       "      <td>16</td>\n",
       "    </tr>\n",
       "    <tr>\n",
       "      <th>서초구</th>\n",
       "      <td>11281</td>\n",
       "      <td>6512</td>\n",
       "      <td>173</td>\n",
       "      <td>17</td>\n",
       "    </tr>\n",
       "    <tr>\n",
       "      <th>은평구</th>\n",
       "      <td>8766</td>\n",
       "      <td>5119</td>\n",
       "      <td>171</td>\n",
       "      <td>18</td>\n",
       "    </tr>\n",
       "    <tr>\n",
       "      <th>강남구</th>\n",
       "      <td>17668</td>\n",
       "      <td>10645</td>\n",
       "      <td>166</td>\n",
       "      <td>19</td>\n",
       "    </tr>\n",
       "    <tr>\n",
       "      <th>구로구</th>\n",
       "      <td>11274</td>\n",
       "      <td>7184</td>\n",
       "      <td>157</td>\n",
       "      <td>20</td>\n",
       "    </tr>\n",
       "    <tr>\n",
       "      <th>관악구</th>\n",
       "      <td>12327</td>\n",
       "      <td>8737</td>\n",
       "      <td>141</td>\n",
       "      <td>21</td>\n",
       "    </tr>\n",
       "    <tr>\n",
       "      <th>서대문구</th>\n",
       "      <td>6896</td>\n",
       "      <td>5008</td>\n",
       "      <td>138</td>\n",
       "      <td>22</td>\n",
       "    </tr>\n",
       "    <tr>\n",
       "      <th>양천구</th>\n",
       "      <td>8468</td>\n",
       "      <td>6282</td>\n",
       "      <td>135</td>\n",
       "      <td>23</td>\n",
       "    </tr>\n",
       "    <tr>\n",
       "      <th>성북구</th>\n",
       "      <td>7435</td>\n",
       "      <td>5916</td>\n",
       "      <td>126</td>\n",
       "      <td>24</td>\n",
       "    </tr>\n",
       "    <tr>\n",
       "      <th>성동구</th>\n",
       "      <td>6061</td>\n",
       "      <td>6238</td>\n",
       "      <td>97</td>\n",
       "      <td>25</td>\n",
       "    </tr>\n",
       "  </tbody>\n",
       "</table>\n",
       "</div>"
      ],
      "text/plain": [
       "      5대범죄합계  cctv합계  5대범죄발생대비cctv개수  순위\n",
       "지역구                                     \n",
       "강북구     8109    1890             429   1\n",
       "송파구    13282    3197             415   2\n",
       "마포구    12064    3571             338   3\n",
       "중랑구    10282    3219             319   4\n",
       "강서구    11405    3683             310   5\n",
       "중구      9656    3231             299   6\n",
       "강동구     9518    3421             278   7\n",
       "광진구     9898    3667             270   8\n",
       "영등포구   13749    5185             265   9\n",
       "노원구     9600    3636             264  10\n",
       "종로구     9029    3465             261  11\n",
       "용산구     8575    3382             254  12\n",
       "금천구     7593    3055             249  13\n",
       "도봉구     4951    2019             245  14\n",
       "동작구     7563    3412             222  15\n",
       "동대문구    8886    4544             196  16\n",
       "서초구    11281    6512             173  17\n",
       "은평구     8766    5119             171  18\n",
       "강남구    17668   10645             166  19\n",
       "구로구    11274    7184             157  20\n",
       "관악구    12327    8737             141  21\n",
       "서대문구    6896    5008             138  22\n",
       "양천구     8468    6282             135  23\n",
       "성북구     7435    5916             126  24\n",
       "성동구     6061    6238              97  25"
      ]
     },
     "execution_count": 5,
     "metadata": {},
     "output_type": "execute_result"
    }
   ],
   "source": [
    "cctv=pd.read_csv('./cctv_랭킹.csv',index_col=0)\n",
    "cctv "
   ]
  },
  {
   "cell_type": "code",
   "execution_count": 6,
   "id": "99c0de80",
   "metadata": {},
   "outputs": [
    {
     "ename": "FileNotFoundError",
     "evalue": "[Errno 2] No such file or directory: './유흥업소_랭킹.csv'",
     "output_type": "error",
     "traceback": [
      "\u001b[1;31m---------------------------------------------------------------------------\u001b[0m",
      "\u001b[1;31mFileNotFoundError\u001b[0m                         Traceback (most recent call last)",
      "\u001b[1;32m<ipython-input-6-990e26d716a8>\u001b[0m in \u001b[0;36m<module>\u001b[1;34m\u001b[0m\n\u001b[1;32m----> 1\u001b[1;33m \u001b[0mkaraoke\u001b[0m\u001b[1;33m=\u001b[0m\u001b[0mpd\u001b[0m\u001b[1;33m.\u001b[0m\u001b[0mread_csv\u001b[0m\u001b[1;33m(\u001b[0m\u001b[1;34m'./유흥업소_랭킹.csv'\u001b[0m\u001b[1;33m,\u001b[0m\u001b[0mindex_col\u001b[0m\u001b[1;33m=\u001b[0m\u001b[1;36m0\u001b[0m\u001b[1;33m)\u001b[0m\u001b[1;33m\u001b[0m\u001b[1;33m\u001b[0m\u001b[0m\n\u001b[0m\u001b[0;32m      2\u001b[0m \u001b[0mkaraoke\u001b[0m\u001b[1;33m\u001b[0m\u001b[1;33m\u001b[0m\u001b[0m\n",
      "\u001b[1;32mC:\\ProgramData\\Anaconda3\\lib\\site-packages\\pandas\\io\\parsers.py\u001b[0m in \u001b[0;36mread_csv\u001b[1;34m(filepath_or_buffer, sep, delimiter, header, names, index_col, usecols, squeeze, prefix, mangle_dupe_cols, dtype, engine, converters, true_values, false_values, skipinitialspace, skiprows, skipfooter, nrows, na_values, keep_default_na, na_filter, verbose, skip_blank_lines, parse_dates, infer_datetime_format, keep_date_col, date_parser, dayfirst, cache_dates, iterator, chunksize, compression, thousands, decimal, lineterminator, quotechar, quoting, doublequote, escapechar, comment, encoding, dialect, error_bad_lines, warn_bad_lines, delim_whitespace, low_memory, memory_map, float_precision, storage_options)\u001b[0m\n\u001b[0;32m    608\u001b[0m     \u001b[0mkwds\u001b[0m\u001b[1;33m.\u001b[0m\u001b[0mupdate\u001b[0m\u001b[1;33m(\u001b[0m\u001b[0mkwds_defaults\u001b[0m\u001b[1;33m)\u001b[0m\u001b[1;33m\u001b[0m\u001b[1;33m\u001b[0m\u001b[0m\n\u001b[0;32m    609\u001b[0m \u001b[1;33m\u001b[0m\u001b[0m\n\u001b[1;32m--> 610\u001b[1;33m     \u001b[1;32mreturn\u001b[0m \u001b[0m_read\u001b[0m\u001b[1;33m(\u001b[0m\u001b[0mfilepath_or_buffer\u001b[0m\u001b[1;33m,\u001b[0m \u001b[0mkwds\u001b[0m\u001b[1;33m)\u001b[0m\u001b[1;33m\u001b[0m\u001b[1;33m\u001b[0m\u001b[0m\n\u001b[0m\u001b[0;32m    611\u001b[0m \u001b[1;33m\u001b[0m\u001b[0m\n\u001b[0;32m    612\u001b[0m \u001b[1;33m\u001b[0m\u001b[0m\n",
      "\u001b[1;32mC:\\ProgramData\\Anaconda3\\lib\\site-packages\\pandas\\io\\parsers.py\u001b[0m in \u001b[0;36m_read\u001b[1;34m(filepath_or_buffer, kwds)\u001b[0m\n\u001b[0;32m    460\u001b[0m \u001b[1;33m\u001b[0m\u001b[0m\n\u001b[0;32m    461\u001b[0m     \u001b[1;31m# Create the parser.\u001b[0m\u001b[1;33m\u001b[0m\u001b[1;33m\u001b[0m\u001b[1;33m\u001b[0m\u001b[0m\n\u001b[1;32m--> 462\u001b[1;33m     \u001b[0mparser\u001b[0m \u001b[1;33m=\u001b[0m \u001b[0mTextFileReader\u001b[0m\u001b[1;33m(\u001b[0m\u001b[0mfilepath_or_buffer\u001b[0m\u001b[1;33m,\u001b[0m \u001b[1;33m**\u001b[0m\u001b[0mkwds\u001b[0m\u001b[1;33m)\u001b[0m\u001b[1;33m\u001b[0m\u001b[1;33m\u001b[0m\u001b[0m\n\u001b[0m\u001b[0;32m    463\u001b[0m \u001b[1;33m\u001b[0m\u001b[0m\n\u001b[0;32m    464\u001b[0m     \u001b[1;32mif\u001b[0m \u001b[0mchunksize\u001b[0m \u001b[1;32mor\u001b[0m \u001b[0miterator\u001b[0m\u001b[1;33m:\u001b[0m\u001b[1;33m\u001b[0m\u001b[1;33m\u001b[0m\u001b[0m\n",
      "\u001b[1;32mC:\\ProgramData\\Anaconda3\\lib\\site-packages\\pandas\\io\\parsers.py\u001b[0m in \u001b[0;36m__init__\u001b[1;34m(self, f, engine, **kwds)\u001b[0m\n\u001b[0;32m    817\u001b[0m             \u001b[0mself\u001b[0m\u001b[1;33m.\u001b[0m\u001b[0moptions\u001b[0m\u001b[1;33m[\u001b[0m\u001b[1;34m\"has_index_names\"\u001b[0m\u001b[1;33m]\u001b[0m \u001b[1;33m=\u001b[0m \u001b[0mkwds\u001b[0m\u001b[1;33m[\u001b[0m\u001b[1;34m\"has_index_names\"\u001b[0m\u001b[1;33m]\u001b[0m\u001b[1;33m\u001b[0m\u001b[1;33m\u001b[0m\u001b[0m\n\u001b[0;32m    818\u001b[0m \u001b[1;33m\u001b[0m\u001b[0m\n\u001b[1;32m--> 819\u001b[1;33m         \u001b[0mself\u001b[0m\u001b[1;33m.\u001b[0m\u001b[0m_engine\u001b[0m \u001b[1;33m=\u001b[0m \u001b[0mself\u001b[0m\u001b[1;33m.\u001b[0m\u001b[0m_make_engine\u001b[0m\u001b[1;33m(\u001b[0m\u001b[0mself\u001b[0m\u001b[1;33m.\u001b[0m\u001b[0mengine\u001b[0m\u001b[1;33m)\u001b[0m\u001b[1;33m\u001b[0m\u001b[1;33m\u001b[0m\u001b[0m\n\u001b[0m\u001b[0;32m    820\u001b[0m \u001b[1;33m\u001b[0m\u001b[0m\n\u001b[0;32m    821\u001b[0m     \u001b[1;32mdef\u001b[0m \u001b[0mclose\u001b[0m\u001b[1;33m(\u001b[0m\u001b[0mself\u001b[0m\u001b[1;33m)\u001b[0m\u001b[1;33m:\u001b[0m\u001b[1;33m\u001b[0m\u001b[1;33m\u001b[0m\u001b[0m\n",
      "\u001b[1;32mC:\\ProgramData\\Anaconda3\\lib\\site-packages\\pandas\\io\\parsers.py\u001b[0m in \u001b[0;36m_make_engine\u001b[1;34m(self, engine)\u001b[0m\n\u001b[0;32m   1048\u001b[0m             )\n\u001b[0;32m   1049\u001b[0m         \u001b[1;31m# error: Too many arguments for \"ParserBase\"\u001b[0m\u001b[1;33m\u001b[0m\u001b[1;33m\u001b[0m\u001b[1;33m\u001b[0m\u001b[0m\n\u001b[1;32m-> 1050\u001b[1;33m         \u001b[1;32mreturn\u001b[0m \u001b[0mmapping\u001b[0m\u001b[1;33m[\u001b[0m\u001b[0mengine\u001b[0m\u001b[1;33m]\u001b[0m\u001b[1;33m(\u001b[0m\u001b[0mself\u001b[0m\u001b[1;33m.\u001b[0m\u001b[0mf\u001b[0m\u001b[1;33m,\u001b[0m \u001b[1;33m**\u001b[0m\u001b[0mself\u001b[0m\u001b[1;33m.\u001b[0m\u001b[0moptions\u001b[0m\u001b[1;33m)\u001b[0m  \u001b[1;31m# type: ignore[call-arg]\u001b[0m\u001b[1;33m\u001b[0m\u001b[1;33m\u001b[0m\u001b[0m\n\u001b[0m\u001b[0;32m   1051\u001b[0m \u001b[1;33m\u001b[0m\u001b[0m\n\u001b[0;32m   1052\u001b[0m     \u001b[1;32mdef\u001b[0m \u001b[0m_failover_to_python\u001b[0m\u001b[1;33m(\u001b[0m\u001b[0mself\u001b[0m\u001b[1;33m)\u001b[0m\u001b[1;33m:\u001b[0m\u001b[1;33m\u001b[0m\u001b[1;33m\u001b[0m\u001b[0m\n",
      "\u001b[1;32mC:\\ProgramData\\Anaconda3\\lib\\site-packages\\pandas\\io\\parsers.py\u001b[0m in \u001b[0;36m__init__\u001b[1;34m(self, src, **kwds)\u001b[0m\n\u001b[0;32m   1865\u001b[0m \u001b[1;33m\u001b[0m\u001b[0m\n\u001b[0;32m   1866\u001b[0m         \u001b[1;31m# open handles\u001b[0m\u001b[1;33m\u001b[0m\u001b[1;33m\u001b[0m\u001b[1;33m\u001b[0m\u001b[0m\n\u001b[1;32m-> 1867\u001b[1;33m         \u001b[0mself\u001b[0m\u001b[1;33m.\u001b[0m\u001b[0m_open_handles\u001b[0m\u001b[1;33m(\u001b[0m\u001b[0msrc\u001b[0m\u001b[1;33m,\u001b[0m \u001b[0mkwds\u001b[0m\u001b[1;33m)\u001b[0m\u001b[1;33m\u001b[0m\u001b[1;33m\u001b[0m\u001b[0m\n\u001b[0m\u001b[0;32m   1868\u001b[0m         \u001b[1;32massert\u001b[0m \u001b[0mself\u001b[0m\u001b[1;33m.\u001b[0m\u001b[0mhandles\u001b[0m \u001b[1;32mis\u001b[0m \u001b[1;32mnot\u001b[0m \u001b[1;32mNone\u001b[0m\u001b[1;33m\u001b[0m\u001b[1;33m\u001b[0m\u001b[0m\n\u001b[0;32m   1869\u001b[0m         \u001b[1;32mfor\u001b[0m \u001b[0mkey\u001b[0m \u001b[1;32min\u001b[0m \u001b[1;33m(\u001b[0m\u001b[1;34m\"storage_options\"\u001b[0m\u001b[1;33m,\u001b[0m \u001b[1;34m\"encoding\"\u001b[0m\u001b[1;33m,\u001b[0m \u001b[1;34m\"memory_map\"\u001b[0m\u001b[1;33m,\u001b[0m \u001b[1;34m\"compression\"\u001b[0m\u001b[1;33m)\u001b[0m\u001b[1;33m:\u001b[0m\u001b[1;33m\u001b[0m\u001b[1;33m\u001b[0m\u001b[0m\n",
      "\u001b[1;32mC:\\ProgramData\\Anaconda3\\lib\\site-packages\\pandas\\io\\parsers.py\u001b[0m in \u001b[0;36m_open_handles\u001b[1;34m(self, src, kwds)\u001b[0m\n\u001b[0;32m   1360\u001b[0m         \u001b[0mLet\u001b[0m \u001b[0mthe\u001b[0m \u001b[0mreaders\u001b[0m \u001b[0mopen\u001b[0m \u001b[0mIOHanldes\u001b[0m \u001b[0mafter\u001b[0m \u001b[0mthey\u001b[0m \u001b[0mare\u001b[0m \u001b[0mdone\u001b[0m \u001b[1;32mwith\u001b[0m \u001b[0mtheir\u001b[0m \u001b[0mpotential\u001b[0m \u001b[0mraises\u001b[0m\u001b[1;33m.\u001b[0m\u001b[1;33m\u001b[0m\u001b[1;33m\u001b[0m\u001b[0m\n\u001b[0;32m   1361\u001b[0m         \"\"\"\n\u001b[1;32m-> 1362\u001b[1;33m         self.handles = get_handle(\n\u001b[0m\u001b[0;32m   1363\u001b[0m             \u001b[0msrc\u001b[0m\u001b[1;33m,\u001b[0m\u001b[1;33m\u001b[0m\u001b[1;33m\u001b[0m\u001b[0m\n\u001b[0;32m   1364\u001b[0m             \u001b[1;34m\"r\"\u001b[0m\u001b[1;33m,\u001b[0m\u001b[1;33m\u001b[0m\u001b[1;33m\u001b[0m\u001b[0m\n",
      "\u001b[1;32mC:\\ProgramData\\Anaconda3\\lib\\site-packages\\pandas\\io\\common.py\u001b[0m in \u001b[0;36mget_handle\u001b[1;34m(path_or_buf, mode, encoding, compression, memory_map, is_text, errors, storage_options)\u001b[0m\n\u001b[0;32m    640\u001b[0m                 \u001b[0merrors\u001b[0m \u001b[1;33m=\u001b[0m \u001b[1;34m\"replace\"\u001b[0m\u001b[1;33m\u001b[0m\u001b[1;33m\u001b[0m\u001b[0m\n\u001b[0;32m    641\u001b[0m             \u001b[1;31m# Encoding\u001b[0m\u001b[1;33m\u001b[0m\u001b[1;33m\u001b[0m\u001b[1;33m\u001b[0m\u001b[0m\n\u001b[1;32m--> 642\u001b[1;33m             handle = open(\n\u001b[0m\u001b[0;32m    643\u001b[0m                 \u001b[0mhandle\u001b[0m\u001b[1;33m,\u001b[0m\u001b[1;33m\u001b[0m\u001b[1;33m\u001b[0m\u001b[0m\n\u001b[0;32m    644\u001b[0m                 \u001b[0mioargs\u001b[0m\u001b[1;33m.\u001b[0m\u001b[0mmode\u001b[0m\u001b[1;33m,\u001b[0m\u001b[1;33m\u001b[0m\u001b[1;33m\u001b[0m\u001b[0m\n",
      "\u001b[1;31mFileNotFoundError\u001b[0m: [Errno 2] No such file or directory: './유흥업소_랭킹.csv'"
     ]
    }
   ],
   "source": [
    "karaoke=pd.read_csv('./유흥업소_랭킹.csv',index_col=0)\n",
    "karaoke"
   ]
  },
  {
   "cell_type": "code",
   "execution_count": null,
   "id": "5ea44e9a",
   "metadata": {},
   "outputs": [],
   "source": [
    "karaoke.rename(columns={'지역코드':'지역구','랭크':'순위'},inplace=True)\n"
   ]
  },
  {
   "cell_type": "code",
   "execution_count": null,
   "id": "d077f0e8",
   "metadata": {},
   "outputs": [],
   "source": [
    "karaoke=karaoke.set_index(['지역구'])\n",
    "karaoke"
   ]
  },
  {
   "cell_type": "code",
   "execution_count": null,
   "id": "d0e2fde2",
   "metadata": {},
   "outputs": [],
   "source": [
    "cctv =cctv [['순위']]\n",
    "karaoke=karaoke[['순위']]"
   ]
  },
  {
   "cell_type": "code",
   "execution_count": null,
   "id": "d11dbe85",
   "metadata": {},
   "outputs": [],
   "source": [
    "cctv \n",
    "karaoke"
   ]
  },
  {
   "cell_type": "code",
   "execution_count": null,
   "id": "4ad73ad6",
   "metadata": {},
   "outputs": [],
   "source": [
    "safety_seoul=pd.merge(karaoke,cctv,on='지역구')"
   ]
  },
  {
   "cell_type": "code",
   "execution_count": null,
   "id": "35cd0909",
   "metadata": {},
   "outputs": [],
   "source": [
    "safety_seoul.rename(columns={'순위_x':'유흥업소순위','순위_y':'cctv순위'},inplace=True)"
   ]
  },
  {
   "cell_type": "code",
   "execution_count": null,
   "id": "a16d5297",
   "metadata": {},
   "outputs": [],
   "source": [
    "safety_seoul['순위합계']=(safety_seoul['유흥업소순위']+safety_seoul['cctv순위'])/2"
   ]
  },
  {
   "cell_type": "code",
   "execution_count": null,
   "id": "1b0cf066",
   "metadata": {},
   "outputs": [],
   "source": [
    "safety_seoul['치안환경순위']=safety_seoul['순위합계'].rank(ascending=False)"
   ]
  },
  {
   "cell_type": "code",
   "execution_count": null,
   "id": "18e1f544",
   "metadata": {},
   "outputs": [],
   "source": [
    "safety_seoul=safety_seoul.astype(int)"
   ]
  },
  {
   "cell_type": "code",
   "execution_count": null,
   "id": "837d05c9",
   "metadata": {},
   "outputs": [],
   "source": [
    "safety_seoul=safety_seoul.sort_values(by='치안환경순위')"
   ]
  },
  {
   "cell_type": "code",
   "execution_count": null,
   "id": "d2e2b8cf",
   "metadata": {},
   "outputs": [],
   "source": [
    "safety_seoul.to_csv('../[0]data/치안환경순위.csv')"
   ]
  },
  {
   "cell_type": "code",
   "execution_count": null,
   "id": "8b5f01d3",
   "metadata": {},
   "outputs": [],
   "source": [
    "safety_seoul=safety_seoul[['치안환경순위']]\n",
    "safety_seoul"
   ]
  },
  {
   "cell_type": "code",
   "execution_count": null,
   "id": "dc99c19d",
   "metadata": {},
   "outputs": [],
   "source": [
    "safety_seoul=safety_seoul.reset_index()"
   ]
  },
  {
   "cell_type": "code",
   "execution_count": null,
   "id": "3b271b9e",
   "metadata": {},
   "outputs": [],
   "source": [
    "geo_path = ('../[0]data/seoul_municipalities_geo_simple.json')\n",
    "\n",
    "geo_str = json.load(open(geo_path, encoding='utf-8'))"
   ]
  },
  {
   "cell_type": "code",
   "execution_count": null,
   "id": "b5447449",
   "metadata": {},
   "outputs": [],
   "source": [
    "safety_ranking = folium.Map(location = [37.5502, 126.982],zoom_start = 10.5)"
   ]
  },
  {
   "cell_type": "code",
   "execution_count": null,
   "id": "d96b7d1b",
   "metadata": {},
   "outputs": [],
   "source": [
    "folium.Choropleth(\n",
    "    geo_data = geo_str,\n",
    "    data = safety_seoul ,\n",
    "    columns = ['지역구', '치안환경순위'],\n",
    "    fill_color='OrRd',\n",
    "    key_on='properties.name',\n",
    "    ).add_to(safety_ranking )"
   ]
  },
  {
   "cell_type": "code",
   "execution_count": null,
   "id": "6318e4aa",
   "metadata": {},
   "outputs": [],
   "source": [
    "safety_ranking "
   ]
  },
  {
   "cell_type": "code",
   "execution_count": null,
   "id": "cfe043d0",
   "metadata": {},
   "outputs": [],
   "source": [
    "text = '동작구'\n",
    "circle_lat = 37.5092\n",
    "circle_lon = 126.967\n",
    "\n",
    "\n",
    "folium.map.Marker(\n",
    "    [circle_lat, circle_lon],\n",
    "    icon=DivIcon(\n",
    "        icon_size=(10,6),\n",
    "        icon_anchor=(0,0), \n",
    "        html='<div style=\"font-size: pt; font-weight:bold;\">%s</div>' % text,\n",
    "        )\n",
    "    ).add_to(safety_ranking )"
   ]
  },
  {
   "cell_type": "code",
   "execution_count": null,
   "id": "26e5c1ff",
   "metadata": {},
   "outputs": [],
   "source": [
    "text = '중구'\n",
    "circle_lat = 37.5650\n",
    "circle_lon = 126.999\n",
    "\n",
    "\n",
    "folium.map.Marker(\n",
    "    [circle_lat, circle_lon],\n",
    "    icon=DivIcon(\n",
    "        icon_size=(10,6),\n",
    "        icon_anchor=(0,0), \n",
    "        html='<div style=\"font-size: pt; font-weight:bold;\">%s</div>' % text,\n",
    "        )\n",
    "    ).add_to(safety_ranking )"
   ]
  },
  {
   "cell_type": "code",
   "execution_count": null,
   "id": "612a8807",
   "metadata": {},
   "outputs": [],
   "source": [
    "text = '용산구'\n",
    "circle_lat = 37.5450\n",
    "circle_lon = 126.980\n",
    "\n",
    "\n",
    "folium.map.Marker(\n",
    "    [circle_lat, circle_lon],\n",
    "    icon=DivIcon(\n",
    "        icon_size=(10,6),\n",
    "        icon_anchor=(0,0), \n",
    "        html='<div style=\"font-size: pt; font-weight:bold;\">%s</div>' % text,\n",
    "        )\n",
    "    ).add_to(safety_ranking )"
   ]
  },
  {
   "cell_type": "code",
   "execution_count": null,
   "id": "e3a688b9",
   "metadata": {},
   "outputs": [],
   "source": [
    "text = '성동구'\n",
    "circle_lat = 37.5600\n",
    "circle_lon = 127.040\n",
    "\n",
    "\n",
    "folium.map.Marker(\n",
    "    [circle_lat, circle_lon],\n",
    "    icon=DivIcon(\n",
    "        icon_size=(10,6),\n",
    "        icon_anchor=(0,0), \n",
    "        html='<div style=\"font-size: pt; font-weight:bold;\">%s</div>' % text,\n",
    "        )\n",
    "    ).add_to(safety_ranking )"
   ]
  },
  {
   "cell_type": "code",
   "execution_count": null,
   "id": "f310555d",
   "metadata": {},
   "outputs": [],
   "source": [
    "text = '서초구'\n",
    "circle_lat = 37.5000\n",
    "circle_lon = 127.000\n",
    "\n",
    "\n",
    "folium.map.Marker(\n",
    "    [circle_lat, circle_lon],\n",
    "    icon=DivIcon(\n",
    "        icon_size=(10,6),\n",
    "        icon_anchor=(0,0), \n",
    "        html='<div style=\"font-size: pt; font-weight:bold;\">%s</div>' % text,\n",
    "        )\n",
    "    ).add_to(safety_ranking )"
   ]
  },
  {
   "cell_type": "code",
   "execution_count": null,
   "id": "e7e34843",
   "metadata": {},
   "outputs": [],
   "source": [
    "text = '강남구'\n",
    "circle_lat = 37.5100\n",
    "circle_lon = 127.050\n",
    "\n",
    "\n",
    "folium.map.Marker(\n",
    "    [circle_lat, circle_lon],\n",
    "    icon=DivIcon(\n",
    "        icon_size=(10,6),\n",
    "        icon_anchor=(0,0), \n",
    "        html='<div style=\"font-size: pt; font-weight:bold;\">%s</div>' % text,\n",
    "        )\n",
    "    ).add_to(safety_ranking )"
   ]
  },
  {
   "cell_type": "code",
   "execution_count": null,
   "id": "99011ff3",
   "metadata": {},
   "outputs": [],
   "source": [
    "text = '송파구'\n",
    "circle_lat = 37.5100\n",
    "circle_lon = 127.120\n",
    "\n",
    "\n",
    "folium.map.Marker(\n",
    "    [circle_lat, circle_lon],\n",
    "    icon=DivIcon(\n",
    "        icon_size=(10,6),\n",
    "        icon_anchor=(0,0), \n",
    "        html='<div style=\"font-size: pt; font-weight:bold;\">%s</div>' % text,\n",
    "        )\n",
    "    ).add_to(safety_ranking )"
   ]
  },
  {
   "cell_type": "code",
   "execution_count": null,
   "id": "e10e61a6",
   "metadata": {},
   "outputs": [],
   "source": [
    "text = '강동구'\n",
    "circle_lat = 37.5600\n",
    "circle_lon = 127.140\n",
    "\n",
    "\n",
    "folium.map.Marker(\n",
    "    [circle_lat, circle_lon],\n",
    "    icon=DivIcon(\n",
    "        icon_size=(10,6),\n",
    "        icon_anchor=(0,0), \n",
    "        html='<div style=\"font-size: pt; font-weight:bold;\">%s</div>' % text,\n",
    "        )\n",
    "    ).add_to(safety_ranking )"
   ]
  },
  {
   "cell_type": "code",
   "execution_count": null,
   "id": "c0805f0d",
   "metadata": {},
   "outputs": [],
   "source": [
    "text = '광진구'\n",
    "circle_lat = 37.5600\n",
    "circle_lon = 127.090\n",
    "\n",
    "\n",
    "folium.map.Marker(\n",
    "    [circle_lat, circle_lon],\n",
    "    icon=DivIcon(\n",
    "        icon_size=(10,6),\n",
    "        icon_anchor=(0,0), \n",
    "        html='<div style=\"font-size: pt; font-weight:bold;\">%s</div>' % text,\n",
    "        )\n",
    "    ).add_to(safety_ranking )"
   ]
  },
  {
   "cell_type": "code",
   "execution_count": null,
   "id": "a2033114",
   "metadata": {},
   "outputs": [],
   "source": [
    "text = '중랑구'\n",
    "circle_lat = 37.6050\n",
    "circle_lon = 127.090\n",
    "\n",
    "\n",
    "folium.map.Marker(\n",
    "    [circle_lat, circle_lon],\n",
    "    icon=DivIcon(\n",
    "        icon_size=(10,6),\n",
    "        icon_anchor=(0,0), \n",
    "        html='<div style=\"font-size: pt; font-weight:bold;\">%s</div>' % text,\n",
    "        )\n",
    "    ).add_to(safety_ranking )"
   ]
  },
  {
   "cell_type": "code",
   "execution_count": null,
   "id": "7db96281",
   "metadata": {},
   "outputs": [],
   "source": [
    "text = '노원구'\n",
    "circle_lat = 37.6650\n",
    "circle_lon = 127.075\n",
    "\n",
    "\n",
    "folium.map.Marker(\n",
    "    [circle_lat, circle_lon],\n",
    "    icon=DivIcon(\n",
    "        icon_size=(10,6),\n",
    "        icon_anchor=(0,0), \n",
    "        html='<div style=\"font-size: pt; font-weight:bold;\">%s</div>' % text,\n",
    "        )\n",
    "    ).add_to(safety_ranking )"
   ]
  },
  {
   "cell_type": "code",
   "execution_count": null,
   "id": "1ea18bb2",
   "metadata": {},
   "outputs": [],
   "source": [
    "text = '도봉구'\n",
    "circle_lat = 37.6750\n",
    "circle_lon = 127.033\n",
    "\n",
    "\n",
    "folium.map.Marker(\n",
    "    [circle_lat, circle_lon],\n",
    "    icon=DivIcon(\n",
    "        icon_size=(10,6),\n",
    "        icon_anchor=(0,0), \n",
    "        html='<div style=\"font-size: pt; font-weight:bold;\">%s</div>' % text,\n",
    "        )\n",
    "    ).add_to(safety_ranking )"
   ]
  },
  {
   "cell_type": "code",
   "execution_count": null,
   "id": "ced73e8a",
   "metadata": {},
   "outputs": [],
   "source": [
    "text = '강북구'\n",
    "circle_lat = 37.6650\n",
    "circle_lon = 127.000\n",
    "\n",
    "\n",
    "folium.map.Marker(\n",
    "    [circle_lat, circle_lon],\n",
    "    icon=DivIcon(\n",
    "        icon_size=(10,6),\n",
    "        icon_anchor=(0,0), \n",
    "        html='<div style=\"font-size: pt; font-weight:bold;\">%s</div>' % text,\n",
    "        )\n",
    "    ).add_to(safety_ranking )"
   ]
  },
  {
   "cell_type": "code",
   "execution_count": null,
   "id": "b48cdc47",
   "metadata": {},
   "outputs": [],
   "source": [
    "text = '성북구'\n",
    "circle_lat = 37.6100\n",
    "circle_lon = 127.020\n",
    "\n",
    "\n",
    "folium.map.Marker(\n",
    "    [circle_lat, circle_lon],\n",
    "    icon=DivIcon(\n",
    "        icon_size=(10,6),\n",
    "        icon_anchor=(0,0), \n",
    "        html='<div style=\"font-size: pt; font-weight:bold;\">%s</div>' % text,\n",
    "        )\n",
    "    ).add_to(safety_ranking )"
   ]
  },
  {
   "cell_type": "code",
   "execution_count": null,
   "id": "9a197b7e",
   "metadata": {},
   "outputs": [],
   "source": [
    "text = '동대문구'\n",
    "circle_lat = 37.5990\n",
    "circle_lon = 127.060\n",
    "\n",
    "\n",
    "folium.map.Marker(\n",
    "    [circle_lat, circle_lon],\n",
    "    icon=DivIcon(\n",
    "        icon_size=(10,6),\n",
    "        icon_anchor=(0,0), \n",
    "        html='<div style=\"font-size: pt; font-weight:bold;\">%s</div>' % text,\n",
    "        )\n",
    "    ).add_to(safety_ranking )"
   ]
  },
  {
   "cell_type": "code",
   "execution_count": null,
   "id": "ebc5de2a",
   "metadata": {},
   "outputs": [],
   "source": [
    "text = '종로구'\n",
    "circle_lat = 37.6100\n",
    "circle_lon = 126.970\n",
    "\n",
    "\n",
    "folium.map.Marker(\n",
    "    [circle_lat, circle_lon],\n",
    "    icon=DivIcon(\n",
    "        icon_size=(10,6),\n",
    "        icon_anchor=(0,0), \n",
    "        html='<div style=\"font-size: pt; font-weight:bold;\">%s</div>' % text,\n",
    "        )\n",
    "    ).add_to(safety_ranking )"
   ]
  },
  {
   "cell_type": "code",
   "execution_count": null,
   "id": "e01bf559",
   "metadata": {},
   "outputs": [],
   "source": [
    "text = '은평구'\n",
    "circle_lat = 37.6300\n",
    "circle_lon = 126.930\n",
    "\n",
    "folium.map.Marker(\n",
    "    [circle_lat, circle_lon],\n",
    "    icon=DivIcon(\n",
    "        icon_size=(10,6),\n",
    "        icon_anchor=(0,0), \n",
    "        html='<div style=\"font-size: pt; font-weight:bold;\">%s</div>' % text,\n",
    "        )\n",
    "    ).add_to(safety_ranking )"
   ]
  },
  {
   "cell_type": "code",
   "execution_count": null,
   "id": "4fb86b00",
   "metadata": {},
   "outputs": [],
   "source": [
    "text = '서대문구'\n",
    "circle_lat = 37.5930\n",
    "circle_lon = 126.940\n",
    "\n",
    "\n",
    "folium.map.Marker(\n",
    "    [circle_lat, circle_lon],\n",
    "    icon=DivIcon(\n",
    "        icon_size=(10,6),\n",
    "        icon_anchor=(0,0), \n",
    "        html='<div style=\"font-size: pt; font-weight:bold;\">%s</div>' % text,\n",
    "        )\n",
    "    ).add_to(safety_ranking )"
   ]
  },
  {
   "cell_type": "code",
   "execution_count": null,
   "id": "b8838b50",
   "metadata": {},
   "outputs": [],
   "source": [
    "text = '마포구'\n",
    "circle_lat = 37.5680\n",
    "circle_lon = 126.910\n",
    "\n",
    "\n",
    "folium.map.Marker(\n",
    "    [circle_lat, circle_lon],\n",
    "    icon=DivIcon(\n",
    "        icon_size=(10,6),\n",
    "        icon_anchor=(0,0), \n",
    "        html='<div style=\"font-size: pt; font-weight:bold;\">%s</div>' % text,\n",
    "        )\n",
    "    ).add_to(safety_ranking )"
   ]
  },
  {
   "cell_type": "code",
   "execution_count": null,
   "id": "ea71aef1",
   "metadata": {},
   "outputs": [],
   "source": [
    "text = '강서구'\n",
    "circle_lat = 37.5700\n",
    "circle_lon = 126.830\n",
    "\n",
    "\n",
    "folium.map.Marker(\n",
    "    [circle_lat, circle_lon],\n",
    "    icon=DivIcon(\n",
    "        icon_size=(10,6),\n",
    "        icon_anchor=(0,0), \n",
    "        html='<div style=\"font-size: pt; font-weight:bold;\">%s</div>' % text,\n",
    "        )\n",
    "    ).add_to(safety_ranking )"
   ]
  },
  {
   "cell_type": "code",
   "execution_count": null,
   "id": "f8cfd05c",
   "metadata": {},
   "outputs": [],
   "source": [
    "text = '양천구'\n",
    "circle_lat = 37.5430\n",
    "circle_lon = 126.872\n",
    "\n",
    "\n",
    "folium.map.Marker(\n",
    "    [circle_lat, circle_lon],\n",
    "    icon=DivIcon(\n",
    "        icon_size=(10,6),\n",
    "        icon_anchor=(0,0), \n",
    "        html='<div style=\"font-size: pt; font-weight:bold;\">%s</div>' % text,\n",
    "        )\n",
    "    ).add_to(safety_ranking )"
   ]
  },
  {
   "cell_type": "code",
   "execution_count": null,
   "id": "0ad3b2f7",
   "metadata": {},
   "outputs": [],
   "source": [
    "text = '영등포구'\n",
    "circle_lat = 37.5350\n",
    "circle_lon = 126.905\n",
    "\n",
    "\n",
    "folium.map.Marker(\n",
    "    [circle_lat, circle_lon],\n",
    "    icon=DivIcon(\n",
    "        icon_size=(10,6),\n",
    "        icon_anchor=(0,0), \n",
    "        html='<div style=\"font-size: pt; font-weight:bold;\">%s</div>' % text,\n",
    "        )\n",
    "    ).add_to(safety_ranking )"
   ]
  },
  {
   "cell_type": "code",
   "execution_count": null,
   "id": "37d67055",
   "metadata": {},
   "outputs": [],
   "source": [
    "text = '구로구'\n",
    "circle_lat = 37.5080\n",
    "circle_lon = 126.858\n",
    "\n",
    "\n",
    "folium.map.Marker(\n",
    "    [circle_lat, circle_lon],\n",
    "    icon=DivIcon(\n",
    "        icon_size=(10,6),\n",
    "        icon_anchor=(0,0), \n",
    "        html='<div style=\"font-size: pt; font-weight:bold;\">%s</div>' % text,\n",
    "        )\n",
    "    ).add_to(safety_ranking )"
   ]
  },
  {
   "cell_type": "code",
   "execution_count": null,
   "id": "708557a2",
   "metadata": {},
   "outputs": [],
   "source": [
    "text = '금천구'\n",
    "circle_lat = 37.4750\n",
    "circle_lon = 126.895\n",
    "\n",
    "\n",
    "folium.map.Marker(\n",
    "    [circle_lat, circle_lon],\n",
    "    icon=DivIcon(\n",
    "        icon_size=(10,6),\n",
    "        icon_anchor=(0,0), \n",
    "        html='<div style=\"font-size: pt; font-weight:bold;\">%s</div>' % text,\n",
    "        )\n",
    "    ).add_to(safety_ranking )"
   ]
  },
  {
   "cell_type": "code",
   "execution_count": null,
   "id": "f1ec6ec9",
   "metadata": {},
   "outputs": [],
   "source": [
    "text = '관악구'\n",
    "circle_lat = 37.4800\n",
    "circle_lon = 126.940\n",
    "\n",
    "\n",
    "folium.map.Marker(\n",
    "    [circle_lat, circle_lon],\n",
    "    icon=DivIcon(\n",
    "        icon_size=(10,6),\n",
    "        icon_anchor=(0,0), \n",
    "        html='<div style=\"font-size: pt; font-weight:bold;\">%s</div>' % text,\n",
    "        )\n",
    "    ).add_to(safety_ranking )"
   ]
  },
  {
   "cell_type": "code",
   "execution_count": null,
   "id": "65d0ee8b",
   "metadata": {
    "scrolled": true
   },
   "outputs": [],
   "source": [
    "safety_ranking "
   ]
  },
  {
   "cell_type": "code",
   "execution_count": null,
   "id": "a59e1e69",
   "metadata": {},
   "outputs": [],
   "source": [
    "safety_ranking.save('../[0]data/치안환경요인.html')"
   ]
  }
 ],
 "metadata": {
  "kernelspec": {
   "display_name": "Python 3",
   "language": "python",
   "name": "python3"
  },
  "language_info": {
   "codemirror_mode": {
    "name": "ipython",
    "version": 3
   },
   "file_extension": ".py",
   "mimetype": "text/x-python",
   "name": "python",
   "nbconvert_exporter": "python",
   "pygments_lexer": "ipython3",
   "version": "3.8.8"
  }
 },
 "nbformat": 4,
 "nbformat_minor": 5
}
