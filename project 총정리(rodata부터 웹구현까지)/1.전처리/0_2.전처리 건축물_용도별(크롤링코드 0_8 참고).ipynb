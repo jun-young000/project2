{
 "cells": [
  {
   "cell_type": "code",
   "execution_count": 2,
   "id": "b1448e8e",
   "metadata": {},
   "outputs": [],
   "source": [
    "import pandas as pd\n",
    "from pandas import DataFrame\n",
    "#df를 csv로 저장하기 위해 모율 임포트"
   ]
  },
  {
   "cell_type": "code",
   "execution_count": 9,
   "id": "bd475f89",
   "metadata": {},
   "outputs": [],
   "source": [
    "df = pd.read_csv(\"프젝_2_건축물대장.csv\",encoding=\"euc-kr\")"
   ]
  },
  {
   "cell_type": "code",
   "execution_count": 12,
   "id": "21927f84",
   "metadata": {},
   "outputs": [],
   "source": [
    "df  = df.drop([\"건물명\",\"연면적\",\"건축면적\"],axis=1)"
   ]
  },
  {
   "cell_type": "code",
   "execution_count": 15,
   "id": "d5d35127",
   "metadata": {},
   "outputs": [],
   "source": [
    "df = df.reset_index(drop=\"true\")"
   ]
  },
  {
   "cell_type": "code",
   "execution_count": 16,
   "id": "120931ce",
   "metadata": {
    "scrolled": true
   },
   "outputs": [
    {
     "data": {
      "text/html": [
       "<div>\n",
       "<style scoped>\n",
       "    .dataframe tbody tr th:only-of-type {\n",
       "        vertical-align: middle;\n",
       "    }\n",
       "\n",
       "    .dataframe tbody tr th {\n",
       "        vertical-align: top;\n",
       "    }\n",
       "\n",
       "    .dataframe thead th {\n",
       "        text-align: right;\n",
       "    }\n",
       "</style>\n",
       "<table border=\"1\" class=\"dataframe\">\n",
       "  <thead>\n",
       "    <tr style=\"text-align: right;\">\n",
       "      <th></th>\n",
       "      <th>Unnamed: 0</th>\n",
       "      <th>대장종류</th>\n",
       "      <th>주용도</th>\n",
       "      <th>건물위치</th>\n",
       "    </tr>\n",
       "  </thead>\n",
       "  <tbody>\n",
       "    <tr>\n",
       "      <th>0</th>\n",
       "      <td>0</td>\n",
       "      <td>집합</td>\n",
       "      <td>공동주택</td>\n",
       "      <td>서울특별시 양천구 목동 499-2번지</td>\n",
       "    </tr>\n",
       "    <tr>\n",
       "      <th>1</th>\n",
       "      <td>1</td>\n",
       "      <td>집합</td>\n",
       "      <td>공동주택</td>\n",
       "      <td>서울특별시 양천구 목동 499-11번지</td>\n",
       "    </tr>\n",
       "    <tr>\n",
       "      <th>2</th>\n",
       "      <td>2</td>\n",
       "      <td>일반</td>\n",
       "      <td>단독주택</td>\n",
       "      <td>서울특별시 양천구 목동 499-20번지</td>\n",
       "    </tr>\n",
       "    <tr>\n",
       "      <th>3</th>\n",
       "      <td>3</td>\n",
       "      <td>일반</td>\n",
       "      <td>단독주택</td>\n",
       "      <td>서울특별시 양천구 목동 499-29번지</td>\n",
       "    </tr>\n",
       "    <tr>\n",
       "      <th>4</th>\n",
       "      <td>4</td>\n",
       "      <td>일반</td>\n",
       "      <td>단독주택</td>\n",
       "      <td>서울특별시 양천구 목동 499-36번지</td>\n",
       "    </tr>\n",
       "    <tr>\n",
       "      <th>...</th>\n",
       "      <td>...</td>\n",
       "      <td>...</td>\n",
       "      <td>...</td>\n",
       "      <td>...</td>\n",
       "    </tr>\n",
       "    <tr>\n",
       "      <th>611903</th>\n",
       "      <td>611903</td>\n",
       "      <td>일반</td>\n",
       "      <td>단독주택</td>\n",
       "      <td>서울특별시 강동구 천호동 200-7번지</td>\n",
       "    </tr>\n",
       "    <tr>\n",
       "      <th>611904</th>\n",
       "      <td>611904</td>\n",
       "      <td>일반</td>\n",
       "      <td>단독주택</td>\n",
       "      <td>서울특별시 강동구 천호동 200-8번지</td>\n",
       "    </tr>\n",
       "    <tr>\n",
       "      <th>611905</th>\n",
       "      <td>611905</td>\n",
       "      <td>일반</td>\n",
       "      <td>단독주택</td>\n",
       "      <td>서울특별시 강동구 천호동 201-4번지</td>\n",
       "    </tr>\n",
       "    <tr>\n",
       "      <th>611906</th>\n",
       "      <td>611906</td>\n",
       "      <td>일반</td>\n",
       "      <td>제1종근린생활시설</td>\n",
       "      <td>서울특별시 강동구 천호동 201-6번지</td>\n",
       "    </tr>\n",
       "    <tr>\n",
       "      <th>611907</th>\n",
       "      <td>611907</td>\n",
       "      <td>일반</td>\n",
       "      <td>단독주택</td>\n",
       "      <td>서울특별시 강동구 천호동 201-8번지</td>\n",
       "    </tr>\n",
       "  </tbody>\n",
       "</table>\n",
       "<p>611908 rows × 4 columns</p>\n",
       "</div>"
      ],
      "text/plain": [
       "        Unnamed: 0 대장종류        주용도                   건물위치\n",
       "0                0   집합       공동주택   서울특별시 양천구 목동 499-2번지\n",
       "1                1   집합       공동주택  서울특별시 양천구 목동 499-11번지\n",
       "2                2   일반       단독주택  서울특별시 양천구 목동 499-20번지\n",
       "3                3   일반       단독주택  서울특별시 양천구 목동 499-29번지\n",
       "4                4   일반       단독주택  서울특별시 양천구 목동 499-36번지\n",
       "...            ...  ...        ...                    ...\n",
       "611903      611903   일반       단독주택  서울특별시 강동구 천호동 200-7번지\n",
       "611904      611904   일반       단독주택  서울특별시 강동구 천호동 200-8번지\n",
       "611905      611905   일반       단독주택  서울특별시 강동구 천호동 201-4번지\n",
       "611906      611906   일반  제1종근린생활시설  서울특별시 강동구 천호동 201-6번지\n",
       "611907      611907   일반       단독주택  서울특별시 강동구 천호동 201-8번지\n",
       "\n",
       "[611908 rows x 4 columns]"
      ]
     },
     "execution_count": 16,
     "metadata": {},
     "output_type": "execute_result"
    }
   ],
   "source": [
    "df"
   ]
  },
  {
   "cell_type": "code",
   "execution_count": 17,
   "id": "13ab8bb1",
   "metadata": {},
   "outputs": [],
   "source": [
    "# del df[\"Unnamed: 0\"]"
   ]
  },
  {
   "cell_type": "code",
   "execution_count": 19,
   "id": "26c1ef3b",
   "metadata": {},
   "outputs": [],
   "source": [
    "# del df[\"대장종류\"]"
   ]
  },
  {
   "cell_type": "code",
   "execution_count": 30,
   "id": "19af732c",
   "metadata": {},
   "outputs": [],
   "source": [
    "type = df.주용도.value_counts().keys()"
   ]
  },
  {
   "cell_type": "code",
   "execution_count": 31,
   "id": "01333b6e",
   "metadata": {
    "scrolled": true
   },
   "outputs": [
    {
     "data": {
      "text/plain": [
       "Index(['단독주택', '공동주택', '제1종근린생활시설', '제2종근린생활시설', '업무시설', '교육연구시설', '노유자시설',\n",
       "       '종교시설', '공장', '숙박시설', '자동차관련시설', '창고시설', '판매시설', '근린생활시설', '문화및집회시설',\n",
       "       '의료시설', '위험물저장및처리시설', '운동시설', '교육연구및복지시설', '운수시설', '위락시설', '동.식물관련시설',\n",
       "       '분뇨.쓰레기처리시설', '관광휴게시설', '방송통신시설', '교정및군사시설', '수련시설', '판매및영업시설',\n",
       "       '묘지관련시설', '자원순환관련시설', '공공용시설', '발전시설', '장례시설', '야영장시설'],\n",
       "      dtype='object')"
      ]
     },
     "execution_count": 31,
     "metadata": {},
     "output_type": "execute_result"
    }
   ],
   "source": [
    "type"
   ]
  },
  {
   "cell_type": "markdown",
   "id": "a82e3a70",
   "metadata": {},
   "source": [
    "### 주용도가 주거인 경우 '주거' 근린생활시설인 경우 '상가' 업무시설인 경우 사무실로 표시\n"
   ]
  },
  {
   "cell_type": "code",
   "execution_count": null,
   "id": "db2e2499",
   "metadata": {},
   "outputs": [],
   "source": [
    "df.info()"
   ]
  },
  {
   "cell_type": "code",
   "execution_count": 66,
   "id": "53ae0607",
   "metadata": {},
   "outputs": [],
   "source": [
    "df.주용도 = df.주용도.astype('str')"
   ]
  },
  {
   "cell_type": "code",
   "execution_count": 84,
   "id": "ed893d11",
   "metadata": {
    "scrolled": true
   },
   "outputs": [],
   "source": [
    "#계속 오류가 발생해서 df.info()로 테이터 타입을 확인한 후 문자열로 교체하여 진행함\n",
    "df[\"용도\"] = [\"주거\" if \"주택\" in i else(\"상가\" if \"근린\" in i else(\"사무\" if \"업무\" in i else \"기타\")) for i in df.주용도] "
   ]
  },
  {
   "cell_type": "code",
   "execution_count": 85,
   "id": "4b3dedd2",
   "metadata": {},
   "outputs": [],
   "source": [
    "pd.set_option('display.max_row', 100)"
   ]
  },
  {
   "cell_type": "code",
   "execution_count": 86,
   "id": "0c0e3eab",
   "metadata": {},
   "outputs": [
    {
     "data": {
      "text/plain": [
       "주거    453870\n",
       "상가    120308\n",
       "기타     28861\n",
       "사무      8869\n",
       "Name: 용도, dtype: int64"
      ]
     },
     "execution_count": 86,
     "metadata": {},
     "output_type": "execute_result"
    }
   ],
   "source": [
    "df[\"용도\"].value_counts()"
   ]
  },
  {
   "cell_type": "code",
   "execution_count": 87,
   "id": "b3a4d2bf",
   "metadata": {
    "scrolled": true
   },
   "outputs": [
    {
     "data": {
      "text/html": [
       "<div>\n",
       "<style scoped>\n",
       "    .dataframe tbody tr th:only-of-type {\n",
       "        vertical-align: middle;\n",
       "    }\n",
       "\n",
       "    .dataframe tbody tr th {\n",
       "        vertical-align: top;\n",
       "    }\n",
       "\n",
       "    .dataframe thead th {\n",
       "        text-align: right;\n",
       "    }\n",
       "</style>\n",
       "<table border=\"1\" class=\"dataframe\">\n",
       "  <thead>\n",
       "    <tr style=\"text-align: right;\">\n",
       "      <th></th>\n",
       "      <th>주용도</th>\n",
       "      <th>건물위치</th>\n",
       "      <th>용도</th>\n",
       "    </tr>\n",
       "  </thead>\n",
       "  <tbody>\n",
       "    <tr>\n",
       "      <th>0</th>\n",
       "      <td>공동주택</td>\n",
       "      <td>서울특별시 양천구 목동 499-2번지</td>\n",
       "      <td>주거</td>\n",
       "    </tr>\n",
       "    <tr>\n",
       "      <th>1</th>\n",
       "      <td>공동주택</td>\n",
       "      <td>서울특별시 양천구 목동 499-11번지</td>\n",
       "      <td>주거</td>\n",
       "    </tr>\n",
       "    <tr>\n",
       "      <th>2</th>\n",
       "      <td>단독주택</td>\n",
       "      <td>서울특별시 양천구 목동 499-20번지</td>\n",
       "      <td>주거</td>\n",
       "    </tr>\n",
       "    <tr>\n",
       "      <th>3</th>\n",
       "      <td>단독주택</td>\n",
       "      <td>서울특별시 양천구 목동 499-29번지</td>\n",
       "      <td>주거</td>\n",
       "    </tr>\n",
       "    <tr>\n",
       "      <th>4</th>\n",
       "      <td>단독주택</td>\n",
       "      <td>서울특별시 양천구 목동 499-36번지</td>\n",
       "      <td>주거</td>\n",
       "    </tr>\n",
       "    <tr>\n",
       "      <th>...</th>\n",
       "      <td>...</td>\n",
       "      <td>...</td>\n",
       "      <td>...</td>\n",
       "    </tr>\n",
       "    <tr>\n",
       "      <th>611903</th>\n",
       "      <td>단독주택</td>\n",
       "      <td>서울특별시 강동구 천호동 200-7번지</td>\n",
       "      <td>주거</td>\n",
       "    </tr>\n",
       "    <tr>\n",
       "      <th>611904</th>\n",
       "      <td>단독주택</td>\n",
       "      <td>서울특별시 강동구 천호동 200-8번지</td>\n",
       "      <td>주거</td>\n",
       "    </tr>\n",
       "    <tr>\n",
       "      <th>611905</th>\n",
       "      <td>단독주택</td>\n",
       "      <td>서울특별시 강동구 천호동 201-4번지</td>\n",
       "      <td>주거</td>\n",
       "    </tr>\n",
       "    <tr>\n",
       "      <th>611906</th>\n",
       "      <td>제1종근린생활시설</td>\n",
       "      <td>서울특별시 강동구 천호동 201-6번지</td>\n",
       "      <td>상가</td>\n",
       "    </tr>\n",
       "    <tr>\n",
       "      <th>611907</th>\n",
       "      <td>단독주택</td>\n",
       "      <td>서울특별시 강동구 천호동 201-8번지</td>\n",
       "      <td>주거</td>\n",
       "    </tr>\n",
       "  </tbody>\n",
       "</table>\n",
       "<p>611908 rows × 3 columns</p>\n",
       "</div>"
      ],
      "text/plain": [
       "              주용도                   건물위치  용도\n",
       "0            공동주택   서울특별시 양천구 목동 499-2번지  주거\n",
       "1            공동주택  서울특별시 양천구 목동 499-11번지  주거\n",
       "2            단독주택  서울특별시 양천구 목동 499-20번지  주거\n",
       "3            단독주택  서울특별시 양천구 목동 499-29번지  주거\n",
       "4            단독주택  서울특별시 양천구 목동 499-36번지  주거\n",
       "...           ...                    ...  ..\n",
       "611903       단독주택  서울특별시 강동구 천호동 200-7번지  주거\n",
       "611904       단독주택  서울특별시 강동구 천호동 200-8번지  주거\n",
       "611905       단독주택  서울특별시 강동구 천호동 201-4번지  주거\n",
       "611906  제1종근린생활시설  서울특별시 강동구 천호동 201-6번지  상가\n",
       "611907       단독주택  서울특별시 강동구 천호동 201-8번지  주거\n",
       "\n",
       "[611908 rows x 3 columns]"
      ]
     },
     "execution_count": 87,
     "metadata": {},
     "output_type": "execute_result"
    }
   ],
   "source": [
    "df"
   ]
  },
  {
   "cell_type": "code",
   "execution_count": 82,
   "id": "82cd1bc4",
   "metadata": {},
   "outputs": [],
   "source": [
    "from pandas import DataFrame\n",
    "#df를 csv로 저장하기 위해 모율 임포트"
   ]
  },
  {
   "cell_type": "code",
   "execution_count": 88,
   "id": "9ae1078c",
   "metadata": {},
   "outputs": [],
   "source": [
    "df.to_csv('building_type.csv', sep=',', na_rep='NaN')\n"
   ]
  },
  {
   "cell_type": "code",
   "execution_count": null,
   "id": "cd8750c3",
   "metadata": {},
   "outputs": [],
   "source": []
  }
 ],
 "metadata": {
  "kernelspec": {
   "display_name": "Python 3",
   "language": "python",
   "name": "python3"
  },
  "language_info": {
   "codemirror_mode": {
    "name": "ipython",
    "version": 3
   },
   "file_extension": ".py",
   "mimetype": "text/x-python",
   "name": "python",
   "nbconvert_exporter": "python",
   "pygments_lexer": "ipython3",
   "version": "3.8.8"
  }
 },
 "nbformat": 4,
 "nbformat_minor": 5
}
