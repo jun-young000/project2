{
 "cells": [
  {
   "cell_type": "code",
   "execution_count": null,
   "id": "fdf90fa3",
   "metadata": {},
   "outputs": [],
   "source": [
    "#데이터 불러오기\n",
    "\n",
    "criminal_seoul=spark.read.format(\"csv\").option(\"header\",\"true\").option(\"encoding\",\"utf8\").load(\"project/서울시_5대범죄_년도별.csv\")"
   ]
  },
  {
   "cell_type": "code",
   "execution_count": null,
   "id": "c0835b1b",
   "metadata": {},
   "outputs": [],
   "source": [
    "#첫번째 컬럼 삭제\n",
    "\n",
    "criminal_seoul1 = criminal_seoul.drop(criminal_seoul._c0)"
   ]
  },
  {
   "cell_type": "code",
   "execution_count": null,
   "id": "bb924407",
   "metadata": {},
   "outputs": [],
   "source": [
    "#자치구를 지역구로 컬럼명 변경\n",
    "\n",
    "criminal_seoul2=criminal_seoul1 .withColumnRenamed(\"자치구\",\"지역구\")"
   ]
  },
  {
   "cell_type": "code",
   "execution_count": null,
   "id": "42433452",
   "metadata": {},
   "outputs": [],
   "source": [
    "#기간으로 들어온 첫번째 row 삭제\n",
    "\n",
    "criminal_seoul3 = criminal_seoul2.filter(col('기간') != '기간')"
   ]
  },
  {
   "cell_type": "code",
   "execution_count": null,
   "id": "68dc15f9",
   "metadata": {},
   "outputs": [],
   "source": [
    "#컬럼명 전체적으로 변경\n",
    "\n",
    "criminal_seoul4=criminal_seoul3 .withColumnRenamed(\"지역구\",\"지역구\").withColumnRenamed(\"합계\",\"합계발생\").withColumnRenamed(\"합계.1\",\"합계검거\").withColumnRenamed(\"살인\",\"살인발생\").withColumnRenamed(\"살인.1\",\"살인검거\").withColumnRenamed(\"강도\",\"강도발생\").withColumnRenamed(\"강도.1\",\"강도검거\").withColumnRenamed(\"강간강제추행\",\"강간강제추행발생\").withColumnRenamed(\"강간강제추행.1\",\"강간강제추행검거\").withColumnRenamed(\"절도\",\"절도발생\").withColumnRenamed(\"절도.1\",\"절도검거\").withColumnRenamed(\"폭력\",\"폭력발생\").withColumnRenamed(\"폭력.1\",\"폭력검거\")"
   ]
  },
  {
   "cell_type": "code",
   "execution_count": null,
   "id": "4f9872c6",
   "metadata": {},
   "outputs": [],
   "source": [
    "#컬럼순서 재배치\n",
    "\n",
    "criminal_seoul5 = criminal_seoul4.select ('기간','지역구','합계발생','살인발생','강도발생','강간강제추행발생','절도발생','폭력발생','합계검거','살인검거','강도검거','강간강제추행검거','절도검거','폭력검거') "
   ]
  },
  {
   "cell_type": "code",
   "execution_count": null,
   "id": "32f8f879",
   "metadata": {},
   "outputs": [],
   "source": [
    "#부분적으로 컬럼명 다시 변경\n",
    "\n",
    "> criminal_seoul6 = criminal_seoul5.withColumnRenamed(\"합계발생\",\"발생합계\")\n",
    ">\n",
    "> criminal_seoul7=criminal_seoul6.withColumnRenamed(\"합계검거\",\"검거합계\")"
   ]
  },
  {
   "cell_type": "code",
   "execution_count": null,
   "id": "54d8fe2a",
   "metadata": {},
   "outputs": [],
   "source": [
    "#합계가 속한 row 삭제\n",
    "\n",
    "criminal_seoul8 = criminal_seoul7.filter(col('지역구')!='합계')"
   ]
  },
  {
   "cell_type": "code",
   "execution_count": null,
   "id": "e1124d9e",
   "metadata": {},
   "outputs": [],
   "source": [
    "#정렬하기\n",
    "\n",
    "criminal_seoul9=criminal_seoul8.orderBy(col(\"발생합계\").desc()).orderBy(col(\"검거합계\").desc())"
   ]
  },
  {
   "cell_type": "code",
   "execution_count": null,
   "id": "8175da08",
   "metadata": {},
   "outputs": [],
   "source": [
    "#부분코드저장\n",
    "\n",
    "criminal_seoul9.coalesce(1).write.format(\"csv\").option(\"header\",\"true\").mode(\"overwrite\").save(\"/project/서울시_5대범죄_발생_검거.csv\")\n",
    "\n",
    "hdfs dfs -get /project/서울시_5대범죄_발생_검거.csv ./"
   ]
  },
  {
   "cell_type": "code",
   "execution_count": null,
   "id": "31872baf",
   "metadata": {},
   "outputs": [],
   "source": [
    "#코드 설정하기(기간코드,지역코드)\n",
    "\n",
    "criminal_seoul10 = criminal_seoul9.withColumnRenamed(\"기간\",\"기간코드\")\n",
    "\n",
    "criminal_seoul11 = criminal_seoul10.replace([\"2017\",\"2018\",\"2019\"],[\"17\",\"18\",\"19\"],\"기간코드\")\n",
    "\n",
    "criminal_seoul12 = criminal_seoul11.withColumnRenamed(\"지역구\",\"지역코드\")"
   ]
  },
  {
   "cell_type": "code",
   "execution_count": null,
   "id": "4c3528f9",
   "metadata": {},
   "outputs": [],
   "source": [
    "criminal_seoul13 = criminal_seoul12.replace([\"은평구\",\"서대문구\",\"마포구\",\"양천구\",\"강서구\",\"구로구\",\"금천구\",\"영등포구\",\"동작구\",\"송파구\",\"강동구\",\"종로구\",\"중구\",\"용산구\",\"성동구\",\"광진구\",\"동대문구\",\"성북구\",\"강북구\",\"도봉구\",\"관악구\",\"서초구\",\"강남구\",\"중랑구\",\"노원구\"],[\"111181\",\"111191\",\"111201\",\"111301\",\"111212\",\"111221\",\"111281\",\"111231\",\"111241\",\"111273\",\"111274\",\"111123\",\"111121\",\"111131\",\"111142\",\"111141\",\"111152\",\"111161\",\"111291\",\"111171\",\"111251\",\"111262\",\"111261\",\"111151\",\"111311\"],\"지역코드\")"
   ]
  },
  {
   "cell_type": "code",
   "execution_count": null,
   "id": "bf537a11",
   "metadata": {},
   "outputs": [],
   "source": [
    "#아이디추가하기\n",
    "criminal_seoul14 = criminal_seoul13.select(monotonically_increasing_id().alias(\"ID\"),\"*\")"
   ]
  },
  {
   "cell_type": "code",
   "execution_count": null,
   "id": "8f06fbb2",
   "metadata": {},
   "outputs": [],
   "source": [
    "#아이디 추가 후 숫자가 뻥튀기될때\n",
    "from pyspark.sql import Window\n",
    "window=Window.orderBy(col('기간코드'))\n",
    "criminal_seoul14=criminal_seoul13.withColumn('increasing_id', row_number().over(window))\n",
    "criminal_seoul15= criminal_seoul14.select(expr(\"increasing_id-1\").alias(\"ID\"),\"*\")\n",
    "criminal_seoul15.show()"
   ]
  },
  {
   "cell_type": "code",
   "execution_count": null,
   "id": "a7e54d35",
   "metadata": {},
   "outputs": [],
   "source": [
    "#컬럼명삭제\n",
    "criminal_seoul16=criminal_seoul15.drop(\"increasing_id\")\n",
    "criminal_seoul18 = criminal_seoul17.drop(criminal_seoul17.ID)\n",
    "criminal_seoul18  = criminal_seoul17.filter(col('ID') != '0')\n",
    "\n",
    "criminal_seoul13.withColumn('ID',row_number()).show()\n",
    "criminal_seoul13.rdd.zipWithIndex().toDF().show()"
   ]
  },
  {
   "cell_type": "code",
   "execution_count": null,
   "id": "3db5af9b",
   "metadata": {},
   "outputs": [],
   "source": [
    "criminal_seoul17 = criminal_seoul16.select ('ID','기간코드','지역코드','검거합계','살인검거','강도검거','강간강제추행검거','절도검거','폭력검거') "
   ]
  },
  {
   "cell_type": "code",
   "execution_count": null,
   "id": "30db6b01",
   "metadata": {},
   "outputs": [],
   "source": [
    "#저장\n",
    "criminal_seoul17.coalesce(1).write.format(\"csv\").option(\"header\",\"true\").mode(\"overwrite\").save(\"/project/서울시_5대범죄_검거.csv\")\n",
    "\n",
    "hdfs dfs -get /project/서울시_5대범죄_검거.csv ./"
   ]
  }
 ],
 "metadata": {
  "kernelspec": {
   "display_name": "Python 3",
   "language": "python",
   "name": "python3"
  },
  "language_info": {
   "codemirror_mode": {
    "name": "ipython",
    "version": 3
   },
   "file_extension": ".py",
   "mimetype": "text/x-python",
   "name": "python",
   "nbconvert_exporter": "python",
   "pygments_lexer": "ipython3",
   "version": "3.8.8"
  }
 },
 "nbformat": 4,
 "nbformat_minor": 5
}
