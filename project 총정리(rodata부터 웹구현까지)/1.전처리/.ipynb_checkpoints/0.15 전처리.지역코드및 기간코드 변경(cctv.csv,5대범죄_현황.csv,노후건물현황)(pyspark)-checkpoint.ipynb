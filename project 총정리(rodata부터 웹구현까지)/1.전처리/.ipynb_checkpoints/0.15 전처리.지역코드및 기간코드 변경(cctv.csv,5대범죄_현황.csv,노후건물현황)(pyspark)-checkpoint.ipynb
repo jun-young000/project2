{
 "cells": [
  {
   "cell_type": "code",
   "execution_count": null,
   "id": "5dc4f2c0",
   "metadata": {},
   "outputs": [],
   "source": [
    "## 지역코드,기간코드 바꾸기\n"
   ]
  },
  {
   "cell_type": "code",
   "execution_count": null,
   "id": "64f4d1a6",
   "metadata": {},
   "outputs": [],
   "source": [
    "1. 서울시_cctv.csv"
   ]
  },
  {
   "cell_type": "code",
   "execution_count": null,
   "id": "5035cdef",
   "metadata": {},
   "outputs": [],
   "source": [
    "a = df이름.select(monotonically_increasing_id().alias(\"ID\"),\"*\")\n",
    "\n",
    "from pyspark.sql.functions import monotonically_increasing_id\n",
    "\n",
    "cctv_seoul1 = cctv_seoul.select(monotonically_increasing_id().alias(\"ID\"),\"*\")\n",
    "\n",
    "cctv_seoul2 = cctv_seoul1.withColumnRenamed(\"지역구\",\"지역코드\")\n",
    "\n",
    "a1 = a.replace([\"2017\",\"2018\",\"2019\"],[\"17\",\"18\",\"19\"],\"기간\")"
   ]
  },
  {
   "cell_type": "code",
   "execution_count": null,
   "id": "a9295a93",
   "metadata": {},
   "outputs": [],
   "source": [
    "cctv_seoul3 = cctv_seoul2.replace([\"은평구\",\"서대문구\",\"마포구\",\"양천구\",\"강서구\",\"구로구\",\"금천구\",\"영등포구\",\"동작구\",\"송파구\",\"강동구\",\"종로구\",\"중구\",\"용산구\",\"성동구\",\"광진구\",\"동대문구\",\"성북구\",\"강북구\",\"도봉구\",\"관악구\",\"서초구\",\"강남구\",\"중랑구\",\"노원구\"],[\"111181\",\"111191\",\"111201\",\"111301\",\"111212\",\"111221\",\"111281\",\"111231\",\"111241\",\"111273\",\"111274\",\"111123\",\"111121\",\"111131\",\"111142\",\"111141\",\"111152\",\"111161\",\"111291\",\"111171\",\"111251\",\"111262\",\"111261\",\"111151\",\"111311\"],\"지역코드\")"
   ]
  },
  {
   "cell_type": "code",
   "execution_count": null,
   "id": "21421c11",
   "metadata": {},
   "outputs": [],
   "source": [
    "#### cctv 하둡에 저장하기\n",
    "\n",
    "cctv_seoul_new=cctv_seoul3.coalesce(1).write.format(\"csv\").option(\"header\",\"true\").mode(\"overwrite\").save(\"/project/서울시_cctv.csv\")"
   ]
  },
  {
   "cell_type": "code",
   "execution_count": null,
   "id": "0ed177f9",
   "metadata": {},
   "outputs": [],
   "source": [
    "#### cctv 하둡에서 우분투로 가져오기\n",
    "\n",
    "hdfs dfs -get /project/서울시_cctv.csv ./\n",
    "\n"
   ]
  },
  {
   "cell_type": "code",
   "execution_count": null,
   "id": "0b8787be",
   "metadata": {},
   "outputs": [],
   "source": []
  },
  {
   "cell_type": "code",
   "execution_count": null,
   "id": "d3ed96b3",
   "metadata": {},
   "outputs": [],
   "source": [
    "2. 서울시_5대범죄_현황.csv"
   ]
  },
  {
   "cell_type": "code",
   "execution_count": null,
   "id": "0500b2a3",
   "metadata": {},
   "outputs": [],
   "source": [
    "hdfs dfs -put 서울시_5대범죄_연도별.csv /user/engineer/\n",
    "\n",
    "criminal_seoul = spark.read.format('csv').option('header','true').load('서울시_5대범죄_연도별.csv/part-00000-*.csv')"
   ]
  },
  {
   "cell_type": "code",
   "execution_count": null,
   "id": "fe5e1e52",
   "metadata": {},
   "outputs": [],
   "source": [
    "##### 이름명 바꾸기 \n",
    "\n",
    "criminal_seoul1=criminal_seoul.withColumnRenamed(\"기간\",\"기간코드\").withColumnRenamed(\"지역구\",\"지역코드\")"
   ]
  },
  {
   "cell_type": "code",
   "execution_count": null,
   "id": "458f9a43",
   "metadata": {},
   "outputs": [],
   "source": [
    "##### 기간코드 바꾸기\n",
    "\n",
    "criminal_seoul2 = criminal_seoul1.replace([\"2017\",\"2018\",\"2019\"],[\"17\",\"18\",\"19\"],\"기간코드\")"
   ]
  },
  {
   "cell_type": "code",
   "execution_count": null,
   "id": "463044c1",
   "metadata": {},
   "outputs": [],
   "source": [
    "##### 지역코드 바꾸기\n",
    "\n",
    "criminal_seoul3 = criminal_seoul2.replace([\"은평구\",\"서대문구\",\"마포구\",\"양천구\",\"강서구\",\"구로구\",\"금천구\",\"영등포구\",\"동작구\",\"송파구\",\"강동구\",\"종로구\",\"중 구\",\"용산구\",\"성동구\",\"광진구\",\"동대문구\",\"성북구\",\"강북구\",\"도봉구\",\"관악구\",\"서초구\",\"강남구\",\"중랑구\",\"노원구\"],[\"111181\",\"111191\",\"111201\",\"111301\",\"111212\",\"111221\",\"111281\",\"111231\",\"111241\",\"111273\",\"111274\",\"111123\",\"111121\",\"111131\",\"111142\",\"111141\",\"111152\",\"111161\",\"111291\",\"111171\",\"111251\",\"111262\",\"111261\",\"111151\",\"111311\"],\"지역코드\")"
   ]
  },
  {
   "cell_type": "code",
   "execution_count": null,
   "id": "7674d05b",
   "metadata": {},
   "outputs": [],
   "source": [
    "##### 저장\n",
    "\n",
    "criminal_seoul_new=criminal_seoul3.coalesce(1).write.format(\"csv\").option(\"header\",\"true\").mode(\"overwrite\").save(\"/project/서울시_5대범죄.csv\")\n",
    "\n",
    "\n",
    "\n",
    "##### 우분투로 가져오기\n",
    "\n",
    "hdfs dfs -get /project/서울시_5대범죄.csv ./"
   ]
  },
  {
   "cell_type": "code",
   "execution_count": null,
   "id": "049d7e69",
   "metadata": {},
   "outputs": [],
   "source": [
    "3. 서울시_노후건물현황"
   ]
  },
  {
   "cell_type": "code",
   "execution_count": null,
   "id": "887cc0e7",
   "metadata": {},
   "outputs": [],
   "source": [
    "hdfs dfs -put 서울시_노후건물_현황.csv /user/engineer/\n",
    "\n",
    "oldbuilding_seoul = spark.read.format('csv').option('header','true').load('서울시_노후건물_현황.csv/part-00000-*.csv')\n",
    "\n",
    "oldbuilding_seoul1=oldbuilding_seoul.withColumnRenamed(\"기간\",\"기간코드\").withColumnRenamed(\"지역구\",\"지역코드\")\n",
    "\n",
    "oldbuilding_seoul2 = oldbuilding_seoul1.replace([\"2017\",\"2018\",\"2019\"],[\"17\",\"18\",\"19\"],\"기간코드\")"
   ]
  },
  {
   "cell_type": "code",
   "execution_count": null,
   "id": "b491e381",
   "metadata": {},
   "outputs": [],
   "source": [
    "oldbuilding_seoul3 = oldbuilding_seoul2.replace([\"은평구\",\"서대문구\",\"마포구\",\"양천구\",\"강서구\",\"구로구\",\"금천구\",\"영등포구\",\"동작구\",\"송파구\",\"강동구\",\"종로구\",\"중구\",\"용산구\",\"성동구\",\"광진구\",\"동대문구\",\"성북구\",\"강북구\",\"도봉구\",\"관악구\",\"서초구\",\"강남구\",\"중랑구\",\"노원구\"],[\"111181\",\"111191\",\"111201\",\"111301\",\"111212\",\"111221\",\"111281\",\"111231\",\"111241\",\"111273\",\"111274\",\"111123\",\"111121\",\"111131\",\"111142\",\"111141\",\"111152\",\"111161\",\"111291\",\"111171\",\"111251\",\"111262\",\"111261\",\"111151\",\"111311\"],\"지역코드\")\n",
    "\n",
    "oldbuilding_seoul_new=oldbuilding_seoul3.coalesce(1).write.format(\"csv\").option(\"header\",\"true\").mode(\"overwrite\").save(\"/project/서울시_노후건물.csv\")\n",
    "\n",
    "hdfs dfs -get /project/서울시_노후건물.csv ./"
   ]
  },
  {
   "cell_type": "code",
   "execution_count": null,
   "id": "d72ef1ad",
   "metadata": {},
   "outputs": [],
   "source": [
    "oldbuilding_seoul = spark.read.format('csv').option('header','true').load('서울시_노후건물.csv/part-00000-*.csv')\n",
    "\n",
    "sb_seoul = spark.read.format('csv').option('header','true').load('서울시_성비_현황_code.csv/part-00000-*.csv')"
   ]
  },
  {
   "cell_type": "code",
   "execution_count": null,
   "id": "0ecadeeb",
   "metadata": {},
   "outputs": [],
   "source": [
    "hdfs dfs -put 서울시_성비_현황_code.csv /user/engineer\n",
    "\n",
    "sb_seoul1=sb_seoul.select(monotonically_increasing_id().alias(\"ID\"),\"*\").withColumnRenamed(\"년도\",\"기간\")\n",
    "\n",
    "sb_seoul1=sb_seoul.select(monotonically_increasing_id().alias(\"ID\"),\"*\")"
   ]
  },
  {
   "cell_type": "code",
   "execution_count": null,
   "id": "306f2fc3",
   "metadata": {},
   "outputs": [],
   "source": [
    "gender_seoul_new=gender_seoul.coalesce(1).write.format(\"csv\").option(\"header\",\"true\").mode(\"overwrite\").save(\"/project/서울시_성비.csv\")"
   ]
  },
  {
   "cell_type": "code",
   "execution_count": null,
   "id": "0894d0ff",
   "metadata": {},
   "outputs": [],
   "source": [
    "hdfs dfs -get /project/서울시_성비.csv ./\n",
    "\n",
    "hdfs dfs -put 서울시_여성안전지킴이집_현황.csv /user/engineer/\n",
    "\n",
    "jip_seoul = spark.read.format('csv').option('header','true').load('서울시_여성안전지킴이집_현황.csv/part-00000-*.csv')\n",
    "\n"
   ]
  },
  {
   "cell_type": "code",
   "execution_count": null,
   "id": "184db3b6",
   "metadata": {},
   "outputs": [],
   "source": []
  },
  {
   "cell_type": "code",
   "execution_count": null,
   "id": "75c978ec",
   "metadata": {},
   "outputs": [],
   "source": []
  }
 ],
 "metadata": {
  "kernelspec": {
   "display_name": "Python 3",
   "language": "python",
   "name": "python3"
  },
  "language_info": {
   "codemirror_mode": {
    "name": "ipython",
    "version": 3
   },
   "file_extension": ".py",
   "mimetype": "text/x-python",
   "name": "python",
   "nbconvert_exporter": "python",
   "pygments_lexer": "ipython3",
   "version": "3.8.8"
  }
 },
 "nbformat": 4,
 "nbformat_minor": 5
}
