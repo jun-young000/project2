{
 "cells": [
  {
   "cell_type": "code",
   "execution_count": null,
   "id": "ad698360",
   "metadata": {},
   "outputs": [],
   "source": [
    "seoul_alcohol = spark.read.format(\"csv\").option(\"header\",\"true\").option(\"encoding\",\"utf8\").load(\"../서울_유흥업소.csv\")"
   ]
  },
  {
   "cell_type": "code",
   "execution_count": null,
   "id": "5b8039fb",
   "metadata": {},
   "outputs": [],
   "source": [
    "seoul_alcohol = spark.read.format(\"csv\").option(\"header\",\"true\").option(\"encoding\",\"utf8\").load(\"../서울_유흥.csv\")"
   ]
  },
  {
   "cell_type": "code",
   "execution_count": null,
   "id": "389ace4a",
   "metadata": {},
   "outputs": [],
   "source": [
    "seoul_alcohol.show()"
   ]
  },
  {
   "cell_type": "code",
   "execution_count": null,
   "id": "38bd1d0d",
   "metadata": {},
   "outputs": [],
   "source": [
    "seoul_alcohol = seoul_alcohol.drop('개방자치단체코드').drop('관리번호').drop('인허가취소일자').drop('영업상태코드').drop('도로명주소').drop('좌표정보(X)').drop('좌표정보(Y)').drop('영업상태명').drop('상세영업상태코드').drop('휴업시작일자').drop('휴업종료일자').drop('재개업일자').drop('전화번호').drop('소재지면적').drop('소재지우편번호').drop('사업장명').drop('도로명우편번호').drop('업태구분명').drop('최종수정일자').drop('데이터갱신구분').drop('데이터갱신일자').drop('위생업태명').drop('남성종사자수').drop('여성종사자수').drop('영업장주변구분명').drop('등급구분명').drop('급수시설구분명').drop('총인원').drop('본사종업원수').drop('공장사무직종업원수').drop('공장판매직종업원수').drop('공장생산직종업원수').drop('건물소유구분명').drop('보증액').drop('월세액').drop('다중이용업소여부').drop('시설총규모').drop('전통업소지정번호').drop('전통업소주된음식').drop('홈페이지')"
   ]
  },
  {
   "cell_type": "code",
   "execution_count": null,
   "id": "33dad70d",
   "metadata": {},
   "outputs": [],
   "source": [
    "seoul_alcohol2 = seoul_alcohol.filter(seoul_alcohol.인허가일자 <= 20191231)\n",
    "seoul_alcohol2.show()"
   ]
  },
  {
   "cell_type": "code",
   "execution_count": null,
   "id": "f0100d0b",
   "metadata": {},
   "outputs": [],
   "source": [
    "seoul_alcohol3 = seoul_alcohol2.na.fill('-')\n",
    "seoul_alcohol3.show()"
   ]
  },
  {
   "cell_type": "code",
   "execution_count": null,
   "id": "5713324f",
   "metadata": {},
   "outputs": [],
   "source": [
    "seoul_open = seoul_alcohol3.filter(seoul_alcohol3.상세영업상태명 == '영업')\n",
    "seoul_open.show()"
   ]
  },
  {
   "cell_type": "code",
   "execution_count": null,
   "id": "33297000",
   "metadata": {},
   "outputs": [],
   "source": [
    "seoul_open = seoul_open.filter(seoul_open.지번주소 != '-')"
   ]
  },
  {
   "cell_type": "code",
   "execution_count": null,
   "id": "25b42b14",
   "metadata": {},
   "outputs": [],
   "source": [
    "seoul_open = seoul_open.drop('폐업일자')"
   ]
  },
  {
   "cell_type": "code",
   "execution_count": null,
   "id": "662b6dc3",
   "metadata": {},
   "outputs": [],
   "source": [
    "seoul_open = seoul_open.withColumn('지역구', split('지번주소', ' ')[1])"
   ]
  },
  {
   "cell_type": "code",
   "execution_count": null,
   "id": "b42999a2",
   "metadata": {},
   "outputs": [],
   "source": [
    "seoul_open.show()"
   ]
  },
  {
   "cell_type": "code",
   "execution_count": null,
   "id": "8a46303c",
   "metadata": {},
   "outputs": [],
   "source": [
    "서울오픈 : 인허가 2020이전 가게들 중 영업중인 가게\n",
    "저장해야함"
   ]
  },
  {
   "cell_type": "code",
   "execution_count": null,
   "id": "3993f369",
   "metadata": {},
   "outputs": [],
   "source": [
    "seoul_open.coalesce(1).write.format(\"csv\").option(\"header\",\"true\").mode(\"overwrite\").save(\"data/jaeyoung_file/서울_영업중_유흥업소.csv\")"
   ]
  },
  {
   "cell_type": "code",
   "execution_count": null,
   "id": "3db88817",
   "metadata": {},
   "outputs": [],
   "source": [
    "---------------------------------------------------------------------------------------------------"
   ]
  },
  {
   "cell_type": "code",
   "execution_count": null,
   "id": "9b711ed5",
   "metadata": {},
   "outputs": [],
   "source": [
    "seoul_closure2 = seoul_alcohol3.filter(seoul_alcohol3.폐업일자 <= 20191231)\n",
    "seoul_closure2.show()"
   ]
  },
  {
   "cell_type": "code",
   "execution_count": null,
   "id": "81b6c503",
   "metadata": {},
   "outputs": [],
   "source": [
    "서울폐업2 : 2019년 내 폐업한 유흥업소 정리"
   ]
  },
  {
   "cell_type": "code",
   "execution_count": null,
   "id": "9ce6469c",
   "metadata": {},
   "outputs": [],
   "source": [
    "seoul_closure = seoul_closure2.filter(seoul_closure2.폐업일자 >= 20170101) "
   ]
  },
  {
   "cell_type": "code",
   "execution_count": null,
   "id": "05e42e39",
   "metadata": {},
   "outputs": [],
   "source": [
    "eoul_closure = seoul_closure.filter(seoul_closure.지번주소 != '-')"
   ]
  },
  {
   "cell_type": "code",
   "execution_count": null,
   "id": "7569ba38",
   "metadata": {},
   "outputs": [],
   "source": [
    "seoul_closure.coalesce(1).write.format(\"csv\").option(\"header\",\"true\").mode(\"overwrite\").save(\"data/jaeyoung_file/서울_폐업_유흥업소.csv\")"
   ]
  },
  {
   "cell_type": "code",
   "execution_count": null,
   "id": "f0c429ff",
   "metadata": {},
   "outputs": [],
   "source": [
    "서울폐업 : 서울폐업2에서 2017년 이후 폐점한 가게 정리"
   ]
  },
  {
   "cell_type": "code",
   "execution_count": null,
   "id": "7909806d",
   "metadata": {},
   "outputs": [],
   "source": []
  },
  {
   "cell_type": "code",
   "execution_count": null,
   "id": "9e179607",
   "metadata": {},
   "outputs": [],
   "source": []
  },
  {
   "cell_type": "code",
   "execution_count": null,
   "id": "44c7276e",
   "metadata": {},
   "outputs": [],
   "source": []
  }
 ],
 "metadata": {
  "kernelspec": {
   "display_name": "Python 3",
   "language": "python",
   "name": "python3"
  },
  "language_info": {
   "codemirror_mode": {
    "name": "ipython",
    "version": 3
   },
   "file_extension": ".py",
   "mimetype": "text/x-python",
   "name": "python",
   "nbconvert_exporter": "python",
   "pygments_lexer": "ipython3",
   "version": "3.8.8"
  }
 },
 "nbformat": 4,
 "nbformat_minor": 5
}
