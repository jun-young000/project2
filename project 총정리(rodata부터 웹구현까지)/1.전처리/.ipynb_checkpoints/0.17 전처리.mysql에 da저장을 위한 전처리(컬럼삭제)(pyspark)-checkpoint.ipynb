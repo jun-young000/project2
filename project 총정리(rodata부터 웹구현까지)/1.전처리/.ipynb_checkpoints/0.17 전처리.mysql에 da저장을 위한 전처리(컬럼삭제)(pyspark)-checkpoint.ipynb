{
 "cells": [
  {
   "cell_type": "code",
   "execution_count": null,
   "id": "6dd5e9f9",
   "metadata": {},
   "outputs": [],
   "source": [
    "mysql에 db저장을 위한 전처리(컬럼명지우기)"
   ]
  },
  {
   "cell_type": "code",
   "execution_count": null,
   "id": "f35a5a63",
   "metadata": {},
   "outputs": [],
   "source": [
    "from pyspark.sql.functions import *"
   ]
  },
  {
   "cell_type": "code",
   "execution_count": null,
   "id": "1878c4b6",
   "metadata": {},
   "outputs": [],
   "source": [
    "sb_seoul_new= spark.read.format('csv').load('서울시_성비.csv/part-00000-*.csv')\n",
    "\n",
    "sb_seoul1= sb_seoul.drop(sb_seoul.ID).collect()\n",
    "\n",
    "> sb_seoul2=sb_seoul1.where(col(\"_c0\").like(\"%코드\")==False)\n",
    ">\n",
    "> sb_seoul2.show()"
   ]
  },
  {
   "cell_type": "code",
   "execution_count": null,
   "id": "cde03d20",
   "metadata": {},
   "outputs": [],
   "source": [
    "sb_seoul2 =sb_seoul_new.filter(col('_c0')!='ID')"
   ]
  },
  {
   "cell_type": "code",
   "execution_count": null,
   "id": "8ea2f13a",
   "metadata": {},
   "outputs": [],
   "source": [
    "sb_seoul2.coalesce(1).write.format(\"csv\").option(\"header\",\"true\").mode(\"overwrite\").save(\"/project/서울시_성비_fin.csv\")"
   ]
  },
  {
   "cell_type": "code",
   "execution_count": null,
   "id": "0f950ab2",
   "metadata": {},
   "outputs": [],
   "source": [
    "hdfs dfs -get /project/서울시_성비_fin.csv ./"
   ]
  },
  {
   "cell_type": "code",
   "execution_count": null,
   "id": "1487c180",
   "metadata": {},
   "outputs": [],
   "source": []
  },
  {
   "cell_type": "code",
   "execution_count": null,
   "id": "94f690f7",
   "metadata": {},
   "outputs": [],
   "source": [
    "hdfs dfs -put 서울시_노후건물.csv /user/engineer"
   ]
  },
  {
   "cell_type": "code",
   "execution_count": null,
   "id": "393e8cce",
   "metadata": {},
   "outputs": [],
   "source": [
    "oldb_seoul= spark.read.format('csv').load('서울시_노후건물.csv/part-00000-*.csv')\n",
    "\n",
    "oldb_seoul1 =oldb_seoul.filter(col('_c0')!='ID')"
   ]
  },
  {
   "cell_type": "code",
   "execution_count": null,
   "id": "e6f1a10c",
   "metadata": {},
   "outputs": [],
   "source": [
    "oldb_seoul1.coalesce(1).write.format(\"csv\").option(\"header\",\"true\").mode(\"overwrite\").save(\"/project/서울시_노후건물_fin.csv\")\n"
   ]
  },
  {
   "cell_type": "code",
   "execution_count": null,
   "id": "e65b1cc9",
   "metadata": {},
   "outputs": [],
   "source": [
    "hdfs dfs -get /project/서울시_노후건물_fin.csv ./"
   ]
  },
  {
   "cell_type": "code",
   "execution_count": null,
   "id": "6a0095c0",
   "metadata": {},
   "outputs": [],
   "source": []
  },
  {
   "cell_type": "code",
   "execution_count": null,
   "id": "9ffc67a3",
   "metadata": {},
   "outputs": [],
   "source": [
    "hdfs dfs -put 서울시_공시지가_현황_code.csv /user/engineer"
   ]
  },
  {
   "cell_type": "code",
   "execution_count": null,
   "id": "f419e2a2",
   "metadata": {},
   "outputs": [],
   "source": [
    "jiga_seoul= spark.read.format('csv').option(\"header\",\"true\").load('서울시_공시지가_현황_fin.csv/part-00000-*.csv')"
   ]
  },
  {
   "cell_type": "code",
   "execution_count": null,
   "id": "a02b730c",
   "metadata": {},
   "outputs": [],
   "source": [
    "jiga_seoul1 =jiga_seoul.filter(col('_c0')!='ID')"
   ]
  },
  {
   "cell_type": "code",
   "execution_count": null,
   "id": "e6cd1dee",
   "metadata": {},
   "outputs": [],
   "source": [
    "jiga_seoul1.coalesce(1).write.format(\"csv\").option(\"header\",\"true\").mode(\"overwrite\").save(\"/project/서울시_공시지가_fin.csv\")"
   ]
  },
  {
   "cell_type": "code",
   "execution_count": null,
   "id": "d077f3b9",
   "metadata": {},
   "outputs": [],
   "source": [
    "hdfs dfs -get /project/서울시_공시지가_fin.csv ./"
   ]
  },
  {
   "cell_type": "code",
   "execution_count": null,
   "id": "3fee232c",
   "metadata": {},
   "outputs": [],
   "source": []
  },
  {
   "cell_type": "code",
   "execution_count": null,
   "id": "fa422fb1",
   "metadata": {},
   "outputs": [],
   "source": [
    "cctv_total1= spark.read.format('csv').load('서울시_cctv현황.csv/part-00000-*.csv')"
   ]
  },
  {
   "cell_type": "code",
   "execution_count": null,
   "id": "48b4a83b",
   "metadata": {},
   "outputs": [],
   "source": [
    "hdfs dfs -put 서울시_cctv현황.csv /user/engineer/"
   ]
  },
  {
   "cell_type": "code",
   "execution_count": null,
   "id": "1b3b760a",
   "metadata": {},
   "outputs": [],
   "source": [
    "cctv_total2 =cctv_total1.filter(col('_c0')!='ID')\n",
    "\n",
    "cctv_total2.coalesce(1).write.format(\"csv\").mode(\"overwrite\").save(\"/project/서울시_cctv_현황_fin.csv\")"
   ]
  },
  {
   "cell_type": "code",
   "execution_count": null,
   "id": "bebd7f36",
   "metadata": {},
   "outputs": [],
   "source": [
    "hdfs dfs -get /project/서울시_cctv_현황_fin.csv ./"
   ]
  },
  {
   "cell_type": "code",
   "execution_count": null,
   "id": "1f89d491",
   "metadata": {},
   "outputs": [],
   "source": [
    "hdfs dfs -put 서울시_cctv_현황_fin.csv /user/engineer/"
   ]
  },
  {
   "cell_type": "code",
   "execution_count": null,
   "id": "c250563c",
   "metadata": {},
   "outputs": [],
   "source": [
    "cctv_total= spark.read.format('csv').load('서울시_cctv_현황_fin.csv/part-00000-*.csv')"
   ]
  },
  {
   "cell_type": "code",
   "execution_count": null,
   "id": "8c7e4ec8",
   "metadata": {},
   "outputs": [],
   "source": [
    "cctv_total1=cctv_total.select(monotonically_increasing_id().alias(\"ID\"),\"*\")"
   ]
  },
  {
   "cell_type": "code",
   "execution_count": null,
   "id": "ec3cdc9b",
   "metadata": {},
   "outputs": [],
   "source": [
    "cctv_total2 =cctv_total1.filter(col('_c0')!='기간코드')\n",
    "\n",
    "cctv_total2.coalesce(1).write.format(\"csv\").mode(\"overwrite\").save(\"/project/서울시_cctv_현황_최종.csv\")"
   ]
  },
  {
   "cell_type": "code",
   "execution_count": null,
   "id": "13d70e2e",
   "metadata": {},
   "outputs": [],
   "source": [
    "hdfs dfs -get /project/서울시_cctv_현황_최종.csv ./"
   ]
  },
  {
   "cell_type": "code",
   "execution_count": null,
   "id": "ed6cb28c",
   "metadata": {},
   "outputs": [],
   "source": []
  }
 ],
 "metadata": {
  "kernelspec": {
   "display_name": "Python 3",
   "language": "python",
   "name": "python3"
  },
  "language_info": {
   "codemirror_mode": {
    "name": "ipython",
    "version": 3
   },
   "file_extension": ".py",
   "mimetype": "text/x-python",
   "name": "python",
   "nbconvert_exporter": "python",
   "pygments_lexer": "ipython3",
   "version": "3.8.8"
  }
 },
 "nbformat": 4,
 "nbformat_minor": 5
}
