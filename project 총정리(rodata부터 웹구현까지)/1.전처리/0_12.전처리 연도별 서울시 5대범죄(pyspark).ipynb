{
 "cells": [
  {
   "cell_type": "code",
   "execution_count": null,
   "id": "a6eed68a",
   "metadata": {},
   "outputs": [],
   "source": [
    "criminal_seoul=spark.read.format(\"csv\").option(\"header\",\"true\").option(\"encoding\",\"utf8\").load(\"project/서울시_5대범죄_년도별.csv\")"
   ]
  },
  {
   "cell_type": "code",
   "execution_count": null,
   "id": "46e118b4",
   "metadata": {},
   "outputs": [],
   "source": [
    "criminal_seoul=spark.read.format(\"csv\").option(\"header\",\"true\").option(\"encoding\",\"utf8\").load(\"data/sojin_file/서울시_1인가구_여자_연령별.csv\")"
   ]
  },
  {
   "cell_type": "code",
   "execution_count": null,
   "id": "597e4979",
   "metadata": {},
   "outputs": [],
   "source": [
    "criminal_seoul1 = criminal_seoul.drop(criminal_seoul._c0)"
   ]
  },
  {
   "cell_type": "code",
   "execution_count": null,
   "id": "0735bcab",
   "metadata": {},
   "outputs": [],
   "source": [
    "criminal_seoul2=criminal_seoul1 .withColumnRenamed(\"자치구\",\"지역구\")"
   ]
  },
  {
   "cell_type": "code",
   "execution_count": null,
   "id": "69091a2e",
   "metadata": {},
   "outputs": [],
   "source": [
    "columns_to_drop = ['합계.1','살인.1','강도.1','강간강제추행.1','절도.1','폭력.1']\n",
    "\n",
    "criminal_seoul3=criminal_seoul2.drop(*columns_to_drop)\n",
    "\n",
    "criminal_seoul3.show()"
   ]
  },
  {
   "cell_type": "code",
   "execution_count": null,
   "id": "7cadd77f",
   "metadata": {},
   "outputs": [],
   "source": [
    "criminal_seoul4 = criminal_seoul3.filter(col('기간') != '기간')"
   ]
  },
  {
   "cell_type": "code",
   "execution_count": null,
   "id": "77f0ed48",
   "metadata": {},
   "outputs": [],
   "source": [
    "criminal_seoul5 = criminal_seoul4.filter(col('지역구')!='합계')\n",
    "\n"
   ]
  },
  {
   "cell_type": "code",
   "execution_count": null,
   "id": "55e6c38e",
   "metadata": {},
   "outputs": [],
   "source": [
    "criminal_seoul6=criminal_seoul5.orderBy(col(\"기간\"), col(\"합계\").desc())\n",
    "criminal_seoul6.show()"
   ]
  },
  {
   "cell_type": "code",
   "execution_count": null,
   "id": "46f74914",
   "metadata": {},
   "outputs": [],
   "source": [
    "criminal_seoul6.coalesce(1).write.format(\"csv\").option(\"header\",\"true\").mode(\"overwrite\").save(\"/project/서울시_5대범죄_연도별.csv\")"
   ]
  },
  {
   "cell_type": "code",
   "execution_count": null,
   "id": "80147a1f",
   "metadata": {},
   "outputs": [],
   "source": [
    "criminal_seoul6=spark.read.format(\"csv\").option(\"header\",\"true\").option(\"encoding\",\"utf8\").load(\"/project/sojin_data.csv\")\n",
    "\n"
   ]
  },
  {
   "cell_type": "code",
   "execution_count": null,
   "id": "b7546639",
   "metadata": {},
   "outputs": [],
   "source": []
  }
 ],
 "metadata": {
  "kernelspec": {
   "display_name": "Python 3",
   "language": "python",
   "name": "python3"
  },
  "language_info": {
   "codemirror_mode": {
    "name": "ipython",
    "version": 3
   },
   "file_extension": ".py",
   "mimetype": "text/x-python",
   "name": "python",
   "nbconvert_exporter": "python",
   "pygments_lexer": "ipython3",
   "version": "3.8.8"
  }
 },
 "nbformat": 4,
 "nbformat_minor": 5
}
