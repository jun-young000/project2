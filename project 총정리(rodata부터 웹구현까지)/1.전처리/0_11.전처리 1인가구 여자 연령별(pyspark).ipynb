{
 "cells": [
  {
   "cell_type": "code",
   "execution_count": null,
   "id": "3a8e9e96",
   "metadata": {},
   "outputs": [],
   "source": [
    "cd C:\\Users\\SOJIN JO\\Desktop\\Project2\\엔지니어링_도쿄\n",
    "\n",
    "ssh -i \"de-c4(tokyo).pem\" ubuntu@52.197.177.14"
   ]
  },
  {
   "cell_type": "code",
   "execution_count": null,
   "id": "d102442c",
   "metadata": {},
   "outputs": [],
   "source": [
    "<pyspark 들어가기>\n",
    "\n",
    "hdfs dfs -put project /user/engineer/\n",
    "\n",
    "hdfs dfs -ls data\n",
    "\n",
    "hdfs dfs -ls data/sojin_file"
   ]
  },
  {
   "cell_type": "code",
   "execution_count": null,
   "id": "8b196f35",
   "metadata": {},
   "outputs": [],
   "source": [
    "**IMPORT\n",
    "\n",
    "from pyspark.sql.functions import col\n",
    "\n",
    "from pyspark.sql.functions import *"
   ]
  },
  {
   "cell_type": "code",
   "execution_count": null,
   "id": "10517d63",
   "metadata": {},
   "outputs": [],
   "source": [
    "single_house=spark.read.format(\"csv\").option(\"header\",\"true\").option(\"encoding\",\"utf8\").load(\"data/sojin_file/서울시_1인가구_여자_연령별.csv\")\n",
    "\n",
    "single_house=spark.read.format(\"csv\").option(\"header\",\"true\").option(\"encoding\",\"utf8\").load(\"project/서울시_1인가구_여자_연령별.csv\")"
   ]
  },
  {
   "cell_type": "code",
   "execution_count": null,
   "id": "b6d79bda",
   "metadata": {},
   "outputs": [],
   "source": [
    "single_house1 = single_house.drop(single_house._c0)"
   ]
  },
  {
   "cell_type": "code",
   "execution_count": null,
   "id": "21dfdc8e",
   "metadata": {},
   "outputs": [],
   "source": [
    "single_house2=single_house1.where(col(\"성별\") == \"여자\")"
   ]
  },
  {
   "cell_type": "code",
   "execution_count": null,
   "id": "f6cce593",
   "metadata": {},
   "outputs": [],
   "source": [
    "single_house2 = single_house1.select(\"*\",col(구분).alias(\"지역구\"))"
   ]
  },
  {
   "cell_type": "code",
   "execution_count": null,
   "id": "ababb2ad",
   "metadata": {},
   "outputs": [],
   "source": [
    "spark.sql(\"SELECT * FROM single_house1 WHERE (col(\"성별\")=='여자'\")"
   ]
  },
  {
   "cell_type": "code",
   "execution_count": null,
   "id": "77239ba6",
   "metadata": {},
   "outputs": [],
   "source": [
    "single_house3=single_house2.withColumnRenamed(\"구분\",\"지역구\")"
   ]
  },
  {
   "cell_type": "code",
   "execution_count": null,
   "id": "3ec313bc",
   "metadata": {},
   "outputs": [],
   "source": [
    "retails.select(col(\"InvoiceNo\").alias(\"a\"),\"*\").drop(retails.InvoiceNo).show()"
   ]
  },
  {
   "cell_type": "code",
   "execution_count": null,
   "id": "14a32e9e",
   "metadata": {},
   "outputs": [],
   "source": [
    "single_house4 = single_house3.drop(single_house.성별)"
   ]
  },
  {
   "cell_type": "code",
   "execution_count": null,
   "id": "816e264d",
   "metadata": {},
   "outputs": [],
   "source": [
    "single_house5=single_house4.orderBy(col(\"기간\"), col(\"합계\").desc())\n",
    "\n",
    "single_house6 = single_house5.filter(col('지역구')!='합계')"
   ]
  },
  {
   "cell_type": "code",
   "execution_count": null,
   "id": "b1f3d9c9",
   "metadata": {},
   "outputs": [],
   "source": [
    "single_house6.coalesce(1).write.format(\"csv\").option(\"header\",\"true\").mode(\"overwrite\").save(\"/project/전처리_여자1인가구_연도별.csv\")\n",
    "\n",
    "single_house6=spark.read.format(\"csv\").option(\"header\",\"true\").option(\"encoding\",\"utf8\").load(\"/project/전처리_여자1인가구_연도별.csv\")"
   ]
  }
 ],
 "metadata": {
  "kernelspec": {
   "display_name": "Python 3",
   "language": "python",
   "name": "python3"
  },
  "language_info": {
   "codemirror_mode": {
    "name": "ipython",
    "version": 3
   },
   "file_extension": ".py",
   "mimetype": "text/x-python",
   "name": "python",
   "nbconvert_exporter": "python",
   "pygments_lexer": "ipython3",
   "version": "3.8.8"
  }
 },
 "nbformat": 4,
 "nbformat_minor": 5
}
