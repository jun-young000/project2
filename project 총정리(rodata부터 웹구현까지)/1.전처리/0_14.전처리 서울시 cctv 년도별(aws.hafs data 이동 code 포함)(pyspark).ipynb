{
 "cells": [
  {
   "cell_type": "code",
   "execution_count": null,
   "id": "4789f59b",
   "metadata": {},
   "outputs": [],
   "source": [
    "cctv_seoul=spark.read.format(\"csv\").option(\"encoding\",\"euc-kr\").load(\"project/서울시_CCTV_년도별.csv\")\n",
    "\n",
    "cctv_seoul1=cctv_seoul.select('_c0','_c1','_c8','_c9','_c10')"
   ]
  },
  {
   "cell_type": "code",
   "execution_count": null,
   "id": "7c3dfeae",
   "metadata": {},
   "outputs": [],
   "source": [
    "cctv_seoul1.show()"
   ]
  },
  {
   "cell_type": "code",
   "execution_count": null,
   "id": "79d3802b",
   "metadata": {},
   "outputs": [],
   "source": [
    "cctv_seoul2 =cctv_seoul1.filter(col('_c0') != 'null')\n",
    "\n",
    "cctv_seoul2 =cctv_seoul1.filter(col('_c1') != 'null')\n",
    "\n",
    "cctv_seoul2.show()"
   ]
  },
  {
   "cell_type": "code",
   "execution_count": null,
   "id": "219a4bb5",
   "metadata": {},
   "outputs": [],
   "source": [
    "#빈데이터프레임생성\n",
    "\n",
    "> from pyspark.sql.types import StructField\n",
    ">\n",
    "> from pyspark.sql.types import StructType\n",
    ">\n",
    "> from pyspark.sql.types import StringType\n"
   ]
  },
  {
   "cell_type": "code",
   "execution_count": null,
   "id": "9209c8da",
   "metadata": {},
   "outputs": [],
   "source": [
    "> schema = StructType([StructField('지역구',StringType(),True),\n",
    ">\n",
    "> StructField('합계',StringType(),True),\n",
    ">\n",
    "> StructField('2017',StringType(),True),\n",
    ">\n",
    "> StructField('2018',StringType(),True),\n",
    ">\n",
    "> StructField('2019',StringType(),True),])\n",
    ">\n",
    "> df=df_event_spark = spark.createDataFrame([],schema)\n",
    "\n",
    "cctv_seoul3=df.show(cctv_seoul2)\n",
    "\n",
    "cctv_seoul3.show()"
   ]
  },
  {
   "cell_type": "code",
   "execution_count": null,
   "id": "92467e12",
   "metadata": {},
   "outputs": [],
   "source": [
    "cctv_seoul4 =cctv_seoul3.filter(col('지역구') !='계')\n",
    "\n",
    "cctv_seoul5 =cctv_seoul4.filter(col('지역구') !='구분')\n",
    "\n",
    "cctv_seoul5.show()\n",
    "\n",
    "cctv_seoul6=cctv_seoul5.orderBy(col(\"합계\").desc())\n",
    "\n",
    "cctv_seoul6.show()\n",
    "\n",
    "cctv_seoul6.coalesce(1).write.format(\"csv\").option(\"header\",\"true\").mode(\"overwrite\").save(\"/project/서울시_cctv_연도별.csv\")\n",
    "\n",
    "csv_new= spark.read.format('csv').option('header','true').load('/전처리_여자1인가구_연도별.csv//part-00000-*.csv')"
   ]
  },
  {
   "cell_type": "code",
   "execution_count": null,
   "id": "45dab556",
   "metadata": {},
   "outputs": [],
   "source": [
    "## 하둡에서 우분투로 가져오기 \n",
    "\n",
    "hdfs dfs -get /project/서울시_5대범죄_연도별.csv ./\n",
    "\n",
    "hdfs dfs -get /project/서울시_cctv_연도별.csv ./\n",
    "\n",
    "hdfs dfs -get /project/전처리_여자1인가구_연도별.csv ./"
   ]
  },
  {
   "cell_type": "code",
   "execution_count": null,
   "id": "0a785e0f",
   "metadata": {},
   "outputs": [],
   "source": [
    "## aws에서 파일 올리기 \n",
    "\n",
    "hdfs dfs -ls /\n",
    "\n",
    "hdfs dfs -ls /user\n",
    "\n",
    "hdfs dfs -ls /user/ubuntu\n",
    "\n",
    "hdfs dfs -ls /user/ubuntu/data \n",
    "\n",
    "hdfs dfs -ls /user/ubuntu/data/sojin_file\n",
    "\n",
    "hdfs dfs -put sojin_file /user/ubuntu/data\n",
    "\n",
    "ls\n",
    "\n",
    "hdfs dfs -rm -r /user/ubuntu/data/sojin_file\n",
    "\n",
    "hdfs dfs -put sojin_file /user/ubuntu/data\n",
    "\n",
    "hdfs dfs -ls /user/ubuntu/data\n",
    "\n",
    "hdfs dfs -ls /user/ubuntu/data/sojin_file \n",
    "\n",
    "hdfs dfs -put 전처리_여자1인가구_연도별.csv/user/engineer/"
   ]
  },
  {
   "cell_type": "code",
   "execution_count": null,
   "id": "9a3f6e53",
   "metadata": {},
   "outputs": [],
   "source": [
    "#파일불러오기\n",
    "\n",
    "csv_new= spark.read.format('csv').option('header','true').load('전처리_여자1인가구_연도별.csv/part-00000-*.csv')\n",
    "\n",
    "cctv_seoul =  spark.read.format('csv').option('header','true').load('서울시_cctv_연도별.csv/part-00000-*.csv')"
   ]
  },
  {
   "cell_type": "code",
   "execution_count": null,
   "id": "ada922ff",
   "metadata": {},
   "outputs": [],
   "source": [
    "## 빈데이터 만들고 리스트 만들고 row 추가하기\n",
    "\n",
    "schema = StructType([StructField('기간코드',StringType(),True),StructField('기간',StringType(),True),])\n",
    "\n",
    "year_code=spark.createDataFrame([],schema)\n",
    "\n",
    "year_code.show()\n",
    "\n",
    "year_list=[['17','2017'],['18','2018'],['19','2019']]\n",
    "\n",
    "year_code=spark.createDataFrame(year_list)\n",
    "\n",
    "year_code_new = year_code.union(year_code)\n",
    "\n",
    "year_code_new.show()"
   ]
  },
  {
   "cell_type": "code",
   "execution_count": null,
   "id": "29d158aa",
   "metadata": {},
   "outputs": [],
   "source": []
  },
  {
   "cell_type": "code",
   "execution_count": null,
   "id": "4ed5f59f",
   "metadata": {},
   "outputs": [],
   "source": [
    "## 하둡에서 우분투로 가져오기 \n",
    "\n",
    "hdfs dfs -get /project/서울시_5대범죄_연도별.csv ./\n",
    "\n",
    "hdfs dfs -get /project/서울시_cctv_연도별.csv ./\n",
    "\n",
    "hdfs dfs -get /project/전처리_여자1인가구_연도별.csv ./"
   ]
  },
  {
   "cell_type": "code",
   "execution_count": null,
   "id": "f77004b1",
   "metadata": {},
   "outputs": [],
   "source": [
    "## aws에서 local com으로 파일 올리기 \n",
    "\n",
    "hdfs dfs -ls /\n",
    "\n",
    "hdfs dfs -ls /user\n",
    "\n",
    "hdfs dfs -ls /user/ubuntu\n",
    "\n",
    "hdfs dfs -ls /user/ubuntu/data \n",
    "\n",
    "hdfs dfs -ls /user/ubuntu/data/sojin_file\n",
    "\n",
    "hdfs dfs -put sojin_file /user/ubuntu/data\n",
    "\n",
    "ls\n",
    "\n",
    "hdfs dfs -rm -r /user/ubuntu/data/sojin_file\n",
    "\n",
    "hdfs dfs -put sojin_file /user/ubuntu/data\n",
    "\n",
    "hdfs dfs -ls /user/ubuntu/data\n",
    "\n",
    "hdfs dfs -ls /user/ubuntu/data/sojin_file \n",
    "\n",
    "hdfs dfs -put 전처리_여자1인가구_연도별.csv/user/engineer/\n",
    "\n"
   ]
  },
  {
   "cell_type": "code",
   "execution_count": null,
   "id": "77273239",
   "metadata": {},
   "outputs": [],
   "source": [
    "#파일불러오기\n",
    "\n",
    "csv_new= spark.read.format('csv').option('header','true').load('전처리_여자1인가구_연도별.csv/part-00000-*.csv')\n",
    "\n",
    "cctv_seoul =  spark.read.format('csv').option('header','true').load('서울시_cctv_연도별.csv/part-00000-*.csv')"
   ]
  },
  {
   "cell_type": "code",
   "execution_count": null,
   "id": "99b08a32",
   "metadata": {},
   "outputs": [],
   "source": [
    "schema = StructType([StructField('기간코드',StringType(),True),StructField('기간',StringType(),True),])\n",
    "\n",
    "year_code=spark.createDataFrame([],schema)\n",
    "\n",
    "year_code.show()\n",
    "\n",
    "year_list=[['17','2017'],['18','2018'],['19','2019']]\n",
    "\n",
    "year_code=spark.createDataFrame(year_list)\n",
    "\n",
    "year_code_new = year_code.union(year_code)\n",
    "\n",
    "year_code_new.show()\n",
    "\n"
   ]
  },
  {
   "cell_type": "code",
   "execution_count": null,
   "id": "289b5abb",
   "metadata": {},
   "outputs": [],
   "source": [
    "## 빈데이터 만들고 리스트 만들고 row 추가하기\n",
    "\n",
    "schema = StructType([StructField('기간코드',StringType(),True),StructField('기간',StringType(),True),])\n",
    "\n",
    "year_code=spark.createDataFrame([],schema)\n",
    "\n",
    "year_code.show()\n",
    "\n",
    "year_list=[['17','2017'],['18','2018'],['19','2019']]\n",
    "\n",
    "year_code=spark.createDataFrame(year_list)\n",
    "\n",
    "year_code_new = year_code.union(year_code)\n",
    "\n",
    "year_code_new.show()"
   ]
  }
 ],
 "metadata": {
  "kernelspec": {
   "display_name": "Python 3",
   "language": "python",
   "name": "python3"
  },
  "language_info": {
   "codemirror_mode": {
    "name": "ipython",
    "version": 3
   },
   "file_extension": ".py",
   "mimetype": "text/x-python",
   "name": "python",
   "nbconvert_exporter": "python",
   "pygments_lexer": "ipython3",
   "version": "3.8.8"
  }
 },
 "nbformat": 4,
 "nbformat_minor": 5
}
