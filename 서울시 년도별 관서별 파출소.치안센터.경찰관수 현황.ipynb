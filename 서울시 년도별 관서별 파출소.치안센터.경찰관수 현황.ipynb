{
 "cells": [
  {
   "cell_type": "code",
   "execution_count": null,
   "id": "ca6175ee",
   "metadata": {},
   "outputs": [],
   "source": [
    "hadoop fs -mkdir /user/root  \n",
    "#하둡에   /user/root 디렉터리를 생성한다.\n",
    "\n",
    "hadoop fs -put testlog /user/root/testlog  \n",
    "\n",
    "# hadoop fs -put [로컬 디렉토리 파일 경로] [목적지]\n",
    "\n",
    "# testlog라는 파일을 HDFS의 /user/root라는 HDFS 디렉터리에 업로드 한다"
   ]
  },
  {
   "cell_type": "code",
   "execution_count": null,
   "id": "26389de8",
   "metadata": {},
   "outputs": [],
   "source": [
    "from pyspark.sql.functions import col\n",
    "from pyspark.sql.functions import lit\n",
    "from pyspark.sql.types import StructField, StructType, StringType, IntegerType\n",
    "from pyspark.sql.functions import *\n",
    "from pyspark.sql.window import *\n",
    "from pyspark.sql.functions import org.apache.spark.sql.functions.monotonically_increasing_id\n",
    "import sys\n",
    "import codecs\n",
    "sys.stdout = codecs.getwriter('utf8')(sys.stdout)"
   ]
  },
  {
   "cell_type": "code",
   "execution_count": null,
   "id": "28437d0f",
   "metadata": {},
   "outputs": [],
   "source": [
    "hdfs dfs -put data homework"
   ]
  },
  {
   "cell_type": "code",
   "execution_count": null,
   "id": "444cf546",
   "metadata": {},
   "outputs": [],
   "source": [
    "df1=spark.read.option(\"header\", \"true\").csv(\"/user/ubuntu/homework/data/project/서울시_파출소_치안센터_연도별_총수.csv/경찰청 서울특별시경찰청_경찰서별 지역경찰 현황_20201231.csv\")"
   ]
  },
  {
   "cell_type": "code",
   "execution_count": null,
   "id": "c1f69c39",
   "metadata": {},
   "outputs": [],
   "source": [
    "df1=spark.read.option(\"charset\",\"utf-8\").option(\"header\", \"true\").csv(\"/user/ubuntu/homework/data/project/서울시_파출소_치안센터_연도별_총수.csv/경찰청 서울특별시경찰청_경찰서별 지역경찰 현황_20201231.csv\")"
   ]
  },
  {
   "cell_type": "code",
   "execution_count": null,
   "id": "20907155",
   "metadata": {},
   "outputs": [],
   "source": [
    "df1=spark.read.option(\"charset\",\"iso-8859-1\").option(\"header\", \"true\").csv(\"/user/ubuntu/homework/data/project/서울시_파출소_치안센터_연도별_총수.csv/경찰청 서울특별시경찰청_경찰서별 지역경찰 현황_20201231.csv\")\n"
   ]
  },
  {
   "cell_type": "code",
   "execution_count": null,
   "id": "53fda61d",
   "metadata": {},
   "outputs": [],
   "source": [
    "df1=spark.read.option(\"charset\",\"euc-kr\").option(\"header\", \"true\").csv(\"/user/ubuntu/homework/data/project/서울시_파출소_치안센터_연도별_총수.csv/경찰청 서울특별시경찰청_경찰서별 지역경찰 현황_20201231.csv\")\n",
    "#여기서 해결함"
   ]
  },
  {
   "cell_type": "code",
   "execution_count": null,
   "id": "9da7e574",
   "metadata": {},
   "outputs": [],
   "source": [
    "df2018=df1.select(col(\"경찰서\").alias(\"경찰서\"),col(\"2018년 지구대\").alias(\"지구대\"),col(\"2018년 파출소\").alias(\"파출소\"),col(\"2018년 치안센터\").alias(\"치안센터\"))"
   ]
  },
  {
   "cell_type": "code",
   "execution_count": null,
   "id": "ca15b682",
   "metadata": {},
   "outputs": [],
   "source": [
    "df2018_1= df2018.withColumn(\"기간코드\",lit(\"18\"))"
   ]
  },
  {
   "cell_type": "code",
   "execution_count": null,
   "id": "31e35afe",
   "metadata": {},
   "outputs": [],
   "source": [
    "df2018_1"
   ]
  },
  {
   "cell_type": "code",
   "execution_count": null,
   "id": "e585fc4d",
   "metadata": {},
   "outputs": [],
   "source": [
    "df2019=df1.select(col(\"경찰서\").alias(\"경찰서\"),col(\"2019년 지구대\").alias(\"지구대\"),col(\"2019년 파출소\").alias(\"파출소\"),col(\"2019년 치안센터\").alias(\"치안센터\"))"
   ]
  },
  {
   "cell_type": "code",
   "execution_count": null,
   "id": "bad79103",
   "metadata": {},
   "outputs": [],
   "source": [
    "df2019_1= df2019.withColumn(\"기간코드\",lit(\"19\"))"
   ]
  },
  {
   "cell_type": "code",
   "execution_count": null,
   "id": "d26da0ac",
   "metadata": {},
   "outputs": [],
   "source": [
    "df2019_1"
   ]
  },
  {
   "cell_type": "code",
   "execution_count": null,
   "id": "af6bc0b9",
   "metadata": {},
   "outputs": [],
   "source": [
    "df2020=df1.select(col(\"경찰서\").alias(\"경찰서\"),col(\"2020년 지구대\").alias(\"지구대\"),col(\"2020년 파출소\").alias(\"파출소\"),col(\"2020년 치안센터\").alias(\"치안센터\"))"
   ]
  },
  {
   "cell_type": "code",
   "execution_count": null,
   "id": "a6ad897c",
   "metadata": {},
   "outputs": [],
   "source": [
    "df2020_1= df2020.withColumn(\"기간코드\",lit(\"20\"))"
   ]
  },
  {
   "cell_type": "code",
   "execution_count": null,
   "id": "311bd8db",
   "metadata": {},
   "outputs": [],
   "source": [
    "df2018_1.createOrReplaceTempView(\"df2018_1\")\n",
    "df2019_1.createOrReplaceTempView(\"df2019_1\")\n",
    "df2020_1.createOrReplaceTempView(\"df2020_1\")"
   ]
  },
  {
   "cell_type": "code",
   "execution_count": null,
   "id": "3cee9ca1",
   "metadata": {},
   "outputs": [],
   "source": [
    "df_box=spark.sql(\"SELECT * FROM df2018_1 UNION ALL SELECT * FROM df2019_1 UNION ALL SELECT * FROM df2020_1\")"
   ]
  },
  {
   "cell_type": "code",
   "execution_count": null,
   "id": "3de9c051",
   "metadata": {},
   "outputs": [],
   "source": [
    "df_box.show(200)"
   ]
  },
  {
   "cell_type": "code",
   "execution_count": null,
   "id": "8b0bf54f",
   "metadata": {},
   "outputs": [],
   "source": [
    "df_box.coalesce(1).write.format(\"csv\").option(\"header\",\"true\").mode(\"overwrite\").save(\"/user/ubuntu/homework/data/project/서울시_파출소_치안센터_연도별_총수.csv/box\")"
   ]
  },
  {
   "cell_type": "code",
   "execution_count": null,
   "id": "553f2a44",
   "metadata": {},
   "outputs": [],
   "source": []
  },
  {
   "cell_type": "code",
   "execution_count": null,
   "id": "021dab70",
   "metadata": {},
   "outputs": [],
   "source": [
    "---------여기부터는 경찰관수------------------\n"
   ]
  },
  {
   "cell_type": "code",
   "execution_count": null,
   "id": "5ffcb266",
   "metadata": {},
   "outputs": [],
   "source": [
    "police=spark.read.option(\"header\", \"true\").csv(\"/user/ubuntu/homework/data/project/서울시_경찰관_연도별_현황.csv/경찰청 서울특별시경찰청_경찰서별 경찰관수 현황_20201231.csv\")"
   ]
  },
  {
   "cell_type": "code",
   "execution_count": null,
   "id": "4b207ad6",
   "metadata": {},
   "outputs": [],
   "source": [
    "police=spark.read.option(\"charset\",\"euc-kr\").option(\"header\", \"true\").csv(\"/user/ubuntu/homework/data/project/서울시_경찰관_연도별_현황.csv/경찰청 서울특별시경찰청_경찰서별 경찰관수 현황_20201231.csv\")"
   ]
  },
  {
   "cell_type": "code",
   "execution_count": null,
   "id": "c3d0d25f",
   "metadata": {},
   "outputs": [],
   "source": [
    "police.show()"
   ]
  },
  {
   "cell_type": "code",
   "execution_count": null,
   "id": "e70b7af0",
   "metadata": {},
   "outputs": [],
   "source": [
    "police_2016=police.select(col(\"경찰서\").alias(\"경찰서\"),col(\"2016년\").alias(\"경찰관수\"))"
   ]
  },
  {
   "cell_type": "code",
   "execution_count": null,
   "id": "0d95bdd5",
   "metadata": {},
   "outputs": [],
   "source": [
    "police2016_1= police_2016.withColumn(\"기간코드\",lit(\"16\"))"
   ]
  },
  {
   "cell_type": "code",
   "execution_count": null,
   "id": "b9edb99b",
   "metadata": {},
   "outputs": [],
   "source": [
    "police_2017=police.select(col(\"경찰서\").alias(\"경찰서\"),col(\"2017년\").alias(\"경찰관수\"))"
   ]
  },
  {
   "cell_type": "code",
   "execution_count": null,
   "id": "23b9a0a0",
   "metadata": {},
   "outputs": [],
   "source": [
    "police2017_1= police_2017.withColumn(\"기간코드\",lit(\"17\"))"
   ]
  },
  {
   "cell_type": "code",
   "execution_count": null,
   "id": "9017ebba",
   "metadata": {},
   "outputs": [],
   "source": [
    "police_2018=police.select(col(\"경찰서\").alias(\"경찰서\"),col(\"2018년\").alias(\"경찰관수\"))\n",
    "police2018_1= police_2018.withColumn(\"기간코드\",lit(\"18\"))"
   ]
  },
  {
   "cell_type": "code",
   "execution_count": null,
   "id": "f629ec1b",
   "metadata": {},
   "outputs": [],
   "source": [
    "police_2019=police.select(col(\"경찰서\").alias(\"경찰서\"),col(\"2019년\").alias(\"경찰관수\"))\n",
    "police2019_1= police_2019.withColumn(\"기간코드\",lit(\"19\"))"
   ]
  },
  {
   "cell_type": "code",
   "execution_count": null,
   "id": "98fd7b79",
   "metadata": {},
   "outputs": [],
   "source": [
    "police2016_1.createOrReplaceTempView(\"police2016_1\")\n",
    "police2017_1.createOrReplaceTempView(\"police2017_1\")\n",
    "police2018_1.createOrReplaceTempView(\"police2018_1\")\n",
    "police2019_1.createOrReplaceTempView(\"police2019_1\")\n"
   ]
  },
  {
   "cell_type": "code",
   "execution_count": null,
   "id": "90fbc31e",
   "metadata": {},
   "outputs": [],
   "source": [
    "police_officer=spark.sql(\"SELECT * FROM police2016_1 UNION ALL SELECT * FROM police2017_1 UNION ALL SELECT * FROM police2018_1 UNION ALL SELECT * FROM police2019_1\")"
   ]
  },
  {
   "cell_type": "code",
   "execution_count": null,
   "id": "e981e681",
   "metadata": {},
   "outputs": [],
   "source": [
    "police_officer.show(10000)"
   ]
  },
  {
   "cell_type": "code",
   "execution_count": null,
   "id": "db77617e",
   "metadata": {},
   "outputs": [],
   "source": [
    "police_officer.coalesce(1).write.format(\"csv\").option(\"header\",\"true\").mode(\"overwrite\").save(\"/user/ubuntu/homework/data/project/서울시_경찰관_연도별_현황.csv/police_officer.csv\")"
   ]
  }
 ],
 "metadata": {
  "kernelspec": {
   "display_name": "Python 3",
   "language": "python",
   "name": "python3"
  },
  "language_info": {
   "codemirror_mode": {
    "name": "ipython",
    "version": 3
   },
   "file_extension": ".py",
   "mimetype": "text/x-python",
   "name": "python",
   "nbconvert_exporter": "python",
   "pygments_lexer": "ipython3",
   "version": "3.8.8"
  }
 },
 "nbformat": 4,
 "nbformat_minor": 5
}
