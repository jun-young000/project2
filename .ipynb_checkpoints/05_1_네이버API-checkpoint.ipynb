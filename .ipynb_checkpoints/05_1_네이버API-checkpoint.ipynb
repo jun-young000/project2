{
 "cells": [
  {
   "cell_type": "markdown",
   "id": "511df772",
   "metadata": {},
   "source": [
    "### 네이버 검색 API 사용\n",
    "\n",
    "    - 블로그를 비롯 전문자료까지 호출방법이 동일\n",
    "    - blog 검색만 대표로 예제 작성\n",
    "    \n",
    "    \n",
    "    -네이버 개발자 센터에 개발자 등록\n",
    "        -application 생성(사용 API :검색0\n",
    "        -client_id 와 client_secret 두값을 생성해서 얻어와야 함"
   ]
  },
  {
   "cell_type": "code",
   "execution_count": 152,
   "id": "19d94454",
   "metadata": {},
   "outputs": [],
   "source": [
    "import os\n",
    "import sys\n",
    "import urllib.request\n",
    "from tqdm import tqdm_notebook \n",
    "import pandas as pd"
   ]
  },
  {
   "cell_type": "code",
   "execution_count": 66,
   "id": "60bc7d5b",
   "metadata": {},
   "outputs": [],
   "source": [
    "## id와 key 변수에 저장\n",
    "\n",
    "client_id=\"cz7ccqpcE8pZtZJBn064\"\n",
    "client_secret=\"7m2Ru_D6Ph\"\n"
   ]
  },
  {
   "cell_type": "code",
   "execution_count": 67,
   "id": "f166780a",
   "metadata": {},
   "outputs": [
    {
     "data": {
      "text/plain": [
       "'%EA%B0%95%EB%82%A8%EC%97%AD'"
      ]
     },
     "execution_count": 67,
     "metadata": {},
     "output_type": "execute_result"
    }
   ],
   "source": [
    "## 검색어 설정(utf-8 로 인코딩)\n",
    "## urllib.parse.quote(한글)\n",
    "\n",
    "\n",
    "\n",
    "enc_text=urllib.parse.quote(\"강남역\")       #quote 는 한글을 자동으로 utf-8 로 인코딩\n",
    "enc_text"
   ]
  },
  {
   "cell_type": "markdown",
   "id": "3b6773b2",
   "metadata": {},
   "source": [
    "\n",
    "\n",
    "\n",
    "# url \n",
    "# 데이터 형태에 따라 2개의 url을 제공\n",
    "\n",
    "\n",
    "- https://openapi.naver.com/v1/search/blog.xml   : xml data 반환\n",
    "- https://openapi.naver.com/v1/search/blog.json  (.json 은 생략할 수 있다.) :json 데이터 반환 \n",
    "\n",
    "        "
   ]
  },
  {
   "cell_type": "code",
   "execution_count": 68,
   "id": "0cd9f1e7",
   "metadata": {},
   "outputs": [],
   "source": [
    "url_base=\"https://openapi.naver.com/v1/search/blog?query=\"   #query= 검색어"
   ]
  },
  {
   "cell_type": "code",
   "execution_count": 69,
   "id": "7fe53a3b",
   "metadata": {},
   "outputs": [],
   "source": [
    "url=url_base+enc_text"
   ]
  },
  {
   "cell_type": "code",
   "execution_count": 70,
   "id": "627639d0",
   "metadata": {},
   "outputs": [
    {
     "data": {
      "text/plain": [
       "'https://openapi.naver.com/v1/search/blog?query=%EA%B0%95%EB%82%A8%EC%97%AD'"
      ]
     },
     "execution_count": 70,
     "metadata": {},
     "output_type": "execute_result"
    }
   ],
   "source": [
    "url"
   ]
  },
  {
   "cell_type": "markdown",
   "id": "5baa68a8",
   "metadata": {},
   "source": [
    "#### header 부착(id,key 전송)\n",
    "\n",
    "- urllib.request.Request(url)  :전송객체 생성\n",
    "- Request.add_header(헤더)      : 헤더 부착\n",
    "- request.urlopen(request 객체)  :요청"
   ]
  },
  {
   "cell_type": "code",
   "execution_count": 71,
   "id": "647660c9",
   "metadata": {},
   "outputs": [
    {
     "data": {
      "text/plain": [
       "200"
      ]
     },
     "execution_count": 71,
     "metadata": {},
     "output_type": "execute_result"
    }
   ],
   "source": [
    "request = urllib.request.Request(url) #요청객체\n",
    "\n",
    "\n",
    "# 헤더 추가\n",
    "request.add_header(\"X-Naver-Client-Id\",client_id)\n",
    "request.add_header(\"X-Naver-Client-Secret\",client_secret)\n",
    "\n",
    "\n",
    "\n",
    "# # 요청후 응답\n",
    "response = urllib.request.urlopen(request)\n",
    "\n",
    "\n",
    "\n",
    "# # 서버가 전송한 응답코드 확인\n",
    "rescode = response.getcode()\n",
    "rescode"
   ]
  },
  {
   "cell_type": "code",
   "execution_count": 72,
   "id": "3741950c",
   "metadata": {},
   "outputs": [
    {
     "name": "stdout",
     "output_type": "stream",
     "text": [
      "{\n",
      "\"lastBuildDate\": \"Sat, 07 Aug 2021 15:19:39 +0900\",\n",
      "\"total\": 1741768,\n",
      "\"start\": 1,\n",
      "\"display\": 10,\n",
      "\"items\": [\n",
      "{\n",
      "\"title\": \"<b>강남역</b> 데이트 맛집, 마마램\",\n",
      "\"link\": \"https:\\/\\/blog.naver.com\\/scoroom?Redirect=Log&logNo=222456820669\",\n",
      "\"description\": \"캠핑장에서 돌아오고 남은 몇일의 여유를 즐기를 위해서 출동했다^^ <b>강남역</b> 데이트, 마마램 서울 강남구 도산대로 62길 11 (02-543-5310) 이번 캠핑에 양고기는 준비하지 않기도 했고, 양고기는 무엇보다 방문해서... \",\n",
      "\"bloggername\": \"Sweet Cozy Room\",\n",
      "\"bloggerlink\": \"https://blog.naver.com/scoroom\",\n",
      "\"postdate\": \"20210804\"\n",
      "\n",
      "},\n",
      "{\n",
      "\"title\": \"재미가 있는 <b>강남역</b> 맛집 공유\",\n",
      "\"link\": \"https:\\/\\/blog.naver.com\\/jung111hee?Redirect=Log&logNo=222455247595\",\n",
      "\"description\": \"감성타코 <b>강남역</b>점 감성그릴파히타 38000원 위치 : 서울 강남구 강남대로 406 지하1층 문의 : 02-565-8830 영업 : 11:30 - 22:00 마지막주문 21:00 제가 다녀온 감성타코는 <b>강남역</b>11번출구 바로 앞에 위치해있어요.... \",\n",
      "\"bloggername\": \"맛집멋집\",\n",
      "\"bloggerlink\": \"https://blog.naver.com/jung111hee\",\n",
      "\"postdate\": \"20210803\"\n",
      "\n",
      "},\n",
      "{\n",
      "\"title\": \"<b>강남역</b> 스테이크 분위기 좋은 미도인\",\n",
      "\"link\": \"https:\\/\\/blog.naver.com\\/tw01554?Redirect=Log&logNo=222459401543\",\n",
      "\"description\": \"<b>강남역</b> 스테이크 찾고 있다면 여기 어떨가 싶네용~ #<b>강남역</b>스테이크 #<b>강남역</b>대창덮밥 #<b>강남역</b>미도인 #미도인 #강남미도인 #미도인강남 #<b>강남역</b>스테이크맛집 #<b>강남역</b>대창덮밥맛집 #<b>강남역</b>가성비맛집... \",\n",
      "\"bloggername\": \"헨2의 daily\",\n",
      "\"bloggerlink\": \"https://blog.naver.com/tw01554\",\n",
      "\"postdate\": \"20210806\"\n",
      "\n",
      "},\n",
      "{\n",
      "\"title\": \"인정했던 <b>강남역</b> 점심\",\n",
      "\"link\": \"https:\\/\\/blog.naver.com\\/sitelove?Redirect=Log&logNo=222457129201\",\n",
      "\"description\": \"동료가 <b>강남역</b> 점심 장소로 괜찮은 특색 있는 장소를 추천해 줘서 다 같이 다녀올 수 있었어요. 저희가 점심에 방문해서 간단한 반주까지 하고 회사에 복귀하게 만들었던 식당은 반티엔야오 카오위예요. <b>강남역</b>... \",\n",
      "\"bloggername\": \"주관적참견시점\",\n",
      "\"bloggerlink\": \"https://blog.naver.com/sitelove\",\n",
      "\"postdate\": \"20210804\"\n",
      "\n",
      "},\n",
      "{\n",
      "\"title\": \"재료가 좋은 삼겹살 <b>강남역</b> 고기집\",\n",
      "\"link\": \"https:\\/\\/blog.naver.com\\/unique1028?Redirect=Log&logNo=222411292448\",\n",
      "\"description\": \"얼마 전 친구들과 모임 중 강남 일대에서 꽤 알아준다는 <b>강남역</b> 고기집에 다녀왔어요. 화로에 구워 육질이 우수한 돈육에 수제냉면까지, 무엇하나 부족함이 없었던 곳이랍니다. 강남구 역삼동 619-14 1층 봉우화로... \",\n",
      "\"bloggername\": \"줄리다이어리♥\",\n",
      "\"bloggerlink\": \"https://blog.naver.com/unique1028\",\n",
      "\"postdate\": \"20210626\"\n",
      "\n",
      "},\n",
      "{\n",
      "\"title\": \"최고였던 <b>강남역</b> 고기집\",\n",
      "\"link\": \"https:\\/\\/blog.naver.com\\/aq9999qa?Redirect=Log&logNo=222406466536\",\n",
      "\"description\": \"주소: 서울 강남구 역삼로3길 8 번호: 02-538-1588 이날 찾았던 고기집은 <b>강남역</b> 4번 출구에서 도보 5분 정도 거리에 위치해 있었는데요. 웅장한 단독건물에 상호가 크게 부착되어져 있어, 왠만해서는 못보고... \",\n",
      "\"bloggername\": \"황혼의엘리제\",\n",
      "\"bloggerlink\": \"https://blog.naver.com/aq9999qa\",\n",
      "\"postdate\": \"20210622\"\n",
      "\n",
      "},\n",
      "{\n",
      "\"title\": \"극찬했던 <b>강남역</b> 돼지갈비 맛집\",\n",
      "\"link\": \"https:\\/\\/blog.naver.com\\/seventhday?Redirect=Log&logNo=222416694910\",\n",
      "\"description\": \"얼마전 친구들과 저녁 약속이 있어서 검색으로 미리 알아둔 <b>강남역</b> 돼지갈비 맛집에서 식사했어요.... 강남 돼지갈비 맛집은 밖에서 구워 가져와 달라고 하면 그렇게 해주신다고 하니 참고하시면 좋을 것... \",\n",
      "\"bloggername\": \"colortrip\",\n",
      "\"bloggerlink\": \"https://blog.naver.com/seventhday\",\n",
      "\"postdate\": \"20210702\"\n",
      "\n",
      "},\n",
      "{\n",
      "\"title\": \"합격점줬던 <b>강남역</b> 고기집\",\n",
      "\"link\": \"https:\\/\\/blog.naver.com\\/miukitchen?Redirect=Log&logNo=222419120284\",\n",
      "\"description\": \"이날 찾아간 강남랭겹은 <b>강남역</b> 11번 출구에서 도보로 10분이 채 걸리지 않았어요. 코너 1층에 크게 걸려있는 삼겹살 사진과 유니크한 외관이라 멀리서도 눈에 확 들어왔네요. 이곳은 인기있는 사이드 메뉴로 구성... \",\n",
      "\"bloggername\": \"초코퐁듀쿠키\",\n",
      "\"bloggerlink\": \"https://blog.naver.com/miukitchen\",\n",
      "\"postdate\": \"20210704\"\n",
      "\n",
      "},\n",
      "{\n",
      "\"title\": \"<b>강남역</b> 데이트 _ 마마램 feat. 냄새가 1도 없는 양고기\",\n",
      "\"link\": \"https:\\/\\/blog.naver.com\\/minahbb?Redirect=Log&logNo=222446265483\",\n",
      "\"description\": \"맞이하는 <b>강남역</b> 데이트 마마램 mama lamb 마마램은 8개월 미만의 프리미엄 양갈비만을 엄선해서... ㅠㅠ <b>강남역</b> 데이트 마마램에서 배추찜도 시켜보세요 이거 술안주 맞네 이렇게 한껏 올려서 한입에 먹습니다... \",\n",
      "\"bloggername\": \"커몬커먼\",\n",
      "\"bloggerlink\": \"https://blog.naver.com/minahbb\",\n",
      "\"postdate\": \"20210727\"\n",
      "\n",
      "},\n",
      "{\n",
      "\"title\": \"대만족했던 <b>강남역</b> 고기집\",\n",
      "\"link\": \"https:\\/\\/blog.naver.com\\/smsha?Redirect=Log&logNo=222409477379\",\n",
      "\"description\": \"이날 갔던 백억하누 강남본점은 <b>강남역</b> 11번출구에서 걸어서 5분 정도 걸리더라구요. 멀리서 봐도 도심속의 정원같은 분위기로 꾸며져 있어 쉽게 눈에 띄었어요. 특히나 엄청나게 컸던 현수막으로 제일 유명한... \",\n",
      "\"bloggername\": \"뚜시와 포포의 하이파이브\",\n",
      "\"bloggerlink\": \"https://blog.naver.com/smsha\",\n",
      "\"postdate\": \"20210625\"\n",
      "\n",
      "}\n",
      "]\n",
      "}\n",
      "\n"
     ]
    }
   ],
   "source": [
    "if(rescode==200) :\n",
    "    response_body = response.read() # 전송된 검색 data 읽어오기\n",
    "#     print(response_body) # encoding 된 결과가 넘어옴\n",
    "    print(response_body.decode('utf-8')) #한글 처리\n",
    "else : \n",
    "    print(\"Error Code : \" + rescode)"
   ]
  },
  {
   "cell_type": "code",
   "execution_count": null,
   "id": "9c540f62",
   "metadata": {},
   "outputs": [],
   "source": []
  },
  {
   "cell_type": "code",
   "execution_count": 73,
   "id": "8a6e724e",
   "metadata": {},
   "outputs": [
    {
     "name": "stdout",
     "output_type": "stream",
     "text": [
      "Sat, 07 Aug 2021 15:19:41 +0900\n",
      "1741768\n",
      "1\n",
      "10\n"
     ]
    }
   ],
   "source": [
    "### requests 패키지 사용 - 코드를 좀 간단하게 변경\n",
    "import requests #서버접속\n",
    "from urllib.parse import urlparse #한글처리\n",
    "import urllib.parse\n",
    "\n",
    "keyword = urllib.parse.quote(\"강남역\")\n",
    "url =\"https://openapi.naver.com/v1/search/blog?query=\"\n",
    "url_fin = url+keyword\n",
    "\n",
    "#get()안에 url과 headers를 포함 할 수 있음\n",
    "result = requests.get(url_fin,\n",
    "      headers={\"X-Naver-Client-Id\":\"cz7ccqpcE8pZtZJBn064\",\n",
    "               \"X-Naver-Client-Secret\":\"7m2Ru_D6Ph\"})\n",
    "\n",
    "\n",
    "\n",
    "# result.json()  # 한글 처리와 data형식을 json 으로 변경할 수 있음\n",
    "json_obj=result.json()\n",
    "print(json_obj[\"lastBuildDate\"])\n",
    "print(json_obj['total'])\n",
    "print(json_obj['start'])\n",
    "print(json_obj['display'])\n"
   ]
  },
  {
   "cell_type": "code",
   "execution_count": 74,
   "id": "e8b4d2cb",
   "metadata": {},
   "outputs": [
    {
     "data": {
      "text/plain": [
       "[{'title': '<b>강남역</b> 데이트 맛집, 마마램',\n",
       "  'link': 'https://blog.naver.com/scoroom?Redirect=Log&logNo=222456820669',\n",
       "  'description': '캠핑장에서 돌아오고 남은 몇일의 여유를 즐기를 위해서 출동했다^^ <b>강남역</b> 데이트, 마마램 서울 강남구 도산대로 62길 11 (02-543-5310) 이번 캠핑에 양고기는 준비하지 않기도 했고, 양고기는 무엇보다 방문해서... ',\n",
       "  'bloggername': 'Sweet Cozy Room',\n",
       "  'bloggerlink': 'https://blog.naver.com/scoroom',\n",
       "  'postdate': '20210804'},\n",
       " {'title': '재미가 있는 <b>강남역</b> 맛집 공유',\n",
       "  'link': 'https://blog.naver.com/jung111hee?Redirect=Log&logNo=222455247595',\n",
       "  'description': '감성타코 <b>강남역</b>점 감성그릴파히타 38000원 위치 : 서울 강남구 강남대로 406 지하1층 문의 : 02-565-8830 영업 : 11:30 - 22:00 마지막주문 21:00 제가 다녀온 감성타코는 <b>강남역</b>11번출구 바로 앞에 위치해있어요.... ',\n",
       "  'bloggername': '맛집멋집',\n",
       "  'bloggerlink': 'https://blog.naver.com/jung111hee',\n",
       "  'postdate': '20210803'},\n",
       " {'title': '<b>강남역</b> 스테이크 분위기 좋은 미도인',\n",
       "  'link': 'https://blog.naver.com/tw01554?Redirect=Log&logNo=222459401543',\n",
       "  'description': '<b>강남역</b> 스테이크 찾고 있다면 여기 어떨가 싶네용~ #<b>강남역</b>스테이크 #<b>강남역</b>대창덮밥 #<b>강남역</b>미도인 #미도인 #강남미도인 #미도인강남 #<b>강남역</b>스테이크맛집 #<b>강남역</b>대창덮밥맛집 #<b>강남역</b>가성비맛집... ',\n",
       "  'bloggername': '헨2의 daily',\n",
       "  'bloggerlink': 'https://blog.naver.com/tw01554',\n",
       "  'postdate': '20210806'},\n",
       " {'title': '인정했던 <b>강남역</b> 점심',\n",
       "  'link': 'https://blog.naver.com/sitelove?Redirect=Log&logNo=222457129201',\n",
       "  'description': '동료가 <b>강남역</b> 점심 장소로 괜찮은 특색 있는 장소를 추천해 줘서 다 같이 다녀올 수 있었어요. 저희가 점심에 방문해서 간단한 반주까지 하고 회사에 복귀하게 만들었던 식당은 반티엔야오 카오위예요. <b>강남역</b>... ',\n",
       "  'bloggername': '주관적참견시점',\n",
       "  'bloggerlink': 'https://blog.naver.com/sitelove',\n",
       "  'postdate': '20210804'},\n",
       " {'title': '재료가 좋은 삼겹살 <b>강남역</b> 고기집',\n",
       "  'link': 'https://blog.naver.com/unique1028?Redirect=Log&logNo=222411292448',\n",
       "  'description': '얼마 전 친구들과 모임 중 강남 일대에서 꽤 알아준다는 <b>강남역</b> 고기집에 다녀왔어요. 화로에 구워 육질이 우수한 돈육에 수제냉면까지, 무엇하나 부족함이 없었던 곳이랍니다. 강남구 역삼동 619-14 1층 봉우화로... ',\n",
       "  'bloggername': '줄리다이어리♥',\n",
       "  'bloggerlink': 'https://blog.naver.com/unique1028',\n",
       "  'postdate': '20210626'},\n",
       " {'title': '최고였던 <b>강남역</b> 고기집',\n",
       "  'link': 'https://blog.naver.com/aq9999qa?Redirect=Log&logNo=222406466536',\n",
       "  'description': '주소: 서울 강남구 역삼로3길 8 번호: 02-538-1588 이날 찾았던 고기집은 <b>강남역</b> 4번 출구에서 도보 5분 정도 거리에 위치해 있었는데요. 웅장한 단독건물에 상호가 크게 부착되어져 있어, 왠만해서는 못보고... ',\n",
       "  'bloggername': '황혼의엘리제',\n",
       "  'bloggerlink': 'https://blog.naver.com/aq9999qa',\n",
       "  'postdate': '20210622'},\n",
       " {'title': '극찬했던 <b>강남역</b> 돼지갈비 맛집',\n",
       "  'link': 'https://blog.naver.com/seventhday?Redirect=Log&logNo=222416694910',\n",
       "  'description': '얼마전 친구들과 저녁 약속이 있어서 검색으로 미리 알아둔 <b>강남역</b> 돼지갈비 맛집에서 식사했어요.... 강남 돼지갈비 맛집은 밖에서 구워 가져와 달라고 하면 그렇게 해주신다고 하니 참고하시면 좋을 것... ',\n",
       "  'bloggername': 'colortrip',\n",
       "  'bloggerlink': 'https://blog.naver.com/seventhday',\n",
       "  'postdate': '20210702'},\n",
       " {'title': '합격점줬던 <b>강남역</b> 고기집',\n",
       "  'link': 'https://blog.naver.com/miukitchen?Redirect=Log&logNo=222419120284',\n",
       "  'description': '이날 찾아간 강남랭겹은 <b>강남역</b> 11번 출구에서 도보로 10분이 채 걸리지 않았어요. 코너 1층에 크게 걸려있는 삼겹살 사진과 유니크한 외관이라 멀리서도 눈에 확 들어왔네요. 이곳은 인기있는 사이드 메뉴로 구성... ',\n",
       "  'bloggername': '초코퐁듀쿠키',\n",
       "  'bloggerlink': 'https://blog.naver.com/miukitchen',\n",
       "  'postdate': '20210704'},\n",
       " {'title': '<b>강남역</b> 데이트 _ 마마램 feat. 냄새가 1도 없는 양고기',\n",
       "  'link': 'https://blog.naver.com/minahbb?Redirect=Log&logNo=222446265483',\n",
       "  'description': '맞이하는 <b>강남역</b> 데이트 마마램 mama lamb 마마램은 8개월 미만의 프리미엄 양갈비만을 엄선해서... ㅠㅠ <b>강남역</b> 데이트 마마램에서 배추찜도 시켜보세요 이거 술안주 맞네 이렇게 한껏 올려서 한입에 먹습니다... ',\n",
       "  'bloggername': '커몬커먼',\n",
       "  'bloggerlink': 'https://blog.naver.com/minahbb',\n",
       "  'postdate': '20210727'},\n",
       " {'title': '대만족했던 <b>강남역</b> 고기집',\n",
       "  'link': 'https://blog.naver.com/smsha?Redirect=Log&logNo=222409477379',\n",
       "  'description': '이날 갔던 백억하누 강남본점은 <b>강남역</b> 11번출구에서 걸어서 5분 정도 걸리더라구요. 멀리서 봐도 도심속의 정원같은 분위기로 꾸며져 있어 쉽게 눈에 띄었어요. 특히나 엄청나게 컸던 현수막으로 제일 유명한... ',\n",
       "  'bloggername': '뚜시와 포포의 하이파이브',\n",
       "  'bloggerlink': 'https://blog.naver.com/smsha',\n",
       "  'postdate': '20210625'}]"
      ]
     },
     "execution_count": 74,
     "metadata": {},
     "output_type": "execute_result"
    }
   ],
   "source": [
    "## json data 추출:dict처럼 변수[key]\n",
    "\n",
    "json_obj[\"items\"]"
   ]
  },
  {
   "cell_type": "code",
   "execution_count": 75,
   "id": "1db08ecd",
   "metadata": {},
   "outputs": [
    {
     "name": "stdout",
     "output_type": "stream",
     "text": [
      "dict_keys(['title', 'link', 'description', 'bloggername', 'bloggerlink', 'postdate'])\n",
      "6\n",
      "dict_keys(['title', 'link', 'description', 'bloggername', 'bloggerlink', 'postdate'])\n",
      "6\n",
      "dict_keys(['title', 'link', 'description', 'bloggername', 'bloggerlink', 'postdate'])\n",
      "6\n",
      "dict_keys(['title', 'link', 'description', 'bloggername', 'bloggerlink', 'postdate'])\n",
      "6\n",
      "dict_keys(['title', 'link', 'description', 'bloggername', 'bloggerlink', 'postdate'])\n",
      "6\n",
      "dict_keys(['title', 'link', 'description', 'bloggername', 'bloggerlink', 'postdate'])\n",
      "6\n",
      "dict_keys(['title', 'link', 'description', 'bloggername', 'bloggerlink', 'postdate'])\n",
      "6\n",
      "dict_keys(['title', 'link', 'description', 'bloggername', 'bloggerlink', 'postdate'])\n",
      "6\n",
      "dict_keys(['title', 'link', 'description', 'bloggername', 'bloggerlink', 'postdate'])\n",
      "6\n",
      "dict_keys(['title', 'link', 'description', 'bloggername', 'bloggerlink', 'postdate'])\n",
      "6\n"
     ]
    }
   ],
   "source": [
    "for item in json_obj[\"items\"]:\n",
    "    print(item.keys())\n",
    "    print(len(item.keys()))"
   ]
  },
  {
   "cell_type": "code",
   "execution_count": 76,
   "id": "40b342d2",
   "metadata": {},
   "outputs": [
    {
     "name": "stdout",
     "output_type": "stream",
     "text": [
      "<b>강남역</b> 데이트 맛집, 마마램\n",
      "재미가 있는 <b>강남역</b> 맛집 공유\n",
      "<b>강남역</b> 스테이크 분위기 좋은 미도인\n",
      "인정했던 <b>강남역</b> 점심\n",
      "재료가 좋은 삼겹살 <b>강남역</b> 고기집\n",
      "최고였던 <b>강남역</b> 고기집\n",
      "극찬했던 <b>강남역</b> 돼지갈비 맛집\n",
      "합격점줬던 <b>강남역</b> 고기집\n",
      "<b>강남역</b> 데이트 _ 마마램 feat. 냄새가 1도 없는 양고기\n",
      "대만족했던 <b>강남역</b> 고기집\n"
     ]
    }
   ],
   "source": [
    "## 특정 속성값만 뽑아내기\n",
    "# 제목(title)추출\n",
    "for item in json_obj[\"items\"]:\n",
    "    print(item[\"title\"])"
   ]
  },
  {
   "cell_type": "code",
   "execution_count": 77,
   "id": "b4eb821e",
   "metadata": {},
   "outputs": [
    {
     "name": "stdout",
     "output_type": "stream",
     "text": [
      "강남역 데이트 맛집, 마마램\n",
      "재미가 있는 강남역 맛집 공유\n",
      "강남역 스테이크 분위기 좋은 미도인\n",
      "인정했던 강남역 점심\n",
      "재료가 좋은 삼겹살 강남역 고기집\n",
      "최고였던 강남역 고기집\n",
      "극찬했던 강남역 돼지갈비 맛집\n",
      "합격점줬던 강남역 고기집\n",
      "강남역 데이트 _ 마마램 feat. 냄새가 1도 없는 양고기\n",
      "대만족했던 강남역 고기집\n"
     ]
    }
   ],
   "source": [
    "## 제목(title)추출\n",
    "# 불용어  제거\n",
    "for item in json_obj[\"items\"]:\n",
    "    print(item[\"title\"].replace(\"<b>\",\"\").replace(\"</b>\",\"\"))\n"
   ]
  },
  {
   "cell_type": "code",
   "execution_count": 78,
   "id": "dd78c3fe",
   "metadata": {},
   "outputs": [],
   "source": [
    "## 검색결과를 100개로 늘리기\n",
    "keyword = \"강남역\"\n",
    "url =\"https://openapi.naver.com/v1/search/blog?query=\"\n",
    "url_fin=url+keyword+\"&dispaly=100\"\n",
    "\n",
    "result = requests.get(url_fin,\n",
    "      headers={\"X-Naver-Client-Id\":\"cz7ccqpcE8pZtZJBn064\",\n",
    "               \"X-Naver-Client-Secret\":\"7m2Ru_D6Ph\"})"
   ]
  },
  {
   "cell_type": "code",
   "execution_count": 79,
   "id": "eb0afb85",
   "metadata": {},
   "outputs": [
    {
     "name": "stdout",
     "output_type": "stream",
     "text": [
      "Sat, 07 Aug 2021 15:19:44 +0900\n",
      "1741768\n",
      "1\n",
      "10\n"
     ]
    }
   ],
   "source": [
    "#items를 제외한 4개의 key value 추출\n",
    "json_obj = result.json()\n",
    "print(json_obj[\"lastBuildDate\"])\n",
    "print(json_obj['total']) #전체 검색 개수\n",
    "print(json_obj['start']) #반환되는 data의 시작 값, 기본 1\n",
    "print(json_obj['display'])#반환되는 검색 data 개수, 기본 10\n"
   ]
  },
  {
   "cell_type": "code",
   "execution_count": 80,
   "id": "d6c64548",
   "metadata": {},
   "outputs": [
    {
     "name": "stdout",
     "output_type": "stream",
     "text": [
      "강남역 데이트 맛집, 마마램\n",
      "재미가 있는 강남역 맛집 공유\n",
      "강남역 스테이크 분위기 좋은 미도인\n",
      "인정했던 강남역 점심\n",
      "재료가 좋은 삼겹살 강남역 고기집\n",
      "최고였던 강남역 고기집\n",
      "극찬했던 강남역 돼지갈비 맛집\n",
      "합격점줬던 강남역 고기집\n",
      "강남역 데이트 _ 마마램 feat. 냄새가 1도 없는 양고기\n",
      "대만족했던 강남역 고기집\n",
      "\n"
     ]
    }
   ],
   "source": [
    "for item in json_obj[\"items\"] :\n",
    "    print(item['title'].replace(\"<b>\",\"\").replace(\"</b>\",\"\"))\n",
    "    \n",
    "print()"
   ]
  },
  {
   "cell_type": "code",
   "execution_count": null,
   "id": "bfb26cd3",
   "metadata": {},
   "outputs": [],
   "source": []
  },
  {
   "cell_type": "code",
   "execution_count": 81,
   "id": "24271027",
   "metadata": {},
   "outputs": [
    {
     "name": "stdout",
     "output_type": "stream",
     "text": [
      "강남역 데이트 맛집, 마마램\n",
      "https://blog.naver.com/scoroom?Redirect=Log&logNo=222456820669\n",
      "캠핑장에서 돌아오고 남은 몇일의 여유를 즐기를 위해서 출동했다^^ 강남역 데이트, 마마램 서울 강남구 도산대로 62길 11 (02-543-5310) 이번 캠핑에 양고기는 준비하지 않기도 했고, 양고기는 무엇보다 방문해서... \n",
      "https://blog.naver.com/scoroom\n",
      "20210804\n",
      "재미가 있는 강남역 맛집 공유\n",
      "https://blog.naver.com/jung111hee?Redirect=Log&logNo=222455247595\n",
      "감성타코 강남역점 감성그릴파히타 38000원 위치 : 서울 강남구 강남대로 406 지하1층 문의 : 02-565-8830 영업 : 11:30 - 22:00 마지막주문 21:00 제가 다녀온 감성타코는 강남역11번출구 바로 앞에 위치해있어요.... \n",
      "https://blog.naver.com/jung111hee\n",
      "20210803\n",
      "강남역 스테이크 분위기 좋은 미도인\n",
      "https://blog.naver.com/tw01554?Redirect=Log&logNo=222459401543\n",
      "강남역 스테이크 찾고 있다면 여기 어떨가 싶네용~ #강남역스테이크 #강남역대창덮밥 #강남역미도인 #미도인 #강남미도인 #미도인강남 #강남역스테이크맛집 #강남역대창덮밥맛집 #강남역가성비맛집... \n",
      "https://blog.naver.com/tw01554\n",
      "20210806\n",
      "인정했던 강남역 점심\n",
      "https://blog.naver.com/sitelove?Redirect=Log&logNo=222457129201\n",
      "동료가 강남역 점심 장소로 괜찮은 특색 있는 장소를 추천해 줘서 다 같이 다녀올 수 있었어요. 저희가 점심에 방문해서 간단한 반주까지 하고 회사에 복귀하게 만들었던 식당은 반티엔야오 카오위예요. 강남역... \n",
      "https://blog.naver.com/sitelove\n",
      "20210804\n",
      "재료가 좋은 삼겹살 강남역 고기집\n",
      "https://blog.naver.com/unique1028?Redirect=Log&logNo=222411292448\n",
      "얼마 전 친구들과 모임 중 강남 일대에서 꽤 알아준다는 강남역 고기집에 다녀왔어요. 화로에 구워 육질이 우수한 돈육에 수제냉면까지, 무엇하나 부족함이 없었던 곳이랍니다. 강남구 역삼동 619-14 1층 봉우화로... \n",
      "https://blog.naver.com/unique1028\n",
      "20210626\n",
      "최고였던 강남역 고기집\n",
      "https://blog.naver.com/aq9999qa?Redirect=Log&logNo=222406466536\n",
      "주소: 서울 강남구 역삼로3길 8 번호: 02-538-1588 이날 찾았던 고기집은 강남역 4번 출구에서 도보 5분 정도 거리에 위치해 있었는데요. 웅장한 단독건물에 상호가 크게 부착되어져 있어, 왠만해서는 못보고... \n",
      "https://blog.naver.com/aq9999qa\n",
      "20210622\n",
      "극찬했던 강남역 돼지갈비 맛집\n",
      "https://blog.naver.com/seventhday?Redirect=Log&logNo=222416694910\n",
      "얼마전 친구들과 저녁 약속이 있어서 검색으로 미리 알아둔 강남역 돼지갈비 맛집에서 식사했어요.... 강남 돼지갈비 맛집은 밖에서 구워 가져와 달라고 하면 그렇게 해주신다고 하니 참고하시면 좋을 것... \n",
      "https://blog.naver.com/seventhday\n",
      "20210702\n",
      "합격점줬던 강남역 고기집\n",
      "https://blog.naver.com/miukitchen?Redirect=Log&logNo=222419120284\n",
      "이날 찾아간 강남랭겹은 강남역 11번 출구에서 도보로 10분이 채 걸리지 않았어요. 코너 1층에 크게 걸려있는 삼겹살 사진과 유니크한 외관이라 멀리서도 눈에 확 들어왔네요. 이곳은 인기있는 사이드 메뉴로 구성... \n",
      "https://blog.naver.com/miukitchen\n",
      "20210704\n",
      "강남역 데이트 _ 마마램 feat. 냄새가 1도 없는 양고기\n",
      "https://blog.naver.com/minahbb?Redirect=Log&logNo=222446265483\n",
      "맞이하는 강남역 데이트 마마램 mama lamb 마마램은 8개월 미만의 프리미엄 양갈비만을 엄선해서... ㅠㅠ 강남역 데이트 마마램에서 배추찜도 시켜보세요 이거 술안주 맞네 이렇게 한껏 올려서 한입에 먹습니다... \n",
      "https://blog.naver.com/minahbb\n",
      "20210727\n",
      "대만족했던 강남역 고기집\n",
      "https://blog.naver.com/smsha?Redirect=Log&logNo=222409477379\n",
      "이날 갔던 백억하누 강남본점은 강남역 11번출구에서 걸어서 5분 정도 걸리더라구요. 멀리서 봐도 도심속의 정원같은 분위기로 꾸며져 있어 쉽게 눈에 띄었어요. 특히나 엄청나게 컸던 현수막으로 제일 유명한... \n",
      "https://blog.naver.com/smsha\n",
      "20210625\n"
     ]
    }
   ],
   "source": [
    "for item in json_obj[\"items\"]:\n",
    "    print(item[\"title\"].replace(\"<b>\",\"\").replace(\"</b>\",\"\"))\n",
    "    print(item['link'].replace(\"<b>\",\"\").replace(\"</b>\",\"\"))\n",
    "    print(item['description'].replace(\"<b>\",\"\").replace(\"</b>\",\"\"))\n",
    "    print(item['bloggerlink'].replace(\"<b>\",\"\").replace(\"</b>\",\"\"))\n",
    "    print(item['postdate'].replace(\"<b>\",\"\").replace(\"</b>\",\"\"))\n",
    "    "
   ]
  },
  {
   "cell_type": "code",
   "execution_count": null,
   "id": "8867e0ca",
   "metadata": {},
   "outputs": [],
   "source": []
  },
  {
   "attachments": {
    "image.png": {
     "image/png": "[encoded data removed]"
    }
   },
   "cell_type": "markdown",
   "id": "34ec9e05",
   "metadata": {},
   "source": [
    "![image.png](attachment:image.png)"
   ]
  },
  {
   "cell_type": "code",
   "execution_count": 224,
   "id": "47d71b59",
   "metadata": {},
   "outputs": [],
   "source": [
    "title=[]\n",
    "link=[]\n",
    "description=[]\n",
    "bloggername=[]\n",
    "bloggerlink=[]\n",
    "postdate=[]\n"
   ]
  },
  {
   "cell_type": "code",
   "execution_count": 225,
   "id": "a7a94c2b",
   "metadata": {},
   "outputs": [
    {
     "name": "stdout",
     "output_type": "stream",
     "text": [
      "Sat, 07 Aug 2021 18:35:39 +0900\n",
      "17332\n",
      "1\n",
      "10\n"
     ]
    }
   ],
   "source": [
    "### requests 패키지 사용 - 코드를 좀 간단하게 변경\n",
    "import requests #서버접속\n",
    "from urllib.parse import urlparse #한글처리\n",
    "import urllib.parse\n",
    "\n",
    "\n",
    "keyword = urllib.parse.quote(\"마녀김밥\")\n",
    "url =\"https://openapi.naver.com/v1/search/blog?query=\"\n",
    "url_fin = url+keyword+\"&dispaly=400\"\n",
    "\n",
    "#get()안에 url과 headers를 포함 할 수 있음\n",
    "result = requests.get(url_fin,\n",
    "      headers={\"X-Naver-Client-Id\":\"cz7ccqpcE8pZtZJBn064\",\n",
    "               \"X-Naver-Client-Secret\":\"7m2Ru_D6Ph\"})\n",
    "\n",
    "\n",
    "\n",
    "# result.json()  # 한글 처리와 data형식을 json 으로 변경할 수 있음\n",
    "json_obj=result.json()\n",
    "print(json_obj[\"lastBuildDate\"])\n",
    "print(json_obj['total'])\n",
    "print(json_obj['start'])\n",
    "print(json_obj['display'])"
   ]
  },
  {
   "cell_type": "code",
   "execution_count": 226,
   "id": "18c64a78",
   "metadata": {},
   "outputs": [
    {
     "data": {
      "text/plain": [
       "[{'title': '청담동 <b>마녀김밥</b> 분당 정자동 야탑동 식중독 199명 이상 집단... ',\n",
       "  'link': 'https://blog.naver.com/princess02?Redirect=Log&logNo=222458607421',\n",
       "  'description': \"김밥 프랜차이즈 업체 '청담동 <b>마녀김밥</b>'이 경기 성남시 분당구 지점 정자동 등 2곳에서 집단 식중독이 발생한 것에 대해 공식 사과했습니다. 오늘(5일) 공식 홈페이지와 SNS 등을 통해 &quot;분당 <b>마녀김밥</b> 식중독... \",\n",
       "  'bloggername': '핫플리브✔️',\n",
       "  'bloggerlink': 'https://blog.naver.com/princess02',\n",
       "  'postdate': '20210805'},\n",
       " {'title': '<b>마녀김밥</b> 식중독 직영 위생 문제 계란 살모넬라균이 문제인가?... ',\n",
       "  'link': 'https://blog.naver.com/roseess?Redirect=Log&logNo=222458547310',\n",
       "  'description': '응급실에 방문한 환자들이 모두 <b>마녀김밥</b> 김밥을 먹고 방문했다고 하는데요. 그런데 계란껍질에 있다고 하는 살모넬라균은 가열을 하면 없어지는 균으로 알려져 있습니다. 분당구청에서 확인했던 바에 의하면... ',\n",
       "  'bloggername': '핫이슈매거진✔',\n",
       "  'bloggerlink': 'https://blog.naver.com/roseess',\n",
       "  'postdate': '20210805'},\n",
       " {'title': '포시즌스 1박2일 호캉스일기 (Feat. <b>마녀김밥</b>과 완전한 행복)',\n",
       "  'link': 'https://blog.naver.com/eung1215?Redirect=Log&logNo=222455942197',\n",
       "  'description': '1분 1초가 급해서 배달로는 안하고 남편이 픽업해옴 히히 아니 <b>마녀김밥</b> 김밥이야 원래 대존맛탱이지만 <b>마녀김밥</b> 떡볶이 뭔데?ㅠㅠㅠㅠ 꽤 맵고, 달고 떡은 쫀득하고 ㅠㅠㅠㅠ 이때 다이어트 3주차 접어들던... ',\n",
       "  'bloggername': 'My Missing Piece',\n",
       "  'bloggerlink': 'https://blog.naver.com/eung1215',\n",
       "  'postdate': '20210803'},\n",
       " {'title': '든든한 점심으로 청담동 <b>마녀김밥</b>',\n",
       "  'link': 'https://blog.naver.com/valen7514?Redirect=Log&logNo=222178679061',\n",
       "  'description': '기본 메뉴인 <b>마녀김밥</b>부터 묵은지 김밥, 핫도그김밥, 계란<b>마녀 김밥</b> 등 메뉴가 다양해 골라먹는 재미가 있었어요. 마녀 라면과 어묵탕, 마녀떡볶이도 있으니 김밥 외에도 다양하게 주문해서 즐겨보시는 것을... ',\n",
       "  'bloggername': 'trivial round of daily life',\n",
       "  'bloggerlink': 'https://blog.naver.com/valen7514',\n",
       "  'postdate': '20201219'},\n",
       " {'title': '혼자 놀기 좋던 노들섬 갈만한곳이랍니다.( 노들서가, <b>마녀김밥</b>)',\n",
       "  'link': 'https://blog.naver.com/hyr67?Redirect=Log&logNo=222338096537',\n",
       "  'description': '서울 여행 여자 혼자 놀기 좋은 노들섬 배를 채워줄 <b>마녀김밥</b>집부터 들렀습니다. 혼밥을 하기에 김밥만큼 좋은것이 어디 있겠어요.개그맨 김원효씨와 심진화씨가 <b>마녀김밥</b> 노들점 올 해 오픈한 곳으로 멋진... ',\n",
       "  'bloggername': '칸이는 맛집,여행중~',\n",
       "  'bloggerlink': 'https://blog.naver.com/hyr67',\n",
       "  'postdate': '20210504'},\n",
       " {'title': \"'<b>마녀 김밥</b>' 199명 집단 식중독 사태에 김원효♥심진화 나이, 선... \",\n",
       "  'link': 'https://blog.naver.com/kidjina1998?Redirect=Log&logNo=222459429204',\n",
       "  'description': '예능프로그램에서 자신이 운영하는 <b>마녀김밥</b>집에 유노윤호, 차승원, 방탄소년단 등이 방문했었다고 말한 바 있습니다. 방송 이후 ‘<b>마녀김밥</b>’, ‘김원효 김밥집’이 실시간 검색어에 오르며 화제를 모았습니다.',\n",
       "  'bloggername': '이슈모아',\n",
       "  'bloggerlink': 'https://blog.naver.com/kidjina1998',\n",
       "  'postdate': '20210806'},\n",
       " {'title': '분당 <b>마녀김밥</b> 사업 계기... 살모넬라균 #이영자추천김밥... ',\n",
       "  'link': 'https://blog.naver.com/rlqhstyle?Redirect=Log&logNo=222459262686',\n",
       "  'description': '#<b>마녀김밥</b> #분당김밥식중독 #분당김밥 #분당<b>마녀김밥</b>식중독 #분당김밥 #분당<b>마녀김밥</b>김원효 #청담동<b>마녀김밥</b> #분당<b>마녀김밥</b>개그맨 #분당김밥집식중독 #김원효 국민일보김원효 인스타그램 xportsnews',\n",
       "  'bloggername': '크리드포스트',\n",
       "  'bloggerlink': 'https://blog.naver.com/rlqhstyle',\n",
       "  'postdate': '20210806'},\n",
       " {'title': '<b>마녀김밥</b> 4천200줄 팔렸는데 식중독 130명 넘게 나왔다네요.',\n",
       "  'link': 'https://blog.naver.com/2vent6?Redirect=Log&logNo=222459255683',\n",
       "  'description': '<b>마녀김밥</b> 측에서도 원인을 몰라 검체 검사 결과는 다음주에나 정확히 나온다고 합니다. 김밥은... 살모넬라균 번식이 엄청 빨라요 김밥 싸자마자 꼭 바로 드세요~ 저도 경험해 봤는데 배가 얼마나 아픈지... ',\n",
       "  'bloggername': '.',\n",
       "  'bloggerlink': 'https://blog.naver.com/2vent6',\n",
       "  'postdate': '20210806'},\n",
       " {'title': '강서구청 분식/ 청담동<b>마녀김밥</b>',\n",
       "  'link': 'https://blog.naver.com/rolo_ggo?Redirect=Log&logNo=222267138936',\n",
       "  'description': \"기본김밥 800원 특가도 있었다구ㅠㅋㅋㅋ 저도 이번이 첫 방문인데 '마녀'가 붙은 <b>마녀김밥</b>, 계란<b>마녀김밥</b>이 인기 메뉴인 거 같았어요. 여럿이 가면 어묵탕이나 떡볶이와 함께 많이들 먹더라구용~ 강서구청... \",\n",
       "  'bloggername': '하고 싶은 거 하는 중인 꿀정네',\n",
       "  'bloggerlink': 'https://blog.naver.com/rolo_ggo',\n",
       "  'postdate': '20210307'},\n",
       " {'title': '여름철식중독안걸리는방법(38):분당청담동<b>마녀김밥</b>식중독사건... ',\n",
       "  'link': 'https://blog.naver.com/ganghanii?Redirect=Log&logNo=222457969523',\n",
       "  'description': '집캔디는 <b>마녀김밥</b> 김밥집을 오픈할 것이다. 1인가구 증가로 제대로 먹히는 것 같다.) 원인은 무엇인가? 성남시 측은 청담동<b>마녀김밥</b> 영업점 두 곳에서 발생한 식중독 사고는 재료문제로 보이지만 당시... ',\n",
       "  'bloggername': '집캔디의올인부동산 |유튜브부동산뉴스비평|',\n",
       "  'bloggerlink': 'https://blog.naver.com/ganghanii',\n",
       "  'postdate': '20210805'}]"
      ]
     },
     "execution_count": 226,
     "metadata": {},
     "output_type": "execute_result"
    }
   ],
   "source": [
    "## json data 추출:dict처럼 변수[key]\n",
    "\n",
    "json_obj[\"items\"]"
   ]
  },
  {
   "cell_type": "code",
   "execution_count": 227,
   "id": "66abad75",
   "metadata": {},
   "outputs": [
    {
     "name": "stdout",
     "output_type": "stream",
     "text": [
      "dict_keys(['title', 'link', 'description', 'bloggername', 'bloggerlink', 'postdate'])\n",
      "<class 'dict_keys'>\n"
     ]
    }
   ],
   "source": [
    "print(item.keys())\n",
    "print(type(item.keys()))"
   ]
  },
  {
   "cell_type": "code",
   "execution_count": 228,
   "id": "e6bbbb97",
   "metadata": {},
   "outputs": [
    {
     "name": "stdout",
     "output_type": "stream",
     "text": [
      "청담동 마녀김밥 분당 정자동 야탑동 식중독 199명 이상 집단... \n",
      "https://blog.naver.com/princess02?Redirect=Log&logNo=222458607421\n",
      "김밥 프랜차이즈 업체 '청담동 마녀김밥'이 경기 성남시 분당구 지점 정자동 등 2곳에서 집단 식중독이 발생한 것에 대해 공식 사과했습니다. 오늘(5일) 공식 홈페이지와 SNS 등을 통해 &quot;분당 마녀김밥 식중독... \n",
      "핫플리브✔️\n",
      "https://blog.naver.com/princess02\n",
      "20210805\n",
      "마녀김밥 식중독 직영 위생 문제 계란 살모넬라균이 문제인가?... \n",
      "https://blog.naver.com/roseess?Redirect=Log&logNo=222458547310\n",
      "응급실에 방문한 환자들이 모두 마녀김밥 김밥을 먹고 방문했다고 하는데요. 그런데 계란껍질에 있다고 하는 살모넬라균은 가열을 하면 없어지는 균으로 알려져 있습니다. 분당구청에서 확인했던 바에 의하면... \n",
      "핫이슈매거진✔\n",
      "https://blog.naver.com/roseess\n",
      "20210805\n",
      "포시즌스 1박2일 호캉스일기 (Feat. 마녀김밥과 완전한 행복)\n",
      "https://blog.naver.com/eung1215?Redirect=Log&logNo=222455942197\n",
      "1분 1초가 급해서 배달로는 안하고 남편이 픽업해옴 히히 아니 마녀김밥 김밥이야 원래 대존맛탱이지만 마녀김밥 떡볶이 뭔데?ㅠㅠㅠㅠ 꽤 맵고, 달고 떡은 쫀득하고 ㅠㅠㅠㅠ 이때 다이어트 3주차 접어들던... \n",
      "My Missing Piece\n",
      "https://blog.naver.com/eung1215\n",
      "20210803\n",
      "든든한 점심으로 청담동 마녀김밥\n",
      "https://blog.naver.com/valen7514?Redirect=Log&logNo=222178679061\n",
      "기본 메뉴인 마녀김밥부터 묵은지 김밥, 핫도그김밥, 계란마녀 김밥 등 메뉴가 다양해 골라먹는 재미가 있었어요. 마녀 라면과 어묵탕, 마녀떡볶이도 있으니 김밥 외에도 다양하게 주문해서 즐겨보시는 것을... \n",
      "trivial round of daily life\n",
      "https://blog.naver.com/valen7514\n",
      "20201219\n",
      "혼자 놀기 좋던 노들섬 갈만한곳이랍니다.( 노들서가, 마녀김밥)\n",
      "https://blog.naver.com/hyr67?Redirect=Log&logNo=222338096537\n",
      "서울 여행 여자 혼자 놀기 좋은 노들섬 배를 채워줄 마녀김밥집부터 들렀습니다. 혼밥을 하기에 김밥만큼 좋은것이 어디 있겠어요.개그맨 김원효씨와 심진화씨가 마녀김밥 노들점 올 해 오픈한 곳으로 멋진... \n",
      "칸이는 맛집,여행중~\n",
      "https://blog.naver.com/hyr67\n",
      "20210504\n",
      "'마녀 김밥' 199명 집단 식중독 사태에 김원효♥심진화 나이, 선... \n",
      "https://blog.naver.com/kidjina1998?Redirect=Log&logNo=222459429204\n",
      "예능프로그램에서 자신이 운영하는 마녀김밥집에 유노윤호, 차승원, 방탄소년단 등이 방문했었다고 말한 바 있습니다. 방송 이후 ‘마녀김밥’, ‘김원효 김밥집’이 실시간 검색어에 오르며 화제를 모았습니다.\n",
      "이슈모아\n",
      "https://blog.naver.com/kidjina1998\n",
      "20210806\n",
      "분당 마녀김밥 사업 계기... 살모넬라균 #이영자추천김밥... \n",
      "https://blog.naver.com/rlqhstyle?Redirect=Log&logNo=222459262686\n",
      "#마녀김밥 #분당김밥식중독 #분당김밥 #분당마녀김밥식중독 #분당김밥 #분당마녀김밥김원효 #청담동마녀김밥 #분당마녀김밥개그맨 #분당김밥집식중독 #김원효 국민일보김원효 인스타그램 xportsnews\n",
      "크리드포스트\n",
      "https://blog.naver.com/rlqhstyle\n",
      "20210806\n",
      "마녀김밥 4천200줄 팔렸는데 식중독 130명 넘게 나왔다네요.\n",
      "https://blog.naver.com/2vent6?Redirect=Log&logNo=222459255683\n",
      "마녀김밥 측에서도 원인을 몰라 검체 검사 결과는 다음주에나 정확히 나온다고 합니다. 김밥은... 살모넬라균 번식이 엄청 빨라요 김밥 싸자마자 꼭 바로 드세요~ 저도 경험해 봤는데 배가 얼마나 아픈지... \n",
      ".\n",
      "https://blog.naver.com/2vent6\n",
      "20210806\n",
      "강서구청 분식/ 청담동마녀김밥\n",
      "https://blog.naver.com/rolo_ggo?Redirect=Log&logNo=222267138936\n",
      "기본김밥 800원 특가도 있었다구ㅠㅋㅋㅋ 저도 이번이 첫 방문인데 '마녀'가 붙은 마녀김밥, 계란마녀김밥이 인기 메뉴인 거 같았어요. 여럿이 가면 어묵탕이나 떡볶이와 함께 많이들 먹더라구용~ 강서구청... \n",
      "하고 싶은 거 하는 중인 꿀정네\n",
      "https://blog.naver.com/rolo_ggo\n",
      "20210307\n",
      "여름철식중독안걸리는방법(38):분당청담동마녀김밥식중독사건... \n",
      "https://blog.naver.com/ganghanii?Redirect=Log&logNo=222457969523\n",
      "집캔디는 마녀김밥 김밥집을 오픈할 것이다. 1인가구 증가로 제대로 먹히는 것 같다.) 원인은 무엇인가? 성남시 측은 청담동마녀김밥 영업점 두 곳에서 발생한 식중독 사고는 재료문제로 보이지만 당시... \n",
      "집캔디의올인부동산 |유튜브부동산뉴스비평|\n",
      "https://blog.naver.com/ganghanii\n",
      "20210805\n"
     ]
    }
   ],
   "source": [
    "for item in json_obj[\"items\"]:\n",
    "    print(item[\"title\"].replace(\"<b>\",\"\").replace(\"</b>\",\"\"))\n",
    "    print(item['link'].replace(\"<b>\",\"\").replace(\"</b>\",\"\"))\n",
    "    print(item['description'].replace(\"<b>\",\"\").replace(\"</b>\",\"\"))\n",
    "    print(item['bloggername'].replace(\"<b>\",\"\").replace(\"</b>\",\"\"))\n",
    "    print(item['bloggerlink'].replace(\"<b>\",\"\").replace(\"</b>\",\"\"))\n",
    "    print(item['postdate'].replace(\"<b>\",\"\").replace(\"</b>\",\"\"))\n",
    "    "
   ]
  },
  {
   "cell_type": "code",
   "execution_count": null,
   "id": "9ff3898d",
   "metadata": {},
   "outputs": [],
   "source": []
  },
  {
   "cell_type": "code",
   "execution_count": 229,
   "id": "0ba36113",
   "metadata": {},
   "outputs": [
    {
     "name": "stderr",
     "output_type": "stream",
     "text": [
      "<ipython-input-229-af0f61db9c35>:1: TqdmDeprecationWarning: This function will be removed in tqdm==5.0.0\n",
      "Please use `tqdm.notebook.tqdm` instead of `tqdm.tqdm_notebook`\n",
      "  for item in tqdm_notebook(json_obj[\"items\"]):\n"
     ]
    },
    {
     "data": {
      "application/vnd.jupyter.widget-view+json": {
       "model_id": "d2dfcc08a7f04ac28db87c0bd2506294",
       "version_major": 2,
       "version_minor": 0
      },
      "text/plain": [
       "  0%|          | 0/10 [00:00<?, ?it/s]"
      ]
     },
     "metadata": {},
     "output_type": "display_data"
    },
    {
     "name": "stdout",
     "output_type": "stream",
     "text": [
      "\n",
      "\n",
      "\n",
      "\n",
      "\n",
      "\n",
      "\n",
      "\n",
      "\n",
      "\n"
     ]
    }
   ],
   "source": [
    "for item in tqdm_notebook(json_obj[\"items\"]):\n",
    "    title.append(item[\"title\"].replace(\"<b>\",\"\").replace(\"</b>\",\"\"))\n",
    "    link.append(item[\"link\"])\n",
    "    description.append(item[\"description\"])\n",
    "    bloggername.append(item['bloggername'])\n",
    "    bloggerlink.append(item[\"bloggerlink\"])\n",
    "    postdate.append(item[\"postdate\"])\n",
    "    print()\n",
    "        "
   ]
  },
  {
   "cell_type": "code",
   "execution_count": 230,
   "id": "60479a3a",
   "metadata": {},
   "outputs": [
    {
     "data": {
      "text/plain": [
       "(10, 10, 10, 10, 10, 10)"
      ]
     },
     "execution_count": 230,
     "metadata": {},
     "output_type": "execute_result"
    }
   ],
   "source": [
    "len(title),len(link),len(description),len(bloggername),len(bloggerlink),len(postdate)"
   ]
  },
  {
   "cell_type": "code",
   "execution_count": 233,
   "id": "f7a05f5e",
   "metadata": {},
   "outputs": [
    {
     "data": {
      "text/html": [
       "<div>\n",
       "<style scoped>\n",
       "    .dataframe tbody tr th:only-of-type {\n",
       "        vertical-align: middle;\n",
       "    }\n",
       "\n",
       "    .dataframe tbody tr th {\n",
       "        vertical-align: top;\n",
       "    }\n",
       "\n",
       "    .dataframe thead th {\n",
       "        text-align: right;\n",
       "    }\n",
       "</style>\n",
       "<table border=\"1\" class=\"dataframe\">\n",
       "  <thead>\n",
       "    <tr style=\"text-align: right;\">\n",
       "      <th></th>\n",
       "      <th>title</th>\n",
       "      <th>link</th>\n",
       "      <th>description</th>\n",
       "      <th>bloggername</th>\n",
       "      <th>bloggerlink</th>\n",
       "      <th>postdate</th>\n",
       "    </tr>\n",
       "  </thead>\n",
       "  <tbody>\n",
       "    <tr>\n",
       "      <th>0</th>\n",
       "      <td>청담동 마녀김밥 분당 정자동 야탑동 식중독 199명 이상 집단...</td>\n",
       "      <td>https://blog.naver.com/princess02?Redirect=Log...</td>\n",
       "      <td>김밥 프랜차이즈 업체 '청담동 &lt;b&gt;마녀김밥&lt;/b&gt;'이 경기 성남시 분당구 지점 정...</td>\n",
       "      <td>핫플리브✔️</td>\n",
       "      <td>https://blog.naver.com/princess02</td>\n",
       "      <td>20210805</td>\n",
       "    </tr>\n",
       "    <tr>\n",
       "      <th>1</th>\n",
       "      <td>마녀김밥 식중독 직영 위생 문제 계란 살모넬라균이 문제인가?...</td>\n",
       "      <td>https://blog.naver.com/roseess?Redirect=Log&amp;lo...</td>\n",
       "      <td>응급실에 방문한 환자들이 모두 &lt;b&gt;마녀김밥&lt;/b&gt; 김밥을 먹고 방문했다고 하는데요...</td>\n",
       "      <td>핫이슈매거진✔</td>\n",
       "      <td>https://blog.naver.com/roseess</td>\n",
       "      <td>20210805</td>\n",
       "    </tr>\n",
       "    <tr>\n",
       "      <th>2</th>\n",
       "      <td>포시즌스 1박2일 호캉스일기 (Feat. 마녀김밥과 완전한 행복)</td>\n",
       "      <td>https://blog.naver.com/eung1215?Redirect=Log&amp;l...</td>\n",
       "      <td>1분 1초가 급해서 배달로는 안하고 남편이 픽업해옴 히히 아니 &lt;b&gt;마녀김밥&lt;/b&gt;...</td>\n",
       "      <td>My Missing Piece</td>\n",
       "      <td>https://blog.naver.com/eung1215</td>\n",
       "      <td>20210803</td>\n",
       "    </tr>\n",
       "    <tr>\n",
       "      <th>3</th>\n",
       "      <td>든든한 점심으로 청담동 마녀김밥</td>\n",
       "      <td>https://blog.naver.com/valen7514?Redirect=Log&amp;...</td>\n",
       "      <td>기본 메뉴인 &lt;b&gt;마녀김밥&lt;/b&gt;부터 묵은지 김밥, 핫도그김밥, 계란&lt;b&gt;마녀 김밥...</td>\n",
       "      <td>trivial round of daily life</td>\n",
       "      <td>https://blog.naver.com/valen7514</td>\n",
       "      <td>20201219</td>\n",
       "    </tr>\n",
       "    <tr>\n",
       "      <th>4</th>\n",
       "      <td>혼자 놀기 좋던 노들섬 갈만한곳이랍니다.( 노들서가, 마녀김밥)</td>\n",
       "      <td>https://blog.naver.com/hyr67?Redirect=Log&amp;logN...</td>\n",
       "      <td>서울 여행 여자 혼자 놀기 좋은 노들섬 배를 채워줄 &lt;b&gt;마녀김밥&lt;/b&gt;집부터 들렀...</td>\n",
       "      <td>칸이는 맛집,여행중~</td>\n",
       "      <td>https://blog.naver.com/hyr67</td>\n",
       "      <td>20210504</td>\n",
       "    </tr>\n",
       "    <tr>\n",
       "      <th>5</th>\n",
       "      <td>'마녀 김밥' 199명 집단 식중독 사태에 김원효♥심진화 나이, 선...</td>\n",
       "      <td>https://blog.naver.com/kidjina1998?Redirect=Lo...</td>\n",
       "      <td>예능프로그램에서 자신이 운영하는 &lt;b&gt;마녀김밥&lt;/b&gt;집에 유노윤호, 차승원, 방탄소...</td>\n",
       "      <td>이슈모아</td>\n",
       "      <td>https://blog.naver.com/kidjina1998</td>\n",
       "      <td>20210806</td>\n",
       "    </tr>\n",
       "    <tr>\n",
       "      <th>6</th>\n",
       "      <td>분당 마녀김밥 사업 계기... 살모넬라균 #이영자추천김밥...</td>\n",
       "      <td>https://blog.naver.com/rlqhstyle?Redirect=Log&amp;...</td>\n",
       "      <td>#&lt;b&gt;마녀김밥&lt;/b&gt; #분당김밥식중독 #분당김밥 #분당&lt;b&gt;마녀김밥&lt;/b&gt;식중독 ...</td>\n",
       "      <td>크리드포스트</td>\n",
       "      <td>https://blog.naver.com/rlqhstyle</td>\n",
       "      <td>20210806</td>\n",
       "    </tr>\n",
       "    <tr>\n",
       "      <th>7</th>\n",
       "      <td>마녀김밥 4천200줄 팔렸는데 식중독 130명 넘게 나왔다네요.</td>\n",
       "      <td>https://blog.naver.com/2vent6?Redirect=Log&amp;log...</td>\n",
       "      <td>&lt;b&gt;마녀김밥&lt;/b&gt; 측에서도 원인을 몰라 검체 검사 결과는 다음주에나 정확히 나온...</td>\n",
       "      <td>.</td>\n",
       "      <td>https://blog.naver.com/2vent6</td>\n",
       "      <td>20210806</td>\n",
       "    </tr>\n",
       "    <tr>\n",
       "      <th>8</th>\n",
       "      <td>강서구청 분식/ 청담동마녀김밥</td>\n",
       "      <td>https://blog.naver.com/rolo_ggo?Redirect=Log&amp;l...</td>\n",
       "      <td>기본김밥 800원 특가도 있었다구ㅠㅋㅋㅋ 저도 이번이 첫 방문인데 '마녀'가 붙은 ...</td>\n",
       "      <td>하고 싶은 거 하는 중인 꿀정네</td>\n",
       "      <td>https://blog.naver.com/rolo_ggo</td>\n",
       "      <td>20210307</td>\n",
       "    </tr>\n",
       "    <tr>\n",
       "      <th>9</th>\n",
       "      <td>여름철식중독안걸리는방법(38):분당청담동마녀김밥식중독사건...</td>\n",
       "      <td>https://blog.naver.com/ganghanii?Redirect=Log&amp;...</td>\n",
       "      <td>집캔디는 &lt;b&gt;마녀김밥&lt;/b&gt; 김밥집을 오픈할 것이다. 1인가구 증가로 제대로 먹히...</td>\n",
       "      <td>집캔디의올인부동산 |유튜브부동산뉴스비평|</td>\n",
       "      <td>https://blog.naver.com/ganghanii</td>\n",
       "      <td>20210805</td>\n",
       "    </tr>\n",
       "  </tbody>\n",
       "</table>\n",
       "</div>"
      ],
      "text/plain": [
       "                                       title  \\\n",
       "0     청담동 마녀김밥 분당 정자동 야탑동 식중독 199명 이상 집단...    \n",
       "1      마녀김밥 식중독 직영 위생 문제 계란 살모넬라균이 문제인가?...    \n",
       "2       포시즌스 1박2일 호캉스일기 (Feat. 마녀김밥과 완전한 행복)   \n",
       "3                          든든한 점심으로 청담동 마녀김밥   \n",
       "4        혼자 놀기 좋던 노들섬 갈만한곳이랍니다.( 노들서가, 마녀김밥)   \n",
       "5  '마녀 김밥' 199명 집단 식중독 사태에 김원효♥심진화 나이, 선...    \n",
       "6        분당 마녀김밥 사업 계기... 살모넬라균 #이영자추천김밥...    \n",
       "7        마녀김밥 4천200줄 팔렸는데 식중독 130명 넘게 나왔다네요.   \n",
       "8                           강서구청 분식/ 청담동마녀김밥   \n",
       "9        여름철식중독안걸리는방법(38):분당청담동마녀김밥식중독사건...    \n",
       "\n",
       "                                                link  \\\n",
       "0  https://blog.naver.com/princess02?Redirect=Log...   \n",
       "1  https://blog.naver.com/roseess?Redirect=Log&lo...   \n",
       "2  https://blog.naver.com/eung1215?Redirect=Log&l...   \n",
       "3  https://blog.naver.com/valen7514?Redirect=Log&...   \n",
       "4  https://blog.naver.com/hyr67?Redirect=Log&logN...   \n",
       "5  https://blog.naver.com/kidjina1998?Redirect=Lo...   \n",
       "6  https://blog.naver.com/rlqhstyle?Redirect=Log&...   \n",
       "7  https://blog.naver.com/2vent6?Redirect=Log&log...   \n",
       "8  https://blog.naver.com/rolo_ggo?Redirect=Log&l...   \n",
       "9  https://blog.naver.com/ganghanii?Redirect=Log&...   \n",
       "\n",
       "                                         description  \\\n",
       "0  김밥 프랜차이즈 업체 '청담동 <b>마녀김밥</b>'이 경기 성남시 분당구 지점 정...   \n",
       "1  응급실에 방문한 환자들이 모두 <b>마녀김밥</b> 김밥을 먹고 방문했다고 하는데요...   \n",
       "2  1분 1초가 급해서 배달로는 안하고 남편이 픽업해옴 히히 아니 <b>마녀김밥</b>...   \n",
       "3  기본 메뉴인 <b>마녀김밥</b>부터 묵은지 김밥, 핫도그김밥, 계란<b>마녀 김밥...   \n",
       "4  서울 여행 여자 혼자 놀기 좋은 노들섬 배를 채워줄 <b>마녀김밥</b>집부터 들렀...   \n",
       "5  예능프로그램에서 자신이 운영하는 <b>마녀김밥</b>집에 유노윤호, 차승원, 방탄소...   \n",
       "6  #<b>마녀김밥</b> #분당김밥식중독 #분당김밥 #분당<b>마녀김밥</b>식중독 ...   \n",
       "7  <b>마녀김밥</b> 측에서도 원인을 몰라 검체 검사 결과는 다음주에나 정확히 나온...   \n",
       "8  기본김밥 800원 특가도 있었다구ㅠㅋㅋㅋ 저도 이번이 첫 방문인데 '마녀'가 붙은 ...   \n",
       "9  집캔디는 <b>마녀김밥</b> 김밥집을 오픈할 것이다. 1인가구 증가로 제대로 먹히...   \n",
       "\n",
       "                   bloggername                         bloggerlink  postdate  \n",
       "0                       핫플리브✔️   https://blog.naver.com/princess02  20210805  \n",
       "1                      핫이슈매거진✔      https://blog.naver.com/roseess  20210805  \n",
       "2             My Missing Piece     https://blog.naver.com/eung1215  20210803  \n",
       "3  trivial round of daily life    https://blog.naver.com/valen7514  20201219  \n",
       "4                  칸이는 맛집,여행중~        https://blog.naver.com/hyr67  20210504  \n",
       "5                         이슈모아  https://blog.naver.com/kidjina1998  20210806  \n",
       "6                       크리드포스트    https://blog.naver.com/rlqhstyle  20210806  \n",
       "7                            .       https://blog.naver.com/2vent6  20210806  \n",
       "8            하고 싶은 거 하는 중인 꿀정네     https://blog.naver.com/rolo_ggo  20210307  \n",
       "9       집캔디의올인부동산 |유튜브부동산뉴스비평|    https://blog.naver.com/ganghanii  20210805  "
      ]
     },
     "execution_count": 233,
     "metadata": {},
     "output_type": "execute_result"
    }
   ],
   "source": [
    "df=pd.DataFrame([title,link,description,bloggername,bloggerlink,postdate]).T\n",
    "df.columns=[\"title\",\"link\",\"description\",\"bloggername\",\"bloggerlink\",\"postdate\"]\n",
    "df"
   ]
  },
  {
   "cell_type": "code",
   "execution_count": null,
   "id": "29b8f6b3",
   "metadata": {},
   "outputs": [],
   "source": []
  },
  {
   "cell_type": "code",
   "execution_count": null,
   "id": "1366b952",
   "metadata": {},
   "outputs": [],
   "source": []
  }
 ],
 "metadata": {
  "kernelspec": {
   "display_name": "Python 3",
   "language": "python",
   "name": "python3"
  },
  "language_info": {
   "codemirror_mode": {
    "name": "ipython",
    "version": 3
   },
   "file_extension": ".py",
   "mimetype": "text/x-python",
   "name": "python",
   "nbconvert_exporter": "python",
   "pygments_lexer": "ipython3",
   "version": "3.8.8"
  }
 },
 "nbformat": 4,
 "nbformat_minor": 5
}
