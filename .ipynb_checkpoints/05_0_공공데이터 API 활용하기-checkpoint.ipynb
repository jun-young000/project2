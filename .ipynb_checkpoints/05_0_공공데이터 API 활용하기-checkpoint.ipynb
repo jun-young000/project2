{
 "cells": [
  {
   "cell_type": "markdown",
   "id": "b4c6e3b7",
   "metadata": {},
   "source": [
    "#### 공공데이터 포탈 사용법\n",
    "- 데이터를 직접 다운 받는 방식이 아니라\n",
    "- 사용하고자 하는 API 서비스에 대해 '활용 신청'을 해서 인증키를 받아\n",
    "- REST API 방식으로 원하는 데이터를 얻도록 되어 있음\n",
    "- 지자체, 각 기관, 정부 연관 기간, 정부 부서 별로 따로 관리를 함-모든 데이터마다 활용신청을 하고 사용해야함"
   ]
  },
  {
   "cell_type": "markdown",
   "id": "18d3b2f9",
   "metadata": {},
   "source": [
    "#### 신청한 API를 활용하기 위해서는  인증키 필요\n",
    "- 보안과 관리를 위해서 인증키 사용\n",
    "- 인증키와 트래픽 제한 등의 장치가 없다면 \n",
    "- 서비스를 악용하거나 무제한으로 트래픽을 보내서 시스템을 마비시키는 등의 공격이 가능하기 때문에\n",
    "- 서비스를 제공하는 곳에서 반드시 인증키를 발급 받아 사용\n"
   ]
  },
  {
   "cell_type": "markdown",
   "id": "caa6896e",
   "metadata": {},
   "source": [
    "#### 공공데이터포털:한국 관광공사 지역기반 관공정보 조회\n"
   ]
  },
  {
   "cell_type": "code",
   "execution_count": 1,
   "id": "874ad73c",
   "metadata": {},
   "outputs": [],
   "source": [
    "from bs4 import BeautifulSoup\n",
    "from urllib.request import urlopen\n",
    "from urllib.request import Request  # 서버 요청 객체를 생성하는 모듈\n",
    "import pandas as pd\n",
    "import requests"
   ]
  },
  {
   "cell_type": "code",
   "execution_count": 2,
   "id": "826d206d",
   "metadata": {},
   "outputs": [],
   "source": [
    "# url 및 서비스 키\n",
    "\n",
    "endpoint='http://api.visitkorea.or.kr/openapi/service/rest/KorService/searchFestival?'  #마지막에 반드시 ? 붙일것\n",
    "serviceKey=\"rARptoGnShjHuKoFh7xSXKN1gipeKmxXPklgBJkPJVeTa85Ohsdy%2B3X98R4mbEoJTYItkEceG2oDoCW8vs7MQA%3D%3D\""
   ]
  },
  {
   "cell_type": "code",
   "execution_count": 3,
   "id": "b6356b8a",
   "metadata": {},
   "outputs": [],
   "source": [
    "numOfRows = \"50\"\n",
    "pageNo = \"1\"\n",
    "MobileOS = \"ETC\"\n",
    "MobileApp = \"AppTest\"\n",
    "arrange = \"A\"\n",
    "listYN = \"Y\"\n",
    "areaCode =\"1\"\n",
    "sigunguCode =\"4\"\n",
    "eventStartDate = \"20200101\"\n"
   ]
  },
  {
   "cell_type": "code",
   "execution_count": 4,
   "id": "58e571d1",
   "metadata": {},
   "outputs": [],
   "source": [
    "paramset = \"serviceKey=\" + serviceKey +\"&\" \\\n",
    "            + \"numOfRows=\" + numOfRows +\"&\" \\\n",
    "            + \"pageNo=\" + pageNo +\"&\"  \\\n",
    "            + \"MobileOS=\" + MobileOS +\"&\"  \\\n",
    "            + \"MobileApp=\" + MobileApp + \"&\" \\\n",
    "            + \"arrange=\"+ arrange + \"&\" \\\n",
    "            + \"areaCode=\" + areaCode + \"&\"\\\n",
    "            + \"listYN=\" + listYN + \"&\"  \\\n",
    "            + \"eventStartDate=\" + eventStartDate\n"
   ]
  },
  {
   "cell_type": "code",
   "execution_count": 5,
   "id": "56a9d131",
   "metadata": {},
   "outputs": [
    {
     "data": {
      "text/plain": [
       "'serviceKey=rARptoGnShjHuKoFh7xSXKN1gipeKmxXPklgBJkPJVeTa85Ohsdy%2B3X98R4mbEoJTYItkEceG2oDoCW8vs7MQA%3D%3D&numOfRows=50&pageNo=1&MobileOS=ETC&MobileApp=AppTest&arrange=A&areaCode=1&listYN=Y&eventStartDate=20200101'"
      ]
     },
     "execution_count": 5,
     "metadata": {},
     "output_type": "execute_result"
    }
   ],
   "source": [
    "paramset"
   ]
  },
  {
   "cell_type": "code",
   "execution_count": 6,
   "id": "b4161918",
   "metadata": {},
   "outputs": [
    {
     "data": {
      "text/plain": [
       "'http://api.visitkorea.or.kr/openapi/service/rest/KorService/searchFestival?serviceKey=rARptoGnShjHuKoFh7xSXKN1gipeKmxXPklgBJkPJVeTa85Ohsdy%2B3X98R4mbEoJTYItkEceG2oDoCW8vs7MQA%3D%3D&numOfRows=50&pageNo=1&MobileOS=ETC&MobileApp=AppTest&arrange=A&areaCode=1&listYN=Y&eventStartDate=20200101'"
      ]
     },
     "execution_count": 6,
     "metadata": {},
     "output_type": "execute_result"
    }
   ],
   "source": [
    "url=endpoint+paramset\n",
    "url # 가장 마지막인 url 결과로 주소창에 넣으면 자세하게 html등이 나온다.여기서 <item>태그 존재를 확인가능함"
   ]
  },
  {
   "cell_type": "code",
   "execution_count": 7,
   "id": "93c2be23",
   "metadata": {},
   "outputs": [],
   "source": [
    "result=requests.get(url)  #api 서비스 호출\n",
    "bs_obj=BeautifulSoup(result.content,\"html.parser\")\n"
   ]
  },
  {
   "cell_type": "code",
   "execution_count": 8,
   "id": "e7cae87b",
   "metadata": {},
   "outputs": [
    {
     "data": {
      "text/plain": [
       "<?xml version=\"1.0\" encoding=\"UTF-8\" standalone=\"yes\"?><response><header><resultcode>0000</resultcode><resultmsg>OK</resultmsg></header><body><items><item><addr1>온라인개최</addr1><areacode>1</areacode><cat1>A02</cat1><cat2>A0207</cat2><cat3>A02070200</cat3><contentid>2676393</contentid><contenttypeid>15</contenttypeid><createdtime>20201014165040</createdtime><eventenddate>20201017</eventenddate><eventstartdate>20201017</eventstartdate><firstimage>http://tong.visitkorea.or.kr/cms/resource/92/2676392_image2_1.jpg</firstimage><firstimage2>http://tong.visitkorea.or.kr/cms/resource/92/2676392_image2_1.jpg</firstimage2><modifiedtime>20201014165040</modifiedtime><readcount>0</readcount><sigungucode>2</sigungucode><title>강동구 청소년 민주주의 축제 \"놀면 뭐하니? 한 번 더 민주!\" 2020</title></item><item><addr1>온라인개최</addr1><addr2>(상일동)</addr2><areacode>1</areacode><cat1>A02</cat1><cat2>A0207</cat2><cat3>A02070200</cat3><contentid>1806376</contentid><contenttypeid>15</contenttypeid><createdtime>20130422102127</createdtime><eventenddate>20200927</eventenddate><eventstartdate>20200921</eventstartdate><firstimage>http://tong.visitkorea.or.kr/cms/resource/69/2670569_image2_1.png</firstimage><firstimage2>http://tong.visitkorea.or.kr/cms/resource/69/2670569_image2_1.png</firstimage2><mapx>127.1573829418</mapx><mapy>37.5512675743</mapy><mlevel>6</mlevel><modifiedtime>20201005171130</modifiedtime><readcount>21828</readcount><sigungucode>2</sigungucode><tel>강일 427-4004, 성내 471-0044, 해공 478-9656, 암사 429-0476, 천호 488-7223</tel><title>강동북페스티벌2020</title></item><item><addr1>온라인개최</addr1><areacode>1</areacode><cat1>A02</cat1><cat2>A0207</cat2><cat3>A02070200</cat3><contentid>1307813</contentid><contenttypeid>15</contenttypeid><createdtime>20110614164707</createdtime><eventenddate>20201011</eventenddate><eventstartdate>20201005</eventstartdate><firstimage>http://tong.visitkorea.or.kr/cms/resource/34/2674234_image2_1.jpg</firstimage><firstimage2>http://tong.visitkorea.or.kr/cms/resource/34/2674234_image2_1.jpg</firstimage2><modifiedtime>20201006161346</modifiedtime><readcount>66461</readcount><sigungucode>2</sigungucode><tel>02-3425-5245</tel><title>강동선사문화축제 2020</title></item><item><addr1>서울특별시 종로구 인왕산로 22</addr1><areacode>1</areacode><cat1>A02</cat1><cat2>A0207</cat2><cat3>A02070200</cat3><contentid>1372085</contentid><contenttypeid>15</contenttypeid><createdtime>20110825151910</createdtime><eventenddate>20201117</eventenddate><eventstartdate>20201117</eventstartdate><firstimage>http://tong.visitkorea.or.kr/cms/resource/44/2621144_image2_1.JPG</firstimage><firstimage2>http://tong.visitkorea.or.kr/cms/resource/44/2621144_image2_1.JPG</firstimage2><mapx>126.9657719166</mapx><mapy>37.5758807095</mapy><mlevel>6</mlevel><modifiedtime>20201207135647</modifiedtime><readcount>12866</readcount><sigungucode>23</sigungucode><tel>02-736-6375</tel><title>개천절 대제전 2020</title></item><item><addr1>온라인개최</addr1><areacode>1</areacode><cat1>A02</cat1><cat2>A0207</cat2><cat3>A02070200</cat3><contentid>2613900</contentid><contenttypeid>15</contenttypeid><createdtime>20190801153406</createdtime><eventenddate>20201120</eventenddate><eventstartdate>20201114</eventstartdate><firstimage>http://tong.visitkorea.or.kr/cms/resource/20/2680820_image2_1.png</firstimage><firstimage2>http://tong.visitkorea.or.kr/cms/resource/20/2680820_image2_1.png</firstimage2><mapx>127.0053765000</mapx><mapy>37.4826644710</mapy><mlevel>6</mlevel><modifiedtime>20201111160054</modifiedtime><readcount>0</readcount><sigungucode>15</sigungucode><tel>070-7575-2351~2</tel><title>건강서울페스티벌 2020</title></item><item><addr1>서울특별시 종로구 사직로 161</addr1><areacode>1</areacode><cat1>A02</cat1><cat2>A0207</cat2><cat3>A02070200</cat3><contentid>2648460</contentid><contenttypeid>15</contenttypeid><createdtime>20200224102834</createdtime><eventenddate>20210527</eventenddate><eventstartdate>20210506</eventstartdate><firstimage>http://tong.visitkorea.or.kr/cms/resource/58/2648458_image2_1.PNG</firstimage><firstimage2>http://tong.visitkorea.or.kr/cms/resource/58/2648458_image2_1.PNG</firstimage2><mapx>126.9770319156</mapx><mapy>37.5788944508</mapy><mlevel>6</mlevel><modifiedtime>20210513154207</modifiedtime><readcount>0</readcount><sigungucode>23</sigungucode><tel>02-3210-4806</tel><title>경복궁 별빛야행</title></item><item><addr1>서울특별시 종로구 사직로 161 경복궁</addr1><areacode>1</areacode><cat1>A02</cat1><cat2>A0207</cat2><cat3>A02070200</cat3><contentid>2615461</contentid><contenttypeid>15</contenttypeid><createdtime>20190816134954</createdtime><eventenddate>20210630</eventenddate><eventstartdate>20210415</eventstartdate><firstimage>http://tong.visitkorea.or.kr/cms/resource/48/2713648_image2_1.jpg</firstimage><firstimage2>http://tong.visitkorea.or.kr/cms/resource/48/2713648_image2_1.jpg</firstimage2><mapx>126.9770319156</mapx><mapy>37.5788944508</mapy><mlevel>6</mlevel><modifiedtime>20210413134125</modifiedtime><readcount>0</readcount><sigungucode>23</sigungucode><tel>02-3210-4807, 02-3210-3506</tel><title>경복궁 생과방</title></item><item><addr1>서울특별시 종로구 사직로 161</addr1><areacode>1</areacode><cat1>A02</cat1><cat2>A0207</cat2><cat3>A02070200</cat3><contentid>2601364</contentid><contenttypeid>15</contenttypeid><createdtime>20190510174353</createdtime><eventenddate>20210529</eventenddate><eventstartdate>20210501</eventstartdate><firstimage>http://tong.visitkorea.or.kr/cms/resource/91/2714691_image2_1.jpg</firstimage><firstimage2>http://tong.visitkorea.or.kr/cms/resource/91/2714691_image2_1.jpg</firstimage2><mapx>126.9748959222</mapx><mapy>37.5816246501</mapy><mlevel>6</mlevel><modifiedtime>20210427160617</modifiedtime><readcount>40</readcount><sigungucode>23</sigungucode><tel>02-3210-4806</tel><title>경복궁 시식공감</title></item><item><addr1>서울특별시 종로구 사직로 161</addr1><addr2>(세종로)</addr2><areacode>1</areacode><cat1>A02</cat1><cat2>A0208</cat2><cat3>A02081300</cat3><contentid>2597569</contentid><contenttypeid>15</contenttypeid><createdtime>20190417150900</createdtime><eventenddate>20210530</eventenddate><eventstartdate>20210401</eventstartdate><firstimage>http://tong.visitkorea.or.kr/cms/resource/44/2597544_image2_1.jpg</firstimage><firstimage2>http://tong.visitkorea.or.kr/cms/resource/44/2597544_image3_1.jpg</firstimage2><mapx>126.9748959222</mapx><mapy>37.5816246501</mapy><mlevel>6</mlevel><modifiedtime>20210514101652</modifiedtime><readcount>42</readcount><sigungucode>23</sigungucode><tel>02-3700-3900~1</tel><title>경복궁 야간 특별관람</title></item><item><addr1>서울특별시 종로구 창경궁로 185</addr1><areacode>1</areacode><cat1>A02</cat1><cat2>A0208</cat2><cat3>A02081300</cat3><contentid>2433581</contentid><contenttypeid>15</contenttypeid><createdtime>20161007152205</createdtime><eventenddate>20210627</eventenddate><eventstartdate>20210612</eventstartdate><firstimage>http://tong.visitkorea.or.kr/cms/resource/03/1965903_image2_1.jpg</firstimage><firstimage2>http://tong.visitkorea.or.kr/cms/resource/03/1965903_image3_1.jpg</firstimage2><mapx>126.9938137563</mapx><mapy>37.5776087901</mapy><mlevel>6</mlevel><modifiedtime>20210617153745</modifiedtime><readcount>4544</readcount><sigungucode>23</sigungucode><tel>02-2270-1132</tel><title>고궁음악회「고궁의 숲, 무용을 만나다」</title></item><item><addr1>온라인개최</addr1><areacode>1</areacode><cat1>A02</cat1><cat2>A0208</cat2><cat3>A02081300</cat3><contentid>2676927</contentid><contenttypeid>15</contenttypeid><createdtime>20201016145744</createdtime><eventenddate>20201109</eventenddate><eventstartdate>20201019</eventstartdate><firstimage>http://tong.visitkorea.or.kr/cms/resource/26/2676926_image2_1.jpg</firstimage><firstimage2>http://tong.visitkorea.or.kr/cms/resource/26/2676926_image2_1.jpg</firstimage2><modifiedtime>20201016145744</modifiedtime><readcount>0</readcount><tel>070-4367-0559</tel><title>공연관광 온라인 쇼케이스 &lt; K-Performance On Air &gt; 2020</title></item><item><addr1>온라인개최</addr1><areacode>1</areacode><cat1>A02</cat1><cat2>A0208</cat2><cat3>A02080600</cat3><contentid>1948920</contentid><contenttypeid>15</contenttypeid><createdtime>20140918150952</createdtime><eventenddate>20201120</eventenddate><eventstartdate>20201019</eventstartdate><firstimage>http://tong.visitkorea.or.kr/cms/resource/72/2696872_image2_1.png</firstimage><firstimage2>http://tong.visitkorea.or.kr/cms/resource/72/2696872_image2_1.png</firstimage2><mapx>127.0594429796</mapx><mapy>37.5117148467</mapy><mlevel>6</mlevel><modifiedtime>20201210163145</modifiedtime><readcount>8280</readcount><sigungucode>1</sigungucode><tel>02-2486-9295~6</tel><title>관광산업 일자리박람회 2020</title></item><item><addr1>서울특별시 관악구</addr1><addr2>(봉천동)</addr2><areacode>1</areacode><cat1>A02</cat1><cat2>A0207</cat2><cat3>A02070200</cat3><contentid>2612274</contentid><contenttypeid>15</contenttypeid><createdtime>20190722094803</createdtime><eventenddate>20211017</eventenddate><eventstartdate>20211014</eventstartdate><mapx>126.9514981970</mapx><mapy>37.4782084678</mapy><mlevel>6</mlevel><modifiedtime>20210520154201</modifiedtime><readcount>0</readcount><sigungucode>5</sigungucode><tel>02) 828-5763</tel><title>관악강감찬축제</title></item><item><addr1>서울특별시 구로구 가마산로 245</addr1><addr2>(구로동)</addr2><areacode>1</areacode><cat1>A02</cat1><cat2>A0207</cat2><cat3>A02070200</cat3><contentid>2039869</contentid><contenttypeid>15</contenttypeid><createdtime>20151109152951</createdtime><eventenddate>20200927</eventenddate><eventstartdate>20200901</eventstartdate><firstimage>http://tong.visitkorea.or.kr/cms/resource/25/2665525_image2_1.jpg</firstimage><firstimage2>http://tong.visitkorea.or.kr/cms/resource/25/2665525_image2_1.jpg</firstimage2><mapx>126.8875507563</mapx><mapy>37.4955247594</mapy><mlevel>6</mlevel><modifiedtime>20200828154619</modifiedtime><readcount>16692</readcount><sigungucode>7</sigungucode><tel>02-860-2282</tel><title>구로G페스티벌 2020</title></item><item><addr1>온라인개최</addr1><areacode>1</areacode><cat1>A02</cat1><cat2>A0207</cat2><cat3>A02070200</cat3><contentid>2618971</contentid><contenttypeid>15</contenttypeid><createdtime>20190917133340</createdtime><eventenddate>20210127</eventenddate><eventstartdate>20201230</eventstartdate><firstimage>http://tong.visitkorea.or.kr/cms/resource/78/2703678_image2_1.png</firstimage><firstimage2>http://tong.visitkorea.or.kr/cms/resource/78/2703678_image2_1.png</firstimage2><mapx>126.8875507563</mapx><mapy>37.4955247594</mapy><mlevel>6</mlevel><modifiedtime>20210517162137</modifiedtime><readcount>0</readcount><sigungucode>7</sigungucode><tel>02-860-2140</tel><title>구로청소년축제 2021</title></item><item><addr1>서울특별시 종로구 삼청로 37</addr1><addr2>(세종로)</addr2><areacode>1</areacode><cat1>A02</cat1><cat2>A0208</cat2><cat3>A02080100</cat3><contentid>140660</contentid><contenttypeid>15</contenttypeid><createdtime>20040311000000</createdtime><eventenddate>20211231</eventenddate><eventstartdate>20210101</eventstartdate><mapx>126.9788705506</mapx><mapy>37.5819663482</mapy><mlevel>6</mlevel><modifiedtime>20210125131301</modifiedtime><readcount>22182</readcount><sigungucode>23</sigungucode><tel>02-3704-3114</tel><title>국립민속박물관 우리민속한마당 2021</title></item><item><addr1>서울특별시 종로구 삼청로 37</addr1><addr2>(세종로)</addr2><areacode>1</areacode><cat1>A02</cat1><cat2>A0207</cat2><cat3>A02070200</cat3><contentid>1204941</contentid><contenttypeid>15</contenttypeid><createdtime>20110215150050</createdtime><eventenddate>20210303</eventenddate><eventstartdate>20210201</eventstartdate><firstimage>http://tong.visitkorea.or.kr/cms/resource/50/495150_image2_1.jpg</firstimage><firstimage2>http://tong.visitkorea.or.kr/cms/resource/50/495150_image3_1.jpg</firstimage2><mapx>126.9788594400</mapx><mapy>37.5819774581</mapy><mlevel>6</mlevel><modifiedtime>20210209154621</modifiedtime><readcount>9540</readcount><sigungucode>23</sigungucode><tel>02-3704-3142, 3127</tel><title>국립민속박물관 정월대보름 한마당 2021</title></item><item><addr1>서울특별시 강남구 영동대로 513</addr1><addr2>(삼성동)</addr2><areacode>1</areacode><cat1>A02</cat1><cat2>A0207</cat2><cat3>A02070200</cat3><contentid>1276136</contentid><contenttypeid>15</contenttypeid><createdtime>20110512102643</createdtime><eventenddate>20210801</eventenddate><eventstartdate>20210729</eventstartdate><mapx>127.0594124394</mapx><mapy>37.5112648981</mapy><mlevel>6</mlevel><modifiedtime>20210701172123</modifiedtime><readcount>31761</readcount><sigungucode>1</sigungucode><tel>02-6000-8000</tel><title>국제차문화대전</title></item><item><areacode>1</areacode><cat1>A02</cat1><cat2>A0208</cat2><cat3>A02081300</cat3><contentid>2684198</contentid><contenttypeid>15</contenttypeid><createdtime>20201119164324</createdtime><eventenddate>20201231</eventenddate><eventstartdate>20201123</eventstartdate><firstimage>http://tong.visitkorea.or.kr/cms/resource/92/2684192_image2_1.jpg</firstimage><firstimage2>http://tong.visitkorea.or.kr/cms/resource/92/2684192_image2_1.jpg</firstimage2><modifiedtime>20210517163126</modifiedtime><readcount>0</readcount><tel>02-3210-4806~7</tel><title>궁궐활용 온라인 프로젝트 '궁온' 2020</title></item><item><addr1>서울특별시 서초구 강남대로 27</addr1><addr2>(양재동)</addr2><areacode>1</areacode><cat1>A02</cat1><cat2>A0208</cat2><cat3>A02080600</cat3><contentid>2659596</contentid><contenttypeid>15</contenttypeid><createdtime>20200612110502</createdtime><eventenddate>20210905</eventenddate><eventstartdate>20210903</eventstartdate><firstimage>http://tong.visitkorea.or.kr/cms/resource/39/2722939_image2_1.png</firstimage><firstimage2>http://tong.visitkorea.or.kr/cms/resource/39/2722939_image2_1.png</firstimage2><mapx>127.0390127336</mapx><mapy>37.4683111849</mapy><mlevel>6</mlevel><modifiedtime>20210623140108</modifiedtime><readcount>0</readcount><sigungucode>15</sigungucode><tel>070-8866-6668</tel><title>궁디팡팡 캣페스타</title></item><item><addr1>서울특별시 종로구 사직로 161</addr1><addr2>(세종로)</addr2><areacode>1</areacode><cat1>A02</cat1><cat2>A0208</cat2><cat3>A02081300</cat3><contentid>2676031</contentid><contenttypeid>15</contenttypeid><createdtime>20201012173436</createdtime><eventenddate>20201025</eventenddate><eventstartdate>20201019</eventstartdate><firstimage>http://tong.visitkorea.or.kr/cms/resource/30/2676030_image2_1.jpg</firstimage><firstimage2>http://tong.visitkorea.or.kr/cms/resource/30/2676030_image2_1.jpg</firstimage2><mapx>126.9770319156</mapx><mapy>37.5788944508</mapy><mlevel>6</mlevel><modifiedtime>20201012173436</modifiedtime><readcount>0</readcount><sigungucode>23</sigungucode><tel>02-3210-4806,4807,3506</tel><title>궁에서 즐기는 슬기로운 가을나기 2020</title></item><item><addr1>서울특별시 종로구 사직로 161</addr1><areacode>1</areacode><cat1>A02</cat1><cat2>A0207</cat2><cat3>A02070200</cat3><contentid>1998564</contentid><contenttypeid>15</contenttypeid><createdtime>20150421095827</createdtime><eventenddate>20211010</eventenddate><eventstartdate>20211002</eventstartdate><firstimage>http://tong.visitkorea.or.kr/cms/resource/07/2718907_image2_1.png</firstimage><firstimage2>http://tong.visitkorea.or.kr/cms/resource/07/2718907_image2_1.png</firstimage2><mapx>126.9769930325</mapx><mapy>37.5788222356</mapy><mlevel>6</mlevel><modifiedtime>20210531153419</modifiedtime><readcount>65553</readcount><sigungucode>23</sigungucode><tel>02-3210-4684</tel><title>궁중문화축전</title></item><item><addr1>서울특별시 중구 명동길 26</addr1><addr2>(명동2가)</addr2><areacode>1</areacode><cat1>A02</cat1><cat2>A0208</cat2><cat3>A02080300</cat3><contentid>406745</contentid><contenttypeid>15</contenttypeid><createdtime>20080118180330</createdtime><eventenddate>20211231</eventenddate><eventstartdate>20210101</eventstartdate><firstimage>http://tong.visitkorea.or.kr/cms/resource/86/2034286_image2_1.jpg</firstimage><firstimage2>http://tong.visitkorea.or.kr/cms/resource/86/2034286_image3_1.jpg</firstimage2><mapx>126.9837456304</mapx><mapy>37.5634463660</mapy><mlevel>6</mlevel><modifiedtime>20210125132029</modifiedtime><readcount>44442</readcount><sigungucode>24</sigungucode><tel>02-739-8288</tel><title>난타 (명동)</title></item><item><addr1>온라인개최</addr1><addr2>(필동2가)</addr2><areacode>1</areacode><cat1>A02</cat1><cat2>A0207</cat2><cat3>A02070200</cat3><contentid>1796637</contentid><contenttypeid>15</contenttypeid><createdtime>20130220143544</createdtime><eventenddate>20210226</eventenddate><eventstartdate>20210211</eventstartdate><firstimage>http://tong.visitkorea.or.kr/cms/resource/71/2706671_image2_1.jpg</firstimage><firstimage2>http://tong.visitkorea.or.kr/cms/resource/71/2706671_image2_1.jpg</firstimage2><mapx>126.9935365470</mapx><mapy>37.5584387906</mapy><mlevel>6</mlevel><modifiedtime>20210219151346</modifiedtime><readcount>13629</readcount><sigungucode>24</sigungucode><tel>02-2261-0517</tel><title>남산골 세시절기 축제 정월대보름 2021</title></item><item><addr1>서울특별시 성동구 왕십리로 63</addr1><addr2>(성수동1가)</addr2><areacode>1</areacode><cat1>A02</cat1><cat2>A0207</cat2><cat3>A02070200</cat3><contentid>2716833</contentid><contenttypeid>15</contenttypeid><createdtime>20210512165803</createdtime><eventenddate>20210606</eventenddate><eventstartdate>20210603</eventstartdate><firstimage>http://tong.visitkorea.or.kr/cms/resource/24/2716824_image2_1.jpg</firstimage><firstimage2>http://tong.visitkorea.or.kr/cms/resource/24/2716824_image2_1.jpg</firstimage2><mapx>127.0435962960</mapx><mapy>37.5436136344</mapy><mlevel>6</mlevel><modifiedtime>20210528131519</modifiedtime><readcount>0</readcount><sigungucode>16</sigungucode><tel>010-4667-0417</tel><title>노 모어 플라스틱(2021 NO MORE PLASTIC)</title></item><item><addr1>서울특별시 종로구 대학로12길 64</addr1><addr2>(동숭동)</addr2><areacode>1</areacode><cat1>A02</cat1><cat2>A0208</cat2><cat3>A02080200</cat3><contentid>1204763</contentid><contenttypeid>15</contenttypeid><createdtime>20110215141024</createdtime><eventenddate>20211231</eventenddate><eventstartdate>20210101</eventstartdate><mapx>127.0036933107</mapx><mapy>37.5811613326</mapy><mlevel>6</mlevel><modifiedtime>20210217101450</modifiedtime><readcount>33949</readcount><sigungucode>23</sigungucode><tel>02-3672-0900</tel><title>늘근도둑 이야기</title></item><item><addr1>서울특별시 종로구 대학로8길 1</addr1><addr2>(동숭동)</addr2><areacode>1</areacode><cat1>A02</cat1><cat2>A0207</cat2><cat3>A02070200</cat3><contentid>1717921</contentid><contenttypeid>15</contenttypeid><createdtime>20120913100408</createdtime><eventenddate>20210530</eventenddate><eventstartdate>20210528</eventstartdate><firstimage>http://tong.visitkorea.or.kr/cms/resource/20/2718320_image2_1.jpg</firstimage><firstimage2>http://tong.visitkorea.or.kr/cms/resource/20/2718320_image2_1.jpg</firstimage2><mapx>127.0023906561</mapx><mapy>37.5809974394</mapy><mlevel>6</mlevel><modifiedtime>20210526102051</modifiedtime><readcount>37956</readcount><sigungucode>23</sigungucode><tel>02-741-4188</tel><title>대학로 거리공연축제</title></item><item><addr1>서울특별시 서초구 강남대로 27 AT Center 제 2전시장</addr1><addr2>(양재동)</addr2><areacode>1</areacode><cat1>A02</cat1><cat2>A0208</cat2><cat3>A02081300</cat3><contentid>2373224</contentid><contenttypeid>15</contenttypeid><createdtime>20160316172145</createdtime><eventenddate>20210606</eventenddate><eventstartdate>20210603</eventstartdate><firstimage>http://tong.visitkorea.or.kr/cms/resource/33/2713633_image2_1.jpg</firstimage><firstimage2>http://tong.visitkorea.or.kr/cms/resource/33/2713633_image2_1.jpg</firstimage2><mapx>127.0396016001</mapx><mapy>37.4672141004</mapy><mlevel>6</mlevel><modifiedtime>20210412171238</modifiedtime><readcount>46743</readcount><sigungucode>15</sigungucode><tel>02-802-7666, 7669</tel><title>대한민국 국제요리&amp;제과경연대회</title></item><item><addr1>서울특별시 강남구 영동대로 513</addr1><addr2>(삼성동)</addr2><areacode>1</areacode><cat1>A02</cat1><cat2>A0207</cat2><cat3>A02070200</cat3><contentid>2730685</contentid><contenttypeid>15</contenttypeid><createdtime>20210804091401</createdtime><eventenddate>20211023</eventenddate><eventstartdate>20211020</eventstartdate><firstimage>http://tong.visitkorea.or.kr/cms/resource/43/2730843_image2_1.jpg</firstimage><firstimage2>http://tong.visitkorea.or.kr/cms/resource/43/2730843_image2_1.jpg</firstimage2><mapx>127.0594429796</mapx><mapy>37.5117148467</mapy><mlevel>6</mlevel><modifiedtime>20210804130827</modifiedtime><readcount>0</readcount><sigungucode>1</sigungucode><tel>02-6404-0166</tel><title>대한민국 목재산업 박람회(WOOD FAIR 2021)</title></item><item><addr1>온라인개최</addr1><areacode>1</areacode><cat1>A02</cat1><cat2>A0207</cat2><cat3>A02070200</cat3><contentid>2563687</contentid><contenttypeid>15</contenttypeid><createdtime>20181022094031</createdtime><eventenddate>20201218</eventenddate><eventstartdate>20201216</eventstartdate><firstimage>http://tong.visitkorea.or.kr/cms/resource/84/2563684_image2_1.JPG</firstimage><firstimage2>http://tong.visitkorea.or.kr/cms/resource/84/2563684_image2_1.JPG</firstimage2><mapx>127.0591318945</mapx><mapy>37.5118092746</mapy><mlevel>6</mlevel><modifiedtime>20201109170931</modifiedtime><readcount>176</readcount><sigungucode>1</sigungucode><tel>042-712-9231</tel><title>대한민국 산업기술 R&amp;D대전 2020</title></item><item><addr1>서울특별시 서초구 남부순환로 2364</addr1><addr2>(서초동)</addr2><areacode>1</areacode><cat1>A02</cat1><cat2>A0207</cat2><cat3>A02070200</cat3><contentid>607348</contentid><contenttypeid>15</contenttypeid><createdtime>20080811133450</createdtime><eventenddate>20210502</eventenddate><eventstartdate>20210428</eventstartdate><firstimage>http://tong.visitkorea.or.kr/cms/resource/56/2597356_image2_1.jpg</firstimage><firstimage2>http://tong.visitkorea.or.kr/cms/resource/56/2597356_image2_1.jpg</firstimage2><mapx>127.0088957592</mapx><mapy>37.4778984208</mapy><mlevel>6</mlevel><modifiedtime>20210407170656</modifiedtime><readcount>4819</readcount><sigungucode>15</sigungucode><tel>02-580-3274</tel><title>대한민국 전통연희축제</title></item><item><addr1>서울특별시 송파구 백제고분로 270</addr1><addr2>(삼전동)</addr2><areacode>1</areacode><cat1>A02</cat1><cat2>A0207</cat2><cat3>A02070200</cat3><contentid>2657111</contentid><contenttypeid>15</contenttypeid><createdtime>20200522145425</createdtime><eventenddate>20210730</eventenddate><eventstartdate>20210716</eventstartdate><firstimage>http://tong.visitkorea.or.kr/cms/resource/46/2726046_image2_1.png</firstimage><firstimage2>http://tong.visitkorea.or.kr/cms/resource/46/2726046_image2_1.png</firstimage2><mapx>127.0963010045</mapx><mapy>37.5022777168</mapy><mlevel>6</mlevel><modifiedtime>20210716132522</modifiedtime><readcount>0</readcount><sigungucode>18</sigungucode><tel>070-7938-5480</tel><title>대한민국 청년미술축제</title></item><item><addr1>서울특별시 양천구 목동서로 225</addr1><addr2>(목동)</addr2><areacode>1</areacode><cat1>A02</cat1><cat2>A0207</cat2><cat3>A02070200</cat3><contentid>2558683</contentid><contenttypeid>15</contenttypeid><createdtime>20180823143207</createdtime><eventenddate>20210821</eventenddate><eventstartdate>20210821</eventstartdate><firstimage>http://tong.visitkorea.or.kr/cms/resource/35/2724135_image2_1.jpg</firstimage><firstimage2>http://tong.visitkorea.or.kr/cms/resource/35/2724135_image2_1.jpg</firstimage2><mapx>126.8707958384</mapx><mapy>37.5271541181</mapy><mlevel>6</mlevel><modifiedtime>20210705095305</modifiedtime><readcount>759</readcount><sigungucode>19</sigungucode><tel>02-744-8066</tel><title>대한민국무용대상</title></item><item><addr1>서울특별시 서초구 강남대로 27</addr1><areacode>1</areacode><cat1>A02</cat1><cat2>A0208</cat2><cat3>A02081300</cat3><contentid>2479634</contentid><contenttypeid>15</contenttypeid><createdtime>20170207140641</createdtime><eventenddate>20211114</eventenddate><eventstartdate>20211112</eventstartdate><firstimage>http://tong.visitkorea.or.kr/cms/resource/53/2723753_image2_1.jpg</firstimage><firstimage2>http://tong.visitkorea.or.kr/cms/resource/53/2723753_image2_1.jpg</firstimage2><mapx>127.0396016001</mapx><mapy>37.4672141004</mapy><mlevel>6</mlevel><modifiedtime>20210629135155</modifiedtime><readcount>9778</readcount><sigungucode>15</sigungucode><tel>02-511-1540</tel><title>대한민국향토식문화대전(&amp;남북음식문화축제)</title></item><item><addr1>서울특별시 영등포구 여의대로 108</addr1><addr2>(여의도동)</addr2><areacode>1</areacode><cat1>A02</cat1><cat2>A0208</cat2><cat3>A02081300</cat3><contentid>2714690</contentid><contenttypeid>15</contenttypeid><createdtime>20210427154724</createdtime><eventenddate>20210613</eventenddate><eventstartdate>20210522</eventstartdate><firstimage>http://tong.visitkorea.or.kr/cms/resource/89/2714689_image2_1.png</firstimage><firstimage2>http://tong.visitkorea.or.kr/cms/resource/89/2714689_image2_1.png</firstimage2><mapx>126.9283267400</mapx><mapy>37.5259691729</mapy><mlevel>6</mlevel><modifiedtime>20210518170502</modifiedtime><readcount>0</readcount><sigungucode>20</sigungucode><tel>070-7575-2351</tel><title>더현대 플로깅</title></item><item><addr1>서울특별시 중구 세종대로 99</addr1><addr2>(정동)</addr2><areacode>1</areacode><cat1>A02</cat1><cat2>A0208</cat2><cat3>A02080100</cat3><contentid>292961</contentid><contenttypeid>15</contenttypeid><createdtime>20060126100026</createdtime><eventenddate>20211231</eventenddate><eventstartdate>20210101</eventstartdate><firstimage>http://tong.visitkorea.or.kr/cms/resource/24/495224_image2_1.jpg</firstimage><firstimage2>http://tong.visitkorea.or.kr/cms/resource/24/495224_image3_1.jpg</firstimage2><mapx>126.9761046145</mapx><mapy>37.5650460435</mapy><mlevel>6</mlevel><modifiedtime>20210106160853</modifiedtime><readcount>35451</readcount><sigungucode>24</sigungucode><tel>다산콜센터 02-120</tel><title>덕수궁 왕궁수문장교대의식</title></item><item><addr1>서울특별시 중구 세종대로 99</addr1><addr2>(정동)</addr2><areacode>1</areacode><cat1>A02</cat1><cat2>A0208</cat2><cat3>A02080100</cat3><contentid>1301487</contentid><contenttypeid>15</contenttypeid><createdtime>20110603142942</createdtime><eventenddate>20210509</eventenddate><eventstartdate>20210501</eventstartdate><firstimage>http://tong.visitkorea.or.kr/cms/resource/08/1965908_image2_1.jpg</firstimage><firstimage2>http://tong.visitkorea.or.kr/cms/resource/08/1965908_image3_1.jpg</firstimage2><mapx>126.9749158128</mapx><mapy>37.5658042673</mapy><mlevel>6</mlevel><modifiedtime>20210609132748</modifiedtime><readcount>40043</readcount><sigungucode>24</sigungucode><tel>02-2270-1244</tel><title>덕수궁 풍류</title></item><item><addr1>온라인개최</addr1><addr2>(창동)</addr2><areacode>1</areacode><cat1>A02</cat1><cat2>A0207</cat2><cat3>A02070200</cat3><contentid>1104496</contentid><contenttypeid>15</contenttypeid><createdtime>20101006170222</createdtime><eventenddate>20201115</eventenddate><eventstartdate>20201012</eventstartdate><firstimage>http://tong.visitkorea.or.kr/cms/resource/33/2678233_image2_1.jpg</firstimage><firstimage2>http://tong.visitkorea.or.kr/cms/resource/33/2678233_image2_1.jpg</firstimage2><mapx>127.0439570482</mapx><mapy>37.6527648428</mapy><mlevel>6</mlevel><modifiedtime>20201022174510</modifiedtime><readcount>4640</readcount><sigungucode>10</sigungucode><tel>070-4153-6392</tel><title>도봉산 페스티벌 2020</title></item><item><addr1>서울특별시 도봉구 도봉로 552</addr1><addr2>(창동)</addr2><areacode>1</areacode><cat1>A02</cat1><cat2>A0207</cat2><cat3>A02070200</cat3><contentid>2725188</contentid><contenttypeid>15</contenttypeid><createdtime>20210712101001</createdtime><eventenddate>20211002</eventenddate><eventstartdate>20211002</eventstartdate><firstimage>http://tong.visitkorea.or.kr/cms/resource/86/2725186_image2_1.jpg</firstimage><firstimage2>http://tong.visitkorea.or.kr/cms/resource/86/2725186_image2_1.jpg</firstimage2><mapx>127.0384686195</mapx><mapy>37.6541590259</mapy><mlevel>6</mlevel><modifiedtime>20210712101001</modifiedtime><readcount>0</readcount><sigungucode>10</sigungucode><tel>02-905-4026</tel><title>도봉옛길 문화제</title></item><item><addr1>서울특별시 도봉구 도봉로 552</addr1><addr2>(창동)</addr2><areacode>1</areacode><cat1>A02</cat1><cat2>A0207</cat2><cat3>A02070200</cat3><contentid>2601242</contentid><contenttypeid>15</contenttypeid><createdtime>20190509132339</createdtime><eventenddate>20211009</eventenddate><eventstartdate>20211009</eventstartdate><firstimage>http://tong.visitkorea.or.kr/cms/resource/81/2725681_image2_1.jpg</firstimage><firstimage2>http://tong.visitkorea.or.kr/cms/resource/81/2725681_image2_1.jpg</firstimage2><mapx>127.0384686195</mapx><mapy>37.6541590259</mapy><mlevel>6</mlevel><modifiedtime>20210714092434</modifiedtime><readcount>4</readcount><sigungucode>10</sigungucode><tel>02-905-4026</tel><title>도봉한글잔치</title></item><item><addr1>서울특별시 송파구 올림픽로 240</addr1><addr2>(잠실동)</addr2><areacode>1</areacode><cat1>A02</cat1><cat2>A0207</cat2><cat3>A02070200</cat3><contentid>808590</contentid><contenttypeid>15</contenttypeid><createdtime>20090923142021</createdtime><eventenddate>20201115</eventenddate><eventstartdate>20200905</eventstartdate><firstimage>http://tong.visitkorea.or.kr/cms/resource/56/2505256_image2_1.JPG</firstimage><firstimage2>http://tong.visitkorea.or.kr/cms/resource/56/2505256_image2_1.JPG</firstimage2><mapx>127.0983644514</mapx><mapy>37.5112350469</mapy><mlevel>6</mlevel><modifiedtime>20201013140122</modifiedtime><readcount>140463</readcount><sigungucode>18</sigungucode><tel>1661-2000</tel><title>롯데월드 호러 할로윈 : The Invitation 2020</title></item><item><addr1>서울특별시 송파구 올림픽로 240</addr1><areacode>1</areacode><cat1>A02</cat1><cat2>A0207</cat2><cat3>A02070200</cat3><contentid>650452</contentid><contenttypeid>15</contenttypeid><createdtime>20081111162346</createdtime><eventenddate>20201231</eventenddate><eventstartdate>20201121</eventstartdate><firstimage>http://tong.visitkorea.or.kr/cms/resource/04/2565704_image2_1.JPG</firstimage><firstimage2>http://tong.visitkorea.or.kr/cms/resource/04/2565704_image2_1.JPG</firstimage2><mapx>127.0981394766</mapx><mapy>37.5110683960</mapy><mlevel>6</mlevel><modifiedtime>20201215145848</modifiedtime><readcount>64624</readcount><sigungucode>18</sigungucode><tel>1661-2000</tel><title>롯데월드 Lights Up 2020</title></item><item><addr1>서울특별시 마포구 양화로 161</addr1><addr2>(동교동)</addr2><areacode>1</areacode><cat1>A02</cat1><cat2>A0208</cat2><cat3>A02081300</cat3><contentid>2709586</contentid><contenttypeid>15</contenttypeid><createdtime>20210311110225</createdtime><eventenddate>20210529</eventenddate><eventstartdate>20210501</eventstartdate><firstimage>http://tong.visitkorea.or.kr/cms/resource/40/2717640_image2_1.png</firstimage><firstimage2>http://tong.visitkorea.or.kr/cms/resource/40/2717640_image2_1.png</firstimage2><mapx>126.9233374302</mapx><mapy>37.5569904785</mapy><modifiedtime>20210520101754</modifiedtime><readcount>0</readcount><sigungucode>13</sigungucode><tel>02-324-9137</tel><title>리얼리티 러브 홀림픽</title></item><item><addr1>서울특별시 중구 장충단로13길 20</addr1><areacode>1</areacode><cat1>A02</cat1><cat2>A0207</cat2><cat3>A02070200</cat3><contentid>2602756</contentid><contenttypeid>15</contenttypeid><createdtime>20190521172228</createdtime><eventenddate>20200621</eventenddate><eventstartdate>20200619</eventstartdate><firstimage>http://tong.visitkorea.or.kr/cms/resource/10/2622610_image2_1.jpg</firstimage><firstimage2>http://tong.visitkorea.or.kr/cms/resource/10/2622610_image2_1.jpg</firstimage2><mapx>127.0076821872</mapx><mapy>37.5687878415</mapy><mlevel>6</mlevel><modifiedtime>20210527142047</modifiedtime><readcount>2</readcount><sigungucode>24</sigungucode><tel>02-1661-6925</tel><title>마켓을 여행하다</title></item><item><addr1>서울특별시 강남구 남부순환로 3104</addr1><addr2>(대치동)</addr2><areacode>1</areacode><cat1>A02</cat1><cat2>A0208</cat2><cat3>A02080600</cat3><contentid>2659594</contentid><contenttypeid>15</contenttypeid><createdtime>20200612104639</createdtime><eventenddate>20200830</eventenddate><eventstartdate>20200827</eventstartdate><firstimage>http://tong.visitkorea.or.kr/cms/resource/54/2661054_image2_1.jpg</firstimage><firstimage2>http://tong.visitkorea.or.kr/cms/resource/54/2661054_image2_1.jpg</firstimage2><mapx>127.0719811806</mapx><mapy>37.4957363721</mapy><mlevel>6</mlevel><modifiedtime>20200624171608</modifiedtime><readcount>0</readcount><sigungucode>1</sigungucode><tel>02-6677-3477</tel><title>메가쇼 시즌2 2020</title></item><item><addr1>서울특별시 구로구 구로동 3-33</addr1><areacode>1</areacode><cat1>A02</cat1><cat2>A0208</cat2><cat3>A02080500</cat3><contentid>2601692</contentid><contenttypeid>15</contenttypeid><createdtime>20190514165328</createdtime><eventenddate>20200906</eventenddate><eventstartdate>20200811</eventstartdate><firstimage>http://tong.visitkorea.or.kr/cms/resource/91/2601691_image2_1.jpg</firstimage><firstimage2>http://tong.visitkorea.or.kr/cms/resource/91/2601691_image2_1.jpg</firstimage2><mapx>126.8888363208</mapx><mapy>37.5107924524</mapy><mlevel>6</mlevel><modifiedtime>20201005110743</modifiedtime><readcount>4</readcount><sigungucode>7</sigungucode><tel>02-867--2202</tel><title>모두의 전람회 &lt;그럼에도 변하지 않은 것들展&gt; 2020</title></item><item><addr1>서울특별시 강남구 영동대로 513</addr1><areacode>1</areacode><cat1>A02</cat1><cat2>A0207</cat2><cat3>A02070200</cat3><contentid>2045414</contentid><contenttypeid>15</contenttypeid><createdtime>20151203141943</createdtime><eventenddate>20201231</eventenddate><eventstartdate>20201217</eventstartdate><firstimage>http://tong.visitkorea.or.kr/cms/resource/72/2639672_image2_1.jpg</firstimage><firstimage2>http://tong.visitkorea.or.kr/cms/resource/72/2639672_image2_1.jpg</firstimage2><mapx>127.0591874466</mapx><mapy>37.5117592813</mapy><mlevel>6</mlevel><modifiedtime>20201111153635</modifiedtime><readcount>23271</readcount><sigungucode>1</sigungucode><tel>02-6000-0114</tel><title>무역센터 겨울축제 '코엑스 윈터페스티벌' 2020</title></item><item><addr1>온라인개최</addr1><areacode>1</areacode><cat1>A02</cat1><cat2>A0208</cat2><cat3>A02081300</cat3><contentid>2556687</contentid><contenttypeid>15</contenttypeid><createdtime>20180807162040</createdtime><eventenddate>20201130</eventenddate><eventstartdate>20200926</eventstartdate><firstimage>http://tong.visitkorea.or.kr/cms/resource/84/2556684_image2_1.png</firstimage><firstimage2>http://tong.visitkorea.or.kr/cms/resource/84/2556684_image2_1.png</firstimage2><modifiedtime>20201006093724</modifiedtime><readcount>940</readcount><sigungucode>23</sigungucode><tel>061-900-2328~9</tel><title>문학주간 '문학은 더 가깝게' 2020</title></item><item><addr1>온라인개최</addr1><addr2>(서교동)</addr2><areacode>1</areacode><cat1>A02</cat1><cat2>A0208</cat2><cat3>A02081300</cat3><contentid>2666774</contentid><contenttypeid>15</contenttypeid><createdtime>20200810165701</createdtime><eventenddate>20210505</eventenddate><eventstartdate>20210425</eventstartdate><firstimage>http://tong.visitkorea.or.kr/cms/resource/78/2715178_image2_1.jpg</firstimage><firstimage2>http://tong.visitkorea.or.kr/cms/resource/78/2715178_image2_1.jpg</firstimage2><mapx>126.9167298722</mapx><mapy>37.5508549625</mapy><mlevel>6</mlevel><modifiedtime>20210503141920</modifiedtime><readcount>0</readcount><sigungucode>13</sigungucode><tel>찾아가는공연 운영사무국 (02-3443-2695)</tel><title>문화로 토닥토닥 \"찾아가는 공연\"</title></item><item><addr1>서울특별시 종로구 이화장길 26</addr1><addr2>(이화동)</addr2><areacode>1</areacode><cat1>A02</cat1><cat2>A0208</cat2><cat3>A02080300</cat3><contentid>1394326</contentid><contenttypeid>15</contenttypeid><createdtime>20110930145126</createdtime><eventenddate>20211231</eventenddate><eventstartdate>20210101</eventstartdate><firstimage>http://tong.visitkorea.or.kr/cms/resource/72/2489672_image2_1.jpg</firstimage><firstimage2>http://tong.visitkorea.or.kr/cms/resource/72/2489672_image2_1.jpg</firstimage2><mapx>127.0039128630</mapx><mapy>37.5766424167</mapy><mlevel>6</mlevel><modifiedtime>20210520170535</modifiedtime><readcount>23319</readcount><sigungucode>23</sigungucode><tel>070-8245-2602</tel><title>뮤직드라마 당신만이</title></item></items><numofrows>50</numofrows><pageno>1</pageno><totalcount>190</totalcount></body></response>"
      ]
     },
     "execution_count": 8,
     "metadata": {},
     "output_type": "execute_result"
    }
   ],
   "source": [
    "bs_obj\n",
    "\n",
    "#<items> 안에 정보가 들어있음을 알수있다.."
   ]
  },
  {
   "cell_type": "code",
   "execution_count": 9,
   "id": "11a46ffa",
   "metadata": {},
   "outputs": [
    {
     "data": {
      "text/plain": [
       "[<title>강동구 청소년 민주주의 축제 \"놀면 뭐하니? 한 번 더 민주!\" 2020</title>,\n",
       " <title>강동북페스티벌2020</title>,\n",
       " <title>강동선사문화축제 2020</title>,\n",
       " <title>개천절 대제전 2020</title>,\n",
       " <title>건강서울페스티벌 2020</title>,\n",
       " <title>경복궁 별빛야행</title>,\n",
       " <title>경복궁 생과방</title>,\n",
       " <title>경복궁 시식공감</title>,\n",
       " <title>경복궁 야간 특별관람</title>,\n",
       " <title>고궁음악회「고궁의 숲, 무용을 만나다」</title>,\n",
       " <title>공연관광 온라인 쇼케이스 &lt; K-Performance On Air &gt; 2020</title>,\n",
       " <title>관광산업 일자리박람회 2020</title>,\n",
       " <title>관악강감찬축제</title>,\n",
       " <title>구로G페스티벌 2020</title>,\n",
       " <title>구로청소년축제 2021</title>,\n",
       " <title>국립민속박물관 우리민속한마당 2021</title>,\n",
       " <title>국립민속박물관 정월대보름 한마당 2021</title>,\n",
       " <title>국제차문화대전</title>,\n",
       " <title>궁궐활용 온라인 프로젝트 '궁온' 2020</title>,\n",
       " <title>궁디팡팡 캣페스타</title>,\n",
       " <title>궁에서 즐기는 슬기로운 가을나기 2020</title>,\n",
       " <title>궁중문화축전</title>,\n",
       " <title>난타 (명동)</title>,\n",
       " <title>남산골 세시절기 축제 정월대보름 2021</title>,\n",
       " <title>노 모어 플라스틱(2021 NO MORE PLASTIC)</title>,\n",
       " <title>늘근도둑 이야기</title>,\n",
       " <title>대학로 거리공연축제</title>,\n",
       " <title>대한민국 국제요리&amp;제과경연대회</title>,\n",
       " <title>대한민국 목재산업 박람회(WOOD FAIR 2021)</title>,\n",
       " <title>대한민국 산업기술 R&amp;D대전 2020</title>,\n",
       " <title>대한민국 전통연희축제</title>,\n",
       " <title>대한민국 청년미술축제</title>,\n",
       " <title>대한민국무용대상</title>,\n",
       " <title>대한민국향토식문화대전(&amp;남북음식문화축제)</title>,\n",
       " <title>더현대 플로깅</title>,\n",
       " <title>덕수궁 왕궁수문장교대의식</title>,\n",
       " <title>덕수궁 풍류</title>,\n",
       " <title>도봉산 페스티벌 2020</title>,\n",
       " <title>도봉옛길 문화제</title>,\n",
       " <title>도봉한글잔치</title>,\n",
       " <title>롯데월드 호러 할로윈 : The Invitation 2020</title>,\n",
       " <title>롯데월드 Lights Up 2020</title>,\n",
       " <title>리얼리티 러브 홀림픽</title>,\n",
       " <title>마켓을 여행하다</title>,\n",
       " <title>메가쇼 시즌2 2020</title>,\n",
       " <title>모두의 전람회 &lt;그럼에도 변하지 않은 것들展&gt; 2020</title>,\n",
       " <title>무역센터 겨울축제 '코엑스 윈터페스티벌' 2020</title>,\n",
       " <title>문학주간 '문학은 더 가깝게' 2020</title>,\n",
       " <title>문화로 토닥토닥 \"찾아가는 공연\"</title>,\n",
       " <title>뮤직드라마 당신만이</title>]"
      ]
     },
     "execution_count": 9,
     "metadata": {},
     "output_type": "execute_result"
    }
   ],
   "source": [
    "bs_obj.findAll(\"title\")\n"
   ]
  },
  {
   "cell_type": "code",
   "execution_count": 10,
   "id": "be4adb1c",
   "metadata": {},
   "outputs": [
    {
     "data": {
      "text/plain": [
       "[<addr1>온라인개최</addr1>,\n",
       " <addr1>온라인개최</addr1>,\n",
       " <addr1>온라인개최</addr1>,\n",
       " <addr1>서울특별시 종로구 인왕산로 22</addr1>,\n",
       " <addr1>온라인개최</addr1>,\n",
       " <addr1>서울특별시 종로구 사직로 161</addr1>,\n",
       " <addr1>서울특별시 종로구 사직로 161 경복궁</addr1>,\n",
       " <addr1>서울특별시 종로구 사직로 161</addr1>,\n",
       " <addr1>서울특별시 종로구 사직로 161</addr1>,\n",
       " <addr1>서울특별시 종로구 창경궁로 185</addr1>,\n",
       " <addr1>온라인개최</addr1>,\n",
       " <addr1>온라인개최</addr1>,\n",
       " <addr1>서울특별시 관악구</addr1>,\n",
       " <addr1>서울특별시 구로구 가마산로 245</addr1>,\n",
       " <addr1>온라인개최</addr1>,\n",
       " <addr1>서울특별시 종로구 삼청로 37</addr1>,\n",
       " <addr1>서울특별시 종로구 삼청로 37</addr1>,\n",
       " <addr1>서울특별시 강남구 영동대로 513</addr1>,\n",
       " <addr1>서울특별시 서초구 강남대로 27</addr1>,\n",
       " <addr1>서울특별시 종로구 사직로 161</addr1>,\n",
       " <addr1>서울특별시 종로구 사직로 161</addr1>,\n",
       " <addr1>서울특별시 중구 명동길 26</addr1>,\n",
       " <addr1>온라인개최</addr1>,\n",
       " <addr1>서울특별시 성동구 왕십리로 63</addr1>,\n",
       " <addr1>서울특별시 종로구 대학로12길 64</addr1>,\n",
       " <addr1>서울특별시 종로구 대학로8길 1</addr1>,\n",
       " <addr1>서울특별시 서초구 강남대로 27 AT Center 제 2전시장</addr1>,\n",
       " <addr1>서울특별시 강남구 영동대로 513</addr1>,\n",
       " <addr1>온라인개최</addr1>,\n",
       " <addr1>서울특별시 서초구 남부순환로 2364</addr1>,\n",
       " <addr1>서울특별시 송파구 백제고분로 270</addr1>,\n",
       " <addr1>서울특별시 양천구 목동서로 225</addr1>,\n",
       " <addr1>서울특별시 서초구 강남대로 27</addr1>,\n",
       " <addr1>서울특별시 영등포구 여의대로 108</addr1>,\n",
       " <addr1>서울특별시 중구 세종대로 99</addr1>,\n",
       " <addr1>서울특별시 중구 세종대로 99</addr1>,\n",
       " <addr1>온라인개최</addr1>,\n",
       " <addr1>서울특별시 도봉구 도봉로 552</addr1>,\n",
       " <addr1>서울특별시 도봉구 도봉로 552</addr1>,\n",
       " <addr1>서울특별시 송파구 올림픽로 240</addr1>,\n",
       " <addr1>서울특별시 송파구 올림픽로 240</addr1>,\n",
       " <addr1>서울특별시 마포구 양화로 161</addr1>,\n",
       " <addr1>서울특별시 중구 장충단로13길 20</addr1>,\n",
       " <addr1>서울특별시 강남구 남부순환로 3104</addr1>,\n",
       " <addr1>서울특별시 구로구 구로동 3-33</addr1>,\n",
       " <addr1>서울특별시 강남구 영동대로 513</addr1>,\n",
       " <addr1>온라인개최</addr1>,\n",
       " <addr1>온라인개최</addr1>,\n",
       " <addr1>서울특별시 종로구 이화장길 26</addr1>]"
      ]
     },
     "execution_count": 10,
     "metadata": {},
     "output_type": "execute_result"
    }
   ],
   "source": [
    "bs_obj.findAll(\"addr1\")"
   ]
  },
  {
   "cell_type": "code",
   "execution_count": 11,
   "id": "6bdd15f4",
   "metadata": {},
   "outputs": [
    {
     "data": {
      "text/plain": [
       "[<tel>강일 427-4004, 성내 471-0044, 해공 478-9656, 암사 429-0476, 천호 488-7223</tel>,\n",
       " <tel>02-3425-5245</tel>,\n",
       " <tel>02-736-6375</tel>,\n",
       " <tel>070-7575-2351~2</tel>,\n",
       " <tel>02-3210-4806</tel>,\n",
       " <tel>02-3210-4807, 02-3210-3506</tel>,\n",
       " <tel>02-3210-4806</tel>,\n",
       " <tel>02-3700-3900~1</tel>,\n",
       " <tel>02-2270-1132</tel>,\n",
       " <tel>070-4367-0559</tel>,\n",
       " <tel>02-2486-9295~6</tel>,\n",
       " <tel>02) 828-5763</tel>,\n",
       " <tel>02-860-2282</tel>,\n",
       " <tel>02-860-2140</tel>,\n",
       " <tel>02-3704-3114</tel>,\n",
       " <tel>02-3704-3142, 3127</tel>,\n",
       " <tel>02-6000-8000</tel>,\n",
       " <tel>02-3210-4806~7</tel>,\n",
       " <tel>070-8866-6668</tel>,\n",
       " <tel>02-3210-4806,4807,3506</tel>,\n",
       " <tel>02-3210-4684</tel>,\n",
       " <tel>02-739-8288</tel>,\n",
       " <tel>02-2261-0517</tel>,\n",
       " <tel>010-4667-0417</tel>,\n",
       " <tel>02-3672-0900</tel>,\n",
       " <tel>02-741-4188</tel>,\n",
       " <tel>02-802-7666, 7669</tel>,\n",
       " <tel>02-6404-0166</tel>,\n",
       " <tel>042-712-9231</tel>,\n",
       " <tel>02-580-3274</tel>,\n",
       " <tel>070-7938-5480</tel>,\n",
       " <tel>02-744-8066</tel>,\n",
       " <tel>02-511-1540</tel>,\n",
       " <tel>070-7575-2351</tel>,\n",
       " <tel>다산콜센터 02-120</tel>,\n",
       " <tel>02-2270-1244</tel>,\n",
       " <tel>070-4153-6392</tel>,\n",
       " <tel>02-905-4026</tel>,\n",
       " <tel>02-905-4026</tel>,\n",
       " <tel>1661-2000</tel>,\n",
       " <tel>1661-2000</tel>,\n",
       " <tel>02-324-9137</tel>,\n",
       " <tel>02-1661-6925</tel>,\n",
       " <tel>02-6677-3477</tel>,\n",
       " <tel>02-867--2202</tel>,\n",
       " <tel>02-6000-0114</tel>,\n",
       " <tel>061-900-2328~9</tel>,\n",
       " <tel>찾아가는공연 운영사무국 (02-3443-2695)</tel>,\n",
       " <tel>070-8245-2602</tel>]"
      ]
     },
     "execution_count": 11,
     "metadata": {},
     "output_type": "execute_result"
    }
   ],
   "source": [
    "bs_obj.findAll(\"tel\")"
   ]
  },
  {
   "cell_type": "code",
   "execution_count": 12,
   "id": "34585922",
   "metadata": {},
   "outputs": [
    {
     "data": {
      "text/plain": [
       "(50, 49, 49)"
      ]
     },
     "execution_count": 12,
     "metadata": {},
     "output_type": "execute_result"
    }
   ],
   "source": [
    "len(bs_obj.findAll(\"title\")),len(bs_obj.findAll(\"addr1\")),len(bs_obj.findAll(\"tel\"))"
   ]
  },
  {
   "cell_type": "code",
   "execution_count": 13,
   "id": "ef1cc75e",
   "metadata": {},
   "outputs": [
    {
     "name": "stdout",
     "output_type": "stream",
     "text": [
      "강동구 청소년 민주주의 축제 \"놀면 뭐하니? 한 번 더 민주!\" 2020,온라인개최,No data\n",
      "강동북페스티벌2020,온라인개최,강일 427-4004, 성내 471-0044, 해공 478-9656, 암사 429-0476, 천호 488-7223\n",
      "강동선사문화축제 2020,온라인개최,02-3425-5245\n",
      "개천절 대제전 2020,서울특별시 종로구 인왕산로 22,02-736-6375\n",
      "건강서울페스티벌 2020,온라인개최,070-7575-2351~2\n",
      "경복궁 별빛야행,서울특별시 종로구 사직로 161,02-3210-4806\n",
      "경복궁 생과방,서울특별시 종로구 사직로 161 경복궁,02-3210-4807, 02-3210-3506\n",
      "경복궁 시식공감,서울특별시 종로구 사직로 161,02-3210-4806\n",
      "경복궁 야간 특별관람,서울특별시 종로구 사직로 161,02-3700-3900~1\n",
      "고궁음악회「고궁의 숲, 무용을 만나다」,서울특별시 종로구 창경궁로 185,02-2270-1132\n",
      "공연관광 온라인 쇼케이스 < K-Performance On Air > 2020,온라인개최,070-4367-0559\n",
      "관광산업 일자리박람회 2020,온라인개최,02-2486-9295~6\n",
      "관악강감찬축제,서울특별시 관악구,02) 828-5763\n",
      "구로G페스티벌 2020,서울특별시 구로구 가마산로 245,02-860-2282\n",
      "구로청소년축제 2021,온라인개최,02-860-2140\n",
      "국립민속박물관 우리민속한마당 2021,서울특별시 종로구 삼청로 37,02-3704-3114\n",
      "국립민속박물관 정월대보름 한마당 2021,서울특별시 종로구 삼청로 37,02-3704-3142, 3127\n",
      "국제차문화대전,서울특별시 강남구 영동대로 513,02-6000-8000\n",
      "궁궐활용 온라인 프로젝트 '궁온' 2020,No data\n",
      "궁디팡팡 캣페스타,서울특별시 서초구 강남대로 27,070-8866-6668\n",
      "궁에서 즐기는 슬기로운 가을나기 2020,서울특별시 종로구 사직로 161,02-3210-4806,4807,3506\n",
      "궁중문화축전,서울특별시 종로구 사직로 161,02-3210-4684\n",
      "난타 (명동),서울특별시 중구 명동길 26,02-739-8288\n",
      "남산골 세시절기 축제 정월대보름 2021,온라인개최,02-2261-0517\n",
      "노 모어 플라스틱(2021 NO MORE PLASTIC),서울특별시 성동구 왕십리로 63,010-4667-0417\n",
      "늘근도둑 이야기,서울특별시 종로구 대학로12길 64,02-3672-0900\n",
      "대학로 거리공연축제,서울특별시 종로구 대학로8길 1,02-741-4188\n",
      "대한민국 국제요리&제과경연대회,서울특별시 서초구 강남대로 27 AT Center 제 2전시장,02-802-7666, 7669\n",
      "대한민국 목재산업 박람회(WOOD FAIR 2021),서울특별시 강남구 영동대로 513,02-6404-0166\n",
      "대한민국 산업기술 R&D대전 2020,온라인개최,042-712-9231\n",
      "대한민국 전통연희축제,서울특별시 서초구 남부순환로 2364,02-580-3274\n",
      "대한민국 청년미술축제,서울특별시 송파구 백제고분로 270,070-7938-5480\n",
      "대한민국무용대상,서울특별시 양천구 목동서로 225,02-744-8066\n",
      "대한민국향토식문화대전(&남북음식문화축제),서울특별시 서초구 강남대로 27,02-511-1540\n",
      "더현대 플로깅,서울특별시 영등포구 여의대로 108,070-7575-2351\n",
      "덕수궁 왕궁수문장교대의식,서울특별시 중구 세종대로 99,다산콜센터 02-120\n",
      "덕수궁 풍류,서울특별시 중구 세종대로 99,02-2270-1244\n",
      "도봉산 페스티벌 2020,온라인개최,070-4153-6392\n",
      "도봉옛길 문화제,서울특별시 도봉구 도봉로 552,02-905-4026\n",
      "도봉한글잔치,서울특별시 도봉구 도봉로 552,02-905-4026\n",
      "롯데월드 호러 할로윈 : The Invitation 2020,서울특별시 송파구 올림픽로 240,1661-2000\n",
      "롯데월드 Lights Up 2020,서울특별시 송파구 올림픽로 240,1661-2000\n",
      "리얼리티 러브 홀림픽,서울특별시 마포구 양화로 161,02-324-9137\n",
      "마켓을 여행하다,서울특별시 중구 장충단로13길 20,02-1661-6925\n",
      "메가쇼 시즌2 2020,서울특별시 강남구 남부순환로 3104,02-6677-3477\n",
      "모두의 전람회 <그럼에도 변하지 않은 것들展> 2020,서울특별시 구로구 구로동 3-33,02-867--2202\n",
      "무역센터 겨울축제 '코엑스 윈터페스티벌' 2020,서울특별시 강남구 영동대로 513,02-6000-0114\n",
      "문학주간 '문학은 더 가깝게' 2020,온라인개최,061-900-2328~9\n",
      "문화로 토닥토닥 \"찾아가는 공연\",온라인개최,찾아가는공연 운영사무국 (02-3443-2695)\n",
      "뮤직드라마 당신만이,서울특별시 종로구 이화장길 26,070-8245-2602\n"
     ]
    }
   ],
   "source": [
    "# 일일이 찾지말고 <item>으로 묵였으니 이걸로 검색해보자. \n",
    "\n",
    "\n",
    "items=bs_obj.findAll(\"item\")\n",
    "\n",
    "# for item in items:\n",
    "#     print(item.find(\"title\").text,end=\",\")\n",
    "#     print(item.find(\"addr1\").text,end=\",\")\n",
    "#     print(item.find(\"tel\"))  # 'NoneType' object has no attribute 'text'  :  text 속성이 없다..---변수가 NOME 인게 있음따라서 예외처리해야됨\n",
    "    \n",
    "    \n",
    "#     # 즉 위의 for문은 조정해야됨.\n",
    "    \n",
    "    \n",
    "for item in items:   \n",
    "    try:\n",
    "        print(item.find(\"title\").text,end=\",\")\n",
    "        print(item.find(\"addr1\").text,end=\",\")\n",
    "        print(item.find(\"tel\").text)\n",
    "        \n",
    "    except:\n",
    "        \n",
    "        print(\"No data\")\n",
    "          "
   ]
  },
  {
   "cell_type": "markdown",
   "id": "cf4b3123",
   "metadata": {},
   "source": [
    "#### 제주도 숙박시설\n",
    "\n"
   ]
  },
  {
   "cell_type": "code",
   "execution_count": 14,
   "id": "13277e95",
   "metadata": {},
   "outputs": [],
   "source": [
    "#URL 구성\n",
    "\n",
    "endpoint='http://api.visitkorea.or.kr/openapi/service/rest/KorService/areaBasedList?'\n",
    "serviceKey=\"rARptoGnShjHuKoFh7xSXKN1gipeKmxXPklgBJkPJVeTa85Ohsdy%2B3X98R4mbEoJTYItkEceG2oDoCW8vs7MQA%3D%3D\""
   ]
  },
  {
   "cell_type": "code",
   "execution_count": 15,
   "id": "5a0c9ce4",
   "metadata": {},
   "outputs": [],
   "source": [
    "#  paramset  구성\n",
    "numOfRows = \"225\"\n",
    "pageNo = \"1\"\n",
    "MobileOS = \"ETC\"\n",
    "MobileApp = \"AppTest\"\n",
    "arrange = \"A\"\n",
    "listYN = \"Y\"\n",
    "areaCode =\"39\"\n",
    "sigunguCode =\"4\"\n",
    "# contentTypeId = #\"15는 행사정보\" #32 번 숙박코드\n",
    "contentTypeId = \"32\"\n"
   ]
  },
  {
   "cell_type": "code",
   "execution_count": 16,
   "id": "2ede18c0",
   "metadata": {},
   "outputs": [],
   "source": [
    "paramset = \"serviceKey=\" + serviceKey +\"&\" \\\n",
    "            + \"numOfRows=\" + numOfRows +\"&\" \\\n",
    "            + \"pageNo=\" + pageNo +\"&\"  \\\n",
    "            + \"MobileOS=\" + MobileOS +\"&\"  \\\n",
    "            + \"MobileApp=\" + MobileApp + \"&\" \\\n",
    "            + \"arrange=\"+ arrange + \"&\" \\\n",
    "            + \"areaCode=\" + areaCode + \"&\"\\\n",
    "            + \"listYN=\" + listYN + \"&\"  \\\n",
    "            + \"contentTypeId=\" + contentTypeId\n"
   ]
  },
  {
   "cell_type": "code",
   "execution_count": 17,
   "id": "535b9592",
   "metadata": {},
   "outputs": [
    {
     "data": {
      "text/plain": [
       "'http://api.visitkorea.or.kr/openapi/service/rest/KorService/areaBasedList?serviceKey=rARptoGnShjHuKoFh7xSXKN1gipeKmxXPklgBJkPJVeTa85Ohsdy%2B3X98R4mbEoJTYItkEceG2oDoCW8vs7MQA%3D%3D&numOfRows=225&pageNo=1&MobileOS=ETC&MobileApp=AppTest&arrange=A&areaCode=39&listYN=Y&contentTypeId=32'"
      ]
     },
     "execution_count": 17,
     "metadata": {},
     "output_type": "execute_result"
    }
   ],
   "source": [
    "url=endpoint+paramset\n",
    "url"
   ]
  },
  {
   "cell_type": "code",
   "execution_count": 18,
   "id": "ec430137",
   "metadata": {},
   "outputs": [],
   "source": [
    "result=requests.get(url)  #api 서비스 호출\n",
    "bs_obj=BeautifulSoup(result.content,\"html.parser\")"
   ]
  },
  {
   "cell_type": "code",
   "execution_count": 19,
   "id": "442ea213",
   "metadata": {},
   "outputs": [
    {
     "data": {
      "text/plain": [
       "<?xml version=\"1.0\" encoding=\"UTF-8\" standalone=\"yes\"?><response><header><resultcode>0000</resultcode><resultmsg>OK</resultmsg></header><body><items><item><addr1>제주특별자치도 서귀포시 법환하로9번길 10</addr1><addr2>(법환동)</addr2><areacode>39</areacode><cat1>B02</cat1><cat2>B0201</cat2><cat3>B02010700</cat3><contentid>1896032</contentid><contenttypeid>32</contenttypeid><createdtime>20140218153733</createdtime><mapx>126.5123383804</mapx><mapy>33.2365870334</mapy><mlevel>6</mlevel><modifiedtime>20200907174539</modifiedtime><readcount>6701</readcount><sigungucode>3</sigungucode><tel>064-739-4499</tel><title>가름게스트하우스</title><zipcode>63573</zipcode></item><item><addr1>제주특별자치도 서귀포시 성산읍 일주동로 5464</addr1><areacode>39</areacode><cat1>B02</cat1><cat2>B0201</cat2><cat3>B02010700</cat3><contentid>1832696</contentid><contenttypeid>32</contenttypeid><createdtime>20130801094737</createdtime><mapx>126.8578558136</mapx><mapy>33.3531185797</mapy><mlevel>6</mlevel><modifiedtime>20200911104013</modifiedtime><readcount>5837</readcount><sigungucode>3</sigungucode><tel>064-787-1060</tel><title>고망난돌민박</title><zipcode>63637</zipcode></item><item><addr1>제주특별자치도 제주시 도령로 190</addr1><areacode>39</areacode><cat1>B02</cat1><cat2>B0201</cat2><cat3>B02010700</cat3><contentid>1868498</contentid><contenttypeid>32</contenttypeid><createdtime>20131209110511</createdtime><mapx>126.4952395587</mapx><mapy>33.4967219017</mapy><mlevel>6</mlevel><modifiedtime>20200325181558</modifiedtime><readcount>4977</readcount><sigungucode>4</sigungucode><tel>064-782-2434&lt;br /&gt;010-6283-2434</tel><title>고추잠자리</title><zipcode>63117</zipcode></item><item><addr1>제주특별자치도 제주시 산록북로 819</addr1><addr2>(아라일동)</addr2><areacode>39</areacode><cat1>B02</cat1><cat2>B0201</cat2><cat3>B02010700</cat3><contentid>2486105</contentid><contenttypeid>32</contenttypeid><createdtime>20170320165505</createdtime><firstimage>http://tong.visitkorea.or.kr/cms/resource/96/2486096_image2_1.JPG</firstimage><firstimage2>http://tong.visitkorea.or.kr/cms/resource/96/2486096_image2_1.JPG</firstimage2><mapx>126.5544690871</mapx><mapy>33.4375488373</mapy><mlevel>6</mlevel><modifiedtime>20200904160245</modifiedtime><readcount>1964</readcount><sigungucode>4</sigungucode><tel>064-724-9931</tel><title>관음사가는길펜션</title><zipcode>63244</zipcode></item><item><addr1>제주특별자치도 서귀포시 성산읍 신천서로 11</addr1><areacode>39</areacode><cat1>B02</cat1><cat2>B0201</cat2><cat3>B02010700</cat3><contentid>138494</contentid><contenttypeid>32</contenttypeid><createdtime>20050325000000</createdtime><firstimage>http://tong.visitkorea.or.kr/cms/resource/68/1933168_image2_1.jpg</firstimage><firstimage2>http://tong.visitkorea.or.kr/cms/resource/68/1933168_image3_1.jpg</firstimage2><mapx>126.8501205782</mapx><mapy>33.3441111157</mapy><mlevel>6</mlevel><modifiedtime>20201110101524</modifiedtime><readcount>20183</readcount><sigungucode>3</sigungucode><tel>064-787-0543</tel><title>귤익는마을</title><zipcode>63637</zipcode></item><item><addr1>제주특별자치도 서귀포시 천제연로 51</addr1><areacode>39</areacode><cat1>B02</cat1><cat2>B0201</cat2><cat3>B02010700</cat3><contentid>733624</contentid><contenttypeid>32</contenttypeid><createdtime>20090513145331</createdtime><firstimage>http://tong.visitkorea.or.kr/cms/resource/20/729020_image2_1.jpg</firstimage><firstimage2>http://tong.visitkorea.or.kr/cms/resource/20/729020_image3_1.jpg</firstimage2><mapx>126.4112578120</mapx><mapy>33.2564693550</mapy><mlevel>6</mlevel><modifiedtime>20200423162623</modifiedtime><readcount>16211</readcount><sigungucode>3</sigungucode><tel>064-738-0074</tel><title>그린사이드</title><zipcode>63534</zipcode></item><item><addr1>제주특별자치도 제주시 서해안로 620-1</addr1><addr2>(용담삼동)</addr2><areacode>39</areacode><cat1>B02</cat1><cat2>B0201</cat2><cat3>B02010700</cat3><contentid>138597</contentid><contenttypeid>32</contenttypeid><createdtime>20060619000000</createdtime><firstimage>http://tong.visitkorea.or.kr/cms/resource/76/1933276_image2_1.jpg</firstimage><firstimage2>http://tong.visitkorea.or.kr/cms/resource/76/1933276_image3_1.jpg</firstimage2><mapx>126.5034939547</mapx><mapy>33.5162143194</mapy><mlevel>6</mlevel><modifiedtime>20210127113600</modifiedtime><readcount>22091</readcount><sigungucode>4</sigungucode><tel>064-742-2080</tel><title>그림리조트</title><zipcode>63150</zipcode></item><item><addr1>제주특별자치도 서귀포시 남원읍 태위로 522-12</addr1><areacode>39</areacode><cat1>B02</cat1><cat2>B0201</cat2><cat3>B02010500</cat3><contentid>138185</contentid><contenttypeid>32</contenttypeid><createdtime>20040615000000</createdtime><firstimage>http://tong.visitkorea.or.kr/cms/resource/38/1619938_image2_1.jpg</firstimage><firstimage2>http://tong.visitkorea.or.kr/cms/resource/38/1619938_image3_1.jpg</firstimage2><mapx>126.7028238197</mapx><mapy>33.2737526275</mapy><mlevel>6</mlevel><modifiedtime>20200709131542</modifiedtime><readcount>30820</readcount><sigungucode>3</sigungucode><tel>064-766-8000</tel><title>금호리조트 제주</title><zipcode>63620</zipcode></item><item><addr1>제주특별자치도 제주시 애월읍 신엄9길 50</addr1><areacode>39</areacode><cat1>B02</cat1><cat2>B0201</cat2><cat3>B02010700</cat3><contentid>735314</contentid><contenttypeid>32</contenttypeid><createdtime>20090515124514</createdtime><firstimage>http://tong.visitkorea.or.kr/cms/resource/31/733831_image2_1.jpg</firstimage><firstimage2>http://tong.visitkorea.or.kr/cms/resource/31/733831_image3_1.jpg</firstimage2><mapx>126.3671844993</mapx><mapy>33.4758888442</mapy><mlevel>6</mlevel><modifiedtime>20200731132958</modifiedtime><readcount>17150</readcount><sigungucode>4</sigungucode><tel>064-799-7996</tel><title>까델아스 리조트</title><zipcode>63047</zipcode></item><item><addr1>제주특별자치도 서귀포시 안덕면 향교로 214</addr1><areacode>39</areacode><cat1>B02</cat1><cat2>B0201</cat2><cat3>B02011100</cat3><contentid>2627931</contentid><contenttypeid>32</contenttypeid><createdtime>20191021133605</createdtime><mapx>126.2905187855</mapx><mapy>33.2341421463</mapy><modifiedtime>20201214092203</modifiedtime><readcount>0</readcount><sigungucode>3</sigungucode><title>까사 데 비발디</title><zipcode>63528</zipcode></item><item><addr1>제주특별자치도 제주시 구좌읍 일주동로 1724</addr1><areacode>39</areacode><cat1>B02</cat1><cat2>B0201</cat2><cat3>B02010400</cat3><contentid>735781</contentid><contenttypeid>32</contenttypeid><createdtime>20090518110217</createdtime><mapx>126.7168773670</mapx><mapy>33.5521887531</mapy><mlevel>6</mlevel><modifiedtime>20200203150336</modifiedtime><readcount>24925</readcount><sigungucode>4</sigungucode><tel>064-782-0800</tel><title>꼬뜨도르 호텔</title><zipcode>63347</zipcode></item><item><addr1>제주특별자치도 서귀포시 선반로 54</addr1><addr2>(강정동)</addr2><areacode>39</areacode><cat1>B02</cat1><cat2>B0201</cat2><cat3>B02010900</cat3><contentid>2528102</contentid><contenttypeid>32</contenttypeid><createdtime>20180103112552</createdtime><firstimage>http://tong.visitkorea.or.kr/cms/resource/41/2528541_image2_1.jpg</firstimage><firstimage2>http://tong.visitkorea.or.kr/cms/resource/41/2528541_image3_1.jpg</firstimage2><mapx>126.4996115916</mapx><mapy>33.2416779376</mapy><mlevel>6</mlevel><modifiedtime>20201127103225</modifiedtime><readcount>951</readcount><sigungucode>3</sigungucode><tel>010-4574-4459</tel><title>꿈꾸는 노마드 [한국관광 품질인증/Korea Quality]</title><zipcode>63560</zipcode></item><item><addr1>제주특별자치도 서귀포시 토평로148번길 28</addr1><addr2>(토평동)</addr2><areacode>39</areacode><cat1>B02</cat1><cat2>B0201</cat2><cat3>B02010700</cat3><contentid>1891015</contentid><contenttypeid>32</contenttypeid><createdtime>20140204165945</createdtime><firstimage>http://tong.visitkorea.or.kr/cms/resource/44/2480944_image2_1.jpg</firstimage><firstimage2>http://tong.visitkorea.or.kr/cms/resource/44/2480944_image2_1.jpg</firstimage2><mapx>126.5914111187</mapx><mapy>33.2795057737</mapy><mlevel>6</mlevel><modifiedtime>20200908160223</modifiedtime><readcount>4861</readcount><sigungucode>3</sigungucode><tel>064-733-3399</tel><title>끄라비 펜션</title><zipcode>63603</zipcode></item><item><addr1>제주특별자치도 제주시 애월읍 평화로 2476</addr1><areacode>39</areacode><cat1>B02</cat1><cat2>B0201</cat2><cat3>B02010700</cat3><contentid>1869305</contentid><contenttypeid>32</contenttypeid><createdtime>20131210143833</createdtime><firstimage>http://tong.visitkorea.or.kr/cms/resource/15/2560115_image2_1.jpg</firstimage><firstimage2>http://tong.visitkorea.or.kr/cms/resource/15/2560115_image2_1.jpg</firstimage2><mapx>126.4177200197</mapx><mapy>33.4303252424</mapy><mlevel>6</mlevel><modifiedtime>20200908173142</modifiedtime><readcount>5128</readcount><sigungucode>4</sigungucode><tel>010-8307-0531</tel><title>나.미.송</title><zipcode>63065</zipcode></item><item><addr1>제주특별자치도 제주시 논세길 96-38</addr1><addr2>(내도동)</addr2><areacode>39</areacode><cat1>B02</cat1><cat2>B0201</cat2><cat3>B02011100</cat3><contentid>2626055</contentid><contenttypeid>32</contenttypeid><createdtime>20191016165408</createdtime><mapx>126.4423833539</mapx><mapy>33.4830031363</mapy><modifiedtime>20201214103302</modifiedtime><readcount>0</readcount><sigungucode>4</sigungucode><title>나이스호텔</title><zipcode>63074</zipcode></item><item><addr1>제주특별자치도 서귀포시 안덕면 광평로 34-156</addr1><areacode>39</areacode><cat1>B02</cat1><cat2>B0201</cat2><cat3>B02010500</cat3><contentid>138365</contentid><contenttypeid>32</contenttypeid><createdtime>20041202000000</createdtime><mapx>126.4042620974</mapx><mapy>33.3404016406</mapy><mlevel>6</mlevel><modifiedtime>20210210132751</modifiedtime><readcount>33333</readcount><sigungucode>3</sigungucode><tel>064-793-9999</tel><title>나인브릿지콘도</title><zipcode>63524</zipcode></item><item><addr1>제주특별자치도 제주시 애월읍 하광로 518</addr1><areacode>39</areacode><cat1>B02</cat1><cat2>B0201</cat2><cat3>B02010900</cat3><contentid>2498670</contentid><contenttypeid>32</contenttypeid><createdtime>20170703170633</createdtime><firstimage>http://tong.visitkorea.or.kr/cms/resource/43/2498643_image2_1.jpg</firstimage><firstimage2>http://tong.visitkorea.or.kr/cms/resource/43/2498643_image2_1.jpg</firstimage2><mapx>126.4301213796</mapx><mapy>33.4453932160</mapy><mlevel>6</mlevel><modifiedtime>20210428100117</modifiedtime><readcount>1938</readcount><sigungucode>4</sigungucode><tel>064-727-1000</tel><title>나인스파빌</title><zipcode>63062</zipcode></item><item><addr1>제주특별자치도 서귀포시 하신상로 216</addr1><addr2>(상효동)</addr2><areacode>39</areacode><cat1>B02</cat1><cat2>B0201</cat2><cat3>B02010700</cat3><contentid>2622754</contentid><contenttypeid>32</contenttypeid><createdtime>20191004094218</createdtime><mapx>126.6066709829</mapx><mapy>33.2761619410</mapy><modifiedtime>20200331110718</modifiedtime><readcount>0</readcount><sigungucode>3</sigungucode><tel>064-733-8869</tel><title>남극노인성(남극노인성 전통한옥 휴양펜션)</title><zipcode>63602</zipcode></item><item><addr1>제주특별자치도 서귀포시 대정읍 노을해안로 416</addr1><areacode>39</areacode><cat1>B02</cat1><cat2>B0201</cat2><cat3>B02010700</cat3><contentid>1897905</contentid><contenttypeid>32</contenttypeid><createdtime>20140221105800</createdtime><mapx>126.1903769911</mapx><mapy>33.2562936895</mapy><mlevel>6</mlevel><modifiedtime>20200907174039</modifiedtime><readcount>4698</readcount><sigungucode>3</sigungucode><tel>010-5258-4993</tel><title>노을담은뜨락</title><zipcode>63501</zipcode></item><item><addr1>제주특별자치도 서귀포시 남원읍 남태해안로 11-12</addr1><areacode>39</areacode><cat1>B02</cat1><cat2>B0201</cat2><cat3>B02010700</cat3><contentid>733414</contentid><contenttypeid>32</contenttypeid><createdtime>20090513124712</createdtime><firstimage>http://tong.visitkorea.or.kr/cms/resource/42/729042_image2_1.jpg</firstimage><firstimage2>http://tong.visitkorea.or.kr/cms/resource/42/729042_image3_1.jpg</firstimage2><mapx>126.7099759487</mapx><mapy>33.2750803732</mapy><mlevel>6</mlevel><modifiedtime>20200827151750</modifiedtime><readcount>23218</readcount><sigungucode>3</sigungucode><tel>064-764-9966</tel><title>노인과바다 펜션</title><zipcode>63621</zipcode></item><item><addr1>제주특별자치도 제주시 연동6길 17</addr1><areacode>39</areacode><cat1>B02</cat1><cat2>B0201</cat2><cat3>B02010100</cat3><contentid>142945</contentid><contenttypeid>32</contenttypeid><createdtime>20030807000000</createdtime><firstimage>http://tong.visitkorea.or.kr/cms/resource/02/1933302_image2_1.jpg</firstimage><firstimage2>http://tong.visitkorea.or.kr/cms/resource/02/1933302_image3_1.jpg</firstimage2><mapx>126.4894292343</mapx><mapy>33.4843148499</mapy><mlevel>6</mlevel><modifiedtime>20200122155637</modifiedtime><readcount>22503</readcount><sigungucode>4</sigungucode><tel>064-712-1300</tel><title>뉴아일랜드 관광호텔</title><zipcode>63132</zipcode></item><item><addr1>제주특별자치도 서귀포시 이어도로343번길 63</addr1><areacode>39</areacode><cat1>B02</cat1><cat2>B0201</cat2><cat3>B02010700</cat3><contentid>719643</contentid><contenttypeid>32</contenttypeid><createdtime>20090413143924</createdtime><firstimage>http://tong.visitkorea.or.kr/cms/resource/84/1341384_image2_1.jpg</firstimage><firstimage2>http://tong.visitkorea.or.kr/cms/resource/84/1341384_image3_1.jpg</firstimage2><mapx>126.4515573305</mapx><mapy>33.2458850471</mapy><mlevel>6</mlevel><modifiedtime>20201229173247</modifiedtime><readcount>21638</readcount><sigungucode>3</sigungucode><tel>064-739-6617</tel><title>담앤루리조트</title><zipcode>63543</zipcode></item><item><addr1>제주특별자치도 서귀포시 법환상로2번길 97-17</addr1><addr2>(법환동)</addr2><areacode>39</areacode><cat1>B02</cat1><cat2>B0201</cat2><cat3>B02010900</cat3><contentid>2531355</contentid><contenttypeid>32</contenttypeid><createdtime>20180112102035</createdtime><firstimage>http://tong.visitkorea.or.kr/cms/resource/84/2529184_image2_1.jpg</firstimage><firstimage2>http://tong.visitkorea.or.kr/cms/resource/84/2529184_image3_1.jpg</firstimage2><mapx>126.5120659485</mapx><mapy>33.2470053246</mapy><mlevel>6</mlevel><modifiedtime>20201127170413</modifiedtime><readcount>898</readcount><sigungucode>3</sigungucode><tel>064-739-9966</tel><title>더 세리 호스텔 [한국관광 품질인증/Korea Quality]</title><zipcode>63572</zipcode></item><item><addr1>제주특별자치도 제주시 애월읍 상가북2길 14-3</addr1><areacode>39</areacode><cat1>B02</cat1><cat2>B0201</cat2><cat3>B02010700</cat3><contentid>2406368</contentid><contenttypeid>32</contenttypeid><createdtime>20160830103345</createdtime><mapx>126.3414706408</mapx><mapy>33.4504856947</mapy><mlevel>6</mlevel><modifiedtime>20200904162447</modifiedtime><readcount>3089</readcount><sigungucode>4</sigungucode><tel>010-2667-4735</tel><title>더럭펜션</title><zipcode>63036</zipcode></item><item><addr1>제주특별자치도 서귀포시 일주동로 8215</addr1><addr2>(신효동)</addr2><areacode>39</areacode><cat1>B02</cat1><cat2>B0201</cat2><cat3>B02010700</cat3><contentid>2622935</contentid><contenttypeid>32</contenttypeid><createdtime>20191004150426</createdtime><mapx>126.6095210938</mapx><mapy>33.2602804051</mapy><modifiedtime>20200331110026</modifiedtime><readcount>0</readcount><sigungucode>3</sigungucode><tel>010-7565-3309</tel><title>도라미 휴양펜션(도라미 관광 휴양펜션)</title><zipcode>63600</zipcode></item><item><addr1>제주특별자치도 서귀포시 돈내코로 180</addr1><addr2>(상효동)</addr2><areacode>39</areacode><cat1>B02</cat1><cat2>B0201</cat2><cat3>B02011100</cat3><contentid>2621853</contentid><contenttypeid>32</contenttypeid><createdtime>20190930133222</createdtime><mapx>126.5785144865</mapx><mapy>33.3029335392</mapy><modifiedtime>20200813095826</modifiedtime><readcount>0</readcount><sigungucode>3</sigungucode><tel>010-7277-1439</tel><title>돈내코힐 리조트</title><zipcode>63582</zipcode></item><item><addr1>제주특별자치도 제주시 구좌읍 월정1길 89</addr1><areacode>39</areacode><cat1>B02</cat1><cat2>B0201</cat2><cat3>B02010700</cat3><contentid>2358196</contentid><contenttypeid>32</contenttypeid><createdtime>20160104101726</createdtime><firstimage>http://tong.visitkorea.or.kr/cms/resource/88/2358188_image2_1.JPG</firstimage><firstimage2>http://tong.visitkorea.or.kr/cms/resource/88/2358188_image2_1.JPG</firstimage2><mapx>126.7927872971</mapx><mapy>33.5584753917</mapy><mlevel>6</mlevel><modifiedtime>20200904171042</modifiedtime><readcount>4000</readcount><sigungucode>4</sigungucode><tel>010-3697-4191</tel><title>동박생이</title><zipcode>63358</zipcode></item><item><addr1>제주특별자치도 서귀포시 솔동산로10번길 45</addr1><addr2>(서귀동)</addr2><areacode>39</areacode><cat1>B02</cat1><cat2>B0201</cat2><cat3>B02011100</cat3><contentid>2623021</contentid><contenttypeid>32</contenttypeid><createdtime>20191004172020</createdtime><mapx>126.5625978184</mapx><mapy>33.2408568031</mapy><modifiedtime>20200331140634</modifiedtime><readcount>0</readcount><sigungucode>3</sigungucode><tel>010-3199-6189</tel><title>동원호스텔(서귀포 동원호텔)</title><zipcode>63596</zipcode></item><item><addr1>제주특별자치도 서귀포시 남원읍 남태해안로 364</addr1><areacode>39</areacode><cat1>B02</cat1><cat2>B0201</cat2><cat3>B02010700</cat3><contentid>1905304</contentid><contenttypeid>32</contenttypeid><createdtime>20140313180317</createdtime><mapx>126.7404954013</mapx><mapy>33.2806608011</mapy><mlevel>6</mlevel><modifiedtime>20200207094048</modifiedtime><readcount>3293</readcount><sigungucode>3</sigungucode><tel>064-764-0871</tel><title>드림캐슬</title><zipcode>63617</zipcode></item><item><addr1>제주특별자치도 제주시 탑동로 66</addr1><areacode>39</areacode><cat1>B02</cat1><cat2>B0201</cat2><cat3>B02010100</cat3><contentid>143088</contentid><contenttypeid>32</contenttypeid><createdtime>20040227000000</createdtime><mapx>126.5181509540</mapx><mapy>33.5188364854</mapy><mlevel>6</mlevel><modifiedtime>20210409165730</modifiedtime><readcount>39110</readcount><sigungucode>4</sigungucode><tel>064-729-8100</tel><title>라마다프라자 제주호텔</title><zipcode>63165</zipcode></item><item><addr1>제주특별자치도 서귀포시 성산읍 일주동로 5199</addr1><areacode>39</areacode><cat1>B02</cat1><cat2>B0201</cat2><cat3>B02010500</cat3><contentid>664083</contentid><contenttypeid>32</contenttypeid><createdtime>20081209091823</createdtime><firstimage>http://tong.visitkorea.or.kr/cms/resource/27/1933327_image2_1.jpg</firstimage><firstimage2>http://tong.visitkorea.or.kr/cms/resource/27/1933327_image3_1.jpg</firstimage2><mapx>126.8727651671</mapx><mapy>33.3735137915</mapy><mlevel>6</mlevel><modifiedtime>20210628162256</modifiedtime><readcount>24164</readcount><sigungucode>3</sigungucode><tel>064-784-6027</tel><title>라사니아캐슬</title><zipcode>63634</zipcode></item><item><addr1>제주특별자치도 서귀포시 선반로65번길 69</addr1><areacode>39</areacode><cat1>B02</cat1><cat2>B0201</cat2><cat3>B02010100</cat3><contentid>2445116</contentid><contenttypeid>32</contenttypeid><createdtime>20161202142700</createdtime><firstimage>http://tong.visitkorea.or.kr/cms/resource/71/2445071_image2_1.jpg</firstimage><firstimage2>http://tong.visitkorea.or.kr/cms/resource/71/2445071_image2_1.jpg</firstimage2><mapx>126.4962675388</mapx><mapy>33.2371256091</mapy><mlevel>6</mlevel><modifiedtime>20200414153716</modifiedtime><readcount>2015</readcount><sigungucode>3</sigungucode><tel>064-738-7575</tel><title>라오체리조트</title><zipcode>63564</zipcode></item><item><addr1>제주특별자치도 제주시 한림읍 금능남로 127</addr1><areacode>39</areacode><cat1>B02</cat1><cat2>B0201</cat2><cat3>B02010500</cat3><contentid>984611</contentid><contenttypeid>32</contenttypeid><createdtime>20100324130906</createdtime><mapx>126.2396171942</mapx><mapy>33.3797058151</mapy><mlevel>6</mlevel><modifiedtime>20200421145956</modifiedtime><readcount>24628</readcount><sigungucode>4</sigungucode><tel>064-795-3333, 3000</tel><title>라온호텔 앤 리조트</title><zipcode>63015</zipcode></item><item><addr1>제주특별자치도 서귀포시 안덕면 사계남로50번길 60</addr1><areacode>39</areacode><cat1>B02</cat1><cat2>B0201</cat2><cat3>B02010700</cat3><contentid>137826</contentid><contenttypeid>32</contenttypeid><createdtime>20030620000000</createdtime><firstimage>http://tong.visitkorea.or.kr/cms/resource/49/1933549_image2_1.jpg</firstimage><firstimage2>http://tong.visitkorea.or.kr/cms/resource/49/1933549_image3_1.jpg</firstimage2><mapx>126.2926827266</mapx><mapy>33.2232794901</mapy><mlevel>6</mlevel><modifiedtime>20201111162839</modifiedtime><readcount>23318</readcount><sigungucode>3</sigungucode><tel>064-792-5670</tel><title>라운지하우스 제주다</title><zipcode>63528</zipcode></item><item><addr1>제주특별자치도 제주시 명림로 384</addr1><areacode>39</areacode><cat1>B02</cat1><cat2>B0201</cat2><cat3>B02010500</cat3><contentid>935073</contentid><contenttypeid>32</contenttypeid><createdtime>20100122100546</createdtime><firstimage>http://tong.visitkorea.or.kr/cms/resource/97/1994497_image2_1.jpg</firstimage><firstimage2>http://tong.visitkorea.or.kr/cms/resource/97/1994497_image2_1.jpg</firstimage2><mapx>126.6152468084</mapx><mapy>33.4522815110</mapy><mlevel>6</mlevel><modifiedtime>20200527092441</modifiedtime><readcount>22036</readcount><sigungucode>4</sigungucode><tel>064-754-9000</tel><title>라헨느리조트</title><zipcode>63313</zipcode></item><item><addr1>제주특별자치도 서귀포시 안덕면 신화역사로304번길 38</addr1><areacode>39</areacode><cat1>B02</cat1><cat2>B0201</cat2><cat3>B02010100</cat3><contentid>2561880</contentid><contenttypeid>32</contenttypeid><createdtime>20181002140450</createdtime><firstimage>http://tong.visitkorea.or.kr/cms/resource/61/2561861_image2_1.jpg</firstimage><firstimage2>http://tong.visitkorea.or.kr/cms/resource/61/2561861_image2_1.jpg</firstimage2><mapx>126.3163621886</mapx><mapy>33.3050013908</mapy><mlevel>6</mlevel><modifiedtime>20200225112534</modifiedtime><readcount>1048</readcount><sigungucode>3</sigungucode><tel>1670-8800</tel><title>랜딩관 제주신화월드 호텔 앤 리조트</title><zipcode>63522</zipcode></item><item><addr1>제주특별자치도 서귀포시 존제로 24</addr1><addr2>(상예동)</addr2><areacode>39</areacode><cat1>B02</cat1><cat2>B0201</cat2><cat3>B02010500</cat3><contentid>938689</contentid><contenttypeid>32</contenttypeid><createdtime>20100126101107</createdtime><firstimage>http://tong.visitkorea.or.kr/cms/resource/03/1340003_image2_1.jpg</firstimage><firstimage2>http://tong.visitkorea.or.kr/cms/resource/03/1340003_image3_1.jpg</firstimage2><mapx>126.3769688738</mapx><mapy>33.2675148177</mapy><mlevel>6</mlevel><modifiedtime>20210622175957</modifiedtime><readcount>23945</readcount><sigungucode>3</sigungucode><tel>064-738-8778</tel><title>레이크힐스 제주리조트</title><zipcode>63534</zipcode></item><item><addr1>제주특별자치도 제주시 도령로 83</addr1><areacode>39</areacode><cat1>B02</cat1><cat2>B0201</cat2><cat3>B02010100</cat3><contentid>2046954</contentid><contenttypeid>32</contenttypeid><createdtime>20151208092525</createdtime><firstimage>http://tong.visitkorea.or.kr/cms/resource/11/2046911_image2_1.jpg</firstimage><firstimage2>http://tong.visitkorea.or.kr/cms/resource/11/2046911_image2_1.jpg</firstimage2><mapx>126.4865515629</mapx><mapy>33.4906557686</mapy><mlevel>6</mlevel><modifiedtime>20210426180734</modifiedtime><readcount>3791</readcount><sigungucode>4</sigungucode><tel>064-730-1000</tel><title>롯데시티호텔 제주</title><zipcode>63127</zipcode></item><item><addr1>제주특별자치도 서귀포시 중문관광로72번길 35</addr1><addr2>(색달동)</addr2><areacode>39</areacode><cat1>B02</cat1><cat2>B0201</cat2><cat3>B02010100</cat3><contentid>143025</contentid><contenttypeid>32</contenttypeid><createdtime>20030807000000</createdtime><mapx>126.4105247144</mapx><mapy>33.2487146442</mapy><mlevel>6</mlevel><modifiedtime>20200911133055</modifiedtime><readcount>38034</readcount><sigungucode>3</sigungucode><tel>064-731-1000</tel><title>롯데호텔 제주</title><zipcode>63535</zipcode></item><item><addr1>제주특별자치도 서귀포시 남원읍 남태해안로 11-16</addr1><areacode>39</areacode><cat1>B02</cat1><cat2>B0201</cat2><cat3>B02010700</cat3><contentid>733422</contentid><contenttypeid>32</contenttypeid><createdtime>20090513130120</createdtime><firstimage>http://tong.visitkorea.or.kr/cms/resource/59/729059_image2_1.jpg</firstimage><firstimage2>http://tong.visitkorea.or.kr/cms/resource/59/729059_image3_1.jpg</firstimage2><mapx>126.7107425414</mapx><mapy>33.2753942395</mapy><mlevel>6</mlevel><modifiedtime>20210603140610</modifiedtime><readcount>19197</readcount><sigungucode>3</sigungucode><tel>064-764-9944</tel><title>롱비치펜션</title><zipcode>63621</zipcode></item><item><addr1>제주특별자치도 서귀포시 안덕면 산록남로 786</addr1><areacode>39</areacode><cat1>B02</cat1><cat2>B0201</cat2><cat3>B02010500</cat3><contentid>2007416</contentid><contenttypeid>32</contenttypeid><createdtime>20150603094905</createdtime><firstimage>http://tong.visitkorea.or.kr/cms/resource/90/2007390_image2_1.jpg</firstimage><firstimage2>http://tong.visitkorea.or.kr/cms/resource/90/2007390_image2_1.jpg</firstimage2><mapx>126.3851808798</mapx><mapy>33.3199036043</mapy><mlevel>6</mlevel><modifiedtime>20200205173943</modifiedtime><readcount>14736</readcount><sigungucode>3</sigungucode><tel>064-805-0114</tel><title>루체빌리조트</title><zipcode>63525</zipcode></item><item><addr1>제주특별자치도 제주시 애월읍 곽지1길 23</addr1><areacode>39</areacode><cat1>B02</cat1><cat2>B0201</cat2><cat3>B02011500</cat3><contentid>139860</contentid><contenttypeid>32</contenttypeid><createdtime>20070801000000</createdtime><firstimage>http://tong.visitkorea.or.kr/cms/resource/53/561753_image2_1.jpg</firstimage><firstimage2>http://tong.visitkorea.or.kr/cms/resource/53/561753_image3_1.jpg</firstimage2><mapx>126.3039933937</mapx><mapy>33.4483325642</mapy><mlevel>6</mlevel><modifiedtime>20210125170440</modifiedtime><readcount>23813</readcount><sigungucode>4</sigungucode><tel>064-799-2345</tel><title>마레보 비치호텔</title><zipcode>63034</zipcode></item><item><addr1>제주특별자치도 제주시 조천읍 남조로 2528</addr1><areacode>39</areacode><cat1>B02</cat1><cat2>B0201</cat2><cat3>B02010700</cat3><contentid>2622731</contentid><contenttypeid>32</contenttypeid><createdtime>20191004091043</createdtime><mapx>126.6503651599</mapx><mapy>33.4883503052</mapy><modifiedtime>20200331105651</modifiedtime><readcount>0</readcount><sigungucode>4</sigungucode><tel>010-9300-3363</tel><title>먼나머루휴양펜션(제주편백한옥펜션 먼나머루)</title><zipcode>63344</zipcode></item><item><addr1>제주특별자치도 서귀포시 안덕면 신화역사로304번길 38</addr1><areacode>39</areacode><cat1>B02</cat1><cat2>B0201</cat2><cat3>B02010100</cat3><contentid>2561909</contentid><contenttypeid>32</contenttypeid><createdtime>20181002150018</createdtime><firstimage>http://tong.visitkorea.or.kr/cms/resource/03/2561903_image2_1.jpg</firstimage><firstimage2>http://tong.visitkorea.or.kr/cms/resource/03/2561903_image2_1.jpg</firstimage2><mapx>126.3163621886</mapx><mapy>33.3050013908</mapy><mlevel>6</mlevel><modifiedtime>20210216160550</modifiedtime><readcount>1123</readcount><sigungucode>3</sigungucode><tel>1670-8800</tel><title>메리어트관 제주신화월드 호텔 앤 리조트</title><zipcode>63522</zipcode></item><item><addr1>제주특별자치도 서귀포시 염돈로 95</addr1><areacode>39</areacode><cat1>B02</cat1><cat2>B0201</cat2><cat3>B02010700</cat3><contentid>1566985</contentid><contenttypeid>32</contenttypeid><createdtime>20120313151135</createdtime><mapx>126.4916452683</mapx><mapy>33.2571872111</mapy><mlevel>6</mlevel><modifiedtime>20200211143047</modifiedtime><readcount>19814</readcount><sigungucode>3</sigungucode><tel>064-738-8933</tel><title>메모리 인 제주</title><zipcode>63558</zipcode></item><item><addr1>제주특별자치도 제주시 노연로 80</addr1><areacode>39</areacode><cat1>B02</cat1><cat2>B0201</cat2><cat3>B02010100</cat3><contentid>142957</contentid><contenttypeid>32</contenttypeid><createdtime>20030310000000</createdtime><firstimage>http://tong.visitkorea.or.kr/cms/resource/59/2476659_image2_1.jpg</firstimage><firstimage2>http://tong.visitkorea.or.kr/cms/resource/59/2476659_image2_1.jpg</firstimage2><mapx>126.4889153601</mapx><mapy>33.4856341402</mapy><mlevel>6</mlevel><modifiedtime>20210604105455</modifiedtime><readcount>37543</readcount><sigungucode>4</sigungucode><title>메종글래드 제주</title><zipcode>63132</zipcode></item><item><addr1>제주특별자치도 서귀포시 성산읍 중산간동로 4204-14</addr1><areacode>39</areacode><cat1>B02</cat1><cat2>B0201</cat2><cat3>B02010700</cat3><contentid>2000893</contentid><contenttypeid>32</contenttypeid><createdtime>20150504100028</createdtime><firstimage>http://tong.visitkorea.or.kr/cms/resource/41/2417641_image2_1.JPG</firstimage><firstimage2>http://tong.visitkorea.or.kr/cms/resource/41/2417641_image2_1.JPG</firstimage2><mapx>126.8408705836</mapx><mapy>33.3789265694</mapy><mlevel>6</mlevel><modifiedtime>20200904174019</modifiedtime><readcount>8079</readcount><sigungucode>3</sigungucode><tel>010-8566-1037</tel><title>물고기나무 게스트하우스</title><zipcode>63635</zipcode></item><item><addr1>제주특별자치도 서귀포시 성산읍 성산등용로 1</addr1><areacode>39</areacode><cat1>B02</cat1><cat2>B0201</cat2><cat3>B02010900</cat3><contentid>1905521</contentid><contenttypeid>32</contenttypeid><createdtime>20140314154928</createdtime><mapx>126.9336078135</mapx><mapy>33.4641769864</mapy><mlevel>6</mlevel><modifiedtime>20200907172711</modifiedtime><readcount>5043</readcount><sigungucode>3</sigungucode><tel>064-782-0820</tel><title>미도모텔</title><zipcode>63643</zipcode></item><item><addr1>제주특별자치도 제주시 한림읍 협재1길 9</addr1><areacode>39</areacode><cat1>B02</cat1><cat2>B0201</cat2><cat3>B02010700</cat3><contentid>1870515</contentid><contenttypeid>32</contenttypeid><createdtime>20131025000040</createdtime><mapx>126.2423526949</mapx><mapy>33.3964151201</mapy><mlevel>6</mlevel><modifiedtime>20200325180946</modifiedtime><readcount>10034</readcount><sigungucode>4</sigungucode><tel>064-796-3640</tel><title>민박하얀집</title><zipcode>63011</zipcode></item><item><addr1>제주특별자치도 서귀포시 솔동산로10번길 2</addr1><addr2>(서귀동)</addr2><areacode>39</areacode><cat1>B02</cat1><cat2>B0201</cat2><cat3>B02010900</cat3><contentid>1905562</contentid><contenttypeid>32</contenttypeid><createdtime>20140314165125</createdtime><mapx>126.5638198640</mapx><mapy>33.2439814775</mapy><mlevel>6</mlevel><modifiedtime>20200907171541</modifiedtime><readcount>5788</readcount><sigungucode>3</sigungucode><tel>064-733-5421</tel><title>밀라노모텔</title><zipcode>63596</zipcode></item><item><addr1>제주특별자치도 서귀포시 보목로64번길 196</addr1><areacode>39</areacode><cat1>B02</cat1><cat2>B0201</cat2><cat3>B02010700</cat3><contentid>972415</contentid><contenttypeid>32</contenttypeid><createdtime>20100311161924</createdtime><firstimage>http://tong.visitkorea.or.kr/cms/resource/43/1933343_image2_1.jpg</firstimage><firstimage2>http://tong.visitkorea.or.kr/cms/resource/43/1933343_image3_1.jpg</firstimage2><mapx>126.5899536843</mapx><mapy>33.2451928698</mapy><mlevel>6</mlevel><modifiedtime>20200526141436</modifiedtime><readcount>16660</readcount><sigungucode>3</sigungucode><tel>064-751-9980</tel><title>밀레니엄빌</title><zipcode>63599</zipcode></item><item><addr1>제주특별자치도 서귀포시 남원읍 위미해안로 60</addr1><areacode>39</areacode><cat1>B02</cat1><cat2>B0201</cat2><cat3>B02010700</cat3><contentid>733516</contentid><contenttypeid>32</contenttypeid><createdtime>20090513133655</createdtime><firstimage>http://tong.visitkorea.or.kr/cms/resource/96/729096_image2_1.jpg</firstimage><firstimage2>http://tong.visitkorea.or.kr/cms/resource/96/729096_image3_1.jpg</firstimage2><mapx>126.6578361411</mapx><mapy>33.2696884696</mapy><mlevel>6</mlevel><modifiedtime>20200827135643</modifiedtime><readcount>23590</readcount><sigungucode>3</sigungucode><tel>064-764-6800</tel><title>바다에누워 펜션</title><zipcode>63611</zipcode></item><item><addr1>제주특별자치도 제주시 애월읍 애월해안로 218</addr1><areacode>39</areacode><cat1>B02</cat1><cat2>B0201</cat2><cat3>B02010700</cat3><contentid>1853848</contentid><contenttypeid>32</contenttypeid><createdtime>20131025170822</createdtime><mapx>126.3358485474</mapx><mapy>33.4665199416</mapy><mlevel>6</mlevel><modifiedtime>20200908174415</modifiedtime><readcount>5023</readcount><sigungucode>4</sigungucode><tel>064-799-6192</tel><title>바다하우스</title><zipcode>63045</zipcode></item><item><addr1>제주특별자치도 서귀포시 천지연로 3-1</addr1><addr2>(서귀동)</addr2><areacode>39</areacode><cat1>B02</cat1><cat2>B0201</cat2><cat3>B02011100</cat3><contentid>2621955</contentid><contenttypeid>32</contenttypeid><createdtime>20190930170729</createdtime><mapx>126.5656503182</mapx><mapy>33.2414512305</mapy><modifiedtime>20200331140126</modifiedtime><readcount>0</readcount><sigungucode>3</sigungucode><tel>064-762-5530</tel><title>바다해호텔</title><zipcode>63596</zipcode></item><item><addr1>제주특별자치도 서귀포시 중정로 24-7</addr1><addr2>(서귀동)</addr2><areacode>39</areacode><cat1>B02</cat1><cat2>B0201</cat2><cat3>B02011100</cat3><contentid>2623005</contentid><contenttypeid>32</contenttypeid><createdtime>20191004170036</createdtime><mapx>126.5589896584</mapx><mapy>33.2470449521</mapy><modifiedtime>20200806094303</modifiedtime><readcount>0</readcount><sigungucode>3</sigungucode><tel>010-7552-4002</tel><title>백패커스홈</title><zipcode>63592</zipcode></item><item><addr1>제주특별자치도 서귀포시 천제연로 166</addr1><addr2>(중문동)</addr2><areacode>39</areacode><cat1>B02</cat1><cat2>B0201</cat2><cat3>B02010100</cat3><contentid>2038553</contentid><contenttypeid>32</contenttypeid><createdtime>20151106095823</createdtime><firstimage>http://tong.visitkorea.or.kr/cms/resource/61/2038561_image2_1.jpg</firstimage><firstimage2>http://tong.visitkorea.or.kr/cms/resource/61/2038561_image2_1.jpg</firstimage2><mapx>126.4223958362</mapx><mapy>33.2519089231</mapy><mlevel>6</mlevel><modifiedtime>20200904171848</modifiedtime><readcount>7093</readcount><sigungucode>3</sigungucode><tel>064-802-8889</tel><title>베니키아 중문호텔</title><zipcode>63546</zipcode></item><item><addr1>제주특별자치도 제주시 애월읍 애월해안로 554-10</addr1><areacode>39</areacode><cat1>B02</cat1><cat2>B0201</cat2><cat3>B02010100</cat3><contentid>1981890</contentid><contenttypeid>32</contenttypeid><createdtime>20150105111002</createdtime><mapx>126.3628348454</mapx><mapy>33.4773025078</mapy><mlevel>6</mlevel><modifiedtime>20191008161446</modifiedtime><readcount>8847</readcount><sigungucode>4</sigungucode><tel>064-799-3544</tel><title>베니키아 호텔 제주</title><zipcode>63047</zipcode></item><item><addr1>제주특별자치도 제주시 한림읍 협재로 226</addr1><addr2>(한림읍)</addr2><areacode>39</areacode><cat1>B02</cat1><cat2>B0201</cat2><cat3>B02010400</cat3><contentid>1976354</contentid><contenttypeid>32</contenttypeid><createdtime>20141216091149</createdtime><firstimage>http://tong.visitkorea.or.kr/cms/resource/85/1975985_image2_1.jpg</firstimage><firstimage2>http://tong.visitkorea.or.kr/cms/resource/85/1975985_image2_1.jpg</firstimage2><mapx>126.2513106514</mapx><mapy>33.3783783669</mapy><modifiedtime>20170529140517</modifiedtime><readcount>14779</readcount><sigungucode>4</sigungucode><tel>064-796-2908</tel><title>베니키아 홈 더 제주리조트</title><zipcode>63015</zipcode></item><item><addr1>제주특별자치도 제주시 연삼로 14</addr1><addr2>(연동)</addr2><areacode>39</areacode><cat1>B02</cat1><cat2>B0201</cat2><cat3>B02010100</cat3><contentid>2718006</contentid><contenttypeid>32</contenttypeid><createdtime>20210525095958</createdtime><mapx>126.4937564282</mapx><mapy>33.4934583510</mapy><mlevel>6</mlevel><modifiedtime>20210528155509</modifiedtime><readcount>0</readcount><sigungucode>4</sigungucode><title>벤티모</title><zipcode>63118</zipcode></item><item><addr1>제주특별자치도 서귀포시 성산읍 일출로 284-4</addr1><areacode>39</areacode><cat1>B02</cat1><cat2>B0201</cat2><cat3>B02010700</cat3><contentid>1940256</contentid><contenttypeid>32</contenttypeid><createdtime>20140808171013</createdtime><firstimage>http://tong.visitkorea.or.kr/cms/resource/02/1940202_image2_1.jpg</firstimage><firstimage2>http://tong.visitkorea.or.kr/cms/resource/02/1940202_image2_1.jpg</firstimage2><mapx>126.9351688235</mapx><mapy>33.4626966191</mapy><mlevel>6</mlevel><modifiedtime>20210616165144</modifiedtime><readcount>9504</readcount><sigungucode>3</sigungucode><tel>010-3408-6767</tel><title>볕들이펜션</title><zipcode>63643</zipcode></item><item><addr1>제주특별자치도 서귀포시 성산읍 한도로242번길 10-11</addr1><areacode>39</areacode><cat1>B02</cat1><cat2>B0201</cat2><cat3>B02010700</cat3><contentid>733540</contentid><contenttypeid>32</contenttypeid><createdtime>20090513134637</createdtime><firstimage>http://tong.visitkorea.or.kr/cms/resource/97/729097_image2_1.jpg</firstimage><firstimage2>http://tong.visitkorea.or.kr/cms/resource/97/729097_image3_1.jpg</firstimage2><mapx>126.9317051480</mapx><mapy>33.4664517038</mapy><mlevel>6</mlevel><modifiedtime>20200827114035</modifiedtime><readcount>17986</readcount><sigungucode>3</sigungucode><tel>064-784-0039</tel><title>보물섬펜션</title><zipcode>63643</zipcode></item><item><addr1>제주특별자치도 서귀포시 이어도로253번길 2</addr1><addr2>(대포동)</addr2><areacode>39</areacode><cat1>B02</cat1><cat2>B0201</cat2><cat3>B02010700</cat3><contentid>733569</contentid><contenttypeid>32</contenttypeid><createdtime>20090513140552</createdtime><firstimage>http://tong.visitkorea.or.kr/cms/resource/27/729127_image2_1.jpg</firstimage><firstimage2>http://tong.visitkorea.or.kr/cms/resource/27/729127_image3_1.jpg</firstimage2><mapx>126.4466828006</mapx><mapy>33.2437463177</mapy><mlevel>6</mlevel><modifiedtime>20200827112233</modifiedtime><readcount>16618</readcount><sigungucode>3</sigungucode><tel>1833-9306</tel><title>뷰티풀하우스</title><zipcode>63543</zipcode></item><item><addr1>제주특별자치도 서귀포시 이어도로 216</addr1><addr2>(대포동)</addr2><areacode>39</areacode><cat1>B02</cat1><cat2>B0201</cat2><cat3>B02011100</cat3><contentid>2623014</contentid><contenttypeid>32</contenttypeid><createdtime>20191004171333</createdtime><mapx>126.4434470348</mapx><mapy>33.2408771391</mapy><modifiedtime>20200331140345</modifiedtime><readcount>0</readcount><sigungucode>3</sigungucode><tel>010-4382-0216</tel><title>브릭216</title><zipcode>63543</zipcode></item><item><addr1>제주특별자치도 서귀포시 색달로 60</addr1><areacode>39</areacode><cat1>B02</cat1><cat2>B0201</cat2><cat3>B02010700</cat3><contentid>733575</contentid><contenttypeid>32</contenttypeid><createdtime>20090513141329</createdtime><firstimage>http://tong.visitkorea.or.kr/cms/resource/47/729147_image2_1.jpg</firstimage><firstimage2>http://tong.visitkorea.or.kr/cms/resource/47/729147_image3_1.jpg</firstimage2><mapx>126.4101189264</mapx><mapy>33.2607216455</mapy><mlevel>6</mlevel><modifiedtime>20200423172459</modifiedtime><readcount>18937</readcount><sigungucode>3</sigungucode><tel>064-738-5958</tel><title>블루스카이 펜션</title><zipcode>63534</zipcode></item><item><addr1>제주특별자치도 서귀포시 태평로92번길 35</addr1><addr2>(호근동)</addr2><areacode>39</areacode><cat1>B02</cat1><cat2>B0201</cat2><cat3>B02010700</cat3><contentid>1312039</contentid><contenttypeid>32</contenttypeid><createdtime>20110617142920</createdtime><firstimage>http://tong.visitkorea.or.kr/cms/resource/61/1933361_image2_1.jpg</firstimage><firstimage2>http://tong.visitkorea.or.kr/cms/resource/61/1933361_image3_1.jpg</firstimage2><mapx>126.5320310180</mapx><mapy>33.2410590745</mapy><mlevel>6</mlevel><modifiedtime>20200911144645</modifiedtime><readcount>37547</readcount><sigungucode>3</sigungucode><tel>064-739-4002</tel><title>블루펄리조트</title><zipcode>63571</zipcode></item><item><addr1>제주특별자치도 서귀포시 검은여로130번길 73</addr1><addr2>(보목동)</addr2><areacode>39</areacode><cat1>B02</cat1><cat2>B0201</cat2><cat3>B02010700</cat3><contentid>1905844</contentid><contenttypeid>32</contenttypeid><createdtime>20140317150520</createdtime><mapx>126.5896341759</mapx><mapy>33.2492729704</mapy><mlevel>6</mlevel><modifiedtime>20210728165335</modifiedtime><readcount>3319</readcount><sigungucode>3</sigungucode><tel>064-732-0388</tel><title>비울채울</title><zipcode>63599</zipcode></item><item><addr1>제주특별자치도 제주시 조천읍 조함해안로 492-5</addr1><areacode>39</areacode><cat1>B02</cat1><cat2>B0201</cat2><cat3>B02010900</cat3><contentid>139008</contentid><contenttypeid>32</contenttypeid><createdtime>20070913000000</createdtime><firstimage>http://tong.visitkorea.or.kr/cms/resource/86/2596486_image2_1.jpg</firstimage><firstimage2>http://tong.visitkorea.or.kr/cms/resource/86/2596486_image2_1.jpg</firstimage2><mapx>126.6653431863</mapx><mapy>33.5420973748</mapy><mlevel>4</mlevel><modifiedtime>20201126133340</modifiedtime><readcount>75262</readcount><sigungucode>4</sigungucode><tel>010-3639-4011</tel><title>비치스토리호텔 [한국관광 품질인증/Korea Quality]</title><zipcode>63333</zipcode></item><item><addr1>제주특별자치도 제주시 애월읍 고내로13길 79</addr1><areacode>39</areacode><cat1>B02</cat1><cat2>B0201</cat2><cat3>B02010900</cat3><contentid>1749012</contentid><contenttypeid>32</contenttypeid><createdtime>20121107134110</createdtime><firstimage>http://tong.visitkorea.or.kr/cms/resource/59/1747059_image2_1.jpg</firstimage><firstimage2>http://tong.visitkorea.or.kr/cms/resource/59/1747059_image3_1.jpg</firstimage2><mapx>126.3469835852</mapx><mapy>33.4711501605</mapy><mlevel>6</mlevel><modifiedtime>20200210174139</modifiedtime><readcount>18996</readcount><sigungucode>4</sigungucode><tel>064-799-2002</tel><title>빌레리조트</title><zipcode>63046</zipcode></item><item><addr1>제주특별자치도 제주시 조천읍 일주동로 1616-7</addr1><areacode>39</areacode><cat1>B02</cat1><cat2>B0201</cat2><cat3>B02010500</cat3><contentid>137474</contentid><contenttypeid>32</contenttypeid><createdtime>20031218000000</createdtime><firstimage>http://tong.visitkorea.or.kr/cms/resource/73/1933373_image2_1.jpg</firstimage><firstimage2>http://tong.visitkorea.or.kr/cms/resource/73/1933373_image3_1.jpg</firstimage2><mapx>126.7051311743</mapx><mapy>33.5517830527</mapy><mlevel>6</mlevel><modifiedtime>20201125133726</modifiedtime><readcount>29250</readcount><sigungucode>4</sigungucode><tel>064-782-8600</tel><title>사조리조트 제주</title><zipcode>63339</zipcode></item><item><addr1>제주특별자치도 서귀포시 성산읍 서성일로 689-8</addr1><areacode>39</areacode><cat1>B02</cat1><cat2>B0201</cat2><cat3>B02010700</cat3><contentid>2021434</contentid><contenttypeid>32</contenttypeid><createdtime>20150728103241</createdtime><firstimage>http://tong.visitkorea.or.kr/cms/resource/03/2021403_image2_1.jpg</firstimage><firstimage2>http://tong.visitkorea.or.kr/cms/resource/03/2021403_image2_1.jpg</firstimage2><mapx>126.8572041127</mapx><mapy>33.4298212120</mapy><mlevel>6</mlevel><modifiedtime>20200904174738</modifiedtime><readcount>7259</readcount><sigungucode>3</sigungucode><tel>064-784-1988</tel><title>산들애풀하우스</title><zipcode>63631</zipcode></item><item><addr1>제주특별자치도 서귀포시 염돈로28번길 11</addr1><addr2>(강정동)</addr2><areacode>39</areacode><cat1>B02</cat1><cat2>B0201</cat2><cat3>B02010700</cat3><contentid>2374023</contentid><contenttypeid>32</contenttypeid><createdtime>20160322091227</createdtime><firstimage>http://tong.visitkorea.or.kr/cms/resource/20/2374020_image2_1.JPG</firstimage><firstimage2>http://tong.visitkorea.or.kr/cms/resource/20/2374020_image2_1.JPG</firstimage2><mapx>126.4948867436</mapx><mapy>33.2531627063</mapy><mlevel>6</mlevel><modifiedtime>20200904170107</modifiedtime><readcount>2368</readcount><sigungucode>3</sigungucode><tel>064-739-9756</tel><title>샘모루펜션</title><zipcode>63558</zipcode></item><item><addr1>제주특별자치도 서귀포시 서호호근로46번길 68</addr1><areacode>39</areacode><cat1>B02</cat1><cat2>B0201</cat2><cat3>B02010700</cat3><contentid>978343</contentid><contenttypeid>32</contenttypeid><createdtime>20100317151313</createdtime><firstimage>http://tong.visitkorea.or.kr/cms/resource/87/1933387_image2_1.jpg</firstimage><firstimage2>http://tong.visitkorea.or.kr/cms/resource/87/1933387_image3_1.jpg</firstimage2><mapx>126.5288644613</mapx><mapy>33.2483915481</mapy><mlevel>6</mlevel><modifiedtime>20200526134419</modifiedtime><readcount>17210</readcount><sigungucode>3</sigungucode><tel>064-738-9852</tel><title>샤뜰레 펜션</title><zipcode>63569</zipcode></item><item><addr1>제주특별자치도 서귀포시 성산읍 금백조로131번길 177-1</addr1><areacode>39</areacode><cat1>B02</cat1><cat2>B0201</cat2><cat3>B02010900</cat3><contentid>1906127</contentid><contenttypeid>32</contenttypeid><createdtime>20140318130802</createdtime><mapx>126.8441691131</mapx><mapy>33.4306042484</mapy><mlevel>6</mlevel><modifiedtime>20200206152649</modifiedtime><readcount>3957</readcount><sigungucode>3</sigungucode><tel>010-8676-5948</tel><title>샤론의집</title><zipcode>63631</zipcode></item><item><addr1>제주특별자치도 제주시 구좌읍 송당4길 7</addr1><areacode>39</areacode><cat1>B02</cat1><cat2>B0201</cat2><cat3>B02010900</cat3><contentid>1748965</contentid><contenttypeid>32</contenttypeid><createdtime>20121107105337</createdtime><firstimage>http://tong.visitkorea.or.kr/cms/resource/02/1747002_image2_1.jpg</firstimage><firstimage2>http://tong.visitkorea.or.kr/cms/resource/02/1747002_image3_1.jpg</firstimage2><mapx>126.7842817191</mapx><mapy>33.4707099625</mapy><mlevel>6</mlevel><modifiedtime>20200911105754</modifiedtime><readcount>19197</readcount><sigungucode>4</sigungucode><tel>064-783-5089</tel><title>샤이니호텔</title><zipcode>63355</zipcode></item><item><addr1>제주특별자치도 서귀포시 일주동로 8941</addr1><areacode>39</areacode><cat1>B02</cat1><cat2>B0201</cat2><cat3>B02010700</cat3><contentid>137788</contentid><contenttypeid>32</contenttypeid><createdtime>20070907000000</createdtime><firstimage>http://tong.visitkorea.or.kr/cms/resource/97/1933397_image2_1.jpg</firstimage><firstimage2>http://tong.visitkorea.or.kr/cms/resource/97/1933397_image3_1.jpg</firstimage2><mapx>126.5360193536</mapx><mapy>33.2503192271</mapy><mlevel>6</mlevel><modifiedtime>20201125134719</modifiedtime><readcount>30577</readcount><sigungucode>3</sigungucode><tel>064-739-3331</tel><title>서귀포 귤림성</title><zipcode>63571</zipcode></item><item><addr1>제주특별자치도 서귀포시 칠십리로 242</addr1><areacode>39</areacode><cat1>B02</cat1><cat2>B0201</cat2><cat3>B02010100</cat3><contentid>142965</contentid><contenttypeid>32</contenttypeid><createdtime>20060619000000</createdtime><firstimage>http://tong.visitkorea.or.kr/cms/resource/28/197428_image2_1.jpg</firstimage><firstimage2>http://tong.visitkorea.or.kr/cms/resource/28/197428_image3_1.jpg</firstimage2><mapx>126.5808072727</mapx><mapy>33.2443539282</mapy><mlevel>6</mlevel><modifiedtime>20200122133033</modifiedtime><readcount>29899</readcount><sigungucode>3</sigungucode><tel>064-733-2001</tel><title>서귀포KAL호텔</title><zipcode>63599</zipcode></item><item><addr1>제주특별자치도 서귀포시 안덕면 신화역사로304번길 89</addr1><addr2>(안덕면)</addr2><areacode>39</areacode><cat1>B02</cat1><cat2>B0201</cat2><cat3>B02010100</cat3><contentid>2561932</contentid><contenttypeid>32</contenttypeid><createdtime>20181002161625</createdtime><firstimage>http://tong.visitkorea.or.kr/cms/resource/65/2562265_image2_1.jpg</firstimage><firstimage2>http://tong.visitkorea.or.kr/cms/resource/65/2562265_image2_1.jpg</firstimage2><mapx>126.3175482431</mapx><mapy>33.3029183065</mapy><mlevel>6</mlevel><modifiedtime>20210409143026</modifiedtime><readcount>1264</readcount><sigungucode>3</sigungucode><tel>1670-8800</tel><title>서머셋 제주신화월드</title><zipcode>63522</zipcode></item><item><addr1>제주특별자치도 서귀포시 안덕면 사계중앙로 41-15</addr1><areacode>39</areacode><cat1>B02</cat1><cat2>B0201</cat2><cat3>B02011000</cat3><contentid>2707417</contentid><contenttypeid>32</contenttypeid><createdtime>20210226135311</createdtime><firstimage>http://tong.visitkorea.or.kr/cms/resource/36/2707436_image2_1.jpg</firstimage><firstimage2>http://tong.visitkorea.or.kr/cms/resource/36/2707436_image2_1.jpg</firstimage2><mapx>126.2980682613</mapx><mapy>33.2282179181</mapy><mlevel>6</mlevel><modifiedtime>20210226153943</modifiedtime><readcount>0</readcount><sigungucode>3</sigungucode><title>서툰가족</title><zipcode>63528</zipcode></item><item><addr1>제주특별자치도 제주시 조천읍 신북로 577</addr1><areacode>39</areacode><cat1>B02</cat1><cat2>B0201</cat2><cat3>B02010500</cat3><contentid>232287</contentid><contenttypeid>32</contenttypeid><createdtime>20071012000000</createdtime><firstimage>http://tong.visitkorea.or.kr/cms/resource/74/2709574_image2_1.jpg</firstimage><firstimage2>http://tong.visitkorea.or.kr/cms/resource/74/2709574_image2_1.jpg</firstimage2><mapx>126.6718093061</mapx><mapy>33.5414475505</mapy><mlevel>6</mlevel><modifiedtime>20210311111838</modifiedtime><readcount>32926</readcount><sigungucode>4</sigungucode><tel>1588-4888</tel><title>소노벨 제주</title><zipcode>63333</zipcode></item><item><addr1>제주특별자치도 서귀포시 표선면 일주동로 6347-17</addr1><areacode>39</areacode><cat1>B02</cat1><cat2>B0201</cat2><cat3>B02010500</cat3><contentid>138019</contentid><contenttypeid>32</contenttypeid><createdtime>20040428000000</createdtime><firstimage>http://tong.visitkorea.or.kr/cms/resource/89/1181489_image2_1.jpg</firstimage><firstimage2>http://tong.visitkorea.or.kr/cms/resource/89/1181489_image3_1.jpg</firstimage2><mapx>126.7929069544</mapx><mapy>33.3060421741</mapy><mlevel>6</mlevel><modifiedtime>20201111093843</modifiedtime><readcount>28203</readcount><sigungucode>3</sigungucode><tel>02-1588-4888</tel><title>소노캄 제주(구 샤인빌 리조트)</title><zipcode>63626</zipcode></item><item><addr1>제주특별자치도 서귀포시 남원읍 태위로 545</addr1><areacode>39</areacode><cat1>B02</cat1><cat2>B0201</cat2><cat3>B02010700</cat3><contentid>1888034</contentid><contenttypeid>32</contenttypeid><createdtime>20140122164835</createdtime><mapx>126.7052513401</mapx><mapy>33.2758329923</mapy><mlevel>6</mlevel><modifiedtime>20200908160724</modifiedtime><readcount>7099</readcount><sigungucode>3</sigungucode><tel>064-764-8016</tel><title>소랑호젠</title><zipcode>63620</zipcode></item><item><addr1>제주특별자치도 서귀포시 남원읍 태수로143번길 132-37</addr1><areacode>39</areacode><cat1>B02</cat1><cat2>B0201</cat2><cat3>B02010700</cat3><contentid>138594</contentid><contenttypeid>32</contenttypeid><createdtime>20050518000000</createdtime><mapx>126.7244354569</mapx><mapy>33.2905372325</mapy><mlevel>6</mlevel><modifiedtime>20201012175534</modifiedtime><readcount>16908</readcount><sigungucode>3</sigungucode><tel>064-764-6002</tel><title>솔바람풍경소리</title><zipcode>63617</zipcode></item><item><addr1>제주특별자치도 제주시 애월읍 애월해안로 226</addr1><areacode>39</areacode><cat1>B02</cat1><cat2>B0201</cat2><cat3>B02011100</cat3><contentid>2699343</contentid><contenttypeid>32</contenttypeid><createdtime>20201216183352</createdtime><mapx>126.3363346046</mapx><mapy>33.4670365589</mapy><modifiedtime>20201223144656</modifiedtime><readcount>0</readcount><sigungucode>4</sigungucode><title>솔트</title><zipcode>63045</zipcode></item><item><addr1>제주특별자치도 서귀포시 대정읍 형제해안로 260</addr1><areacode>39</areacode><cat1>B02</cat1><cat2>B0201</cat2><cat3>B02010700</cat3><contentid>970731</contentid><contenttypeid>32</contenttypeid><createdtime>20100310145640</createdtime><firstimage>http://tong.visitkorea.or.kr/cms/resource/08/1933408_image2_1.jpg</firstimage><firstimage2>http://tong.visitkorea.or.kr/cms/resource/08/1933408_image3_1.jpg</firstimage2><mapx>126.2918636168</mapx><mapy>33.2114196754</mapy><mlevel>6</mlevel><modifiedtime>20200526140904</modifiedtime><readcount>19715</readcount><sigungucode>3</sigungucode><tel>064-794-6307</tel><title>송악리조트</title><zipcode>63512</zipcode></item><item><addr1>제주특별자치도 제주시 서광로5길 2-2</addr1><addr2>(용담일동)</addr2><areacode>39</areacode><cat1>B02</cat1><cat2>B0201</cat2><cat3>B02010900</cat3><contentid>1836795</contentid><contenttypeid>32</contenttypeid><createdtime>20130809170435</createdtime><firstimage>http://tong.visitkorea.or.kr/cms/resource/47/1836847_image2_1.JPG</firstimage><firstimage2>http://tong.visitkorea.or.kr/cms/resource/47/1836847_image2_1.JPG</firstimage2><mapx>126.5146572306</mapx><mapy>33.5004440214</mapy><mlevel>6</mlevel><modifiedtime>20200911103549</modifiedtime><readcount>19715</readcount><sigungucode>4</sigungucode><tel>070-8810-0106</tel><title>숨 게스트하우스 제주공항점</title><zipcode>63184</zipcode></item><item><addr1>제주특별자치도 서귀포시 염돈로28번길 46</addr1><areacode>39</areacode><cat1>B02</cat1><cat2>B0201</cat2><cat3>B02010700</cat3><contentid>914711</contentid><contenttypeid>32</contenttypeid><createdtime>20100106143109</createdtime><firstimage>http://tong.visitkorea.or.kr/cms/resource/13/1933413_image2_1.jpg</firstimage><firstimage2>http://tong.visitkorea.or.kr/cms/resource/13/1933413_image3_1.jpg</firstimage2><mapx>126.4971559678</mapx><mapy>33.2542348464</mapy><mlevel>6</mlevel><modifiedtime>20200527111806</modifiedtime><readcount>16762</readcount><sigungucode>3</sigungucode><tel>064-739-1915</tel><title>숲속의궁전</title><zipcode>63558</zipcode></item><item><addr1>제주특별자치도 서귀포시 안덕면 한창로 104</addr1><areacode>39</areacode><cat1>B02</cat1><cat2>B0201</cat2><cat3>B02010700</cat3><contentid>2622740</contentid><contenttypeid>32</contenttypeid><createdtime>20191004092153</createdtime><mapx>126.3654364221</mapx><mapy>33.2728501585</mapy><modifiedtime>20200331105809</modifiedtime><readcount>0</readcount><sigungucode>3</sigungucode><tel>010-3697-6695, 010-4692-1104</tel><title>쉴띠 휴양펜션</title><zipcode>63526</zipcode></item><item><addr1>제주특별자치도 제주시 관덕로 26</addr1><areacode>39</areacode><cat1>B02</cat1><cat2>B0201</cat2><cat3>B02010100</cat3><contentid>143036</contentid><contenttypeid>32</contenttypeid><createdtime>20051124000000</createdtime><firstimage>http://tong.visitkorea.or.kr/cms/resource/24/1339724_image2_1.jpg</firstimage><firstimage2>http://tong.visitkorea.or.kr/cms/resource/24/1339724_image3_1.jpg</firstimage2><mapx>126.5220229746</mapx><mapy>33.5128872053</mapy><mlevel>6</mlevel><modifiedtime>20210714165459</modifiedtime><readcount>25457</readcount><sigungucode>4</sigungucode><tel>064-757-7111</tel><title>스타즈 호텔 제주 로베로(구 로베로호텔)</title><zipcode>63168</zipcode></item><item><addr1>제주특별자치도 서귀포시 천제연로 292</addr1><areacode>39</areacode><cat1>B02</cat1><cat2>B0201</cat2><cat3>B02010700</cat3><contentid>970675</contentid><contenttypeid>32</contenttypeid><createdtime>20100310143139</createdtime><firstimage>http://tong.visitkorea.or.kr/cms/resource/29/1341429_image2_1.jpg</firstimage><firstimage2>http://tong.visitkorea.or.kr/cms/resource/29/1341429_image3_1.jpg</firstimage2><mapx>126.4368501597</mapx><mapy>33.2509287039</mapy><mlevel>6</mlevel><modifiedtime>20200526140814</modifiedtime><readcount>20524</readcount><sigungucode>3</sigungucode><tel>064-738-3077</tel><title>스프링힐 리조트</title><zipcode>63544</zipcode></item><item><addr1>제주특별자치도 제주시 애월읍 애월해안로 943</addr1><areacode>39</areacode><cat1>B02</cat1><cat2>B0201</cat2><cat3>B02011100</cat3><contentid>2621831</contentid><contenttypeid>32</contenttypeid><createdtime>20190930113254</createdtime><mapx>126.3957901677</mapx><mapy>33.4837217625</mapy><modifiedtime>20200331134055</modifiedtime><readcount>0</readcount><sigungucode>4</sigungucode><tel>010-3892-9924</tel><title>시드니호텔</title><zipcode>63050</zipcode></item><item><addr1>제주특별자치도 제주시 노연로 100</addr1><areacode>39</areacode><cat1>B02</cat1><cat2>B0201</cat2><cat3>B02010100</cat3><contentid>2716736</contentid><contenttypeid>32</contenttypeid><createdtime>20210512143746</createdtime><firstimage>http://tong.visitkorea.or.kr/cms/resource/42/2716742_image2_1.jpg</firstimage><firstimage2>http://tong.visitkorea.or.kr/cms/resource/42/2716742_image2_1.jpg</firstimage2><mapx>126.4910512883</mapx><mapy>33.4855175198</mapy><mlevel>6</mlevel><modifiedtime>20210528153221</modifiedtime><readcount>0</readcount><sigungucode>4</sigungucode><tel>064-717-9000</tel><title>신라스테이 제주</title><zipcode>63133</zipcode></item><item><addr1>제주특별자치도 서귀포시 이어도로 989</addr1><areacode>39</areacode><cat1>B02</cat1><cat2>B0201</cat2><cat3>B02010500</cat3><contentid>397635</contentid><contenttypeid>32</contenttypeid><createdtime>20080123152300</createdtime><firstimage>http://tong.visitkorea.or.kr/cms/resource/87/1618787_image2_1.jpg</firstimage><firstimage2>http://tong.visitkorea.or.kr/cms/resource/87/1618787_image3_1.jpg</firstimage2><mapx>126.5185571536</mapx><mapy>33.2424948134</mapy><mlevel>6</mlevel><modifiedtime>20210409105142</modifiedtime><readcount>24587</readcount><sigungucode>3</sigungucode><tel>064-739-0114</tel><title>신성리조트</title><zipcode>63572</zipcode></item><item><addr1>제주특별자치도 서귀포시 중앙로 2-2</addr1><areacode>39</areacode><cat1>B02</cat1><cat2>B0201</cat2><cat3>B02010900</cat3><contentid>137348</contentid><contenttypeid>32</contenttypeid><createdtime>20030611000000</createdtime><firstimage>http://tong.visitkorea.or.kr/cms/resource/25/1933425_image2_1.jpg</firstimage><firstimage2>http://tong.visitkorea.or.kr/cms/resource/25/1933425_image3_1.jpg</firstimage2><mapx>126.5623172000</mapx><mapy>33.2447147065</mapy><mlevel>6</mlevel><modifiedtime>20200214171520</modifiedtime><readcount>18769</readcount><sigungucode>3</sigungucode><tel>064-732-5800</tel><title>신세계호텔</title><zipcode>63595</zipcode></item><item><addr1>제주특별자치도 제주시 신광로 92</addr1><areacode>39</areacode><cat1>B02</cat1><cat2>B0201</cat2><cat3>B02010100</cat3><contentid>136453</contentid><contenttypeid>32</contenttypeid><createdtime>20040427000000</createdtime><firstimage>http://tong.visitkorea.or.kr/cms/resource/57/1933557_image2_1.jpg</firstimage><firstimage2>http://tong.visitkorea.or.kr/cms/resource/57/1933557_image3_1.jpg</firstimage2><mapx>126.4895708953</mapx><mapy>33.4839982207</mapy><mlevel>6</mlevel><modifiedtime>20200408174720</modifiedtime><readcount>30636</readcount><sigungucode>4</sigungucode><tel>064-744-1601~2</tel><title>썬랜드 호텔</title><zipcode>63132</zipcode></item><item><addr1>제주특별자치도 서귀포시 예래로 267</addr1><areacode>39</areacode><cat1>B02</cat1><cat2>B0201</cat2><cat3>B02010700</cat3><contentid>973990</contentid><contenttypeid>32</contenttypeid><createdtime>20100315104413</createdtime><firstimage>http://tong.visitkorea.or.kr/cms/resource/35/1933435_image2_1.jpg</firstimage><firstimage2>http://tong.visitkorea.or.kr/cms/resource/35/1933435_image3_1.jpg</firstimage2><mapx>126.3857325676</mapx><mapy>33.2421399797</mapy><mlevel>6</mlevel><modifiedtime>20200526142130</modifiedtime><readcount>16160</readcount><sigungucode>3</sigungucode><tel>064-739-6623</tel><title>씨에나펜션</title><zipcode>63538</zipcode></item><item><addr1>제주특별자치도 서귀포시 중문관광로 198</addr1><areacode>39</areacode><cat1>B02</cat1><cat2>B0201</cat2><cat3>B02010100</cat3><contentid>142948</contentid><contenttypeid>32</contenttypeid><createdtime>20031226000000</createdtime><firstimage>http://tong.visitkorea.or.kr/cms/resource/81/895881_image2_1.jpg</firstimage><firstimage2>http://tong.visitkorea.or.kr/cms/resource/81/895881_image3_1.jpg</firstimage2><mapx>126.4198240376</mapx><mapy>33.2429182080</mapy><mlevel>6</mlevel><modifiedtime>20210714165906</modifiedtime><readcount>72080</readcount><sigungucode>3</sigungucode><tel>064-735-3000</tel><title>씨에스 호텔&amp;리조트</title><zipcode>63547</zipcode></item><item><addr1>제주특별자치도 서귀포시 표선면 민속해안로 11</addr1><areacode>39</areacode><cat1>B02</cat1><cat2>B0201</cat2><cat3>B02010700</cat3><contentid>733613</contentid><contenttypeid>32</contenttypeid><createdtime>20090513143858</createdtime><firstimage>http://tong.visitkorea.or.kr/cms/resource/19/729219_image2_1.jpg</firstimage><firstimage2>http://tong.visitkorea.or.kr/cms/resource/19/729219_image3_1.jpg</firstimage2><mapx>126.8064363380</mapx><mapy>33.3060923857</mapy><mlevel>6</mlevel><modifiedtime>20200827111051</modifiedtime><readcount>20046</readcount><sigungucode>3</sigungucode><tel>064-787-0300</tel><title>아망뜨펜션(제주)</title><zipcode>63625</zipcode></item><item><addr1>제주특별자치도 서귀포시 태평로 432</addr1><addr2>(서귀동)</addr2><areacode>39</areacode><cat1>B02</cat1><cat2>B0201</cat2><cat3>B02011100</cat3><contentid>2634320</contentid><contenttypeid>32</contenttypeid><createdtime>20191108131500</createdtime><mapx>126.5663918312</mapx><mapy>33.2454341363</mapy><modifiedtime>20200812095956</modifiedtime><readcount>0</readcount><sigungucode>3</sigungucode><title>아인스 호스텔</title><zipcode>63595</zipcode></item><item><addr1>제주특별자치도 서귀포시 색달중앙로 122</addr1><areacode>39</areacode><cat1>B02</cat1><cat2>B0201</cat2><cat3>B02010700</cat3><contentid>985385</contentid><contenttypeid>32</contenttypeid><createdtime>20100325112025</createdtime><firstimage>http://tong.visitkorea.or.kr/cms/resource/42/1933442_image2_1.jpg</firstimage><firstimage2>http://tong.visitkorea.or.kr/cms/resource/42/1933442_image3_1.jpg</firstimage2><mapx>126.4144767725</mapx><mapy>33.2655961758</mapy><mlevel>6</mlevel><modifiedtime>20200129100907</modifiedtime><readcount>16160</readcount><sigungucode>3</sigungucode><tel>064-738-4679</tel><title>아침의향기</title><zipcode>63534</zipcode></item><item><addr1>제주특별자치도 서귀포시 태평로 436</addr1><addr2>(서귀동)</addr2><areacode>39</areacode><cat1>B02</cat1><cat2>B0201</cat2><cat3>B02010900</cat3><contentid>2637877</contentid><contenttypeid>32</contenttypeid><createdtime>20191120155910</createdtime><firstimage>http://tong.visitkorea.or.kr/cms/resource/13/2637413_image2_1.jpg</firstimage><firstimage2>http://tong.visitkorea.or.kr/cms/resource/13/2637413_image2_1.jpg</firstimage2><mapx>126.5667417996</mapx><mapy>33.2454896909</mapy><modifiedtime>20201126140228</modifiedtime><readcount>0</readcount><sigungucode>3</sigungucode><tel>064-801-9888</tel><title>아트스테이 서귀포 하버[한국관광 품질인증/Korea Quality]</title><zipcode>63595</zipcode></item><item><addr1>제주특별자치도 서귀포시 색달로61번길 59-8</addr1><areacode>39</areacode><cat1>B02</cat1><cat2>B0201</cat2><cat3>B02010700</cat3><contentid>733622</contentid><contenttypeid>32</contenttypeid><createdtime>20090513144702</createdtime><firstimage>http://tong.visitkorea.or.kr/cms/resource/38/729238_image2_1.jpg</firstimage><firstimage2>http://tong.visitkorea.or.kr/cms/resource/38/729238_image3_1.jpg</firstimage2><mapx>126.4138213265</mapx><mapy>33.2632769775</mapy><mlevel>6</mlevel><modifiedtime>20200827102229</modifiedtime><readcount>16789</readcount><sigungucode>3</sigungucode><tel>064-739-2727</tel><title>앙끄리에펜션</title><zipcode>63534</zipcode></item><item><addr1>제주특별자치도 제주시 애월읍 애월해안로 298</addr1><areacode>39</areacode><cat1>B02</cat1><cat2>B0201</cat2><cat3>B02010700</cat3><contentid>977101</contentid><contenttypeid>32</contenttypeid><createdtime>20100316160919</createdtime><firstimage>http://tong.visitkorea.or.kr/cms/resource/75/2611075_image2_1.JPG</firstimage><firstimage2>http://tong.visitkorea.or.kr/cms/resource/75/2611075_image2_1.JPG</firstimage2><mapx>126.3416562839</mapx><mapy>33.4705668076</mapy><mlevel>6</mlevel><modifiedtime>20200526142957</modifiedtime><readcount>16185</readcount><sigungucode>4</sigungucode><tel>064-799-1600</tel><title>애월해안누리(구 하얀둥지)</title><zipcode>63046</zipcode></item><item><addr1>제주특별자치도 제주시 서해안로 456-12</addr1><addr2>(용담삼동)</addr2><areacode>39</areacode><cat1>B02</cat1><cat2>B0201</cat2><cat3>B02011100</cat3><contentid>2667498</contentid><contenttypeid>32</contenttypeid><createdtime>20200818111757</createdtime><mapx>126.4891868158</mapx><mapy>33.5184027384</mapy><modifiedtime>20200818112907</modifiedtime><readcount>0</readcount><sigungucode>4</sigungucode><title>에덴호스텔</title><zipcode>63114</zipcode></item><item><addr1>제주특별자치도 제주시 한림읍 귀덕6길 94</addr1><areacode>39</areacode><cat1>B02</cat1><cat2>B0201</cat2><cat3>B02011300</cat3><contentid>2605527</contentid><contenttypeid>32</contenttypeid><createdtime>20190610090920</createdtime><firstimage>http://tong.visitkorea.or.kr/cms/resource/27/2630927_image2_1.jpg</firstimage><firstimage2>http://tong.visitkorea.or.kr/cms/resource/27/2630927_image2_1.jpg</firstimage2><mapx>126.2914864406</mapx><mapy>33.4353143643</mapy><mlevel>6</mlevel><modifiedtime>20200619133921</modifiedtime><readcount>0</readcount><sigungucode>4</sigungucode><tel>064-796-8333</tel><title>에코그린리조트</title><zipcode>63024</zipcode></item><item><addr1>제주특별자치도 제주시 은남1길 4</addr1><addr2>(연동)</addr2><areacode>39</areacode><cat1>B02</cat1><cat2>B0201</cat2><cat3>B02010900</cat3><contentid>2594519</contentid><contenttypeid>32</contenttypeid><createdtime>20190402142835</createdtime><firstimage>http://tong.visitkorea.or.kr/cms/resource/68/2596268_image2_1.jpg</firstimage><firstimage2>http://tong.visitkorea.or.kr/cms/resource/68/2596268_image2_1.jpg</firstimage2><mapx>126.4954619295</mapx><mapy>33.4893032823</mapy><modifiedtime>20201126142600</modifiedtime><readcount>19</readcount><sigungucode>4</sigungucode><tel>064-743-5600</tel><title>엘린호텔 [한국관광 품질인증/Korea Quality]</title><zipcode>63124</zipcode></item><item><addr1>제주특별자치도 제주시 1100로 2671-51</addr1><addr2>(노형동)</addr2><areacode>39</areacode><cat1>B02</cat1><cat2>B0201</cat2><cat3>B02011100</cat3><contentid>2623827</contentid><contenttypeid>32</contenttypeid><createdtime>20191010132922</createdtime><mapx>126.4890611940</mapx><mapy>33.4236160047</mapy><modifiedtime>20201214133137</modifiedtime><readcount>0</readcount><sigungucode>4</sigungucode><title>엠버리조트</title><zipcode>63078</zipcode></item><item><addr1>제주특별자치도 제주시 신광로4길 16</addr1><addr2>(연동)</addr2><areacode>39</areacode><cat1>B02</cat1><cat2>B0201</cat2><cat3>B02011100</cat3><contentid>2623595</contentid><contenttypeid>32</contenttypeid><createdtime>20191008154707</createdtime><mapx>126.4884153260</mapx><mapy>33.4890448657</mapy><modifiedtime>20201214133643</modifiedtime><readcount>0</readcount><sigungucode>4</sigungucode><title>엠제이호텔</title><zipcode>63129</zipcode></item><item><addr1>제주특별자치도 서귀포시 예래해안로 527</addr1><addr2>(상예동)</addr2><areacode>39</areacode><cat1>B02</cat1><cat2>B0201</cat2><cat3>B02010700</cat3><contentid>1348840</contentid><contenttypeid>32</contenttypeid><createdtime>20110803094237</createdtime><firstimage>http://tong.visitkorea.or.kr/cms/resource/62/1933462_image2_1.jpg</firstimage><firstimage2>http://tong.visitkorea.or.kr/cms/resource/62/1933462_image3_1.jpg</firstimage2><mapx>126.4002560434</mapx><mapy>33.2539916775</mapy><mlevel>6</mlevel><modifiedtime>20210610144214</modifiedtime><readcount>38726</readcount><sigungucode>3</sigungucode><tel>010-9744-7768</tel><title>예래펜션</title><zipcode>63536</zipcode></item><item><addr1>제주특별자치도 서귀포시 남원읍 516로 918</addr1><areacode>39</areacode><cat1>B02</cat1><cat2>B0201</cat2><cat3>B02010700</cat3><contentid>662445</contentid><contenttypeid>32</contenttypeid><createdtime>20081205134533</createdtime><firstimage>http://tong.visitkorea.or.kr/cms/resource/43/668043_image2_1.jpg</firstimage><firstimage2>http://tong.visitkorea.or.kr/cms/resource/43/668043_image3_1.jpg</firstimage2><mapx>126.6010592399</mapx><mapy>33.3257535999</mapy><mlevel>6</mlevel><modifiedtime>20201230092256</modifiedtime><readcount>15779</readcount><sigungucode>3</sigungucode><tel>064-767-3746</tel><title>예이츠 산장</title><zipcode>63607</zipcode></item><item><addr1>제주특별자치도 제주시 조천읍 조함해안로 490</addr1><areacode>39</areacode><cat1>B02</cat1><cat2>B0201</cat2><cat3>B02010100</cat3><contentid>143120</contentid><contenttypeid>32</contenttypeid><createdtime>20051010000000</createdtime><mapx>126.6651876330</mapx><mapy>33.5425889847</mapy><mlevel>6</mlevel><modifiedtime>20210628165451</modifiedtime><readcount>27782</readcount><sigungucode>4</sigungucode><tel>064-783-0007</tel><title>오션그랜드호텔제주</title><zipcode>63333</zipcode></item><item><addr1>제주특별자치도 제주시 탑동해안로 74</addr1><areacode>39</areacode><cat1>B02</cat1><cat2>B0201</cat2><cat3>B02010100</cat3><contentid>1403482</contentid><contenttypeid>32</contenttypeid><createdtime>20111014100000</createdtime><mapx>126.5231255322</mapx><mapy>33.5183727266</mapy><mlevel>6</mlevel><modifiedtime>20201023100943</modifiedtime><readcount>22500</readcount><sigungucode>4</sigungucode><tel>1577-9766, 064-720-6000</tel><title>오션스위츠 제주호텔</title><zipcode>63165</zipcode></item><item><addr1>제주특별자치도 서귀포시 안덕면 사계남로216번길 42</addr1><areacode>39</areacode><cat1>B02</cat1><cat2>B0201</cat2><cat3>B02010700</cat3><contentid>971331</contentid><contenttypeid>32</contenttypeid><createdtime>20100311144000</createdtime><firstimage>http://tong.visitkorea.or.kr/cms/resource/99/1620199_image2_1.jpg</firstimage><firstimage2>http://tong.visitkorea.or.kr/cms/resource/99/1620199_image3_1.jpg</firstimage2><mapx>126.3101892850</mapx><mapy>33.2348340441</mapy><mlevel>6</mlevel><modifiedtime>20210728162210</modifiedtime><readcount>16165</readcount><sigungucode>3</sigungucode><tel>010-3693-4541</tel><title>오션하우스</title><zipcode>63528</zipcode></item><item><addr1>제주특별자치도 서귀포시 안덕면 사계북로 208</addr1><areacode>39</areacode><cat1>B02</cat1><cat2>B0201</cat2><cat3>B02011100</cat3><contentid>2626800</contentid><contenttypeid>32</contenttypeid><createdtime>20191017153102</createdtime><mapx>126.3088143604</mapx><mapy>33.2368032498</mapy><modifiedtime>20201214140351</modifiedtime><readcount>0</readcount><sigungucode>3</sigungucode><title>오션힐스테이</title><zipcode>63528</zipcode></item><item><addr1>제주특별자치도 서귀포시 안덕면 화순중앙로124번길 75</addr1><areacode>39</areacode><cat1>B02</cat1><cat2>B0201</cat2><cat3>B02010400</cat3><contentid>1891566</contentid><contenttypeid>32</contenttypeid><createdtime>20140205165701</createdtime><mapx>126.3278570231</mapx><mapy>33.2426334601</mapy><mlevel>6</mlevel><modifiedtime>20200207150142</modifiedtime><readcount>5875</readcount><sigungucode>3</sigungucode><tel>064-794-7007</tel><title>와이리조트 제주(Y RESORT JJ)</title><zipcode>63530</zipcode></item><item><addr1>제주특별자치도 서귀포시 이어도로 297</addr1><addr2>(하원동)</addr2><areacode>39</areacode><cat1>B02</cat1><cat2>B0201</cat2><cat3>B02010600</cat3><contentid>2498637</contentid><contenttypeid>32</contenttypeid><createdtime>20170703150832</createdtime><firstimage>http://tong.visitkorea.or.kr/cms/resource/05/2498605_image2_1.jpg</firstimage><firstimage2>http://tong.visitkorea.or.kr/cms/resource/05/2498605_image2_1.jpg</firstimage2><mapx>126.4509463268</mapx><mapy>33.2434491956</mapy><mlevel>6</mlevel><modifiedtime>20210311141318</modifiedtime><readcount>3198</readcount><sigungucode>3</sigungucode><tel>064-738-9502~4</tel><title>용산 제주유스호스텔</title><zipcode>63542</zipcode></item><item><addr1>제주특별자치도 제주시 애월읍 광령평화2길 116-12</addr1><areacode>39</areacode><cat1>B02</cat1><cat2>B0201</cat2><cat3>B02010600</cat3><contentid>1895925</contentid><contenttypeid>32</contenttypeid><createdtime>20140218145236</createdtime><mapx>126.4321991994</mapx><mapy>33.4355387839</mapy><mlevel>6</mlevel><modifiedtime>20200908152751</modifiedtime><readcount>6131</readcount><sigungucode>4</sigungucode><tel>064-799-7759</tel><title>월드와이드 유스호스텔</title><zipcode>63064</zipcode></item><item><addr1>제주특별자치도 서귀포시 천제연로 113</addr1><areacode>39</areacode><cat1>B02</cat1><cat2>B0201</cat2><cat3>B02010700</cat3><contentid>138935</contentid><contenttypeid>32</contenttypeid><createdtime>20061201000000</createdtime><firstimage>http://tong.visitkorea.or.kr/cms/resource/81/1933481_image2_1.jpg</firstimage><firstimage2>http://tong.visitkorea.or.kr/cms/resource/81/1933481_image3_1.jpg</firstimage2><mapx>126.4179350411</mapx><mapy>33.2550779472</mapy><mlevel>6</mlevel><modifiedtime>20201021153349</modifiedtime><readcount>20827</readcount><sigungucode>3</sigungucode><tel>064-738-0452</tel><title>이어도성 펜션</title><zipcode>63534</zipcode></item><item><addr1>제주특별자치도 서귀포시 중산간서로 935</addr1><addr2>(색달동)</addr2><areacode>39</areacode><cat1>B02</cat1><cat2>B0201</cat2><cat3>B02010900</cat3><contentid>2382246</contentid><contenttypeid>32</contenttypeid><createdtime>20160503100036</createdtime><firstimage>http://tong.visitkorea.or.kr/cms/resource/00/2382200_image2_1.jpg</firstimage><firstimage2>http://tong.visitkorea.or.kr/cms/resource/00/2382200_image2_1.jpg</firstimage2><mapx>126.4165182808</mapx><mapy>33.2647796319</mapy><mlevel>6</mlevel><modifiedtime>20200904165217</modifiedtime><readcount>1967</readcount><sigungucode>3</sigungucode><tel>064-739-5200</tel><title>제이뷰호텔</title><zipcode>63534</zipcode></item><item><addr1>제주특별자치도 서귀포시 중문관광로 17</addr1><areacode>39</areacode><cat1>B02</cat1><cat2>B0201</cat2><cat3>B02010700</cat3><contentid>139855</contentid><contenttypeid>32</contenttypeid><createdtime>20070731000000</createdtime><firstimage>http://tong.visitkorea.or.kr/cms/resource/73/1933173_image2_1.jpg</firstimage><firstimage2>http://tong.visitkorea.or.kr/cms/resource/73/1933173_image3_1.jpg</firstimage2><mapx>126.4152741309</mapx><mapy>33.2564194240</mapy><mlevel>6</mlevel><modifiedtime>20201012091710</modifiedtime><readcount>20675</readcount><sigungucode>3</sigungucode><tel>064-739-9994</tel><title>제주 그랑빌펜션</title><zipcode>63534</zipcode></item><item><addr1>제주특별자치도 제주시 한림읍 협재로 210-18</addr1><areacode>39</areacode><cat1>B02</cat1><cat2>B0201</cat2><cat3>B02010500</cat3><contentid>137814</contentid><contenttypeid>32</contenttypeid><createdtime>20030619000000</createdtime><firstimage>http://tong.visitkorea.or.kr/cms/resource/65/1341265_image2_1.jpg</firstimage><firstimage2>http://tong.visitkorea.or.kr/cms/resource/65/1341265_image3_1.jpg</firstimage2><mapx>126.2502662709</mapx><mapy>33.3795865508</mapy><mlevel>6</mlevel><modifiedtime>20210628155410</modifiedtime><readcount>38909</readcount><sigungucode>4</sigungucode><tel>064-795-7800</tel><title>제주 금강산콘도</title><zipcode>63015</zipcode></item><item><addr1>제주특별자치도 서귀포시 이어도로 139</addr1><addr2>(대포동)</addr2><areacode>39</areacode><cat1>B02</cat1><cat2>B0201</cat2><cat3>B02010700</cat3><contentid>733395</contentid><contenttypeid>32</contenttypeid><createdtime>20090513123234</createdtime><firstimage>http://tong.visitkorea.or.kr/cms/resource/02/1933502_image2_1.jpg</firstimage><firstimage2>http://tong.visitkorea.or.kr/cms/resource/02/1933502_image3_1.jpg</firstimage2><mapx>126.4369809329</mapx><mapy>33.2406881690</mapy><mlevel>6</mlevel><modifiedtime>20200827153608</modifiedtime><readcount>17041</readcount><sigungucode>3</sigungucode><tel>064-738-4820</tel><title>제주 나폴리펜션</title><zipcode>63544</zipcode></item><item><addr1>제주특별자치도 제주시 애월읍 고내로13길 59</addr1><areacode>39</areacode><cat1>B02</cat1><cat2>B0201</cat2><cat3>B02010700</cat3><contentid>905600</contentid><contenttypeid>32</contenttypeid><createdtime>20091224093224</createdtime><mapx>126.3455948543</mapx><mapy>33.4694947659</mapy><mlevel>6</mlevel><modifiedtime>20210629110933</modifiedtime><readcount>21957</readcount><sigungucode>4</sigungucode><tel>064-799-0797</tel><title>제주 뉴오션리조트</title><zipcode>63046</zipcode></item><item><addr1>제주특별자치도 서귀포시 칠십리로 332</addr1><areacode>39</areacode><cat1>B02</cat1><cat2>B0201</cat2><cat3>B02010700</cat3><contentid>139854</contentid><contenttypeid>32</contenttypeid><createdtime>20070731000000</createdtime><firstimage>http://tong.visitkorea.or.kr/cms/resource/17/1933517_image2_1.jpg</firstimage><firstimage2>http://tong.visitkorea.or.kr/cms/resource/17/1933517_image3_1.jpg</firstimage2><mapx>126.5872538945</mapx><mapy>33.2462316012</mapy><mlevel>6</mlevel><modifiedtime>20201012092634</modifiedtime><readcount>21643</readcount><sigungucode>3</sigungucode><tel>064-767-3888</tel><title>제주 라임오렌지빌</title><zipcode>63599</zipcode></item><item><addr1>제주특별자치도 제주시 신대로 45 (연동)</addr1><areacode>39</areacode><cat1>B02</cat1><cat2>B0201</cat2><cat3>B02010100</cat3><contentid>142969</contentid><contenttypeid>32</contenttypeid><createdtime>20030806000000</createdtime><mapx>126.4972255743</mapx><mapy>33.4933334199</mapy><mlevel>7</mlevel><modifiedtime>20210108155603</modifiedtime><readcount>29897</readcount><sigungucode>4</sigungucode><tel>064-746-6161</tel><title>제주 마리나</title><zipcode>63119</zipcode></item><item><addr1>제주특별자치도 제주시 원노형3길 41</addr1><addr2>(노형동)</addr2><areacode>39</areacode><cat1>B02</cat1><cat2>B0201</cat2><cat3>B02010900</cat3><contentid>1932636</contentid><contenttypeid>32</contenttypeid><createdtime>20140708132958</createdtime><firstimage>http://tong.visitkorea.or.kr/cms/resource/31/2688231_image2_1.jpg</firstimage><firstimage2>http://tong.visitkorea.or.kr/cms/resource/31/2688231_image3_1.jpg</firstimage2><mapx>126.4817437410</mapx><mapy>33.4865255939</mapy><modifiedtime>20201203111112</modifiedtime><readcount>10223</readcount><sigungucode>4</sigungucode><tel>064-745-6775</tel><title>제주 메이플호텔 [한국관광 품질인증/Korea Quality]</title><zipcode>63081</zipcode></item><item><addr1>제주특별자치도 제주시 명림로 393</addr1><areacode>39</areacode><cat1>B02</cat1><cat2>B0201</cat2><cat3>B02010600</cat3><contentid>397628</contentid><contenttypeid>32</contenttypeid><createdtime>20080123152228</createdtime><mapx>126.6210657127</mapx><mapy>33.4538119902</mapy><mlevel>6</mlevel><modifiedtime>20200113173813</modifiedtime><readcount>29105</readcount><sigungucode>4</sigungucode><tel>064-759-9596</tel><title>제주 명도암유스호스텔</title><zipcode>63313</zipcode></item><item><addr1>제주특별자치도 제주시 한림읍 한창로 925-122</addr1><areacode>39</areacode><cat1>B02</cat1><cat2>B0201</cat2><cat3>B02010100</cat3><contentid>984523</contentid><contenttypeid>32</contenttypeid><createdtime>20100324110308</createdtime><mapx>126.3124118005</mapx><mapy>33.3377949264</mapy><mlevel>6</mlevel><modifiedtime>20200219093731</modifiedtime><readcount>26080</readcount><sigungucode>4</sigungucode><tel>064-796-9988</tel><title>제주 블랙스톤 호텔</title><zipcode>63020</zipcode></item><item><addr1>제주특별자치도 제주시 조천읍 신북로 481-9</addr1><areacode>39</areacode><cat1>B02</cat1><cat2>B0201</cat2><cat3>B02010100</cat3><contentid>143020</contentid><contenttypeid>32</contenttypeid><createdtime>20051123000000</createdtime><firstimage>http://tong.visitkorea.or.kr/cms/resource/66/218766_image2_1.jpg</firstimage><firstimage2>http://tong.visitkorea.or.kr/cms/resource/66/218766_image3_1.jpg</firstimage2><mapx>126.6618101092</mapx><mapy>33.5442887425</mapy><mlevel>6</mlevel><modifiedtime>20210127152953</modifiedtime><readcount>28283</readcount><sigungucode>4</sigungucode><tel>064-780-4100</tel><title>제주 선샤인호텔</title><zipcode>63333</zipcode></item><item><addr1>제주특별자치도 서귀포시 중문관광로72번길 67</addr1><areacode>39</areacode><cat1>B02</cat1><cat2>B0201</cat2><cat3>B02010100</cat3><contentid>142713</contentid><contenttypeid>32</contenttypeid><createdtime>20030313000000</createdtime><firstimage>http://tong.visitkorea.or.kr/cms/resource/64/1339564_image2_1.jpg</firstimage><firstimage2>http://tong.visitkorea.or.kr/cms/resource/64/1339564_image3_1.jpg</firstimage2><mapx>126.4083582278</mapx><mapy>33.2490784581</mapy><mlevel>6</mlevel><modifiedtime>20201012102106</modifiedtime><readcount>36347</readcount><sigungucode>3</sigungucode><tel>064-738-3800</tel><title>제주 스위트호텔</title><zipcode>63535</zipcode></item><item><addr1>제주특별자치도 서귀포시 예래해안로 15</addr1><areacode>39</areacode><cat1>B02</cat1><cat2>B0201</cat2><cat3>B02010100</cat3><contentid>2552837</contentid><contenttypeid>32</contenttypeid><createdtime>20180705154456</createdtime><firstimage>http://tong.visitkorea.or.kr/cms/resource/95/2552795_image2_1.jpg</firstimage><firstimage2>http://tong.visitkorea.or.kr/cms/resource/95/2552795_image2_1.jpg</firstimage2><mapx>126.3699424490</mapx><mapy>33.2341295039</mapy><mlevel>6</mlevel><modifiedtime>20200413164522</modifiedtime><readcount>1228</readcount><sigungucode>3</sigungucode><tel>064-738-1551</tel><title>제주 스카브로호텔</title><zipcode>63538</zipcode></item><item><addr1>제주특별자치도 서귀포시 안덕면 평화로319번길 133</addr1><areacode>39</areacode><cat1>B02</cat1><cat2>B0201</cat2><cat3>B02010700</cat3><contentid>137790</contentid><contenttypeid>32</contenttypeid><createdtime>20030620000000</createdtime><mapx>126.3143490497</mapx><mapy>33.2791736570</mapy><mlevel>6</mlevel><modifiedtime>20201012102605</modifiedtime><readcount>26334</readcount><sigungucode>3</sigungucode><tel>010-9894-6411</tel><title>제주 신신휴양펜션</title><zipcode>63527</zipcode></item><item><addr1>제주특별자치도 서귀포시 대포로 131</addr1><areacode>39</areacode><cat1>B02</cat1><cat2>B0201</cat2><cat3>B02010700</cat3><contentid>733594</contentid><contenttypeid>32</contenttypeid><createdtime>20090513143200</createdtime><firstimage>http://tong.visitkorea.or.kr/cms/resource/10/1933710_image2_1.jpg</firstimage><firstimage2>http://tong.visitkorea.or.kr/cms/resource/10/1933710_image3_1.jpg</firstimage2><mapx>126.4358310559</mapx><mapy>33.2396299343</mapy><mlevel>6</mlevel><modifiedtime>20200423164838</modifiedtime><readcount>19991</readcount><sigungucode>3</sigungucode><tel>010-3808-5204</tel><title>제주 써니데이</title><zipcode>63544</zipcode></item><item><addr1>제주특별자치도 제주시 조천읍 신흥관전길 89-5</addr1><areacode>39</areacode><cat1>B02</cat1><cat2>B0201</cat2><cat3>B02010700</cat3><contentid>906173</contentid><contenttypeid>32</contenttypeid><createdtime>20091224143902</createdtime><mapx>126.6472029558</mapx><mapy>33.5482352937</mapy><mlevel>6</mlevel><modifiedtime>20200529132538</modifiedtime><readcount>1708</readcount><sigungucode>4</sigungucode><tel>064-782-4888~9</tel><title>제주 씨에코비치</title><zipcode>63332</zipcode></item><item><addr1>제주특별자치도 제주시 탑동로 47</addr1><areacode>39</areacode><cat1>B02</cat1><cat2>B0201</cat2><cat3>B02010100</cat3><contentid>142972</contentid><contenttypeid>32</contenttypeid><createdtime>20031222000000</createdtime><firstimage>http://tong.visitkorea.or.kr/cms/resource/27/1339827_image2_1.jpg</firstimage><firstimage2>http://tong.visitkorea.or.kr/cms/resource/27/1339827_image3_1.jpg</firstimage2><mapx>126.5198091709</mapx><mapy>33.5176172015</mapy><mlevel>6</mlevel><modifiedtime>20200122104840</modifiedtime><readcount>27149</readcount><sigungucode>4</sigungucode><tel>064-752-8222</tel><title>제주 오리엔탈호텔</title><zipcode>63166</zipcode></item><item><addr1>제주특별자치도 서귀포시 이어도로 150</addr1><areacode>39</areacode><cat1>B02</cat1><cat2>B0201</cat2><cat3>B02010700</cat3><contentid>733799</contentid><contenttypeid>32</contenttypeid><createdtime>20090513161141</createdtime><firstimage>http://tong.visitkorea.or.kr/cms/resource/52/1933752_image2_1.jpg</firstimage><firstimage2>http://tong.visitkorea.or.kr/cms/resource/52/1933752_image3_1.jpg</firstimage2><mapx>126.4382447306</mapx><mapy>33.2398521701</mapy><mlevel>6</mlevel><modifiedtime>20200423155009</modifiedtime><readcount>16674</readcount><sigungucode>3</sigungucode><tel>064-738-5353</tel><title>제주 지삿개풍경</title><zipcode>63544</zipcode></item><item><addr1>제주특별자치도 서귀포시 태평로92번길 21</addr1><areacode>39</areacode><cat1>B02</cat1><cat2>B0201</cat2><cat3>B02010700</cat3><contentid>904802</contentid><contenttypeid>32</contenttypeid><createdtime>20091223102724</createdtime><firstimage>http://tong.visitkorea.or.kr/cms/resource/56/1933756_image2_1.jpg</firstimage><firstimage2>http://tong.visitkorea.or.kr/cms/resource/56/1933756_image3_1.jpg</firstimage2><mapx>126.5322643008</mapx><mapy>33.2424061513</mapy><mlevel>6</mlevel><modifiedtime>20200529141648</modifiedtime><readcount>20230</readcount><sigungucode>3</sigungucode><tel>064-739-7999</tel><title>제주 추억여행</title><zipcode>63571</zipcode></item><item><addr1>제주특별자치도 제주시 중앙로 151</addr1><areacode>39</areacode><cat1>B02</cat1><cat2>B0201</cat2><cat3>B02010100</cat3><contentid>142966</contentid><contenttypeid>32</contenttypeid><createdtime>20060619000000</createdtime><firstimage>http://tong.visitkorea.or.kr/cms/resource/79/1182379_image2_1.jpg</firstimage><firstimage2>http://tong.visitkorea.or.kr/cms/resource/79/1182379_image3_1.jpg</firstimage2><mapx>126.5264921949</mapx><mapy>33.5056519667</mapy><mlevel>6</mlevel><modifiedtime>20201012103640</modifiedtime><readcount>30724</readcount><sigungucode>4</sigungucode><tel>064-724-2001</tel><title>제주 칼 호텔</title><zipcode>63194</zipcode></item><item><addr1>제주특별자치도 서귀포시 안덕면 평화로 1241</addr1><areacode>39</areacode><cat1>B02</cat1><cat2>B0201</cat2><cat3>B02010500</cat3><contentid>983936</contentid><contenttypeid>32</contenttypeid><createdtime>20100323153649</createdtime><mapx>126.3487280773</mapx><mapy>33.3383704340</mapy><mlevel>6</mlevel><modifiedtime>20210702173616</modifiedtime><readcount>21025</readcount><sigungucode>3</sigungucode><tel>064-793-6630</tel><title>제주 캐슬렉스 골프텔</title><zipcode>63523</zipcode></item><item><addr1>제주특별자치도 제주시 서사로 20</addr1><areacode>39</areacode><cat1>B02</cat1><cat2>B0201</cat2><cat3>B02010100</cat3><contentid>142943</contentid><contenttypeid>32</contenttypeid><createdtime>20040428000000</createdtime><mapx>126.5188732984</mapx><mapy>33.5106929538</mapy><mlevel>6</mlevel><modifiedtime>20201012134328</modifiedtime><readcount>24186</readcount><sigungucode>4</sigungucode><tel>064-758-2500</tel><title>제주 퍼시픽 호텔</title><zipcode>63154</zipcode></item><item><addr1>제주특별자치도 제주시 신대로20길 49</addr1><addr2>(연동)</addr2><areacode>39</areacode><cat1>B02</cat1><cat2>B0201</cat2><cat3>B02010100</cat3><contentid>142976</contentid><contenttypeid>32</contenttypeid><createdtime>20031223000000</createdtime><firstimage>http://tong.visitkorea.or.kr/cms/resource/82/1933782_image2_1.jpg</firstimage><firstimage2>http://tong.visitkorea.or.kr/cms/resource/82/1933782_image3_1.jpg</firstimage2><mapx>126.4908985676</mapx><mapy>33.4835927304</mapy><mlevel>6</mlevel><modifiedtime>20200911141717</modifiedtime><readcount>20588</readcount><sigungucode>4</sigungucode><tel>064-742-8871</tel><title>제주 펄 관광호텔</title><zipcode>63136</zipcode></item><item><addr1>제주특별자치도 서귀포시 칠십리로285번길 3</addr1><areacode>39</areacode><cat1>B02</cat1><cat2>B0201</cat2><cat3>B02010700</cat3><contentid>978165</contentid><contenttypeid>32</contenttypeid><createdtime>20100317135305</createdtime><mapx>126.5835097210</mapx><mapy>33.2486146127</mapy><mlevel>6</mlevel><modifiedtime>20200526144738</modifiedtime><readcount>17461</readcount><sigungucode>3</sigungucode><tel>064-732-5222</tel><title>제주 펜션 포시즌(Fourseason)</title><zipcode>63598</zipcode></item><item><addr1>제주특별자치도 서귀포시 이어도로 244</addr1><addr2>(대포동)</addr2><areacode>39</areacode><cat1>B02</cat1><cat2>B0201</cat2><cat3>B02010700</cat3><contentid>733784</contentid><contenttypeid>32</contenttypeid><createdtime>20090513160424</createdtime><firstimage>http://tong.visitkorea.or.kr/cms/resource/21/733221_image2_1.jpg</firstimage><firstimage2>http://tong.visitkorea.or.kr/cms/resource/21/733221_image3_1.jpg</firstimage2><mapx>126.4452190707</mapx><mapy>33.2423075649</mapy><mlevel>6</mlevel><modifiedtime>20200731143424</modifiedtime><readcount>17016</readcount><sigungucode>3</sigungucode><tel>064-738-1944</tel><title>제주 하이랜드 펜션</title><zipcode>63543</zipcode></item><item><addr1>제주특별자치도 서귀포시 구산봉로21번길 62</addr1><addr2>(하원동)</addr2><areacode>39</areacode><cat1>B02</cat1><cat2>B0201</cat2><cat3>B02010700</cat3><contentid>397813</contentid><contenttypeid>32</contenttypeid><createdtime>20080118180651</createdtime><firstimage>http://tong.visitkorea.or.kr/cms/resource/88/2613388_image2_1.jpg</firstimage><firstimage2>http://tong.visitkorea.or.kr/cms/resource/88/2613388_image2_1.jpg</firstimage2><mapx>126.4535125364</mapx><mapy>33.2539286352</mapy><mlevel>6</mlevel><modifiedtime>20201230095358</modifiedtime><readcount>22073</readcount><sigungucode>3</sigungucode><tel>064-900-3336</tel><title>제주 휴펜션</title><zipcode>63541</zipcode></item><item><addr1>제주특별자치도 제주시 신대로12길 45</addr1><areacode>39</areacode><cat1>B02</cat1><cat2>B0201</cat2><cat3>B02010100</cat3><contentid>142968</contentid><contenttypeid>32</contenttypeid><createdtime>20030806000000</createdtime><firstimage>http://tong.visitkorea.or.kr/cms/resource/88/1339888_image2_1.jpg</firstimage><firstimage2>http://tong.visitkorea.or.kr/cms/resource/88/1339888_image3_1.jpg</firstimage2><mapx>126.4916706108</mapx><mapy>33.4885171979</mapy><mlevel>6</mlevel><modifiedtime>20210705142419</modifiedtime><readcount>32049</readcount><sigungucode>4</sigungucode><tel>064-743-2222</tel><title>제주로얄호텔</title><zipcode>63124</zipcode></item><item><addr1>제주특별자치도 서귀포시 성산읍 성산등용로 112-7</addr1><areacode>39</areacode><cat1>B02</cat1><cat2>B0201</cat2><cat3>B02010500</cat3><contentid>749960</contentid><contenttypeid>32</contenttypeid><createdtime>20090609092114</createdtime><mapx>126.9330465714</mapx><mapy>33.4719538953</mapy><mlevel>6</mlevel><modifiedtime>20200423144912</modifiedtime><readcount>24896</readcount><sigungucode>3</sigungucode><tel>064-784-6161</tel><title>제주마린리조트 햇살이든</title><zipcode>63643</zipcode></item><item><addr1>제주특별자치도 제주시 한림읍 금능9길 10-1</addr1><areacode>39</areacode><cat1>B02</cat1><cat2>B0201</cat2><cat3>B02010700</cat3><contentid>2556500</contentid><contenttypeid>32</contenttypeid><createdtime>20180806102621</createdtime><firstimage>http://tong.visitkorea.or.kr/cms/resource/79/2556479_image2_1.JPG</firstimage><firstimage2>http://tong.visitkorea.or.kr/cms/resource/79/2556479_image2_1.JPG</firstimage2><mapx>126.2303650085</mapx><mapy>33.3892546129</mapy><mlevel>6</mlevel><modifiedtime>20201228104851</modifiedtime><readcount>1120</readcount><sigungucode>4</sigungucode><tel>010-8326-9116</tel><title>제주마중</title><zipcode>63010</zipcode></item><item><addr1>제주특별자치도 제주시 구좌읍 일주동로 1626</addr1><areacode>39</areacode><cat1>B02</cat1><cat2>B0201</cat2><cat3>B02010100</cat3><contentid>1892199</contentid><contenttypeid>32</contenttypeid><createdtime>20140207170707</createdtime><mapx>126.7066671474</mapx><mapy>33.5519913876</mapy><mlevel>6</mlevel><modifiedtime>20200116113204</modifiedtime><readcount>6911</readcount><sigungucode>4</sigungucode><tel>064-766-8888</tel><title>제주메이더호텔</title><zipcode>63347</zipcode></item><item><addr1>제주특별자치도 서귀포시 남원읍 태위로 485</addr1><areacode>39</areacode><cat1>B02</cat1><cat2>B0201</cat2><cat3>B02010700</cat3><contentid>138602</contentid><contenttypeid>32</contenttypeid><createdtime>20050523000000</createdtime><firstimage>http://tong.visitkorea.or.kr/cms/resource/26/1619926_image2_1.jpg</firstimage><firstimage2>http://tong.visitkorea.or.kr/cms/resource/26/1619926_image3_1.jpg</firstimage2><mapx>126.6994240677</mapx><mapy>33.2758134570</mapy><mlevel>6</mlevel><modifiedtime>20201020150034</modifiedtime><readcount>16900</readcount><sigungucode>3</sigungucode><tel>064-702-4334</tel><title>제주목화휴양펜션</title><zipcode>63620</zipcode></item><item><addr1>제주특별자치도 서귀포시 남원읍 남태해안로 11-14</addr1><areacode>39</areacode><cat1>B02</cat1><cat2>B0201</cat2><cat3>B02010700</cat3><contentid>733684</contentid><contenttypeid>32</contenttypeid><createdtime>20090513152413</createdtime><firstimage>http://tong.visitkorea.or.kr/cms/resource/11/729311_image2_1.jpg</firstimage><firstimage2>http://tong.visitkorea.or.kr/cms/resource/11/729311_image3_1.jpg</firstimage2><mapx>126.7104397927</mapx><mapy>33.2752664712</mapy><mlevel>6</mlevel><modifiedtime>20210630142913</modifiedtime><readcount>21353</readcount><sigungucode>3</sigungucode><tel>064-764-9955</tel><title>제주바다산책</title><zipcode>63621</zipcode></item><item><addr1>제주특별자치도 서귀포시 대정읍 형제해안로 254</addr1><areacode>39</areacode><cat1>B02</cat1><cat2>B0201</cat2><cat3>B02010700</cat3><contentid>978128</contentid><contenttypeid>32</contenttypeid><createdtime>20100317134104</createdtime><firstimage>http://tong.visitkorea.or.kr/cms/resource/37/1933537_image2_1.jpg</firstimage><firstimage2>http://tong.visitkorea.or.kr/cms/resource/37/1933537_image3_1.jpg</firstimage2><mapx>126.2921080208</mapx><mapy>33.2122556976</mapy><mlevel>6</mlevel><modifiedtime>20210720173007</modifiedtime><readcount>17214</readcount><sigungucode>3</sigungucode><tel>064-794-0977</tel><title>제주바닷가하우스</title><zipcode>63512</zipcode></item><item><addr1>제주특별자치도 서귀포시 태평로 121</addr1><addr2>(호근동)</addr2><areacode>39</areacode><cat1>B02</cat1><cat2>B0201</cat2><cat3>B02011100</cat3><contentid>2627965</contentid><contenttypeid>32</contenttypeid><createdtime>20191021134237</createdtime><mapx>126.5357833901</mapx><mapy>33.2446420718</mapy><modifiedtime>20201221150314</modifiedtime><readcount>0</readcount><sigungucode>3</sigungucode><title>제주브릭스</title><zipcode>63571</zipcode></item><item><addr1>제주특별자치도 서귀포시 성산읍 금백조로131번길 176</addr1><areacode>39</areacode><cat1>B02</cat1><cat2>B0201</cat2><cat3>B02010700</cat3><contentid>138259</contentid><contenttypeid>32</contenttypeid><createdtime>20040903000000</createdtime><mapx>126.8442996466</mapx><mapy>33.4310875310</mapy><mlevel>6</mlevel><modifiedtime>20201020140746</modifiedtime><readcount>22653</readcount><sigungucode>3</sigungucode><tel>010-4750-7732&lt;br /&gt;010-3789-1645</tel><title>제주성산 아일랜드 펜션</title><zipcode>63631</zipcode></item><item><addr1>제주특별자치도 제주시 한림읍 명재로 100-45</addr1><areacode>39</areacode><cat1>B02</cat1><cat2>B0201</cat2><cat3>B02010700</cat3><contentid>978402</contentid><contenttypeid>32</contenttypeid><createdtime>20100317153236</createdtime><firstimage>http://tong.visitkorea.or.kr/cms/resource/07/1933707_image2_1.jpg</firstimage><firstimage2>http://tong.visitkorea.or.kr/cms/resource/07/1933707_image3_1.jpg</firstimage2><mapx>126.2608762061</mapx><mapy>33.3909160191</mapy><mlevel>6</mlevel><modifiedtime>20200526145143</modifiedtime><readcount>17699</readcount><sigungucode>4</sigungucode><tel>064-796-3721</tel><title>제주스웨덴펜션</title><zipcode>63015</zipcode></item><item><addr1>제주특별자치도 서귀포시 표선면 세성로 352-32</addr1><areacode>39</areacode><cat1>B02</cat1><cat2>B0201</cat2><cat3>B02010700</cat3><contentid>2622746</contentid><contenttypeid>32</contenttypeid><createdtime>20191004093213</createdtime><mapx>126.7983085931</mapx><mapy>33.3355390062</mapy><modifiedtime>20200331105917</modifiedtime><readcount>0</readcount><sigungucode>3</sigungucode><tel>010-5346-3039</tel><title>제주스카이휴양펜션</title><zipcode>63625</zipcode></item><item><addr1>제주특별자치도 서귀포시 중문관광로72번길 75</addr1><areacode>39</areacode><cat1>B02</cat1><cat2>B0201</cat2><cat3>B02010100</cat3><contentid>142946</contentid><contenttypeid>32</contenttypeid><createdtime>20031219000000</createdtime><mapx>126.4087304418</mapx><mapy>33.2480035829</mapy><mlevel>6</mlevel><modifiedtime>20201020135537</modifiedtime><readcount>25391</readcount><sigungucode>3</sigungucode><tel>064-735-5114</tel><title>제주신라호텔</title><zipcode>63535</zipcode></item><item><addr1>제주특별자치도 서귀포시 성산읍 한도로 49</addr1><areacode>39</areacode><cat1>B02</cat1><cat2>B0201</cat2><cat3>B02010700</cat3><contentid>978214</contentid><contenttypeid>32</contenttypeid><createdtime>20100317141358</createdtime><firstimage>http://tong.visitkorea.or.kr/cms/resource/27/1933427_image2_1.jpg</firstimage><firstimage2>http://tong.visitkorea.or.kr/cms/resource/27/1933427_image3_1.jpg</firstimage2><mapx>126.9133678229</mapx><mapy>33.4675235107</mapy><mlevel>6</mlevel><modifiedtime>20200526144925</modifiedtime><readcount>16495</readcount><sigungucode>3</sigungucode><tel>064-782-2277</tel><title>제주썬레이크빌</title><zipcode>63639</zipcode></item><item><addr1>제주특별자치도 제주시 서광로14길 5</addr1><addr2>(삼도일동)</addr2><areacode>39</areacode><cat1>B02</cat1><cat2>B0201</cat2><cat3>B02010900</cat3><contentid>2019719</contentid><contenttypeid>32</contenttypeid><createdtime>20150720181259</createdtime><firstimage>http://tong.visitkorea.or.kr/cms/resource/07/2019707_image2_1.JPG</firstimage><firstimage2>http://tong.visitkorea.or.kr/cms/resource/07/2019707_image2_1.JPG</firstimage2><mapx>126.5179652997</mapx><mapy>33.4994275200</mapy><mlevel>6</mlevel><modifiedtime>20201126164021</modifiedtime><readcount>6937</readcount><sigungucode>4</sigungucode><tel>064-757-7734</tel><title>제주알(R)호텔 [한국관광 품질인증/Korea Quality]</title><zipcode>63185</zipcode></item><item><addr1>제주특별자치도 서귀포시 성산읍 일주동로 5047</addr1><areacode>39</areacode><cat1>B02</cat1><cat2>B0201</cat2><cat3>B02010700</cat3><contentid>232284</contentid><contenttypeid>32</contenttypeid><createdtime>20070912000000</createdtime><mapx>126.8801642580</mapx><mapy>33.3852209524</mapy><mlevel>6</mlevel><modifiedtime>20200904171449</modifiedtime><readcount>27902</readcount><sigungucode>3</sigungucode><tel>010-3668-3045</tel><title>제주애 펜션</title><zipcode>63634</zipcode></item><item><addr1>제주특별자치도 서귀포시 중문상로 207-13</addr1><addr2>(중문동)</addr2><areacode>39</areacode><cat1>B02</cat1><cat2>B0201</cat2><cat3>B02010900</cat3><contentid>2637830</contentid><contenttypeid>32</contenttypeid><createdtime>20191120144050</createdtime><firstimage>http://tong.visitkorea.or.kr/cms/resource/07/2640007_image2_1.jpg</firstimage><firstimage2>http://tong.visitkorea.or.kr/cms/resource/07/2640007_image3_1.jpg</firstimage2><mapx>126.4277589586</mapx><mapy>33.2654158502</mapy><modifiedtime>20210520155500</modifiedtime><readcount>11</readcount><sigungucode>3</sigungucode><tel>064-738-9975</tel><title>제주에코스위츠[한국관광 품질인증/Korea Quality]</title><zipcode>63550</zipcode></item><item><addr1>제주특별자치도 서귀포시 중앙로 14</addr1><addr2>(서귀동)</addr2><areacode>39</areacode><cat1>B02</cat1><cat2>B0201</cat2><cat3>B02010100</cat3><contentid>1846473</contentid><contenttypeid>32</contenttypeid><createdtime>20130924170249</createdtime><mapx>126.5623255050</mapx><mapy>33.2459756789</mapy><mlevel>6</mlevel><modifiedtime>20210720153941</modifiedtime><readcount>9763</readcount><sigungucode>3</sigungucode><title>제주오션팰리스호텔</title><zipcode>63595</zipcode></item><item><addr1>제주특별자치도 제주시 구좌읍 덕행로 450-23</addr1><areacode>39</areacode><cat1>B02</cat1><cat2>B0201</cat2><cat3>B02010700</cat3><contentid>1821483</contentid><contenttypeid>32</contenttypeid><createdtime>20130619170530</createdtime><mapx>126.7784506914</mapx><mapy>33.5133329329</mapy><mlevel>6</mlevel><modifiedtime>20200911104759</modifiedtime><readcount>8354</readcount><sigungucode>4</sigungucode><tel>064-783-1152</tel><title>제주올레하우스</title><zipcode>63349</zipcode></item><item><addr1>제주특별자치도 서귀포시 남원읍 태위로 604-13</addr1><areacode>39</areacode><cat1>B02</cat1><cat2>B0201</cat2><cat3>B02010700</cat3><contentid>750434</contentid><contenttypeid>32</contenttypeid><createdtime>20090609142554</createdtime><firstimage>http://tong.visitkorea.or.kr/cms/resource/31/1933731_image2_1.jpg</firstimage><firstimage2>http://tong.visitkorea.or.kr/cms/resource/31/1933731_image3_1.jpg</firstimage2><mapx>126.7123257163</mapx><mapy>33.2763469375</mapy><mlevel>6</mlevel><modifiedtime>20200714101606</modifiedtime><readcount>15862</readcount><sigungucode>3</sigungucode><tel>064-764-0505</tel><title>제주올리브</title><zipcode>63621</zipcode></item><item><addr1>제주특별자치도 서귀포시 일주서로 166-61</addr1><areacode>39</areacode><cat1>B02</cat1><cat2>B0201</cat2><cat3>B02010700</cat3><contentid>139965</contentid><contenttypeid>32</contenttypeid><createdtime>20070827000000</createdtime><firstimage>http://tong.visitkorea.or.kr/cms/resource/76/2438176_image2_1.jpg</firstimage><firstimage2>http://tong.visitkorea.or.kr/cms/resource/76/2438176_image2_1.jpg</firstimage2><mapx>126.4901454413</mapx><mapy>33.2552762873</mapy><mlevel>6</mlevel><modifiedtime>20201013091510</modifiedtime><readcount>63779</readcount><sigungucode>3</sigungucode><tel>064-738-4450&lt;br /&gt;064-738-4460</tel><title>제주이도펜션(구 제주펜트하우스)</title><zipcode>63558</zipcode></item><item><addr1>제주특별자치도 서귀포시 학수암로 111</addr1><addr2>(호근동)</addr2><areacode>39</areacode><cat1>B02</cat1><cat2>B0201</cat2><cat3>B02010700</cat3><contentid>1880892</contentid><contenttypeid>32</contenttypeid><createdtime>20140103151649</createdtime><mapx>126.5281279167</mapx><mapy>33.2705390928</mapy><mlevel>6</mlevel><modifiedtime>20200908171215</modifiedtime><readcount>4229</readcount><sigungucode>3</sigungucode><tel>064-739-7739</tel><title>제주카사블랑카</title><zipcode>63575</zipcode></item><item><addr1>제주특별자치도 서귀포시 태평로92번길 36</addr1><areacode>39</areacode><cat1>B02</cat1><cat2>B0201</cat2><cat3>B02010700</cat3><contentid>138680</contentid><contenttypeid>32</contenttypeid><createdtime>20070914000000</createdtime><firstimage>http://tong.visitkorea.or.kr/cms/resource/60/1933760_image2_1.jpg</firstimage><firstimage2>http://tong.visitkorea.or.kr/cms/resource/60/1933760_image3_1.jpg</firstimage2><mapx>126.5312505263</mapx><mapy>33.2412257100</mapy><mlevel>6</mlevel><modifiedtime>20200417104819</modifiedtime><readcount>28160</readcount><sigungucode>3</sigungucode><tel>064-739-6780</tel><title>제주캐슬펜션</title><zipcode>63571</zipcode></item><item><addr1>제주특별자치도 서귀포시 남원읍 태위로 984-7</addr1><areacode>39</areacode><cat1>B02</cat1><cat2>B0201</cat2><cat3>B02010700</cat3><contentid>733770</contentid><contenttypeid>32</contenttypeid><createdtime>20090513155710</createdtime><firstimage>http://tong.visitkorea.or.kr/cms/resource/06/729406_image2_1.jpg</firstimage><firstimage2>http://tong.visitkorea.or.kr/cms/resource/06/729406_image3_1.jpg</firstimage2><mapx>126.7498666457</mapx><mapy>33.2880184726</mapy><mlevel>6</mlevel><modifiedtime>20200731145035</modifiedtime><readcount>16890</readcount><sigungucode>3</sigungucode><tel>064-764-8118</tel><title>제주태흥리조트</title><zipcode>63617</zipcode></item><item><addr1>제주특별자치도 제주시 탑동로 9</addr1><areacode>39</areacode><cat1>B02</cat1><cat2>B0201</cat2><cat3>B02010100</cat3><contentid>142970</contentid><contenttypeid>32</contenttypeid><createdtime>20030806000000</createdtime><mapx>126.5236949603</mapx><mapy>33.5169062318</mapy><mlevel>6</mlevel><modifiedtime>20210329095321</modifiedtime><readcount>28575</readcount><sigungucode>4</sigungucode><tel>064-753-8811</tel><title>제주팔레스호텔</title><zipcode>63166</zipcode></item><item><addr1>제주특별자치도 서귀포시 칠십리로394번길 8-3</addr1><areacode>39</areacode><cat1>B02</cat1><cat2>B0201</cat2><cat3>B02010700</cat3><contentid>980356</contentid><contenttypeid>32</contenttypeid><createdtime>20100318163843</createdtime><firstimage>http://tong.visitkorea.or.kr/cms/resource/83/1933783_image2_1.jpg</firstimage><firstimage2>http://tong.visitkorea.or.kr/cms/resource/83/1933783_image3_1.jpg</firstimage2><mapx>126.5932117670</mapx><mapy>33.2437569688</mapy><mlevel>6</mlevel><modifiedtime>20200129152838</modifiedtime><readcount>16418</readcount><sigungucode>3</sigungucode><tel>064-733-5799</tel><title>제주펜션 향림원</title><zipcode>63599</zipcode></item><item><addr1>제주특별자치도 서귀포시 안덕면 사계남로 89</addr1><areacode>39</areacode><cat1>B02</cat1><cat2>B0201</cat2><cat3>B02010700</cat3><contentid>138588</contentid><contenttypeid>32</contenttypeid><createdtime>20070913000000</createdtime><mapx>126.2995348205</mapx><mapy>33.2273263730</mapy><mlevel>6</mlevel><modifiedtime>20200214170816</modifiedtime><readcount>25437</readcount><sigungucode>3</sigungucode><tel>064-794-1886</tel><title>제주해안휴양펜션</title><zipcode>63528</zipcode></item><item><addr1>제주특별자치도 서귀포시 색달로61번길 57</addr1><areacode>39</areacode><cat1>B02</cat1><cat2>B0201</cat2><cat3>B02010700</cat3><contentid>397811</contentid><contenttypeid>32</contenttypeid><createdtime>20080118180642</createdtime><firstimage>http://tong.visitkorea.or.kr/cms/resource/95/1933795_image2_1.jpg</firstimage><firstimage2>http://tong.visitkorea.or.kr/cms/resource/95/1933795_image3_1.jpg</firstimage2><mapx>126.4139241043</mapx><mapy>33.2628631355</mapy><mlevel>6</mlevel><modifiedtime>20201230095628</modifiedtime><readcount>15550</readcount><sigungucode>3</sigungucode><tel>064-739-5665</tel><title>제주향</title><zipcode>63534</zipcode></item><item><addr1>제주특별자치도 서귀포시 이어도로 721</addr1><addr2>(강정동)</addr2><areacode>39</areacode><cat1>B02</cat1><cat2>B0201</cat2><cat3>B02010400</cat3><contentid>939166</contentid><contenttypeid>32</contenttypeid><createdtime>20100126153949</createdtime><firstimage>http://tong.visitkorea.or.kr/cms/resource/33/1339333_image2_1.jpg</firstimage><firstimage2>http://tong.visitkorea.or.kr/cms/resource/33/1339333_image3_1.jpg</firstimage2><mapx>126.4920040497</mapx><mapy>33.2357951330</mapy><mlevel>6</mlevel><modifiedtime>20200129162940</modifiedtime><readcount>25978</readcount><sigungucode>3</sigungucode><tel>064-739-0640</tel><title>조은리조트</title><zipcode>63564</zipcode></item><item><addr1>제주특별자치도 서귀포시 소보리당로164번길 83</addr1><areacode>39</areacode><cat1>B02</cat1><cat2>B0201</cat2><cat3>B02010700</cat3><contentid>138606</contentid><contenttypeid>32</contenttypeid><createdtime>20050524000000</createdtime><mapx>126.3836544375</mapx><mapy>33.2660317533</mapy><mlevel>6</mlevel><modifiedtime>20200214163713</modifiedtime><readcount>17635</readcount><sigungucode>3</sigungucode><tel>064-738-7871</tel><title>중문훼미리리조트</title><zipcode>63534</zipcode></item><item><addr1>제주특별자치도 서귀포시 남원읍 남태해안로 445</addr1><areacode>39</areacode><cat1>B02</cat1><cat2>B0201</cat2><cat3>B02010700</cat3><contentid>733822</contentid><contenttypeid>32</contenttypeid><createdtime>20090513161919</createdtime><firstimage>http://tong.visitkorea.or.kr/cms/resource/48/733248_image2_1.jpg</firstimage><firstimage2>http://tong.visitkorea.or.kr/cms/resource/48/733248_image3_1.jpg</firstimage2><mapx>126.7468003584</mapx><mapy>33.2829884233</mapy><mlevel>6</mlevel><modifiedtime>20200731134258</modifiedtime><readcount>16376</readcount><sigungucode>3</sigungucode><tel>064-764-0110</tel><title>지중해리조트</title><zipcode>63617</zipcode></item><item><addr1>제주특별자치도 서귀포시 천지연로 39</addr1><addr2>(서귀동)</addr2><areacode>39</areacode><cat1>B02</cat1><cat2>B0201</cat2><cat3>B02011100</cat3><contentid>2627229</contentid><contenttypeid>32</contenttypeid><createdtime>20191018154715</createdtime><mapx>126.5620756071</mapx><mapy>33.2423732942</mapy><modifiedtime>20201215141748</modifiedtime><readcount>0</readcount><sigungucode>3</sigungucode><title>천지연크리스탈호텔</title><zipcode>63596</zipcode></item><item><addr1>제주특별자치도 서귀포시 인정오름로 135-18</addr1><areacode>39</areacode><cat1>B02</cat1><cat2>B0201</cat2><cat3>B02010700</cat3><contentid>138017</contentid><contenttypeid>32</contenttypeid><createdtime>20040227000000</createdtime><firstimage>http://tong.visitkorea.or.kr/cms/resource/41/1933841_image2_1.jpg</firstimage><firstimage2>http://tong.visitkorea.or.kr/cms/resource/41/1933841_image3_1.jpg</firstimage2><mapx>126.5717570498</mapx><mapy>33.2891599519</mapy><mlevel>6</mlevel><modifiedtime>20201019171428</modifiedtime><readcount>16877</readcount><sigungucode>3</sigungucode><tel>064-732-2020</tel><title>청재설헌</title><zipcode>63580</zipcode></item><item><addr1>제주특별자치도 서귀포시 성산읍 해맞이해안로 2688</addr1><areacode>39</areacode><cat1>B02</cat1><cat2>B0201</cat2><cat3>B02011100</cat3><contentid>2624249</contentid><contenttypeid>32</contenttypeid><createdtime>20191011173136</createdtime><mapx>126.9127177787</mapx><mapy>33.4718785742</mapy><mlevel>6</mlevel><modifiedtime>20210614141119</modifiedtime><readcount>0</readcount><sigungucode>3</sigungucode><tel>010-5117-7552</tel><title>취다선리조트(취다선 리조트 Tea&amp;Meditation)</title><zipcode>63639</zipcode></item><item><addr1>제주특별자치도 서귀포시 태평로353번길 22-3</addr1><addr2>(서귀동)</addr2><areacode>39</areacode><cat1>B02</cat1><cat2>B0201</cat2><cat3>B02011100</cat3><contentid>2627908</contentid><contenttypeid>32</contenttypeid><createdtime>20191021132445</createdtime><mapx>126.5612422374</mapx><mapy>33.2472116357</mapy><modifiedtime>20201214142132</modifiedtime><readcount>0</readcount><sigungucode>3</sigungucode><title>칠십리호텔</title><zipcode>63595</zipcode></item><item><addr1>제주특별자치도 제주시 한림읍 협재2길 10</addr1><areacode>39</areacode><cat1>B02</cat1><cat2>B0201</cat2><cat3>B02011100</cat3><contentid>2667643</contentid><contenttypeid>32</contenttypeid><createdtime>20200818145818</createdtime><mapx>126.2412473291</mapx><mapy>33.3922238993</mapy><modifiedtime>20200818152129</modifiedtime><readcount>0</readcount><sigungucode>4</sigungucode><title>카이 호스텔</title><zipcode>63011</zipcode></item><item><addr1>제주특별자치도 제주시 한림읍 협재2길 10</addr1><areacode>39</areacode><cat1>B02</cat1><cat2>B0201</cat2><cat3>B02010600</cat3><contentid>1894633</contentid><contenttypeid>32</contenttypeid><createdtime>20140213164410</createdtime><mapx>126.2413195468</mapx><mapy>33.3921266889</mapy><mlevel>6</mlevel><modifiedtime>20201230113836</modifiedtime><readcount>4443</readcount><sigungucode>4</sigungucode><tel>064-796-2428</tel><title>카이 호스텔</title><zipcode>63011</zipcode></item><item><addr1>제주특별자치도 제주시 애월읍 장유길 49-43</addr1><areacode>39</areacode><cat1>B02</cat1><cat2>B0201</cat2><cat3>B02010700</cat3><contentid>2405466</contentid><contenttypeid>32</contenttypeid><createdtime>20160825170518</createdtime><firstimage>http://tong.visitkorea.or.kr/cms/resource/47/2405447_image2_1.jpg</firstimage><firstimage2>http://tong.visitkorea.or.kr/cms/resource/47/2405447_image2_1.jpg</firstimage2><mapx>126.4003238855</mapx><mapy>33.4491617714</mapy><mlevel>6</mlevel><modifiedtime>20200904164701</modifiedtime><readcount>2808</readcount><sigungucode>4</sigungucode><tel>010-7478-5707</tel><title>카이로스</title><zipcode>63055</zipcode></item><item><addr1>제주특별자치도 서귀포시 이어도로 684</addr1><areacode>39</areacode><cat1>B02</cat1><cat2>B0201</cat2><cat3>B02010500</cat3><contentid>137369</contentid><contenttypeid>32</contenttypeid><createdtime>20040422000000</createdtime><firstimage>http://tong.visitkorea.or.kr/cms/resource/40/1341140_image2_1.jpg</firstimage><firstimage2>http://tong.visitkorea.or.kr/cms/resource/40/1341140_image3_1.jpg</firstimage2><mapx>126.4890126926</mapx><mapy>33.2335425563</mapy><mlevel>6</mlevel><modifiedtime>20201019165053</modifiedtime><readcount>29196</readcount><sigungucode>3</sigungucode><tel>064-739-9001</tel><title>켄싱턴리조트 서귀포</title><zipcode>63564</zipcode></item><item><addr1>제주특별자치도 제주시 한림읍 한림해안로 530</addr1><areacode>39</areacode><cat1>B02</cat1><cat2>B0201</cat2><cat3>B02010500</cat3><contentid>137368</contentid><contenttypeid>32</contenttypeid><createdtime>20031229000000</createdtime><mapx>126.2744934632</mapx><mapy>33.4358195964</mapy><mlevel>6</mlevel><modifiedtime>20201019102932</modifiedtime><readcount>31666</readcount><sigungucode>4</sigungucode><tel>064-796-9600</tel><title>켄싱턴리조트 제주한림</title><zipcode>63024</zipcode></item><item><addr1>제주특별자치도 서귀포시 성산읍 일주동로4120번길 23-20</addr1><areacode>39</areacode><cat1>B02</cat1><cat2>B0201</cat2><cat3>B02010500</cat3><contentid>1882274</contentid><contenttypeid>32</contenttypeid><createdtime>20140106134049</createdtime><mapx>126.9101099660</mapx><mapy>33.4591021658</mapy><mlevel>6</mlevel><modifiedtime>20210707164437</modifiedtime><readcount>4766</readcount><sigungucode>3</sigungucode><tel>070-4548-2200</tel><title>코델리아리조트</title><zipcode>63639</zipcode></item><item><addr1>제주특별자치도 제주시 애월읍 애월해안로 400-9</addr1><areacode>39</areacode><cat1>B02</cat1><cat2>B0201</cat2><cat3>B02010700</cat3><contentid>660876</contentid><contenttypeid>32</contenttypeid><createdtime>20081202143412</createdtime><firstimage>http://tong.visitkorea.or.kr/cms/resource/77/666077_image2_1.jpg</firstimage><firstimage2>http://tong.visitkorea.or.kr/cms/resource/77/666077_image3_1.jpg</firstimage2><mapx>126.3512637615</mapx><mapy>33.4714751921</mapy><mlevel>6</mlevel><modifiedtime>20201230092735</modifiedtime><readcount>31828</readcount><sigungucode>4</sigungucode><tel>064-799-2600</tel><title>클럽다인리조트</title><zipcode>63046</zipcode></item><item><addr1>제주특별자치도 서귀포시 성산읍 시흥상동로53번길 88-54</addr1><areacode>39</areacode><cat1>B02</cat1><cat2>B0201</cat2><cat3>B02010700</cat3><contentid>1882504</contentid><contenttypeid>32</contenttypeid><createdtime>20140106170258</createdtime><mapx>126.8866921967</mapx><mapy>33.4744889754</mapy><mlevel>6</mlevel><modifiedtime>20200908165042</modifiedtime><readcount>4430</readcount><sigungucode>3</sigungucode><tel>064-783-5026</tel><title>킴스캐빈</title><zipcode>63638</zipcode></item><item><addr1>제주특별자치도 제주시 애월읍 화전길 201</addr1><areacode>39</areacode><cat1>B02</cat1><cat2>B0201</cat2><cat3>B02010500</cat3><contentid>984562</contentid><contenttypeid>32</contenttypeid><createdtime>20100324112041</createdtime><mapx>126.3856635358</mapx><mapy>33.3482949189</mapy><mlevel>6</mlevel><modifiedtime>20200421151702</modifiedtime><readcount>18638</readcount><sigungucode>4</sigungucode><tel>064-793-0707</tel><title>타미우스골프&amp;빌리지</title><zipcode>63040</zipcode></item><item><addr1>제주특별자치도 서귀포시 안덕면 한창로 365</addr1><areacode>39</areacode><cat1>B02</cat1><cat2>B0201</cat2><cat3>B02010100</cat3><contentid>934981</contentid><contenttypeid>32</contenttypeid><createdtime>20100122093023</createdtime><mapx>126.3514206117</mapx><mapy>33.2890148193</mapy><mlevel>6</mlevel><modifiedtime>20200422143320</modifiedtime><readcount>19004</readcount><sigungucode>3</sigungucode><tel>064-793-1000</tel><title>테디 밸리 골프&amp;리조트 호텔</title><zipcode>63526</zipcode></item><item><addr1>제주특별자치도 제주시 애월읍 애월로1길 8</addr1><areacode>39</areacode><cat1>B02</cat1><cat2>B0201</cat2><cat3>B02010500</cat3><contentid>137476</contentid><contenttypeid>32</contenttypeid><createdtime>20040902000000</createdtime><firstimage>http://tong.visitkorea.or.kr/cms/resource/08/2650208_image2_1.jpg</firstimage><firstimage2>http://tong.visitkorea.or.kr/cms/resource/08/2650208_image2_1.jpg</firstimage2><mapx>126.3117312768</mapx><mapy>33.4631615996</mapy><mlevel>6</mlevel><modifiedtime>20210127095700</modifiedtime><readcount>59509</readcount><sigungucode>4</sigungucode><tel>064-799-4400</tel><title>토비스콘도 제주</title><zipcode>63043</zipcode></item><item><addr1>제주특별자치도 서귀포시 남원읍 서의로154번길 12</addr1><areacode>39</areacode><cat1>B02</cat1><cat2>B0201</cat2><cat3>B02010700</cat3><contentid>137957</contentid><contenttypeid>32</contenttypeid><createdtime>20040923000000</createdtime><mapx>126.7121889669</mapx><mapy>33.3050243273</mapy><mlevel>6</mlevel><modifiedtime>20201019135609</modifiedtime><readcount>20489</readcount><sigungucode>3</sigungucode><tel>064-764-9669</tel><title>티파니에서 아침을</title><zipcode>63618</zipcode></item><item><addr1>제주특별자치도 제주시 한경면 중산간서로 3367-1</addr1><areacode>39</areacode><cat1>B02</cat1><cat2>B0201</cat2><cat3>B02010700</cat3><contentid>2623579</contentid><contenttypeid>32</contenttypeid><createdtime>20191008153000</createdtime><mapx>126.2371217184</mapx><mapy>33.3109494910</mapy><modifiedtime>20200331105542</modifiedtime><readcount>0</readcount><sigungucode>4</sigungucode><tel>010-9013-9064</tel><title>틸다하우스</title><zipcode>63007</zipcode></item><item><addr1>제주특별자치도 서귀포시 대포동서로 63-20</addr1><addr2>(대포동)</addr2><areacode>39</areacode><cat1>B02</cat1><cat2>B0201</cat2><cat3>B02011100</cat3><contentid>2626803</contentid><contenttypeid>32</contenttypeid><createdtime>20191017153736</createdtime><mapx>126.4380141699</mapx><mapy>33.2409825974</mapy><modifiedtime>20201217111609</modifiedtime><readcount>0</readcount><sigungucode>3</sigungucode><title>파밀리아</title><zipcode>63544</zipcode></item><item><addr1>제주특별자치도 서귀포시 중산간서로 193</addr1><addr2>(강정동)</addr2><areacode>39</areacode><cat1>B02</cat1><cat2>B0201</cat2><cat3>B02010100</cat3><contentid>2405964</contentid><contenttypeid>32</contenttypeid><createdtime>20160829153849</createdtime><mapx>126.4907675222</mapx><mapy>33.2591730893</mapy><mlevel>6</mlevel><modifiedtime>20210621175021</modifiedtime><readcount>2016</readcount><sigungucode>3</sigungucode><tel>064-738-0002, 064-738-7705</tel><title>팜밸리리조트</title><zipcode>63558</zipcode></item><item><addr1>제주특별자치도 서귀포시 논짓물로 50</addr1><addr2>(하예동)</addr2><areacode>39</areacode><cat1>B02</cat1><cat2>B0201</cat2><cat3>B02011100</cat3><contentid>2621969</contentid><contenttypeid>32</contenttypeid><createdtime>20190930172511</createdtime><mapx>126.3859881372</mapx><mapy>33.2405179405</mapy><modifiedtime>20191118151806</modifiedtime><readcount>0</readcount><sigungucode>3</sigungucode><tel>064-739-2564</tel><title>펜션연리</title><zipcode>63538</zipcode></item><item><addr1>제주특별자치도 서귀포시 성산읍 시흥하동로50번길 23</addr1><areacode>39</areacode><cat1>B02</cat1><cat2>B0201</cat2><cat3>B02010600</cat3><contentid>1893137</contentid><contenttypeid>32</contenttypeid><createdtime>20140211162426</createdtime><mapx>126.9081014524</mapx><mapy>33.4744809898</mapy><mlevel>6</mlevel><modifiedtime>20200908155303</modifiedtime><readcount>3619</readcount><sigungucode>3</sigungucode><tel>064-782-4003</tel><title>펠리스타운</title><zipcode>63638</zipcode></item><item><addr1>제주특별자치도 서귀포시 안덕면 산록남로 863</addr1><areacode>39</areacode><cat1>B02</cat1><cat2>B0201</cat2><cat3>B02010900</cat3><contentid>1894943</contentid><contenttypeid>32</contenttypeid><createdtime>20140214161459</createdtime><mapx>126.3900000445</mapx><mapy>33.3136960332</mapy><mlevel>6</mlevel><modifiedtime>20200207111919</modifiedtime><readcount>28990</readcount><sigungucode>3</sigungucode><tel>대표 064-792-5200&lt;br /&gt;예약 064-792-8000</tel><title>포도호텔</title><zipcode>63525</zipcode></item><item><addr1>제주특별자치도 제주시 한림읍 명월로 13</addr1><areacode>39</areacode><cat1>B02</cat1><cat2>B0201</cat2><cat3>B02010700</cat3><contentid>2623578</contentid><contenttypeid>32</contenttypeid><createdtime>20191008151721</createdtime><mapx>126.2647341855</mapx><mapy>33.3917604304</mapy><modifiedtime>20200331105330</modifiedtime><readcount>0</readcount><sigungucode>4</sigungucode><tel>010-8827-4101</tel><title>포에마</title><zipcode>63014</zipcode></item><item><addr1>제주특별자치도 서귀포시 성산읍 한도로 256</addr1><areacode>39</areacode><cat1>B02</cat1><cat2>B0201</cat2><cat3>B02010700</cat3><contentid>733902</contentid><contenttypeid>32</contenttypeid><createdtime>20090513165010</createdtime><firstimage>http://tong.visitkorea.or.kr/cms/resource/41/733341_image2_1.jpg</firstimage><firstimage2>http://tong.visitkorea.or.kr/cms/resource/41/733341_image3_1.jpg</firstimage2><mapx>126.9345132486</mapx><mapy>33.4659879111</mapy><mlevel>6</mlevel><modifiedtime>20200423154224</modifiedtime><readcount>26601</readcount><sigungucode>3</sigungucode><tel>064-783-4830</tel><title>푸른제주 펜션</title><zipcode>63643</zipcode></item><item><addr1>제주특별자치도 제주시 애월읍 유수암평화5길 34-29</addr1><areacode>39</areacode><cat1>B02</cat1><cat2>B0201</cat2><cat3>B02010700</cat3><contentid>1887546</contentid><contenttypeid>32</contenttypeid><createdtime>20140121134515</createdtime><mapx>126.4050490077</mapx><mapy>33.4254894659</mapy><mlevel>6</mlevel><modifiedtime>20200908161323</modifiedtime><readcount>6878</readcount><sigungucode>4</sigungucode><tel>010-9282-7042</tel><title>프레리아펜션</title><zipcode>63067</zipcode></item><item><addr1>제주특별자치도 제주시 삼성로 10</addr1><addr2>(이도일동)</addr2><areacode>39</areacode><cat1>B02</cat1><cat2>B0201</cat2><cat3>B02010100</cat3><contentid>142971</contentid><contenttypeid>32</contenttypeid><createdtime>20030806000000</createdtime><firstimage>http://tong.visitkorea.or.kr/cms/resource/60/1339960_image2_1.jpg</firstimage><firstimage2>http://tong.visitkorea.or.kr/cms/resource/60/1339960_image3_1.jpg</firstimage2><mapx>126.5275532246</mapx><mapy>33.5051714812</mapy><mlevel>6</mlevel><modifiedtime>20200911143634</modifiedtime><readcount>27973</readcount><sigungucode>4</sigungucode><tel>064-758-4200</tel><title>하니크라운호텔</title><zipcode>63197</zipcode></item><item><addr1>제주특별자치도 서귀포시 표선면 민속해안로 351</addr1><areacode>39</areacode><cat1>B02</cat1><cat2>B0201</cat2><cat3>B02010700</cat3><contentid>1893993</contentid><contenttypeid>32</contenttypeid><createdtime>20140212161840</createdtime><mapx>126.8339727197</mapx><mapy>33.3115200069</mapy><mlevel>6</mlevel><modifiedtime>20200908153826</modifiedtime><readcount>4588</readcount><sigungucode>3</sigungucode><tel>010-3665-8201</tel><title>하얀언덕</title><zipcode>63629</zipcode></item><item><addr1>제주특별자치도 제주시 사장3길 32</addr1><areacode>39</areacode><cat1>B02</cat1><cat2>B0201</cat2><cat3>B02010100</cat3><contentid>142944</contentid><contenttypeid>32</contenttypeid><createdtime>20030806000000</createdtime><firstimage>http://tong.visitkorea.or.kr/cms/resource/80/1339980_image2_1.jpg</firstimage><firstimage2>http://tong.visitkorea.or.kr/cms/resource/80/1339980_image3_1.jpg</firstimage2><mapx>126.4914707498</mapx><mapy>33.4831344575</mapy><mlevel>6</mlevel><modifiedtime>20201019142526</modifiedtime><readcount>26021</readcount><sigungucode>4</sigungucode><tel>064-742-0061</tel><title>하와이관광호텔</title><zipcode>63136</zipcode></item><item><addr1>제주특별자치도 제주시 명림로 575-107</addr1><areacode>39</areacode><cat1>B02</cat1><cat2>B0201</cat2><cat3>B02010500</cat3><contentid>138195</contentid><contenttypeid>32</contenttypeid><createdtime>20051118000000</createdtime><firstimage>http://tong.visitkorea.or.kr/cms/resource/99/1180899_image2_1.jpg</firstimage><firstimage2>http://tong.visitkorea.or.kr/cms/resource/99/1180899_image3_1.jpg</firstimage2><mapx>126.6380671275</mapx><mapy>33.4488572540</mapy><mlevel>6</mlevel><modifiedtime>20201019143941</modifiedtime><readcount>40301</readcount><sigungucode>4</sigungucode><tel>064-725-9000</tel><title>한화리조트 제주</title><zipcode>63330</zipcode></item><item><addr1>제주특별자치도 서귀포시 성산읍 한도로 137</addr1><areacode>39</areacode><cat1>B02</cat1><cat2>B0201</cat2><cat3>B02010700</cat3><contentid>733924</contentid><contenttypeid>32</contenttypeid><createdtime>20090513165957</createdtime><firstimage>http://tong.visitkorea.or.kr/cms/resource/50/733350_image2_1.jpg</firstimage><firstimage2>http://tong.visitkorea.or.kr/cms/resource/50/733350_image3_1.jpg</firstimage2><mapx>126.9225419911</mapx><mapy>33.4691290372</mapy><mlevel>6</mlevel><modifiedtime>20200423153328</modifiedtime><readcount>21202</readcount><sigungucode>3</sigungucode><tel>064-784-8812</tel><title>해뜨는집 펜션</title><zipcode>63639</zipcode></item><item><addr1>제주특별자치도 서귀포시 표선면 민속해안로 537</addr1><areacode>39</areacode><cat1>B02</cat1><cat2>B0201</cat2><cat3>B02010500</cat3><contentid>138184</contentid><contenttypeid>32</contenttypeid><createdtime>20040615000000</createdtime><mapx>126.8447465590</mapx><mapy>33.3215135225</mapy><mlevel>6</mlevel><modifiedtime>20210616094830</modifiedtime><readcount>31407</readcount><sigungucode>3</sigungucode><title>해비치리조트</title><zipcode>63629</zipcode></item><item><addr1>제주특별자치도 서귀포시 표선면 민속해안로 537</addr1><areacode>39</areacode><cat1>B02</cat1><cat2>B0201</cat2><cat3>B02010100</cat3><contentid>551958</contentid><contenttypeid>32</contenttypeid><createdtime>20080421162814</createdtime><mapx>126.8447465590</mapx><mapy>33.3215135225</mapy><mlevel>6</mlevel><modifiedtime>20210609153145</modifiedtime><readcount>35268</readcount><sigungucode>3</sigungucode><title>해비치호텔</title><zipcode>63629</zipcode></item><item><addr1>제주특별자치도 서귀포시 천제연로 158-4</addr1><addr2>(중문동)</addr2><areacode>39</areacode><cat1>B02</cat1><cat2>B0201</cat2><cat3>B02011100</cat3><contentid>2626708</contentid><contenttypeid>32</contenttypeid><createdtime>20191017141845</createdtime><mapx>126.4213570284</mapx><mapy>33.2523116402</mapy><modifiedtime>20201214150539</modifiedtime><readcount>0</readcount><sigungucode>3</sigungucode><title>해성파크텔</title><zipcode>63546</zipcode></item><item><addr1>제주특별자치도 제주시 신광로 87</addr1><addr2>(연동)</addr2><areacode>39</areacode><cat1>B02</cat1><cat2>B0201</cat2><cat3>B02010100</cat3><contentid>142974</contentid><contenttypeid>32</contenttypeid><createdtime>20030806000000</createdtime><firstimage>http://tong.visitkorea.or.kr/cms/resource/54/1371654_image2_1.jpg</firstimage><firstimage2>http://tong.visitkorea.or.kr/cms/resource/54/1371654_image3_1.jpg</firstimage2><mapx>126.4902569387</mapx><mapy>33.4843704127</mapy><mlevel>6</mlevel><modifiedtime>20200911142947</modifiedtime><readcount>25069</readcount><sigungucode>4</sigungucode><tel>064-742-1001</tel><title>호텔 뉴크라운</title><zipcode>63133</zipcode></item><item><addr1>제주특별자치도 제주시 서부두2길 20</addr1><addr2>(건입동)</addr2><areacode>39</areacode><cat1>B02</cat1><cat2>B0201</cat2><cat3>B02010900</cat3><contentid>2411625</contentid><contenttypeid>32</contenttypeid><createdtime>20160907132404</createdtime><firstimage>http://tong.visitkorea.or.kr/cms/resource/16/2411516_image2_1.jpg</firstimage><firstimage2>http://tong.visitkorea.or.kr/cms/resource/16/2411516_image2_1.jpg</firstimage2><mapx>126.5266863526</mapx><mapy>33.5175395423</mapy><mlevel>6</mlevel><modifiedtime>20200904161940</modifiedtime><readcount>3215</readcount><sigungucode>4</sigungucode><tel>064-717-5000</tel><title>호텔 리젠트마린</title><zipcode>63276</zipcode></item><item><addr1>제주특별자치도 서귀포시 보목로64번길 178</addr1><addr2>(보목동)</addr2><areacode>39</areacode><cat1>B02</cat1><cat2>B0201</cat2><cat3>B02011100</cat3><contentid>2699863</contentid><contenttypeid>32</contenttypeid><createdtime>20201218151509</createdtime><mapx>126.5905592043</mapx><mapy>33.2444207422</mapy><modifiedtime>20201228154219</modifiedtime><readcount>0</readcount><sigungucode>3</sigungucode><title>호텔 서귀피안</title><zipcode>63599</zipcode></item><item><addr1>제주특별자치도 서귀포시 중문관광로72번길 53</addr1><areacode>39</areacode><cat1>B02</cat1><cat2>B0201</cat2><cat3>B02010100</cat3><contentid>142958</contentid><contenttypeid>32</contenttypeid><createdtime>20030313000000</createdtime><firstimage>http://tong.visitkorea.or.kr/cms/resource/64/1934064_image2_1.jpg</firstimage><firstimage2>http://tong.visitkorea.or.kr/cms/resource/64/1934064_image3_1.jpg</firstimage2><mapx>126.4080998986</mapx><mapy>33.2498950313</mapy><mlevel>6</mlevel><modifiedtime>20200122134336</modifiedtime><readcount>32856</readcount><sigungucode>3</sigungucode><tel>064-738-7001~11</tel><title>호텔 하나</title><zipcode>63535</zipcode></item><item><addr1>제주특별자치도 제주시 삼무로 14</addr1><addr2>(연동)</addr2><areacode>39</areacode><cat1>B02</cat1><cat2>B0201</cat2><cat3>B02010100</cat3><contentid>1979715</contentid><contenttypeid>32</contenttypeid><createdtime>20141226110508</createdtime><mapx>126.4882625456</mapx><mapy>33.4897531180</mapy><mlevel>6</mlevel><modifiedtime>20210512174316</modifiedtime><readcount>8819</readcount><sigungucode>4</sigungucode><tel>064-754-7000</tel><title>호텔레오</title><zipcode>63129</zipcode></item><item><addr1>제주특별자치도 제주시 삼무로1길 10-7</addr1><addr2>(연동)</addr2><areacode>39</areacode><cat1>B02</cat1><cat2>B0201</cat2><cat3>B02010900</cat3><contentid>1898255</contentid><contenttypeid>32</contenttypeid><createdtime>20140221172431</createdtime><mapx>126.4887597098</mapx><mapy>33.4903974992</mapy><mlevel>6</mlevel><modifiedtime>20200907173237</modifiedtime><readcount>5252</readcount><sigungucode>4</sigungucode><tel>064-747-6767</tel><title>호텔제이엠(HotelJM)</title><zipcode>63125</zipcode></item><item><addr1>제주특별자치도 서귀포시 칠십리로 87</addr1><areacode>39</areacode><cat1>B02</cat1><cat2>B0201</cat2><cat3>B02010900</cat3><contentid>2597306</contentid><contenttypeid>32</contenttypeid><createdtime>20190416110042</createdtime><mapx>126.5650115052</mapx><mapy>33.2405346545</mapy><mlevel>6</mlevel><modifiedtime>20201228113151</modifiedtime><readcount>15</readcount><sigungucode>3</sigungucode><tel>064-801-8888</tel><title>화인호텔</title><zipcode>63596</zipcode></item><item><addr1>제주특별자치도 제주시 애월읍 부룡수길 38-24</addr1><areacode>39</areacode><cat1>B02</cat1><cat2>B0201</cat2><cat3>B02010700</cat3><contentid>2406279</contentid><contenttypeid>32</contenttypeid><createdtime>20160830095331</createdtime><mapx>126.3561355098</mapx><mapy>33.4736889128</mapy><mlevel>6</mlevel><modifiedtime>20210614153451</modifiedtime><readcount>4101</readcount><sigungucode>4</sigungucode><tel>064-799-1240/1241</tel><title>후아힌제주 풀빌라</title><zipcode>63047</zipcode></item><item><addr1>제주특별자치도 서귀포시 성산읍 섭지코지로 107</addr1><areacode>39</areacode><cat1>B02</cat1><cat2>B0201</cat2><cat3>B02010500</cat3><contentid>583141</contentid><contenttypeid>32</contenttypeid><createdtime>20080704093519</createdtime><firstimage>http://tong.visitkorea.or.kr/cms/resource/03/2660103_image2_1.jpg</firstimage><firstimage2>http://tong.visitkorea.or.kr/cms/resource/03/2660103_image3_1.jpg</firstimage2><mapx>126.9280674087</mapx><mapy>33.4302500880</mapy><mlevel>6</mlevel><modifiedtime>20200616163409</modifiedtime><readcount>49533</readcount><sigungucode>3</sigungucode><tel>064-731-7000~5</tel><title>휘닉스 제주 섭지코지</title><zipcode>63642</zipcode></item><item><addr1>제주특별자치도 서귀포시 성산읍 중산간동로 4328-63</addr1><areacode>39</areacode><cat1>B02</cat1><cat2>B0201</cat2><cat3>B02010600</cat3><contentid>397643</contentid><contenttypeid>32</contenttypeid><createdtime>20080123152345</createdtime><firstimage>http://tong.visitkorea.or.kr/cms/resource/55/1933155_image2_1.jpg</firstimage><firstimage2>http://tong.visitkorea.or.kr/cms/resource/55/1933155_image3_1.jpg</firstimage2><mapx>126.8308461996</mapx><mapy>33.3899501906</mapy><mlevel>6</mlevel><modifiedtime>20200113113154</modifiedtime><readcount>25829</readcount><sigungucode>3</sigungucode><tel>064-784-7701</tel><title>C&amp;P리조트</title><zipcode>63635</zipcode></item><item><addr1>제주특별자치도 제주시 한경면 금등3길 25</addr1><areacode>39</areacode><cat1>B02</cat1><cat2>B0201</cat2><cat3>B02010900</cat3><contentid>974839</contentid><contenttypeid>32</contenttypeid><createdtime>20100315112218</createdtime><firstimage>http://tong.visitkorea.or.kr/cms/resource/58/1933158_image2_1.jpg</firstimage><firstimage2>http://tong.visitkorea.or.kr/cms/resource/58/1933158_image3_1.jpg</firstimage2><mapx>126.1933799000</mapx><mapy>33.3639485000</mapy><mlevel>6</mlevel><modifiedtime>20200526142349</modifiedtime><readcount>16458</readcount><sigungucode>4</sigungucode><tel>010-8664-3340</tel><title>IGH펜션</title><zipcode>63003</zipcode></item><item><addr1>제주특별자치도 서귀포시 중산간서로 241</addr1><areacode>39</areacode><cat1>B02</cat1><cat2>B0201</cat2><cat3>B02010700</cat3><contentid>139856</contentid><contenttypeid>32</contenttypeid><createdtime>20070731000000</createdtime><firstimage>http://tong.visitkorea.or.kr/cms/resource/02/561502_image2_1.jpg</firstimage><firstimage2>http://tong.visitkorea.or.kr/cms/resource/02/561502_image3_1.jpg</firstimage2><mapx>126.4856512683</mapx><mapy>33.2605478564</mapy><mlevel>6</mlevel><modifiedtime>20201126131205</modifiedtime><readcount>16111</readcount><sigungucode>3</sigungucode><tel>064-739-7891</tel><title>JJ하우스</title><zipcode>63558</zipcode></item><item><addr1>제주특별자치도 서귀포시 문필로35번길 46</addr1><areacode>39</areacode><cat1>B02</cat1><cat2>B0201</cat2><cat3>B02010500</cat3><contentid>1905280</contentid><contenttypeid>32</contenttypeid><createdtime>20140313171912</createdtime><mapx>126.5934979109</mapx><mapy>33.2412266967</mapy><mlevel>6</mlevel><modifiedtime>20200325162705</modifiedtime><readcount>5330</readcount><sigungucode>3</sigungucode><tel>064-732-8500</tel><title>THE BAY 제주리조트 (더베이 제주리조트)</title><zipcode>63599</zipcode></item><item><addr1>제주특별자치도 서귀포시 1100로 453-95</addr1><addr2>(회수동)</addr2><areacode>39</areacode><cat1>B02</cat1><cat2>B0201</cat2><cat3>B02010100</cat3><contentid>2499031</contentid><contenttypeid>32</contenttypeid><createdtime>20170706134716</createdtime><firstimage>http://tong.visitkorea.or.kr/cms/resource/25/2499025_image2_1.jpg</firstimage><firstimage2>http://tong.visitkorea.or.kr/cms/resource/25/2499025_image2_1.jpg</firstimage2><mapx>126.4439404253</mapx><mapy>33.2860916001</mapy><mlevel>6</mlevel><modifiedtime>20210524142922</modifiedtime><readcount>2369</readcount><sigungucode>3</sigungucode><tel>064-730-1200</tel><title>WE호텔</title><zipcode>63551</zipcode></item></items><numofrows>225</numofrows><pageno>1</pageno><totalcount>220</totalcount></body></response>"
      ]
     },
     "execution_count": 19,
     "metadata": {},
     "output_type": "execute_result"
    }
   ],
   "source": [
    "bs_obj"
   ]
  },
  {
   "cell_type": "code",
   "execution_count": 20,
   "id": "d0869115",
   "metadata": {},
   "outputs": [
    {
     "data": {
      "text/plain": [
       "220"
      ]
     },
     "execution_count": 20,
     "metadata": {},
     "output_type": "execute_result"
    }
   ],
   "source": [
    "items=bs_obj.findAll(\"item\")\n",
    "len(items)"
   ]
  },
  {
   "cell_type": "code",
   "execution_count": 21,
   "id": "11cf8f8a",
   "metadata": {},
   "outputs": [
    {
     "name": "stdout",
     "output_type": "stream",
     "text": [
      "가름게스트하우스,제주특별자치도 서귀포시 법환하로9번길 10,064-739-4499\n",
      "고망난돌민박,제주특별자치도 서귀포시 성산읍 일주동로 5464,064-787-1060\n",
      "고추잠자리,제주특별자치도 제주시 도령로 190,064-782-2434<br />010-6283-2434\n",
      "관음사가는길펜션,제주특별자치도 제주시 산록북로 819,064-724-9931\n",
      "귤익는마을,제주특별자치도 서귀포시 성산읍 신천서로 11,064-787-0543\n",
      "그린사이드,제주특별자치도 서귀포시 천제연로 51,064-738-0074\n",
      "그림리조트,제주특별자치도 제주시 서해안로 620-1,064-742-2080\n",
      "금호리조트 제주,제주특별자치도 서귀포시 남원읍 태위로 522-12,064-766-8000\n",
      "까델아스 리조트,제주특별자치도 제주시 애월읍 신엄9길 50,064-799-7996\n",
      "까사 데 비발디,제주특별자치도 서귀포시 안덕면 향교로 214, No data \n",
      "꼬뜨도르 호텔,제주특별자치도 제주시 구좌읍 일주동로 1724,064-782-0800\n",
      "꿈꾸는 노마드 [한국관광 품질인증/Korea Quality],제주특별자치도 서귀포시 선반로 54,010-4574-4459\n",
      "끄라비 펜션,제주특별자치도 서귀포시 토평로148번길 28,064-733-3399\n",
      "나.미.송,제주특별자치도 제주시 애월읍 평화로 2476,010-8307-0531\n",
      "나이스호텔,제주특별자치도 제주시 논세길 96-38, No data \n",
      "나인브릿지콘도,제주특별자치도 서귀포시 안덕면 광평로 34-156,064-793-9999\n",
      "나인스파빌,제주특별자치도 제주시 애월읍 하광로 518,064-727-1000\n",
      "남극노인성(남극노인성 전통한옥 휴양펜션),제주특별자치도 서귀포시 하신상로 216,064-733-8869\n",
      "노을담은뜨락,제주특별자치도 서귀포시 대정읍 노을해안로 416,010-5258-4993\n",
      "노인과바다 펜션,제주특별자치도 서귀포시 남원읍 남태해안로 11-12,064-764-9966\n",
      "뉴아일랜드 관광호텔,제주특별자치도 제주시 연동6길 17,064-712-1300\n",
      "담앤루리조트,제주특별자치도 서귀포시 이어도로343번길 63,064-739-6617\n",
      "더 세리 호스텔 [한국관광 품질인증/Korea Quality],제주특별자치도 서귀포시 법환상로2번길 97-17,064-739-9966\n",
      "더럭펜션,제주특별자치도 제주시 애월읍 상가북2길 14-3,010-2667-4735\n",
      "도라미 휴양펜션(도라미 관광 휴양펜션),제주특별자치도 서귀포시 일주동로 8215,010-7565-3309\n",
      "돈내코힐 리조트,제주특별자치도 서귀포시 돈내코로 180,010-7277-1439\n",
      "동박생이,제주특별자치도 제주시 구좌읍 월정1길 89,010-3697-4191\n",
      "동원호스텔(서귀포 동원호텔),제주특별자치도 서귀포시 솔동산로10번길 45,010-3199-6189\n",
      "드림캐슬,제주특별자치도 서귀포시 남원읍 남태해안로 364,064-764-0871\n",
      "라마다프라자 제주호텔,제주특별자치도 제주시 탑동로 66,064-729-8100\n",
      "라사니아캐슬,제주특별자치도 서귀포시 성산읍 일주동로 5199,064-784-6027\n",
      "라오체리조트,제주특별자치도 서귀포시 선반로65번길 69,064-738-7575\n",
      "라온호텔 앤 리조트,제주특별자치도 제주시 한림읍 금능남로 127,064-795-3333, 3000\n",
      "라운지하우스 제주다,제주특별자치도 서귀포시 안덕면 사계남로50번길 60,064-792-5670\n",
      "라헨느리조트,제주특별자치도 제주시 명림로 384,064-754-9000\n",
      "랜딩관 제주신화월드 호텔 앤 리조트,제주특별자치도 서귀포시 안덕면 신화역사로304번길 38,1670-8800\n",
      "레이크힐스 제주리조트,제주특별자치도 서귀포시 존제로 24,064-738-8778\n",
      "롯데시티호텔 제주,제주특별자치도 제주시 도령로 83,064-730-1000\n",
      "롯데호텔 제주,제주특별자치도 서귀포시 중문관광로72번길 35,064-731-1000\n",
      "롱비치펜션,제주특별자치도 서귀포시 남원읍 남태해안로 11-16,064-764-9944\n",
      "루체빌리조트,제주특별자치도 서귀포시 안덕면 산록남로 786,064-805-0114\n",
      "마레보 비치호텔,제주특별자치도 제주시 애월읍 곽지1길 23,064-799-2345\n",
      "먼나머루휴양펜션(제주편백한옥펜션 먼나머루),제주특별자치도 제주시 조천읍 남조로 2528,010-9300-3363\n",
      "메리어트관 제주신화월드 호텔 앤 리조트,제주특별자치도 서귀포시 안덕면 신화역사로304번길 38,1670-8800\n",
      "메모리 인 제주,제주특별자치도 서귀포시 염돈로 95,064-738-8933\n",
      "메종글래드 제주,제주특별자치도 제주시 노연로 80, No data \n",
      "물고기나무 게스트하우스,제주특별자치도 서귀포시 성산읍 중산간동로 4204-14,010-8566-1037\n",
      "미도모텔,제주특별자치도 서귀포시 성산읍 성산등용로 1,064-782-0820\n",
      "민박하얀집,제주특별자치도 제주시 한림읍 협재1길 9,064-796-3640\n",
      "밀라노모텔,제주특별자치도 서귀포시 솔동산로10번길 2,064-733-5421\n",
      "밀레니엄빌,제주특별자치도 서귀포시 보목로64번길 196,064-751-9980\n",
      "바다에누워 펜션,제주특별자치도 서귀포시 남원읍 위미해안로 60,064-764-6800\n",
      "바다하우스,제주특별자치도 제주시 애월읍 애월해안로 218,064-799-6192\n",
      "바다해호텔,제주특별자치도 서귀포시 천지연로 3-1,064-762-5530\n",
      "백패커스홈,제주특별자치도 서귀포시 중정로 24-7,010-7552-4002\n",
      "베니키아 중문호텔,제주특별자치도 서귀포시 천제연로 166,064-802-8889\n",
      "베니키아 호텔 제주,제주특별자치도 제주시 애월읍 애월해안로 554-10,064-799-3544\n",
      "베니키아 홈 더 제주리조트,제주특별자치도 제주시 한림읍 협재로 226,064-796-2908\n",
      "벤티모,제주특별자치도 제주시 연삼로 14, No data \n",
      "볕들이펜션,제주특별자치도 서귀포시 성산읍 일출로 284-4,010-3408-6767\n",
      "보물섬펜션,제주특별자치도 서귀포시 성산읍 한도로242번길 10-11,064-784-0039\n",
      "뷰티풀하우스,제주특별자치도 서귀포시 이어도로253번길 2,1833-9306\n",
      "브릭216,제주특별자치도 서귀포시 이어도로 216,010-4382-0216\n",
      "블루스카이 펜션,제주특별자치도 서귀포시 색달로 60,064-738-5958\n",
      "블루펄리조트,제주특별자치도 서귀포시 태평로92번길 35,064-739-4002\n",
      "비울채울,제주특별자치도 서귀포시 검은여로130번길 73,064-732-0388\n",
      "비치스토리호텔 [한국관광 품질인증/Korea Quality],제주특별자치도 제주시 조천읍 조함해안로 492-5,010-3639-4011\n",
      "빌레리조트,제주특별자치도 제주시 애월읍 고내로13길 79,064-799-2002\n",
      "사조리조트 제주,제주특별자치도 제주시 조천읍 일주동로 1616-7,064-782-8600\n",
      "산들애풀하우스,제주특별자치도 서귀포시 성산읍 서성일로 689-8,064-784-1988\n",
      "샘모루펜션,제주특별자치도 서귀포시 염돈로28번길 11,064-739-9756\n",
      "샤뜰레 펜션,제주특별자치도 서귀포시 서호호근로46번길 68,064-738-9852\n",
      "샤론의집,제주특별자치도 서귀포시 성산읍 금백조로131번길 177-1,010-8676-5948\n",
      "샤이니호텔,제주특별자치도 제주시 구좌읍 송당4길 7,064-783-5089\n",
      "서귀포 귤림성,제주특별자치도 서귀포시 일주동로 8941,064-739-3331\n",
      "서귀포KAL호텔,제주특별자치도 서귀포시 칠십리로 242,064-733-2001\n",
      "서머셋 제주신화월드,제주특별자치도 서귀포시 안덕면 신화역사로304번길 89,1670-8800\n",
      "서툰가족,제주특별자치도 서귀포시 안덕면 사계중앙로 41-15, No data \n",
      "소노벨 제주,제주특별자치도 제주시 조천읍 신북로 577,1588-4888\n",
      "소노캄 제주(구 샤인빌 리조트),제주특별자치도 서귀포시 표선면 일주동로 6347-17,02-1588-4888\n",
      "소랑호젠,제주특별자치도 서귀포시 남원읍 태위로 545,064-764-8016\n",
      "솔바람풍경소리,제주특별자치도 서귀포시 남원읍 태수로143번길 132-37,064-764-6002\n",
      "솔트,제주특별자치도 제주시 애월읍 애월해안로 226, No data \n",
      "송악리조트,제주특별자치도 서귀포시 대정읍 형제해안로 260,064-794-6307\n",
      "숨 게스트하우스 제주공항점,제주특별자치도 제주시 서광로5길 2-2,070-8810-0106\n",
      "숲속의궁전,제주특별자치도 서귀포시 염돈로28번길 46,064-739-1915\n",
      "쉴띠 휴양펜션,제주특별자치도 서귀포시 안덕면 한창로 104,010-3697-6695, 010-4692-1104\n",
      "스타즈 호텔 제주 로베로(구 로베로호텔),제주특별자치도 제주시 관덕로 26,064-757-7111\n",
      "스프링힐 리조트,제주특별자치도 서귀포시 천제연로 292,064-738-3077\n",
      "시드니호텔,제주특별자치도 제주시 애월읍 애월해안로 943,010-3892-9924\n",
      "신라스테이 제주,제주특별자치도 제주시 노연로 100,064-717-9000\n",
      "신성리조트,제주특별자치도 서귀포시 이어도로 989,064-739-0114\n",
      "신세계호텔,제주특별자치도 서귀포시 중앙로 2-2,064-732-5800\n",
      "썬랜드 호텔,제주특별자치도 제주시 신광로 92,064-744-1601~2\n",
      "씨에나펜션,제주특별자치도 서귀포시 예래로 267,064-739-6623\n",
      "씨에스 호텔&리조트,제주특별자치도 서귀포시 중문관광로 198,064-735-3000\n",
      "아망뜨펜션(제주),제주특별자치도 서귀포시 표선면 민속해안로 11,064-787-0300\n",
      "아인스 호스텔,제주특별자치도 서귀포시 태평로 432, No data \n",
      "아침의향기,제주특별자치도 서귀포시 색달중앙로 122,064-738-4679\n",
      "아트스테이 서귀포 하버[한국관광 품질인증/Korea Quality],제주특별자치도 서귀포시 태평로 436,064-801-9888\n",
      "앙끄리에펜션,제주특별자치도 서귀포시 색달로61번길 59-8,064-739-2727\n",
      "애월해안누리(구 하얀둥지),제주특별자치도 제주시 애월읍 애월해안로 298,064-799-1600\n",
      "에덴호스텔,제주특별자치도 제주시 서해안로 456-12, No data \n",
      "에코그린리조트,제주특별자치도 제주시 한림읍 귀덕6길 94,064-796-8333\n",
      "엘린호텔 [한국관광 품질인증/Korea Quality],제주특별자치도 제주시 은남1길 4,064-743-5600\n",
      "엠버리조트,제주특별자치도 제주시 1100로 2671-51, No data \n",
      "엠제이호텔,제주특별자치도 제주시 신광로4길 16, No data \n",
      "예래펜션,제주특별자치도 서귀포시 예래해안로 527,010-9744-7768\n",
      "예이츠 산장,제주특별자치도 서귀포시 남원읍 516로 918,064-767-3746\n",
      "오션그랜드호텔제주,제주특별자치도 제주시 조천읍 조함해안로 490,064-783-0007\n",
      "오션스위츠 제주호텔,제주특별자치도 제주시 탑동해안로 74,1577-9766, 064-720-6000\n",
      "오션하우스,제주특별자치도 서귀포시 안덕면 사계남로216번길 42,010-3693-4541\n",
      "오션힐스테이,제주특별자치도 서귀포시 안덕면 사계북로 208, No data \n",
      "와이리조트 제주(Y RESORT JJ),제주특별자치도 서귀포시 안덕면 화순중앙로124번길 75,064-794-7007\n",
      "용산 제주유스호스텔,제주특별자치도 서귀포시 이어도로 297,064-738-9502~4\n",
      "월드와이드 유스호스텔,제주특별자치도 제주시 애월읍 광령평화2길 116-12,064-799-7759\n",
      "이어도성 펜션,제주특별자치도 서귀포시 천제연로 113,064-738-0452\n",
      "제이뷰호텔,제주특별자치도 서귀포시 중산간서로 935,064-739-5200\n",
      "제주 그랑빌펜션,제주특별자치도 서귀포시 중문관광로 17,064-739-9994\n",
      "제주 금강산콘도,제주특별자치도 제주시 한림읍 협재로 210-18,064-795-7800\n",
      "제주 나폴리펜션,제주특별자치도 서귀포시 이어도로 139,064-738-4820\n",
      "제주 뉴오션리조트,제주특별자치도 제주시 애월읍 고내로13길 59,064-799-0797\n",
      "제주 라임오렌지빌,제주특별자치도 서귀포시 칠십리로 332,064-767-3888\n",
      "제주 마리나,제주특별자치도 제주시 신대로 45 (연동),064-746-6161\n",
      "제주 메이플호텔 [한국관광 품질인증/Korea Quality],제주특별자치도 제주시 원노형3길 41,064-745-6775\n",
      "제주 명도암유스호스텔,제주특별자치도 제주시 명림로 393,064-759-9596\n",
      "제주 블랙스톤 호텔,제주특별자치도 제주시 한림읍 한창로 925-122,064-796-9988\n",
      "제주 선샤인호텔,제주특별자치도 제주시 조천읍 신북로 481-9,064-780-4100\n",
      "제주 스위트호텔,제주특별자치도 서귀포시 중문관광로72번길 67,064-738-3800\n",
      "제주 스카브로호텔,제주특별자치도 서귀포시 예래해안로 15,064-738-1551\n",
      "제주 신신휴양펜션,제주특별자치도 서귀포시 안덕면 평화로319번길 133,010-9894-6411\n",
      "제주 써니데이,제주특별자치도 서귀포시 대포로 131,010-3808-5204\n",
      "제주 씨에코비치,제주특별자치도 제주시 조천읍 신흥관전길 89-5,064-782-4888~9\n",
      "제주 오리엔탈호텔,제주특별자치도 제주시 탑동로 47,064-752-8222\n",
      "제주 지삿개풍경,제주특별자치도 서귀포시 이어도로 150,064-738-5353\n",
      "제주 추억여행,제주특별자치도 서귀포시 태평로92번길 21,064-739-7999\n",
      "제주 칼 호텔,제주특별자치도 제주시 중앙로 151,064-724-2001\n",
      "제주 캐슬렉스 골프텔,제주특별자치도 서귀포시 안덕면 평화로 1241,064-793-6630\n",
      "제주 퍼시픽 호텔,제주특별자치도 제주시 서사로 20,064-758-2500\n",
      "제주 펄 관광호텔,제주특별자치도 제주시 신대로20길 49,064-742-8871\n",
      "제주 펜션 포시즌(Fourseason),제주특별자치도 서귀포시 칠십리로285번길 3,064-732-5222\n",
      "제주 하이랜드 펜션,제주특별자치도 서귀포시 이어도로 244,064-738-1944\n",
      "제주 휴펜션,제주특별자치도 서귀포시 구산봉로21번길 62,064-900-3336\n",
      "제주로얄호텔,제주특별자치도 제주시 신대로12길 45,064-743-2222\n",
      "제주마린리조트 햇살이든,제주특별자치도 서귀포시 성산읍 성산등용로 112-7,064-784-6161\n",
      "제주마중,제주특별자치도 제주시 한림읍 금능9길 10-1,010-8326-9116\n",
      "제주메이더호텔,제주특별자치도 제주시 구좌읍 일주동로 1626,064-766-8888\n",
      "제주목화휴양펜션,제주특별자치도 서귀포시 남원읍 태위로 485,064-702-4334\n",
      "제주바다산책,제주특별자치도 서귀포시 남원읍 남태해안로 11-14,064-764-9955\n",
      "제주바닷가하우스,제주특별자치도 서귀포시 대정읍 형제해안로 254,064-794-0977\n",
      "제주브릭스,제주특별자치도 서귀포시 태평로 121, No data \n",
      "제주성산 아일랜드 펜션,제주특별자치도 서귀포시 성산읍 금백조로131번길 176,010-4750-7732<br />010-3789-1645\n",
      "제주스웨덴펜션,제주특별자치도 제주시 한림읍 명재로 100-45,064-796-3721\n",
      "제주스카이휴양펜션,제주특별자치도 서귀포시 표선면 세성로 352-32,010-5346-3039\n",
      "제주신라호텔,제주특별자치도 서귀포시 중문관광로72번길 75,064-735-5114\n",
      "제주썬레이크빌,제주특별자치도 서귀포시 성산읍 한도로 49,064-782-2277\n",
      "제주알(R)호텔 [한국관광 품질인증/Korea Quality],제주특별자치도 제주시 서광로14길 5,064-757-7734\n",
      "제주애 펜션,제주특별자치도 서귀포시 성산읍 일주동로 5047,010-3668-3045\n",
      "제주에코스위츠[한국관광 품질인증/Korea Quality],제주특별자치도 서귀포시 중문상로 207-13,064-738-9975\n",
      "제주오션팰리스호텔,제주특별자치도 서귀포시 중앙로 14, No data \n",
      "제주올레하우스,제주특별자치도 제주시 구좌읍 덕행로 450-23,064-783-1152\n",
      "제주올리브,제주특별자치도 서귀포시 남원읍 태위로 604-13,064-764-0505\n",
      "제주이도펜션(구 제주펜트하우스),제주특별자치도 서귀포시 일주서로 166-61,064-738-4450<br />064-738-4460\n",
      "제주카사블랑카,제주특별자치도 서귀포시 학수암로 111,064-739-7739\n",
      "제주캐슬펜션,제주특별자치도 서귀포시 태평로92번길 36,064-739-6780\n",
      "제주태흥리조트,제주특별자치도 서귀포시 남원읍 태위로 984-7,064-764-8118\n",
      "제주팔레스호텔,제주특별자치도 제주시 탑동로 9,064-753-8811\n",
      "제주펜션 향림원,제주특별자치도 서귀포시 칠십리로394번길 8-3,064-733-5799\n",
      "제주해안휴양펜션,제주특별자치도 서귀포시 안덕면 사계남로 89,064-794-1886\n",
      "제주향,제주특별자치도 서귀포시 색달로61번길 57,064-739-5665\n",
      "조은리조트,제주특별자치도 서귀포시 이어도로 721,064-739-0640\n",
      "중문훼미리리조트,제주특별자치도 서귀포시 소보리당로164번길 83,064-738-7871\n",
      "지중해리조트,제주특별자치도 서귀포시 남원읍 남태해안로 445,064-764-0110\n",
      "천지연크리스탈호텔,제주특별자치도 서귀포시 천지연로 39, No data \n",
      "청재설헌,제주특별자치도 서귀포시 인정오름로 135-18,064-732-2020\n",
      "취다선리조트(취다선 리조트 Tea&Meditation),제주특별자치도 서귀포시 성산읍 해맞이해안로 2688,010-5117-7552\n",
      "칠십리호텔,제주특별자치도 서귀포시 태평로353번길 22-3, No data \n",
      "카이 호스텔,제주특별자치도 제주시 한림읍 협재2길 10, No data \n",
      "카이 호스텔,제주특별자치도 제주시 한림읍 협재2길 10,064-796-2428\n",
      "카이로스,제주특별자치도 제주시 애월읍 장유길 49-43,010-7478-5707\n",
      "켄싱턴리조트 서귀포,제주특별자치도 서귀포시 이어도로 684,064-739-9001\n",
      "켄싱턴리조트 제주한림,제주특별자치도 제주시 한림읍 한림해안로 530,064-796-9600\n",
      "코델리아리조트,제주특별자치도 서귀포시 성산읍 일주동로4120번길 23-20,070-4548-2200\n",
      "클럽다인리조트,제주특별자치도 제주시 애월읍 애월해안로 400-9,064-799-2600\n",
      "킴스캐빈,제주특별자치도 서귀포시 성산읍 시흥상동로53번길 88-54,064-783-5026\n",
      "타미우스골프&빌리지,제주특별자치도 제주시 애월읍 화전길 201,064-793-0707\n",
      "테디 밸리 골프&리조트 호텔,제주특별자치도 서귀포시 안덕면 한창로 365,064-793-1000\n",
      "토비스콘도 제주,제주특별자치도 제주시 애월읍 애월로1길 8,064-799-4400\n",
      "티파니에서 아침을,제주특별자치도 서귀포시 남원읍 서의로154번길 12,064-764-9669\n",
      "틸다하우스,제주특별자치도 제주시 한경면 중산간서로 3367-1,010-9013-9064\n",
      "파밀리아,제주특별자치도 서귀포시 대포동서로 63-20, No data \n",
      "팜밸리리조트,제주특별자치도 서귀포시 중산간서로 193,064-738-0002, 064-738-7705\n",
      "펜션연리,제주특별자치도 서귀포시 논짓물로 50,064-739-2564\n",
      "펠리스타운,제주특별자치도 서귀포시 성산읍 시흥하동로50번길 23,064-782-4003\n",
      "포도호텔,제주특별자치도 서귀포시 안덕면 산록남로 863,대표 064-792-5200<br />예약 064-792-8000\n",
      "포에마,제주특별자치도 제주시 한림읍 명월로 13,010-8827-4101\n",
      "푸른제주 펜션,제주특별자치도 서귀포시 성산읍 한도로 256,064-783-4830\n",
      "프레리아펜션,제주특별자치도 제주시 애월읍 유수암평화5길 34-29,010-9282-7042\n",
      "하니크라운호텔,제주특별자치도 제주시 삼성로 10,064-758-4200\n",
      "하얀언덕,제주특별자치도 서귀포시 표선면 민속해안로 351,010-3665-8201\n",
      "하와이관광호텔,제주특별자치도 제주시 사장3길 32,064-742-0061\n",
      "한화리조트 제주,제주특별자치도 제주시 명림로 575-107,064-725-9000\n",
      "해뜨는집 펜션,제주특별자치도 서귀포시 성산읍 한도로 137,064-784-8812\n",
      "해비치리조트,제주특별자치도 서귀포시 표선면 민속해안로 537, No data \n",
      "해비치호텔,제주특별자치도 서귀포시 표선면 민속해안로 537, No data \n",
      "해성파크텔,제주특별자치도 서귀포시 천제연로 158-4, No data \n",
      "호텔 뉴크라운,제주특별자치도 제주시 신광로 87,064-742-1001\n",
      "호텔 리젠트마린,제주특별자치도 제주시 서부두2길 20,064-717-5000\n",
      "호텔 서귀피안,제주특별자치도 서귀포시 보목로64번길 178, No data \n",
      "호텔 하나,제주특별자치도 서귀포시 중문관광로72번길 53,064-738-7001~11\n",
      "호텔레오,제주특별자치도 제주시 삼무로 14,064-754-7000\n",
      "호텔제이엠(HotelJM),제주특별자치도 제주시 삼무로1길 10-7,064-747-6767\n",
      "화인호텔,제주특별자치도 서귀포시 칠십리로 87,064-801-8888\n",
      "후아힌제주 풀빌라,제주특별자치도 제주시 애월읍 부룡수길 38-24,064-799-1240/1241\n",
      "휘닉스 제주 섭지코지,제주특별자치도 서귀포시 성산읍 섭지코지로 107,064-731-7000~5\n",
      "C&P리조트,제주특별자치도 서귀포시 성산읍 중산간동로 4328-63,064-784-7701\n",
      "IGH펜션,제주특별자치도 제주시 한경면 금등3길 25,010-8664-3340\n",
      "JJ하우스,제주특별자치도 서귀포시 중산간서로 241,064-739-7891\n",
      "THE BAY 제주리조트 (더베이 제주리조트),제주특별자치도 서귀포시 문필로35번길 46,064-732-8500\n",
      "WE호텔,제주특별자치도 서귀포시 1100로 453-95,064-730-1200\n"
     ]
    }
   ],
   "source": [
    "for item in items :\n",
    "    try : \n",
    "        print(item.find('title').text, end=',')\n",
    "        print(item.find('addr1').text, end=',')\n",
    "        print(item.find('tel').text)\n",
    "    except :\n",
    "        print(' No data ')\n"
   ]
  },
  {
   "cell_type": "code",
   "execution_count": null,
   "id": "353f156e",
   "metadata": {},
   "outputs": [],
   "source": []
  },
  {
   "cell_type": "code",
   "execution_count": 48,
   "id": "f0a70b3f",
   "metadata": {},
   "outputs": [],
   "source": [
    "### 연습문제: 위에서 추출한 데이터를 df로 저장하시오"
   ]
  },
  {
   "cell_type": "code",
   "execution_count": 49,
   "id": "b5e2707b",
   "metadata": {},
   "outputs": [],
   "source": [
    "import pandas as pd\n"
   ]
  },
  {
   "cell_type": "code",
   "execution_count": 50,
   "id": "4eea77b0",
   "metadata": {},
   "outputs": [],
   "source": [
    "# 리스트를 만들고 리스트를 활용해서 df를 만든다"
   ]
  },
  {
   "cell_type": "code",
   "execution_count": 51,
   "id": "3b2c835a",
   "metadata": {},
   "outputs": [],
   "source": [
    "# 정보를 저장할 빈 리스트를 만든다\n",
    "title=[]\n",
    "address=[]\n",
    "tel=[]"
   ]
  },
  {
   "cell_type": "code",
   "execution_count": 52,
   "id": "7cc85e55",
   "metadata": {},
   "outputs": [
    {
     "data": {
      "text/plain": [
       "220"
      ]
     },
     "execution_count": 52,
     "metadata": {},
     "output_type": "execute_result"
    }
   ],
   "source": [
    "# 필요는 위에서 작성햇지만 혹시나 해서.\n",
    "items=bs_obj.findAll(\"item\")\n",
    "len(items)"
   ]
  },
  {
   "cell_type": "code",
   "execution_count": 53,
   "id": "07376dc5",
   "metadata": {},
   "outputs": [],
   "source": [
    "#\"tel\"이 없는 경우가 있다.~!!!(자료조사중 tel뿐만 아니라 다른게 생길수도 잇다..그러면 어찌할것인가..)\n",
    "for item in items :\n",
    "        title.append(item.find('title').text)\n",
    "        address.append(item.find('addr1').text)\n",
    "        try : \n",
    "            tel.append(item.find('tel').text)\n",
    "        except :\n",
    "            tel.append(\"no data\")\n",
    "            "
   ]
  },
  {
   "cell_type": "code",
   "execution_count": 54,
   "id": "95ba8485",
   "metadata": {},
   "outputs": [],
   "source": [
    "stay_dict={\"title\": title, \"address\" : address, \"tel\" : tel}\n",
    "stay_df=pd.DataFrame(stay_dict)"
   ]
  },
  {
   "cell_type": "code",
   "execution_count": 55,
   "id": "164bfd96",
   "metadata": {},
   "outputs": [
    {
     "data": {
      "text/html": [
       "<div>\n",
       "<style scoped>\n",
       "    .dataframe tbody tr th:only-of-type {\n",
       "        vertical-align: middle;\n",
       "    }\n",
       "\n",
       "    .dataframe tbody tr th {\n",
       "        vertical-align: top;\n",
       "    }\n",
       "\n",
       "    .dataframe thead th {\n",
       "        text-align: right;\n",
       "    }\n",
       "</style>\n",
       "<table border=\"1\" class=\"dataframe\">\n",
       "  <thead>\n",
       "    <tr style=\"text-align: right;\">\n",
       "      <th></th>\n",
       "      <th>title</th>\n",
       "      <th>address</th>\n",
       "      <th>tel</th>\n",
       "    </tr>\n",
       "  </thead>\n",
       "  <tbody>\n",
       "    <tr>\n",
       "      <th>0</th>\n",
       "      <td>가름게스트하우스</td>\n",
       "      <td>제주특별자치도 서귀포시 법환하로9번길 10</td>\n",
       "      <td>064-739-4499</td>\n",
       "    </tr>\n",
       "    <tr>\n",
       "      <th>1</th>\n",
       "      <td>고망난돌민박</td>\n",
       "      <td>제주특별자치도 서귀포시 성산읍 일주동로 5464</td>\n",
       "      <td>064-787-1060</td>\n",
       "    </tr>\n",
       "    <tr>\n",
       "      <th>2</th>\n",
       "      <td>고추잠자리</td>\n",
       "      <td>제주특별자치도 제주시 도령로 190</td>\n",
       "      <td>064-782-2434&lt;br /&gt;010-6283-2434</td>\n",
       "    </tr>\n",
       "    <tr>\n",
       "      <th>3</th>\n",
       "      <td>관음사가는길펜션</td>\n",
       "      <td>제주특별자치도 제주시 산록북로 819</td>\n",
       "      <td>064-724-9931</td>\n",
       "    </tr>\n",
       "    <tr>\n",
       "      <th>4</th>\n",
       "      <td>귤익는마을</td>\n",
       "      <td>제주특별자치도 서귀포시 성산읍 신천서로 11</td>\n",
       "      <td>064-787-0543</td>\n",
       "    </tr>\n",
       "    <tr>\n",
       "      <th>...</th>\n",
       "      <td>...</td>\n",
       "      <td>...</td>\n",
       "      <td>...</td>\n",
       "    </tr>\n",
       "    <tr>\n",
       "      <th>215</th>\n",
       "      <td>C&amp;P리조트</td>\n",
       "      <td>제주특별자치도 서귀포시 성산읍 중산간동로 4328-63</td>\n",
       "      <td>064-784-7701</td>\n",
       "    </tr>\n",
       "    <tr>\n",
       "      <th>216</th>\n",
       "      <td>IGH펜션</td>\n",
       "      <td>제주특별자치도 제주시 한경면 금등3길 25</td>\n",
       "      <td>010-8664-3340</td>\n",
       "    </tr>\n",
       "    <tr>\n",
       "      <th>217</th>\n",
       "      <td>JJ하우스</td>\n",
       "      <td>제주특별자치도 서귀포시 중산간서로 241</td>\n",
       "      <td>064-739-7891</td>\n",
       "    </tr>\n",
       "    <tr>\n",
       "      <th>218</th>\n",
       "      <td>THE BAY 제주리조트 (더베이 제주리조트)</td>\n",
       "      <td>제주특별자치도 서귀포시 문필로35번길 46</td>\n",
       "      <td>064-732-8500</td>\n",
       "    </tr>\n",
       "    <tr>\n",
       "      <th>219</th>\n",
       "      <td>WE호텔</td>\n",
       "      <td>제주특별자치도 서귀포시 1100로 453-95</td>\n",
       "      <td>064-730-1200</td>\n",
       "    </tr>\n",
       "  </tbody>\n",
       "</table>\n",
       "<p>220 rows × 3 columns</p>\n",
       "</div>"
      ],
      "text/plain": [
       "                         title                         address  \\\n",
       "0                     가름게스트하우스         제주특별자치도 서귀포시 법환하로9번길 10   \n",
       "1                       고망난돌민박      제주특별자치도 서귀포시 성산읍 일주동로 5464   \n",
       "2                        고추잠자리             제주특별자치도 제주시 도령로 190   \n",
       "3                     관음사가는길펜션            제주특별자치도 제주시 산록북로 819   \n",
       "4                        귤익는마을        제주특별자치도 서귀포시 성산읍 신천서로 11   \n",
       "..                         ...                             ...   \n",
       "215                     C&P리조트  제주특별자치도 서귀포시 성산읍 중산간동로 4328-63   \n",
       "216                      IGH펜션         제주특별자치도 제주시 한경면 금등3길 25   \n",
       "217                      JJ하우스          제주특별자치도 서귀포시 중산간서로 241   \n",
       "218  THE BAY 제주리조트 (더베이 제주리조트)         제주특별자치도 서귀포시 문필로35번길 46   \n",
       "219                       WE호텔       제주특별자치도 서귀포시 1100로 453-95   \n",
       "\n",
       "                                 tel  \n",
       "0                       064-739-4499  \n",
       "1                       064-787-1060  \n",
       "2    064-782-2434<br />010-6283-2434  \n",
       "3                       064-724-9931  \n",
       "4                       064-787-0543  \n",
       "..                               ...  \n",
       "215                     064-784-7701  \n",
       "216                    010-8664-3340  \n",
       "217                     064-739-7891  \n",
       "218                     064-732-8500  \n",
       "219                     064-730-1200  \n",
       "\n",
       "[220 rows x 3 columns]"
      ]
     },
     "execution_count": 55,
     "metadata": {},
     "output_type": "execute_result"
    }
   ],
   "source": [
    "stay_df"
   ]
  },
  {
   "cell_type": "code",
   "execution_count": null,
   "id": "faf92849",
   "metadata": {},
   "outputs": [],
   "source": []
  },
  {
   "cell_type": "code",
   "execution_count": null,
   "id": "49b551a2",
   "metadata": {},
   "outputs": [],
   "source": []
  },
  {
   "cell_type": "code",
   "execution_count": null,
   "id": "a3803363",
   "metadata": {},
   "outputs": [],
   "source": []
  },
  {
   "cell_type": "code",
   "execution_count": null,
   "id": "84c545e3",
   "metadata": {},
   "outputs": [],
   "source": []
  },
  {
   "cell_type": "code",
   "execution_count": null,
   "id": "3432222a",
   "metadata": {},
   "outputs": [],
   "source": [
    "### 특정 지역을 선택해서 관광정보에서 제공하는 데이터를 수집해보세요"
   ]
  },
  {
   "cell_type": "markdown",
   "id": "658619dc",
   "metadata": {},
   "source": [
    "http://api.visitkorea.or.kr/upload/manual/sample/areaCode_sample1.xml"
   ]
  },
  {
   "attachments": {
    "image.png": {
     "image/png": "[encoded data removed]"
    }
   },
   "cell_type": "markdown",
   "id": "05e70e1d",
   "metadata": {},
   "source": [
    "![image.png](attachment:image.png)"
   ]
  },
  {
   "cell_type": "code",
   "execution_count": 86,
   "id": "73ddebf3",
   "metadata": {},
   "outputs": [],
   "source": [
    "\n",
    "endpoint='http://api.visitkorea.or.kr/openapi/service/rest/KorService/areaBasedList?'   #마지막에 반드시 ? 붙일것\n",
    "\n",
    "serviceKey=\"rARptoGnShjHuKoFh7xSXKN1gipeKmxXPklgBJkPJVeTa85Ohsdy%2B3X98R4mbEoJTYItkEceG2oDoCW8vs7MQA%3D%3D\""
   ]
  },
  {
   "cell_type": "code",
   "execution_count": 87,
   "id": "22cc448b",
   "metadata": {},
   "outputs": [],
   "source": [
    "#  paramset  구성\n",
    "numOfRows = \"225\"\n",
    "pageNo = \"1\"\n",
    "MobileOS = \"ETC\"\n",
    "MobileApp = \"AppTest\"\n",
    "arrange = \"A\"\n",
    "listYN = \"Y\"\n",
    "areaCode =\"32\"  #강원도\n",
    "sigunguCode =\"1\"\n",
    "# contentTypeId = 12번은 관광지\n",
    "contentTypeId = \"12\"\n"
   ]
  },
  {
   "cell_type": "code",
   "execution_count": 88,
   "id": "fbfcf608",
   "metadata": {},
   "outputs": [],
   "source": [
    "url = endpoint + paramset\n",
    "result = requests.get(url)\n",
    "bs_obj = BeautifulSoup(result.content,\"html.parser\")\n",
    "items = bs_obj.findAll('item')\n"
   ]
  },
  {
   "cell_type": "code",
   "execution_count": 89,
   "id": "496de7d1",
   "metadata": {},
   "outputs": [],
   "source": [
    "title=[]\n",
    "address=[]\n",
    "tel=[]"
   ]
  },
  {
   "cell_type": "code",
   "execution_count": 90,
   "id": "bf7b8d82",
   "metadata": {},
   "outputs": [],
   "source": [
    "for item in items :\n",
    "        title.append(item.find('title').text)\n",
    "        address.append(item.find('addr1').text)\n",
    "        try : \n",
    "            tel.append(item.find('tel').text)\n",
    "        except :\n",
    "            tel.append(\"no data\")"
   ]
  },
  {
   "cell_type": "code",
   "execution_count": 91,
   "id": "2376f4b4",
   "metadata": {},
   "outputs": [],
   "source": [
    "stay_dict={\"title\": title, \"address\" : address, \"tel\" : tel}\n",
    "stay_df=pd.DataFrame(stay_dict)"
   ]
  },
  {
   "cell_type": "code",
   "execution_count": 92,
   "id": "a71fee8c",
   "metadata": {},
   "outputs": [
    {
     "data": {
      "text/html": [
       "<div>\n",
       "<style scoped>\n",
       "    .dataframe tbody tr th:only-of-type {\n",
       "        vertical-align: middle;\n",
       "    }\n",
       "\n",
       "    .dataframe tbody tr th {\n",
       "        vertical-align: top;\n",
       "    }\n",
       "\n",
       "    .dataframe thead th {\n",
       "        text-align: right;\n",
       "    }\n",
       "</style>\n",
       "<table border=\"1\" class=\"dataframe\">\n",
       "  <thead>\n",
       "    <tr style=\"text-align: right;\">\n",
       "      <th></th>\n",
       "      <th>title</th>\n",
       "      <th>address</th>\n",
       "      <th>tel</th>\n",
       "    </tr>\n",
       "  </thead>\n",
       "  <tbody>\n",
       "    <tr>\n",
       "      <th>0</th>\n",
       "      <td>가름게스트하우스</td>\n",
       "      <td>제주특별자치도 서귀포시 법환하로9번길 10</td>\n",
       "      <td>064-739-4499</td>\n",
       "    </tr>\n",
       "    <tr>\n",
       "      <th>1</th>\n",
       "      <td>고망난돌민박</td>\n",
       "      <td>제주특별자치도 서귀포시 성산읍 일주동로 5464</td>\n",
       "      <td>064-787-1060</td>\n",
       "    </tr>\n",
       "    <tr>\n",
       "      <th>2</th>\n",
       "      <td>고추잠자리</td>\n",
       "      <td>제주특별자치도 제주시 도령로 190</td>\n",
       "      <td>064-782-2434&lt;br /&gt;010-6283-2434</td>\n",
       "    </tr>\n",
       "    <tr>\n",
       "      <th>3</th>\n",
       "      <td>관음사가는길펜션</td>\n",
       "      <td>제주특별자치도 제주시 산록북로 819</td>\n",
       "      <td>064-724-9931</td>\n",
       "    </tr>\n",
       "    <tr>\n",
       "      <th>4</th>\n",
       "      <td>귤익는마을</td>\n",
       "      <td>제주특별자치도 서귀포시 성산읍 신천서로 11</td>\n",
       "      <td>064-787-0543</td>\n",
       "    </tr>\n",
       "    <tr>\n",
       "      <th>...</th>\n",
       "      <td>...</td>\n",
       "      <td>...</td>\n",
       "      <td>...</td>\n",
       "    </tr>\n",
       "    <tr>\n",
       "      <th>215</th>\n",
       "      <td>C&amp;P리조트</td>\n",
       "      <td>제주특별자치도 서귀포시 성산읍 중산간동로 4328-63</td>\n",
       "      <td>064-784-7701</td>\n",
       "    </tr>\n",
       "    <tr>\n",
       "      <th>216</th>\n",
       "      <td>IGH펜션</td>\n",
       "      <td>제주특별자치도 제주시 한경면 금등3길 25</td>\n",
       "      <td>010-8664-3340</td>\n",
       "    </tr>\n",
       "    <tr>\n",
       "      <th>217</th>\n",
       "      <td>JJ하우스</td>\n",
       "      <td>제주특별자치도 서귀포시 중산간서로 241</td>\n",
       "      <td>064-739-7891</td>\n",
       "    </tr>\n",
       "    <tr>\n",
       "      <th>218</th>\n",
       "      <td>THE BAY 제주리조트 (더베이 제주리조트)</td>\n",
       "      <td>제주특별자치도 서귀포시 문필로35번길 46</td>\n",
       "      <td>064-732-8500</td>\n",
       "    </tr>\n",
       "    <tr>\n",
       "      <th>219</th>\n",
       "      <td>WE호텔</td>\n",
       "      <td>제주특별자치도 서귀포시 1100로 453-95</td>\n",
       "      <td>064-730-1200</td>\n",
       "    </tr>\n",
       "  </tbody>\n",
       "</table>\n",
       "<p>220 rows × 3 columns</p>\n",
       "</div>"
      ],
      "text/plain": [
       "                         title                         address  \\\n",
       "0                     가름게스트하우스         제주특별자치도 서귀포시 법환하로9번길 10   \n",
       "1                       고망난돌민박      제주특별자치도 서귀포시 성산읍 일주동로 5464   \n",
       "2                        고추잠자리             제주특별자치도 제주시 도령로 190   \n",
       "3                     관음사가는길펜션            제주특별자치도 제주시 산록북로 819   \n",
       "4                        귤익는마을        제주특별자치도 서귀포시 성산읍 신천서로 11   \n",
       "..                         ...                             ...   \n",
       "215                     C&P리조트  제주특별자치도 서귀포시 성산읍 중산간동로 4328-63   \n",
       "216                      IGH펜션         제주특별자치도 제주시 한경면 금등3길 25   \n",
       "217                      JJ하우스          제주특별자치도 서귀포시 중산간서로 241   \n",
       "218  THE BAY 제주리조트 (더베이 제주리조트)         제주특별자치도 서귀포시 문필로35번길 46   \n",
       "219                       WE호텔       제주특별자치도 서귀포시 1100로 453-95   \n",
       "\n",
       "                                 tel  \n",
       "0                       064-739-4499  \n",
       "1                       064-787-1060  \n",
       "2    064-782-2434<br />010-6283-2434  \n",
       "3                       064-724-9931  \n",
       "4                       064-787-0543  \n",
       "..                               ...  \n",
       "215                     064-784-7701  \n",
       "216                    010-8664-3340  \n",
       "217                     064-739-7891  \n",
       "218                     064-732-8500  \n",
       "219                     064-730-1200  \n",
       "\n",
       "[220 rows x 3 columns]"
      ]
     },
     "execution_count": 92,
     "metadata": {},
     "output_type": "execute_result"
    }
   ],
   "source": [
    "stay_df"
   ]
  },
  {
   "cell_type": "code",
   "execution_count": null,
   "id": "d4d6a521",
   "metadata": {},
   "outputs": [],
   "source": [
    "#???왜 제주도가 계속 나오지??"
   ]
  },
  {
   "cell_type": "code",
   "execution_count": null,
   "id": "0c0f83d4",
   "metadata": {},
   "outputs": [],
   "source": []
  }
 ],
 "metadata": {
  "kernelspec": {
   "display_name": "Python 3",
   "language": "python",
   "name": "python3"
  },
  "language_info": {
   "codemirror_mode": {
    "name": "ipython",
    "version": 3
   },
   "file_extension": ".py",
   "mimetype": "text/x-python",
   "name": "python",
   "nbconvert_exporter": "python",
   "pygments_lexer": "ipython3",
   "version": "3.8.8"
  }
 },
 "nbformat": 4,
 "nbformat_minor": 5
}
