{
 "cells": [
  {
   "cell_type": "code",
   "execution_count": null,
   "id": "2a9bef93",
   "metadata": {},
   "outputs": [],
   "source": [
    "hadoop fs -mkdir /user/root  \n",
    "#하둡에   /user/root 디렉터리를 생성한다.\n",
    "\n",
    "hadoop fs -put testlog /user/root/testlog  \n",
    "\n",
    "# hadoop fs -put [로컬 디렉토리 파일 경로] [목적지]\n",
    "\n",
    "# testlog라는 파일을 HDFS의 /user/root라는 HDFS 디렉터리에 업로드 한다"
   ]
  },
  {
   "cell_type": "code",
   "execution_count": 10,
   "id": "c4c22900",
   "metadata": {},
   "outputs": [
    {
     "ename": "SyntaxError",
     "evalue": "invalid syntax (<ipython-input-10-6d08bfc2f39f>, line 6)",
     "output_type": "error",
     "traceback": [
      "\u001b[1;36m  File \u001b[1;32m\"<ipython-input-10-6d08bfc2f39f>\"\u001b[1;36m, line \u001b[1;32m6\u001b[0m\n\u001b[1;33m    from pyspark.sql.functions import org.apache.spark.sql.functions.monotonically_increasing_id\u001b[0m\n\u001b[1;37m                                         ^\u001b[0m\n\u001b[1;31mSyntaxError\u001b[0m\u001b[1;31m:\u001b[0m invalid syntax\n"
     ]
    }
   ],
   "source": [
    "from pyspark.sql.functions import col\n",
    "from pyspark.sql.functions import lit\n",
    "from pyspark.sql.types import StructField, StructType, StringType, IntegerType\n",
    "from pyspark.sql.functions import *\n",
    "from pyspark.sql.functions import org.apache.spark.sql.functions.monotonically_increasing_id\n",
    "from pyspark.sql.functions  import monotonically_increasing_id\n",
    "from pyspark.sql.functions import split\n",
    "from pyspark.sql.functions import sum\n",
    "from pyspark.sql import *\n",
    "from pyspark.sql import functions as f\n",
    "from pyspark.sql import window\n"
   ]
  },
  {
   "cell_type": "code",
   "execution_count": null,
   "id": "711dcb0e",
   "metadata": {},
   "outputs": [],
   "source": [
    "hdfs dfs -put data homework"
   ]
  },
  {
   "cell_type": "code",
   "execution_count": null,
   "id": "12543632",
   "metadata": {},
   "outputs": [],
   "source": [
    "df1=spark.read.option(\"header\", \"true\").csv(\"/user/ubuntu/homework/data/project/서울시_파출소_치안센터_연도별_총수.csv/경찰청 서울특별시경찰청_경찰서별 지역경찰 현황_20201231.csv\")"
   ]
  },
  {
   "cell_type": "code",
   "execution_count": null,
   "id": "445edb44",
   "metadata": {},
   "outputs": [],
   "source": [
    "df1=spark.read.option(\"charset\",\"utf-8\").option(\"header\", \"true\").csv(\"/user/ubuntu/homework/data/project/서울시_파출소_치안센터_연도별_총수.csv/경찰청 서울특별시경찰청_경찰서별 지역경찰 현황_20201231.csv\")"
   ]
  },
  {
   "cell_type": "code",
   "execution_count": null,
   "id": "40e770d1",
   "metadata": {},
   "outputs": [],
   "source": [
    "df1=spark.read.option(\"charset\",\"iso-8859-1\").option(\"header\", \"true\").csv(\"/user/ubuntu/homework/data/project/서울시_파출소_치안센터_연도별_총수.csv/경찰청 서울특별시경찰청_경찰서별 지역경찰 현황_20201231.csv\")\n"
   ]
  },
  {
   "cell_type": "code",
   "execution_count": null,
   "id": "14001c8a",
   "metadata": {},
   "outputs": [],
   "source": [
    "df1=spark.read.option(\"charset\",\"euc-kr\").option(\"header\", \"true\").csv(\"/user/ubuntu/homework/data/project/서울시_파출소_치안센터_연도별_총수.csv/경찰청 서울특별시경찰청_경찰서별 지역경찰 현황_20201231.csv\")\n",
    "#여기서 해결함"
   ]
  },
  {
   "cell_type": "code",
   "execution_count": null,
   "id": "2ae11af0",
   "metadata": {},
   "outputs": [],
   "source": [
    "df2017=df1.select(col(\"경찰서\").alias(\"경찰서\"),col(\"2018년 지구대\").alias(\"지구대\"),col(\"2018년 파출소\").alias(\"파출소\"),col(\"2018년 치안센터\").alias(\"치안센터\"))"
   ]
  },
  {
   "cell_type": "code",
   "execution_count": null,
   "id": "f1da5ba2",
   "metadata": {},
   "outputs": [],
   "source": [
    "df2017_1= df2017.withColumn(\"기간코드\",lit(\"17\"))"
   ]
  },
  {
   "cell_type": "code",
   "execution_count": null,
   "id": "7ad8541c",
   "metadata": {},
   "outputs": [],
   "source": [
    "df2018=df1.select(col(\"경찰서\").alias(\"경찰서\"),col(\"2018년 지구대\").alias(\"지구대\"),col(\"2018년 파출소\").alias(\"파출소\"),col(\"2018년 치안센터\").alias(\"치안센터\"))"
   ]
  },
  {
   "cell_type": "code",
   "execution_count": null,
   "id": "271000ee",
   "metadata": {},
   "outputs": [],
   "source": [
    "df2018_1= df2018.withColumn(\"기간코드\",lit(\"18\"))"
   ]
  },
  {
   "cell_type": "code",
   "execution_count": null,
   "id": "2f4a2c8b",
   "metadata": {},
   "outputs": [],
   "source": [
    "df2018_1"
   ]
  },
  {
   "cell_type": "code",
   "execution_count": null,
   "id": "1f9de059",
   "metadata": {},
   "outputs": [],
   "source": [
    "df2019=df1.select(col(\"경찰서\").alias(\"경찰서\"),col(\"2019년 지구대\").alias(\"지구대\"),col(\"2019년 파출소\").alias(\"파출소\"),col(\"2019년 치안센터\").alias(\"치안센터\"))"
   ]
  },
  {
   "cell_type": "code",
   "execution_count": null,
   "id": "eeee9c15",
   "metadata": {},
   "outputs": [],
   "source": [
    "df2019_1= df2019.withColumn(\"기간코드\",lit(\"19\"))"
   ]
  },
  {
   "cell_type": "code",
   "execution_count": null,
   "id": "1dfe2472",
   "metadata": {},
   "outputs": [],
   "source": [
    "df2019_1"
   ]
  },
  {
   "cell_type": "code",
   "execution_count": null,
   "id": "885fac0e",
   "metadata": {},
   "outputs": [],
   "source": [
    "# df2020=df1.select(col(\"경찰서\").alias(\"경찰서\"),col(\"2020년 지구대\").alias(\"지구대\"),col(\"2020년 파출소\").alias(\"파출소\"),col(\"2020년 치안센터\").alias(\"치안센터\")) "
   ]
  },
  {
   "cell_type": "code",
   "execution_count": null,
   "id": "61b3a307",
   "metadata": {},
   "outputs": [],
   "source": [
    "# df2020_1= df2020.withColumn(\"기간코드\",lit(\"20\"))"
   ]
  },
  {
   "cell_type": "code",
   "execution_count": null,
   "id": "8ed2c09b",
   "metadata": {},
   "outputs": [],
   "source": [
    "df2017_1.createOrReplaceTempView(\"df2017_1\")\n",
    "df2018_1.createOrReplaceTempView(\"df2018_1\")\n",
    "df2019_1.createOrReplaceTempView(\"df2019_1\")\n",
    "# df2020_1.createOrReplaceTempView(\"df2020_1\")"
   ]
  },
  {
   "cell_type": "code",
   "execution_count": null,
   "id": "d454b6b1",
   "metadata": {},
   "outputs": [],
   "source": [
    "df_box=spark.sql(\"SELECT * FROM df2017_1 UNION ALL SELECT * FROM df2018_1 UNION ALL SELECT * FROM df2019_1\")"
   ]
  },
  {
   "cell_type": "code",
   "execution_count": null,
   "id": "5804fba0",
   "metadata": {},
   "outputs": [],
   "source": [
    "df_box.show(200)"
   ]
  },
  {
   "cell_type": "code",
   "execution_count": null,
   "id": "dd870327",
   "metadata": {},
   "outputs": [],
   "source": [
    "df_box.coalesce(1).write.format(\"csv\").option(\"header\",\"true\").mode(\"overwrite\").save(\"/user/ubuntu/homework/data/project/서울시_파출소_치안센터_연도별_총수.csv/box\")"
   ]
  },
  {
   "cell_type": "code",
   "execution_count": null,
   "id": "80d99fe4",
   "metadata": {},
   "outputs": [],
   "source": [
    "위에꺼는 버리자.!!!"
   ]
  },
  {
   "cell_type": "code",
   "execution_count": null,
   "id": "d4889edd",
   "metadata": {},
   "outputs": [],
   "source": [
    "-------------------------새로운 구별 경찰서및 파출소 숫자를 나타낸 데이터 구함"
   ]
  },
  {
   "cell_type": "code",
   "execution_count": null,
   "id": "ab2a6906",
   "metadata": {},
   "outputs": [],
   "source": [
    "gar=spark.read.option(\"charset\",\"euc-kr\").option(\"header\", \"true\").csv(\"/user/ubuntu/homework/data/project/경찰서지역코드 포함/Report.csv\")"
   ]
  },
  {
   "cell_type": "code",
   "execution_count": null,
   "id": "9f0e36fc",
   "metadata": {},
   "outputs": [],
   "source": [
    "gar1=gar.filter(col('지구대파출소치안센터') < 100)"
   ]
  },
  {
   "cell_type": "code",
   "execution_count": null,
   "id": "a0949bdf",
   "metadata": {},
   "outputs": [],
   "source": [
    "gar2=gar1.select(col(\"기간\").alias(\"기간코드\"),col(\"자치구\").alias(\"지역코드\"),\"지구대파출소치안센터\")"
   ]
  },
  {
   "cell_type": "code",
   "execution_count": null,
   "id": "a209521e",
   "metadata": {},
   "outputs": [],
   "source": [
    "gar3= gar2.replace([\"2017\",\"2018\",\"2019\"],[\"17\",\"18\",\"19\"],'기간코드')"
   ]
  },
  {
   "cell_type": "code",
   "execution_count": null,
   "id": "4c87f68b",
   "metadata": {},
   "outputs": [],
   "source": [
    "gar4=gar3.replace([\"은평구\",\"서대문구\",\"마포구\",\"양천구\",\"강서구\",\"구로구\",\"금천구\",\"영등포구\",\"동작구\",\"송파구\",\"강동구\",\"종로구\",\"중구\",\"용산구\",\"성동구\",\"광진구\",\"동대문구\",\"성북구\",\"강북구\",\"도봉구\",\"관악구\",\"서초구\",\"강남구\",\"중랑구\",\"노원구\"],[\"111181\",\"111191\",\"111201\",\"111301\",\"111212\",\"111221\",\"111281\",\"111231\",\"111241\",\"111273\",\"111274\",\"111123\",\"111121\",\"111131\",\"111142\",\"111141\",\"111152\",\"111161\",\"111291\",\"111171\",\"111251\",\"111262\",\"111261\",\"111151\",\"111311\"],'지역코드')"
   ]
  },
  {
   "cell_type": "code",
   "execution_count": null,
   "id": "57cce9f6",
   "metadata": {},
   "outputs": [],
   "source": [
    "gar4.coalesce(1).write.format(\"csv\").option(\"header\",\"true\").mode(\"overwrite\").save(\"/user/ubuntu/homework/data/project/서울시_파출소_치안센터_연도별_총수.csv/gar4.csv\")"
   ]
  },
  {
   "cell_type": "code",
   "execution_count": null,
   "id": "a2ef222b",
   "metadata": {},
   "outputs": [],
   "source": []
  },
  {
   "cell_type": "code",
   "execution_count": null,
   "id": "3d23cf38",
   "metadata": {},
   "outputs": [],
   "source": [
    "---------여기부터는 경찰관수------------------\n"
   ]
  },
  {
   "cell_type": "code",
   "execution_count": null,
   "id": "f8a68768",
   "metadata": {},
   "outputs": [],
   "source": [
    "police=spark.read.option(\"header\", \"true\").csv(\"/user/ubuntu/homework/data/project/서울시_경찰관_연도별_현황.csv/경찰청 서울특별시경찰청_경찰서별 경찰관수 현황_20201231.csv\")"
   ]
  },
  {
   "cell_type": "code",
   "execution_count": null,
   "id": "ef25f334",
   "metadata": {},
   "outputs": [],
   "source": [
    "police=spark.read.option(\"charset\",\"euc-kr\").option(\"header\", \"true\").csv(\"/user/ubuntu/homework/data/project/서울시_경찰관_연도별_현황.csv/경찰청 서울특별시경찰청_경찰서별 경찰관수 현황_20201231.csv\")"
   ]
  },
  {
   "cell_type": "code",
   "execution_count": null,
   "id": "0ad9a38a",
   "metadata": {},
   "outputs": [],
   "source": [
    "police.show()"
   ]
  },
  {
   "cell_type": "code",
   "execution_count": null,
   "id": "93355c4f",
   "metadata": {},
   "outputs": [],
   "source": [
    "# police_2016=police.select(col(\"경찰서\").alias(\"경찰서\"),col(\"2016년\").alias(\"경찰관수\"))"
   ]
  },
  {
   "cell_type": "code",
   "execution_count": null,
   "id": "51316be6",
   "metadata": {},
   "outputs": [],
   "source": [
    "# police2016_1= police_2016.withColumn(\"기간코드\",lit(\"16\"))"
   ]
  },
  {
   "cell_type": "code",
   "execution_count": null,
   "id": "74261e8d",
   "metadata": {},
   "outputs": [],
   "source": [
    "police_2017=police.select(col(\"경찰서\").alias(\"경찰서\"),col(\"2017년\").alias(\"경찰관수\"))"
   ]
  },
  {
   "cell_type": "code",
   "execution_count": null,
   "id": "ac9afb9d",
   "metadata": {},
   "outputs": [],
   "source": [
    "police2017_1= police_2017.withColumn(\"기간코드\",lit(\"17\"))"
   ]
  },
  {
   "cell_type": "code",
   "execution_count": null,
   "id": "2e08440a",
   "metadata": {},
   "outputs": [],
   "source": [
    "police_2018=police.select(col(\"경찰서\").alias(\"경찰서\"),col(\"2018년\").alias(\"경찰관수\"))\n",
    "police2018_1= police_2018.withColumn(\"기간코드\",lit(\"18\"))"
   ]
  },
  {
   "cell_type": "code",
   "execution_count": null,
   "id": "3ac35929",
   "metadata": {},
   "outputs": [],
   "source": [
    "police_2019=police.select(col(\"경찰서\").alias(\"경찰서\"),col(\"2019년\").alias(\"경찰관수\"))\n",
    "police2019_1= police_2019.withColumn(\"기간코드\",lit(\"19\"))"
   ]
  },
  {
   "cell_type": "code",
   "execution_count": null,
   "id": "fa5f7127",
   "metadata": {},
   "outputs": [],
   "source": [
    "# police2016_1.createOrReplaceTempView(\"police2016_1\")\n",
    "police2017_1.createOrReplaceTempView(\"police2017_1\")\n",
    "police2018_1.createOrReplaceTempView(\"police2018_1\")\n",
    "police2019_1.createOrReplaceTempView(\"police2019_1\")\n"
   ]
  },
  {
   "cell_type": "code",
   "execution_count": null,
   "id": "9f12d9fe",
   "metadata": {},
   "outputs": [],
   "source": [
    "police_officer=spark.sql(\"SELECT * FROM police2017_1 UNION ALL SELECT * FROM police2018_1 UNION ALL SELECT * FROM police2019_1 UNION ALL SELECT * FROM police2019_1\")"
   ]
  },
  {
   "cell_type": "code",
   "execution_count": null,
   "id": "a3d83436",
   "metadata": {},
   "outputs": [],
   "source": [
    "police_officer.show(10000)"
   ]
  },
  {
   "cell_type": "code",
   "execution_count": 3,
   "id": "cc8e2dfb",
   "metadata": {},
   "outputs": [
    {
     "ename": "NameError",
     "evalue": "name 'police_officer' is not defined",
     "output_type": "error",
     "traceback": [
      "\u001b[1;31m---------------------------------------------------------------------------\u001b[0m",
      "\u001b[1;31mNameError\u001b[0m                                 Traceback (most recent call last)",
      "\u001b[1;32m<ipython-input-3-ec5c3ad02985>\u001b[0m in \u001b[0;36m<module>\u001b[1;34m\u001b[0m\n\u001b[1;32m----> 1\u001b[1;33m \u001b[0mpolice_officer\u001b[0m\u001b[1;33m.\u001b[0m\u001b[0mcoalesce\u001b[0m\u001b[1;33m(\u001b[0m\u001b[1;36m1\u001b[0m\u001b[1;33m)\u001b[0m\u001b[1;33m.\u001b[0m\u001b[0mwrite\u001b[0m\u001b[1;33m.\u001b[0m\u001b[0mformat\u001b[0m\u001b[1;33m(\u001b[0m\u001b[1;34m\"csv\"\u001b[0m\u001b[1;33m)\u001b[0m\u001b[1;33m.\u001b[0m\u001b[0moption\u001b[0m\u001b[1;33m(\u001b[0m\u001b[1;34m\"header\"\u001b[0m\u001b[1;33m,\u001b[0m\u001b[1;34m\"true\"\u001b[0m\u001b[1;33m)\u001b[0m\u001b[1;33m.\u001b[0m\u001b[0mmode\u001b[0m\u001b[1;33m(\u001b[0m\u001b[1;34m\"overwrite\"\u001b[0m\u001b[1;33m)\u001b[0m\u001b[1;33m.\u001b[0m\u001b[0msave\u001b[0m\u001b[1;33m(\u001b[0m\u001b[1;34m\"/user/ubuntu/homework/data/project/서울시_경찰관_연도별_현황.csv/police_officer.csv\"\u001b[0m\u001b[1;33m)\u001b[0m\u001b[1;33m\u001b[0m\u001b[1;33m\u001b[0m\u001b[0m\n\u001b[0m",
      "\u001b[1;31mNameError\u001b[0m: name 'police_officer' is not defined"
     ]
    }
   ],
   "source": [
    "police_officer.coalesce(1).write.format(\"csv\").option(\"header\",\"true\").mode(\"overwrite\").save(\"/user/ubuntu/homework/data/project/서울시_경찰관_연도별_현황.csv/police_officer.csv\")"
   ]
  },
  {
   "cell_type": "code",
   "execution_count": null,
   "id": "ad0e54bb",
   "metadata": {},
   "outputs": [],
   "source": []
  },
  {
   "cell_type": "code",
   "execution_count": null,
   "id": "5c366011",
   "metadata": {},
   "outputs": [],
   "source": [
    "# 경찰서별 담당 지역구(지역코드로 변환까지 하기)"
   ]
  },
  {
   "cell_type": "code",
   "execution_count": null,
   "id": "6b089989",
   "metadata": {},
   "outputs": [],
   "source": [
    "hdfs dfs -put data homework"
   ]
  },
  {
   "cell_type": "code",
   "execution_count": null,
   "id": "9e3e2d0b",
   "metadata": {},
   "outputs": [],
   "source": [
    "police_address=spark.read.option(\"charset\",\"euc-kr\").option(\"header\", \"true\").csv(\"/user/ubuntu/homework/data/project/경찰서지역코드 포함/경찰청_경찰관서 위치, 주소_20200409.csv\")"
   ]
  },
  {
   "cell_type": "code",
   "execution_count": null,
   "id": "ae72fd29",
   "metadata": {},
   "outputs": [],
   "source": [
    "police_address.show(100)"
   ]
  },
  {
   "cell_type": "code",
   "execution_count": null,
   "id": "4f658e90",
   "metadata": {},
   "outputs": [],
   "source": [
    "police_address=police_address.filter(col('청') == '서울청')"
   ]
  },
  {
   "cell_type": "code",
   "execution_count": null,
   "id": "497b80ef",
   "metadata": {},
   "outputs": [],
   "source": [
    "police_address=police_address.filter(police_address['지구대파출소'].like('%경찰서%'))"
   ]
  },
  {
   "cell_type": "code",
   "execution_count": null,
   "id": "af749bf0",
   "metadata": {},
   "outputs": [],
   "source": [
    "from pyspark.sql.functions import split"
   ]
  },
  {
   "cell_type": "code",
   "execution_count": null,
   "id": "e1f994c9",
   "metadata": {},
   "outputs": [],
   "source": [
    "# police_address.select(col(\"서\").alias(\"경찰서\"),col(\"주소\")).show(2)\n",
    "# police_address.select(col(\"서\").alias(\"police\"), split(col(\"주소\"), \" \").alias(\"지역코드\")).show(2)\n",
    "police_add=police_address.select(col(\"서\").alias(\"경찰서\"), split(col(\"주소\"), \" \")[0].alias(\"지역코드\"))"
   ]
  },
  {
   "cell_type": "code",
   "execution_count": null,
   "id": "dd3d3cb7",
   "metadata": {},
   "outputs": [],
   "source": [
    "police_add= police_add.replace([\"은평구\",\"서대문구\",\"마포구\",\"양천구\",\"강서구\",\"구로구\",\"금천구\",\"영등포구\",\"동작구\",\"송파구\",\"강동구\",\"종로구\",\"중구\",\"용산구\",\"성동구\",\"광진구\",\"동대문구\",\"성북구\",\"강북구\",\"도봉구\",\"관악구\",\"서초구\",\"강남구\",\"중랑구\",\"노원구\"],[\"111181\",\"111191\",\"111201\",\"111301\",\"111212\",\"111221\",\"111281\",\"111231\",\"111241\",\"111273\",\"111274\",\"111123\",\"111121\",\"111131\",\"111142\",\"111141\",\"111152\",\"111161\",\"111291\",\"111171\",\"111251\",\"111262\",\"111261\",\"111151\",\"111311\"]\n",
    ",'지역코드')"
   ]
  },
  {
   "cell_type": "code",
   "execution_count": null,
   "id": "2c1cdef6",
   "metadata": {},
   "outputs": [],
   "source": [
    "police_add.show(500)"
   ]
  },
  {
   "cell_type": "code",
   "execution_count": null,
   "id": "98eebb33",
   "metadata": {},
   "outputs": [],
   "source": [
    "police_add.coalesce(1).write.format(\"csv\").option(\"header\",\"true\").mode(\"overwrite\").save(\"/user/ubuntu/homework/data/project/서울시_경찰관_연도별_현황.csv/police_add.csv\")"
   ]
  },
  {
   "cell_type": "code",
   "execution_count": null,
   "id": "de478e48",
   "metadata": {},
   "outputs": [],
   "source": [
    "# 합치기 시작"
   ]
  },
  {
   "cell_type": "code",
   "execution_count": null,
   "id": "57977b92",
   "metadata": {},
   "outputs": [],
   "source": [
    "left_df=police_officer.join(df_box, on=[\"경찰서\",\"기간코드\"],how='left')\n"
   ]
  },
  {
   "cell_type": "code",
   "execution_count": null,
   "id": "1bd58bc8",
   "metadata": {},
   "outputs": [],
   "source": [
    "left_df= left_df.replace([\"중부\",\"종로\",\"남대문\",\"서대문\",\"혜화\",\"용산\",\n",
    "                          \"성북\",\"동대문\",\"마포\",\"영등포\",\"성동\",\"동작\",\n",
    "                          \"광진\",\"서부\",\"강북\",\"금천\",\"중랑\",\"강남\",\n",
    "                          \"관악\",\"강서\",\"강동\",\"종암\",\"구로\",\"서초\",\n",
    "                          \"양천\",\"송파\",\"노원\",\"방배\",\"은평\",\"도봉\",\"수서\"],\n",
    "                         [\"서울중부경찰서\",\"서울종로경찰서\",\"서울남대문경찰서\",\"서울서대문경찰서\",\"서울혜화경찰서\",\"서울용산경찰서\",\"서울성북경찰서\",\"서울동대문경찰서\",\n",
    "                          \"서울마포경찰서\",\"서울영등포경찰서\",\"서울성동경찰서\",\"서울동작경찰서\",\"서울광진경찰서\",\"서울서부경찰서\",\"서울강북경찰서\",\n",
    "                          \"서울금천경찰서\",\"서울중랑경찰서\",\"서울강남경찰서\",\"서울관악경찰서\",\"서울강서경찰서\",\"서울강동경찰서\",\"서울종암경찰서\",\n",
    "                          \"서울구로경찰서\",\"서울서초경찰서\",\"서울양천경찰서\",\"서울송파경찰서\",\"서울노원경찰서\",\"서울방배경찰서\",\"서울은평경찰서\",\n",
    "                          \"서울도봉경찰서\",\"서울수서경찰서\"],'경찰서')"
   ]
  },
  {
   "cell_type": "code",
   "execution_count": null,
   "id": "424ed198",
   "metadata": {},
   "outputs": [],
   "source": [
    "left_df.show(1000)"
   ]
  },
  {
   "cell_type": "code",
   "execution_count": null,
   "id": "0c1495fa",
   "metadata": {},
   "outputs": [],
   "source": [
    "thx_df=left_df.join(police_add, on=[\"경찰서\"],how='left')\n",
    "thx_df.show(10000)"
   ]
  },
  {
   "cell_type": "code",
   "execution_count": 5,
   "id": "a6cad75c",
   "metadata": {},
   "outputs": [
    {
     "ename": "NameError",
     "evalue": "name 'thx_df' is not defined",
     "output_type": "error",
     "traceback": [
      "\u001b[1;31m---------------------------------------------------------------------------\u001b[0m",
      "\u001b[1;31mNameError\u001b[0m                                 Traceback (most recent call last)",
      "\u001b[1;32m<ipython-input-5-9511cae47482>\u001b[0m in \u001b[0;36m<module>\u001b[1;34m\u001b[0m\n\u001b[1;32m----> 1\u001b[1;33m \u001b[0mthx_df\u001b[0m\u001b[1;33m.\u001b[0m\u001b[0mcoalesce\u001b[0m\u001b[1;33m(\u001b[0m\u001b[1;36m1\u001b[0m\u001b[1;33m)\u001b[0m\u001b[1;33m.\u001b[0m\u001b[0mwrite\u001b[0m\u001b[1;33m.\u001b[0m\u001b[0mformat\u001b[0m\u001b[1;33m(\u001b[0m\u001b[1;34m\"csv\"\u001b[0m\u001b[1;33m)\u001b[0m\u001b[1;33m.\u001b[0m\u001b[0moption\u001b[0m\u001b[1;33m(\u001b[0m\u001b[1;34m\"header\"\u001b[0m\u001b[1;33m,\u001b[0m\u001b[1;34m\"true\"\u001b[0m\u001b[1;33m)\u001b[0m\u001b[1;33m.\u001b[0m\u001b[0mmode\u001b[0m\u001b[1;33m(\u001b[0m\u001b[1;34m\"overwrite\"\u001b[0m\u001b[1;33m)\u001b[0m\u001b[1;33m.\u001b[0m\u001b[0msave\u001b[0m\u001b[1;33m(\u001b[0m\u001b[1;34m\"/user/ubuntu/homework/data/project/경찰서지역코드 포함/thx_df.csv\"\u001b[0m\u001b[1;33m)\u001b[0m\u001b[1;33m\u001b[0m\u001b[1;33m\u001b[0m\u001b[0m\n\u001b[0m",
      "\u001b[1;31mNameError\u001b[0m: name 'thx_df' is not defined"
     ]
    }
   ],
   "source": [
    "thx_df.coalesce(1).write.format(\"csv\").option(\"header\",\"true\").mode(\"overwrite\").save(\"/user/ubuntu/homework/data/project/경찰서지역코드 포함/thx_df.csv\")"
   ]
  },
  {
   "cell_type": "code",
   "execution_count": null,
   "id": "f1973313",
   "metadata": {},
   "outputs": [],
   "source": [
    "thx_df.select(monotonically_increasing_id().alias(\"ID\"),\"*\").show(1000)  # 중간에 숫자가 갑자기 늘어 나니깐 변경해야됨\n",
    "\n"
   ]
  },
  {
   "cell_type": "code",
   "execution_count": null,
   "id": "2b62f44c",
   "metadata": {},
   "outputs": [],
   "source": [
    "# 해결방안\n",
    "window = Window.orderBy(col('기간코드'))\n",
    "a = a.withColumn('increasing_id', row_number().over(window))\n",
    "a = b.select(expr(\"increasing_id-1\").alias(\"ID\"),col(\"2017\").alias(\"기간코드\"),\"지역코드\",\"개수\")\n"
   ]
  },
  {
   "cell_type": "code",
   "execution_count": null,
   "id": "f591bcf3",
   "metadata": {},
   "outputs": [],
   "source": [
    "window=Window.orderBy(col('기간코드'))\n",
    "thx_df_a=thx_df.withColumn('increasing_id', row_number().over(window))\n",
    "\n",
    "thx_df_b= thx_df_a.select(expr(\"increasing_id-1\").alias(\"ID\"),\"경찰서\",\"기간코드\",\"경찰관수\",\"지구대\",\"파출소\",\"치안센터\",\"지역코드\")\n",
    "\n",
    "\n",
    "thx_df_b.show(100000)\n",
    "\n",
    "\n",
    "thx_df_b.coalesce(1).write.format(\"csv\").option(\"header\",\"true\").mode(\"overwrite\").save(\"/user/ubuntu/homework/data/project/경찰서지역코드 포함/thx_df_b.csv\")"
   ]
  },
  {
   "cell_type": "code",
   "execution_count": 6,
   "id": "3f89fc45",
   "metadata": {},
   "outputs": [
    {
     "ename": "NameError",
     "evalue": "name 'thx_df_b' is not defined",
     "output_type": "error",
     "traceback": [
      "\u001b[1;31m---------------------------------------------------------------------------\u001b[0m",
      "\u001b[1;31mNameError\u001b[0m                                 Traceback (most recent call last)",
      "\u001b[1;32m<ipython-input-6-7d2f8a3d93dd>\u001b[0m in \u001b[0;36m<module>\u001b[1;34m\u001b[0m\n\u001b[1;32m----> 1\u001b[1;33m \u001b[0mthx_df_b\u001b[0m\u001b[1;33m.\u001b[0m\u001b[0mcoalesce\u001b[0m\u001b[1;33m(\u001b[0m\u001b[1;36m1\u001b[0m\u001b[1;33m)\u001b[0m\u001b[1;33m.\u001b[0m\u001b[0mwrite\u001b[0m\u001b[1;33m.\u001b[0m\u001b[0mformat\u001b[0m\u001b[1;33m(\u001b[0m\u001b[1;34m\"csv\"\u001b[0m\u001b[1;33m)\u001b[0m\u001b[1;33m.\u001b[0m\u001b[0moption\u001b[0m\u001b[1;33m(\u001b[0m\u001b[1;34m\"header\"\u001b[0m\u001b[1;33m,\u001b[0m\u001b[1;34m\"true\"\u001b[0m\u001b[1;33m)\u001b[0m\u001b[1;33m.\u001b[0m\u001b[0mmode\u001b[0m\u001b[1;33m(\u001b[0m\u001b[1;34m\"overwrite\"\u001b[0m\u001b[1;33m)\u001b[0m\u001b[1;33m.\u001b[0m\u001b[0msave\u001b[0m\u001b[1;33m(\u001b[0m\u001b[1;34m\"/user/ubuntu/homework/data/project/경찰서지역코드 포함/thx_df_b.csv\"\u001b[0m\u001b[1;33m)\u001b[0m\u001b[1;33m\u001b[0m\u001b[1;33m\u001b[0m\u001b[0m\n\u001b[0m",
      "\u001b[1;31mNameError\u001b[0m: name 'thx_df_b' is not defined"
     ]
    }
   ],
   "source": [
    "thx_df_b.coalesce(1).write.format(\"csv\").option(\"header\",\"true\").mode(\"overwrite\").save(\"/user/ubuntu/homework/data/project/경찰서지역코드 포함/thx_df_b.csv\")"
   ]
  },
  {
   "cell_type": "code",
   "execution_count": null,
   "id": "1b857a1a",
   "metadata": {},
   "outputs": [],
   "source": [
    "thx_df_c= thx_df_b.replace([\"은평구\",\"서대문구\",\"마포구\",\"양천구\",\"강서구\",\"구로구\",\"금천구\",\"영등포구\",\"동작구\",\"송파구\",\"강동구\",\"종로구\",\"중구\",\"용산구\",\"성동구\",\"광진구\",\"동대문구\",\"성북구\",\"강북구\",\"도봉구\",\"관악구\",\"서초구\",\"강남구\",\"중랑구\",\"노원구\"],[\"111181\",\"111191\",\"111201\",\"111301\",\"111212\",\"111221\",\"111281\",\"111231\",\"111241\",\"111273\",\"111274\",\"111123\",\"111121\",\"111131\",\"111142\",\"111141\",\"111152\",\"111161\",\"111291\",\"111171\",\"111251\",\"111262\",\"111261\",\"111151\",\"111311\"]\n",
    ",'지역코드')"
   ]
  },
  {
   "cell_type": "code",
   "execution_count": 8,
   "id": "998ddb0e",
   "metadata": {},
   "outputs": [
    {
     "ename": "NameError",
     "evalue": "name 'thx_df_c' is not defined",
     "output_type": "error",
     "traceback": [
      "\u001b[1;31m---------------------------------------------------------------------------\u001b[0m",
      "\u001b[1;31mNameError\u001b[0m                                 Traceback (most recent call last)",
      "\u001b[1;32m<ipython-input-8-11293a3270a6>\u001b[0m in \u001b[0;36m<module>\u001b[1;34m\u001b[0m\n\u001b[1;32m----> 1\u001b[1;33m \u001b[0mthx_df_c\u001b[0m\u001b[1;33m.\u001b[0m\u001b[0mcoalesce\u001b[0m\u001b[1;33m(\u001b[0m\u001b[1;36m1\u001b[0m\u001b[1;33m)\u001b[0m\u001b[1;33m.\u001b[0m\u001b[0mwrite\u001b[0m\u001b[1;33m.\u001b[0m\u001b[0mformat\u001b[0m\u001b[1;33m(\u001b[0m\u001b[1;34m\"csv\"\u001b[0m\u001b[1;33m)\u001b[0m\u001b[1;33m.\u001b[0m\u001b[0moption\u001b[0m\u001b[1;33m(\u001b[0m\u001b[1;34m\"header\"\u001b[0m\u001b[1;33m,\u001b[0m\u001b[1;34m\"true\"\u001b[0m\u001b[1;33m)\u001b[0m\u001b[1;33m.\u001b[0m\u001b[0mmode\u001b[0m\u001b[1;33m(\u001b[0m\u001b[1;34m\"overwrite\"\u001b[0m\u001b[1;33m)\u001b[0m\u001b[1;33m.\u001b[0m\u001b[0msave\u001b[0m\u001b[1;33m(\u001b[0m\u001b[1;34m\"/user/ubuntu/homework/data/project/경찰서지역코드 포함/thx_df_c.csv\"\u001b[0m\u001b[1;33m)\u001b[0m\u001b[1;33m\u001b[0m\u001b[1;33m\u001b[0m\u001b[0m\n\u001b[0m",
      "\u001b[1;31mNameError\u001b[0m: name 'thx_df_c' is not defined"
     ]
    }
   ],
   "source": [
    "thx_df_c.coalesce(1).write.format(\"csv\").option(\"header\",\"true\").mode(\"overwrite\").save(\"/user/ubuntu/homework/data/project/경찰서지역코드 포함/thx_df_c.csv\")"
   ]
  },
  {
   "cell_type": "code",
   "execution_count": null,
   "id": "1bdcb2f1",
   "metadata": {},
   "outputs": [],
   "source": [
    "id는 나중에 주고 각 년도와 관할구역이 같이면 묶는다 .경찰서 삭제한다."
   ]
  },
  {
   "cell_type": "code",
   "execution_count": null,
   "id": "c5f863fb",
   "metadata": {},
   "outputs": [],
   "source": [
    "thx_df.show()\n"
   ]
  },
  {
   "cell_type": "code",
   "execution_count": null,
   "id": "b6a64f1c",
   "metadata": {},
   "outputs": [],
   "source": [
    "no_office=thx_df.select(col(\"기간코드\").alias(\"date_code\"),col(\"경찰관수\").alias(\"police officer\"),col(\"지구대\").alias(\"gicudae\"),col(\"파출소\").alias(\"police box\"),col(\"치안센터\").alias(\"security center\"),col(\"지역코드\").alias(\"local_code\"))"
   ]
  },
  {
   "cell_type": "code",
   "execution_count": null,
   "id": "af358c85",
   "metadata": {},
   "outputs": [],
   "source": [
    "\n",
    "no_office17=no_office.where(col(\"date_code\")==17).show(10)\n",
    "no_office18=no_office.where(col(\"date_code\")==18).show(10)\n",
    "no_office19=no_office.where(col(\"date_code\")==19).show(10)"
   ]
  },
  {
   "cell_type": "code",
   "execution_count": null,
   "id": "c9cce19f",
   "metadata": {},
   "outputs": [],
   "source": [
    " \n",
    "# SELECT\n",
    "#     분석함수 OVER([PARTITION BY 칼럼] [ORDER BY 칼럼] [WINDOWING 절])\n",
    "# FROM 테이블;\n"
   ]
  },
  {
   "cell_type": "code",
   "execution_count": null,
   "id": "af088c1c",
   "metadata": {},
   "outputs": [],
   "source": [
    "rank_function = f.rank().over(Window.partitionBy('date_code').orderBy(f.expr('month * price').desc()))"
   ]
  },
  {
   "cell_type": "code",
   "execution_count": null,
   "id": "cdbddf7f",
   "metadata": {},
   "outputs": [],
   "source": [
    "rank_no_office=no_office.withColumn('total', f.expr('gicudae * police box')).withColumn(\"rank\",rank_function)"
   ]
  },
  {
   "cell_type": "code",
   "execution_count": null,
   "id": "a2b819ce",
   "metadata": {},
   "outputs": [],
   "source": [
    "thx_df_d.select(\"지구대2\"+\"파출소2\"+\"치안센터2\").show()\n",
    "SELECT(\"지구대2\"+\"파출소2\"+\"치안센터2\").show()  # 문자열이어서 int변경"
   ]
  },
  {
   "cell_type": "code",
   "execution_count": null,
   "id": "d7e0d1ee",
   "metadata": {},
   "outputs": [],
   "source": [
    "thx_df.withColumn(\"지구대2\", col(\"지구대\").cast(\"IntegerType\")).withColumn(\"파출소2\", col(\"파출소\").cast(\"IntegerType\")).withColumn(\"치안센터2\", col(\"치안센터\").cast(\"IntegerType\")).\n",
    "from pyspark.sql.types import IntegerType\n",
    "thx_df_d=thx_df.withColumn(\"지구대2\", col(\"지구대\").cast(IntegerType)).withColumn(\"파출소2\", col(\"파출소\").cast(IntegerType)).withColumn(\"치안센터2\", col(\"치안센터\").cast(IntegerType))\n",
    "thx_df_d=thx_df.withColumn(\"지구대2\", col(\"지구대\").cast(\"int\")).withColumn(\"파출소2\", col(\"파출소\").cast(\"int\")).withColumn(\"치안센터2\", col(\"치안센터\").cast(\"int\"))\n",
    "# cast(\"int\")여기서 됨\n",
    "#  df.printSchema() 로 형태 확인할것 \n",
    "thx_df_e=thx_df_d.select(col(\"지구대2\")+col(\"파출소2\")+col(\"치안센터2\").alias(\"total\").cast(\"int\")) # 이상없음\n",
    "thx_df_e.show() # select 이상없음\n",
    "                        \n",
    "thx_df_f= thx_df_e.select(\"경찰서\",col(\"기간코드\").cast(\"int\"),col(\"경찰관수\").cast(\"int\"),\"지구대\",\"파출소\",\"치안센터\",\"지역코드\",col(\"지구대2\").cast(\"int\"),col(\"파출소2\").cast(\"int\"),col(\"치안센터2\").cast(\"int\"))\n",
    "# strin형태인 애들을 합을구하기 위해서는 int로 그래서 행지정후 int로 캐시팅하면서 행만듬\n",
    "thx_df_g=thx_df_f.withColumn(\"total\",col(\"지구대2\")+col(\"파출소2\")+col(\"치안센터2\"))  \n",
    "# 지정행끼리 합구하기\n",
    "thx_df_h = thx_df_g.groupby(\"기간코드\",\"지역코드\").sum(\"경찰관수\",\"total\")\n",
    "# 기간코드와 지역코드가 동시에 같은 행끼리 그룹바이해서 1.경찰관수와 2.total(치안센터총합)                  "
   ]
  },
  {
   "cell_type": "code",
   "execution_count": null,
   "id": "3710a65d",
   "metadata": {},
   "outputs": [],
   "source": [
    "window=Window.orderBy(col('기간코드'))\n",
    "thx_df_I=thx_df_h.withColumn('increasing_id', row_number().over(window))\n",
    "thx_df_J= thx_df_I.select(expr(\"increasing_id-1\").alias(\"ID\"),\"기간코드\",\"지역코드\",\"sum(경찰관수)\",\"sum(total)\")\n",
    "thx_df_J.show(100000)\n",
    "thx_df_J.coalesce(1).write.format(\"csv\").option(\"header\",\"true\").mode(\"overwrite\").save(\"/user/ubuntu/homework/data/project/경찰서지역코드 포함/thx_df_J.csv\")"
   ]
  },
  {
   "cell_type": "code",
   "execution_count": null,
   "id": "564f1f4f",
   "metadata": {},
   "outputs": [],
   "source": []
  }
 ],
 "metadata": {
  "kernelspec": {
   "display_name": "Python 3",
   "language": "python",
   "name": "python3"
  },
  "language_info": {
   "codemirror_mode": {
    "name": "ipython",
    "version": 3
   },
   "file_extension": ".py",
   "mimetype": "text/x-python",
   "name": "python",
   "nbconvert_exporter": "python",
   "pygments_lexer": "ipython3",
   "version": "3.8.8"
  }
 },
 "nbformat": 4,
 "nbformat_minor": 5
}
