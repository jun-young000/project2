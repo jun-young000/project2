{
 "cells": [
  {
   "cell_type": "markdown",
   "id": "b29f39f8",
   "metadata": {},
   "source": [
    "#### 파이썬 코드를 통해 브라우저 핸들링\n",
    "- 브라우저\n",
    "- 검색어 전송"
   ]
  },
  {
   "cell_type": "code",
   "execution_count": 6,
   "id": "03a1575c",
   "metadata": {},
   "outputs": [],
   "source": [
    "# 브라우저 모듈 import\n",
    "import webbrowser;"
   ]
  },
  {
   "cell_type": "code",
   "execution_count": 7,
   "id": "0e86cfb5",
   "metadata": {},
   "outputs": [
    {
     "data": {
      "text/plain": [
       "True"
      ]
     },
     "execution_count": 7,
     "metadata": {},
     "output_type": "execute_result"
    }
   ],
   "source": [
    "# 브라우저를 코드로 열기\n",
    "# webbrowser.open(싸이트 url)\n",
    "\n",
    "url=\"www.naver.com\"\n",
    "webbrowser.open(url)"
   ]
  },
  {
   "cell_type": "markdown",
   "id": "8c84e92e",
   "metadata": {},
   "source": [
    "#### url과 검색어 적용 시키기\n",
    "- 검색어 적용하는 법은 각site마다 상이하므로 site에서 확인 후 작업\n",
    "- EX. https://search.naver.com/search.naver?where=nexearch&sm=top_hty&fbm=1&ie=utf8&query=python\n",
    "- 위 URL 분리\n",
    "    - https://search.naver.com/search.naver: 실제 접근해야할 서버 주소\n",
    "    - ? : 주소와 서버로  전송되는 DATA의 경계 기호\n",
    "    - where=nexearch&sm=top_hty&fbm=1&ie=utf8&query=python ; 클라이언트측에서 서버로 전송되는 변수와 값\n",
    "        - 변수=값& 변수2=값2& 변수3=값3&......\n",
    "        - query= 의 값은 사용자가 입력한 검색어를 저장해서 서버로 전송하는 변수(필수변수)\n",
    "        "
   ]
  },
  {
   "cell_type": "code",
   "execution_count": 16,
   "id": "b3863d55",
   "metadata": {},
   "outputs": [
    {
     "data": {
      "text/plain": [
       "True"
      ]
     },
     "execution_count": 16,
     "metadata": {},
     "output_type": "execute_result"
    }
   ],
   "source": [
    "naver_search_url=\"https://search.naver.com/search.naver?query=\"\n",
    "search_word=\"파이썬\" \n",
    "url=naver_search_url+search_word\n",
    "url\n",
    "webbrowser.open_new(url)\n"
   ]
  },
  {
   "cell_type": "code",
   "execution_count": 17,
   "id": "e916fab7",
   "metadata": {},
   "outputs": [
    {
     "data": {
      "text/plain": [
       "True"
      ]
     },
     "execution_count": 17,
     "metadata": {},
     "output_type": "execute_result"
    }
   ],
   "source": [
    "# 구글 site 에 검색어 전송\n",
    "google_url=\"https://www.google.com/search?q=\"\n",
    "search_word=\"올림픽\"\n",
    "url=google_url+search_word\n",
    "webbrowser.open_new(url)\n"
   ]
  },
  {
   "cell_type": "code",
   "execution_count": 15,
   "id": "476ec080",
   "metadata": {},
   "outputs": [],
   "source": [
    "# 여러 url에 접속하기\n",
    "urls = ['www.naver.com', 'www.daum.net', 'www.google.com']\n",
    "\n",
    "for url in urls:\n",
    "    webbrowser.open_new(url)\n"
   ]
  },
  {
   "cell_type": "code",
   "execution_count": null,
   "id": "bdc09315",
   "metadata": {},
   "outputs": [],
   "source": []
  },
  {
   "cell_type": "code",
   "execution_count": null,
   "id": "82b4037d",
   "metadata": {},
   "outputs": [],
   "source": []
  },
  {
   "cell_type": "code",
   "execution_count": null,
   "id": "0d3f8b2d",
   "metadata": {},
   "outputs": [],
   "source": []
  }
 ],
 "metadata": {
  "kernelspec": {
   "display_name": "Python 3",
   "language": "python",
   "name": "python3"
  },
  "language_info": {
   "codemirror_mode": {
    "name": "ipython",
    "version": 3
   },
   "file_extension": ".py",
   "mimetype": "text/x-python",
   "name": "python",
   "nbconvert_exporter": "python",
   "pygments_lexer": "ipython3",
   "version": "3.8.8"
  }
 },
 "nbformat": 4,
 "nbformat_minor": 5
}
