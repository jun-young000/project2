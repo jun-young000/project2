{
 "cells": [
  {
   "cell_type": "code",
   "execution_count": 7,
   "id": "8173a2a9",
   "metadata": {},
   "outputs": [
    {
     "name": "stdout",
     "output_type": "stream",
     "text": [
      "Requirement already satisfied: folium in c:\\users\\ui\\anaconda3\\lib\\site-packages (0.12.1)\n",
      "Requirement already satisfied: numpy in c:\\users\\ui\\anaconda3\\lib\\site-packages (from folium) (1.20.1)\n",
      "Requirement already satisfied: requests in c:\\users\\ui\\anaconda3\\lib\\site-packages (from folium) (2.25.1)\n",
      "Requirement already satisfied: jinja2>=2.9 in c:\\users\\ui\\anaconda3\\lib\\site-packages (from folium) (2.11.3)\n",
      "Requirement already satisfied: branca>=0.3.0 in c:\\users\\ui\\anaconda3\\lib\\site-packages (from folium) (0.4.2)\n",
      "Requirement already satisfied: MarkupSafe>=0.23 in c:\\users\\ui\\anaconda3\\lib\\site-packages (from jinja2>=2.9->folium) (1.1.1)\n",
      "Requirement already satisfied: certifi>=2017.4.17 in c:\\users\\ui\\anaconda3\\lib\\site-packages (from requests->folium) (2020.12.5)\n",
      "Requirement already satisfied: idna<3,>=2.5 in c:\\users\\ui\\anaconda3\\lib\\site-packages (from requests->folium) (2.10)\n",
      "Requirement already satisfied: chardet<5,>=3.0.2 in c:\\users\\ui\\anaconda3\\lib\\site-packages (from requests->folium) (4.0.0)\n",
      "Requirement already satisfied: urllib3<1.27,>=1.21.1 in c:\\users\\ui\\anaconda3\\lib\\site-packages (from requests->folium) (1.26.4)\n",
      "Note: you may need to restart the kernel to use updated packages.\n"
     ]
    }
   ],
   "source": [
    "pip install folium"
   ]
  },
  {
   "cell_type": "code",
   "execution_count": 3,
   "id": "34716f40",
   "metadata": {},
   "outputs": [],
   "source": [
    "import numpy as np\n",
    "import pandas as pd\n",
    "import folium \n",
    "from folium.features import DivIcon\n",
    "from urllib.request import urlopen\n",
    "import json\n",
    "import plotly.io as pio\n",
    "import plotly.express as px\n",
    "import plotly.graph_objects as go\n",
    "import plotly.figure_factory as ff\n",
    "from plotly.subplots import make_subplots\n",
    "from plotly.validators.scatter.marker import SymbolValidator"
   ]
  },
  {
   "cell_type": "code",
   "execution_count": 4,
   "id": "222db912",
   "metadata": {},
   "outputs": [],
   "source": [
    "\n",
    "from scipy import stats\n",
    "import matplotlib as mpl\n",
    "import matplotlib.pyplot as plt\n",
    "import seaborn as sns\n",
    "sns.set(style=\"whitegrid\")"
   ]
  },
  {
   "cell_type": "code",
   "execution_count": 6,
   "id": "876f18cf",
   "metadata": {},
   "outputs": [],
   "source": [
    "old_pop = pd.read_csv('data/5대범죄 검거율_랭킹.csv', encoding='utf-8') #검거율높은곳이 1등"
   ]
  },
  {
   "cell_type": "code",
   "execution_count": 7,
   "id": "f408099f",
   "metadata": {},
   "outputs": [
    {
     "data": {
      "text/html": [
       "<div>\n",
       "<style scoped>\n",
       "    .dataframe tbody tr th:only-of-type {\n",
       "        vertical-align: middle;\n",
       "    }\n",
       "\n",
       "    .dataframe tbody tr th {\n",
       "        vertical-align: top;\n",
       "    }\n",
       "\n",
       "    .dataframe thead th {\n",
       "        text-align: right;\n",
       "    }\n",
       "</style>\n",
       "<table border=\"1\" class=\"dataframe\">\n",
       "  <thead>\n",
       "    <tr style=\"text-align: right;\">\n",
       "      <th></th>\n",
       "      <th>Unnamed: 0</th>\n",
       "      <th>지역구</th>\n",
       "      <th>년도</th>\n",
       "      <th>경찰관수</th>\n",
       "      <th>치안시설총수</th>\n",
       "      <th>발생합계</th>\n",
       "      <th>살인발생</th>\n",
       "      <th>강도발생</th>\n",
       "      <th>강간강제추행발생</th>\n",
       "      <th>절도발생</th>\n",
       "      <th>...</th>\n",
       "      <th>강간강제추행검거</th>\n",
       "      <th>절도검거</th>\n",
       "      <th>폭력검거</th>\n",
       "      <th>검거율/발생율</th>\n",
       "      <th>강도검거율</th>\n",
       "      <th>절도검거율</th>\n",
       "      <th>폭력검거율</th>\n",
       "      <th>살인검거율</th>\n",
       "      <th>강간강제추행검거율</th>\n",
       "      <th>랭크</th>\n",
       "    </tr>\n",
       "  </thead>\n",
       "  <tbody>\n",
       "    <tr>\n",
       "      <th>0</th>\n",
       "      <td>0</td>\n",
       "      <td>강남구</td>\n",
       "      <td>2018.0</td>\n",
       "      <td>1999.000000</td>\n",
       "      <td>29.333333</td>\n",
       "      <td>7512.333333</td>\n",
       "      <td>7.333333</td>\n",
       "      <td>13.000000</td>\n",
       "      <td>624.333333</td>\n",
       "      <td>3034.666667</td>\n",
       "      <td>...</td>\n",
       "      <td>527.000000</td>\n",
       "      <td>1346.333333</td>\n",
       "      <td>3301.000000</td>\n",
       "      <td>0.691618</td>\n",
       "      <td>1.038095</td>\n",
       "      <td>0.443703</td>\n",
       "      <td>0.861245</td>\n",
       "      <td>0.966667</td>\n",
       "      <td>0.844215</td>\n",
       "      <td>8</td>\n",
       "    </tr>\n",
       "    <tr>\n",
       "      <th>1</th>\n",
       "      <td>1</td>\n",
       "      <td>강동구</td>\n",
       "      <td>2018.0</td>\n",
       "      <td>1012.000000</td>\n",
       "      <td>21.333333</td>\n",
       "      <td>4064.666667</td>\n",
       "      <td>4.666667</td>\n",
       "      <td>10.666667</td>\n",
       "      <td>174.000000</td>\n",
       "      <td>1603.333333</td>\n",
       "      <td>...</td>\n",
       "      <td>155.666667</td>\n",
       "      <td>873.666667</td>\n",
       "      <td>1951.333333</td>\n",
       "      <td>0.736464</td>\n",
       "      <td>1.044444</td>\n",
       "      <td>0.543849</td>\n",
       "      <td>0.858642</td>\n",
       "      <td>1.011111</td>\n",
       "      <td>0.894949</td>\n",
       "      <td>15</td>\n",
       "    </tr>\n",
       "    <tr>\n",
       "      <th>2</th>\n",
       "      <td>2</td>\n",
       "      <td>강북구</td>\n",
       "      <td>2018.0</td>\n",
       "      <td>893.666667</td>\n",
       "      <td>18.666667</td>\n",
       "      <td>3556.000000</td>\n",
       "      <td>7.333333</td>\n",
       "      <td>5.666667</td>\n",
       "      <td>190.666667</td>\n",
       "      <td>1118.333333</td>\n",
       "      <td>...</td>\n",
       "      <td>144.333333</td>\n",
       "      <td>634.000000</td>\n",
       "      <td>2073.666667</td>\n",
       "      <td>0.806010</td>\n",
       "      <td>0.793651</td>\n",
       "      <td>0.569592</td>\n",
       "      <td>0.929038</td>\n",
       "      <td>0.916667</td>\n",
       "      <td>0.759175</td>\n",
       "      <td>24</td>\n",
       "    </tr>\n",
       "    <tr>\n",
       "      <th>3</th>\n",
       "      <td>3</td>\n",
       "      <td>강서구</td>\n",
       "      <td>2018.0</td>\n",
       "      <td>1242.666667</td>\n",
       "      <td>16.000000</td>\n",
       "      <td>4896.000000</td>\n",
       "      <td>10.000000</td>\n",
       "      <td>4.333333</td>\n",
       "      <td>297.000000</td>\n",
       "      <td>1887.333333</td>\n",
       "      <td>...</td>\n",
       "      <td>252.000000</td>\n",
       "      <td>1057.333333</td>\n",
       "      <td>2323.000000</td>\n",
       "      <td>0.744565</td>\n",
       "      <td>1.111111</td>\n",
       "      <td>0.561495</td>\n",
       "      <td>0.860778</td>\n",
       "      <td>0.981061</td>\n",
       "      <td>0.851667</td>\n",
       "      <td>17</td>\n",
       "    </tr>\n",
       "    <tr>\n",
       "      <th>4</th>\n",
       "      <td>4</td>\n",
       "      <td>관악구</td>\n",
       "      <td>2018.0</td>\n",
       "      <td>1194.000000</td>\n",
       "      <td>25.333333</td>\n",
       "      <td>5293.000000</td>\n",
       "      <td>10.000000</td>\n",
       "      <td>9.000000</td>\n",
       "      <td>379.666667</td>\n",
       "      <td>2071.333333</td>\n",
       "      <td>...</td>\n",
       "      <td>321.000000</td>\n",
       "      <td>1087.333333</td>\n",
       "      <td>2445.666667</td>\n",
       "      <td>0.731255</td>\n",
       "      <td>1.052381</td>\n",
       "      <td>0.526545</td>\n",
       "      <td>0.867577</td>\n",
       "      <td>0.881410</td>\n",
       "      <td>0.846599</td>\n",
       "      <td>14</td>\n",
       "    </tr>\n",
       "    <tr>\n",
       "      <th>5</th>\n",
       "      <td>5</td>\n",
       "      <td>광진구</td>\n",
       "      <td>2018.0</td>\n",
       "      <td>952.333333</td>\n",
       "      <td>16.000000</td>\n",
       "      <td>4190.666667</td>\n",
       "      <td>5.666667</td>\n",
       "      <td>7.000000</td>\n",
       "      <td>254.333333</td>\n",
       "      <td>1954.666667</td>\n",
       "      <td>...</td>\n",
       "      <td>201.666667</td>\n",
       "      <td>1050.000000</td>\n",
       "      <td>1703.333333</td>\n",
       "      <td>0.707459</td>\n",
       "      <td>0.649573</td>\n",
       "      <td>0.538107</td>\n",
       "      <td>0.864138</td>\n",
       "      <td>0.932540</td>\n",
       "      <td>0.793549</td>\n",
       "      <td>11</td>\n",
       "    </tr>\n",
       "    <tr>\n",
       "      <th>6</th>\n",
       "      <td>6</td>\n",
       "      <td>구로구</td>\n",
       "      <td>2018.0</td>\n",
       "      <td>1007.000000</td>\n",
       "      <td>21.333333</td>\n",
       "      <td>4804.000000</td>\n",
       "      <td>8.333333</td>\n",
       "      <td>6.666667</td>\n",
       "      <td>268.000000</td>\n",
       "      <td>1786.000000</td>\n",
       "      <td>...</td>\n",
       "      <td>175.666667</td>\n",
       "      <td>873.666667</td>\n",
       "      <td>2281.666667</td>\n",
       "      <td>0.696454</td>\n",
       "      <td>1.027778</td>\n",
       "      <td>0.488593</td>\n",
       "      <td>0.834489</td>\n",
       "      <td>1.014286</td>\n",
       "      <td>0.668639</td>\n",
       "      <td>9</td>\n",
       "    </tr>\n",
       "    <tr>\n",
       "      <th>7</th>\n",
       "      <td>7</td>\n",
       "      <td>금천구</td>\n",
       "      <td>2018.0</td>\n",
       "      <td>771.000000</td>\n",
       "      <td>16.000000</td>\n",
       "      <td>3221.000000</td>\n",
       "      <td>5.666667</td>\n",
       "      <td>7.333333</td>\n",
       "      <td>197.666667</td>\n",
       "      <td>1155.333333</td>\n",
       "      <td>...</td>\n",
       "      <td>174.333333</td>\n",
       "      <td>644.666667</td>\n",
       "      <td>1663.666667</td>\n",
       "      <td>0.773957</td>\n",
       "      <td>0.819048</td>\n",
       "      <td>0.558161</td>\n",
       "      <td>0.896767</td>\n",
       "      <td>1.000000</td>\n",
       "      <td>0.877288</td>\n",
       "      <td>21</td>\n",
       "    </tr>\n",
       "    <tr>\n",
       "      <th>8</th>\n",
       "      <td>8</td>\n",
       "      <td>노원구</td>\n",
       "      <td>2018.0</td>\n",
       "      <td>1087.333333</td>\n",
       "      <td>23.333333</td>\n",
       "      <td>4123.000000</td>\n",
       "      <td>4.333333</td>\n",
       "      <td>5.666667</td>\n",
       "      <td>186.000000</td>\n",
       "      <td>1486.000000</td>\n",
       "      <td>...</td>\n",
       "      <td>162.000000</td>\n",
       "      <td>674.333333</td>\n",
       "      <td>2066.666667</td>\n",
       "      <td>0.705895</td>\n",
       "      <td>0.925926</td>\n",
       "      <td>0.452732</td>\n",
       "      <td>0.846355</td>\n",
       "      <td>0.933333</td>\n",
       "      <td>0.870520</td>\n",
       "      <td>10</td>\n",
       "    </tr>\n",
       "    <tr>\n",
       "      <th>9</th>\n",
       "      <td>9</td>\n",
       "      <td>도봉구</td>\n",
       "      <td>2018.0</td>\n",
       "      <td>754.333333</td>\n",
       "      <td>12.000000</td>\n",
       "      <td>2119.333333</td>\n",
       "      <td>1.000000</td>\n",
       "      <td>4.333333</td>\n",
       "      <td>102.333333</td>\n",
       "      <td>734.666667</td>\n",
       "      <td>...</td>\n",
       "      <td>105.000000</td>\n",
       "      <td>414.000000</td>\n",
       "      <td>1084.666667</td>\n",
       "      <td>0.760371</td>\n",
       "      <td>0.866667</td>\n",
       "      <td>0.569786</td>\n",
       "      <td>0.849588</td>\n",
       "      <td>1.000000</td>\n",
       "      <td>1.021130</td>\n",
       "      <td>20</td>\n",
       "    </tr>\n",
       "    <tr>\n",
       "      <th>10</th>\n",
       "      <td>10</td>\n",
       "      <td>동대문구</td>\n",
       "      <td>2018.0</td>\n",
       "      <td>1097.333333</td>\n",
       "      <td>26.666667</td>\n",
       "      <td>3782.333333</td>\n",
       "      <td>6.333333</td>\n",
       "      <td>6.000000</td>\n",
       "      <td>159.333333</td>\n",
       "      <td>1508.333333</td>\n",
       "      <td>...</td>\n",
       "      <td>134.666667</td>\n",
       "      <td>924.666667</td>\n",
       "      <td>1948.666667</td>\n",
       "      <td>0.797814</td>\n",
       "      <td>1.122222</td>\n",
       "      <td>0.613427</td>\n",
       "      <td>0.926811</td>\n",
       "      <td>0.969697</td>\n",
       "      <td>0.842212</td>\n",
       "      <td>22</td>\n",
       "    </tr>\n",
       "    <tr>\n",
       "      <th>11</th>\n",
       "      <td>11</td>\n",
       "      <td>동작구</td>\n",
       "      <td>2018.0</td>\n",
       "      <td>898.666667</td>\n",
       "      <td>22.666667</td>\n",
       "      <td>3276.666667</td>\n",
       "      <td>2.666667</td>\n",
       "      <td>5.000000</td>\n",
       "      <td>311.666667</td>\n",
       "      <td>1235.000000</td>\n",
       "      <td>...</td>\n",
       "      <td>145.666667</td>\n",
       "      <td>568.000000</td>\n",
       "      <td>1454.333333</td>\n",
       "      <td>0.664352</td>\n",
       "      <td>1.095238</td>\n",
       "      <td>0.460629</td>\n",
       "      <td>0.844778</td>\n",
       "      <td>0.833333</td>\n",
       "      <td>0.469946</td>\n",
       "      <td>1</td>\n",
       "    </tr>\n",
       "    <tr>\n",
       "      <th>12</th>\n",
       "      <td>12</td>\n",
       "      <td>마포구</td>\n",
       "      <td>2018.0</td>\n",
       "      <td>1169.333333</td>\n",
       "      <td>21.333333</td>\n",
       "      <td>5097.333333</td>\n",
       "      <td>3.666667</td>\n",
       "      <td>5.333333</td>\n",
       "      <td>489.333333</td>\n",
       "      <td>2098.333333</td>\n",
       "      <td>...</td>\n",
       "      <td>414.000000</td>\n",
       "      <td>878.666667</td>\n",
       "      <td>2110.666667</td>\n",
       "      <td>0.669230</td>\n",
       "      <td>1.055556</td>\n",
       "      <td>0.419008</td>\n",
       "      <td>0.844484</td>\n",
       "      <td>1.000000</td>\n",
       "      <td>0.845878</td>\n",
       "      <td>4</td>\n",
       "    </tr>\n",
       "    <tr>\n",
       "      <th>13</th>\n",
       "      <td>13</td>\n",
       "      <td>서대문구</td>\n",
       "      <td>2018.0</td>\n",
       "      <td>906.000000</td>\n",
       "      <td>14.666667</td>\n",
       "      <td>2952.666667</td>\n",
       "      <td>3.666667</td>\n",
       "      <td>3.000000</td>\n",
       "      <td>194.333333</td>\n",
       "      <td>1172.666667</td>\n",
       "      <td>...</td>\n",
       "      <td>174.666667</td>\n",
       "      <td>634.666667</td>\n",
       "      <td>1296.000000</td>\n",
       "      <td>0.714792</td>\n",
       "      <td>1.333333</td>\n",
       "      <td>0.541599</td>\n",
       "      <td>0.820433</td>\n",
       "      <td>0.766667</td>\n",
       "      <td>0.897838</td>\n",
       "      <td>12</td>\n",
       "    </tr>\n",
       "    <tr>\n",
       "      <th>14</th>\n",
       "      <td>14</td>\n",
       "      <td>서초구</td>\n",
       "      <td>2018.0</td>\n",
       "      <td>1467.666667</td>\n",
       "      <td>25.333333</td>\n",
       "      <td>4992.000000</td>\n",
       "      <td>6.333333</td>\n",
       "      <td>8.333333</td>\n",
       "      <td>518.666667</td>\n",
       "      <td>1977.666667</td>\n",
       "      <td>...</td>\n",
       "      <td>336.666667</td>\n",
       "      <td>930.333333</td>\n",
       "      <td>2110.666667</td>\n",
       "      <td>0.679237</td>\n",
       "      <td>0.750916</td>\n",
       "      <td>0.468685</td>\n",
       "      <td>0.851218</td>\n",
       "      <td>1.037037</td>\n",
       "      <td>0.647057</td>\n",
       "      <td>5</td>\n",
       "    </tr>\n",
       "    <tr>\n",
       "      <th>15</th>\n",
       "      <td>15</td>\n",
       "      <td>성동구</td>\n",
       "      <td>2018.0</td>\n",
       "      <td>862.000000</td>\n",
       "      <td>20.000000</td>\n",
       "      <td>2578.666667</td>\n",
       "      <td>3.000000</td>\n",
       "      <td>5.666667</td>\n",
       "      <td>130.333333</td>\n",
       "      <td>1013.666667</td>\n",
       "      <td>...</td>\n",
       "      <td>101.333333</td>\n",
       "      <td>513.666667</td>\n",
       "      <td>1260.666667</td>\n",
       "      <td>0.731002</td>\n",
       "      <td>1.237037</td>\n",
       "      <td>0.506940</td>\n",
       "      <td>0.884271</td>\n",
       "      <td>0.944444</td>\n",
       "      <td>0.778120</td>\n",
       "      <td>13</td>\n",
       "    </tr>\n",
       "    <tr>\n",
       "      <th>16</th>\n",
       "      <td>16</td>\n",
       "      <td>성북구</td>\n",
       "      <td>2018.0</td>\n",
       "      <td>1292.666667</td>\n",
       "      <td>32.000000</td>\n",
       "      <td>3117.666667</td>\n",
       "      <td>5.666667</td>\n",
       "      <td>4.000000</td>\n",
       "      <td>177.333333</td>\n",
       "      <td>1196.666667</td>\n",
       "      <td>...</td>\n",
       "      <td>134.666667</td>\n",
       "      <td>689.666667</td>\n",
       "      <td>1525.666667</td>\n",
       "      <td>0.759286</td>\n",
       "      <td>1.333333</td>\n",
       "      <td>0.581400</td>\n",
       "      <td>0.881226</td>\n",
       "      <td>0.952381</td>\n",
       "      <td>0.759410</td>\n",
       "      <td>19</td>\n",
       "    </tr>\n",
       "    <tr>\n",
       "      <th>17</th>\n",
       "      <td>17</td>\n",
       "      <td>송파구</td>\n",
       "      <td>2018.0</td>\n",
       "      <td>1398.000000</td>\n",
       "      <td>26.666667</td>\n",
       "      <td>5693.666667</td>\n",
       "      <td>6.000000</td>\n",
       "      <td>5.666667</td>\n",
       "      <td>290.000000</td>\n",
       "      <td>2347.333333</td>\n",
       "      <td>...</td>\n",
       "      <td>242.000000</td>\n",
       "      <td>1025.333333</td>\n",
       "      <td>2625.666667</td>\n",
       "      <td>0.686126</td>\n",
       "      <td>1.777778</td>\n",
       "      <td>0.437114</td>\n",
       "      <td>0.862152</td>\n",
       "      <td>1.114286</td>\n",
       "      <td>0.834925</td>\n",
       "      <td>7</td>\n",
       "    </tr>\n",
       "    <tr>\n",
       "      <th>18</th>\n",
       "      <td>18</td>\n",
       "      <td>양천구</td>\n",
       "      <td>2018.0</td>\n",
       "      <td>1034.666667</td>\n",
       "      <td>20.666667</td>\n",
       "      <td>3537.000000</td>\n",
       "      <td>3.666667</td>\n",
       "      <td>3.000000</td>\n",
       "      <td>128.333333</td>\n",
       "      <td>1483.666667</td>\n",
       "      <td>...</td>\n",
       "      <td>115.000000</td>\n",
       "      <td>678.666667</td>\n",
       "      <td>1611.000000</td>\n",
       "      <td>0.681882</td>\n",
       "      <td>1.722222</td>\n",
       "      <td>0.457161</td>\n",
       "      <td>0.841109</td>\n",
       "      <td>1.055556</td>\n",
       "      <td>0.896983</td>\n",
       "      <td>6</td>\n",
       "    </tr>\n",
       "    <tr>\n",
       "      <th>19</th>\n",
       "      <td>19</td>\n",
       "      <td>영등포구</td>\n",
       "      <td>2018.0</td>\n",
       "      <td>1310.333333</td>\n",
       "      <td>20.000000</td>\n",
       "      <td>5876.333333</td>\n",
       "      <td>14.000000</td>\n",
       "      <td>5.333333</td>\n",
       "      <td>400.666667</td>\n",
       "      <td>2335.000000</td>\n",
       "      <td>...</td>\n",
       "      <td>257.666667</td>\n",
       "      <td>1080.000000</td>\n",
       "      <td>2552.000000</td>\n",
       "      <td>0.664801</td>\n",
       "      <td>0.916667</td>\n",
       "      <td>0.462821</td>\n",
       "      <td>0.817515</td>\n",
       "      <td>0.916340</td>\n",
       "      <td>0.647009</td>\n",
       "      <td>3</td>\n",
       "    </tr>\n",
       "    <tr>\n",
       "      <th>20</th>\n",
       "      <td>20</td>\n",
       "      <td>용산구</td>\n",
       "      <td>2018.0</td>\n",
       "      <td>945.333333</td>\n",
       "      <td>16.000000</td>\n",
       "      <td>3594.666667</td>\n",
       "      <td>1.666667</td>\n",
       "      <td>3.666667</td>\n",
       "      <td>310.000000</td>\n",
       "      <td>1147.000000</td>\n",
       "      <td>...</td>\n",
       "      <td>270.333333</td>\n",
       "      <td>564.000000</td>\n",
       "      <td>1857.333333</td>\n",
       "      <td>0.752263</td>\n",
       "      <td>0.933333</td>\n",
       "      <td>0.495301</td>\n",
       "      <td>0.872446</td>\n",
       "      <td>1.000000</td>\n",
       "      <td>0.872048</td>\n",
       "      <td>18</td>\n",
       "    </tr>\n",
       "    <tr>\n",
       "      <th>21</th>\n",
       "      <td>21</td>\n",
       "      <td>은평구</td>\n",
       "      <td>2018.0</td>\n",
       "      <td>1237.333333</td>\n",
       "      <td>26.666667</td>\n",
       "      <td>3784.333333</td>\n",
       "      <td>5.666667</td>\n",
       "      <td>2.000000</td>\n",
       "      <td>204.000000</td>\n",
       "      <td>1410.000000</td>\n",
       "      <td>...</td>\n",
       "      <td>181.333333</td>\n",
       "      <td>909.000000</td>\n",
       "      <td>1925.333333</td>\n",
       "      <td>0.798866</td>\n",
       "      <td>1.000000</td>\n",
       "      <td>0.645392</td>\n",
       "      <td>0.889854</td>\n",
       "      <td>1.000000</td>\n",
       "      <td>0.886692</td>\n",
       "      <td>23</td>\n",
       "    </tr>\n",
       "    <tr>\n",
       "      <th>22</th>\n",
       "      <td>22</td>\n",
       "      <td>종로구</td>\n",
       "      <td>2018.0</td>\n",
       "      <td>1533.333333</td>\n",
       "      <td>30.666667</td>\n",
       "      <td>3864.333333</td>\n",
       "      <td>5.666667</td>\n",
       "      <td>6.666667</td>\n",
       "      <td>242.333333</td>\n",
       "      <td>1547.333333</td>\n",
       "      <td>...</td>\n",
       "      <td>1218.333333</td>\n",
       "      <td>981.000000</td>\n",
       "      <td>1939.333333</td>\n",
       "      <td>1.074854</td>\n",
       "      <td>1.658730</td>\n",
       "      <td>0.636501</td>\n",
       "      <td>0.939844</td>\n",
       "      <td>1.234127</td>\n",
       "      <td>5.014855</td>\n",
       "      <td>25</td>\n",
       "    </tr>\n",
       "    <tr>\n",
       "      <th>23</th>\n",
       "      <td>23</td>\n",
       "      <td>중구</td>\n",
       "      <td>2018.0</td>\n",
       "      <td>1383.000000</td>\n",
       "      <td>24.000000</td>\n",
       "      <td>4180.333333</td>\n",
       "      <td>1.666667</td>\n",
       "      <td>8.666667</td>\n",
       "      <td>223.000000</td>\n",
       "      <td>1967.666667</td>\n",
       "      <td>...</td>\n",
       "      <td>126.333333</td>\n",
       "      <td>923.666667</td>\n",
       "      <td>1718.666667</td>\n",
       "      <td>0.664731</td>\n",
       "      <td>0.944444</td>\n",
       "      <td>0.468980</td>\n",
       "      <td>0.868074</td>\n",
       "      <td>0.750000</td>\n",
       "      <td>0.567784</td>\n",
       "      <td>2</td>\n",
       "    </tr>\n",
       "    <tr>\n",
       "      <th>24</th>\n",
       "      <td>24</td>\n",
       "      <td>중랑구</td>\n",
       "      <td>2018.0</td>\n",
       "      <td>1014.333333</td>\n",
       "      <td>22.666667</td>\n",
       "      <td>4375.666667</td>\n",
       "      <td>6.333333</td>\n",
       "      <td>3.333333</td>\n",
       "      <td>161.333333</td>\n",
       "      <td>1575.000000</td>\n",
       "      <td>...</td>\n",
       "      <td>132.333333</td>\n",
       "      <td>865.666667</td>\n",
       "      <td>2242.000000</td>\n",
       "      <td>0.742903</td>\n",
       "      <td>1.194444</td>\n",
       "      <td>0.549800</td>\n",
       "      <td>0.852839</td>\n",
       "      <td>1.083333</td>\n",
       "      <td>0.817717</td>\n",
       "      <td>16</td>\n",
       "    </tr>\n",
       "  </tbody>\n",
       "</table>\n",
       "<p>25 rows × 24 columns</p>\n",
       "</div>"
      ],
      "text/plain": [
       "    Unnamed: 0   지역구      년도         경찰관수     치안시설총수         발생합계       살인발생  \\\n",
       "0            0   강남구  2018.0  1999.000000  29.333333  7512.333333   7.333333   \n",
       "1            1   강동구  2018.0  1012.000000  21.333333  4064.666667   4.666667   \n",
       "2            2   강북구  2018.0   893.666667  18.666667  3556.000000   7.333333   \n",
       "3            3   강서구  2018.0  1242.666667  16.000000  4896.000000  10.000000   \n",
       "4            4   관악구  2018.0  1194.000000  25.333333  5293.000000  10.000000   \n",
       "5            5   광진구  2018.0   952.333333  16.000000  4190.666667   5.666667   \n",
       "6            6   구로구  2018.0  1007.000000  21.333333  4804.000000   8.333333   \n",
       "7            7   금천구  2018.0   771.000000  16.000000  3221.000000   5.666667   \n",
       "8            8   노원구  2018.0  1087.333333  23.333333  4123.000000   4.333333   \n",
       "9            9   도봉구  2018.0   754.333333  12.000000  2119.333333   1.000000   \n",
       "10          10  동대문구  2018.0  1097.333333  26.666667  3782.333333   6.333333   \n",
       "11          11   동작구  2018.0   898.666667  22.666667  3276.666667   2.666667   \n",
       "12          12   마포구  2018.0  1169.333333  21.333333  5097.333333   3.666667   \n",
       "13          13  서대문구  2018.0   906.000000  14.666667  2952.666667   3.666667   \n",
       "14          14   서초구  2018.0  1467.666667  25.333333  4992.000000   6.333333   \n",
       "15          15   성동구  2018.0   862.000000  20.000000  2578.666667   3.000000   \n",
       "16          16   성북구  2018.0  1292.666667  32.000000  3117.666667   5.666667   \n",
       "17          17   송파구  2018.0  1398.000000  26.666667  5693.666667   6.000000   \n",
       "18          18   양천구  2018.0  1034.666667  20.666667  3537.000000   3.666667   \n",
       "19          19  영등포구  2018.0  1310.333333  20.000000  5876.333333  14.000000   \n",
       "20          20   용산구  2018.0   945.333333  16.000000  3594.666667   1.666667   \n",
       "21          21   은평구  2018.0  1237.333333  26.666667  3784.333333   5.666667   \n",
       "22          22   종로구  2018.0  1533.333333  30.666667  3864.333333   5.666667   \n",
       "23          23    중구  2018.0  1383.000000  24.000000  4180.333333   1.666667   \n",
       "24          24   중랑구  2018.0  1014.333333  22.666667  4375.666667   6.333333   \n",
       "\n",
       "         강도발생    강간강제추행발생         절도발생  ...     강간강제추행검거         절도검거  \\\n",
       "0   13.000000  624.333333  3034.666667  ...   527.000000  1346.333333   \n",
       "1   10.666667  174.000000  1603.333333  ...   155.666667   873.666667   \n",
       "2    5.666667  190.666667  1118.333333  ...   144.333333   634.000000   \n",
       "3    4.333333  297.000000  1887.333333  ...   252.000000  1057.333333   \n",
       "4    9.000000  379.666667  2071.333333  ...   321.000000  1087.333333   \n",
       "5    7.000000  254.333333  1954.666667  ...   201.666667  1050.000000   \n",
       "6    6.666667  268.000000  1786.000000  ...   175.666667   873.666667   \n",
       "7    7.333333  197.666667  1155.333333  ...   174.333333   644.666667   \n",
       "8    5.666667  186.000000  1486.000000  ...   162.000000   674.333333   \n",
       "9    4.333333  102.333333   734.666667  ...   105.000000   414.000000   \n",
       "10   6.000000  159.333333  1508.333333  ...   134.666667   924.666667   \n",
       "11   5.000000  311.666667  1235.000000  ...   145.666667   568.000000   \n",
       "12   5.333333  489.333333  2098.333333  ...   414.000000   878.666667   \n",
       "13   3.000000  194.333333  1172.666667  ...   174.666667   634.666667   \n",
       "14   8.333333  518.666667  1977.666667  ...   336.666667   930.333333   \n",
       "15   5.666667  130.333333  1013.666667  ...   101.333333   513.666667   \n",
       "16   4.000000  177.333333  1196.666667  ...   134.666667   689.666667   \n",
       "17   5.666667  290.000000  2347.333333  ...   242.000000  1025.333333   \n",
       "18   3.000000  128.333333  1483.666667  ...   115.000000   678.666667   \n",
       "19   5.333333  400.666667  2335.000000  ...   257.666667  1080.000000   \n",
       "20   3.666667  310.000000  1147.000000  ...   270.333333   564.000000   \n",
       "21   2.000000  204.000000  1410.000000  ...   181.333333   909.000000   \n",
       "22   6.666667  242.333333  1547.333333  ...  1218.333333   981.000000   \n",
       "23   8.666667  223.000000  1967.666667  ...   126.333333   923.666667   \n",
       "24   3.333333  161.333333  1575.000000  ...   132.333333   865.666667   \n",
       "\n",
       "           폭력검거   검거율/발생율     강도검거율     절도검거율     폭력검거율     살인검거율  강간강제추행검거율  \\\n",
       "0   3301.000000  0.691618  1.038095  0.443703  0.861245  0.966667   0.844215   \n",
       "1   1951.333333  0.736464  1.044444  0.543849  0.858642  1.011111   0.894949   \n",
       "2   2073.666667  0.806010  0.793651  0.569592  0.929038  0.916667   0.759175   \n",
       "3   2323.000000  0.744565  1.111111  0.561495  0.860778  0.981061   0.851667   \n",
       "4   2445.666667  0.731255  1.052381  0.526545  0.867577  0.881410   0.846599   \n",
       "5   1703.333333  0.707459  0.649573  0.538107  0.864138  0.932540   0.793549   \n",
       "6   2281.666667  0.696454  1.027778  0.488593  0.834489  1.014286   0.668639   \n",
       "7   1663.666667  0.773957  0.819048  0.558161  0.896767  1.000000   0.877288   \n",
       "8   2066.666667  0.705895  0.925926  0.452732  0.846355  0.933333   0.870520   \n",
       "9   1084.666667  0.760371  0.866667  0.569786  0.849588  1.000000   1.021130   \n",
       "10  1948.666667  0.797814  1.122222  0.613427  0.926811  0.969697   0.842212   \n",
       "11  1454.333333  0.664352  1.095238  0.460629  0.844778  0.833333   0.469946   \n",
       "12  2110.666667  0.669230  1.055556  0.419008  0.844484  1.000000   0.845878   \n",
       "13  1296.000000  0.714792  1.333333  0.541599  0.820433  0.766667   0.897838   \n",
       "14  2110.666667  0.679237  0.750916  0.468685  0.851218  1.037037   0.647057   \n",
       "15  1260.666667  0.731002  1.237037  0.506940  0.884271  0.944444   0.778120   \n",
       "16  1525.666667  0.759286  1.333333  0.581400  0.881226  0.952381   0.759410   \n",
       "17  2625.666667  0.686126  1.777778  0.437114  0.862152  1.114286   0.834925   \n",
       "18  1611.000000  0.681882  1.722222  0.457161  0.841109  1.055556   0.896983   \n",
       "19  2552.000000  0.664801  0.916667  0.462821  0.817515  0.916340   0.647009   \n",
       "20  1857.333333  0.752263  0.933333  0.495301  0.872446  1.000000   0.872048   \n",
       "21  1925.333333  0.798866  1.000000  0.645392  0.889854  1.000000   0.886692   \n",
       "22  1939.333333  1.074854  1.658730  0.636501  0.939844  1.234127   5.014855   \n",
       "23  1718.666667  0.664731  0.944444  0.468980  0.868074  0.750000   0.567784   \n",
       "24  2242.000000  0.742903  1.194444  0.549800  0.852839  1.083333   0.817717   \n",
       "\n",
       "    랭크  \n",
       "0    8  \n",
       "1   15  \n",
       "2   24  \n",
       "3   17  \n",
       "4   14  \n",
       "5   11  \n",
       "6    9  \n",
       "7   21  \n",
       "8   10  \n",
       "9   20  \n",
       "10  22  \n",
       "11   1  \n",
       "12   4  \n",
       "13  12  \n",
       "14   5  \n",
       "15  13  \n",
       "16  19  \n",
       "17   7  \n",
       "18   6  \n",
       "19   3  \n",
       "20  18  \n",
       "21  23  \n",
       "22  25  \n",
       "23   2  \n",
       "24  16  \n",
       "\n",
       "[25 rows x 24 columns]"
      ]
     },
     "execution_count": 7,
     "metadata": {},
     "output_type": "execute_result"
    }
   ],
   "source": [
    "old_pop"
   ]
  },
  {
   "cell_type": "code",
   "execution_count": 8,
   "id": "ea0b1648",
   "metadata": {},
   "outputs": [],
   "source": [
    "geo_path = ('data/seoul_municipalities_geo_simple.json')\n",
    "\n",
    "get_str = json.load(open(geo_path, encoding='utf-8'))"
   ]
  },
  {
   "cell_type": "code",
   "execution_count": 9,
   "id": "b9ee2b95",
   "metadata": {},
   "outputs": [],
   "source": [
    "seoul_map = folium.Map(location = [37.5502, 126.982],zoom_start = 10.5)"
   ]
  },
  {
   "cell_type": "code",
   "execution_count": 10,
   "id": "b77aedfa",
   "metadata": {},
   "outputs": [
    {
     "data": {
      "text/plain": [
       "<folium.features.Choropleth at 0x2c5ea0cb820>"
      ]
     },
     "execution_count": 10,
     "metadata": {},
     "output_type": "execute_result"
    }
   ],
   "source": [
    "folium.Choropleth(\n",
    "    geo_data = get_str,\n",
    "    data = old_pop,\n",
    "    columns = ['지역구', '랭크'],\n",
    "    fill_color='OrRd_r',\n",
    "    key_on='properties.name',\n",
    "    ).add_to(seoul_map)\n"
   ]
  },
  {
   "cell_type": "code",
   "execution_count": 11,
   "id": "49d82853",
   "metadata": {},
   "outputs": [
    {
     "data": {
      "text/plain": [
       "<folium.map.Marker at 0x2c5ea0cb6d0>"
      ]
     },
     "execution_count": 11,
     "metadata": {},
     "output_type": "execute_result"
    }
   ],
   "source": [
    "text = '동작구'\n",
    "circle_lat = 37.5092\n",
    "circle_lon = 126.967\n",
    "\n",
    "\n",
    "folium.map.Marker(\n",
    "    [circle_lat, circle_lon],\n",
    "    icon=DivIcon(\n",
    "        icon_size=(10,6),\n",
    "        icon_anchor=(0,0), \n",
    "        html='<div style=\"font-size: pt; font-weight:bold;\">%s</div>' % text,\n",
    "        )\n",
    "    ).add_to(seoul_map)"
   ]
  },
  {
   "cell_type": "code",
   "execution_count": 12,
   "id": "653be6d4",
   "metadata": {},
   "outputs": [
    {
     "data": {
      "text/plain": [
       "<folium.map.Marker at 0x2c5ea0cbee0>"
      ]
     },
     "execution_count": 12,
     "metadata": {},
     "output_type": "execute_result"
    }
   ],
   "source": [
    "text = '중구'\n",
    "circle_lat = 37.5650\n",
    "circle_lon = 126.999\n",
    "\n",
    "\n",
    "folium.map.Marker(\n",
    "    [circle_lat, circle_lon],\n",
    "    icon=DivIcon(\n",
    "        icon_size=(10,6),\n",
    "        icon_anchor=(0,0), \n",
    "        html='<div style=\"font-size: pt; font-weight:bold;\">%s</div>' % text,\n",
    "        )\n",
    "    ).add_to(seoul_map)"
   ]
  },
  {
   "cell_type": "code",
   "execution_count": 13,
   "id": "38d0b653",
   "metadata": {},
   "outputs": [
    {
     "data": {
      "text/plain": [
       "<folium.map.Marker at 0x2c5ea0cbeb0>"
      ]
     },
     "execution_count": 13,
     "metadata": {},
     "output_type": "execute_result"
    }
   ],
   "source": [
    "text = '용산구'\n",
    "circle_lat = 37.5450\n",
    "circle_lon = 126.980\n",
    "\n",
    "\n",
    "folium.map.Marker(\n",
    "    [circle_lat, circle_lon],\n",
    "    icon=DivIcon(\n",
    "        icon_size=(10,6),\n",
    "        icon_anchor=(0,0), \n",
    "        html='<div style=\"font-size: pt; font-weight:bold;\">%s</div>' % text,\n",
    "        )\n",
    "    ).add_to(seoul_map)"
   ]
  },
  {
   "cell_type": "code",
   "execution_count": 14,
   "id": "5b2d71bd",
   "metadata": {},
   "outputs": [
    {
     "data": {
      "text/plain": [
       "<folium.map.Marker at 0x2c5ea0cbdf0>"
      ]
     },
     "execution_count": 14,
     "metadata": {},
     "output_type": "execute_result"
    }
   ],
   "source": [
    "text = '성동구'\n",
    "circle_lat = 37.5600\n",
    "circle_lon = 127.040\n",
    "\n",
    "\n",
    "folium.map.Marker(\n",
    "    [circle_lat, circle_lon],\n",
    "    icon=DivIcon(\n",
    "        icon_size=(10,6),\n",
    "        icon_anchor=(0,0), \n",
    "        html='<div style=\"font-size: pt; font-weight:bold;\">%s</div>' % text,\n",
    "        )\n",
    "    ).add_to(seoul_map)"
   ]
  },
  {
   "cell_type": "code",
   "execution_count": 15,
   "id": "208b7d93",
   "metadata": {},
   "outputs": [
    {
     "data": {
      "text/plain": [
       "<folium.map.Marker at 0x2c5ea0cb760>"
      ]
     },
     "execution_count": 15,
     "metadata": {},
     "output_type": "execute_result"
    }
   ],
   "source": [
    "text = '서초구'\n",
    "circle_lat = 37.5000\n",
    "circle_lon = 127.000\n",
    "\n",
    "\n",
    "folium.map.Marker(\n",
    "    [circle_lat, circle_lon],\n",
    "    icon=DivIcon(\n",
    "        icon_size=(10,6),\n",
    "        icon_anchor=(0,0), \n",
    "        html='<div style=\"font-size: pt; font-weight:bold;\">%s</div>' % text,\n",
    "        )\n",
    "    ).add_to(seoul_map)"
   ]
  },
  {
   "cell_type": "code",
   "execution_count": 16,
   "id": "7a9282f1",
   "metadata": {},
   "outputs": [
    {
     "data": {
      "text/plain": [
       "<folium.map.Marker at 0x2c5ea0cbb20>"
      ]
     },
     "execution_count": 16,
     "metadata": {},
     "output_type": "execute_result"
    }
   ],
   "source": [
    "text = '강남구'\n",
    "circle_lat = 37.5100\n",
    "circle_lon = 127.050\n",
    "\n",
    "\n",
    "folium.map.Marker(\n",
    "    [circle_lat, circle_lon],\n",
    "    icon=DivIcon(\n",
    "        icon_size=(10,6),\n",
    "        icon_anchor=(0,0), \n",
    "        html='<div style=\"font-size: pt; font-weight:bold;\">%s</div>' % text,\n",
    "        )\n",
    "    ).add_to(seoul_map)"
   ]
  },
  {
   "cell_type": "code",
   "execution_count": 17,
   "id": "4013b4ce",
   "metadata": {},
   "outputs": [
    {
     "data": {
      "text/plain": [
       "<folium.map.Marker at 0x2c5ea0e4100>"
      ]
     },
     "execution_count": 17,
     "metadata": {},
     "output_type": "execute_result"
    }
   ],
   "source": [
    "text = '송파구'\n",
    "circle_lat = 37.5100\n",
    "circle_lon = 127.120\n",
    "\n",
    "\n",
    "folium.map.Marker(\n",
    "    [circle_lat, circle_lon],\n",
    "    icon=DivIcon(\n",
    "        icon_size=(10,6),\n",
    "        icon_anchor=(0,0), \n",
    "        html='<div style=\"font-size: pt; font-weight:bold;\">%s</div>' % text,\n",
    "        )\n",
    "    ).add_to(seoul_map)"
   ]
  },
  {
   "cell_type": "code",
   "execution_count": 18,
   "id": "bbcadca9",
   "metadata": {},
   "outputs": [
    {
     "data": {
      "text/plain": [
       "<folium.map.Marker at 0x2c5ea0e4040>"
      ]
     },
     "execution_count": 18,
     "metadata": {},
     "output_type": "execute_result"
    }
   ],
   "source": [
    "text = '강동구'\n",
    "circle_lat = 37.5600\n",
    "circle_lon = 127.140\n",
    "\n",
    "\n",
    "folium.map.Marker(\n",
    "    [circle_lat, circle_lon],\n",
    "    icon=DivIcon(\n",
    "        icon_size=(10,6),\n",
    "        icon_anchor=(0,0), \n",
    "        html='<div style=\"font-size: pt; font-weight:bold;\">%s</div>' % text,\n",
    "        )\n",
    "    ).add_to(seoul_map)"
   ]
  },
  {
   "cell_type": "code",
   "execution_count": 19,
   "id": "c08879ad",
   "metadata": {},
   "outputs": [
    {
     "data": {
      "text/plain": [
       "<folium.map.Marker at 0x2c5ea0e41f0>"
      ]
     },
     "execution_count": 19,
     "metadata": {},
     "output_type": "execute_result"
    }
   ],
   "source": [
    "text = '광진구'\n",
    "circle_lat = 37.5600\n",
    "circle_lon = 127.090\n",
    "\n",
    "\n",
    "folium.map.Marker(\n",
    "    [circle_lat, circle_lon],\n",
    "    icon=DivIcon(\n",
    "        icon_size=(10,6),\n",
    "        icon_anchor=(0,0), \n",
    "        html='<div style=\"font-size: pt; font-weight:bold;\">%s</div>' % text,\n",
    "        )\n",
    "    ).add_to(seoul_map)"
   ]
  },
  {
   "cell_type": "code",
   "execution_count": 20,
   "id": "3d359d5e",
   "metadata": {},
   "outputs": [
    {
     "data": {
      "text/plain": [
       "<folium.map.Marker at 0x2c5ea0e45e0>"
      ]
     },
     "execution_count": 20,
     "metadata": {},
     "output_type": "execute_result"
    }
   ],
   "source": [
    "text = '중랑구'\n",
    "circle_lat = 37.6050\n",
    "circle_lon = 127.090\n",
    "\n",
    "\n",
    "folium.map.Marker(\n",
    "    [circle_lat, circle_lon],\n",
    "    icon=DivIcon(\n",
    "        icon_size=(10,6),\n",
    "        icon_anchor=(0,0), \n",
    "        html='<div style=\"font-size: pt; font-weight:bold;\">%s</div>' % text,\n",
    "        )\n",
    "    ).add_to(seoul_map)"
   ]
  },
  {
   "cell_type": "code",
   "execution_count": 21,
   "id": "70fd4066",
   "metadata": {},
   "outputs": [
    {
     "data": {
      "text/plain": [
       "<folium.map.Marker at 0x2c5ea0e4d30>"
      ]
     },
     "execution_count": 21,
     "metadata": {},
     "output_type": "execute_result"
    }
   ],
   "source": [
    "text = '노원구'\n",
    "circle_lat = 37.6650\n",
    "circle_lon = 127.075\n",
    "\n",
    "\n",
    "folium.map.Marker(\n",
    "    [circle_lat, circle_lon],\n",
    "    icon=DivIcon(\n",
    "        icon_size=(10,6),\n",
    "        icon_anchor=(0,0), \n",
    "        html='<div style=\"font-size: pt; font-weight:bold;\">%s</div>' % text,\n",
    "        )\n",
    "    ).add_to(seoul_map)"
   ]
  },
  {
   "cell_type": "code",
   "execution_count": 22,
   "id": "d80d72d6",
   "metadata": {},
   "outputs": [
    {
     "data": {
      "text/plain": [
       "<folium.map.Marker at 0x2c5ea0cb7c0>"
      ]
     },
     "execution_count": 22,
     "metadata": {},
     "output_type": "execute_result"
    }
   ],
   "source": [
    "text = '도봉구'\n",
    "circle_lat = 37.6750\n",
    "circle_lon = 127.033\n",
    "\n",
    "\n",
    "folium.map.Marker(\n",
    "    [circle_lat, circle_lon],\n",
    "    icon=DivIcon(\n",
    "        icon_size=(10,6),\n",
    "        icon_anchor=(0,0), \n",
    "        html='<div style=\"font-size: pt; font-weight:bold;\">%s</div>' % text,\n",
    "        )\n",
    "    ).add_to(seoul_map)"
   ]
  },
  {
   "cell_type": "code",
   "execution_count": 23,
   "id": "9efc7781",
   "metadata": {},
   "outputs": [
    {
     "data": {
      "text/plain": [
       "<folium.map.Marker at 0x2c5ea0cb7f0>"
      ]
     },
     "execution_count": 23,
     "metadata": {},
     "output_type": "execute_result"
    }
   ],
   "source": [
    "text = '강북구'\n",
    "circle_lat = 37.6650\n",
    "circle_lon = 127.000\n",
    "\n",
    "\n",
    "folium.map.Marker(\n",
    "    [circle_lat, circle_lon],\n",
    "    icon=DivIcon(\n",
    "        icon_size=(10,6),\n",
    "        icon_anchor=(0,0), \n",
    "        html='<div style=\"font-size: pt; font-weight:bold;\">%s</div>' % text,\n",
    "        )\n",
    "    ).add_to(seoul_map)"
   ]
  },
  {
   "cell_type": "code",
   "execution_count": 24,
   "id": "95e251fd",
   "metadata": {},
   "outputs": [
    {
     "data": {
      "text/plain": [
       "<folium.map.Marker at 0x2c5ea0e44f0>"
      ]
     },
     "execution_count": 24,
     "metadata": {},
     "output_type": "execute_result"
    }
   ],
   "source": [
    "text = '성북구'\n",
    "circle_lat = 37.6100\n",
    "circle_lon = 127.020\n",
    "\n",
    "\n",
    "folium.map.Marker(\n",
    "    [circle_lat, circle_lon],\n",
    "    icon=DivIcon(\n",
    "        icon_size=(10,6),\n",
    "        icon_anchor=(0,0), \n",
    "        html='<div style=\"font-size: pt; font-weight:bold;\">%s</div>' % text,\n",
    "        )\n",
    "    ).add_to(seoul_map)"
   ]
  },
  {
   "cell_type": "code",
   "execution_count": 25,
   "id": "b068face",
   "metadata": {},
   "outputs": [
    {
     "data": {
      "text/plain": [
       "<folium.map.Marker at 0x2c5ea0e45b0>"
      ]
     },
     "execution_count": 25,
     "metadata": {},
     "output_type": "execute_result"
    }
   ],
   "source": [
    "text = '동대문구'\n",
    "circle_lat = 37.5990\n",
    "circle_lon = 127.060\n",
    "\n",
    "\n",
    "folium.map.Marker(\n",
    "    [circle_lat, circle_lon],\n",
    "    icon=DivIcon(\n",
    "        icon_size=(10,6),\n",
    "        icon_anchor=(0,0), \n",
    "        html='<div style=\"font-size: pt; font-weight:bold;\">%s</div>' % text,\n",
    "        )\n",
    "    ).add_to(seoul_map)"
   ]
  },
  {
   "cell_type": "code",
   "execution_count": 26,
   "id": "080d27ed",
   "metadata": {},
   "outputs": [
    {
     "data": {
      "text/plain": [
       "<folium.map.Marker at 0x2c5ea0e4af0>"
      ]
     },
     "execution_count": 26,
     "metadata": {},
     "output_type": "execute_result"
    }
   ],
   "source": [
    "text = '종로구'\n",
    "circle_lat = 37.6100\n",
    "circle_lon = 126.970\n",
    "\n",
    "\n",
    "folium.map.Marker(\n",
    "    [circle_lat, circle_lon],\n",
    "    icon=DivIcon(\n",
    "        icon_size=(10,6),\n",
    "        icon_anchor=(0,0), \n",
    "        html='<div style=\"font-size: pt; font-weight:bold;\">%s</div>' % text,\n",
    "        )\n",
    "    ).add_to(seoul_map)"
   ]
  },
  {
   "cell_type": "code",
   "execution_count": 27,
   "id": "e37edee0",
   "metadata": {},
   "outputs": [
    {
     "data": {
      "text/plain": [
       "<folium.map.Marker at 0x2c5ea0e46d0>"
      ]
     },
     "execution_count": 27,
     "metadata": {},
     "output_type": "execute_result"
    }
   ],
   "source": [
    "text = '은평구'\n",
    "circle_lat = 37.6300\n",
    "circle_lon = 126.930\n",
    "\n",
    "folium.map.Marker(\n",
    "    [circle_lat, circle_lon],\n",
    "    icon=DivIcon(\n",
    "        icon_size=(10,6),\n",
    "        icon_anchor=(0,0), \n",
    "        html='<div style=\"font-size: pt; font-weight:bold;\">%s</div>' % text,\n",
    "        )\n",
    "    ).add_to(seoul_map)"
   ]
  },
  {
   "cell_type": "code",
   "execution_count": 28,
   "id": "bc17444f",
   "metadata": {},
   "outputs": [
    {
     "data": {
      "text/plain": [
       "<folium.map.Marker at 0x2c5ea0e4550>"
      ]
     },
     "execution_count": 28,
     "metadata": {},
     "output_type": "execute_result"
    }
   ],
   "source": [
    "text = '서대문구'\n",
    "circle_lat = 37.5930\n",
    "circle_lon = 126.940\n",
    "\n",
    "\n",
    "folium.map.Marker(\n",
    "    [circle_lat, circle_lon],\n",
    "    icon=DivIcon(\n",
    "        icon_size=(10,6),\n",
    "        icon_anchor=(0,0), \n",
    "        html='<div style=\"font-size: pt; font-weight:bold;\">%s</div>' % text,\n",
    "        )\n",
    "    ).add_to(seoul_map)"
   ]
  },
  {
   "cell_type": "code",
   "execution_count": 29,
   "id": "1c5531d7",
   "metadata": {},
   "outputs": [
    {
     "data": {
      "text/plain": [
       "<folium.map.Marker at 0x2c5ea0e4a00>"
      ]
     },
     "execution_count": 29,
     "metadata": {},
     "output_type": "execute_result"
    }
   ],
   "source": [
    "text = '마포구'\n",
    "circle_lat = 37.5680\n",
    "circle_lon = 126.910\n",
    "\n",
    "\n",
    "folium.map.Marker(\n",
    "    [circle_lat, circle_lon],\n",
    "    icon=DivIcon(\n",
    "        icon_size=(10,6),\n",
    "        icon_anchor=(0,0), \n",
    "        html='<div style=\"font-size: pt; font-weight:bold;\">%s</div>' % text,\n",
    "        )\n",
    "    ).add_to(seoul_map)"
   ]
  },
  {
   "cell_type": "code",
   "execution_count": 30,
   "id": "309e4cd1",
   "metadata": {},
   "outputs": [
    {
     "data": {
      "text/plain": [
       "<folium.map.Marker at 0x2c5ea0e4340>"
      ]
     },
     "execution_count": 30,
     "metadata": {},
     "output_type": "execute_result"
    }
   ],
   "source": [
    "text = '강서구'\n",
    "circle_lat = 37.5700\n",
    "circle_lon = 126.830\n",
    "\n",
    "\n",
    "folium.map.Marker(\n",
    "    [circle_lat, circle_lon],\n",
    "    icon=DivIcon(\n",
    "        icon_size=(10,6),\n",
    "        icon_anchor=(0,0), \n",
    "        html='<div style=\"font-size: pt; font-weight:bold;\">%s</div>' % text,\n",
    "        )\n",
    "    ).add_to(seoul_map)"
   ]
  },
  {
   "cell_type": "code",
   "execution_count": 31,
   "id": "d2964ee1",
   "metadata": {},
   "outputs": [
    {
     "data": {
      "text/plain": [
       "<folium.map.Marker at 0x2c5ea0e4eb0>"
      ]
     },
     "execution_count": 31,
     "metadata": {},
     "output_type": "execute_result"
    }
   ],
   "source": [
    "text = '양천구'\n",
    "circle_lat = 37.5430\n",
    "circle_lon = 126.872\n",
    "\n",
    "\n",
    "folium.map.Marker(\n",
    "    [circle_lat, circle_lon],\n",
    "    icon=DivIcon(\n",
    "        icon_size=(10,6),\n",
    "        icon_anchor=(0,0), \n",
    "        html='<div style=\"font-size: pt; font-weight:bold;\">%s</div>' % text,\n",
    "        )\n",
    "    ).add_to(seoul_map)"
   ]
  },
  {
   "cell_type": "code",
   "execution_count": 32,
   "id": "f5a3fb0a",
   "metadata": {},
   "outputs": [
    {
     "data": {
      "text/plain": [
       "<folium.map.Marker at 0x2c5ea0e4310>"
      ]
     },
     "execution_count": 32,
     "metadata": {},
     "output_type": "execute_result"
    }
   ],
   "source": [
    "text = '영등포구'\n",
    "circle_lat = 37.5350\n",
    "circle_lon = 126.905\n",
    "\n",
    "\n",
    "folium.map.Marker(\n",
    "    [circle_lat, circle_lon],\n",
    "    icon=DivIcon(\n",
    "        icon_size=(10,6),\n",
    "        icon_anchor=(0,0), \n",
    "        html='<div style=\"font-size: pt; font-weight:bold;\">%s</div>' % text,\n",
    "        )\n",
    "    ).add_to(seoul_map)"
   ]
  },
  {
   "cell_type": "code",
   "execution_count": 33,
   "id": "826c1dbd",
   "metadata": {},
   "outputs": [
    {
     "data": {
      "text/plain": [
       "<folium.map.Marker at 0x2c5ea0e4e50>"
      ]
     },
     "execution_count": 33,
     "metadata": {},
     "output_type": "execute_result"
    }
   ],
   "source": [
    "text = '구로구'\n",
    "circle_lat = 37.5080\n",
    "circle_lon = 126.858\n",
    "\n",
    "\n",
    "folium.map.Marker(\n",
    "    [circle_lat, circle_lon],\n",
    "    icon=DivIcon(\n",
    "        icon_size=(10,6),\n",
    "        icon_anchor=(0,0), \n",
    "        html='<div style=\"font-size: pt; font-weight:bold;\">%s</div>' % text,\n",
    "        )\n",
    "    ).add_to(seoul_map)"
   ]
  },
  {
   "cell_type": "code",
   "execution_count": 34,
   "id": "d1a8e45d",
   "metadata": {},
   "outputs": [
    {
     "data": {
      "text/plain": [
       "<folium.map.Marker at 0x2c5ea0e4c10>"
      ]
     },
     "execution_count": 34,
     "metadata": {},
     "output_type": "execute_result"
    }
   ],
   "source": [
    "text = '금천구'\n",
    "circle_lat = 37.4750\n",
    "circle_lon = 126.895\n",
    "\n",
    "\n",
    "folium.map.Marker(\n",
    "    [circle_lat, circle_lon],\n",
    "    icon=DivIcon(\n",
    "        icon_size=(10,6),\n",
    "        icon_anchor=(0,0), \n",
    "        html='<div style=\"font-size: pt; font-weight:bold;\">%s</div>' % text,\n",
    "        )\n",
    "    ).add_to(seoul_map)"
   ]
  },
  {
   "cell_type": "code",
   "execution_count": 35,
   "id": "7da005fc",
   "metadata": {},
   "outputs": [
    {
     "data": {
      "text/plain": [
       "<folium.map.Marker at 0x2c5ea0e4220>"
      ]
     },
     "execution_count": 35,
     "metadata": {},
     "output_type": "execute_result"
    }
   ],
   "source": [
    "text = '관악구'\n",
    "circle_lat = 37.4800\n",
    "circle_lon = 126.940\n",
    "\n",
    "\n",
    "folium.map.Marker(\n",
    "    [circle_lat, circle_lon],\n",
    "    icon=DivIcon(\n",
    "        icon_size=(10,6),\n",
    "        icon_anchor=(0,0), \n",
    "        html='<div style=\"font-size: pt; font-weight:bold;\">%s</div>' % text,\n",
    "        )\n",
    "    ).add_to(seoul_map)"
   ]
  },
  {
   "cell_type": "code",
   "execution_count": 36,
   "id": "a7fc3b4a",
   "metadata": {},
   "outputs": [
    {
     "data": {
      "text/html": [
       "<div style=\"width:100%;\"><div style=\"position:relative;width:100%;height:0;padding-bottom:60%;\"><span style=\"color:#565656\">Make this Notebook Trusted to load map: File -> Trust Notebook</span><iframe src=\"about:blank\" style=\"position:absolute;width:100%;height:100%;left:0;top:0;border:none !important;\" data-html=%3C%21DOCTYPE%20html%3E%0A%3Chead%3E%20%20%20%20%0A%20%20%20%20%3Cmeta%20http-equiv%3D%22content-type%22%20content%3D%22text/html%3B%20charset%3DUTF-8%22%20/%3E%0A%20%20%20%20%0A%20%20%20%20%20%20%20%20%3Cscript%3E%0A%20%20%20%20%20%20%20%20%20%20%20%20L_NO_TOUCH%20%3D%20false%3B%0A%20%20%20%20%20%20%20%20%20%20%20%20L_DISABLE_3D%20%3D%20false%3B%0A%20%20%20%20%20%20%20%20%3C/script%3E%0A%20%20%20%20%0A%20%20%20%20%3Cstyle%3Ehtml%2C%20body%20%7Bwidth%3A%20100%25%3Bheight%3A%20100%25%3Bmargin%3A%200%3Bpadding%3A%200%3B%7D%3C/style%3E%0A%20%20%20%20%3Cstyle%3E%23map%20%7Bposition%3Aabsolute%3Btop%3A0%3Bbottom%3A0%3Bright%3A0%3Bleft%3A0%3B%7D%3C/style%3E%0A%20%20%20%20%3Cscript%20src%3D%22https%3A//cdn.jsdelivr.net/npm/leaflet%401.6.0/dist/leaflet.js%22%3E%3C/script%3E%0A%20%20%20%20%3Cscript%20src%3D%22https%3A//code.jquery.com/jquery-1.12.4.min.js%22%3E%3C/script%3E%0A%20%20%20%20%3Cscript%20src%3D%22https%3A//maxcdn.bootstrapcdn.com/bootstrap/3.2.0/js/bootstrap.min.js%22%3E%3C/script%3E%0A%20%20%20%20%3Cscript%20src%3D%22https%3A//cdnjs.cloudflare.com/ajax/libs/Leaflet.awesome-markers/2.0.2/leaflet.awesome-markers.js%22%3E%3C/script%3E%0A%20%20%20%20%3Clink%20rel%3D%22stylesheet%22%20href%3D%22https%3A//cdn.jsdelivr.net/npm/leaflet%401.6.0/dist/leaflet.css%22/%3E%0A%20%20%20%20%3Clink%20rel%3D%22stylesheet%22%20href%3D%22https%3A//maxcdn.bootstrapcdn.com/bootstrap/3.2.0/css/bootstrap.min.css%22/%3E%0A%20%20%20%20%3Clink%20rel%3D%22stylesheet%22%20href%3D%22https%3A//maxcdn.bootstrapcdn.com/bootstrap/3.2.0/css/bootstrap-theme.min.css%22/%3E%0A%20%20%20%20%3Clink%20rel%3D%22stylesheet%22%20href%3D%22https%3A//maxcdn.bootstrapcdn.com/font-awesome/4.6.3/css/font-awesome.min.css%22/%3E%0A%20%20%20%20%3Clink%20rel%3D%22stylesheet%22%20href%3D%22https%3A//cdnjs.cloudflare.com/ajax/libs/Leaflet.awesome-markers/2.0.2/leaflet.awesome-markers.css%22/%3E%0A%20%20%20%20%3Clink%20rel%3D%22stylesheet%22%20href%3D%22https%3A//cdn.jsdelivr.net/gh/python-visualization/folium/folium/templates/leaflet.awesome.rotate.min.css%22/%3E%0A%20%20%20%20%0A%20%20%20%20%20%20%20%20%20%20%20%20%3Cmeta%20name%3D%22viewport%22%20content%3D%22width%3Ddevice-width%2C%0A%20%20%20%20%20%20%20%20%20%20%20%20%20%20%20%20initial-scale%3D1.0%2C%20maximum-scale%3D1.0%2C%20user-scalable%3Dno%22%20/%3E%0A%20%20%20%20%20%20%20%20%20%20%20%20%3Cstyle%3E%0A%20%20%20%20%20%20%20%20%20%20%20%20%20%20%20%20%23map_b1377d144ab24c4c8bc402682da763ca%20%7B%0A%20%20%20%20%20%20%20%20%20%20%20%20%20%20%20%20%20%20%20%20position%3A%20relative%3B%0A%20%20%20%20%20%20%20%20%20%20%20%20%20%20%20%20%20%20%20%20width%3A%20100.0%25%3B%0A%20%20%20%20%20%20%20%20%20%20%20%20%20%20%20%20%20%20%20%20height%3A%20100.0%25%3B%0A%20%20%20%20%20%20%20%20%20%20%20%20%20%20%20%20%20%20%20%20left%3A%200.0%25%3B%0A%20%20%20%20%20%20%20%20%20%20%20%20%20%20%20%20%20%20%20%20top%3A%200.0%25%3B%0A%20%20%20%20%20%20%20%20%20%20%20%20%20%20%20%20%7D%0A%20%20%20%20%20%20%20%20%20%20%20%20%3C/style%3E%0A%20%20%20%20%20%20%20%20%0A%20%20%20%20%3Cscript%20src%3D%22https%3A//cdnjs.cloudflare.com/ajax/libs/d3/3.5.5/d3.min.js%22%3E%3C/script%3E%0A%3C/head%3E%0A%3Cbody%3E%20%20%20%20%0A%20%20%20%20%0A%20%20%20%20%20%20%20%20%20%20%20%20%3Cdiv%20class%3D%22folium-map%22%20id%3D%22map_b1377d144ab24c4c8bc402682da763ca%22%20%3E%3C/div%3E%0A%20%20%20%20%20%20%20%20%0A%3C/body%3E%0A%3Cscript%3E%20%20%20%20%0A%20%20%20%20%0A%20%20%20%20%20%20%20%20%20%20%20%20var%20map_b1377d144ab24c4c8bc402682da763ca%20%3D%20L.map%28%0A%20%20%20%20%20%20%20%20%20%20%20%20%20%20%20%20%22map_b1377d144ab24c4c8bc402682da763ca%22%2C%0A%20%20%20%20%20%20%20%20%20%20%20%20%20%20%20%20%7B%0A%20%20%20%20%20%20%20%20%20%20%20%20%20%20%20%20%20%20%20%20center%3A%20%5B37.5502%2C%20126.982%5D%2C%0A%20%20%20%20%20%20%20%20%20%20%20%20%20%20%20%20%20%20%20%20crs%3A%20L.CRS.EPSG3857%2C%0A%20%20%20%20%20%20%20%20%20%20%20%20%20%20%20%20%20%20%20%20zoom%3A%2010.5%2C%0A%20%20%20%20%20%20%20%20%20%20%20%20%20%20%20%20%20%20%20%20zoomControl%3A%20true%2C%0A%20%20%20%20%20%20%20%20%20%20%20%20%20%20%20%20%20%20%20%20preferCanvas%3A%20false%2C%0A%20%20%20%20%20%20%20%20%20%20%20%20%20%20%20%20%7D%0A%20%20%20%20%20%20%20%20%20%20%20%20%29%3B%0A%0A%20%20%20%20%20%20%20%20%20%20%20%20%0A%0A%20%20%20%20%20%20%20%20%0A%20%20%20%20%0A%20%20%20%20%20%20%20%20%20%20%20%20var%20tile_layer_0ec5652b79c9497ca51b000e9a710b7f%20%3D%20L.tileLayer%28%0A%20%20%20%20%20%20%20%20%20%20%20%20%20%20%20%20%22https%3A//%7Bs%7D.tile.openstreetmap.org/%7Bz%7D/%7Bx%7D/%7By%7D.png%22%2C%0A%20%20%20%20%20%20%20%20%20%20%20%20%20%20%20%20%7B%22attribution%22%3A%20%22Data%20by%20%5Cu0026copy%3B%20%5Cu003ca%20href%3D%5C%22http%3A//openstreetmap.org%5C%22%5Cu003eOpenStreetMap%5Cu003c/a%5Cu003e%2C%20under%20%5Cu003ca%20href%3D%5C%22http%3A//www.openstreetmap.org/copyright%5C%22%5Cu003eODbL%5Cu003c/a%5Cu003e.%22%2C%20%22detectRetina%22%3A%20false%2C%20%22maxNativeZoom%22%3A%2018%2C%20%22maxZoom%22%3A%2018%2C%20%22minZoom%22%3A%200%2C%20%22noWrap%22%3A%20false%2C%20%22opacity%22%3A%201%2C%20%22subdomains%22%3A%20%22abc%22%2C%20%22tms%22%3A%20false%7D%0A%20%20%20%20%20%20%20%20%20%20%20%20%29.addTo%28map_b1377d144ab24c4c8bc402682da763ca%29%3B%0A%20%20%20%20%20%20%20%20%0A%20%20%20%20%0A%20%20%20%20%20%20%20%20%20%20%20%20var%20choropleth_fc753468781b4624a3d40831383ed629%20%3D%20L.featureGroup%28%0A%20%20%20%20%20%20%20%20%20%20%20%20%20%20%20%20%7B%7D%0A%20%20%20%20%20%20%20%20%20%20%20%20%29.addTo%28map_b1377d144ab24c4c8bc402682da763ca%29%3B%0A%20%20%20%20%20%20%20%20%0A%20%20%20%20%0A%20%20%20%20%20%20%20%20function%20geo_json_4b3284c3cf904fb9a831dfc777c64675_styler%28feature%29%20%7B%0A%20%20%20%20%20%20%20%20%20%20%20%20switch%28feature.properties.code%29%20%7B%0A%20%20%20%20%20%20%20%20%20%20%20%20%20%20%20%20case%20%2211250%22%3A%20case%20%2211210%22%3A%20case%20%2211070%22%3A%20case%20%2211040%22%3A%20%0A%20%20%20%20%20%20%20%20%20%20%20%20%20%20%20%20%20%20%20%20return%20%7B%22color%22%3A%20%22black%22%2C%20%22fillColor%22%3A%20%22%23fdbb84%22%2C%20%22fillOpacity%22%3A%200.6%2C%20%22opacity%22%3A%201%2C%20%22weight%22%3A%201%7D%3B%0A%20%20%20%20%20%20%20%20%20%20%20%20%20%20%20%20case%20%2211240%22%3A%20case%20%2211230%22%3A%20case%20%2211220%22%3A%20case%20%2211150%22%3A%20%0A%20%20%20%20%20%20%20%20%20%20%20%20%20%20%20%20%20%20%20%20return%20%7B%22color%22%3A%20%22black%22%2C%20%22fillColor%22%3A%20%22%23e34a33%22%2C%20%22fillOpacity%22%3A%200.6%2C%20%22opacity%22%3A%201%2C%20%22weight%22%3A%201%7D%3B%0A%20%20%20%20%20%20%20%20%20%20%20%20%20%20%20%20case%20%2211200%22%3A%20case%20%2211190%22%3A%20case%20%2211140%22%3A%20case%20%2211020%22%3A%20%0A%20%20%20%20%20%20%20%20%20%20%20%20%20%20%20%20%20%20%20%20return%20%7B%22color%22%3A%20%22black%22%2C%20%22fillColor%22%3A%20%22%23b30000%22%2C%20%22fillOpacity%22%3A%200.6%2C%20%22opacity%22%3A%201%2C%20%22weight%22%3A%201%7D%3B%0A%20%20%20%20%20%20%20%20%20%20%20%20%20%20%20%20case%20%2211170%22%3A%20case%20%2211130%22%3A%20case%20%2211110%22%3A%20case%20%2211050%22%3A%20%0A%20%20%20%20%20%20%20%20%20%20%20%20%20%20%20%20%20%20%20%20return%20%7B%22color%22%3A%20%22black%22%2C%20%22fillColor%22%3A%20%22%23fc8d59%22%2C%20%22fillOpacity%22%3A%200.6%2C%20%22opacity%22%3A%201%2C%20%22weight%22%3A%201%7D%3B%0A%20%20%20%20%20%20%20%20%20%20%20%20%20%20%20%20case%20%2211160%22%3A%20case%20%2211100%22%3A%20case%20%2211080%22%3A%20case%20%2211030%22%3A%20%0A%20%20%20%20%20%20%20%20%20%20%20%20%20%20%20%20%20%20%20%20return%20%7B%22color%22%3A%20%22black%22%2C%20%22fillColor%22%3A%20%22%23fdd49e%22%2C%20%22fillOpacity%22%3A%200.6%2C%20%22opacity%22%3A%201%2C%20%22weight%22%3A%201%7D%3B%0A%20%20%20%20%20%20%20%20%20%20%20%20%20%20%20%20default%3A%0A%20%20%20%20%20%20%20%20%20%20%20%20%20%20%20%20%20%20%20%20return%20%7B%22color%22%3A%20%22black%22%2C%20%22fillColor%22%3A%20%22%23fef0d9%22%2C%20%22fillOpacity%22%3A%200.6%2C%20%22opacity%22%3A%201%2C%20%22weight%22%3A%201%7D%3B%0A%20%20%20%20%20%20%20%20%20%20%20%20%7D%0A%20%20%20%20%20%20%20%20%7D%0A%0A%20%20%20%20%20%20%20%20function%20geo_json_4b3284c3cf904fb9a831dfc777c64675_onEachFeature%28feature%2C%20layer%29%20%7B%0A%20%20%20%20%20%20%20%20%20%20%20%20layer.on%28%7B%0A%20%20%20%20%20%20%20%20%20%20%20%20%7D%29%3B%0A%20%20%20%20%20%20%20%20%7D%3B%0A%20%20%20%20%20%20%20%20var%20geo_json_4b3284c3cf904fb9a831dfc777c64675%20%3D%20L.geoJson%28null%2C%20%7B%0A%20%20%20%20%20%20%20%20%20%20%20%20%20%20%20%20onEachFeature%3A%20geo_json_4b3284c3cf904fb9a831dfc777c64675_onEachFeature%2C%0A%20%20%20%20%20%20%20%20%20%20%20%20%0A%20%20%20%20%20%20%20%20%20%20%20%20%20%20%20%20style%3A%20geo_json_4b3284c3cf904fb9a831dfc777c64675_styler%2C%0A%20%20%20%20%20%20%20%20%7D%29%3B%0A%0A%20%20%20%20%20%20%20%20function%20geo_json_4b3284c3cf904fb9a831dfc777c64675_add%20%28data%29%20%7B%0A%20%20%20%20%20%20%20%20%20%20%20%20geo_json_4b3284c3cf904fb9a831dfc777c64675%0A%20%20%20%20%20%20%20%20%20%20%20%20%20%20%20%20.addData%28data%29%0A%20%20%20%20%20%20%20%20%20%20%20%20%20%20%20%20.addTo%28choropleth_fc753468781b4624a3d40831383ed629%29%3B%0A%20%20%20%20%20%20%20%20%7D%0A%20%20%20%20%20%20%20%20%20%20%20%20geo_json_4b3284c3cf904fb9a831dfc777c64675_add%28%7B%22features%22%3A%20%5B%7B%22geometry%22%3A%20%7B%22coordinates%22%3A%20%5B%5B%5B127.11519584981606%2C%2037.557533180704915%5D%2C%20%5B127.11879551821994%2C%2037.557222485451305%5D%2C%20%5B127.12146867175024%2C%2037.55986003393365%5D%2C%20%5B127.12435254630417%2C%2037.56144246249796%5D%2C%20%5B127.13593925898998%2C%2037.56564793048277%5D%2C%20%5B127.14930548011061%2C%2037.56892250303897%5D%2C%20%5B127.15511020940411%2C%2037.57093642128295%5D%2C%20%5B127.16683184366129%2C%2037.57672487388627%5D%2C%20%5B127.17038810813094%2C%2037.576465605301046%5D%2C%20%5B127.17607118428914%2C%2037.57678573961056%5D%2C%20%5B127.17905504160184%2C%2037.57791388161732%5D%2C%20%5B127.17747787800164%2C%2037.57448983055031%5D%2C%20%5B127.1781775408844%2C%2037.571481967974336%5D%2C%20%5B127.17995281860672%2C%2037.569309661290504%5D%2C%20%5B127.18122821955262%2C%2037.56636089217979%5D%2C%20%5B127.18169407550688%2C%2037.56286338914073%5D%2C%20%5B127.18408792330152%2C%2037.55814280369575%5D%2C%20%5B127.18350810324185%2C%2037.550053002101485%5D%2C%20%5B127.1852644795464%2C%2037.54888592026534%5D%2C%20%5B127.18480906237207%2C%2037.545296888806796%5D%2C%20%5B127.18543378919821%2C%2037.54260756512178%5D%2C%20%5B127.18364810569703%2C%2037.54241347907019%5D%2C%20%5B127.18116465939269%2C%2037.54384126582126%5D%2C%20%5B127.17770860504257%2C%2037.542414255164374%5D%2C%20%5B127.1744373170213%2C%2037.54277723796397%5D%2C%20%5B127.16830424484573%2C%2037.54145405702079%5D%2C%20%5B127.16530984307447%2C%2037.54221851258693%5D%2C%20%5B127.15566835118616%2C%2037.53119520531309%5D%2C%20%5B127.15538075046105%2C%2037.52652930087977%5D%2C%20%5B127.15154315998161%2C%2037.522828709496416%5D%2C%20%5B127.14981542759394%2C%2037.51926843453025%5D%2C%20%5B127.14791518058246%2C%2037.51918714979303%5D%2C%20%5B127.14684644251928%2C%2037.51661384818575%5D%2C%20%5B127.14672806823502%2C%2037.51415680680291%5D%2C%20%5B127.14532023498624%2C%2037.51464060108829%5D%2C%20%5B127.12123165719615%2C%2037.52528270089%5D%2C%20%5B127.12251496040881%2C%2037.52751810228347%5D%2C%20%5B127.12532464331997%2C%2037.53572787912298%5D%2C%20%5B127.12061313033807%2C%2037.538129867839416%5D%2C%20%5B127.1116764203608%2C%2037.540669955324965%5D%2C%20%5B127.11418412219375%2C%2037.54474592090681%5D%2C%20%5B127.11600200349189%2C%2037.55053147511706%5D%2C%20%5B127.11600943681239%2C%2037.55580061507081%5D%2C%20%5B127.11519584981606%2C%2037.557533180704915%5D%5D%5D%2C%20%22type%22%3A%20%22Polygon%22%7D%2C%20%22properties%22%3A%20%7B%22base_year%22%3A%20%222013%22%2C%20%22code%22%3A%20%2211250%22%2C%20%22name%22%3A%20%22%5Cuac15%5Cub3d9%5Cuad6c%22%2C%20%22name_eng%22%3A%20%22Gangdong-gu%22%7D%2C%20%22type%22%3A%20%22Feature%22%7D%2C%20%7B%22geometry%22%3A%20%7B%22coordinates%22%3A%20%5B%5B%5B127.0690698130372%2C%2037.522279423505026%5D%2C%20%5B127.07496309841329%2C%2037.52091052765938%5D%2C%20%5B127.07968915919895%2C%2037.52077294752823%5D%2C%20%5B127.08639455667742%2C%2037.52161824624356%5D%2C%20%5B127.0943611414465%2C%2037.523984206117525%5D%2C%20%5B127.10087519791962%2C%2037.524841220167055%5D%2C%20%5B127.10484130265957%2C%2037.53120327509912%5D%2C%20%5B127.1116764203608%2C%2037.540669955324965%5D%2C%20%5B127.12061313033807%2C%2037.538129867839416%5D%2C%20%5B127.12532464331997%2C%2037.53572787912298%5D%2C%20%5B127.12251496040881%2C%2037.52751810228347%5D%2C%20%5B127.12123165719615%2C%2037.52528270089%5D%2C%20%5B127.14532023498624%2C%2037.51464060108829%5D%2C%20%5B127.14672806823502%2C%2037.51415680680291%5D%2C%20%5B127.14670263739373%2C%2037.512786602955565%5D%2C%20%5B127.14462782318448%2C%2037.511529542030715%5D%2C%20%5B127.14323992504048%2C%2037.50951977457089%5D%2C%20%5B127.1420864475393%2C%2037.50578973782813%5D%2C%20%5B127.14324986168657%2C%2037.502649431479774%5D%2C%20%5B127.1473517108062%2C%2037.50069754405746%5D%2C%20%5B127.14980119646964%2C%2037.50046502392898%5D%2C%20%5B127.15223804785649%2C%2037.50170492532197%5D%2C%20%5B127.15401160147654%2C%2037.500347919909956%5D%2C%20%5B127.16086308579277%2C%2037.49886565522751%5D%2C%20%5B127.1634944215765%2C%2037.497445406097484%5D%2C%20%5B127.16199885180917%2C%2037.49402577547199%5D%2C%20%5B127.16216448592424%2C%2037.491639601211624%5D%2C%20%5B127.16040295326431%2C%2037.4877818619403%5D%2C%20%5B127.15892216655034%2C%2037.486126922469445%5D%2C%20%5B127.15393282790794%2C%2037.48483891408459%5D%2C%20%5B127.15147990997852%2C%2037.47745324805034%5D%2C%20%5B127.1515017465549%2C%2037.475633269417585%5D%2C%20%5B127.14857580353349%2C%2037.47381386382568%5D%2C%20%5B127.14415938171436%2C%2037.473692508393505%5D%2C%20%5B127.14112111404233%2C%2037.470600239054825%5D%2C%20%5B127.13631568648837%2C%2037.47214721764681%5D%2C%20%5B127.13281577200672%2C%2037.47257463763244%5D%2C%20%5B127.13307493070646%2C%2037.468907694139894%5D%2C%20%5B127.13750907701846%2C%2037.46647058226059%5D%2C%20%5B127.13478085797742%2C%2037.46509524639883%5D%2C%20%5B127.1308437061496%2C%2037.46509985661207%5D%2C%20%5B127.12728991002369%2C%2037.46673043118672%5D%2C%20%5B127.12729757787379%2C%2037.46421548908766%5D%2C%20%5B127.12440571080893%2C%2037.46240445587048%5D%2C%20%5B127.12441393026374%2C%2037.46442715236855%5D%2C%20%5B127.12265007208167%2C%2037.46756987490939%5D%2C%20%5B127.11380709617507%2C%2037.479633334849325%5D%2C%20%5B127.1143875173445%2C%2037.48073157362458%5D%2C%20%5B127.11117085201238%2C%2037.485708381512445%5D%2C%20%5B127.1077937689776%2C%2037.48860875954992%5D%2C%20%5B127.10433125798602%2C%2037.490728250649646%5D%2C%20%5B127.0988509639092%2C%2037.49302529254068%5D%2C%20%5B127.08050206733888%2C%2037.49783151325589%5D%2C%20%5B127.0764808967127%2C%2037.498612695580306%5D%2C%20%5B127.0719146000724%2C%2037.50224013587669%5D%2C%20%5B127.06926628842805%2C%2037.51717796437217%5D%2C%20%5B127.06860425556381%2C%2037.51812758676938%5D%2C%20%5B127.0690698130372%2C%2037.522279423505026%5D%5D%5D%2C%20%22type%22%3A%20%22Polygon%22%7D%2C%20%22properties%22%3A%20%7B%22base_year%22%3A%20%222013%22%2C%20%22code%22%3A%20%2211240%22%2C%20%22name%22%3A%20%22%5Cuc1a1%5Cud30c%5Cuad6c%22%2C%20%22name_eng%22%3A%20%22Songpa-gu%22%7D%2C%20%22type%22%3A%20%22Feature%22%7D%2C%20%7B%22geometry%22%3A%20%7B%22coordinates%22%3A%20%5B%5B%5B127.05867359288398%2C%2037.52629974922568%5D%2C%20%5B127.0690698130372%2C%2037.522279423505026%5D%2C%20%5B127.06860425556381%2C%2037.51812758676938%5D%2C%20%5B127.06926628842805%2C%2037.51717796437217%5D%2C%20%5B127.0719146000724%2C%2037.50224013587669%5D%2C%20%5B127.0764808967127%2C%2037.498612695580306%5D%2C%20%5B127.08050206733888%2C%2037.49783151325589%5D%2C%20%5B127.0988509639092%2C%2037.49302529254068%5D%2C%20%5B127.10433125798602%2C%2037.490728250649646%5D%2C%20%5B127.1077937689776%2C%2037.48860875954992%5D%2C%20%5B127.11117085201238%2C%2037.485708381512445%5D%2C%20%5B127.1143875173445%2C%2037.48073157362458%5D%2C%20%5B127.11380709617507%2C%2037.479633334849325%5D%2C%20%5B127.12265007208167%2C%2037.46756987490939%5D%2C%20%5B127.12441393026374%2C%2037.46442715236855%5D%2C%20%5B127.12440571080893%2C%2037.46240445587048%5D%2C%20%5B127.11957248720776%2C%2037.45936217377656%5D%2C%20%5B127.11885903757606%2C%2037.45578434878651%5D%2C%20%5B127.11535741803938%2C%2037.45722556454321%5D%2C%20%5B127.11413179478714%2C%2037.45875072431525%5D%2C%20%5B127.10841788934951%2C%2037.45972888008147%5D%2C%20%5B127.10561257180657%2C%2037.456815702518746%5D%2C%20%5B127.10032466845217%2C%2037.45598440195682%5D%2C%20%5B127.09842759318751%2C%2037.45862253857461%5D%2C%20%5B127.09712653145507%2C%2037.460848194480654%5D%2C%20%5B127.09039613625872%2C%2037.465520545397716%5D%2C%20%5B127.0866005634691%2C%2037.47006403057779%5D%2C%20%5B127.08640440578156%2C%2037.472697935184655%5D%2C%20%5B127.0802737559454%2C%2037.471973057552624%5D%2C%20%5B127.07602132306535%2C%2037.47005021331707%5D%2C%20%5B127.07476117209941%2C%2037.47199174520626%5D%2C%20%5B127.07231320371885%2C%2037.47234914588019%5D%2C%20%5B127.07135137525977%2C%2037.47107802023145%5D%2C%20%5B127.06463901956462%2C%2037.47003474490574%5D%2C%20%5B127.06371868919344%2C%2037.4661503234869%5D%2C%20%5B127.0588551029968%2C%2037.465611780743174%5D%2C%20%5B127.0559170481904%2C%2037.4659228914077%5D%2C%20%5B127.04713549385288%2C%2037.474479419244865%5D%2C%20%5B127.04345123620755%2C%2037.48276415595109%5D%2C%20%5B127.03621915098798%2C%2037.48175802427603%5D%2C%20%5B127.03372275812187%2C%2037.48674434662411%5D%2C%20%5B127.02265609299096%2C%2037.509970106251416%5D%2C%20%5B127.02038705349842%2C%2037.51771683027875%5D%2C%20%5B127.01917707838057%2C%2037.520085205855196%5D%2C%20%5B127.01397119667513%2C%2037.52503988289669%5D%2C%20%5B127.02302831890559%2C%2037.53231899582663%5D%2C%20%5B127.0269608080842%2C%2037.53484752757724%5D%2C%20%5B127.0319617044248%2C%2037.536064291470424%5D%2C%20%5B127.04806779588436%2C%2037.52970198575087%5D%2C%20%5B127.04903802830752%2C%2037.53140496708317%5D%2C%20%5B127.05116490008963%2C%2037.52975116557232%5D%2C%20%5B127.05867359288398%2C%2037.52629974922568%5D%5D%5D%2C%20%22type%22%3A%20%22Polygon%22%7D%2C%20%22properties%22%3A%20%7B%22base_year%22%3A%20%222013%22%2C%20%22code%22%3A%20%2211230%22%2C%20%22name%22%3A%20%22%5Cuac15%5Cub0a8%5Cuad6c%22%2C%20%22name_eng%22%3A%20%22Gangnam-gu%22%7D%2C%20%22type%22%3A%20%22Feature%22%7D%2C%20%7B%22geometry%22%3A%20%7B%22coordinates%22%3A%20%5B%5B%5B127.01397119667513%2C%2037.52503988289669%5D%2C%20%5B127.01917707838057%2C%2037.520085205855196%5D%2C%20%5B127.02038705349842%2C%2037.51771683027875%5D%2C%20%5B127.02265609299096%2C%2037.509970106251416%5D%2C%20%5B127.03372275812187%2C%2037.48674434662411%5D%2C%20%5B127.03621915098798%2C%2037.48175802427603%5D%2C%20%5B127.04345123620755%2C%2037.48276415595109%5D%2C%20%5B127.04713549385288%2C%2037.474479419244865%5D%2C%20%5B127.0559170481904%2C%2037.4659228914077%5D%2C%20%5B127.0588551029968%2C%2037.465611780743174%5D%2C%20%5B127.06371868919344%2C%2037.4661503234869%5D%2C%20%5B127.06463901956462%2C%2037.47003474490574%5D%2C%20%5B127.07135137525977%2C%2037.47107802023145%5D%2C%20%5B127.07231320371885%2C%2037.47234914588019%5D%2C%20%5B127.07476117209941%2C%2037.47199174520626%5D%2C%20%5B127.07602132306535%2C%2037.47005021331707%5D%2C%20%5B127.0802737559454%2C%2037.471973057552624%5D%2C%20%5B127.08640440578156%2C%2037.472697935184655%5D%2C%20%5B127.0866005634691%2C%2037.47006403057779%5D%2C%20%5B127.09039613625872%2C%2037.465520545397716%5D%2C%20%5B127.09712653145507%2C%2037.460848194480654%5D%2C%20%5B127.09842759318751%2C%2037.45862253857461%5D%2C%20%5B127.09673714758375%2C%2037.45597209899094%5D%2C%20%5B127.09722129576434%2C%2037.45374822681991%5D%2C%20%5B127.09575982122928%2C%2037.45332980525459%5D%2C%20%5B127.09472136159357%2C%2037.450897902539175%5D%2C%20%5B127.09293250684935%2C%2037.450020696864506%5D%2C%20%5B127.09047890749349%2C%2037.44637473407341%5D%2C%20%5B127.09046928565951%2C%2037.44296826114185%5D%2C%20%5B127.0862358725955%2C%2037.44118543250345%5D%2C%20%5B127.08441983692467%2C%2037.4383879031398%5D%2C%20%5B127.07686576585408%2C%2037.43960712011444%5D%2C%20%5B127.07375875606847%2C%2037.43898415920535%5D%2C%20%5B127.07407631675713%2C%2037.43719357187124%5D%2C%20%5B127.07666569012467%2C%2037.43600054505559%5D%2C%20%5B127.07603719210388%2C%2037.43429107517633%5D%2C%20%5B127.07361291761038%2C%2037.43318474533595%5D%2C%20%5B127.07271473569163%2C%2037.42939553659177%5D%2C%20%5B127.0733788318578%2C%2037.42814484786288%5D%2C%20%5B127.06885354151605%2C%2037.42731815367302%5D%2C%20%5B127.06778107605433%2C%2037.426197424057314%5D%2C%20%5B127.06317558623768%2C%2037.4272916178182%5D%2C%20%5B127.05998777565219%2C%2037.4273224867045%5D%2C%20%5B127.05424556064274%2C%2037.42574929824175%5D%2C%20%5B127.05197080928994%2C%2037.42749842502397%5D%2C%20%5B127.04960937636815%2C%2037.42801020057224%5D%2C%20%5B127.04849622718511%2C%2037.430672016902065%5D%2C%20%5B127.04191594772718%2C%2037.43568906449929%5D%2C%20%5B127.0379686253535%2C%2037.43634417139204%5D%2C%20%5B127.03751805596916%2C%2037.438362795245276%5D%2C%20%5B127.04031700689708%2C%2037.44191429311459%5D%2C%20%5B127.03959875976469%2C%2037.443582700519194%5D%2C%20%5B127.0398984887873%2C%2037.44656106007936%5D%2C%20%5B127.03825522385397%2C%2037.448766467898395%5D%2C%20%5B127.03916301678915%2C%2037.45180237055558%5D%2C%20%5B127.03881782597922%2C%2037.45382039851715%5D%2C%20%5B127.03695436044305%2C%2037.45537592726508%5D%2C%20%5B127.03573307034355%2C%2037.4586703897792%5D%2C%20%5B127.03683946894893%2C%2037.46103886642786%5D%2C%20%5B127.03337331972266%2C%2037.462966775127626%5D%2C%20%5B127.02820831539744%2C%2037.455700834295826%5D%2C%20%5B127.02263694708293%2C%2037.45335816711404%5D%2C%20%5B127.01827371395349%2C%2037.4525593623189%5D%2C%20%5B127.01316256500736%2C%2037.45257906566242%5D%2C%20%5B127.01110931353561%2C%2037.45456166745922%5D%2C%20%5B127.00836380369604%2C%2037.45936868039916%5D%2C%20%5B127.00738548779366%2C%2037.459815333664274%5D%2C%20%5B127.00552362663117%2C%2037.46445102893571%5D%2C%20%5B127.00008523087483%2C%2037.46455774995882%5D%2C%20%5B126.99837609897334%2C%2037.46390918086617%5D%2C%20%5B126.99932142462428%2C%2037.46113351815481%5D%2C%20%5B126.99893310307874%2C%2037.459376062410314%5D%2C%20%5B126.9953054179472%2C%2037.45860121328987%5D%2C%20%5B126.99072073195462%2C%2037.455326143310025%5D%2C%20%5B126.98956736277059%2C%2037.457600756400446%5D%2C%20%5B126.99026416700147%2C%2037.46271603227842%5D%2C%20%5B126.98896316546526%2C%2037.465041871263544%5D%2C%20%5B126.98662755598336%2C%2037.466937278295305%5D%2C%20%5B126.9846374349825%2C%2037.46996301876212%5D%2C%20%5B126.98367668291802%2C%2037.473856492692086%5D%2C%20%5B126.98500224966135%2C%2037.49356837311327%5D%2C%20%5B126.9871787157338%2C%2037.49719505997539%5D%2C%20%5B126.9832495184969%2C%2037.49948552591205%5D%2C%20%5B126.98241580381733%2C%2037.50120029501884%5D%2C%20%5B126.98223807916081%2C%2037.509314966770326%5D%2C%20%5B126.98458580602838%2C%2037.51070333105394%5D%2C%20%5B126.98948242685965%2C%2037.5108780134613%5D%2C%20%5B126.99148001917875%2C%2037.50990503427709%5D%2C%20%5B127.00011962020382%2C%2037.513901653034374%5D%2C%20%5B127.00583392114271%2C%2037.516905128452926%5D%2C%20%5B127.00818058911564%2C%2037.51877313923874%5D%2C%20%5B127.01022186960886%2C%2037.522020085671926%5D%2C%20%5B127.01397119667513%2C%2037.52503988289669%5D%5D%5D%2C%20%22type%22%3A%20%22Polygon%22%7D%2C%20%22properties%22%3A%20%7B%22base_year%22%3A%20%222013%22%2C%20%22code%22%3A%20%2211220%22%2C%20%22name%22%3A%20%22%5Cuc11c%5Cucd08%5Cuad6c%22%2C%20%22name_eng%22%3A%20%22Seocho-gu%22%7D%2C%20%22type%22%3A%20%22Feature%22%7D%2C%20%7B%22geometry%22%3A%20%7B%22coordinates%22%3A%20%5B%5B%5B126.98367668291802%2C%2037.473856492692086%5D%2C%20%5B126.9846374349825%2C%2037.46996301876212%5D%2C%20%5B126.98662755598336%2C%2037.466937278295305%5D%2C%20%5B126.98896316546526%2C%2037.465041871263544%5D%2C%20%5B126.99026416700147%2C%2037.46271603227842%5D%2C%20%5B126.98956736277059%2C%2037.457600756400446%5D%2C%20%5B126.99072073195462%2C%2037.455326143310025%5D%2C%20%5B126.98484249930785%2C%2037.45391909788938%5D%2C%20%5B126.9829408096241%2C%2037.450206782833206%5D%2C%20%5B126.97835022660695%2C%2037.447659155806164%5D%2C%20%5B126.97608193440507%2C%2037.44478918862847%5D%2C%20%5B126.9731300196836%2C%2037.444722870088114%5D%2C%20%5B126.96650852936277%2C%2037.44276983031553%5D%2C%20%5B126.96618702895445%2C%2037.439376482995094%5D%2C%20%5B126.96520439085143%2C%2037.438249784006246%5D%2C%20%5B126.9614877541633%2C%2037.437956805629675%5D%2C%20%5B126.96054904645496%2C%2037.43673997185797%5D%2C%20%5B126.95527369898224%2C%2037.43673711968809%5D%2C%20%5B126.9473688393239%2C%2037.4347689647565%5D%2C%20%5B126.94440352544498%2C%2037.43476162120059%5D%2C%20%5B126.9415292183489%2C%2037.43315139671158%5D%2C%20%5B126.94037501670272%2C%2037.43462213966344%5D%2C%20%5B126.9405640311191%2C%2037.437501011208845%5D%2C%20%5B126.9376981355065%2C%2037.44041709605302%5D%2C%20%5B126.93312955918624%2C%2037.44290014710262%5D%2C%20%5B126.93309127096236%2C%2037.44533734785938%5D%2C%20%5B126.93084408056525%2C%2037.447382928333994%5D%2C%20%5B126.92527839995981%2C%2037.45161884570837%5D%2C%20%5B126.9245243450059%2C%2037.45392293573877%5D%2C%20%5B126.91887928082078%2C%2037.45495082787016%5D%2C%20%5B126.9167728146601%2C%2037.45490566423789%5D%2C%20%5B126.91641538472182%2C%2037.45870245071989%5D%2C%20%5B126.91495285904284%2C%2037.461166184511065%5D%2C%20%5B126.91584245173756%2C%2037.462474576247985%5D%2C%20%5B126.91374656127704%2C%2037.46375990852858%5D%2C%20%5B126.91032166997253%2C%2037.469818629944285%5D%2C%20%5B126.91280966667205%2C%2037.47083063715413%5D%2C%20%5B126.91405961426707%2C%2037.47416764846582%5D%2C%20%5B126.9115784808617%2C%2037.4753960485947%5D%2C%20%5B126.91181700249076%2C%2037.47814319736339%5D%2C%20%5B126.90276666415615%2C%2037.47652007992712%5D%2C%20%5B126.90156094129895%2C%2037.47753842789901%5D%2C%20%5B126.90531975801812%2C%2037.48218087575429%5D%2C%20%5B126.90805655355825%2C%2037.48218338568103%5D%2C%20%5B126.91533979779165%2C%2037.484392208242134%5D%2C%20%5B126.91916807529428%2C%2037.48660606817164%5D%2C%20%5B126.92639563063156%2C%2037.48715979752876%5D%2C%20%5B126.92869559665061%2C%2037.49132126714011%5D%2C%20%5B126.92981699800066%2C%2037.49218420958284%5D%2C%20%5B126.93346386636452%2C%2037.49043826776755%5D%2C%20%5B126.93669800083833%2C%2037.49026778789087%5D%2C%20%5B126.93844070234584%2C%2037.4893532861132%5D%2C%20%5B126.94373156012337%2C%2037.48938843727846%5D%2C%20%5B126.94922661389508%2C%2037.49125437495649%5D%2C%20%5B126.95396955055433%2C%2037.48955250290043%5D%2C%20%5B126.9559655046206%2C%2037.48820165625994%5D%2C%20%5B126.95881175306481%2C%2037.48874989165474%5D%2C%20%5B126.96329694970828%2C%2037.4905835370787%5D%2C%20%5B126.96291787066104%2C%2037.48803272157808%5D%2C%20%5B126.96443983219191%2C%2037.48442261322104%5D%2C%20%5B126.9634428120456%2C%2037.48067931902171%5D%2C%20%5B126.9725891850662%2C%2037.472561363278125%5D%2C%20%5B126.97901795539295%2C%2037.47376525108475%5D%2C%20%5B126.98367668291802%2C%2037.473856492692086%5D%5D%5D%2C%20%22type%22%3A%20%22Polygon%22%7D%2C%20%22properties%22%3A%20%7B%22base_year%22%3A%20%222013%22%2C%20%22code%22%3A%20%2211210%22%2C%20%22name%22%3A%20%22%5Cuad00%5Cuc545%5Cuad6c%22%2C%20%22name_eng%22%3A%20%22Gwanak-gu%22%7D%2C%20%22type%22%3A%20%22Feature%22%7D%2C%20%7B%22geometry%22%3A%20%7B%22coordinates%22%3A%20%5B%5B%5B126.98223807916081%2C%2037.509314966770326%5D%2C%20%5B126.98241580381733%2C%2037.50120029501884%5D%2C%20%5B126.9832495184969%2C%2037.49948552591205%5D%2C%20%5B126.9871787157338%2C%2037.49719505997539%5D%2C%20%5B126.98500224966135%2C%2037.49356837311327%5D%2C%20%5B126.98367668291802%2C%2037.473856492692086%5D%2C%20%5B126.97901795539295%2C%2037.47376525108475%5D%2C%20%5B126.9725891850662%2C%2037.472561363278125%5D%2C%20%5B126.9634428120456%2C%2037.48067931902171%5D%2C%20%5B126.96443983219191%2C%2037.48442261322104%5D%2C%20%5B126.96291787066104%2C%2037.48803272157808%5D%2C%20%5B126.96329694970828%2C%2037.4905835370787%5D%2C%20%5B126.95881175306481%2C%2037.48874989165474%5D%2C%20%5B126.9559655046206%2C%2037.48820165625994%5D%2C%20%5B126.95396955055433%2C%2037.48955250290043%5D%2C%20%5B126.94922661389508%2C%2037.49125437495649%5D%2C%20%5B126.94373156012337%2C%2037.48938843727846%5D%2C%20%5B126.93844070234584%2C%2037.4893532861132%5D%2C%20%5B126.93669800083833%2C%2037.49026778789087%5D%2C%20%5B126.93346386636452%2C%2037.49043826776755%5D%2C%20%5B126.92981699800066%2C%2037.49218420958284%5D%2C%20%5B126.92869559665061%2C%2037.49132126714011%5D%2C%20%5B126.92639563063156%2C%2037.48715979752876%5D%2C%20%5B126.91916807529428%2C%2037.48660606817164%5D%2C%20%5B126.91533979779165%2C%2037.484392208242134%5D%2C%20%5B126.90805655355825%2C%2037.48218338568103%5D%2C%20%5B126.90531975801812%2C%2037.48218087575429%5D%2C%20%5B126.91461888105147%2C%2037.493581242537296%5D%2C%20%5B126.92177893174825%2C%2037.494889877415176%5D%2C%20%5B126.9232469824303%2C%2037.49928149943772%5D%2C%20%5B126.92749463764046%2C%2037.50985955934051%5D%2C%20%5B126.92919938332032%2C%2037.51019685838638%5D%2C%20%5B126.92810628828279%2C%2037.51329595732015%5D%2C%20%5B126.93453120783802%2C%2037.5128512712934%5D%2C%20%5B126.94407346439685%2C%2037.51463101265907%5D%2C%20%5B126.95249990298159%2C%2037.51722500741813%5D%2C%20%5B126.95551848909955%2C%2037.514736123015844%5D%2C%20%5B126.95950268374823%2C%2037.51249532165974%5D%2C%20%5B126.96670111119346%2C%2037.50997579058433%5D%2C%20%5B126.98223807916081%2C%2037.509314966770326%5D%5D%5D%2C%20%22type%22%3A%20%22Polygon%22%7D%2C%20%22properties%22%3A%20%7B%22base_year%22%3A%20%222013%22%2C%20%22code%22%3A%20%2211200%22%2C%20%22name%22%3A%20%22%5Cub3d9%5Cuc791%5Cuad6c%22%2C%20%22name_eng%22%3A%20%22Dongjak-gu%22%7D%2C%20%22type%22%3A%20%22Feature%22%7D%2C%20%7B%22geometry%22%3A%20%7B%22coordinates%22%3A%20%5B%5B%5B126.89184663862764%2C%2037.547373974997114%5D%2C%20%5B126.90281125423546%2C%2037.54133630026083%5D%2C%20%5B126.90829204147958%2C%2037.539206065016785%5D%2C%20%5B126.93132557924062%2C%2037.53415416375281%5D%2C%20%5B126.93680342222562%2C%2037.53344577095931%5D%2C%20%5B126.94566733083212%2C%2037.526617542453366%5D%2C%20%5B126.9488066464266%2C%2037.52424913252661%5D%2C%20%5B126.95003825019774%2C%2037.520781022055274%5D%2C%20%5B126.95249990298159%2C%2037.51722500741813%5D%2C%20%5B126.94407346439685%2C%2037.51463101265907%5D%2C%20%5B126.93453120783802%2C%2037.5128512712934%5D%2C%20%5B126.92810628828279%2C%2037.51329595732015%5D%2C%20%5B126.92919938332032%2C%2037.51019685838638%5D%2C%20%5B126.92749463764046%2C%2037.50985955934051%5D%2C%20%5B126.9232469824303%2C%2037.49928149943772%5D%2C%20%5B126.92177893174825%2C%2037.494889877415176%5D%2C%20%5B126.91461888105147%2C%2037.493581242537296%5D%2C%20%5B126.90531975801812%2C%2037.48218087575429%5D%2C%20%5B126.90260188508027%2C%2037.48282626920736%5D%2C%20%5B126.89861362258316%2C%2037.48625405368759%5D%2C%20%5B126.89581061458084%2C%2037.49391346191318%5D%2C%20%5B126.89549571721683%2C%2037.50033127915717%5D%2C%20%5B126.89594776782485%2C%2037.504675281309176%5D%2C%20%5B126.89253696873205%2C%2037.50875582175844%5D%2C%20%5B126.88156402353862%2C%2037.513970034765684%5D%2C%20%5B126.88191372979959%2C%2037.51939416754389%5D%2C%20%5B126.88260109180834%2C%2037.52242565920786%5D%2C%20%5B126.88382776477316%2C%2037.52352483439659%5D%2C%20%5B126.88904768965743%2C%2037.525856504359034%5D%2C%20%5B126.89057378109133%2C%2037.52792091672938%5D%2C%20%5B126.89213569003026%2C%2037.52757969298779%5D%2C%20%5B126.89361739665432%2C%2037.53033899535983%5D%2C%20%5B126.89339176028666%2C%2037.533030814524004%5D%2C%20%5B126.88938421776182%2C%2037.54060159145325%5D%2C%20%5B126.88825757860099%2C%2037.54079733630232%5D%2C%20%5B126.88736718003831%2C%2037.54350482420959%5D%2C%20%5B126.89184663862764%2C%2037.547373974997114%5D%5D%5D%2C%20%22type%22%3A%20%22Polygon%22%7D%2C%20%22properties%22%3A%20%7B%22base_year%22%3A%20%222013%22%2C%20%22code%22%3A%20%2211190%22%2C%20%22name%22%3A%20%22%5Cuc601%5Cub4f1%5Cud3ec%5Cuad6c%22%2C%20%22name_eng%22%3A%20%22Yeongdeungpo-gu%22%7D%2C%20%22type%22%3A%20%22Feature%22%7D%2C%20%7B%22geometry%22%3A%20%7B%22coordinates%22%3A%20%5B%5B%5B126.90156094129895%2C%2037.47753842789901%5D%2C%20%5B126.90276666415615%2C%2037.47652007992712%5D%2C%20%5B126.91181700249076%2C%2037.47814319736339%5D%2C%20%5B126.9115784808617%2C%2037.4753960485947%5D%2C%20%5B126.91405961426707%2C%2037.47416764846582%5D%2C%20%5B126.91280966667205%2C%2037.47083063715413%5D%2C%20%5B126.91032166997253%2C%2037.469818629944285%5D%2C%20%5B126.91374656127704%2C%2037.46375990852858%5D%2C%20%5B126.91584245173756%2C%2037.462474576247985%5D%2C%20%5B126.91495285904284%2C%2037.461166184511065%5D%2C%20%5B126.91641538472182%2C%2037.45870245071989%5D%2C%20%5B126.9167728146601%2C%2037.45490566423789%5D%2C%20%5B126.91887928082078%2C%2037.45495082787016%5D%2C%20%5B126.9245243450059%2C%2037.45392293573877%5D%2C%20%5B126.92527839995981%2C%2037.45161884570837%5D%2C%20%5B126.93084408056525%2C%2037.447382928333994%5D%2C%20%5B126.9255681646224%2C%2037.44377627841776%5D%2C%20%5B126.92318732232543%2C%2037.44131494528283%5D%2C%20%5B126.92199241717724%2C%2037.43848070111403%5D%2C%20%5B126.92004664118903%2C%2037.43708741729147%5D%2C%20%5B126.91641802826501%2C%2037.43722730676683%5D%2C%20%5B126.91344497343947%2C%2037.43474365720405%5D%2C%20%5B126.91082677485002%2C%2037.43100963341445%5D%2C%20%5B126.90487628022693%2C%2037.43129996372531%5D%2C%20%5B126.90480610062333%2C%2037.433123813599884%5D%2C%20%5B126.90147608259903%2C%2037.4353323892334%5D%2C%20%5B126.90081465102077%2C%2037.436498759868456%5D%2C%20%5B126.90105333433885%2C%2037.44031094924801%5D%2C%20%5B126.90031753853916%2C%2037.441844173154756%5D%2C%20%5B126.89768314223053%2C%2037.442906858137974%5D%2C%20%5B126.89812451590424%2C%2037.44551117837958%5D%2C%20%5B126.89616541233094%2C%2037.44983024861048%5D%2C%20%5B126.8947204038491%2C%2037.4491097366517%5D%2C%20%5B126.89157226377172%2C%2037.449944282396714%5D%2C%20%5B126.89113632562855%2C%2037.45236898205529%5D%2C%20%5B126.88831381741582%2C%2037.45357939777933%5D%2C%20%5B126.88826482749008%2C%2037.45663270152334%5D%2C%20%5B126.89074130059865%2C%2037.45966561796733%5D%2C%20%5B126.88198617469523%2C%2037.469975509557976%5D%2C%20%5B126.87874781843654%2C%2037.47475533620029%5D%2C%20%5B126.87553760781829%2C%2037.48186220368496%5D%2C%20%5B126.87683271502428%2C%2037.482576591607305%5D%2C%20%5B126.88079109105627%2C%2037.48378287831426%5D%2C%20%5B126.8827497570056%2C%2037.48316340563878%5D%2C%20%5B126.88803217321346%2C%2037.47975290808737%5D%2C%20%5B126.89116882970154%2C%2037.47681803032367%5D%2C%20%5B126.89689977603885%2C%2037.47570593888643%5D%2C%20%5B126.90104536043339%2C%2037.47614746588584%5D%2C%20%5B126.90156094129895%2C%2037.47753842789901%5D%5D%5D%2C%20%22type%22%3A%20%22Polygon%22%7D%2C%20%22properties%22%3A%20%7B%22base_year%22%3A%20%222013%22%2C%20%22code%22%3A%20%2211180%22%2C%20%22name%22%3A%20%22%5Cuae08%5Cucc9c%5Cuad6c%22%2C%20%22name_eng%22%3A%20%22Geumcheon-gu%22%7D%2C%20%22type%22%3A%20%22Feature%22%7D%2C%20%7B%22geometry%22%3A%20%7B%22coordinates%22%3A%20%5B%5B%5B126.82688081517314%2C%2037.50548972232896%5D%2C%20%5B126.8312211095328%2C%2037.50541191299514%5D%2C%20%5B126.8341914436862%2C%2037.50238060850881%5D%2C%20%5B126.8385046623421%2C%2037.49965438083505%5D%2C%20%5B126.84270526111828%2C%2037.501190052842375%5D%2C%20%5B126.8421330711049%2C%2037.50273297478404%5D%2C%20%5B126.84689618668257%2C%2037.50287086505149%5D%2C%20%5B126.84730715497963%2C%2037.50522159123912%5D%2C%20%5B126.85079659934003%2C%2037.50601938589165%5D%2C%20%5B126.8521985385098%2C%2037.507310601432195%5D%2C%20%5B126.8549910115563%2C%2037.507774255244875%5D%2C%20%5B126.85767018319959%2C%2037.50643578404816%5D%2C%20%5B126.8602448049945%2C%2037.50714262450898%5D%2C%20%5B126.86219488732715%2C%2037.50388438562706%5D%2C%20%5B126.86454914535695%2C%2037.50388350542007%5D%2C%20%5B126.86525729660478%2C%2037.502448483868896%5D%2C%20%5B126.86795186545288%2C%2037.502755995885714%5D%2C%20%5B126.87109220473953%2C%2037.50203922322315%5D%2C%20%5B126.87432642792102%2C%2037.50260287829134%5D%2C%20%5B126.87556919864359%2C%2037.505720626918%5D%2C%20%5B126.88054908630636%2C%2037.51148026214697%5D%2C%20%5B126.88156402353862%2C%2037.513970034765684%5D%2C%20%5B126.89253696873205%2C%2037.50875582175844%5D%2C%20%5B126.89594776782485%2C%2037.504675281309176%5D%2C%20%5B126.89549571721683%2C%2037.50033127915717%5D%2C%20%5B126.89581061458084%2C%2037.49391346191318%5D%2C%20%5B126.89861362258316%2C%2037.48625405368759%5D%2C%20%5B126.90260188508027%2C%2037.48282626920736%5D%2C%20%5B126.90531975801812%2C%2037.48218087575429%5D%2C%20%5B126.90156094129895%2C%2037.47753842789901%5D%2C%20%5B126.90104536043339%2C%2037.47614746588584%5D%2C%20%5B126.89689977603885%2C%2037.47570593888643%5D%2C%20%5B126.89116882970154%2C%2037.47681803032367%5D%2C%20%5B126.88803217321346%2C%2037.47975290808737%5D%2C%20%5B126.8827497570056%2C%2037.48316340563878%5D%2C%20%5B126.88079109105627%2C%2037.48378287831426%5D%2C%20%5B126.87683271502428%2C%2037.482576591607305%5D%2C%20%5B126.87926901338844%2C%2037.4851363312754%5D%2C%20%5B126.87807822721697%2C%2037.486247661404484%5D%2C%20%5B126.87500855887376%2C%2037.485529408954044%5D%2C%20%5B126.87499999632084%2C%2037.48723558386031%5D%2C%20%5B126.86985088086946%2C%2037.490972856926746%5D%2C%20%5B126.86690708512153%2C%2037.48850048185492%5D%2C%20%5B126.86334463261252%2C%2037.48702105213313%5D%2C%20%5B126.85979281993241%2C%2037.48309390333688%5D%2C%20%5B126.8571926758503%2C%2037.482400254369296%5D%2C%20%5B126.85582775745682%2C%2037.48008159809108%5D%2C%20%5B126.85397991619827%2C%2037.47882533996402%5D%2C%20%5B126.84914329670241%2C%2037.4792573077648%5D%2C%20%5B126.84804505350411%2C%2037.478160467930344%5D%2C%20%5B126.84762676054953%2C%2037.47146723936323%5D%2C%20%5B126.84154264465728%2C%2037.4728980419%5D%2C%20%5B126.83754691879544%2C%2037.472514053936045%5D%2C%20%5B126.83388005989259%2C%2037.4747683882548%5D%2C%20%5B126.83136668931549%2C%2037.47344154955525%5D%2C%20%5B126.82660025197819%2C%2037.47364544953152%5D%2C%20%5B126.82419365698964%2C%2037.472951080902234%5D%2C%20%5B126.82179895415682%2C%2037.47518076838956%5D%2C%20%5B126.82206789884786%2C%2037.47889514031285%5D%2C%20%5B126.82139445214092%2C%2037.48136482338644%5D%2C%20%5B126.82208805042494%2C%2037.48299688518288%5D%2C%20%5B126.82558489219227%2C%2037.48497306755705%5D%2C%20%5B126.82482114643597%2C%2037.48717399070965%5D%2C%20%5B126.81993148808915%2C%2037.48877864988337%5D%2C%20%5B126.81649745505314%2C%2037.490455810141476%5D%2C%20%5B126.81480709048222%2C%2037.493362284349615%5D%2C%20%5B126.81518179823208%2C%2037.495233793642186%5D%2C%20%5B126.81771493003457%2C%2037.494748098657496%5D%2C%20%5B126.8208295567048%2C%2037.49594689979241%5D%2C%20%5B126.82204657426578%2C%2037.49851634597747%5D%2C%20%5B126.82367963750009%2C%2037.49925830108059%5D%2C%20%5B126.82504736331406%2C%2037.50302612640443%5D%2C%20%5B126.82469248121312%2C%2037.50496239513798%5D%2C%20%5B126.82688081517314%2C%2037.50548972232896%5D%5D%5D%2C%20%22type%22%3A%20%22Polygon%22%7D%2C%20%22properties%22%3A%20%7B%22base_year%22%3A%20%222013%22%2C%20%22code%22%3A%20%2211170%22%2C%20%22name%22%3A%20%22%5Cuad6c%5Cub85c%5Cuad6c%22%2C%20%22name_eng%22%3A%20%22Guro-gu%22%7D%2C%20%22type%22%3A%20%22Feature%22%7D%2C%20%7B%22geometry%22%3A%20%7B%22coordinates%22%3A%20%5B%5B%5B126.85984199399667%2C%2037.571847855292745%5D%2C%20%5B126.85950389772532%2C%2037.5682771531189%5D%2C%20%5B126.8604929702619%2C%2037.566825621733905%5D%2C%20%5B126.86837407967381%2C%2037.56309561411933%5D%2C%20%5B126.87997924964915%2C%2037.55510740490174%5D%2C%20%5B126.89184663862764%2C%2037.547373974997114%5D%2C%20%5B126.88736718003831%2C%2037.54350482420959%5D%2C%20%5B126.88825757860099%2C%2037.54079733630232%5D%2C%20%5B126.8872486543506%2C%2037.54079100234749%5D%2C%20%5B126.88280520161935%2C%2037.545072121233225%5D%2C%20%5B126.8761093656006%2C%2037.54412882794802%5D%2C%20%5B126.8727924099192%2C%2037.544853699294116%5D%2C%20%5B126.86637464321238%2C%2037.54859191094823%5D%2C%20%5B126.86426635332332%2C%2037.54172958759955%5D%2C%20%5B126.86582129720519%2C%2037.53817151116851%5D%2C%20%5B126.8655037497872%2C%2037.53382926555605%5D%2C%20%5B126.86610073476395%2C%2037.52699964144669%5D%2C%20%5B126.85098397861944%2C%2037.525098716169985%5D%2C%20%5B126.84257291943153%2C%2037.52373707805596%5D%2C%20%5B126.836555914069%2C%2037.53367208325903%5D%2C%20%5B126.83716591765655%2C%2037.534935320492906%5D%2C%20%5B126.83522688458329%2C%2037.539042988809484%5D%2C%20%5B126.8325348945036%2C%2037.538953250433295%5D%2C%20%5B126.83191667070415%2C%2037.54146500511403%5D%2C%20%5B126.83017074557299%2C%2037.542611079015344%5D%2C%20%5B126.82889818288362%2C%2037.53909381305992%5D%2C%20%5B126.8242331426722%2C%2037.53788078753248%5D%2C%20%5B126.81674221631081%2C%2037.5378396500627%5D%2C%20%5B126.81246052552456%2C%2037.538810793377344%5D%2C%20%5B126.81143604908785%2C%2037.54033621168525%5D%2C%20%5B126.80542840499083%2C%2037.54008921830378%5D%2C%20%5B126.80185404828612%2C%2037.537645443377826%5D%2C%20%5B126.80090914554204%2C%2037.53503009075454%5D%2C%20%5B126.79688612254975%2C%2037.53302974862096%5D%2C%20%5B126.79582133969424%2C%2037.536641561833754%5D%2C%20%5B126.79693641290046%2C%2037.53865858611534%5D%2C%20%5B126.79388711477147%2C%2037.53902211451394%5D%2C%20%5B126.7938616681597%2C%2037.54104361952839%5D%2C%20%5B126.79075533377627%2C%2037.54165251407983%5D%2C%20%5B126.78880225462409%2C%2037.54353706379955%5D%2C%20%5B126.78198339188025%2C%2037.543449601019624%5D%2C%20%5B126.77756215424237%2C%2037.54611355396897%5D%2C%20%5B126.77324417717703%2C%2037.5459123450554%5D%2C%20%5B126.76977011413412%2C%2037.55052082471595%5D%2C%20%5B126.76700465024426%2C%2037.552821566629916%5D%2C%20%5B126.77074629769308%2C%2037.55296836994276%5D%2C%20%5B126.77145103135192%2C%2037.55434307460708%5D%2C%20%5B126.77879087345151%2C%2037.55919525318415%5D%2C%20%5B126.77889121370164%2C%2037.5613614424496%5D%2C%20%5B126.77671213061004%2C%2037.5645429268672%5D%2C%20%5B126.77986476402239%2C%2037.564245932540665%5D%2C%20%5B126.78252024622797%2C%2037.565367145342954%5D%2C%20%5B126.78471963959866%2C%2037.56745669198498%5D%2C%20%5B126.78398460461828%2C%2037.56905814599349%5D%2C%20%5B126.78496836516075%2C%2037.57090748246567%5D%2C%20%5B126.79172648531066%2C%2037.57472630536462%5D%2C%20%5B126.79539987549317%2C%2037.57451148875729%5D%2C%20%5B126.79523455851671%2C%2037.57760277954844%5D%2C%20%5B126.7958606942207%2C%2037.58019957877273%5D%2C%20%5B126.79799133400897%2C%2037.58036436587069%5D%2C%20%5B126.80091228188235%2C%2037.5854309825683%5D%2C%20%5B126.80289369340177%2C%2037.58621464221784%5D%2C%20%5B126.80131704756816%2C%2037.58839794302751%5D%2C%20%5B126.80149834313248%2C%2037.59012749570681%5D%2C%20%5B126.7996634054858%2C%2037.59296530943065%5D%2C%20%5B126.79910601240701%2C%2037.59569886491464%5D%2C%20%5B126.80046544382346%2C%2037.59827267924192%5D%2C%20%5B126.80198459129242%2C%2037.598541940075755%5D%2C%20%5B126.80268446118524%2C%2037.601312560472834%5D%2C%20%5B126.80393696882469%2C%2037.601857300987895%5D%2C%20%5B126.80759006979085%2C%2037.60089755124775%5D%2C%20%5B126.81814502537962%2C%2037.591566052513244%5D%2C%20%5B126.82251438477105%2C%2037.5880430810082%5D%2C%20%5B126.82891304761237%2C%2037.5855611764797%5D%2C%20%5B126.85302823436479%2C%2037.57282468882299%5D%2C%20%5B126.85984199399667%2C%2037.571847855292745%5D%5D%5D%2C%20%22type%22%3A%20%22Polygon%22%7D%2C%20%22properties%22%3A%20%7B%22base_year%22%3A%20%222013%22%2C%20%22code%22%3A%20%2211160%22%2C%20%22name%22%3A%20%22%5Cuac15%5Cuc11c%5Cuad6c%22%2C%20%22name_eng%22%3A%20%22Gangseo-gu%22%7D%2C%20%22type%22%3A%20%22Feature%22%7D%2C%20%7B%22geometry%22%3A%20%7B%22coordinates%22%3A%20%5B%5B%5B126.8242331426722%2C%2037.53788078753248%5D%2C%20%5B126.82889818288362%2C%2037.53909381305992%5D%2C%20%5B126.83017074557299%2C%2037.542611079015344%5D%2C%20%5B126.83191667070415%2C%2037.54146500511403%5D%2C%20%5B126.8325348945036%2C%2037.538953250433295%5D%2C%20%5B126.83522688458329%2C%2037.539042988809484%5D%2C%20%5B126.83716591765655%2C%2037.534935320492906%5D%2C%20%5B126.836555914069%2C%2037.53367208325903%5D%2C%20%5B126.84257291943153%2C%2037.52373707805596%5D%2C%20%5B126.85098397861944%2C%2037.525098716169985%5D%2C%20%5B126.86610073476395%2C%2037.52699964144669%5D%2C%20%5B126.8655037497872%2C%2037.53382926555605%5D%2C%20%5B126.86582129720519%2C%2037.53817151116851%5D%2C%20%5B126.86426635332332%2C%2037.54172958759955%5D%2C%20%5B126.86637464321238%2C%2037.54859191094823%5D%2C%20%5B126.8727924099192%2C%2037.544853699294116%5D%2C%20%5B126.8761093656006%2C%2037.54412882794802%5D%2C%20%5B126.88280520161935%2C%2037.545072121233225%5D%2C%20%5B126.8872486543506%2C%2037.54079100234749%5D%2C%20%5B126.88825757860099%2C%2037.54079733630232%5D%2C%20%5B126.88938421776182%2C%2037.54060159145325%5D%2C%20%5B126.89339176028666%2C%2037.533030814524004%5D%2C%20%5B126.89361739665432%2C%2037.53033899535983%5D%2C%20%5B126.89213569003026%2C%2037.52757969298779%5D%2C%20%5B126.89057378109133%2C%2037.52792091672938%5D%2C%20%5B126.88904768965743%2C%2037.525856504359034%5D%2C%20%5B126.88382776477316%2C%2037.52352483439659%5D%2C%20%5B126.88260109180834%2C%2037.52242565920786%5D%2C%20%5B126.88191372979959%2C%2037.51939416754389%5D%2C%20%5B126.88156402353862%2C%2037.513970034765684%5D%2C%20%5B126.88054908630636%2C%2037.51148026214697%5D%2C%20%5B126.87556919864359%2C%2037.505720626918%5D%2C%20%5B126.87432642792102%2C%2037.50260287829134%5D%2C%20%5B126.87109220473953%2C%2037.50203922322315%5D%2C%20%5B126.86795186545288%2C%2037.502755995885714%5D%2C%20%5B126.86525729660478%2C%2037.502448483868896%5D%2C%20%5B126.86454914535695%2C%2037.50388350542007%5D%2C%20%5B126.86219488732715%2C%2037.50388438562706%5D%2C%20%5B126.8602448049945%2C%2037.50714262450898%5D%2C%20%5B126.85767018319959%2C%2037.50643578404816%5D%2C%20%5B126.8549910115563%2C%2037.507774255244875%5D%2C%20%5B126.8521985385098%2C%2037.507310601432195%5D%2C%20%5B126.85079659934003%2C%2037.50601938589165%5D%2C%20%5B126.84730715497963%2C%2037.50522159123912%5D%2C%20%5B126.84689618668257%2C%2037.50287086505149%5D%2C%20%5B126.8421330711049%2C%2037.50273297478404%5D%2C%20%5B126.84270526111828%2C%2037.501190052842375%5D%2C%20%5B126.8385046623421%2C%2037.49965438083505%5D%2C%20%5B126.8341914436862%2C%2037.50238060850881%5D%2C%20%5B126.8312211095328%2C%2037.50541191299514%5D%2C%20%5B126.82688081517314%2C%2037.50548972232896%5D%2C%20%5B126.82609821744505%2C%2037.507816771867255%5D%2C%20%5B126.82665326173496%2C%2037.510416148524136%5D%2C%20%5B126.82529622550616%2C%2037.513385210403136%5D%2C%20%5B126.82763384465879%2C%2037.516923263281946%5D%2C%20%5B126.8273575421771%2C%2037.52002629298419%5D%2C%20%5B126.83054711509516%2C%2037.52390261457357%5D%2C%20%5B126.82938708105253%2C%2037.5268052663749%5D%2C%20%5B126.8276955169658%2C%2037.52706155314193%5D%2C%20%5B126.82389942108053%2C%2037.53199443525418%5D%2C%20%5B126.8242331426722%2C%2037.53788078753248%5D%5D%5D%2C%20%22type%22%3A%20%22Polygon%22%7D%2C%20%22properties%22%3A%20%7B%22base_year%22%3A%20%222013%22%2C%20%22code%22%3A%20%2211150%22%2C%20%22name%22%3A%20%22%5Cuc591%5Cucc9c%5Cuad6c%22%2C%20%22name_eng%22%3A%20%22Yangcheon-gu%22%7D%2C%20%22type%22%3A%20%22Feature%22%7D%2C%20%7B%22geometry%22%3A%20%7B%22coordinates%22%3A%20%5B%5B%5B126.90522065831053%2C%2037.57409700522574%5D%2C%20%5B126.90370105002282%2C%2037.57266722738834%5D%2C%20%5B126.90687243065778%2C%2037.57059762097416%5D%2C%20%5B126.92189004506%2C%2037.56391798973296%5D%2C%20%5B126.92778174854314%2C%2037.562495624023775%5D%2C%20%5B126.93034243306369%2C%2037.56054720372433%5D%2C%20%5B126.92881397392811%2C%2037.558202848902%5D%2C%20%5B126.92872097190046%2C%2037.556034533941734%5D%2C%20%5B126.93898161798973%2C%2037.552310003728124%5D%2C%20%5B126.94314477022111%2C%2037.5536460848349%5D%2C%20%5B126.95916768398142%2C%2037.55468176051932%5D%2C%20%5B126.96080686210321%2C%2037.55386236039188%5D%2C%20%5B126.96358226710812%2C%2037.55605635475154%5D%2C%20%5B126.96519694864509%2C%2037.55362533505407%5D%2C%20%5B126.96380145704283%2C%2037.55254525759954%5D%2C%20%5B126.96448570553055%2C%2037.548705692021635%5D%2C%20%5B126.96604189284825%2C%2037.546894141748815%5D%2C%20%5B126.96401856825223%2C%2037.54584596959762%5D%2C%20%5B126.96231305253527%2C%2037.543511558047456%5D%2C%20%5B126.9605977865388%2C%2037.542661954880806%5D%2C%20%5B126.95926437828754%2C%2037.53897908363236%5D%2C%20%5B126.95340780191557%2C%2037.533494726370755%5D%2C%20%5B126.94717864071288%2C%2037.53213495568077%5D%2C%20%5B126.94566733083212%2C%2037.526617542453366%5D%2C%20%5B126.93680342222562%2C%2037.53344577095931%5D%2C%20%5B126.93132557924062%2C%2037.53415416375281%5D%2C%20%5B126.90829204147958%2C%2037.539206065016785%5D%2C%20%5B126.90281125423546%2C%2037.54133630026083%5D%2C%20%5B126.89184663862764%2C%2037.547373974997114%5D%2C%20%5B126.87997924964915%2C%2037.55510740490174%5D%2C%20%5B126.86837407967381%2C%2037.56309561411933%5D%2C%20%5B126.8604929702619%2C%2037.566825621733905%5D%2C%20%5B126.85950389772532%2C%2037.5682771531189%5D%2C%20%5B126.85984199399667%2C%2037.571847855292745%5D%2C%20%5B126.85993476176495%2C%2037.5728262143511%5D%2C%20%5B126.8638132887273%2C%2037.57306147014704%5D%2C%20%5B126.86560520354786%2C%2037.57385540098251%5D%2C%20%5B126.86766286078968%2C%2037.57269227137124%5D%2C%20%5B126.87008117117851%2C%2037.574598289168996%5D%2C%20%5B126.87282267062741%2C%2037.574956427500126%5D%2C%20%5B126.8779661566318%2C%2037.57680133323819%5D%2C%20%5B126.87918874599603%2C%2037.5796889248137%5D%2C%20%5B126.87876320682938%2C%2037.581327335058546%5D%2C%20%5B126.88107183862735%2C%2037.583788024645344%5D%2C%20%5B126.88237824849728%2C%2037.586847436468204%5D%2C%20%5B126.88433284773288%2C%2037.588143322880526%5D%2C%20%5B126.89150044994719%2C%2037.58202374305761%5D%2C%20%5B126.89532313269488%2C%2037.579420322822145%5D%2C%20%5B126.89738573904876%2C%2037.578668647687564%5D%2C%20%5B126.90023584510952%2C%2037.575506080437606%5D%2C%20%5B126.90373193212757%2C%2037.573123712282076%5D%2C%20%5B126.90522065831053%2C%2037.57409700522574%5D%5D%5D%2C%20%22type%22%3A%20%22Polygon%22%7D%2C%20%22properties%22%3A%20%7B%22base_year%22%3A%20%222013%22%2C%20%22code%22%3A%20%2211140%22%2C%20%22name%22%3A%20%22%5Cub9c8%5Cud3ec%5Cuad6c%22%2C%20%22name_eng%22%3A%20%22Mapo-gu%22%7D%2C%20%22type%22%3A%20%22Feature%22%7D%2C%20%7B%22geometry%22%3A%20%7B%22coordinates%22%3A%20%5B%5B%5B126.9524752030572%2C%2037.60508692737045%5D%2C%20%5B126.95480868778256%2C%2037.60381765067903%5D%2C%20%5B126.95564117002459%2C%2037.601827148276776%5D%2C%20%5B126.95484771718951%2C%2037.59761368186209%5D%2C%20%5B126.95619178283661%2C%2037.59575826218021%5D%2C%20%5B126.95924434840931%2C%2037.59545024466215%5D%2C%20%5B126.95842779914786%2C%2037.592356673207824%5D%2C%20%5B126.960424902266%2C%2037.58868913291801%5D%2C%20%5B126.96048802632431%2C%2037.587202077053746%5D%2C%20%5B126.95879970726017%2C%2037.58189826471162%5D%2C%20%5B126.96177754536156%2C%2037.57970124256911%5D%2C%20%5B126.95789326971087%2C%2037.57793453336025%5D%2C%20%5B126.95565425846463%2C%2037.576080790881456%5D%2C%20%5B126.96873633279075%2C%2037.56313604690827%5D%2C%20%5B126.97169209525231%2C%2037.55921654641677%5D%2C%20%5B126.96900073076728%2C%2037.55850929094393%5D%2C%20%5B126.96570855677983%2C%2037.556512377492325%5D%2C%20%5B126.96358226710812%2C%2037.55605635475154%5D%2C%20%5B126.96080686210321%2C%2037.55386236039188%5D%2C%20%5B126.95916768398142%2C%2037.55468176051932%5D%2C%20%5B126.94314477022111%2C%2037.5536460848349%5D%2C%20%5B126.93898161798973%2C%2037.552310003728124%5D%2C%20%5B126.92872097190046%2C%2037.556034533941734%5D%2C%20%5B126.92881397392811%2C%2037.558202848902%5D%2C%20%5B126.93034243306369%2C%2037.56054720372433%5D%2C%20%5B126.92778174854314%2C%2037.562495624023775%5D%2C%20%5B126.92189004506%2C%2037.56391798973296%5D%2C%20%5B126.90687243065778%2C%2037.57059762097416%5D%2C%20%5B126.90370105002282%2C%2037.57266722738834%5D%2C%20%5B126.90522065831053%2C%2037.57409700522574%5D%2C%20%5B126.91464724464083%2C%2037.583228529985455%5D%2C%20%5B126.91827498278953%2C%2037.58276881451649%5D%2C%20%5B126.91792000144513%2C%2037.58034997804668%5D%2C%20%5B126.92444169370404%2C%2037.581233899739914%5D%2C%20%5B126.92596484570709%2C%2037.58441659356971%5D%2C%20%5B126.9281697003186%2C%2037.584376616028365%5D%2C%20%5B126.9302171100533%2C%2037.58559126746845%5D%2C%20%5B126.92996402426377%2C%2037.58767009299767%5D%2C%20%5B126.93104958440722%2C%2037.58996937993664%5D%2C%20%5B126.93575441237547%2C%2037.593605788596975%5D%2C%20%5B126.94277481511082%2C%2037.59587806191211%5D%2C%20%5B126.94359054641505%2C%2037.60034871312552%5D%2C%20%5B126.94451473597087%2C%2037.60203195380752%5D%2C%20%5B126.94701525068315%2C%2037.602028095480975%5D%2C%20%5B126.94919787550161%2C%2037.60506379949065%5D%2C%20%5B126.9524752030572%2C%2037.60508692737045%5D%5D%5D%2C%20%22type%22%3A%20%22Polygon%22%7D%2C%20%22properties%22%3A%20%7B%22base_year%22%3A%20%222013%22%2C%20%22code%22%3A%20%2211130%22%2C%20%22name%22%3A%20%22%5Cuc11c%5Cub300%5Cubb38%5Cuad6c%22%2C%20%22name_eng%22%3A%20%22Seodaemun-gu%22%7D%2C%20%22type%22%3A%20%22Feature%22%7D%2C%20%7B%22geometry%22%3A%20%7B%22coordinates%22%3A%20%5B%5B%5B126.9738864128702%2C%2037.62949634786888%5D%2C%20%5B126.97135221665513%2C%2037.62743418897386%5D%2C%20%5B126.96164158910712%2C%2037.62569322976388%5D%2C%20%5B126.95885198650147%2C%2037.6225761621008%5D%2C%20%5B126.95427017006129%2C%2037.622033431339425%5D%2C%20%5B126.95393421039743%2C%2037.61877981567335%5D%2C%20%5B126.9528332649861%2C%2037.6161065117682%5D%2C%20%5B126.95145384404022%2C%2037.61493028446385%5D%2C%20%5B126.95249458941419%2C%2037.61333750249896%5D%2C%20%5B126.95308190738618%2C%2037.60926681659027%5D%2C%20%5B126.95187994741721%2C%2037.60600915874973%5D%2C%20%5B126.9524752030572%2C%2037.60508692737045%5D%2C%20%5B126.94919787550161%2C%2037.60506379949065%5D%2C%20%5B126.94701525068315%2C%2037.602028095480975%5D%2C%20%5B126.94451473597087%2C%2037.60203195380752%5D%2C%20%5B126.94359054641505%2C%2037.60034871312552%5D%2C%20%5B126.94277481511082%2C%2037.59587806191211%5D%2C%20%5B126.93575441237547%2C%2037.593605788596975%5D%2C%20%5B126.93104958440722%2C%2037.58996937993664%5D%2C%20%5B126.92996402426377%2C%2037.58767009299767%5D%2C%20%5B126.9302171100533%2C%2037.58559126746845%5D%2C%20%5B126.9281697003186%2C%2037.584376616028365%5D%2C%20%5B126.92596484570709%2C%2037.58441659356971%5D%2C%20%5B126.92444169370404%2C%2037.581233899739914%5D%2C%20%5B126.91792000144513%2C%2037.58034997804668%5D%2C%20%5B126.91827498278953%2C%2037.58276881451649%5D%2C%20%5B126.91464724464083%2C%2037.583228529985455%5D%2C%20%5B126.90522065831053%2C%2037.57409700522574%5D%2C%20%5B126.90373193212757%2C%2037.573123712282076%5D%2C%20%5B126.90023584510952%2C%2037.575506080437606%5D%2C%20%5B126.89738573904876%2C%2037.578668647687564%5D%2C%20%5B126.89532313269488%2C%2037.579420322822145%5D%2C%20%5B126.89150044994719%2C%2037.58202374305761%5D%2C%20%5B126.88433284773288%2C%2037.588143322880526%5D%2C%20%5B126.88715278104091%2C%2037.59100341655796%5D%2C%20%5B126.88936046370014%2C%2037.59099007316069%5D%2C%20%5B126.88753401663872%2C%2037.58829545592628%5D%2C%20%5B126.88935419108029%2C%2037.58580092310326%5D%2C%20%5B126.89349057571656%2C%2037.585662344444785%5D%2C%20%5B126.89532781702978%2C%2037.58637054299599%5D%2C%20%5B126.89905466698256%2C%2037.58582731337662%5D%2C%20%5B126.9019347597747%2C%2037.58707359614439%5D%2C%20%5B126.9010825805882%2C%2037.58986595756633%5D%2C%20%5B126.90396681003595%2C%2037.59227403419942%5D%2C%20%5B126.90321089756087%2C%2037.594542731935476%5D%2C%20%5B126.90358350094938%2C%2037.59657528019595%5D%2C%20%5B126.90235425214276%2C%2037.60036302950128%5D%2C%20%5B126.90417801431465%2C%2037.60102912046836%5D%2C%20%5B126.90396561274416%2C%2037.60721180273151%5D%2C%20%5B126.90303066177668%2C%2037.609977911401344%5D%2C%20%5B126.90548675623195%2C%2037.61601216482774%5D%2C%20%5B126.90721633741286%2C%2037.6164590533837%5D%2C%20%5B126.90935539569412%2C%2037.61912234588074%5D%2C%20%5B126.90852982623917%2C%2037.62123670148755%5D%2C%20%5B126.91081768678396%2C%2037.62338674837964%5D%2C%20%5B126.91117179533428%2C%2037.62562846875194%5D%2C%20%5B126.90862530043799%2C%2037.62973539928895%5D%2C%20%5B126.91295124779275%2C%2037.633086577991136%5D%2C%20%5B126.91232131977827%2C%2037.635879167956396%5D%2C%20%5B126.91380622398978%2C%2037.63822817856539%5D%2C%20%5B126.91455481429648%2C%2037.64150050996935%5D%2C%20%5B126.9097405206299%2C%2037.643548736416925%5D%2C%20%5B126.9104285840059%2C%2037.64469477594629%5D%2C%20%5B126.91598194662826%2C%2037.64192000919822%5D%2C%20%5B126.92335892549015%2C%2037.642768849393626%5D%2C%20%5B126.92751618877016%2C%2037.644656244616336%5D%2C%20%5B126.93099150738166%2C%2037.64717805899008%5D%2C%20%5B126.93658892420821%2C%2037.64777520545395%5D%2C%20%5B126.93914008753828%2C%2037.64914400014214%5D%2C%20%5B126.94248904852749%2C%2037.65384179343651%5D%2C%20%5B126.94571884127255%2C%2037.655369042036206%5D%2C%20%5B126.94940373004215%2C%2037.656145979585894%5D%2C%20%5B126.94982400027399%2C%2037.65461320918016%5D%2C%20%5B126.95334970767568%2C%2037.65216408903825%5D%2C%20%5B126.956473797387%2C%2037.652480737339445%5D%2C%20%5B126.9588647426878%2C%2037.6498628918019%5D%2C%20%5B126.95972824076269%2C%2037.64638504253487%5D%2C%20%5B126.96223689995006%2C%2037.64553441285544%5D%2C%20%5B126.96424221141602%2C%2037.64071627640099%5D%2C%20%5B126.96652025322855%2C%2037.640285044901944%5D%2C%20%5B126.97092373342322%2C%2037.63589354812246%5D%2C%20%5B126.97086605626453%2C%2037.633738820281394%5D%2C%20%5B126.9738864128702%2C%2037.62949634786888%5D%5D%5D%2C%20%22type%22%3A%20%22Polygon%22%7D%2C%20%22properties%22%3A%20%7B%22base_year%22%3A%20%222013%22%2C%20%22code%22%3A%20%2211120%22%2C%20%22name%22%3A%20%22%5Cuc740%5Cud3c9%5Cuad6c%22%2C%20%22name_eng%22%3A%20%22Eunpyeong-gu%22%7D%2C%20%22type%22%3A%20%22Feature%22%7D%2C%20%7B%22geometry%22%3A%20%7B%22coordinates%22%3A%20%5B%5B%5B127.10782277688129%2C%2037.61804244241069%5D%2C%20%5B127.10361952102048%2C%2037.61701182935077%5D%2C%20%5B127.10191523948123%2C%2037.61531698025357%5D%2C%20%5B127.09825969127313%2C%2037.61431077622918%5D%2C%20%5B127.09125855705382%2C%2037.61703046232404%5D%2C%20%5B127.08796048322492%2C%2037.617471883010936%5D%2C%20%5B127.08325130652017%2C%2037.61626773063051%5D%2C%20%5B127.07351243825278%2C%2037.61283660342313%5D%2C%20%5B127.07011594002495%2C%2037.6127769191002%5D%2C%20%5B127.06726783142085%2C%2037.61136014256744%5D%2C%20%5B127.06412260483201%2C%2037.6115839902766%5D%2C%20%5B127.05631594723272%2C%2037.61738373018764%5D%2C%20%5B127.05209373568619%2C%2037.62164065487782%5D%2C%20%5B127.04999984182327%2C%2037.62412061598568%5D%2C%20%5B127.04358800895609%2C%2037.62848931298715%5D%2C%20%5B127.046042857549%2C%2037.630647660209426%5D%2C%20%5B127.0471214260595%2C%2037.63407841321815%5D%2C%20%5B127.05227148282157%2C%2037.642016305290156%5D%2C%20%5B127.05704472959141%2C%2037.63797342537787%5D%2C%20%5B127.05800075220091%2C%2037.64318263878276%5D%2C%20%5B127.05640030258566%2C%2037.648142414223344%5D%2C%20%5B127.05620364700786%2C%2037.65295201497795%5D%2C%20%5B127.05366382763933%2C%2037.65780685245659%5D%2C%20%5B127.05343284205686%2C%2037.660866393548005%5D%2C%20%5B127.05093085431419%2C%2037.666308257661356%5D%2C%20%5B127.05124324520023%2C%2037.6703356616521%5D%2C%20%5B127.05259811896667%2C%2037.67463041579101%5D%2C%20%5B127.05402878877452%2C%2037.682018621183914%5D%2C%20%5B127.05288479710485%2C%2037.68423857084347%5D%2C%20%5B127.05673771202906%2C%2037.68650223136443%5D%2C%20%5B127.05893512852644%2C%2037.68678532745334%5D%2C%20%5B127.06366923747898%2C%2037.68598834805241%5D%2C%20%5B127.06722106517597%2C%2037.68706409219909%5D%2C%20%5B127.07150256171397%2C%2037.69158365999211%5D%2C%20%5B127.07502582169255%2C%2037.691675325399515%5D%2C%20%5B127.07945174893383%2C%2037.693602239076704%5D%2C%20%5B127.0838752703195%2C%2037.69359534202034%5D%2C%20%5B127.08640047239444%2C%2037.69122798275615%5D%2C%20%5B127.08834747450551%2C%2037.68753106067129%5D%2C%20%5B127.09706391309695%2C%2037.686383719372294%5D%2C%20%5B127.09839746601683%2C%2037.682954904948026%5D%2C%20%5B127.09481040538887%2C%2037.678799295731295%5D%2C%20%5B127.0939394572467%2C%2037.676403111386776%5D%2C%20%5B127.09572273018789%2C%2037.673837879820674%5D%2C%20%5B127.09657954289648%2C%2037.670746511824845%5D%2C%20%5B127.09767362583241%2C%2037.67002252402865%5D%2C%20%5B127.0980220884148%2C%2037.66742967749355%5D%2C%20%5B127.09621282296045%2C%2037.66347990019021%5D%2C%20%5B127.09845931549125%2C%2037.659077182069595%5D%2C%20%5B127.0978618070161%2C%2037.656734861475485%5D%2C%20%5B127.08845241642267%2C%2037.65271564775536%5D%2C%20%5B127.09496093471334%2C%2037.65209266377008%5D%2C%20%5B127.09618835483448%2C%2037.65001330395237%5D%2C%20%5B127.09440766298717%2C%2037.64713490473045%5D%2C%20%5B127.09686381732382%2C%2037.642772590812655%5D%2C%20%5B127.10024317327698%2C%2037.642337895238754%5D%2C%20%5B127.10266382494892%2C%2037.64291284604662%5D%2C%20%5B127.11014084969742%2C%2037.641850613893396%5D%2C%20%5B127.11406637789241%2C%2037.63742154695932%5D%2C%20%5B127.1144974746579%2C%2037.632439003890255%5D%2C%20%5B127.11309628774731%2C%2037.627803407908374%5D%2C%20%5B127.10737639048635%2C%2037.62412346388371%5D%2C%20%5B127.10736111050278%2C%2037.62243873312504%5D%2C%20%5B127.10561964188106%2C%2037.620112931875134%5D%2C%20%5B127.10782277688129%2C%2037.61804244241069%5D%5D%5D%2C%20%22type%22%3A%20%22Polygon%22%7D%2C%20%22properties%22%3A%20%7B%22base_year%22%3A%20%222013%22%2C%20%22code%22%3A%20%2211110%22%2C%20%22name%22%3A%20%22%5Cub178%5Cuc6d0%5Cuad6c%22%2C%20%22name_eng%22%3A%20%22Nowon-gu%22%7D%2C%20%22type%22%3A%20%22Feature%22%7D%2C%20%7B%22geometry%22%3A%20%7B%22coordinates%22%3A%20%5B%5B%5B127.05288479710485%2C%2037.68423857084347%5D%2C%20%5B127.05402878877452%2C%2037.682018621183914%5D%2C%20%5B127.05259811896667%2C%2037.67463041579101%5D%2C%20%5B127.05124324520023%2C%2037.6703356616521%5D%2C%20%5B127.05093085431419%2C%2037.666308257661356%5D%2C%20%5B127.05343284205686%2C%2037.660866393548005%5D%2C%20%5B127.05366382763933%2C%2037.65780685245659%5D%2C%20%5B127.05620364700786%2C%2037.65295201497795%5D%2C%20%5B127.05640030258566%2C%2037.648142414223344%5D%2C%20%5B127.05800075220091%2C%2037.64318263878276%5D%2C%20%5B127.05704472959141%2C%2037.63797342537787%5D%2C%20%5B127.05227148282157%2C%2037.642016305290156%5D%2C%20%5B127.0471214260595%2C%2037.63407841321815%5D%2C%20%5B127.046042857549%2C%2037.630647660209426%5D%2C%20%5B127.04358800895609%2C%2037.62848931298715%5D%2C%20%5B127.04058571489718%2C%2037.6311245692538%5D%2C%20%5B127.03905574421407%2C%2037.63395360172076%5D%2C%20%5B127.03660759925259%2C%2037.63506293914692%5D%2C%20%5B127.03477664182829%2C%2037.63884292238491%5D%2C%20%5B127.02950136469548%2C%2037.64228467033725%5D%2C%20%5B127.0265542519312%2C%2037.644688649276304%5D%2C%20%5B127.02233660280599%2C%2037.64628067142158%5D%2C%20%5B127.01772305897457%2C%2037.64631597694605%5D%2C%20%5B127.01534913067235%2C%2037.64765266597785%5D%2C%20%5B127.01465935892466%2C%2037.64943687496812%5D%2C%20%5B127.01599412132472%2C%2037.65623256113309%5D%2C%20%5B127.01726703299362%2C%2037.65880555518138%5D%2C%20%5B127.01776269066357%2C%2037.66391319760785%5D%2C%20%5B127.02062116141389%2C%2037.667173575971205%5D%2C%20%5B127.01873683359163%2C%2037.66988242479123%5D%2C%20%5B127.0159718440919%2C%2037.67258796420281%5D%2C%20%5B127.01401600772708%2C%2037.67653037200686%5D%2C%20%5B127.01073060671976%2C%2037.67694372299732%5D%2C%20%5B127.01039666042071%2C%2037.681894589603594%5D%2C%20%5B127.01103947380624%2C%2037.684405447624954%5D%2C%20%5B127.01017954927539%2C%2037.686333239654594%5D%2C%20%5B127.0109997247323%2C%2037.691942369792514%5D%2C%20%5B127.01405303313638%2C%2037.69546278140397%5D%2C%20%5B127.01645586375106%2C%2037.69548055092485%5D%2C%20%5B127.01802453368332%2C%2037.698275937456124%5D%2C%20%5B127.02143522814708%2C%2037.698589417759045%5D%2C%20%5B127.02419558273166%2C%2037.69682256792619%5D%2C%20%5B127.02700292435075%2C%2037.69665589205863%5D%2C%20%5B127.03018866626446%2C%2037.69776745888886%5D%2C%20%5B127.03132724235057%2C%2037.69621818994332%5D%2C%20%5B127.03183574218306%2C%2037.69340418484943%5D%2C%20%5B127.03328657751797%2C%2037.69010729962784%5D%2C%20%5B127.0345286215439%2C%2037.688986544260594%5D%2C%20%5B127.0379422140845%2C%2037.68943836856245%5D%2C%20%5B127.04383030416193%2C%2037.692565730249534%5D%2C%20%5B127.04510703173885%2C%2037.690951514278055%5D%2C%20%5B127.04772506731972%2C%2037.68962174626068%5D%2C%20%5B127.05108189294938%2C%2037.69116379209157%5D%2C%20%5B127.05288479710485%2C%2037.68423857084347%5D%5D%5D%2C%20%22type%22%3A%20%22Polygon%22%7D%2C%20%22properties%22%3A%20%7B%22base_year%22%3A%20%222013%22%2C%20%22code%22%3A%20%2211100%22%2C%20%22name%22%3A%20%22%5Cub3c4%5Cubd09%5Cuad6c%22%2C%20%22name_eng%22%3A%20%22Dobong-gu%22%7D%2C%20%22type%22%3A%20%22Feature%22%7D%2C%20%7B%22geometry%22%3A%20%7B%22coordinates%22%3A%20%5B%5B%5B127.01039666042071%2C%2037.681894589603594%5D%2C%20%5B127.01073060671976%2C%2037.67694372299732%5D%2C%20%5B127.01401600772708%2C%2037.67653037200686%5D%2C%20%5B127.0159718440919%2C%2037.67258796420281%5D%2C%20%5B127.01873683359163%2C%2037.66988242479123%5D%2C%20%5B127.02062116141389%2C%2037.667173575971205%5D%2C%20%5B127.01776269066357%2C%2037.66391319760785%5D%2C%20%5B127.01726703299362%2C%2037.65880555518138%5D%2C%20%5B127.01599412132472%2C%2037.65623256113309%5D%2C%20%5B127.01465935892466%2C%2037.64943687496812%5D%2C%20%5B127.01534913067235%2C%2037.64765266597785%5D%2C%20%5B127.01772305897457%2C%2037.64631597694605%5D%2C%20%5B127.02233660280599%2C%2037.64628067142158%5D%2C%20%5B127.0265542519312%2C%2037.644688649276304%5D%2C%20%5B127.02950136469548%2C%2037.64228467033725%5D%2C%20%5B127.03477664182829%2C%2037.63884292238491%5D%2C%20%5B127.03660759925259%2C%2037.63506293914692%5D%2C%20%5B127.03905574421407%2C%2037.63395360172076%5D%2C%20%5B127.04058571489718%2C%2037.6311245692538%5D%2C%20%5B127.04358800895609%2C%2037.62848931298715%5D%2C%20%5B127.04999984182327%2C%2037.62412061598568%5D%2C%20%5B127.05209373568619%2C%2037.62164065487782%5D%2C%20%5B127.04887981022048%2C%2037.61973841113549%5D%2C%20%5B127.0460676006384%2C%2037.615885647801704%5D%2C%20%5B127.0419720518426%2C%2037.612838591864076%5D%2C%20%5B127.03892400992301%2C%2037.609715611023816%5D%2C%20%5B127.03251659844592%2C%2037.60634705009134%5D%2C%20%5B127.03229982090541%2C%2037.609536104167034%5D%2C%20%5B127.02851994524015%2C%2037.60987827182396%5D%2C%20%5B127.02433990415497%2C%2037.60847763545628%5D%2C%20%5B127.02136282940177%2C%2037.610961475137174%5D%2C%20%5B127.01685658093551%2C%2037.61280115359516%5D%2C%20%5B127.0128154749523%2C%2037.613652243470256%5D%2C%20%5B127.01060611893628%2C%2037.615741236385354%5D%2C%20%5B127.00960949401902%2C%2037.61822603840364%5D%2C%20%5B127.00997935126598%2C%2037.62111906051553%5D%2C%20%5B127.00210238658002%2C%2037.622984514557714%5D%2C%20%5B126.99867431516041%2C%2037.626297613391166%5D%2C%20%5B126.99614706382866%2C%2037.62719717129899%5D%2C%20%5B126.99529660787617%2C%2037.62923863577322%5D%2C%20%5B126.9933714170822%2C%2037.62922019292486%5D%2C%20%5B126.9877052521691%2C%2037.63265610340949%5D%2C%20%5B126.98672705513869%2C%2037.63377641288196%5D%2C%20%5B126.98826481934299%2C%2037.637416984207924%5D%2C%20%5B126.98537069512379%2C%2037.64080296617396%5D%2C%20%5B126.987065858581%2C%2037.64320008084445%5D%2C%20%5B126.98580395043626%2C%2037.64699767714015%5D%2C%20%5B126.9832621473545%2C%2037.64947328029498%5D%2C%20%5B126.9817452676551%2C%2037.65209769387776%5D%2C%20%5B126.98205504313285%2C%2037.653797128044495%5D%2C%20%5B126.98709809733522%2C%2037.65651691642121%5D%2C%20%5B126.99031779354014%2C%2037.661013121145366%5D%2C%20%5B126.99494735642686%2C%2037.66223870806347%5D%2C%20%5B126.99581225370686%2C%2037.6651171428027%5D%2C%20%5B126.99622950422442%2C%2037.669428820661516%5D%2C%20%5B126.99506026831365%2C%2037.674827885285765%5D%2C%20%5B126.99384134064161%2C%2037.67665247641944%5D%2C%20%5B126.9959894573757%2C%2037.67754299691771%5D%2C%20%5B127.00000021675876%2C%2037.68100582640454%5D%2C%20%5B127.00566931208934%2C%2037.68228507374621%5D%2C%20%5B127.01039666042071%2C%2037.681894589603594%5D%5D%5D%2C%20%22type%22%3A%20%22Polygon%22%7D%2C%20%22properties%22%3A%20%7B%22base_year%22%3A%20%222013%22%2C%20%22code%22%3A%20%2211090%22%2C%20%22name%22%3A%20%22%5Cuac15%5Cubd81%5Cuad6c%22%2C%20%22name_eng%22%3A%20%22Gangbuk-gu%22%7D%2C%20%22type%22%3A%20%22Feature%22%7D%2C%20%7B%22geometry%22%3A%20%7B%22coordinates%22%3A%20%5B%5B%5B126.977175406416%2C%2037.62859715400388%5D%2C%20%5B126.9794090069433%2C%2037.63071544568365%5D%2C%20%5B126.98360012419735%2C%2037.631915771386076%5D%2C%20%5B126.98672705513869%2C%2037.63377641288196%5D%2C%20%5B126.9877052521691%2C%2037.63265610340949%5D%2C%20%5B126.9933714170822%2C%2037.62922019292486%5D%2C%20%5B126.99529660787617%2C%2037.62923863577322%5D%2C%20%5B126.99614706382866%2C%2037.62719717129899%5D%2C%20%5B126.99867431516041%2C%2037.626297613391166%5D%2C%20%5B127.00210238658002%2C%2037.622984514557714%5D%2C%20%5B127.00997935126598%2C%2037.62111906051553%5D%2C%20%5B127.00960949401902%2C%2037.61822603840364%5D%2C%20%5B127.01060611893628%2C%2037.615741236385354%5D%2C%20%5B127.0128154749523%2C%2037.613652243470256%5D%2C%20%5B127.01685658093551%2C%2037.61280115359516%5D%2C%20%5B127.02136282940177%2C%2037.610961475137174%5D%2C%20%5B127.02433990415497%2C%2037.60847763545628%5D%2C%20%5B127.02851994524015%2C%2037.60987827182396%5D%2C%20%5B127.03229982090541%2C%2037.609536104167034%5D%2C%20%5B127.03251659844592%2C%2037.60634705009134%5D%2C%20%5B127.03892400992301%2C%2037.609715611023816%5D%2C%20%5B127.0419720518426%2C%2037.612838591864076%5D%2C%20%5B127.0460676006384%2C%2037.615885647801704%5D%2C%20%5B127.04887981022048%2C%2037.61973841113549%5D%2C%20%5B127.05209373568619%2C%2037.62164065487782%5D%2C%20%5B127.05631594723272%2C%2037.61738373018764%5D%2C%20%5B127.06412260483201%2C%2037.6115839902766%5D%2C%20%5B127.06726783142085%2C%2037.61136014256744%5D%2C%20%5B127.07011594002495%2C%2037.6127769191002%5D%2C%20%5B127.07351243825278%2C%2037.61283660342313%5D%2C%20%5B127.07382707099227%2C%2037.60401928986419%5D%2C%20%5B127.07257736686556%2C%2037.60654335765868%5D%2C%20%5B127.07069716820665%2C%2037.60653037341939%5D%2C%20%5B127.07084342033339%2C%2037.60407877132597%5D%2C%20%5B127.06753185518703%2C%2037.602724214598744%5D%2C%20%5B127.06424828533608%2C%2037.60234356864383%5D%2C%20%5B127.0612685122857%2C%2037.59823077263369%5D%2C%20%5B127.059485363799%2C%2037.598743571420485%5D%2C%20%5B127.05413734593897%2C%2037.5971595374718%5D%2C%20%5B127.05238061017225%2C%2037.598312271275574%5D%2C%20%5B127.04975439355248%2C%2037.59349421284317%5D%2C%20%5B127.0461318196879%2C%2037.593514180513594%5D%2C%20%5B127.042705222094%2C%2037.59239437593391%5D%2C%20%5B127.04116895171082%2C%2037.58847599306138%5D%2C%20%5B127.0384945038446%2C%2037.587129138658426%5D%2C%20%5B127.03121630347839%2C%2037.57957997701485%5D%2C%20%5B127.02527254528003%2C%2037.57524616245249%5D%2C%20%5B127.02395698453867%2C%2037.576068086896726%5D%2C%20%5B127.02039107536422%2C%2037.575771872553595%5D%2C%20%5B127.01849412471284%2C%2037.57904760334465%5D%2C%20%5B127.01678966486051%2C%2037.57943162455397%5D%2C%20%5B127.01094467951529%2C%2037.57765758282494%5D%2C%20%5B127.00914513999258%2C%2037.57928387879304%5D%2C%20%5B127.00896672237498%2C%2037.582512606964876%5D%2C%20%5B127.00803641804285%2C%2037.5841154647404%5D%2C%20%5B127.00453322588274%2C%2037.58626325611708%5D%2C%20%5B127.00304474231643%2C%2037.58959898679736%5D%2C%20%5B126.99774058571116%2C%2037.58944568945197%5D%2C%20%5B126.99647930158565%2C%2037.58845217708608%5D%2C%20%5B126.99348293358314%2C%2037.588565457216156%5D%2C%20%5B126.98858114244759%2C%2037.58971272682123%5D%2C%20%5B126.98596926877026%2C%2037.59105697466976%5D%2C%20%5B126.98411250331745%2C%2037.59305007059415%5D%2C%20%5B126.98366752610544%2C%2037.596350797276386%5D%2C%20%5B126.98700989661556%2C%2037.59664611897289%5D%2C%20%5B126.98984276495587%2C%2037.59842301677683%5D%2C%20%5B126.9880021251863%2C%2037.60434406739665%5D%2C%20%5B126.98906118629816%2C%2037.60778324866486%5D%2C%20%5B126.98879865992384%2C%2037.6118927319756%5D%2C%20%5B126.9849070918475%2C%2037.61390303132951%5D%2C%20%5B126.98297129719916%2C%2037.61996223346171%5D%2C%20%5B126.98130955822086%2C%2037.621781567952816%5D%2C%20%5B126.98162508963613%2C%2037.626412913357804%5D%2C%20%5B126.97877284074367%2C%2037.62605559220399%5D%2C%20%5B126.977175406416%2C%2037.62859715400388%5D%5D%5D%2C%20%22type%22%3A%20%22Polygon%22%7D%2C%20%22properties%22%3A%20%7B%22base_year%22%3A%20%222013%22%2C%20%22code%22%3A%20%2211080%22%2C%20%22name%22%3A%20%22%5Cuc131%5Cubd81%5Cuad6c%22%2C%20%22name_eng%22%3A%20%22Seongbuk-gu%22%7D%2C%20%22type%22%3A%20%22Feature%22%7D%2C%20%7B%22geometry%22%3A%20%7B%22coordinates%22%3A%20%5B%5B%5B127.07351243825278%2C%2037.61283660342313%5D%2C%20%5B127.08325130652017%2C%2037.61626773063051%5D%2C%20%5B127.08796048322492%2C%2037.617471883010936%5D%2C%20%5B127.09125855705382%2C%2037.61703046232404%5D%2C%20%5B127.09825969127313%2C%2037.61431077622918%5D%2C%20%5B127.10191523948123%2C%2037.61531698025357%5D%2C%20%5B127.10361952102048%2C%2037.61701182935077%5D%2C%20%5B127.10782277688129%2C%2037.61804244241069%5D%2C%20%5B127.11345331993296%2C%2037.617863842655304%5D%2C%20%5B127.11916337651404%2C%2037.615000227833356%5D%2C%20%5B127.1187755615964%2C%2037.61339189160851%5D%2C%20%5B127.11970006573152%2C%2037.60891483985411%5D%2C%20%5B127.11876125411283%2C%2037.606109446640644%5D%2C%20%5B127.12043057261968%2C%2037.60482121408794%5D%2C%20%5B127.1201246020114%2C%2037.60178457598188%5D%2C%20%5B127.11594480655864%2C%2037.59717030173888%5D%2C%20%5B127.1161657841268%2C%2037.5962121213837%5D%2C%20%5B127.12048134936907%2C%2037.59221917979044%5D%2C%20%5B127.11993709114493%2C%2037.5912110652886%5D%2C%20%5B127.11547153661459%2C%2037.590528329194775%5D%2C%20%5B127.11264015185725%2C%2037.58640964166709%5D%2C%20%5B127.11144053497418%2C%2037.58186897928644%5D%2C%20%5B127.10355419751173%2C%2037.58101570870827%5D%2C%20%5B127.10488038804347%2C%2037.57896712496416%5D%2C%20%5B127.10478332632734%2C%2037.575507303239235%5D%2C%20%5B127.10316405057817%2C%2037.57293156986855%5D%2C%20%5B127.10304174249214%2C%2037.57076342290955%5D%2C%20%5B127.1015990771266%2C%2037.56973288819573%5D%2C%20%5B127.09327554832984%2C%2037.566762290300666%5D%2C%20%5B127.08553261581505%2C%2037.56856310839328%5D%2C%20%5B127.08068541280403%2C%2037.56906425519017%5D%2C%20%5B127.08029626481297%2C%2037.57521980955321%5D%2C%20%5B127.07912345005859%2C%2037.57855657914261%5D%2C%20%5B127.07327401376529%2C%2037.585954498442064%5D%2C%20%5B127.07152840437725%2C%2037.593413161750675%5D%2C%20%5B127.07216156147413%2C%2037.59537631888819%5D%2C%20%5B127.07457336676376%2C%2037.5983180561341%5D%2C%20%5B127.07481016030349%2C%2037.60000012932336%5D%2C%20%5B127.07382707099227%2C%2037.60401928986419%5D%2C%20%5B127.07351243825278%2C%2037.61283660342313%5D%5D%5D%2C%20%22type%22%3A%20%22Polygon%22%7D%2C%20%22properties%22%3A%20%7B%22base_year%22%3A%20%222013%22%2C%20%22code%22%3A%20%2211070%22%2C%20%22name%22%3A%20%22%5Cuc911%5Cub791%5Cuad6c%22%2C%20%22name_eng%22%3A%20%22Jungnang-gu%22%7D%2C%20%22type%22%3A%20%22Feature%22%7D%2C%20%7B%22geometry%22%3A%20%7B%22coordinates%22%3A%20%5B%5B%5B127.02527254528003%2C%2037.57524616245249%5D%2C%20%5B127.03121630347839%2C%2037.57957997701485%5D%2C%20%5B127.0384945038446%2C%2037.587129138658426%5D%2C%20%5B127.04116895171082%2C%2037.58847599306138%5D%2C%20%5B127.042705222094%2C%2037.59239437593391%5D%2C%20%5B127.0461318196879%2C%2037.593514180513594%5D%2C%20%5B127.04975439355248%2C%2037.59349421284317%5D%2C%20%5B127.05238061017225%2C%2037.598312271275574%5D%2C%20%5B127.05413734593897%2C%2037.5971595374718%5D%2C%20%5B127.059485363799%2C%2037.598743571420485%5D%2C%20%5B127.0612685122857%2C%2037.59823077263369%5D%2C%20%5B127.06424828533608%2C%2037.60234356864383%5D%2C%20%5B127.06753185518703%2C%2037.602724214598744%5D%2C%20%5B127.07084342033339%2C%2037.60407877132597%5D%2C%20%5B127.07069716820665%2C%2037.60653037341939%5D%2C%20%5B127.07257736686556%2C%2037.60654335765868%5D%2C%20%5B127.07382707099227%2C%2037.60401928986419%5D%2C%20%5B127.07481016030349%2C%2037.60000012932336%5D%2C%20%5B127.07457336676376%2C%2037.5983180561341%5D%2C%20%5B127.07216156147413%2C%2037.59537631888819%5D%2C%20%5B127.07152840437725%2C%2037.593413161750675%5D%2C%20%5B127.07327401376529%2C%2037.585954498442064%5D%2C%20%5B127.07912345005859%2C%2037.57855657914261%5D%2C%20%5B127.08029626481297%2C%2037.57521980955321%5D%2C%20%5B127.08068541280403%2C%2037.56906425519017%5D%2C%20%5B127.07421053024362%2C%2037.55724769712085%5D%2C%20%5B127.07287485628252%2C%2037.55777591771644%5D%2C%20%5B127.06151678590773%2C%2037.55942885203987%5D%2C%20%5B127.06031059899311%2C%2037.55992251180729%5D%2C%20%5B127.05005601081567%2C%2037.567577612590846%5D%2C%20%5B127.0442866611438%2C%2037.57022476304866%5D%2C%20%5B127.04003329296518%2C%2037.57010227772625%5D%2C%20%5B127.03483042272745%2C%2037.567549767306716%5D%2C%20%5B127.03182413083377%2C%2037.56712900013391%5D%2C%20%5B127.02547266349976%2C%2037.568943552237734%5D%2C%20%5B127.02527254528003%2C%2037.57524616245249%5D%5D%5D%2C%20%22type%22%3A%20%22Polygon%22%7D%2C%20%22properties%22%3A%20%7B%22base_year%22%3A%20%222013%22%2C%20%22code%22%3A%20%2211060%22%2C%20%22name%22%3A%20%22%5Cub3d9%5Cub300%5Cubb38%5Cuad6c%22%2C%20%22name_eng%22%3A%20%22Dongdaemun-gu%22%7D%2C%20%22type%22%3A%20%22Feature%22%7D%2C%20%7B%22geometry%22%3A%20%7B%22coordinates%22%3A%20%5B%5B%5B127.08068541280403%2C%2037.56906425519017%5D%2C%20%5B127.08553261581505%2C%2037.56856310839328%5D%2C%20%5B127.09327554832984%2C%2037.566762290300666%5D%2C%20%5B127.1015990771266%2C%2037.56973288819573%5D%2C%20%5B127.10304174249214%2C%2037.57076342290955%5D%2C%20%5B127.10627148043552%2C%2037.568124945986824%5D%2C%20%5B127.10545359063936%2C%2037.56685230388649%5D%2C%20%5B127.10407152037101%2C%2037.55958871940823%5D%2C%20%5B127.10325742736646%2C%2037.5572251707506%5D%2C%20%5B127.11270952006532%2C%2037.55702358575743%5D%2C%20%5B127.11519584981606%2C%2037.557533180704915%5D%2C%20%5B127.11600943681239%2C%2037.55580061507081%5D%2C%20%5B127.11600200349189%2C%2037.55053147511706%5D%2C%20%5B127.11418412219375%2C%2037.54474592090681%5D%2C%20%5B127.1116764203608%2C%2037.540669955324965%5D%2C%20%5B127.10484130265957%2C%2037.53120327509912%5D%2C%20%5B127.10087519791962%2C%2037.524841220167055%5D%2C%20%5B127.0943611414465%2C%2037.523984206117525%5D%2C%20%5B127.08639455667742%2C%2037.52161824624356%5D%2C%20%5B127.07968915919895%2C%2037.52077294752823%5D%2C%20%5B127.07496309841329%2C%2037.52091052765938%5D%2C%20%5B127.0690698130372%2C%2037.522279423505026%5D%2C%20%5B127.05867359288398%2C%2037.52629974922568%5D%2C%20%5B127.06896218881212%2C%2037.544361436565524%5D%2C%20%5B127.07580697427795%2C%2037.556641581290656%5D%2C%20%5B127.07421053024362%2C%2037.55724769712085%5D%2C%20%5B127.08068541280403%2C%2037.56906425519017%5D%5D%5D%2C%20%22type%22%3A%20%22Polygon%22%7D%2C%20%22properties%22%3A%20%7B%22base_year%22%3A%20%222013%22%2C%20%22code%22%3A%20%2211050%22%2C%20%22name%22%3A%20%22%5Cuad11%5Cuc9c4%5Cuad6c%22%2C%20%22name_eng%22%3A%20%22Gwangjin-gu%22%7D%2C%20%22type%22%3A%20%22Feature%22%7D%2C%20%7B%22geometry%22%3A%20%7B%22coordinates%22%3A%20%5B%5B%5B127.02547266349976%2C%2037.568943552237734%5D%2C%20%5B127.03182413083377%2C%2037.56712900013391%5D%2C%20%5B127.03483042272745%2C%2037.567549767306716%5D%2C%20%5B127.04003329296518%2C%2037.57010227772625%5D%2C%20%5B127.0442866611438%2C%2037.57022476304866%5D%2C%20%5B127.05005601081567%2C%2037.567577612590846%5D%2C%20%5B127.06031059899311%2C%2037.55992251180729%5D%2C%20%5B127.06151678590773%2C%2037.55942885203987%5D%2C%20%5B127.07287485628252%2C%2037.55777591771644%5D%2C%20%5B127.07421053024362%2C%2037.55724769712085%5D%2C%20%5B127.07580697427795%2C%2037.556641581290656%5D%2C%20%5B127.06896218881212%2C%2037.544361436565524%5D%2C%20%5B127.05867359288398%2C%2037.52629974922568%5D%2C%20%5B127.05116490008963%2C%2037.52975116557232%5D%2C%20%5B127.04903802830752%2C%2037.53140496708317%5D%2C%20%5B127.04806779588436%2C%2037.52970198575087%5D%2C%20%5B127.0319617044248%2C%2037.536064291470424%5D%2C%20%5B127.0269608080842%2C%2037.53484752757724%5D%2C%20%5B127.02302831890559%2C%2037.53231899582663%5D%2C%20%5B127.01689265453608%2C%2037.536101393926174%5D%2C%20%5B127.01157414590769%2C%2037.53677688273679%5D%2C%20%5B127.01043978345277%2C%2037.53905983303592%5D%2C%20%5B127.01070894177482%2C%2037.54118048964762%5D%2C%20%5B127.01172101406588%2C%2037.545252245650516%5D%2C%20%5B127.01376082027429%2C%2037.54571276061997%5D%2C%20%5B127.01889368846282%2C%2037.55057696424215%5D%2C%20%5B127.01951516360089%2C%2037.55318470254581%5D%2C%20%5B127.02174792168286%2C%2037.55473509405241%5D%2C%20%5B127.02496143707425%2C%2037.555070476260596%5D%2C%20%5B127.0257913546443%2C%2037.558352834264504%5D%2C%20%5B127.02836991434461%2C%2037.56019645010606%5D%2C%20%5B127.02881029425372%2C%2037.56219283885279%5D%2C%20%5B127.02571971403893%2C%2037.56237200595601%5D%2C%20%5B127.02547266349976%2C%2037.568943552237734%5D%5D%5D%2C%20%22type%22%3A%20%22Polygon%22%7D%2C%20%22properties%22%3A%20%7B%22base_year%22%3A%20%222013%22%2C%20%22code%22%3A%20%2211040%22%2C%20%22name%22%3A%20%22%5Cuc131%5Cub3d9%5Cuad6c%22%2C%20%22name_eng%22%3A%20%22Seongdong-gu%22%7D%2C%20%22type%22%3A%20%22Feature%22%7D%2C%20%7B%22geometry%22%3A%20%7B%22coordinates%22%3A%20%5B%5B%5B127.01070894177482%2C%2037.54118048964762%5D%2C%20%5B127.01043978345277%2C%2037.53905983303592%5D%2C%20%5B127.01157414590769%2C%2037.53677688273679%5D%2C%20%5B127.01689265453608%2C%2037.536101393926174%5D%2C%20%5B127.02302831890559%2C%2037.53231899582663%5D%2C%20%5B127.01397119667513%2C%2037.52503988289669%5D%2C%20%5B127.01022186960886%2C%2037.522020085671926%5D%2C%20%5B127.00818058911564%2C%2037.51877313923874%5D%2C%20%5B127.00583392114271%2C%2037.516905128452926%5D%2C%20%5B127.00011962020382%2C%2037.513901653034374%5D%2C%20%5B126.99148001917875%2C%2037.50990503427709%5D%2C%20%5B126.98948242685965%2C%2037.5108780134613%5D%2C%20%5B126.98458580602838%2C%2037.51070333105394%5D%2C%20%5B126.98223807916081%2C%2037.509314966770326%5D%2C%20%5B126.96670111119346%2C%2037.50997579058433%5D%2C%20%5B126.95950268374823%2C%2037.51249532165974%5D%2C%20%5B126.95551848909955%2C%2037.514736123015844%5D%2C%20%5B126.95249990298159%2C%2037.51722500741813%5D%2C%20%5B126.95003825019774%2C%2037.520781022055274%5D%2C%20%5B126.9488066464266%2C%2037.52424913252661%5D%2C%20%5B126.94566733083212%2C%2037.526617542453366%5D%2C%20%5B126.94717864071288%2C%2037.53213495568077%5D%2C%20%5B126.95340780191557%2C%2037.533494726370755%5D%2C%20%5B126.95926437828754%2C%2037.53897908363236%5D%2C%20%5B126.9605977865388%2C%2037.542661954880806%5D%2C%20%5B126.96231305253527%2C%2037.543511558047456%5D%2C%20%5B126.96401856825223%2C%2037.54584596959762%5D%2C%20%5B126.96604189284825%2C%2037.546894141748815%5D%2C%20%5B126.96448570553055%2C%2037.548705692021635%5D%2C%20%5B126.96782902931233%2C%2037.55132047039716%5D%2C%20%5B126.97427174983227%2C%2037.55109017579016%5D%2C%20%5B126.97859017732588%2C%2037.550336476582174%5D%2C%20%5B126.97925452152829%2C%2037.552184137181925%5D%2C%20%5B126.98262900956787%2C%2037.5506055959842%5D%2C%20%5B126.98584427779701%2C%2037.55023778139842%5D%2C%20%5B126.98752996903328%2C%2037.55094818807139%5D%2C%20%5B126.9899124474417%2C%2037.54869376545355%5D%2C%20%5B126.99238536723166%2C%2037.54862980831976%5D%2C%20%5B126.99742220893982%2C%2037.544438365587226%5D%2C%20%5B127.00062378484931%2C%2037.54713274618077%5D%2C%20%5B127.00478682371764%2C%2037.54680216333233%5D%2C%20%5B127.00632779182564%2C%2037.54757707053058%5D%2C%20%5B127.00694507580798%2C%2037.5433832956489%5D%2C%20%5B127.00936066823724%2C%2037.54101133407434%5D%2C%20%5B127.01070894177482%2C%2037.54118048964762%5D%5D%5D%2C%20%22type%22%3A%20%22Polygon%22%7D%2C%20%22properties%22%3A%20%7B%22base_year%22%3A%20%222013%22%2C%20%22code%22%3A%20%2211030%22%2C%20%22name%22%3A%20%22%5Cuc6a9%5Cuc0b0%5Cuad6c%22%2C%20%22name_eng%22%3A%20%22Yongsan-gu%22%7D%2C%20%22type%22%3A%20%22Feature%22%7D%2C%20%7B%22geometry%22%3A%20%7B%22coordinates%22%3A%20%5B%5B%5B127.02547266349976%2C%2037.568943552237734%5D%2C%20%5B127.02571971403893%2C%2037.56237200595601%5D%2C%20%5B127.02881029425372%2C%2037.56219283885279%5D%2C%20%5B127.02836991434461%2C%2037.56019645010606%5D%2C%20%5B127.0257913546443%2C%2037.558352834264504%5D%2C%20%5B127.02496143707425%2C%2037.555070476260596%5D%2C%20%5B127.02174792168286%2C%2037.55473509405241%5D%2C%20%5B127.01951516360089%2C%2037.55318470254581%5D%2C%20%5B127.01889368846282%2C%2037.55057696424215%5D%2C%20%5B127.01376082027429%2C%2037.54571276061997%5D%2C%20%5B127.01172101406588%2C%2037.545252245650516%5D%2C%20%5B127.01070894177482%2C%2037.54118048964762%5D%2C%20%5B127.00936066823724%2C%2037.54101133407434%5D%2C%20%5B127.00694507580798%2C%2037.5433832956489%5D%2C%20%5B127.00632779182564%2C%2037.54757707053058%5D%2C%20%5B127.00478682371764%2C%2037.54680216333233%5D%2C%20%5B127.00062378484931%2C%2037.54713274618077%5D%2C%20%5B126.99742220893982%2C%2037.544438365587226%5D%2C%20%5B126.99238536723166%2C%2037.54862980831976%5D%2C%20%5B126.9899124474417%2C%2037.54869376545355%5D%2C%20%5B126.98752996903328%2C%2037.55094818807139%5D%2C%20%5B126.98584427779701%2C%2037.55023778139842%5D%2C%20%5B126.98262900956787%2C%2037.5506055959842%5D%2C%20%5B126.97925452152829%2C%2037.552184137181925%5D%2C%20%5B126.97859017732588%2C%2037.550336476582174%5D%2C%20%5B126.97427174983227%2C%2037.55109017579016%5D%2C%20%5B126.96782902931233%2C%2037.55132047039716%5D%2C%20%5B126.96448570553055%2C%2037.548705692021635%5D%2C%20%5B126.96380145704283%2C%2037.55254525759954%5D%2C%20%5B126.96519694864509%2C%2037.55362533505407%5D%2C%20%5B126.96358226710812%2C%2037.55605635475154%5D%2C%20%5B126.96570855677983%2C%2037.556512377492325%5D%2C%20%5B126.96900073076728%2C%2037.55850929094393%5D%2C%20%5B126.97169209525231%2C%2037.55921654641677%5D%2C%20%5B126.96873633279075%2C%2037.56313604690827%5D%2C%20%5B126.97114791678374%2C%2037.56539818101368%5D%2C%20%5B126.97500684322326%2C%2037.566406971064836%5D%2C%20%5B126.97990305661519%2C%2037.5664536437083%5D%2C%20%5B126.9910070921652%2C%2037.565312022428806%5D%2C%20%5B126.99879870609924%2C%2037.56591346564579%5D%2C%20%5B127.00372480409301%2C%2037.56679519621814%5D%2C%20%5B127.01786686709805%2C%2037.56701276414023%5D%2C%20%5B127.02250839667563%2C%2037.56892943928301%5D%2C%20%5B127.02547266349976%2C%2037.568943552237734%5D%5D%5D%2C%20%22type%22%3A%20%22Polygon%22%7D%2C%20%22properties%22%3A%20%7B%22base_year%22%3A%20%222013%22%2C%20%22code%22%3A%20%2211020%22%2C%20%22name%22%3A%20%22%5Cuc911%5Cuad6c%22%2C%20%22name_eng%22%3A%20%22Jung-gu%22%7D%2C%20%22type%22%3A%20%22Feature%22%7D%2C%20%7B%22geometry%22%3A%20%7B%22coordinates%22%3A%20%5B%5B%5B126.9738864128702%2C%2037.62949634786888%5D%2C%20%5B126.977175406416%2C%2037.62859715400388%5D%2C%20%5B126.97877284074367%2C%2037.62605559220399%5D%2C%20%5B126.98162508963613%2C%2037.626412913357804%5D%2C%20%5B126.98130955822086%2C%2037.621781567952816%5D%2C%20%5B126.98297129719916%2C%2037.61996223346171%5D%2C%20%5B126.9849070918475%2C%2037.61390303132951%5D%2C%20%5B126.98879865992384%2C%2037.6118927319756%5D%2C%20%5B126.98906118629816%2C%2037.60778324866486%5D%2C%20%5B126.9880021251863%2C%2037.60434406739665%5D%2C%20%5B126.98984276495587%2C%2037.59842301677683%5D%2C%20%5B126.98700989661556%2C%2037.59664611897289%5D%2C%20%5B126.98366752610544%2C%2037.596350797276386%5D%2C%20%5B126.98411250331745%2C%2037.59305007059415%5D%2C%20%5B126.98596926877026%2C%2037.59105697466976%5D%2C%20%5B126.98858114244759%2C%2037.58971272682123%5D%2C%20%5B126.99348293358314%2C%2037.588565457216156%5D%2C%20%5B126.99647930158565%2C%2037.58845217708608%5D%2C%20%5B126.99774058571116%2C%2037.58944568945197%5D%2C%20%5B127.00304474231643%2C%2037.58959898679736%5D%2C%20%5B127.00453322588274%2C%2037.58626325611708%5D%2C%20%5B127.00803641804285%2C%2037.5841154647404%5D%2C%20%5B127.00896672237498%2C%2037.582512606964876%5D%2C%20%5B127.00914513999258%2C%2037.57928387879304%5D%2C%20%5B127.01094467951529%2C%2037.57765758282494%5D%2C%20%5B127.01678966486051%2C%2037.57943162455397%5D%2C%20%5B127.01849412471284%2C%2037.57904760334465%5D%2C%20%5B127.02039107536422%2C%2037.575771872553595%5D%2C%20%5B127.02395698453867%2C%2037.576068086896726%5D%2C%20%5B127.02527254528003%2C%2037.57524616245249%5D%2C%20%5B127.02547266349976%2C%2037.568943552237734%5D%2C%20%5B127.02250839667563%2C%2037.56892943928301%5D%2C%20%5B127.01786686709805%2C%2037.56701276414023%5D%2C%20%5B127.00372480409301%2C%2037.56679519621814%5D%2C%20%5B126.99879870609924%2C%2037.56591346564579%5D%2C%20%5B126.9910070921652%2C%2037.565312022428806%5D%2C%20%5B126.97990305661519%2C%2037.5664536437083%5D%2C%20%5B126.97500684322326%2C%2037.566406971064836%5D%2C%20%5B126.97114791678374%2C%2037.56539818101368%5D%2C%20%5B126.96873633279075%2C%2037.56313604690827%5D%2C%20%5B126.95565425846463%2C%2037.576080790881456%5D%2C%20%5B126.95789326971087%2C%2037.57793453336025%5D%2C%20%5B126.96177754536156%2C%2037.57970124256911%5D%2C%20%5B126.95879970726017%2C%2037.58189826471162%5D%2C%20%5B126.96048802632431%2C%2037.587202077053746%5D%2C%20%5B126.960424902266%2C%2037.58868913291801%5D%2C%20%5B126.95842779914786%2C%2037.592356673207824%5D%2C%20%5B126.95924434840931%2C%2037.59545024466215%5D%2C%20%5B126.95619178283661%2C%2037.59575826218021%5D%2C%20%5B126.95484771718951%2C%2037.59761368186209%5D%2C%20%5B126.95564117002459%2C%2037.601827148276776%5D%2C%20%5B126.95480868778256%2C%2037.60381765067903%5D%2C%20%5B126.9524752030572%2C%2037.60508692737045%5D%2C%20%5B126.95187994741721%2C%2037.60600915874973%5D%2C%20%5B126.95308190738618%2C%2037.60926681659027%5D%2C%20%5B126.95249458941419%2C%2037.61333750249896%5D%2C%20%5B126.95145384404022%2C%2037.61493028446385%5D%2C%20%5B126.9528332649861%2C%2037.6161065117682%5D%2C%20%5B126.95393421039743%2C%2037.61877981567335%5D%2C%20%5B126.95427017006129%2C%2037.622033431339425%5D%2C%20%5B126.95885198650147%2C%2037.6225761621008%5D%2C%20%5B126.96164158910712%2C%2037.62569322976388%5D%2C%20%5B126.97135221665513%2C%2037.62743418897386%5D%2C%20%5B126.9738864128702%2C%2037.62949634786888%5D%5D%5D%2C%20%22type%22%3A%20%22Polygon%22%7D%2C%20%22properties%22%3A%20%7B%22base_year%22%3A%20%222013%22%2C%20%22code%22%3A%20%2211010%22%2C%20%22name%22%3A%20%22%5Cuc885%5Cub85c%5Cuad6c%22%2C%20%22name_eng%22%3A%20%22Jongno-gu%22%7D%2C%20%22type%22%3A%20%22Feature%22%7D%5D%2C%20%22type%22%3A%20%22FeatureCollection%22%7D%29%3B%0A%0A%20%20%20%20%20%20%20%20%0A%20%20%20%20%0A%20%20%20%20var%20color_map_6b6b0d9710934407ad9b7f84fe107905%20%3D%20%7B%7D%3B%0A%0A%20%20%20%20%0A%20%20%20%20color_map_6b6b0d9710934407ad9b7f84fe107905.color%20%3D%20d3.scale.threshold%28%29%0A%20%20%20%20%20%20%20%20%20%20%20%20%20%20.domain%28%5B1.0%2C%201.0480961923847696%2C%201.0961923847695392%2C%201.1442885771543085%2C%201.1923847695390781%2C%201.2404809619238477%2C%201.2885771543086173%2C%201.3366733466933867%2C%201.3847695390781563%2C%201.4328657314629258%2C%201.4809619238476954%2C%201.529058116232465%2C%201.5771543086172346%2C%201.625250501002004%2C%201.6733466933867736%2C%201.7214428857715431%2C%201.7695390781563125%2C%201.817635270541082%2C%201.8657314629258517%2C%201.9138276553106213%2C%201.9619238476953909%2C%202.0100200400801604%2C%202.05811623246493%2C%202.1062124248496996%2C%202.154308617234469%2C%202.202404809619239%2C%202.250501002004008%2C%202.2985971943887775%2C%202.346693386773547%2C%202.3947895791583167%2C%202.4428857715430863%2C%202.4909819639278554%2C%202.539078156312625%2C%202.5871743486973946%2C%202.635270541082164%2C%202.6833667334669338%2C%202.7314629258517034%2C%202.779559118236473%2C%202.8276553106212425%2C%202.875751503006012%2C%202.9238476953907817%2C%202.9719438877755513%2C%203.0200400801603204%2C%203.06813627254509%2C%203.1162324649298596%2C%203.164328657314629%2C%203.212424849699399%2C%203.2605210420841684%2C%203.308617234468938%2C%203.3567134268537075%2C%203.404809619238477%2C%203.4529058116232463%2C%203.501002004008016%2C%203.5490981963927855%2C%203.597194388777555%2C%203.6452905811623246%2C%203.693386773547094%2C%203.741482965931864%2C%203.7895791583166334%2C%203.837675350701403%2C%203.8857715430861726%2C%203.9338677354709417%2C%203.9819639278557113%2C%204.030060120240481%2C%204.07815631262525%2C%204.1262525050100205%2C%204.174348697394789%2C%204.22244488977956%2C%204.270541082164328%2C%204.318637274549099%2C%204.3667334669338675%2C%204.414829659318637%2C%204.462925851703407%2C%204.511022044088176%2C%204.559118236472946%2C%204.6072144288577155%2C%204.655310621242485%2C%204.703406813627255%2C%204.751503006012024%2C%204.799599198396793%2C%204.847695390781563%2C%204.895791583166332%2C%204.943887775551103%2C%204.991983967935871%2C%205.040080160320641%2C%205.0881763527054105%2C%205.13627254509018%2C%205.18436873747495%2C%205.232464929859719%2C%205.280561122244489%2C%205.328657314629258%2C%205.376753507014028%2C%205.424849699398798%2C%205.472945891783567%2C%205.521042084168337%2C%205.569138276553106%2C%205.617234468937876%2C%205.6653306613226455%2C%205.713426853707415%2C%205.761523046092185%2C%205.809619238476954%2C%205.857715430861724%2C%205.905811623246493%2C%205.953907815631262%2C%206.002004008016032%2C%206.050100200400801%2C%206.098196392785571%2C%206.1462925851703405%2C%206.19438877755511%2C%206.24248496993988%2C%206.290581162324649%2C%206.338677354709419%2C%206.386773547094188%2C%206.434869739478958%2C%206.482965931863728%2C%206.531062124248497%2C%206.579158316633267%2C%206.627254509018036%2C%206.675350701402806%2C%206.7234468937875755%2C%206.771543086172345%2C%206.819639278557114%2C%206.867735470941883%2C%206.915831663326653%2C%206.963927855711423%2C%207.012024048096192%2C%207.060120240480962%2C%207.108216432865731%2C%207.156312625250501%2C%207.2044088176352705%2C%207.25250501002004%2C%207.30060120240481%2C%207.348697394789579%2C%207.396793587174349%2C%207.4448897795591185%2C%207.492985971943888%2C%207.541082164328658%2C%207.589178356713427%2C%207.637274549098197%2C%207.6853707414829655%2C%207.733466933867735%2C%207.781563126252505%2C%207.829659318637274%2C%207.877755511022044%2C%207.925851703406813%2C%207.973947895791583%2C%208.022044088176353%2C%208.070140280561123%2C%208.118236472945892%2C%208.16633266533066%2C%208.214428857715431%2C%208.262525050100201%2C%208.31062124248497%2C%208.358717434869739%2C%208.40681362725451%2C%208.45490981963928%2C%208.503006012024048%2C%208.551102204408817%2C%208.599198396793586%2C%208.647294589178356%2C%208.695390781563127%2C%208.743486973947896%2C%208.791583166332664%2C%208.839679358717435%2C%208.887775551102205%2C%208.935871743486974%2C%208.983967935871743%2C%209.032064128256513%2C%209.080160320641282%2C%209.128256513026052%2C%209.176352705410821%2C%209.224448897795591%2C%209.27254509018036%2C%209.32064128256513%2C%209.3687374749499%2C%209.41683366733467%2C%209.464929859719438%2C%209.513026052104209%2C%209.561122244488978%2C%209.609218436873748%2C%209.657314629258517%2C%209.705410821643287%2C%209.753507014028056%2C%209.801603206412826%2C%209.849699398797595%2C%209.897795591182364%2C%209.945891783567134%2C%209.993987975951903%2C%2010.042084168336673%2C%2010.090180360721442%2C%2010.138276553106213%2C%2010.186372745490981%2C%2010.234468937875752%2C%2010.28256513026052%2C%2010.330661322645291%2C%2010.37875751503006%2C%2010.42685370741483%2C%2010.474949899799599%2C%2010.52304609218437%2C%2010.571142284569138%2C%2010.619238476953909%2C%2010.667334669338677%2C%2010.715430861723448%2C%2010.763527054108216%2C%2010.811623246492985%2C%2010.859719438877756%2C%2010.907815631262524%2C%2010.955911823647295%2C%2011.004008016032063%2C%2011.052104208416834%2C%2011.100200400801603%2C%2011.148296593186373%2C%2011.196392785571142%2C%2011.244488977955912%2C%2011.292585170340681%2C%2011.340681362725451%2C%2011.38877755511022%2C%2011.43687374749499%2C%2011.48496993987976%2C%2011.53306613226453%2C%2011.581162324649299%2C%2011.629258517034069%2C%2011.677354709418838%2C%2011.725450901803606%2C%2011.773547094188377%2C%2011.821643286573146%2C%2011.869739478957916%2C%2011.917835671342685%2C%2011.965931863727455%2C%2012.014028056112224%2C%2012.062124248496994%2C%2012.110220440881763%2C%2012.158316633266534%2C%2012.206412825651302%2C%2012.254509018036073%2C%2012.302605210420841%2C%2012.350701402805612%2C%2012.39879759519038%2C%2012.446893787575151%2C%2012.49498997995992%2C%2012.54308617234469%2C%2012.591182364729459%2C%2012.639278557114228%2C%2012.687374749498998%2C%2012.735470941883767%2C%2012.783567134268537%2C%2012.831663326653306%2C%2012.879759519038076%2C%2012.927855711422845%2C%2012.975951903807616%2C%2013.024048096192384%2C%2013.072144288577155%2C%2013.120240480961924%2C%2013.168336673346694%2C%2013.216432865731463%2C%2013.264529058116233%2C%2013.312625250501002%2C%2013.360721442885772%2C%2013.408817635270541%2C%2013.45691382765531%2C%2013.50501002004008%2C%2013.553106212424849%2C%2013.60120240480962%2C%2013.649298597194388%2C%2013.697394789579159%2C%2013.745490981963927%2C%2013.793587174348698%2C%2013.841683366733466%2C%2013.889779559118237%2C%2013.937875751503006%2C%2013.985971943887776%2C%2014.034068136272545%2C%2014.082164328657315%2C%2014.130260521042084%2C%2014.178356713426854%2C%2014.226452905811623%2C%2014.274549098196394%2C%2014.322645290581162%2C%2014.370741482965931%2C%2014.418837675350701%2C%2014.46693386773547%2C%2014.51503006012024%2C%2014.56312625250501%2C%2014.61122244488978%2C%2014.659318637274549%2C%2014.707414829659319%2C%2014.755511022044088%2C%2014.803607214428858%2C%2014.851703406813627%2C%2014.899799599198397%2C%2014.947895791583166%2C%2014.995991983967937%2C%2015.044088176352705%2C%2015.092184368737476%2C%2015.140280561122244%2C%2015.188376753507015%2C%2015.236472945891784%2C%2015.284569138276552%2C%2015.332665330661323%2C%2015.380761523046091%2C%2015.428857715430862%2C%2015.47695390781563%2C%2015.525050100200401%2C%2015.57314629258517%2C%2015.62124248496994%2C%2015.669338677354709%2C%2015.71743486973948%2C%2015.765531062124248%2C%2015.813627254509019%2C%2015.861723446893787%2C%2015.909819639278558%2C%2015.957915831663327%2C%2016.006012024048097%2C%2016.054108216432866%2C%2016.102204408817634%2C%2016.150300601202403%2C%2016.19839679358717%2C%2016.246492985971944%2C%2016.294589178356713%2C%2016.342685370741485%2C%2016.390781563126254%2C%2016.438877755511022%2C%2016.48697394789579%2C%2016.53507014028056%2C%2016.58316633266533%2C%2016.6312625250501%2C%2016.67935871743487%2C%2016.72745490981964%2C%2016.77555110220441%2C%2016.82364729458918%2C%2016.871743486973948%2C%2016.919839679358716%2C%2016.967935871743485%2C%2017.016032064128257%2C%2017.064128256513026%2C%2017.112224448897795%2C%2017.160320641282564%2C%2017.208416833667336%2C%2017.256513026052104%2C%2017.304609218436873%2C%2017.352705410821642%2C%2017.400801603206414%2C%2017.448897795591183%2C%2017.49699398797595%2C%2017.54509018036072%2C%2017.593186372745492%2C%2017.64128256513026%2C%2017.68937875751503%2C%2017.7374749498998%2C%2017.78557114228457%2C%2017.83366733466934%2C%2017.881763527054108%2C%2017.929859719438877%2C%2017.977955911823646%2C%2018.026052104208418%2C%2018.074148296593187%2C%2018.122244488977955%2C%2018.170340681362724%2C%2018.218436873747496%2C%2018.266533066132265%2C%2018.314629258517034%2C%2018.362725450901802%2C%2018.410821643286575%2C%2018.458917835671343%2C%2018.507014028056112%2C%2018.55511022044088%2C%2018.603206412825653%2C%2018.65130260521042%2C%2018.69939879759519%2C%2018.74749498997996%2C%2018.795591182364728%2C%2018.8436873747495%2C%2018.89178356713427%2C%2018.939879759519037%2C%2018.987975951903806%2C%2019.03607214428858%2C%2019.084168336673347%2C%2019.132264529058116%2C%2019.180360721442884%2C%2019.228456913827657%2C%2019.276553106212425%2C%2019.324649298597194%2C%2019.372745490981963%2C%2019.420841683366735%2C%2019.468937875751504%2C%2019.517034068136272%2C%2019.56513026052104%2C%2019.613226452905813%2C%2019.661322645290582%2C%2019.70941883767535%2C%2019.75751503006012%2C%2019.805611222444888%2C%2019.85370741482966%2C%2019.90180360721443%2C%2019.949899799599198%2C%2019.997995991983966%2C%2020.04609218436874%2C%2020.094188376753507%2C%2020.142284569138276%2C%2020.190380761523045%2C%2020.238476953907817%2C%2020.286573146292586%2C%2020.334669338677354%2C%2020.382765531062123%2C%2020.430861723446895%2C%2020.478957915831664%2C%2020.527054108216433%2C%2020.5751503006012%2C%2020.62324649298597%2C%2020.671342685370742%2C%2020.71943887775551%2C%2020.76753507014028%2C%2020.81563126252505%2C%2020.86372745490982%2C%2020.91182364729459%2C%2020.95991983967936%2C%2021.008016032064127%2C%2021.0561122244489%2C%2021.104208416833668%2C%2021.152304609218437%2C%2021.200400801603205%2C%2021.248496993987978%2C%2021.296593186372746%2C%2021.344689378757515%2C%2021.392785571142284%2C%2021.440881763527056%2C%2021.488977955911825%2C%2021.537074148296593%2C%2021.585170340681362%2C%2021.63326653306613%2C%2021.681362725450903%2C%2021.72945891783567%2C%2021.77755511022044%2C%2021.82565130260521%2C%2021.87374749498998%2C%2021.92184368737475%2C%2021.96993987975952%2C%2022.018036072144287%2C%2022.06613226452906%2C%2022.11422845691383%2C%2022.162324649298597%2C%2022.210420841683366%2C%2022.258517034068138%2C%2022.306613226452907%2C%2022.354709418837675%2C%2022.402805611222444%2C%2022.450901803607213%2C%2022.498997995991985%2C%2022.547094188376754%2C%2022.595190380761522%2C%2022.64328657314629%2C%2022.691382765531063%2C%2022.739478957915832%2C%2022.7875751503006%2C%2022.83567134268537%2C%2022.88376753507014%2C%2022.93186372745491%2C%2022.97995991983968%2C%2023.028056112224448%2C%2023.07615230460922%2C%2023.12424849699399%2C%2023.172344689378757%2C%2023.220440881763526%2C%2023.268537074148295%2C%2023.316633266533067%2C%2023.364729458917836%2C%2023.412825651302605%2C%2023.460921843687373%2C%2023.509018036072145%2C%2023.557114228456914%2C%2023.605210420841683%2C%2023.65330661322645%2C%2023.701402805611224%2C%2023.749498997995993%2C%2023.79759519038076%2C%2023.84569138276553%2C%2023.893787575150302%2C%2023.94188376753507%2C%2023.98997995991984%2C%2024.03807615230461%2C%2024.08617234468938%2C%2024.13426853707415%2C%2024.182364729458918%2C%2024.230460921843687%2C%2024.278557114228455%2C%2024.326653306613228%2C%2024.374749498997996%2C%2024.422845691382765%2C%2024.470941883767534%2C%2024.519038076152306%2C%2024.567134268537075%2C%2024.615230460921843%2C%2024.663326653306612%2C%2024.711422845691384%2C%2024.759519038076153%2C%2024.80761523046092%2C%2024.85571142284569%2C%2024.903807615230463%2C%2024.95190380761523%2C%2025.0%5D%29%0A%20%20%20%20%20%20%20%20%20%20%20%20%20%20.range%28%5B%27%23b30000ff%27%2C%20%27%23b30000ff%27%2C%20%27%23b30000ff%27%2C%20%27%23b30000ff%27%2C%20%27%23b30000ff%27%2C%20%27%23b30000ff%27%2C%20%27%23b30000ff%27%2C%20%27%23b30000ff%27%2C%20%27%23b30000ff%27%2C%20%27%23b30000ff%27%2C%20%27%23b30000ff%27%2C%20%27%23b30000ff%27%2C%20%27%23b30000ff%27%2C%20%27%23b30000ff%27%2C%20%27%23b30000ff%27%2C%20%27%23b30000ff%27%2C%20%27%23b30000ff%27%2C%20%27%23b30000ff%27%2C%20%27%23b30000ff%27%2C%20%27%23b30000ff%27%2C%20%27%23b30000ff%27%2C%20%27%23b30000ff%27%2C%20%27%23b30000ff%27%2C%20%27%23b30000ff%27%2C%20%27%23b30000ff%27%2C%20%27%23b30000ff%27%2C%20%27%23b30000ff%27%2C%20%27%23b30000ff%27%2C%20%27%23b30000ff%27%2C%20%27%23b30000ff%27%2C%20%27%23b30000ff%27%2C%20%27%23b30000ff%27%2C%20%27%23b30000ff%27%2C%20%27%23b30000ff%27%2C%20%27%23b30000ff%27%2C%20%27%23b30000ff%27%2C%20%27%23b30000ff%27%2C%20%27%23b30000ff%27%2C%20%27%23b30000ff%27%2C%20%27%23b30000ff%27%2C%20%27%23b30000ff%27%2C%20%27%23b30000ff%27%2C%20%27%23b30000ff%27%2C%20%27%23b30000ff%27%2C%20%27%23b30000ff%27%2C%20%27%23b30000ff%27%2C%20%27%23b30000ff%27%2C%20%27%23b30000ff%27%2C%20%27%23b30000ff%27%2C%20%27%23b30000ff%27%2C%20%27%23b30000ff%27%2C%20%27%23b30000ff%27%2C%20%27%23b30000ff%27%2C%20%27%23b30000ff%27%2C%20%27%23b30000ff%27%2C%20%27%23b30000ff%27%2C%20%27%23b30000ff%27%2C%20%27%23b30000ff%27%2C%20%27%23b30000ff%27%2C%20%27%23b30000ff%27%2C%20%27%23b30000ff%27%2C%20%27%23b30000ff%27%2C%20%27%23b30000ff%27%2C%20%27%23b30000ff%27%2C%20%27%23b30000ff%27%2C%20%27%23b30000ff%27%2C%20%27%23b30000ff%27%2C%20%27%23b30000ff%27%2C%20%27%23b30000ff%27%2C%20%27%23b30000ff%27%2C%20%27%23b30000ff%27%2C%20%27%23b30000ff%27%2C%20%27%23b30000ff%27%2C%20%27%23b30000ff%27%2C%20%27%23b30000ff%27%2C%20%27%23b30000ff%27%2C%20%27%23b30000ff%27%2C%20%27%23b30000ff%27%2C%20%27%23b30000ff%27%2C%20%27%23b30000ff%27%2C%20%27%23b30000ff%27%2C%20%27%23b30000ff%27%2C%20%27%23b30000ff%27%2C%20%27%23b30000ff%27%2C%20%27%23e34a33ff%27%2C%20%27%23e34a33ff%27%2C%20%27%23e34a33ff%27%2C%20%27%23e34a33ff%27%2C%20%27%23e34a33ff%27%2C%20%27%23e34a33ff%27%2C%20%27%23e34a33ff%27%2C%20%27%23e34a33ff%27%2C%20%27%23e34a33ff%27%2C%20%27%23e34a33ff%27%2C%20%27%23e34a33ff%27%2C%20%27%23e34a33ff%27%2C%20%27%23e34a33ff%27%2C%20%27%23e34a33ff%27%2C%20%27%23e34a33ff%27%2C%20%27%23e34a33ff%27%2C%20%27%23e34a33ff%27%2C%20%27%23e34a33ff%27%2C%20%27%23e34a33ff%27%2C%20%27%23e34a33ff%27%2C%20%27%23e34a33ff%27%2C%20%27%23e34a33ff%27%2C%20%27%23e34a33ff%27%2C%20%27%23e34a33ff%27%2C%20%27%23e34a33ff%27%2C%20%27%23e34a33ff%27%2C%20%27%23e34a33ff%27%2C%20%27%23e34a33ff%27%2C%20%27%23e34a33ff%27%2C%20%27%23e34a33ff%27%2C%20%27%23e34a33ff%27%2C%20%27%23e34a33ff%27%2C%20%27%23e34a33ff%27%2C%20%27%23e34a33ff%27%2C%20%27%23e34a33ff%27%2C%20%27%23e34a33ff%27%2C%20%27%23e34a33ff%27%2C%20%27%23e34a33ff%27%2C%20%27%23e34a33ff%27%2C%20%27%23e34a33ff%27%2C%20%27%23e34a33ff%27%2C%20%27%23e34a33ff%27%2C%20%27%23e34a33ff%27%2C%20%27%23e34a33ff%27%2C%20%27%23e34a33ff%27%2C%20%27%23e34a33ff%27%2C%20%27%23e34a33ff%27%2C%20%27%23e34a33ff%27%2C%20%27%23e34a33ff%27%2C%20%27%23e34a33ff%27%2C%20%27%23e34a33ff%27%2C%20%27%23e34a33ff%27%2C%20%27%23e34a33ff%27%2C%20%27%23e34a33ff%27%2C%20%27%23e34a33ff%27%2C%20%27%23e34a33ff%27%2C%20%27%23e34a33ff%27%2C%20%27%23e34a33ff%27%2C%20%27%23e34a33ff%27%2C%20%27%23e34a33ff%27%2C%20%27%23e34a33ff%27%2C%20%27%23e34a33ff%27%2C%20%27%23e34a33ff%27%2C%20%27%23e34a33ff%27%2C%20%27%23e34a33ff%27%2C%20%27%23e34a33ff%27%2C%20%27%23e34a33ff%27%2C%20%27%23e34a33ff%27%2C%20%27%23e34a33ff%27%2C%20%27%23e34a33ff%27%2C%20%27%23e34a33ff%27%2C%20%27%23e34a33ff%27%2C%20%27%23e34a33ff%27%2C%20%27%23e34a33ff%27%2C%20%27%23e34a33ff%27%2C%20%27%23e34a33ff%27%2C%20%27%23e34a33ff%27%2C%20%27%23e34a33ff%27%2C%20%27%23e34a33ff%27%2C%20%27%23e34a33ff%27%2C%20%27%23e34a33ff%27%2C%20%27%23e34a33ff%27%2C%20%27%23e34a33ff%27%2C%20%27%23fc8d59ff%27%2C%20%27%23fc8d59ff%27%2C%20%27%23fc8d59ff%27%2C%20%27%23fc8d59ff%27%2C%20%27%23fc8d59ff%27%2C%20%27%23fc8d59ff%27%2C%20%27%23fc8d59ff%27%2C%20%27%23fc8d59ff%27%2C%20%27%23fc8d59ff%27%2C%20%27%23fc8d59ff%27%2C%20%27%23fc8d59ff%27%2C%20%27%23fc8d59ff%27%2C%20%27%23fc8d59ff%27%2C%20%27%23fc8d59ff%27%2C%20%27%23fc8d59ff%27%2C%20%27%23fc8d59ff%27%2C%20%27%23fc8d59ff%27%2C%20%27%23fc8d59ff%27%2C%20%27%23fc8d59ff%27%2C%20%27%23fc8d59ff%27%2C%20%27%23fc8d59ff%27%2C%20%27%23fc8d59ff%27%2C%20%27%23fc8d59ff%27%2C%20%27%23fc8d59ff%27%2C%20%27%23fc8d59ff%27%2C%20%27%23fc8d59ff%27%2C%20%27%23fc8d59ff%27%2C%20%27%23fc8d59ff%27%2C%20%27%23fc8d59ff%27%2C%20%27%23fc8d59ff%27%2C%20%27%23fc8d59ff%27%2C%20%27%23fc8d59ff%27%2C%20%27%23fc8d59ff%27%2C%20%27%23fc8d59ff%27%2C%20%27%23fc8d59ff%27%2C%20%27%23fc8d59ff%27%2C%20%27%23fc8d59ff%27%2C%20%27%23fc8d59ff%27%2C%20%27%23fc8d59ff%27%2C%20%27%23fc8d59ff%27%2C%20%27%23fc8d59ff%27%2C%20%27%23fc8d59ff%27%2C%20%27%23fc8d59ff%27%2C%20%27%23fc8d59ff%27%2C%20%27%23fc8d59ff%27%2C%20%27%23fc8d59ff%27%2C%20%27%23fc8d59ff%27%2C%20%27%23fc8d59ff%27%2C%20%27%23fc8d59ff%27%2C%20%27%23fc8d59ff%27%2C%20%27%23fc8d59ff%27%2C%20%27%23fc8d59ff%27%2C%20%27%23fc8d59ff%27%2C%20%27%23fc8d59ff%27%2C%20%27%23fc8d59ff%27%2C%20%27%23fc8d59ff%27%2C%20%27%23fc8d59ff%27%2C%20%27%23fc8d59ff%27%2C%20%27%23fc8d59ff%27%2C%20%27%23fc8d59ff%27%2C%20%27%23fc8d59ff%27%2C%20%27%23fc8d59ff%27%2C%20%27%23fc8d59ff%27%2C%20%27%23fc8d59ff%27%2C%20%27%23fc8d59ff%27%2C%20%27%23fc8d59ff%27%2C%20%27%23fc8d59ff%27%2C%20%27%23fc8d59ff%27%2C%20%27%23fc8d59ff%27%2C%20%27%23fc8d59ff%27%2C%20%27%23fc8d59ff%27%2C%20%27%23fc8d59ff%27%2C%20%27%23fc8d59ff%27%2C%20%27%23fc8d59ff%27%2C%20%27%23fc8d59ff%27%2C%20%27%23fc8d59ff%27%2C%20%27%23fc8d59ff%27%2C%20%27%23fc8d59ff%27%2C%20%27%23fc8d59ff%27%2C%20%27%23fc8d59ff%27%2C%20%27%23fc8d59ff%27%2C%20%27%23fc8d59ff%27%2C%20%27%23fc8d59ff%27%2C%20%27%23fdbb84ff%27%2C%20%27%23fdbb84ff%27%2C%20%27%23fdbb84ff%27%2C%20%27%23fdbb84ff%27%2C%20%27%23fdbb84ff%27%2C%20%27%23fdbb84ff%27%2C%20%27%23fdbb84ff%27%2C%20%27%23fdbb84ff%27%2C%20%27%23fdbb84ff%27%2C%20%27%23fdbb84ff%27%2C%20%27%23fdbb84ff%27%2C%20%27%23fdbb84ff%27%2C%20%27%23fdbb84ff%27%2C%20%27%23fdbb84ff%27%2C%20%27%23fdbb84ff%27%2C%20%27%23fdbb84ff%27%2C%20%27%23fdbb84ff%27%2C%20%27%23fdbb84ff%27%2C%20%27%23fdbb84ff%27%2C%20%27%23fdbb84ff%27%2C%20%27%23fdbb84ff%27%2C%20%27%23fdbb84ff%27%2C%20%27%23fdbb84ff%27%2C%20%27%23fdbb84ff%27%2C%20%27%23fdbb84ff%27%2C%20%27%23fdbb84ff%27%2C%20%27%23fdbb84ff%27%2C%20%27%23fdbb84ff%27%2C%20%27%23fdbb84ff%27%2C%20%27%23fdbb84ff%27%2C%20%27%23fdbb84ff%27%2C%20%27%23fdbb84ff%27%2C%20%27%23fdbb84ff%27%2C%20%27%23fdbb84ff%27%2C%20%27%23fdbb84ff%27%2C%20%27%23fdbb84ff%27%2C%20%27%23fdbb84ff%27%2C%20%27%23fdbb84ff%27%2C%20%27%23fdbb84ff%27%2C%20%27%23fdbb84ff%27%2C%20%27%23fdbb84ff%27%2C%20%27%23fdbb84ff%27%2C%20%27%23fdbb84ff%27%2C%20%27%23fdbb84ff%27%2C%20%27%23fdbb84ff%27%2C%20%27%23fdbb84ff%27%2C%20%27%23fdbb84ff%27%2C%20%27%23fdbb84ff%27%2C%20%27%23fdbb84ff%27%2C%20%27%23fdbb84ff%27%2C%20%27%23fdbb84ff%27%2C%20%27%23fdbb84ff%27%2C%20%27%23fdbb84ff%27%2C%20%27%23fdbb84ff%27%2C%20%27%23fdbb84ff%27%2C%20%27%23fdbb84ff%27%2C%20%27%23fdbb84ff%27%2C%20%27%23fdbb84ff%27%2C%20%27%23fdbb84ff%27%2C%20%27%23fdbb84ff%27%2C%20%27%23fdbb84ff%27%2C%20%27%23fdbb84ff%27%2C%20%27%23fdbb84ff%27%2C%20%27%23fdbb84ff%27%2C%20%27%23fdbb84ff%27%2C%20%27%23fdbb84ff%27%2C%20%27%23fdbb84ff%27%2C%20%27%23fdbb84ff%27%2C%20%27%23fdbb84ff%27%2C%20%27%23fdbb84ff%27%2C%20%27%23fdbb84ff%27%2C%20%27%23fdbb84ff%27%2C%20%27%23fdbb84ff%27%2C%20%27%23fdbb84ff%27%2C%20%27%23fdbb84ff%27%2C%20%27%23fdbb84ff%27%2C%20%27%23fdbb84ff%27%2C%20%27%23fdbb84ff%27%2C%20%27%23fdbb84ff%27%2C%20%27%23fdbb84ff%27%2C%20%27%23fdbb84ff%27%2C%20%27%23fdbb84ff%27%2C%20%27%23fdbb84ff%27%2C%20%27%23fdd49eff%27%2C%20%27%23fdd49eff%27%2C%20%27%23fdd49eff%27%2C%20%27%23fdd49eff%27%2C%20%27%23fdd49eff%27%2C%20%27%23fdd49eff%27%2C%20%27%23fdd49eff%27%2C%20%27%23fdd49eff%27%2C%20%27%23fdd49eff%27%2C%20%27%23fdd49eff%27%2C%20%27%23fdd49eff%27%2C%20%27%23fdd49eff%27%2C%20%27%23fdd49eff%27%2C%20%27%23fdd49eff%27%2C%20%27%23fdd49eff%27%2C%20%27%23fdd49eff%27%2C%20%27%23fdd49eff%27%2C%20%27%23fdd49eff%27%2C%20%27%23fdd49eff%27%2C%20%27%23fdd49eff%27%2C%20%27%23fdd49eff%27%2C%20%27%23fdd49eff%27%2C%20%27%23fdd49eff%27%2C%20%27%23fdd49eff%27%2C%20%27%23fdd49eff%27%2C%20%27%23fdd49eff%27%2C%20%27%23fdd49eff%27%2C%20%27%23fdd49eff%27%2C%20%27%23fdd49eff%27%2C%20%27%23fdd49eff%27%2C%20%27%23fdd49eff%27%2C%20%27%23fdd49eff%27%2C%20%27%23fdd49eff%27%2C%20%27%23fdd49eff%27%2C%20%27%23fdd49eff%27%2C%20%27%23fdd49eff%27%2C%20%27%23fdd49eff%27%2C%20%27%23fdd49eff%27%2C%20%27%23fdd49eff%27%2C%20%27%23fdd49eff%27%2C%20%27%23fdd49eff%27%2C%20%27%23fdd49eff%27%2C%20%27%23fdd49eff%27%2C%20%27%23fdd49eff%27%2C%20%27%23fdd49eff%27%2C%20%27%23fdd49eff%27%2C%20%27%23fdd49eff%27%2C%20%27%23fdd49eff%27%2C%20%27%23fdd49eff%27%2C%20%27%23fdd49eff%27%2C%20%27%23fdd49eff%27%2C%20%27%23fdd49eff%27%2C%20%27%23fdd49eff%27%2C%20%27%23fdd49eff%27%2C%20%27%23fdd49eff%27%2C%20%27%23fdd49eff%27%2C%20%27%23fdd49eff%27%2C%20%27%23fdd49eff%27%2C%20%27%23fdd49eff%27%2C%20%27%23fdd49eff%27%2C%20%27%23fdd49eff%27%2C%20%27%23fdd49eff%27%2C%20%27%23fdd49eff%27%2C%20%27%23fdd49eff%27%2C%20%27%23fdd49eff%27%2C%20%27%23fdd49eff%27%2C%20%27%23fdd49eff%27%2C%20%27%23fdd49eff%27%2C%20%27%23fdd49eff%27%2C%20%27%23fdd49eff%27%2C%20%27%23fdd49eff%27%2C%20%27%23fdd49eff%27%2C%20%27%23fdd49eff%27%2C%20%27%23fdd49eff%27%2C%20%27%23fdd49eff%27%2C%20%27%23fdd49eff%27%2C%20%27%23fdd49eff%27%2C%20%27%23fdd49eff%27%2C%20%27%23fdd49eff%27%2C%20%27%23fdd49eff%27%2C%20%27%23fdd49eff%27%2C%20%27%23fdd49eff%27%2C%20%27%23fdd49eff%27%2C%20%27%23fef0d9ff%27%2C%20%27%23fef0d9ff%27%2C%20%27%23fef0d9ff%27%2C%20%27%23fef0d9ff%27%2C%20%27%23fef0d9ff%27%2C%20%27%23fef0d9ff%27%2C%20%27%23fef0d9ff%27%2C%20%27%23fef0d9ff%27%2C%20%27%23fef0d9ff%27%2C%20%27%23fef0d9ff%27%2C%20%27%23fef0d9ff%27%2C%20%27%23fef0d9ff%27%2C%20%27%23fef0d9ff%27%2C%20%27%23fef0d9ff%27%2C%20%27%23fef0d9ff%27%2C%20%27%23fef0d9ff%27%2C%20%27%23fef0d9ff%27%2C%20%27%23fef0d9ff%27%2C%20%27%23fef0d9ff%27%2C%20%27%23fef0d9ff%27%2C%20%27%23fef0d9ff%27%2C%20%27%23fef0d9ff%27%2C%20%27%23fef0d9ff%27%2C%20%27%23fef0d9ff%27%2C%20%27%23fef0d9ff%27%2C%20%27%23fef0d9ff%27%2C%20%27%23fef0d9ff%27%2C%20%27%23fef0d9ff%27%2C%20%27%23fef0d9ff%27%2C%20%27%23fef0d9ff%27%2C%20%27%23fef0d9ff%27%2C%20%27%23fef0d9ff%27%2C%20%27%23fef0d9ff%27%2C%20%27%23fef0d9ff%27%2C%20%27%23fef0d9ff%27%2C%20%27%23fef0d9ff%27%2C%20%27%23fef0d9ff%27%2C%20%27%23fef0d9ff%27%2C%20%27%23fef0d9ff%27%2C%20%27%23fef0d9ff%27%2C%20%27%23fef0d9ff%27%2C%20%27%23fef0d9ff%27%2C%20%27%23fef0d9ff%27%2C%20%27%23fef0d9ff%27%2C%20%27%23fef0d9ff%27%2C%20%27%23fef0d9ff%27%2C%20%27%23fef0d9ff%27%2C%20%27%23fef0d9ff%27%2C%20%27%23fef0d9ff%27%2C%20%27%23fef0d9ff%27%2C%20%27%23fef0d9ff%27%2C%20%27%23fef0d9ff%27%2C%20%27%23fef0d9ff%27%2C%20%27%23fef0d9ff%27%2C%20%27%23fef0d9ff%27%2C%20%27%23fef0d9ff%27%2C%20%27%23fef0d9ff%27%2C%20%27%23fef0d9ff%27%2C%20%27%23fef0d9ff%27%2C%20%27%23fef0d9ff%27%2C%20%27%23fef0d9ff%27%2C%20%27%23fef0d9ff%27%2C%20%27%23fef0d9ff%27%2C%20%27%23fef0d9ff%27%2C%20%27%23fef0d9ff%27%2C%20%27%23fef0d9ff%27%2C%20%27%23fef0d9ff%27%2C%20%27%23fef0d9ff%27%2C%20%27%23fef0d9ff%27%2C%20%27%23fef0d9ff%27%2C%20%27%23fef0d9ff%27%2C%20%27%23fef0d9ff%27%2C%20%27%23fef0d9ff%27%2C%20%27%23fef0d9ff%27%2C%20%27%23fef0d9ff%27%2C%20%27%23fef0d9ff%27%2C%20%27%23fef0d9ff%27%2C%20%27%23fef0d9ff%27%2C%20%27%23fef0d9ff%27%2C%20%27%23fef0d9ff%27%2C%20%27%23fef0d9ff%27%2C%20%27%23fef0d9ff%27%2C%20%27%23fef0d9ff%27%2C%20%27%23fef0d9ff%27%5D%29%3B%0A%20%20%20%20%0A%0A%20%20%20%20color_map_6b6b0d9710934407ad9b7f84fe107905.x%20%3D%20d3.scale.linear%28%29%0A%20%20%20%20%20%20%20%20%20%20%20%20%20%20.domain%28%5B1.0%2C%2025.0%5D%29%0A%20%20%20%20%20%20%20%20%20%20%20%20%20%20.range%28%5B0%2C%20400%5D%29%3B%0A%0A%20%20%20%20color_map_6b6b0d9710934407ad9b7f84fe107905.legend%20%3D%20L.control%28%7Bposition%3A%20%27topright%27%7D%29%3B%0A%20%20%20%20color_map_6b6b0d9710934407ad9b7f84fe107905.legend.onAdd%20%3D%20function%20%28map%29%20%7Bvar%20div%20%3D%20L.DomUtil.create%28%27div%27%2C%20%27legend%27%29%3B%20return%20div%7D%3B%0A%20%20%20%20color_map_6b6b0d9710934407ad9b7f84fe107905.legend.addTo%28map_b1377d144ab24c4c8bc402682da763ca%29%3B%0A%0A%20%20%20%20color_map_6b6b0d9710934407ad9b7f84fe107905.xAxis%20%3D%20d3.svg.axis%28%29%0A%20%20%20%20%20%20%20%20.scale%28color_map_6b6b0d9710934407ad9b7f84fe107905.x%29%0A%20%20%20%20%20%20%20%20.orient%28%22top%22%29%0A%20%20%20%20%20%20%20%20.tickSize%281%29%0A%20%20%20%20%20%20%20%20.tickValues%28%5B1.0%2C%205.0%2C%209.0%2C%2013.0%2C%2017.0%2C%2021.0%2C%2025.0%5D%29%3B%0A%0A%20%20%20%20color_map_6b6b0d9710934407ad9b7f84fe107905.svg%20%3D%20d3.select%28%22.legend.leaflet-control%22%29.append%28%22svg%22%29%0A%20%20%20%20%20%20%20%20.attr%28%22id%22%2C%20%27legend%27%29%0A%20%20%20%20%20%20%20%20.attr%28%22width%22%2C%20450%29%0A%20%20%20%20%20%20%20%20.attr%28%22height%22%2C%2040%29%3B%0A%0A%20%20%20%20color_map_6b6b0d9710934407ad9b7f84fe107905.g%20%3D%20color_map_6b6b0d9710934407ad9b7f84fe107905.svg.append%28%22g%22%29%0A%20%20%20%20%20%20%20%20.attr%28%22class%22%2C%20%22key%22%29%0A%20%20%20%20%20%20%20%20.attr%28%22transform%22%2C%20%22translate%2825%2C16%29%22%29%3B%0A%0A%20%20%20%20color_map_6b6b0d9710934407ad9b7f84fe107905.g.selectAll%28%22rect%22%29%0A%20%20%20%20%20%20%20%20.data%28color_map_6b6b0d9710934407ad9b7f84fe107905.color.range%28%29.map%28function%28d%2C%20i%29%20%7B%0A%20%20%20%20%20%20%20%20%20%20return%20%7B%0A%20%20%20%20%20%20%20%20%20%20%20%20x0%3A%20i%20%3F%20color_map_6b6b0d9710934407ad9b7f84fe107905.x%28color_map_6b6b0d9710934407ad9b7f84fe107905.color.domain%28%29%5Bi%20-%201%5D%29%20%3A%20color_map_6b6b0d9710934407ad9b7f84fe107905.x.range%28%29%5B0%5D%2C%0A%20%20%20%20%20%20%20%20%20%20%20%20x1%3A%20i%20%3C%20color_map_6b6b0d9710934407ad9b7f84fe107905.color.domain%28%29.length%20%3F%20color_map_6b6b0d9710934407ad9b7f84fe107905.x%28color_map_6b6b0d9710934407ad9b7f84fe107905.color.domain%28%29%5Bi%5D%29%20%3A%20color_map_6b6b0d9710934407ad9b7f84fe107905.x.range%28%29%5B1%5D%2C%0A%20%20%20%20%20%20%20%20%20%20%20%20z%3A%20d%0A%20%20%20%20%20%20%20%20%20%20%7D%3B%0A%20%20%20%20%20%20%20%20%7D%29%29%0A%20%20%20%20%20%20.enter%28%29.append%28%22rect%22%29%0A%20%20%20%20%20%20%20%20.attr%28%22height%22%2C%2010%29%0A%20%20%20%20%20%20%20%20.attr%28%22x%22%2C%20function%28d%29%20%7B%20return%20d.x0%3B%20%7D%29%0A%20%20%20%20%20%20%20%20.attr%28%22width%22%2C%20function%28d%29%20%7B%20return%20d.x1%20-%20d.x0%3B%20%7D%29%0A%20%20%20%20%20%20%20%20.style%28%22fill%22%2C%20function%28d%29%20%7B%20return%20d.z%3B%20%7D%29%3B%0A%0A%20%20%20%20color_map_6b6b0d9710934407ad9b7f84fe107905.g.call%28color_map_6b6b0d9710934407ad9b7f84fe107905.xAxis%29.append%28%22text%22%29%0A%20%20%20%20%20%20%20%20.attr%28%22class%22%2C%20%22caption%22%29%0A%20%20%20%20%20%20%20%20.attr%28%22y%22%2C%2021%29%0A%20%20%20%20%20%20%20%20.text%28%27%27%29%3B%0A%20%20%20%20%0A%20%20%20%20%20%20%20%20%20%20%20%20var%20marker_f976fb2823504eb19ecb3870a13d015a%20%3D%20L.marker%28%0A%20%20%20%20%20%20%20%20%20%20%20%20%20%20%20%20%5B37.5092%2C%20126.967%5D%2C%0A%20%20%20%20%20%20%20%20%20%20%20%20%20%20%20%20%7B%7D%0A%20%20%20%20%20%20%20%20%20%20%20%20%29.addTo%28map_b1377d144ab24c4c8bc402682da763ca%29%3B%0A%20%20%20%20%20%20%20%20%0A%20%20%20%20%0A%20%20%20%20%20%20%20%20%20%20%20%20var%20div_icon_23254250216e429ba3f5401bde21385b%20%3D%20L.divIcon%28%7B%22className%22%3A%20%22empty%22%2C%20%22html%22%3A%20%22%5Cu003cdiv%20style%3D%5C%22font-size%3A%20pt%3B%20font-weight%3Abold%3B%5C%22%5Cu003e%5Cub3d9%5Cuc791%5Cuad6c%5Cu003c/div%5Cu003e%22%2C%20%22iconAnchor%22%3A%20%5B0%2C%200%5D%2C%20%22iconSize%22%3A%20%5B10%2C%206%5D%7D%29%3B%0A%20%20%20%20%20%20%20%20%20%20%20%20marker_f976fb2823504eb19ecb3870a13d015a.setIcon%28div_icon_23254250216e429ba3f5401bde21385b%29%3B%0A%20%20%20%20%20%20%20%20%0A%20%20%20%20%0A%20%20%20%20%20%20%20%20%20%20%20%20var%20marker_b5e4ce3151ee40259ebcd1139d432fd0%20%3D%20L.marker%28%0A%20%20%20%20%20%20%20%20%20%20%20%20%20%20%20%20%5B37.565%2C%20126.999%5D%2C%0A%20%20%20%20%20%20%20%20%20%20%20%20%20%20%20%20%7B%7D%0A%20%20%20%20%20%20%20%20%20%20%20%20%29.addTo%28map_b1377d144ab24c4c8bc402682da763ca%29%3B%0A%20%20%20%20%20%20%20%20%0A%20%20%20%20%0A%20%20%20%20%20%20%20%20%20%20%20%20var%20div_icon_088b77d6e6f14b7aa18d03655011696e%20%3D%20L.divIcon%28%7B%22className%22%3A%20%22empty%22%2C%20%22html%22%3A%20%22%5Cu003cdiv%20style%3D%5C%22font-size%3A%20pt%3B%20font-weight%3Abold%3B%5C%22%5Cu003e%5Cuc911%5Cuad6c%5Cu003c/div%5Cu003e%22%2C%20%22iconAnchor%22%3A%20%5B0%2C%200%5D%2C%20%22iconSize%22%3A%20%5B10%2C%206%5D%7D%29%3B%0A%20%20%20%20%20%20%20%20%20%20%20%20marker_b5e4ce3151ee40259ebcd1139d432fd0.setIcon%28div_icon_088b77d6e6f14b7aa18d03655011696e%29%3B%0A%20%20%20%20%20%20%20%20%0A%20%20%20%20%0A%20%20%20%20%20%20%20%20%20%20%20%20var%20marker_c13f57e7d20e48719888fbcbfdcdd27e%20%3D%20L.marker%28%0A%20%20%20%20%20%20%20%20%20%20%20%20%20%20%20%20%5B37.545%2C%20126.98%5D%2C%0A%20%20%20%20%20%20%20%20%20%20%20%20%20%20%20%20%7B%7D%0A%20%20%20%20%20%20%20%20%20%20%20%20%29.addTo%28map_b1377d144ab24c4c8bc402682da763ca%29%3B%0A%20%20%20%20%20%20%20%20%0A%20%20%20%20%0A%20%20%20%20%20%20%20%20%20%20%20%20var%20div_icon_ffb15f6b683c499fb2dc2c3b7d4733ed%20%3D%20L.divIcon%28%7B%22className%22%3A%20%22empty%22%2C%20%22html%22%3A%20%22%5Cu003cdiv%20style%3D%5C%22font-size%3A%20pt%3B%20font-weight%3Abold%3B%5C%22%5Cu003e%5Cuc6a9%5Cuc0b0%5Cuad6c%5Cu003c/div%5Cu003e%22%2C%20%22iconAnchor%22%3A%20%5B0%2C%200%5D%2C%20%22iconSize%22%3A%20%5B10%2C%206%5D%7D%29%3B%0A%20%20%20%20%20%20%20%20%20%20%20%20marker_c13f57e7d20e48719888fbcbfdcdd27e.setIcon%28div_icon_ffb15f6b683c499fb2dc2c3b7d4733ed%29%3B%0A%20%20%20%20%20%20%20%20%0A%20%20%20%20%0A%20%20%20%20%20%20%20%20%20%20%20%20var%20marker_bff4ff7c6fba4635ab99fd346a26993e%20%3D%20L.marker%28%0A%20%20%20%20%20%20%20%20%20%20%20%20%20%20%20%20%5B37.56%2C%20127.04%5D%2C%0A%20%20%20%20%20%20%20%20%20%20%20%20%20%20%20%20%7B%7D%0A%20%20%20%20%20%20%20%20%20%20%20%20%29.addTo%28map_b1377d144ab24c4c8bc402682da763ca%29%3B%0A%20%20%20%20%20%20%20%20%0A%20%20%20%20%0A%20%20%20%20%20%20%20%20%20%20%20%20var%20div_icon_b5978ff2d20e4927922df79ae3c1b47d%20%3D%20L.divIcon%28%7B%22className%22%3A%20%22empty%22%2C%20%22html%22%3A%20%22%5Cu003cdiv%20style%3D%5C%22font-size%3A%20pt%3B%20font-weight%3Abold%3B%5C%22%5Cu003e%5Cuc131%5Cub3d9%5Cuad6c%5Cu003c/div%5Cu003e%22%2C%20%22iconAnchor%22%3A%20%5B0%2C%200%5D%2C%20%22iconSize%22%3A%20%5B10%2C%206%5D%7D%29%3B%0A%20%20%20%20%20%20%20%20%20%20%20%20marker_bff4ff7c6fba4635ab99fd346a26993e.setIcon%28div_icon_b5978ff2d20e4927922df79ae3c1b47d%29%3B%0A%20%20%20%20%20%20%20%20%0A%20%20%20%20%0A%20%20%20%20%20%20%20%20%20%20%20%20var%20marker_921a28847775442ab28b1d3b86982fe8%20%3D%20L.marker%28%0A%20%20%20%20%20%20%20%20%20%20%20%20%20%20%20%20%5B37.5%2C%20127.0%5D%2C%0A%20%20%20%20%20%20%20%20%20%20%20%20%20%20%20%20%7B%7D%0A%20%20%20%20%20%20%20%20%20%20%20%20%29.addTo%28map_b1377d144ab24c4c8bc402682da763ca%29%3B%0A%20%20%20%20%20%20%20%20%0A%20%20%20%20%0A%20%20%20%20%20%20%20%20%20%20%20%20var%20div_icon_0a895d208ae041e4a8a144baa3998ae5%20%3D%20L.divIcon%28%7B%22className%22%3A%20%22empty%22%2C%20%22html%22%3A%20%22%5Cu003cdiv%20style%3D%5C%22font-size%3A%20pt%3B%20font-weight%3Abold%3B%5C%22%5Cu003e%5Cuc11c%5Cucd08%5Cuad6c%5Cu003c/div%5Cu003e%22%2C%20%22iconAnchor%22%3A%20%5B0%2C%200%5D%2C%20%22iconSize%22%3A%20%5B10%2C%206%5D%7D%29%3B%0A%20%20%20%20%20%20%20%20%20%20%20%20marker_921a28847775442ab28b1d3b86982fe8.setIcon%28div_icon_0a895d208ae041e4a8a144baa3998ae5%29%3B%0A%20%20%20%20%20%20%20%20%0A%20%20%20%20%0A%20%20%20%20%20%20%20%20%20%20%20%20var%20marker_6d9714ea100745e48fd770f0069ef61a%20%3D%20L.marker%28%0A%20%20%20%20%20%20%20%20%20%20%20%20%20%20%20%20%5B37.51%2C%20127.05%5D%2C%0A%20%20%20%20%20%20%20%20%20%20%20%20%20%20%20%20%7B%7D%0A%20%20%20%20%20%20%20%20%20%20%20%20%29.addTo%28map_b1377d144ab24c4c8bc402682da763ca%29%3B%0A%20%20%20%20%20%20%20%20%0A%20%20%20%20%0A%20%20%20%20%20%20%20%20%20%20%20%20var%20div_icon_de60c21b25534ee4811fdd4827c80af1%20%3D%20L.divIcon%28%7B%22className%22%3A%20%22empty%22%2C%20%22html%22%3A%20%22%5Cu003cdiv%20style%3D%5C%22font-size%3A%20pt%3B%20font-weight%3Abold%3B%5C%22%5Cu003e%5Cuac15%5Cub0a8%5Cuad6c%5Cu003c/div%5Cu003e%22%2C%20%22iconAnchor%22%3A%20%5B0%2C%200%5D%2C%20%22iconSize%22%3A%20%5B10%2C%206%5D%7D%29%3B%0A%20%20%20%20%20%20%20%20%20%20%20%20marker_6d9714ea100745e48fd770f0069ef61a.setIcon%28div_icon_de60c21b25534ee4811fdd4827c80af1%29%3B%0A%20%20%20%20%20%20%20%20%0A%20%20%20%20%0A%20%20%20%20%20%20%20%20%20%20%20%20var%20marker_f376c2adacc24eb583ca2d716d228dc8%20%3D%20L.marker%28%0A%20%20%20%20%20%20%20%20%20%20%20%20%20%20%20%20%5B37.51%2C%20127.12%5D%2C%0A%20%20%20%20%20%20%20%20%20%20%20%20%20%20%20%20%7B%7D%0A%20%20%20%20%20%20%20%20%20%20%20%20%29.addTo%28map_b1377d144ab24c4c8bc402682da763ca%29%3B%0A%20%20%20%20%20%20%20%20%0A%20%20%20%20%0A%20%20%20%20%20%20%20%20%20%20%20%20var%20div_icon_ebbf574b8d2641ca9adea829d7fa9af3%20%3D%20L.divIcon%28%7B%22className%22%3A%20%22empty%22%2C%20%22html%22%3A%20%22%5Cu003cdiv%20style%3D%5C%22font-size%3A%20pt%3B%20font-weight%3Abold%3B%5C%22%5Cu003e%5Cuc1a1%5Cud30c%5Cuad6c%5Cu003c/div%5Cu003e%22%2C%20%22iconAnchor%22%3A%20%5B0%2C%200%5D%2C%20%22iconSize%22%3A%20%5B10%2C%206%5D%7D%29%3B%0A%20%20%20%20%20%20%20%20%20%20%20%20marker_f376c2adacc24eb583ca2d716d228dc8.setIcon%28div_icon_ebbf574b8d2641ca9adea829d7fa9af3%29%3B%0A%20%20%20%20%20%20%20%20%0A%20%20%20%20%0A%20%20%20%20%20%20%20%20%20%20%20%20var%20marker_196e936dd59c4655a7be187b26dc5ab7%20%3D%20L.marker%28%0A%20%20%20%20%20%20%20%20%20%20%20%20%20%20%20%20%5B37.56%2C%20127.14%5D%2C%0A%20%20%20%20%20%20%20%20%20%20%20%20%20%20%20%20%7B%7D%0A%20%20%20%20%20%20%20%20%20%20%20%20%29.addTo%28map_b1377d144ab24c4c8bc402682da763ca%29%3B%0A%20%20%20%20%20%20%20%20%0A%20%20%20%20%0A%20%20%20%20%20%20%20%20%20%20%20%20var%20div_icon_32e1696703e74464b7b2c0141acbc48e%20%3D%20L.divIcon%28%7B%22className%22%3A%20%22empty%22%2C%20%22html%22%3A%20%22%5Cu003cdiv%20style%3D%5C%22font-size%3A%20pt%3B%20font-weight%3Abold%3B%5C%22%5Cu003e%5Cuac15%5Cub3d9%5Cuad6c%5Cu003c/div%5Cu003e%22%2C%20%22iconAnchor%22%3A%20%5B0%2C%200%5D%2C%20%22iconSize%22%3A%20%5B10%2C%206%5D%7D%29%3B%0A%20%20%20%20%20%20%20%20%20%20%20%20marker_196e936dd59c4655a7be187b26dc5ab7.setIcon%28div_icon_32e1696703e74464b7b2c0141acbc48e%29%3B%0A%20%20%20%20%20%20%20%20%0A%20%20%20%20%0A%20%20%20%20%20%20%20%20%20%20%20%20var%20marker_10ffc36117b3479c924d8e5b5ab0b770%20%3D%20L.marker%28%0A%20%20%20%20%20%20%20%20%20%20%20%20%20%20%20%20%5B37.56%2C%20127.09%5D%2C%0A%20%20%20%20%20%20%20%20%20%20%20%20%20%20%20%20%7B%7D%0A%20%20%20%20%20%20%20%20%20%20%20%20%29.addTo%28map_b1377d144ab24c4c8bc402682da763ca%29%3B%0A%20%20%20%20%20%20%20%20%0A%20%20%20%20%0A%20%20%20%20%20%20%20%20%20%20%20%20var%20div_icon_3fc010015b25442a83fa1f7e3338016e%20%3D%20L.divIcon%28%7B%22className%22%3A%20%22empty%22%2C%20%22html%22%3A%20%22%5Cu003cdiv%20style%3D%5C%22font-size%3A%20pt%3B%20font-weight%3Abold%3B%5C%22%5Cu003e%5Cuad11%5Cuc9c4%5Cuad6c%5Cu003c/div%5Cu003e%22%2C%20%22iconAnchor%22%3A%20%5B0%2C%200%5D%2C%20%22iconSize%22%3A%20%5B10%2C%206%5D%7D%29%3B%0A%20%20%20%20%20%20%20%20%20%20%20%20marker_10ffc36117b3479c924d8e5b5ab0b770.setIcon%28div_icon_3fc010015b25442a83fa1f7e3338016e%29%3B%0A%20%20%20%20%20%20%20%20%0A%20%20%20%20%0A%20%20%20%20%20%20%20%20%20%20%20%20var%20marker_bdea8b7f30e640349fb4d52f766deaad%20%3D%20L.marker%28%0A%20%20%20%20%20%20%20%20%20%20%20%20%20%20%20%20%5B37.605%2C%20127.09%5D%2C%0A%20%20%20%20%20%20%20%20%20%20%20%20%20%20%20%20%7B%7D%0A%20%20%20%20%20%20%20%20%20%20%20%20%29.addTo%28map_b1377d144ab24c4c8bc402682da763ca%29%3B%0A%20%20%20%20%20%20%20%20%0A%20%20%20%20%0A%20%20%20%20%20%20%20%20%20%20%20%20var%20div_icon_d298cd6fc15a4c77a79eb50e08b8d6c0%20%3D%20L.divIcon%28%7B%22className%22%3A%20%22empty%22%2C%20%22html%22%3A%20%22%5Cu003cdiv%20style%3D%5C%22font-size%3A%20pt%3B%20font-weight%3Abold%3B%5C%22%5Cu003e%5Cuc911%5Cub791%5Cuad6c%5Cu003c/div%5Cu003e%22%2C%20%22iconAnchor%22%3A%20%5B0%2C%200%5D%2C%20%22iconSize%22%3A%20%5B10%2C%206%5D%7D%29%3B%0A%20%20%20%20%20%20%20%20%20%20%20%20marker_bdea8b7f30e640349fb4d52f766deaad.setIcon%28div_icon_d298cd6fc15a4c77a79eb50e08b8d6c0%29%3B%0A%20%20%20%20%20%20%20%20%0A%20%20%20%20%0A%20%20%20%20%20%20%20%20%20%20%20%20var%20marker_628e6a5ee90c4233905e6597f7063b6c%20%3D%20L.marker%28%0A%20%20%20%20%20%20%20%20%20%20%20%20%20%20%20%20%5B37.665%2C%20127.075%5D%2C%0A%20%20%20%20%20%20%20%20%20%20%20%20%20%20%20%20%7B%7D%0A%20%20%20%20%20%20%20%20%20%20%20%20%29.addTo%28map_b1377d144ab24c4c8bc402682da763ca%29%3B%0A%20%20%20%20%20%20%20%20%0A%20%20%20%20%0A%20%20%20%20%20%20%20%20%20%20%20%20var%20div_icon_54ab177459934d6ebc986ae89a04c265%20%3D%20L.divIcon%28%7B%22className%22%3A%20%22empty%22%2C%20%22html%22%3A%20%22%5Cu003cdiv%20style%3D%5C%22font-size%3A%20pt%3B%20font-weight%3Abold%3B%5C%22%5Cu003e%5Cub178%5Cuc6d0%5Cuad6c%5Cu003c/div%5Cu003e%22%2C%20%22iconAnchor%22%3A%20%5B0%2C%200%5D%2C%20%22iconSize%22%3A%20%5B10%2C%206%5D%7D%29%3B%0A%20%20%20%20%20%20%20%20%20%20%20%20marker_628e6a5ee90c4233905e6597f7063b6c.setIcon%28div_icon_54ab177459934d6ebc986ae89a04c265%29%3B%0A%20%20%20%20%20%20%20%20%0A%20%20%20%20%0A%20%20%20%20%20%20%20%20%20%20%20%20var%20marker_fd3abb45b8d04e1ebfa3f0e7b070c4f4%20%3D%20L.marker%28%0A%20%20%20%20%20%20%20%20%20%20%20%20%20%20%20%20%5B37.675%2C%20127.033%5D%2C%0A%20%20%20%20%20%20%20%20%20%20%20%20%20%20%20%20%7B%7D%0A%20%20%20%20%20%20%20%20%20%20%20%20%29.addTo%28map_b1377d144ab24c4c8bc402682da763ca%29%3B%0A%20%20%20%20%20%20%20%20%0A%20%20%20%20%0A%20%20%20%20%20%20%20%20%20%20%20%20var%20div_icon_a0054d39bc64411598b89239c8230140%20%3D%20L.divIcon%28%7B%22className%22%3A%20%22empty%22%2C%20%22html%22%3A%20%22%5Cu003cdiv%20style%3D%5C%22font-size%3A%20pt%3B%20font-weight%3Abold%3B%5C%22%5Cu003e%5Cub3c4%5Cubd09%5Cuad6c%5Cu003c/div%5Cu003e%22%2C%20%22iconAnchor%22%3A%20%5B0%2C%200%5D%2C%20%22iconSize%22%3A%20%5B10%2C%206%5D%7D%29%3B%0A%20%20%20%20%20%20%20%20%20%20%20%20marker_fd3abb45b8d04e1ebfa3f0e7b070c4f4.setIcon%28div_icon_a0054d39bc64411598b89239c8230140%29%3B%0A%20%20%20%20%20%20%20%20%0A%20%20%20%20%0A%20%20%20%20%20%20%20%20%20%20%20%20var%20marker_b30e41defeef459b9f9d265bf2d3214c%20%3D%20L.marker%28%0A%20%20%20%20%20%20%20%20%20%20%20%20%20%20%20%20%5B37.665%2C%20127.0%5D%2C%0A%20%20%20%20%20%20%20%20%20%20%20%20%20%20%20%20%7B%7D%0A%20%20%20%20%20%20%20%20%20%20%20%20%29.addTo%28map_b1377d144ab24c4c8bc402682da763ca%29%3B%0A%20%20%20%20%20%20%20%20%0A%20%20%20%20%0A%20%20%20%20%20%20%20%20%20%20%20%20var%20div_icon_c47a240427044152a0e60e8cee4f5991%20%3D%20L.divIcon%28%7B%22className%22%3A%20%22empty%22%2C%20%22html%22%3A%20%22%5Cu003cdiv%20style%3D%5C%22font-size%3A%20pt%3B%20font-weight%3Abold%3B%5C%22%5Cu003e%5Cuac15%5Cubd81%5Cuad6c%5Cu003c/div%5Cu003e%22%2C%20%22iconAnchor%22%3A%20%5B0%2C%200%5D%2C%20%22iconSize%22%3A%20%5B10%2C%206%5D%7D%29%3B%0A%20%20%20%20%20%20%20%20%20%20%20%20marker_b30e41defeef459b9f9d265bf2d3214c.setIcon%28div_icon_c47a240427044152a0e60e8cee4f5991%29%3B%0A%20%20%20%20%20%20%20%20%0A%20%20%20%20%0A%20%20%20%20%20%20%20%20%20%20%20%20var%20marker_2a0c263427d9406db33e52f2b6ce71f8%20%3D%20L.marker%28%0A%20%20%20%20%20%20%20%20%20%20%20%20%20%20%20%20%5B37.61%2C%20127.02%5D%2C%0A%20%20%20%20%20%20%20%20%20%20%20%20%20%20%20%20%7B%7D%0A%20%20%20%20%20%20%20%20%20%20%20%20%29.addTo%28map_b1377d144ab24c4c8bc402682da763ca%29%3B%0A%20%20%20%20%20%20%20%20%0A%20%20%20%20%0A%20%20%20%20%20%20%20%20%20%20%20%20var%20div_icon_fe27ce949717437ca4f08b3271f56501%20%3D%20L.divIcon%28%7B%22className%22%3A%20%22empty%22%2C%20%22html%22%3A%20%22%5Cu003cdiv%20style%3D%5C%22font-size%3A%20pt%3B%20font-weight%3Abold%3B%5C%22%5Cu003e%5Cuc131%5Cubd81%5Cuad6c%5Cu003c/div%5Cu003e%22%2C%20%22iconAnchor%22%3A%20%5B0%2C%200%5D%2C%20%22iconSize%22%3A%20%5B10%2C%206%5D%7D%29%3B%0A%20%20%20%20%20%20%20%20%20%20%20%20marker_2a0c263427d9406db33e52f2b6ce71f8.setIcon%28div_icon_fe27ce949717437ca4f08b3271f56501%29%3B%0A%20%20%20%20%20%20%20%20%0A%20%20%20%20%0A%20%20%20%20%20%20%20%20%20%20%20%20var%20marker_2cb967fc3a6d4ff1a1e6a540759256ac%20%3D%20L.marker%28%0A%20%20%20%20%20%20%20%20%20%20%20%20%20%20%20%20%5B37.599%2C%20127.06%5D%2C%0A%20%20%20%20%20%20%20%20%20%20%20%20%20%20%20%20%7B%7D%0A%20%20%20%20%20%20%20%20%20%20%20%20%29.addTo%28map_b1377d144ab24c4c8bc402682da763ca%29%3B%0A%20%20%20%20%20%20%20%20%0A%20%20%20%20%0A%20%20%20%20%20%20%20%20%20%20%20%20var%20div_icon_9e884715ee3d419c991f5bcdee4e6f0e%20%3D%20L.divIcon%28%7B%22className%22%3A%20%22empty%22%2C%20%22html%22%3A%20%22%5Cu003cdiv%20style%3D%5C%22font-size%3A%20pt%3B%20font-weight%3Abold%3B%5C%22%5Cu003e%5Cub3d9%5Cub300%5Cubb38%5Cuad6c%5Cu003c/div%5Cu003e%22%2C%20%22iconAnchor%22%3A%20%5B0%2C%200%5D%2C%20%22iconSize%22%3A%20%5B10%2C%206%5D%7D%29%3B%0A%20%20%20%20%20%20%20%20%20%20%20%20marker_2cb967fc3a6d4ff1a1e6a540759256ac.setIcon%28div_icon_9e884715ee3d419c991f5bcdee4e6f0e%29%3B%0A%20%20%20%20%20%20%20%20%0A%20%20%20%20%0A%20%20%20%20%20%20%20%20%20%20%20%20var%20marker_6a4c6063cd7845429f6587ee688ec618%20%3D%20L.marker%28%0A%20%20%20%20%20%20%20%20%20%20%20%20%20%20%20%20%5B37.61%2C%20126.97%5D%2C%0A%20%20%20%20%20%20%20%20%20%20%20%20%20%20%20%20%7B%7D%0A%20%20%20%20%20%20%20%20%20%20%20%20%29.addTo%28map_b1377d144ab24c4c8bc402682da763ca%29%3B%0A%20%20%20%20%20%20%20%20%0A%20%20%20%20%0A%20%20%20%20%20%20%20%20%20%20%20%20var%20div_icon_19049663e9de4fc792057f8dc6193dd9%20%3D%20L.divIcon%28%7B%22className%22%3A%20%22empty%22%2C%20%22html%22%3A%20%22%5Cu003cdiv%20style%3D%5C%22font-size%3A%20pt%3B%20font-weight%3Abold%3B%5C%22%5Cu003e%5Cuc885%5Cub85c%5Cuad6c%5Cu003c/div%5Cu003e%22%2C%20%22iconAnchor%22%3A%20%5B0%2C%200%5D%2C%20%22iconSize%22%3A%20%5B10%2C%206%5D%7D%29%3B%0A%20%20%20%20%20%20%20%20%20%20%20%20marker_6a4c6063cd7845429f6587ee688ec618.setIcon%28div_icon_19049663e9de4fc792057f8dc6193dd9%29%3B%0A%20%20%20%20%20%20%20%20%0A%20%20%20%20%0A%20%20%20%20%20%20%20%20%20%20%20%20var%20marker_a1148abbc7784b0b9904cb15871a90ce%20%3D%20L.marker%28%0A%20%20%20%20%20%20%20%20%20%20%20%20%20%20%20%20%5B37.63%2C%20126.93%5D%2C%0A%20%20%20%20%20%20%20%20%20%20%20%20%20%20%20%20%7B%7D%0A%20%20%20%20%20%20%20%20%20%20%20%20%29.addTo%28map_b1377d144ab24c4c8bc402682da763ca%29%3B%0A%20%20%20%20%20%20%20%20%0A%20%20%20%20%0A%20%20%20%20%20%20%20%20%20%20%20%20var%20div_icon_a39d6dabff4e4a53bd9aa20dd2b7679e%20%3D%20L.divIcon%28%7B%22className%22%3A%20%22empty%22%2C%20%22html%22%3A%20%22%5Cu003cdiv%20style%3D%5C%22font-size%3A%20pt%3B%20font-weight%3Abold%3B%5C%22%5Cu003e%5Cuc740%5Cud3c9%5Cuad6c%5Cu003c/div%5Cu003e%22%2C%20%22iconAnchor%22%3A%20%5B0%2C%200%5D%2C%20%22iconSize%22%3A%20%5B10%2C%206%5D%7D%29%3B%0A%20%20%20%20%20%20%20%20%20%20%20%20marker_a1148abbc7784b0b9904cb15871a90ce.setIcon%28div_icon_a39d6dabff4e4a53bd9aa20dd2b7679e%29%3B%0A%20%20%20%20%20%20%20%20%0A%20%20%20%20%0A%20%20%20%20%20%20%20%20%20%20%20%20var%20marker_f032973ad23c42f2ab508ea92393bf89%20%3D%20L.marker%28%0A%20%20%20%20%20%20%20%20%20%20%20%20%20%20%20%20%5B37.593%2C%20126.94%5D%2C%0A%20%20%20%20%20%20%20%20%20%20%20%20%20%20%20%20%7B%7D%0A%20%20%20%20%20%20%20%20%20%20%20%20%29.addTo%28map_b1377d144ab24c4c8bc402682da763ca%29%3B%0A%20%20%20%20%20%20%20%20%0A%20%20%20%20%0A%20%20%20%20%20%20%20%20%20%20%20%20var%20div_icon_cb519daa3d4e4ff48e4cbbfb0acba245%20%3D%20L.divIcon%28%7B%22className%22%3A%20%22empty%22%2C%20%22html%22%3A%20%22%5Cu003cdiv%20style%3D%5C%22font-size%3A%20pt%3B%20font-weight%3Abold%3B%5C%22%5Cu003e%5Cuc11c%5Cub300%5Cubb38%5Cuad6c%5Cu003c/div%5Cu003e%22%2C%20%22iconAnchor%22%3A%20%5B0%2C%200%5D%2C%20%22iconSize%22%3A%20%5B10%2C%206%5D%7D%29%3B%0A%20%20%20%20%20%20%20%20%20%20%20%20marker_f032973ad23c42f2ab508ea92393bf89.setIcon%28div_icon_cb519daa3d4e4ff48e4cbbfb0acba245%29%3B%0A%20%20%20%20%20%20%20%20%0A%20%20%20%20%0A%20%20%20%20%20%20%20%20%20%20%20%20var%20marker_8c815de8e3424f91860ecb5006cabc02%20%3D%20L.marker%28%0A%20%20%20%20%20%20%20%20%20%20%20%20%20%20%20%20%5B37.568%2C%20126.91%5D%2C%0A%20%20%20%20%20%20%20%20%20%20%20%20%20%20%20%20%7B%7D%0A%20%20%20%20%20%20%20%20%20%20%20%20%29.addTo%28map_b1377d144ab24c4c8bc402682da763ca%29%3B%0A%20%20%20%20%20%20%20%20%0A%20%20%20%20%0A%20%20%20%20%20%20%20%20%20%20%20%20var%20div_icon_34d43c0e55cc49dfba912b54400c1ac6%20%3D%20L.divIcon%28%7B%22className%22%3A%20%22empty%22%2C%20%22html%22%3A%20%22%5Cu003cdiv%20style%3D%5C%22font-size%3A%20pt%3B%20font-weight%3Abold%3B%5C%22%5Cu003e%5Cub9c8%5Cud3ec%5Cuad6c%5Cu003c/div%5Cu003e%22%2C%20%22iconAnchor%22%3A%20%5B0%2C%200%5D%2C%20%22iconSize%22%3A%20%5B10%2C%206%5D%7D%29%3B%0A%20%20%20%20%20%20%20%20%20%20%20%20marker_8c815de8e3424f91860ecb5006cabc02.setIcon%28div_icon_34d43c0e55cc49dfba912b54400c1ac6%29%3B%0A%20%20%20%20%20%20%20%20%0A%20%20%20%20%0A%20%20%20%20%20%20%20%20%20%20%20%20var%20marker_5826aacded0544d5a829edd5da799982%20%3D%20L.marker%28%0A%20%20%20%20%20%20%20%20%20%20%20%20%20%20%20%20%5B37.57%2C%20126.83%5D%2C%0A%20%20%20%20%20%20%20%20%20%20%20%20%20%20%20%20%7B%7D%0A%20%20%20%20%20%20%20%20%20%20%20%20%29.addTo%28map_b1377d144ab24c4c8bc402682da763ca%29%3B%0A%20%20%20%20%20%20%20%20%0A%20%20%20%20%0A%20%20%20%20%20%20%20%20%20%20%20%20var%20div_icon_7d99842f120e4afcb0c1ecc0219a304e%20%3D%20L.divIcon%28%7B%22className%22%3A%20%22empty%22%2C%20%22html%22%3A%20%22%5Cu003cdiv%20style%3D%5C%22font-size%3A%20pt%3B%20font-weight%3Abold%3B%5C%22%5Cu003e%5Cuac15%5Cuc11c%5Cuad6c%5Cu003c/div%5Cu003e%22%2C%20%22iconAnchor%22%3A%20%5B0%2C%200%5D%2C%20%22iconSize%22%3A%20%5B10%2C%206%5D%7D%29%3B%0A%20%20%20%20%20%20%20%20%20%20%20%20marker_5826aacded0544d5a829edd5da799982.setIcon%28div_icon_7d99842f120e4afcb0c1ecc0219a304e%29%3B%0A%20%20%20%20%20%20%20%20%0A%20%20%20%20%0A%20%20%20%20%20%20%20%20%20%20%20%20var%20marker_6ddd30e59a214704ad4f85ecbd0b35d5%20%3D%20L.marker%28%0A%20%20%20%20%20%20%20%20%20%20%20%20%20%20%20%20%5B37.543%2C%20126.872%5D%2C%0A%20%20%20%20%20%20%20%20%20%20%20%20%20%20%20%20%7B%7D%0A%20%20%20%20%20%20%20%20%20%20%20%20%29.addTo%28map_b1377d144ab24c4c8bc402682da763ca%29%3B%0A%20%20%20%20%20%20%20%20%0A%20%20%20%20%0A%20%20%20%20%20%20%20%20%20%20%20%20var%20div_icon_f1702b5f881c4432ad7c7eee89d2ad1b%20%3D%20L.divIcon%28%7B%22className%22%3A%20%22empty%22%2C%20%22html%22%3A%20%22%5Cu003cdiv%20style%3D%5C%22font-size%3A%20pt%3B%20font-weight%3Abold%3B%5C%22%5Cu003e%5Cuc591%5Cucc9c%5Cuad6c%5Cu003c/div%5Cu003e%22%2C%20%22iconAnchor%22%3A%20%5B0%2C%200%5D%2C%20%22iconSize%22%3A%20%5B10%2C%206%5D%7D%29%3B%0A%20%20%20%20%20%20%20%20%20%20%20%20marker_6ddd30e59a214704ad4f85ecbd0b35d5.setIcon%28div_icon_f1702b5f881c4432ad7c7eee89d2ad1b%29%3B%0A%20%20%20%20%20%20%20%20%0A%20%20%20%20%0A%20%20%20%20%20%20%20%20%20%20%20%20var%20marker_f9031028ef1746bba064c40fe7db5b42%20%3D%20L.marker%28%0A%20%20%20%20%20%20%20%20%20%20%20%20%20%20%20%20%5B37.535%2C%20126.905%5D%2C%0A%20%20%20%20%20%20%20%20%20%20%20%20%20%20%20%20%7B%7D%0A%20%20%20%20%20%20%20%20%20%20%20%20%29.addTo%28map_b1377d144ab24c4c8bc402682da763ca%29%3B%0A%20%20%20%20%20%20%20%20%0A%20%20%20%20%0A%20%20%20%20%20%20%20%20%20%20%20%20var%20div_icon_4dc0ca27481845f5a2d299b493e0f745%20%3D%20L.divIcon%28%7B%22className%22%3A%20%22empty%22%2C%20%22html%22%3A%20%22%5Cu003cdiv%20style%3D%5C%22font-size%3A%20pt%3B%20font-weight%3Abold%3B%5C%22%5Cu003e%5Cuc601%5Cub4f1%5Cud3ec%5Cuad6c%5Cu003c/div%5Cu003e%22%2C%20%22iconAnchor%22%3A%20%5B0%2C%200%5D%2C%20%22iconSize%22%3A%20%5B10%2C%206%5D%7D%29%3B%0A%20%20%20%20%20%20%20%20%20%20%20%20marker_f9031028ef1746bba064c40fe7db5b42.setIcon%28div_icon_4dc0ca27481845f5a2d299b493e0f745%29%3B%0A%20%20%20%20%20%20%20%20%0A%20%20%20%20%0A%20%20%20%20%20%20%20%20%20%20%20%20var%20marker_3002e1f1ef2a429f952a9014dfdf1903%20%3D%20L.marker%28%0A%20%20%20%20%20%20%20%20%20%20%20%20%20%20%20%20%5B37.508%2C%20126.858%5D%2C%0A%20%20%20%20%20%20%20%20%20%20%20%20%20%20%20%20%7B%7D%0A%20%20%20%20%20%20%20%20%20%20%20%20%29.addTo%28map_b1377d144ab24c4c8bc402682da763ca%29%3B%0A%20%20%20%20%20%20%20%20%0A%20%20%20%20%0A%20%20%20%20%20%20%20%20%20%20%20%20var%20div_icon_02f22c4b069446c1b956c84d90ba8a9d%20%3D%20L.divIcon%28%7B%22className%22%3A%20%22empty%22%2C%20%22html%22%3A%20%22%5Cu003cdiv%20style%3D%5C%22font-size%3A%20pt%3B%20font-weight%3Abold%3B%5C%22%5Cu003e%5Cuad6c%5Cub85c%5Cuad6c%5Cu003c/div%5Cu003e%22%2C%20%22iconAnchor%22%3A%20%5B0%2C%200%5D%2C%20%22iconSize%22%3A%20%5B10%2C%206%5D%7D%29%3B%0A%20%20%20%20%20%20%20%20%20%20%20%20marker_3002e1f1ef2a429f952a9014dfdf1903.setIcon%28div_icon_02f22c4b069446c1b956c84d90ba8a9d%29%3B%0A%20%20%20%20%20%20%20%20%0A%20%20%20%20%0A%20%20%20%20%20%20%20%20%20%20%20%20var%20marker_5fd3123e80f547798d7c6f0b00d08097%20%3D%20L.marker%28%0A%20%20%20%20%20%20%20%20%20%20%20%20%20%20%20%20%5B37.475%2C%20126.895%5D%2C%0A%20%20%20%20%20%20%20%20%20%20%20%20%20%20%20%20%7B%7D%0A%20%20%20%20%20%20%20%20%20%20%20%20%29.addTo%28map_b1377d144ab24c4c8bc402682da763ca%29%3B%0A%20%20%20%20%20%20%20%20%0A%20%20%20%20%0A%20%20%20%20%20%20%20%20%20%20%20%20var%20div_icon_f3d106f7ab0541deb0c1ca37ea703668%20%3D%20L.divIcon%28%7B%22className%22%3A%20%22empty%22%2C%20%22html%22%3A%20%22%5Cu003cdiv%20style%3D%5C%22font-size%3A%20pt%3B%20font-weight%3Abold%3B%5C%22%5Cu003e%5Cuae08%5Cucc9c%5Cuad6c%5Cu003c/div%5Cu003e%22%2C%20%22iconAnchor%22%3A%20%5B0%2C%200%5D%2C%20%22iconSize%22%3A%20%5B10%2C%206%5D%7D%29%3B%0A%20%20%20%20%20%20%20%20%20%20%20%20marker_5fd3123e80f547798d7c6f0b00d08097.setIcon%28div_icon_f3d106f7ab0541deb0c1ca37ea703668%29%3B%0A%20%20%20%20%20%20%20%20%0A%20%20%20%20%0A%20%20%20%20%20%20%20%20%20%20%20%20var%20marker_811f5d254e434dd48574bebb952a6b20%20%3D%20L.marker%28%0A%20%20%20%20%20%20%20%20%20%20%20%20%20%20%20%20%5B37.48%2C%20126.94%5D%2C%0A%20%20%20%20%20%20%20%20%20%20%20%20%20%20%20%20%7B%7D%0A%20%20%20%20%20%20%20%20%20%20%20%20%29.addTo%28map_b1377d144ab24c4c8bc402682da763ca%29%3B%0A%20%20%20%20%20%20%20%20%0A%20%20%20%20%0A%20%20%20%20%20%20%20%20%20%20%20%20var%20div_icon_c8060d5a94aa47358694990988f05dc7%20%3D%20L.divIcon%28%7B%22className%22%3A%20%22empty%22%2C%20%22html%22%3A%20%22%5Cu003cdiv%20style%3D%5C%22font-size%3A%20pt%3B%20font-weight%3Abold%3B%5C%22%5Cu003e%5Cuad00%5Cuc545%5Cuad6c%5Cu003c/div%5Cu003e%22%2C%20%22iconAnchor%22%3A%20%5B0%2C%200%5D%2C%20%22iconSize%22%3A%20%5B10%2C%206%5D%7D%29%3B%0A%20%20%20%20%20%20%20%20%20%20%20%20marker_811f5d254e434dd48574bebb952a6b20.setIcon%28div_icon_c8060d5a94aa47358694990988f05dc7%29%3B%0A%20%20%20%20%20%20%20%20%0A%3C/script%3E onload=\"this.contentDocument.open();this.contentDocument.write(    decodeURIComponent(this.getAttribute('data-html')));this.contentDocument.close();\" allowfullscreen webkitallowfullscreen mozallowfullscreen></iframe></div></div>"
      ],
      "text/plain": [
       "<folium.folium.Map at 0x2c5ea066fa0>"
      ]
     },
     "execution_count": 36,
     "metadata": {},
     "output_type": "execute_result"
    }
   ],
   "source": [
    "seoul_map"
   ]
  },
  {
   "cell_type": "code",
   "execution_count": 37,
   "id": "4acca909",
   "metadata": {},
   "outputs": [],
   "source": [
    "seoul_map.save(\"population.html\")"
   ]
  },
  {
   "cell_type": "code",
   "execution_count": 103,
   "id": "188588e0",
   "metadata": {},
   "outputs": [
    {
     "data": {
      "text/html": [
       "<div>\n",
       "<style scoped>\n",
       "    .dataframe tbody tr th:only-of-type {\n",
       "        vertical-align: middle;\n",
       "    }\n",
       "\n",
       "    .dataframe tbody tr th {\n",
       "        vertical-align: top;\n",
       "    }\n",
       "\n",
       "    .dataframe thead th {\n",
       "        text-align: right;\n",
       "    }\n",
       "</style>\n",
       "<table border=\"1\" class=\"dataframe\">\n",
       "  <thead>\n",
       "    <tr style=\"text-align: right;\">\n",
       "      <th></th>\n",
       "      <th>Unnamed: 0</th>\n",
       "      <th>지역구</th>\n",
       "      <th>년도</th>\n",
       "      <th>경찰관수</th>\n",
       "      <th>치안시설총수</th>\n",
       "      <th>발생합계</th>\n",
       "      <th>살인발생</th>\n",
       "      <th>강도발생</th>\n",
       "      <th>강간강제추행발생</th>\n",
       "      <th>절도발생</th>\n",
       "      <th>...</th>\n",
       "      <th>강간강제추행검거</th>\n",
       "      <th>절도검거</th>\n",
       "      <th>폭력검거</th>\n",
       "      <th>검거율/발생율</th>\n",
       "      <th>강도검거율</th>\n",
       "      <th>절도검거율</th>\n",
       "      <th>폭력검거율</th>\n",
       "      <th>살인검거율</th>\n",
       "      <th>강간강제추행검거율</th>\n",
       "      <th>랭크</th>\n",
       "    </tr>\n",
       "  </thead>\n",
       "  <tbody>\n",
       "    <tr>\n",
       "      <th>0</th>\n",
       "      <td>0</td>\n",
       "      <td>강남구</td>\n",
       "      <td>2018.0</td>\n",
       "      <td>1999.000000</td>\n",
       "      <td>29.333333</td>\n",
       "      <td>7512.333333</td>\n",
       "      <td>7.333333</td>\n",
       "      <td>13.000000</td>\n",
       "      <td>624.333333</td>\n",
       "      <td>3034.666667</td>\n",
       "      <td>...</td>\n",
       "      <td>527.000000</td>\n",
       "      <td>1346.333333</td>\n",
       "      <td>3301.000000</td>\n",
       "      <td>0.691618</td>\n",
       "      <td>1.038095</td>\n",
       "      <td>0.443703</td>\n",
       "      <td>0.861245</td>\n",
       "      <td>0.966667</td>\n",
       "      <td>0.844215</td>\n",
       "      <td>8</td>\n",
       "    </tr>\n",
       "    <tr>\n",
       "      <th>1</th>\n",
       "      <td>1</td>\n",
       "      <td>강동구</td>\n",
       "      <td>2018.0</td>\n",
       "      <td>1012.000000</td>\n",
       "      <td>21.333333</td>\n",
       "      <td>4064.666667</td>\n",
       "      <td>4.666667</td>\n",
       "      <td>10.666667</td>\n",
       "      <td>174.000000</td>\n",
       "      <td>1603.333333</td>\n",
       "      <td>...</td>\n",
       "      <td>155.666667</td>\n",
       "      <td>873.666667</td>\n",
       "      <td>1951.333333</td>\n",
       "      <td>0.736464</td>\n",
       "      <td>1.044444</td>\n",
       "      <td>0.543849</td>\n",
       "      <td>0.858642</td>\n",
       "      <td>1.011111</td>\n",
       "      <td>0.894949</td>\n",
       "      <td>15</td>\n",
       "    </tr>\n",
       "    <tr>\n",
       "      <th>2</th>\n",
       "      <td>2</td>\n",
       "      <td>강북구</td>\n",
       "      <td>2018.0</td>\n",
       "      <td>893.666667</td>\n",
       "      <td>18.666667</td>\n",
       "      <td>3556.000000</td>\n",
       "      <td>7.333333</td>\n",
       "      <td>5.666667</td>\n",
       "      <td>190.666667</td>\n",
       "      <td>1118.333333</td>\n",
       "      <td>...</td>\n",
       "      <td>144.333333</td>\n",
       "      <td>634.000000</td>\n",
       "      <td>2073.666667</td>\n",
       "      <td>0.806010</td>\n",
       "      <td>0.793651</td>\n",
       "      <td>0.569592</td>\n",
       "      <td>0.929038</td>\n",
       "      <td>0.916667</td>\n",
       "      <td>0.759175</td>\n",
       "      <td>24</td>\n",
       "    </tr>\n",
       "    <tr>\n",
       "      <th>3</th>\n",
       "      <td>3</td>\n",
       "      <td>강서구</td>\n",
       "      <td>2018.0</td>\n",
       "      <td>1242.666667</td>\n",
       "      <td>16.000000</td>\n",
       "      <td>4896.000000</td>\n",
       "      <td>10.000000</td>\n",
       "      <td>4.333333</td>\n",
       "      <td>297.000000</td>\n",
       "      <td>1887.333333</td>\n",
       "      <td>...</td>\n",
       "      <td>252.000000</td>\n",
       "      <td>1057.333333</td>\n",
       "      <td>2323.000000</td>\n",
       "      <td>0.744565</td>\n",
       "      <td>1.111111</td>\n",
       "      <td>0.561495</td>\n",
       "      <td>0.860778</td>\n",
       "      <td>0.981061</td>\n",
       "      <td>0.851667</td>\n",
       "      <td>17</td>\n",
       "    </tr>\n",
       "    <tr>\n",
       "      <th>4</th>\n",
       "      <td>4</td>\n",
       "      <td>관악구</td>\n",
       "      <td>2018.0</td>\n",
       "      <td>1194.000000</td>\n",
       "      <td>25.333333</td>\n",
       "      <td>5293.000000</td>\n",
       "      <td>10.000000</td>\n",
       "      <td>9.000000</td>\n",
       "      <td>379.666667</td>\n",
       "      <td>2071.333333</td>\n",
       "      <td>...</td>\n",
       "      <td>321.000000</td>\n",
       "      <td>1087.333333</td>\n",
       "      <td>2445.666667</td>\n",
       "      <td>0.731255</td>\n",
       "      <td>1.052381</td>\n",
       "      <td>0.526545</td>\n",
       "      <td>0.867577</td>\n",
       "      <td>0.881410</td>\n",
       "      <td>0.846599</td>\n",
       "      <td>14</td>\n",
       "    </tr>\n",
       "    <tr>\n",
       "      <th>5</th>\n",
       "      <td>5</td>\n",
       "      <td>광진구</td>\n",
       "      <td>2018.0</td>\n",
       "      <td>952.333333</td>\n",
       "      <td>16.000000</td>\n",
       "      <td>4190.666667</td>\n",
       "      <td>5.666667</td>\n",
       "      <td>7.000000</td>\n",
       "      <td>254.333333</td>\n",
       "      <td>1954.666667</td>\n",
       "      <td>...</td>\n",
       "      <td>201.666667</td>\n",
       "      <td>1050.000000</td>\n",
       "      <td>1703.333333</td>\n",
       "      <td>0.707459</td>\n",
       "      <td>0.649573</td>\n",
       "      <td>0.538107</td>\n",
       "      <td>0.864138</td>\n",
       "      <td>0.932540</td>\n",
       "      <td>0.793549</td>\n",
       "      <td>11</td>\n",
       "    </tr>\n",
       "    <tr>\n",
       "      <th>6</th>\n",
       "      <td>6</td>\n",
       "      <td>구로구</td>\n",
       "      <td>2018.0</td>\n",
       "      <td>1007.000000</td>\n",
       "      <td>21.333333</td>\n",
       "      <td>4804.000000</td>\n",
       "      <td>8.333333</td>\n",
       "      <td>6.666667</td>\n",
       "      <td>268.000000</td>\n",
       "      <td>1786.000000</td>\n",
       "      <td>...</td>\n",
       "      <td>175.666667</td>\n",
       "      <td>873.666667</td>\n",
       "      <td>2281.666667</td>\n",
       "      <td>0.696454</td>\n",
       "      <td>1.027778</td>\n",
       "      <td>0.488593</td>\n",
       "      <td>0.834489</td>\n",
       "      <td>1.014286</td>\n",
       "      <td>0.668639</td>\n",
       "      <td>9</td>\n",
       "    </tr>\n",
       "    <tr>\n",
       "      <th>7</th>\n",
       "      <td>7</td>\n",
       "      <td>금천구</td>\n",
       "      <td>2018.0</td>\n",
       "      <td>771.000000</td>\n",
       "      <td>16.000000</td>\n",
       "      <td>3221.000000</td>\n",
       "      <td>5.666667</td>\n",
       "      <td>7.333333</td>\n",
       "      <td>197.666667</td>\n",
       "      <td>1155.333333</td>\n",
       "      <td>...</td>\n",
       "      <td>174.333333</td>\n",
       "      <td>644.666667</td>\n",
       "      <td>1663.666667</td>\n",
       "      <td>0.773957</td>\n",
       "      <td>0.819048</td>\n",
       "      <td>0.558161</td>\n",
       "      <td>0.896767</td>\n",
       "      <td>1.000000</td>\n",
       "      <td>0.877288</td>\n",
       "      <td>21</td>\n",
       "    </tr>\n",
       "    <tr>\n",
       "      <th>8</th>\n",
       "      <td>8</td>\n",
       "      <td>노원구</td>\n",
       "      <td>2018.0</td>\n",
       "      <td>1087.333333</td>\n",
       "      <td>23.333333</td>\n",
       "      <td>4123.000000</td>\n",
       "      <td>4.333333</td>\n",
       "      <td>5.666667</td>\n",
       "      <td>186.000000</td>\n",
       "      <td>1486.000000</td>\n",
       "      <td>...</td>\n",
       "      <td>162.000000</td>\n",
       "      <td>674.333333</td>\n",
       "      <td>2066.666667</td>\n",
       "      <td>0.705895</td>\n",
       "      <td>0.925926</td>\n",
       "      <td>0.452732</td>\n",
       "      <td>0.846355</td>\n",
       "      <td>0.933333</td>\n",
       "      <td>0.870520</td>\n",
       "      <td>10</td>\n",
       "    </tr>\n",
       "    <tr>\n",
       "      <th>9</th>\n",
       "      <td>9</td>\n",
       "      <td>도봉구</td>\n",
       "      <td>2018.0</td>\n",
       "      <td>754.333333</td>\n",
       "      <td>12.000000</td>\n",
       "      <td>2119.333333</td>\n",
       "      <td>1.000000</td>\n",
       "      <td>4.333333</td>\n",
       "      <td>102.333333</td>\n",
       "      <td>734.666667</td>\n",
       "      <td>...</td>\n",
       "      <td>105.000000</td>\n",
       "      <td>414.000000</td>\n",
       "      <td>1084.666667</td>\n",
       "      <td>0.760371</td>\n",
       "      <td>0.866667</td>\n",
       "      <td>0.569786</td>\n",
       "      <td>0.849588</td>\n",
       "      <td>1.000000</td>\n",
       "      <td>1.021130</td>\n",
       "      <td>20</td>\n",
       "    </tr>\n",
       "    <tr>\n",
       "      <th>10</th>\n",
       "      <td>10</td>\n",
       "      <td>동대문구</td>\n",
       "      <td>2018.0</td>\n",
       "      <td>1097.333333</td>\n",
       "      <td>26.666667</td>\n",
       "      <td>3782.333333</td>\n",
       "      <td>6.333333</td>\n",
       "      <td>6.000000</td>\n",
       "      <td>159.333333</td>\n",
       "      <td>1508.333333</td>\n",
       "      <td>...</td>\n",
       "      <td>134.666667</td>\n",
       "      <td>924.666667</td>\n",
       "      <td>1948.666667</td>\n",
       "      <td>0.797814</td>\n",
       "      <td>1.122222</td>\n",
       "      <td>0.613427</td>\n",
       "      <td>0.926811</td>\n",
       "      <td>0.969697</td>\n",
       "      <td>0.842212</td>\n",
       "      <td>22</td>\n",
       "    </tr>\n",
       "    <tr>\n",
       "      <th>11</th>\n",
       "      <td>11</td>\n",
       "      <td>동작구</td>\n",
       "      <td>2018.0</td>\n",
       "      <td>898.666667</td>\n",
       "      <td>22.666667</td>\n",
       "      <td>3276.666667</td>\n",
       "      <td>2.666667</td>\n",
       "      <td>5.000000</td>\n",
       "      <td>311.666667</td>\n",
       "      <td>1235.000000</td>\n",
       "      <td>...</td>\n",
       "      <td>145.666667</td>\n",
       "      <td>568.000000</td>\n",
       "      <td>1454.333333</td>\n",
       "      <td>0.664352</td>\n",
       "      <td>1.095238</td>\n",
       "      <td>0.460629</td>\n",
       "      <td>0.844778</td>\n",
       "      <td>0.833333</td>\n",
       "      <td>0.469946</td>\n",
       "      <td>1</td>\n",
       "    </tr>\n",
       "    <tr>\n",
       "      <th>12</th>\n",
       "      <td>12</td>\n",
       "      <td>마포구</td>\n",
       "      <td>2018.0</td>\n",
       "      <td>1169.333333</td>\n",
       "      <td>21.333333</td>\n",
       "      <td>5097.333333</td>\n",
       "      <td>3.666667</td>\n",
       "      <td>5.333333</td>\n",
       "      <td>489.333333</td>\n",
       "      <td>2098.333333</td>\n",
       "      <td>...</td>\n",
       "      <td>414.000000</td>\n",
       "      <td>878.666667</td>\n",
       "      <td>2110.666667</td>\n",
       "      <td>0.669230</td>\n",
       "      <td>1.055556</td>\n",
       "      <td>0.419008</td>\n",
       "      <td>0.844484</td>\n",
       "      <td>1.000000</td>\n",
       "      <td>0.845878</td>\n",
       "      <td>4</td>\n",
       "    </tr>\n",
       "    <tr>\n",
       "      <th>13</th>\n",
       "      <td>13</td>\n",
       "      <td>서대문구</td>\n",
       "      <td>2018.0</td>\n",
       "      <td>906.000000</td>\n",
       "      <td>14.666667</td>\n",
       "      <td>2952.666667</td>\n",
       "      <td>3.666667</td>\n",
       "      <td>3.000000</td>\n",
       "      <td>194.333333</td>\n",
       "      <td>1172.666667</td>\n",
       "      <td>...</td>\n",
       "      <td>174.666667</td>\n",
       "      <td>634.666667</td>\n",
       "      <td>1296.000000</td>\n",
       "      <td>0.714792</td>\n",
       "      <td>1.333333</td>\n",
       "      <td>0.541599</td>\n",
       "      <td>0.820433</td>\n",
       "      <td>0.766667</td>\n",
       "      <td>0.897838</td>\n",
       "      <td>12</td>\n",
       "    </tr>\n",
       "    <tr>\n",
       "      <th>14</th>\n",
       "      <td>14</td>\n",
       "      <td>서초구</td>\n",
       "      <td>2018.0</td>\n",
       "      <td>1467.666667</td>\n",
       "      <td>25.333333</td>\n",
       "      <td>4992.000000</td>\n",
       "      <td>6.333333</td>\n",
       "      <td>8.333333</td>\n",
       "      <td>518.666667</td>\n",
       "      <td>1977.666667</td>\n",
       "      <td>...</td>\n",
       "      <td>336.666667</td>\n",
       "      <td>930.333333</td>\n",
       "      <td>2110.666667</td>\n",
       "      <td>0.679237</td>\n",
       "      <td>0.750916</td>\n",
       "      <td>0.468685</td>\n",
       "      <td>0.851218</td>\n",
       "      <td>1.037037</td>\n",
       "      <td>0.647057</td>\n",
       "      <td>5</td>\n",
       "    </tr>\n",
       "    <tr>\n",
       "      <th>15</th>\n",
       "      <td>15</td>\n",
       "      <td>성동구</td>\n",
       "      <td>2018.0</td>\n",
       "      <td>862.000000</td>\n",
       "      <td>20.000000</td>\n",
       "      <td>2578.666667</td>\n",
       "      <td>3.000000</td>\n",
       "      <td>5.666667</td>\n",
       "      <td>130.333333</td>\n",
       "      <td>1013.666667</td>\n",
       "      <td>...</td>\n",
       "      <td>101.333333</td>\n",
       "      <td>513.666667</td>\n",
       "      <td>1260.666667</td>\n",
       "      <td>0.731002</td>\n",
       "      <td>1.237037</td>\n",
       "      <td>0.506940</td>\n",
       "      <td>0.884271</td>\n",
       "      <td>0.944444</td>\n",
       "      <td>0.778120</td>\n",
       "      <td>13</td>\n",
       "    </tr>\n",
       "    <tr>\n",
       "      <th>16</th>\n",
       "      <td>16</td>\n",
       "      <td>성북구</td>\n",
       "      <td>2018.0</td>\n",
       "      <td>1292.666667</td>\n",
       "      <td>32.000000</td>\n",
       "      <td>3117.666667</td>\n",
       "      <td>5.666667</td>\n",
       "      <td>4.000000</td>\n",
       "      <td>177.333333</td>\n",
       "      <td>1196.666667</td>\n",
       "      <td>...</td>\n",
       "      <td>134.666667</td>\n",
       "      <td>689.666667</td>\n",
       "      <td>1525.666667</td>\n",
       "      <td>0.759286</td>\n",
       "      <td>1.333333</td>\n",
       "      <td>0.581400</td>\n",
       "      <td>0.881226</td>\n",
       "      <td>0.952381</td>\n",
       "      <td>0.759410</td>\n",
       "      <td>19</td>\n",
       "    </tr>\n",
       "    <tr>\n",
       "      <th>17</th>\n",
       "      <td>17</td>\n",
       "      <td>송파구</td>\n",
       "      <td>2018.0</td>\n",
       "      <td>1398.000000</td>\n",
       "      <td>26.666667</td>\n",
       "      <td>5693.666667</td>\n",
       "      <td>6.000000</td>\n",
       "      <td>5.666667</td>\n",
       "      <td>290.000000</td>\n",
       "      <td>2347.333333</td>\n",
       "      <td>...</td>\n",
       "      <td>242.000000</td>\n",
       "      <td>1025.333333</td>\n",
       "      <td>2625.666667</td>\n",
       "      <td>0.686126</td>\n",
       "      <td>1.777778</td>\n",
       "      <td>0.437114</td>\n",
       "      <td>0.862152</td>\n",
       "      <td>1.114286</td>\n",
       "      <td>0.834925</td>\n",
       "      <td>7</td>\n",
       "    </tr>\n",
       "    <tr>\n",
       "      <th>18</th>\n",
       "      <td>18</td>\n",
       "      <td>양천구</td>\n",
       "      <td>2018.0</td>\n",
       "      <td>1034.666667</td>\n",
       "      <td>20.666667</td>\n",
       "      <td>3537.000000</td>\n",
       "      <td>3.666667</td>\n",
       "      <td>3.000000</td>\n",
       "      <td>128.333333</td>\n",
       "      <td>1483.666667</td>\n",
       "      <td>...</td>\n",
       "      <td>115.000000</td>\n",
       "      <td>678.666667</td>\n",
       "      <td>1611.000000</td>\n",
       "      <td>0.681882</td>\n",
       "      <td>1.722222</td>\n",
       "      <td>0.457161</td>\n",
       "      <td>0.841109</td>\n",
       "      <td>1.055556</td>\n",
       "      <td>0.896983</td>\n",
       "      <td>6</td>\n",
       "    </tr>\n",
       "    <tr>\n",
       "      <th>19</th>\n",
       "      <td>19</td>\n",
       "      <td>영등포구</td>\n",
       "      <td>2018.0</td>\n",
       "      <td>1310.333333</td>\n",
       "      <td>20.000000</td>\n",
       "      <td>5876.333333</td>\n",
       "      <td>14.000000</td>\n",
       "      <td>5.333333</td>\n",
       "      <td>400.666667</td>\n",
       "      <td>2335.000000</td>\n",
       "      <td>...</td>\n",
       "      <td>257.666667</td>\n",
       "      <td>1080.000000</td>\n",
       "      <td>2552.000000</td>\n",
       "      <td>0.664801</td>\n",
       "      <td>0.916667</td>\n",
       "      <td>0.462821</td>\n",
       "      <td>0.817515</td>\n",
       "      <td>0.916340</td>\n",
       "      <td>0.647009</td>\n",
       "      <td>3</td>\n",
       "    </tr>\n",
       "    <tr>\n",
       "      <th>20</th>\n",
       "      <td>20</td>\n",
       "      <td>용산구</td>\n",
       "      <td>2018.0</td>\n",
       "      <td>945.333333</td>\n",
       "      <td>16.000000</td>\n",
       "      <td>3594.666667</td>\n",
       "      <td>1.666667</td>\n",
       "      <td>3.666667</td>\n",
       "      <td>310.000000</td>\n",
       "      <td>1147.000000</td>\n",
       "      <td>...</td>\n",
       "      <td>270.333333</td>\n",
       "      <td>564.000000</td>\n",
       "      <td>1857.333333</td>\n",
       "      <td>0.752263</td>\n",
       "      <td>0.933333</td>\n",
       "      <td>0.495301</td>\n",
       "      <td>0.872446</td>\n",
       "      <td>1.000000</td>\n",
       "      <td>0.872048</td>\n",
       "      <td>18</td>\n",
       "    </tr>\n",
       "    <tr>\n",
       "      <th>21</th>\n",
       "      <td>21</td>\n",
       "      <td>은평구</td>\n",
       "      <td>2018.0</td>\n",
       "      <td>1237.333333</td>\n",
       "      <td>26.666667</td>\n",
       "      <td>3784.333333</td>\n",
       "      <td>5.666667</td>\n",
       "      <td>2.000000</td>\n",
       "      <td>204.000000</td>\n",
       "      <td>1410.000000</td>\n",
       "      <td>...</td>\n",
       "      <td>181.333333</td>\n",
       "      <td>909.000000</td>\n",
       "      <td>1925.333333</td>\n",
       "      <td>0.798866</td>\n",
       "      <td>1.000000</td>\n",
       "      <td>0.645392</td>\n",
       "      <td>0.889854</td>\n",
       "      <td>1.000000</td>\n",
       "      <td>0.886692</td>\n",
       "      <td>23</td>\n",
       "    </tr>\n",
       "    <tr>\n",
       "      <th>22</th>\n",
       "      <td>22</td>\n",
       "      <td>종로구</td>\n",
       "      <td>2018.0</td>\n",
       "      <td>1533.333333</td>\n",
       "      <td>30.666667</td>\n",
       "      <td>3864.333333</td>\n",
       "      <td>5.666667</td>\n",
       "      <td>6.666667</td>\n",
       "      <td>242.333333</td>\n",
       "      <td>1547.333333</td>\n",
       "      <td>...</td>\n",
       "      <td>1218.333333</td>\n",
       "      <td>981.000000</td>\n",
       "      <td>1939.333333</td>\n",
       "      <td>1.074854</td>\n",
       "      <td>1.658730</td>\n",
       "      <td>0.636501</td>\n",
       "      <td>0.939844</td>\n",
       "      <td>1.234127</td>\n",
       "      <td>5.014855</td>\n",
       "      <td>25</td>\n",
       "    </tr>\n",
       "    <tr>\n",
       "      <th>23</th>\n",
       "      <td>23</td>\n",
       "      <td>중구</td>\n",
       "      <td>2018.0</td>\n",
       "      <td>1383.000000</td>\n",
       "      <td>24.000000</td>\n",
       "      <td>4180.333333</td>\n",
       "      <td>1.666667</td>\n",
       "      <td>8.666667</td>\n",
       "      <td>223.000000</td>\n",
       "      <td>1967.666667</td>\n",
       "      <td>...</td>\n",
       "      <td>126.333333</td>\n",
       "      <td>923.666667</td>\n",
       "      <td>1718.666667</td>\n",
       "      <td>0.664731</td>\n",
       "      <td>0.944444</td>\n",
       "      <td>0.468980</td>\n",
       "      <td>0.868074</td>\n",
       "      <td>0.750000</td>\n",
       "      <td>0.567784</td>\n",
       "      <td>2</td>\n",
       "    </tr>\n",
       "    <tr>\n",
       "      <th>24</th>\n",
       "      <td>24</td>\n",
       "      <td>중랑구</td>\n",
       "      <td>2018.0</td>\n",
       "      <td>1014.333333</td>\n",
       "      <td>22.666667</td>\n",
       "      <td>4375.666667</td>\n",
       "      <td>6.333333</td>\n",
       "      <td>3.333333</td>\n",
       "      <td>161.333333</td>\n",
       "      <td>1575.000000</td>\n",
       "      <td>...</td>\n",
       "      <td>132.333333</td>\n",
       "      <td>865.666667</td>\n",
       "      <td>2242.000000</td>\n",
       "      <td>0.742903</td>\n",
       "      <td>1.194444</td>\n",
       "      <td>0.549800</td>\n",
       "      <td>0.852839</td>\n",
       "      <td>1.083333</td>\n",
       "      <td>0.817717</td>\n",
       "      <td>16</td>\n",
       "    </tr>\n",
       "  </tbody>\n",
       "</table>\n",
       "<p>25 rows × 24 columns</p>\n",
       "</div>"
      ],
      "text/plain": [
       "    Unnamed: 0   지역구      년도         경찰관수     치안시설총수         발생합계       살인발생  \\\n",
       "0            0   강남구  2018.0  1999.000000  29.333333  7512.333333   7.333333   \n",
       "1            1   강동구  2018.0  1012.000000  21.333333  4064.666667   4.666667   \n",
       "2            2   강북구  2018.0   893.666667  18.666667  3556.000000   7.333333   \n",
       "3            3   강서구  2018.0  1242.666667  16.000000  4896.000000  10.000000   \n",
       "4            4   관악구  2018.0  1194.000000  25.333333  5293.000000  10.000000   \n",
       "5            5   광진구  2018.0   952.333333  16.000000  4190.666667   5.666667   \n",
       "6            6   구로구  2018.0  1007.000000  21.333333  4804.000000   8.333333   \n",
       "7            7   금천구  2018.0   771.000000  16.000000  3221.000000   5.666667   \n",
       "8            8   노원구  2018.0  1087.333333  23.333333  4123.000000   4.333333   \n",
       "9            9   도봉구  2018.0   754.333333  12.000000  2119.333333   1.000000   \n",
       "10          10  동대문구  2018.0  1097.333333  26.666667  3782.333333   6.333333   \n",
       "11          11   동작구  2018.0   898.666667  22.666667  3276.666667   2.666667   \n",
       "12          12   마포구  2018.0  1169.333333  21.333333  5097.333333   3.666667   \n",
       "13          13  서대문구  2018.0   906.000000  14.666667  2952.666667   3.666667   \n",
       "14          14   서초구  2018.0  1467.666667  25.333333  4992.000000   6.333333   \n",
       "15          15   성동구  2018.0   862.000000  20.000000  2578.666667   3.000000   \n",
       "16          16   성북구  2018.0  1292.666667  32.000000  3117.666667   5.666667   \n",
       "17          17   송파구  2018.0  1398.000000  26.666667  5693.666667   6.000000   \n",
       "18          18   양천구  2018.0  1034.666667  20.666667  3537.000000   3.666667   \n",
       "19          19  영등포구  2018.0  1310.333333  20.000000  5876.333333  14.000000   \n",
       "20          20   용산구  2018.0   945.333333  16.000000  3594.666667   1.666667   \n",
       "21          21   은평구  2018.0  1237.333333  26.666667  3784.333333   5.666667   \n",
       "22          22   종로구  2018.0  1533.333333  30.666667  3864.333333   5.666667   \n",
       "23          23    중구  2018.0  1383.000000  24.000000  4180.333333   1.666667   \n",
       "24          24   중랑구  2018.0  1014.333333  22.666667  4375.666667   6.333333   \n",
       "\n",
       "         강도발생    강간강제추행발생         절도발생  ...     강간강제추행검거         절도검거  \\\n",
       "0   13.000000  624.333333  3034.666667  ...   527.000000  1346.333333   \n",
       "1   10.666667  174.000000  1603.333333  ...   155.666667   873.666667   \n",
       "2    5.666667  190.666667  1118.333333  ...   144.333333   634.000000   \n",
       "3    4.333333  297.000000  1887.333333  ...   252.000000  1057.333333   \n",
       "4    9.000000  379.666667  2071.333333  ...   321.000000  1087.333333   \n",
       "5    7.000000  254.333333  1954.666667  ...   201.666667  1050.000000   \n",
       "6    6.666667  268.000000  1786.000000  ...   175.666667   873.666667   \n",
       "7    7.333333  197.666667  1155.333333  ...   174.333333   644.666667   \n",
       "8    5.666667  186.000000  1486.000000  ...   162.000000   674.333333   \n",
       "9    4.333333  102.333333   734.666667  ...   105.000000   414.000000   \n",
       "10   6.000000  159.333333  1508.333333  ...   134.666667   924.666667   \n",
       "11   5.000000  311.666667  1235.000000  ...   145.666667   568.000000   \n",
       "12   5.333333  489.333333  2098.333333  ...   414.000000   878.666667   \n",
       "13   3.000000  194.333333  1172.666667  ...   174.666667   634.666667   \n",
       "14   8.333333  518.666667  1977.666667  ...   336.666667   930.333333   \n",
       "15   5.666667  130.333333  1013.666667  ...   101.333333   513.666667   \n",
       "16   4.000000  177.333333  1196.666667  ...   134.666667   689.666667   \n",
       "17   5.666667  290.000000  2347.333333  ...   242.000000  1025.333333   \n",
       "18   3.000000  128.333333  1483.666667  ...   115.000000   678.666667   \n",
       "19   5.333333  400.666667  2335.000000  ...   257.666667  1080.000000   \n",
       "20   3.666667  310.000000  1147.000000  ...   270.333333   564.000000   \n",
       "21   2.000000  204.000000  1410.000000  ...   181.333333   909.000000   \n",
       "22   6.666667  242.333333  1547.333333  ...  1218.333333   981.000000   \n",
       "23   8.666667  223.000000  1967.666667  ...   126.333333   923.666667   \n",
       "24   3.333333  161.333333  1575.000000  ...   132.333333   865.666667   \n",
       "\n",
       "           폭력검거   검거율/발생율     강도검거율     절도검거율     폭력검거율     살인검거율  강간강제추행검거율  \\\n",
       "0   3301.000000  0.691618  1.038095  0.443703  0.861245  0.966667   0.844215   \n",
       "1   1951.333333  0.736464  1.044444  0.543849  0.858642  1.011111   0.894949   \n",
       "2   2073.666667  0.806010  0.793651  0.569592  0.929038  0.916667   0.759175   \n",
       "3   2323.000000  0.744565  1.111111  0.561495  0.860778  0.981061   0.851667   \n",
       "4   2445.666667  0.731255  1.052381  0.526545  0.867577  0.881410   0.846599   \n",
       "5   1703.333333  0.707459  0.649573  0.538107  0.864138  0.932540   0.793549   \n",
       "6   2281.666667  0.696454  1.027778  0.488593  0.834489  1.014286   0.668639   \n",
       "7   1663.666667  0.773957  0.819048  0.558161  0.896767  1.000000   0.877288   \n",
       "8   2066.666667  0.705895  0.925926  0.452732  0.846355  0.933333   0.870520   \n",
       "9   1084.666667  0.760371  0.866667  0.569786  0.849588  1.000000   1.021130   \n",
       "10  1948.666667  0.797814  1.122222  0.613427  0.926811  0.969697   0.842212   \n",
       "11  1454.333333  0.664352  1.095238  0.460629  0.844778  0.833333   0.469946   \n",
       "12  2110.666667  0.669230  1.055556  0.419008  0.844484  1.000000   0.845878   \n",
       "13  1296.000000  0.714792  1.333333  0.541599  0.820433  0.766667   0.897838   \n",
       "14  2110.666667  0.679237  0.750916  0.468685  0.851218  1.037037   0.647057   \n",
       "15  1260.666667  0.731002  1.237037  0.506940  0.884271  0.944444   0.778120   \n",
       "16  1525.666667  0.759286  1.333333  0.581400  0.881226  0.952381   0.759410   \n",
       "17  2625.666667  0.686126  1.777778  0.437114  0.862152  1.114286   0.834925   \n",
       "18  1611.000000  0.681882  1.722222  0.457161  0.841109  1.055556   0.896983   \n",
       "19  2552.000000  0.664801  0.916667  0.462821  0.817515  0.916340   0.647009   \n",
       "20  1857.333333  0.752263  0.933333  0.495301  0.872446  1.000000   0.872048   \n",
       "21  1925.333333  0.798866  1.000000  0.645392  0.889854  1.000000   0.886692   \n",
       "22  1939.333333  1.074854  1.658730  0.636501  0.939844  1.234127   5.014855   \n",
       "23  1718.666667  0.664731  0.944444  0.468980  0.868074  0.750000   0.567784   \n",
       "24  2242.000000  0.742903  1.194444  0.549800  0.852839  1.083333   0.817717   \n",
       "\n",
       "    랭크  \n",
       "0    8  \n",
       "1   15  \n",
       "2   24  \n",
       "3   17  \n",
       "4   14  \n",
       "5   11  \n",
       "6    9  \n",
       "7   21  \n",
       "8   10  \n",
       "9   20  \n",
       "10  22  \n",
       "11   1  \n",
       "12   4  \n",
       "13  12  \n",
       "14   5  \n",
       "15  13  \n",
       "16  19  \n",
       "17   7  \n",
       "18   6  \n",
       "19   3  \n",
       "20  18  \n",
       "21  23  \n",
       "22  25  \n",
       "23   2  \n",
       "24  16  \n",
       "\n",
       "[25 rows x 24 columns]"
      ]
     },
     "execution_count": 103,
     "metadata": {},
     "output_type": "execute_result"
    }
   ],
   "source": [
    "old_pop"
   ]
  },
  {
   "cell_type": "code",
   "execution_count": 104,
   "id": "93b4e525",
   "metadata": {},
   "outputs": [],
   "source": [
    "old_pop['년도'] = old_pop['년도'].apply(np.int64)"
   ]
  },
  {
   "cell_type": "code",
   "execution_count": 105,
   "id": "323c2f5b",
   "metadata": {},
   "outputs": [
    {
     "data": {
      "text/html": [
       "<div>\n",
       "<style scoped>\n",
       "    .dataframe tbody tr th:only-of-type {\n",
       "        vertical-align: middle;\n",
       "    }\n",
       "\n",
       "    .dataframe tbody tr th {\n",
       "        vertical-align: top;\n",
       "    }\n",
       "\n",
       "    .dataframe thead th {\n",
       "        text-align: right;\n",
       "    }\n",
       "</style>\n",
       "<table border=\"1\" class=\"dataframe\">\n",
       "  <thead>\n",
       "    <tr style=\"text-align: right;\">\n",
       "      <th></th>\n",
       "      <th>Unnamed: 0</th>\n",
       "      <th>지역구</th>\n",
       "      <th>년도</th>\n",
       "      <th>경찰관수</th>\n",
       "      <th>치안시설총수</th>\n",
       "      <th>발생합계</th>\n",
       "      <th>살인발생</th>\n",
       "      <th>강도발생</th>\n",
       "      <th>강간강제추행발생</th>\n",
       "      <th>절도발생</th>\n",
       "      <th>...</th>\n",
       "      <th>강간강제추행검거</th>\n",
       "      <th>절도검거</th>\n",
       "      <th>폭력검거</th>\n",
       "      <th>검거율/발생율</th>\n",
       "      <th>강도검거율</th>\n",
       "      <th>절도검거율</th>\n",
       "      <th>폭력검거율</th>\n",
       "      <th>살인검거율</th>\n",
       "      <th>강간강제추행검거율</th>\n",
       "      <th>랭크</th>\n",
       "    </tr>\n",
       "  </thead>\n",
       "  <tbody>\n",
       "    <tr>\n",
       "      <th>0</th>\n",
       "      <td>0</td>\n",
       "      <td>강남구</td>\n",
       "      <td>2018</td>\n",
       "      <td>1999.000000</td>\n",
       "      <td>29.333333</td>\n",
       "      <td>7512.333333</td>\n",
       "      <td>7.333333</td>\n",
       "      <td>13.000000</td>\n",
       "      <td>624.333333</td>\n",
       "      <td>3034.666667</td>\n",
       "      <td>...</td>\n",
       "      <td>527.000000</td>\n",
       "      <td>1346.333333</td>\n",
       "      <td>3301.000000</td>\n",
       "      <td>0.691618</td>\n",
       "      <td>1.038095</td>\n",
       "      <td>0.443703</td>\n",
       "      <td>0.861245</td>\n",
       "      <td>0.966667</td>\n",
       "      <td>0.844215</td>\n",
       "      <td>8</td>\n",
       "    </tr>\n",
       "    <tr>\n",
       "      <th>1</th>\n",
       "      <td>1</td>\n",
       "      <td>강동구</td>\n",
       "      <td>2018</td>\n",
       "      <td>1012.000000</td>\n",
       "      <td>21.333333</td>\n",
       "      <td>4064.666667</td>\n",
       "      <td>4.666667</td>\n",
       "      <td>10.666667</td>\n",
       "      <td>174.000000</td>\n",
       "      <td>1603.333333</td>\n",
       "      <td>...</td>\n",
       "      <td>155.666667</td>\n",
       "      <td>873.666667</td>\n",
       "      <td>1951.333333</td>\n",
       "      <td>0.736464</td>\n",
       "      <td>1.044444</td>\n",
       "      <td>0.543849</td>\n",
       "      <td>0.858642</td>\n",
       "      <td>1.011111</td>\n",
       "      <td>0.894949</td>\n",
       "      <td>15</td>\n",
       "    </tr>\n",
       "    <tr>\n",
       "      <th>2</th>\n",
       "      <td>2</td>\n",
       "      <td>강북구</td>\n",
       "      <td>2018</td>\n",
       "      <td>893.666667</td>\n",
       "      <td>18.666667</td>\n",
       "      <td>3556.000000</td>\n",
       "      <td>7.333333</td>\n",
       "      <td>5.666667</td>\n",
       "      <td>190.666667</td>\n",
       "      <td>1118.333333</td>\n",
       "      <td>...</td>\n",
       "      <td>144.333333</td>\n",
       "      <td>634.000000</td>\n",
       "      <td>2073.666667</td>\n",
       "      <td>0.806010</td>\n",
       "      <td>0.793651</td>\n",
       "      <td>0.569592</td>\n",
       "      <td>0.929038</td>\n",
       "      <td>0.916667</td>\n",
       "      <td>0.759175</td>\n",
       "      <td>24</td>\n",
       "    </tr>\n",
       "    <tr>\n",
       "      <th>3</th>\n",
       "      <td>3</td>\n",
       "      <td>강서구</td>\n",
       "      <td>2018</td>\n",
       "      <td>1242.666667</td>\n",
       "      <td>16.000000</td>\n",
       "      <td>4896.000000</td>\n",
       "      <td>10.000000</td>\n",
       "      <td>4.333333</td>\n",
       "      <td>297.000000</td>\n",
       "      <td>1887.333333</td>\n",
       "      <td>...</td>\n",
       "      <td>252.000000</td>\n",
       "      <td>1057.333333</td>\n",
       "      <td>2323.000000</td>\n",
       "      <td>0.744565</td>\n",
       "      <td>1.111111</td>\n",
       "      <td>0.561495</td>\n",
       "      <td>0.860778</td>\n",
       "      <td>0.981061</td>\n",
       "      <td>0.851667</td>\n",
       "      <td>17</td>\n",
       "    </tr>\n",
       "    <tr>\n",
       "      <th>4</th>\n",
       "      <td>4</td>\n",
       "      <td>관악구</td>\n",
       "      <td>2018</td>\n",
       "      <td>1194.000000</td>\n",
       "      <td>25.333333</td>\n",
       "      <td>5293.000000</td>\n",
       "      <td>10.000000</td>\n",
       "      <td>9.000000</td>\n",
       "      <td>379.666667</td>\n",
       "      <td>2071.333333</td>\n",
       "      <td>...</td>\n",
       "      <td>321.000000</td>\n",
       "      <td>1087.333333</td>\n",
       "      <td>2445.666667</td>\n",
       "      <td>0.731255</td>\n",
       "      <td>1.052381</td>\n",
       "      <td>0.526545</td>\n",
       "      <td>0.867577</td>\n",
       "      <td>0.881410</td>\n",
       "      <td>0.846599</td>\n",
       "      <td>14</td>\n",
       "    </tr>\n",
       "    <tr>\n",
       "      <th>5</th>\n",
       "      <td>5</td>\n",
       "      <td>광진구</td>\n",
       "      <td>2018</td>\n",
       "      <td>952.333333</td>\n",
       "      <td>16.000000</td>\n",
       "      <td>4190.666667</td>\n",
       "      <td>5.666667</td>\n",
       "      <td>7.000000</td>\n",
       "      <td>254.333333</td>\n",
       "      <td>1954.666667</td>\n",
       "      <td>...</td>\n",
       "      <td>201.666667</td>\n",
       "      <td>1050.000000</td>\n",
       "      <td>1703.333333</td>\n",
       "      <td>0.707459</td>\n",
       "      <td>0.649573</td>\n",
       "      <td>0.538107</td>\n",
       "      <td>0.864138</td>\n",
       "      <td>0.932540</td>\n",
       "      <td>0.793549</td>\n",
       "      <td>11</td>\n",
       "    </tr>\n",
       "    <tr>\n",
       "      <th>6</th>\n",
       "      <td>6</td>\n",
       "      <td>구로구</td>\n",
       "      <td>2018</td>\n",
       "      <td>1007.000000</td>\n",
       "      <td>21.333333</td>\n",
       "      <td>4804.000000</td>\n",
       "      <td>8.333333</td>\n",
       "      <td>6.666667</td>\n",
       "      <td>268.000000</td>\n",
       "      <td>1786.000000</td>\n",
       "      <td>...</td>\n",
       "      <td>175.666667</td>\n",
       "      <td>873.666667</td>\n",
       "      <td>2281.666667</td>\n",
       "      <td>0.696454</td>\n",
       "      <td>1.027778</td>\n",
       "      <td>0.488593</td>\n",
       "      <td>0.834489</td>\n",
       "      <td>1.014286</td>\n",
       "      <td>0.668639</td>\n",
       "      <td>9</td>\n",
       "    </tr>\n",
       "    <tr>\n",
       "      <th>7</th>\n",
       "      <td>7</td>\n",
       "      <td>금천구</td>\n",
       "      <td>2018</td>\n",
       "      <td>771.000000</td>\n",
       "      <td>16.000000</td>\n",
       "      <td>3221.000000</td>\n",
       "      <td>5.666667</td>\n",
       "      <td>7.333333</td>\n",
       "      <td>197.666667</td>\n",
       "      <td>1155.333333</td>\n",
       "      <td>...</td>\n",
       "      <td>174.333333</td>\n",
       "      <td>644.666667</td>\n",
       "      <td>1663.666667</td>\n",
       "      <td>0.773957</td>\n",
       "      <td>0.819048</td>\n",
       "      <td>0.558161</td>\n",
       "      <td>0.896767</td>\n",
       "      <td>1.000000</td>\n",
       "      <td>0.877288</td>\n",
       "      <td>21</td>\n",
       "    </tr>\n",
       "    <tr>\n",
       "      <th>8</th>\n",
       "      <td>8</td>\n",
       "      <td>노원구</td>\n",
       "      <td>2018</td>\n",
       "      <td>1087.333333</td>\n",
       "      <td>23.333333</td>\n",
       "      <td>4123.000000</td>\n",
       "      <td>4.333333</td>\n",
       "      <td>5.666667</td>\n",
       "      <td>186.000000</td>\n",
       "      <td>1486.000000</td>\n",
       "      <td>...</td>\n",
       "      <td>162.000000</td>\n",
       "      <td>674.333333</td>\n",
       "      <td>2066.666667</td>\n",
       "      <td>0.705895</td>\n",
       "      <td>0.925926</td>\n",
       "      <td>0.452732</td>\n",
       "      <td>0.846355</td>\n",
       "      <td>0.933333</td>\n",
       "      <td>0.870520</td>\n",
       "      <td>10</td>\n",
       "    </tr>\n",
       "    <tr>\n",
       "      <th>9</th>\n",
       "      <td>9</td>\n",
       "      <td>도봉구</td>\n",
       "      <td>2018</td>\n",
       "      <td>754.333333</td>\n",
       "      <td>12.000000</td>\n",
       "      <td>2119.333333</td>\n",
       "      <td>1.000000</td>\n",
       "      <td>4.333333</td>\n",
       "      <td>102.333333</td>\n",
       "      <td>734.666667</td>\n",
       "      <td>...</td>\n",
       "      <td>105.000000</td>\n",
       "      <td>414.000000</td>\n",
       "      <td>1084.666667</td>\n",
       "      <td>0.760371</td>\n",
       "      <td>0.866667</td>\n",
       "      <td>0.569786</td>\n",
       "      <td>0.849588</td>\n",
       "      <td>1.000000</td>\n",
       "      <td>1.021130</td>\n",
       "      <td>20</td>\n",
       "    </tr>\n",
       "    <tr>\n",
       "      <th>10</th>\n",
       "      <td>10</td>\n",
       "      <td>동대문구</td>\n",
       "      <td>2018</td>\n",
       "      <td>1097.333333</td>\n",
       "      <td>26.666667</td>\n",
       "      <td>3782.333333</td>\n",
       "      <td>6.333333</td>\n",
       "      <td>6.000000</td>\n",
       "      <td>159.333333</td>\n",
       "      <td>1508.333333</td>\n",
       "      <td>...</td>\n",
       "      <td>134.666667</td>\n",
       "      <td>924.666667</td>\n",
       "      <td>1948.666667</td>\n",
       "      <td>0.797814</td>\n",
       "      <td>1.122222</td>\n",
       "      <td>0.613427</td>\n",
       "      <td>0.926811</td>\n",
       "      <td>0.969697</td>\n",
       "      <td>0.842212</td>\n",
       "      <td>22</td>\n",
       "    </tr>\n",
       "    <tr>\n",
       "      <th>11</th>\n",
       "      <td>11</td>\n",
       "      <td>동작구</td>\n",
       "      <td>2018</td>\n",
       "      <td>898.666667</td>\n",
       "      <td>22.666667</td>\n",
       "      <td>3276.666667</td>\n",
       "      <td>2.666667</td>\n",
       "      <td>5.000000</td>\n",
       "      <td>311.666667</td>\n",
       "      <td>1235.000000</td>\n",
       "      <td>...</td>\n",
       "      <td>145.666667</td>\n",
       "      <td>568.000000</td>\n",
       "      <td>1454.333333</td>\n",
       "      <td>0.664352</td>\n",
       "      <td>1.095238</td>\n",
       "      <td>0.460629</td>\n",
       "      <td>0.844778</td>\n",
       "      <td>0.833333</td>\n",
       "      <td>0.469946</td>\n",
       "      <td>1</td>\n",
       "    </tr>\n",
       "    <tr>\n",
       "      <th>12</th>\n",
       "      <td>12</td>\n",
       "      <td>마포구</td>\n",
       "      <td>2018</td>\n",
       "      <td>1169.333333</td>\n",
       "      <td>21.333333</td>\n",
       "      <td>5097.333333</td>\n",
       "      <td>3.666667</td>\n",
       "      <td>5.333333</td>\n",
       "      <td>489.333333</td>\n",
       "      <td>2098.333333</td>\n",
       "      <td>...</td>\n",
       "      <td>414.000000</td>\n",
       "      <td>878.666667</td>\n",
       "      <td>2110.666667</td>\n",
       "      <td>0.669230</td>\n",
       "      <td>1.055556</td>\n",
       "      <td>0.419008</td>\n",
       "      <td>0.844484</td>\n",
       "      <td>1.000000</td>\n",
       "      <td>0.845878</td>\n",
       "      <td>4</td>\n",
       "    </tr>\n",
       "    <tr>\n",
       "      <th>13</th>\n",
       "      <td>13</td>\n",
       "      <td>서대문구</td>\n",
       "      <td>2018</td>\n",
       "      <td>906.000000</td>\n",
       "      <td>14.666667</td>\n",
       "      <td>2952.666667</td>\n",
       "      <td>3.666667</td>\n",
       "      <td>3.000000</td>\n",
       "      <td>194.333333</td>\n",
       "      <td>1172.666667</td>\n",
       "      <td>...</td>\n",
       "      <td>174.666667</td>\n",
       "      <td>634.666667</td>\n",
       "      <td>1296.000000</td>\n",
       "      <td>0.714792</td>\n",
       "      <td>1.333333</td>\n",
       "      <td>0.541599</td>\n",
       "      <td>0.820433</td>\n",
       "      <td>0.766667</td>\n",
       "      <td>0.897838</td>\n",
       "      <td>12</td>\n",
       "    </tr>\n",
       "    <tr>\n",
       "      <th>14</th>\n",
       "      <td>14</td>\n",
       "      <td>서초구</td>\n",
       "      <td>2018</td>\n",
       "      <td>1467.666667</td>\n",
       "      <td>25.333333</td>\n",
       "      <td>4992.000000</td>\n",
       "      <td>6.333333</td>\n",
       "      <td>8.333333</td>\n",
       "      <td>518.666667</td>\n",
       "      <td>1977.666667</td>\n",
       "      <td>...</td>\n",
       "      <td>336.666667</td>\n",
       "      <td>930.333333</td>\n",
       "      <td>2110.666667</td>\n",
       "      <td>0.679237</td>\n",
       "      <td>0.750916</td>\n",
       "      <td>0.468685</td>\n",
       "      <td>0.851218</td>\n",
       "      <td>1.037037</td>\n",
       "      <td>0.647057</td>\n",
       "      <td>5</td>\n",
       "    </tr>\n",
       "    <tr>\n",
       "      <th>15</th>\n",
       "      <td>15</td>\n",
       "      <td>성동구</td>\n",
       "      <td>2018</td>\n",
       "      <td>862.000000</td>\n",
       "      <td>20.000000</td>\n",
       "      <td>2578.666667</td>\n",
       "      <td>3.000000</td>\n",
       "      <td>5.666667</td>\n",
       "      <td>130.333333</td>\n",
       "      <td>1013.666667</td>\n",
       "      <td>...</td>\n",
       "      <td>101.333333</td>\n",
       "      <td>513.666667</td>\n",
       "      <td>1260.666667</td>\n",
       "      <td>0.731002</td>\n",
       "      <td>1.237037</td>\n",
       "      <td>0.506940</td>\n",
       "      <td>0.884271</td>\n",
       "      <td>0.944444</td>\n",
       "      <td>0.778120</td>\n",
       "      <td>13</td>\n",
       "    </tr>\n",
       "    <tr>\n",
       "      <th>16</th>\n",
       "      <td>16</td>\n",
       "      <td>성북구</td>\n",
       "      <td>2018</td>\n",
       "      <td>1292.666667</td>\n",
       "      <td>32.000000</td>\n",
       "      <td>3117.666667</td>\n",
       "      <td>5.666667</td>\n",
       "      <td>4.000000</td>\n",
       "      <td>177.333333</td>\n",
       "      <td>1196.666667</td>\n",
       "      <td>...</td>\n",
       "      <td>134.666667</td>\n",
       "      <td>689.666667</td>\n",
       "      <td>1525.666667</td>\n",
       "      <td>0.759286</td>\n",
       "      <td>1.333333</td>\n",
       "      <td>0.581400</td>\n",
       "      <td>0.881226</td>\n",
       "      <td>0.952381</td>\n",
       "      <td>0.759410</td>\n",
       "      <td>19</td>\n",
       "    </tr>\n",
       "    <tr>\n",
       "      <th>17</th>\n",
       "      <td>17</td>\n",
       "      <td>송파구</td>\n",
       "      <td>2018</td>\n",
       "      <td>1398.000000</td>\n",
       "      <td>26.666667</td>\n",
       "      <td>5693.666667</td>\n",
       "      <td>6.000000</td>\n",
       "      <td>5.666667</td>\n",
       "      <td>290.000000</td>\n",
       "      <td>2347.333333</td>\n",
       "      <td>...</td>\n",
       "      <td>242.000000</td>\n",
       "      <td>1025.333333</td>\n",
       "      <td>2625.666667</td>\n",
       "      <td>0.686126</td>\n",
       "      <td>1.777778</td>\n",
       "      <td>0.437114</td>\n",
       "      <td>0.862152</td>\n",
       "      <td>1.114286</td>\n",
       "      <td>0.834925</td>\n",
       "      <td>7</td>\n",
       "    </tr>\n",
       "    <tr>\n",
       "      <th>18</th>\n",
       "      <td>18</td>\n",
       "      <td>양천구</td>\n",
       "      <td>2018</td>\n",
       "      <td>1034.666667</td>\n",
       "      <td>20.666667</td>\n",
       "      <td>3537.000000</td>\n",
       "      <td>3.666667</td>\n",
       "      <td>3.000000</td>\n",
       "      <td>128.333333</td>\n",
       "      <td>1483.666667</td>\n",
       "      <td>...</td>\n",
       "      <td>115.000000</td>\n",
       "      <td>678.666667</td>\n",
       "      <td>1611.000000</td>\n",
       "      <td>0.681882</td>\n",
       "      <td>1.722222</td>\n",
       "      <td>0.457161</td>\n",
       "      <td>0.841109</td>\n",
       "      <td>1.055556</td>\n",
       "      <td>0.896983</td>\n",
       "      <td>6</td>\n",
       "    </tr>\n",
       "    <tr>\n",
       "      <th>19</th>\n",
       "      <td>19</td>\n",
       "      <td>영등포구</td>\n",
       "      <td>2018</td>\n",
       "      <td>1310.333333</td>\n",
       "      <td>20.000000</td>\n",
       "      <td>5876.333333</td>\n",
       "      <td>14.000000</td>\n",
       "      <td>5.333333</td>\n",
       "      <td>400.666667</td>\n",
       "      <td>2335.000000</td>\n",
       "      <td>...</td>\n",
       "      <td>257.666667</td>\n",
       "      <td>1080.000000</td>\n",
       "      <td>2552.000000</td>\n",
       "      <td>0.664801</td>\n",
       "      <td>0.916667</td>\n",
       "      <td>0.462821</td>\n",
       "      <td>0.817515</td>\n",
       "      <td>0.916340</td>\n",
       "      <td>0.647009</td>\n",
       "      <td>3</td>\n",
       "    </tr>\n",
       "    <tr>\n",
       "      <th>20</th>\n",
       "      <td>20</td>\n",
       "      <td>용산구</td>\n",
       "      <td>2018</td>\n",
       "      <td>945.333333</td>\n",
       "      <td>16.000000</td>\n",
       "      <td>3594.666667</td>\n",
       "      <td>1.666667</td>\n",
       "      <td>3.666667</td>\n",
       "      <td>310.000000</td>\n",
       "      <td>1147.000000</td>\n",
       "      <td>...</td>\n",
       "      <td>270.333333</td>\n",
       "      <td>564.000000</td>\n",
       "      <td>1857.333333</td>\n",
       "      <td>0.752263</td>\n",
       "      <td>0.933333</td>\n",
       "      <td>0.495301</td>\n",
       "      <td>0.872446</td>\n",
       "      <td>1.000000</td>\n",
       "      <td>0.872048</td>\n",
       "      <td>18</td>\n",
       "    </tr>\n",
       "    <tr>\n",
       "      <th>21</th>\n",
       "      <td>21</td>\n",
       "      <td>은평구</td>\n",
       "      <td>2018</td>\n",
       "      <td>1237.333333</td>\n",
       "      <td>26.666667</td>\n",
       "      <td>3784.333333</td>\n",
       "      <td>5.666667</td>\n",
       "      <td>2.000000</td>\n",
       "      <td>204.000000</td>\n",
       "      <td>1410.000000</td>\n",
       "      <td>...</td>\n",
       "      <td>181.333333</td>\n",
       "      <td>909.000000</td>\n",
       "      <td>1925.333333</td>\n",
       "      <td>0.798866</td>\n",
       "      <td>1.000000</td>\n",
       "      <td>0.645392</td>\n",
       "      <td>0.889854</td>\n",
       "      <td>1.000000</td>\n",
       "      <td>0.886692</td>\n",
       "      <td>23</td>\n",
       "    </tr>\n",
       "    <tr>\n",
       "      <th>22</th>\n",
       "      <td>22</td>\n",
       "      <td>종로구</td>\n",
       "      <td>2018</td>\n",
       "      <td>1533.333333</td>\n",
       "      <td>30.666667</td>\n",
       "      <td>3864.333333</td>\n",
       "      <td>5.666667</td>\n",
       "      <td>6.666667</td>\n",
       "      <td>242.333333</td>\n",
       "      <td>1547.333333</td>\n",
       "      <td>...</td>\n",
       "      <td>1218.333333</td>\n",
       "      <td>981.000000</td>\n",
       "      <td>1939.333333</td>\n",
       "      <td>1.074854</td>\n",
       "      <td>1.658730</td>\n",
       "      <td>0.636501</td>\n",
       "      <td>0.939844</td>\n",
       "      <td>1.234127</td>\n",
       "      <td>5.014855</td>\n",
       "      <td>25</td>\n",
       "    </tr>\n",
       "    <tr>\n",
       "      <th>23</th>\n",
       "      <td>23</td>\n",
       "      <td>중구</td>\n",
       "      <td>2018</td>\n",
       "      <td>1383.000000</td>\n",
       "      <td>24.000000</td>\n",
       "      <td>4180.333333</td>\n",
       "      <td>1.666667</td>\n",
       "      <td>8.666667</td>\n",
       "      <td>223.000000</td>\n",
       "      <td>1967.666667</td>\n",
       "      <td>...</td>\n",
       "      <td>126.333333</td>\n",
       "      <td>923.666667</td>\n",
       "      <td>1718.666667</td>\n",
       "      <td>0.664731</td>\n",
       "      <td>0.944444</td>\n",
       "      <td>0.468980</td>\n",
       "      <td>0.868074</td>\n",
       "      <td>0.750000</td>\n",
       "      <td>0.567784</td>\n",
       "      <td>2</td>\n",
       "    </tr>\n",
       "    <tr>\n",
       "      <th>24</th>\n",
       "      <td>24</td>\n",
       "      <td>중랑구</td>\n",
       "      <td>2018</td>\n",
       "      <td>1014.333333</td>\n",
       "      <td>22.666667</td>\n",
       "      <td>4375.666667</td>\n",
       "      <td>6.333333</td>\n",
       "      <td>3.333333</td>\n",
       "      <td>161.333333</td>\n",
       "      <td>1575.000000</td>\n",
       "      <td>...</td>\n",
       "      <td>132.333333</td>\n",
       "      <td>865.666667</td>\n",
       "      <td>2242.000000</td>\n",
       "      <td>0.742903</td>\n",
       "      <td>1.194444</td>\n",
       "      <td>0.549800</td>\n",
       "      <td>0.852839</td>\n",
       "      <td>1.083333</td>\n",
       "      <td>0.817717</td>\n",
       "      <td>16</td>\n",
       "    </tr>\n",
       "  </tbody>\n",
       "</table>\n",
       "<p>25 rows × 24 columns</p>\n",
       "</div>"
      ],
      "text/plain": [
       "    Unnamed: 0   지역구    년도         경찰관수     치안시설총수         발생합계       살인발생  \\\n",
       "0            0   강남구  2018  1999.000000  29.333333  7512.333333   7.333333   \n",
       "1            1   강동구  2018  1012.000000  21.333333  4064.666667   4.666667   \n",
       "2            2   강북구  2018   893.666667  18.666667  3556.000000   7.333333   \n",
       "3            3   강서구  2018  1242.666667  16.000000  4896.000000  10.000000   \n",
       "4            4   관악구  2018  1194.000000  25.333333  5293.000000  10.000000   \n",
       "5            5   광진구  2018   952.333333  16.000000  4190.666667   5.666667   \n",
       "6            6   구로구  2018  1007.000000  21.333333  4804.000000   8.333333   \n",
       "7            7   금천구  2018   771.000000  16.000000  3221.000000   5.666667   \n",
       "8            8   노원구  2018  1087.333333  23.333333  4123.000000   4.333333   \n",
       "9            9   도봉구  2018   754.333333  12.000000  2119.333333   1.000000   \n",
       "10          10  동대문구  2018  1097.333333  26.666667  3782.333333   6.333333   \n",
       "11          11   동작구  2018   898.666667  22.666667  3276.666667   2.666667   \n",
       "12          12   마포구  2018  1169.333333  21.333333  5097.333333   3.666667   \n",
       "13          13  서대문구  2018   906.000000  14.666667  2952.666667   3.666667   \n",
       "14          14   서초구  2018  1467.666667  25.333333  4992.000000   6.333333   \n",
       "15          15   성동구  2018   862.000000  20.000000  2578.666667   3.000000   \n",
       "16          16   성북구  2018  1292.666667  32.000000  3117.666667   5.666667   \n",
       "17          17   송파구  2018  1398.000000  26.666667  5693.666667   6.000000   \n",
       "18          18   양천구  2018  1034.666667  20.666667  3537.000000   3.666667   \n",
       "19          19  영등포구  2018  1310.333333  20.000000  5876.333333  14.000000   \n",
       "20          20   용산구  2018   945.333333  16.000000  3594.666667   1.666667   \n",
       "21          21   은평구  2018  1237.333333  26.666667  3784.333333   5.666667   \n",
       "22          22   종로구  2018  1533.333333  30.666667  3864.333333   5.666667   \n",
       "23          23    중구  2018  1383.000000  24.000000  4180.333333   1.666667   \n",
       "24          24   중랑구  2018  1014.333333  22.666667  4375.666667   6.333333   \n",
       "\n",
       "         강도발생    강간강제추행발생         절도발생  ...     강간강제추행검거         절도검거  \\\n",
       "0   13.000000  624.333333  3034.666667  ...   527.000000  1346.333333   \n",
       "1   10.666667  174.000000  1603.333333  ...   155.666667   873.666667   \n",
       "2    5.666667  190.666667  1118.333333  ...   144.333333   634.000000   \n",
       "3    4.333333  297.000000  1887.333333  ...   252.000000  1057.333333   \n",
       "4    9.000000  379.666667  2071.333333  ...   321.000000  1087.333333   \n",
       "5    7.000000  254.333333  1954.666667  ...   201.666667  1050.000000   \n",
       "6    6.666667  268.000000  1786.000000  ...   175.666667   873.666667   \n",
       "7    7.333333  197.666667  1155.333333  ...   174.333333   644.666667   \n",
       "8    5.666667  186.000000  1486.000000  ...   162.000000   674.333333   \n",
       "9    4.333333  102.333333   734.666667  ...   105.000000   414.000000   \n",
       "10   6.000000  159.333333  1508.333333  ...   134.666667   924.666667   \n",
       "11   5.000000  311.666667  1235.000000  ...   145.666667   568.000000   \n",
       "12   5.333333  489.333333  2098.333333  ...   414.000000   878.666667   \n",
       "13   3.000000  194.333333  1172.666667  ...   174.666667   634.666667   \n",
       "14   8.333333  518.666667  1977.666667  ...   336.666667   930.333333   \n",
       "15   5.666667  130.333333  1013.666667  ...   101.333333   513.666667   \n",
       "16   4.000000  177.333333  1196.666667  ...   134.666667   689.666667   \n",
       "17   5.666667  290.000000  2347.333333  ...   242.000000  1025.333333   \n",
       "18   3.000000  128.333333  1483.666667  ...   115.000000   678.666667   \n",
       "19   5.333333  400.666667  2335.000000  ...   257.666667  1080.000000   \n",
       "20   3.666667  310.000000  1147.000000  ...   270.333333   564.000000   \n",
       "21   2.000000  204.000000  1410.000000  ...   181.333333   909.000000   \n",
       "22   6.666667  242.333333  1547.333333  ...  1218.333333   981.000000   \n",
       "23   8.666667  223.000000  1967.666667  ...   126.333333   923.666667   \n",
       "24   3.333333  161.333333  1575.000000  ...   132.333333   865.666667   \n",
       "\n",
       "           폭력검거   검거율/발생율     강도검거율     절도검거율     폭력검거율     살인검거율  강간강제추행검거율  \\\n",
       "0   3301.000000  0.691618  1.038095  0.443703  0.861245  0.966667   0.844215   \n",
       "1   1951.333333  0.736464  1.044444  0.543849  0.858642  1.011111   0.894949   \n",
       "2   2073.666667  0.806010  0.793651  0.569592  0.929038  0.916667   0.759175   \n",
       "3   2323.000000  0.744565  1.111111  0.561495  0.860778  0.981061   0.851667   \n",
       "4   2445.666667  0.731255  1.052381  0.526545  0.867577  0.881410   0.846599   \n",
       "5   1703.333333  0.707459  0.649573  0.538107  0.864138  0.932540   0.793549   \n",
       "6   2281.666667  0.696454  1.027778  0.488593  0.834489  1.014286   0.668639   \n",
       "7   1663.666667  0.773957  0.819048  0.558161  0.896767  1.000000   0.877288   \n",
       "8   2066.666667  0.705895  0.925926  0.452732  0.846355  0.933333   0.870520   \n",
       "9   1084.666667  0.760371  0.866667  0.569786  0.849588  1.000000   1.021130   \n",
       "10  1948.666667  0.797814  1.122222  0.613427  0.926811  0.969697   0.842212   \n",
       "11  1454.333333  0.664352  1.095238  0.460629  0.844778  0.833333   0.469946   \n",
       "12  2110.666667  0.669230  1.055556  0.419008  0.844484  1.000000   0.845878   \n",
       "13  1296.000000  0.714792  1.333333  0.541599  0.820433  0.766667   0.897838   \n",
       "14  2110.666667  0.679237  0.750916  0.468685  0.851218  1.037037   0.647057   \n",
       "15  1260.666667  0.731002  1.237037  0.506940  0.884271  0.944444   0.778120   \n",
       "16  1525.666667  0.759286  1.333333  0.581400  0.881226  0.952381   0.759410   \n",
       "17  2625.666667  0.686126  1.777778  0.437114  0.862152  1.114286   0.834925   \n",
       "18  1611.000000  0.681882  1.722222  0.457161  0.841109  1.055556   0.896983   \n",
       "19  2552.000000  0.664801  0.916667  0.462821  0.817515  0.916340   0.647009   \n",
       "20  1857.333333  0.752263  0.933333  0.495301  0.872446  1.000000   0.872048   \n",
       "21  1925.333333  0.798866  1.000000  0.645392  0.889854  1.000000   0.886692   \n",
       "22  1939.333333  1.074854  1.658730  0.636501  0.939844  1.234127   5.014855   \n",
       "23  1718.666667  0.664731  0.944444  0.468980  0.868074  0.750000   0.567784   \n",
       "24  2242.000000  0.742903  1.194444  0.549800  0.852839  1.083333   0.817717   \n",
       "\n",
       "    랭크  \n",
       "0    8  \n",
       "1   15  \n",
       "2   24  \n",
       "3   17  \n",
       "4   14  \n",
       "5   11  \n",
       "6    9  \n",
       "7   21  \n",
       "8   10  \n",
       "9   20  \n",
       "10  22  \n",
       "11   1  \n",
       "12   4  \n",
       "13  12  \n",
       "14   5  \n",
       "15  13  \n",
       "16  19  \n",
       "17   7  \n",
       "18   6  \n",
       "19   3  \n",
       "20  18  \n",
       "21  23  \n",
       "22  25  \n",
       "23   2  \n",
       "24  16  \n",
       "\n",
       "[25 rows x 24 columns]"
      ]
     },
     "execution_count": 105,
     "metadata": {},
     "output_type": "execute_result"
    }
   ],
   "source": [
    "old_pop"
   ]
  },
  {
   "cell_type": "code",
   "execution_count": 106,
   "id": "efc56db4",
   "metadata": {},
   "outputs": [],
   "source": [
    "old_pop=old_pop.drop(columns=['Unnamed: 0'], axis=1)"
   ]
  },
  {
   "cell_type": "code",
   "execution_count": 107,
   "id": "d580b028",
   "metadata": {},
   "outputs": [
    {
     "data": {
      "text/html": [
       "<div>\n",
       "<style scoped>\n",
       "    .dataframe tbody tr th:only-of-type {\n",
       "        vertical-align: middle;\n",
       "    }\n",
       "\n",
       "    .dataframe tbody tr th {\n",
       "        vertical-align: top;\n",
       "    }\n",
       "\n",
       "    .dataframe thead th {\n",
       "        text-align: right;\n",
       "    }\n",
       "</style>\n",
       "<table border=\"1\" class=\"dataframe\">\n",
       "  <thead>\n",
       "    <tr style=\"text-align: right;\">\n",
       "      <th></th>\n",
       "      <th>지역구</th>\n",
       "      <th>년도</th>\n",
       "      <th>경찰관수</th>\n",
       "      <th>치안시설총수</th>\n",
       "      <th>발생합계</th>\n",
       "      <th>살인발생</th>\n",
       "      <th>강도발생</th>\n",
       "      <th>강간강제추행발생</th>\n",
       "      <th>절도발생</th>\n",
       "      <th>폭력발생</th>\n",
       "      <th>...</th>\n",
       "      <th>강간강제추행검거</th>\n",
       "      <th>절도검거</th>\n",
       "      <th>폭력검거</th>\n",
       "      <th>검거율/발생율</th>\n",
       "      <th>강도검거율</th>\n",
       "      <th>절도검거율</th>\n",
       "      <th>폭력검거율</th>\n",
       "      <th>살인검거율</th>\n",
       "      <th>강간강제추행검거율</th>\n",
       "      <th>랭크</th>\n",
       "    </tr>\n",
       "  </thead>\n",
       "  <tbody>\n",
       "    <tr>\n",
       "      <th>0</th>\n",
       "      <td>강남구</td>\n",
       "      <td>2018</td>\n",
       "      <td>1999.000000</td>\n",
       "      <td>29.333333</td>\n",
       "      <td>7512.333333</td>\n",
       "      <td>7.333333</td>\n",
       "      <td>13.000000</td>\n",
       "      <td>624.333333</td>\n",
       "      <td>3034.666667</td>\n",
       "      <td>3833.000000</td>\n",
       "      <td>...</td>\n",
       "      <td>527.000000</td>\n",
       "      <td>1346.333333</td>\n",
       "      <td>3301.000000</td>\n",
       "      <td>0.691618</td>\n",
       "      <td>1.038095</td>\n",
       "      <td>0.443703</td>\n",
       "      <td>0.861245</td>\n",
       "      <td>0.966667</td>\n",
       "      <td>0.844215</td>\n",
       "      <td>8</td>\n",
       "    </tr>\n",
       "    <tr>\n",
       "      <th>1</th>\n",
       "      <td>강동구</td>\n",
       "      <td>2018</td>\n",
       "      <td>1012.000000</td>\n",
       "      <td>21.333333</td>\n",
       "      <td>4064.666667</td>\n",
       "      <td>4.666667</td>\n",
       "      <td>10.666667</td>\n",
       "      <td>174.000000</td>\n",
       "      <td>1603.333333</td>\n",
       "      <td>2272.000000</td>\n",
       "      <td>...</td>\n",
       "      <td>155.666667</td>\n",
       "      <td>873.666667</td>\n",
       "      <td>1951.333333</td>\n",
       "      <td>0.736464</td>\n",
       "      <td>1.044444</td>\n",
       "      <td>0.543849</td>\n",
       "      <td>0.858642</td>\n",
       "      <td>1.011111</td>\n",
       "      <td>0.894949</td>\n",
       "      <td>15</td>\n",
       "    </tr>\n",
       "    <tr>\n",
       "      <th>2</th>\n",
       "      <td>강북구</td>\n",
       "      <td>2018</td>\n",
       "      <td>893.666667</td>\n",
       "      <td>18.666667</td>\n",
       "      <td>3556.000000</td>\n",
       "      <td>7.333333</td>\n",
       "      <td>5.666667</td>\n",
       "      <td>190.666667</td>\n",
       "      <td>1118.333333</td>\n",
       "      <td>2234.000000</td>\n",
       "      <td>...</td>\n",
       "      <td>144.333333</td>\n",
       "      <td>634.000000</td>\n",
       "      <td>2073.666667</td>\n",
       "      <td>0.806010</td>\n",
       "      <td>0.793651</td>\n",
       "      <td>0.569592</td>\n",
       "      <td>0.929038</td>\n",
       "      <td>0.916667</td>\n",
       "      <td>0.759175</td>\n",
       "      <td>24</td>\n",
       "    </tr>\n",
       "    <tr>\n",
       "      <th>3</th>\n",
       "      <td>강서구</td>\n",
       "      <td>2018</td>\n",
       "      <td>1242.666667</td>\n",
       "      <td>16.000000</td>\n",
       "      <td>4896.000000</td>\n",
       "      <td>10.000000</td>\n",
       "      <td>4.333333</td>\n",
       "      <td>297.000000</td>\n",
       "      <td>1887.333333</td>\n",
       "      <td>2697.333333</td>\n",
       "      <td>...</td>\n",
       "      <td>252.000000</td>\n",
       "      <td>1057.333333</td>\n",
       "      <td>2323.000000</td>\n",
       "      <td>0.744565</td>\n",
       "      <td>1.111111</td>\n",
       "      <td>0.561495</td>\n",
       "      <td>0.860778</td>\n",
       "      <td>0.981061</td>\n",
       "      <td>0.851667</td>\n",
       "      <td>17</td>\n",
       "    </tr>\n",
       "    <tr>\n",
       "      <th>4</th>\n",
       "      <td>관악구</td>\n",
       "      <td>2018</td>\n",
       "      <td>1194.000000</td>\n",
       "      <td>25.333333</td>\n",
       "      <td>5293.000000</td>\n",
       "      <td>10.000000</td>\n",
       "      <td>9.000000</td>\n",
       "      <td>379.666667</td>\n",
       "      <td>2071.333333</td>\n",
       "      <td>2823.000000</td>\n",
       "      <td>...</td>\n",
       "      <td>321.000000</td>\n",
       "      <td>1087.333333</td>\n",
       "      <td>2445.666667</td>\n",
       "      <td>0.731255</td>\n",
       "      <td>1.052381</td>\n",
       "      <td>0.526545</td>\n",
       "      <td>0.867577</td>\n",
       "      <td>0.881410</td>\n",
       "      <td>0.846599</td>\n",
       "      <td>14</td>\n",
       "    </tr>\n",
       "    <tr>\n",
       "      <th>5</th>\n",
       "      <td>광진구</td>\n",
       "      <td>2018</td>\n",
       "      <td>952.333333</td>\n",
       "      <td>16.000000</td>\n",
       "      <td>4190.666667</td>\n",
       "      <td>5.666667</td>\n",
       "      <td>7.000000</td>\n",
       "      <td>254.333333</td>\n",
       "      <td>1954.666667</td>\n",
       "      <td>1969.000000</td>\n",
       "      <td>...</td>\n",
       "      <td>201.666667</td>\n",
       "      <td>1050.000000</td>\n",
       "      <td>1703.333333</td>\n",
       "      <td>0.707459</td>\n",
       "      <td>0.649573</td>\n",
       "      <td>0.538107</td>\n",
       "      <td>0.864138</td>\n",
       "      <td>0.932540</td>\n",
       "      <td>0.793549</td>\n",
       "      <td>11</td>\n",
       "    </tr>\n",
       "    <tr>\n",
       "      <th>6</th>\n",
       "      <td>구로구</td>\n",
       "      <td>2018</td>\n",
       "      <td>1007.000000</td>\n",
       "      <td>21.333333</td>\n",
       "      <td>4804.000000</td>\n",
       "      <td>8.333333</td>\n",
       "      <td>6.666667</td>\n",
       "      <td>268.000000</td>\n",
       "      <td>1786.000000</td>\n",
       "      <td>2735.000000</td>\n",
       "      <td>...</td>\n",
       "      <td>175.666667</td>\n",
       "      <td>873.666667</td>\n",
       "      <td>2281.666667</td>\n",
       "      <td>0.696454</td>\n",
       "      <td>1.027778</td>\n",
       "      <td>0.488593</td>\n",
       "      <td>0.834489</td>\n",
       "      <td>1.014286</td>\n",
       "      <td>0.668639</td>\n",
       "      <td>9</td>\n",
       "    </tr>\n",
       "    <tr>\n",
       "      <th>7</th>\n",
       "      <td>금천구</td>\n",
       "      <td>2018</td>\n",
       "      <td>771.000000</td>\n",
       "      <td>16.000000</td>\n",
       "      <td>3221.000000</td>\n",
       "      <td>5.666667</td>\n",
       "      <td>7.333333</td>\n",
       "      <td>197.666667</td>\n",
       "      <td>1155.333333</td>\n",
       "      <td>1855.000000</td>\n",
       "      <td>...</td>\n",
       "      <td>174.333333</td>\n",
       "      <td>644.666667</td>\n",
       "      <td>1663.666667</td>\n",
       "      <td>0.773957</td>\n",
       "      <td>0.819048</td>\n",
       "      <td>0.558161</td>\n",
       "      <td>0.896767</td>\n",
       "      <td>1.000000</td>\n",
       "      <td>0.877288</td>\n",
       "      <td>21</td>\n",
       "    </tr>\n",
       "    <tr>\n",
       "      <th>8</th>\n",
       "      <td>노원구</td>\n",
       "      <td>2018</td>\n",
       "      <td>1087.333333</td>\n",
       "      <td>23.333333</td>\n",
       "      <td>4123.000000</td>\n",
       "      <td>4.333333</td>\n",
       "      <td>5.666667</td>\n",
       "      <td>186.000000</td>\n",
       "      <td>1486.000000</td>\n",
       "      <td>2441.000000</td>\n",
       "      <td>...</td>\n",
       "      <td>162.000000</td>\n",
       "      <td>674.333333</td>\n",
       "      <td>2066.666667</td>\n",
       "      <td>0.705895</td>\n",
       "      <td>0.925926</td>\n",
       "      <td>0.452732</td>\n",
       "      <td>0.846355</td>\n",
       "      <td>0.933333</td>\n",
       "      <td>0.870520</td>\n",
       "      <td>10</td>\n",
       "    </tr>\n",
       "    <tr>\n",
       "      <th>9</th>\n",
       "      <td>도봉구</td>\n",
       "      <td>2018</td>\n",
       "      <td>754.333333</td>\n",
       "      <td>12.000000</td>\n",
       "      <td>2119.333333</td>\n",
       "      <td>1.000000</td>\n",
       "      <td>4.333333</td>\n",
       "      <td>102.333333</td>\n",
       "      <td>734.666667</td>\n",
       "      <td>1277.000000</td>\n",
       "      <td>...</td>\n",
       "      <td>105.000000</td>\n",
       "      <td>414.000000</td>\n",
       "      <td>1084.666667</td>\n",
       "      <td>0.760371</td>\n",
       "      <td>0.866667</td>\n",
       "      <td>0.569786</td>\n",
       "      <td>0.849588</td>\n",
       "      <td>1.000000</td>\n",
       "      <td>1.021130</td>\n",
       "      <td>20</td>\n",
       "    </tr>\n",
       "    <tr>\n",
       "      <th>10</th>\n",
       "      <td>동대문구</td>\n",
       "      <td>2018</td>\n",
       "      <td>1097.333333</td>\n",
       "      <td>26.666667</td>\n",
       "      <td>3782.333333</td>\n",
       "      <td>6.333333</td>\n",
       "      <td>6.000000</td>\n",
       "      <td>159.333333</td>\n",
       "      <td>1508.333333</td>\n",
       "      <td>2102.333333</td>\n",
       "      <td>...</td>\n",
       "      <td>134.666667</td>\n",
       "      <td>924.666667</td>\n",
       "      <td>1948.666667</td>\n",
       "      <td>0.797814</td>\n",
       "      <td>1.122222</td>\n",
       "      <td>0.613427</td>\n",
       "      <td>0.926811</td>\n",
       "      <td>0.969697</td>\n",
       "      <td>0.842212</td>\n",
       "      <td>22</td>\n",
       "    </tr>\n",
       "    <tr>\n",
       "      <th>11</th>\n",
       "      <td>동작구</td>\n",
       "      <td>2018</td>\n",
       "      <td>898.666667</td>\n",
       "      <td>22.666667</td>\n",
       "      <td>3276.666667</td>\n",
       "      <td>2.666667</td>\n",
       "      <td>5.000000</td>\n",
       "      <td>311.666667</td>\n",
       "      <td>1235.000000</td>\n",
       "      <td>1722.333333</td>\n",
       "      <td>...</td>\n",
       "      <td>145.666667</td>\n",
       "      <td>568.000000</td>\n",
       "      <td>1454.333333</td>\n",
       "      <td>0.664352</td>\n",
       "      <td>1.095238</td>\n",
       "      <td>0.460629</td>\n",
       "      <td>0.844778</td>\n",
       "      <td>0.833333</td>\n",
       "      <td>0.469946</td>\n",
       "      <td>1</td>\n",
       "    </tr>\n",
       "    <tr>\n",
       "      <th>12</th>\n",
       "      <td>마포구</td>\n",
       "      <td>2018</td>\n",
       "      <td>1169.333333</td>\n",
       "      <td>21.333333</td>\n",
       "      <td>5097.333333</td>\n",
       "      <td>3.666667</td>\n",
       "      <td>5.333333</td>\n",
       "      <td>489.333333</td>\n",
       "      <td>2098.333333</td>\n",
       "      <td>2500.666667</td>\n",
       "      <td>...</td>\n",
       "      <td>414.000000</td>\n",
       "      <td>878.666667</td>\n",
       "      <td>2110.666667</td>\n",
       "      <td>0.669230</td>\n",
       "      <td>1.055556</td>\n",
       "      <td>0.419008</td>\n",
       "      <td>0.844484</td>\n",
       "      <td>1.000000</td>\n",
       "      <td>0.845878</td>\n",
       "      <td>4</td>\n",
       "    </tr>\n",
       "    <tr>\n",
       "      <th>13</th>\n",
       "      <td>서대문구</td>\n",
       "      <td>2018</td>\n",
       "      <td>906.000000</td>\n",
       "      <td>14.666667</td>\n",
       "      <td>2952.666667</td>\n",
       "      <td>3.666667</td>\n",
       "      <td>3.000000</td>\n",
       "      <td>194.333333</td>\n",
       "      <td>1172.666667</td>\n",
       "      <td>1579.000000</td>\n",
       "      <td>...</td>\n",
       "      <td>174.666667</td>\n",
       "      <td>634.666667</td>\n",
       "      <td>1296.000000</td>\n",
       "      <td>0.714792</td>\n",
       "      <td>1.333333</td>\n",
       "      <td>0.541599</td>\n",
       "      <td>0.820433</td>\n",
       "      <td>0.766667</td>\n",
       "      <td>0.897838</td>\n",
       "      <td>12</td>\n",
       "    </tr>\n",
       "    <tr>\n",
       "      <th>14</th>\n",
       "      <td>서초구</td>\n",
       "      <td>2018</td>\n",
       "      <td>1467.666667</td>\n",
       "      <td>25.333333</td>\n",
       "      <td>4992.000000</td>\n",
       "      <td>6.333333</td>\n",
       "      <td>8.333333</td>\n",
       "      <td>518.666667</td>\n",
       "      <td>1977.666667</td>\n",
       "      <td>2481.000000</td>\n",
       "      <td>...</td>\n",
       "      <td>336.666667</td>\n",
       "      <td>930.333333</td>\n",
       "      <td>2110.666667</td>\n",
       "      <td>0.679237</td>\n",
       "      <td>0.750916</td>\n",
       "      <td>0.468685</td>\n",
       "      <td>0.851218</td>\n",
       "      <td>1.037037</td>\n",
       "      <td>0.647057</td>\n",
       "      <td>5</td>\n",
       "    </tr>\n",
       "    <tr>\n",
       "      <th>15</th>\n",
       "      <td>성동구</td>\n",
       "      <td>2018</td>\n",
       "      <td>862.000000</td>\n",
       "      <td>20.000000</td>\n",
       "      <td>2578.666667</td>\n",
       "      <td>3.000000</td>\n",
       "      <td>5.666667</td>\n",
       "      <td>130.333333</td>\n",
       "      <td>1013.666667</td>\n",
       "      <td>1426.000000</td>\n",
       "      <td>...</td>\n",
       "      <td>101.333333</td>\n",
       "      <td>513.666667</td>\n",
       "      <td>1260.666667</td>\n",
       "      <td>0.731002</td>\n",
       "      <td>1.237037</td>\n",
       "      <td>0.506940</td>\n",
       "      <td>0.884271</td>\n",
       "      <td>0.944444</td>\n",
       "      <td>0.778120</td>\n",
       "      <td>13</td>\n",
       "    </tr>\n",
       "    <tr>\n",
       "      <th>16</th>\n",
       "      <td>성북구</td>\n",
       "      <td>2018</td>\n",
       "      <td>1292.666667</td>\n",
       "      <td>32.000000</td>\n",
       "      <td>3117.666667</td>\n",
       "      <td>5.666667</td>\n",
       "      <td>4.000000</td>\n",
       "      <td>177.333333</td>\n",
       "      <td>1196.666667</td>\n",
       "      <td>1734.000000</td>\n",
       "      <td>...</td>\n",
       "      <td>134.666667</td>\n",
       "      <td>689.666667</td>\n",
       "      <td>1525.666667</td>\n",
       "      <td>0.759286</td>\n",
       "      <td>1.333333</td>\n",
       "      <td>0.581400</td>\n",
       "      <td>0.881226</td>\n",
       "      <td>0.952381</td>\n",
       "      <td>0.759410</td>\n",
       "      <td>19</td>\n",
       "    </tr>\n",
       "    <tr>\n",
       "      <th>17</th>\n",
       "      <td>송파구</td>\n",
       "      <td>2018</td>\n",
       "      <td>1398.000000</td>\n",
       "      <td>26.666667</td>\n",
       "      <td>5693.666667</td>\n",
       "      <td>6.000000</td>\n",
       "      <td>5.666667</td>\n",
       "      <td>290.000000</td>\n",
       "      <td>2347.333333</td>\n",
       "      <td>3044.666667</td>\n",
       "      <td>...</td>\n",
       "      <td>242.000000</td>\n",
       "      <td>1025.333333</td>\n",
       "      <td>2625.666667</td>\n",
       "      <td>0.686126</td>\n",
       "      <td>1.777778</td>\n",
       "      <td>0.437114</td>\n",
       "      <td>0.862152</td>\n",
       "      <td>1.114286</td>\n",
       "      <td>0.834925</td>\n",
       "      <td>7</td>\n",
       "    </tr>\n",
       "    <tr>\n",
       "      <th>18</th>\n",
       "      <td>양천구</td>\n",
       "      <td>2018</td>\n",
       "      <td>1034.666667</td>\n",
       "      <td>20.666667</td>\n",
       "      <td>3537.000000</td>\n",
       "      <td>3.666667</td>\n",
       "      <td>3.000000</td>\n",
       "      <td>128.333333</td>\n",
       "      <td>1483.666667</td>\n",
       "      <td>1918.333333</td>\n",
       "      <td>...</td>\n",
       "      <td>115.000000</td>\n",
       "      <td>678.666667</td>\n",
       "      <td>1611.000000</td>\n",
       "      <td>0.681882</td>\n",
       "      <td>1.722222</td>\n",
       "      <td>0.457161</td>\n",
       "      <td>0.841109</td>\n",
       "      <td>1.055556</td>\n",
       "      <td>0.896983</td>\n",
       "      <td>6</td>\n",
       "    </tr>\n",
       "    <tr>\n",
       "      <th>19</th>\n",
       "      <td>영등포구</td>\n",
       "      <td>2018</td>\n",
       "      <td>1310.333333</td>\n",
       "      <td>20.000000</td>\n",
       "      <td>5876.333333</td>\n",
       "      <td>14.000000</td>\n",
       "      <td>5.333333</td>\n",
       "      <td>400.666667</td>\n",
       "      <td>2335.000000</td>\n",
       "      <td>3121.333333</td>\n",
       "      <td>...</td>\n",
       "      <td>257.666667</td>\n",
       "      <td>1080.000000</td>\n",
       "      <td>2552.000000</td>\n",
       "      <td>0.664801</td>\n",
       "      <td>0.916667</td>\n",
       "      <td>0.462821</td>\n",
       "      <td>0.817515</td>\n",
       "      <td>0.916340</td>\n",
       "      <td>0.647009</td>\n",
       "      <td>3</td>\n",
       "    </tr>\n",
       "    <tr>\n",
       "      <th>20</th>\n",
       "      <td>용산구</td>\n",
       "      <td>2018</td>\n",
       "      <td>945.333333</td>\n",
       "      <td>16.000000</td>\n",
       "      <td>3594.666667</td>\n",
       "      <td>1.666667</td>\n",
       "      <td>3.666667</td>\n",
       "      <td>310.000000</td>\n",
       "      <td>1147.000000</td>\n",
       "      <td>2132.333333</td>\n",
       "      <td>...</td>\n",
       "      <td>270.333333</td>\n",
       "      <td>564.000000</td>\n",
       "      <td>1857.333333</td>\n",
       "      <td>0.752263</td>\n",
       "      <td>0.933333</td>\n",
       "      <td>0.495301</td>\n",
       "      <td>0.872446</td>\n",
       "      <td>1.000000</td>\n",
       "      <td>0.872048</td>\n",
       "      <td>18</td>\n",
       "    </tr>\n",
       "    <tr>\n",
       "      <th>21</th>\n",
       "      <td>은평구</td>\n",
       "      <td>2018</td>\n",
       "      <td>1237.333333</td>\n",
       "      <td>26.666667</td>\n",
       "      <td>3784.333333</td>\n",
       "      <td>5.666667</td>\n",
       "      <td>2.000000</td>\n",
       "      <td>204.000000</td>\n",
       "      <td>1410.000000</td>\n",
       "      <td>2162.666667</td>\n",
       "      <td>...</td>\n",
       "      <td>181.333333</td>\n",
       "      <td>909.000000</td>\n",
       "      <td>1925.333333</td>\n",
       "      <td>0.798866</td>\n",
       "      <td>1.000000</td>\n",
       "      <td>0.645392</td>\n",
       "      <td>0.889854</td>\n",
       "      <td>1.000000</td>\n",
       "      <td>0.886692</td>\n",
       "      <td>23</td>\n",
       "    </tr>\n",
       "    <tr>\n",
       "      <th>22</th>\n",
       "      <td>종로구</td>\n",
       "      <td>2018</td>\n",
       "      <td>1533.333333</td>\n",
       "      <td>30.666667</td>\n",
       "      <td>3864.333333</td>\n",
       "      <td>5.666667</td>\n",
       "      <td>6.666667</td>\n",
       "      <td>242.333333</td>\n",
       "      <td>1547.333333</td>\n",
       "      <td>2062.333333</td>\n",
       "      <td>...</td>\n",
       "      <td>1218.333333</td>\n",
       "      <td>981.000000</td>\n",
       "      <td>1939.333333</td>\n",
       "      <td>1.074854</td>\n",
       "      <td>1.658730</td>\n",
       "      <td>0.636501</td>\n",
       "      <td>0.939844</td>\n",
       "      <td>1.234127</td>\n",
       "      <td>5.014855</td>\n",
       "      <td>25</td>\n",
       "    </tr>\n",
       "    <tr>\n",
       "      <th>23</th>\n",
       "      <td>중구</td>\n",
       "      <td>2018</td>\n",
       "      <td>1383.000000</td>\n",
       "      <td>24.000000</td>\n",
       "      <td>4180.333333</td>\n",
       "      <td>1.666667</td>\n",
       "      <td>8.666667</td>\n",
       "      <td>223.000000</td>\n",
       "      <td>1967.666667</td>\n",
       "      <td>1979.333333</td>\n",
       "      <td>...</td>\n",
       "      <td>126.333333</td>\n",
       "      <td>923.666667</td>\n",
       "      <td>1718.666667</td>\n",
       "      <td>0.664731</td>\n",
       "      <td>0.944444</td>\n",
       "      <td>0.468980</td>\n",
       "      <td>0.868074</td>\n",
       "      <td>0.750000</td>\n",
       "      <td>0.567784</td>\n",
       "      <td>2</td>\n",
       "    </tr>\n",
       "    <tr>\n",
       "      <th>24</th>\n",
       "      <td>중랑구</td>\n",
       "      <td>2018</td>\n",
       "      <td>1014.333333</td>\n",
       "      <td>22.666667</td>\n",
       "      <td>4375.666667</td>\n",
       "      <td>6.333333</td>\n",
       "      <td>3.333333</td>\n",
       "      <td>161.333333</td>\n",
       "      <td>1575.000000</td>\n",
       "      <td>2629.666667</td>\n",
       "      <td>...</td>\n",
       "      <td>132.333333</td>\n",
       "      <td>865.666667</td>\n",
       "      <td>2242.000000</td>\n",
       "      <td>0.742903</td>\n",
       "      <td>1.194444</td>\n",
       "      <td>0.549800</td>\n",
       "      <td>0.852839</td>\n",
       "      <td>1.083333</td>\n",
       "      <td>0.817717</td>\n",
       "      <td>16</td>\n",
       "    </tr>\n",
       "  </tbody>\n",
       "</table>\n",
       "<p>25 rows × 23 columns</p>\n",
       "</div>"
      ],
      "text/plain": [
       "     지역구    년도         경찰관수     치안시설총수         발생합계       살인발생       강도발생  \\\n",
       "0    강남구  2018  1999.000000  29.333333  7512.333333   7.333333  13.000000   \n",
       "1    강동구  2018  1012.000000  21.333333  4064.666667   4.666667  10.666667   \n",
       "2    강북구  2018   893.666667  18.666667  3556.000000   7.333333   5.666667   \n",
       "3    강서구  2018  1242.666667  16.000000  4896.000000  10.000000   4.333333   \n",
       "4    관악구  2018  1194.000000  25.333333  5293.000000  10.000000   9.000000   \n",
       "5    광진구  2018   952.333333  16.000000  4190.666667   5.666667   7.000000   \n",
       "6    구로구  2018  1007.000000  21.333333  4804.000000   8.333333   6.666667   \n",
       "7    금천구  2018   771.000000  16.000000  3221.000000   5.666667   7.333333   \n",
       "8    노원구  2018  1087.333333  23.333333  4123.000000   4.333333   5.666667   \n",
       "9    도봉구  2018   754.333333  12.000000  2119.333333   1.000000   4.333333   \n",
       "10  동대문구  2018  1097.333333  26.666667  3782.333333   6.333333   6.000000   \n",
       "11   동작구  2018   898.666667  22.666667  3276.666667   2.666667   5.000000   \n",
       "12   마포구  2018  1169.333333  21.333333  5097.333333   3.666667   5.333333   \n",
       "13  서대문구  2018   906.000000  14.666667  2952.666667   3.666667   3.000000   \n",
       "14   서초구  2018  1467.666667  25.333333  4992.000000   6.333333   8.333333   \n",
       "15   성동구  2018   862.000000  20.000000  2578.666667   3.000000   5.666667   \n",
       "16   성북구  2018  1292.666667  32.000000  3117.666667   5.666667   4.000000   \n",
       "17   송파구  2018  1398.000000  26.666667  5693.666667   6.000000   5.666667   \n",
       "18   양천구  2018  1034.666667  20.666667  3537.000000   3.666667   3.000000   \n",
       "19  영등포구  2018  1310.333333  20.000000  5876.333333  14.000000   5.333333   \n",
       "20   용산구  2018   945.333333  16.000000  3594.666667   1.666667   3.666667   \n",
       "21   은평구  2018  1237.333333  26.666667  3784.333333   5.666667   2.000000   \n",
       "22   종로구  2018  1533.333333  30.666667  3864.333333   5.666667   6.666667   \n",
       "23    중구  2018  1383.000000  24.000000  4180.333333   1.666667   8.666667   \n",
       "24   중랑구  2018  1014.333333  22.666667  4375.666667   6.333333   3.333333   \n",
       "\n",
       "      강간강제추행발생         절도발생         폭력발생  ...     강간강제추행검거         절도검거  \\\n",
       "0   624.333333  3034.666667  3833.000000  ...   527.000000  1346.333333   \n",
       "1   174.000000  1603.333333  2272.000000  ...   155.666667   873.666667   \n",
       "2   190.666667  1118.333333  2234.000000  ...   144.333333   634.000000   \n",
       "3   297.000000  1887.333333  2697.333333  ...   252.000000  1057.333333   \n",
       "4   379.666667  2071.333333  2823.000000  ...   321.000000  1087.333333   \n",
       "5   254.333333  1954.666667  1969.000000  ...   201.666667  1050.000000   \n",
       "6   268.000000  1786.000000  2735.000000  ...   175.666667   873.666667   \n",
       "7   197.666667  1155.333333  1855.000000  ...   174.333333   644.666667   \n",
       "8   186.000000  1486.000000  2441.000000  ...   162.000000   674.333333   \n",
       "9   102.333333   734.666667  1277.000000  ...   105.000000   414.000000   \n",
       "10  159.333333  1508.333333  2102.333333  ...   134.666667   924.666667   \n",
       "11  311.666667  1235.000000  1722.333333  ...   145.666667   568.000000   \n",
       "12  489.333333  2098.333333  2500.666667  ...   414.000000   878.666667   \n",
       "13  194.333333  1172.666667  1579.000000  ...   174.666667   634.666667   \n",
       "14  518.666667  1977.666667  2481.000000  ...   336.666667   930.333333   \n",
       "15  130.333333  1013.666667  1426.000000  ...   101.333333   513.666667   \n",
       "16  177.333333  1196.666667  1734.000000  ...   134.666667   689.666667   \n",
       "17  290.000000  2347.333333  3044.666667  ...   242.000000  1025.333333   \n",
       "18  128.333333  1483.666667  1918.333333  ...   115.000000   678.666667   \n",
       "19  400.666667  2335.000000  3121.333333  ...   257.666667  1080.000000   \n",
       "20  310.000000  1147.000000  2132.333333  ...   270.333333   564.000000   \n",
       "21  204.000000  1410.000000  2162.666667  ...   181.333333   909.000000   \n",
       "22  242.333333  1547.333333  2062.333333  ...  1218.333333   981.000000   \n",
       "23  223.000000  1967.666667  1979.333333  ...   126.333333   923.666667   \n",
       "24  161.333333  1575.000000  2629.666667  ...   132.333333   865.666667   \n",
       "\n",
       "           폭력검거   검거율/발생율     강도검거율     절도검거율     폭력검거율     살인검거율  강간강제추행검거율  \\\n",
       "0   3301.000000  0.691618  1.038095  0.443703  0.861245  0.966667   0.844215   \n",
       "1   1951.333333  0.736464  1.044444  0.543849  0.858642  1.011111   0.894949   \n",
       "2   2073.666667  0.806010  0.793651  0.569592  0.929038  0.916667   0.759175   \n",
       "3   2323.000000  0.744565  1.111111  0.561495  0.860778  0.981061   0.851667   \n",
       "4   2445.666667  0.731255  1.052381  0.526545  0.867577  0.881410   0.846599   \n",
       "5   1703.333333  0.707459  0.649573  0.538107  0.864138  0.932540   0.793549   \n",
       "6   2281.666667  0.696454  1.027778  0.488593  0.834489  1.014286   0.668639   \n",
       "7   1663.666667  0.773957  0.819048  0.558161  0.896767  1.000000   0.877288   \n",
       "8   2066.666667  0.705895  0.925926  0.452732  0.846355  0.933333   0.870520   \n",
       "9   1084.666667  0.760371  0.866667  0.569786  0.849588  1.000000   1.021130   \n",
       "10  1948.666667  0.797814  1.122222  0.613427  0.926811  0.969697   0.842212   \n",
       "11  1454.333333  0.664352  1.095238  0.460629  0.844778  0.833333   0.469946   \n",
       "12  2110.666667  0.669230  1.055556  0.419008  0.844484  1.000000   0.845878   \n",
       "13  1296.000000  0.714792  1.333333  0.541599  0.820433  0.766667   0.897838   \n",
       "14  2110.666667  0.679237  0.750916  0.468685  0.851218  1.037037   0.647057   \n",
       "15  1260.666667  0.731002  1.237037  0.506940  0.884271  0.944444   0.778120   \n",
       "16  1525.666667  0.759286  1.333333  0.581400  0.881226  0.952381   0.759410   \n",
       "17  2625.666667  0.686126  1.777778  0.437114  0.862152  1.114286   0.834925   \n",
       "18  1611.000000  0.681882  1.722222  0.457161  0.841109  1.055556   0.896983   \n",
       "19  2552.000000  0.664801  0.916667  0.462821  0.817515  0.916340   0.647009   \n",
       "20  1857.333333  0.752263  0.933333  0.495301  0.872446  1.000000   0.872048   \n",
       "21  1925.333333  0.798866  1.000000  0.645392  0.889854  1.000000   0.886692   \n",
       "22  1939.333333  1.074854  1.658730  0.636501  0.939844  1.234127   5.014855   \n",
       "23  1718.666667  0.664731  0.944444  0.468980  0.868074  0.750000   0.567784   \n",
       "24  2242.000000  0.742903  1.194444  0.549800  0.852839  1.083333   0.817717   \n",
       "\n",
       "    랭크  \n",
       "0    8  \n",
       "1   15  \n",
       "2   24  \n",
       "3   17  \n",
       "4   14  \n",
       "5   11  \n",
       "6    9  \n",
       "7   21  \n",
       "8   10  \n",
       "9   20  \n",
       "10  22  \n",
       "11   1  \n",
       "12   4  \n",
       "13  12  \n",
       "14   5  \n",
       "15  13  \n",
       "16  19  \n",
       "17   7  \n",
       "18   6  \n",
       "19   3  \n",
       "20  18  \n",
       "21  23  \n",
       "22  25  \n",
       "23   2  \n",
       "24  16  \n",
       "\n",
       "[25 rows x 23 columns]"
      ]
     },
     "execution_count": 107,
     "metadata": {},
     "output_type": "execute_result"
    }
   ],
   "source": [
    "old_pop"
   ]
  },
  {
   "cell_type": "code",
   "execution_count": 108,
   "id": "e1878258",
   "metadata": {},
   "outputs": [],
   "source": [
    "old_pop.to_csv(\"old_pop.csv\")"
   ]
  },
  {
   "cell_type": "code",
   "execution_count": 109,
   "id": "ab2bfdd6",
   "metadata": {},
   "outputs": [
    {
     "data": {
      "application/vnd.plotly.v1+json": {
       "config": {
        "plotlyServerURL": "https://plot.ly"
       },
       "data": [
        {
         "coloraxis": "coloraxis",
         "hoverlabel": {
          "namelength": 0
         },
         "hovertemplate": "발생합계=%{x}<br>검거합계=%{y}<br>count=%{z}",
         "name": "",
         "type": "histogram2d",
         "x": [
          7512.333333333333,
          4064.6666666666665,
          3556,
          4896,
          5293,
          4190.666666666667,
          4804,
          3221,
          4123,
          2119.333333333333,
          3782.3333333333335,
          3276.6666666666665,
          5097.333333333333,
          2952.6666666666665,
          4992,
          2578.6666666666665,
          3117.6666666666665,
          5693.666666666667,
          3537,
          5876.333333333333,
          3594.6666666666665,
          3784.3333333333335,
          3864.3333333333335,
          4180.333333333333,
          4375.666666666667
         ],
         "xaxis": "x",
         "xbingroup": "x",
         "y": [
          5195.333333333333,
          2996.333333333333,
          2863.333333333333,
          3646.3333333333335,
          3872.3333333333335,
          2964.6666666666665,
          3345.6666666666665,
          2494,
          2912,
          1608.3333333333333,
          3020,
          2175.6666666666665,
          3412.6666666666665,
          2111.6666666666665,
          3390,
          1885.3333333333333,
          2359.6666666666665,
          3906.6666666666665,
          2414.333333333333,
          3907,
          2696.6666666666665,
          3023.333333333333,
          4155.666666666667,
          2778,
          3250.6666666666665
         ],
         "yaxis": "y",
         "ybingroup": "y"
        }
       ],
       "layout": {
        "coloraxis": {
         "colorbar": {
          "title": {
           "text": "count"
          }
         },
         "colorscale": [
          [
           0,
           "#0d0887"
          ],
          [
           0.1111111111111111,
           "#46039f"
          ],
          [
           0.2222222222222222,
           "#7201a8"
          ],
          [
           0.3333333333333333,
           "#9c179e"
          ],
          [
           0.4444444444444444,
           "#bd3786"
          ],
          [
           0.5555555555555556,
           "#d8576b"
          ],
          [
           0.6666666666666666,
           "#ed7953"
          ],
          [
           0.7777777777777778,
           "#fb9f3a"
          ],
          [
           0.8888888888888888,
           "#fdca26"
          ],
          [
           1,
           "#f0f921"
          ]
         ]
        },
        "legend": {
         "tracegroupgap": 0
        },
        "margin": {
         "t": 60
        },
        "template": {
         "data": {
          "bar": [
           {
            "error_x": {
             "color": "#2a3f5f"
            },
            "error_y": {
             "color": "#2a3f5f"
            },
            "marker": {
             "line": {
              "color": "#E5ECF6",
              "width": 0.5
             }
            },
            "type": "bar"
           }
          ],
          "barpolar": [
           {
            "marker": {
             "line": {
              "color": "#E5ECF6",
              "width": 0.5
             }
            },
            "type": "barpolar"
           }
          ],
          "carpet": [
           {
            "aaxis": {
             "endlinecolor": "#2a3f5f",
             "gridcolor": "white",
             "linecolor": "white",
             "minorgridcolor": "white",
             "startlinecolor": "#2a3f5f"
            },
            "baxis": {
             "endlinecolor": "#2a3f5f",
             "gridcolor": "white",
             "linecolor": "white",
             "minorgridcolor": "white",
             "startlinecolor": "#2a3f5f"
            },
            "type": "carpet"
           }
          ],
          "choropleth": [
           {
            "colorbar": {
             "outlinewidth": 0,
             "ticks": ""
            },
            "type": "choropleth"
           }
          ],
          "contour": [
           {
            "colorbar": {
             "outlinewidth": 0,
             "ticks": ""
            },
            "colorscale": [
             [
              0,
              "#0d0887"
             ],
             [
              0.1111111111111111,
              "#46039f"
             ],
             [
              0.2222222222222222,
              "#7201a8"
             ],
             [
              0.3333333333333333,
              "#9c179e"
             ],
             [
              0.4444444444444444,
              "#bd3786"
             ],
             [
              0.5555555555555556,
              "#d8576b"
             ],
             [
              0.6666666666666666,
              "#ed7953"
             ],
             [
              0.7777777777777778,
              "#fb9f3a"
             ],
             [
              0.8888888888888888,
              "#fdca26"
             ],
             [
              1,
              "#f0f921"
             ]
            ],
            "type": "contour"
           }
          ],
          "contourcarpet": [
           {
            "colorbar": {
             "outlinewidth": 0,
             "ticks": ""
            },
            "type": "contourcarpet"
           }
          ],
          "heatmap": [
           {
            "colorbar": {
             "outlinewidth": 0,
             "ticks": ""
            },
            "colorscale": [
             [
              0,
              "#0d0887"
             ],
             [
              0.1111111111111111,
              "#46039f"
             ],
             [
              0.2222222222222222,
              "#7201a8"
             ],
             [
              0.3333333333333333,
              "#9c179e"
             ],
             [
              0.4444444444444444,
              "#bd3786"
             ],
             [
              0.5555555555555556,
              "#d8576b"
             ],
             [
              0.6666666666666666,
              "#ed7953"
             ],
             [
              0.7777777777777778,
              "#fb9f3a"
             ],
             [
              0.8888888888888888,
              "#fdca26"
             ],
             [
              1,
              "#f0f921"
             ]
            ],
            "type": "heatmap"
           }
          ],
          "heatmapgl": [
           {
            "colorbar": {
             "outlinewidth": 0,
             "ticks": ""
            },
            "colorscale": [
             [
              0,
              "#0d0887"
             ],
             [
              0.1111111111111111,
              "#46039f"
             ],
             [
              0.2222222222222222,
              "#7201a8"
             ],
             [
              0.3333333333333333,
              "#9c179e"
             ],
             [
              0.4444444444444444,
              "#bd3786"
             ],
             [
              0.5555555555555556,
              "#d8576b"
             ],
             [
              0.6666666666666666,
              "#ed7953"
             ],
             [
              0.7777777777777778,
              "#fb9f3a"
             ],
             [
              0.8888888888888888,
              "#fdca26"
             ],
             [
              1,
              "#f0f921"
             ]
            ],
            "type": "heatmapgl"
           }
          ],
          "histogram": [
           {
            "marker": {
             "colorbar": {
              "outlinewidth": 0,
              "ticks": ""
             }
            },
            "type": "histogram"
           }
          ],
          "histogram2d": [
           {
            "colorbar": {
             "outlinewidth": 0,
             "ticks": ""
            },
            "colorscale": [
             [
              0,
              "#0d0887"
             ],
             [
              0.1111111111111111,
              "#46039f"
             ],
             [
              0.2222222222222222,
              "#7201a8"
             ],
             [
              0.3333333333333333,
              "#9c179e"
             ],
             [
              0.4444444444444444,
              "#bd3786"
             ],
             [
              0.5555555555555556,
              "#d8576b"
             ],
             [
              0.6666666666666666,
              "#ed7953"
             ],
             [
              0.7777777777777778,
              "#fb9f3a"
             ],
             [
              0.8888888888888888,
              "#fdca26"
             ],
             [
              1,
              "#f0f921"
             ]
            ],
            "type": "histogram2d"
           }
          ],
          "histogram2dcontour": [
           {
            "colorbar": {
             "outlinewidth": 0,
             "ticks": ""
            },
            "colorscale": [
             [
              0,
              "#0d0887"
             ],
             [
              0.1111111111111111,
              "#46039f"
             ],
             [
              0.2222222222222222,
              "#7201a8"
             ],
             [
              0.3333333333333333,
              "#9c179e"
             ],
             [
              0.4444444444444444,
              "#bd3786"
             ],
             [
              0.5555555555555556,
              "#d8576b"
             ],
             [
              0.6666666666666666,
              "#ed7953"
             ],
             [
              0.7777777777777778,
              "#fb9f3a"
             ],
             [
              0.8888888888888888,
              "#fdca26"
             ],
             [
              1,
              "#f0f921"
             ]
            ],
            "type": "histogram2dcontour"
           }
          ],
          "mesh3d": [
           {
            "colorbar": {
             "outlinewidth": 0,
             "ticks": ""
            },
            "type": "mesh3d"
           }
          ],
          "parcoords": [
           {
            "line": {
             "colorbar": {
              "outlinewidth": 0,
              "ticks": ""
             }
            },
            "type": "parcoords"
           }
          ],
          "pie": [
           {
            "automargin": true,
            "type": "pie"
           }
          ],
          "scatter": [
           {
            "marker": {
             "colorbar": {
              "outlinewidth": 0,
              "ticks": ""
             }
            },
            "type": "scatter"
           }
          ],
          "scatter3d": [
           {
            "line": {
             "colorbar": {
              "outlinewidth": 0,
              "ticks": ""
             }
            },
            "marker": {
             "colorbar": {
              "outlinewidth": 0,
              "ticks": ""
             }
            },
            "type": "scatter3d"
           }
          ],
          "scattercarpet": [
           {
            "marker": {
             "colorbar": {
              "outlinewidth": 0,
              "ticks": ""
             }
            },
            "type": "scattercarpet"
           }
          ],
          "scattergeo": [
           {
            "marker": {
             "colorbar": {
              "outlinewidth": 0,
              "ticks": ""
             }
            },
            "type": "scattergeo"
           }
          ],
          "scattergl": [
           {
            "marker": {
             "colorbar": {
              "outlinewidth": 0,
              "ticks": ""
             }
            },
            "type": "scattergl"
           }
          ],
          "scattermapbox": [
           {
            "marker": {
             "colorbar": {
              "outlinewidth": 0,
              "ticks": ""
             }
            },
            "type": "scattermapbox"
           }
          ],
          "scatterpolar": [
           {
            "marker": {
             "colorbar": {
              "outlinewidth": 0,
              "ticks": ""
             }
            },
            "type": "scatterpolar"
           }
          ],
          "scatterpolargl": [
           {
            "marker": {
             "colorbar": {
              "outlinewidth": 0,
              "ticks": ""
             }
            },
            "type": "scatterpolargl"
           }
          ],
          "scatterternary": [
           {
            "marker": {
             "colorbar": {
              "outlinewidth": 0,
              "ticks": ""
             }
            },
            "type": "scatterternary"
           }
          ],
          "surface": [
           {
            "colorbar": {
             "outlinewidth": 0,
             "ticks": ""
            },
            "colorscale": [
             [
              0,
              "#0d0887"
             ],
             [
              0.1111111111111111,
              "#46039f"
             ],
             [
              0.2222222222222222,
              "#7201a8"
             ],
             [
              0.3333333333333333,
              "#9c179e"
             ],
             [
              0.4444444444444444,
              "#bd3786"
             ],
             [
              0.5555555555555556,
              "#d8576b"
             ],
             [
              0.6666666666666666,
              "#ed7953"
             ],
             [
              0.7777777777777778,
              "#fb9f3a"
             ],
             [
              0.8888888888888888,
              "#fdca26"
             ],
             [
              1,
              "#f0f921"
             ]
            ],
            "type": "surface"
           }
          ],
          "table": [
           {
            "cells": {
             "fill": {
              "color": "#EBF0F8"
             },
             "line": {
              "color": "white"
             }
            },
            "header": {
             "fill": {
              "color": "#C8D4E3"
             },
             "line": {
              "color": "white"
             }
            },
            "type": "table"
           }
          ]
         },
         "layout": {
          "annotationdefaults": {
           "arrowcolor": "#2a3f5f",
           "arrowhead": 0,
           "arrowwidth": 1
          },
          "coloraxis": {
           "colorbar": {
            "outlinewidth": 0,
            "ticks": ""
           }
          },
          "colorscale": {
           "diverging": [
            [
             0,
             "#8e0152"
            ],
            [
             0.1,
             "#c51b7d"
            ],
            [
             0.2,
             "#de77ae"
            ],
            [
             0.3,
             "#f1b6da"
            ],
            [
             0.4,
             "#fde0ef"
            ],
            [
             0.5,
             "#f7f7f7"
            ],
            [
             0.6,
             "#e6f5d0"
            ],
            [
             0.7,
             "#b8e186"
            ],
            [
             0.8,
             "#7fbc41"
            ],
            [
             0.9,
             "#4d9221"
            ],
            [
             1,
             "#276419"
            ]
           ],
           "sequential": [
            [
             0,
             "#0d0887"
            ],
            [
             0.1111111111111111,
             "#46039f"
            ],
            [
             0.2222222222222222,
             "#7201a8"
            ],
            [
             0.3333333333333333,
             "#9c179e"
            ],
            [
             0.4444444444444444,
             "#bd3786"
            ],
            [
             0.5555555555555556,
             "#d8576b"
            ],
            [
             0.6666666666666666,
             "#ed7953"
            ],
            [
             0.7777777777777778,
             "#fb9f3a"
            ],
            [
             0.8888888888888888,
             "#fdca26"
            ],
            [
             1,
             "#f0f921"
            ]
           ],
           "sequentialminus": [
            [
             0,
             "#0d0887"
            ],
            [
             0.1111111111111111,
             "#46039f"
            ],
            [
             0.2222222222222222,
             "#7201a8"
            ],
            [
             0.3333333333333333,
             "#9c179e"
            ],
            [
             0.4444444444444444,
             "#bd3786"
            ],
            [
             0.5555555555555556,
             "#d8576b"
            ],
            [
             0.6666666666666666,
             "#ed7953"
            ],
            [
             0.7777777777777778,
             "#fb9f3a"
            ],
            [
             0.8888888888888888,
             "#fdca26"
            ],
            [
             1,
             "#f0f921"
            ]
           ]
          },
          "colorway": [
           "#636efa",
           "#EF553B",
           "#00cc96",
           "#ab63fa",
           "#FFA15A",
           "#19d3f3",
           "#FF6692",
           "#B6E880",
           "#FF97FF",
           "#FECB52"
          ],
          "font": {
           "color": "#2a3f5f"
          },
          "geo": {
           "bgcolor": "white",
           "lakecolor": "white",
           "landcolor": "#E5ECF6",
           "showlakes": true,
           "showland": true,
           "subunitcolor": "white"
          },
          "hoverlabel": {
           "align": "left"
          },
          "hovermode": "closest",
          "mapbox": {
           "style": "light"
          },
          "paper_bgcolor": "white",
          "plot_bgcolor": "#E5ECF6",
          "polar": {
           "angularaxis": {
            "gridcolor": "white",
            "linecolor": "white",
            "ticks": ""
           },
           "bgcolor": "#E5ECF6",
           "radialaxis": {
            "gridcolor": "white",
            "linecolor": "white",
            "ticks": ""
           }
          },
          "scene": {
           "xaxis": {
            "backgroundcolor": "#E5ECF6",
            "gridcolor": "white",
            "gridwidth": 2,
            "linecolor": "white",
            "showbackground": true,
            "ticks": "",
            "zerolinecolor": "white"
           },
           "yaxis": {
            "backgroundcolor": "#E5ECF6",
            "gridcolor": "white",
            "gridwidth": 2,
            "linecolor": "white",
            "showbackground": true,
            "ticks": "",
            "zerolinecolor": "white"
           },
           "zaxis": {
            "backgroundcolor": "#E5ECF6",
            "gridcolor": "white",
            "gridwidth": 2,
            "linecolor": "white",
            "showbackground": true,
            "ticks": "",
            "zerolinecolor": "white"
           }
          },
          "shapedefaults": {
           "line": {
            "color": "#2a3f5f"
           }
          },
          "ternary": {
           "aaxis": {
            "gridcolor": "white",
            "linecolor": "white",
            "ticks": ""
           },
           "baxis": {
            "gridcolor": "white",
            "linecolor": "white",
            "ticks": ""
           },
           "bgcolor": "#E5ECF6",
           "caxis": {
            "gridcolor": "white",
            "linecolor": "white",
            "ticks": ""
           }
          },
          "title": {
           "x": 0.05
          },
          "xaxis": {
           "automargin": true,
           "gridcolor": "white",
           "linecolor": "white",
           "ticks": "",
           "title": {
            "standoff": 15
           },
           "zerolinecolor": "white",
           "zerolinewidth": 2
          },
          "yaxis": {
           "automargin": true,
           "gridcolor": "white",
           "linecolor": "white",
           "ticks": "",
           "title": {
            "standoff": 15
           },
           "zerolinecolor": "white",
           "zerolinewidth": 2
          }
         }
        },
        "xaxis": {
         "anchor": "y",
         "domain": [
          0,
          1
         ],
         "title": {
          "text": "발생합계"
         }
        },
        "yaxis": {
         "anchor": "x",
         "domain": [
          0,
          1
         ],
         "title": {
          "text": "검거합계"
         }
        }
       }
      },
      "text/html": [
       "<div>\n",
       "        \n",
       "        \n",
       "            <div id=\"4920af45-3390-4159-ab1c-71a64b24e1dc\" class=\"plotly-graph-div\" style=\"height:525px; width:100%;\"></div>\n",
       "            <script type=\"text/javascript\">\n",
       "                require([\"plotly\"], function(Plotly) {\n",
       "                    window.PLOTLYENV=window.PLOTLYENV || {};\n",
       "                    \n",
       "                if (document.getElementById(\"4920af45-3390-4159-ab1c-71a64b24e1dc\")) {\n",
       "                    Plotly.newPlot(\n",
       "                        '4920af45-3390-4159-ab1c-71a64b24e1dc',\n",
       "                        [{\"coloraxis\": \"coloraxis\", \"hoverlabel\": {\"namelength\": 0}, \"hovertemplate\": \"\\ubc1c\\uc0dd\\ud569\\uacc4=%{x}<br>\\uac80\\uac70\\ud569\\uacc4=%{y}<br>count=%{z}\", \"name\": \"\", \"type\": \"histogram2d\", \"x\": [7512.333333333333, 4064.6666666666665, 3556.0, 4896.0, 5293.0, 4190.666666666667, 4804.0, 3221.0, 4123.0, 2119.333333333333, 3782.3333333333335, 3276.6666666666665, 5097.333333333333, 2952.6666666666665, 4992.0, 2578.6666666666665, 3117.6666666666665, 5693.666666666667, 3537.0, 5876.333333333333, 3594.6666666666665, 3784.3333333333335, 3864.3333333333335, 4180.333333333333, 4375.666666666667], \"xaxis\": \"x\", \"xbingroup\": \"x\", \"y\": [5195.333333333333, 2996.333333333333, 2863.333333333333, 3646.3333333333335, 3872.3333333333335, 2964.6666666666665, 3345.6666666666665, 2494.0, 2912.0, 1608.3333333333333, 3020.0, 2175.6666666666665, 3412.6666666666665, 2111.6666666666665, 3390.0, 1885.3333333333333, 2359.6666666666665, 3906.6666666666665, 2414.333333333333, 3907.0, 2696.6666666666665, 3023.333333333333, 4155.666666666667, 2778.0, 3250.6666666666665], \"yaxis\": \"y\", \"ybingroup\": \"y\"}],\n",
       "                        {\"coloraxis\": {\"colorbar\": {\"title\": {\"text\": \"count\"}}, \"colorscale\": [[0.0, \"#0d0887\"], [0.1111111111111111, \"#46039f\"], [0.2222222222222222, \"#7201a8\"], [0.3333333333333333, \"#9c179e\"], [0.4444444444444444, \"#bd3786\"], [0.5555555555555556, \"#d8576b\"], [0.6666666666666666, \"#ed7953\"], [0.7777777777777778, \"#fb9f3a\"], [0.8888888888888888, \"#fdca26\"], [1.0, \"#f0f921\"]]}, \"legend\": {\"tracegroupgap\": 0}, \"margin\": {\"t\": 60}, \"template\": {\"data\": {\"bar\": [{\"error_x\": {\"color\": \"#2a3f5f\"}, \"error_y\": {\"color\": \"#2a3f5f\"}, \"marker\": {\"line\": {\"color\": \"#E5ECF6\", \"width\": 0.5}}, \"type\": \"bar\"}], \"barpolar\": [{\"marker\": {\"line\": {\"color\": \"#E5ECF6\", \"width\": 0.5}}, \"type\": \"barpolar\"}], \"carpet\": [{\"aaxis\": {\"endlinecolor\": \"#2a3f5f\", \"gridcolor\": \"white\", \"linecolor\": \"white\", \"minorgridcolor\": \"white\", \"startlinecolor\": \"#2a3f5f\"}, \"baxis\": {\"endlinecolor\": \"#2a3f5f\", \"gridcolor\": \"white\", \"linecolor\": \"white\", \"minorgridcolor\": \"white\", \"startlinecolor\": \"#2a3f5f\"}, \"type\": \"carpet\"}], \"choropleth\": [{\"colorbar\": {\"outlinewidth\": 0, \"ticks\": \"\"}, \"type\": \"choropleth\"}], \"contour\": [{\"colorbar\": {\"outlinewidth\": 0, \"ticks\": \"\"}, \"colorscale\": [[0.0, \"#0d0887\"], [0.1111111111111111, \"#46039f\"], [0.2222222222222222, \"#7201a8\"], [0.3333333333333333, \"#9c179e\"], [0.4444444444444444, \"#bd3786\"], [0.5555555555555556, \"#d8576b\"], [0.6666666666666666, \"#ed7953\"], [0.7777777777777778, \"#fb9f3a\"], [0.8888888888888888, \"#fdca26\"], [1.0, \"#f0f921\"]], \"type\": \"contour\"}], \"contourcarpet\": [{\"colorbar\": {\"outlinewidth\": 0, \"ticks\": \"\"}, \"type\": \"contourcarpet\"}], \"heatmap\": [{\"colorbar\": {\"outlinewidth\": 0, \"ticks\": \"\"}, \"colorscale\": [[0.0, \"#0d0887\"], [0.1111111111111111, \"#46039f\"], [0.2222222222222222, \"#7201a8\"], [0.3333333333333333, \"#9c179e\"], [0.4444444444444444, \"#bd3786\"], [0.5555555555555556, \"#d8576b\"], [0.6666666666666666, \"#ed7953\"], [0.7777777777777778, \"#fb9f3a\"], [0.8888888888888888, \"#fdca26\"], [1.0, \"#f0f921\"]], \"type\": \"heatmap\"}], \"heatmapgl\": [{\"colorbar\": {\"outlinewidth\": 0, \"ticks\": \"\"}, \"colorscale\": [[0.0, \"#0d0887\"], [0.1111111111111111, \"#46039f\"], [0.2222222222222222, \"#7201a8\"], [0.3333333333333333, \"#9c179e\"], [0.4444444444444444, \"#bd3786\"], [0.5555555555555556, \"#d8576b\"], [0.6666666666666666, \"#ed7953\"], [0.7777777777777778, \"#fb9f3a\"], [0.8888888888888888, \"#fdca26\"], [1.0, \"#f0f921\"]], \"type\": \"heatmapgl\"}], \"histogram\": [{\"marker\": {\"colorbar\": {\"outlinewidth\": 0, \"ticks\": \"\"}}, \"type\": \"histogram\"}], \"histogram2d\": [{\"colorbar\": {\"outlinewidth\": 0, \"ticks\": \"\"}, \"colorscale\": [[0.0, \"#0d0887\"], [0.1111111111111111, \"#46039f\"], [0.2222222222222222, \"#7201a8\"], [0.3333333333333333, \"#9c179e\"], [0.4444444444444444, \"#bd3786\"], [0.5555555555555556, \"#d8576b\"], [0.6666666666666666, \"#ed7953\"], [0.7777777777777778, \"#fb9f3a\"], [0.8888888888888888, \"#fdca26\"], [1.0, \"#f0f921\"]], \"type\": \"histogram2d\"}], \"histogram2dcontour\": [{\"colorbar\": {\"outlinewidth\": 0, \"ticks\": \"\"}, \"colorscale\": [[0.0, \"#0d0887\"], [0.1111111111111111, \"#46039f\"], [0.2222222222222222, \"#7201a8\"], [0.3333333333333333, \"#9c179e\"], [0.4444444444444444, \"#bd3786\"], [0.5555555555555556, \"#d8576b\"], [0.6666666666666666, \"#ed7953\"], [0.7777777777777778, \"#fb9f3a\"], [0.8888888888888888, \"#fdca26\"], [1.0, \"#f0f921\"]], \"type\": \"histogram2dcontour\"}], \"mesh3d\": [{\"colorbar\": {\"outlinewidth\": 0, \"ticks\": \"\"}, \"type\": \"mesh3d\"}], \"parcoords\": [{\"line\": {\"colorbar\": {\"outlinewidth\": 0, \"ticks\": \"\"}}, \"type\": \"parcoords\"}], \"pie\": [{\"automargin\": true, \"type\": \"pie\"}], \"scatter\": [{\"marker\": {\"colorbar\": {\"outlinewidth\": 0, \"ticks\": \"\"}}, \"type\": \"scatter\"}], \"scatter3d\": [{\"line\": {\"colorbar\": {\"outlinewidth\": 0, \"ticks\": \"\"}}, \"marker\": {\"colorbar\": {\"outlinewidth\": 0, \"ticks\": \"\"}}, \"type\": \"scatter3d\"}], \"scattercarpet\": [{\"marker\": {\"colorbar\": {\"outlinewidth\": 0, \"ticks\": \"\"}}, \"type\": \"scattercarpet\"}], \"scattergeo\": [{\"marker\": {\"colorbar\": {\"outlinewidth\": 0, \"ticks\": \"\"}}, \"type\": \"scattergeo\"}], \"scattergl\": [{\"marker\": {\"colorbar\": {\"outlinewidth\": 0, \"ticks\": \"\"}}, \"type\": \"scattergl\"}], \"scattermapbox\": [{\"marker\": {\"colorbar\": {\"outlinewidth\": 0, \"ticks\": \"\"}}, \"type\": \"scattermapbox\"}], \"scatterpolar\": [{\"marker\": {\"colorbar\": {\"outlinewidth\": 0, \"ticks\": \"\"}}, \"type\": \"scatterpolar\"}], \"scatterpolargl\": [{\"marker\": {\"colorbar\": {\"outlinewidth\": 0, \"ticks\": \"\"}}, \"type\": \"scatterpolargl\"}], \"scatterternary\": [{\"marker\": {\"colorbar\": {\"outlinewidth\": 0, \"ticks\": \"\"}}, \"type\": \"scatterternary\"}], \"surface\": [{\"colorbar\": {\"outlinewidth\": 0, \"ticks\": \"\"}, \"colorscale\": [[0.0, \"#0d0887\"], [0.1111111111111111, \"#46039f\"], [0.2222222222222222, \"#7201a8\"], [0.3333333333333333, \"#9c179e\"], [0.4444444444444444, \"#bd3786\"], [0.5555555555555556, \"#d8576b\"], [0.6666666666666666, \"#ed7953\"], [0.7777777777777778, \"#fb9f3a\"], [0.8888888888888888, \"#fdca26\"], [1.0, \"#f0f921\"]], \"type\": \"surface\"}], \"table\": [{\"cells\": {\"fill\": {\"color\": \"#EBF0F8\"}, \"line\": {\"color\": \"white\"}}, \"header\": {\"fill\": {\"color\": \"#C8D4E3\"}, \"line\": {\"color\": \"white\"}}, \"type\": \"table\"}]}, \"layout\": {\"annotationdefaults\": {\"arrowcolor\": \"#2a3f5f\", \"arrowhead\": 0, \"arrowwidth\": 1}, \"coloraxis\": {\"colorbar\": {\"outlinewidth\": 0, \"ticks\": \"\"}}, \"colorscale\": {\"diverging\": [[0, \"#8e0152\"], [0.1, \"#c51b7d\"], [0.2, \"#de77ae\"], [0.3, \"#f1b6da\"], [0.4, \"#fde0ef\"], [0.5, \"#f7f7f7\"], [0.6, \"#e6f5d0\"], [0.7, \"#b8e186\"], [0.8, \"#7fbc41\"], [0.9, \"#4d9221\"], [1, \"#276419\"]], \"sequential\": [[0.0, \"#0d0887\"], [0.1111111111111111, \"#46039f\"], [0.2222222222222222, \"#7201a8\"], [0.3333333333333333, \"#9c179e\"], [0.4444444444444444, \"#bd3786\"], [0.5555555555555556, \"#d8576b\"], [0.6666666666666666, \"#ed7953\"], [0.7777777777777778, \"#fb9f3a\"], [0.8888888888888888, \"#fdca26\"], [1.0, \"#f0f921\"]], \"sequentialminus\": [[0.0, \"#0d0887\"], [0.1111111111111111, \"#46039f\"], [0.2222222222222222, \"#7201a8\"], [0.3333333333333333, \"#9c179e\"], [0.4444444444444444, \"#bd3786\"], [0.5555555555555556, \"#d8576b\"], [0.6666666666666666, \"#ed7953\"], [0.7777777777777778, \"#fb9f3a\"], [0.8888888888888888, \"#fdca26\"], [1.0, \"#f0f921\"]]}, \"colorway\": [\"#636efa\", \"#EF553B\", \"#00cc96\", \"#ab63fa\", \"#FFA15A\", \"#19d3f3\", \"#FF6692\", \"#B6E880\", \"#FF97FF\", \"#FECB52\"], \"font\": {\"color\": \"#2a3f5f\"}, \"geo\": {\"bgcolor\": \"white\", \"lakecolor\": \"white\", \"landcolor\": \"#E5ECF6\", \"showlakes\": true, \"showland\": true, \"subunitcolor\": \"white\"}, \"hoverlabel\": {\"align\": \"left\"}, \"hovermode\": \"closest\", \"mapbox\": {\"style\": \"light\"}, \"paper_bgcolor\": \"white\", \"plot_bgcolor\": \"#E5ECF6\", \"polar\": {\"angularaxis\": {\"gridcolor\": \"white\", \"linecolor\": \"white\", \"ticks\": \"\"}, \"bgcolor\": \"#E5ECF6\", \"radialaxis\": {\"gridcolor\": \"white\", \"linecolor\": \"white\", \"ticks\": \"\"}}, \"scene\": {\"xaxis\": {\"backgroundcolor\": \"#E5ECF6\", \"gridcolor\": \"white\", \"gridwidth\": 2, \"linecolor\": \"white\", \"showbackground\": true, \"ticks\": \"\", \"zerolinecolor\": \"white\"}, \"yaxis\": {\"backgroundcolor\": \"#E5ECF6\", \"gridcolor\": \"white\", \"gridwidth\": 2, \"linecolor\": \"white\", \"showbackground\": true, \"ticks\": \"\", \"zerolinecolor\": \"white\"}, \"zaxis\": {\"backgroundcolor\": \"#E5ECF6\", \"gridcolor\": \"white\", \"gridwidth\": 2, \"linecolor\": \"white\", \"showbackground\": true, \"ticks\": \"\", \"zerolinecolor\": \"white\"}}, \"shapedefaults\": {\"line\": {\"color\": \"#2a3f5f\"}}, \"ternary\": {\"aaxis\": {\"gridcolor\": \"white\", \"linecolor\": \"white\", \"ticks\": \"\"}, \"baxis\": {\"gridcolor\": \"white\", \"linecolor\": \"white\", \"ticks\": \"\"}, \"bgcolor\": \"#E5ECF6\", \"caxis\": {\"gridcolor\": \"white\", \"linecolor\": \"white\", \"ticks\": \"\"}}, \"title\": {\"x\": 0.05}, \"xaxis\": {\"automargin\": true, \"gridcolor\": \"white\", \"linecolor\": \"white\", \"ticks\": \"\", \"title\": {\"standoff\": 15}, \"zerolinecolor\": \"white\", \"zerolinewidth\": 2}, \"yaxis\": {\"automargin\": true, \"gridcolor\": \"white\", \"linecolor\": \"white\", \"ticks\": \"\", \"title\": {\"standoff\": 15}, \"zerolinecolor\": \"white\", \"zerolinewidth\": 2}}}, \"xaxis\": {\"anchor\": \"y\", \"domain\": [0.0, 1.0], \"title\": {\"text\": \"\\ubc1c\\uc0dd\\ud569\\uacc4\"}}, \"yaxis\": {\"anchor\": \"x\", \"domain\": [0.0, 1.0], \"title\": {\"text\": \"\\uac80\\uac70\\ud569\\uacc4\"}}},\n",
       "                        {\"responsive\": true}\n",
       "                    ).then(function(){\n",
       "                            \n",
       "var gd = document.getElementById('4920af45-3390-4159-ab1c-71a64b24e1dc');\n",
       "var x = new MutationObserver(function (mutations, observer) {{\n",
       "        var display = window.getComputedStyle(gd).display;\n",
       "        if (!display || display === 'none') {{\n",
       "            console.log([gd, 'removed!']);\n",
       "            Plotly.purge(gd);\n",
       "            observer.disconnect();\n",
       "        }}\n",
       "}});\n",
       "\n",
       "// Listen for the removal of the full notebook cells\n",
       "var notebookContainer = gd.closest('#notebook-container');\n",
       "if (notebookContainer) {{\n",
       "    x.observe(notebookContainer, {childList: true});\n",
       "}}\n",
       "\n",
       "// Listen for the clearing of the current output cell\n",
       "var outputEl = gd.closest('.output');\n",
       "if (outputEl) {{\n",
       "    x.observe(outputEl, {childList: true});\n",
       "}}\n",
       "\n",
       "                        })\n",
       "                };\n",
       "                });\n",
       "            </script>\n",
       "        </div>"
      ]
     },
     "metadata": {},
     "output_type": "display_data"
    }
   ],
   "source": [
    "fig = px.density_heatmap(old_pop, x=\"발생합계\", y=\"검거합계\")\n",
    "fig.show()\n",
    "\n",
    "fig.write_html(\"1_11_4.html\")"
   ]
  },
  {
   "cell_type": "code",
   "execution_count": 110,
   "id": "949b02ec",
   "metadata": {},
   "outputs": [
    {
     "data": {
      "application/vnd.plotly.v1+json": {
       "config": {
        "plotlyServerURL": "https://plot.ly"
       },
       "data": [
        {
         "coloraxis": "coloraxis",
         "hoverlabel": {
          "namelength": 0
         },
         "hovertemplate": "발생합계=%{x}<br>검거합계=%{y}<br>count=%{z}",
         "name": "",
         "nbinsx": 20,
         "nbinsy": 20,
         "type": "histogram2d",
         "x": [
          7512.333333333333,
          4064.6666666666665,
          3556,
          4896,
          5293,
          4190.666666666667,
          4804,
          3221,
          4123,
          2119.333333333333,
          3782.3333333333335,
          3276.6666666666665,
          5097.333333333333,
          2952.6666666666665,
          4992,
          2578.6666666666665,
          3117.6666666666665,
          5693.666666666667,
          3537,
          5876.333333333333,
          3594.6666666666665,
          3784.3333333333335,
          3864.3333333333335,
          4180.333333333333,
          4375.666666666667
         ],
         "xaxis": "x",
         "xbingroup": "x",
         "y": [
          5195.333333333333,
          2996.333333333333,
          2863.333333333333,
          3646.3333333333335,
          3872.3333333333335,
          2964.6666666666665,
          3345.6666666666665,
          2494,
          2912,
          1608.3333333333333,
          3020,
          2175.6666666666665,
          3412.6666666666665,
          2111.6666666666665,
          3390,
          1885.3333333333333,
          2359.6666666666665,
          3906.6666666666665,
          2414.333333333333,
          3907,
          2696.6666666666665,
          3023.333333333333,
          4155.666666666667,
          2778,
          3250.6666666666665
         ],
         "yaxis": "y",
         "ybingroup": "y"
        }
       ],
       "layout": {
        "coloraxis": {
         "colorbar": {
          "title": {
           "text": "count"
          }
         },
         "colorscale": [
          [
           0,
           "#440154"
          ],
          [
           0.1111111111111111,
           "#482878"
          ],
          [
           0.2222222222222222,
           "#3e4989"
          ],
          [
           0.3333333333333333,
           "#31688e"
          ],
          [
           0.4444444444444444,
           "#26828e"
          ],
          [
           0.5555555555555556,
           "#1f9e89"
          ],
          [
           0.6666666666666666,
           "#35b779"
          ],
          [
           0.7777777777777778,
           "#6ece58"
          ],
          [
           0.8888888888888888,
           "#b5de2b"
          ],
          [
           1,
           "#fde725"
          ]
         ]
        },
        "legend": {
         "tracegroupgap": 0
        },
        "margin": {
         "t": 60
        },
        "template": {
         "data": {
          "bar": [
           {
            "error_x": {
             "color": "#2a3f5f"
            },
            "error_y": {
             "color": "#2a3f5f"
            },
            "marker": {
             "line": {
              "color": "#E5ECF6",
              "width": 0.5
             }
            },
            "type": "bar"
           }
          ],
          "barpolar": [
           {
            "marker": {
             "line": {
              "color": "#E5ECF6",
              "width": 0.5
             }
            },
            "type": "barpolar"
           }
          ],
          "carpet": [
           {
            "aaxis": {
             "endlinecolor": "#2a3f5f",
             "gridcolor": "white",
             "linecolor": "white",
             "minorgridcolor": "white",
             "startlinecolor": "#2a3f5f"
            },
            "baxis": {
             "endlinecolor": "#2a3f5f",
             "gridcolor": "white",
             "linecolor": "white",
             "minorgridcolor": "white",
             "startlinecolor": "#2a3f5f"
            },
            "type": "carpet"
           }
          ],
          "choropleth": [
           {
            "colorbar": {
             "outlinewidth": 0,
             "ticks": ""
            },
            "type": "choropleth"
           }
          ],
          "contour": [
           {
            "colorbar": {
             "outlinewidth": 0,
             "ticks": ""
            },
            "colorscale": [
             [
              0,
              "#0d0887"
             ],
             [
              0.1111111111111111,
              "#46039f"
             ],
             [
              0.2222222222222222,
              "#7201a8"
             ],
             [
              0.3333333333333333,
              "#9c179e"
             ],
             [
              0.4444444444444444,
              "#bd3786"
             ],
             [
              0.5555555555555556,
              "#d8576b"
             ],
             [
              0.6666666666666666,
              "#ed7953"
             ],
             [
              0.7777777777777778,
              "#fb9f3a"
             ],
             [
              0.8888888888888888,
              "#fdca26"
             ],
             [
              1,
              "#f0f921"
             ]
            ],
            "type": "contour"
           }
          ],
          "contourcarpet": [
           {
            "colorbar": {
             "outlinewidth": 0,
             "ticks": ""
            },
            "type": "contourcarpet"
           }
          ],
          "heatmap": [
           {
            "colorbar": {
             "outlinewidth": 0,
             "ticks": ""
            },
            "colorscale": [
             [
              0,
              "#0d0887"
             ],
             [
              0.1111111111111111,
              "#46039f"
             ],
             [
              0.2222222222222222,
              "#7201a8"
             ],
             [
              0.3333333333333333,
              "#9c179e"
             ],
             [
              0.4444444444444444,
              "#bd3786"
             ],
             [
              0.5555555555555556,
              "#d8576b"
             ],
             [
              0.6666666666666666,
              "#ed7953"
             ],
             [
              0.7777777777777778,
              "#fb9f3a"
             ],
             [
              0.8888888888888888,
              "#fdca26"
             ],
             [
              1,
              "#f0f921"
             ]
            ],
            "type": "heatmap"
           }
          ],
          "heatmapgl": [
           {
            "colorbar": {
             "outlinewidth": 0,
             "ticks": ""
            },
            "colorscale": [
             [
              0,
              "#0d0887"
             ],
             [
              0.1111111111111111,
              "#46039f"
             ],
             [
              0.2222222222222222,
              "#7201a8"
             ],
             [
              0.3333333333333333,
              "#9c179e"
             ],
             [
              0.4444444444444444,
              "#bd3786"
             ],
             [
              0.5555555555555556,
              "#d8576b"
             ],
             [
              0.6666666666666666,
              "#ed7953"
             ],
             [
              0.7777777777777778,
              "#fb9f3a"
             ],
             [
              0.8888888888888888,
              "#fdca26"
             ],
             [
              1,
              "#f0f921"
             ]
            ],
            "type": "heatmapgl"
           }
          ],
          "histogram": [
           {
            "marker": {
             "colorbar": {
              "outlinewidth": 0,
              "ticks": ""
             }
            },
            "type": "histogram"
           }
          ],
          "histogram2d": [
           {
            "colorbar": {
             "outlinewidth": 0,
             "ticks": ""
            },
            "colorscale": [
             [
              0,
              "#0d0887"
             ],
             [
              0.1111111111111111,
              "#46039f"
             ],
             [
              0.2222222222222222,
              "#7201a8"
             ],
             [
              0.3333333333333333,
              "#9c179e"
             ],
             [
              0.4444444444444444,
              "#bd3786"
             ],
             [
              0.5555555555555556,
              "#d8576b"
             ],
             [
              0.6666666666666666,
              "#ed7953"
             ],
             [
              0.7777777777777778,
              "#fb9f3a"
             ],
             [
              0.8888888888888888,
              "#fdca26"
             ],
             [
              1,
              "#f0f921"
             ]
            ],
            "type": "histogram2d"
           }
          ],
          "histogram2dcontour": [
           {
            "colorbar": {
             "outlinewidth": 0,
             "ticks": ""
            },
            "colorscale": [
             [
              0,
              "#0d0887"
             ],
             [
              0.1111111111111111,
              "#46039f"
             ],
             [
              0.2222222222222222,
              "#7201a8"
             ],
             [
              0.3333333333333333,
              "#9c179e"
             ],
             [
              0.4444444444444444,
              "#bd3786"
             ],
             [
              0.5555555555555556,
              "#d8576b"
             ],
             [
              0.6666666666666666,
              "#ed7953"
             ],
             [
              0.7777777777777778,
              "#fb9f3a"
             ],
             [
              0.8888888888888888,
              "#fdca26"
             ],
             [
              1,
              "#f0f921"
             ]
            ],
            "type": "histogram2dcontour"
           }
          ],
          "mesh3d": [
           {
            "colorbar": {
             "outlinewidth": 0,
             "ticks": ""
            },
            "type": "mesh3d"
           }
          ],
          "parcoords": [
           {
            "line": {
             "colorbar": {
              "outlinewidth": 0,
              "ticks": ""
             }
            },
            "type": "parcoords"
           }
          ],
          "pie": [
           {
            "automargin": true,
            "type": "pie"
           }
          ],
          "scatter": [
           {
            "marker": {
             "colorbar": {
              "outlinewidth": 0,
              "ticks": ""
             }
            },
            "type": "scatter"
           }
          ],
          "scatter3d": [
           {
            "line": {
             "colorbar": {
              "outlinewidth": 0,
              "ticks": ""
             }
            },
            "marker": {
             "colorbar": {
              "outlinewidth": 0,
              "ticks": ""
             }
            },
            "type": "scatter3d"
           }
          ],
          "scattercarpet": [
           {
            "marker": {
             "colorbar": {
              "outlinewidth": 0,
              "ticks": ""
             }
            },
            "type": "scattercarpet"
           }
          ],
          "scattergeo": [
           {
            "marker": {
             "colorbar": {
              "outlinewidth": 0,
              "ticks": ""
             }
            },
            "type": "scattergeo"
           }
          ],
          "scattergl": [
           {
            "marker": {
             "colorbar": {
              "outlinewidth": 0,
              "ticks": ""
             }
            },
            "type": "scattergl"
           }
          ],
          "scattermapbox": [
           {
            "marker": {
             "colorbar": {
              "outlinewidth": 0,
              "ticks": ""
             }
            },
            "type": "scattermapbox"
           }
          ],
          "scatterpolar": [
           {
            "marker": {
             "colorbar": {
              "outlinewidth": 0,
              "ticks": ""
             }
            },
            "type": "scatterpolar"
           }
          ],
          "scatterpolargl": [
           {
            "marker": {
             "colorbar": {
              "outlinewidth": 0,
              "ticks": ""
             }
            },
            "type": "scatterpolargl"
           }
          ],
          "scatterternary": [
           {
            "marker": {
             "colorbar": {
              "outlinewidth": 0,
              "ticks": ""
             }
            },
            "type": "scatterternary"
           }
          ],
          "surface": [
           {
            "colorbar": {
             "outlinewidth": 0,
             "ticks": ""
            },
            "colorscale": [
             [
              0,
              "#0d0887"
             ],
             [
              0.1111111111111111,
              "#46039f"
             ],
             [
              0.2222222222222222,
              "#7201a8"
             ],
             [
              0.3333333333333333,
              "#9c179e"
             ],
             [
              0.4444444444444444,
              "#bd3786"
             ],
             [
              0.5555555555555556,
              "#d8576b"
             ],
             [
              0.6666666666666666,
              "#ed7953"
             ],
             [
              0.7777777777777778,
              "#fb9f3a"
             ],
             [
              0.8888888888888888,
              "#fdca26"
             ],
             [
              1,
              "#f0f921"
             ]
            ],
            "type": "surface"
           }
          ],
          "table": [
           {
            "cells": {
             "fill": {
              "color": "#EBF0F8"
             },
             "line": {
              "color": "white"
             }
            },
            "header": {
             "fill": {
              "color": "#C8D4E3"
             },
             "line": {
              "color": "white"
             }
            },
            "type": "table"
           }
          ]
         },
         "layout": {
          "annotationdefaults": {
           "arrowcolor": "#2a3f5f",
           "arrowhead": 0,
           "arrowwidth": 1
          },
          "coloraxis": {
           "colorbar": {
            "outlinewidth": 0,
            "ticks": ""
           }
          },
          "colorscale": {
           "diverging": [
            [
             0,
             "#8e0152"
            ],
            [
             0.1,
             "#c51b7d"
            ],
            [
             0.2,
             "#de77ae"
            ],
            [
             0.3,
             "#f1b6da"
            ],
            [
             0.4,
             "#fde0ef"
            ],
            [
             0.5,
             "#f7f7f7"
            ],
            [
             0.6,
             "#e6f5d0"
            ],
            [
             0.7,
             "#b8e186"
            ],
            [
             0.8,
             "#7fbc41"
            ],
            [
             0.9,
             "#4d9221"
            ],
            [
             1,
             "#276419"
            ]
           ],
           "sequential": [
            [
             0,
             "#0d0887"
            ],
            [
             0.1111111111111111,
             "#46039f"
            ],
            [
             0.2222222222222222,
             "#7201a8"
            ],
            [
             0.3333333333333333,
             "#9c179e"
            ],
            [
             0.4444444444444444,
             "#bd3786"
            ],
            [
             0.5555555555555556,
             "#d8576b"
            ],
            [
             0.6666666666666666,
             "#ed7953"
            ],
            [
             0.7777777777777778,
             "#fb9f3a"
            ],
            [
             0.8888888888888888,
             "#fdca26"
            ],
            [
             1,
             "#f0f921"
            ]
           ],
           "sequentialminus": [
            [
             0,
             "#0d0887"
            ],
            [
             0.1111111111111111,
             "#46039f"
            ],
            [
             0.2222222222222222,
             "#7201a8"
            ],
            [
             0.3333333333333333,
             "#9c179e"
            ],
            [
             0.4444444444444444,
             "#bd3786"
            ],
            [
             0.5555555555555556,
             "#d8576b"
            ],
            [
             0.6666666666666666,
             "#ed7953"
            ],
            [
             0.7777777777777778,
             "#fb9f3a"
            ],
            [
             0.8888888888888888,
             "#fdca26"
            ],
            [
             1,
             "#f0f921"
            ]
           ]
          },
          "colorway": [
           "#636efa",
           "#EF553B",
           "#00cc96",
           "#ab63fa",
           "#FFA15A",
           "#19d3f3",
           "#FF6692",
           "#B6E880",
           "#FF97FF",
           "#FECB52"
          ],
          "font": {
           "color": "#2a3f5f"
          },
          "geo": {
           "bgcolor": "white",
           "lakecolor": "white",
           "landcolor": "#E5ECF6",
           "showlakes": true,
           "showland": true,
           "subunitcolor": "white"
          },
          "hoverlabel": {
           "align": "left"
          },
          "hovermode": "closest",
          "mapbox": {
           "style": "light"
          },
          "paper_bgcolor": "white",
          "plot_bgcolor": "#E5ECF6",
          "polar": {
           "angularaxis": {
            "gridcolor": "white",
            "linecolor": "white",
            "ticks": ""
           },
           "bgcolor": "#E5ECF6",
           "radialaxis": {
            "gridcolor": "white",
            "linecolor": "white",
            "ticks": ""
           }
          },
          "scene": {
           "xaxis": {
            "backgroundcolor": "#E5ECF6",
            "gridcolor": "white",
            "gridwidth": 2,
            "linecolor": "white",
            "showbackground": true,
            "ticks": "",
            "zerolinecolor": "white"
           },
           "yaxis": {
            "backgroundcolor": "#E5ECF6",
            "gridcolor": "white",
            "gridwidth": 2,
            "linecolor": "white",
            "showbackground": true,
            "ticks": "",
            "zerolinecolor": "white"
           },
           "zaxis": {
            "backgroundcolor": "#E5ECF6",
            "gridcolor": "white",
            "gridwidth": 2,
            "linecolor": "white",
            "showbackground": true,
            "ticks": "",
            "zerolinecolor": "white"
           }
          },
          "shapedefaults": {
           "line": {
            "color": "#2a3f5f"
           }
          },
          "ternary": {
           "aaxis": {
            "gridcolor": "white",
            "linecolor": "white",
            "ticks": ""
           },
           "baxis": {
            "gridcolor": "white",
            "linecolor": "white",
            "ticks": ""
           },
           "bgcolor": "#E5ECF6",
           "caxis": {
            "gridcolor": "white",
            "linecolor": "white",
            "ticks": ""
           }
          },
          "title": {
           "x": 0.05
          },
          "xaxis": {
           "automargin": true,
           "gridcolor": "white",
           "linecolor": "white",
           "ticks": "",
           "title": {
            "standoff": 15
           },
           "zerolinecolor": "white",
           "zerolinewidth": 2
          },
          "yaxis": {
           "automargin": true,
           "gridcolor": "white",
           "linecolor": "white",
           "ticks": "",
           "title": {
            "standoff": 15
           },
           "zerolinecolor": "white",
           "zerolinewidth": 2
          }
         }
        },
        "xaxis": {
         "anchor": "y",
         "domain": [
          0,
          1
         ],
         "title": {
          "text": "발생합계"
         }
        },
        "yaxis": {
         "anchor": "x",
         "domain": [
          0,
          1
         ],
         "title": {
          "text": "검거합계"
         }
        }
       }
      },
      "text/html": [
       "<div>\n",
       "        \n",
       "        \n",
       "            <div id=\"0712122a-7cf7-4c55-886d-c6b959969ea3\" class=\"plotly-graph-div\" style=\"height:525px; width:100%;\"></div>\n",
       "            <script type=\"text/javascript\">\n",
       "                require([\"plotly\"], function(Plotly) {\n",
       "                    window.PLOTLYENV=window.PLOTLYENV || {};\n",
       "                    \n",
       "                if (document.getElementById(\"0712122a-7cf7-4c55-886d-c6b959969ea3\")) {\n",
       "                    Plotly.newPlot(\n",
       "                        '0712122a-7cf7-4c55-886d-c6b959969ea3',\n",
       "                        [{\"coloraxis\": \"coloraxis\", \"hoverlabel\": {\"namelength\": 0}, \"hovertemplate\": \"\\ubc1c\\uc0dd\\ud569\\uacc4=%{x}<br>\\uac80\\uac70\\ud569\\uacc4=%{y}<br>count=%{z}\", \"name\": \"\", \"nbinsx\": 20, \"nbinsy\": 20, \"type\": \"histogram2d\", \"x\": [7512.333333333333, 4064.6666666666665, 3556.0, 4896.0, 5293.0, 4190.666666666667, 4804.0, 3221.0, 4123.0, 2119.333333333333, 3782.3333333333335, 3276.6666666666665, 5097.333333333333, 2952.6666666666665, 4992.0, 2578.6666666666665, 3117.6666666666665, 5693.666666666667, 3537.0, 5876.333333333333, 3594.6666666666665, 3784.3333333333335, 3864.3333333333335, 4180.333333333333, 4375.666666666667], \"xaxis\": \"x\", \"xbingroup\": \"x\", \"y\": [5195.333333333333, 2996.333333333333, 2863.333333333333, 3646.3333333333335, 3872.3333333333335, 2964.6666666666665, 3345.6666666666665, 2494.0, 2912.0, 1608.3333333333333, 3020.0, 2175.6666666666665, 3412.6666666666665, 2111.6666666666665, 3390.0, 1885.3333333333333, 2359.6666666666665, 3906.6666666666665, 2414.333333333333, 3907.0, 2696.6666666666665, 3023.333333333333, 4155.666666666667, 2778.0, 3250.6666666666665], \"yaxis\": \"y\", \"ybingroup\": \"y\"}],\n",
       "                        {\"coloraxis\": {\"colorbar\": {\"title\": {\"text\": \"count\"}}, \"colorscale\": [[0.0, \"#440154\"], [0.1111111111111111, \"#482878\"], [0.2222222222222222, \"#3e4989\"], [0.3333333333333333, \"#31688e\"], [0.4444444444444444, \"#26828e\"], [0.5555555555555556, \"#1f9e89\"], [0.6666666666666666, \"#35b779\"], [0.7777777777777778, \"#6ece58\"], [0.8888888888888888, \"#b5de2b\"], [1.0, \"#fde725\"]]}, \"legend\": {\"tracegroupgap\": 0}, \"margin\": {\"t\": 60}, \"template\": {\"data\": {\"bar\": [{\"error_x\": {\"color\": \"#2a3f5f\"}, \"error_y\": {\"color\": \"#2a3f5f\"}, \"marker\": {\"line\": {\"color\": \"#E5ECF6\", \"width\": 0.5}}, \"type\": \"bar\"}], \"barpolar\": [{\"marker\": {\"line\": {\"color\": \"#E5ECF6\", \"width\": 0.5}}, \"type\": \"barpolar\"}], \"carpet\": [{\"aaxis\": {\"endlinecolor\": \"#2a3f5f\", \"gridcolor\": \"white\", \"linecolor\": \"white\", \"minorgridcolor\": \"white\", \"startlinecolor\": \"#2a3f5f\"}, \"baxis\": {\"endlinecolor\": \"#2a3f5f\", \"gridcolor\": \"white\", \"linecolor\": \"white\", \"minorgridcolor\": \"white\", \"startlinecolor\": \"#2a3f5f\"}, \"type\": \"carpet\"}], \"choropleth\": [{\"colorbar\": {\"outlinewidth\": 0, \"ticks\": \"\"}, \"type\": \"choropleth\"}], \"contour\": [{\"colorbar\": {\"outlinewidth\": 0, \"ticks\": \"\"}, \"colorscale\": [[0.0, \"#0d0887\"], [0.1111111111111111, \"#46039f\"], [0.2222222222222222, \"#7201a8\"], [0.3333333333333333, \"#9c179e\"], [0.4444444444444444, \"#bd3786\"], [0.5555555555555556, \"#d8576b\"], [0.6666666666666666, \"#ed7953\"], [0.7777777777777778, \"#fb9f3a\"], [0.8888888888888888, \"#fdca26\"], [1.0, \"#f0f921\"]], \"type\": \"contour\"}], \"contourcarpet\": [{\"colorbar\": {\"outlinewidth\": 0, \"ticks\": \"\"}, \"type\": \"contourcarpet\"}], \"heatmap\": [{\"colorbar\": {\"outlinewidth\": 0, \"ticks\": \"\"}, \"colorscale\": [[0.0, \"#0d0887\"], [0.1111111111111111, \"#46039f\"], [0.2222222222222222, \"#7201a8\"], [0.3333333333333333, \"#9c179e\"], [0.4444444444444444, \"#bd3786\"], [0.5555555555555556, \"#d8576b\"], [0.6666666666666666, \"#ed7953\"], [0.7777777777777778, \"#fb9f3a\"], [0.8888888888888888, \"#fdca26\"], [1.0, \"#f0f921\"]], \"type\": \"heatmap\"}], \"heatmapgl\": [{\"colorbar\": {\"outlinewidth\": 0, \"ticks\": \"\"}, \"colorscale\": [[0.0, \"#0d0887\"], [0.1111111111111111, \"#46039f\"], [0.2222222222222222, \"#7201a8\"], [0.3333333333333333, \"#9c179e\"], [0.4444444444444444, \"#bd3786\"], [0.5555555555555556, \"#d8576b\"], [0.6666666666666666, \"#ed7953\"], [0.7777777777777778, \"#fb9f3a\"], [0.8888888888888888, \"#fdca26\"], [1.0, \"#f0f921\"]], \"type\": \"heatmapgl\"}], \"histogram\": [{\"marker\": {\"colorbar\": {\"outlinewidth\": 0, \"ticks\": \"\"}}, \"type\": \"histogram\"}], \"histogram2d\": [{\"colorbar\": {\"outlinewidth\": 0, \"ticks\": \"\"}, \"colorscale\": [[0.0, \"#0d0887\"], [0.1111111111111111, \"#46039f\"], [0.2222222222222222, \"#7201a8\"], [0.3333333333333333, \"#9c179e\"], [0.4444444444444444, \"#bd3786\"], [0.5555555555555556, \"#d8576b\"], [0.6666666666666666, \"#ed7953\"], [0.7777777777777778, \"#fb9f3a\"], [0.8888888888888888, \"#fdca26\"], [1.0, \"#f0f921\"]], \"type\": \"histogram2d\"}], \"histogram2dcontour\": [{\"colorbar\": {\"outlinewidth\": 0, \"ticks\": \"\"}, \"colorscale\": [[0.0, \"#0d0887\"], [0.1111111111111111, \"#46039f\"], [0.2222222222222222, \"#7201a8\"], [0.3333333333333333, \"#9c179e\"], [0.4444444444444444, \"#bd3786\"], [0.5555555555555556, \"#d8576b\"], [0.6666666666666666, \"#ed7953\"], [0.7777777777777778, \"#fb9f3a\"], [0.8888888888888888, \"#fdca26\"], [1.0, \"#f0f921\"]], \"type\": \"histogram2dcontour\"}], \"mesh3d\": [{\"colorbar\": {\"outlinewidth\": 0, \"ticks\": \"\"}, \"type\": \"mesh3d\"}], \"parcoords\": [{\"line\": {\"colorbar\": {\"outlinewidth\": 0, \"ticks\": \"\"}}, \"type\": \"parcoords\"}], \"pie\": [{\"automargin\": true, \"type\": \"pie\"}], \"scatter\": [{\"marker\": {\"colorbar\": {\"outlinewidth\": 0, \"ticks\": \"\"}}, \"type\": \"scatter\"}], \"scatter3d\": [{\"line\": {\"colorbar\": {\"outlinewidth\": 0, \"ticks\": \"\"}}, \"marker\": {\"colorbar\": {\"outlinewidth\": 0, \"ticks\": \"\"}}, \"type\": \"scatter3d\"}], \"scattercarpet\": [{\"marker\": {\"colorbar\": {\"outlinewidth\": 0, \"ticks\": \"\"}}, \"type\": \"scattercarpet\"}], \"scattergeo\": [{\"marker\": {\"colorbar\": {\"outlinewidth\": 0, \"ticks\": \"\"}}, \"type\": \"scattergeo\"}], \"scattergl\": [{\"marker\": {\"colorbar\": {\"outlinewidth\": 0, \"ticks\": \"\"}}, \"type\": \"scattergl\"}], \"scattermapbox\": [{\"marker\": {\"colorbar\": {\"outlinewidth\": 0, \"ticks\": \"\"}}, \"type\": \"scattermapbox\"}], \"scatterpolar\": [{\"marker\": {\"colorbar\": {\"outlinewidth\": 0, \"ticks\": \"\"}}, \"type\": \"scatterpolar\"}], \"scatterpolargl\": [{\"marker\": {\"colorbar\": {\"outlinewidth\": 0, \"ticks\": \"\"}}, \"type\": \"scatterpolargl\"}], \"scatterternary\": [{\"marker\": {\"colorbar\": {\"outlinewidth\": 0, \"ticks\": \"\"}}, \"type\": \"scatterternary\"}], \"surface\": [{\"colorbar\": {\"outlinewidth\": 0, \"ticks\": \"\"}, \"colorscale\": [[0.0, \"#0d0887\"], [0.1111111111111111, \"#46039f\"], [0.2222222222222222, \"#7201a8\"], [0.3333333333333333, \"#9c179e\"], [0.4444444444444444, \"#bd3786\"], [0.5555555555555556, \"#d8576b\"], [0.6666666666666666, \"#ed7953\"], [0.7777777777777778, \"#fb9f3a\"], [0.8888888888888888, \"#fdca26\"], [1.0, \"#f0f921\"]], \"type\": \"surface\"}], \"table\": [{\"cells\": {\"fill\": {\"color\": \"#EBF0F8\"}, \"line\": {\"color\": \"white\"}}, \"header\": {\"fill\": {\"color\": \"#C8D4E3\"}, \"line\": {\"color\": \"white\"}}, \"type\": \"table\"}]}, \"layout\": {\"annotationdefaults\": {\"arrowcolor\": \"#2a3f5f\", \"arrowhead\": 0, \"arrowwidth\": 1}, \"coloraxis\": {\"colorbar\": {\"outlinewidth\": 0, \"ticks\": \"\"}}, \"colorscale\": {\"diverging\": [[0, \"#8e0152\"], [0.1, \"#c51b7d\"], [0.2, \"#de77ae\"], [0.3, \"#f1b6da\"], [0.4, \"#fde0ef\"], [0.5, \"#f7f7f7\"], [0.6, \"#e6f5d0\"], [0.7, \"#b8e186\"], [0.8, \"#7fbc41\"], [0.9, \"#4d9221\"], [1, \"#276419\"]], \"sequential\": [[0.0, \"#0d0887\"], [0.1111111111111111, \"#46039f\"], [0.2222222222222222, \"#7201a8\"], [0.3333333333333333, \"#9c179e\"], [0.4444444444444444, \"#bd3786\"], [0.5555555555555556, \"#d8576b\"], [0.6666666666666666, \"#ed7953\"], [0.7777777777777778, \"#fb9f3a\"], [0.8888888888888888, \"#fdca26\"], [1.0, \"#f0f921\"]], \"sequentialminus\": [[0.0, \"#0d0887\"], [0.1111111111111111, \"#46039f\"], [0.2222222222222222, \"#7201a8\"], [0.3333333333333333, \"#9c179e\"], [0.4444444444444444, \"#bd3786\"], [0.5555555555555556, \"#d8576b\"], [0.6666666666666666, \"#ed7953\"], [0.7777777777777778, \"#fb9f3a\"], [0.8888888888888888, \"#fdca26\"], [1.0, \"#f0f921\"]]}, \"colorway\": [\"#636efa\", \"#EF553B\", \"#00cc96\", \"#ab63fa\", \"#FFA15A\", \"#19d3f3\", \"#FF6692\", \"#B6E880\", \"#FF97FF\", \"#FECB52\"], \"font\": {\"color\": \"#2a3f5f\"}, \"geo\": {\"bgcolor\": \"white\", \"lakecolor\": \"white\", \"landcolor\": \"#E5ECF6\", \"showlakes\": true, \"showland\": true, \"subunitcolor\": \"white\"}, \"hoverlabel\": {\"align\": \"left\"}, \"hovermode\": \"closest\", \"mapbox\": {\"style\": \"light\"}, \"paper_bgcolor\": \"white\", \"plot_bgcolor\": \"#E5ECF6\", \"polar\": {\"angularaxis\": {\"gridcolor\": \"white\", \"linecolor\": \"white\", \"ticks\": \"\"}, \"bgcolor\": \"#E5ECF6\", \"radialaxis\": {\"gridcolor\": \"white\", \"linecolor\": \"white\", \"ticks\": \"\"}}, \"scene\": {\"xaxis\": {\"backgroundcolor\": \"#E5ECF6\", \"gridcolor\": \"white\", \"gridwidth\": 2, \"linecolor\": \"white\", \"showbackground\": true, \"ticks\": \"\", \"zerolinecolor\": \"white\"}, \"yaxis\": {\"backgroundcolor\": \"#E5ECF6\", \"gridcolor\": \"white\", \"gridwidth\": 2, \"linecolor\": \"white\", \"showbackground\": true, \"ticks\": \"\", \"zerolinecolor\": \"white\"}, \"zaxis\": {\"backgroundcolor\": \"#E5ECF6\", \"gridcolor\": \"white\", \"gridwidth\": 2, \"linecolor\": \"white\", \"showbackground\": true, \"ticks\": \"\", \"zerolinecolor\": \"white\"}}, \"shapedefaults\": {\"line\": {\"color\": \"#2a3f5f\"}}, \"ternary\": {\"aaxis\": {\"gridcolor\": \"white\", \"linecolor\": \"white\", \"ticks\": \"\"}, \"baxis\": {\"gridcolor\": \"white\", \"linecolor\": \"white\", \"ticks\": \"\"}, \"bgcolor\": \"#E5ECF6\", \"caxis\": {\"gridcolor\": \"white\", \"linecolor\": \"white\", \"ticks\": \"\"}}, \"title\": {\"x\": 0.05}, \"xaxis\": {\"automargin\": true, \"gridcolor\": \"white\", \"linecolor\": \"white\", \"ticks\": \"\", \"title\": {\"standoff\": 15}, \"zerolinecolor\": \"white\", \"zerolinewidth\": 2}, \"yaxis\": {\"automargin\": true, \"gridcolor\": \"white\", \"linecolor\": \"white\", \"ticks\": \"\", \"title\": {\"standoff\": 15}, \"zerolinecolor\": \"white\", \"zerolinewidth\": 2}}}, \"xaxis\": {\"anchor\": \"y\", \"domain\": [0.0, 1.0], \"title\": {\"text\": \"\\ubc1c\\uc0dd\\ud569\\uacc4\"}}, \"yaxis\": {\"anchor\": \"x\", \"domain\": [0.0, 1.0], \"title\": {\"text\": \"\\uac80\\uac70\\ud569\\uacc4\"}}},\n",
       "                        {\"responsive\": true}\n",
       "                    ).then(function(){\n",
       "                            \n",
       "var gd = document.getElementById('0712122a-7cf7-4c55-886d-c6b959969ea3');\n",
       "var x = new MutationObserver(function (mutations, observer) {{\n",
       "        var display = window.getComputedStyle(gd).display;\n",
       "        if (!display || display === 'none') {{\n",
       "            console.log([gd, 'removed!']);\n",
       "            Plotly.purge(gd);\n",
       "            observer.disconnect();\n",
       "        }}\n",
       "}});\n",
       "\n",
       "// Listen for the removal of the full notebook cells\n",
       "var notebookContainer = gd.closest('#notebook-container');\n",
       "if (notebookContainer) {{\n",
       "    x.observe(notebookContainer, {childList: true});\n",
       "}}\n",
       "\n",
       "// Listen for the clearing of the current output cell\n",
       "var outputEl = gd.closest('.output');\n",
       "if (outputEl) {{\n",
       "    x.observe(outputEl, {childList: true});\n",
       "}}\n",
       "\n",
       "                        })\n",
       "                };\n",
       "                });\n",
       "            </script>\n",
       "        </div>"
      ]
     },
     "metadata": {},
     "output_type": "display_data"
    }
   ],
   "source": [
    "fig = px.density_heatmap(old_pop, x=\"발생합계\", y=\"검거합계\",                         \n",
    "                         nbinsx = 20,nbinsy = 20, \n",
    "                         color_continuous_scale = \"viridis\")\n",
    "fig.show()\n",
    "\n",
    "fig.write_html(\"1_11_4.html\")"
   ]
  },
  {
   "cell_type": "code",
   "execution_count": null,
   "id": "79496f0f",
   "metadata": {},
   "outputs": [],
   "source": []
  },
  {
   "cell_type": "code",
   "execution_count": 111,
   "id": "21c09ac4",
   "metadata": {},
   "outputs": [
    {
     "data": {
      "application/vnd.plotly.v1+json": {
       "config": {
        "plotlyServerURL": "https://plot.ly"
       },
       "data": [
        {
         "hoverlabel": {
          "namelength": 0
         },
         "hovertemplate": "발생합계=%{x}<br>검거합계=%{y}<br>지역구=%{z}<br>랭크=%{marker.color}",
         "legendgroup": "",
         "marker": {
          "color": [
           8,
           15,
           24,
           17,
           14,
           11,
           9,
           21,
           10,
           20,
           22,
           1,
           4,
           12,
           5,
           13,
           19,
           7,
           6,
           3,
           18,
           23,
           25,
           2,
           16
          ],
          "coloraxis": "coloraxis",
          "opacity": 0.6,
          "symbol": "circle"
         },
         "mode": "markers",
         "name": "",
         "scene": "scene",
         "showlegend": false,
         "type": "scatter3d",
         "x": [
          7512.333333333333,
          4064.6666666666665,
          3556,
          4896,
          5293,
          4190.666666666667,
          4804,
          3221,
          4123,
          2119.333333333333,
          3782.3333333333335,
          3276.6666666666665,
          5097.333333333333,
          2952.6666666666665,
          4992,
          2578.6666666666665,
          3117.6666666666665,
          5693.666666666667,
          3537,
          5876.333333333333,
          3594.6666666666665,
          3784.3333333333335,
          3864.3333333333335,
          4180.333333333333,
          4375.666666666667
         ],
         "y": [
          5195.333333333333,
          2996.333333333333,
          2863.333333333333,
          3646.3333333333335,
          3872.3333333333335,
          2964.6666666666665,
          3345.6666666666665,
          2494,
          2912,
          1608.3333333333333,
          3020,
          2175.6666666666665,
          3412.6666666666665,
          2111.6666666666665,
          3390,
          1885.3333333333333,
          2359.6666666666665,
          3906.6666666666665,
          2414.333333333333,
          3907,
          2696.6666666666665,
          3023.333333333333,
          4155.666666666667,
          2778,
          3250.6666666666665
         ],
         "z": [
          "강남구",
          "강동구",
          "강북구",
          "강서구",
          "관악구",
          "광진구",
          "구로구",
          "금천구",
          "노원구",
          "도봉구",
          "동대문구",
          "동작구",
          "마포구",
          "서대문구",
          "서초구",
          "성동구",
          "성북구",
          "송파구",
          "양천구",
          "영등포구",
          "용산구",
          "은평구",
          "종로구",
          "중구",
          "중랑구"
         ]
        }
       ],
       "layout": {
        "coloraxis": {
         "colorbar": {
          "title": {
           "text": "랭크"
          }
         },
         "colorscale": [
          [
           0,
           "#0d0887"
          ],
          [
           0.1111111111111111,
           "#46039f"
          ],
          [
           0.2222222222222222,
           "#7201a8"
          ],
          [
           0.3333333333333333,
           "#9c179e"
          ],
          [
           0.4444444444444444,
           "#bd3786"
          ],
          [
           0.5555555555555556,
           "#d8576b"
          ],
          [
           0.6666666666666666,
           "#ed7953"
          ],
          [
           0.7777777777777778,
           "#fb9f3a"
          ],
          [
           0.8888888888888888,
           "#fdca26"
          ],
          [
           1,
           "#f0f921"
          ]
         ]
        },
        "legend": {
         "tracegroupgap": 0
        },
        "margin": {
         "t": 60
        },
        "scene": {
         "domain": {
          "x": [
           0,
           1
          ],
          "y": [
           0,
           1
          ]
         },
         "xaxis": {
          "title": {
           "text": "발생합계"
          }
         },
         "yaxis": {
          "title": {
           "text": "검거합계"
          }
         },
         "zaxis": {
          "title": {
           "text": "지역구"
          }
         }
        },
        "template": {
         "data": {
          "bar": [
           {
            "error_x": {
             "color": "#2a3f5f"
            },
            "error_y": {
             "color": "#2a3f5f"
            },
            "marker": {
             "line": {
              "color": "#E5ECF6",
              "width": 0.5
             }
            },
            "type": "bar"
           }
          ],
          "barpolar": [
           {
            "marker": {
             "line": {
              "color": "#E5ECF6",
              "width": 0.5
             }
            },
            "type": "barpolar"
           }
          ],
          "carpet": [
           {
            "aaxis": {
             "endlinecolor": "#2a3f5f",
             "gridcolor": "white",
             "linecolor": "white",
             "minorgridcolor": "white",
             "startlinecolor": "#2a3f5f"
            },
            "baxis": {
             "endlinecolor": "#2a3f5f",
             "gridcolor": "white",
             "linecolor": "white",
             "minorgridcolor": "white",
             "startlinecolor": "#2a3f5f"
            },
            "type": "carpet"
           }
          ],
          "choropleth": [
           {
            "colorbar": {
             "outlinewidth": 0,
             "ticks": ""
            },
            "type": "choropleth"
           }
          ],
          "contour": [
           {
            "colorbar": {
             "outlinewidth": 0,
             "ticks": ""
            },
            "colorscale": [
             [
              0,
              "#0d0887"
             ],
             [
              0.1111111111111111,
              "#46039f"
             ],
             [
              0.2222222222222222,
              "#7201a8"
             ],
             [
              0.3333333333333333,
              "#9c179e"
             ],
             [
              0.4444444444444444,
              "#bd3786"
             ],
             [
              0.5555555555555556,
              "#d8576b"
             ],
             [
              0.6666666666666666,
              "#ed7953"
             ],
             [
              0.7777777777777778,
              "#fb9f3a"
             ],
             [
              0.8888888888888888,
              "#fdca26"
             ],
             [
              1,
              "#f0f921"
             ]
            ],
            "type": "contour"
           }
          ],
          "contourcarpet": [
           {
            "colorbar": {
             "outlinewidth": 0,
             "ticks": ""
            },
            "type": "contourcarpet"
           }
          ],
          "heatmap": [
           {
            "colorbar": {
             "outlinewidth": 0,
             "ticks": ""
            },
            "colorscale": [
             [
              0,
              "#0d0887"
             ],
             [
              0.1111111111111111,
              "#46039f"
             ],
             [
              0.2222222222222222,
              "#7201a8"
             ],
             [
              0.3333333333333333,
              "#9c179e"
             ],
             [
              0.4444444444444444,
              "#bd3786"
             ],
             [
              0.5555555555555556,
              "#d8576b"
             ],
             [
              0.6666666666666666,
              "#ed7953"
             ],
             [
              0.7777777777777778,
              "#fb9f3a"
             ],
             [
              0.8888888888888888,
              "#fdca26"
             ],
             [
              1,
              "#f0f921"
             ]
            ],
            "type": "heatmap"
           }
          ],
          "heatmapgl": [
           {
            "colorbar": {
             "outlinewidth": 0,
             "ticks": ""
            },
            "colorscale": [
             [
              0,
              "#0d0887"
             ],
             [
              0.1111111111111111,
              "#46039f"
             ],
             [
              0.2222222222222222,
              "#7201a8"
             ],
             [
              0.3333333333333333,
              "#9c179e"
             ],
             [
              0.4444444444444444,
              "#bd3786"
             ],
             [
              0.5555555555555556,
              "#d8576b"
             ],
             [
              0.6666666666666666,
              "#ed7953"
             ],
             [
              0.7777777777777778,
              "#fb9f3a"
             ],
             [
              0.8888888888888888,
              "#fdca26"
             ],
             [
              1,
              "#f0f921"
             ]
            ],
            "type": "heatmapgl"
           }
          ],
          "histogram": [
           {
            "marker": {
             "colorbar": {
              "outlinewidth": 0,
              "ticks": ""
             }
            },
            "type": "histogram"
           }
          ],
          "histogram2d": [
           {
            "colorbar": {
             "outlinewidth": 0,
             "ticks": ""
            },
            "colorscale": [
             [
              0,
              "#0d0887"
             ],
             [
              0.1111111111111111,
              "#46039f"
             ],
             [
              0.2222222222222222,
              "#7201a8"
             ],
             [
              0.3333333333333333,
              "#9c179e"
             ],
             [
              0.4444444444444444,
              "#bd3786"
             ],
             [
              0.5555555555555556,
              "#d8576b"
             ],
             [
              0.6666666666666666,
              "#ed7953"
             ],
             [
              0.7777777777777778,
              "#fb9f3a"
             ],
             [
              0.8888888888888888,
              "#fdca26"
             ],
             [
              1,
              "#f0f921"
             ]
            ],
            "type": "histogram2d"
           }
          ],
          "histogram2dcontour": [
           {
            "colorbar": {
             "outlinewidth": 0,
             "ticks": ""
            },
            "colorscale": [
             [
              0,
              "#0d0887"
             ],
             [
              0.1111111111111111,
              "#46039f"
             ],
             [
              0.2222222222222222,
              "#7201a8"
             ],
             [
              0.3333333333333333,
              "#9c179e"
             ],
             [
              0.4444444444444444,
              "#bd3786"
             ],
             [
              0.5555555555555556,
              "#d8576b"
             ],
             [
              0.6666666666666666,
              "#ed7953"
             ],
             [
              0.7777777777777778,
              "#fb9f3a"
             ],
             [
              0.8888888888888888,
              "#fdca26"
             ],
             [
              1,
              "#f0f921"
             ]
            ],
            "type": "histogram2dcontour"
           }
          ],
          "mesh3d": [
           {
            "colorbar": {
             "outlinewidth": 0,
             "ticks": ""
            },
            "type": "mesh3d"
           }
          ],
          "parcoords": [
           {
            "line": {
             "colorbar": {
              "outlinewidth": 0,
              "ticks": ""
             }
            },
            "type": "parcoords"
           }
          ],
          "pie": [
           {
            "automargin": true,
            "type": "pie"
           }
          ],
          "scatter": [
           {
            "marker": {
             "colorbar": {
              "outlinewidth": 0,
              "ticks": ""
             }
            },
            "type": "scatter"
           }
          ],
          "scatter3d": [
           {
            "line": {
             "colorbar": {
              "outlinewidth": 0,
              "ticks": ""
             }
            },
            "marker": {
             "colorbar": {
              "outlinewidth": 0,
              "ticks": ""
             }
            },
            "type": "scatter3d"
           }
          ],
          "scattercarpet": [
           {
            "marker": {
             "colorbar": {
              "outlinewidth": 0,
              "ticks": ""
             }
            },
            "type": "scattercarpet"
           }
          ],
          "scattergeo": [
           {
            "marker": {
             "colorbar": {
              "outlinewidth": 0,
              "ticks": ""
             }
            },
            "type": "scattergeo"
           }
          ],
          "scattergl": [
           {
            "marker": {
             "colorbar": {
              "outlinewidth": 0,
              "ticks": ""
             }
            },
            "type": "scattergl"
           }
          ],
          "scattermapbox": [
           {
            "marker": {
             "colorbar": {
              "outlinewidth": 0,
              "ticks": ""
             }
            },
            "type": "scattermapbox"
           }
          ],
          "scatterpolar": [
           {
            "marker": {
             "colorbar": {
              "outlinewidth": 0,
              "ticks": ""
             }
            },
            "type": "scatterpolar"
           }
          ],
          "scatterpolargl": [
           {
            "marker": {
             "colorbar": {
              "outlinewidth": 0,
              "ticks": ""
             }
            },
            "type": "scatterpolargl"
           }
          ],
          "scatterternary": [
           {
            "marker": {
             "colorbar": {
              "outlinewidth": 0,
              "ticks": ""
             }
            },
            "type": "scatterternary"
           }
          ],
          "surface": [
           {
            "colorbar": {
             "outlinewidth": 0,
             "ticks": ""
            },
            "colorscale": [
             [
              0,
              "#0d0887"
             ],
             [
              0.1111111111111111,
              "#46039f"
             ],
             [
              0.2222222222222222,
              "#7201a8"
             ],
             [
              0.3333333333333333,
              "#9c179e"
             ],
             [
              0.4444444444444444,
              "#bd3786"
             ],
             [
              0.5555555555555556,
              "#d8576b"
             ],
             [
              0.6666666666666666,
              "#ed7953"
             ],
             [
              0.7777777777777778,
              "#fb9f3a"
             ],
             [
              0.8888888888888888,
              "#fdca26"
             ],
             [
              1,
              "#f0f921"
             ]
            ],
            "type": "surface"
           }
          ],
          "table": [
           {
            "cells": {
             "fill": {
              "color": "#EBF0F8"
             },
             "line": {
              "color": "white"
             }
            },
            "header": {
             "fill": {
              "color": "#C8D4E3"
             },
             "line": {
              "color": "white"
             }
            },
            "type": "table"
           }
          ]
         },
         "layout": {
          "annotationdefaults": {
           "arrowcolor": "#2a3f5f",
           "arrowhead": 0,
           "arrowwidth": 1
          },
          "coloraxis": {
           "colorbar": {
            "outlinewidth": 0,
            "ticks": ""
           }
          },
          "colorscale": {
           "diverging": [
            [
             0,
             "#8e0152"
            ],
            [
             0.1,
             "#c51b7d"
            ],
            [
             0.2,
             "#de77ae"
            ],
            [
             0.3,
             "#f1b6da"
            ],
            [
             0.4,
             "#fde0ef"
            ],
            [
             0.5,
             "#f7f7f7"
            ],
            [
             0.6,
             "#e6f5d0"
            ],
            [
             0.7,
             "#b8e186"
            ],
            [
             0.8,
             "#7fbc41"
            ],
            [
             0.9,
             "#4d9221"
            ],
            [
             1,
             "#276419"
            ]
           ],
           "sequential": [
            [
             0,
             "#0d0887"
            ],
            [
             0.1111111111111111,
             "#46039f"
            ],
            [
             0.2222222222222222,
             "#7201a8"
            ],
            [
             0.3333333333333333,
             "#9c179e"
            ],
            [
             0.4444444444444444,
             "#bd3786"
            ],
            [
             0.5555555555555556,
             "#d8576b"
            ],
            [
             0.6666666666666666,
             "#ed7953"
            ],
            [
             0.7777777777777778,
             "#fb9f3a"
            ],
            [
             0.8888888888888888,
             "#fdca26"
            ],
            [
             1,
             "#f0f921"
            ]
           ],
           "sequentialminus": [
            [
             0,
             "#0d0887"
            ],
            [
             0.1111111111111111,
             "#46039f"
            ],
            [
             0.2222222222222222,
             "#7201a8"
            ],
            [
             0.3333333333333333,
             "#9c179e"
            ],
            [
             0.4444444444444444,
             "#bd3786"
            ],
            [
             0.5555555555555556,
             "#d8576b"
            ],
            [
             0.6666666666666666,
             "#ed7953"
            ],
            [
             0.7777777777777778,
             "#fb9f3a"
            ],
            [
             0.8888888888888888,
             "#fdca26"
            ],
            [
             1,
             "#f0f921"
            ]
           ]
          },
          "colorway": [
           "#636efa",
           "#EF553B",
           "#00cc96",
           "#ab63fa",
           "#FFA15A",
           "#19d3f3",
           "#FF6692",
           "#B6E880",
           "#FF97FF",
           "#FECB52"
          ],
          "font": {
           "color": "#2a3f5f"
          },
          "geo": {
           "bgcolor": "white",
           "lakecolor": "white",
           "landcolor": "#E5ECF6",
           "showlakes": true,
           "showland": true,
           "subunitcolor": "white"
          },
          "hoverlabel": {
           "align": "left"
          },
          "hovermode": "closest",
          "mapbox": {
           "style": "light"
          },
          "paper_bgcolor": "white",
          "plot_bgcolor": "#E5ECF6",
          "polar": {
           "angularaxis": {
            "gridcolor": "white",
            "linecolor": "white",
            "ticks": ""
           },
           "bgcolor": "#E5ECF6",
           "radialaxis": {
            "gridcolor": "white",
            "linecolor": "white",
            "ticks": ""
           }
          },
          "scene": {
           "xaxis": {
            "backgroundcolor": "#E5ECF6",
            "gridcolor": "white",
            "gridwidth": 2,
            "linecolor": "white",
            "showbackground": true,
            "ticks": "",
            "zerolinecolor": "white"
           },
           "yaxis": {
            "backgroundcolor": "#E5ECF6",
            "gridcolor": "white",
            "gridwidth": 2,
            "linecolor": "white",
            "showbackground": true,
            "ticks": "",
            "zerolinecolor": "white"
           },
           "zaxis": {
            "backgroundcolor": "#E5ECF6",
            "gridcolor": "white",
            "gridwidth": 2,
            "linecolor": "white",
            "showbackground": true,
            "ticks": "",
            "zerolinecolor": "white"
           }
          },
          "shapedefaults": {
           "line": {
            "color": "#2a3f5f"
           }
          },
          "ternary": {
           "aaxis": {
            "gridcolor": "white",
            "linecolor": "white",
            "ticks": ""
           },
           "baxis": {
            "gridcolor": "white",
            "linecolor": "white",
            "ticks": ""
           },
           "bgcolor": "#E5ECF6",
           "caxis": {
            "gridcolor": "white",
            "linecolor": "white",
            "ticks": ""
           }
          },
          "title": {
           "x": 0.05
          },
          "xaxis": {
           "automargin": true,
           "gridcolor": "white",
           "linecolor": "white",
           "ticks": "",
           "title": {
            "standoff": 15
           },
           "zerolinecolor": "white",
           "zerolinewidth": 2
          },
          "yaxis": {
           "automargin": true,
           "gridcolor": "white",
           "linecolor": "white",
           "ticks": "",
           "title": {
            "standoff": 15
           },
           "zerolinecolor": "white",
           "zerolinewidth": 2
          }
         }
        }
       }
      },
      "text/html": [
       "<div>\n",
       "        \n",
       "        \n",
       "            <div id=\"b800ae07-64cc-49cf-a686-692a8f9d73e5\" class=\"plotly-graph-div\" style=\"height:525px; width:100%;\"></div>\n",
       "            <script type=\"text/javascript\">\n",
       "                require([\"plotly\"], function(Plotly) {\n",
       "                    window.PLOTLYENV=window.PLOTLYENV || {};\n",
       "                    \n",
       "                if (document.getElementById(\"b800ae07-64cc-49cf-a686-692a8f9d73e5\")) {\n",
       "                    Plotly.newPlot(\n",
       "                        'b800ae07-64cc-49cf-a686-692a8f9d73e5',\n",
       "                        [{\"hoverlabel\": {\"namelength\": 0}, \"hovertemplate\": \"\\ubc1c\\uc0dd\\ud569\\uacc4=%{x}<br>\\uac80\\uac70\\ud569\\uacc4=%{y}<br>\\uc9c0\\uc5ed\\uad6c=%{z}<br>\\ub7ad\\ud06c=%{marker.color}\", \"legendgroup\": \"\", \"marker\": {\"color\": [8, 15, 24, 17, 14, 11, 9, 21, 10, 20, 22, 1, 4, 12, 5, 13, 19, 7, 6, 3, 18, 23, 25, 2, 16], \"coloraxis\": \"coloraxis\", \"opacity\": 0.6, \"symbol\": \"circle\"}, \"mode\": \"markers\", \"name\": \"\", \"scene\": \"scene\", \"showlegend\": false, \"type\": \"scatter3d\", \"x\": [7512.333333333333, 4064.6666666666665, 3556.0, 4896.0, 5293.0, 4190.666666666667, 4804.0, 3221.0, 4123.0, 2119.333333333333, 3782.3333333333335, 3276.6666666666665, 5097.333333333333, 2952.6666666666665, 4992.0, 2578.6666666666665, 3117.6666666666665, 5693.666666666667, 3537.0, 5876.333333333333, 3594.6666666666665, 3784.3333333333335, 3864.3333333333335, 4180.333333333333, 4375.666666666667], \"y\": [5195.333333333333, 2996.333333333333, 2863.333333333333, 3646.3333333333335, 3872.3333333333335, 2964.6666666666665, 3345.6666666666665, 2494.0, 2912.0, 1608.3333333333333, 3020.0, 2175.6666666666665, 3412.6666666666665, 2111.6666666666665, 3390.0, 1885.3333333333333, 2359.6666666666665, 3906.6666666666665, 2414.333333333333, 3907.0, 2696.6666666666665, 3023.333333333333, 4155.666666666667, 2778.0, 3250.6666666666665], \"z\": [\"\\uac15\\ub0a8\\uad6c\", \"\\uac15\\ub3d9\\uad6c\", \"\\uac15\\ubd81\\uad6c\", \"\\uac15\\uc11c\\uad6c\", \"\\uad00\\uc545\\uad6c\", \"\\uad11\\uc9c4\\uad6c\", \"\\uad6c\\ub85c\\uad6c\", \"\\uae08\\ucc9c\\uad6c\", \"\\ub178\\uc6d0\\uad6c\", \"\\ub3c4\\ubd09\\uad6c\", \"\\ub3d9\\ub300\\ubb38\\uad6c\", \"\\ub3d9\\uc791\\uad6c\", \"\\ub9c8\\ud3ec\\uad6c\", \"\\uc11c\\ub300\\ubb38\\uad6c\", \"\\uc11c\\ucd08\\uad6c\", \"\\uc131\\ub3d9\\uad6c\", \"\\uc131\\ubd81\\uad6c\", \"\\uc1a1\\ud30c\\uad6c\", \"\\uc591\\ucc9c\\uad6c\", \"\\uc601\\ub4f1\\ud3ec\\uad6c\", \"\\uc6a9\\uc0b0\\uad6c\", \"\\uc740\\ud3c9\\uad6c\", \"\\uc885\\ub85c\\uad6c\", \"\\uc911\\uad6c\", \"\\uc911\\ub791\\uad6c\"]}],\n",
       "                        {\"coloraxis\": {\"colorbar\": {\"title\": {\"text\": \"\\ub7ad\\ud06c\"}}, \"colorscale\": [[0.0, \"#0d0887\"], [0.1111111111111111, \"#46039f\"], [0.2222222222222222, \"#7201a8\"], [0.3333333333333333, \"#9c179e\"], [0.4444444444444444, \"#bd3786\"], [0.5555555555555556, \"#d8576b\"], [0.6666666666666666, \"#ed7953\"], [0.7777777777777778, \"#fb9f3a\"], [0.8888888888888888, \"#fdca26\"], [1.0, \"#f0f921\"]]}, \"legend\": {\"tracegroupgap\": 0}, \"margin\": {\"t\": 60}, \"scene\": {\"domain\": {\"x\": [0.0, 1.0], \"y\": [0.0, 1.0]}, \"xaxis\": {\"title\": {\"text\": \"\\ubc1c\\uc0dd\\ud569\\uacc4\"}}, \"yaxis\": {\"title\": {\"text\": \"\\uac80\\uac70\\ud569\\uacc4\"}}, \"zaxis\": {\"title\": {\"text\": \"\\uc9c0\\uc5ed\\uad6c\"}}}, \"template\": {\"data\": {\"bar\": [{\"error_x\": {\"color\": \"#2a3f5f\"}, \"error_y\": {\"color\": \"#2a3f5f\"}, \"marker\": {\"line\": {\"color\": \"#E5ECF6\", \"width\": 0.5}}, \"type\": \"bar\"}], \"barpolar\": [{\"marker\": {\"line\": {\"color\": \"#E5ECF6\", \"width\": 0.5}}, \"type\": \"barpolar\"}], \"carpet\": [{\"aaxis\": {\"endlinecolor\": \"#2a3f5f\", \"gridcolor\": \"white\", \"linecolor\": \"white\", \"minorgridcolor\": \"white\", \"startlinecolor\": \"#2a3f5f\"}, \"baxis\": {\"endlinecolor\": \"#2a3f5f\", \"gridcolor\": \"white\", \"linecolor\": \"white\", \"minorgridcolor\": \"white\", \"startlinecolor\": \"#2a3f5f\"}, \"type\": \"carpet\"}], \"choropleth\": [{\"colorbar\": {\"outlinewidth\": 0, \"ticks\": \"\"}, \"type\": \"choropleth\"}], \"contour\": [{\"colorbar\": {\"outlinewidth\": 0, \"ticks\": \"\"}, \"colorscale\": [[0.0, \"#0d0887\"], [0.1111111111111111, \"#46039f\"], [0.2222222222222222, \"#7201a8\"], [0.3333333333333333, \"#9c179e\"], [0.4444444444444444, \"#bd3786\"], [0.5555555555555556, \"#d8576b\"], [0.6666666666666666, \"#ed7953\"], [0.7777777777777778, \"#fb9f3a\"], [0.8888888888888888, \"#fdca26\"], [1.0, \"#f0f921\"]], \"type\": \"contour\"}], \"contourcarpet\": [{\"colorbar\": {\"outlinewidth\": 0, \"ticks\": \"\"}, \"type\": \"contourcarpet\"}], \"heatmap\": [{\"colorbar\": {\"outlinewidth\": 0, \"ticks\": \"\"}, \"colorscale\": [[0.0, \"#0d0887\"], [0.1111111111111111, \"#46039f\"], [0.2222222222222222, \"#7201a8\"], [0.3333333333333333, \"#9c179e\"], [0.4444444444444444, \"#bd3786\"], [0.5555555555555556, \"#d8576b\"], [0.6666666666666666, \"#ed7953\"], [0.7777777777777778, \"#fb9f3a\"], [0.8888888888888888, \"#fdca26\"], [1.0, \"#f0f921\"]], \"type\": \"heatmap\"}], \"heatmapgl\": [{\"colorbar\": {\"outlinewidth\": 0, \"ticks\": \"\"}, \"colorscale\": [[0.0, \"#0d0887\"], [0.1111111111111111, \"#46039f\"], [0.2222222222222222, \"#7201a8\"], [0.3333333333333333, \"#9c179e\"], [0.4444444444444444, \"#bd3786\"], [0.5555555555555556, \"#d8576b\"], [0.6666666666666666, \"#ed7953\"], [0.7777777777777778, \"#fb9f3a\"], [0.8888888888888888, \"#fdca26\"], [1.0, \"#f0f921\"]], \"type\": \"heatmapgl\"}], \"histogram\": [{\"marker\": {\"colorbar\": {\"outlinewidth\": 0, \"ticks\": \"\"}}, \"type\": \"histogram\"}], \"histogram2d\": [{\"colorbar\": {\"outlinewidth\": 0, \"ticks\": \"\"}, \"colorscale\": [[0.0, \"#0d0887\"], [0.1111111111111111, \"#46039f\"], [0.2222222222222222, \"#7201a8\"], [0.3333333333333333, \"#9c179e\"], [0.4444444444444444, \"#bd3786\"], [0.5555555555555556, \"#d8576b\"], [0.6666666666666666, \"#ed7953\"], [0.7777777777777778, \"#fb9f3a\"], [0.8888888888888888, \"#fdca26\"], [1.0, \"#f0f921\"]], \"type\": \"histogram2d\"}], \"histogram2dcontour\": [{\"colorbar\": {\"outlinewidth\": 0, \"ticks\": \"\"}, \"colorscale\": [[0.0, \"#0d0887\"], [0.1111111111111111, \"#46039f\"], [0.2222222222222222, \"#7201a8\"], [0.3333333333333333, \"#9c179e\"], [0.4444444444444444, \"#bd3786\"], [0.5555555555555556, \"#d8576b\"], [0.6666666666666666, \"#ed7953\"], [0.7777777777777778, \"#fb9f3a\"], [0.8888888888888888, \"#fdca26\"], [1.0, \"#f0f921\"]], \"type\": \"histogram2dcontour\"}], \"mesh3d\": [{\"colorbar\": {\"outlinewidth\": 0, \"ticks\": \"\"}, \"type\": \"mesh3d\"}], \"parcoords\": [{\"line\": {\"colorbar\": {\"outlinewidth\": 0, \"ticks\": \"\"}}, \"type\": \"parcoords\"}], \"pie\": [{\"automargin\": true, \"type\": \"pie\"}], \"scatter\": [{\"marker\": {\"colorbar\": {\"outlinewidth\": 0, \"ticks\": \"\"}}, \"type\": \"scatter\"}], \"scatter3d\": [{\"line\": {\"colorbar\": {\"outlinewidth\": 0, \"ticks\": \"\"}}, \"marker\": {\"colorbar\": {\"outlinewidth\": 0, \"ticks\": \"\"}}, \"type\": \"scatter3d\"}], \"scattercarpet\": [{\"marker\": {\"colorbar\": {\"outlinewidth\": 0, \"ticks\": \"\"}}, \"type\": \"scattercarpet\"}], \"scattergeo\": [{\"marker\": {\"colorbar\": {\"outlinewidth\": 0, \"ticks\": \"\"}}, \"type\": \"scattergeo\"}], \"scattergl\": [{\"marker\": {\"colorbar\": {\"outlinewidth\": 0, \"ticks\": \"\"}}, \"type\": \"scattergl\"}], \"scattermapbox\": [{\"marker\": {\"colorbar\": {\"outlinewidth\": 0, \"ticks\": \"\"}}, \"type\": \"scattermapbox\"}], \"scatterpolar\": [{\"marker\": {\"colorbar\": {\"outlinewidth\": 0, \"ticks\": \"\"}}, \"type\": \"scatterpolar\"}], \"scatterpolargl\": [{\"marker\": {\"colorbar\": {\"outlinewidth\": 0, \"ticks\": \"\"}}, \"type\": \"scatterpolargl\"}], \"scatterternary\": [{\"marker\": {\"colorbar\": {\"outlinewidth\": 0, \"ticks\": \"\"}}, \"type\": \"scatterternary\"}], \"surface\": [{\"colorbar\": {\"outlinewidth\": 0, \"ticks\": \"\"}, \"colorscale\": [[0.0, \"#0d0887\"], [0.1111111111111111, \"#46039f\"], [0.2222222222222222, \"#7201a8\"], [0.3333333333333333, \"#9c179e\"], [0.4444444444444444, \"#bd3786\"], [0.5555555555555556, \"#d8576b\"], [0.6666666666666666, \"#ed7953\"], [0.7777777777777778, \"#fb9f3a\"], [0.8888888888888888, \"#fdca26\"], [1.0, \"#f0f921\"]], \"type\": \"surface\"}], \"table\": [{\"cells\": {\"fill\": {\"color\": \"#EBF0F8\"}, \"line\": {\"color\": \"white\"}}, \"header\": {\"fill\": {\"color\": \"#C8D4E3\"}, \"line\": {\"color\": \"white\"}}, \"type\": \"table\"}]}, \"layout\": {\"annotationdefaults\": {\"arrowcolor\": \"#2a3f5f\", \"arrowhead\": 0, \"arrowwidth\": 1}, \"coloraxis\": {\"colorbar\": {\"outlinewidth\": 0, \"ticks\": \"\"}}, \"colorscale\": {\"diverging\": [[0, \"#8e0152\"], [0.1, \"#c51b7d\"], [0.2, \"#de77ae\"], [0.3, \"#f1b6da\"], [0.4, \"#fde0ef\"], [0.5, \"#f7f7f7\"], [0.6, \"#e6f5d0\"], [0.7, \"#b8e186\"], [0.8, \"#7fbc41\"], [0.9, \"#4d9221\"], [1, \"#276419\"]], \"sequential\": [[0.0, \"#0d0887\"], [0.1111111111111111, \"#46039f\"], [0.2222222222222222, \"#7201a8\"], [0.3333333333333333, \"#9c179e\"], [0.4444444444444444, \"#bd3786\"], [0.5555555555555556, \"#d8576b\"], [0.6666666666666666, \"#ed7953\"], [0.7777777777777778, \"#fb9f3a\"], [0.8888888888888888, \"#fdca26\"], [1.0, \"#f0f921\"]], \"sequentialminus\": [[0.0, \"#0d0887\"], [0.1111111111111111, \"#46039f\"], [0.2222222222222222, \"#7201a8\"], [0.3333333333333333, \"#9c179e\"], [0.4444444444444444, \"#bd3786\"], [0.5555555555555556, \"#d8576b\"], [0.6666666666666666, \"#ed7953\"], [0.7777777777777778, \"#fb9f3a\"], [0.8888888888888888, \"#fdca26\"], [1.0, \"#f0f921\"]]}, \"colorway\": [\"#636efa\", \"#EF553B\", \"#00cc96\", \"#ab63fa\", \"#FFA15A\", \"#19d3f3\", \"#FF6692\", \"#B6E880\", \"#FF97FF\", \"#FECB52\"], \"font\": {\"color\": \"#2a3f5f\"}, \"geo\": {\"bgcolor\": \"white\", \"lakecolor\": \"white\", \"landcolor\": \"#E5ECF6\", \"showlakes\": true, \"showland\": true, \"subunitcolor\": \"white\"}, \"hoverlabel\": {\"align\": \"left\"}, \"hovermode\": \"closest\", \"mapbox\": {\"style\": \"light\"}, \"paper_bgcolor\": \"white\", \"plot_bgcolor\": \"#E5ECF6\", \"polar\": {\"angularaxis\": {\"gridcolor\": \"white\", \"linecolor\": \"white\", \"ticks\": \"\"}, \"bgcolor\": \"#E5ECF6\", \"radialaxis\": {\"gridcolor\": \"white\", \"linecolor\": \"white\", \"ticks\": \"\"}}, \"scene\": {\"xaxis\": {\"backgroundcolor\": \"#E5ECF6\", \"gridcolor\": \"white\", \"gridwidth\": 2, \"linecolor\": \"white\", \"showbackground\": true, \"ticks\": \"\", \"zerolinecolor\": \"white\"}, \"yaxis\": {\"backgroundcolor\": \"#E5ECF6\", \"gridcolor\": \"white\", \"gridwidth\": 2, \"linecolor\": \"white\", \"showbackground\": true, \"ticks\": \"\", \"zerolinecolor\": \"white\"}, \"zaxis\": {\"backgroundcolor\": \"#E5ECF6\", \"gridcolor\": \"white\", \"gridwidth\": 2, \"linecolor\": \"white\", \"showbackground\": true, \"ticks\": \"\", \"zerolinecolor\": \"white\"}}, \"shapedefaults\": {\"line\": {\"color\": \"#2a3f5f\"}}, \"ternary\": {\"aaxis\": {\"gridcolor\": \"white\", \"linecolor\": \"white\", \"ticks\": \"\"}, \"baxis\": {\"gridcolor\": \"white\", \"linecolor\": \"white\", \"ticks\": \"\"}, \"bgcolor\": \"#E5ECF6\", \"caxis\": {\"gridcolor\": \"white\", \"linecolor\": \"white\", \"ticks\": \"\"}}, \"title\": {\"x\": 0.05}, \"xaxis\": {\"automargin\": true, \"gridcolor\": \"white\", \"linecolor\": \"white\", \"ticks\": \"\", \"title\": {\"standoff\": 15}, \"zerolinecolor\": \"white\", \"zerolinewidth\": 2}, \"yaxis\": {\"automargin\": true, \"gridcolor\": \"white\", \"linecolor\": \"white\", \"ticks\": \"\", \"title\": {\"standoff\": 15}, \"zerolinecolor\": \"white\", \"zerolinewidth\": 2}}}},\n",
       "                        {\"responsive\": true}\n",
       "                    ).then(function(){\n",
       "                            \n",
       "var gd = document.getElementById('b800ae07-64cc-49cf-a686-692a8f9d73e5');\n",
       "var x = new MutationObserver(function (mutations, observer) {{\n",
       "        var display = window.getComputedStyle(gd).display;\n",
       "        if (!display || display === 'none') {{\n",
       "            console.log([gd, 'removed!']);\n",
       "            Plotly.purge(gd);\n",
       "            observer.disconnect();\n",
       "        }}\n",
       "}});\n",
       "\n",
       "// Listen for the removal of the full notebook cells\n",
       "var notebookContainer = gd.closest('#notebook-container');\n",
       "if (notebookContainer) {{\n",
       "    x.observe(notebookContainer, {childList: true});\n",
       "}}\n",
       "\n",
       "// Listen for the clearing of the current output cell\n",
       "var outputEl = gd.closest('.output');\n",
       "if (outputEl) {{\n",
       "    x.observe(outputEl, {childList: true});\n",
       "}}\n",
       "\n",
       "                        })\n",
       "                };\n",
       "                });\n",
       "            </script>\n",
       "        </div>"
      ]
     },
     "metadata": {},
     "output_type": "display_data"
    }
   ],
   "source": [
    "fig = px.scatter_3d(old_pop, x=\"발생합계\", y=\"검거합계\",z=\"지역구\", \n",
    "                    color = \"랭크\", \n",
    "                    opacity = 0.6)\n",
    "\n",
    "fig.show()\n",
    "\n",
    "fig.write_html(\"1_18_2.html\")"
   ]
  },
  {
   "cell_type": "code",
   "execution_count": 112,
   "id": "976c852c",
   "metadata": {},
   "outputs": [
    {
     "data": {
      "application/vnd.plotly.v1+json": {
       "config": {
        "plotlyServerURL": "https://plot.ly"
       },
       "data": [
        {
         "hoverlabel": {
          "namelength": 0
         },
         "hovertemplate": "랭크=8<br>발생합계=%{x}<br>검거합계=%{y}<br>지역구=%{z}<br>년도=%{marker.color}",
         "legendgroup": "8",
         "marker": {
          "color": [
           2018
          ],
          "coloraxis": "coloraxis",
          "opacity": 0.6,
          "symbol": "circle"
         },
         "mode": "markers",
         "name": "8",
         "scene": "scene",
         "showlegend": true,
         "type": "scatter3d",
         "x": [
          7512.333333333333
         ],
         "y": [
          5195.333333333333
         ],
         "z": [
          "강남구"
         ]
        },
        {
         "hoverlabel": {
          "namelength": 0
         },
         "hovertemplate": "랭크=15<br>발생합계=%{x}<br>검거합계=%{y}<br>지역구=%{z}<br>년도=%{marker.color}",
         "legendgroup": "15",
         "marker": {
          "color": [
           2018
          ],
          "coloraxis": "coloraxis",
          "opacity": 0.6,
          "symbol": "diamond"
         },
         "mode": "markers",
         "name": "15",
         "scene": "scene",
         "showlegend": true,
         "type": "scatter3d",
         "x": [
          4064.6666666666665
         ],
         "y": [
          2996.333333333333
         ],
         "z": [
          "강동구"
         ]
        },
        {
         "hoverlabel": {
          "namelength": 0
         },
         "hovertemplate": "랭크=24<br>발생합계=%{x}<br>검거합계=%{y}<br>지역구=%{z}<br>년도=%{marker.color}",
         "legendgroup": "24",
         "marker": {
          "color": [
           2018
          ],
          "coloraxis": "coloraxis",
          "opacity": 0.6,
          "symbol": "square"
         },
         "mode": "markers",
         "name": "24",
         "scene": "scene",
         "showlegend": true,
         "type": "scatter3d",
         "x": [
          3556
         ],
         "y": [
          2863.333333333333
         ],
         "z": [
          "강북구"
         ]
        },
        {
         "hoverlabel": {
          "namelength": 0
         },
         "hovertemplate": "랭크=17<br>발생합계=%{x}<br>검거합계=%{y}<br>지역구=%{z}<br>년도=%{marker.color}",
         "legendgroup": "17",
         "marker": {
          "color": [
           2018
          ],
          "coloraxis": "coloraxis",
          "opacity": 0.6,
          "symbol": "x"
         },
         "mode": "markers",
         "name": "17",
         "scene": "scene",
         "showlegend": true,
         "type": "scatter3d",
         "x": [
          4896
         ],
         "y": [
          3646.3333333333335
         ],
         "z": [
          "강서구"
         ]
        },
        {
         "hoverlabel": {
          "namelength": 0
         },
         "hovertemplate": "랭크=14<br>발생합계=%{x}<br>검거합계=%{y}<br>지역구=%{z}<br>년도=%{marker.color}",
         "legendgroup": "14",
         "marker": {
          "color": [
           2018
          ],
          "coloraxis": "coloraxis",
          "opacity": 0.6,
          "symbol": "cross"
         },
         "mode": "markers",
         "name": "14",
         "scene": "scene",
         "showlegend": true,
         "type": "scatter3d",
         "x": [
          5293
         ],
         "y": [
          3872.3333333333335
         ],
         "z": [
          "관악구"
         ]
        },
        {
         "hoverlabel": {
          "namelength": 0
         },
         "hovertemplate": "랭크=11<br>발생합계=%{x}<br>검거합계=%{y}<br>지역구=%{z}<br>년도=%{marker.color}",
         "legendgroup": "11",
         "marker": {
          "color": [
           2018
          ],
          "coloraxis": "coloraxis",
          "opacity": 0.6,
          "symbol": "circle"
         },
         "mode": "markers",
         "name": "11",
         "scene": "scene",
         "showlegend": true,
         "type": "scatter3d",
         "x": [
          4190.666666666667
         ],
         "y": [
          2964.6666666666665
         ],
         "z": [
          "광진구"
         ]
        },
        {
         "hoverlabel": {
          "namelength": 0
         },
         "hovertemplate": "랭크=9<br>발생합계=%{x}<br>검거합계=%{y}<br>지역구=%{z}<br>년도=%{marker.color}",
         "legendgroup": "9",
         "marker": {
          "color": [
           2018
          ],
          "coloraxis": "coloraxis",
          "opacity": 0.6,
          "symbol": "diamond"
         },
         "mode": "markers",
         "name": "9",
         "scene": "scene",
         "showlegend": true,
         "type": "scatter3d",
         "x": [
          4804
         ],
         "y": [
          3345.6666666666665
         ],
         "z": [
          "구로구"
         ]
        },
        {
         "hoverlabel": {
          "namelength": 0
         },
         "hovertemplate": "랭크=21<br>발생합계=%{x}<br>검거합계=%{y}<br>지역구=%{z}<br>년도=%{marker.color}",
         "legendgroup": "21",
         "marker": {
          "color": [
           2018
          ],
          "coloraxis": "coloraxis",
          "opacity": 0.6,
          "symbol": "square"
         },
         "mode": "markers",
         "name": "21",
         "scene": "scene",
         "showlegend": true,
         "type": "scatter3d",
         "x": [
          3221
         ],
         "y": [
          2494
         ],
         "z": [
          "금천구"
         ]
        },
        {
         "hoverlabel": {
          "namelength": 0
         },
         "hovertemplate": "랭크=10<br>발생합계=%{x}<br>검거합계=%{y}<br>지역구=%{z}<br>년도=%{marker.color}",
         "legendgroup": "10",
         "marker": {
          "color": [
           2018
          ],
          "coloraxis": "coloraxis",
          "opacity": 0.6,
          "symbol": "x"
         },
         "mode": "markers",
         "name": "10",
         "scene": "scene",
         "showlegend": true,
         "type": "scatter3d",
         "x": [
          4123
         ],
         "y": [
          2912
         ],
         "z": [
          "노원구"
         ]
        },
        {
         "hoverlabel": {
          "namelength": 0
         },
         "hovertemplate": "랭크=20<br>발생합계=%{x}<br>검거합계=%{y}<br>지역구=%{z}<br>년도=%{marker.color}",
         "legendgroup": "20",
         "marker": {
          "color": [
           2018
          ],
          "coloraxis": "coloraxis",
          "opacity": 0.6,
          "symbol": "cross"
         },
         "mode": "markers",
         "name": "20",
         "scene": "scene",
         "showlegend": true,
         "type": "scatter3d",
         "x": [
          2119.333333333333
         ],
         "y": [
          1608.3333333333333
         ],
         "z": [
          "도봉구"
         ]
        },
        {
         "hoverlabel": {
          "namelength": 0
         },
         "hovertemplate": "랭크=22<br>발생합계=%{x}<br>검거합계=%{y}<br>지역구=%{z}<br>년도=%{marker.color}",
         "legendgroup": "22",
         "marker": {
          "color": [
           2018
          ],
          "coloraxis": "coloraxis",
          "opacity": 0.6,
          "symbol": "circle"
         },
         "mode": "markers",
         "name": "22",
         "scene": "scene",
         "showlegend": true,
         "type": "scatter3d",
         "x": [
          3782.3333333333335
         ],
         "y": [
          3020
         ],
         "z": [
          "동대문구"
         ]
        },
        {
         "hoverlabel": {
          "namelength": 0
         },
         "hovertemplate": "랭크=1<br>발생합계=%{x}<br>검거합계=%{y}<br>지역구=%{z}<br>년도=%{marker.color}",
         "legendgroup": "1",
         "marker": {
          "color": [
           2018
          ],
          "coloraxis": "coloraxis",
          "opacity": 0.6,
          "symbol": "diamond"
         },
         "mode": "markers",
         "name": "1",
         "scene": "scene",
         "showlegend": true,
         "type": "scatter3d",
         "x": [
          3276.6666666666665
         ],
         "y": [
          2175.6666666666665
         ],
         "z": [
          "동작구"
         ]
        },
        {
         "hoverlabel": {
          "namelength": 0
         },
         "hovertemplate": "랭크=4<br>발생합계=%{x}<br>검거합계=%{y}<br>지역구=%{z}<br>년도=%{marker.color}",
         "legendgroup": "4",
         "marker": {
          "color": [
           2018
          ],
          "coloraxis": "coloraxis",
          "opacity": 0.6,
          "symbol": "square"
         },
         "mode": "markers",
         "name": "4",
         "scene": "scene",
         "showlegend": true,
         "type": "scatter3d",
         "x": [
          5097.333333333333
         ],
         "y": [
          3412.6666666666665
         ],
         "z": [
          "마포구"
         ]
        },
        {
         "hoverlabel": {
          "namelength": 0
         },
         "hovertemplate": "랭크=12<br>발생합계=%{x}<br>검거합계=%{y}<br>지역구=%{z}<br>년도=%{marker.color}",
         "legendgroup": "12",
         "marker": {
          "color": [
           2018
          ],
          "coloraxis": "coloraxis",
          "opacity": 0.6,
          "symbol": "x"
         },
         "mode": "markers",
         "name": "12",
         "scene": "scene",
         "showlegend": true,
         "type": "scatter3d",
         "x": [
          2952.6666666666665
         ],
         "y": [
          2111.6666666666665
         ],
         "z": [
          "서대문구"
         ]
        },
        {
         "hoverlabel": {
          "namelength": 0
         },
         "hovertemplate": "랭크=5<br>발생합계=%{x}<br>검거합계=%{y}<br>지역구=%{z}<br>년도=%{marker.color}",
         "legendgroup": "5",
         "marker": {
          "color": [
           2018
          ],
          "coloraxis": "coloraxis",
          "opacity": 0.6,
          "symbol": "cross"
         },
         "mode": "markers",
         "name": "5",
         "scene": "scene",
         "showlegend": true,
         "type": "scatter3d",
         "x": [
          4992
         ],
         "y": [
          3390
         ],
         "z": [
          "서초구"
         ]
        },
        {
         "hoverlabel": {
          "namelength": 0
         },
         "hovertemplate": "랭크=13<br>발생합계=%{x}<br>검거합계=%{y}<br>지역구=%{z}<br>년도=%{marker.color}",
         "legendgroup": "13",
         "marker": {
          "color": [
           2018
          ],
          "coloraxis": "coloraxis",
          "opacity": 0.6,
          "symbol": "circle"
         },
         "mode": "markers",
         "name": "13",
         "scene": "scene",
         "showlegend": true,
         "type": "scatter3d",
         "x": [
          2578.6666666666665
         ],
         "y": [
          1885.3333333333333
         ],
         "z": [
          "성동구"
         ]
        },
        {
         "hoverlabel": {
          "namelength": 0
         },
         "hovertemplate": "랭크=19<br>발생합계=%{x}<br>검거합계=%{y}<br>지역구=%{z}<br>년도=%{marker.color}",
         "legendgroup": "19",
         "marker": {
          "color": [
           2018
          ],
          "coloraxis": "coloraxis",
          "opacity": 0.6,
          "symbol": "diamond"
         },
         "mode": "markers",
         "name": "19",
         "scene": "scene",
         "showlegend": true,
         "type": "scatter3d",
         "x": [
          3117.6666666666665
         ],
         "y": [
          2359.6666666666665
         ],
         "z": [
          "성북구"
         ]
        },
        {
         "hoverlabel": {
          "namelength": 0
         },
         "hovertemplate": "랭크=7<br>발생합계=%{x}<br>검거합계=%{y}<br>지역구=%{z}<br>년도=%{marker.color}",
         "legendgroup": "7",
         "marker": {
          "color": [
           2018
          ],
          "coloraxis": "coloraxis",
          "opacity": 0.6,
          "symbol": "square"
         },
         "mode": "markers",
         "name": "7",
         "scene": "scene",
         "showlegend": true,
         "type": "scatter3d",
         "x": [
          5693.666666666667
         ],
         "y": [
          3906.6666666666665
         ],
         "z": [
          "송파구"
         ]
        },
        {
         "hoverlabel": {
          "namelength": 0
         },
         "hovertemplate": "랭크=6<br>발생합계=%{x}<br>검거합계=%{y}<br>지역구=%{z}<br>년도=%{marker.color}",
         "legendgroup": "6",
         "marker": {
          "color": [
           2018
          ],
          "coloraxis": "coloraxis",
          "opacity": 0.6,
          "symbol": "x"
         },
         "mode": "markers",
         "name": "6",
         "scene": "scene",
         "showlegend": true,
         "type": "scatter3d",
         "x": [
          3537
         ],
         "y": [
          2414.333333333333
         ],
         "z": [
          "양천구"
         ]
        },
        {
         "hoverlabel": {
          "namelength": 0
         },
         "hovertemplate": "랭크=3<br>발생합계=%{x}<br>검거합계=%{y}<br>지역구=%{z}<br>년도=%{marker.color}",
         "legendgroup": "3",
         "marker": {
          "color": [
           2018
          ],
          "coloraxis": "coloraxis",
          "opacity": 0.6,
          "symbol": "cross"
         },
         "mode": "markers",
         "name": "3",
         "scene": "scene",
         "showlegend": true,
         "type": "scatter3d",
         "x": [
          5876.333333333333
         ],
         "y": [
          3907
         ],
         "z": [
          "영등포구"
         ]
        },
        {
         "hoverlabel": {
          "namelength": 0
         },
         "hovertemplate": "랭크=18<br>발생합계=%{x}<br>검거합계=%{y}<br>지역구=%{z}<br>년도=%{marker.color}",
         "legendgroup": "18",
         "marker": {
          "color": [
           2018
          ],
          "coloraxis": "coloraxis",
          "opacity": 0.6,
          "symbol": "circle"
         },
         "mode": "markers",
         "name": "18",
         "scene": "scene",
         "showlegend": true,
         "type": "scatter3d",
         "x": [
          3594.6666666666665
         ],
         "y": [
          2696.6666666666665
         ],
         "z": [
          "용산구"
         ]
        },
        {
         "hoverlabel": {
          "namelength": 0
         },
         "hovertemplate": "랭크=23<br>발생합계=%{x}<br>검거합계=%{y}<br>지역구=%{z}<br>년도=%{marker.color}",
         "legendgroup": "23",
         "marker": {
          "color": [
           2018
          ],
          "coloraxis": "coloraxis",
          "opacity": 0.6,
          "symbol": "diamond"
         },
         "mode": "markers",
         "name": "23",
         "scene": "scene",
         "showlegend": true,
         "type": "scatter3d",
         "x": [
          3784.3333333333335
         ],
         "y": [
          3023.333333333333
         ],
         "z": [
          "은평구"
         ]
        },
        {
         "hoverlabel": {
          "namelength": 0
         },
         "hovertemplate": "랭크=25<br>발생합계=%{x}<br>검거합계=%{y}<br>지역구=%{z}<br>년도=%{marker.color}",
         "legendgroup": "25",
         "marker": {
          "color": [
           2018
          ],
          "coloraxis": "coloraxis",
          "opacity": 0.6,
          "symbol": "square"
         },
         "mode": "markers",
         "name": "25",
         "scene": "scene",
         "showlegend": true,
         "type": "scatter3d",
         "x": [
          3864.3333333333335
         ],
         "y": [
          4155.666666666667
         ],
         "z": [
          "종로구"
         ]
        },
        {
         "hoverlabel": {
          "namelength": 0
         },
         "hovertemplate": "랭크=2<br>발생합계=%{x}<br>검거합계=%{y}<br>지역구=%{z}<br>년도=%{marker.color}",
         "legendgroup": "2",
         "marker": {
          "color": [
           2018
          ],
          "coloraxis": "coloraxis",
          "opacity": 0.6,
          "symbol": "x"
         },
         "mode": "markers",
         "name": "2",
         "scene": "scene",
         "showlegend": true,
         "type": "scatter3d",
         "x": [
          4180.333333333333
         ],
         "y": [
          2778
         ],
         "z": [
          "중구"
         ]
        },
        {
         "hoverlabel": {
          "namelength": 0
         },
         "hovertemplate": "랭크=16<br>발생합계=%{x}<br>검거합계=%{y}<br>지역구=%{z}<br>년도=%{marker.color}",
         "legendgroup": "16",
         "marker": {
          "color": [
           2018
          ],
          "coloraxis": "coloraxis",
          "opacity": 0.6,
          "symbol": "cross"
         },
         "mode": "markers",
         "name": "16",
         "scene": "scene",
         "showlegend": true,
         "type": "scatter3d",
         "x": [
          4375.666666666667
         ],
         "y": [
          3250.6666666666665
         ],
         "z": [
          "중랑구"
         ]
        }
       ],
       "layout": {
        "coloraxis": {
         "colorbar": {
          "title": {
           "text": "년도"
          }
         },
         "colorscale": [
          [
           0,
           "#0d0887"
          ],
          [
           0.1111111111111111,
           "#46039f"
          ],
          [
           0.2222222222222222,
           "#7201a8"
          ],
          [
           0.3333333333333333,
           "#9c179e"
          ],
          [
           0.4444444444444444,
           "#bd3786"
          ],
          [
           0.5555555555555556,
           "#d8576b"
          ],
          [
           0.6666666666666666,
           "#ed7953"
          ],
          [
           0.7777777777777778,
           "#fb9f3a"
          ],
          [
           0.8888888888888888,
           "#fdca26"
          ],
          [
           1,
           "#f0f921"
          ]
         ]
        },
        "legend": {
         "title": {
          "text": "랭크"
         },
         "tracegroupgap": 0
        },
        "margin": {
         "t": 60
        },
        "scene": {
         "domain": {
          "x": [
           0,
           1
          ],
          "y": [
           0,
           1
          ]
         },
         "xaxis": {
          "title": {
           "text": "발생합계"
          }
         },
         "yaxis": {
          "title": {
           "text": "검거합계"
          }
         },
         "zaxis": {
          "title": {
           "text": "지역구"
          }
         }
        },
        "template": {
         "data": {
          "bar": [
           {
            "error_x": {
             "color": "#2a3f5f"
            },
            "error_y": {
             "color": "#2a3f5f"
            },
            "marker": {
             "line": {
              "color": "#E5ECF6",
              "width": 0.5
             }
            },
            "type": "bar"
           }
          ],
          "barpolar": [
           {
            "marker": {
             "line": {
              "color": "#E5ECF6",
              "width": 0.5
             }
            },
            "type": "barpolar"
           }
          ],
          "carpet": [
           {
            "aaxis": {
             "endlinecolor": "#2a3f5f",
             "gridcolor": "white",
             "linecolor": "white",
             "minorgridcolor": "white",
             "startlinecolor": "#2a3f5f"
            },
            "baxis": {
             "endlinecolor": "#2a3f5f",
             "gridcolor": "white",
             "linecolor": "white",
             "minorgridcolor": "white",
             "startlinecolor": "#2a3f5f"
            },
            "type": "carpet"
           }
          ],
          "choropleth": [
           {
            "colorbar": {
             "outlinewidth": 0,
             "ticks": ""
            },
            "type": "choropleth"
           }
          ],
          "contour": [
           {
            "colorbar": {
             "outlinewidth": 0,
             "ticks": ""
            },
            "colorscale": [
             [
              0,
              "#0d0887"
             ],
             [
              0.1111111111111111,
              "#46039f"
             ],
             [
              0.2222222222222222,
              "#7201a8"
             ],
             [
              0.3333333333333333,
              "#9c179e"
             ],
             [
              0.4444444444444444,
              "#bd3786"
             ],
             [
              0.5555555555555556,
              "#d8576b"
             ],
             [
              0.6666666666666666,
              "#ed7953"
             ],
             [
              0.7777777777777778,
              "#fb9f3a"
             ],
             [
              0.8888888888888888,
              "#fdca26"
             ],
             [
              1,
              "#f0f921"
             ]
            ],
            "type": "contour"
           }
          ],
          "contourcarpet": [
           {
            "colorbar": {
             "outlinewidth": 0,
             "ticks": ""
            },
            "type": "contourcarpet"
           }
          ],
          "heatmap": [
           {
            "colorbar": {
             "outlinewidth": 0,
             "ticks": ""
            },
            "colorscale": [
             [
              0,
              "#0d0887"
             ],
             [
              0.1111111111111111,
              "#46039f"
             ],
             [
              0.2222222222222222,
              "#7201a8"
             ],
             [
              0.3333333333333333,
              "#9c179e"
             ],
             [
              0.4444444444444444,
              "#bd3786"
             ],
             [
              0.5555555555555556,
              "#d8576b"
             ],
             [
              0.6666666666666666,
              "#ed7953"
             ],
             [
              0.7777777777777778,
              "#fb9f3a"
             ],
             [
              0.8888888888888888,
              "#fdca26"
             ],
             [
              1,
              "#f0f921"
             ]
            ],
            "type": "heatmap"
           }
          ],
          "heatmapgl": [
           {
            "colorbar": {
             "outlinewidth": 0,
             "ticks": ""
            },
            "colorscale": [
             [
              0,
              "#0d0887"
             ],
             [
              0.1111111111111111,
              "#46039f"
             ],
             [
              0.2222222222222222,
              "#7201a8"
             ],
             [
              0.3333333333333333,
              "#9c179e"
             ],
             [
              0.4444444444444444,
              "#bd3786"
             ],
             [
              0.5555555555555556,
              "#d8576b"
             ],
             [
              0.6666666666666666,
              "#ed7953"
             ],
             [
              0.7777777777777778,
              "#fb9f3a"
             ],
             [
              0.8888888888888888,
              "#fdca26"
             ],
             [
              1,
              "#f0f921"
             ]
            ],
            "type": "heatmapgl"
           }
          ],
          "histogram": [
           {
            "marker": {
             "colorbar": {
              "outlinewidth": 0,
              "ticks": ""
             }
            },
            "type": "histogram"
           }
          ],
          "histogram2d": [
           {
            "colorbar": {
             "outlinewidth": 0,
             "ticks": ""
            },
            "colorscale": [
             [
              0,
              "#0d0887"
             ],
             [
              0.1111111111111111,
              "#46039f"
             ],
             [
              0.2222222222222222,
              "#7201a8"
             ],
             [
              0.3333333333333333,
              "#9c179e"
             ],
             [
              0.4444444444444444,
              "#bd3786"
             ],
             [
              0.5555555555555556,
              "#d8576b"
             ],
             [
              0.6666666666666666,
              "#ed7953"
             ],
             [
              0.7777777777777778,
              "#fb9f3a"
             ],
             [
              0.8888888888888888,
              "#fdca26"
             ],
             [
              1,
              "#f0f921"
             ]
            ],
            "type": "histogram2d"
           }
          ],
          "histogram2dcontour": [
           {
            "colorbar": {
             "outlinewidth": 0,
             "ticks": ""
            },
            "colorscale": [
             [
              0,
              "#0d0887"
             ],
             [
              0.1111111111111111,
              "#46039f"
             ],
             [
              0.2222222222222222,
              "#7201a8"
             ],
             [
              0.3333333333333333,
              "#9c179e"
             ],
             [
              0.4444444444444444,
              "#bd3786"
             ],
             [
              0.5555555555555556,
              "#d8576b"
             ],
             [
              0.6666666666666666,
              "#ed7953"
             ],
             [
              0.7777777777777778,
              "#fb9f3a"
             ],
             [
              0.8888888888888888,
              "#fdca26"
             ],
             [
              1,
              "#f0f921"
             ]
            ],
            "type": "histogram2dcontour"
           }
          ],
          "mesh3d": [
           {
            "colorbar": {
             "outlinewidth": 0,
             "ticks": ""
            },
            "type": "mesh3d"
           }
          ],
          "parcoords": [
           {
            "line": {
             "colorbar": {
              "outlinewidth": 0,
              "ticks": ""
             }
            },
            "type": "parcoords"
           }
          ],
          "pie": [
           {
            "automargin": true,
            "type": "pie"
           }
          ],
          "scatter": [
           {
            "marker": {
             "colorbar": {
              "outlinewidth": 0,
              "ticks": ""
             }
            },
            "type": "scatter"
           }
          ],
          "scatter3d": [
           {
            "line": {
             "colorbar": {
              "outlinewidth": 0,
              "ticks": ""
             }
            },
            "marker": {
             "colorbar": {
              "outlinewidth": 0,
              "ticks": ""
             }
            },
            "type": "scatter3d"
           }
          ],
          "scattercarpet": [
           {
            "marker": {
             "colorbar": {
              "outlinewidth": 0,
              "ticks": ""
             }
            },
            "type": "scattercarpet"
           }
          ],
          "scattergeo": [
           {
            "marker": {
             "colorbar": {
              "outlinewidth": 0,
              "ticks": ""
             }
            },
            "type": "scattergeo"
           }
          ],
          "scattergl": [
           {
            "marker": {
             "colorbar": {
              "outlinewidth": 0,
              "ticks": ""
             }
            },
            "type": "scattergl"
           }
          ],
          "scattermapbox": [
           {
            "marker": {
             "colorbar": {
              "outlinewidth": 0,
              "ticks": ""
             }
            },
            "type": "scattermapbox"
           }
          ],
          "scatterpolar": [
           {
            "marker": {
             "colorbar": {
              "outlinewidth": 0,
              "ticks": ""
             }
            },
            "type": "scatterpolar"
           }
          ],
          "scatterpolargl": [
           {
            "marker": {
             "colorbar": {
              "outlinewidth": 0,
              "ticks": ""
             }
            },
            "type": "scatterpolargl"
           }
          ],
          "scatterternary": [
           {
            "marker": {
             "colorbar": {
              "outlinewidth": 0,
              "ticks": ""
             }
            },
            "type": "scatterternary"
           }
          ],
          "surface": [
           {
            "colorbar": {
             "outlinewidth": 0,
             "ticks": ""
            },
            "colorscale": [
             [
              0,
              "#0d0887"
             ],
             [
              0.1111111111111111,
              "#46039f"
             ],
             [
              0.2222222222222222,
              "#7201a8"
             ],
             [
              0.3333333333333333,
              "#9c179e"
             ],
             [
              0.4444444444444444,
              "#bd3786"
             ],
             [
              0.5555555555555556,
              "#d8576b"
             ],
             [
              0.6666666666666666,
              "#ed7953"
             ],
             [
              0.7777777777777778,
              "#fb9f3a"
             ],
             [
              0.8888888888888888,
              "#fdca26"
             ],
             [
              1,
              "#f0f921"
             ]
            ],
            "type": "surface"
           }
          ],
          "table": [
           {
            "cells": {
             "fill": {
              "color": "#EBF0F8"
             },
             "line": {
              "color": "white"
             }
            },
            "header": {
             "fill": {
              "color": "#C8D4E3"
             },
             "line": {
              "color": "white"
             }
            },
            "type": "table"
           }
          ]
         },
         "layout": {
          "annotationdefaults": {
           "arrowcolor": "#2a3f5f",
           "arrowhead": 0,
           "arrowwidth": 1
          },
          "coloraxis": {
           "colorbar": {
            "outlinewidth": 0,
            "ticks": ""
           }
          },
          "colorscale": {
           "diverging": [
            [
             0,
             "#8e0152"
            ],
            [
             0.1,
             "#c51b7d"
            ],
            [
             0.2,
             "#de77ae"
            ],
            [
             0.3,
             "#f1b6da"
            ],
            [
             0.4,
             "#fde0ef"
            ],
            [
             0.5,
             "#f7f7f7"
            ],
            [
             0.6,
             "#e6f5d0"
            ],
            [
             0.7,
             "#b8e186"
            ],
            [
             0.8,
             "#7fbc41"
            ],
            [
             0.9,
             "#4d9221"
            ],
            [
             1,
             "#276419"
            ]
           ],
           "sequential": [
            [
             0,
             "#0d0887"
            ],
            [
             0.1111111111111111,
             "#46039f"
            ],
            [
             0.2222222222222222,
             "#7201a8"
            ],
            [
             0.3333333333333333,
             "#9c179e"
            ],
            [
             0.4444444444444444,
             "#bd3786"
            ],
            [
             0.5555555555555556,
             "#d8576b"
            ],
            [
             0.6666666666666666,
             "#ed7953"
            ],
            [
             0.7777777777777778,
             "#fb9f3a"
            ],
            [
             0.8888888888888888,
             "#fdca26"
            ],
            [
             1,
             "#f0f921"
            ]
           ],
           "sequentialminus": [
            [
             0,
             "#0d0887"
            ],
            [
             0.1111111111111111,
             "#46039f"
            ],
            [
             0.2222222222222222,
             "#7201a8"
            ],
            [
             0.3333333333333333,
             "#9c179e"
            ],
            [
             0.4444444444444444,
             "#bd3786"
            ],
            [
             0.5555555555555556,
             "#d8576b"
            ],
            [
             0.6666666666666666,
             "#ed7953"
            ],
            [
             0.7777777777777778,
             "#fb9f3a"
            ],
            [
             0.8888888888888888,
             "#fdca26"
            ],
            [
             1,
             "#f0f921"
            ]
           ]
          },
          "colorway": [
           "#636efa",
           "#EF553B",
           "#00cc96",
           "#ab63fa",
           "#FFA15A",
           "#19d3f3",
           "#FF6692",
           "#B6E880",
           "#FF97FF",
           "#FECB52"
          ],
          "font": {
           "color": "#2a3f5f"
          },
          "geo": {
           "bgcolor": "white",
           "lakecolor": "white",
           "landcolor": "#E5ECF6",
           "showlakes": true,
           "showland": true,
           "subunitcolor": "white"
          },
          "hoverlabel": {
           "align": "left"
          },
          "hovermode": "closest",
          "mapbox": {
           "style": "light"
          },
          "paper_bgcolor": "white",
          "plot_bgcolor": "#E5ECF6",
          "polar": {
           "angularaxis": {
            "gridcolor": "white",
            "linecolor": "white",
            "ticks": ""
           },
           "bgcolor": "#E5ECF6",
           "radialaxis": {
            "gridcolor": "white",
            "linecolor": "white",
            "ticks": ""
           }
          },
          "scene": {
           "xaxis": {
            "backgroundcolor": "#E5ECF6",
            "gridcolor": "white",
            "gridwidth": 2,
            "linecolor": "white",
            "showbackground": true,
            "ticks": "",
            "zerolinecolor": "white"
           },
           "yaxis": {
            "backgroundcolor": "#E5ECF6",
            "gridcolor": "white",
            "gridwidth": 2,
            "linecolor": "white",
            "showbackground": true,
            "ticks": "",
            "zerolinecolor": "white"
           },
           "zaxis": {
            "backgroundcolor": "#E5ECF6",
            "gridcolor": "white",
            "gridwidth": 2,
            "linecolor": "white",
            "showbackground": true,
            "ticks": "",
            "zerolinecolor": "white"
           }
          },
          "shapedefaults": {
           "line": {
            "color": "#2a3f5f"
           }
          },
          "ternary": {
           "aaxis": {
            "gridcolor": "white",
            "linecolor": "white",
            "ticks": ""
           },
           "baxis": {
            "gridcolor": "white",
            "linecolor": "white",
            "ticks": ""
           },
           "bgcolor": "#E5ECF6",
           "caxis": {
            "gridcolor": "white",
            "linecolor": "white",
            "ticks": ""
           }
          },
          "title": {
           "x": 0.05
          },
          "xaxis": {
           "automargin": true,
           "gridcolor": "white",
           "linecolor": "white",
           "ticks": "",
           "title": {
            "standoff": 15
           },
           "zerolinecolor": "white",
           "zerolinewidth": 2
          },
          "yaxis": {
           "automargin": true,
           "gridcolor": "white",
           "linecolor": "white",
           "ticks": "",
           "title": {
            "standoff": 15
           },
           "zerolinecolor": "white",
           "zerolinewidth": 2
          }
         }
        }
       }
      },
      "text/html": [
       "<div>\n",
       "        \n",
       "        \n",
       "            <div id=\"fd8a2e9d-741c-4131-9fa8-0eca28e76101\" class=\"plotly-graph-div\" style=\"height:525px; width:100%;\"></div>\n",
       "            <script type=\"text/javascript\">\n",
       "                require([\"plotly\"], function(Plotly) {\n",
       "                    window.PLOTLYENV=window.PLOTLYENV || {};\n",
       "                    \n",
       "                if (document.getElementById(\"fd8a2e9d-741c-4131-9fa8-0eca28e76101\")) {\n",
       "                    Plotly.newPlot(\n",
       "                        'fd8a2e9d-741c-4131-9fa8-0eca28e76101',\n",
       "                        [{\"hoverlabel\": {\"namelength\": 0}, \"hovertemplate\": \"\\ub7ad\\ud06c=8<br>\\ubc1c\\uc0dd\\ud569\\uacc4=%{x}<br>\\uac80\\uac70\\ud569\\uacc4=%{y}<br>\\uc9c0\\uc5ed\\uad6c=%{z}<br>\\ub144\\ub3c4=%{marker.color}\", \"legendgroup\": \"8\", \"marker\": {\"color\": [2018], \"coloraxis\": \"coloraxis\", \"opacity\": 0.6, \"symbol\": \"circle\"}, \"mode\": \"markers\", \"name\": \"8\", \"scene\": \"scene\", \"showlegend\": true, \"type\": \"scatter3d\", \"x\": [7512.333333333333], \"y\": [5195.333333333333], \"z\": [\"\\uac15\\ub0a8\\uad6c\"]}, {\"hoverlabel\": {\"namelength\": 0}, \"hovertemplate\": \"\\ub7ad\\ud06c=15<br>\\ubc1c\\uc0dd\\ud569\\uacc4=%{x}<br>\\uac80\\uac70\\ud569\\uacc4=%{y}<br>\\uc9c0\\uc5ed\\uad6c=%{z}<br>\\ub144\\ub3c4=%{marker.color}\", \"legendgroup\": \"15\", \"marker\": {\"color\": [2018], \"coloraxis\": \"coloraxis\", \"opacity\": 0.6, \"symbol\": \"diamond\"}, \"mode\": \"markers\", \"name\": \"15\", \"scene\": \"scene\", \"showlegend\": true, \"type\": \"scatter3d\", \"x\": [4064.6666666666665], \"y\": [2996.333333333333], \"z\": [\"\\uac15\\ub3d9\\uad6c\"]}, {\"hoverlabel\": {\"namelength\": 0}, \"hovertemplate\": \"\\ub7ad\\ud06c=24<br>\\ubc1c\\uc0dd\\ud569\\uacc4=%{x}<br>\\uac80\\uac70\\ud569\\uacc4=%{y}<br>\\uc9c0\\uc5ed\\uad6c=%{z}<br>\\ub144\\ub3c4=%{marker.color}\", \"legendgroup\": \"24\", \"marker\": {\"color\": [2018], \"coloraxis\": \"coloraxis\", \"opacity\": 0.6, \"symbol\": \"square\"}, \"mode\": \"markers\", \"name\": \"24\", \"scene\": \"scene\", \"showlegend\": true, \"type\": \"scatter3d\", \"x\": [3556.0], \"y\": [2863.333333333333], \"z\": [\"\\uac15\\ubd81\\uad6c\"]}, {\"hoverlabel\": {\"namelength\": 0}, \"hovertemplate\": \"\\ub7ad\\ud06c=17<br>\\ubc1c\\uc0dd\\ud569\\uacc4=%{x}<br>\\uac80\\uac70\\ud569\\uacc4=%{y}<br>\\uc9c0\\uc5ed\\uad6c=%{z}<br>\\ub144\\ub3c4=%{marker.color}\", \"legendgroup\": \"17\", \"marker\": {\"color\": [2018], \"coloraxis\": \"coloraxis\", \"opacity\": 0.6, \"symbol\": \"x\"}, \"mode\": \"markers\", \"name\": \"17\", \"scene\": \"scene\", \"showlegend\": true, \"type\": \"scatter3d\", \"x\": [4896.0], \"y\": [3646.3333333333335], \"z\": [\"\\uac15\\uc11c\\uad6c\"]}, {\"hoverlabel\": {\"namelength\": 0}, \"hovertemplate\": \"\\ub7ad\\ud06c=14<br>\\ubc1c\\uc0dd\\ud569\\uacc4=%{x}<br>\\uac80\\uac70\\ud569\\uacc4=%{y}<br>\\uc9c0\\uc5ed\\uad6c=%{z}<br>\\ub144\\ub3c4=%{marker.color}\", \"legendgroup\": \"14\", \"marker\": {\"color\": [2018], \"coloraxis\": \"coloraxis\", \"opacity\": 0.6, \"symbol\": \"cross\"}, \"mode\": \"markers\", \"name\": \"14\", \"scene\": \"scene\", \"showlegend\": true, \"type\": \"scatter3d\", \"x\": [5293.0], \"y\": [3872.3333333333335], \"z\": [\"\\uad00\\uc545\\uad6c\"]}, {\"hoverlabel\": {\"namelength\": 0}, \"hovertemplate\": \"\\ub7ad\\ud06c=11<br>\\ubc1c\\uc0dd\\ud569\\uacc4=%{x}<br>\\uac80\\uac70\\ud569\\uacc4=%{y}<br>\\uc9c0\\uc5ed\\uad6c=%{z}<br>\\ub144\\ub3c4=%{marker.color}\", \"legendgroup\": \"11\", \"marker\": {\"color\": [2018], \"coloraxis\": \"coloraxis\", \"opacity\": 0.6, \"symbol\": \"circle\"}, \"mode\": \"markers\", \"name\": \"11\", \"scene\": \"scene\", \"showlegend\": true, \"type\": \"scatter3d\", \"x\": [4190.666666666667], \"y\": [2964.6666666666665], \"z\": [\"\\uad11\\uc9c4\\uad6c\"]}, {\"hoverlabel\": {\"namelength\": 0}, \"hovertemplate\": \"\\ub7ad\\ud06c=9<br>\\ubc1c\\uc0dd\\ud569\\uacc4=%{x}<br>\\uac80\\uac70\\ud569\\uacc4=%{y}<br>\\uc9c0\\uc5ed\\uad6c=%{z}<br>\\ub144\\ub3c4=%{marker.color}\", \"legendgroup\": \"9\", \"marker\": {\"color\": [2018], \"coloraxis\": \"coloraxis\", \"opacity\": 0.6, \"symbol\": \"diamond\"}, \"mode\": \"markers\", \"name\": \"9\", \"scene\": \"scene\", \"showlegend\": true, \"type\": \"scatter3d\", \"x\": [4804.0], \"y\": [3345.6666666666665], \"z\": [\"\\uad6c\\ub85c\\uad6c\"]}, {\"hoverlabel\": {\"namelength\": 0}, \"hovertemplate\": \"\\ub7ad\\ud06c=21<br>\\ubc1c\\uc0dd\\ud569\\uacc4=%{x}<br>\\uac80\\uac70\\ud569\\uacc4=%{y}<br>\\uc9c0\\uc5ed\\uad6c=%{z}<br>\\ub144\\ub3c4=%{marker.color}\", \"legendgroup\": \"21\", \"marker\": {\"color\": [2018], \"coloraxis\": \"coloraxis\", \"opacity\": 0.6, \"symbol\": \"square\"}, \"mode\": \"markers\", \"name\": \"21\", \"scene\": \"scene\", \"showlegend\": true, \"type\": \"scatter3d\", \"x\": [3221.0], \"y\": [2494.0], \"z\": [\"\\uae08\\ucc9c\\uad6c\"]}, {\"hoverlabel\": {\"namelength\": 0}, \"hovertemplate\": \"\\ub7ad\\ud06c=10<br>\\ubc1c\\uc0dd\\ud569\\uacc4=%{x}<br>\\uac80\\uac70\\ud569\\uacc4=%{y}<br>\\uc9c0\\uc5ed\\uad6c=%{z}<br>\\ub144\\ub3c4=%{marker.color}\", \"legendgroup\": \"10\", \"marker\": {\"color\": [2018], \"coloraxis\": \"coloraxis\", \"opacity\": 0.6, \"symbol\": \"x\"}, \"mode\": \"markers\", \"name\": \"10\", \"scene\": \"scene\", \"showlegend\": true, \"type\": \"scatter3d\", \"x\": [4123.0], \"y\": [2912.0], \"z\": [\"\\ub178\\uc6d0\\uad6c\"]}, {\"hoverlabel\": {\"namelength\": 0}, \"hovertemplate\": \"\\ub7ad\\ud06c=20<br>\\ubc1c\\uc0dd\\ud569\\uacc4=%{x}<br>\\uac80\\uac70\\ud569\\uacc4=%{y}<br>\\uc9c0\\uc5ed\\uad6c=%{z}<br>\\ub144\\ub3c4=%{marker.color}\", \"legendgroup\": \"20\", \"marker\": {\"color\": [2018], \"coloraxis\": \"coloraxis\", \"opacity\": 0.6, \"symbol\": \"cross\"}, \"mode\": \"markers\", \"name\": \"20\", \"scene\": \"scene\", \"showlegend\": true, \"type\": \"scatter3d\", \"x\": [2119.333333333333], \"y\": [1608.3333333333333], \"z\": [\"\\ub3c4\\ubd09\\uad6c\"]}, {\"hoverlabel\": {\"namelength\": 0}, \"hovertemplate\": \"\\ub7ad\\ud06c=22<br>\\ubc1c\\uc0dd\\ud569\\uacc4=%{x}<br>\\uac80\\uac70\\ud569\\uacc4=%{y}<br>\\uc9c0\\uc5ed\\uad6c=%{z}<br>\\ub144\\ub3c4=%{marker.color}\", \"legendgroup\": \"22\", \"marker\": {\"color\": [2018], \"coloraxis\": \"coloraxis\", \"opacity\": 0.6, \"symbol\": \"circle\"}, \"mode\": \"markers\", \"name\": \"22\", \"scene\": \"scene\", \"showlegend\": true, \"type\": \"scatter3d\", \"x\": [3782.3333333333335], \"y\": [3020.0], \"z\": [\"\\ub3d9\\ub300\\ubb38\\uad6c\"]}, {\"hoverlabel\": {\"namelength\": 0}, \"hovertemplate\": \"\\ub7ad\\ud06c=1<br>\\ubc1c\\uc0dd\\ud569\\uacc4=%{x}<br>\\uac80\\uac70\\ud569\\uacc4=%{y}<br>\\uc9c0\\uc5ed\\uad6c=%{z}<br>\\ub144\\ub3c4=%{marker.color}\", \"legendgroup\": \"1\", \"marker\": {\"color\": [2018], \"coloraxis\": \"coloraxis\", \"opacity\": 0.6, \"symbol\": \"diamond\"}, \"mode\": \"markers\", \"name\": \"1\", \"scene\": \"scene\", \"showlegend\": true, \"type\": \"scatter3d\", \"x\": [3276.6666666666665], \"y\": [2175.6666666666665], \"z\": [\"\\ub3d9\\uc791\\uad6c\"]}, {\"hoverlabel\": {\"namelength\": 0}, \"hovertemplate\": \"\\ub7ad\\ud06c=4<br>\\ubc1c\\uc0dd\\ud569\\uacc4=%{x}<br>\\uac80\\uac70\\ud569\\uacc4=%{y}<br>\\uc9c0\\uc5ed\\uad6c=%{z}<br>\\ub144\\ub3c4=%{marker.color}\", \"legendgroup\": \"4\", \"marker\": {\"color\": [2018], \"coloraxis\": \"coloraxis\", \"opacity\": 0.6, \"symbol\": \"square\"}, \"mode\": \"markers\", \"name\": \"4\", \"scene\": \"scene\", \"showlegend\": true, \"type\": \"scatter3d\", \"x\": [5097.333333333333], \"y\": [3412.6666666666665], \"z\": [\"\\ub9c8\\ud3ec\\uad6c\"]}, {\"hoverlabel\": {\"namelength\": 0}, \"hovertemplate\": \"\\ub7ad\\ud06c=12<br>\\ubc1c\\uc0dd\\ud569\\uacc4=%{x}<br>\\uac80\\uac70\\ud569\\uacc4=%{y}<br>\\uc9c0\\uc5ed\\uad6c=%{z}<br>\\ub144\\ub3c4=%{marker.color}\", \"legendgroup\": \"12\", \"marker\": {\"color\": [2018], \"coloraxis\": \"coloraxis\", \"opacity\": 0.6, \"symbol\": \"x\"}, \"mode\": \"markers\", \"name\": \"12\", \"scene\": \"scene\", \"showlegend\": true, \"type\": \"scatter3d\", \"x\": [2952.6666666666665], \"y\": [2111.6666666666665], \"z\": [\"\\uc11c\\ub300\\ubb38\\uad6c\"]}, {\"hoverlabel\": {\"namelength\": 0}, \"hovertemplate\": \"\\ub7ad\\ud06c=5<br>\\ubc1c\\uc0dd\\ud569\\uacc4=%{x}<br>\\uac80\\uac70\\ud569\\uacc4=%{y}<br>\\uc9c0\\uc5ed\\uad6c=%{z}<br>\\ub144\\ub3c4=%{marker.color}\", \"legendgroup\": \"5\", \"marker\": {\"color\": [2018], \"coloraxis\": \"coloraxis\", \"opacity\": 0.6, \"symbol\": \"cross\"}, \"mode\": \"markers\", \"name\": \"5\", \"scene\": \"scene\", \"showlegend\": true, \"type\": \"scatter3d\", \"x\": [4992.0], \"y\": [3390.0], \"z\": [\"\\uc11c\\ucd08\\uad6c\"]}, {\"hoverlabel\": {\"namelength\": 0}, \"hovertemplate\": \"\\ub7ad\\ud06c=13<br>\\ubc1c\\uc0dd\\ud569\\uacc4=%{x}<br>\\uac80\\uac70\\ud569\\uacc4=%{y}<br>\\uc9c0\\uc5ed\\uad6c=%{z}<br>\\ub144\\ub3c4=%{marker.color}\", \"legendgroup\": \"13\", \"marker\": {\"color\": [2018], \"coloraxis\": \"coloraxis\", \"opacity\": 0.6, \"symbol\": \"circle\"}, \"mode\": \"markers\", \"name\": \"13\", \"scene\": \"scene\", \"showlegend\": true, \"type\": \"scatter3d\", \"x\": [2578.6666666666665], \"y\": [1885.3333333333333], \"z\": [\"\\uc131\\ub3d9\\uad6c\"]}, {\"hoverlabel\": {\"namelength\": 0}, \"hovertemplate\": \"\\ub7ad\\ud06c=19<br>\\ubc1c\\uc0dd\\ud569\\uacc4=%{x}<br>\\uac80\\uac70\\ud569\\uacc4=%{y}<br>\\uc9c0\\uc5ed\\uad6c=%{z}<br>\\ub144\\ub3c4=%{marker.color}\", \"legendgroup\": \"19\", \"marker\": {\"color\": [2018], \"coloraxis\": \"coloraxis\", \"opacity\": 0.6, \"symbol\": \"diamond\"}, \"mode\": \"markers\", \"name\": \"19\", \"scene\": \"scene\", \"showlegend\": true, \"type\": \"scatter3d\", \"x\": [3117.6666666666665], \"y\": [2359.6666666666665], \"z\": [\"\\uc131\\ubd81\\uad6c\"]}, {\"hoverlabel\": {\"namelength\": 0}, \"hovertemplate\": \"\\ub7ad\\ud06c=7<br>\\ubc1c\\uc0dd\\ud569\\uacc4=%{x}<br>\\uac80\\uac70\\ud569\\uacc4=%{y}<br>\\uc9c0\\uc5ed\\uad6c=%{z}<br>\\ub144\\ub3c4=%{marker.color}\", \"legendgroup\": \"7\", \"marker\": {\"color\": [2018], \"coloraxis\": \"coloraxis\", \"opacity\": 0.6, \"symbol\": \"square\"}, \"mode\": \"markers\", \"name\": \"7\", \"scene\": \"scene\", \"showlegend\": true, \"type\": \"scatter3d\", \"x\": [5693.666666666667], \"y\": [3906.6666666666665], \"z\": [\"\\uc1a1\\ud30c\\uad6c\"]}, {\"hoverlabel\": {\"namelength\": 0}, \"hovertemplate\": \"\\ub7ad\\ud06c=6<br>\\ubc1c\\uc0dd\\ud569\\uacc4=%{x}<br>\\uac80\\uac70\\ud569\\uacc4=%{y}<br>\\uc9c0\\uc5ed\\uad6c=%{z}<br>\\ub144\\ub3c4=%{marker.color}\", \"legendgroup\": \"6\", \"marker\": {\"color\": [2018], \"coloraxis\": \"coloraxis\", \"opacity\": 0.6, \"symbol\": \"x\"}, \"mode\": \"markers\", \"name\": \"6\", \"scene\": \"scene\", \"showlegend\": true, \"type\": \"scatter3d\", \"x\": [3537.0], \"y\": [2414.333333333333], \"z\": [\"\\uc591\\ucc9c\\uad6c\"]}, {\"hoverlabel\": {\"namelength\": 0}, \"hovertemplate\": \"\\ub7ad\\ud06c=3<br>\\ubc1c\\uc0dd\\ud569\\uacc4=%{x}<br>\\uac80\\uac70\\ud569\\uacc4=%{y}<br>\\uc9c0\\uc5ed\\uad6c=%{z}<br>\\ub144\\ub3c4=%{marker.color}\", \"legendgroup\": \"3\", \"marker\": {\"color\": [2018], \"coloraxis\": \"coloraxis\", \"opacity\": 0.6, \"symbol\": \"cross\"}, \"mode\": \"markers\", \"name\": \"3\", \"scene\": \"scene\", \"showlegend\": true, \"type\": \"scatter3d\", \"x\": [5876.333333333333], \"y\": [3907.0], \"z\": [\"\\uc601\\ub4f1\\ud3ec\\uad6c\"]}, {\"hoverlabel\": {\"namelength\": 0}, \"hovertemplate\": \"\\ub7ad\\ud06c=18<br>\\ubc1c\\uc0dd\\ud569\\uacc4=%{x}<br>\\uac80\\uac70\\ud569\\uacc4=%{y}<br>\\uc9c0\\uc5ed\\uad6c=%{z}<br>\\ub144\\ub3c4=%{marker.color}\", \"legendgroup\": \"18\", \"marker\": {\"color\": [2018], \"coloraxis\": \"coloraxis\", \"opacity\": 0.6, \"symbol\": \"circle\"}, \"mode\": \"markers\", \"name\": \"18\", \"scene\": \"scene\", \"showlegend\": true, \"type\": \"scatter3d\", \"x\": [3594.6666666666665], \"y\": [2696.6666666666665], \"z\": [\"\\uc6a9\\uc0b0\\uad6c\"]}, {\"hoverlabel\": {\"namelength\": 0}, \"hovertemplate\": \"\\ub7ad\\ud06c=23<br>\\ubc1c\\uc0dd\\ud569\\uacc4=%{x}<br>\\uac80\\uac70\\ud569\\uacc4=%{y}<br>\\uc9c0\\uc5ed\\uad6c=%{z}<br>\\ub144\\ub3c4=%{marker.color}\", \"legendgroup\": \"23\", \"marker\": {\"color\": [2018], \"coloraxis\": \"coloraxis\", \"opacity\": 0.6, \"symbol\": \"diamond\"}, \"mode\": \"markers\", \"name\": \"23\", \"scene\": \"scene\", \"showlegend\": true, \"type\": \"scatter3d\", \"x\": [3784.3333333333335], \"y\": [3023.333333333333], \"z\": [\"\\uc740\\ud3c9\\uad6c\"]}, {\"hoverlabel\": {\"namelength\": 0}, \"hovertemplate\": \"\\ub7ad\\ud06c=25<br>\\ubc1c\\uc0dd\\ud569\\uacc4=%{x}<br>\\uac80\\uac70\\ud569\\uacc4=%{y}<br>\\uc9c0\\uc5ed\\uad6c=%{z}<br>\\ub144\\ub3c4=%{marker.color}\", \"legendgroup\": \"25\", \"marker\": {\"color\": [2018], \"coloraxis\": \"coloraxis\", \"opacity\": 0.6, \"symbol\": \"square\"}, \"mode\": \"markers\", \"name\": \"25\", \"scene\": \"scene\", \"showlegend\": true, \"type\": \"scatter3d\", \"x\": [3864.3333333333335], \"y\": [4155.666666666667], \"z\": [\"\\uc885\\ub85c\\uad6c\"]}, {\"hoverlabel\": {\"namelength\": 0}, \"hovertemplate\": \"\\ub7ad\\ud06c=2<br>\\ubc1c\\uc0dd\\ud569\\uacc4=%{x}<br>\\uac80\\uac70\\ud569\\uacc4=%{y}<br>\\uc9c0\\uc5ed\\uad6c=%{z}<br>\\ub144\\ub3c4=%{marker.color}\", \"legendgroup\": \"2\", \"marker\": {\"color\": [2018], \"coloraxis\": \"coloraxis\", \"opacity\": 0.6, \"symbol\": \"x\"}, \"mode\": \"markers\", \"name\": \"2\", \"scene\": \"scene\", \"showlegend\": true, \"type\": \"scatter3d\", \"x\": [4180.333333333333], \"y\": [2778.0], \"z\": [\"\\uc911\\uad6c\"]}, {\"hoverlabel\": {\"namelength\": 0}, \"hovertemplate\": \"\\ub7ad\\ud06c=16<br>\\ubc1c\\uc0dd\\ud569\\uacc4=%{x}<br>\\uac80\\uac70\\ud569\\uacc4=%{y}<br>\\uc9c0\\uc5ed\\uad6c=%{z}<br>\\ub144\\ub3c4=%{marker.color}\", \"legendgroup\": \"16\", \"marker\": {\"color\": [2018], \"coloraxis\": \"coloraxis\", \"opacity\": 0.6, \"symbol\": \"cross\"}, \"mode\": \"markers\", \"name\": \"16\", \"scene\": \"scene\", \"showlegend\": true, \"type\": \"scatter3d\", \"x\": [4375.666666666667], \"y\": [3250.6666666666665], \"z\": [\"\\uc911\\ub791\\uad6c\"]}],\n",
       "                        {\"coloraxis\": {\"colorbar\": {\"title\": {\"text\": \"\\ub144\\ub3c4\"}}, \"colorscale\": [[0.0, \"#0d0887\"], [0.1111111111111111, \"#46039f\"], [0.2222222222222222, \"#7201a8\"], [0.3333333333333333, \"#9c179e\"], [0.4444444444444444, \"#bd3786\"], [0.5555555555555556, \"#d8576b\"], [0.6666666666666666, \"#ed7953\"], [0.7777777777777778, \"#fb9f3a\"], [0.8888888888888888, \"#fdca26\"], [1.0, \"#f0f921\"]]}, \"legend\": {\"title\": {\"text\": \"\\ub7ad\\ud06c\"}, \"tracegroupgap\": 0}, \"margin\": {\"t\": 60}, \"scene\": {\"domain\": {\"x\": [0.0, 1.0], \"y\": [0.0, 1.0]}, \"xaxis\": {\"title\": {\"text\": \"\\ubc1c\\uc0dd\\ud569\\uacc4\"}}, \"yaxis\": {\"title\": {\"text\": \"\\uac80\\uac70\\ud569\\uacc4\"}}, \"zaxis\": {\"title\": {\"text\": \"\\uc9c0\\uc5ed\\uad6c\"}}}, \"template\": {\"data\": {\"bar\": [{\"error_x\": {\"color\": \"#2a3f5f\"}, \"error_y\": {\"color\": \"#2a3f5f\"}, \"marker\": {\"line\": {\"color\": \"#E5ECF6\", \"width\": 0.5}}, \"type\": \"bar\"}], \"barpolar\": [{\"marker\": {\"line\": {\"color\": \"#E5ECF6\", \"width\": 0.5}}, \"type\": \"barpolar\"}], \"carpet\": [{\"aaxis\": {\"endlinecolor\": \"#2a3f5f\", \"gridcolor\": \"white\", \"linecolor\": \"white\", \"minorgridcolor\": \"white\", \"startlinecolor\": \"#2a3f5f\"}, \"baxis\": {\"endlinecolor\": \"#2a3f5f\", \"gridcolor\": \"white\", \"linecolor\": \"white\", \"minorgridcolor\": \"white\", \"startlinecolor\": \"#2a3f5f\"}, \"type\": \"carpet\"}], \"choropleth\": [{\"colorbar\": {\"outlinewidth\": 0, \"ticks\": \"\"}, \"type\": \"choropleth\"}], \"contour\": [{\"colorbar\": {\"outlinewidth\": 0, \"ticks\": \"\"}, \"colorscale\": [[0.0, \"#0d0887\"], [0.1111111111111111, \"#46039f\"], [0.2222222222222222, \"#7201a8\"], [0.3333333333333333, \"#9c179e\"], [0.4444444444444444, \"#bd3786\"], [0.5555555555555556, \"#d8576b\"], [0.6666666666666666, \"#ed7953\"], [0.7777777777777778, \"#fb9f3a\"], [0.8888888888888888, \"#fdca26\"], [1.0, \"#f0f921\"]], \"type\": \"contour\"}], \"contourcarpet\": [{\"colorbar\": {\"outlinewidth\": 0, \"ticks\": \"\"}, \"type\": \"contourcarpet\"}], \"heatmap\": [{\"colorbar\": {\"outlinewidth\": 0, \"ticks\": \"\"}, \"colorscale\": [[0.0, \"#0d0887\"], [0.1111111111111111, \"#46039f\"], [0.2222222222222222, \"#7201a8\"], [0.3333333333333333, \"#9c179e\"], [0.4444444444444444, \"#bd3786\"], [0.5555555555555556, \"#d8576b\"], [0.6666666666666666, \"#ed7953\"], [0.7777777777777778, \"#fb9f3a\"], [0.8888888888888888, \"#fdca26\"], [1.0, \"#f0f921\"]], \"type\": \"heatmap\"}], \"heatmapgl\": [{\"colorbar\": {\"outlinewidth\": 0, \"ticks\": \"\"}, \"colorscale\": [[0.0, \"#0d0887\"], [0.1111111111111111, \"#46039f\"], [0.2222222222222222, \"#7201a8\"], [0.3333333333333333, \"#9c179e\"], [0.4444444444444444, \"#bd3786\"], [0.5555555555555556, \"#d8576b\"], [0.6666666666666666, \"#ed7953\"], [0.7777777777777778, \"#fb9f3a\"], [0.8888888888888888, \"#fdca26\"], [1.0, \"#f0f921\"]], \"type\": \"heatmapgl\"}], \"histogram\": [{\"marker\": {\"colorbar\": {\"outlinewidth\": 0, \"ticks\": \"\"}}, \"type\": \"histogram\"}], \"histogram2d\": [{\"colorbar\": {\"outlinewidth\": 0, \"ticks\": \"\"}, \"colorscale\": [[0.0, \"#0d0887\"], [0.1111111111111111, \"#46039f\"], [0.2222222222222222, \"#7201a8\"], [0.3333333333333333, \"#9c179e\"], [0.4444444444444444, \"#bd3786\"], [0.5555555555555556, \"#d8576b\"], [0.6666666666666666, \"#ed7953\"], [0.7777777777777778, \"#fb9f3a\"], [0.8888888888888888, \"#fdca26\"], [1.0, \"#f0f921\"]], \"type\": \"histogram2d\"}], \"histogram2dcontour\": [{\"colorbar\": {\"outlinewidth\": 0, \"ticks\": \"\"}, \"colorscale\": [[0.0, \"#0d0887\"], [0.1111111111111111, \"#46039f\"], [0.2222222222222222, \"#7201a8\"], [0.3333333333333333, \"#9c179e\"], [0.4444444444444444, \"#bd3786\"], [0.5555555555555556, \"#d8576b\"], [0.6666666666666666, \"#ed7953\"], [0.7777777777777778, \"#fb9f3a\"], [0.8888888888888888, \"#fdca26\"], [1.0, \"#f0f921\"]], \"type\": \"histogram2dcontour\"}], \"mesh3d\": [{\"colorbar\": {\"outlinewidth\": 0, \"ticks\": \"\"}, \"type\": \"mesh3d\"}], \"parcoords\": [{\"line\": {\"colorbar\": {\"outlinewidth\": 0, \"ticks\": \"\"}}, \"type\": \"parcoords\"}], \"pie\": [{\"automargin\": true, \"type\": \"pie\"}], \"scatter\": [{\"marker\": {\"colorbar\": {\"outlinewidth\": 0, \"ticks\": \"\"}}, \"type\": \"scatter\"}], \"scatter3d\": [{\"line\": {\"colorbar\": {\"outlinewidth\": 0, \"ticks\": \"\"}}, \"marker\": {\"colorbar\": {\"outlinewidth\": 0, \"ticks\": \"\"}}, \"type\": \"scatter3d\"}], \"scattercarpet\": [{\"marker\": {\"colorbar\": {\"outlinewidth\": 0, \"ticks\": \"\"}}, \"type\": \"scattercarpet\"}], \"scattergeo\": [{\"marker\": {\"colorbar\": {\"outlinewidth\": 0, \"ticks\": \"\"}}, \"type\": \"scattergeo\"}], \"scattergl\": [{\"marker\": {\"colorbar\": {\"outlinewidth\": 0, \"ticks\": \"\"}}, \"type\": \"scattergl\"}], \"scattermapbox\": [{\"marker\": {\"colorbar\": {\"outlinewidth\": 0, \"ticks\": \"\"}}, \"type\": \"scattermapbox\"}], \"scatterpolar\": [{\"marker\": {\"colorbar\": {\"outlinewidth\": 0, \"ticks\": \"\"}}, \"type\": \"scatterpolar\"}], \"scatterpolargl\": [{\"marker\": {\"colorbar\": {\"outlinewidth\": 0, \"ticks\": \"\"}}, \"type\": \"scatterpolargl\"}], \"scatterternary\": [{\"marker\": {\"colorbar\": {\"outlinewidth\": 0, \"ticks\": \"\"}}, \"type\": \"scatterternary\"}], \"surface\": [{\"colorbar\": {\"outlinewidth\": 0, \"ticks\": \"\"}, \"colorscale\": [[0.0, \"#0d0887\"], [0.1111111111111111, \"#46039f\"], [0.2222222222222222, \"#7201a8\"], [0.3333333333333333, \"#9c179e\"], [0.4444444444444444, \"#bd3786\"], [0.5555555555555556, \"#d8576b\"], [0.6666666666666666, \"#ed7953\"], [0.7777777777777778, \"#fb9f3a\"], [0.8888888888888888, \"#fdca26\"], [1.0, \"#f0f921\"]], \"type\": \"surface\"}], \"table\": [{\"cells\": {\"fill\": {\"color\": \"#EBF0F8\"}, \"line\": {\"color\": \"white\"}}, \"header\": {\"fill\": {\"color\": \"#C8D4E3\"}, \"line\": {\"color\": \"white\"}}, \"type\": \"table\"}]}, \"layout\": {\"annotationdefaults\": {\"arrowcolor\": \"#2a3f5f\", \"arrowhead\": 0, \"arrowwidth\": 1}, \"coloraxis\": {\"colorbar\": {\"outlinewidth\": 0, \"ticks\": \"\"}}, \"colorscale\": {\"diverging\": [[0, \"#8e0152\"], [0.1, \"#c51b7d\"], [0.2, \"#de77ae\"], [0.3, \"#f1b6da\"], [0.4, \"#fde0ef\"], [0.5, \"#f7f7f7\"], [0.6, \"#e6f5d0\"], [0.7, \"#b8e186\"], [0.8, \"#7fbc41\"], [0.9, \"#4d9221\"], [1, \"#276419\"]], \"sequential\": [[0.0, \"#0d0887\"], [0.1111111111111111, \"#46039f\"], [0.2222222222222222, \"#7201a8\"], [0.3333333333333333, \"#9c179e\"], [0.4444444444444444, \"#bd3786\"], [0.5555555555555556, \"#d8576b\"], [0.6666666666666666, \"#ed7953\"], [0.7777777777777778, \"#fb9f3a\"], [0.8888888888888888, \"#fdca26\"], [1.0, \"#f0f921\"]], \"sequentialminus\": [[0.0, \"#0d0887\"], [0.1111111111111111, \"#46039f\"], [0.2222222222222222, \"#7201a8\"], [0.3333333333333333, \"#9c179e\"], [0.4444444444444444, \"#bd3786\"], [0.5555555555555556, \"#d8576b\"], [0.6666666666666666, \"#ed7953\"], [0.7777777777777778, \"#fb9f3a\"], [0.8888888888888888, \"#fdca26\"], [1.0, \"#f0f921\"]]}, \"colorway\": [\"#636efa\", \"#EF553B\", \"#00cc96\", \"#ab63fa\", \"#FFA15A\", \"#19d3f3\", \"#FF6692\", \"#B6E880\", \"#FF97FF\", \"#FECB52\"], \"font\": {\"color\": \"#2a3f5f\"}, \"geo\": {\"bgcolor\": \"white\", \"lakecolor\": \"white\", \"landcolor\": \"#E5ECF6\", \"showlakes\": true, \"showland\": true, \"subunitcolor\": \"white\"}, \"hoverlabel\": {\"align\": \"left\"}, \"hovermode\": \"closest\", \"mapbox\": {\"style\": \"light\"}, \"paper_bgcolor\": \"white\", \"plot_bgcolor\": \"#E5ECF6\", \"polar\": {\"angularaxis\": {\"gridcolor\": \"white\", \"linecolor\": \"white\", \"ticks\": \"\"}, \"bgcolor\": \"#E5ECF6\", \"radialaxis\": {\"gridcolor\": \"white\", \"linecolor\": \"white\", \"ticks\": \"\"}}, \"scene\": {\"xaxis\": {\"backgroundcolor\": \"#E5ECF6\", \"gridcolor\": \"white\", \"gridwidth\": 2, \"linecolor\": \"white\", \"showbackground\": true, \"ticks\": \"\", \"zerolinecolor\": \"white\"}, \"yaxis\": {\"backgroundcolor\": \"#E5ECF6\", \"gridcolor\": \"white\", \"gridwidth\": 2, \"linecolor\": \"white\", \"showbackground\": true, \"ticks\": \"\", \"zerolinecolor\": \"white\"}, \"zaxis\": {\"backgroundcolor\": \"#E5ECF6\", \"gridcolor\": \"white\", \"gridwidth\": 2, \"linecolor\": \"white\", \"showbackground\": true, \"ticks\": \"\", \"zerolinecolor\": \"white\"}}, \"shapedefaults\": {\"line\": {\"color\": \"#2a3f5f\"}}, \"ternary\": {\"aaxis\": {\"gridcolor\": \"white\", \"linecolor\": \"white\", \"ticks\": \"\"}, \"baxis\": {\"gridcolor\": \"white\", \"linecolor\": \"white\", \"ticks\": \"\"}, \"bgcolor\": \"#E5ECF6\", \"caxis\": {\"gridcolor\": \"white\", \"linecolor\": \"white\", \"ticks\": \"\"}}, \"title\": {\"x\": 0.05}, \"xaxis\": {\"automargin\": true, \"gridcolor\": \"white\", \"linecolor\": \"white\", \"ticks\": \"\", \"title\": {\"standoff\": 15}, \"zerolinecolor\": \"white\", \"zerolinewidth\": 2}, \"yaxis\": {\"automargin\": true, \"gridcolor\": \"white\", \"linecolor\": \"white\", \"ticks\": \"\", \"title\": {\"standoff\": 15}, \"zerolinecolor\": \"white\", \"zerolinewidth\": 2}}}},\n",
       "                        {\"responsive\": true}\n",
       "                    ).then(function(){\n",
       "                            \n",
       "var gd = document.getElementById('fd8a2e9d-741c-4131-9fa8-0eca28e76101');\n",
       "var x = new MutationObserver(function (mutations, observer) {{\n",
       "        var display = window.getComputedStyle(gd).display;\n",
       "        if (!display || display === 'none') {{\n",
       "            console.log([gd, 'removed!']);\n",
       "            Plotly.purge(gd);\n",
       "            observer.disconnect();\n",
       "        }}\n",
       "}});\n",
       "\n",
       "// Listen for the removal of the full notebook cells\n",
       "var notebookContainer = gd.closest('#notebook-container');\n",
       "if (notebookContainer) {{\n",
       "    x.observe(notebookContainer, {childList: true});\n",
       "}}\n",
       "\n",
       "// Listen for the clearing of the current output cell\n",
       "var outputEl = gd.closest('.output');\n",
       "if (outputEl) {{\n",
       "    x.observe(outputEl, {childList: true});\n",
       "}}\n",
       "\n",
       "                        })\n",
       "                };\n",
       "                });\n",
       "            </script>\n",
       "        </div>"
      ]
     },
     "metadata": {},
     "output_type": "display_data"
    }
   ],
   "source": [
    "fig = px.scatter_3d(old_pop, x=\"발생합계\", y=\"검거합계\",z=\"지역구\", \n",
    "                    color = \"년도\", symbol = \"랭크\", \n",
    "                     opacity = 0.6)\n",
    "\n",
    "fig.show()\n",
    "\n",
    "fig.write_html(\"1_18_2.html\")"
   ]
  },
  {
   "cell_type": "code",
   "execution_count": 113,
   "id": "403025e1",
   "metadata": {},
   "outputs": [
    {
     "data": {
      "application/vnd.plotly.v1+json": {
       "config": {
        "plotlyServerURL": "https://plot.ly"
       },
       "data": [
        {
         "color": "lightpink",
         "opacity": 0.5,
         "type": "mesh3d",
         "x": [
          0.689484,
          0.476483,
          0.58677,
          1.068768,
          1.43806,
          1.483567,
          1.163844,
          1.491083,
          1.970356,
          1.961689,
          1.823355,
          1.868743,
          1.437345,
          1.248269,
          1.108745,
          1.670774,
          1.503391,
          1.406028,
          1.97107,
          1.853437,
          1.361601,
          1.139926,
          1.949556,
          2.323108,
          2.558936,
          2.650508,
          2.431305,
          2.026224,
          1.971259,
          1.168452,
          1.342775,
          1.129037,
          0.871781,
          0.855148,
          0.395625,
          1.051331,
          1.309558,
          1.876837,
          2.620561,
          2.508878,
          2.646833,
          2.448341,
          1.610501,
          1.925691,
          1.9184,
          1.910517,
          2.450736,
          2.381144,
          2.1596,
          2.379856,
          2.254824,
          2.32,
          1.698536,
          1.527831,
          1.530377,
          1.67204,
          1.534793,
          1.886021,
          2.062097,
          2.128729,
          2.057646,
          2.155564,
          2.698137,
          3.066121,
          3.925938,
          4.240422,
          3.907132,
          3.750647,
          2.918651,
          2.980647,
          2.992436,
          2.71034,
          2.693541,
          2.361263,
          1.897547,
          2.345557,
          2.007566,
          1.599818,
          1.182395,
          1.469907,
          1.460792,
          1.11318,
          0.879555,
          1.351152,
          1.392628,
          1.926062,
          1.211311,
          0.913065,
          1.363192,
          2.032102,
          1.738637,
          1.249448,
          0.610179,
          0.853197,
          0.794531,
          0.635271,
          0.545627,
          0.137978,
          0.552325,
          0.417952
         ],
         "y": [
          -0.014459,
          0.162624,
          0.102149,
          0.678668,
          0.683633,
          0.140479,
          0.125522,
          0.31764,
          0.389628,
          0.144644,
          0.309693,
          0.171245,
          0.781093,
          0.429151,
          0.233132,
          -0.080785,
          -0.179939,
          0.025858,
          0.309369,
          0.65834,
          0.443953,
          1.295734,
          1.032481,
          0.66557,
          0.22719,
          0.817791,
          1.189158,
          1.167509,
          0.499964,
          0.683057,
          0.672141,
          0.183479,
          0.06947,
          0.587134,
          0.606762,
          0.804046,
          0.67245,
          0.506276,
          0.556901,
          0.445584,
          0.160679,
          -0.003327,
          0.031129,
          -0.412504,
          -0.344678,
          -0.246417,
          -0.725501,
          -1.214003,
          -1.524586,
          -1.845657,
          -1.268736,
          -1.171255,
          -1.233225,
          -1.374688,
          -1.35563,
          -1.146433,
          -1.167195,
          -0.864813,
          -0.488551,
          0.153843,
          0.302593,
          0.568636,
          0.182249,
          0.56296,
          0.252966,
          -0.220912,
          -0.328587,
          -0.193345,
          -0.238123,
          0.261956,
          0.081961,
          -0.49059,
          -0.259896,
          -0.187197,
          -0.032457,
          0.049672,
          0.12171,
          -0.105825,
          -0.745416,
          -0.795117,
          -0.45044,
          -0.514758,
          -0.639992,
          -0.329654,
          -0.215191,
          -0.37535,
          -1.208597,
          -1.064432,
          -1.33837,
          -1.405084,
          -1.456743,
          -1.299677,
          -1.236958,
          -0.482796,
          -0.346327,
          -0.689043,
          -0.840409,
          -1.16441,
          -1.242295,
          -1.794645
         ],
         "z": [
          0.428751,
          0.449488,
          0.769481,
          1.023915,
          0.752397,
          1.389489,
          1.098527,
          0.760376,
          0.631279,
          0.254462,
          0.151225,
          -0.160235,
          -0.56967,
          -0.795403,
          -0.744953,
          -0.820339,
          -0.791839,
          -0.96783,
          -0.65142,
          -0.66108,
          -0.126488,
          0.114152,
          0.417303,
          0.615544,
          0.385185,
          0.186861,
          -0.0858,
          -0.120976,
          -0.035002,
          -0.309909,
          -0.208439,
          -0.485355,
          -0.734185,
          -0.574637,
          -1.004597,
          -1.250838,
          -1.174746,
          -1.376205,
          -1.528117,
          -1.501028,
          -1.605397,
          -1.875326,
          -2.069439,
          -2.138976,
          -2.29942,
          -2.245133,
          -2.82832,
          -2.812268,
          -2.873087,
          -2.758474,
          -3.020816,
          -3.604322,
          -3.369023,
          -3.394583,
          -3.29579,
          -3.038195,
          -3.646896,
          -3.52345,
          -3.273344,
          -3.081451,
          -2.701675,
          -2.718267,
          -2.875416,
          -2.909034,
          -3.011479,
          -2.79574,
          -2.430246,
          -2.166711,
          -2.143549,
          -2.218529,
          -2.173249,
          -1.838208,
          -1.613949,
          -1.208869,
          -0.792615,
          -1.164745,
          -1.080368,
          -1.08692,
          -0.878417,
          -0.562867,
          -0.599801,
          -0.508419,
          -0.672436,
          -0.829762,
          -0.596751,
          -0.554818,
          -0.556275,
          -0.494078,
          -0.238343,
          -0.335621,
          0.028875,
          0.10227,
          0.31525,
          0.164532,
          -0.462431,
          -0.492473,
          -0.344744,
          -0.537114,
          -0.476395,
          -0.288381
         ]
        }
       ],
       "layout": {
        "template": {
         "data": {
          "bar": [
           {
            "error_x": {
             "color": "#2a3f5f"
            },
            "error_y": {
             "color": "#2a3f5f"
            },
            "marker": {
             "line": {
              "color": "#E5ECF6",
              "width": 0.5
             }
            },
            "type": "bar"
           }
          ],
          "barpolar": [
           {
            "marker": {
             "line": {
              "color": "#E5ECF6",
              "width": 0.5
             }
            },
            "type": "barpolar"
           }
          ],
          "carpet": [
           {
            "aaxis": {
             "endlinecolor": "#2a3f5f",
             "gridcolor": "white",
             "linecolor": "white",
             "minorgridcolor": "white",
             "startlinecolor": "#2a3f5f"
            },
            "baxis": {
             "endlinecolor": "#2a3f5f",
             "gridcolor": "white",
             "linecolor": "white",
             "minorgridcolor": "white",
             "startlinecolor": "#2a3f5f"
            },
            "type": "carpet"
           }
          ],
          "choropleth": [
           {
            "colorbar": {
             "outlinewidth": 0,
             "ticks": ""
            },
            "type": "choropleth"
           }
          ],
          "contour": [
           {
            "colorbar": {
             "outlinewidth": 0,
             "ticks": ""
            },
            "colorscale": [
             [
              0,
              "#0d0887"
             ],
             [
              0.1111111111111111,
              "#46039f"
             ],
             [
              0.2222222222222222,
              "#7201a8"
             ],
             [
              0.3333333333333333,
              "#9c179e"
             ],
             [
              0.4444444444444444,
              "#bd3786"
             ],
             [
              0.5555555555555556,
              "#d8576b"
             ],
             [
              0.6666666666666666,
              "#ed7953"
             ],
             [
              0.7777777777777778,
              "#fb9f3a"
             ],
             [
              0.8888888888888888,
              "#fdca26"
             ],
             [
              1,
              "#f0f921"
             ]
            ],
            "type": "contour"
           }
          ],
          "contourcarpet": [
           {
            "colorbar": {
             "outlinewidth": 0,
             "ticks": ""
            },
            "type": "contourcarpet"
           }
          ],
          "heatmap": [
           {
            "colorbar": {
             "outlinewidth": 0,
             "ticks": ""
            },
            "colorscale": [
             [
              0,
              "#0d0887"
             ],
             [
              0.1111111111111111,
              "#46039f"
             ],
             [
              0.2222222222222222,
              "#7201a8"
             ],
             [
              0.3333333333333333,
              "#9c179e"
             ],
             [
              0.4444444444444444,
              "#bd3786"
             ],
             [
              0.5555555555555556,
              "#d8576b"
             ],
             [
              0.6666666666666666,
              "#ed7953"
             ],
             [
              0.7777777777777778,
              "#fb9f3a"
             ],
             [
              0.8888888888888888,
              "#fdca26"
             ],
             [
              1,
              "#f0f921"
             ]
            ],
            "type": "heatmap"
           }
          ],
          "heatmapgl": [
           {
            "colorbar": {
             "outlinewidth": 0,
             "ticks": ""
            },
            "colorscale": [
             [
              0,
              "#0d0887"
             ],
             [
              0.1111111111111111,
              "#46039f"
             ],
             [
              0.2222222222222222,
              "#7201a8"
             ],
             [
              0.3333333333333333,
              "#9c179e"
             ],
             [
              0.4444444444444444,
              "#bd3786"
             ],
             [
              0.5555555555555556,
              "#d8576b"
             ],
             [
              0.6666666666666666,
              "#ed7953"
             ],
             [
              0.7777777777777778,
              "#fb9f3a"
             ],
             [
              0.8888888888888888,
              "#fdca26"
             ],
             [
              1,
              "#f0f921"
             ]
            ],
            "type": "heatmapgl"
           }
          ],
          "histogram": [
           {
            "marker": {
             "colorbar": {
              "outlinewidth": 0,
              "ticks": ""
             }
            },
            "type": "histogram"
           }
          ],
          "histogram2d": [
           {
            "colorbar": {
             "outlinewidth": 0,
             "ticks": ""
            },
            "colorscale": [
             [
              0,
              "#0d0887"
             ],
             [
              0.1111111111111111,
              "#46039f"
             ],
             [
              0.2222222222222222,
              "#7201a8"
             ],
             [
              0.3333333333333333,
              "#9c179e"
             ],
             [
              0.4444444444444444,
              "#bd3786"
             ],
             [
              0.5555555555555556,
              "#d8576b"
             ],
             [
              0.6666666666666666,
              "#ed7953"
             ],
             [
              0.7777777777777778,
              "#fb9f3a"
             ],
             [
              0.8888888888888888,
              "#fdca26"
             ],
             [
              1,
              "#f0f921"
             ]
            ],
            "type": "histogram2d"
           }
          ],
          "histogram2dcontour": [
           {
            "colorbar": {
             "outlinewidth": 0,
             "ticks": ""
            },
            "colorscale": [
             [
              0,
              "#0d0887"
             ],
             [
              0.1111111111111111,
              "#46039f"
             ],
             [
              0.2222222222222222,
              "#7201a8"
             ],
             [
              0.3333333333333333,
              "#9c179e"
             ],
             [
              0.4444444444444444,
              "#bd3786"
             ],
             [
              0.5555555555555556,
              "#d8576b"
             ],
             [
              0.6666666666666666,
              "#ed7953"
             ],
             [
              0.7777777777777778,
              "#fb9f3a"
             ],
             [
              0.8888888888888888,
              "#fdca26"
             ],
             [
              1,
              "#f0f921"
             ]
            ],
            "type": "histogram2dcontour"
           }
          ],
          "mesh3d": [
           {
            "colorbar": {
             "outlinewidth": 0,
             "ticks": ""
            },
            "type": "mesh3d"
           }
          ],
          "parcoords": [
           {
            "line": {
             "colorbar": {
              "outlinewidth": 0,
              "ticks": ""
             }
            },
            "type": "parcoords"
           }
          ],
          "pie": [
           {
            "automargin": true,
            "type": "pie"
           }
          ],
          "scatter": [
           {
            "marker": {
             "colorbar": {
              "outlinewidth": 0,
              "ticks": ""
             }
            },
            "type": "scatter"
           }
          ],
          "scatter3d": [
           {
            "line": {
             "colorbar": {
              "outlinewidth": 0,
              "ticks": ""
             }
            },
            "marker": {
             "colorbar": {
              "outlinewidth": 0,
              "ticks": ""
             }
            },
            "type": "scatter3d"
           }
          ],
          "scattercarpet": [
           {
            "marker": {
             "colorbar": {
              "outlinewidth": 0,
              "ticks": ""
             }
            },
            "type": "scattercarpet"
           }
          ],
          "scattergeo": [
           {
            "marker": {
             "colorbar": {
              "outlinewidth": 0,
              "ticks": ""
             }
            },
            "type": "scattergeo"
           }
          ],
          "scattergl": [
           {
            "marker": {
             "colorbar": {
              "outlinewidth": 0,
              "ticks": ""
             }
            },
            "type": "scattergl"
           }
          ],
          "scattermapbox": [
           {
            "marker": {
             "colorbar": {
              "outlinewidth": 0,
              "ticks": ""
             }
            },
            "type": "scattermapbox"
           }
          ],
          "scatterpolar": [
           {
            "marker": {
             "colorbar": {
              "outlinewidth": 0,
              "ticks": ""
             }
            },
            "type": "scatterpolar"
           }
          ],
          "scatterpolargl": [
           {
            "marker": {
             "colorbar": {
              "outlinewidth": 0,
              "ticks": ""
             }
            },
            "type": "scatterpolargl"
           }
          ],
          "scatterternary": [
           {
            "marker": {
             "colorbar": {
              "outlinewidth": 0,
              "ticks": ""
             }
            },
            "type": "scatterternary"
           }
          ],
          "surface": [
           {
            "colorbar": {
             "outlinewidth": 0,
             "ticks": ""
            },
            "colorscale": [
             [
              0,
              "#0d0887"
             ],
             [
              0.1111111111111111,
              "#46039f"
             ],
             [
              0.2222222222222222,
              "#7201a8"
             ],
             [
              0.3333333333333333,
              "#9c179e"
             ],
             [
              0.4444444444444444,
              "#bd3786"
             ],
             [
              0.5555555555555556,
              "#d8576b"
             ],
             [
              0.6666666666666666,
              "#ed7953"
             ],
             [
              0.7777777777777778,
              "#fb9f3a"
             ],
             [
              0.8888888888888888,
              "#fdca26"
             ],
             [
              1,
              "#f0f921"
             ]
            ],
            "type": "surface"
           }
          ],
          "table": [
           {
            "cells": {
             "fill": {
              "color": "#EBF0F8"
             },
             "line": {
              "color": "white"
             }
            },
            "header": {
             "fill": {
              "color": "#C8D4E3"
             },
             "line": {
              "color": "white"
             }
            },
            "type": "table"
           }
          ]
         },
         "layout": {
          "annotationdefaults": {
           "arrowcolor": "#2a3f5f",
           "arrowhead": 0,
           "arrowwidth": 1
          },
          "coloraxis": {
           "colorbar": {
            "outlinewidth": 0,
            "ticks": ""
           }
          },
          "colorscale": {
           "diverging": [
            [
             0,
             "#8e0152"
            ],
            [
             0.1,
             "#c51b7d"
            ],
            [
             0.2,
             "#de77ae"
            ],
            [
             0.3,
             "#f1b6da"
            ],
            [
             0.4,
             "#fde0ef"
            ],
            [
             0.5,
             "#f7f7f7"
            ],
            [
             0.6,
             "#e6f5d0"
            ],
            [
             0.7,
             "#b8e186"
            ],
            [
             0.8,
             "#7fbc41"
            ],
            [
             0.9,
             "#4d9221"
            ],
            [
             1,
             "#276419"
            ]
           ],
           "sequential": [
            [
             0,
             "#0d0887"
            ],
            [
             0.1111111111111111,
             "#46039f"
            ],
            [
             0.2222222222222222,
             "#7201a8"
            ],
            [
             0.3333333333333333,
             "#9c179e"
            ],
            [
             0.4444444444444444,
             "#bd3786"
            ],
            [
             0.5555555555555556,
             "#d8576b"
            ],
            [
             0.6666666666666666,
             "#ed7953"
            ],
            [
             0.7777777777777778,
             "#fb9f3a"
            ],
            [
             0.8888888888888888,
             "#fdca26"
            ],
            [
             1,
             "#f0f921"
            ]
           ],
           "sequentialminus": [
            [
             0,
             "#0d0887"
            ],
            [
             0.1111111111111111,
             "#46039f"
            ],
            [
             0.2222222222222222,
             "#7201a8"
            ],
            [
             0.3333333333333333,
             "#9c179e"
            ],
            [
             0.4444444444444444,
             "#bd3786"
            ],
            [
             0.5555555555555556,
             "#d8576b"
            ],
            [
             0.6666666666666666,
             "#ed7953"
            ],
            [
             0.7777777777777778,
             "#fb9f3a"
            ],
            [
             0.8888888888888888,
             "#fdca26"
            ],
            [
             1,
             "#f0f921"
            ]
           ]
          },
          "colorway": [
           "#636efa",
           "#EF553B",
           "#00cc96",
           "#ab63fa",
           "#FFA15A",
           "#19d3f3",
           "#FF6692",
           "#B6E880",
           "#FF97FF",
           "#FECB52"
          ],
          "font": {
           "color": "#2a3f5f"
          },
          "geo": {
           "bgcolor": "white",
           "lakecolor": "white",
           "landcolor": "#E5ECF6",
           "showlakes": true,
           "showland": true,
           "subunitcolor": "white"
          },
          "hoverlabel": {
           "align": "left"
          },
          "hovermode": "closest",
          "mapbox": {
           "style": "light"
          },
          "paper_bgcolor": "white",
          "plot_bgcolor": "#E5ECF6",
          "polar": {
           "angularaxis": {
            "gridcolor": "white",
            "linecolor": "white",
            "ticks": ""
           },
           "bgcolor": "#E5ECF6",
           "radialaxis": {
            "gridcolor": "white",
            "linecolor": "white",
            "ticks": ""
           }
          },
          "scene": {
           "xaxis": {
            "backgroundcolor": "#E5ECF6",
            "gridcolor": "white",
            "gridwidth": 2,
            "linecolor": "white",
            "showbackground": true,
            "ticks": "",
            "zerolinecolor": "white"
           },
           "yaxis": {
            "backgroundcolor": "#E5ECF6",
            "gridcolor": "white",
            "gridwidth": 2,
            "linecolor": "white",
            "showbackground": true,
            "ticks": "",
            "zerolinecolor": "white"
           },
           "zaxis": {
            "backgroundcolor": "#E5ECF6",
            "gridcolor": "white",
            "gridwidth": 2,
            "linecolor": "white",
            "showbackground": true,
            "ticks": "",
            "zerolinecolor": "white"
           }
          },
          "shapedefaults": {
           "line": {
            "color": "#2a3f5f"
           }
          },
          "ternary": {
           "aaxis": {
            "gridcolor": "white",
            "linecolor": "white",
            "ticks": ""
           },
           "baxis": {
            "gridcolor": "white",
            "linecolor": "white",
            "ticks": ""
           },
           "bgcolor": "#E5ECF6",
           "caxis": {
            "gridcolor": "white",
            "linecolor": "white",
            "ticks": ""
           }
          },
          "title": {
           "x": 0.05
          },
          "xaxis": {
           "automargin": true,
           "gridcolor": "white",
           "linecolor": "white",
           "ticks": "",
           "title": {
            "standoff": 15
           },
           "zerolinecolor": "white",
           "zerolinewidth": 2
          },
          "yaxis": {
           "automargin": true,
           "gridcolor": "white",
           "linecolor": "white",
           "ticks": "",
           "title": {
            "standoff": 15
           },
           "zerolinecolor": "white",
           "zerolinewidth": 2
          }
         }
        }
       }
      },
      "text/html": [
       "<div>\n",
       "        \n",
       "        \n",
       "            <div id=\"3ebb9cfa-0b9b-4a42-8644-da1dddaa9f03\" class=\"plotly-graph-div\" style=\"height:525px; width:100%;\"></div>\n",
       "            <script type=\"text/javascript\">\n",
       "                require([\"plotly\"], function(Plotly) {\n",
       "                    window.PLOTLYENV=window.PLOTLYENV || {};\n",
       "                    \n",
       "                if (document.getElementById(\"3ebb9cfa-0b9b-4a42-8644-da1dddaa9f03\")) {\n",
       "                    Plotly.newPlot(\n",
       "                        '3ebb9cfa-0b9b-4a42-8644-da1dddaa9f03',\n",
       "                        [{\"color\": \"lightpink\", \"opacity\": 0.5, \"type\": \"mesh3d\", \"x\": [0.689484, 0.476483, 0.58677, 1.068768, 1.43806, 1.483567, 1.163844, 1.491083, 1.970356, 1.961689, 1.823355, 1.868743, 1.437345, 1.248269, 1.108745, 1.670774, 1.503391, 1.406028, 1.97107, 1.853437, 1.361601, 1.139926, 1.949556, 2.323108, 2.558936, 2.650508, 2.431305, 2.026224, 1.971259, 1.168452, 1.342775, 1.129037, 0.871781, 0.855148, 0.395625, 1.051331, 1.309558, 1.876837, 2.620561, 2.508878, 2.646833, 2.448341, 1.610501, 1.925691, 1.9184, 1.910517, 2.450736, 2.381144, 2.1596, 2.379856, 2.254824, 2.32, 1.698536, 1.527831, 1.530377, 1.67204, 1.534793, 1.886021, 2.062097, 2.128729, 2.057646, 2.155564, 2.698137, 3.066121, 3.925938, 4.240422, 3.907132, 3.750647, 2.918651, 2.980647, 2.992436, 2.71034, 2.693541, 2.361263, 1.897547, 2.345557, 2.007566, 1.599818, 1.182395, 1.469907, 1.460792, 1.11318, 0.879555, 1.351152, 1.392628, 1.926062, 1.211311, 0.913065, 1.363192, 2.032102, 1.738637, 1.249448, 0.610179, 0.853197, 0.794531, 0.635271, 0.545627, 0.137978, 0.552325, 0.417952], \"y\": [-0.014459, 0.162624, 0.102149, 0.678668, 0.683633, 0.140479, 0.125522, 0.31764, 0.389628, 0.144644, 0.309693, 0.171245, 0.781093, 0.429151, 0.233132, -0.080785, -0.179939, 0.025858, 0.309369, 0.65834, 0.443953, 1.295734, 1.032481, 0.66557, 0.22719, 0.817791, 1.189158, 1.167509, 0.499964, 0.683057, 0.672141, 0.183479, 0.06947, 0.587134, 0.606762, 0.804046, 0.67245, 0.506276, 0.556901, 0.445584, 0.160679, -0.003327, 0.031129, -0.412504, -0.344678, -0.246417, -0.725501, -1.214003, -1.524586, -1.845657, -1.268736, -1.171255, -1.233225, -1.374688, -1.35563, -1.146433, -1.167195, -0.864813, -0.488551, 0.153843, 0.302593, 0.568636, 0.182249, 0.56296, 0.252966, -0.220912, -0.328587, -0.193345, -0.238123, 0.261956, 0.081961, -0.49059, -0.259896, -0.187197, -0.032457, 0.049672, 0.12171, -0.105825, -0.745416, -0.795117, -0.45044, -0.514758, -0.639992, -0.329654, -0.215191, -0.37535, -1.208597, -1.064432, -1.33837, -1.405084, -1.456743, -1.299677, -1.236958, -0.482796, -0.346327, -0.689043, -0.840409, -1.16441, -1.242295, -1.794645], \"z\": [0.428751, 0.449488, 0.769481, 1.023915, 0.752397, 1.389489, 1.098527, 0.760376, 0.631279, 0.254462, 0.151225, -0.160235, -0.56967, -0.795403, -0.744953, -0.820339, -0.791839, -0.96783, -0.65142, -0.66108, -0.126488, 0.114152, 0.417303, 0.615544, 0.385185, 0.186861, -0.0858, -0.120976, -0.035002, -0.309909, -0.208439, -0.485355, -0.734185, -0.574637, -1.004597, -1.250838, -1.174746, -1.376205, -1.528117, -1.501028, -1.605397, -1.875326, -2.069439, -2.138976, -2.29942, -2.245133, -2.82832, -2.812268, -2.873087, -2.758474, -3.020816, -3.604322, -3.369023, -3.394583, -3.29579, -3.038195, -3.646896, -3.52345, -3.273344, -3.081451, -2.701675, -2.718267, -2.875416, -2.909034, -3.011479, -2.79574, -2.430246, -2.166711, -2.143549, -2.218529, -2.173249, -1.838208, -1.613949, -1.208869, -0.792615, -1.164745, -1.080368, -1.08692, -0.878417, -0.562867, -0.599801, -0.508419, -0.672436, -0.829762, -0.596751, -0.554818, -0.556275, -0.494078, -0.238343, -0.335621, 0.028875, 0.10227, 0.31525, 0.164532, -0.462431, -0.492473, -0.344744, -0.537114, -0.476395, -0.288381]}],\n",
       "                        {\"template\": {\"data\": {\"bar\": [{\"error_x\": {\"color\": \"#2a3f5f\"}, \"error_y\": {\"color\": \"#2a3f5f\"}, \"marker\": {\"line\": {\"color\": \"#E5ECF6\", \"width\": 0.5}}, \"type\": \"bar\"}], \"barpolar\": [{\"marker\": {\"line\": {\"color\": \"#E5ECF6\", \"width\": 0.5}}, \"type\": \"barpolar\"}], \"carpet\": [{\"aaxis\": {\"endlinecolor\": \"#2a3f5f\", \"gridcolor\": \"white\", \"linecolor\": \"white\", \"minorgridcolor\": \"white\", \"startlinecolor\": \"#2a3f5f\"}, \"baxis\": {\"endlinecolor\": \"#2a3f5f\", \"gridcolor\": \"white\", \"linecolor\": \"white\", \"minorgridcolor\": \"white\", \"startlinecolor\": \"#2a3f5f\"}, \"type\": \"carpet\"}], \"choropleth\": [{\"colorbar\": {\"outlinewidth\": 0, \"ticks\": \"\"}, \"type\": \"choropleth\"}], \"contour\": [{\"colorbar\": {\"outlinewidth\": 0, \"ticks\": \"\"}, \"colorscale\": [[0.0, \"#0d0887\"], [0.1111111111111111, \"#46039f\"], [0.2222222222222222, \"#7201a8\"], [0.3333333333333333, \"#9c179e\"], [0.4444444444444444, \"#bd3786\"], [0.5555555555555556, \"#d8576b\"], [0.6666666666666666, \"#ed7953\"], [0.7777777777777778, \"#fb9f3a\"], [0.8888888888888888, \"#fdca26\"], [1.0, \"#f0f921\"]], \"type\": \"contour\"}], \"contourcarpet\": [{\"colorbar\": {\"outlinewidth\": 0, \"ticks\": \"\"}, \"type\": \"contourcarpet\"}], \"heatmap\": [{\"colorbar\": {\"outlinewidth\": 0, \"ticks\": \"\"}, \"colorscale\": [[0.0, \"#0d0887\"], [0.1111111111111111, \"#46039f\"], [0.2222222222222222, \"#7201a8\"], [0.3333333333333333, \"#9c179e\"], [0.4444444444444444, \"#bd3786\"], [0.5555555555555556, \"#d8576b\"], [0.6666666666666666, \"#ed7953\"], [0.7777777777777778, \"#fb9f3a\"], [0.8888888888888888, \"#fdca26\"], [1.0, \"#f0f921\"]], \"type\": \"heatmap\"}], \"heatmapgl\": [{\"colorbar\": {\"outlinewidth\": 0, \"ticks\": \"\"}, \"colorscale\": [[0.0, \"#0d0887\"], [0.1111111111111111, \"#46039f\"], [0.2222222222222222, \"#7201a8\"], [0.3333333333333333, \"#9c179e\"], [0.4444444444444444, \"#bd3786\"], [0.5555555555555556, \"#d8576b\"], [0.6666666666666666, \"#ed7953\"], [0.7777777777777778, \"#fb9f3a\"], [0.8888888888888888, \"#fdca26\"], [1.0, \"#f0f921\"]], \"type\": \"heatmapgl\"}], \"histogram\": [{\"marker\": {\"colorbar\": {\"outlinewidth\": 0, \"ticks\": \"\"}}, \"type\": \"histogram\"}], \"histogram2d\": [{\"colorbar\": {\"outlinewidth\": 0, \"ticks\": \"\"}, \"colorscale\": [[0.0, \"#0d0887\"], [0.1111111111111111, \"#46039f\"], [0.2222222222222222, \"#7201a8\"], [0.3333333333333333, \"#9c179e\"], [0.4444444444444444, \"#bd3786\"], [0.5555555555555556, \"#d8576b\"], [0.6666666666666666, \"#ed7953\"], [0.7777777777777778, \"#fb9f3a\"], [0.8888888888888888, \"#fdca26\"], [1.0, \"#f0f921\"]], \"type\": \"histogram2d\"}], \"histogram2dcontour\": [{\"colorbar\": {\"outlinewidth\": 0, \"ticks\": \"\"}, \"colorscale\": [[0.0, \"#0d0887\"], [0.1111111111111111, \"#46039f\"], [0.2222222222222222, \"#7201a8\"], [0.3333333333333333, \"#9c179e\"], [0.4444444444444444, \"#bd3786\"], [0.5555555555555556, \"#d8576b\"], [0.6666666666666666, \"#ed7953\"], [0.7777777777777778, \"#fb9f3a\"], [0.8888888888888888, \"#fdca26\"], [1.0, \"#f0f921\"]], \"type\": \"histogram2dcontour\"}], \"mesh3d\": [{\"colorbar\": {\"outlinewidth\": 0, \"ticks\": \"\"}, \"type\": \"mesh3d\"}], \"parcoords\": [{\"line\": {\"colorbar\": {\"outlinewidth\": 0, \"ticks\": \"\"}}, \"type\": \"parcoords\"}], \"pie\": [{\"automargin\": true, \"type\": \"pie\"}], \"scatter\": [{\"marker\": {\"colorbar\": {\"outlinewidth\": 0, \"ticks\": \"\"}}, \"type\": \"scatter\"}], \"scatter3d\": [{\"line\": {\"colorbar\": {\"outlinewidth\": 0, \"ticks\": \"\"}}, \"marker\": {\"colorbar\": {\"outlinewidth\": 0, \"ticks\": \"\"}}, \"type\": \"scatter3d\"}], \"scattercarpet\": [{\"marker\": {\"colorbar\": {\"outlinewidth\": 0, \"ticks\": \"\"}}, \"type\": \"scattercarpet\"}], \"scattergeo\": [{\"marker\": {\"colorbar\": {\"outlinewidth\": 0, \"ticks\": \"\"}}, \"type\": \"scattergeo\"}], \"scattergl\": [{\"marker\": {\"colorbar\": {\"outlinewidth\": 0, \"ticks\": \"\"}}, \"type\": \"scattergl\"}], \"scattermapbox\": [{\"marker\": {\"colorbar\": {\"outlinewidth\": 0, \"ticks\": \"\"}}, \"type\": \"scattermapbox\"}], \"scatterpolar\": [{\"marker\": {\"colorbar\": {\"outlinewidth\": 0, \"ticks\": \"\"}}, \"type\": \"scatterpolar\"}], \"scatterpolargl\": [{\"marker\": {\"colorbar\": {\"outlinewidth\": 0, \"ticks\": \"\"}}, \"type\": \"scatterpolargl\"}], \"scatterternary\": [{\"marker\": {\"colorbar\": {\"outlinewidth\": 0, \"ticks\": \"\"}}, \"type\": \"scatterternary\"}], \"surface\": [{\"colorbar\": {\"outlinewidth\": 0, \"ticks\": \"\"}, \"colorscale\": [[0.0, \"#0d0887\"], [0.1111111111111111, \"#46039f\"], [0.2222222222222222, \"#7201a8\"], [0.3333333333333333, \"#9c179e\"], [0.4444444444444444, \"#bd3786\"], [0.5555555555555556, \"#d8576b\"], [0.6666666666666666, \"#ed7953\"], [0.7777777777777778, \"#fb9f3a\"], [0.8888888888888888, \"#fdca26\"], [1.0, \"#f0f921\"]], \"type\": \"surface\"}], \"table\": [{\"cells\": {\"fill\": {\"color\": \"#EBF0F8\"}, \"line\": {\"color\": \"white\"}}, \"header\": {\"fill\": {\"color\": \"#C8D4E3\"}, \"line\": {\"color\": \"white\"}}, \"type\": \"table\"}]}, \"layout\": {\"annotationdefaults\": {\"arrowcolor\": \"#2a3f5f\", \"arrowhead\": 0, \"arrowwidth\": 1}, \"coloraxis\": {\"colorbar\": {\"outlinewidth\": 0, \"ticks\": \"\"}}, \"colorscale\": {\"diverging\": [[0, \"#8e0152\"], [0.1, \"#c51b7d\"], [0.2, \"#de77ae\"], [0.3, \"#f1b6da\"], [0.4, \"#fde0ef\"], [0.5, \"#f7f7f7\"], [0.6, \"#e6f5d0\"], [0.7, \"#b8e186\"], [0.8, \"#7fbc41\"], [0.9, \"#4d9221\"], [1, \"#276419\"]], \"sequential\": [[0.0, \"#0d0887\"], [0.1111111111111111, \"#46039f\"], [0.2222222222222222, \"#7201a8\"], [0.3333333333333333, \"#9c179e\"], [0.4444444444444444, \"#bd3786\"], [0.5555555555555556, \"#d8576b\"], [0.6666666666666666, \"#ed7953\"], [0.7777777777777778, \"#fb9f3a\"], [0.8888888888888888, \"#fdca26\"], [1.0, \"#f0f921\"]], \"sequentialminus\": [[0.0, \"#0d0887\"], [0.1111111111111111, \"#46039f\"], [0.2222222222222222, \"#7201a8\"], [0.3333333333333333, \"#9c179e\"], [0.4444444444444444, \"#bd3786\"], [0.5555555555555556, \"#d8576b\"], [0.6666666666666666, \"#ed7953\"], [0.7777777777777778, \"#fb9f3a\"], [0.8888888888888888, \"#fdca26\"], [1.0, \"#f0f921\"]]}, \"colorway\": [\"#636efa\", \"#EF553B\", \"#00cc96\", \"#ab63fa\", \"#FFA15A\", \"#19d3f3\", \"#FF6692\", \"#B6E880\", \"#FF97FF\", \"#FECB52\"], \"font\": {\"color\": \"#2a3f5f\"}, \"geo\": {\"bgcolor\": \"white\", \"lakecolor\": \"white\", \"landcolor\": \"#E5ECF6\", \"showlakes\": true, \"showland\": true, \"subunitcolor\": \"white\"}, \"hoverlabel\": {\"align\": \"left\"}, \"hovermode\": \"closest\", \"mapbox\": {\"style\": \"light\"}, \"paper_bgcolor\": \"white\", \"plot_bgcolor\": \"#E5ECF6\", \"polar\": {\"angularaxis\": {\"gridcolor\": \"white\", \"linecolor\": \"white\", \"ticks\": \"\"}, \"bgcolor\": \"#E5ECF6\", \"radialaxis\": {\"gridcolor\": \"white\", \"linecolor\": \"white\", \"ticks\": \"\"}}, \"scene\": {\"xaxis\": {\"backgroundcolor\": \"#E5ECF6\", \"gridcolor\": \"white\", \"gridwidth\": 2, \"linecolor\": \"white\", \"showbackground\": true, \"ticks\": \"\", \"zerolinecolor\": \"white\"}, \"yaxis\": {\"backgroundcolor\": \"#E5ECF6\", \"gridcolor\": \"white\", \"gridwidth\": 2, \"linecolor\": \"white\", \"showbackground\": true, \"ticks\": \"\", \"zerolinecolor\": \"white\"}, \"zaxis\": {\"backgroundcolor\": \"#E5ECF6\", \"gridcolor\": \"white\", \"gridwidth\": 2, \"linecolor\": \"white\", \"showbackground\": true, \"ticks\": \"\", \"zerolinecolor\": \"white\"}}, \"shapedefaults\": {\"line\": {\"color\": \"#2a3f5f\"}}, \"ternary\": {\"aaxis\": {\"gridcolor\": \"white\", \"linecolor\": \"white\", \"ticks\": \"\"}, \"baxis\": {\"gridcolor\": \"white\", \"linecolor\": \"white\", \"ticks\": \"\"}, \"bgcolor\": \"#E5ECF6\", \"caxis\": {\"gridcolor\": \"white\", \"linecolor\": \"white\", \"ticks\": \"\"}}, \"title\": {\"x\": 0.05}, \"xaxis\": {\"automargin\": true, \"gridcolor\": \"white\", \"linecolor\": \"white\", \"ticks\": \"\", \"title\": {\"standoff\": 15}, \"zerolinecolor\": \"white\", \"zerolinewidth\": 2}, \"yaxis\": {\"automargin\": true, \"gridcolor\": \"white\", \"linecolor\": \"white\", \"ticks\": \"\", \"title\": {\"standoff\": 15}, \"zerolinecolor\": \"white\", \"zerolinewidth\": 2}}}},\n",
       "                        {\"responsive\": true}\n",
       "                    ).then(function(){\n",
       "                            \n",
       "var gd = document.getElementById('3ebb9cfa-0b9b-4a42-8644-da1dddaa9f03');\n",
       "var x = new MutationObserver(function (mutations, observer) {{\n",
       "        var display = window.getComputedStyle(gd).display;\n",
       "        if (!display || display === 'none') {{\n",
       "            console.log([gd, 'removed!']);\n",
       "            Plotly.purge(gd);\n",
       "            observer.disconnect();\n",
       "        }}\n",
       "}});\n",
       "\n",
       "// Listen for the removal of the full notebook cells\n",
       "var notebookContainer = gd.closest('#notebook-container');\n",
       "if (notebookContainer) {{\n",
       "    x.observe(notebookContainer, {childList: true});\n",
       "}}\n",
       "\n",
       "// Listen for the clearing of the current output cell\n",
       "var outputEl = gd.closest('.output');\n",
       "if (outputEl) {{\n",
       "    x.observe(outputEl, {childList: true});\n",
       "}}\n",
       "\n",
       "                        })\n",
       "                };\n",
       "                });\n",
       "            </script>\n",
       "        </div>"
      ]
     },
     "metadata": {},
     "output_type": "display_data"
    }
   ],
   "source": [
    "pts = np.loadtxt(np.DataSource().open('https://raw.githubusercontent.com/plotly/datasets/master/mesh_dataset.txt'))\n",
    "x, y, z = pts.T\n",
    "\n",
    "fig = go.Figure(data=[go.Mesh3d(x=x, y=y, z=z, color='lightpink', opacity=0.50)])\n",
    "fig.show()"
   ]
  },
  {
   "cell_type": "code",
   "execution_count": 114,
   "id": "96c92ad4",
   "metadata": {},
   "outputs": [
    {
     "data": {
      "application/vnd.plotly.v1+json": {
       "config": {
        "plotlyServerURL": "https://plot.ly"
       },
       "data": [
        {
         "alphahull": 5,
         "color": "cyan",
         "opacity": 0.4,
         "type": "mesh3d",
         "x": [
          0.689484,
          0.476483,
          0.58677,
          1.068768,
          1.43806,
          1.483567,
          1.163844,
          1.491083,
          1.970356,
          1.961689,
          1.823355,
          1.868743,
          1.437345,
          1.248269,
          1.108745,
          1.670774,
          1.503391,
          1.406028,
          1.97107,
          1.853437,
          1.361601,
          1.139926,
          1.949556,
          2.323108,
          2.558936,
          2.650508,
          2.431305,
          2.026224,
          1.971259,
          1.168452,
          1.342775,
          1.129037,
          0.871781,
          0.855148,
          0.395625,
          1.051331,
          1.309558,
          1.876837,
          2.620561,
          2.508878,
          2.646833,
          2.448341,
          1.610501,
          1.925691,
          1.9184,
          1.910517,
          2.450736,
          2.381144,
          2.1596,
          2.379856,
          2.254824,
          2.32,
          1.698536,
          1.527831,
          1.530377,
          1.67204,
          1.534793,
          1.886021,
          2.062097,
          2.128729,
          2.057646,
          2.155564,
          2.698137,
          3.066121,
          3.925938,
          4.240422,
          3.907132,
          3.750647,
          2.918651,
          2.980647,
          2.992436,
          2.71034,
          2.693541,
          2.361263,
          1.897547,
          2.345557,
          2.007566,
          1.599818,
          1.182395,
          1.469907,
          1.460792,
          1.11318,
          0.879555,
          1.351152,
          1.392628,
          1.926062,
          1.211311,
          0.913065,
          1.363192,
          2.032102,
          1.738637,
          1.249448,
          0.610179,
          0.853197,
          0.794531,
          0.635271,
          0.545627,
          0.137978,
          0.552325,
          0.417952
         ],
         "y": [
          -0.014459,
          0.162624,
          0.102149,
          0.678668,
          0.683633,
          0.140479,
          0.125522,
          0.31764,
          0.389628,
          0.144644,
          0.309693,
          0.171245,
          0.781093,
          0.429151,
          0.233132,
          -0.080785,
          -0.179939,
          0.025858,
          0.309369,
          0.65834,
          0.443953,
          1.295734,
          1.032481,
          0.66557,
          0.22719,
          0.817791,
          1.189158,
          1.167509,
          0.499964,
          0.683057,
          0.672141,
          0.183479,
          0.06947,
          0.587134,
          0.606762,
          0.804046,
          0.67245,
          0.506276,
          0.556901,
          0.445584,
          0.160679,
          -0.003327,
          0.031129,
          -0.412504,
          -0.344678,
          -0.246417,
          -0.725501,
          -1.214003,
          -1.524586,
          -1.845657,
          -1.268736,
          -1.171255,
          -1.233225,
          -1.374688,
          -1.35563,
          -1.146433,
          -1.167195,
          -0.864813,
          -0.488551,
          0.153843,
          0.302593,
          0.568636,
          0.182249,
          0.56296,
          0.252966,
          -0.220912,
          -0.328587,
          -0.193345,
          -0.238123,
          0.261956,
          0.081961,
          -0.49059,
          -0.259896,
          -0.187197,
          -0.032457,
          0.049672,
          0.12171,
          -0.105825,
          -0.745416,
          -0.795117,
          -0.45044,
          -0.514758,
          -0.639992,
          -0.329654,
          -0.215191,
          -0.37535,
          -1.208597,
          -1.064432,
          -1.33837,
          -1.405084,
          -1.456743,
          -1.299677,
          -1.236958,
          -0.482796,
          -0.346327,
          -0.689043,
          -0.840409,
          -1.16441,
          -1.242295,
          -1.794645
         ],
         "z": [
          0.428751,
          0.449488,
          0.769481,
          1.023915,
          0.752397,
          1.389489,
          1.098527,
          0.760376,
          0.631279,
          0.254462,
          0.151225,
          -0.160235,
          -0.56967,
          -0.795403,
          -0.744953,
          -0.820339,
          -0.791839,
          -0.96783,
          -0.65142,
          -0.66108,
          -0.126488,
          0.114152,
          0.417303,
          0.615544,
          0.385185,
          0.186861,
          -0.0858,
          -0.120976,
          -0.035002,
          -0.309909,
          -0.208439,
          -0.485355,
          -0.734185,
          -0.574637,
          -1.004597,
          -1.250838,
          -1.174746,
          -1.376205,
          -1.528117,
          -1.501028,
          -1.605397,
          -1.875326,
          -2.069439,
          -2.138976,
          -2.29942,
          -2.245133,
          -2.82832,
          -2.812268,
          -2.873087,
          -2.758474,
          -3.020816,
          -3.604322,
          -3.369023,
          -3.394583,
          -3.29579,
          -3.038195,
          -3.646896,
          -3.52345,
          -3.273344,
          -3.081451,
          -2.701675,
          -2.718267,
          -2.875416,
          -2.909034,
          -3.011479,
          -2.79574,
          -2.430246,
          -2.166711,
          -2.143549,
          -2.218529,
          -2.173249,
          -1.838208,
          -1.613949,
          -1.208869,
          -0.792615,
          -1.164745,
          -1.080368,
          -1.08692,
          -0.878417,
          -0.562867,
          -0.599801,
          -0.508419,
          -0.672436,
          -0.829762,
          -0.596751,
          -0.554818,
          -0.556275,
          -0.494078,
          -0.238343,
          -0.335621,
          0.028875,
          0.10227,
          0.31525,
          0.164532,
          -0.462431,
          -0.492473,
          -0.344744,
          -0.537114,
          -0.476395,
          -0.288381
         ]
        }
       ],
       "layout": {
        "template": {
         "data": {
          "bar": [
           {
            "error_x": {
             "color": "#2a3f5f"
            },
            "error_y": {
             "color": "#2a3f5f"
            },
            "marker": {
             "line": {
              "color": "#E5ECF6",
              "width": 0.5
             }
            },
            "type": "bar"
           }
          ],
          "barpolar": [
           {
            "marker": {
             "line": {
              "color": "#E5ECF6",
              "width": 0.5
             }
            },
            "type": "barpolar"
           }
          ],
          "carpet": [
           {
            "aaxis": {
             "endlinecolor": "#2a3f5f",
             "gridcolor": "white",
             "linecolor": "white",
             "minorgridcolor": "white",
             "startlinecolor": "#2a3f5f"
            },
            "baxis": {
             "endlinecolor": "#2a3f5f",
             "gridcolor": "white",
             "linecolor": "white",
             "minorgridcolor": "white",
             "startlinecolor": "#2a3f5f"
            },
            "type": "carpet"
           }
          ],
          "choropleth": [
           {
            "colorbar": {
             "outlinewidth": 0,
             "ticks": ""
            },
            "type": "choropleth"
           }
          ],
          "contour": [
           {
            "colorbar": {
             "outlinewidth": 0,
             "ticks": ""
            },
            "colorscale": [
             [
              0,
              "#0d0887"
             ],
             [
              0.1111111111111111,
              "#46039f"
             ],
             [
              0.2222222222222222,
              "#7201a8"
             ],
             [
              0.3333333333333333,
              "#9c179e"
             ],
             [
              0.4444444444444444,
              "#bd3786"
             ],
             [
              0.5555555555555556,
              "#d8576b"
             ],
             [
              0.6666666666666666,
              "#ed7953"
             ],
             [
              0.7777777777777778,
              "#fb9f3a"
             ],
             [
              0.8888888888888888,
              "#fdca26"
             ],
             [
              1,
              "#f0f921"
             ]
            ],
            "type": "contour"
           }
          ],
          "contourcarpet": [
           {
            "colorbar": {
             "outlinewidth": 0,
             "ticks": ""
            },
            "type": "contourcarpet"
           }
          ],
          "heatmap": [
           {
            "colorbar": {
             "outlinewidth": 0,
             "ticks": ""
            },
            "colorscale": [
             [
              0,
              "#0d0887"
             ],
             [
              0.1111111111111111,
              "#46039f"
             ],
             [
              0.2222222222222222,
              "#7201a8"
             ],
             [
              0.3333333333333333,
              "#9c179e"
             ],
             [
              0.4444444444444444,
              "#bd3786"
             ],
             [
              0.5555555555555556,
              "#d8576b"
             ],
             [
              0.6666666666666666,
              "#ed7953"
             ],
             [
              0.7777777777777778,
              "#fb9f3a"
             ],
             [
              0.8888888888888888,
              "#fdca26"
             ],
             [
              1,
              "#f0f921"
             ]
            ],
            "type": "heatmap"
           }
          ],
          "heatmapgl": [
           {
            "colorbar": {
             "outlinewidth": 0,
             "ticks": ""
            },
            "colorscale": [
             [
              0,
              "#0d0887"
             ],
             [
              0.1111111111111111,
              "#46039f"
             ],
             [
              0.2222222222222222,
              "#7201a8"
             ],
             [
              0.3333333333333333,
              "#9c179e"
             ],
             [
              0.4444444444444444,
              "#bd3786"
             ],
             [
              0.5555555555555556,
              "#d8576b"
             ],
             [
              0.6666666666666666,
              "#ed7953"
             ],
             [
              0.7777777777777778,
              "#fb9f3a"
             ],
             [
              0.8888888888888888,
              "#fdca26"
             ],
             [
              1,
              "#f0f921"
             ]
            ],
            "type": "heatmapgl"
           }
          ],
          "histogram": [
           {
            "marker": {
             "colorbar": {
              "outlinewidth": 0,
              "ticks": ""
             }
            },
            "type": "histogram"
           }
          ],
          "histogram2d": [
           {
            "colorbar": {
             "outlinewidth": 0,
             "ticks": ""
            },
            "colorscale": [
             [
              0,
              "#0d0887"
             ],
             [
              0.1111111111111111,
              "#46039f"
             ],
             [
              0.2222222222222222,
              "#7201a8"
             ],
             [
              0.3333333333333333,
              "#9c179e"
             ],
             [
              0.4444444444444444,
              "#bd3786"
             ],
             [
              0.5555555555555556,
              "#d8576b"
             ],
             [
              0.6666666666666666,
              "#ed7953"
             ],
             [
              0.7777777777777778,
              "#fb9f3a"
             ],
             [
              0.8888888888888888,
              "#fdca26"
             ],
             [
              1,
              "#f0f921"
             ]
            ],
            "type": "histogram2d"
           }
          ],
          "histogram2dcontour": [
           {
            "colorbar": {
             "outlinewidth": 0,
             "ticks": ""
            },
            "colorscale": [
             [
              0,
              "#0d0887"
             ],
             [
              0.1111111111111111,
              "#46039f"
             ],
             [
              0.2222222222222222,
              "#7201a8"
             ],
             [
              0.3333333333333333,
              "#9c179e"
             ],
             [
              0.4444444444444444,
              "#bd3786"
             ],
             [
              0.5555555555555556,
              "#d8576b"
             ],
             [
              0.6666666666666666,
              "#ed7953"
             ],
             [
              0.7777777777777778,
              "#fb9f3a"
             ],
             [
              0.8888888888888888,
              "#fdca26"
             ],
             [
              1,
              "#f0f921"
             ]
            ],
            "type": "histogram2dcontour"
           }
          ],
          "mesh3d": [
           {
            "colorbar": {
             "outlinewidth": 0,
             "ticks": ""
            },
            "type": "mesh3d"
           }
          ],
          "parcoords": [
           {
            "line": {
             "colorbar": {
              "outlinewidth": 0,
              "ticks": ""
             }
            },
            "type": "parcoords"
           }
          ],
          "pie": [
           {
            "automargin": true,
            "type": "pie"
           }
          ],
          "scatter": [
           {
            "marker": {
             "colorbar": {
              "outlinewidth": 0,
              "ticks": ""
             }
            },
            "type": "scatter"
           }
          ],
          "scatter3d": [
           {
            "line": {
             "colorbar": {
              "outlinewidth": 0,
              "ticks": ""
             }
            },
            "marker": {
             "colorbar": {
              "outlinewidth": 0,
              "ticks": ""
             }
            },
            "type": "scatter3d"
           }
          ],
          "scattercarpet": [
           {
            "marker": {
             "colorbar": {
              "outlinewidth": 0,
              "ticks": ""
             }
            },
            "type": "scattercarpet"
           }
          ],
          "scattergeo": [
           {
            "marker": {
             "colorbar": {
              "outlinewidth": 0,
              "ticks": ""
             }
            },
            "type": "scattergeo"
           }
          ],
          "scattergl": [
           {
            "marker": {
             "colorbar": {
              "outlinewidth": 0,
              "ticks": ""
             }
            },
            "type": "scattergl"
           }
          ],
          "scattermapbox": [
           {
            "marker": {
             "colorbar": {
              "outlinewidth": 0,
              "ticks": ""
             }
            },
            "type": "scattermapbox"
           }
          ],
          "scatterpolar": [
           {
            "marker": {
             "colorbar": {
              "outlinewidth": 0,
              "ticks": ""
             }
            },
            "type": "scatterpolar"
           }
          ],
          "scatterpolargl": [
           {
            "marker": {
             "colorbar": {
              "outlinewidth": 0,
              "ticks": ""
             }
            },
            "type": "scatterpolargl"
           }
          ],
          "scatterternary": [
           {
            "marker": {
             "colorbar": {
              "outlinewidth": 0,
              "ticks": ""
             }
            },
            "type": "scatterternary"
           }
          ],
          "surface": [
           {
            "colorbar": {
             "outlinewidth": 0,
             "ticks": ""
            },
            "colorscale": [
             [
              0,
              "#0d0887"
             ],
             [
              0.1111111111111111,
              "#46039f"
             ],
             [
              0.2222222222222222,
              "#7201a8"
             ],
             [
              0.3333333333333333,
              "#9c179e"
             ],
             [
              0.4444444444444444,
              "#bd3786"
             ],
             [
              0.5555555555555556,
              "#d8576b"
             ],
             [
              0.6666666666666666,
              "#ed7953"
             ],
             [
              0.7777777777777778,
              "#fb9f3a"
             ],
             [
              0.8888888888888888,
              "#fdca26"
             ],
             [
              1,
              "#f0f921"
             ]
            ],
            "type": "surface"
           }
          ],
          "table": [
           {
            "cells": {
             "fill": {
              "color": "#EBF0F8"
             },
             "line": {
              "color": "white"
             }
            },
            "header": {
             "fill": {
              "color": "#C8D4E3"
             },
             "line": {
              "color": "white"
             }
            },
            "type": "table"
           }
          ]
         },
         "layout": {
          "annotationdefaults": {
           "arrowcolor": "#2a3f5f",
           "arrowhead": 0,
           "arrowwidth": 1
          },
          "coloraxis": {
           "colorbar": {
            "outlinewidth": 0,
            "ticks": ""
           }
          },
          "colorscale": {
           "diverging": [
            [
             0,
             "#8e0152"
            ],
            [
             0.1,
             "#c51b7d"
            ],
            [
             0.2,
             "#de77ae"
            ],
            [
             0.3,
             "#f1b6da"
            ],
            [
             0.4,
             "#fde0ef"
            ],
            [
             0.5,
             "#f7f7f7"
            ],
            [
             0.6,
             "#e6f5d0"
            ],
            [
             0.7,
             "#b8e186"
            ],
            [
             0.8,
             "#7fbc41"
            ],
            [
             0.9,
             "#4d9221"
            ],
            [
             1,
             "#276419"
            ]
           ],
           "sequential": [
            [
             0,
             "#0d0887"
            ],
            [
             0.1111111111111111,
             "#46039f"
            ],
            [
             0.2222222222222222,
             "#7201a8"
            ],
            [
             0.3333333333333333,
             "#9c179e"
            ],
            [
             0.4444444444444444,
             "#bd3786"
            ],
            [
             0.5555555555555556,
             "#d8576b"
            ],
            [
             0.6666666666666666,
             "#ed7953"
            ],
            [
             0.7777777777777778,
             "#fb9f3a"
            ],
            [
             0.8888888888888888,
             "#fdca26"
            ],
            [
             1,
             "#f0f921"
            ]
           ],
           "sequentialminus": [
            [
             0,
             "#0d0887"
            ],
            [
             0.1111111111111111,
             "#46039f"
            ],
            [
             0.2222222222222222,
             "#7201a8"
            ],
            [
             0.3333333333333333,
             "#9c179e"
            ],
            [
             0.4444444444444444,
             "#bd3786"
            ],
            [
             0.5555555555555556,
             "#d8576b"
            ],
            [
             0.6666666666666666,
             "#ed7953"
            ],
            [
             0.7777777777777778,
             "#fb9f3a"
            ],
            [
             0.8888888888888888,
             "#fdca26"
            ],
            [
             1,
             "#f0f921"
            ]
           ]
          },
          "colorway": [
           "#636efa",
           "#EF553B",
           "#00cc96",
           "#ab63fa",
           "#FFA15A",
           "#19d3f3",
           "#FF6692",
           "#B6E880",
           "#FF97FF",
           "#FECB52"
          ],
          "font": {
           "color": "#2a3f5f"
          },
          "geo": {
           "bgcolor": "white",
           "lakecolor": "white",
           "landcolor": "#E5ECF6",
           "showlakes": true,
           "showland": true,
           "subunitcolor": "white"
          },
          "hoverlabel": {
           "align": "left"
          },
          "hovermode": "closest",
          "mapbox": {
           "style": "light"
          },
          "paper_bgcolor": "white",
          "plot_bgcolor": "#E5ECF6",
          "polar": {
           "angularaxis": {
            "gridcolor": "white",
            "linecolor": "white",
            "ticks": ""
           },
           "bgcolor": "#E5ECF6",
           "radialaxis": {
            "gridcolor": "white",
            "linecolor": "white",
            "ticks": ""
           }
          },
          "scene": {
           "xaxis": {
            "backgroundcolor": "#E5ECF6",
            "gridcolor": "white",
            "gridwidth": 2,
            "linecolor": "white",
            "showbackground": true,
            "ticks": "",
            "zerolinecolor": "white"
           },
           "yaxis": {
            "backgroundcolor": "#E5ECF6",
            "gridcolor": "white",
            "gridwidth": 2,
            "linecolor": "white",
            "showbackground": true,
            "ticks": "",
            "zerolinecolor": "white"
           },
           "zaxis": {
            "backgroundcolor": "#E5ECF6",
            "gridcolor": "white",
            "gridwidth": 2,
            "linecolor": "white",
            "showbackground": true,
            "ticks": "",
            "zerolinecolor": "white"
           }
          },
          "shapedefaults": {
           "line": {
            "color": "#2a3f5f"
           }
          },
          "ternary": {
           "aaxis": {
            "gridcolor": "white",
            "linecolor": "white",
            "ticks": ""
           },
           "baxis": {
            "gridcolor": "white",
            "linecolor": "white",
            "ticks": ""
           },
           "bgcolor": "#E5ECF6",
           "caxis": {
            "gridcolor": "white",
            "linecolor": "white",
            "ticks": ""
           }
          },
          "title": {
           "x": 0.05
          },
          "xaxis": {
           "automargin": true,
           "gridcolor": "white",
           "linecolor": "white",
           "ticks": "",
           "title": {
            "standoff": 15
           },
           "zerolinecolor": "white",
           "zerolinewidth": 2
          },
          "yaxis": {
           "automargin": true,
           "gridcolor": "white",
           "linecolor": "white",
           "ticks": "",
           "title": {
            "standoff": 15
           },
           "zerolinecolor": "white",
           "zerolinewidth": 2
          }
         }
        }
       }
      },
      "text/html": [
       "<div>\n",
       "        \n",
       "        \n",
       "            <div id=\"70cc9c91-2bfd-40d3-b895-d46cfc314b91\" class=\"plotly-graph-div\" style=\"height:525px; width:100%;\"></div>\n",
       "            <script type=\"text/javascript\">\n",
       "                require([\"plotly\"], function(Plotly) {\n",
       "                    window.PLOTLYENV=window.PLOTLYENV || {};\n",
       "                    \n",
       "                if (document.getElementById(\"70cc9c91-2bfd-40d3-b895-d46cfc314b91\")) {\n",
       "                    Plotly.newPlot(\n",
       "                        '70cc9c91-2bfd-40d3-b895-d46cfc314b91',\n",
       "                        [{\"alphahull\": 5, \"color\": \"cyan\", \"opacity\": 0.4, \"type\": \"mesh3d\", \"x\": [0.689484, 0.476483, 0.58677, 1.068768, 1.43806, 1.483567, 1.163844, 1.491083, 1.970356, 1.961689, 1.823355, 1.868743, 1.437345, 1.248269, 1.108745, 1.670774, 1.503391, 1.406028, 1.97107, 1.853437, 1.361601, 1.139926, 1.949556, 2.323108, 2.558936, 2.650508, 2.431305, 2.026224, 1.971259, 1.168452, 1.342775, 1.129037, 0.871781, 0.855148, 0.395625, 1.051331, 1.309558, 1.876837, 2.620561, 2.508878, 2.646833, 2.448341, 1.610501, 1.925691, 1.9184, 1.910517, 2.450736, 2.381144, 2.1596, 2.379856, 2.254824, 2.32, 1.698536, 1.527831, 1.530377, 1.67204, 1.534793, 1.886021, 2.062097, 2.128729, 2.057646, 2.155564, 2.698137, 3.066121, 3.925938, 4.240422, 3.907132, 3.750647, 2.918651, 2.980647, 2.992436, 2.71034, 2.693541, 2.361263, 1.897547, 2.345557, 2.007566, 1.599818, 1.182395, 1.469907, 1.460792, 1.11318, 0.879555, 1.351152, 1.392628, 1.926062, 1.211311, 0.913065, 1.363192, 2.032102, 1.738637, 1.249448, 0.610179, 0.853197, 0.794531, 0.635271, 0.545627, 0.137978, 0.552325, 0.417952], \"y\": [-0.014459, 0.162624, 0.102149, 0.678668, 0.683633, 0.140479, 0.125522, 0.31764, 0.389628, 0.144644, 0.309693, 0.171245, 0.781093, 0.429151, 0.233132, -0.080785, -0.179939, 0.025858, 0.309369, 0.65834, 0.443953, 1.295734, 1.032481, 0.66557, 0.22719, 0.817791, 1.189158, 1.167509, 0.499964, 0.683057, 0.672141, 0.183479, 0.06947, 0.587134, 0.606762, 0.804046, 0.67245, 0.506276, 0.556901, 0.445584, 0.160679, -0.003327, 0.031129, -0.412504, -0.344678, -0.246417, -0.725501, -1.214003, -1.524586, -1.845657, -1.268736, -1.171255, -1.233225, -1.374688, -1.35563, -1.146433, -1.167195, -0.864813, -0.488551, 0.153843, 0.302593, 0.568636, 0.182249, 0.56296, 0.252966, -0.220912, -0.328587, -0.193345, -0.238123, 0.261956, 0.081961, -0.49059, -0.259896, -0.187197, -0.032457, 0.049672, 0.12171, -0.105825, -0.745416, -0.795117, -0.45044, -0.514758, -0.639992, -0.329654, -0.215191, -0.37535, -1.208597, -1.064432, -1.33837, -1.405084, -1.456743, -1.299677, -1.236958, -0.482796, -0.346327, -0.689043, -0.840409, -1.16441, -1.242295, -1.794645], \"z\": [0.428751, 0.449488, 0.769481, 1.023915, 0.752397, 1.389489, 1.098527, 0.760376, 0.631279, 0.254462, 0.151225, -0.160235, -0.56967, -0.795403, -0.744953, -0.820339, -0.791839, -0.96783, -0.65142, -0.66108, -0.126488, 0.114152, 0.417303, 0.615544, 0.385185, 0.186861, -0.0858, -0.120976, -0.035002, -0.309909, -0.208439, -0.485355, -0.734185, -0.574637, -1.004597, -1.250838, -1.174746, -1.376205, -1.528117, -1.501028, -1.605397, -1.875326, -2.069439, -2.138976, -2.29942, -2.245133, -2.82832, -2.812268, -2.873087, -2.758474, -3.020816, -3.604322, -3.369023, -3.394583, -3.29579, -3.038195, -3.646896, -3.52345, -3.273344, -3.081451, -2.701675, -2.718267, -2.875416, -2.909034, -3.011479, -2.79574, -2.430246, -2.166711, -2.143549, -2.218529, -2.173249, -1.838208, -1.613949, -1.208869, -0.792615, -1.164745, -1.080368, -1.08692, -0.878417, -0.562867, -0.599801, -0.508419, -0.672436, -0.829762, -0.596751, -0.554818, -0.556275, -0.494078, -0.238343, -0.335621, 0.028875, 0.10227, 0.31525, 0.164532, -0.462431, -0.492473, -0.344744, -0.537114, -0.476395, -0.288381]}],\n",
       "                        {\"template\": {\"data\": {\"bar\": [{\"error_x\": {\"color\": \"#2a3f5f\"}, \"error_y\": {\"color\": \"#2a3f5f\"}, \"marker\": {\"line\": {\"color\": \"#E5ECF6\", \"width\": 0.5}}, \"type\": \"bar\"}], \"barpolar\": [{\"marker\": {\"line\": {\"color\": \"#E5ECF6\", \"width\": 0.5}}, \"type\": \"barpolar\"}], \"carpet\": [{\"aaxis\": {\"endlinecolor\": \"#2a3f5f\", \"gridcolor\": \"white\", \"linecolor\": \"white\", \"minorgridcolor\": \"white\", \"startlinecolor\": \"#2a3f5f\"}, \"baxis\": {\"endlinecolor\": \"#2a3f5f\", \"gridcolor\": \"white\", \"linecolor\": \"white\", \"minorgridcolor\": \"white\", \"startlinecolor\": \"#2a3f5f\"}, \"type\": \"carpet\"}], \"choropleth\": [{\"colorbar\": {\"outlinewidth\": 0, \"ticks\": \"\"}, \"type\": \"choropleth\"}], \"contour\": [{\"colorbar\": {\"outlinewidth\": 0, \"ticks\": \"\"}, \"colorscale\": [[0.0, \"#0d0887\"], [0.1111111111111111, \"#46039f\"], [0.2222222222222222, \"#7201a8\"], [0.3333333333333333, \"#9c179e\"], [0.4444444444444444, \"#bd3786\"], [0.5555555555555556, \"#d8576b\"], [0.6666666666666666, \"#ed7953\"], [0.7777777777777778, \"#fb9f3a\"], [0.8888888888888888, \"#fdca26\"], [1.0, \"#f0f921\"]], \"type\": \"contour\"}], \"contourcarpet\": [{\"colorbar\": {\"outlinewidth\": 0, \"ticks\": \"\"}, \"type\": \"contourcarpet\"}], \"heatmap\": [{\"colorbar\": {\"outlinewidth\": 0, \"ticks\": \"\"}, \"colorscale\": [[0.0, \"#0d0887\"], [0.1111111111111111, \"#46039f\"], [0.2222222222222222, \"#7201a8\"], [0.3333333333333333, \"#9c179e\"], [0.4444444444444444, \"#bd3786\"], [0.5555555555555556, \"#d8576b\"], [0.6666666666666666, \"#ed7953\"], [0.7777777777777778, \"#fb9f3a\"], [0.8888888888888888, \"#fdca26\"], [1.0, \"#f0f921\"]], \"type\": \"heatmap\"}], \"heatmapgl\": [{\"colorbar\": {\"outlinewidth\": 0, \"ticks\": \"\"}, \"colorscale\": [[0.0, \"#0d0887\"], [0.1111111111111111, \"#46039f\"], [0.2222222222222222, \"#7201a8\"], [0.3333333333333333, \"#9c179e\"], [0.4444444444444444, \"#bd3786\"], [0.5555555555555556, \"#d8576b\"], [0.6666666666666666, \"#ed7953\"], [0.7777777777777778, \"#fb9f3a\"], [0.8888888888888888, \"#fdca26\"], [1.0, \"#f0f921\"]], \"type\": \"heatmapgl\"}], \"histogram\": [{\"marker\": {\"colorbar\": {\"outlinewidth\": 0, \"ticks\": \"\"}}, \"type\": \"histogram\"}], \"histogram2d\": [{\"colorbar\": {\"outlinewidth\": 0, \"ticks\": \"\"}, \"colorscale\": [[0.0, \"#0d0887\"], [0.1111111111111111, \"#46039f\"], [0.2222222222222222, \"#7201a8\"], [0.3333333333333333, \"#9c179e\"], [0.4444444444444444, \"#bd3786\"], [0.5555555555555556, \"#d8576b\"], [0.6666666666666666, \"#ed7953\"], [0.7777777777777778, \"#fb9f3a\"], [0.8888888888888888, \"#fdca26\"], [1.0, \"#f0f921\"]], \"type\": \"histogram2d\"}], \"histogram2dcontour\": [{\"colorbar\": {\"outlinewidth\": 0, \"ticks\": \"\"}, \"colorscale\": [[0.0, \"#0d0887\"], [0.1111111111111111, \"#46039f\"], [0.2222222222222222, \"#7201a8\"], [0.3333333333333333, \"#9c179e\"], [0.4444444444444444, \"#bd3786\"], [0.5555555555555556, \"#d8576b\"], [0.6666666666666666, \"#ed7953\"], [0.7777777777777778, \"#fb9f3a\"], [0.8888888888888888, \"#fdca26\"], [1.0, \"#f0f921\"]], \"type\": \"histogram2dcontour\"}], \"mesh3d\": [{\"colorbar\": {\"outlinewidth\": 0, \"ticks\": \"\"}, \"type\": \"mesh3d\"}], \"parcoords\": [{\"line\": {\"colorbar\": {\"outlinewidth\": 0, \"ticks\": \"\"}}, \"type\": \"parcoords\"}], \"pie\": [{\"automargin\": true, \"type\": \"pie\"}], \"scatter\": [{\"marker\": {\"colorbar\": {\"outlinewidth\": 0, \"ticks\": \"\"}}, \"type\": \"scatter\"}], \"scatter3d\": [{\"line\": {\"colorbar\": {\"outlinewidth\": 0, \"ticks\": \"\"}}, \"marker\": {\"colorbar\": {\"outlinewidth\": 0, \"ticks\": \"\"}}, \"type\": \"scatter3d\"}], \"scattercarpet\": [{\"marker\": {\"colorbar\": {\"outlinewidth\": 0, \"ticks\": \"\"}}, \"type\": \"scattercarpet\"}], \"scattergeo\": [{\"marker\": {\"colorbar\": {\"outlinewidth\": 0, \"ticks\": \"\"}}, \"type\": \"scattergeo\"}], \"scattergl\": [{\"marker\": {\"colorbar\": {\"outlinewidth\": 0, \"ticks\": \"\"}}, \"type\": \"scattergl\"}], \"scattermapbox\": [{\"marker\": {\"colorbar\": {\"outlinewidth\": 0, \"ticks\": \"\"}}, \"type\": \"scattermapbox\"}], \"scatterpolar\": [{\"marker\": {\"colorbar\": {\"outlinewidth\": 0, \"ticks\": \"\"}}, \"type\": \"scatterpolar\"}], \"scatterpolargl\": [{\"marker\": {\"colorbar\": {\"outlinewidth\": 0, \"ticks\": \"\"}}, \"type\": \"scatterpolargl\"}], \"scatterternary\": [{\"marker\": {\"colorbar\": {\"outlinewidth\": 0, \"ticks\": \"\"}}, \"type\": \"scatterternary\"}], \"surface\": [{\"colorbar\": {\"outlinewidth\": 0, \"ticks\": \"\"}, \"colorscale\": [[0.0, \"#0d0887\"], [0.1111111111111111, \"#46039f\"], [0.2222222222222222, \"#7201a8\"], [0.3333333333333333, \"#9c179e\"], [0.4444444444444444, \"#bd3786\"], [0.5555555555555556, \"#d8576b\"], [0.6666666666666666, \"#ed7953\"], [0.7777777777777778, \"#fb9f3a\"], [0.8888888888888888, \"#fdca26\"], [1.0, \"#f0f921\"]], \"type\": \"surface\"}], \"table\": [{\"cells\": {\"fill\": {\"color\": \"#EBF0F8\"}, \"line\": {\"color\": \"white\"}}, \"header\": {\"fill\": {\"color\": \"#C8D4E3\"}, \"line\": {\"color\": \"white\"}}, \"type\": \"table\"}]}, \"layout\": {\"annotationdefaults\": {\"arrowcolor\": \"#2a3f5f\", \"arrowhead\": 0, \"arrowwidth\": 1}, \"coloraxis\": {\"colorbar\": {\"outlinewidth\": 0, \"ticks\": \"\"}}, \"colorscale\": {\"diverging\": [[0, \"#8e0152\"], [0.1, \"#c51b7d\"], [0.2, \"#de77ae\"], [0.3, \"#f1b6da\"], [0.4, \"#fde0ef\"], [0.5, \"#f7f7f7\"], [0.6, \"#e6f5d0\"], [0.7, \"#b8e186\"], [0.8, \"#7fbc41\"], [0.9, \"#4d9221\"], [1, \"#276419\"]], \"sequential\": [[0.0, \"#0d0887\"], [0.1111111111111111, \"#46039f\"], [0.2222222222222222, \"#7201a8\"], [0.3333333333333333, \"#9c179e\"], [0.4444444444444444, \"#bd3786\"], [0.5555555555555556, \"#d8576b\"], [0.6666666666666666, \"#ed7953\"], [0.7777777777777778, \"#fb9f3a\"], [0.8888888888888888, \"#fdca26\"], [1.0, \"#f0f921\"]], \"sequentialminus\": [[0.0, \"#0d0887\"], [0.1111111111111111, \"#46039f\"], [0.2222222222222222, \"#7201a8\"], [0.3333333333333333, \"#9c179e\"], [0.4444444444444444, \"#bd3786\"], [0.5555555555555556, \"#d8576b\"], [0.6666666666666666, \"#ed7953\"], [0.7777777777777778, \"#fb9f3a\"], [0.8888888888888888, \"#fdca26\"], [1.0, \"#f0f921\"]]}, \"colorway\": [\"#636efa\", \"#EF553B\", \"#00cc96\", \"#ab63fa\", \"#FFA15A\", \"#19d3f3\", \"#FF6692\", \"#B6E880\", \"#FF97FF\", \"#FECB52\"], \"font\": {\"color\": \"#2a3f5f\"}, \"geo\": {\"bgcolor\": \"white\", \"lakecolor\": \"white\", \"landcolor\": \"#E5ECF6\", \"showlakes\": true, \"showland\": true, \"subunitcolor\": \"white\"}, \"hoverlabel\": {\"align\": \"left\"}, \"hovermode\": \"closest\", \"mapbox\": {\"style\": \"light\"}, \"paper_bgcolor\": \"white\", \"plot_bgcolor\": \"#E5ECF6\", \"polar\": {\"angularaxis\": {\"gridcolor\": \"white\", \"linecolor\": \"white\", \"ticks\": \"\"}, \"bgcolor\": \"#E5ECF6\", \"radialaxis\": {\"gridcolor\": \"white\", \"linecolor\": \"white\", \"ticks\": \"\"}}, \"scene\": {\"xaxis\": {\"backgroundcolor\": \"#E5ECF6\", \"gridcolor\": \"white\", \"gridwidth\": 2, \"linecolor\": \"white\", \"showbackground\": true, \"ticks\": \"\", \"zerolinecolor\": \"white\"}, \"yaxis\": {\"backgroundcolor\": \"#E5ECF6\", \"gridcolor\": \"white\", \"gridwidth\": 2, \"linecolor\": \"white\", \"showbackground\": true, \"ticks\": \"\", \"zerolinecolor\": \"white\"}, \"zaxis\": {\"backgroundcolor\": \"#E5ECF6\", \"gridcolor\": \"white\", \"gridwidth\": 2, \"linecolor\": \"white\", \"showbackground\": true, \"ticks\": \"\", \"zerolinecolor\": \"white\"}}, \"shapedefaults\": {\"line\": {\"color\": \"#2a3f5f\"}}, \"ternary\": {\"aaxis\": {\"gridcolor\": \"white\", \"linecolor\": \"white\", \"ticks\": \"\"}, \"baxis\": {\"gridcolor\": \"white\", \"linecolor\": \"white\", \"ticks\": \"\"}, \"bgcolor\": \"#E5ECF6\", \"caxis\": {\"gridcolor\": \"white\", \"linecolor\": \"white\", \"ticks\": \"\"}}, \"title\": {\"x\": 0.05}, \"xaxis\": {\"automargin\": true, \"gridcolor\": \"white\", \"linecolor\": \"white\", \"ticks\": \"\", \"title\": {\"standoff\": 15}, \"zerolinecolor\": \"white\", \"zerolinewidth\": 2}, \"yaxis\": {\"automargin\": true, \"gridcolor\": \"white\", \"linecolor\": \"white\", \"ticks\": \"\", \"title\": {\"standoff\": 15}, \"zerolinecolor\": \"white\", \"zerolinewidth\": 2}}}},\n",
       "                        {\"responsive\": true}\n",
       "                    ).then(function(){\n",
       "                            \n",
       "var gd = document.getElementById('70cc9c91-2bfd-40d3-b895-d46cfc314b91');\n",
       "var x = new MutationObserver(function (mutations, observer) {{\n",
       "        var display = window.getComputedStyle(gd).display;\n",
       "        if (!display || display === 'none') {{\n",
       "            console.log([gd, 'removed!']);\n",
       "            Plotly.purge(gd);\n",
       "            observer.disconnect();\n",
       "        }}\n",
       "}});\n",
       "\n",
       "// Listen for the removal of the full notebook cells\n",
       "var notebookContainer = gd.closest('#notebook-container');\n",
       "if (notebookContainer) {{\n",
       "    x.observe(notebookContainer, {childList: true});\n",
       "}}\n",
       "\n",
       "// Listen for the clearing of the current output cell\n",
       "var outputEl = gd.closest('.output');\n",
       "if (outputEl) {{\n",
       "    x.observe(outputEl, {childList: true});\n",
       "}}\n",
       "\n",
       "                        })\n",
       "                };\n",
       "                });\n",
       "            </script>\n",
       "        </div>"
      ]
     },
     "metadata": {},
     "output_type": "display_data"
    }
   ],
   "source": [
    "import plotly.graph_objects as go\n",
    "import numpy as np\n",
    "\n",
    "pts = np.loadtxt(np.DataSource().open('https://raw.githubusercontent.com/plotly/datasets/master/mesh_dataset.txt'))\n",
    "x, y, z = pts.T\n",
    "\n",
    "fig = go.Figure(data=[go.Mesh3d(x=x, y=y, z=z,\n",
    "                   alphahull=5,\n",
    "                   opacity=0.4,\n",
    "                   color='cyan')])\n",
    "fig.show()"
   ]
  },
  {
   "cell_type": "code",
   "execution_count": 115,
   "id": "c2afec64",
   "metadata": {},
   "outputs": [
    {
     "data": {
      "text/html": [
       "<div>\n",
       "<style scoped>\n",
       "    .dataframe tbody tr th:only-of-type {\n",
       "        vertical-align: middle;\n",
       "    }\n",
       "\n",
       "    .dataframe tbody tr th {\n",
       "        vertical-align: top;\n",
       "    }\n",
       "\n",
       "    .dataframe thead th {\n",
       "        text-align: right;\n",
       "    }\n",
       "</style>\n",
       "<table border=\"1\" class=\"dataframe\">\n",
       "  <thead>\n",
       "    <tr style=\"text-align: right;\">\n",
       "      <th></th>\n",
       "      <th>지역구</th>\n",
       "      <th>년도</th>\n",
       "      <th>경찰관수</th>\n",
       "      <th>치안시설총수</th>\n",
       "      <th>발생합계</th>\n",
       "      <th>살인발생</th>\n",
       "      <th>강도발생</th>\n",
       "      <th>강간강제추행발생</th>\n",
       "      <th>절도발생</th>\n",
       "      <th>폭력발생</th>\n",
       "      <th>...</th>\n",
       "      <th>강간강제추행검거</th>\n",
       "      <th>절도검거</th>\n",
       "      <th>폭력검거</th>\n",
       "      <th>검거율/발생율</th>\n",
       "      <th>강도검거율</th>\n",
       "      <th>절도검거율</th>\n",
       "      <th>폭력검거율</th>\n",
       "      <th>살인검거율</th>\n",
       "      <th>강간강제추행검거율</th>\n",
       "      <th>랭크</th>\n",
       "    </tr>\n",
       "  </thead>\n",
       "  <tbody>\n",
       "    <tr>\n",
       "      <th>0</th>\n",
       "      <td>강남구</td>\n",
       "      <td>2018</td>\n",
       "      <td>1999.000000</td>\n",
       "      <td>29.333333</td>\n",
       "      <td>7512.333333</td>\n",
       "      <td>7.333333</td>\n",
       "      <td>13.000000</td>\n",
       "      <td>624.333333</td>\n",
       "      <td>3034.666667</td>\n",
       "      <td>3833.000000</td>\n",
       "      <td>...</td>\n",
       "      <td>527.000000</td>\n",
       "      <td>1346.333333</td>\n",
       "      <td>3301.000000</td>\n",
       "      <td>0.691618</td>\n",
       "      <td>1.038095</td>\n",
       "      <td>0.443703</td>\n",
       "      <td>0.861245</td>\n",
       "      <td>0.966667</td>\n",
       "      <td>0.844215</td>\n",
       "      <td>8</td>\n",
       "    </tr>\n",
       "    <tr>\n",
       "      <th>1</th>\n",
       "      <td>강동구</td>\n",
       "      <td>2018</td>\n",
       "      <td>1012.000000</td>\n",
       "      <td>21.333333</td>\n",
       "      <td>4064.666667</td>\n",
       "      <td>4.666667</td>\n",
       "      <td>10.666667</td>\n",
       "      <td>174.000000</td>\n",
       "      <td>1603.333333</td>\n",
       "      <td>2272.000000</td>\n",
       "      <td>...</td>\n",
       "      <td>155.666667</td>\n",
       "      <td>873.666667</td>\n",
       "      <td>1951.333333</td>\n",
       "      <td>0.736464</td>\n",
       "      <td>1.044444</td>\n",
       "      <td>0.543849</td>\n",
       "      <td>0.858642</td>\n",
       "      <td>1.011111</td>\n",
       "      <td>0.894949</td>\n",
       "      <td>15</td>\n",
       "    </tr>\n",
       "    <tr>\n",
       "      <th>2</th>\n",
       "      <td>강북구</td>\n",
       "      <td>2018</td>\n",
       "      <td>893.666667</td>\n",
       "      <td>18.666667</td>\n",
       "      <td>3556.000000</td>\n",
       "      <td>7.333333</td>\n",
       "      <td>5.666667</td>\n",
       "      <td>190.666667</td>\n",
       "      <td>1118.333333</td>\n",
       "      <td>2234.000000</td>\n",
       "      <td>...</td>\n",
       "      <td>144.333333</td>\n",
       "      <td>634.000000</td>\n",
       "      <td>2073.666667</td>\n",
       "      <td>0.806010</td>\n",
       "      <td>0.793651</td>\n",
       "      <td>0.569592</td>\n",
       "      <td>0.929038</td>\n",
       "      <td>0.916667</td>\n",
       "      <td>0.759175</td>\n",
       "      <td>24</td>\n",
       "    </tr>\n",
       "    <tr>\n",
       "      <th>3</th>\n",
       "      <td>강서구</td>\n",
       "      <td>2018</td>\n",
       "      <td>1242.666667</td>\n",
       "      <td>16.000000</td>\n",
       "      <td>4896.000000</td>\n",
       "      <td>10.000000</td>\n",
       "      <td>4.333333</td>\n",
       "      <td>297.000000</td>\n",
       "      <td>1887.333333</td>\n",
       "      <td>2697.333333</td>\n",
       "      <td>...</td>\n",
       "      <td>252.000000</td>\n",
       "      <td>1057.333333</td>\n",
       "      <td>2323.000000</td>\n",
       "      <td>0.744565</td>\n",
       "      <td>1.111111</td>\n",
       "      <td>0.561495</td>\n",
       "      <td>0.860778</td>\n",
       "      <td>0.981061</td>\n",
       "      <td>0.851667</td>\n",
       "      <td>17</td>\n",
       "    </tr>\n",
       "    <tr>\n",
       "      <th>4</th>\n",
       "      <td>관악구</td>\n",
       "      <td>2018</td>\n",
       "      <td>1194.000000</td>\n",
       "      <td>25.333333</td>\n",
       "      <td>5293.000000</td>\n",
       "      <td>10.000000</td>\n",
       "      <td>9.000000</td>\n",
       "      <td>379.666667</td>\n",
       "      <td>2071.333333</td>\n",
       "      <td>2823.000000</td>\n",
       "      <td>...</td>\n",
       "      <td>321.000000</td>\n",
       "      <td>1087.333333</td>\n",
       "      <td>2445.666667</td>\n",
       "      <td>0.731255</td>\n",
       "      <td>1.052381</td>\n",
       "      <td>0.526545</td>\n",
       "      <td>0.867577</td>\n",
       "      <td>0.881410</td>\n",
       "      <td>0.846599</td>\n",
       "      <td>14</td>\n",
       "    </tr>\n",
       "    <tr>\n",
       "      <th>5</th>\n",
       "      <td>광진구</td>\n",
       "      <td>2018</td>\n",
       "      <td>952.333333</td>\n",
       "      <td>16.000000</td>\n",
       "      <td>4190.666667</td>\n",
       "      <td>5.666667</td>\n",
       "      <td>7.000000</td>\n",
       "      <td>254.333333</td>\n",
       "      <td>1954.666667</td>\n",
       "      <td>1969.000000</td>\n",
       "      <td>...</td>\n",
       "      <td>201.666667</td>\n",
       "      <td>1050.000000</td>\n",
       "      <td>1703.333333</td>\n",
       "      <td>0.707459</td>\n",
       "      <td>0.649573</td>\n",
       "      <td>0.538107</td>\n",
       "      <td>0.864138</td>\n",
       "      <td>0.932540</td>\n",
       "      <td>0.793549</td>\n",
       "      <td>11</td>\n",
       "    </tr>\n",
       "    <tr>\n",
       "      <th>6</th>\n",
       "      <td>구로구</td>\n",
       "      <td>2018</td>\n",
       "      <td>1007.000000</td>\n",
       "      <td>21.333333</td>\n",
       "      <td>4804.000000</td>\n",
       "      <td>8.333333</td>\n",
       "      <td>6.666667</td>\n",
       "      <td>268.000000</td>\n",
       "      <td>1786.000000</td>\n",
       "      <td>2735.000000</td>\n",
       "      <td>...</td>\n",
       "      <td>175.666667</td>\n",
       "      <td>873.666667</td>\n",
       "      <td>2281.666667</td>\n",
       "      <td>0.696454</td>\n",
       "      <td>1.027778</td>\n",
       "      <td>0.488593</td>\n",
       "      <td>0.834489</td>\n",
       "      <td>1.014286</td>\n",
       "      <td>0.668639</td>\n",
       "      <td>9</td>\n",
       "    </tr>\n",
       "    <tr>\n",
       "      <th>7</th>\n",
       "      <td>금천구</td>\n",
       "      <td>2018</td>\n",
       "      <td>771.000000</td>\n",
       "      <td>16.000000</td>\n",
       "      <td>3221.000000</td>\n",
       "      <td>5.666667</td>\n",
       "      <td>7.333333</td>\n",
       "      <td>197.666667</td>\n",
       "      <td>1155.333333</td>\n",
       "      <td>1855.000000</td>\n",
       "      <td>...</td>\n",
       "      <td>174.333333</td>\n",
       "      <td>644.666667</td>\n",
       "      <td>1663.666667</td>\n",
       "      <td>0.773957</td>\n",
       "      <td>0.819048</td>\n",
       "      <td>0.558161</td>\n",
       "      <td>0.896767</td>\n",
       "      <td>1.000000</td>\n",
       "      <td>0.877288</td>\n",
       "      <td>21</td>\n",
       "    </tr>\n",
       "    <tr>\n",
       "      <th>8</th>\n",
       "      <td>노원구</td>\n",
       "      <td>2018</td>\n",
       "      <td>1087.333333</td>\n",
       "      <td>23.333333</td>\n",
       "      <td>4123.000000</td>\n",
       "      <td>4.333333</td>\n",
       "      <td>5.666667</td>\n",
       "      <td>186.000000</td>\n",
       "      <td>1486.000000</td>\n",
       "      <td>2441.000000</td>\n",
       "      <td>...</td>\n",
       "      <td>162.000000</td>\n",
       "      <td>674.333333</td>\n",
       "      <td>2066.666667</td>\n",
       "      <td>0.705895</td>\n",
       "      <td>0.925926</td>\n",
       "      <td>0.452732</td>\n",
       "      <td>0.846355</td>\n",
       "      <td>0.933333</td>\n",
       "      <td>0.870520</td>\n",
       "      <td>10</td>\n",
       "    </tr>\n",
       "    <tr>\n",
       "      <th>9</th>\n",
       "      <td>도봉구</td>\n",
       "      <td>2018</td>\n",
       "      <td>754.333333</td>\n",
       "      <td>12.000000</td>\n",
       "      <td>2119.333333</td>\n",
       "      <td>1.000000</td>\n",
       "      <td>4.333333</td>\n",
       "      <td>102.333333</td>\n",
       "      <td>734.666667</td>\n",
       "      <td>1277.000000</td>\n",
       "      <td>...</td>\n",
       "      <td>105.000000</td>\n",
       "      <td>414.000000</td>\n",
       "      <td>1084.666667</td>\n",
       "      <td>0.760371</td>\n",
       "      <td>0.866667</td>\n",
       "      <td>0.569786</td>\n",
       "      <td>0.849588</td>\n",
       "      <td>1.000000</td>\n",
       "      <td>1.021130</td>\n",
       "      <td>20</td>\n",
       "    </tr>\n",
       "    <tr>\n",
       "      <th>10</th>\n",
       "      <td>동대문구</td>\n",
       "      <td>2018</td>\n",
       "      <td>1097.333333</td>\n",
       "      <td>26.666667</td>\n",
       "      <td>3782.333333</td>\n",
       "      <td>6.333333</td>\n",
       "      <td>6.000000</td>\n",
       "      <td>159.333333</td>\n",
       "      <td>1508.333333</td>\n",
       "      <td>2102.333333</td>\n",
       "      <td>...</td>\n",
       "      <td>134.666667</td>\n",
       "      <td>924.666667</td>\n",
       "      <td>1948.666667</td>\n",
       "      <td>0.797814</td>\n",
       "      <td>1.122222</td>\n",
       "      <td>0.613427</td>\n",
       "      <td>0.926811</td>\n",
       "      <td>0.969697</td>\n",
       "      <td>0.842212</td>\n",
       "      <td>22</td>\n",
       "    </tr>\n",
       "    <tr>\n",
       "      <th>11</th>\n",
       "      <td>동작구</td>\n",
       "      <td>2018</td>\n",
       "      <td>898.666667</td>\n",
       "      <td>22.666667</td>\n",
       "      <td>3276.666667</td>\n",
       "      <td>2.666667</td>\n",
       "      <td>5.000000</td>\n",
       "      <td>311.666667</td>\n",
       "      <td>1235.000000</td>\n",
       "      <td>1722.333333</td>\n",
       "      <td>...</td>\n",
       "      <td>145.666667</td>\n",
       "      <td>568.000000</td>\n",
       "      <td>1454.333333</td>\n",
       "      <td>0.664352</td>\n",
       "      <td>1.095238</td>\n",
       "      <td>0.460629</td>\n",
       "      <td>0.844778</td>\n",
       "      <td>0.833333</td>\n",
       "      <td>0.469946</td>\n",
       "      <td>1</td>\n",
       "    </tr>\n",
       "    <tr>\n",
       "      <th>12</th>\n",
       "      <td>마포구</td>\n",
       "      <td>2018</td>\n",
       "      <td>1169.333333</td>\n",
       "      <td>21.333333</td>\n",
       "      <td>5097.333333</td>\n",
       "      <td>3.666667</td>\n",
       "      <td>5.333333</td>\n",
       "      <td>489.333333</td>\n",
       "      <td>2098.333333</td>\n",
       "      <td>2500.666667</td>\n",
       "      <td>...</td>\n",
       "      <td>414.000000</td>\n",
       "      <td>878.666667</td>\n",
       "      <td>2110.666667</td>\n",
       "      <td>0.669230</td>\n",
       "      <td>1.055556</td>\n",
       "      <td>0.419008</td>\n",
       "      <td>0.844484</td>\n",
       "      <td>1.000000</td>\n",
       "      <td>0.845878</td>\n",
       "      <td>4</td>\n",
       "    </tr>\n",
       "    <tr>\n",
       "      <th>13</th>\n",
       "      <td>서대문구</td>\n",
       "      <td>2018</td>\n",
       "      <td>906.000000</td>\n",
       "      <td>14.666667</td>\n",
       "      <td>2952.666667</td>\n",
       "      <td>3.666667</td>\n",
       "      <td>3.000000</td>\n",
       "      <td>194.333333</td>\n",
       "      <td>1172.666667</td>\n",
       "      <td>1579.000000</td>\n",
       "      <td>...</td>\n",
       "      <td>174.666667</td>\n",
       "      <td>634.666667</td>\n",
       "      <td>1296.000000</td>\n",
       "      <td>0.714792</td>\n",
       "      <td>1.333333</td>\n",
       "      <td>0.541599</td>\n",
       "      <td>0.820433</td>\n",
       "      <td>0.766667</td>\n",
       "      <td>0.897838</td>\n",
       "      <td>12</td>\n",
       "    </tr>\n",
       "    <tr>\n",
       "      <th>14</th>\n",
       "      <td>서초구</td>\n",
       "      <td>2018</td>\n",
       "      <td>1467.666667</td>\n",
       "      <td>25.333333</td>\n",
       "      <td>4992.000000</td>\n",
       "      <td>6.333333</td>\n",
       "      <td>8.333333</td>\n",
       "      <td>518.666667</td>\n",
       "      <td>1977.666667</td>\n",
       "      <td>2481.000000</td>\n",
       "      <td>...</td>\n",
       "      <td>336.666667</td>\n",
       "      <td>930.333333</td>\n",
       "      <td>2110.666667</td>\n",
       "      <td>0.679237</td>\n",
       "      <td>0.750916</td>\n",
       "      <td>0.468685</td>\n",
       "      <td>0.851218</td>\n",
       "      <td>1.037037</td>\n",
       "      <td>0.647057</td>\n",
       "      <td>5</td>\n",
       "    </tr>\n",
       "    <tr>\n",
       "      <th>15</th>\n",
       "      <td>성동구</td>\n",
       "      <td>2018</td>\n",
       "      <td>862.000000</td>\n",
       "      <td>20.000000</td>\n",
       "      <td>2578.666667</td>\n",
       "      <td>3.000000</td>\n",
       "      <td>5.666667</td>\n",
       "      <td>130.333333</td>\n",
       "      <td>1013.666667</td>\n",
       "      <td>1426.000000</td>\n",
       "      <td>...</td>\n",
       "      <td>101.333333</td>\n",
       "      <td>513.666667</td>\n",
       "      <td>1260.666667</td>\n",
       "      <td>0.731002</td>\n",
       "      <td>1.237037</td>\n",
       "      <td>0.506940</td>\n",
       "      <td>0.884271</td>\n",
       "      <td>0.944444</td>\n",
       "      <td>0.778120</td>\n",
       "      <td>13</td>\n",
       "    </tr>\n",
       "    <tr>\n",
       "      <th>16</th>\n",
       "      <td>성북구</td>\n",
       "      <td>2018</td>\n",
       "      <td>1292.666667</td>\n",
       "      <td>32.000000</td>\n",
       "      <td>3117.666667</td>\n",
       "      <td>5.666667</td>\n",
       "      <td>4.000000</td>\n",
       "      <td>177.333333</td>\n",
       "      <td>1196.666667</td>\n",
       "      <td>1734.000000</td>\n",
       "      <td>...</td>\n",
       "      <td>134.666667</td>\n",
       "      <td>689.666667</td>\n",
       "      <td>1525.666667</td>\n",
       "      <td>0.759286</td>\n",
       "      <td>1.333333</td>\n",
       "      <td>0.581400</td>\n",
       "      <td>0.881226</td>\n",
       "      <td>0.952381</td>\n",
       "      <td>0.759410</td>\n",
       "      <td>19</td>\n",
       "    </tr>\n",
       "    <tr>\n",
       "      <th>17</th>\n",
       "      <td>송파구</td>\n",
       "      <td>2018</td>\n",
       "      <td>1398.000000</td>\n",
       "      <td>26.666667</td>\n",
       "      <td>5693.666667</td>\n",
       "      <td>6.000000</td>\n",
       "      <td>5.666667</td>\n",
       "      <td>290.000000</td>\n",
       "      <td>2347.333333</td>\n",
       "      <td>3044.666667</td>\n",
       "      <td>...</td>\n",
       "      <td>242.000000</td>\n",
       "      <td>1025.333333</td>\n",
       "      <td>2625.666667</td>\n",
       "      <td>0.686126</td>\n",
       "      <td>1.777778</td>\n",
       "      <td>0.437114</td>\n",
       "      <td>0.862152</td>\n",
       "      <td>1.114286</td>\n",
       "      <td>0.834925</td>\n",
       "      <td>7</td>\n",
       "    </tr>\n",
       "    <tr>\n",
       "      <th>18</th>\n",
       "      <td>양천구</td>\n",
       "      <td>2018</td>\n",
       "      <td>1034.666667</td>\n",
       "      <td>20.666667</td>\n",
       "      <td>3537.000000</td>\n",
       "      <td>3.666667</td>\n",
       "      <td>3.000000</td>\n",
       "      <td>128.333333</td>\n",
       "      <td>1483.666667</td>\n",
       "      <td>1918.333333</td>\n",
       "      <td>...</td>\n",
       "      <td>115.000000</td>\n",
       "      <td>678.666667</td>\n",
       "      <td>1611.000000</td>\n",
       "      <td>0.681882</td>\n",
       "      <td>1.722222</td>\n",
       "      <td>0.457161</td>\n",
       "      <td>0.841109</td>\n",
       "      <td>1.055556</td>\n",
       "      <td>0.896983</td>\n",
       "      <td>6</td>\n",
       "    </tr>\n",
       "    <tr>\n",
       "      <th>19</th>\n",
       "      <td>영등포구</td>\n",
       "      <td>2018</td>\n",
       "      <td>1310.333333</td>\n",
       "      <td>20.000000</td>\n",
       "      <td>5876.333333</td>\n",
       "      <td>14.000000</td>\n",
       "      <td>5.333333</td>\n",
       "      <td>400.666667</td>\n",
       "      <td>2335.000000</td>\n",
       "      <td>3121.333333</td>\n",
       "      <td>...</td>\n",
       "      <td>257.666667</td>\n",
       "      <td>1080.000000</td>\n",
       "      <td>2552.000000</td>\n",
       "      <td>0.664801</td>\n",
       "      <td>0.916667</td>\n",
       "      <td>0.462821</td>\n",
       "      <td>0.817515</td>\n",
       "      <td>0.916340</td>\n",
       "      <td>0.647009</td>\n",
       "      <td>3</td>\n",
       "    </tr>\n",
       "    <tr>\n",
       "      <th>20</th>\n",
       "      <td>용산구</td>\n",
       "      <td>2018</td>\n",
       "      <td>945.333333</td>\n",
       "      <td>16.000000</td>\n",
       "      <td>3594.666667</td>\n",
       "      <td>1.666667</td>\n",
       "      <td>3.666667</td>\n",
       "      <td>310.000000</td>\n",
       "      <td>1147.000000</td>\n",
       "      <td>2132.333333</td>\n",
       "      <td>...</td>\n",
       "      <td>270.333333</td>\n",
       "      <td>564.000000</td>\n",
       "      <td>1857.333333</td>\n",
       "      <td>0.752263</td>\n",
       "      <td>0.933333</td>\n",
       "      <td>0.495301</td>\n",
       "      <td>0.872446</td>\n",
       "      <td>1.000000</td>\n",
       "      <td>0.872048</td>\n",
       "      <td>18</td>\n",
       "    </tr>\n",
       "    <tr>\n",
       "      <th>21</th>\n",
       "      <td>은평구</td>\n",
       "      <td>2018</td>\n",
       "      <td>1237.333333</td>\n",
       "      <td>26.666667</td>\n",
       "      <td>3784.333333</td>\n",
       "      <td>5.666667</td>\n",
       "      <td>2.000000</td>\n",
       "      <td>204.000000</td>\n",
       "      <td>1410.000000</td>\n",
       "      <td>2162.666667</td>\n",
       "      <td>...</td>\n",
       "      <td>181.333333</td>\n",
       "      <td>909.000000</td>\n",
       "      <td>1925.333333</td>\n",
       "      <td>0.798866</td>\n",
       "      <td>1.000000</td>\n",
       "      <td>0.645392</td>\n",
       "      <td>0.889854</td>\n",
       "      <td>1.000000</td>\n",
       "      <td>0.886692</td>\n",
       "      <td>23</td>\n",
       "    </tr>\n",
       "    <tr>\n",
       "      <th>22</th>\n",
       "      <td>종로구</td>\n",
       "      <td>2018</td>\n",
       "      <td>1533.333333</td>\n",
       "      <td>30.666667</td>\n",
       "      <td>3864.333333</td>\n",
       "      <td>5.666667</td>\n",
       "      <td>6.666667</td>\n",
       "      <td>242.333333</td>\n",
       "      <td>1547.333333</td>\n",
       "      <td>2062.333333</td>\n",
       "      <td>...</td>\n",
       "      <td>1218.333333</td>\n",
       "      <td>981.000000</td>\n",
       "      <td>1939.333333</td>\n",
       "      <td>1.074854</td>\n",
       "      <td>1.658730</td>\n",
       "      <td>0.636501</td>\n",
       "      <td>0.939844</td>\n",
       "      <td>1.234127</td>\n",
       "      <td>5.014855</td>\n",
       "      <td>25</td>\n",
       "    </tr>\n",
       "    <tr>\n",
       "      <th>23</th>\n",
       "      <td>중구</td>\n",
       "      <td>2018</td>\n",
       "      <td>1383.000000</td>\n",
       "      <td>24.000000</td>\n",
       "      <td>4180.333333</td>\n",
       "      <td>1.666667</td>\n",
       "      <td>8.666667</td>\n",
       "      <td>223.000000</td>\n",
       "      <td>1967.666667</td>\n",
       "      <td>1979.333333</td>\n",
       "      <td>...</td>\n",
       "      <td>126.333333</td>\n",
       "      <td>923.666667</td>\n",
       "      <td>1718.666667</td>\n",
       "      <td>0.664731</td>\n",
       "      <td>0.944444</td>\n",
       "      <td>0.468980</td>\n",
       "      <td>0.868074</td>\n",
       "      <td>0.750000</td>\n",
       "      <td>0.567784</td>\n",
       "      <td>2</td>\n",
       "    </tr>\n",
       "    <tr>\n",
       "      <th>24</th>\n",
       "      <td>중랑구</td>\n",
       "      <td>2018</td>\n",
       "      <td>1014.333333</td>\n",
       "      <td>22.666667</td>\n",
       "      <td>4375.666667</td>\n",
       "      <td>6.333333</td>\n",
       "      <td>3.333333</td>\n",
       "      <td>161.333333</td>\n",
       "      <td>1575.000000</td>\n",
       "      <td>2629.666667</td>\n",
       "      <td>...</td>\n",
       "      <td>132.333333</td>\n",
       "      <td>865.666667</td>\n",
       "      <td>2242.000000</td>\n",
       "      <td>0.742903</td>\n",
       "      <td>1.194444</td>\n",
       "      <td>0.549800</td>\n",
       "      <td>0.852839</td>\n",
       "      <td>1.083333</td>\n",
       "      <td>0.817717</td>\n",
       "      <td>16</td>\n",
       "    </tr>\n",
       "  </tbody>\n",
       "</table>\n",
       "<p>25 rows × 23 columns</p>\n",
       "</div>"
      ],
      "text/plain": [
       "     지역구    년도         경찰관수     치안시설총수         발생합계       살인발생       강도발생  \\\n",
       "0    강남구  2018  1999.000000  29.333333  7512.333333   7.333333  13.000000   \n",
       "1    강동구  2018  1012.000000  21.333333  4064.666667   4.666667  10.666667   \n",
       "2    강북구  2018   893.666667  18.666667  3556.000000   7.333333   5.666667   \n",
       "3    강서구  2018  1242.666667  16.000000  4896.000000  10.000000   4.333333   \n",
       "4    관악구  2018  1194.000000  25.333333  5293.000000  10.000000   9.000000   \n",
       "5    광진구  2018   952.333333  16.000000  4190.666667   5.666667   7.000000   \n",
       "6    구로구  2018  1007.000000  21.333333  4804.000000   8.333333   6.666667   \n",
       "7    금천구  2018   771.000000  16.000000  3221.000000   5.666667   7.333333   \n",
       "8    노원구  2018  1087.333333  23.333333  4123.000000   4.333333   5.666667   \n",
       "9    도봉구  2018   754.333333  12.000000  2119.333333   1.000000   4.333333   \n",
       "10  동대문구  2018  1097.333333  26.666667  3782.333333   6.333333   6.000000   \n",
       "11   동작구  2018   898.666667  22.666667  3276.666667   2.666667   5.000000   \n",
       "12   마포구  2018  1169.333333  21.333333  5097.333333   3.666667   5.333333   \n",
       "13  서대문구  2018   906.000000  14.666667  2952.666667   3.666667   3.000000   \n",
       "14   서초구  2018  1467.666667  25.333333  4992.000000   6.333333   8.333333   \n",
       "15   성동구  2018   862.000000  20.000000  2578.666667   3.000000   5.666667   \n",
       "16   성북구  2018  1292.666667  32.000000  3117.666667   5.666667   4.000000   \n",
       "17   송파구  2018  1398.000000  26.666667  5693.666667   6.000000   5.666667   \n",
       "18   양천구  2018  1034.666667  20.666667  3537.000000   3.666667   3.000000   \n",
       "19  영등포구  2018  1310.333333  20.000000  5876.333333  14.000000   5.333333   \n",
       "20   용산구  2018   945.333333  16.000000  3594.666667   1.666667   3.666667   \n",
       "21   은평구  2018  1237.333333  26.666667  3784.333333   5.666667   2.000000   \n",
       "22   종로구  2018  1533.333333  30.666667  3864.333333   5.666667   6.666667   \n",
       "23    중구  2018  1383.000000  24.000000  4180.333333   1.666667   8.666667   \n",
       "24   중랑구  2018  1014.333333  22.666667  4375.666667   6.333333   3.333333   \n",
       "\n",
       "      강간강제추행발생         절도발생         폭력발생  ...     강간강제추행검거         절도검거  \\\n",
       "0   624.333333  3034.666667  3833.000000  ...   527.000000  1346.333333   \n",
       "1   174.000000  1603.333333  2272.000000  ...   155.666667   873.666667   \n",
       "2   190.666667  1118.333333  2234.000000  ...   144.333333   634.000000   \n",
       "3   297.000000  1887.333333  2697.333333  ...   252.000000  1057.333333   \n",
       "4   379.666667  2071.333333  2823.000000  ...   321.000000  1087.333333   \n",
       "5   254.333333  1954.666667  1969.000000  ...   201.666667  1050.000000   \n",
       "6   268.000000  1786.000000  2735.000000  ...   175.666667   873.666667   \n",
       "7   197.666667  1155.333333  1855.000000  ...   174.333333   644.666667   \n",
       "8   186.000000  1486.000000  2441.000000  ...   162.000000   674.333333   \n",
       "9   102.333333   734.666667  1277.000000  ...   105.000000   414.000000   \n",
       "10  159.333333  1508.333333  2102.333333  ...   134.666667   924.666667   \n",
       "11  311.666667  1235.000000  1722.333333  ...   145.666667   568.000000   \n",
       "12  489.333333  2098.333333  2500.666667  ...   414.000000   878.666667   \n",
       "13  194.333333  1172.666667  1579.000000  ...   174.666667   634.666667   \n",
       "14  518.666667  1977.666667  2481.000000  ...   336.666667   930.333333   \n",
       "15  130.333333  1013.666667  1426.000000  ...   101.333333   513.666667   \n",
       "16  177.333333  1196.666667  1734.000000  ...   134.666667   689.666667   \n",
       "17  290.000000  2347.333333  3044.666667  ...   242.000000  1025.333333   \n",
       "18  128.333333  1483.666667  1918.333333  ...   115.000000   678.666667   \n",
       "19  400.666667  2335.000000  3121.333333  ...   257.666667  1080.000000   \n",
       "20  310.000000  1147.000000  2132.333333  ...   270.333333   564.000000   \n",
       "21  204.000000  1410.000000  2162.666667  ...   181.333333   909.000000   \n",
       "22  242.333333  1547.333333  2062.333333  ...  1218.333333   981.000000   \n",
       "23  223.000000  1967.666667  1979.333333  ...   126.333333   923.666667   \n",
       "24  161.333333  1575.000000  2629.666667  ...   132.333333   865.666667   \n",
       "\n",
       "           폭력검거   검거율/발생율     강도검거율     절도검거율     폭력검거율     살인검거율  강간강제추행검거율  \\\n",
       "0   3301.000000  0.691618  1.038095  0.443703  0.861245  0.966667   0.844215   \n",
       "1   1951.333333  0.736464  1.044444  0.543849  0.858642  1.011111   0.894949   \n",
       "2   2073.666667  0.806010  0.793651  0.569592  0.929038  0.916667   0.759175   \n",
       "3   2323.000000  0.744565  1.111111  0.561495  0.860778  0.981061   0.851667   \n",
       "4   2445.666667  0.731255  1.052381  0.526545  0.867577  0.881410   0.846599   \n",
       "5   1703.333333  0.707459  0.649573  0.538107  0.864138  0.932540   0.793549   \n",
       "6   2281.666667  0.696454  1.027778  0.488593  0.834489  1.014286   0.668639   \n",
       "7   1663.666667  0.773957  0.819048  0.558161  0.896767  1.000000   0.877288   \n",
       "8   2066.666667  0.705895  0.925926  0.452732  0.846355  0.933333   0.870520   \n",
       "9   1084.666667  0.760371  0.866667  0.569786  0.849588  1.000000   1.021130   \n",
       "10  1948.666667  0.797814  1.122222  0.613427  0.926811  0.969697   0.842212   \n",
       "11  1454.333333  0.664352  1.095238  0.460629  0.844778  0.833333   0.469946   \n",
       "12  2110.666667  0.669230  1.055556  0.419008  0.844484  1.000000   0.845878   \n",
       "13  1296.000000  0.714792  1.333333  0.541599  0.820433  0.766667   0.897838   \n",
       "14  2110.666667  0.679237  0.750916  0.468685  0.851218  1.037037   0.647057   \n",
       "15  1260.666667  0.731002  1.237037  0.506940  0.884271  0.944444   0.778120   \n",
       "16  1525.666667  0.759286  1.333333  0.581400  0.881226  0.952381   0.759410   \n",
       "17  2625.666667  0.686126  1.777778  0.437114  0.862152  1.114286   0.834925   \n",
       "18  1611.000000  0.681882  1.722222  0.457161  0.841109  1.055556   0.896983   \n",
       "19  2552.000000  0.664801  0.916667  0.462821  0.817515  0.916340   0.647009   \n",
       "20  1857.333333  0.752263  0.933333  0.495301  0.872446  1.000000   0.872048   \n",
       "21  1925.333333  0.798866  1.000000  0.645392  0.889854  1.000000   0.886692   \n",
       "22  1939.333333  1.074854  1.658730  0.636501  0.939844  1.234127   5.014855   \n",
       "23  1718.666667  0.664731  0.944444  0.468980  0.868074  0.750000   0.567784   \n",
       "24  2242.000000  0.742903  1.194444  0.549800  0.852839  1.083333   0.817717   \n",
       "\n",
       "    랭크  \n",
       "0    8  \n",
       "1   15  \n",
       "2   24  \n",
       "3   17  \n",
       "4   14  \n",
       "5   11  \n",
       "6    9  \n",
       "7   21  \n",
       "8   10  \n",
       "9   20  \n",
       "10  22  \n",
       "11   1  \n",
       "12   4  \n",
       "13  12  \n",
       "14   5  \n",
       "15  13  \n",
       "16  19  \n",
       "17   7  \n",
       "18   6  \n",
       "19   3  \n",
       "20  18  \n",
       "21  23  \n",
       "22  25  \n",
       "23   2  \n",
       "24  16  \n",
       "\n",
       "[25 rows x 23 columns]"
      ]
     },
     "execution_count": 115,
     "metadata": {},
     "output_type": "execute_result"
    }
   ],
   "source": [
    "old_pop"
   ]
  },
  {
   "cell_type": "code",
   "execution_count": 116,
   "id": "00f8ed28",
   "metadata": {},
   "outputs": [
    {
     "ename": "ValueError",
     "evalue": "could not convert string to float: '0,ê°\\x95ë\\x82¨êµ?2018,1999,29.33333333,7512.333333,7.333333333,13,624.3333333,3034.666667,3833,5195.333333,7.666666667,13.33333333,527,1346.333333,3301,0.691617738,1.038095238,0.443703411,0.861245433,0.966666667,0.844214651,8,'",
     "output_type": "error",
     "traceback": [
      "\u001b[1;31m---------------------------------------------------------------------------\u001b[0m",
      "\u001b[1;31mValueError\u001b[0m                                Traceback (most recent call last)",
      "\u001b[1;32m<ipython-input-116-33296af690be>\u001b[0m in \u001b[0;36m<module>\u001b[1;34m\u001b[0m\n\u001b[1;32m----> 1\u001b[1;33m \u001b[0mpts\u001b[0m \u001b[1;33m=\u001b[0m \u001b[0mnp\u001b[0m\u001b[1;33m.\u001b[0m\u001b[0mloadtxt\u001b[0m\u001b[1;33m(\u001b[0m\u001b[0mnp\u001b[0m\u001b[1;33m.\u001b[0m\u001b[0mDataSource\u001b[0m\u001b[1;33m(\u001b[0m\u001b[1;33m)\u001b[0m\u001b[1;33m.\u001b[0m\u001b[0mopen\u001b[0m\u001b[1;33m(\u001b[0m\u001b[1;34m'old_pop_no.csv'\u001b[0m\u001b[1;33m,\u001b[0m \u001b[0mencoding\u001b[0m\u001b[1;33m=\u001b[0m\u001b[1;34m'ISO-8859-1'\u001b[0m\u001b[1;33m)\u001b[0m\u001b[1;33m)\u001b[0m\u001b[1;33m\u001b[0m\u001b[1;33m\u001b[0m\u001b[0m\n\u001b[0m\u001b[0;32m      2\u001b[0m \u001b[0mx\u001b[0m\u001b[1;33m,\u001b[0m \u001b[0my\u001b[0m\u001b[1;33m,\u001b[0m \u001b[0mz\u001b[0m \u001b[1;33m=\u001b[0m \u001b[0mpts\u001b[0m\u001b[1;33m.\u001b[0m\u001b[0mT\u001b[0m\u001b[1;33m\u001b[0m\u001b[1;33m\u001b[0m\u001b[0m\n\u001b[0;32m      3\u001b[0m \u001b[1;33m\u001b[0m\u001b[0m\n\u001b[0;32m      4\u001b[0m fig = go.Figure(data=[go.Mesh3d(x=\"경찰관수\", y=\"검거합계\", z=\"발생합계\",\n\u001b[0;32m      5\u001b[0m                    \u001b[0malphahull\u001b[0m\u001b[1;33m=\u001b[0m\u001b[1;36m5\u001b[0m\u001b[1;33m,\u001b[0m\u001b[1;33m\u001b[0m\u001b[1;33m\u001b[0m\u001b[0m\n",
      "\u001b[1;32m~\\anaconda3\\lib\\site-packages\\numpy\\lib\\npyio.py\u001b[0m in \u001b[0;36mloadtxt\u001b[1;34m(fname, dtype, comments, delimiter, converters, skiprows, usecols, unpack, ndmin, encoding, max_rows, like)\u001b[0m\n\u001b[0;32m   1144\u001b[0m         \u001b[1;31m# converting the data\u001b[0m\u001b[1;33m\u001b[0m\u001b[1;33m\u001b[0m\u001b[1;33m\u001b[0m\u001b[0m\n\u001b[0;32m   1145\u001b[0m         \u001b[0mX\u001b[0m \u001b[1;33m=\u001b[0m \u001b[1;32mNone\u001b[0m\u001b[1;33m\u001b[0m\u001b[1;33m\u001b[0m\u001b[0m\n\u001b[1;32m-> 1146\u001b[1;33m         \u001b[1;32mfor\u001b[0m \u001b[0mx\u001b[0m \u001b[1;32min\u001b[0m \u001b[0mread_data\u001b[0m\u001b[1;33m(\u001b[0m\u001b[0m_loadtxt_chunksize\u001b[0m\u001b[1;33m)\u001b[0m\u001b[1;33m:\u001b[0m\u001b[1;33m\u001b[0m\u001b[1;33m\u001b[0m\u001b[0m\n\u001b[0m\u001b[0;32m   1147\u001b[0m             \u001b[1;32mif\u001b[0m \u001b[0mX\u001b[0m \u001b[1;32mis\u001b[0m \u001b[1;32mNone\u001b[0m\u001b[1;33m:\u001b[0m\u001b[1;33m\u001b[0m\u001b[1;33m\u001b[0m\u001b[0m\n\u001b[0;32m   1148\u001b[0m                 \u001b[0mX\u001b[0m \u001b[1;33m=\u001b[0m \u001b[0mnp\u001b[0m\u001b[1;33m.\u001b[0m\u001b[0marray\u001b[0m\u001b[1;33m(\u001b[0m\u001b[0mx\u001b[0m\u001b[1;33m,\u001b[0m \u001b[0mdtype\u001b[0m\u001b[1;33m)\u001b[0m\u001b[1;33m\u001b[0m\u001b[1;33m\u001b[0m\u001b[0m\n",
      "\u001b[1;32m~\\anaconda3\\lib\\site-packages\\numpy\\lib\\npyio.py\u001b[0m in \u001b[0;36mread_data\u001b[1;34m(chunk_size)\u001b[0m\n\u001b[0;32m    995\u001b[0m \u001b[1;33m\u001b[0m\u001b[0m\n\u001b[0;32m    996\u001b[0m             \u001b[1;31m# Convert each value according to its column and store\u001b[0m\u001b[1;33m\u001b[0m\u001b[1;33m\u001b[0m\u001b[1;33m\u001b[0m\u001b[0m\n\u001b[1;32m--> 997\u001b[1;33m             \u001b[0mitems\u001b[0m \u001b[1;33m=\u001b[0m \u001b[1;33m[\u001b[0m\u001b[0mconv\u001b[0m\u001b[1;33m(\u001b[0m\u001b[0mval\u001b[0m\u001b[1;33m)\u001b[0m \u001b[1;32mfor\u001b[0m \u001b[1;33m(\u001b[0m\u001b[0mconv\u001b[0m\u001b[1;33m,\u001b[0m \u001b[0mval\u001b[0m\u001b[1;33m)\u001b[0m \u001b[1;32min\u001b[0m \u001b[0mzip\u001b[0m\u001b[1;33m(\u001b[0m\u001b[0mconverters\u001b[0m\u001b[1;33m,\u001b[0m \u001b[0mvals\u001b[0m\u001b[1;33m)\u001b[0m\u001b[1;33m]\u001b[0m\u001b[1;33m\u001b[0m\u001b[1;33m\u001b[0m\u001b[0m\n\u001b[0m\u001b[0;32m    998\u001b[0m \u001b[1;33m\u001b[0m\u001b[0m\n\u001b[0;32m    999\u001b[0m             \u001b[1;31m# Then pack it according to the dtype's nesting\u001b[0m\u001b[1;33m\u001b[0m\u001b[1;33m\u001b[0m\u001b[1;33m\u001b[0m\u001b[0m\n",
      "\u001b[1;32m~\\anaconda3\\lib\\site-packages\\numpy\\lib\\npyio.py\u001b[0m in \u001b[0;36m<listcomp>\u001b[1;34m(.0)\u001b[0m\n\u001b[0;32m    995\u001b[0m \u001b[1;33m\u001b[0m\u001b[0m\n\u001b[0;32m    996\u001b[0m             \u001b[1;31m# Convert each value according to its column and store\u001b[0m\u001b[1;33m\u001b[0m\u001b[1;33m\u001b[0m\u001b[1;33m\u001b[0m\u001b[0m\n\u001b[1;32m--> 997\u001b[1;33m             \u001b[0mitems\u001b[0m \u001b[1;33m=\u001b[0m \u001b[1;33m[\u001b[0m\u001b[0mconv\u001b[0m\u001b[1;33m(\u001b[0m\u001b[0mval\u001b[0m\u001b[1;33m)\u001b[0m \u001b[1;32mfor\u001b[0m \u001b[1;33m(\u001b[0m\u001b[0mconv\u001b[0m\u001b[1;33m,\u001b[0m \u001b[0mval\u001b[0m\u001b[1;33m)\u001b[0m \u001b[1;32min\u001b[0m \u001b[0mzip\u001b[0m\u001b[1;33m(\u001b[0m\u001b[0mconverters\u001b[0m\u001b[1;33m,\u001b[0m \u001b[0mvals\u001b[0m\u001b[1;33m)\u001b[0m\u001b[1;33m]\u001b[0m\u001b[1;33m\u001b[0m\u001b[1;33m\u001b[0m\u001b[0m\n\u001b[0m\u001b[0;32m    998\u001b[0m \u001b[1;33m\u001b[0m\u001b[0m\n\u001b[0;32m    999\u001b[0m             \u001b[1;31m# Then pack it according to the dtype's nesting\u001b[0m\u001b[1;33m\u001b[0m\u001b[1;33m\u001b[0m\u001b[1;33m\u001b[0m\u001b[0m\n",
      "\u001b[1;32m~\\anaconda3\\lib\\site-packages\\numpy\\lib\\npyio.py\u001b[0m in \u001b[0;36mfloatconv\u001b[1;34m(x)\u001b[0m\n\u001b[0;32m    732\u001b[0m         \u001b[1;32mif\u001b[0m \u001b[1;34m'0x'\u001b[0m \u001b[1;32min\u001b[0m \u001b[0mx\u001b[0m\u001b[1;33m:\u001b[0m\u001b[1;33m\u001b[0m\u001b[1;33m\u001b[0m\u001b[0m\n\u001b[0;32m    733\u001b[0m             \u001b[1;32mreturn\u001b[0m \u001b[0mfloat\u001b[0m\u001b[1;33m.\u001b[0m\u001b[0mfromhex\u001b[0m\u001b[1;33m(\u001b[0m\u001b[0mx\u001b[0m\u001b[1;33m)\u001b[0m\u001b[1;33m\u001b[0m\u001b[1;33m\u001b[0m\u001b[0m\n\u001b[1;32m--> 734\u001b[1;33m         \u001b[1;32mreturn\u001b[0m \u001b[0mfloat\u001b[0m\u001b[1;33m(\u001b[0m\u001b[0mx\u001b[0m\u001b[1;33m)\u001b[0m\u001b[1;33m\u001b[0m\u001b[1;33m\u001b[0m\u001b[0m\n\u001b[0m\u001b[0;32m    735\u001b[0m \u001b[1;33m\u001b[0m\u001b[0m\n\u001b[0;32m    736\u001b[0m     \u001b[0mtyp\u001b[0m \u001b[1;33m=\u001b[0m \u001b[0mdtype\u001b[0m\u001b[1;33m.\u001b[0m\u001b[0mtype\u001b[0m\u001b[1;33m\u001b[0m\u001b[1;33m\u001b[0m\u001b[0m\n",
      "\u001b[1;31mValueError\u001b[0m: could not convert string to float: '0,ê°\\x95ë\\x82¨êµ?2018,1999,29.33333333,7512.333333,7.333333333,13,624.3333333,3034.666667,3833,5195.333333,7.666666667,13.33333333,527,1346.333333,3301,0.691617738,1.038095238,0.443703411,0.861245433,0.966666667,0.844214651,8,'"
     ]
    }
   ],
   "source": [
    "pts = np.loadtxt(np.DataSource().open('old_pop_no.csv', encoding='ISO-8859-1'))\n",
    "x, y, z = pts.T\n",
    "\n",
    "fig = go.Figure(data=[go.Mesh3d(x=\"경찰관수\", y=\"검거합계\", z=\"발생합계\",\n",
    "                   alphahull=5,\n",
    "                   opacity=0.4,\n",
    "                   color='cyan')])\n",
    "fig.show()"
   ]
  },
  {
   "cell_type": "code",
   "execution_count": 117,
   "id": "c8aa47a2",
   "metadata": {},
   "outputs": [
    {
     "data": {
      "application/vnd.plotly.v1+json": {
       "config": {
        "plotlyServerURL": "https://plot.ly"
       },
       "data": [
        {
         "hoverlabel": {
          "namelength": 0
         },
         "hovertemplate": "지역구=%{x}<br>검거합계=%{y}",
         "legendgroup": "",
         "marker": {
          "color": "#636efa",
          "symbol": "circle"
         },
         "mode": "markers",
         "name": "",
         "showlegend": false,
         "type": "scatter",
         "x": [
          "강남구",
          "강동구",
          "강북구",
          "강서구",
          "관악구",
          "광진구",
          "구로구",
          "금천구",
          "노원구",
          "도봉구",
          "동대문구",
          "동작구",
          "마포구",
          "서대문구",
          "서초구",
          "성동구",
          "성북구",
          "송파구",
          "양천구",
          "영등포구",
          "용산구",
          "은평구",
          "종로구",
          "중구",
          "중랑구"
         ],
         "xaxis": "x",
         "y": [
          5195.333333333333,
          2996.333333333333,
          2863.333333333333,
          3646.3333333333335,
          3872.3333333333335,
          2964.6666666666665,
          3345.6666666666665,
          2494,
          2912,
          1608.3333333333333,
          3020,
          2175.6666666666665,
          3412.6666666666665,
          2111.6666666666665,
          3390,
          1885.3333333333333,
          2359.6666666666665,
          3906.6666666666665,
          2414.333333333333,
          3907,
          2696.6666666666665,
          3023.333333333333,
          4155.666666666667,
          2778,
          3250.6666666666665
         ],
         "yaxis": "y"
        },
        {
         "alignmentgroup": "True",
         "hoverlabel": {
          "namelength": 0
         },
         "hovertemplate": "지역구=%{x}",
         "legendgroup": "",
         "marker": {
          "color": "#636efa",
          "symbol": "circle"
         },
         "name": "",
         "offsetgroup": "",
         "scalegroup": "x",
         "showlegend": false,
         "type": "violin",
         "x": [
          "강남구",
          "강동구",
          "강북구",
          "강서구",
          "관악구",
          "광진구",
          "구로구",
          "금천구",
          "노원구",
          "도봉구",
          "동대문구",
          "동작구",
          "마포구",
          "서대문구",
          "서초구",
          "성동구",
          "성북구",
          "송파구",
          "양천구",
          "영등포구",
          "용산구",
          "은평구",
          "종로구",
          "중구",
          "중랑구"
         ],
         "xaxis": "x3",
         "yaxis": "y3"
        },
        {
         "alignmentgroup": "True",
         "boxpoints": "all",
         "fillcolor": "rgba(255,255,255,0)",
         "hoverlabel": {
          "namelength": 0
         },
         "hoveron": "points",
         "hovertemplate": "검거합계=%{y}",
         "jitter": 0,
         "legendgroup": "",
         "line": {
          "color": "rgba(255,255,255,0)"
         },
         "marker": {
          "color": "#636efa",
          "symbol": "line-ew-open"
         },
         "name": "",
         "offsetgroup": "",
         "showlegend": false,
         "type": "box",
         "xaxis": "x2",
         "y": [
          5195.333333333333,
          2996.333333333333,
          2863.333333333333,
          3646.3333333333335,
          3872.3333333333335,
          2964.6666666666665,
          3345.6666666666665,
          2494,
          2912,
          1608.3333333333333,
          3020,
          2175.6666666666665,
          3412.6666666666665,
          2111.6666666666665,
          3390,
          1885.3333333333333,
          2359.6666666666665,
          3906.6666666666665,
          2414.333333333333,
          3907,
          2696.6666666666665,
          3023.333333333333,
          4155.666666666667,
          2778,
          3250.6666666666665
         ],
         "yaxis": "y2"
        }
       ],
       "layout": {
        "legend": {
         "tracegroupgap": 0
        },
        "margin": {
         "t": 60
        },
        "template": {
         "data": {
          "bar": [
           {
            "error_x": {
             "color": "#2a3f5f"
            },
            "error_y": {
             "color": "#2a3f5f"
            },
            "marker": {
             "line": {
              "color": "#E5ECF6",
              "width": 0.5
             }
            },
            "type": "bar"
           }
          ],
          "barpolar": [
           {
            "marker": {
             "line": {
              "color": "#E5ECF6",
              "width": 0.5
             }
            },
            "type": "barpolar"
           }
          ],
          "carpet": [
           {
            "aaxis": {
             "endlinecolor": "#2a3f5f",
             "gridcolor": "white",
             "linecolor": "white",
             "minorgridcolor": "white",
             "startlinecolor": "#2a3f5f"
            },
            "baxis": {
             "endlinecolor": "#2a3f5f",
             "gridcolor": "white",
             "linecolor": "white",
             "minorgridcolor": "white",
             "startlinecolor": "#2a3f5f"
            },
            "type": "carpet"
           }
          ],
          "choropleth": [
           {
            "colorbar": {
             "outlinewidth": 0,
             "ticks": ""
            },
            "type": "choropleth"
           }
          ],
          "contour": [
           {
            "colorbar": {
             "outlinewidth": 0,
             "ticks": ""
            },
            "colorscale": [
             [
              0,
              "#0d0887"
             ],
             [
              0.1111111111111111,
              "#46039f"
             ],
             [
              0.2222222222222222,
              "#7201a8"
             ],
             [
              0.3333333333333333,
              "#9c179e"
             ],
             [
              0.4444444444444444,
              "#bd3786"
             ],
             [
              0.5555555555555556,
              "#d8576b"
             ],
             [
              0.6666666666666666,
              "#ed7953"
             ],
             [
              0.7777777777777778,
              "#fb9f3a"
             ],
             [
              0.8888888888888888,
              "#fdca26"
             ],
             [
              1,
              "#f0f921"
             ]
            ],
            "type": "contour"
           }
          ],
          "contourcarpet": [
           {
            "colorbar": {
             "outlinewidth": 0,
             "ticks": ""
            },
            "type": "contourcarpet"
           }
          ],
          "heatmap": [
           {
            "colorbar": {
             "outlinewidth": 0,
             "ticks": ""
            },
            "colorscale": [
             [
              0,
              "#0d0887"
             ],
             [
              0.1111111111111111,
              "#46039f"
             ],
             [
              0.2222222222222222,
              "#7201a8"
             ],
             [
              0.3333333333333333,
              "#9c179e"
             ],
             [
              0.4444444444444444,
              "#bd3786"
             ],
             [
              0.5555555555555556,
              "#d8576b"
             ],
             [
              0.6666666666666666,
              "#ed7953"
             ],
             [
              0.7777777777777778,
              "#fb9f3a"
             ],
             [
              0.8888888888888888,
              "#fdca26"
             ],
             [
              1,
              "#f0f921"
             ]
            ],
            "type": "heatmap"
           }
          ],
          "heatmapgl": [
           {
            "colorbar": {
             "outlinewidth": 0,
             "ticks": ""
            },
            "colorscale": [
             [
              0,
              "#0d0887"
             ],
             [
              0.1111111111111111,
              "#46039f"
             ],
             [
              0.2222222222222222,
              "#7201a8"
             ],
             [
              0.3333333333333333,
              "#9c179e"
             ],
             [
              0.4444444444444444,
              "#bd3786"
             ],
             [
              0.5555555555555556,
              "#d8576b"
             ],
             [
              0.6666666666666666,
              "#ed7953"
             ],
             [
              0.7777777777777778,
              "#fb9f3a"
             ],
             [
              0.8888888888888888,
              "#fdca26"
             ],
             [
              1,
              "#f0f921"
             ]
            ],
            "type": "heatmapgl"
           }
          ],
          "histogram": [
           {
            "marker": {
             "colorbar": {
              "outlinewidth": 0,
              "ticks": ""
             }
            },
            "type": "histogram"
           }
          ],
          "histogram2d": [
           {
            "colorbar": {
             "outlinewidth": 0,
             "ticks": ""
            },
            "colorscale": [
             [
              0,
              "#0d0887"
             ],
             [
              0.1111111111111111,
              "#46039f"
             ],
             [
              0.2222222222222222,
              "#7201a8"
             ],
             [
              0.3333333333333333,
              "#9c179e"
             ],
             [
              0.4444444444444444,
              "#bd3786"
             ],
             [
              0.5555555555555556,
              "#d8576b"
             ],
             [
              0.6666666666666666,
              "#ed7953"
             ],
             [
              0.7777777777777778,
              "#fb9f3a"
             ],
             [
              0.8888888888888888,
              "#fdca26"
             ],
             [
              1,
              "#f0f921"
             ]
            ],
            "type": "histogram2d"
           }
          ],
          "histogram2dcontour": [
           {
            "colorbar": {
             "outlinewidth": 0,
             "ticks": ""
            },
            "colorscale": [
             [
              0,
              "#0d0887"
             ],
             [
              0.1111111111111111,
              "#46039f"
             ],
             [
              0.2222222222222222,
              "#7201a8"
             ],
             [
              0.3333333333333333,
              "#9c179e"
             ],
             [
              0.4444444444444444,
              "#bd3786"
             ],
             [
              0.5555555555555556,
              "#d8576b"
             ],
             [
              0.6666666666666666,
              "#ed7953"
             ],
             [
              0.7777777777777778,
              "#fb9f3a"
             ],
             [
              0.8888888888888888,
              "#fdca26"
             ],
             [
              1,
              "#f0f921"
             ]
            ],
            "type": "histogram2dcontour"
           }
          ],
          "mesh3d": [
           {
            "colorbar": {
             "outlinewidth": 0,
             "ticks": ""
            },
            "type": "mesh3d"
           }
          ],
          "parcoords": [
           {
            "line": {
             "colorbar": {
              "outlinewidth": 0,
              "ticks": ""
             }
            },
            "type": "parcoords"
           }
          ],
          "pie": [
           {
            "automargin": true,
            "type": "pie"
           }
          ],
          "scatter": [
           {
            "marker": {
             "colorbar": {
              "outlinewidth": 0,
              "ticks": ""
             }
            },
            "type": "scatter"
           }
          ],
          "scatter3d": [
           {
            "line": {
             "colorbar": {
              "outlinewidth": 0,
              "ticks": ""
             }
            },
            "marker": {
             "colorbar": {
              "outlinewidth": 0,
              "ticks": ""
             }
            },
            "type": "scatter3d"
           }
          ],
          "scattercarpet": [
           {
            "marker": {
             "colorbar": {
              "outlinewidth": 0,
              "ticks": ""
             }
            },
            "type": "scattercarpet"
           }
          ],
          "scattergeo": [
           {
            "marker": {
             "colorbar": {
              "outlinewidth": 0,
              "ticks": ""
             }
            },
            "type": "scattergeo"
           }
          ],
          "scattergl": [
           {
            "marker": {
             "colorbar": {
              "outlinewidth": 0,
              "ticks": ""
             }
            },
            "type": "scattergl"
           }
          ],
          "scattermapbox": [
           {
            "marker": {
             "colorbar": {
              "outlinewidth": 0,
              "ticks": ""
             }
            },
            "type": "scattermapbox"
           }
          ],
          "scatterpolar": [
           {
            "marker": {
             "colorbar": {
              "outlinewidth": 0,
              "ticks": ""
             }
            },
            "type": "scatterpolar"
           }
          ],
          "scatterpolargl": [
           {
            "marker": {
             "colorbar": {
              "outlinewidth": 0,
              "ticks": ""
             }
            },
            "type": "scatterpolargl"
           }
          ],
          "scatterternary": [
           {
            "marker": {
             "colorbar": {
              "outlinewidth": 0,
              "ticks": ""
             }
            },
            "type": "scatterternary"
           }
          ],
          "surface": [
           {
            "colorbar": {
             "outlinewidth": 0,
             "ticks": ""
            },
            "colorscale": [
             [
              0,
              "#0d0887"
             ],
             [
              0.1111111111111111,
              "#46039f"
             ],
             [
              0.2222222222222222,
              "#7201a8"
             ],
             [
              0.3333333333333333,
              "#9c179e"
             ],
             [
              0.4444444444444444,
              "#bd3786"
             ],
             [
              0.5555555555555556,
              "#d8576b"
             ],
             [
              0.6666666666666666,
              "#ed7953"
             ],
             [
              0.7777777777777778,
              "#fb9f3a"
             ],
             [
              0.8888888888888888,
              "#fdca26"
             ],
             [
              1,
              "#f0f921"
             ]
            ],
            "type": "surface"
           }
          ],
          "table": [
           {
            "cells": {
             "fill": {
              "color": "#EBF0F8"
             },
             "line": {
              "color": "white"
             }
            },
            "header": {
             "fill": {
              "color": "#C8D4E3"
             },
             "line": {
              "color": "white"
             }
            },
            "type": "table"
           }
          ]
         },
         "layout": {
          "annotationdefaults": {
           "arrowcolor": "#2a3f5f",
           "arrowhead": 0,
           "arrowwidth": 1
          },
          "coloraxis": {
           "colorbar": {
            "outlinewidth": 0,
            "ticks": ""
           }
          },
          "colorscale": {
           "diverging": [
            [
             0,
             "#8e0152"
            ],
            [
             0.1,
             "#c51b7d"
            ],
            [
             0.2,
             "#de77ae"
            ],
            [
             0.3,
             "#f1b6da"
            ],
            [
             0.4,
             "#fde0ef"
            ],
            [
             0.5,
             "#f7f7f7"
            ],
            [
             0.6,
             "#e6f5d0"
            ],
            [
             0.7,
             "#b8e186"
            ],
            [
             0.8,
             "#7fbc41"
            ],
            [
             0.9,
             "#4d9221"
            ],
            [
             1,
             "#276419"
            ]
           ],
           "sequential": [
            [
             0,
             "#0d0887"
            ],
            [
             0.1111111111111111,
             "#46039f"
            ],
            [
             0.2222222222222222,
             "#7201a8"
            ],
            [
             0.3333333333333333,
             "#9c179e"
            ],
            [
             0.4444444444444444,
             "#bd3786"
            ],
            [
             0.5555555555555556,
             "#d8576b"
            ],
            [
             0.6666666666666666,
             "#ed7953"
            ],
            [
             0.7777777777777778,
             "#fb9f3a"
            ],
            [
             0.8888888888888888,
             "#fdca26"
            ],
            [
             1,
             "#f0f921"
            ]
           ],
           "sequentialminus": [
            [
             0,
             "#0d0887"
            ],
            [
             0.1111111111111111,
             "#46039f"
            ],
            [
             0.2222222222222222,
             "#7201a8"
            ],
            [
             0.3333333333333333,
             "#9c179e"
            ],
            [
             0.4444444444444444,
             "#bd3786"
            ],
            [
             0.5555555555555556,
             "#d8576b"
            ],
            [
             0.6666666666666666,
             "#ed7953"
            ],
            [
             0.7777777777777778,
             "#fb9f3a"
            ],
            [
             0.8888888888888888,
             "#fdca26"
            ],
            [
             1,
             "#f0f921"
            ]
           ]
          },
          "colorway": [
           "#636efa",
           "#EF553B",
           "#00cc96",
           "#ab63fa",
           "#FFA15A",
           "#19d3f3",
           "#FF6692",
           "#B6E880",
           "#FF97FF",
           "#FECB52"
          ],
          "font": {
           "color": "#2a3f5f"
          },
          "geo": {
           "bgcolor": "white",
           "lakecolor": "white",
           "landcolor": "#E5ECF6",
           "showlakes": true,
           "showland": true,
           "subunitcolor": "white"
          },
          "hoverlabel": {
           "align": "left"
          },
          "hovermode": "closest",
          "mapbox": {
           "style": "light"
          },
          "paper_bgcolor": "white",
          "plot_bgcolor": "#E5ECF6",
          "polar": {
           "angularaxis": {
            "gridcolor": "white",
            "linecolor": "white",
            "ticks": ""
           },
           "bgcolor": "#E5ECF6",
           "radialaxis": {
            "gridcolor": "white",
            "linecolor": "white",
            "ticks": ""
           }
          },
          "scene": {
           "xaxis": {
            "backgroundcolor": "#E5ECF6",
            "gridcolor": "white",
            "gridwidth": 2,
            "linecolor": "white",
            "showbackground": true,
            "ticks": "",
            "zerolinecolor": "white"
           },
           "yaxis": {
            "backgroundcolor": "#E5ECF6",
            "gridcolor": "white",
            "gridwidth": 2,
            "linecolor": "white",
            "showbackground": true,
            "ticks": "",
            "zerolinecolor": "white"
           },
           "zaxis": {
            "backgroundcolor": "#E5ECF6",
            "gridcolor": "white",
            "gridwidth": 2,
            "linecolor": "white",
            "showbackground": true,
            "ticks": "",
            "zerolinecolor": "white"
           }
          },
          "shapedefaults": {
           "line": {
            "color": "#2a3f5f"
           }
          },
          "ternary": {
           "aaxis": {
            "gridcolor": "white",
            "linecolor": "white",
            "ticks": ""
           },
           "baxis": {
            "gridcolor": "white",
            "linecolor": "white",
            "ticks": ""
           },
           "bgcolor": "#E5ECF6",
           "caxis": {
            "gridcolor": "white",
            "linecolor": "white",
            "ticks": ""
           }
          },
          "title": {
           "x": 0.05
          },
          "xaxis": {
           "automargin": true,
           "gridcolor": "white",
           "linecolor": "white",
           "ticks": "",
           "title": {
            "standoff": 15
           },
           "zerolinecolor": "white",
           "zerolinewidth": 2
          },
          "yaxis": {
           "automargin": true,
           "gridcolor": "white",
           "linecolor": "white",
           "ticks": "",
           "title": {
            "standoff": 15
           },
           "zerolinecolor": "white",
           "zerolinewidth": 2
          }
         }
        },
        "xaxis": {
         "anchor": "y",
         "domain": [
          0,
          0.8358
         ],
         "title": {
          "text": "지역구"
         }
        },
        "xaxis2": {
         "anchor": "y2",
         "domain": [
          0.8408,
          1
         ],
         "matches": "x2",
         "showgrid": false,
         "showline": false,
         "showticklabels": false,
         "ticks": ""
        },
        "xaxis3": {
         "anchor": "y3",
         "domain": [
          0,
          0.8358
         ],
         "matches": "x",
         "showgrid": true,
         "showticklabels": false
        },
        "xaxis4": {
         "anchor": "y4",
         "domain": [
          0.8408,
          1
         ],
         "matches": "x2",
         "showgrid": false,
         "showline": false,
         "showticklabels": false,
         "ticks": ""
        },
        "yaxis": {
         "anchor": "x",
         "domain": [
          0,
          0.8316
         ],
         "title": {
          "text": "검거합계"
         }
        },
        "yaxis2": {
         "anchor": "x2",
         "domain": [
          0,
          0.8316
         ],
         "matches": "y",
         "showgrid": true,
         "showticklabels": false
        },
        "yaxis3": {
         "anchor": "x3",
         "domain": [
          0.8416,
          1
         ],
         "matches": "y3",
         "showgrid": false,
         "showline": false,
         "showticklabels": false,
         "ticks": ""
        },
        "yaxis4": {
         "anchor": "x4",
         "domain": [
          0.8416,
          1
         ],
         "matches": "y3",
         "showgrid": true,
         "showline": false,
         "showticklabels": false,
         "ticks": ""
        }
       }
      },
      "text/html": [
       "<div>\n",
       "        \n",
       "        \n",
       "            <div id=\"163c7a95-ff9a-478b-9d29-95f8ef981968\" class=\"plotly-graph-div\" style=\"height:525px; width:100%;\"></div>\n",
       "            <script type=\"text/javascript\">\n",
       "                require([\"plotly\"], function(Plotly) {\n",
       "                    window.PLOTLYENV=window.PLOTLYENV || {};\n",
       "                    \n",
       "                if (document.getElementById(\"163c7a95-ff9a-478b-9d29-95f8ef981968\")) {\n",
       "                    Plotly.newPlot(\n",
       "                        '163c7a95-ff9a-478b-9d29-95f8ef981968',\n",
       "                        [{\"hoverlabel\": {\"namelength\": 0}, \"hovertemplate\": \"\\uc9c0\\uc5ed\\uad6c=%{x}<br>\\uac80\\uac70\\ud569\\uacc4=%{y}\", \"legendgroup\": \"\", \"marker\": {\"color\": \"#636efa\", \"symbol\": \"circle\"}, \"mode\": \"markers\", \"name\": \"\", \"showlegend\": false, \"type\": \"scatter\", \"x\": [\"\\uac15\\ub0a8\\uad6c\", \"\\uac15\\ub3d9\\uad6c\", \"\\uac15\\ubd81\\uad6c\", \"\\uac15\\uc11c\\uad6c\", \"\\uad00\\uc545\\uad6c\", \"\\uad11\\uc9c4\\uad6c\", \"\\uad6c\\ub85c\\uad6c\", \"\\uae08\\ucc9c\\uad6c\", \"\\ub178\\uc6d0\\uad6c\", \"\\ub3c4\\ubd09\\uad6c\", \"\\ub3d9\\ub300\\ubb38\\uad6c\", \"\\ub3d9\\uc791\\uad6c\", \"\\ub9c8\\ud3ec\\uad6c\", \"\\uc11c\\ub300\\ubb38\\uad6c\", \"\\uc11c\\ucd08\\uad6c\", \"\\uc131\\ub3d9\\uad6c\", \"\\uc131\\ubd81\\uad6c\", \"\\uc1a1\\ud30c\\uad6c\", \"\\uc591\\ucc9c\\uad6c\", \"\\uc601\\ub4f1\\ud3ec\\uad6c\", \"\\uc6a9\\uc0b0\\uad6c\", \"\\uc740\\ud3c9\\uad6c\", \"\\uc885\\ub85c\\uad6c\", \"\\uc911\\uad6c\", \"\\uc911\\ub791\\uad6c\"], \"xaxis\": \"x\", \"y\": [5195.333333333333, 2996.333333333333, 2863.333333333333, 3646.3333333333335, 3872.3333333333335, 2964.6666666666665, 3345.6666666666665, 2494.0, 2912.0, 1608.3333333333333, 3020.0, 2175.6666666666665, 3412.6666666666665, 2111.6666666666665, 3390.0, 1885.3333333333333, 2359.6666666666665, 3906.6666666666665, 2414.333333333333, 3907.0, 2696.6666666666665, 3023.333333333333, 4155.666666666667, 2778.0, 3250.6666666666665], \"yaxis\": \"y\"}, {\"alignmentgroup\": \"True\", \"hoverlabel\": {\"namelength\": 0}, \"hovertemplate\": \"\\uc9c0\\uc5ed\\uad6c=%{x}\", \"legendgroup\": \"\", \"marker\": {\"color\": \"#636efa\", \"symbol\": \"circle\"}, \"name\": \"\", \"offsetgroup\": \"\", \"scalegroup\": \"x\", \"showlegend\": false, \"type\": \"violin\", \"x\": [\"\\uac15\\ub0a8\\uad6c\", \"\\uac15\\ub3d9\\uad6c\", \"\\uac15\\ubd81\\uad6c\", \"\\uac15\\uc11c\\uad6c\", \"\\uad00\\uc545\\uad6c\", \"\\uad11\\uc9c4\\uad6c\", \"\\uad6c\\ub85c\\uad6c\", \"\\uae08\\ucc9c\\uad6c\", \"\\ub178\\uc6d0\\uad6c\", \"\\ub3c4\\ubd09\\uad6c\", \"\\ub3d9\\ub300\\ubb38\\uad6c\", \"\\ub3d9\\uc791\\uad6c\", \"\\ub9c8\\ud3ec\\uad6c\", \"\\uc11c\\ub300\\ubb38\\uad6c\", \"\\uc11c\\ucd08\\uad6c\", \"\\uc131\\ub3d9\\uad6c\", \"\\uc131\\ubd81\\uad6c\", \"\\uc1a1\\ud30c\\uad6c\", \"\\uc591\\ucc9c\\uad6c\", \"\\uc601\\ub4f1\\ud3ec\\uad6c\", \"\\uc6a9\\uc0b0\\uad6c\", \"\\uc740\\ud3c9\\uad6c\", \"\\uc885\\ub85c\\uad6c\", \"\\uc911\\uad6c\", \"\\uc911\\ub791\\uad6c\"], \"xaxis\": \"x3\", \"yaxis\": \"y3\"}, {\"alignmentgroup\": \"True\", \"boxpoints\": \"all\", \"fillcolor\": \"rgba(255,255,255,0)\", \"hoverlabel\": {\"namelength\": 0}, \"hoveron\": \"points\", \"hovertemplate\": \"\\uac80\\uac70\\ud569\\uacc4=%{y}\", \"jitter\": 0, \"legendgroup\": \"\", \"line\": {\"color\": \"rgba(255,255,255,0)\"}, \"marker\": {\"color\": \"#636efa\", \"symbol\": \"line-ew-open\"}, \"name\": \"\", \"offsetgroup\": \"\", \"showlegend\": false, \"type\": \"box\", \"xaxis\": \"x2\", \"y\": [5195.333333333333, 2996.333333333333, 2863.333333333333, 3646.3333333333335, 3872.3333333333335, 2964.6666666666665, 3345.6666666666665, 2494.0, 2912.0, 1608.3333333333333, 3020.0, 2175.6666666666665, 3412.6666666666665, 2111.6666666666665, 3390.0, 1885.3333333333333, 2359.6666666666665, 3906.6666666666665, 2414.333333333333, 3907.0, 2696.6666666666665, 3023.333333333333, 4155.666666666667, 2778.0, 3250.6666666666665], \"yaxis\": \"y2\"}],\n",
       "                        {\"legend\": {\"tracegroupgap\": 0}, \"margin\": {\"t\": 60}, \"template\": {\"data\": {\"bar\": [{\"error_x\": {\"color\": \"#2a3f5f\"}, \"error_y\": {\"color\": \"#2a3f5f\"}, \"marker\": {\"line\": {\"color\": \"#E5ECF6\", \"width\": 0.5}}, \"type\": \"bar\"}], \"barpolar\": [{\"marker\": {\"line\": {\"color\": \"#E5ECF6\", \"width\": 0.5}}, \"type\": \"barpolar\"}], \"carpet\": [{\"aaxis\": {\"endlinecolor\": \"#2a3f5f\", \"gridcolor\": \"white\", \"linecolor\": \"white\", \"minorgridcolor\": \"white\", \"startlinecolor\": \"#2a3f5f\"}, \"baxis\": {\"endlinecolor\": \"#2a3f5f\", \"gridcolor\": \"white\", \"linecolor\": \"white\", \"minorgridcolor\": \"white\", \"startlinecolor\": \"#2a3f5f\"}, \"type\": \"carpet\"}], \"choropleth\": [{\"colorbar\": {\"outlinewidth\": 0, \"ticks\": \"\"}, \"type\": \"choropleth\"}], \"contour\": [{\"colorbar\": {\"outlinewidth\": 0, \"ticks\": \"\"}, \"colorscale\": [[0.0, \"#0d0887\"], [0.1111111111111111, \"#46039f\"], [0.2222222222222222, \"#7201a8\"], [0.3333333333333333, \"#9c179e\"], [0.4444444444444444, \"#bd3786\"], [0.5555555555555556, \"#d8576b\"], [0.6666666666666666, \"#ed7953\"], [0.7777777777777778, \"#fb9f3a\"], [0.8888888888888888, \"#fdca26\"], [1.0, \"#f0f921\"]], \"type\": \"contour\"}], \"contourcarpet\": [{\"colorbar\": {\"outlinewidth\": 0, \"ticks\": \"\"}, \"type\": \"contourcarpet\"}], \"heatmap\": [{\"colorbar\": {\"outlinewidth\": 0, \"ticks\": \"\"}, \"colorscale\": [[0.0, \"#0d0887\"], [0.1111111111111111, \"#46039f\"], [0.2222222222222222, \"#7201a8\"], [0.3333333333333333, \"#9c179e\"], [0.4444444444444444, \"#bd3786\"], [0.5555555555555556, \"#d8576b\"], [0.6666666666666666, \"#ed7953\"], [0.7777777777777778, \"#fb9f3a\"], [0.8888888888888888, \"#fdca26\"], [1.0, \"#f0f921\"]], \"type\": \"heatmap\"}], \"heatmapgl\": [{\"colorbar\": {\"outlinewidth\": 0, \"ticks\": \"\"}, \"colorscale\": [[0.0, \"#0d0887\"], [0.1111111111111111, \"#46039f\"], [0.2222222222222222, \"#7201a8\"], [0.3333333333333333, \"#9c179e\"], [0.4444444444444444, \"#bd3786\"], [0.5555555555555556, \"#d8576b\"], [0.6666666666666666, \"#ed7953\"], [0.7777777777777778, \"#fb9f3a\"], [0.8888888888888888, \"#fdca26\"], [1.0, \"#f0f921\"]], \"type\": \"heatmapgl\"}], \"histogram\": [{\"marker\": {\"colorbar\": {\"outlinewidth\": 0, \"ticks\": \"\"}}, \"type\": \"histogram\"}], \"histogram2d\": [{\"colorbar\": {\"outlinewidth\": 0, \"ticks\": \"\"}, \"colorscale\": [[0.0, \"#0d0887\"], [0.1111111111111111, \"#46039f\"], [0.2222222222222222, \"#7201a8\"], [0.3333333333333333, \"#9c179e\"], [0.4444444444444444, \"#bd3786\"], [0.5555555555555556, \"#d8576b\"], [0.6666666666666666, \"#ed7953\"], [0.7777777777777778, \"#fb9f3a\"], [0.8888888888888888, \"#fdca26\"], [1.0, \"#f0f921\"]], \"type\": \"histogram2d\"}], \"histogram2dcontour\": [{\"colorbar\": {\"outlinewidth\": 0, \"ticks\": \"\"}, \"colorscale\": [[0.0, \"#0d0887\"], [0.1111111111111111, \"#46039f\"], [0.2222222222222222, \"#7201a8\"], [0.3333333333333333, \"#9c179e\"], [0.4444444444444444, \"#bd3786\"], [0.5555555555555556, \"#d8576b\"], [0.6666666666666666, \"#ed7953\"], [0.7777777777777778, \"#fb9f3a\"], [0.8888888888888888, \"#fdca26\"], [1.0, \"#f0f921\"]], \"type\": \"histogram2dcontour\"}], \"mesh3d\": [{\"colorbar\": {\"outlinewidth\": 0, \"ticks\": \"\"}, \"type\": \"mesh3d\"}], \"parcoords\": [{\"line\": {\"colorbar\": {\"outlinewidth\": 0, \"ticks\": \"\"}}, \"type\": \"parcoords\"}], \"pie\": [{\"automargin\": true, \"type\": \"pie\"}], \"scatter\": [{\"marker\": {\"colorbar\": {\"outlinewidth\": 0, \"ticks\": \"\"}}, \"type\": \"scatter\"}], \"scatter3d\": [{\"line\": {\"colorbar\": {\"outlinewidth\": 0, \"ticks\": \"\"}}, \"marker\": {\"colorbar\": {\"outlinewidth\": 0, \"ticks\": \"\"}}, \"type\": \"scatter3d\"}], \"scattercarpet\": [{\"marker\": {\"colorbar\": {\"outlinewidth\": 0, \"ticks\": \"\"}}, \"type\": \"scattercarpet\"}], \"scattergeo\": [{\"marker\": {\"colorbar\": {\"outlinewidth\": 0, \"ticks\": \"\"}}, \"type\": \"scattergeo\"}], \"scattergl\": [{\"marker\": {\"colorbar\": {\"outlinewidth\": 0, \"ticks\": \"\"}}, \"type\": \"scattergl\"}], \"scattermapbox\": [{\"marker\": {\"colorbar\": {\"outlinewidth\": 0, \"ticks\": \"\"}}, \"type\": \"scattermapbox\"}], \"scatterpolar\": [{\"marker\": {\"colorbar\": {\"outlinewidth\": 0, \"ticks\": \"\"}}, \"type\": \"scatterpolar\"}], \"scatterpolargl\": [{\"marker\": {\"colorbar\": {\"outlinewidth\": 0, \"ticks\": \"\"}}, \"type\": \"scatterpolargl\"}], \"scatterternary\": [{\"marker\": {\"colorbar\": {\"outlinewidth\": 0, \"ticks\": \"\"}}, \"type\": \"scatterternary\"}], \"surface\": [{\"colorbar\": {\"outlinewidth\": 0, \"ticks\": \"\"}, \"colorscale\": [[0.0, \"#0d0887\"], [0.1111111111111111, \"#46039f\"], [0.2222222222222222, \"#7201a8\"], [0.3333333333333333, \"#9c179e\"], [0.4444444444444444, \"#bd3786\"], [0.5555555555555556, \"#d8576b\"], [0.6666666666666666, \"#ed7953\"], [0.7777777777777778, \"#fb9f3a\"], [0.8888888888888888, \"#fdca26\"], [1.0, \"#f0f921\"]], \"type\": \"surface\"}], \"table\": [{\"cells\": {\"fill\": {\"color\": \"#EBF0F8\"}, \"line\": {\"color\": \"white\"}}, \"header\": {\"fill\": {\"color\": \"#C8D4E3\"}, \"line\": {\"color\": \"white\"}}, \"type\": \"table\"}]}, \"layout\": {\"annotationdefaults\": {\"arrowcolor\": \"#2a3f5f\", \"arrowhead\": 0, \"arrowwidth\": 1}, \"coloraxis\": {\"colorbar\": {\"outlinewidth\": 0, \"ticks\": \"\"}}, \"colorscale\": {\"diverging\": [[0, \"#8e0152\"], [0.1, \"#c51b7d\"], [0.2, \"#de77ae\"], [0.3, \"#f1b6da\"], [0.4, \"#fde0ef\"], [0.5, \"#f7f7f7\"], [0.6, \"#e6f5d0\"], [0.7, \"#b8e186\"], [0.8, \"#7fbc41\"], [0.9, \"#4d9221\"], [1, \"#276419\"]], \"sequential\": [[0.0, \"#0d0887\"], [0.1111111111111111, \"#46039f\"], [0.2222222222222222, \"#7201a8\"], [0.3333333333333333, \"#9c179e\"], [0.4444444444444444, \"#bd3786\"], [0.5555555555555556, \"#d8576b\"], [0.6666666666666666, \"#ed7953\"], [0.7777777777777778, \"#fb9f3a\"], [0.8888888888888888, \"#fdca26\"], [1.0, \"#f0f921\"]], \"sequentialminus\": [[0.0, \"#0d0887\"], [0.1111111111111111, \"#46039f\"], [0.2222222222222222, \"#7201a8\"], [0.3333333333333333, \"#9c179e\"], [0.4444444444444444, \"#bd3786\"], [0.5555555555555556, \"#d8576b\"], [0.6666666666666666, \"#ed7953\"], [0.7777777777777778, \"#fb9f3a\"], [0.8888888888888888, \"#fdca26\"], [1.0, \"#f0f921\"]]}, \"colorway\": [\"#636efa\", \"#EF553B\", \"#00cc96\", \"#ab63fa\", \"#FFA15A\", \"#19d3f3\", \"#FF6692\", \"#B6E880\", \"#FF97FF\", \"#FECB52\"], \"font\": {\"color\": \"#2a3f5f\"}, \"geo\": {\"bgcolor\": \"white\", \"lakecolor\": \"white\", \"landcolor\": \"#E5ECF6\", \"showlakes\": true, \"showland\": true, \"subunitcolor\": \"white\"}, \"hoverlabel\": {\"align\": \"left\"}, \"hovermode\": \"closest\", \"mapbox\": {\"style\": \"light\"}, \"paper_bgcolor\": \"white\", \"plot_bgcolor\": \"#E5ECF6\", \"polar\": {\"angularaxis\": {\"gridcolor\": \"white\", \"linecolor\": \"white\", \"ticks\": \"\"}, \"bgcolor\": \"#E5ECF6\", \"radialaxis\": {\"gridcolor\": \"white\", \"linecolor\": \"white\", \"ticks\": \"\"}}, \"scene\": {\"xaxis\": {\"backgroundcolor\": \"#E5ECF6\", \"gridcolor\": \"white\", \"gridwidth\": 2, \"linecolor\": \"white\", \"showbackground\": true, \"ticks\": \"\", \"zerolinecolor\": \"white\"}, \"yaxis\": {\"backgroundcolor\": \"#E5ECF6\", \"gridcolor\": \"white\", \"gridwidth\": 2, \"linecolor\": \"white\", \"showbackground\": true, \"ticks\": \"\", \"zerolinecolor\": \"white\"}, \"zaxis\": {\"backgroundcolor\": \"#E5ECF6\", \"gridcolor\": \"white\", \"gridwidth\": 2, \"linecolor\": \"white\", \"showbackground\": true, \"ticks\": \"\", \"zerolinecolor\": \"white\"}}, \"shapedefaults\": {\"line\": {\"color\": \"#2a3f5f\"}}, \"ternary\": {\"aaxis\": {\"gridcolor\": \"white\", \"linecolor\": \"white\", \"ticks\": \"\"}, \"baxis\": {\"gridcolor\": \"white\", \"linecolor\": \"white\", \"ticks\": \"\"}, \"bgcolor\": \"#E5ECF6\", \"caxis\": {\"gridcolor\": \"white\", \"linecolor\": \"white\", \"ticks\": \"\"}}, \"title\": {\"x\": 0.05}, \"xaxis\": {\"automargin\": true, \"gridcolor\": \"white\", \"linecolor\": \"white\", \"ticks\": \"\", \"title\": {\"standoff\": 15}, \"zerolinecolor\": \"white\", \"zerolinewidth\": 2}, \"yaxis\": {\"automargin\": true, \"gridcolor\": \"white\", \"linecolor\": \"white\", \"ticks\": \"\", \"title\": {\"standoff\": 15}, \"zerolinecolor\": \"white\", \"zerolinewidth\": 2}}}, \"xaxis\": {\"anchor\": \"y\", \"domain\": [0.0, 0.8358], \"title\": {\"text\": \"\\uc9c0\\uc5ed\\uad6c\"}}, \"xaxis2\": {\"anchor\": \"y2\", \"domain\": [0.8408, 1.0], \"matches\": \"x2\", \"showgrid\": false, \"showline\": false, \"showticklabels\": false, \"ticks\": \"\"}, \"xaxis3\": {\"anchor\": \"y3\", \"domain\": [0.0, 0.8358], \"matches\": \"x\", \"showgrid\": true, \"showticklabels\": false}, \"xaxis4\": {\"anchor\": \"y4\", \"domain\": [0.8408, 1.0], \"matches\": \"x2\", \"showgrid\": false, \"showline\": false, \"showticklabels\": false, \"ticks\": \"\"}, \"yaxis\": {\"anchor\": \"x\", \"domain\": [0.0, 0.8316], \"title\": {\"text\": \"\\uac80\\uac70\\ud569\\uacc4\"}}, \"yaxis2\": {\"anchor\": \"x2\", \"domain\": [0.0, 0.8316], \"matches\": \"y\", \"showgrid\": true, \"showticklabels\": false}, \"yaxis3\": {\"anchor\": \"x3\", \"domain\": [0.8416, 1.0], \"matches\": \"y3\", \"showgrid\": false, \"showline\": false, \"showticklabels\": false, \"ticks\": \"\"}, \"yaxis4\": {\"anchor\": \"x4\", \"domain\": [0.8416, 1.0], \"matches\": \"y3\", \"showgrid\": true, \"showline\": false, \"showticklabels\": false, \"ticks\": \"\"}},\n",
       "                        {\"responsive\": true}\n",
       "                    ).then(function(){\n",
       "                            \n",
       "var gd = document.getElementById('163c7a95-ff9a-478b-9d29-95f8ef981968');\n",
       "var x = new MutationObserver(function (mutations, observer) {{\n",
       "        var display = window.getComputedStyle(gd).display;\n",
       "        if (!display || display === 'none') {{\n",
       "            console.log([gd, 'removed!']);\n",
       "            Plotly.purge(gd);\n",
       "            observer.disconnect();\n",
       "        }}\n",
       "}});\n",
       "\n",
       "// Listen for the removal of the full notebook cells\n",
       "var notebookContainer = gd.closest('#notebook-container');\n",
       "if (notebookContainer) {{\n",
       "    x.observe(notebookContainer, {childList: true});\n",
       "}}\n",
       "\n",
       "// Listen for the clearing of the current output cell\n",
       "var outputEl = gd.closest('.output');\n",
       "if (outputEl) {{\n",
       "    x.observe(outputEl, {childList: true});\n",
       "}}\n",
       "\n",
       "                        })\n",
       "                };\n",
       "                });\n",
       "            </script>\n",
       "        </div>"
      ]
     },
     "metadata": {},
     "output_type": "display_data"
    }
   ],
   "source": [
    "# marginal을 이용해서 jointplot 가능\n",
    "fig = px.scatter(old_pop, x=\"지역구\", y=\"검거합계\",\n",
    "                 marginal_x = \"violin\",\n",
    "                 marginal_y = \"rug\")\n",
    "\n",
    "fig.show()\n",
    "\n",
    "fig.write_html(\"1_10_3.html\")"
   ]
  },
  {
   "cell_type": "code",
   "execution_count": null,
   "id": "cfa43a79",
   "metadata": {},
   "outputs": [],
   "source": []
  },
  {
   "cell_type": "code",
   "execution_count": 118,
   "id": "fe232e3c",
   "metadata": {},
   "outputs": [
    {
     "data": {
      "application/vnd.plotly.v1+json": {
       "config": {
        "plotlyServerURL": "https://plot.ly"
       },
       "data": [
        {
         "hoverlabel": {
          "namelength": 0
         },
         "hovertemplate": "발생합계=%{x}<br>검거합계=%{y}",
         "legendgroup": "",
         "marker": {
          "color": "#636efa",
          "symbol": "circle"
         },
         "mode": "markers",
         "name": "",
         "showlegend": false,
         "type": "scatter",
         "x": [
          7512.333333333333,
          4064.6666666666665,
          3556,
          4896,
          5293,
          4190.666666666667,
          4804,
          3221,
          4123,
          2119.333333333333,
          3782.3333333333335,
          3276.6666666666665,
          5097.333333333333,
          2952.6666666666665,
          4992,
          2578.6666666666665,
          3117.6666666666665,
          5693.666666666667,
          3537,
          5876.333333333333,
          3594.6666666666665,
          3784.3333333333335,
          3864.3333333333335,
          4180.333333333333,
          4375.666666666667
         ],
         "xaxis": "x",
         "y": [
          5195.333333333333,
          2996.333333333333,
          2863.333333333333,
          3646.3333333333335,
          3872.3333333333335,
          2964.6666666666665,
          3345.6666666666665,
          2494,
          2912,
          1608.3333333333333,
          3020,
          2175.6666666666665,
          3412.6666666666665,
          2111.6666666666665,
          3390,
          1885.3333333333333,
          2359.6666666666665,
          3906.6666666666665,
          2414.333333333333,
          3907,
          2696.6666666666665,
          3023.333333333333,
          4155.666666666667,
          2778,
          3250.6666666666665
         ],
         "yaxis": "y"
        },
        {
         "alignmentgroup": "True",
         "hoverlabel": {
          "namelength": 0
         },
         "hovertemplate": "발생합계=%{x}",
         "legendgroup": "",
         "marker": {
          "color": "#636efa",
          "symbol": "circle"
         },
         "name": "",
         "offsetgroup": "",
         "scalegroup": "x",
         "showlegend": false,
         "type": "violin",
         "x": [
          7512.333333333333,
          4064.6666666666665,
          3556,
          4896,
          5293,
          4190.666666666667,
          4804,
          3221,
          4123,
          2119.333333333333,
          3782.3333333333335,
          3276.6666666666665,
          5097.333333333333,
          2952.6666666666665,
          4992,
          2578.6666666666665,
          3117.6666666666665,
          5693.666666666667,
          3537,
          5876.333333333333,
          3594.6666666666665,
          3784.3333333333335,
          3864.3333333333335,
          4180.333333333333,
          4375.666666666667
         ],
         "xaxis": "x3",
         "yaxis": "y3"
        },
        {
         "alignmentgroup": "True",
         "boxpoints": "all",
         "fillcolor": "rgba(255,255,255,0)",
         "hoverlabel": {
          "namelength": 0
         },
         "hoveron": "points",
         "hovertemplate": "검거합계=%{y}",
         "jitter": 0,
         "legendgroup": "",
         "line": {
          "color": "rgba(255,255,255,0)"
         },
         "marker": {
          "color": "#636efa",
          "symbol": "line-ew-open"
         },
         "name": "",
         "offsetgroup": "",
         "showlegend": false,
         "type": "box",
         "xaxis": "x2",
         "y": [
          5195.333333333333,
          2996.333333333333,
          2863.333333333333,
          3646.3333333333335,
          3872.3333333333335,
          2964.6666666666665,
          3345.6666666666665,
          2494,
          2912,
          1608.3333333333333,
          3020,
          2175.6666666666665,
          3412.6666666666665,
          2111.6666666666665,
          3390,
          1885.3333333333333,
          2359.6666666666665,
          3906.6666666666665,
          2414.333333333333,
          3907,
          2696.6666666666665,
          3023.333333333333,
          4155.666666666667,
          2778,
          3250.6666666666665
         ],
         "yaxis": "y2"
        }
       ],
       "layout": {
        "legend": {
         "tracegroupgap": 0
        },
        "margin": {
         "t": 60
        },
        "template": {
         "data": {
          "bar": [
           {
            "error_x": {
             "color": "#2a3f5f"
            },
            "error_y": {
             "color": "#2a3f5f"
            },
            "marker": {
             "line": {
              "color": "#E5ECF6",
              "width": 0.5
             }
            },
            "type": "bar"
           }
          ],
          "barpolar": [
           {
            "marker": {
             "line": {
              "color": "#E5ECF6",
              "width": 0.5
             }
            },
            "type": "barpolar"
           }
          ],
          "carpet": [
           {
            "aaxis": {
             "endlinecolor": "#2a3f5f",
             "gridcolor": "white",
             "linecolor": "white",
             "minorgridcolor": "white",
             "startlinecolor": "#2a3f5f"
            },
            "baxis": {
             "endlinecolor": "#2a3f5f",
             "gridcolor": "white",
             "linecolor": "white",
             "minorgridcolor": "white",
             "startlinecolor": "#2a3f5f"
            },
            "type": "carpet"
           }
          ],
          "choropleth": [
           {
            "colorbar": {
             "outlinewidth": 0,
             "ticks": ""
            },
            "type": "choropleth"
           }
          ],
          "contour": [
           {
            "colorbar": {
             "outlinewidth": 0,
             "ticks": ""
            },
            "colorscale": [
             [
              0,
              "#0d0887"
             ],
             [
              0.1111111111111111,
              "#46039f"
             ],
             [
              0.2222222222222222,
              "#7201a8"
             ],
             [
              0.3333333333333333,
              "#9c179e"
             ],
             [
              0.4444444444444444,
              "#bd3786"
             ],
             [
              0.5555555555555556,
              "#d8576b"
             ],
             [
              0.6666666666666666,
              "#ed7953"
             ],
             [
              0.7777777777777778,
              "#fb9f3a"
             ],
             [
              0.8888888888888888,
              "#fdca26"
             ],
             [
              1,
              "#f0f921"
             ]
            ],
            "type": "contour"
           }
          ],
          "contourcarpet": [
           {
            "colorbar": {
             "outlinewidth": 0,
             "ticks": ""
            },
            "type": "contourcarpet"
           }
          ],
          "heatmap": [
           {
            "colorbar": {
             "outlinewidth": 0,
             "ticks": ""
            },
            "colorscale": [
             [
              0,
              "#0d0887"
             ],
             [
              0.1111111111111111,
              "#46039f"
             ],
             [
              0.2222222222222222,
              "#7201a8"
             ],
             [
              0.3333333333333333,
              "#9c179e"
             ],
             [
              0.4444444444444444,
              "#bd3786"
             ],
             [
              0.5555555555555556,
              "#d8576b"
             ],
             [
              0.6666666666666666,
              "#ed7953"
             ],
             [
              0.7777777777777778,
              "#fb9f3a"
             ],
             [
              0.8888888888888888,
              "#fdca26"
             ],
             [
              1,
              "#f0f921"
             ]
            ],
            "type": "heatmap"
           }
          ],
          "heatmapgl": [
           {
            "colorbar": {
             "outlinewidth": 0,
             "ticks": ""
            },
            "colorscale": [
             [
              0,
              "#0d0887"
             ],
             [
              0.1111111111111111,
              "#46039f"
             ],
             [
              0.2222222222222222,
              "#7201a8"
             ],
             [
              0.3333333333333333,
              "#9c179e"
             ],
             [
              0.4444444444444444,
              "#bd3786"
             ],
             [
              0.5555555555555556,
              "#d8576b"
             ],
             [
              0.6666666666666666,
              "#ed7953"
             ],
             [
              0.7777777777777778,
              "#fb9f3a"
             ],
             [
              0.8888888888888888,
              "#fdca26"
             ],
             [
              1,
              "#f0f921"
             ]
            ],
            "type": "heatmapgl"
           }
          ],
          "histogram": [
           {
            "marker": {
             "colorbar": {
              "outlinewidth": 0,
              "ticks": ""
             }
            },
            "type": "histogram"
           }
          ],
          "histogram2d": [
           {
            "colorbar": {
             "outlinewidth": 0,
             "ticks": ""
            },
            "colorscale": [
             [
              0,
              "#0d0887"
             ],
             [
              0.1111111111111111,
              "#46039f"
             ],
             [
              0.2222222222222222,
              "#7201a8"
             ],
             [
              0.3333333333333333,
              "#9c179e"
             ],
             [
              0.4444444444444444,
              "#bd3786"
             ],
             [
              0.5555555555555556,
              "#d8576b"
             ],
             [
              0.6666666666666666,
              "#ed7953"
             ],
             [
              0.7777777777777778,
              "#fb9f3a"
             ],
             [
              0.8888888888888888,
              "#fdca26"
             ],
             [
              1,
              "#f0f921"
             ]
            ],
            "type": "histogram2d"
           }
          ],
          "histogram2dcontour": [
           {
            "colorbar": {
             "outlinewidth": 0,
             "ticks": ""
            },
            "colorscale": [
             [
              0,
              "#0d0887"
             ],
             [
              0.1111111111111111,
              "#46039f"
             ],
             [
              0.2222222222222222,
              "#7201a8"
             ],
             [
              0.3333333333333333,
              "#9c179e"
             ],
             [
              0.4444444444444444,
              "#bd3786"
             ],
             [
              0.5555555555555556,
              "#d8576b"
             ],
             [
              0.6666666666666666,
              "#ed7953"
             ],
             [
              0.7777777777777778,
              "#fb9f3a"
             ],
             [
              0.8888888888888888,
              "#fdca26"
             ],
             [
              1,
              "#f0f921"
             ]
            ],
            "type": "histogram2dcontour"
           }
          ],
          "mesh3d": [
           {
            "colorbar": {
             "outlinewidth": 0,
             "ticks": ""
            },
            "type": "mesh3d"
           }
          ],
          "parcoords": [
           {
            "line": {
             "colorbar": {
              "outlinewidth": 0,
              "ticks": ""
             }
            },
            "type": "parcoords"
           }
          ],
          "pie": [
           {
            "automargin": true,
            "type": "pie"
           }
          ],
          "scatter": [
           {
            "marker": {
             "colorbar": {
              "outlinewidth": 0,
              "ticks": ""
             }
            },
            "type": "scatter"
           }
          ],
          "scatter3d": [
           {
            "line": {
             "colorbar": {
              "outlinewidth": 0,
              "ticks": ""
             }
            },
            "marker": {
             "colorbar": {
              "outlinewidth": 0,
              "ticks": ""
             }
            },
            "type": "scatter3d"
           }
          ],
          "scattercarpet": [
           {
            "marker": {
             "colorbar": {
              "outlinewidth": 0,
              "ticks": ""
             }
            },
            "type": "scattercarpet"
           }
          ],
          "scattergeo": [
           {
            "marker": {
             "colorbar": {
              "outlinewidth": 0,
              "ticks": ""
             }
            },
            "type": "scattergeo"
           }
          ],
          "scattergl": [
           {
            "marker": {
             "colorbar": {
              "outlinewidth": 0,
              "ticks": ""
             }
            },
            "type": "scattergl"
           }
          ],
          "scattermapbox": [
           {
            "marker": {
             "colorbar": {
              "outlinewidth": 0,
              "ticks": ""
             }
            },
            "type": "scattermapbox"
           }
          ],
          "scatterpolar": [
           {
            "marker": {
             "colorbar": {
              "outlinewidth": 0,
              "ticks": ""
             }
            },
            "type": "scatterpolar"
           }
          ],
          "scatterpolargl": [
           {
            "marker": {
             "colorbar": {
              "outlinewidth": 0,
              "ticks": ""
             }
            },
            "type": "scatterpolargl"
           }
          ],
          "scatterternary": [
           {
            "marker": {
             "colorbar": {
              "outlinewidth": 0,
              "ticks": ""
             }
            },
            "type": "scatterternary"
           }
          ],
          "surface": [
           {
            "colorbar": {
             "outlinewidth": 0,
             "ticks": ""
            },
            "colorscale": [
             [
              0,
              "#0d0887"
             ],
             [
              0.1111111111111111,
              "#46039f"
             ],
             [
              0.2222222222222222,
              "#7201a8"
             ],
             [
              0.3333333333333333,
              "#9c179e"
             ],
             [
              0.4444444444444444,
              "#bd3786"
             ],
             [
              0.5555555555555556,
              "#d8576b"
             ],
             [
              0.6666666666666666,
              "#ed7953"
             ],
             [
              0.7777777777777778,
              "#fb9f3a"
             ],
             [
              0.8888888888888888,
              "#fdca26"
             ],
             [
              1,
              "#f0f921"
             ]
            ],
            "type": "surface"
           }
          ],
          "table": [
           {
            "cells": {
             "fill": {
              "color": "#EBF0F8"
             },
             "line": {
              "color": "white"
             }
            },
            "header": {
             "fill": {
              "color": "#C8D4E3"
             },
             "line": {
              "color": "white"
             }
            },
            "type": "table"
           }
          ]
         },
         "layout": {
          "annotationdefaults": {
           "arrowcolor": "#2a3f5f",
           "arrowhead": 0,
           "arrowwidth": 1
          },
          "coloraxis": {
           "colorbar": {
            "outlinewidth": 0,
            "ticks": ""
           }
          },
          "colorscale": {
           "diverging": [
            [
             0,
             "#8e0152"
            ],
            [
             0.1,
             "#c51b7d"
            ],
            [
             0.2,
             "#de77ae"
            ],
            [
             0.3,
             "#f1b6da"
            ],
            [
             0.4,
             "#fde0ef"
            ],
            [
             0.5,
             "#f7f7f7"
            ],
            [
             0.6,
             "#e6f5d0"
            ],
            [
             0.7,
             "#b8e186"
            ],
            [
             0.8,
             "#7fbc41"
            ],
            [
             0.9,
             "#4d9221"
            ],
            [
             1,
             "#276419"
            ]
           ],
           "sequential": [
            [
             0,
             "#0d0887"
            ],
            [
             0.1111111111111111,
             "#46039f"
            ],
            [
             0.2222222222222222,
             "#7201a8"
            ],
            [
             0.3333333333333333,
             "#9c179e"
            ],
            [
             0.4444444444444444,
             "#bd3786"
            ],
            [
             0.5555555555555556,
             "#d8576b"
            ],
            [
             0.6666666666666666,
             "#ed7953"
            ],
            [
             0.7777777777777778,
             "#fb9f3a"
            ],
            [
             0.8888888888888888,
             "#fdca26"
            ],
            [
             1,
             "#f0f921"
            ]
           ],
           "sequentialminus": [
            [
             0,
             "#0d0887"
            ],
            [
             0.1111111111111111,
             "#46039f"
            ],
            [
             0.2222222222222222,
             "#7201a8"
            ],
            [
             0.3333333333333333,
             "#9c179e"
            ],
            [
             0.4444444444444444,
             "#bd3786"
            ],
            [
             0.5555555555555556,
             "#d8576b"
            ],
            [
             0.6666666666666666,
             "#ed7953"
            ],
            [
             0.7777777777777778,
             "#fb9f3a"
            ],
            [
             0.8888888888888888,
             "#fdca26"
            ],
            [
             1,
             "#f0f921"
            ]
           ]
          },
          "colorway": [
           "#636efa",
           "#EF553B",
           "#00cc96",
           "#ab63fa",
           "#FFA15A",
           "#19d3f3",
           "#FF6692",
           "#B6E880",
           "#FF97FF",
           "#FECB52"
          ],
          "font": {
           "color": "#2a3f5f"
          },
          "geo": {
           "bgcolor": "white",
           "lakecolor": "white",
           "landcolor": "#E5ECF6",
           "showlakes": true,
           "showland": true,
           "subunitcolor": "white"
          },
          "hoverlabel": {
           "align": "left"
          },
          "hovermode": "closest",
          "mapbox": {
           "style": "light"
          },
          "paper_bgcolor": "white",
          "plot_bgcolor": "#E5ECF6",
          "polar": {
           "angularaxis": {
            "gridcolor": "white",
            "linecolor": "white",
            "ticks": ""
           },
           "bgcolor": "#E5ECF6",
           "radialaxis": {
            "gridcolor": "white",
            "linecolor": "white",
            "ticks": ""
           }
          },
          "scene": {
           "xaxis": {
            "backgroundcolor": "#E5ECF6",
            "gridcolor": "white",
            "gridwidth": 2,
            "linecolor": "white",
            "showbackground": true,
            "ticks": "",
            "zerolinecolor": "white"
           },
           "yaxis": {
            "backgroundcolor": "#E5ECF6",
            "gridcolor": "white",
            "gridwidth": 2,
            "linecolor": "white",
            "showbackground": true,
            "ticks": "",
            "zerolinecolor": "white"
           },
           "zaxis": {
            "backgroundcolor": "#E5ECF6",
            "gridcolor": "white",
            "gridwidth": 2,
            "linecolor": "white",
            "showbackground": true,
            "ticks": "",
            "zerolinecolor": "white"
           }
          },
          "shapedefaults": {
           "line": {
            "color": "#2a3f5f"
           }
          },
          "ternary": {
           "aaxis": {
            "gridcolor": "white",
            "linecolor": "white",
            "ticks": ""
           },
           "baxis": {
            "gridcolor": "white",
            "linecolor": "white",
            "ticks": ""
           },
           "bgcolor": "#E5ECF6",
           "caxis": {
            "gridcolor": "white",
            "linecolor": "white",
            "ticks": ""
           }
          },
          "title": {
           "x": 0.05
          },
          "xaxis": {
           "automargin": true,
           "gridcolor": "white",
           "linecolor": "white",
           "ticks": "",
           "title": {
            "standoff": 15
           },
           "zerolinecolor": "white",
           "zerolinewidth": 2
          },
          "yaxis": {
           "automargin": true,
           "gridcolor": "white",
           "linecolor": "white",
           "ticks": "",
           "title": {
            "standoff": 15
           },
           "zerolinecolor": "white",
           "zerolinewidth": 2
          }
         }
        },
        "xaxis": {
         "anchor": "y",
         "domain": [
          0,
          0.8358
         ],
         "title": {
          "text": "발생합계"
         }
        },
        "xaxis2": {
         "anchor": "y2",
         "domain": [
          0.8408,
          1
         ],
         "matches": "x2",
         "showgrid": false,
         "showline": false,
         "showticklabels": false,
         "ticks": ""
        },
        "xaxis3": {
         "anchor": "y3",
         "domain": [
          0,
          0.8358
         ],
         "matches": "x",
         "showgrid": true,
         "showticklabels": false
        },
        "xaxis4": {
         "anchor": "y4",
         "domain": [
          0.8408,
          1
         ],
         "matches": "x2",
         "showgrid": false,
         "showline": false,
         "showticklabels": false,
         "ticks": ""
        },
        "yaxis": {
         "anchor": "x",
         "domain": [
          0,
          0.8316
         ],
         "title": {
          "text": "검거합계"
         }
        },
        "yaxis2": {
         "anchor": "x2",
         "domain": [
          0,
          0.8316
         ],
         "matches": "y",
         "showgrid": true,
         "showticklabels": false
        },
        "yaxis3": {
         "anchor": "x3",
         "domain": [
          0.8416,
          1
         ],
         "matches": "y3",
         "showgrid": false,
         "showline": false,
         "showticklabels": false,
         "ticks": ""
        },
        "yaxis4": {
         "anchor": "x4",
         "domain": [
          0.8416,
          1
         ],
         "matches": "y3",
         "showgrid": true,
         "showline": false,
         "showticklabels": false,
         "ticks": ""
        }
       }
      },
      "text/html": [
       "<div>\n",
       "        \n",
       "        \n",
       "            <div id=\"5def79d6-bdc7-45d8-b393-eedf28727690\" class=\"plotly-graph-div\" style=\"height:525px; width:100%;\"></div>\n",
       "            <script type=\"text/javascript\">\n",
       "                require([\"plotly\"], function(Plotly) {\n",
       "                    window.PLOTLYENV=window.PLOTLYENV || {};\n",
       "                    \n",
       "                if (document.getElementById(\"5def79d6-bdc7-45d8-b393-eedf28727690\")) {\n",
       "                    Plotly.newPlot(\n",
       "                        '5def79d6-bdc7-45d8-b393-eedf28727690',\n",
       "                        [{\"hoverlabel\": {\"namelength\": 0}, \"hovertemplate\": \"\\ubc1c\\uc0dd\\ud569\\uacc4=%{x}<br>\\uac80\\uac70\\ud569\\uacc4=%{y}\", \"legendgroup\": \"\", \"marker\": {\"color\": \"#636efa\", \"symbol\": \"circle\"}, \"mode\": \"markers\", \"name\": \"\", \"showlegend\": false, \"type\": \"scatter\", \"x\": [7512.333333333333, 4064.6666666666665, 3556.0, 4896.0, 5293.0, 4190.666666666667, 4804.0, 3221.0, 4123.0, 2119.333333333333, 3782.3333333333335, 3276.6666666666665, 5097.333333333333, 2952.6666666666665, 4992.0, 2578.6666666666665, 3117.6666666666665, 5693.666666666667, 3537.0, 5876.333333333333, 3594.6666666666665, 3784.3333333333335, 3864.3333333333335, 4180.333333333333, 4375.666666666667], \"xaxis\": \"x\", \"y\": [5195.333333333333, 2996.333333333333, 2863.333333333333, 3646.3333333333335, 3872.3333333333335, 2964.6666666666665, 3345.6666666666665, 2494.0, 2912.0, 1608.3333333333333, 3020.0, 2175.6666666666665, 3412.6666666666665, 2111.6666666666665, 3390.0, 1885.3333333333333, 2359.6666666666665, 3906.6666666666665, 2414.333333333333, 3907.0, 2696.6666666666665, 3023.333333333333, 4155.666666666667, 2778.0, 3250.6666666666665], \"yaxis\": \"y\"}, {\"alignmentgroup\": \"True\", \"hoverlabel\": {\"namelength\": 0}, \"hovertemplate\": \"\\ubc1c\\uc0dd\\ud569\\uacc4=%{x}\", \"legendgroup\": \"\", \"marker\": {\"color\": \"#636efa\", \"symbol\": \"circle\"}, \"name\": \"\", \"offsetgroup\": \"\", \"scalegroup\": \"x\", \"showlegend\": false, \"type\": \"violin\", \"x\": [7512.333333333333, 4064.6666666666665, 3556.0, 4896.0, 5293.0, 4190.666666666667, 4804.0, 3221.0, 4123.0, 2119.333333333333, 3782.3333333333335, 3276.6666666666665, 5097.333333333333, 2952.6666666666665, 4992.0, 2578.6666666666665, 3117.6666666666665, 5693.666666666667, 3537.0, 5876.333333333333, 3594.6666666666665, 3784.3333333333335, 3864.3333333333335, 4180.333333333333, 4375.666666666667], \"xaxis\": \"x3\", \"yaxis\": \"y3\"}, {\"alignmentgroup\": \"True\", \"boxpoints\": \"all\", \"fillcolor\": \"rgba(255,255,255,0)\", \"hoverlabel\": {\"namelength\": 0}, \"hoveron\": \"points\", \"hovertemplate\": \"\\uac80\\uac70\\ud569\\uacc4=%{y}\", \"jitter\": 0, \"legendgroup\": \"\", \"line\": {\"color\": \"rgba(255,255,255,0)\"}, \"marker\": {\"color\": \"#636efa\", \"symbol\": \"line-ew-open\"}, \"name\": \"\", \"offsetgroup\": \"\", \"showlegend\": false, \"type\": \"box\", \"xaxis\": \"x2\", \"y\": [5195.333333333333, 2996.333333333333, 2863.333333333333, 3646.3333333333335, 3872.3333333333335, 2964.6666666666665, 3345.6666666666665, 2494.0, 2912.0, 1608.3333333333333, 3020.0, 2175.6666666666665, 3412.6666666666665, 2111.6666666666665, 3390.0, 1885.3333333333333, 2359.6666666666665, 3906.6666666666665, 2414.333333333333, 3907.0, 2696.6666666666665, 3023.333333333333, 4155.666666666667, 2778.0, 3250.6666666666665], \"yaxis\": \"y2\"}],\n",
       "                        {\"legend\": {\"tracegroupgap\": 0}, \"margin\": {\"t\": 60}, \"template\": {\"data\": {\"bar\": [{\"error_x\": {\"color\": \"#2a3f5f\"}, \"error_y\": {\"color\": \"#2a3f5f\"}, \"marker\": {\"line\": {\"color\": \"#E5ECF6\", \"width\": 0.5}}, \"type\": \"bar\"}], \"barpolar\": [{\"marker\": {\"line\": {\"color\": \"#E5ECF6\", \"width\": 0.5}}, \"type\": \"barpolar\"}], \"carpet\": [{\"aaxis\": {\"endlinecolor\": \"#2a3f5f\", \"gridcolor\": \"white\", \"linecolor\": \"white\", \"minorgridcolor\": \"white\", \"startlinecolor\": \"#2a3f5f\"}, \"baxis\": {\"endlinecolor\": \"#2a3f5f\", \"gridcolor\": \"white\", \"linecolor\": \"white\", \"minorgridcolor\": \"white\", \"startlinecolor\": \"#2a3f5f\"}, \"type\": \"carpet\"}], \"choropleth\": [{\"colorbar\": {\"outlinewidth\": 0, \"ticks\": \"\"}, \"type\": \"choropleth\"}], \"contour\": [{\"colorbar\": {\"outlinewidth\": 0, \"ticks\": \"\"}, \"colorscale\": [[0.0, \"#0d0887\"], [0.1111111111111111, \"#46039f\"], [0.2222222222222222, \"#7201a8\"], [0.3333333333333333, \"#9c179e\"], [0.4444444444444444, \"#bd3786\"], [0.5555555555555556, \"#d8576b\"], [0.6666666666666666, \"#ed7953\"], [0.7777777777777778, \"#fb9f3a\"], [0.8888888888888888, \"#fdca26\"], [1.0, \"#f0f921\"]], \"type\": \"contour\"}], \"contourcarpet\": [{\"colorbar\": {\"outlinewidth\": 0, \"ticks\": \"\"}, \"type\": \"contourcarpet\"}], \"heatmap\": [{\"colorbar\": {\"outlinewidth\": 0, \"ticks\": \"\"}, \"colorscale\": [[0.0, \"#0d0887\"], [0.1111111111111111, \"#46039f\"], [0.2222222222222222, \"#7201a8\"], [0.3333333333333333, \"#9c179e\"], [0.4444444444444444, \"#bd3786\"], [0.5555555555555556, \"#d8576b\"], [0.6666666666666666, \"#ed7953\"], [0.7777777777777778, \"#fb9f3a\"], [0.8888888888888888, \"#fdca26\"], [1.0, \"#f0f921\"]], \"type\": \"heatmap\"}], \"heatmapgl\": [{\"colorbar\": {\"outlinewidth\": 0, \"ticks\": \"\"}, \"colorscale\": [[0.0, \"#0d0887\"], [0.1111111111111111, \"#46039f\"], [0.2222222222222222, \"#7201a8\"], [0.3333333333333333, \"#9c179e\"], [0.4444444444444444, \"#bd3786\"], [0.5555555555555556, \"#d8576b\"], [0.6666666666666666, \"#ed7953\"], [0.7777777777777778, \"#fb9f3a\"], [0.8888888888888888, \"#fdca26\"], [1.0, \"#f0f921\"]], \"type\": \"heatmapgl\"}], \"histogram\": [{\"marker\": {\"colorbar\": {\"outlinewidth\": 0, \"ticks\": \"\"}}, \"type\": \"histogram\"}], \"histogram2d\": [{\"colorbar\": {\"outlinewidth\": 0, \"ticks\": \"\"}, \"colorscale\": [[0.0, \"#0d0887\"], [0.1111111111111111, \"#46039f\"], [0.2222222222222222, \"#7201a8\"], [0.3333333333333333, \"#9c179e\"], [0.4444444444444444, \"#bd3786\"], [0.5555555555555556, \"#d8576b\"], [0.6666666666666666, \"#ed7953\"], [0.7777777777777778, \"#fb9f3a\"], [0.8888888888888888, \"#fdca26\"], [1.0, \"#f0f921\"]], \"type\": \"histogram2d\"}], \"histogram2dcontour\": [{\"colorbar\": {\"outlinewidth\": 0, \"ticks\": \"\"}, \"colorscale\": [[0.0, \"#0d0887\"], [0.1111111111111111, \"#46039f\"], [0.2222222222222222, \"#7201a8\"], [0.3333333333333333, \"#9c179e\"], [0.4444444444444444, \"#bd3786\"], [0.5555555555555556, \"#d8576b\"], [0.6666666666666666, \"#ed7953\"], [0.7777777777777778, \"#fb9f3a\"], [0.8888888888888888, \"#fdca26\"], [1.0, \"#f0f921\"]], \"type\": \"histogram2dcontour\"}], \"mesh3d\": [{\"colorbar\": {\"outlinewidth\": 0, \"ticks\": \"\"}, \"type\": \"mesh3d\"}], \"parcoords\": [{\"line\": {\"colorbar\": {\"outlinewidth\": 0, \"ticks\": \"\"}}, \"type\": \"parcoords\"}], \"pie\": [{\"automargin\": true, \"type\": \"pie\"}], \"scatter\": [{\"marker\": {\"colorbar\": {\"outlinewidth\": 0, \"ticks\": \"\"}}, \"type\": \"scatter\"}], \"scatter3d\": [{\"line\": {\"colorbar\": {\"outlinewidth\": 0, \"ticks\": \"\"}}, \"marker\": {\"colorbar\": {\"outlinewidth\": 0, \"ticks\": \"\"}}, \"type\": \"scatter3d\"}], \"scattercarpet\": [{\"marker\": {\"colorbar\": {\"outlinewidth\": 0, \"ticks\": \"\"}}, \"type\": \"scattercarpet\"}], \"scattergeo\": [{\"marker\": {\"colorbar\": {\"outlinewidth\": 0, \"ticks\": \"\"}}, \"type\": \"scattergeo\"}], \"scattergl\": [{\"marker\": {\"colorbar\": {\"outlinewidth\": 0, \"ticks\": \"\"}}, \"type\": \"scattergl\"}], \"scattermapbox\": [{\"marker\": {\"colorbar\": {\"outlinewidth\": 0, \"ticks\": \"\"}}, \"type\": \"scattermapbox\"}], \"scatterpolar\": [{\"marker\": {\"colorbar\": {\"outlinewidth\": 0, \"ticks\": \"\"}}, \"type\": \"scatterpolar\"}], \"scatterpolargl\": [{\"marker\": {\"colorbar\": {\"outlinewidth\": 0, \"ticks\": \"\"}}, \"type\": \"scatterpolargl\"}], \"scatterternary\": [{\"marker\": {\"colorbar\": {\"outlinewidth\": 0, \"ticks\": \"\"}}, \"type\": \"scatterternary\"}], \"surface\": [{\"colorbar\": {\"outlinewidth\": 0, \"ticks\": \"\"}, \"colorscale\": [[0.0, \"#0d0887\"], [0.1111111111111111, \"#46039f\"], [0.2222222222222222, \"#7201a8\"], [0.3333333333333333, \"#9c179e\"], [0.4444444444444444, \"#bd3786\"], [0.5555555555555556, \"#d8576b\"], [0.6666666666666666, \"#ed7953\"], [0.7777777777777778, \"#fb9f3a\"], [0.8888888888888888, \"#fdca26\"], [1.0, \"#f0f921\"]], \"type\": \"surface\"}], \"table\": [{\"cells\": {\"fill\": {\"color\": \"#EBF0F8\"}, \"line\": {\"color\": \"white\"}}, \"header\": {\"fill\": {\"color\": \"#C8D4E3\"}, \"line\": {\"color\": \"white\"}}, \"type\": \"table\"}]}, \"layout\": {\"annotationdefaults\": {\"arrowcolor\": \"#2a3f5f\", \"arrowhead\": 0, \"arrowwidth\": 1}, \"coloraxis\": {\"colorbar\": {\"outlinewidth\": 0, \"ticks\": \"\"}}, \"colorscale\": {\"diverging\": [[0, \"#8e0152\"], [0.1, \"#c51b7d\"], [0.2, \"#de77ae\"], [0.3, \"#f1b6da\"], [0.4, \"#fde0ef\"], [0.5, \"#f7f7f7\"], [0.6, \"#e6f5d0\"], [0.7, \"#b8e186\"], [0.8, \"#7fbc41\"], [0.9, \"#4d9221\"], [1, \"#276419\"]], \"sequential\": [[0.0, \"#0d0887\"], [0.1111111111111111, \"#46039f\"], [0.2222222222222222, \"#7201a8\"], [0.3333333333333333, \"#9c179e\"], [0.4444444444444444, \"#bd3786\"], [0.5555555555555556, \"#d8576b\"], [0.6666666666666666, \"#ed7953\"], [0.7777777777777778, \"#fb9f3a\"], [0.8888888888888888, \"#fdca26\"], [1.0, \"#f0f921\"]], \"sequentialminus\": [[0.0, \"#0d0887\"], [0.1111111111111111, \"#46039f\"], [0.2222222222222222, \"#7201a8\"], [0.3333333333333333, \"#9c179e\"], [0.4444444444444444, \"#bd3786\"], [0.5555555555555556, \"#d8576b\"], [0.6666666666666666, \"#ed7953\"], [0.7777777777777778, \"#fb9f3a\"], [0.8888888888888888, \"#fdca26\"], [1.0, \"#f0f921\"]]}, \"colorway\": [\"#636efa\", \"#EF553B\", \"#00cc96\", \"#ab63fa\", \"#FFA15A\", \"#19d3f3\", \"#FF6692\", \"#B6E880\", \"#FF97FF\", \"#FECB52\"], \"font\": {\"color\": \"#2a3f5f\"}, \"geo\": {\"bgcolor\": \"white\", \"lakecolor\": \"white\", \"landcolor\": \"#E5ECF6\", \"showlakes\": true, \"showland\": true, \"subunitcolor\": \"white\"}, \"hoverlabel\": {\"align\": \"left\"}, \"hovermode\": \"closest\", \"mapbox\": {\"style\": \"light\"}, \"paper_bgcolor\": \"white\", \"plot_bgcolor\": \"#E5ECF6\", \"polar\": {\"angularaxis\": {\"gridcolor\": \"white\", \"linecolor\": \"white\", \"ticks\": \"\"}, \"bgcolor\": \"#E5ECF6\", \"radialaxis\": {\"gridcolor\": \"white\", \"linecolor\": \"white\", \"ticks\": \"\"}}, \"scene\": {\"xaxis\": {\"backgroundcolor\": \"#E5ECF6\", \"gridcolor\": \"white\", \"gridwidth\": 2, \"linecolor\": \"white\", \"showbackground\": true, \"ticks\": \"\", \"zerolinecolor\": \"white\"}, \"yaxis\": {\"backgroundcolor\": \"#E5ECF6\", \"gridcolor\": \"white\", \"gridwidth\": 2, \"linecolor\": \"white\", \"showbackground\": true, \"ticks\": \"\", \"zerolinecolor\": \"white\"}, \"zaxis\": {\"backgroundcolor\": \"#E5ECF6\", \"gridcolor\": \"white\", \"gridwidth\": 2, \"linecolor\": \"white\", \"showbackground\": true, \"ticks\": \"\", \"zerolinecolor\": \"white\"}}, \"shapedefaults\": {\"line\": {\"color\": \"#2a3f5f\"}}, \"ternary\": {\"aaxis\": {\"gridcolor\": \"white\", \"linecolor\": \"white\", \"ticks\": \"\"}, \"baxis\": {\"gridcolor\": \"white\", \"linecolor\": \"white\", \"ticks\": \"\"}, \"bgcolor\": \"#E5ECF6\", \"caxis\": {\"gridcolor\": \"white\", \"linecolor\": \"white\", \"ticks\": \"\"}}, \"title\": {\"x\": 0.05}, \"xaxis\": {\"automargin\": true, \"gridcolor\": \"white\", \"linecolor\": \"white\", \"ticks\": \"\", \"title\": {\"standoff\": 15}, \"zerolinecolor\": \"white\", \"zerolinewidth\": 2}, \"yaxis\": {\"automargin\": true, \"gridcolor\": \"white\", \"linecolor\": \"white\", \"ticks\": \"\", \"title\": {\"standoff\": 15}, \"zerolinecolor\": \"white\", \"zerolinewidth\": 2}}}, \"xaxis\": {\"anchor\": \"y\", \"domain\": [0.0, 0.8358], \"title\": {\"text\": \"\\ubc1c\\uc0dd\\ud569\\uacc4\"}}, \"xaxis2\": {\"anchor\": \"y2\", \"domain\": [0.8408, 1.0], \"matches\": \"x2\", \"showgrid\": false, \"showline\": false, \"showticklabels\": false, \"ticks\": \"\"}, \"xaxis3\": {\"anchor\": \"y3\", \"domain\": [0.0, 0.8358], \"matches\": \"x\", \"showgrid\": true, \"showticklabels\": false}, \"xaxis4\": {\"anchor\": \"y4\", \"domain\": [0.8408, 1.0], \"matches\": \"x2\", \"showgrid\": false, \"showline\": false, \"showticklabels\": false, \"ticks\": \"\"}, \"yaxis\": {\"anchor\": \"x\", \"domain\": [0.0, 0.8316], \"title\": {\"text\": \"\\uac80\\uac70\\ud569\\uacc4\"}}, \"yaxis2\": {\"anchor\": \"x2\", \"domain\": [0.0, 0.8316], \"matches\": \"y\", \"showgrid\": true, \"showticklabels\": false}, \"yaxis3\": {\"anchor\": \"x3\", \"domain\": [0.8416, 1.0], \"matches\": \"y3\", \"showgrid\": false, \"showline\": false, \"showticklabels\": false, \"ticks\": \"\"}, \"yaxis4\": {\"anchor\": \"x4\", \"domain\": [0.8416, 1.0], \"matches\": \"y3\", \"showgrid\": true, \"showline\": false, \"showticklabels\": false, \"ticks\": \"\"}},\n",
       "                        {\"responsive\": true}\n",
       "                    ).then(function(){\n",
       "                            \n",
       "var gd = document.getElementById('5def79d6-bdc7-45d8-b393-eedf28727690');\n",
       "var x = new MutationObserver(function (mutations, observer) {{\n",
       "        var display = window.getComputedStyle(gd).display;\n",
       "        if (!display || display === 'none') {{\n",
       "            console.log([gd, 'removed!']);\n",
       "            Plotly.purge(gd);\n",
       "            observer.disconnect();\n",
       "        }}\n",
       "}});\n",
       "\n",
       "// Listen for the removal of the full notebook cells\n",
       "var notebookContainer = gd.closest('#notebook-container');\n",
       "if (notebookContainer) {{\n",
       "    x.observe(notebookContainer, {childList: true});\n",
       "}}\n",
       "\n",
       "// Listen for the clearing of the current output cell\n",
       "var outputEl = gd.closest('.output');\n",
       "if (outputEl) {{\n",
       "    x.observe(outputEl, {childList: true});\n",
       "}}\n",
       "\n",
       "                        })\n",
       "                };\n",
       "                });\n",
       "            </script>\n",
       "        </div>"
      ]
     },
     "metadata": {},
     "output_type": "display_data"
    }
   ],
   "source": [
    "fig = px.scatter(old_pop, x=\"발생합계\", y=\"검거합계\",\n",
    "                 marginal_x = \"violin\",\n",
    "                 marginal_y = \"rug\")\n",
    "\n",
    "fig.show()\n",
    "\n",
    "fig.write_html(\"1_10_3.html\")"
   ]
  },
  {
   "cell_type": "code",
   "execution_count": 119,
   "id": "3637a87e",
   "metadata": {},
   "outputs": [
    {
     "data": {
      "application/vnd.plotly.v1+json": {
       "config": {
        "plotlyServerURL": "https://plot.ly"
       },
       "data": [
        {
         "hoverlabel": {
          "namelength": 0
         },
         "hovertemplate": "발생합계=%{x}<br>검거합계=%{y}",
         "legendgroup": "",
         "marker": {
          "color": "#636efa",
          "symbol": "circle"
         },
         "mode": "markers",
         "name": "",
         "showlegend": false,
         "type": "scatter",
         "x": [
          7512.333333333333,
          4064.6666666666665,
          3556,
          4896,
          5293,
          4190.666666666667,
          4804,
          3221,
          4123,
          2119.333333333333,
          3782.3333333333335,
          3276.6666666666665,
          5097.333333333333,
          2952.6666666666665,
          4992,
          2578.6666666666665,
          3117.6666666666665,
          5693.666666666667,
          3537,
          5876.333333333333,
          3594.6666666666665,
          3784.3333333333335,
          3864.3333333333335,
          4180.333333333333,
          4375.666666666667
         ],
         "xaxis": "x",
         "y": [
          5195.333333333333,
          2996.333333333333,
          2863.333333333333,
          3646.3333333333335,
          3872.3333333333335,
          2964.6666666666665,
          3345.6666666666665,
          2494,
          2912,
          1608.3333333333333,
          3020,
          2175.6666666666665,
          3412.6666666666665,
          2111.6666666666665,
          3390,
          1885.3333333333333,
          2359.6666666666665,
          3906.6666666666665,
          2414.333333333333,
          3907,
          2696.6666666666665,
          3023.333333333333,
          4155.666666666667,
          2778,
          3250.6666666666665
         ],
         "yaxis": "y"
        },
        {
         "alignmentgroup": "True",
         "hoverlabel": {
          "namelength": 0
         },
         "hovertemplate": "발생합계=%{x}",
         "legendgroup": "",
         "marker": {
          "color": "#636efa",
          "symbol": "circle"
         },
         "name": "",
         "offsetgroup": "",
         "scalegroup": "x",
         "showlegend": false,
         "type": "violin",
         "x": [
          7512.333333333333,
          4064.6666666666665,
          3556,
          4896,
          5293,
          4190.666666666667,
          4804,
          3221,
          4123,
          2119.333333333333,
          3782.3333333333335,
          3276.6666666666665,
          5097.333333333333,
          2952.6666666666665,
          4992,
          2578.6666666666665,
          3117.6666666666665,
          5693.666666666667,
          3537,
          5876.333333333333,
          3594.6666666666665,
          3784.3333333333335,
          3864.3333333333335,
          4180.333333333333,
          4375.666666666667
         ],
         "xaxis": "x3",
         "yaxis": "y3"
        },
        {
         "alignmentgroup": "True",
         "bingroup": "y",
         "hoverlabel": {
          "namelength": 0
         },
         "hovertemplate": "검거합계=%{y}<br>count=%{x}",
         "legendgroup": "",
         "marker": {
          "color": "#636efa"
         },
         "name": "",
         "offsetgroup": "",
         "opacity": 0.5,
         "showlegend": false,
         "type": "histogram",
         "xaxis": "x2",
         "y": [
          5195.333333333333,
          2996.333333333333,
          2863.333333333333,
          3646.3333333333335,
          3872.3333333333335,
          2964.6666666666665,
          3345.6666666666665,
          2494,
          2912,
          1608.3333333333333,
          3020,
          2175.6666666666665,
          3412.6666666666665,
          2111.6666666666665,
          3390,
          1885.3333333333333,
          2359.6666666666665,
          3906.6666666666665,
          2414.333333333333,
          3907,
          2696.6666666666665,
          3023.333333333333,
          4155.666666666667,
          2778,
          3250.6666666666665
         ],
         "yaxis": "y2"
        }
       ],
       "layout": {
        "barmode": "overlay",
        "legend": {
         "tracegroupgap": 0
        },
        "margin": {
         "t": 60
        },
        "template": {
         "data": {
          "bar": [
           {
            "error_x": {
             "color": "#2a3f5f"
            },
            "error_y": {
             "color": "#2a3f5f"
            },
            "marker": {
             "line": {
              "color": "#E5ECF6",
              "width": 0.5
             }
            },
            "type": "bar"
           }
          ],
          "barpolar": [
           {
            "marker": {
             "line": {
              "color": "#E5ECF6",
              "width": 0.5
             }
            },
            "type": "barpolar"
           }
          ],
          "carpet": [
           {
            "aaxis": {
             "endlinecolor": "#2a3f5f",
             "gridcolor": "white",
             "linecolor": "white",
             "minorgridcolor": "white",
             "startlinecolor": "#2a3f5f"
            },
            "baxis": {
             "endlinecolor": "#2a3f5f",
             "gridcolor": "white",
             "linecolor": "white",
             "minorgridcolor": "white",
             "startlinecolor": "#2a3f5f"
            },
            "type": "carpet"
           }
          ],
          "choropleth": [
           {
            "colorbar": {
             "outlinewidth": 0,
             "ticks": ""
            },
            "type": "choropleth"
           }
          ],
          "contour": [
           {
            "colorbar": {
             "outlinewidth": 0,
             "ticks": ""
            },
            "colorscale": [
             [
              0,
              "#0d0887"
             ],
             [
              0.1111111111111111,
              "#46039f"
             ],
             [
              0.2222222222222222,
              "#7201a8"
             ],
             [
              0.3333333333333333,
              "#9c179e"
             ],
             [
              0.4444444444444444,
              "#bd3786"
             ],
             [
              0.5555555555555556,
              "#d8576b"
             ],
             [
              0.6666666666666666,
              "#ed7953"
             ],
             [
              0.7777777777777778,
              "#fb9f3a"
             ],
             [
              0.8888888888888888,
              "#fdca26"
             ],
             [
              1,
              "#f0f921"
             ]
            ],
            "type": "contour"
           }
          ],
          "contourcarpet": [
           {
            "colorbar": {
             "outlinewidth": 0,
             "ticks": ""
            },
            "type": "contourcarpet"
           }
          ],
          "heatmap": [
           {
            "colorbar": {
             "outlinewidth": 0,
             "ticks": ""
            },
            "colorscale": [
             [
              0,
              "#0d0887"
             ],
             [
              0.1111111111111111,
              "#46039f"
             ],
             [
              0.2222222222222222,
              "#7201a8"
             ],
             [
              0.3333333333333333,
              "#9c179e"
             ],
             [
              0.4444444444444444,
              "#bd3786"
             ],
             [
              0.5555555555555556,
              "#d8576b"
             ],
             [
              0.6666666666666666,
              "#ed7953"
             ],
             [
              0.7777777777777778,
              "#fb9f3a"
             ],
             [
              0.8888888888888888,
              "#fdca26"
             ],
             [
              1,
              "#f0f921"
             ]
            ],
            "type": "heatmap"
           }
          ],
          "heatmapgl": [
           {
            "colorbar": {
             "outlinewidth": 0,
             "ticks": ""
            },
            "colorscale": [
             [
              0,
              "#0d0887"
             ],
             [
              0.1111111111111111,
              "#46039f"
             ],
             [
              0.2222222222222222,
              "#7201a8"
             ],
             [
              0.3333333333333333,
              "#9c179e"
             ],
             [
              0.4444444444444444,
              "#bd3786"
             ],
             [
              0.5555555555555556,
              "#d8576b"
             ],
             [
              0.6666666666666666,
              "#ed7953"
             ],
             [
              0.7777777777777778,
              "#fb9f3a"
             ],
             [
              0.8888888888888888,
              "#fdca26"
             ],
             [
              1,
              "#f0f921"
             ]
            ],
            "type": "heatmapgl"
           }
          ],
          "histogram": [
           {
            "marker": {
             "colorbar": {
              "outlinewidth": 0,
              "ticks": ""
             }
            },
            "type": "histogram"
           }
          ],
          "histogram2d": [
           {
            "colorbar": {
             "outlinewidth": 0,
             "ticks": ""
            },
            "colorscale": [
             [
              0,
              "#0d0887"
             ],
             [
              0.1111111111111111,
              "#46039f"
             ],
             [
              0.2222222222222222,
              "#7201a8"
             ],
             [
              0.3333333333333333,
              "#9c179e"
             ],
             [
              0.4444444444444444,
              "#bd3786"
             ],
             [
              0.5555555555555556,
              "#d8576b"
             ],
             [
              0.6666666666666666,
              "#ed7953"
             ],
             [
              0.7777777777777778,
              "#fb9f3a"
             ],
             [
              0.8888888888888888,
              "#fdca26"
             ],
             [
              1,
              "#f0f921"
             ]
            ],
            "type": "histogram2d"
           }
          ],
          "histogram2dcontour": [
           {
            "colorbar": {
             "outlinewidth": 0,
             "ticks": ""
            },
            "colorscale": [
             [
              0,
              "#0d0887"
             ],
             [
              0.1111111111111111,
              "#46039f"
             ],
             [
              0.2222222222222222,
              "#7201a8"
             ],
             [
              0.3333333333333333,
              "#9c179e"
             ],
             [
              0.4444444444444444,
              "#bd3786"
             ],
             [
              0.5555555555555556,
              "#d8576b"
             ],
             [
              0.6666666666666666,
              "#ed7953"
             ],
             [
              0.7777777777777778,
              "#fb9f3a"
             ],
             [
              0.8888888888888888,
              "#fdca26"
             ],
             [
              1,
              "#f0f921"
             ]
            ],
            "type": "histogram2dcontour"
           }
          ],
          "mesh3d": [
           {
            "colorbar": {
             "outlinewidth": 0,
             "ticks": ""
            },
            "type": "mesh3d"
           }
          ],
          "parcoords": [
           {
            "line": {
             "colorbar": {
              "outlinewidth": 0,
              "ticks": ""
             }
            },
            "type": "parcoords"
           }
          ],
          "pie": [
           {
            "automargin": true,
            "type": "pie"
           }
          ],
          "scatter": [
           {
            "marker": {
             "colorbar": {
              "outlinewidth": 0,
              "ticks": ""
             }
            },
            "type": "scatter"
           }
          ],
          "scatter3d": [
           {
            "line": {
             "colorbar": {
              "outlinewidth": 0,
              "ticks": ""
             }
            },
            "marker": {
             "colorbar": {
              "outlinewidth": 0,
              "ticks": ""
             }
            },
            "type": "scatter3d"
           }
          ],
          "scattercarpet": [
           {
            "marker": {
             "colorbar": {
              "outlinewidth": 0,
              "ticks": ""
             }
            },
            "type": "scattercarpet"
           }
          ],
          "scattergeo": [
           {
            "marker": {
             "colorbar": {
              "outlinewidth": 0,
              "ticks": ""
             }
            },
            "type": "scattergeo"
           }
          ],
          "scattergl": [
           {
            "marker": {
             "colorbar": {
              "outlinewidth": 0,
              "ticks": ""
             }
            },
            "type": "scattergl"
           }
          ],
          "scattermapbox": [
           {
            "marker": {
             "colorbar": {
              "outlinewidth": 0,
              "ticks": ""
             }
            },
            "type": "scattermapbox"
           }
          ],
          "scatterpolar": [
           {
            "marker": {
             "colorbar": {
              "outlinewidth": 0,
              "ticks": ""
             }
            },
            "type": "scatterpolar"
           }
          ],
          "scatterpolargl": [
           {
            "marker": {
             "colorbar": {
              "outlinewidth": 0,
              "ticks": ""
             }
            },
            "type": "scatterpolargl"
           }
          ],
          "scatterternary": [
           {
            "marker": {
             "colorbar": {
              "outlinewidth": 0,
              "ticks": ""
             }
            },
            "type": "scatterternary"
           }
          ],
          "surface": [
           {
            "colorbar": {
             "outlinewidth": 0,
             "ticks": ""
            },
            "colorscale": [
             [
              0,
              "#0d0887"
             ],
             [
              0.1111111111111111,
              "#46039f"
             ],
             [
              0.2222222222222222,
              "#7201a8"
             ],
             [
              0.3333333333333333,
              "#9c179e"
             ],
             [
              0.4444444444444444,
              "#bd3786"
             ],
             [
              0.5555555555555556,
              "#d8576b"
             ],
             [
              0.6666666666666666,
              "#ed7953"
             ],
             [
              0.7777777777777778,
              "#fb9f3a"
             ],
             [
              0.8888888888888888,
              "#fdca26"
             ],
             [
              1,
              "#f0f921"
             ]
            ],
            "type": "surface"
           }
          ],
          "table": [
           {
            "cells": {
             "fill": {
              "color": "#EBF0F8"
             },
             "line": {
              "color": "white"
             }
            },
            "header": {
             "fill": {
              "color": "#C8D4E3"
             },
             "line": {
              "color": "white"
             }
            },
            "type": "table"
           }
          ]
         },
         "layout": {
          "annotationdefaults": {
           "arrowcolor": "#2a3f5f",
           "arrowhead": 0,
           "arrowwidth": 1
          },
          "coloraxis": {
           "colorbar": {
            "outlinewidth": 0,
            "ticks": ""
           }
          },
          "colorscale": {
           "diverging": [
            [
             0,
             "#8e0152"
            ],
            [
             0.1,
             "#c51b7d"
            ],
            [
             0.2,
             "#de77ae"
            ],
            [
             0.3,
             "#f1b6da"
            ],
            [
             0.4,
             "#fde0ef"
            ],
            [
             0.5,
             "#f7f7f7"
            ],
            [
             0.6,
             "#e6f5d0"
            ],
            [
             0.7,
             "#b8e186"
            ],
            [
             0.8,
             "#7fbc41"
            ],
            [
             0.9,
             "#4d9221"
            ],
            [
             1,
             "#276419"
            ]
           ],
           "sequential": [
            [
             0,
             "#0d0887"
            ],
            [
             0.1111111111111111,
             "#46039f"
            ],
            [
             0.2222222222222222,
             "#7201a8"
            ],
            [
             0.3333333333333333,
             "#9c179e"
            ],
            [
             0.4444444444444444,
             "#bd3786"
            ],
            [
             0.5555555555555556,
             "#d8576b"
            ],
            [
             0.6666666666666666,
             "#ed7953"
            ],
            [
             0.7777777777777778,
             "#fb9f3a"
            ],
            [
             0.8888888888888888,
             "#fdca26"
            ],
            [
             1,
             "#f0f921"
            ]
           ],
           "sequentialminus": [
            [
             0,
             "#0d0887"
            ],
            [
             0.1111111111111111,
             "#46039f"
            ],
            [
             0.2222222222222222,
             "#7201a8"
            ],
            [
             0.3333333333333333,
             "#9c179e"
            ],
            [
             0.4444444444444444,
             "#bd3786"
            ],
            [
             0.5555555555555556,
             "#d8576b"
            ],
            [
             0.6666666666666666,
             "#ed7953"
            ],
            [
             0.7777777777777778,
             "#fb9f3a"
            ],
            [
             0.8888888888888888,
             "#fdca26"
            ],
            [
             1,
             "#f0f921"
            ]
           ]
          },
          "colorway": [
           "#636efa",
           "#EF553B",
           "#00cc96",
           "#ab63fa",
           "#FFA15A",
           "#19d3f3",
           "#FF6692",
           "#B6E880",
           "#FF97FF",
           "#FECB52"
          ],
          "font": {
           "color": "#2a3f5f"
          },
          "geo": {
           "bgcolor": "white",
           "lakecolor": "white",
           "landcolor": "#E5ECF6",
           "showlakes": true,
           "showland": true,
           "subunitcolor": "white"
          },
          "hoverlabel": {
           "align": "left"
          },
          "hovermode": "closest",
          "mapbox": {
           "style": "light"
          },
          "paper_bgcolor": "white",
          "plot_bgcolor": "#E5ECF6",
          "polar": {
           "angularaxis": {
            "gridcolor": "white",
            "linecolor": "white",
            "ticks": ""
           },
           "bgcolor": "#E5ECF6",
           "radialaxis": {
            "gridcolor": "white",
            "linecolor": "white",
            "ticks": ""
           }
          },
          "scene": {
           "xaxis": {
            "backgroundcolor": "#E5ECF6",
            "gridcolor": "white",
            "gridwidth": 2,
            "linecolor": "white",
            "showbackground": true,
            "ticks": "",
            "zerolinecolor": "white"
           },
           "yaxis": {
            "backgroundcolor": "#E5ECF6",
            "gridcolor": "white",
            "gridwidth": 2,
            "linecolor": "white",
            "showbackground": true,
            "ticks": "",
            "zerolinecolor": "white"
           },
           "zaxis": {
            "backgroundcolor": "#E5ECF6",
            "gridcolor": "white",
            "gridwidth": 2,
            "linecolor": "white",
            "showbackground": true,
            "ticks": "",
            "zerolinecolor": "white"
           }
          },
          "shapedefaults": {
           "line": {
            "color": "#2a3f5f"
           }
          },
          "ternary": {
           "aaxis": {
            "gridcolor": "white",
            "linecolor": "white",
            "ticks": ""
           },
           "baxis": {
            "gridcolor": "white",
            "linecolor": "white",
            "ticks": ""
           },
           "bgcolor": "#E5ECF6",
           "caxis": {
            "gridcolor": "white",
            "linecolor": "white",
            "ticks": ""
           }
          },
          "title": {
           "x": 0.05
          },
          "xaxis": {
           "automargin": true,
           "gridcolor": "white",
           "linecolor": "white",
           "ticks": "",
           "title": {
            "standoff": 15
           },
           "zerolinecolor": "white",
           "zerolinewidth": 2
          },
          "yaxis": {
           "automargin": true,
           "gridcolor": "white",
           "linecolor": "white",
           "ticks": "",
           "title": {
            "standoff": 15
           },
           "zerolinecolor": "white",
           "zerolinewidth": 2
          }
         }
        },
        "xaxis": {
         "anchor": "y",
         "domain": [
          0,
          0.7363
         ],
         "title": {
          "text": "발생합계"
         }
        },
        "xaxis2": {
         "anchor": "y2",
         "domain": [
          0.7413,
          1
         ],
         "matches": "x2",
         "showgrid": true,
         "showline": false,
         "showticklabels": false,
         "ticks": ""
        },
        "xaxis3": {
         "anchor": "y3",
         "domain": [
          0,
          0.7363
         ],
         "matches": "x",
         "showgrid": true,
         "showticklabels": false
        },
        "xaxis4": {
         "anchor": "y4",
         "domain": [
          0.7413,
          1
         ],
         "matches": "x2",
         "showgrid": true,
         "showline": false,
         "showticklabels": false,
         "ticks": ""
        },
        "yaxis": {
         "anchor": "x",
         "domain": [
          0,
          0.8316
         ],
         "title": {
          "text": "검거합계"
         }
        },
        "yaxis2": {
         "anchor": "x2",
         "domain": [
          0,
          0.8316
         ],
         "matches": "y",
         "showgrid": true,
         "showticklabels": false
        },
        "yaxis3": {
         "anchor": "x3",
         "domain": [
          0.8416,
          1
         ],
         "matches": "y3",
         "showgrid": false,
         "showline": false,
         "showticklabels": false,
         "ticks": ""
        },
        "yaxis4": {
         "anchor": "x4",
         "domain": [
          0.8416,
          1
         ],
         "matches": "y3",
         "showgrid": true,
         "showline": false,
         "showticklabels": false,
         "ticks": ""
        }
       }
      },
      "text/html": [
       "<div>\n",
       "        \n",
       "        \n",
       "            <div id=\"c9d120cd-0adf-4ed4-adf1-cf72570d3219\" class=\"plotly-graph-div\" style=\"height:525px; width:100%;\"></div>\n",
       "            <script type=\"text/javascript\">\n",
       "                require([\"plotly\"], function(Plotly) {\n",
       "                    window.PLOTLYENV=window.PLOTLYENV || {};\n",
       "                    \n",
       "                if (document.getElementById(\"c9d120cd-0adf-4ed4-adf1-cf72570d3219\")) {\n",
       "                    Plotly.newPlot(\n",
       "                        'c9d120cd-0adf-4ed4-adf1-cf72570d3219',\n",
       "                        [{\"hoverlabel\": {\"namelength\": 0}, \"hovertemplate\": \"\\ubc1c\\uc0dd\\ud569\\uacc4=%{x}<br>\\uac80\\uac70\\ud569\\uacc4=%{y}\", \"legendgroup\": \"\", \"marker\": {\"color\": \"#636efa\", \"symbol\": \"circle\"}, \"mode\": \"markers\", \"name\": \"\", \"showlegend\": false, \"type\": \"scatter\", \"x\": [7512.333333333333, 4064.6666666666665, 3556.0, 4896.0, 5293.0, 4190.666666666667, 4804.0, 3221.0, 4123.0, 2119.333333333333, 3782.3333333333335, 3276.6666666666665, 5097.333333333333, 2952.6666666666665, 4992.0, 2578.6666666666665, 3117.6666666666665, 5693.666666666667, 3537.0, 5876.333333333333, 3594.6666666666665, 3784.3333333333335, 3864.3333333333335, 4180.333333333333, 4375.666666666667], \"xaxis\": \"x\", \"y\": [5195.333333333333, 2996.333333333333, 2863.333333333333, 3646.3333333333335, 3872.3333333333335, 2964.6666666666665, 3345.6666666666665, 2494.0, 2912.0, 1608.3333333333333, 3020.0, 2175.6666666666665, 3412.6666666666665, 2111.6666666666665, 3390.0, 1885.3333333333333, 2359.6666666666665, 3906.6666666666665, 2414.333333333333, 3907.0, 2696.6666666666665, 3023.333333333333, 4155.666666666667, 2778.0, 3250.6666666666665], \"yaxis\": \"y\"}, {\"alignmentgroup\": \"True\", \"hoverlabel\": {\"namelength\": 0}, \"hovertemplate\": \"\\ubc1c\\uc0dd\\ud569\\uacc4=%{x}\", \"legendgroup\": \"\", \"marker\": {\"color\": \"#636efa\", \"symbol\": \"circle\"}, \"name\": \"\", \"offsetgroup\": \"\", \"scalegroup\": \"x\", \"showlegend\": false, \"type\": \"violin\", \"x\": [7512.333333333333, 4064.6666666666665, 3556.0, 4896.0, 5293.0, 4190.666666666667, 4804.0, 3221.0, 4123.0, 2119.333333333333, 3782.3333333333335, 3276.6666666666665, 5097.333333333333, 2952.6666666666665, 4992.0, 2578.6666666666665, 3117.6666666666665, 5693.666666666667, 3537.0, 5876.333333333333, 3594.6666666666665, 3784.3333333333335, 3864.3333333333335, 4180.333333333333, 4375.666666666667], \"xaxis\": \"x3\", \"yaxis\": \"y3\"}, {\"alignmentgroup\": \"True\", \"bingroup\": \"y\", \"hoverlabel\": {\"namelength\": 0}, \"hovertemplate\": \"\\uac80\\uac70\\ud569\\uacc4=%{y}<br>count=%{x}\", \"legendgroup\": \"\", \"marker\": {\"color\": \"#636efa\"}, \"name\": \"\", \"offsetgroup\": \"\", \"opacity\": 0.5, \"showlegend\": false, \"type\": \"histogram\", \"xaxis\": \"x2\", \"y\": [5195.333333333333, 2996.333333333333, 2863.333333333333, 3646.3333333333335, 3872.3333333333335, 2964.6666666666665, 3345.6666666666665, 2494.0, 2912.0, 1608.3333333333333, 3020.0, 2175.6666666666665, 3412.6666666666665, 2111.6666666666665, 3390.0, 1885.3333333333333, 2359.6666666666665, 3906.6666666666665, 2414.333333333333, 3907.0, 2696.6666666666665, 3023.333333333333, 4155.666666666667, 2778.0, 3250.6666666666665], \"yaxis\": \"y2\"}],\n",
       "                        {\"barmode\": \"overlay\", \"legend\": {\"tracegroupgap\": 0}, \"margin\": {\"t\": 60}, \"template\": {\"data\": {\"bar\": [{\"error_x\": {\"color\": \"#2a3f5f\"}, \"error_y\": {\"color\": \"#2a3f5f\"}, \"marker\": {\"line\": {\"color\": \"#E5ECF6\", \"width\": 0.5}}, \"type\": \"bar\"}], \"barpolar\": [{\"marker\": {\"line\": {\"color\": \"#E5ECF6\", \"width\": 0.5}}, \"type\": \"barpolar\"}], \"carpet\": [{\"aaxis\": {\"endlinecolor\": \"#2a3f5f\", \"gridcolor\": \"white\", \"linecolor\": \"white\", \"minorgridcolor\": \"white\", \"startlinecolor\": \"#2a3f5f\"}, \"baxis\": {\"endlinecolor\": \"#2a3f5f\", \"gridcolor\": \"white\", \"linecolor\": \"white\", \"minorgridcolor\": \"white\", \"startlinecolor\": \"#2a3f5f\"}, \"type\": \"carpet\"}], \"choropleth\": [{\"colorbar\": {\"outlinewidth\": 0, \"ticks\": \"\"}, \"type\": \"choropleth\"}], \"contour\": [{\"colorbar\": {\"outlinewidth\": 0, \"ticks\": \"\"}, \"colorscale\": [[0.0, \"#0d0887\"], [0.1111111111111111, \"#46039f\"], [0.2222222222222222, \"#7201a8\"], [0.3333333333333333, \"#9c179e\"], [0.4444444444444444, \"#bd3786\"], [0.5555555555555556, \"#d8576b\"], [0.6666666666666666, \"#ed7953\"], [0.7777777777777778, \"#fb9f3a\"], [0.8888888888888888, \"#fdca26\"], [1.0, \"#f0f921\"]], \"type\": \"contour\"}], \"contourcarpet\": [{\"colorbar\": {\"outlinewidth\": 0, \"ticks\": \"\"}, \"type\": \"contourcarpet\"}], \"heatmap\": [{\"colorbar\": {\"outlinewidth\": 0, \"ticks\": \"\"}, \"colorscale\": [[0.0, \"#0d0887\"], [0.1111111111111111, \"#46039f\"], [0.2222222222222222, \"#7201a8\"], [0.3333333333333333, \"#9c179e\"], [0.4444444444444444, \"#bd3786\"], [0.5555555555555556, \"#d8576b\"], [0.6666666666666666, \"#ed7953\"], [0.7777777777777778, \"#fb9f3a\"], [0.8888888888888888, \"#fdca26\"], [1.0, \"#f0f921\"]], \"type\": \"heatmap\"}], \"heatmapgl\": [{\"colorbar\": {\"outlinewidth\": 0, \"ticks\": \"\"}, \"colorscale\": [[0.0, \"#0d0887\"], [0.1111111111111111, \"#46039f\"], [0.2222222222222222, \"#7201a8\"], [0.3333333333333333, \"#9c179e\"], [0.4444444444444444, \"#bd3786\"], [0.5555555555555556, \"#d8576b\"], [0.6666666666666666, \"#ed7953\"], [0.7777777777777778, \"#fb9f3a\"], [0.8888888888888888, \"#fdca26\"], [1.0, \"#f0f921\"]], \"type\": \"heatmapgl\"}], \"histogram\": [{\"marker\": {\"colorbar\": {\"outlinewidth\": 0, \"ticks\": \"\"}}, \"type\": \"histogram\"}], \"histogram2d\": [{\"colorbar\": {\"outlinewidth\": 0, \"ticks\": \"\"}, \"colorscale\": [[0.0, \"#0d0887\"], [0.1111111111111111, \"#46039f\"], [0.2222222222222222, \"#7201a8\"], [0.3333333333333333, \"#9c179e\"], [0.4444444444444444, \"#bd3786\"], [0.5555555555555556, \"#d8576b\"], [0.6666666666666666, \"#ed7953\"], [0.7777777777777778, \"#fb9f3a\"], [0.8888888888888888, \"#fdca26\"], [1.0, \"#f0f921\"]], \"type\": \"histogram2d\"}], \"histogram2dcontour\": [{\"colorbar\": {\"outlinewidth\": 0, \"ticks\": \"\"}, \"colorscale\": [[0.0, \"#0d0887\"], [0.1111111111111111, \"#46039f\"], [0.2222222222222222, \"#7201a8\"], [0.3333333333333333, \"#9c179e\"], [0.4444444444444444, \"#bd3786\"], [0.5555555555555556, \"#d8576b\"], [0.6666666666666666, \"#ed7953\"], [0.7777777777777778, \"#fb9f3a\"], [0.8888888888888888, \"#fdca26\"], [1.0, \"#f0f921\"]], \"type\": \"histogram2dcontour\"}], \"mesh3d\": [{\"colorbar\": {\"outlinewidth\": 0, \"ticks\": \"\"}, \"type\": \"mesh3d\"}], \"parcoords\": [{\"line\": {\"colorbar\": {\"outlinewidth\": 0, \"ticks\": \"\"}}, \"type\": \"parcoords\"}], \"pie\": [{\"automargin\": true, \"type\": \"pie\"}], \"scatter\": [{\"marker\": {\"colorbar\": {\"outlinewidth\": 0, \"ticks\": \"\"}}, \"type\": \"scatter\"}], \"scatter3d\": [{\"line\": {\"colorbar\": {\"outlinewidth\": 0, \"ticks\": \"\"}}, \"marker\": {\"colorbar\": {\"outlinewidth\": 0, \"ticks\": \"\"}}, \"type\": \"scatter3d\"}], \"scattercarpet\": [{\"marker\": {\"colorbar\": {\"outlinewidth\": 0, \"ticks\": \"\"}}, \"type\": \"scattercarpet\"}], \"scattergeo\": [{\"marker\": {\"colorbar\": {\"outlinewidth\": 0, \"ticks\": \"\"}}, \"type\": \"scattergeo\"}], \"scattergl\": [{\"marker\": {\"colorbar\": {\"outlinewidth\": 0, \"ticks\": \"\"}}, \"type\": \"scattergl\"}], \"scattermapbox\": [{\"marker\": {\"colorbar\": {\"outlinewidth\": 0, \"ticks\": \"\"}}, \"type\": \"scattermapbox\"}], \"scatterpolar\": [{\"marker\": {\"colorbar\": {\"outlinewidth\": 0, \"ticks\": \"\"}}, \"type\": \"scatterpolar\"}], \"scatterpolargl\": [{\"marker\": {\"colorbar\": {\"outlinewidth\": 0, \"ticks\": \"\"}}, \"type\": \"scatterpolargl\"}], \"scatterternary\": [{\"marker\": {\"colorbar\": {\"outlinewidth\": 0, \"ticks\": \"\"}}, \"type\": \"scatterternary\"}], \"surface\": [{\"colorbar\": {\"outlinewidth\": 0, \"ticks\": \"\"}, \"colorscale\": [[0.0, \"#0d0887\"], [0.1111111111111111, \"#46039f\"], [0.2222222222222222, \"#7201a8\"], [0.3333333333333333, \"#9c179e\"], [0.4444444444444444, \"#bd3786\"], [0.5555555555555556, \"#d8576b\"], [0.6666666666666666, \"#ed7953\"], [0.7777777777777778, \"#fb9f3a\"], [0.8888888888888888, \"#fdca26\"], [1.0, \"#f0f921\"]], \"type\": \"surface\"}], \"table\": [{\"cells\": {\"fill\": {\"color\": \"#EBF0F8\"}, \"line\": {\"color\": \"white\"}}, \"header\": {\"fill\": {\"color\": \"#C8D4E3\"}, \"line\": {\"color\": \"white\"}}, \"type\": \"table\"}]}, \"layout\": {\"annotationdefaults\": {\"arrowcolor\": \"#2a3f5f\", \"arrowhead\": 0, \"arrowwidth\": 1}, \"coloraxis\": {\"colorbar\": {\"outlinewidth\": 0, \"ticks\": \"\"}}, \"colorscale\": {\"diverging\": [[0, \"#8e0152\"], [0.1, \"#c51b7d\"], [0.2, \"#de77ae\"], [0.3, \"#f1b6da\"], [0.4, \"#fde0ef\"], [0.5, \"#f7f7f7\"], [0.6, \"#e6f5d0\"], [0.7, \"#b8e186\"], [0.8, \"#7fbc41\"], [0.9, \"#4d9221\"], [1, \"#276419\"]], \"sequential\": [[0.0, \"#0d0887\"], [0.1111111111111111, \"#46039f\"], [0.2222222222222222, \"#7201a8\"], [0.3333333333333333, \"#9c179e\"], [0.4444444444444444, \"#bd3786\"], [0.5555555555555556, \"#d8576b\"], [0.6666666666666666, \"#ed7953\"], [0.7777777777777778, \"#fb9f3a\"], [0.8888888888888888, \"#fdca26\"], [1.0, \"#f0f921\"]], \"sequentialminus\": [[0.0, \"#0d0887\"], [0.1111111111111111, \"#46039f\"], [0.2222222222222222, \"#7201a8\"], [0.3333333333333333, \"#9c179e\"], [0.4444444444444444, \"#bd3786\"], [0.5555555555555556, \"#d8576b\"], [0.6666666666666666, \"#ed7953\"], [0.7777777777777778, \"#fb9f3a\"], [0.8888888888888888, \"#fdca26\"], [1.0, \"#f0f921\"]]}, \"colorway\": [\"#636efa\", \"#EF553B\", \"#00cc96\", \"#ab63fa\", \"#FFA15A\", \"#19d3f3\", \"#FF6692\", \"#B6E880\", \"#FF97FF\", \"#FECB52\"], \"font\": {\"color\": \"#2a3f5f\"}, \"geo\": {\"bgcolor\": \"white\", \"lakecolor\": \"white\", \"landcolor\": \"#E5ECF6\", \"showlakes\": true, \"showland\": true, \"subunitcolor\": \"white\"}, \"hoverlabel\": {\"align\": \"left\"}, \"hovermode\": \"closest\", \"mapbox\": {\"style\": \"light\"}, \"paper_bgcolor\": \"white\", \"plot_bgcolor\": \"#E5ECF6\", \"polar\": {\"angularaxis\": {\"gridcolor\": \"white\", \"linecolor\": \"white\", \"ticks\": \"\"}, \"bgcolor\": \"#E5ECF6\", \"radialaxis\": {\"gridcolor\": \"white\", \"linecolor\": \"white\", \"ticks\": \"\"}}, \"scene\": {\"xaxis\": {\"backgroundcolor\": \"#E5ECF6\", \"gridcolor\": \"white\", \"gridwidth\": 2, \"linecolor\": \"white\", \"showbackground\": true, \"ticks\": \"\", \"zerolinecolor\": \"white\"}, \"yaxis\": {\"backgroundcolor\": \"#E5ECF6\", \"gridcolor\": \"white\", \"gridwidth\": 2, \"linecolor\": \"white\", \"showbackground\": true, \"ticks\": \"\", \"zerolinecolor\": \"white\"}, \"zaxis\": {\"backgroundcolor\": \"#E5ECF6\", \"gridcolor\": \"white\", \"gridwidth\": 2, \"linecolor\": \"white\", \"showbackground\": true, \"ticks\": \"\", \"zerolinecolor\": \"white\"}}, \"shapedefaults\": {\"line\": {\"color\": \"#2a3f5f\"}}, \"ternary\": {\"aaxis\": {\"gridcolor\": \"white\", \"linecolor\": \"white\", \"ticks\": \"\"}, \"baxis\": {\"gridcolor\": \"white\", \"linecolor\": \"white\", \"ticks\": \"\"}, \"bgcolor\": \"#E5ECF6\", \"caxis\": {\"gridcolor\": \"white\", \"linecolor\": \"white\", \"ticks\": \"\"}}, \"title\": {\"x\": 0.05}, \"xaxis\": {\"automargin\": true, \"gridcolor\": \"white\", \"linecolor\": \"white\", \"ticks\": \"\", \"title\": {\"standoff\": 15}, \"zerolinecolor\": \"white\", \"zerolinewidth\": 2}, \"yaxis\": {\"automargin\": true, \"gridcolor\": \"white\", \"linecolor\": \"white\", \"ticks\": \"\", \"title\": {\"standoff\": 15}, \"zerolinecolor\": \"white\", \"zerolinewidth\": 2}}}, \"xaxis\": {\"anchor\": \"y\", \"domain\": [0.0, 0.7363], \"title\": {\"text\": \"\\ubc1c\\uc0dd\\ud569\\uacc4\"}}, \"xaxis2\": {\"anchor\": \"y2\", \"domain\": [0.7413, 1.0], \"matches\": \"x2\", \"showgrid\": true, \"showline\": false, \"showticklabels\": false, \"ticks\": \"\"}, \"xaxis3\": {\"anchor\": \"y3\", \"domain\": [0.0, 0.7363], \"matches\": \"x\", \"showgrid\": true, \"showticklabels\": false}, \"xaxis4\": {\"anchor\": \"y4\", \"domain\": [0.7413, 1.0], \"matches\": \"x2\", \"showgrid\": true, \"showline\": false, \"showticklabels\": false, \"ticks\": \"\"}, \"yaxis\": {\"anchor\": \"x\", \"domain\": [0.0, 0.8316], \"title\": {\"text\": \"\\uac80\\uac70\\ud569\\uacc4\"}}, \"yaxis2\": {\"anchor\": \"x2\", \"domain\": [0.0, 0.8316], \"matches\": \"y\", \"showgrid\": true, \"showticklabels\": false}, \"yaxis3\": {\"anchor\": \"x3\", \"domain\": [0.8416, 1.0], \"matches\": \"y3\", \"showgrid\": false, \"showline\": false, \"showticklabels\": false, \"ticks\": \"\"}, \"yaxis4\": {\"anchor\": \"x4\", \"domain\": [0.8416, 1.0], \"matches\": \"y3\", \"showgrid\": true, \"showline\": false, \"showticklabels\": false, \"ticks\": \"\"}},\n",
       "                        {\"responsive\": true}\n",
       "                    ).then(function(){\n",
       "                            \n",
       "var gd = document.getElementById('c9d120cd-0adf-4ed4-adf1-cf72570d3219');\n",
       "var x = new MutationObserver(function (mutations, observer) {{\n",
       "        var display = window.getComputedStyle(gd).display;\n",
       "        if (!display || display === 'none') {{\n",
       "            console.log([gd, 'removed!']);\n",
       "            Plotly.purge(gd);\n",
       "            observer.disconnect();\n",
       "        }}\n",
       "}});\n",
       "\n",
       "// Listen for the removal of the full notebook cells\n",
       "var notebookContainer = gd.closest('#notebook-container');\n",
       "if (notebookContainer) {{\n",
       "    x.observe(notebookContainer, {childList: true});\n",
       "}}\n",
       "\n",
       "// Listen for the clearing of the current output cell\n",
       "var outputEl = gd.closest('.output');\n",
       "if (outputEl) {{\n",
       "    x.observe(outputEl, {childList: true});\n",
       "}}\n",
       "\n",
       "                        })\n",
       "                };\n",
       "                });\n",
       "            </script>\n",
       "        </div>"
      ]
     },
     "metadata": {},
     "output_type": "display_data"
    }
   ],
   "source": [
    "fig = px.scatter(old_pop, x=\"발생합계\", y=\"검거합계\",\n",
    "                 marginal_x = \"violin\",\n",
    "                 marginal_y = \"histogram\")\n",
    "\n",
    "fig.show()\n",
    "\n",
    "fig.write_html(\"1_10_4.html\")"
   ]
  },
  {
   "cell_type": "code",
   "execution_count": 120,
   "id": "9922f22d",
   "metadata": {},
   "outputs": [
    {
     "ename": "ValueError",
     "evalue": "Value of 'x' is not the name of a column in 'data_frame'. Expected one of ['지역구', '년도', '경찰관수', '치안시설총수', '발생합계', '살인발생', '강도발생', '강간강제추행발생', '절도발생', '폭력발생', '검거합계', '살인검거', '강도검거', '강간강제추행검거', '절도검거', '폭력검거', '검거율/발생율', '강도검거율', '절도검거율', '폭력검거율', '살인검거율', '강간강제추행검거율', '랭크'] but received: petal_length",
     "output_type": "error",
     "traceback": [
      "\u001b[1;31m---------------------------------------------------------------------------\u001b[0m",
      "\u001b[1;31mValueError\u001b[0m                                Traceback (most recent call last)",
      "\u001b[1;32m<ipython-input-120-687c4645e212>\u001b[0m in \u001b[0;36m<module>\u001b[1;34m\u001b[0m\n\u001b[1;32m----> 1\u001b[1;33m fig = px.scatter(old_pop, x=\"petal_length\", y=\"petal_width\",\n\u001b[0m\u001b[0;32m      2\u001b[0m                  \u001b[0mcolor\u001b[0m \u001b[1;33m=\u001b[0m \u001b[1;34m\"species\"\u001b[0m\u001b[1;33m,\u001b[0m\u001b[1;33m\u001b[0m\u001b[1;33m\u001b[0m\u001b[0m\n\u001b[0;32m      3\u001b[0m                  \u001b[0mmarginal_x\u001b[0m \u001b[1;33m=\u001b[0m \u001b[1;34m\"box\"\u001b[0m\u001b[1;33m,\u001b[0m\u001b[1;33m\u001b[0m\u001b[1;33m\u001b[0m\u001b[0m\n\u001b[0;32m      4\u001b[0m                  marginal_y = \"histogram\")\n\u001b[0;32m      5\u001b[0m \u001b[1;33m\u001b[0m\u001b[0m\n",
      "\u001b[1;32m~\\anaconda3\\lib\\site-packages\\plotly\\express\\_chart_types.py\u001b[0m in \u001b[0;36mscatter\u001b[1;34m(data_frame, x, y, color, symbol, size, hover_name, hover_data, custom_data, text, facet_row, facet_col, facet_col_wrap, error_x, error_x_minus, error_y, error_y_minus, animation_frame, animation_group, category_orders, labels, color_discrete_sequence, color_discrete_map, color_continuous_scale, range_color, color_continuous_midpoint, symbol_sequence, symbol_map, opacity, size_max, marginal_x, marginal_y, trendline, trendline_color_override, log_x, log_y, range_x, range_y, render_mode, title, template, width, height)\u001b[0m\n\u001b[0;32m     53\u001b[0m     \u001b[0mmark\u001b[0m \u001b[1;32min\u001b[0m \u001b[1;36m2\u001b[0m\u001b[0mD\u001b[0m \u001b[0mspace\u001b[0m\u001b[1;33m.\u001b[0m\u001b[1;33m\u001b[0m\u001b[1;33m\u001b[0m\u001b[0m\n\u001b[0;32m     54\u001b[0m     \"\"\"\n\u001b[1;32m---> 55\u001b[1;33m     \u001b[1;32mreturn\u001b[0m \u001b[0mmake_figure\u001b[0m\u001b[1;33m(\u001b[0m\u001b[0margs\u001b[0m\u001b[1;33m=\u001b[0m\u001b[0mlocals\u001b[0m\u001b[1;33m(\u001b[0m\u001b[1;33m)\u001b[0m\u001b[1;33m,\u001b[0m \u001b[0mconstructor\u001b[0m\u001b[1;33m=\u001b[0m\u001b[0mgo\u001b[0m\u001b[1;33m.\u001b[0m\u001b[0mScatter\u001b[0m\u001b[1;33m)\u001b[0m\u001b[1;33m\u001b[0m\u001b[1;33m\u001b[0m\u001b[0m\n\u001b[0m\u001b[0;32m     56\u001b[0m \u001b[1;33m\u001b[0m\u001b[0m\n\u001b[0;32m     57\u001b[0m \u001b[1;33m\u001b[0m\u001b[0m\n",
      "\u001b[1;32m~\\anaconda3\\lib\\site-packages\\plotly\\express\\_core.py\u001b[0m in \u001b[0;36mmake_figure\u001b[1;34m(args, constructor, trace_patch, layout_patch)\u001b[0m\n\u001b[0;32m   1323\u001b[0m     \u001b[0mapply_default_cascade\u001b[0m\u001b[1;33m(\u001b[0m\u001b[0margs\u001b[0m\u001b[1;33m)\u001b[0m\u001b[1;33m\u001b[0m\u001b[1;33m\u001b[0m\u001b[0m\n\u001b[0;32m   1324\u001b[0m \u001b[1;33m\u001b[0m\u001b[0m\n\u001b[1;32m-> 1325\u001b[1;33m     args, trace_specs, grouped_mappings, sizeref, show_colorbar = infer_config(\n\u001b[0m\u001b[0;32m   1326\u001b[0m         \u001b[0margs\u001b[0m\u001b[1;33m,\u001b[0m \u001b[0mconstructor\u001b[0m\u001b[1;33m,\u001b[0m \u001b[0mtrace_patch\u001b[0m\u001b[1;33m\u001b[0m\u001b[1;33m\u001b[0m\u001b[0m\n\u001b[0;32m   1327\u001b[0m     )\n",
      "\u001b[1;32m~\\anaconda3\\lib\\site-packages\\plotly\\express\\_core.py\u001b[0m in \u001b[0;36minfer_config\u001b[1;34m(args, constructor, trace_patch)\u001b[0m\n\u001b[0;32m   1169\u001b[0m             \u001b[0mall_attrables\u001b[0m \u001b[1;33m+=\u001b[0m \u001b[1;33m[\u001b[0m\u001b[0mgroup_attr\u001b[0m\u001b[1;33m]\u001b[0m\u001b[1;33m\u001b[0m\u001b[1;33m\u001b[0m\u001b[0m\n\u001b[0;32m   1170\u001b[0m \u001b[1;33m\u001b[0m\u001b[0m\n\u001b[1;32m-> 1171\u001b[1;33m     \u001b[0margs\u001b[0m \u001b[1;33m=\u001b[0m \u001b[0mbuild_dataframe\u001b[0m\u001b[1;33m(\u001b[0m\u001b[0margs\u001b[0m\u001b[1;33m,\u001b[0m \u001b[0mall_attrables\u001b[0m\u001b[1;33m,\u001b[0m \u001b[0marray_attrables\u001b[0m\u001b[1;33m)\u001b[0m\u001b[1;33m\u001b[0m\u001b[1;33m\u001b[0m\u001b[0m\n\u001b[0m\u001b[0;32m   1172\u001b[0m     \u001b[1;32mif\u001b[0m \u001b[0mconstructor\u001b[0m \u001b[1;32min\u001b[0m \u001b[1;33m[\u001b[0m\u001b[0mgo\u001b[0m\u001b[1;33m.\u001b[0m\u001b[0mTreemap\u001b[0m\u001b[1;33m,\u001b[0m \u001b[0mgo\u001b[0m\u001b[1;33m.\u001b[0m\u001b[0mSunburst\u001b[0m\u001b[1;33m]\u001b[0m \u001b[1;32mand\u001b[0m \u001b[0margs\u001b[0m\u001b[1;33m[\u001b[0m\u001b[1;34m\"path\"\u001b[0m\u001b[1;33m]\u001b[0m \u001b[1;32mis\u001b[0m \u001b[1;32mnot\u001b[0m \u001b[1;32mNone\u001b[0m\u001b[1;33m:\u001b[0m\u001b[1;33m\u001b[0m\u001b[1;33m\u001b[0m\u001b[0m\n\u001b[0;32m   1173\u001b[0m         \u001b[0margs\u001b[0m \u001b[1;33m=\u001b[0m \u001b[0mprocess_dataframe_hierarchy\u001b[0m\u001b[1;33m(\u001b[0m\u001b[0margs\u001b[0m\u001b[1;33m)\u001b[0m\u001b[1;33m\u001b[0m\u001b[1;33m\u001b[0m\u001b[0m\n",
      "\u001b[1;32m~\\anaconda3\\lib\\site-packages\\plotly\\express\\_core.py\u001b[0m in \u001b[0;36mbuild_dataframe\u001b[1;34m(args, attrables, array_attrables)\u001b[0m\n\u001b[0;32m    946\u001b[0m                             \u001b[1;34m\"\\n To use the index, pass it in directly as `df.index`.\"\u001b[0m\u001b[1;33m\u001b[0m\u001b[1;33m\u001b[0m\u001b[0m\n\u001b[0;32m    947\u001b[0m                         )\n\u001b[1;32m--> 948\u001b[1;33m                     \u001b[1;32mraise\u001b[0m \u001b[0mValueError\u001b[0m\u001b[1;33m(\u001b[0m\u001b[0merr_msg\u001b[0m\u001b[1;33m)\u001b[0m\u001b[1;33m\u001b[0m\u001b[1;33m\u001b[0m\u001b[0m\n\u001b[0m\u001b[0;32m    949\u001b[0m                 \u001b[1;32mif\u001b[0m \u001b[0mlength\u001b[0m \u001b[1;32mand\u001b[0m \u001b[0mlen\u001b[0m\u001b[1;33m(\u001b[0m\u001b[0mdf_input\u001b[0m\u001b[1;33m[\u001b[0m\u001b[0margument\u001b[0m\u001b[1;33m]\u001b[0m\u001b[1;33m)\u001b[0m \u001b[1;33m!=\u001b[0m \u001b[0mlength\u001b[0m\u001b[1;33m:\u001b[0m\u001b[1;33m\u001b[0m\u001b[1;33m\u001b[0m\u001b[0m\n\u001b[0;32m    950\u001b[0m                     raise ValueError(\n",
      "\u001b[1;31mValueError\u001b[0m: Value of 'x' is not the name of a column in 'data_frame'. Expected one of ['지역구', '년도', '경찰관수', '치안시설총수', '발생합계', '살인발생', '강도발생', '강간강제추행발생', '절도발생', '폭력발생', '검거합계', '살인검거', '강도검거', '강간강제추행검거', '절도검거', '폭력검거', '검거율/발생율', '강도검거율', '절도검거율', '폭력검거율', '살인검거율', '강간강제추행검거율', '랭크'] but received: petal_length"
     ]
    }
   ],
   "source": [
    "fig = px.scatter(old_pop, x=\"petal_length\", y=\"petal_width\",\n",
    "                 color = \"species\", \n",
    "                 marginal_x = \"box\",\n",
    "                 marginal_y = \"histogram\")\n",
    "\n",
    "fig.show()\n",
    "\n",
    "fig.write_html(\"1_10_4.html\")"
   ]
  },
  {
   "cell_type": "code",
   "execution_count": 121,
   "id": "55012700",
   "metadata": {},
   "outputs": [
    {
     "ename": "NameError",
     "evalue": "name 'gapminder_asia' is not defined",
     "output_type": "error",
     "traceback": [
      "\u001b[1;31m---------------------------------------------------------------------------\u001b[0m",
      "\u001b[1;31mNameError\u001b[0m                                 Traceback (most recent call last)",
      "\u001b[1;32m<ipython-input-121-163731cc29f7>\u001b[0m in \u001b[0;36m<module>\u001b[1;34m\u001b[0m\n\u001b[1;32m----> 1\u001b[1;33m fig = px.line_3d(gapminder_asia, x=\"gdpPercap\", y=\"pop\", z=\"year\", \n\u001b[0m\u001b[0;32m      2\u001b[0m                  color = \"country\")\n\u001b[0;32m      3\u001b[0m \u001b[1;33m\u001b[0m\u001b[0m\n\u001b[0;32m      4\u001b[0m \u001b[0mfig\u001b[0m\u001b[1;33m.\u001b[0m\u001b[0mshow\u001b[0m\u001b[1;33m(\u001b[0m\u001b[1;33m)\u001b[0m\u001b[1;33m\u001b[0m\u001b[1;33m\u001b[0m\u001b[0m\n\u001b[0;32m      5\u001b[0m \u001b[1;33m\u001b[0m\u001b[0m\n",
      "\u001b[1;31mNameError\u001b[0m: name 'gapminder_asia' is not defined"
     ]
    }
   ],
   "source": [
    "fig = px.line_3d(gapminder_asia, x=\"gdpPercap\", y=\"pop\", z=\"year\", \n",
    "                 color = \"country\")\n",
    "\n",
    "fig.show()\n",
    "\n",
    "fig.write_html(\"1_18_1.html\")"
   ]
  },
  {
   "cell_type": "code",
   "execution_count": null,
   "id": "2aa8d02d",
   "metadata": {},
   "outputs": [],
   "source": []
  },
  {
   "cell_type": "code",
   "execution_count": 122,
   "id": "e4eaca9a",
   "metadata": {},
   "outputs": [],
   "source": [
    "old_pop.to_csv('old_pop.csv')"
   ]
  },
  {
   "cell_type": "code",
   "execution_count": 123,
   "id": "a1633318",
   "metadata": {},
   "outputs": [],
   "source": [
    "import numpy as np\n",
    "import pandas as pd\n",
    "from scipy import stats\n",
    "import matplotlib as mpl\n",
    "import matplotlib.pyplot as plt\n",
    "import seaborn as sns\n",
    "sns.set(style=\"whitegrid\")"
   ]
  },
  {
   "cell_type": "code",
   "execution_count": 124,
   "id": "4a91e708",
   "metadata": {},
   "outputs": [],
   "source": [
    "sns.set(font='Malgun Gothic', \n",
    "        rc={\"axes.unicode_minus\":False},\n",
    "        style='darkgrid')"
   ]
  },
  {
   "cell_type": "code",
   "execution_count": 125,
   "id": "330f54d2",
   "metadata": {},
   "outputs": [
    {
     "data": {
      "image/png": "[encoded data removed]",
      "text/plain": [
       "<Figure size 360x360 with 1 Axes>"
      ]
     },
     "metadata": {},
     "output_type": "display_data"
    }
   ],
   "source": [
    "g=sns.catplot(x=\"지역구\", y=\"검거율/발생율\",kind='swarm',data=old_pop);\n",
    "g.fig.autofmt_xdate()"
   ]
  },
  {
   "cell_type": "code",
   "execution_count": 126,
   "id": "8c393a30",
   "metadata": {},
   "outputs": [
    {
     "data": {
      "image/png": "[encoded data removed]",
      "text/plain": [
       "<Figure size 360x360 with 1 Axes>"
      ]
     },
     "metadata": {},
     "output_type": "display_data"
    }
   ],
   "source": [
    "g=sns.catplot(x=\"지역구\", y=\"검거율/발생율\",kind='swarm',data=old_pop,color=\"#4E6BA6\");\n",
    "g.fig.autofmt_xdate()"
   ]
  },
  {
   "cell_type": "code",
   "execution_count": 127,
   "id": "335cf77a",
   "metadata": {},
   "outputs": [
    {
     "data": {
      "text/plain": [
       "<AxesSubplot:xlabel='지역구', ylabel='검거율/발생율'>"
      ]
     },
     "execution_count": 127,
     "metadata": {},
     "output_type": "execute_result"
    },
    {
     "data": {
      "image/png": "[encoded data removed]",
      "text/plain": [
       "<Figure size 432x288 with 1 Axes>"
      ]
     },
     "metadata": {},
     "output_type": "display_data"
    }
   ],
   "source": [
    "sns.barplot(data=old_pop,\n",
    "  x=\"지역구\",\n",
    "  y=\"검거율/발생율\",\n",
    "  estimator=np.median)"
   ]
  },
  {
   "cell_type": "code",
   "execution_count": 128,
   "id": "40454ef2",
   "metadata": {},
   "outputs": [
    {
     "name": "stderr",
     "output_type": "stream",
     "text": [
      "C:\\Users\\ui\\anaconda3\\lib\\site-packages\\seaborn\\categorical.py:3747: UserWarning:\n",
      "\n",
      "The `size` parameter has been renamed to `height`; please update your code.\n",
      "\n"
     ]
    },
    {
     "data": {
      "image/png": "[encoded data removed]",
      "text/plain": [
       "<Figure size 720x720 with 1 Axes>"
      ]
     },
     "metadata": {},
     "output_type": "display_data"
    },
    {
     "data": {
      "text/plain": [
       "<Figure size 7200x7200 with 0 Axes>"
      ]
     },
     "metadata": {},
     "output_type": "display_data"
    }
   ],
   "source": [
    "g=sns.catplot(x=\"지역구\", y=\"검거율/발생율\",kind='bar',size=10,data=old_pop,color=\"#4E6BA6\");\n",
    "plt.figure(figsize = (100,100))\n",
    "g.fig.autofmt_xdate()"
   ]
  },
  {
   "cell_type": "code",
   "execution_count": 129,
   "id": "d9131e6c",
   "metadata": {},
   "outputs": [
    {
     "name": "stderr",
     "output_type": "stream",
     "text": [
      "C:\\Users\\ui\\anaconda3\\lib\\site-packages\\seaborn\\_decorators.py:36: FutureWarning:\n",
      "\n",
      "Pass the following variable as a keyword arg: y. From version 0.12, the only valid positional argument will be `data`, and passing other arguments without an explicit keyword will result in an error or misinterpretation.\n",
      "\n",
      "C:\\Users\\ui\\anaconda3\\lib\\site-packages\\seaborn\\distributions.py:2065: FutureWarning:\n",
      "\n",
      "Using `vertical=True` to control the orientation of the plot  is deprecated. Instead, assign the data directly to `y`. \n",
      "\n"
     ]
    },
    {
     "data": {
      "image/png": "[encoded data removed]",
      "text/plain": [
       "<Figure size 432x288 with 1 Axes>"
      ]
     },
     "metadata": {},
     "output_type": "display_data"
    }
   ],
   "source": [
    "sns.kdeplot(old_pop[\"발생합계\"],old_pop[\"검거율/발생율\"],shade=True,color=\"#4E6BA6\")\n",
    "sns.rugplot(old_pop[\"발생합계\"], color=\"b\")\n",
    "sns.rugplot(old_pop[\"검거율/발생율\"], color=\"r\", vertical=True);"
   ]
  },
  {
   "cell_type": "code",
   "execution_count": 130,
   "id": "32c3dcfa",
   "metadata": {},
   "outputs": [
    {
     "name": "stderr",
     "output_type": "stream",
     "text": [
      "C:\\Users\\ui\\anaconda3\\lib\\site-packages\\seaborn\\_decorators.py:36: FutureWarning:\n",
      "\n",
      "Pass the following variable as a keyword arg: y. From version 0.12, the only valid positional argument will be `data`, and passing other arguments without an explicit keyword will result in an error or misinterpretation.\n",
      "\n",
      "C:\\Users\\ui\\anaconda3\\lib\\site-packages\\seaborn\\distributions.py:2065: FutureWarning:\n",
      "\n",
      "Using `vertical=True` to control the orientation of the plot  is deprecated. Instead, assign the data directly to `y`. \n",
      "\n"
     ]
    },
    {
     "data": {
      "image/png": "[encoded data removed]",
      "text/plain": [
       "<Figure size 432x288 with 1 Axes>"
      ]
     },
     "metadata": {},
     "output_type": "display_data"
    }
   ],
   "source": [
    "sns.kdeplot(old_pop[\"발생합계\"],old_pop[\"검거합계\"],shade=True,color=\"#4E6BA6\")\n",
    "sns.rugplot(old_pop[\"발생합계\"], color=\"b\")\n",
    "sns.rugplot(old_pop[\"검거합계\"], color=\"r\", vertical=True);"
   ]
  },
  {
   "cell_type": "code",
   "execution_count": 136,
   "id": "e9e6f533",
   "metadata": {
    "scrolled": true
   },
   "outputs": [
    {
     "data": {
      "image/png": "[encoded data removed]",
      "text/plain": [
       "<Figure size 432x432 with 3 Axes>"
      ]
     },
     "metadata": {},
     "output_type": "display_data"
    }
   ],
   "source": [
    "\n",
    "p=sns.jointplot(x=old_pop[\"경찰관수\"],y=old_pop[\"검거합계\"],kind=\"reg\")\n",
    "p.fig.suptitle('<서울시 경찰관수대비 5대범죄 검거건수>',fontweight=\"bold\",fontsize=15, y=1.03)\n",
    "p.ax_joint.collections[0].set_alpha(0)\n",
    "p.fig.tight_layout()\n",
    "p.fig.subplots_adjust(top=0.95)"
   ]
  },
  {
   "cell_type": "code",
   "execution_count": 137,
   "id": "e37b6a9b",
   "metadata": {},
   "outputs": [],
   "source": [
    "\n",
    "old_pop = old_pop.sort_values(by='발생합계' ,ascending=False)"
   ]
  },
  {
   "cell_type": "code",
   "execution_count": 138,
   "id": "4d225335",
   "metadata": {},
   "outputs": [
    {
     "name": "stderr",
     "output_type": "stream",
     "text": [
      "C:\\Users\\ui\\anaconda3\\lib\\site-packages\\seaborn\\categorical.py:3747: UserWarning:\n",
      "\n",
      "The `size` parameter has been renamed to `height`; please update your code.\n",
      "\n"
     ]
    },
    {
     "data": {
      "image/png": "[encoded data removed]",
      "text/plain": [
       "<Figure size 720x720 with 1 Axes>"
      ]
     },
     "metadata": {},
     "output_type": "display_data"
    }
   ],
   "source": [
    "\n",
    "g=sns.catplot(x=\"지역구\",y=\"발생합계\",\n",
    "            kind=\"bar\",size=10,data=old_pop,color=\"#4E6BA6\");\n",
    "# g.set(title = \"지역구당 연평균 범죄 발생 총수\")\n",
    "plt.title('<서울시 지역구별 5대범죄발생건수>',fontsize=20,pad=30,fontweight=\"bold\")\n",
    "g.fig.autofmt_xdate()"
   ]
  },
  {
   "cell_type": "code",
   "execution_count": 134,
   "id": "1c29d357",
   "metadata": {},
   "outputs": [
    {
     "data": {
      "text/plain": [
       "Text(0.5, 1.0, '<서울시 CCTV개수와 5대범죄발생건수>')"
      ]
     },
     "execution_count": 134,
     "metadata": {},
     "output_type": "execute_result"
    },
    {
     "data": {
      "image/png": "[encoded data removed]",
      "text/plain": [
       "<Figure size 432x288 with 1 Axes>"
      ]
     },
     "metadata": {},
     "output_type": "display_data"
    }
   ],
   "source": [
    "plt.title('<서울시 CCTV개수와 5대범죄발생건수>',fontsize=20,pad=30,fontweight=\"bold\")\n"
   ]
  },
  {
   "cell_type": "code",
   "execution_count": null,
   "id": "3deee31b",
   "metadata": {},
   "outputs": [],
   "source": []
  },
  {
   "cell_type": "code",
   "execution_count": null,
   "id": "8253655b",
   "metadata": {},
   "outputs": [],
   "source": []
  },
  {
   "cell_type": "code",
   "execution_count": null,
   "id": "ea2f8f0f",
   "metadata": {},
   "outputs": [],
   "source": []
  },
  {
   "cell_type": "code",
   "execution_count": null,
   "id": "42a01875",
   "metadata": {},
   "outputs": [],
   "source": []
  }
 ],
 "metadata": {
  "kernelspec": {
   "display_name": "Python 3",
   "language": "python",
   "name": "python3"
  },
  "language_info": {
   "codemirror_mode": {
    "name": "ipython",
    "version": 3
   },
   "file_extension": ".py",
   "mimetype": "text/x-python",
   "name": "python",
   "nbconvert_exporter": "python",
   "pygments_lexer": "ipython3",
   "version": "3.8.8"
  }
 },
 "nbformat": 4,
 "nbformat_minor": 5
}
