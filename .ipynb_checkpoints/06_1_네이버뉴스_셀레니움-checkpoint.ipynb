{
 "cells": [
  {
   "cell_type": "code",
   "execution_count": 1,
   "id": "5a05de12",
   "metadata": {},
   "outputs": [],
   "source": [
    "#동적 생성되는 data 크롤링\n",
    "#Selenium 모듈 사용\n",
    "import requests\n",
    "from bs4 import BeautifulSoup\n",
    "from urllib.request import urlopen\n",
    "import selenium\n",
    "from selenium import webdriver\n"
   ]
  },
  {
   "cell_type": "markdown",
   "id": "c1a41143",
   "metadata": {},
   "source": [
    "### 관련 메서드\n",
    "- get(url) : url에 접근하는 메서드\n",
    "    \n",
    "#### 페이지 단일 element에 접근하는 메서드\n",
    "- find_element_by_name('html_name')\n",
    "- find_element_by_id('html_id')\n",
    "- find_element_by_xpath('패스경로') : 스크립트 실행 경로를 찾아 접근\n",
    "\n",
    "    \n",
    "#### 페이지의 여러 element에 접근하는 메서드\n",
    "- find_element_by_class_selector('html slelctor')\n",
    "- find_element_by_class_name('html_class')\n",
    "- find_element_by_tag_name('htm tag')\n",
    "- 클라스 셀렉터와 클라스 네임의 차이점은?\n",
    "#### Webdriver 객체 생성\n",
    "- driver = webdriver.Chrome(드라이버경로)\n",
    "\n",
    "#### 접근한 페이지 source 추출\n",
    "- html=driver.page_source\n"
   ]
  },
  {
   "cell_type": "code",
   "execution_count": 5,
   "id": "949df525",
   "metadata": {},
   "outputs": [],
   "source": [
    "# 크롬 드라이버를 통한 네이버 접속\n",
    "\n",
    "driver = webdriver.Chrome(\"./driver/chromedriver\")\n",
    "driver.get(\"https://news.naver.com\")\n"
   ]
  },
  {
   "cell_type": "code",
   "execution_count": 6,
   "id": "4861482b",
   "metadata": {},
   "outputs": [],
   "source": [
    "# 전달된 뉴스 url 기사에서 기사제목 기사입력시간을 딕셔너리로 반환하는 함수\n",
    "\n",
    "def get_news_sub_info(url) :\n",
    "    \n",
    "    #1.전달된 url에 접속 후 응답객체 반환\n",
    "    headers ={\"User-Agent\" : \n",
    "          \"Mozilla/5.0(Window NT 10.0;Win64;x64) AppleWebKit/537.36 (KHTML,likeGecko) Chrome/87.0.4280.88 Safari/537.36\"}\n",
    "    result = requests.get(url,headers=headers)\n",
    "    \n",
    "    #2.bs4 객체 생성\n",
    "    bs_obj=BeautifulSoup(result.content,\"html.parser\")\n",
    "    \n",
    "    #3.필요 데이터 추출\n",
    "    # 기사 제목 추출(태그객체)\n",
    "    title =bs_obj.find(id='articleTitle')\n",
    "    # 기사 입력시간 추출(태그객체)\n",
    "    date_time = bs_obj.find(\"span\",{\"class\":\"t11\"})\n",
    "    \n",
    "    #4.수집 데이터 dict로 구성 후 반환\n",
    "    dict_sub ={}\n",
    "    dict_sub[\"기사제목\"] = title.text\n",
    "    dict_sub[\"기사 입력 시간\"]=date_time.text\n",
    "    \n",
    "    return dict_sub\n"
   ]
  },
  {
   "cell_type": "code",
   "execution_count": 7,
   "id": "9e4cc8fe",
   "metadata": {},
   "outputs": [
    {
     "name": "stdout",
     "output_type": "stream",
     "text": [
      "['https://news.naver.com//main/read.naver?mode=LSD&mid=shm&sid1=102&oid=005&aid=0001463131', 'https://news.naver.com//main/read.naver?mode=LSD&mid=shm&sid1=103&oid=018&aid=0005006002', 'https://news.naver.com//main/read.naver?mode=LSD&mid=shm&sid1=101&oid=056&aid=0011097890', 'https://news.naver.com//main/read.naver?mode=LSD&mid=shm&sid1=102&oid=081&aid=0003207564', 'https://news.naver.com//main/read.naver?mode=LSD&mid=shm&sid1=105&oid=421&aid=0005530908']\n"
     ]
    }
   ],
   "source": [
    "url = \"https://news.naver.com\"\n",
    "headers={\"User-Agent\":\n",
    "             \"Mozilla/5.0(Window NT 10.0;Win64;x64) AppleWebKit/537.36 (KHTML,likeGecko) Chrome/87.0.4280.88 Safari/537.36\"}\n",
    "result = requests.get(url,headers=headers)\n",
    "\n",
    "bs_obj = BeautifulSoup(result.content,\"html.parser\")\n",
    "\n",
    "#ul 태그 추출 : class:hdline_article_list\n",
    "news_list = bs_obj.find(\"ul\",{\"class\":\"hdline_article_list\"})\n",
    "#모든 li 추출\n",
    "lis = news_list.findAll(\"li\")\n",
    "\n",
    "#헤드라인뉴스 link 저장 - list\n",
    "link_list=[]\n",
    "for li in lis :\n",
    "    a_tag = li.find(\"a\")\n",
    "    link_list.append(\"https://news.naver.com/\"+a_tag[\"href\"])\n",
    "print(link_list)\n"
   ]
  },
  {
   "cell_type": "code",
   "execution_count": 9,
   "id": "38a7435d",
   "metadata": {},
   "outputs": [
    {
     "name": "stdout",
     "output_type": "stream",
     "text": [
      "{'기사제목': '2학기 전면등교 결국 무산…4단계서도 고3, 초1·2는 매일 등교 가능', '기사 입력 시간': '2021.08.09. 오후 2:31'}\n",
      "{'기사제목': '에디슨모터스, 키스톤PE·KCGI와 맞손 …\"쌍용차, 5년내 흑자 전환\"', '기사 입력 시간': '2021.08.09. 오전 11:39'}\n",
      "{'기사제목': '카뱅 마이너스통장 금리 3.62%…시중은행 대비 높은 수준', '기사 입력 시간': '2021.08.09. 오후 1:58'}\n",
      "{'기사제목': '오늘부터 40대 이하 백신 예약… 생일 날짜 맞춰 직접 접속해야', '기사 입력 시간': '2021.08.09. 오전 5:06'}\n",
      "{'기사제목': '\"12일 밤, 별이 비처럼 내린다\"', '기사 입력 시간': '2021.08.09. 오후 12:00'}\n"
     ]
    }
   ],
   "source": [
    "for number in range(len(link_list)) :\n",
    "    res = get_news_sub_info(link_list[number])\n",
    "    print(res)\n"
   ]
  },
  {
   "cell_type": "code",
   "execution_count": 32,
   "id": "d38f83c2",
   "metadata": {},
   "outputs": [
    {
     "data": {
      "text/plain": [
       "['']"
      ]
     },
     "execution_count": 32,
     "metadata": {},
     "output_type": "execute_result"
    }
   ],
   "source": [
    "#------------------------------------------------좋아요수와 댓글수 추가 코딩-------------------------------------------------------\n",
    "# 크롬 드라이버를 통한 네이버 접속\n",
    "\n",
    "driver = webdriver.Chrome(\"./driver/chromedriver\")\n",
    "driver.get(\"https://news.naver.com//main/read.naver?mode=LSD&mid=shm&sid1=102&oid=001&aid=0012587876\")\n",
    "\n",
    "driver.page_source # 전체 페이지 소스 로딩\n",
    "\n",
    "\n",
    "#좋아요 수\n",
    "like_list = driver.find_elements_by_css_selector(\"span.u_likeit_text._count.num\")\n",
    "like_num = [like.text for like in like_list ]\n",
    "like_num\n",
    "\n",
    "#댓글수\n",
    "rep_list = driver.find_elements_by_css_selector(\"span.lo_txt\")\n",
    "rep_num = [rep.text for rep in rep_list ]\n",
    "rep_num    \n",
    "    \n",
    "    \n",
    "    \n"
   ]
  },
  {
   "cell_type": "code",
   "execution_count": 28,
   "id": "a808ace8",
   "metadata": {},
   "outputs": [
    {
     "data": {
      "text/plain": [
       "['923']"
      ]
     },
     "execution_count": 28,
     "metadata": {},
     "output_type": "execute_result"
    }
   ],
   "source": [
    "like_list = driver.find_elements_by_css_selector(\"span.u_likeit_text._count.num\")\n",
    "like_num = [like.text for like in like_list ]\n",
    "like_num\n"
   ]
  },
  {
   "cell_type": "code",
   "execution_count": 29,
   "id": "7a10bb98",
   "metadata": {},
   "outputs": [
    {
     "data": {
      "text/plain": [
       "['542']"
      ]
     },
     "execution_count": 29,
     "metadata": {},
     "output_type": "execute_result"
    }
   ],
   "source": [
    "rep_list = driver.find_elements_by_css_selector(\"span.lo_txt\")\n",
    "rep_num = [rep.text for rep in rep_list ]\n",
    "rep_num  "
   ]
  },
  {
   "cell_type": "code",
   "execution_count": null,
   "id": "9946f1c1",
   "metadata": {},
   "outputs": [],
   "source": []
  },
  {
   "cell_type": "code",
   "execution_count": 36,
   "id": "b414aa94",
   "metadata": {},
   "outputs": [
    {
     "name": "stdout",
     "output_type": "stream",
     "text": [
      "['https://news.naver.com//main/read.naver?mode=LSD&mid=shm&sid1=102&oid=032&aid=0003090634', 'https://news.naver.com//main/read.naver?mode=LSD&mid=shm&sid1=102&oid=025&aid=0003125324', 'https://news.naver.com//main/read.naver?mode=LSD&mid=shm&sid1=102&oid=056&aid=0011097895', 'https://news.naver.com//main/read.naver?mode=LSD&mid=shm&sid1=102&oid=055&aid=0000913409', 'https://news.naver.com//main/read.naver?mode=LSD&mid=shm&sid1=102&oid=056&aid=0011097835']\n",
      "{'기사제목': '“왜 이래” 광주 법정 선 전두환이 남긴 말들···오늘은 다를까?', '기사 입력 시간': '2021.08.09. 오전 9:32', '좋아요 수': ['124'], '댓글 수': ['']}\n",
      "{'기사제목': \"거리두기 4단계에도 학교간다…3단계부터 전학년 '전면등교'\", '기사 입력 시간': '2021.08.09. 오후 2:32', '좋아요 수': ['251'], '댓글 수': ['138']}\n",
      "{'기사제목': '16일 이후 접종자 mRNA 백신 접종 간격 4주→6주로 연장…“모더나 공급 불안정 탓”', '기사 입력 시간': '2021.08.09. 오후 2:15', '좋아요 수': ['611'], '댓글 수': ['240']}\n",
      "{'기사제목': '이재용 가석방 심사위 개최…박범계 \"결과 즉시 공개\"', '기사 입력 시간': '2021.08.09. 오후 12:21', '좋아요 수': ['14'], '댓글 수': ['23']}\n",
      "{'기사제목': '생후 2주 아기 학대해 숨지게 한 20대 부부 ‘중형’', '기사 입력 시간': '2021.08.09. 오전 11:40', '좋아요 수': ['4'], '댓글 수': ['1']}\n"
     ]
    }
   ],
   "source": [
    "#######################수정후 코드 재확인필요\n",
    "\n",
    "\n",
    "def get_news_sub_info(url) :\n",
    "    \n",
    "    #1.전달된 url에 접속 후 응답객체 반환\n",
    "    headers ={\"User-Agent\" : \n",
    "          \"Mozilla/5.0(Window NT 10.0;Win64;x64) AppleWebKit/537.36 (KHTML,likeGecko) Chrome/87.0.4280.88 Safari/537.36\"}\n",
    "    result = requests.get(url,headers=headers)\n",
    "    \n",
    "    #2.bs4 객체 생성\n",
    "    bs_obj=BeautifulSoup(result.content,\"html.parser\")\n",
    "    \n",
    "    #3.필요 데이터 추출\n",
    "    # 기사 제목 추출(태그객체)\n",
    "    title =bs_obj.find(id='articleTitle')\n",
    "    # 기사 입력시간 추출(태그객체)\n",
    "    date_time = bs_obj.find(\"span\",{\"class\":\"t11\"})\n",
    "    \n",
    "    \n",
    "    #4. webdriver 이용해서 좋아요 수를 반환: 기사 좋아요수 (매번 바뀌는 동적입력이니-셀레니움을 사용해야된다.~!!)& 댓글숫자가져오기\n",
    "#     driver = webdriver.Chrome(\"./driver/chromedriver\")  #제거된부분\n",
    "#     driver.get(\"https://news.naver.com//main/read.naver?mode=LSD&mid=shm&sid1=102&oid=001&aid=0012587876\")\n",
    "    time.sleep(2)\n",
    "    driver.get(url)\n",
    "    driver.page_source # 추가된부분..\n",
    "    \n",
    "    like_list = driver.find_elements_by_css_selector(\"span.u_likeit_text._count.num\")\n",
    "    like_num = [like.text for like in like_list ]\n",
    "     \n",
    "    # 4-1  댓글수 \n",
    "    rep_list = driver.find_elements_by_css_selector(\"span.lo_txt\")\n",
    "    rep_num = [rep.text for rep in rep_list ]\n",
    "    rep_num\n",
    "\n",
    "    \n",
    "    #5.수집 데이터 dict로 구성 후 반환\n",
    "    dict_sub ={}\n",
    "    dict_sub[\"기사제목\"] = title.text\n",
    "    dict_sub[\"기사 입력 시간\"]=date_time.text\n",
    "    dict_sub[\"좋아요 수\"]=like_num\n",
    "    dict_sub[\"댓글 수\"]=rep_num   \n",
    "    return dict_sub\n",
    "\n",
    "\n",
    "url = \"https://news.naver.com\"\n",
    "headers={\"User-Agent\":\n",
    "             \"Mozilla/5.0(Window NT 10.0;Win64;x64) AppleWebKit/537.36 (KHTML,likeGecko) Chrome/87.0.4280.88 Safari/537.36\"}\n",
    "result = requests.get(url,headers=headers)\n",
    "\n",
    "bs_obj = BeautifulSoup(result.content,\"html.parser\")\n",
    "\n",
    "#ul 태그 추출 : class:hdline_article_list\n",
    "news_list = bs_obj.find(\"ul\",{\"class\":\"hdline_article_list\"})\n",
    "#모든 li 추출\n",
    "lis = news_list.findAll(\"li\")\n",
    "\n",
    "#헤드라인뉴스 link 저장 - list\n",
    "link_list=[]\n",
    "for li in lis :\n",
    "    a_tag = li.find(\"a\")\n",
    "    link_list.append(\"https://news.naver.com/\"+a_tag[\"href\"])\n",
    "print(link_list)\n",
    "\n",
    "driver = webdriver.Chrome(\"./driver/chromedriver\")\n",
    "import time\n",
    "\n",
    "for number in range(len(link_list)) :\n",
    "    res = get_news_sub_info(link_list[number])\n",
    "    print(res)\n",
    "    time.sleep(2)"
   ]
  },
  {
   "cell_type": "code",
   "execution_count": null,
   "id": "1ba799d0",
   "metadata": {},
   "outputs": [],
   "source": []
  }
 ],
 "metadata": {
  "kernelspec": {
   "display_name": "Python 3",
   "language": "python",
   "name": "python3"
  },
  "language_info": {
   "codemirror_mode": {
    "name": "ipython",
    "version": 3
   },
   "file_extension": ".py",
   "mimetype": "text/x-python",
   "name": "python",
   "nbconvert_exporter": "python",
   "pygments_lexer": "ipython3",
   "version": "3.8.8"
  }
 },
 "nbformat": 4,
 "nbformat_minor": 5
}
